{
 "cells": [
  {
   "cell_type": "markdown",
   "metadata": {},
   "source": [
    "Imports"
   ]
  },
  {
   "cell_type": "code",
   "execution_count": null,
   "metadata": {},
   "outputs": [],
   "source": [
    "import multiprocessing as mp\n",
    "import random\n",
    "from models import Order, SimulationEnvironment"
   ]
  },
  {
   "cell_type": "markdown",
   "metadata": {},
   "source": [
    "Classes #TODO: outsource to py file and import into this one"
   ]
  },
  {
   "cell_type": "code",
   "execution_count": 3,
   "metadata": {},
   "outputs": [],
   "source": [
    "class Agent(): # agent base class, setup for multiprocessing\n",
    "    def __init__(self, result_size : int):\n",
    "        # write results of each agent to this variable\n",
    "        self.RESULT = mp.Array('f', result_size, True) #Note: f - indicates use of float values, True = Lock Object for synchronization is created\n",
    "        \n",
    "    def configure(self):\n",
    "        pass\n",
    "\n",
    "    def write_result(self, result):\n",
    "        with self.RESULT.get_lock():\n",
    "            self.RESULT = result\n",
    "\n",
    "    def run():\n",
    "        pass\n",
    "\n",
    "class GreedyAgent(Agent):\n",
    "\n",
    "    def confiugure(self, environment : SimulationEnvironment):\n",
    "        self.environment = environment\n",
    "\n",
    "    def pick_random(self, task, tasks):\n",
    "        task = self.environment.get_task(task)\n",
    "        if len(task.follow_up_tasks) > 0:\n",
    "            follow_up_id = random.choice(task.follow_up_tasks)\n",
    "            follow_up = self.environment.get_task(follow_up_id)\n",
    "            tasks.append(follow_up)\n",
    "            self.pick_random(follow_up.id, tasks)\n",
    "        \n",
    "    def pick_random_path(self, recipe):\n",
    "        tasks = []\n",
    "        task = random.choice(recipe.tasks)\n",
    "        tasks.append(task)\n",
    "        self.pick_random(task.id, tasks)\n",
    "        return tasks \n",
    "    \n",
    "    def assignments_for(self, id):\n",
    "        assignments = []\n",
    "        for i in range(0, len(self.RESULT), 4):\n",
    "            if self.RESULT[i] == id:\n",
    "                assignments.push_back(self.RESULT[i], self.RESULT[i+1], self.RESULT[i+2], self.RESULT[i+3])\n",
    "        return assignments\n",
    "\n",
    "    def is_blocked(self, workstation_id, start_time, duration):\n",
    "        assignments = self.assignments_for(workstation_id)\n",
    "        if assignments:\n",
    "            for assignment in assignments:\n",
    "                assignment_start_time = assignment[1]\n",
    "                assignment_duration = self.environment.get_duration(assignment[0], workstation_id)\n",
    "                if start_time > assignment_start_time and start_time < assignment_start_time + assignment_duration:\n",
    "                    return True\n",
    "                if start_time + duration > assignment_start_time and start_time + duration < assignment_start_time + assignment_duration:\n",
    "                    return True\n",
    "                # if new task is longer than already scheduled task, it could start before and end after -> overlap\n",
    "                if assignment_start_time > start_time and assignment_start_time < start_time + duration:\n",
    "                    return True\n",
    "                if assignment_start_time + assignment_duration > start_time and assignment_start_time + assignment_duration < start_time + duration:\n",
    "                    return True\n",
    "        return False\n",
    "\n",
    "    def run(self, order : Order):\n",
    "        recipes = []\n",
    "        for resource in order.resources:\n",
    "            recipes.append((order.id, resource.recipes))\n",
    "        tasks = []\n",
    "        for recipe in recipes:\n",
    "            path = recipe[1][0].tasks#self.pick_random_path(recipe[1][0]) # ignore possibility of multiple recipes for now\n",
    "            path.reverse()\n",
    "            tasks.append(path) # add in reverse order for each recipe\n",
    "        success_count = 0\n",
    "        for i in range(len(tasks)):\n",
    "            prev_duration = 0\n",
    "            for j in range(len(tasks[i])):\n",
    "                task = tasks[i][j]\n",
    "                workstations = self.environment.get_valid_workstations(task.external_id)\n",
    "                chosen_workstation = None\n",
    "                for workstation in workstations:\n",
    "                    duration = self.environment.get_duration(task.external_id, workstation.external_id)\n",
    "                    start_slot = order.delivery_time - prev_duration - duration\n",
    "                    if not self.is_blocked(workstation.external_id, start_slot, duration):\n",
    "                        chosen_workstation = workstation\n",
    "                        break            \n",
    "                if chosen_workstation:    \n",
    "                    prev_duration += duration\n",
    "                    self.RESULT.push_back(chosen_workstation)\n",
    "                    self.RESULT.push_back(start_slot)\n",
    "                    self.RESULT.push_back(task.external_id)\n",
    "                    self.RESULT.push_back(order.external_id)\n",
    "                    success_count += 1\n",
    "                else:\n",
    "                    if not order.divisible: # if order can not only be partially fullfilled too\n",
    "                        return False\n",
    "                    else:\n",
    "                        break\n",
    "        return success_count > 0"
   ]
  },
  {
   "cell_type": "markdown",
   "metadata": {},
   "source": [
    "Helper Functions"
   ]
  },
  {
   "cell_type": "code",
   "execution_count": null,
   "metadata": {},
   "outputs": [],
   "source": [
    "def create_agent(type): # TODO: add problem information\n",
    "    pass"
   ]
  },
  {
   "cell_type": "markdown",
   "metadata": {},
   "source": [
    "Setups"
   ]
  },
  {
   "cell_type": "code",
   "execution_count": null,
   "metadata": {},
   "outputs": [],
   "source": [
    "agents = []\n",
    "# for homogenous systems\n",
    "n = 10\n",
    "types = []\n",
    "for i in range(n):\n",
    "    types.append(0)\n",
    "\n",
    "# for heterogenous systems\n",
    "types = [0, 1, 1, 2, 0, 3, 3, 4, 1, 0] # example\n",
    "\n",
    "\n",
    "for type in types:\n",
    "    agents.append(create_agent(type)) # add n agents"
   ]
  },
  {
   "cell_type": "markdown",
   "metadata": {},
   "source": [
    "Run"
   ]
  },
  {
   "cell_type": "code",
   "execution_count": null,
   "metadata": {},
   "outputs": [],
   "source": [
    "results = []\n",
    "processes = []\n",
    "for agent in agents:\n",
    "    process = mp.Process(target=agent.run(), args=())\n",
    "    process.start()\n",
    "    processes.append(process)\n",
    "    \n",
    "for i in range(len(processes)):\n",
    "    processes[i].join()\n",
    "    results.append(agents[i].RESULT)\n"
   ]
  }
 ],
 "metadata": {
  "kernelspec": {
   "display_name": "Python 3.9.13 64-bit (windows store)",
   "language": "python",
   "name": "python3"
  },
  "language_info": {
   "codemirror_mode": {
    "name": "ipython",
    "version": 3
   },
   "file_extension": ".py",
   "mimetype": "text/x-python",
   "name": "python",
   "nbconvert_exporter": "python",
   "pygments_lexer": "ipython3",
   "version": "3.9.13"
  },
  "orig_nbformat": 4,
  "vscode": {
   "interpreter": {
    "hash": "462e7448f083626ea37b7306171372e26a088fcd344dea0651d8925b8464838f"
   }
  }
 },
 "nbformat": 4,
 "nbformat_minor": 2
}
