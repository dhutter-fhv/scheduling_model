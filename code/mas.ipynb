{
 "cells": [
  {
   "cell_type": "markdown",
   "metadata": {},
   "source": [
    "Imports"
   ]
  },
  {
   "cell_type": "code",
   "execution_count": null,
   "metadata": {},
   "outputs": [],
   "source": [
    "import multiprocessing as mp"
   ]
  },
  {
   "cell_type": "markdown",
   "metadata": {},
   "source": [
    "Classes #TODO: outsource to py file and import into this one"
   ]
  },
  {
   "cell_type": "code",
   "execution_count": 3,
   "metadata": {},
   "outputs": [],
   "source": [
    "class Agent(): # agent base class, setup for multiprocessing\n",
    "    def __init__(self, result_size : int):\n",
    "        # write results of each agent to this variable\n",
    "        self.RESULT = mp.Array('f', result_size, True) #Note: f - indicates use of float values, True = Lock Object for synchronization is created\n",
    "        \n",
    "    def write_result(self, result):\n",
    "        with self.RESULT.get_lock():\n",
    "            self.RESULT = result"
   ]
  },
  {
   "cell_type": "markdown",
   "metadata": {},
   "source": [
    "Helper Functions"
   ]
  },
  {
   "cell_type": "code",
   "execution_count": null,
   "metadata": {},
   "outputs": [],
   "source": [
    "def create_agent(type): # TODO: add problem information\n",
    "    pass"
   ]
  },
  {
   "cell_type": "markdown",
   "metadata": {},
   "source": [
    "Setups"
   ]
  },
  {
   "cell_type": "code",
   "execution_count": null,
   "metadata": {},
   "outputs": [],
   "source": [
    "agents = []\n",
    "# for homogenous systems\n",
    "n = 10\n",
    "types = []\n",
    "for i in range(n):\n",
    "    types.append(0)\n",
    "\n",
    "# for heterogenous systems\n",
    "types = [0, 1, 1, 2, 0, 3, 3, 4, 1, 0] # example\n",
    "\n",
    "\n",
    "for type in types:\n",
    "    agents.append(create_agent(type)) # add n agents"
   ]
  },
  {
   "cell_type": "code",
   "execution_count": null,
   "metadata": {},
   "outputs": [],
   "source": [
    "results = []\n",
    "processes = []\n",
    "for agent in agents:\n",
    "    process = mp.Process(target=agent.run(), args=())\n",
    "    process.start()\n",
    "    processes.append(process)\n",
    "    \n",
    "for i in range(len(processes)):\n",
    "    processes[i].join()\n",
    "    results.append(agents[i].RESULT)\n"
   ]
  }
 ],
 "metadata": {
  "kernelspec": {
   "display_name": "Python 3.9.13 64-bit (windows store)",
   "language": "python",
   "name": "python3"
  },
  "language_info": {
   "codemirror_mode": {
    "name": "ipython",
    "version": 3
   },
   "file_extension": ".py",
   "mimetype": "text/x-python",
   "name": "python",
   "nbconvert_exporter": "python",
   "pygments_lexer": "ipython3",
   "version": "3.9.13"
  },
  "orig_nbformat": 4,
  "vscode": {
   "interpreter": {
    "hash": "462e7448f083626ea37b7306171372e26a088fcd344dea0651d8925b8464838f"
   }
  }
 },
 "nbformat": 4,
 "nbformat_minor": 2
}
