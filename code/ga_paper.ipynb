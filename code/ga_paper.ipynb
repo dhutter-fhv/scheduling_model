{
 "cells": [
  {
   "cell_type": "markdown",
   "metadata": {},
   "source": [
    "Imports"
   ]
  },
  {
   "cell_type": "code",
   "execution_count": 1,
   "metadata": {},
   "outputs": [],
   "source": [
    "import pygad\n",
    "import random\n",
    "from read_data import read_dataset_1, translate_1\n",
    "from models import SimulationEnvironment"
   ]
  },
  {
   "cell_type": "markdown",
   "metadata": {},
   "source": [
    "Parameters"
   ]
  },
  {
   "cell_type": "code",
   "execution_count": 2,
   "metadata": {},
   "outputs": [],
   "source": [
    "order_amount = 5\n",
    "earliest_time_slot = 0\n",
    "last_time_slot = 5000 # shouldn't actually be necessary for this"
   ]
  },
  {
   "cell_type": "markdown",
   "metadata": {},
   "source": [
    "Input"
   ]
  },
  {
   "cell_type": "code",
   "execution_count": 3,
   "metadata": {},
   "outputs": [],
   "source": [
    "input, orders, instance = read_dataset_1(use_instance=13, order_amount=order_amount, earliest_time=earliest_time_slot, last_time=last_time_slot)\n",
    "recipes, workstations, resources, tasks, orders_model = translate_1(instance, orders, earliest_time_slot, last_time_slot)\n",
    "env = SimulationEnvironment(workstations, tasks, resources, recipes)"
   ]
  },
  {
   "cell_type": "markdown",
   "metadata": {},
   "source": [
    "Setup"
   ]
  },
  {
   "cell_type": "code",
   "execution_count": 4,
   "metadata": {},
   "outputs": [],
   "source": [
    "assignments = []\n",
    "start_times = []\n",
    "\n",
    "duration_lookup_table = dict()\n",
    "for task in tasks:\n",
    "    for workstation in env.get_valid_workstations(task.id):\n",
    "        if not task in duration_lookup_table:\n",
    "            duration_lookup_table[task.id] = dict()\n",
    "        duration_lookup_table[task.id][workstation.id] = env.get_duration(task.id, workstation.id)\n",
    "\n",
    "operations = []\n",
    "order_for_index = []\n",
    "for order in orders_model:\n",
    "    for resource in order.resources:\n",
    "        recipe = resource.recipes[0] # just use recipe 0 for now\n",
    "        recipe_tasks = env.get_all_tasks_for_recipe(recipe.id)\n",
    "        results = dict()\n",
    "        for task in recipe_tasks:\n",
    "            if task.result_resources[0][0] not in results:\n",
    "                results[task.result_resources[0][0]] = []\n",
    "            results[task.result_resources[0][0]].append(task)\n",
    "        for key in results:\n",
    "            operations.append(random.choice(results[key]).id)\n",
    "            order_for_index.append(order.id)\n",
    "\n",
    "for operation in operations:\n",
    "    workstation = env.get_valid_workstations(operation)\n",
    "    # random init\n",
    "    assignments.append(random.choice(workstation).id)\n",
    "    assignments.append(0) # start time slot"
   ]
  },
  {
   "cell_type": "markdown",
   "metadata": {},
   "source": [
    "Helper Functions"
   ]
  },
  {
   "cell_type": "code",
   "execution_count": null,
   "metadata": {},
   "outputs": [],
   "source": [
    "def calculate_start_time(individual):\n",
    "    i = 0\n",
    "    operation_index = 0\n",
    "    for gene in individual:\n",
    "        if i == 1:\n",
    "            on_workstation = [] # find all assignments to the same workstation\n",
    "            prev_operations = [] # find all operations belonging to the same order, which need to be scheduled before the current operation\n",
    "            # calculate start time, aka choose max(last end time on workstation, last end time of previous sequenced operation for task)\n",
    "            pass\n",
    "        i += 1\n",
    "        if i > 1:\n",
    "            i = 0\n",
    "            operation_index += 1\n",
    "    return individual"
   ]
  },
  {
   "cell_type": "markdown",
   "metadata": {},
   "source": [
    "GA Functions"
   ]
  },
  {
   "cell_type": "code",
   "execution_count": null,
   "metadata": {},
   "outputs": [],
   "source": [
    "def mutation_function(offspring, ga_instance):\n",
    "    i = 0\n",
    "    operation_index = 0\n",
    "    p = ga_instance.mutation_percent_genes\n",
    "    for gene in offspring:\n",
    "        if i == 0:\n",
    "            if random.random() < p:\n",
    "                # mutate\n",
    "                # according to paper, calc workload of each elligible workstation, switch to lowest workload\n",
    "                pass\n",
    "        i+=1\n",
    "        if i > 1:\n",
    "            i = 0\n",
    "            operation_index += 1\n",
    "    # re-calculate start times\n",
    "    calculate_start_time(offspring)\n",
    "    return offspring\n",
    "\n",
    "# make sure crossover is performed at workstation assignments\n",
    "def crossover_function(parents, offspring_size, ga_instance):\n",
    "    split_point = random.randint(0, offspring_size)\n",
    "    if split_point % 2 == 1:\n",
    "        split_point -= 1\n",
    "    parent1 = parents[0].copy()\n",
    "    parent2 = parents[1].copy()\n",
    "    offspring = []\n",
    "    for i in range(offspring_size):\n",
    "        if i < split_point:\n",
    "            offspring.append(parent1[i])\n",
    "        else:\n",
    "            offspring.append(parent2[i])\n",
    "    return offspring\n",
    "\n",
    "def fitness_function(solution, solution_idx):\n",
    "    fitness = 1\n",
    "    i = 0\n",
    "    operation_index = 0\n",
    "    max = -float('inf')\n",
    "    min = float('inf')\n",
    "    for idx in range(len(solution)):\n",
    "        if i == 1:\n",
    "            start = solution[idx]\n",
    "            end = start + duration_lookup_table[operations[idx]][solution[idx-1]] # double check operations\n",
    "            if start < min:\n",
    "                min = start\n",
    "            if end > max:\n",
    "                max = end\n",
    "        i += 1\n",
    "        if i > 1:\n",
    "            i = 0\n",
    "            operation_index += 1\n",
    "    fitness = abs(max - min)\n",
    "    return -fitness\n"
   ]
  },
  {
   "cell_type": "markdown",
   "metadata": {},
   "source": [
    "Run"
   ]
  },
  {
   "cell_type": "code",
   "execution_count": null,
   "metadata": {},
   "outputs": [],
   "source": [
    "num_genes = len(assignments)\n",
    "num_generations = 5000\n",
    "num_parents_mating = 50\n",
    "sol_per_pop = 100\n",
    "init_range_low = 0\n",
    "init_range_high = last_time_slot\n",
    "parent_selection_type = 'rws'\n",
    "keep_parents = 10\n",
    "crossover_type = crossover_function\n",
    "mutation_type = mutation_function\n",
    "mutation_percentage_genes = 0.1\n",
    "fitness_func = fitness_function\n",
    "gene_type = int\n",
    "space_workstations = {'low': 1, 'high': len(workstations)-1}\n",
    "space_time = {'low': 0, 'high': last_time_slot}\n",
    "gene_space = []\n",
    "i = 0\n",
    "for _ in range(len(assignments)):\n",
    "    if i == 0:\n",
    "        gene_space.append(space_workstations)\n",
    "    else:\n",
    "        gene_space.append(space_time) # shouldn't be needed because of manual mutation and crossover\n",
    "    i += 1\n",
    "    if i > 1:\n",
    "        i = 0\n",
    "ga_instance = pygad.GA(num_generations=num_generations, num_parents_mating=num_parents_mating, fitness_func=fitness_func, sol_per_pop=sol_per_pop, num_genes=num_genes, init_range_low=init_range_low, init_range_high=init_range_high, parent_selection_type=parent_selection_type, keep_parents=keep_parents, crossover_type=crossover_type, mutation_type=mutation_type, mutation_percent_genes=mutation_percentage_genes, gene_type=gene_type, gene_space=gene_space)\n",
    "ga_instance.run()\n",
    "solution, solution_fitness, solution_idx = ga_instance.best_solution()\n",
    "\n",
    "print(\"Parameters of the best solution : {solution}\".format(solution=solution))\n",
    "print(\"Fitness value of the best solution = {solution_fitness}\".format(solution_fitness=abs(solution_fitness) - 1))"
   ]
  }
 ],
 "metadata": {
  "kernelspec": {
   "display_name": "Python 3.9.13 64-bit (microsoft store)",
   "language": "python",
   "name": "python3"
  },
  "language_info": {
   "codemirror_mode": {
    "name": "ipython",
    "version": 3
   },
   "file_extension": ".py",
   "mimetype": "text/x-python",
   "name": "python",
   "nbconvert_exporter": "python",
   "pygments_lexer": "ipython3",
   "version": "3.9.13"
  },
  "orig_nbformat": 4,
  "vscode": {
   "interpreter": {
    "hash": "462e7448f083626ea37b7306171372e26a088fcd344dea0651d8925b8464838f"
   }
  }
 },
 "nbformat": 4,
 "nbformat_minor": 2
}
