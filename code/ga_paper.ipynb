{
 "cells": [
  {
   "cell_type": "markdown",
   "metadata": {},
   "source": [
    "Imports"
   ]
  },
  {
   "cell_type": "code",
   "execution_count": 2,
   "metadata": {},
   "outputs": [],
   "source": [
    "import pygad\n",
    "import random\n",
    "from read_data import read_dataset_1, translate_1, read_dataset_3, translate_3, translate_1_testing\n",
    "from models import SimulationEnvironment\n",
    "from optimizer_components import map_index_to_operation"
   ]
  },
  {
   "cell_type": "markdown",
   "metadata": {},
   "source": [
    "Parameters"
   ]
  },
  {
   "cell_type": "code",
   "execution_count": 3,
   "metadata": {},
   "outputs": [],
   "source": [
    "order_amount = 5\n",
    "earliest_time_slot = 0\n",
    "last_time_slot = 5000 # shouldn't actually be necessary for this"
   ]
  },
  {
   "cell_type": "markdown",
   "metadata": {},
   "source": [
    "Input"
   ]
  },
  {
   "cell_type": "code",
   "execution_count": 4,
   "metadata": {},
   "outputs": [],
   "source": [
    "input, orders, instance = read_dataset_1(use_instance=13, order_amount=order_amount, earliest_time=earliest_time_slot, last_time=last_time_slot)\n",
    "#recipes, workstations, resources, tasks, orders_model = translate_1(instance, orders, earliest_time_slot, last_time_slot)\n",
    "recipes, workstations, resources, tasks, orders_model = translate_1_testing(instance, orders, earliest_time_slot, last_time_slot)\n",
    "#input, orders, instance = read_dataset_3(order_amount, earliest_time_slot, last_time_slot)\n",
    "#recipes, workstations, resources, tasks, orders_model = translate_3(instance, 10, orders)\n",
    "env = SimulationEnvironment(workstations, tasks, resources, recipes)"
   ]
  },
  {
   "cell_type": "markdown",
   "metadata": {},
   "source": [
    "Setup"
   ]
  },
  {
   "cell_type": "code",
   "execution_count": 5,
   "metadata": {},
   "outputs": [],
   "source": [
    "assignments = []\n",
    "start_times = []\n",
    "\n",
    "\"\"\"duration_lookup_table = dict()\n",
    "for task in tasks:\n",
    "    if not task.id in duration_lookup_table:\n",
    "            duration_lookup_table[task.id] = dict()\n",
    "    for workstation in env.get_valid_workstations(task.id):\n",
    "        duration_lookup_table[task.id][workstation.id] = env.get_duration(task.id, workstation.id)\"\"\"\n",
    "duration_lookup_table = dict()\n",
    "for task in tasks:\n",
    "    if not task.external_id in duration_lookup_table:\n",
    "            duration_lookup_table[task.external_id] = dict()\n",
    "    for workstation in env.get_valid_workstations(task.external_id):\n",
    "        duration_lookup_table[task.external_id][workstation.id] = env.get_duration(task.external_id, workstation.id)\n",
    "\n",
    "operations = []\n",
    "order_for_index = []\n",
    "for order in orders_model:\n",
    "    for resource in order.resources:\n",
    "        recipe = resource.recipes[0] # just use recipe 0 for now\n",
    "        recipe_tasks = env.get_all_tasks_for_recipe(recipe.id)\n",
    "        results = dict()\n",
    "        for task in recipe_tasks:\n",
    "            if task.result_resources[0][0] not in results:\n",
    "                results[task.result_resources[0][0]] = []\n",
    "            results[task.result_resources[0][0]].append(task)\n",
    "        for key in results:\n",
    "            #operations.append(random.choice(results[key]).id)\n",
    "            operations.append(random.choice(results[key]).external_id)\n",
    "            order_for_index.append(order.id)\n",
    "\n",
    "for operation in operations:\n",
    "    workstation = env.get_valid_workstations(operation)\n",
    "    # random init\n",
    "    assignments.append(random.choice(workstation).id)\n",
    "    assignments.append(0) # start time slot"
   ]
  },
  {
   "cell_type": "code",
   "execution_count": 6,
   "metadata": {},
   "outputs": [
    {
     "name": "stdout",
     "output_type": "stream",
     "text": [
      "{0: {1: 123, 2: 132}, 1: {4: 140, 7: 123}, 2: {7: 170, 5: 120}, 3: {5: 120, 3: 125}, 4: {3: 87}, 5: {3: 178, 6: 95}, 6: {6: 87}, 7: {6: 190}, 8: {6: 190}, 9: {6: 66}, 10: {6: 250}, 11: {6: 165}, 12: {6: 123}, 13: {6: 86}, 14: {6: 110}, 15: {6: 115}, 16: {6: 150}, 17: {6: 120}, 18: {6: 145}, 19: {6: 124}, 20: {6: 160}}\n"
     ]
    }
   ],
   "source": [
    "print(duration_lookup_table)"
   ]
  },
  {
   "cell_type": "markdown",
   "metadata": {},
   "source": [
    "Helper Functions"
   ]
  },
  {
   "cell_type": "code",
   "execution_count": 7,
   "metadata": {},
   "outputs": [],
   "source": [
    "def get_prev_scheduled_operations(individual, index): # TODO: double check orders\n",
    "    # return assignments + start times as list of tuples\n",
    "    id, target_order = map_index_to_operation(index, orders)\n",
    "    jobs = instance[1]\n",
    "    idx = 0\n",
    "    prev_scheduled = []\n",
    "    for order in orders:\n",
    "        for i in range(len(jobs[order[0]])): # amount of necessary operations for job n\n",
    "            if order[2] == target_order[2]:\n",
    "                prev_scheduled.append((individual[idx], individual[idx+1])) # double check\n",
    "            idx += 2\n",
    "    return prev_scheduled\n",
    "\n",
    "def calculate_start_time(individual):\n",
    "    i = 0\n",
    "    operation_index = 0\n",
    "    for idx in range(len(individual)):\n",
    "    #for gene in individual:\n",
    "        gene = individual[idx]\n",
    "        if i == 0:\n",
    "            on_workstation = 0 # find all assignments to the same workstation\n",
    "            prev_operations = [] # find all operations belonging to the same order, which need to be scheduled before the current operation\n",
    "            # calculate start time, aka choose max(last end time on workstation, last end time of previous sequenced operation for task)\n",
    "            k = 0\n",
    "            for j in range(idx): # introduces dependency on sequence of the orders\n",
    "                if k == 0:\n",
    "                    if individual[j] == gene:\n",
    "                        if individual[j+1] > on_workstation:\n",
    "                            on_workstation = individual[j+1]\n",
    "                k += 1\n",
    "                if k > 1:\n",
    "                    k = 0\n",
    "            prev_operations = get_prev_scheduled_operations(individual, idx)\n",
    "            prev_operation = max(prev_operations, key=lambda tup: tup[1])\n",
    "            individual[idx+1] = max(on_workstation, prev_operation)\n",
    "        i += 1\n",
    "        if i > 1:\n",
    "            i = 0\n",
    "            operation_index += 1\n",
    "    return individual"
   ]
  },
  {
   "cell_type": "markdown",
   "metadata": {},
   "source": [
    "GA Functions"
   ]
  },
  {
   "cell_type": "code",
   "execution_count": 8,
   "metadata": {},
   "outputs": [],
   "source": [
    "def mutation_function(offspring, ga_instance):\n",
    "    i = 0\n",
    "    operation_index = 0\n",
    "    p = 0.1#ga_instance.mutation_percent_genes\n",
    "    idx = 0\n",
    "    for gene in offspring:\n",
    "        if i == 0:\n",
    "            if random.random() < p:\n",
    "                # mutate\n",
    "                # according to paper, calc workload of each elligible workstation, switch to lowest workload\n",
    "                workload = []\n",
    "                valid_workstations = env.get_valid_workstations(operations[idx/2]) # TODO: double check\n",
    "                for j in range(len(valid_workstations)): \n",
    "                    count = 0\n",
    "                    for k in range(0, len(gene), 2):\n",
    "                        if gene[k] == valid_workstations[j].id:\n",
    "                            count += 1\n",
    "                    workload.append((valid_workstations[j], count))\n",
    "                current_count = 0\n",
    "                for t in workload:\n",
    "                    if t[0] == gene:\n",
    "                        current_count = t[1]\n",
    "                        break\n",
    "                # gather all workloads smaller than the current workstations workload\n",
    "                lower_loads = []\n",
    "                smallest_load = t\n",
    "                for t in workload:\n",
    "                    if t[0] != gene and t[1] < current_count:\n",
    "                        lower_loads.append(t)\n",
    "                        if t[1] < smallest_load[1]:\n",
    "                            smallest_load = t\n",
    "                #offspring[idx] = random.choice(lower_loads)[0] # choose random smaller workstation\n",
    "                offspring[idx] = smallest_load[0] # just use smallest workload possible\n",
    "        i+=1\n",
    "        if i > 1:\n",
    "            i = 0\n",
    "            operation_index += 1\n",
    "        idx += 1\n",
    "    # re-calculate start times\n",
    "    calculate_start_time(offspring)\n",
    "    return offspring\n",
    "\n",
    "# make sure crossover is performed at workstation assignments\n",
    "def crossover_function(parents, offspring_size, ga_instance):\n",
    "    split_point = random.randint(0, offspring_size)\n",
    "    if split_point % 2 == 1:\n",
    "        split_point -= 1\n",
    "    parent1 = parents[0].copy()\n",
    "    parent2 = parents[1].copy()\n",
    "    offspring = []\n",
    "    for i in range(offspring_size):\n",
    "        if i < split_point:\n",
    "            offspring.append(parent1[i])\n",
    "        else:\n",
    "            offspring.append(parent2[i])\n",
    "    return offspring\n",
    "\n",
    "def fitness_function(solution, solution_idx):\n",
    "    fitness = 1\n",
    "    i = 0\n",
    "    operation_index = 0\n",
    "    max = -float('inf')\n",
    "    min = float('inf')\n",
    "    for idx in range(len(solution)):\n",
    "        if i == 1:\n",
    "            start = solution[idx]\n",
    "            end = start + duration_lookup_table[operations[idx]][solution[idx-1]] # double check operations\n",
    "            if start < min:\n",
    "                min = start\n",
    "            if end > max:\n",
    "                max = end\n",
    "        i += 1\n",
    "        if i > 1:\n",
    "            i = 0\n",
    "            operation_index += 1\n",
    "    fitness = abs(max - min)\n",
    "    return -fitness\n"
   ]
  },
  {
   "cell_type": "markdown",
   "metadata": {},
   "source": [
    "Run"
   ]
  },
  {
   "cell_type": "code",
   "execution_count": 9,
   "metadata": {},
   "outputs": [
    {
     "name": "stderr",
     "output_type": "stream",
     "text": [
      "C:\\Users\\dhutt\\AppData\\Local\\Packages\\PythonSoftwareFoundation.Python.3.9_qbz5n2kfra8p0\\LocalCache\\local-packages\\Python39\\site-packages\\pygad\\pygad.py:486: UserWarning: The percentage of genes to mutate (mutation_percent_genes=1) resutled in selecting (0) genes. The number of genes to mutate is set to 1 (mutation_num_genes=1).\n",
      "If you do not want to mutate any gene, please set mutation_type=None.\n",
      "  if not self.suppress_warnings: warnings.warn(\"The percentage of genes to mutate (mutation_percent_genes={mutation_percent}) resutled in selecting ({mutation_num}) genes. The number of genes to mutate is set to 1 (mutation_num_genes=1).\\nIf you do not want to mutate any gene, please set mutation_type=None.\".format(mutation_percent=mutation_percent_genes, mutation_num=mutation_num_genes))\n"
     ]
    },
    {
     "ename": "KeyError",
     "evalue": "5",
     "output_type": "error",
     "traceback": [
      "\u001b[1;31m---------------------------------------------------------------------------\u001b[0m",
      "\u001b[1;31mKeyError\u001b[0m                                  Traceback (most recent call last)",
      "\u001b[1;32mc:\\Users\\dhutt\\Desktop\\SCHEDULING_MODEL\\code\\ga_paper.ipynb Cell 15\u001b[0m in \u001b[0;36m<cell line: 27>\u001b[1;34m()\u001b[0m\n\u001b[0;32m     <a href='vscode-notebook-cell:/c%3A/Users/dhutt/Desktop/SCHEDULING_MODEL/code/ga_paper.ipynb#X16sZmlsZQ%3D%3D?line=24'>25</a>\u001b[0m         i \u001b[39m=\u001b[39m \u001b[39m0\u001b[39m\n\u001b[0;32m     <a href='vscode-notebook-cell:/c%3A/Users/dhutt/Desktop/SCHEDULING_MODEL/code/ga_paper.ipynb#X16sZmlsZQ%3D%3D?line=25'>26</a>\u001b[0m ga_instance \u001b[39m=\u001b[39m pygad\u001b[39m.\u001b[39mGA(num_generations\u001b[39m=\u001b[39mnum_generations, num_parents_mating\u001b[39m=\u001b[39mnum_parents_mating, fitness_func\u001b[39m=\u001b[39mfitness_func, sol_per_pop\u001b[39m=\u001b[39msol_per_pop, num_genes\u001b[39m=\u001b[39mnum_genes, init_range_low\u001b[39m=\u001b[39minit_range_low, init_range_high\u001b[39m=\u001b[39minit_range_high, parent_selection_type\u001b[39m=\u001b[39mparent_selection_type, keep_parents\u001b[39m=\u001b[39mkeep_parents, crossover_type\u001b[39m=\u001b[39mcrossover_type, mutation_type\u001b[39m=\u001b[39mmutation_type, mutation_percent_genes\u001b[39m=\u001b[39mmutation_percentage_genes, gene_type\u001b[39m=\u001b[39mgene_type, gene_space\u001b[39m=\u001b[39mgene_space)\n\u001b[1;32m---> <a href='vscode-notebook-cell:/c%3A/Users/dhutt/Desktop/SCHEDULING_MODEL/code/ga_paper.ipynb#X16sZmlsZQ%3D%3D?line=26'>27</a>\u001b[0m ga_instance\u001b[39m.\u001b[39;49mrun()\n\u001b[0;32m     <a href='vscode-notebook-cell:/c%3A/Users/dhutt/Desktop/SCHEDULING_MODEL/code/ga_paper.ipynb#X16sZmlsZQ%3D%3D?line=27'>28</a>\u001b[0m solution, solution_fitness, solution_idx \u001b[39m=\u001b[39m ga_instance\u001b[39m.\u001b[39mbest_solution()\n\u001b[0;32m     <a href='vscode-notebook-cell:/c%3A/Users/dhutt/Desktop/SCHEDULING_MODEL/code/ga_paper.ipynb#X16sZmlsZQ%3D%3D?line=29'>30</a>\u001b[0m \u001b[39mprint\u001b[39m(\u001b[39m\"\u001b[39m\u001b[39mParameters of the best solution : \u001b[39m\u001b[39m{solution}\u001b[39;00m\u001b[39m\"\u001b[39m\u001b[39m.\u001b[39mformat(solution\u001b[39m=\u001b[39msolution))\n",
      "File \u001b[1;32m~\\AppData\\Local\\Packages\\PythonSoftwareFoundation.Python.3.9_qbz5n2kfra8p0\\LocalCache\\local-packages\\Python39\\site-packages\\pygad\\pygad.py:1192\u001b[0m, in \u001b[0;36mGA.run\u001b[1;34m(self)\u001b[0m\n\u001b[0;32m   1189\u001b[0m stop_run \u001b[39m=\u001b[39m \u001b[39mFalse\u001b[39;00m\n\u001b[0;32m   1191\u001b[0m \u001b[39m# Measuring the fitness of each chromosome in the population. Save the fitness in the last_generation_fitness attribute.\u001b[39;00m\n\u001b[1;32m-> 1192\u001b[0m \u001b[39mself\u001b[39m\u001b[39m.\u001b[39mlast_generation_fitness \u001b[39m=\u001b[39m \u001b[39mself\u001b[39;49m\u001b[39m.\u001b[39;49mcal_pop_fitness()\n\u001b[0;32m   1194\u001b[0m best_solution, best_solution_fitness, best_match_idx \u001b[39m=\u001b[39m \u001b[39mself\u001b[39m\u001b[39m.\u001b[39mbest_solution(pop_fitness\u001b[39m=\u001b[39m\u001b[39mself\u001b[39m\u001b[39m.\u001b[39mlast_generation_fitness)\n\u001b[0;32m   1196\u001b[0m \u001b[39m# Appending the best solution in the initial population to the best_solutions list.\u001b[39;00m\n",
      "File \u001b[1;32m~\\AppData\\Local\\Packages\\PythonSoftwareFoundation.Python.3.9_qbz5n2kfra8p0\\LocalCache\\local-packages\\Python39\\site-packages\\pygad\\pygad.py:1159\u001b[0m, in \u001b[0;36mGA.cal_pop_fitness\u001b[1;34m(self)\u001b[0m\n\u001b[0;32m   1157\u001b[0m     fitness \u001b[39m=\u001b[39m \u001b[39mself\u001b[39m\u001b[39m.\u001b[39mprevious_generation_fitness[parent_idx]\n\u001b[0;32m   1158\u001b[0m \u001b[39melse\u001b[39;00m:\n\u001b[1;32m-> 1159\u001b[0m     fitness \u001b[39m=\u001b[39m \u001b[39mself\u001b[39;49m\u001b[39m.\u001b[39;49mfitness_func(sol, sol_idx)\n\u001b[0;32m   1160\u001b[0m     \u001b[39mif\u001b[39;00m \u001b[39mtype\u001b[39m(fitness) \u001b[39min\u001b[39;00m GA\u001b[39m.\u001b[39msupported_int_float_types:\n\u001b[0;32m   1161\u001b[0m         \u001b[39mpass\u001b[39;00m\n",
      "\u001b[1;32mc:\\Users\\dhutt\\Desktop\\SCHEDULING_MODEL\\code\\ga_paper.ipynb Cell 15\u001b[0m in \u001b[0;36mfitness_function\u001b[1;34m(solution, solution_idx)\u001b[0m\n\u001b[0;32m     <a href='vscode-notebook-cell:/c%3A/Users/dhutt/Desktop/SCHEDULING_MODEL/code/ga_paper.ipynb#X16sZmlsZQ%3D%3D?line=64'>65</a>\u001b[0m \u001b[39mif\u001b[39;00m i \u001b[39m==\u001b[39m \u001b[39m1\u001b[39m:\n\u001b[0;32m     <a href='vscode-notebook-cell:/c%3A/Users/dhutt/Desktop/SCHEDULING_MODEL/code/ga_paper.ipynb#X16sZmlsZQ%3D%3D?line=65'>66</a>\u001b[0m     start \u001b[39m=\u001b[39m solution[idx]\n\u001b[1;32m---> <a href='vscode-notebook-cell:/c%3A/Users/dhutt/Desktop/SCHEDULING_MODEL/code/ga_paper.ipynb#X16sZmlsZQ%3D%3D?line=66'>67</a>\u001b[0m     end \u001b[39m=\u001b[39m start \u001b[39m+\u001b[39m duration_lookup_table[operations[idx]][solution[idx\u001b[39m-\u001b[39;49m\u001b[39m1\u001b[39;49m]] \u001b[39m# double check operations\u001b[39;00m\n\u001b[0;32m     <a href='vscode-notebook-cell:/c%3A/Users/dhutt/Desktop/SCHEDULING_MODEL/code/ga_paper.ipynb#X16sZmlsZQ%3D%3D?line=67'>68</a>\u001b[0m     \u001b[39mif\u001b[39;00m start \u001b[39m<\u001b[39m \u001b[39mmin\u001b[39m:\n\u001b[0;32m     <a href='vscode-notebook-cell:/c%3A/Users/dhutt/Desktop/SCHEDULING_MODEL/code/ga_paper.ipynb#X16sZmlsZQ%3D%3D?line=68'>69</a>\u001b[0m         \u001b[39mmin\u001b[39m \u001b[39m=\u001b[39m start\n",
      "\u001b[1;31mKeyError\u001b[0m: 5"
     ]
    }
   ],
   "source": [
    "num_genes = len(assignments)\n",
    "num_generations = 5000\n",
    "num_parents_mating = 50\n",
    "sol_per_pop = 100\n",
    "init_range_low = 0\n",
    "init_range_high = last_time_slot\n",
    "parent_selection_type = 'rws'\n",
    "keep_parents = 10\n",
    "crossover_type = crossover_function\n",
    "mutation_type = mutation_function\n",
    "mutation_percentage_genes = 1#0.1\n",
    "fitness_func = fitness_function\n",
    "gene_type = int\n",
    "space_workstations = {'low': 0, 'high': len(workstations)-1} #0?\n",
    "space_time = {'low': 0, 'high': last_time_slot}\n",
    "gene_space = []\n",
    "i = 0\n",
    "for _ in range(len(assignments)):\n",
    "    if i == 0:\n",
    "        gene_space.append(space_workstations)\n",
    "    else:\n",
    "        gene_space.append(space_time) # shouldn't be needed because of manual mutation and crossover\n",
    "    i += 1\n",
    "    if i > 1:\n",
    "        i = 0\n",
    "ga_instance = pygad.GA(num_generations=num_generations, num_parents_mating=num_parents_mating, fitness_func=fitness_func, sol_per_pop=sol_per_pop, num_genes=num_genes, init_range_low=init_range_low, init_range_high=init_range_high, parent_selection_type=parent_selection_type, keep_parents=keep_parents, crossover_type=crossover_type, mutation_type=mutation_type, mutation_percent_genes=mutation_percentage_genes, gene_type=gene_type, gene_space=gene_space)\n",
    "ga_instance.run()\n",
    "solution, solution_fitness, solution_idx = ga_instance.best_solution()\n",
    "\n",
    "print(\"Parameters of the best solution : {solution}\".format(solution=solution))\n",
    "print(\"Fitness value of the best solution = {solution_fitness}\".format(solution_fitness=abs(solution_fitness) - 1))"
   ]
  }
 ],
 "metadata": {
  "kernelspec": {
   "display_name": "Python 3.9.13 64-bit (microsoft store)",
   "language": "python",
   "name": "python3"
  },
  "language_info": {
   "codemirror_mode": {
    "name": "ipython",
    "version": 3
   },
   "file_extension": ".py",
   "mimetype": "text/x-python",
   "name": "python",
   "nbconvert_exporter": "python",
   "pygments_lexer": "ipython3",
   "version": "3.9.13"
  },
  "orig_nbformat": 4,
  "vscode": {
   "interpreter": {
    "hash": "462e7448f083626ea37b7306171372e26a088fcd344dea0651d8925b8464838f"
   }
  }
 },
 "nbformat": 4,
 "nbformat_minor": 2
}
