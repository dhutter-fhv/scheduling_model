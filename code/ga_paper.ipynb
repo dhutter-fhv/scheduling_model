{
 "cells": [
  {
   "cell_type": "markdown",
   "metadata": {},
   "source": [
    "Imports"
   ]
  },
  {
   "cell_type": "code",
   "execution_count": 328,
   "metadata": {},
   "outputs": [],
   "source": [
    "import pygad\n",
    "import random\n",
    "from read_data import read_dataset_1, translate_1, read_dataset_3, translate_3, translate_1_testing\n",
    "from models import SimulationEnvironment\n",
    "from optimizer_components import map_index_to_operation\n",
    "import plotly.figure_factory as ff"
   ]
  },
  {
   "cell_type": "markdown",
   "metadata": {},
   "source": [
    "Parameters"
   ]
  },
  {
   "cell_type": "code",
   "execution_count": 329,
   "metadata": {},
   "outputs": [],
   "source": [
    "order_amount = 5\n",
    "earliest_time_slot = 0\n",
    "last_time_slot = 5000 # shouldn't actually be necessary for this"
   ]
  },
  {
   "cell_type": "markdown",
   "metadata": {},
   "source": [
    "Input"
   ]
  },
  {
   "cell_type": "code",
   "execution_count": 330,
   "metadata": {},
   "outputs": [],
   "source": [
    "input, orders, instance = read_dataset_1(use_instance=6, order_amount=order_amount, earliest_time=earliest_time_slot, last_time=last_time_slot)\n",
    "#recipes, workstations, resources, tasks, orders_model = translate_1(instance, orders, earliest_time_slot, last_time_slot)\n",
    "recipes, workstations, resources, tasks, orders_model = translate_1_testing(instance, orders, earliest_time_slot, last_time_slot)\n",
    "env = SimulationEnvironment(workstations, tasks, resources, recipes)"
   ]
  },
  {
   "cell_type": "markdown",
   "metadata": {},
   "source": [
    "Setup"
   ]
  },
  {
   "cell_type": "code",
   "execution_count": 331,
   "metadata": {},
   "outputs": [],
   "source": [
    "assignments = []\n",
    "start_times = []\n",
    "\n",
    "duration_lookup_table = dict()\n",
    "for task in tasks:\n",
    "    if not task.external_id in duration_lookup_table:\n",
    "            duration_lookup_table[task.external_id] = dict()\n",
    "    for workstation in env.get_valid_workstations(task.external_id):\n",
    "        duration_lookup_table[task.external_id][workstation.id] = env.get_duration(task.external_id, workstation.id)\n",
    "\n",
    "operations = []\n",
    "order_for_index = []\n",
    "for order in orders_model:\n",
    "    for resource in order.resources:\n",
    "        recipe = resource.recipes[0] # just use recipe 0 for now\n",
    "        recipe_tasks = env.get_all_tasks_for_recipe(recipe.id)\n",
    "        results = dict()\n",
    "        for task in recipe_tasks:\n",
    "            if task.result_resources[0][0] not in results:\n",
    "                results[task.result_resources[0][0]] = []\n",
    "            results[task.result_resources[0][0]].append(task)\n",
    "        for key in results:\n",
    "            #operations.append(random.choice(results[key]).id)\n",
    "            operations.append(random.choice(results[key]).external_id)\n",
    "            order_for_index.append(order.id)\n",
    "\n",
    "for operation in operations:\n",
    "    workstation = env.get_valid_workstations(operation)\n",
    "    # random init\n",
    "    assignments.append(random.choice(workstation).id)\n",
    "    assignments.append(0) # start time slot"
   ]
  },
  {
   "cell_type": "code",
   "execution_count": 332,
   "metadata": {},
   "outputs": [
    {
     "name": "stdout",
     "output_type": "stream",
     "text": [
      "{0: {1: 108, 2: 119}, 1: {4: 136}, 2: {4: 150, 5: 155}, 3: {5: 214, 3: 144}, 4: {3: 44}, 5: {3: 65}, 6: {3: 87}, 7: {3: 70}, 8: {3: 120}}\n",
      "[6, 7, 8, 0, 1, 2, 6, 7, 8, 0, 1, 2, 6, 7, 8]\n"
     ]
    }
   ],
   "source": [
    "print(duration_lookup_table)\n",
    "print(operations)"
   ]
  },
  {
   "cell_type": "markdown",
   "metadata": {},
   "source": [
    "Helper Functions"
   ]
  },
  {
   "cell_type": "code",
   "execution_count": 333,
   "metadata": {},
   "outputs": [],
   "source": [
    "def get_order_for_index(index):\n",
    "    order = orders[0]\n",
    "    current_order = orders[0]\n",
    "    order_id = 0\n",
    "    jobs = instance[1] # contains amount of jobs for each order\n",
    "    i = 0\n",
    "    while i < index:\n",
    "    #for i in range(0, index, 2): # encoding\n",
    "        if i+len(jobs[current_order[0]]) > index: #found correct order\n",
    "            break\n",
    "        i += len(jobs[current_order[0]]) * 2\n",
    "        order_id += 1\n",
    "        if order_id < len(orders):\n",
    "            current_order = orders[order_id]\n",
    "    return order\n",
    "\n",
    "def get_prev_scheduled_operations(individual, index): # TODO: double check orders\n",
    "    # return assignments + start times as list of tuples\n",
    "    #id, target_order = map_index_to_operation(int(index/2), orders, env)\n",
    "    target_order = get_order_for_index(index)\n",
    "    jobs = instance[1]\n",
    "    idx = 0\n",
    "    prev_scheduled = []\n",
    "    # find index of task in specific order\n",
    "    order_start_index = 0\n",
    "    i = 0\n",
    "    while i < index:\n",
    "    #for i in range(index):\n",
    "        #curr_id, curr_order = map_index_to_operation(int(i/2), orders, env)\n",
    "        curr_order = get_order_for_index(index)\n",
    "        if curr_order[2] == target_order[2]: # assuming 2 is id\n",
    "            order_start_index = i\n",
    "            break\n",
    "        i += len(jobs[curr_order[0]]) * 2 # skip the rest of the order\n",
    "    if index - order_start_index > 0:\n",
    "        prev_scheduled.append((individual[index - 2], individual[index -1], duration_lookup_table[operations[int((index-2)/2)]][individual[index - 2]])) # actually only need previous, since tasks in same order are sorted        \n",
    "    return prev_scheduled\n",
    "\n",
    "def calculate_start_time(individual):\n",
    "    # duration_lookup_table[operations[int((idx-1)/2)]][solution[idx-1]]\n",
    "    i = 0\n",
    "    operation_index = 0\n",
    "    for idx in range(0, len(individual), 2):\n",
    "    #for gene in individual:\n",
    "        gene = individual[idx]\n",
    "        on_workstation = (0, 0) # find all assignments to the same workstation\n",
    "        prev_operations = [] # find all operations belonging to the same order, which need to be scheduled before the current operation\n",
    "        # calculate start time, aka choose max(last end time on workstation, last end time of previous sequenced operation for task)\n",
    "        k = 0\n",
    "        for j in range(0,idx,2): # introduces dependency on sequence of the orders\n",
    "            if individual[j] == gene: # same workstation assigned\n",
    "                if individual[j+1] + duration_lookup_table[operations[int(j/2)]][individual[j]] > on_workstation[0] + on_workstation[1]:\n",
    "                    on_workstation = (individual[j+1], duration_lookup_table[operations[int(j/2)]][individual[j]])\n",
    "        prev_operations = get_prev_scheduled_operations(individual, idx)\n",
    "        if prev_operations:\n",
    "            prev_operation = max(prev_operations, key=lambda tup: tup[1] + tup[2])\n",
    "        else:\n",
    "            prev_operation = (0, 0, 0)\n",
    "        individual[idx+1] = max(on_workstation[0] + on_workstation[1], prev_operation[1] + prev_operation[2])\n",
    "        operation_index += 1\n",
    "    return individual"
   ]
  },
  {
   "cell_type": "code",
   "execution_count": 334,
   "metadata": {},
   "outputs": [],
   "source": [
    "def get_colors(n): \n",
    "    ret = [] \n",
    "    r = int(random.random() * 256) \n",
    "    g = int(random.random() * 256) \n",
    "    b = int(random.random() * 256) \n",
    "    step = 256 / n \n",
    "    for i in range(n): \n",
    "        r += step \n",
    "        g += step \n",
    "        b += step \n",
    "        r = int(r) % 256 \n",
    "        g = int(g) % 256 \n",
    "        b = int(b) % 256 \n",
    "        ret.append((r,g,b))  \n",
    "    return ret\n",
    "\n",
    "def visualize(data):\n",
    "    # data format: 0 - workstation, 1 - job id, 2 - start time, 3 - duration\n",
    "    colors = {}\n",
    "    rgb_values = get_colors(len(orders))\n",
    "    for i in range(len(orders)):\n",
    "        colors[str(f'Order {i}')] = f'rgb({rgb_values[i][0]}, {rgb_values[i][1]}, {rgb_values[i][2]})' # just ignore colors for now\n",
    "    composed_data = []\n",
    "    \n",
    "    for i in range(len(data)):\n",
    "        label = f'W{data[i][0]}'\n",
    "        start = data[i][2]\n",
    "        end = start + data[i][3]\n",
    "        composed_data.append(\n",
    "                    dict(Task=label, Start=start, Finish=end, Resource=f'Order {order_for_index[i]}')\n",
    "                )\n",
    "        #print(composed_data)\n",
    "    fig = ff.create_gantt(composed_data, colors=colors, index_col='Resource', show_colorbar=True,\n",
    "                        group_tasks=True, showgrid_x=True)\n",
    "    fig.update_layout(xaxis_type='linear')\n",
    "    \"\"\"import plotly.express as px\n",
    "    fig = px.timeline(composed_data, x_start='Start', x_end='Finish', y='Task', color='Resource')\"\"\" # for some reason doesn't do what it's supposed to do\n",
    "    fig.show()"
   ]
  },
  {
   "cell_type": "markdown",
   "metadata": {},
   "source": [
    "GA Functions"
   ]
  },
  {
   "cell_type": "code",
   "execution_count": 335,
   "metadata": {},
   "outputs": [],
   "source": [
    "def mutation_function(offspring, ga_instance):\n",
    "    i = 0\n",
    "    operation_index = 0\n",
    "    p = 0.1#ga_instance.mutation_percent_genes\n",
    "    idx = 0\n",
    "    for gene in offspring:\n",
    "        if i == 0:\n",
    "            if random.random() < p:\n",
    "                # mutate\n",
    "                # according to paper, calc workload of each elligible workstation, switch to lowest workload\n",
    "                workload = []\n",
    "                valid_workstations = env.get_valid_workstations(operations[int(idx/2)]) # TODO: double check\n",
    "                for j in range(len(valid_workstations)): \n",
    "                    count = 0\n",
    "                    for k in range(0, gene, 2):\n",
    "                        if offspring[k] == valid_workstations[j].id:\n",
    "                            count += 1\n",
    "                    workload.append((valid_workstations[j], count))\n",
    "                current_count = 0\n",
    "                for t in workload:\n",
    "                    if t[0] == gene:\n",
    "                        current_count = t[1]\n",
    "                        break\n",
    "                # gather all workloads smaller than the current workstations workload\n",
    "                lower_loads = []\n",
    "                smallest_load = t\n",
    "                for t in workload:\n",
    "                    if t[0] != gene and t[1] < current_count:\n",
    "                        lower_loads.append(t)\n",
    "                        if t[1] < smallest_load[1]:\n",
    "                            smallest_load = t\n",
    "                #offspring[idx] = random.choice(lower_loads)[0] # choose random smaller workstation\n",
    "                offspring[idx] = smallest_load[0].id # just use smallest workload possible\n",
    "        i+=1\n",
    "        if i > 1:\n",
    "            i = 0\n",
    "            operation_index += 1\n",
    "        idx += 1\n",
    "    # re-calculate start times\n",
    "    calculate_start_time(offspring)\n",
    "    return offspring\n",
    "\n",
    "# make sure crossover is performed at workstation assignments\n",
    "def crossover_function(parents, offspring_size, ga_instance):\n",
    "    split_point = random.randint(0, len(assignments))\n",
    "    if split_point % 2 == 1:\n",
    "        split_point -= 1\n",
    "    parent1 = parents[0].copy()\n",
    "    parent2 = parents[1].copy()\n",
    "    offspring = []\n",
    "    for i in range(len(assignments)):\n",
    "        if i < split_point:\n",
    "            offspring.append(parent1[i])\n",
    "        else:\n",
    "            offspring.append(parent2[i])\n",
    "    return offspring\n",
    "\n",
    "def fitness_function(solution, solution_idx):\n",
    "    fitness = 1\n",
    "    i = 0\n",
    "    operation_index = 0\n",
    "    max = -float('inf')\n",
    "    min = float('inf')\n",
    "    for idx in range(1, len(solution), 2):\n",
    "        start = solution[idx]\n",
    "        end = start + duration_lookup_table[operations[int((idx-1)/2)]][solution[idx-1]] # double check operations\n",
    "        if start < min:\n",
    "            min = start\n",
    "        if end > max:\n",
    "            max = end\n",
    "        operation_index += 1\n",
    "    fitness = abs(max - min)\n",
    "    return -fitness\n"
   ]
  },
  {
   "cell_type": "markdown",
   "metadata": {},
   "source": [
    "Run"
   ]
  },
  {
   "cell_type": "code",
   "execution_count": 336,
   "metadata": {},
   "outputs": [
    {
     "name": "stdout",
     "output_type": "stream",
     "text": [
      "Parameters of the best solution : [   3    0    3   87    3  157    1  277    4  385    5  521    3  676\n",
      "    3  763    3  833    2  953    4 1072    4 1208    3 1358    3 1445\n",
      "    3 1515]\n",
      "Fitness value of the best solution = 1634\n"
     ]
    }
   ],
   "source": [
    "num_genes = len(assignments)\n",
    "num_generations = 5000\n",
    "num_parents_mating = 50\n",
    "sol_per_pop = 100\n",
    "init_range_low = 0\n",
    "init_range_high = last_time_slot\n",
    "parent_selection_type = 'rws'\n",
    "keep_parents = 10\n",
    "crossover_type = crossover_function\n",
    "mutation_type = mutation_function\n",
    "mutation_percentage_genes = 10#0.1\n",
    "fitness_func = fitness_function\n",
    "gene_type = int\n",
    "space_workstations = {'low': 0, 'high': len(workstations)-1} #0?\n",
    "space_time = {'low': 0, 'high': last_time_slot}\n",
    "gene_space = []\n",
    "i = 0\n",
    "for j in range(len(assignments)):\n",
    "    if i == 0:\n",
    "        valid_workstations = env.get_valid_workstations(operations[int(j/2)])\n",
    "        space = []\n",
    "        for k in range(len(valid_workstations)):\n",
    "            space.append(valid_workstations[k].id)\n",
    "        gene_space.append(space)\n",
    "    else:\n",
    "        gene_space.append(space_time) # shouldn't be needed because of manual mutation and crossover\n",
    "    i += 1\n",
    "    if i > 1:\n",
    "        i = 0\n",
    "ga_instance = pygad.GA(num_generations=num_generations, num_parents_mating=num_parents_mating, fitness_func=fitness_func, sol_per_pop=sol_per_pop, num_genes=num_genes, init_range_low=init_range_low, init_range_high=init_range_high, parent_selection_type=parent_selection_type, keep_parents=keep_parents, crossover_type=crossover_type, mutation_type=mutation_type, mutation_percent_genes=mutation_percentage_genes, gene_type=gene_type, gene_space=gene_space)\n",
    "ga_instance.run()\n",
    "solution, solution_fitness, solution_idx = ga_instance.best_solution()\n",
    "\n",
    "print(\"Parameters of the best solution : {solution}\".format(solution=solution))\n",
    "print(\"Fitness value of the best solution = {solution_fitness}\".format(solution_fitness=abs(solution_fitness) - 1))"
   ]
  },
  {
   "cell_type": "code",
   "execution_count": 337,
   "metadata": {},
   "outputs": [
    {
     "data": {
      "application/vnd.plotly.v1+json": {
       "config": {
        "plotlyServerURL": "https://plot.ly"
       },
       "data": [
        {
         "fill": "toself",
         "fillcolor": "rgb(115, 40, 65)",
         "hoverinfo": "name",
         "legendgroup": "rgb(115, 40, 65)",
         "mode": "none",
         "name": "Order 2",
         "type": "scatter",
         "x": [
          676,
          763,
          763,
          676,
          676,
          763,
          833,
          833,
          763,
          763,
          833,
          953,
          953,
          833
         ],
         "y": [
          3.8,
          3.8,
          4.2,
          4.2,
          null,
          3.8,
          3.8,
          4.2,
          4.2,
          null,
          3.8,
          3.8,
          4.2,
          4.2
         ]
        },
        {
         "fill": "toself",
         "fillcolor": "rgb(13, 194, 219)",
         "hoverinfo": "name",
         "legendgroup": "rgb(13, 194, 219)",
         "mode": "none",
         "name": "Order 0",
         "type": "scatter",
         "x": [
          0,
          87,
          87,
          0,
          0,
          87,
          157,
          157,
          87,
          87,
          157,
          277,
          277,
          157
         ],
         "y": [
          3.8,
          3.8,
          4.2,
          4.2,
          null,
          3.8,
          3.8,
          4.2,
          4.2,
          null,
          3.8,
          3.8,
          4.2,
          4.2
         ]
        },
        {
         "fill": "toself",
         "fillcolor": "rgb(166, 91, 116)",
         "hoverinfo": "name",
         "legendgroup": "rgb(166, 91, 116)",
         "mode": "none",
         "name": "Order 3",
         "type": "scatter",
         "x": [
          953,
          1072,
          1072,
          953,
          953,
          1072,
          1208,
          1208,
          1072,
          1072,
          1208,
          1358,
          1358,
          1208
         ],
         "y": [
          -0.2,
          -0.2,
          0.2,
          0.2,
          null,
          1.8,
          1.8,
          2.2,
          2.2,
          null,
          1.8,
          1.8,
          2.2,
          2.2
         ]
        },
        {
         "fill": "toself",
         "fillcolor": "rgb(217, 142, 167)",
         "hoverinfo": "name",
         "legendgroup": "rgb(217, 142, 167)",
         "mode": "none",
         "name": "Order 4",
         "type": "scatter",
         "x": [
          1358,
          1445,
          1445,
          1358,
          1358,
          1445,
          1515,
          1515,
          1445,
          1445,
          1515,
          1635,
          1635,
          1515
         ],
         "y": [
          3.8,
          3.8,
          4.2,
          4.2,
          null,
          3.8,
          3.8,
          4.2,
          4.2,
          null,
          3.8,
          3.8,
          4.2,
          4.2
         ]
        },
        {
         "fill": "toself",
         "fillcolor": "rgb(64, 245, 14)",
         "hoverinfo": "name",
         "legendgroup": "rgb(64, 245, 14)",
         "mode": "none",
         "name": "Order 1",
         "type": "scatter",
         "x": [
          277,
          385,
          385,
          277,
          277,
          385,
          521,
          521,
          385,
          385,
          521,
          676,
          676,
          521
         ],
         "y": [
          2.8,
          2.8,
          3.2,
          3.2,
          null,
          1.8,
          1.8,
          2.2,
          2.2,
          null,
          0.8,
          0.8,
          1.2,
          1.2
         ]
        },
        {
         "legendgroup": "rgb(115, 40, 65)",
         "marker": {
          "color": "rgb(115, 40, 65)",
          "opacity": 0,
          "size": 1
         },
         "mode": "markers",
         "name": "",
         "showlegend": false,
         "text": [
          null,
          null,
          null,
          null,
          null,
          null
         ],
         "type": "scatter",
         "x": [
          676,
          763,
          763,
          833,
          833,
          953
         ],
         "y": [
          4,
          4,
          4,
          4,
          4,
          4
         ]
        },
        {
         "legendgroup": "rgb(13, 194, 219)",
         "marker": {
          "color": "rgb(13, 194, 219)",
          "opacity": 0,
          "size": 1
         },
         "mode": "markers",
         "name": "",
         "showlegend": false,
         "text": [
          null,
          null,
          null,
          null,
          null,
          null
         ],
         "type": "scatter",
         "x": [
          0,
          87,
          87,
          157,
          157,
          277
         ],
         "y": [
          4,
          4,
          4,
          4,
          4,
          4
         ]
        },
        {
         "legendgroup": "rgb(166, 91, 116)",
         "marker": {
          "color": "rgb(166, 91, 116)",
          "opacity": 0,
          "size": 1
         },
         "mode": "markers",
         "name": "",
         "showlegend": false,
         "text": [
          null,
          null,
          null,
          null,
          null,
          null
         ],
         "type": "scatter",
         "x": [
          953,
          1072,
          1072,
          1208,
          1208,
          1358
         ],
         "y": [
          0,
          0,
          2,
          2,
          2,
          2
         ]
        },
        {
         "legendgroup": "rgb(217, 142, 167)",
         "marker": {
          "color": "rgb(217, 142, 167)",
          "opacity": 0,
          "size": 1
         },
         "mode": "markers",
         "name": "",
         "showlegend": false,
         "text": [
          null,
          null,
          null,
          null,
          null,
          null
         ],
         "type": "scatter",
         "x": [
          1358,
          1445,
          1445,
          1515,
          1515,
          1635
         ],
         "y": [
          4,
          4,
          4,
          4,
          4,
          4
         ]
        },
        {
         "legendgroup": "rgb(64, 245, 14)",
         "marker": {
          "color": "rgb(64, 245, 14)",
          "opacity": 0,
          "size": 1
         },
         "mode": "markers",
         "name": "",
         "showlegend": false,
         "text": [
          null,
          null,
          null,
          null,
          null,
          null
         ],
         "type": "scatter",
         "x": [
          277,
          385,
          385,
          521,
          521,
          676
         ],
         "y": [
          3,
          3,
          2,
          2,
          1,
          1
         ]
        }
       ],
       "layout": {
        "height": 600,
        "hovermode": "closest",
        "showlegend": true,
        "template": {
         "data": {
          "bar": [
           {
            "error_x": {
             "color": "#2a3f5f"
            },
            "error_y": {
             "color": "#2a3f5f"
            },
            "marker": {
             "line": {
              "color": "#E5ECF6",
              "width": 0.5
             },
             "pattern": {
              "fillmode": "overlay",
              "size": 10,
              "solidity": 0.2
             }
            },
            "type": "bar"
           }
          ],
          "barpolar": [
           {
            "marker": {
             "line": {
              "color": "#E5ECF6",
              "width": 0.5
             },
             "pattern": {
              "fillmode": "overlay",
              "size": 10,
              "solidity": 0.2
             }
            },
            "type": "barpolar"
           }
          ],
          "carpet": [
           {
            "aaxis": {
             "endlinecolor": "#2a3f5f",
             "gridcolor": "white",
             "linecolor": "white",
             "minorgridcolor": "white",
             "startlinecolor": "#2a3f5f"
            },
            "baxis": {
             "endlinecolor": "#2a3f5f",
             "gridcolor": "white",
             "linecolor": "white",
             "minorgridcolor": "white",
             "startlinecolor": "#2a3f5f"
            },
            "type": "carpet"
           }
          ],
          "choropleth": [
           {
            "colorbar": {
             "outlinewidth": 0,
             "ticks": ""
            },
            "type": "choropleth"
           }
          ],
          "contour": [
           {
            "colorbar": {
             "outlinewidth": 0,
             "ticks": ""
            },
            "colorscale": [
             [
              0,
              "#0d0887"
             ],
             [
              0.1111111111111111,
              "#46039f"
             ],
             [
              0.2222222222222222,
              "#7201a8"
             ],
             [
              0.3333333333333333,
              "#9c179e"
             ],
             [
              0.4444444444444444,
              "#bd3786"
             ],
             [
              0.5555555555555556,
              "#d8576b"
             ],
             [
              0.6666666666666666,
              "#ed7953"
             ],
             [
              0.7777777777777778,
              "#fb9f3a"
             ],
             [
              0.8888888888888888,
              "#fdca26"
             ],
             [
              1,
              "#f0f921"
             ]
            ],
            "type": "contour"
           }
          ],
          "contourcarpet": [
           {
            "colorbar": {
             "outlinewidth": 0,
             "ticks": ""
            },
            "type": "contourcarpet"
           }
          ],
          "heatmap": [
           {
            "colorbar": {
             "outlinewidth": 0,
             "ticks": ""
            },
            "colorscale": [
             [
              0,
              "#0d0887"
             ],
             [
              0.1111111111111111,
              "#46039f"
             ],
             [
              0.2222222222222222,
              "#7201a8"
             ],
             [
              0.3333333333333333,
              "#9c179e"
             ],
             [
              0.4444444444444444,
              "#bd3786"
             ],
             [
              0.5555555555555556,
              "#d8576b"
             ],
             [
              0.6666666666666666,
              "#ed7953"
             ],
             [
              0.7777777777777778,
              "#fb9f3a"
             ],
             [
              0.8888888888888888,
              "#fdca26"
             ],
             [
              1,
              "#f0f921"
             ]
            ],
            "type": "heatmap"
           }
          ],
          "heatmapgl": [
           {
            "colorbar": {
             "outlinewidth": 0,
             "ticks": ""
            },
            "colorscale": [
             [
              0,
              "#0d0887"
             ],
             [
              0.1111111111111111,
              "#46039f"
             ],
             [
              0.2222222222222222,
              "#7201a8"
             ],
             [
              0.3333333333333333,
              "#9c179e"
             ],
             [
              0.4444444444444444,
              "#bd3786"
             ],
             [
              0.5555555555555556,
              "#d8576b"
             ],
             [
              0.6666666666666666,
              "#ed7953"
             ],
             [
              0.7777777777777778,
              "#fb9f3a"
             ],
             [
              0.8888888888888888,
              "#fdca26"
             ],
             [
              1,
              "#f0f921"
             ]
            ],
            "type": "heatmapgl"
           }
          ],
          "histogram": [
           {
            "marker": {
             "pattern": {
              "fillmode": "overlay",
              "size": 10,
              "solidity": 0.2
             }
            },
            "type": "histogram"
           }
          ],
          "histogram2d": [
           {
            "colorbar": {
             "outlinewidth": 0,
             "ticks": ""
            },
            "colorscale": [
             [
              0,
              "#0d0887"
             ],
             [
              0.1111111111111111,
              "#46039f"
             ],
             [
              0.2222222222222222,
              "#7201a8"
             ],
             [
              0.3333333333333333,
              "#9c179e"
             ],
             [
              0.4444444444444444,
              "#bd3786"
             ],
             [
              0.5555555555555556,
              "#d8576b"
             ],
             [
              0.6666666666666666,
              "#ed7953"
             ],
             [
              0.7777777777777778,
              "#fb9f3a"
             ],
             [
              0.8888888888888888,
              "#fdca26"
             ],
             [
              1,
              "#f0f921"
             ]
            ],
            "type": "histogram2d"
           }
          ],
          "histogram2dcontour": [
           {
            "colorbar": {
             "outlinewidth": 0,
             "ticks": ""
            },
            "colorscale": [
             [
              0,
              "#0d0887"
             ],
             [
              0.1111111111111111,
              "#46039f"
             ],
             [
              0.2222222222222222,
              "#7201a8"
             ],
             [
              0.3333333333333333,
              "#9c179e"
             ],
             [
              0.4444444444444444,
              "#bd3786"
             ],
             [
              0.5555555555555556,
              "#d8576b"
             ],
             [
              0.6666666666666666,
              "#ed7953"
             ],
             [
              0.7777777777777778,
              "#fb9f3a"
             ],
             [
              0.8888888888888888,
              "#fdca26"
             ],
             [
              1,
              "#f0f921"
             ]
            ],
            "type": "histogram2dcontour"
           }
          ],
          "mesh3d": [
           {
            "colorbar": {
             "outlinewidth": 0,
             "ticks": ""
            },
            "type": "mesh3d"
           }
          ],
          "parcoords": [
           {
            "line": {
             "colorbar": {
              "outlinewidth": 0,
              "ticks": ""
             }
            },
            "type": "parcoords"
           }
          ],
          "pie": [
           {
            "automargin": true,
            "type": "pie"
           }
          ],
          "scatter": [
           {
            "marker": {
             "colorbar": {
              "outlinewidth": 0,
              "ticks": ""
             }
            },
            "type": "scatter"
           }
          ],
          "scatter3d": [
           {
            "line": {
             "colorbar": {
              "outlinewidth": 0,
              "ticks": ""
             }
            },
            "marker": {
             "colorbar": {
              "outlinewidth": 0,
              "ticks": ""
             }
            },
            "type": "scatter3d"
           }
          ],
          "scattercarpet": [
           {
            "marker": {
             "colorbar": {
              "outlinewidth": 0,
              "ticks": ""
             }
            },
            "type": "scattercarpet"
           }
          ],
          "scattergeo": [
           {
            "marker": {
             "colorbar": {
              "outlinewidth": 0,
              "ticks": ""
             }
            },
            "type": "scattergeo"
           }
          ],
          "scattergl": [
           {
            "marker": {
             "colorbar": {
              "outlinewidth": 0,
              "ticks": ""
             }
            },
            "type": "scattergl"
           }
          ],
          "scattermapbox": [
           {
            "marker": {
             "colorbar": {
              "outlinewidth": 0,
              "ticks": ""
             }
            },
            "type": "scattermapbox"
           }
          ],
          "scatterpolar": [
           {
            "marker": {
             "colorbar": {
              "outlinewidth": 0,
              "ticks": ""
             }
            },
            "type": "scatterpolar"
           }
          ],
          "scatterpolargl": [
           {
            "marker": {
             "colorbar": {
              "outlinewidth": 0,
              "ticks": ""
             }
            },
            "type": "scatterpolargl"
           }
          ],
          "scatterternary": [
           {
            "marker": {
             "colorbar": {
              "outlinewidth": 0,
              "ticks": ""
             }
            },
            "type": "scatterternary"
           }
          ],
          "surface": [
           {
            "colorbar": {
             "outlinewidth": 0,
             "ticks": ""
            },
            "colorscale": [
             [
              0,
              "#0d0887"
             ],
             [
              0.1111111111111111,
              "#46039f"
             ],
             [
              0.2222222222222222,
              "#7201a8"
             ],
             [
              0.3333333333333333,
              "#9c179e"
             ],
             [
              0.4444444444444444,
              "#bd3786"
             ],
             [
              0.5555555555555556,
              "#d8576b"
             ],
             [
              0.6666666666666666,
              "#ed7953"
             ],
             [
              0.7777777777777778,
              "#fb9f3a"
             ],
             [
              0.8888888888888888,
              "#fdca26"
             ],
             [
              1,
              "#f0f921"
             ]
            ],
            "type": "surface"
           }
          ],
          "table": [
           {
            "cells": {
             "fill": {
              "color": "#EBF0F8"
             },
             "line": {
              "color": "white"
             }
            },
            "header": {
             "fill": {
              "color": "#C8D4E3"
             },
             "line": {
              "color": "white"
             }
            },
            "type": "table"
           }
          ]
         },
         "layout": {
          "annotationdefaults": {
           "arrowcolor": "#2a3f5f",
           "arrowhead": 0,
           "arrowwidth": 1
          },
          "autotypenumbers": "strict",
          "coloraxis": {
           "colorbar": {
            "outlinewidth": 0,
            "ticks": ""
           }
          },
          "colorscale": {
           "diverging": [
            [
             0,
             "#8e0152"
            ],
            [
             0.1,
             "#c51b7d"
            ],
            [
             0.2,
             "#de77ae"
            ],
            [
             0.3,
             "#f1b6da"
            ],
            [
             0.4,
             "#fde0ef"
            ],
            [
             0.5,
             "#f7f7f7"
            ],
            [
             0.6,
             "#e6f5d0"
            ],
            [
             0.7,
             "#b8e186"
            ],
            [
             0.8,
             "#7fbc41"
            ],
            [
             0.9,
             "#4d9221"
            ],
            [
             1,
             "#276419"
            ]
           ],
           "sequential": [
            [
             0,
             "#0d0887"
            ],
            [
             0.1111111111111111,
             "#46039f"
            ],
            [
             0.2222222222222222,
             "#7201a8"
            ],
            [
             0.3333333333333333,
             "#9c179e"
            ],
            [
             0.4444444444444444,
             "#bd3786"
            ],
            [
             0.5555555555555556,
             "#d8576b"
            ],
            [
             0.6666666666666666,
             "#ed7953"
            ],
            [
             0.7777777777777778,
             "#fb9f3a"
            ],
            [
             0.8888888888888888,
             "#fdca26"
            ],
            [
             1,
             "#f0f921"
            ]
           ],
           "sequentialminus": [
            [
             0,
             "#0d0887"
            ],
            [
             0.1111111111111111,
             "#46039f"
            ],
            [
             0.2222222222222222,
             "#7201a8"
            ],
            [
             0.3333333333333333,
             "#9c179e"
            ],
            [
             0.4444444444444444,
             "#bd3786"
            ],
            [
             0.5555555555555556,
             "#d8576b"
            ],
            [
             0.6666666666666666,
             "#ed7953"
            ],
            [
             0.7777777777777778,
             "#fb9f3a"
            ],
            [
             0.8888888888888888,
             "#fdca26"
            ],
            [
             1,
             "#f0f921"
            ]
           ]
          },
          "colorway": [
           "#636efa",
           "#EF553B",
           "#00cc96",
           "#ab63fa",
           "#FFA15A",
           "#19d3f3",
           "#FF6692",
           "#B6E880",
           "#FF97FF",
           "#FECB52"
          ],
          "font": {
           "color": "#2a3f5f"
          },
          "geo": {
           "bgcolor": "white",
           "lakecolor": "white",
           "landcolor": "#E5ECF6",
           "showlakes": true,
           "showland": true,
           "subunitcolor": "white"
          },
          "hoverlabel": {
           "align": "left"
          },
          "hovermode": "closest",
          "mapbox": {
           "style": "light"
          },
          "paper_bgcolor": "white",
          "plot_bgcolor": "#E5ECF6",
          "polar": {
           "angularaxis": {
            "gridcolor": "white",
            "linecolor": "white",
            "ticks": ""
           },
           "bgcolor": "#E5ECF6",
           "radialaxis": {
            "gridcolor": "white",
            "linecolor": "white",
            "ticks": ""
           }
          },
          "scene": {
           "xaxis": {
            "backgroundcolor": "#E5ECF6",
            "gridcolor": "white",
            "gridwidth": 2,
            "linecolor": "white",
            "showbackground": true,
            "ticks": "",
            "zerolinecolor": "white"
           },
           "yaxis": {
            "backgroundcolor": "#E5ECF6",
            "gridcolor": "white",
            "gridwidth": 2,
            "linecolor": "white",
            "showbackground": true,
            "ticks": "",
            "zerolinecolor": "white"
           },
           "zaxis": {
            "backgroundcolor": "#E5ECF6",
            "gridcolor": "white",
            "gridwidth": 2,
            "linecolor": "white",
            "showbackground": true,
            "ticks": "",
            "zerolinecolor": "white"
           }
          },
          "shapedefaults": {
           "line": {
            "color": "#2a3f5f"
           }
          },
          "ternary": {
           "aaxis": {
            "gridcolor": "white",
            "linecolor": "white",
            "ticks": ""
           },
           "baxis": {
            "gridcolor": "white",
            "linecolor": "white",
            "ticks": ""
           },
           "bgcolor": "#E5ECF6",
           "caxis": {
            "gridcolor": "white",
            "linecolor": "white",
            "ticks": ""
           }
          },
          "title": {
           "x": 0.05
          },
          "xaxis": {
           "automargin": true,
           "gridcolor": "white",
           "linecolor": "white",
           "ticks": "",
           "title": {
            "standoff": 15
           },
           "zerolinecolor": "white",
           "zerolinewidth": 2
          },
          "yaxis": {
           "automargin": true,
           "gridcolor": "white",
           "linecolor": "white",
           "ticks": "",
           "title": {
            "standoff": 15
           },
           "zerolinecolor": "white",
           "zerolinewidth": 2
          }
         }
        },
        "title": {
         "text": "Gantt Chart"
        },
        "xaxis": {
         "rangeselector": {
          "buttons": [
           {
            "count": 7,
            "label": "1w",
            "step": "day",
            "stepmode": "backward"
           },
           {
            "count": 1,
            "label": "1m",
            "step": "month",
            "stepmode": "backward"
           },
           {
            "count": 6,
            "label": "6m",
            "step": "month",
            "stepmode": "backward"
           },
           {
            "count": 1,
            "label": "YTD",
            "step": "year",
            "stepmode": "todate"
           },
           {
            "count": 1,
            "label": "1y",
            "step": "year",
            "stepmode": "backward"
           },
           {
            "step": "all"
           }
          ]
         },
         "showgrid": true,
         "type": "linear",
         "zeroline": false
        },
        "yaxis": {
         "autorange": false,
         "range": [
          -1,
          6
         ],
         "showgrid": false,
         "ticktext": [
          "W2",
          "W5",
          "W4",
          "W1",
          "W3"
         ],
         "tickvals": [
          0,
          1,
          2,
          3,
          4
         ],
         "zeroline": false
        }
       }
      }
     },
     "metadata": {},
     "output_type": "display_data"
    }
   ],
   "source": [
    "data = []\n",
    "for i in range(0, len(solution), 2):\n",
    "    data.append([solution[i], operations[int(i/2)], solution[i+1], duration_lookup_table[operations[int(i/2)]][solution[i]]])\n",
    "visualize(data)"
   ]
  }
 ],
 "metadata": {
  "kernelspec": {
   "display_name": "Python 3.10.3 64-bit",
   "language": "python",
   "name": "python3"
  },
  "language_info": {
   "codemirror_mode": {
    "name": "ipython",
    "version": 3
   },
   "file_extension": ".py",
   "mimetype": "text/x-python",
   "name": "python",
   "nbconvert_exporter": "python",
   "pygments_lexer": "ipython3",
   "version": "3.10.3"
  },
  "orig_nbformat": 4,
  "vscode": {
   "interpreter": {
    "hash": "1e478315ea93f9f083d422a59179b37c6ead09cc57c0e51f656bb4b8796d5f86"
   }
  }
 },
 "nbformat": 4,
 "nbformat_minor": 2
}
