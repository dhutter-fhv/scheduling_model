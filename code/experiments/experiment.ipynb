{
 "cells": [
  {
   "cell_type": "code",
   "execution_count": null,
   "metadata": {},
   "outputs": [],
   "source": [
    "input_string = '2 2 2\\n2 2 1 2 1 25 2 30 2 1 1 37 2 1 1 2 32 2 2 1 24 2 33\\n2 2 1 1 1 45 2 2 1 55 2 65 2 1 2 1 21 2 25 2 1 2 65'\n",
    "# 2 recipies, 2 machines, 2 workers\n",
    "n_recipies = 2\n",
    "n_machines = 2\n",
    "n_workers = 2\n",
    "# 2 operations for recipe 1\n",
    "# 2 machines available to process operation 1 of recipe 1\n",
    "# machine 1 can be controlled by 2 workers\n",
    "r0 = [\n",
    "    [   # operation 1 of recipe 1, 2 machines available, 2 workers for machine 1, 1 worker for machine 2\n",
    "        (1, 1, 25), # machine 1, worker 1, duration 25\n",
    "        (1, 2, 30), # machine 1, worker 2, duration 25\n",
    "        (2, 1, 37) # machine 2, worker 1, duration 37\n",
    "    ],\n",
    "    [ # operation 2 of recipe 1, 2 machines available, 1 worker for machine 1, 2 workers for machine 2\n",
    "        (1, 2, 32) # machine 1, worker 2, duration 32\n",
    "        (2, 1, 24) # machine 2, worker 1, duration 24\n",
    "        (2, 2, 33) # machine 2, worker 2, duration 33\n",
    "    ]\n",
    "]\n",
    "r1 = [\n",
    "    [ # operation 1 of recipe 2, 2 machines available, 1 worker for machine 1\n",
    "        (1, 1, 45), # machine 1, worker 1, duration 45\n",
    "        (2, 1, 55), # machine 2, worker 1, duration 55\n",
    "        (2, 2, 65) # machine 2, worker 2, duration 65\n",
    "    ],\n",
    "    [ # operatino 2 of recipe 2, 2 machines available\n",
    "        (1, 1, 21), # machine 1, worker 1, duration 21\n",
    "        (1, 2, 25), # machine 1, worker 2, duration 25\n",
    "        (2, 2, 65) # machine 2, worker 2, duration 65\n",
    "    ]\n",
    "]\n",
    "recipies = [(r0, 1000, 100), (r1, 1100, 110)] # <recipe, profit, tardiness fee>\n",
    "orders = [(0, 100), (1, 150), (1, 200), (0, 230), (1, 250), (0, 260), (1, 300), (0, 300), (0, 320), (1, 350), (0, 400), (1, 450)] # <order, due date>\n",
    "\n",
    "# machine breakdowns\n",
    "\n",
    "# worker unavailable\n",
    "\n",
    "# inconsistent durations"
   ]
  },
  {
   "cell_type": "code",
   "execution_count": null,
   "metadata": {},
   "outputs": [],
   "source": [
    "import pygad\n",
    "def is_feasible(x : list[int]) -> bool:\n",
    "    # check overlaps\n",
    "    # check sequence\n",
    "    pass\n",
    "\n"
   ]
  }
 ],
 "metadata": {
  "kernelspec": {
   "display_name": "Python 3",
   "language": "python",
   "name": "python3"
  },
  "language_info": {
   "name": "python",
   "version": "3.11.1 (tags/v3.11.1:a7a450f, Dec  6 2022, 19:58:39) [MSC v.1934 64 bit (AMD64)]"
  },
  "orig_nbformat": 4,
  "vscode": {
   "interpreter": {
    "hash": "1fa67616b1b49c35c458482b0866d2a2c548d80a3d17b7076357e3633b29d939"
   }
  }
 },
 "nbformat": 4,
 "nbformat_minor": 2
}
