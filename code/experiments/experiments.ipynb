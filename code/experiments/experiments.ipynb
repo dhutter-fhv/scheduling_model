{
 "cells": [
  {
   "cell_type": "markdown",
   "metadata": {},
   "source": [
    "<h1>Imports</h1>"
   ]
  },
  {
   "cell_type": "code",
   "execution_count": 1,
   "metadata": {},
   "outputs": [],
   "source": [
    "from read_data import read_dataset_1, translate_1\n",
    "from models import SimulationEnvironment\n",
    "from optimizer import BaseGA\n",
    "from visualize import reformat_result, visualize, visualize_schedule, fitness_history_plot\n",
    "import random"
   ]
  },
  {
   "cell_type": "markdown",
   "metadata": {},
   "source": [
    "<h1>Parameters</h1>"
   ]
  },
  {
   "cell_type": "code",
   "execution_count": 2,
   "metadata": {},
   "outputs": [],
   "source": [
    "# general parameters\n",
    "order_amount = 5\n",
    "earliest_time_slot = 0\n",
    "last_time_slot = 5000"
   ]
  },
  {
   "cell_type": "markdown",
   "metadata": {},
   "source": [
    "<h1>Input</h1>"
   ]
  },
  {
   "cell_type": "code",
   "execution_count": 3,
   "metadata": {},
   "outputs": [],
   "source": [
    "input, orders, instance = read_dataset_1(use_instance=13, order_amount=order_amount, earliest_time=earliest_time_slot, last_time=last_time_slot)\n",
    "recipes, workstations, resources, tasks, orders_model = translate_1(instance, orders, earliest_time_slot, last_time_slot)\n",
    "env = SimulationEnvironment(workstations, tasks, resources, recipes)"
   ]
  },
  {
   "cell_type": "markdown",
   "metadata": {},
   "source": [
    "<h1>Experiments</h1>"
   ]
  },
  {
   "cell_type": "markdown",
   "metadata": {},
   "source": [
    "Makespan Evaluation"
   ]
  },
  {
   "cell_type": "code",
   "execution_count": 4,
   "metadata": {},
   "outputs": [
    {
     "name": "stdout",
     "output_type": "stream",
     "text": [
      "Current generation: 0, Current Best: 5000, not feasible\n",
      "Current generation: 1, Current Best: 5000, not feasible\n",
      "Current generation: 2, Current Best: 5000, not feasible\n",
      "Current generation: 3, Current Best: 5000, not feasible\n",
      "Current generation: 4, Current Best: 5000, not feasible\n",
      "Current generation: 5, Current Best: 5000, not feasible\n",
      "Current generation: 6, Current Best: 5000, not feasible\n",
      "Current generation: 7, Current Best: 5000, not feasible\n",
      "Current generation: 8, Current Best: 5000, not feasible\n",
      "Current generation: 9, Current Best: 5000, not feasible\n",
      "Current generation: 10, Current Best: 5000, not feasible\n",
      "Current generation: 11, Current Best: 5000, not feasible\n",
      "Current generation: 12, Current Best: 5000, not feasible\n",
      "Current generation: 13, Current Best: 5000, not feasible\n",
      "Current generation: 14, Current Best: 5000, not feasible\n",
      "Current generation: 15, Current Best: 5000, not feasible\n",
      "Current generation: 16, Current Best: 5000, not feasible\n",
      "Current generation: 17, Current Best: 5000, not feasible\n",
      "Current generation: 18, Current Best: 5000, not feasible\n",
      "Current generation: 19, Current Best: 5000, not feasible\n",
      "Current generation: 20, Current Best: 5000, not feasible\n",
      "Current generation: 21, Current Best: 5000, not feasible\n",
      "Current generation: 22, Current Best: 5000, not feasible\n",
      "Current generation: 23, Current Best: 5000, not feasible\n",
      "Current generation: 24, Current Best: 5000, not feasible\n",
      "Current generation: 25, Current Best: 5000, not feasible\n",
      "Current generation: 26, Current Best: 5000, not feasible\n",
      "Current generation: 27, Current Best: 5000, not feasible\n",
      "Current generation: 28, Current Best: 5000, not feasible\n",
      "Current generation: 29, Current Best: 5000, not feasible\n",
      "Current generation: 30, Current Best: 5000, not feasible\n",
      "Current generation: 31, Current Best: 5000, not feasible\n",
      "Current generation: 32, Current Best: 5000, not feasible\n",
      "Current generation: 33, Current Best: 5000, not feasible\n",
      "Current generation: 34, Current Best: 5000, not feasible\n",
      "Current generation: 35, Current Best: 5000, not feasible\n",
      "Current generation: 36, Current Best: 5000, not feasible\n",
      "Current generation: 37, Current Best: 5000, not feasible\n",
      "Current generation: 38, Current Best: 5000, not feasible\n",
      "Current generation: 39, Current Best: 5000, not feasible\n",
      "Current generation: 40, Current Best: 5000, not feasible\n",
      "Current generation: 41, Current Best: 5000, not feasible\n",
      "Current generation: 42, Current Best: 5000, not feasible\n",
      "Current generation: 43, Current Best: 5000, not feasible\n",
      "Current generation: 44, Current Best: 5000, not feasible\n",
      "Current generation: 45, Current Best: 5000, not feasible\n",
      "Current generation: 46, Current Best: 5000, not feasible\n",
      "Current generation: 47, Current Best: 5000, not feasible\n",
      "Current generation: 48, Current Best: 5000, not feasible\n",
      "Current generation: 49, Current Best: 5000, not feasible\n",
      "Current generation: 50, Current Best: 5000, not feasible\n",
      "Current generation: 51, Current Best: 5000, not feasible\n",
      "Current generation: 52, Current Best: 5000, not feasible\n",
      "Current generation: 53, Current Best: 5000, not feasible\n",
      "Current generation: 54, Current Best: 5000, not feasible\n",
      "Current generation: 55, Current Best: 5000, not feasible\n",
      "Current generation: 56, Current Best: 5000, not feasible\n",
      "Current generation: 57, Current Best: 5000, not feasible\n",
      "Current generation: 58, Current Best: 5000, not feasible\n",
      "Current generation: 59, Current Best: 5000, not feasible\n",
      "Current generation: 60, Current Best: 5000, not feasible\n",
      "Current generation: 61, Current Best: 5000, not feasible\n",
      "Current generation: 62, Current Best: 5000, not feasible\n",
      "Current generation: 63, Current Best: 5000, not feasible\n",
      "Current generation: 64, Current Best: 5000, not feasible\n",
      "Current generation: 65, Current Best: 5000, not feasible\n",
      "Current generation: 66, Current Best: 5000, not feasible\n",
      "Current generation: 67, Current Best: 5000, not feasible\n",
      "Current generation: 68, Current Best: 5000, not feasible\n",
      "Current generation: 69, Current Best: 5000, not feasible\n",
      "Current generation: 70, Current Best: 5000, not feasible\n",
      "Current generation: 71, Current Best: 5000, not feasible\n",
      "Current generation: 72, Current Best: 5000, not feasible\n",
      "Current generation: 73, Current Best: 5000, not feasible\n",
      "Current generation: 74, Current Best: 5000, not feasible\n",
      "Current generation: 75, Current Best: 5000, not feasible\n",
      "Current generation: 76, Current Best: 5000, not feasible\n",
      "Current generation: 77, Current Best: 5000, not feasible\n",
      "Current generation: 78, Current Best: 5000, not feasible\n",
      "Current generation: 79, Current Best: 5000, not feasible\n",
      "Current generation: 80, Current Best: 5000, not feasible\n",
      "Current generation: 81, Current Best: 5000, not feasible\n",
      "Current generation: 82, Current Best: 5000, not feasible\n",
      "Current generation: 83, Current Best: 5000, not feasible\n",
      "Current generation: 84, Current Best: 5000, not feasible\n",
      "Current generation: 85, Current Best: 5000, not feasible\n",
      "Current generation: 86, Current Best: 5000, not feasible\n",
      "Current generation: 87, Current Best: 5000, not feasible\n",
      "Current generation: 88, Current Best: 5000, not feasible\n",
      "Current generation: 89, Current Best: 5000, not feasible\n",
      "Current generation: 90, Current Best: 5000, not feasible\n",
      "Current generation: 91, Current Best: 5000, not feasible\n",
      "Current generation: 92, Current Best: 5000, not feasible\n",
      "Current generation: 93, Current Best: 5000, not feasible\n",
      "Current generation: 94, Current Best: 5000, not feasible\n",
      "Current generation: 95, Current Best: 5000, not feasible\n",
      "Current generation: 96, Current Best: 5000, not feasible\n",
      "Current generation: 97, Current Best: 5000, not feasible\n",
      "Current generation: 98, Current Best: 5000, not feasible\n",
      "Current generation: 99, Current Best: 5000, not feasible\n",
      "Current generation: 100, Current Best: 5000, not feasible\n",
      "Current generation: 101, Current Best: 5000, not feasible\n",
      "Current generation: 102, Current Best: 5000, not feasible\n",
      "Current generation: 103, Current Best: 5000, not feasible\n",
      "Current generation: 104, Current Best: 5000, not feasible\n",
      "Current generation: 105, Current Best: 5000, not feasible\n",
      "Current generation: 106, Current Best: 5000, not feasible\n",
      "Current generation: 107, Current Best: 5000, not feasible\n",
      "Current generation: 108, Current Best: 5000, not feasible\n",
      "Current generation: 109, Current Best: 5000, not feasible\n",
      "Current generation: 110, Current Best: 5000, not feasible\n",
      "Current generation: 111, Current Best: 5000, not feasible\n",
      "Current generation: 112, Current Best: 5000, not feasible\n",
      "Current generation: 113, Current Best: 5000, not feasible\n",
      "Current generation: 114, Current Best: 5000, not feasible\n",
      "Current generation: 115, Current Best: 5000, not feasible\n",
      "Current generation: 116, Current Best: 5000, not feasible\n",
      "Current generation: 117, Current Best: 5000, not feasible\n",
      "Current generation: 118, Current Best: 5000, not feasible\n",
      "Current generation: 119, Current Best: 5000, not feasible\n",
      "Current generation: 120, Current Best: 5000, not feasible\n",
      "Current generation: 121, Current Best: 5000, not feasible\n",
      "Current generation: 122, Current Best: 5000, not feasible\n",
      "Current generation: 123, Current Best: 5000, not feasible\n",
      "Current generation: 124, Current Best: 5000, not feasible\n",
      "Current generation: 125, Current Best: 5000, not feasible\n",
      "Current generation: 126, Current Best: 5000, not feasible\n",
      "Current generation: 127, Current Best: 5000, not feasible\n",
      "Current generation: 128, Current Best: 5000, not feasible\n",
      "Current generation: 129, Current Best: 5000, not feasible\n",
      "Current generation: 130, Current Best: 5000, not feasible\n",
      "Current generation: 131, Current Best: 5000, not feasible\n",
      "Current generation: 132, Current Best: 5000, not feasible\n",
      "Current generation: 133, Current Best: 5000, not feasible\n",
      "Current generation: 134, Current Best: 5000, not feasible\n",
      "Current generation: 135, Current Best: 5000, not feasible\n",
      "Current generation: 136, Current Best: 5000, not feasible\n",
      "Current generation: 137, Current Best: 5000, not feasible\n",
      "Current generation: 138, Current Best: 5000, not feasible\n",
      "Current generation: 139, Current Best: 5000, not feasible\n",
      "Current generation: 140, Current Best: 5000, not feasible\n",
      "Current generation: 141, Current Best: 5000, not feasible\n",
      "Current generation: 142, Current Best: 5000, not feasible\n",
      "Current generation: 143, Current Best: 5000, not feasible\n",
      "Current generation: 144, Current Best: 5000, not feasible\n",
      "Current generation: 145, Current Best: 5000, not feasible\n",
      "Current generation: 146, Current Best: 5000, not feasible\n",
      "Current generation: 147, Current Best: 5000, not feasible\n",
      "Current generation: 148, Current Best: 5000, not feasible\n",
      "Current generation: 149, Current Best: 5000, not feasible\n",
      "Current generation: 150, Current Best: 5000, not feasible\n",
      "Current generation: 151, Current Best: 5000, not feasible\n",
      "Current generation: 152, Current Best: 5000, not feasible\n",
      "Current generation: 153, Current Best: 5000, not feasible\n",
      "Current generation: 154, Current Best: 5000, not feasible\n",
      "Current generation: 155, Current Best: 5000, not feasible\n",
      "Current generation: 156, Current Best: 5000, not feasible\n",
      "Current generation: 157, Current Best: 5000, not feasible\n",
      "Current generation: 158, Current Best: 5000, not feasible\n",
      "Current generation: 159, Current Best: 5000, not feasible\n",
      "Current generation: 160, Current Best: 5000, not feasible\n",
      "Current generation: 161, Current Best: 5000, not feasible\n",
      "Current generation: 162, Current Best: 5000, not feasible\n",
      "Current generation: 163, Current Best: 5000, not feasible\n",
      "Current generation: 164, Current Best: 5000, not feasible\n",
      "Current generation: 165, Current Best: 5000, not feasible\n",
      "Current generation: 166, Current Best: 5000, not feasible\n",
      "Current generation: 167, Current Best: 5000, not feasible\n",
      "Current generation: 168, Current Best: 5000, not feasible\n",
      "Current generation: 169, Current Best: 5000, not feasible\n",
      "Current generation: 170, Current Best: 5000, not feasible\n",
      "Current generation: 171, Current Best: 5000, not feasible\n",
      "Current generation: 172, Current Best: 5000, not feasible\n",
      "Current generation: 173, Current Best: 5000, not feasible\n",
      "Current generation: 174, Current Best: 5000, not feasible\n",
      "Current generation: 175, Current Best: 5000, not feasible\n",
      "Current generation: 176, Current Best: 5000, not feasible\n",
      "Current generation: 177, Current Best: 5000, not feasible\n",
      "Current generation: 178, Current Best: 5000, not feasible\n",
      "Current generation: 179, Current Best: 5000, not feasible\n",
      "Current generation: 180, Current Best: 5000, not feasible\n",
      "Current generation: 181, Current Best: 5000, not feasible\n",
      "Current generation: 182, Current Best: 5000, not feasible\n",
      "Current generation: 183, Current Best: 5000, not feasible\n",
      "Current generation: 184, Current Best: 5000, not feasible\n",
      "Current generation: 185, Current Best: 5000, not feasible\n",
      "Current generation: 186, Current Best: 5000, not feasible\n",
      "Current generation: 187, Current Best: 5000, not feasible\n",
      "Current generation: 188, Current Best: 5000, not feasible\n",
      "Current generation: 189, Current Best: 5000, not feasible\n",
      "Current generation: 190, Current Best: 5000, not feasible\n",
      "Current generation: 191, Current Best: 5000, not feasible\n",
      "Current generation: 192, Current Best: 5000, not feasible\n",
      "Current generation: 193, Current Best: 5000, not feasible\n",
      "Current generation: 194, Current Best: 5000, not feasible\n",
      "Current generation: 195, Current Best: 5000, not feasible\n",
      "Current generation: 196, Current Best: 5000, not feasible\n",
      "Current generation: 197, Current Best: 5000, not feasible\n",
      "Current generation: 198, Current Best: 5000, not feasible\n",
      "Current generation: 199, Current Best: 5000, not feasible\n",
      "Current generation: 200, Current Best: 5000, not feasible\n",
      "Current generation: 201, Current Best: 5000, not feasible\n",
      "Current generation: 202, Current Best: 5000, not feasible\n",
      "Current generation: 203, Current Best: 5000, not feasible\n",
      "Current generation: 204, Current Best: 5000, not feasible\n",
      "Current generation: 205, Current Best: 5000, not feasible\n",
      "Current generation: 206, Current Best: 5000, not feasible\n",
      "Current generation: 207, Current Best: 5000, not feasible\n",
      "Current generation: 208, Current Best: 5000, not feasible\n",
      "Current generation: 209, Current Best: 5000, not feasible\n",
      "Current generation: 210, Current Best: 5000, not feasible\n",
      "Current generation: 211, Current Best: 5000, not feasible\n",
      "Current generation: 212, Current Best: 5000, not feasible\n",
      "Current generation: 213, Current Best: 5000, not feasible\n",
      "Current generation: 214, Current Best: 5000, not feasible\n",
      "Current generation: 215, Current Best: 5000, not feasible\n",
      "Current generation: 216, Current Best: 5000, not feasible\n",
      "Current generation: 217, Current Best: 5000, not feasible\n",
      "Current generation: 218, Current Best: 5000, not feasible\n",
      "Current generation: 219, Current Best: 5000, not feasible\n",
      "Current generation: 220, Current Best: 5000, not feasible\n",
      "Current generation: 221, Current Best: 5000, not feasible\n",
      "Current generation: 222, Current Best: 5000, not feasible\n",
      "Current generation: 223, Current Best: 5000, not feasible\n",
      "Current generation: 224, Current Best: 5000, not feasible\n",
      "Current generation: 225, Current Best: 5000, not feasible\n",
      "Current generation: 226, Current Best: 5000, not feasible\n",
      "Current generation: 227, Current Best: 5000, not feasible\n",
      "Current generation: 228, Current Best: 5000, not feasible\n",
      "Current generation: 229, Current Best: 5000, not feasible\n",
      "Current generation: 230, Current Best: 5000, not feasible\n",
      "Current generation: 231, Current Best: 5000, not feasible\n",
      "Current generation: 232, Current Best: 5000, not feasible\n",
      "Current generation: 233, Current Best: 5000, not feasible\n",
      "Current generation: 234, Current Best: 5000, not feasible\n",
      "Current generation: 235, Current Best: 5000, not feasible\n",
      "Current generation: 236, Current Best: 5000, not feasible\n",
      "Current generation: 237, Current Best: 5000, not feasible\n",
      "Current generation: 238, Current Best: 5000, not feasible\n",
      "Current generation: 239, Current Best: 5000, not feasible\n",
      "Current generation: 240, Current Best: 5000, not feasible\n",
      "Current generation: 241, Current Best: 5000, not feasible\n",
      "Current generation: 242, Current Best: 5000, not feasible\n",
      "Current generation: 243, Current Best: 5000, not feasible\n",
      "Current generation: 244, Current Best: 5000, not feasible\n",
      "Current generation: 245, Current Best: 5000, not feasible\n",
      "Current generation: 246, Current Best: 5000, not feasible\n",
      "Current generation: 247, Current Best: 5000, not feasible\n",
      "Current generation: 248, Current Best: 5000, not feasible\n",
      "Current generation: 249, Current Best: 5000, not feasible\n",
      "Current generation: 250, Current Best: 5000, not feasible\n",
      "Current generation: 251, Current Best: 5000, not feasible\n",
      "Current generation: 252, Current Best: 5000, not feasible\n",
      "Current generation: 253, Current Best: 5000, not feasible\n",
      "Current generation: 254, Current Best: 5000, not feasible\n",
      "Current generation: 255, Current Best: 5000, not feasible\n",
      "Current generation: 256, Current Best: 5000, not feasible\n",
      "Current generation: 257, Current Best: 5000, not feasible\n",
      "Current generation: 258, Current Best: 5000, not feasible\n",
      "Current generation: 259, Current Best: 5000, not feasible\n",
      "Current generation: 260, Current Best: 5000, not feasible\n",
      "Current generation: 261, Current Best: 5000, not feasible\n",
      "Current generation: 262, Current Best: 5000, not feasible\n",
      "Current generation: 263, Current Best: 5000, not feasible\n",
      "Current generation: 264, Current Best: 5000, not feasible\n",
      "Current generation: 265, Current Best: 5000, not feasible\n",
      "Current generation: 266, Current Best: 5000, not feasible\n",
      "Current generation: 267, Current Best: 5000, not feasible\n",
      "Current generation: 268, Current Best: 5000, not feasible\n",
      "Current generation: 269, Current Best: 5000, not feasible\n",
      "Current generation: 270, Current Best: 5000, not feasible\n",
      "Current generation: 271, Current Best: 5000, not feasible\n",
      "Current generation: 272, Current Best: 5000, not feasible\n",
      "Current generation: 273, Current Best: 5000, not feasible\n",
      "Current generation: 274, Current Best: 5000, not feasible\n",
      "Current generation: 275, Current Best: 5000, not feasible\n",
      "Current generation: 276, Current Best: 5000, not feasible\n",
      "Current generation: 277, Current Best: 5000, not feasible\n",
      "Current generation: 278, Current Best: 5000, not feasible\n",
      "Current generation: 279, Current Best: 5000, not feasible\n",
      "Current generation: 280, Current Best: 5000, not feasible\n",
      "Current generation: 281, Current Best: 5000, not feasible\n",
      "Current generation: 282, Current Best: 5000, not feasible\n",
      "Current generation: 283, Current Best: 5000, not feasible\n",
      "Current generation: 284, Current Best: 5000, not feasible\n",
      "Current generation: 285, Current Best: 5000, not feasible\n",
      "Current generation: 286, Current Best: 5000, not feasible\n",
      "Current generation: 287, Current Best: 5000, not feasible\n",
      "Current generation: 288, Current Best: 5000, not feasible\n",
      "Current generation: 289, Current Best: 5000, not feasible\n",
      "Current generation: 290, Current Best: 5000, not feasible\n",
      "Current generation: 291, Current Best: 5000, not feasible\n",
      "Current generation: 292, Current Best: 5000, not feasible\n",
      "Current generation: 293, Current Best: 5000, not feasible\n",
      "Current generation: 294, Current Best: 5000, not feasible\n",
      "Current generation: 295, Current Best: 5000, not feasible\n",
      "Current generation: 296, Current Best: 5000, not feasible\n",
      "Current generation: 297, Current Best: 5000, not feasible\n",
      "Current generation: 298, Current Best: 5000, not feasible\n",
      "Current generation: 299, Current Best: 5000, not feasible\n",
      "Current generation: 300, Current Best: 5000, not feasible\n",
      "Current generation: 301, Current Best: 5000, not feasible\n",
      "Current generation: 302, Current Best: 5000, not feasible\n",
      "Current generation: 303, Current Best: 5000, not feasible\n",
      "Current generation: 304, Current Best: 5000, not feasible\n",
      "Current generation: 305, Current Best: 5000, not feasible\n",
      "Current generation: 306, Current Best: 5000, not feasible\n",
      "Current generation: 307, Current Best: 5000, not feasible\n",
      "Current generation: 308, Current Best: 5000, not feasible\n",
      "Current generation: 309, Current Best: 5000, not feasible\n",
      "Current generation: 310, Current Best: 5000, not feasible\n",
      "Current generation: 311, Current Best: 5000, not feasible\n",
      "Current generation: 312, Current Best: 5000, not feasible\n",
      "Current generation: 313, Current Best: 5000, not feasible\n",
      "Current generation: 314, Current Best: 5000, not feasible\n",
      "Current generation: 315, Current Best: 5000, not feasible\n",
      "Current generation: 316, Current Best: 5000, not feasible\n",
      "Current generation: 317, Current Best: 5000, not feasible\n",
      "Current generation: 318, Current Best: 5000, not feasible\n",
      "Current generation: 319, Current Best: 5000, not feasible\n",
      "Current generation: 320, Current Best: 5000, not feasible\n",
      "Current generation: 321, Current Best: 5000, not feasible\n",
      "Current generation: 322, Current Best: 5000, not feasible\n",
      "Current generation: 323, Current Best: 5000, not feasible\n",
      "Current generation: 324, Current Best: 5000, not feasible\n",
      "Current generation: 325, Current Best: 5000, not feasible\n",
      "Current generation: 326, Current Best: 5000, not feasible\n",
      "Current generation: 327, Current Best: 5000, not feasible\n",
      "Current generation: 328, Current Best: 5000, not feasible\n",
      "Current generation: 329, Current Best: 5000, not feasible\n",
      "Current generation: 330, Current Best: 5000, not feasible\n",
      "Current generation: 331, Current Best: 5000, not feasible\n",
      "Current generation: 332, Current Best: 5000, not feasible\n",
      "Current generation: 333, Current Best: 5000, not feasible\n",
      "Current generation: 334, Current Best: 5000, not feasible\n",
      "Current generation: 335, Current Best: 5000, not feasible\n",
      "Current generation: 336, Current Best: 5000, not feasible\n",
      "Current generation: 337, Current Best: 5000, not feasible\n",
      "Current generation: 338, Current Best: 5000, not feasible\n",
      "Current generation: 339, Current Best: 5000, not feasible\n",
      "Current generation: 340, Current Best: 5000, not feasible\n",
      "Current generation: 341, Current Best: 5000, not feasible\n",
      "Current generation: 342, Current Best: 5000, not feasible\n",
      "Current generation: 343, Current Best: 5000, not feasible\n",
      "Current generation: 344, Current Best: 5000, not feasible\n",
      "Current generation: 345, Current Best: 5000, not feasible\n",
      "Current generation: 346, Current Best: 5000, not feasible\n",
      "Current generation: 347, Current Best: 5000, not feasible\n",
      "Current generation: 348, Current Best: 5000, not feasible\n",
      "Current generation: 349, Current Best: 5000, not feasible\n",
      "Current generation: 350, Current Best: 5000, not feasible\n",
      "Current generation: 351, Current Best: 5000, not feasible\n",
      "Current generation: 352, Current Best: 5000, not feasible\n",
      "Current generation: 353, Current Best: 5000, not feasible\n",
      "Current generation: 354, Current Best: 5000, not feasible\n",
      "Current generation: 355, Current Best: 5000, not feasible\n",
      "Current generation: 356, Current Best: 5000, not feasible\n",
      "Current generation: 357, Current Best: 5000, not feasible\n",
      "Current generation: 358, Current Best: 5000, not feasible\n",
      "Current generation: 359, Current Best: 5000, not feasible\n",
      "Current generation: 360, Current Best: 5000, not feasible\n",
      "Current generation: 361, Current Best: 5000, not feasible\n",
      "Current generation: 362, Current Best: 5000, not feasible\n",
      "Current generation: 363, Current Best: 5000, not feasible\n",
      "Current generation: 364, Current Best: 5000, not feasible\n",
      "Current generation: 365, Current Best: 5000, not feasible\n",
      "Current generation: 366, Current Best: 5000, not feasible\n",
      "Current generation: 367, Current Best: 5000, not feasible\n",
      "Current generation: 368, Current Best: 5000, not feasible\n",
      "Current generation: 369, Current Best: 5000, not feasible\n",
      "Current generation: 370, Current Best: 5000, not feasible\n",
      "Current generation: 371, Current Best: 5000, not feasible\n",
      "Current generation: 372, Current Best: 5000, not feasible\n",
      "Current generation: 373, Current Best: 5000, not feasible\n",
      "Current generation: 374, Current Best: 5000, not feasible\n",
      "Current generation: 375, Current Best: 5000, not feasible\n",
      "Current generation: 376, Current Best: 5000, not feasible\n",
      "Current generation: 377, Current Best: 5000, not feasible\n",
      "Current generation: 378, Current Best: 5000, not feasible\n",
      "Current generation: 379, Current Best: 5000, not feasible\n",
      "Current generation: 380, Current Best: 5000, not feasible\n",
      "Current generation: 381, Current Best: 5000, not feasible\n",
      "Current generation: 382, Current Best: 5000, not feasible\n",
      "Current generation: 383, Current Best: 5000, not feasible\n",
      "Current generation: 384, Current Best: 5000, not feasible\n",
      "Current generation: 385, Current Best: 5000, not feasible\n",
      "Current generation: 386, Current Best: 5000, not feasible\n",
      "Current generation: 387, Current Best: 5000, not feasible\n",
      "Current generation: 388, Current Best: 5000, not feasible\n",
      "Current generation: 389, Current Best: 5000, not feasible\n",
      "Current generation: 390, Current Best: 5000, not feasible\n",
      "Current generation: 391, Current Best: 5000, not feasible\n",
      "Current generation: 392, Current Best: 5000, not feasible\n",
      "Current generation: 393, Current Best: 5000, not feasible\n",
      "Current generation: 394, Current Best: 5000, not feasible\n",
      "Current generation: 395, Current Best: 5000, not feasible\n",
      "Current generation: 396, Current Best: 5000, not feasible\n",
      "Current generation: 397, Current Best: 5000, not feasible\n",
      "Current generation: 398, Current Best: 5000, not feasible\n",
      "Current generation: 399, Current Best: 5000, not feasible\n",
      "Current generation: 400, Current Best: 5000, not feasible\n",
      "Current generation: 401, Current Best: 5000, not feasible\n",
      "Current generation: 402, Current Best: 5000, not feasible\n",
      "Current generation: 403, Current Best: 5000, not feasible\n",
      "Current generation: 404, Current Best: 5000, not feasible\n",
      "Current generation: 405, Current Best: 5000, not feasible\n",
      "Current generation: 406, Current Best: 5000, not feasible\n",
      "Current generation: 407, Current Best: 5000, not feasible\n",
      "Current generation: 408, Current Best: 5000, not feasible\n",
      "Current generation: 409, Current Best: 5000, not feasible\n",
      "Current generation: 410, Current Best: 5000, not feasible\n",
      "Current generation: 411, Current Best: 5000, not feasible\n",
      "Current generation: 412, Current Best: 5000, not feasible\n",
      "Current generation: 413, Current Best: 5000, not feasible\n",
      "Current generation: 414, Current Best: 5000, not feasible\n",
      "Current generation: 415, Current Best: 5000, not feasible\n",
      "Current generation: 416, Current Best: 5000, not feasible\n",
      "Current generation: 417, Current Best: 5000, not feasible\n",
      "Current generation: 418, Current Best: 5000, not feasible\n",
      "Current generation: 419, Current Best: 5000, not feasible\n",
      "Current generation: 420, Current Best: 5000, not feasible\n",
      "Current generation: 421, Current Best: 5000, not feasible\n",
      "Current generation: 422, Current Best: 5000, not feasible\n",
      "Current generation: 423, Current Best: 5000, not feasible\n",
      "Current generation: 424, Current Best: 5000, not feasible\n",
      "Current generation: 425, Current Best: 5000, not feasible\n",
      "Current generation: 426, Current Best: 5000, not feasible\n",
      "Current generation: 427, Current Best: 5000, not feasible\n",
      "Current generation: 428, Current Best: 5000, not feasible\n",
      "Current generation: 429, Current Best: 5000, not feasible\n",
      "Current generation: 430, Current Best: 5000, not feasible\n",
      "Current generation: 431, Current Best: 5000, not feasible\n",
      "Current generation: 432, Current Best: 5000, not feasible\n",
      "Current generation: 433, Current Best: 5000, not feasible\n",
      "Current generation: 434, Current Best: 5000, not feasible\n",
      "Current generation: 435, Current Best: 5000, not feasible\n",
      "Current generation: 436, Current Best: 5000, not feasible\n",
      "Current generation: 437, Current Best: 5000, not feasible\n",
      "Current generation: 438, Current Best: 5000, not feasible\n",
      "Current generation: 439, Current Best: 5000, not feasible\n",
      "Current generation: 440, Current Best: 5000, not feasible\n",
      "Current generation: 441, Current Best: 5000, not feasible\n",
      "Current generation: 442, Current Best: 5000, not feasible\n",
      "Current generation: 443, Current Best: 5000, not feasible\n",
      "Current generation: 444, Current Best: 5000, not feasible\n",
      "Current generation: 445, Current Best: 5000, not feasible\n",
      "Current generation: 446, Current Best: 5000, not feasible\n",
      "Current generation: 447, Current Best: 5000, not feasible\n",
      "Current generation: 448, Current Best: 5000, not feasible\n",
      "Current generation: 449, Current Best: 5000, not feasible\n",
      "Current generation: 450, Current Best: 5000, not feasible\n",
      "Current generation: 451, Current Best: 5000, not feasible\n",
      "Current generation: 452, Current Best: 5000, not feasible\n",
      "Current generation: 453, Current Best: 5000, not feasible\n",
      "Current generation: 454, Current Best: 5000, not feasible\n",
      "Current generation: 455, Current Best: 5000, not feasible\n",
      "Current generation: 456, Current Best: 5000, not feasible\n",
      "Current generation: 457, Current Best: 5000, not feasible\n",
      "Current generation: 458, Current Best: 5000, not feasible\n",
      "Current generation: 459, Current Best: 5000, not feasible\n",
      "Current generation: 460, Current Best: 5000, not feasible\n",
      "Current generation: 461, Current Best: 5000, not feasible\n",
      "Current generation: 462, Current Best: 5000, not feasible\n",
      "Current generation: 463, Current Best: 5000, not feasible\n",
      "Current generation: 464, Current Best: 5000, not feasible\n",
      "Current generation: 465, Current Best: 5000, not feasible\n",
      "Current generation: 466, Current Best: 5000, not feasible\n",
      "Current generation: 467, Current Best: 5000, not feasible\n",
      "Current generation: 468, Current Best: 5000, not feasible\n",
      "Current generation: 469, Current Best: 5000, not feasible\n",
      "Current generation: 470, Current Best: 5000, not feasible\n",
      "Current generation: 471, Current Best: 5000, not feasible\n",
      "Current generation: 472, Current Best: 5000, not feasible\n",
      "Current generation: 473, Current Best: 5000, not feasible\n",
      "Current generation: 474, Current Best: 5000, not feasible\n",
      "Current generation: 475, Current Best: 5000, not feasible\n",
      "Current generation: 476, Current Best: 5000, not feasible\n",
      "Current generation: 477, Current Best: 5000, not feasible\n",
      "Current generation: 478, Current Best: 5000, not feasible\n",
      "Current generation: 479, Current Best: 5000, not feasible\n",
      "Current generation: 480, Current Best: 5000, not feasible\n",
      "Current generation: 481, Current Best: 5000, not feasible\n",
      "Current generation: 482, Current Best: 5000, not feasible\n",
      "Current generation: 483, Current Best: 5000, not feasible\n",
      "Current generation: 484, Current Best: 5000, not feasible\n",
      "Current generation: 485, Current Best: 5000, not feasible\n",
      "Current generation: 486, Current Best: 5000, not feasible\n",
      "Current generation: 487, Current Best: 5000, not feasible\n",
      "Current generation: 488, Current Best: 5000, not feasible\n",
      "Current generation: 489, Current Best: 5000, not feasible\n",
      "Current generation: 490, Current Best: 5000, not feasible\n",
      "Current generation: 491, Current Best: 5000, not feasible\n",
      "Current generation: 492, Current Best: 5000, not feasible\n",
      "Current generation: 493, Current Best: 5000, not feasible\n",
      "Current generation: 494, Current Best: 5000, not feasible\n",
      "Current generation: 495, Current Best: 5000, not feasible\n",
      "Current generation: 496, Current Best: 5000, not feasible\n",
      "Current generation: 497, Current Best: 5000, not feasible\n",
      "Current generation: 498, Current Best: 5000, not feasible\n",
      "Current generation: 499, Current Best: 5000, not feasible\n",
      "Current generation: 500, Current Best: 5000, not feasible\n",
      "Current generation: 501, Current Best: 5000, not feasible\n",
      "Current generation: 502, Current Best: 5000, not feasible\n",
      "Current generation: 503, Current Best: 5000, not feasible\n",
      "Current generation: 504, Current Best: 5000, not feasible\n",
      "Current generation: 505, Current Best: 5000, not feasible\n",
      "Current generation: 506, Current Best: 5000, not feasible\n",
      "Current generation: 507, Current Best: 5000, not feasible\n",
      "Current generation: 508, Current Best: 5000, not feasible\n",
      "Current generation: 509, Current Best: 5000, not feasible\n",
      "Current generation: 510, Current Best: 5000, not feasible\n",
      "Current generation: 511, Current Best: 5000, not feasible\n",
      "Current generation: 512, Current Best: 5000, not feasible\n",
      "Current generation: 513, Current Best: 5000, not feasible\n",
      "Current generation: 514, Current Best: 5000, not feasible\n",
      "Current generation: 515, Current Best: 5000, not feasible\n",
      "Current generation: 516, Current Best: 5000, not feasible\n",
      "Current generation: 517, Current Best: 5000, not feasible\n",
      "Current generation: 518, Current Best: 5000, not feasible\n",
      "Current generation: 519, Current Best: 5000, not feasible\n",
      "Current generation: 520, Current Best: 5000, not feasible\n",
      "Current generation: 521, Current Best: 5000, not feasible\n",
      "Current generation: 522, Current Best: 5000, not feasible\n",
      "Current generation: 523, Current Best: 5000, not feasible\n",
      "Current generation: 524, Current Best: 5000, not feasible\n",
      "Current generation: 525, Current Best: 5000, not feasible\n",
      "Current generation: 526, Current Best: 5000, not feasible\n",
      "Current generation: 527, Current Best: 5000, not feasible\n",
      "Current generation: 528, Current Best: 5000, not feasible\n",
      "Current generation: 529, Current Best: 5000, not feasible\n",
      "Current generation: 530, Current Best: 5000, not feasible\n",
      "Current generation: 531, Current Best: 5000, not feasible\n",
      "Current generation: 532, Current Best: 5000, not feasible\n",
      "Current generation: 533, Current Best: 5000, not feasible\n",
      "Current generation: 534, Current Best: 5000, not feasible\n",
      "Current generation: 535, Current Best: 5000, not feasible\n",
      "Current generation: 536, Current Best: 5000, not feasible\n",
      "Current generation: 537, Current Best: 5000, not feasible\n",
      "Current generation: 538, Current Best: 5000, not feasible\n",
      "Current generation: 539, Current Best: 5000, not feasible\n",
      "Current generation: 540, Current Best: 5000, not feasible\n",
      "Current generation: 541, Current Best: 5000, not feasible\n",
      "Current generation: 542, Current Best: 5000, not feasible\n",
      "Current generation: 543, Current Best: 5000, not feasible\n",
      "Current generation: 544, Current Best: 5000, not feasible\n",
      "Current generation: 545, Current Best: 5000, not feasible\n",
      "Current generation: 546, Current Best: 5000, not feasible\n",
      "Current generation: 547, Current Best: 5000, not feasible\n",
      "Current generation: 548, Current Best: 5000, not feasible\n",
      "Current generation: 549, Current Best: 5000, not feasible\n",
      "Current generation: 550, Current Best: 5000, not feasible\n",
      "Current generation: 551, Current Best: 5000, not feasible\n",
      "Current generation: 552, Current Best: 5000, not feasible\n",
      "Current generation: 553, Current Best: 5000, not feasible\n",
      "Current generation: 554, Current Best: 5000, not feasible\n",
      "Current generation: 555, Current Best: 5000, not feasible\n",
      "Current generation: 556, Current Best: 5000, not feasible\n",
      "Current generation: 557, Current Best: 5000, not feasible\n",
      "Current generation: 558, Current Best: 5000, not feasible\n",
      "Current generation: 559, Current Best: 5000, not feasible\n",
      "Current generation: 560, Current Best: 5000, not feasible\n",
      "Current generation: 561, Current Best: 5000, not feasible\n",
      "Current generation: 562, Current Best: 5000, not feasible\n",
      "Current generation: 563, Current Best: 5000, not feasible\n",
      "Current generation: 564, Current Best: 5000, not feasible\n",
      "Current generation: 565, Current Best: 5000, not feasible\n",
      "Current generation: 566, Current Best: 5000, not feasible\n",
      "Current generation: 567, Current Best: 5000, not feasible\n",
      "Current generation: 568, Current Best: 5000, not feasible\n",
      "Current generation: 569, Current Best: 5000, not feasible\n",
      "Current generation: 570, Current Best: 5000, not feasible\n",
      "Current generation: 571, Current Best: 5000, not feasible\n",
      "Current generation: 572, Current Best: 5000, not feasible\n",
      "Current generation: 573, Current Best: 5000, not feasible\n",
      "Current generation: 574, Current Best: 5000, not feasible\n",
      "Current generation: 575, Current Best: 5000, not feasible\n",
      "Current generation: 576, Current Best: 5000, not feasible\n",
      "Current generation: 577, Current Best: 5000, not feasible\n",
      "Current generation: 578, Current Best: 5000, not feasible\n",
      "Current generation: 579, Current Best: 5000, not feasible\n",
      "Current generation: 580, Current Best: 5000, not feasible\n",
      "Current generation: 581, Current Best: 5000, not feasible\n",
      "Current generation: 582, Current Best: 5000, not feasible\n",
      "Current generation: 583, Current Best: 5000, not feasible\n",
      "Current generation: 584, Current Best: 5000, not feasible\n",
      "Current generation: 585, Current Best: 5000, not feasible\n",
      "Current generation: 586, Current Best: 5000, not feasible\n",
      "Current generation: 587, Current Best: 5000, not feasible\n",
      "Current generation: 588, Current Best: 5000, not feasible\n",
      "Current generation: 589, Current Best: 5000, not feasible\n",
      "Current generation: 590, Current Best: 5000, not feasible\n",
      "Current generation: 591, Current Best: 5000, not feasible\n",
      "Current generation: 592, Current Best: 5000, not feasible\n",
      "Current generation: 593, Current Best: 5000, not feasible\n",
      "Current generation: 594, Current Best: 5000, not feasible\n",
      "Current generation: 595, Current Best: 5000, not feasible\n",
      "Current generation: 596, Current Best: 5000, not feasible\n",
      "Current generation: 597, Current Best: 5000, not feasible\n",
      "Current generation: 598, Current Best: 5000, not feasible\n",
      "Current generation: 599, Current Best: 5000, not feasible\n",
      "Current generation: 600, Current Best: 5000, not feasible\n",
      "Current generation: 601, Current Best: 5000, not feasible\n",
      "Current generation: 602, Current Best: 5000, not feasible\n",
      "Current generation: 603, Current Best: 5000, not feasible\n",
      "Current generation: 604, Current Best: 5000, not feasible\n",
      "Current generation: 605, Current Best: 5000, not feasible\n",
      "Current generation: 606, Current Best: 5000, not feasible\n",
      "Current generation: 607, Current Best: 5000, not feasible\n",
      "Current generation: 608, Current Best: 5000, not feasible\n",
      "Current generation: 609, Current Best: 5000, not feasible\n",
      "Current generation: 610, Current Best: 5000, not feasible\n",
      "Current generation: 611, Current Best: 5000, not feasible\n",
      "Current generation: 612, Current Best: 5000, not feasible\n",
      "Current generation: 613, Current Best: 5000, not feasible\n",
      "Current generation: 614, Current Best: 5000, not feasible\n",
      "Current generation: 615, Current Best: 5000, not feasible\n",
      "Current generation: 616, Current Best: 5000, not feasible\n",
      "Current generation: 617, Current Best: 5000, not feasible\n",
      "Current generation: 618, Current Best: 5000, not feasible\n",
      "Current generation: 619, Current Best: 5000, not feasible\n",
      "Current generation: 620, Current Best: 5000, not feasible\n",
      "Current generation: 621, Current Best: 5000, not feasible\n",
      "Current generation: 622, Current Best: 5000, not feasible\n",
      "Current generation: 623, Current Best: 5000, not feasible\n",
      "Current generation: 624, Current Best: 5000, not feasible\n",
      "Current generation: 625, Current Best: 5000, not feasible\n",
      "Current generation: 626, Current Best: 5000, not feasible\n",
      "Current generation: 627, Current Best: 5000, not feasible\n",
      "Current generation: 628, Current Best: 5000, not feasible\n",
      "Current generation: 629, Current Best: 5000, not feasible\n",
      "Current generation: 630, Current Best: 5000, not feasible\n",
      "Current generation: 631, Current Best: 5000, not feasible\n",
      "Current generation: 632, Current Best: 5000, not feasible\n",
      "Current generation: 633, Current Best: 5000, not feasible\n",
      "Current generation: 634, Current Best: 5000, not feasible\n",
      "Current generation: 635, Current Best: 5000, not feasible\n",
      "Current generation: 636, Current Best: 5000, not feasible\n",
      "Current generation: 637, Current Best: 5000, not feasible\n",
      "Current generation: 638, Current Best: 5000, not feasible\n",
      "Current generation: 639, Current Best: 5000, not feasible\n",
      "Current generation: 640, Current Best: 5000, not feasible\n",
      "Current generation: 641, Current Best: 5000, not feasible\n",
      "Current generation: 642, Current Best: 5000, not feasible\n",
      "Current generation: 643, Current Best: 5000, not feasible\n",
      "Current generation: 644, Current Best: 5000, not feasible\n",
      "Current generation: 645, Current Best: 5000, not feasible\n",
      "Current generation: 646, Current Best: 5000, not feasible\n",
      "Current generation: 647, Current Best: 5000, not feasible\n",
      "Current generation: 648, Current Best: 5000, not feasible\n",
      "Current generation: 649, Current Best: 5000, not feasible\n",
      "Current generation: 650, Current Best: 5000, not feasible\n",
      "Current generation: 651, Current Best: 5000, not feasible\n",
      "Current generation: 652, Current Best: 5000, not feasible\n",
      "Current generation: 653, Current Best: 5000, not feasible\n",
      "Current generation: 654, Current Best: 5000, not feasible\n",
      "Current generation: 655, Current Best: 5000, not feasible\n",
      "Current generation: 656, Current Best: 5000, not feasible\n",
      "Current generation: 657, Current Best: 5000, not feasible\n",
      "Current generation: 658, Current Best: 5000, not feasible\n",
      "Current generation: 659, Current Best: 5000, not feasible\n",
      "Current generation: 660, Current Best: 5000, not feasible\n",
      "Current generation: 661, Current Best: 5000, not feasible\n",
      "Current generation: 662, Current Best: 5000, not feasible\n",
      "Current generation: 663, Current Best: 5000, not feasible\n",
      "Current generation: 664, Current Best: 5000, not feasible\n",
      "Current generation: 665, Current Best: 5000, not feasible\n",
      "Current generation: 666, Current Best: 5000, not feasible\n",
      "Current generation: 667, Current Best: 5000, not feasible\n",
      "Current generation: 668, Current Best: 5000, not feasible\n",
      "Current generation: 669, Current Best: 5000, not feasible\n",
      "Current generation: 670, Current Best: 5000, not feasible\n",
      "Current generation: 671, Current Best: 5000, not feasible\n",
      "Current generation: 672, Current Best: 5000, not feasible\n",
      "Current generation: 673, Current Best: 5000, not feasible\n",
      "Current generation: 674, Current Best: 5000, not feasible\n",
      "Current generation: 675, Current Best: 5000, not feasible\n",
      "Current generation: 676, Current Best: 5000, not feasible\n",
      "Current generation: 677, Current Best: 5000, not feasible\n",
      "Current generation: 678, Current Best: 5000, not feasible\n",
      "Current generation: 679, Current Best: 5000, not feasible\n",
      "Current generation: 680, Current Best: 5000, not feasible\n",
      "Current generation: 681, Current Best: 5000, not feasible\n",
      "Current generation: 682, Current Best: 5000, not feasible\n",
      "Current generation: 683, Current Best: 5000, not feasible\n",
      "Current generation: 684, Current Best: 5000, not feasible\n",
      "Current generation: 685, Current Best: 5000, not feasible\n",
      "Current generation: 686, Current Best: 5000, not feasible\n",
      "Current generation: 687, Current Best: 5000, not feasible\n",
      "Current generation: 688, Current Best: 5000, not feasible\n",
      "Current generation: 689, Current Best: 5000, not feasible\n",
      "Current generation: 690, Current Best: 5000, not feasible\n",
      "Current generation: 691, Current Best: 5000, not feasible\n",
      "Current generation: 692, Current Best: 5000, not feasible\n",
      "Current generation: 693, Current Best: 5000, not feasible\n",
      "Current generation: 694, Current Best: 5000, not feasible\n",
      "Current generation: 695, Current Best: 5000, not feasible\n",
      "Current generation: 696, Current Best: 5000, not feasible\n",
      "Current generation: 697, Current Best: 5000, not feasible\n",
      "Current generation: 698, Current Best: 5000, not feasible\n",
      "Current generation: 699, Current Best: 5000, not feasible\n",
      "Current generation: 700, Current Best: 5000, not feasible\n",
      "Current generation: 701, Current Best: 5000, not feasible\n",
      "Current generation: 702, Current Best: 5000, not feasible\n",
      "Current generation: 703, Current Best: 5000, not feasible\n",
      "Current generation: 704, Current Best: 5000, not feasible\n",
      "Current generation: 705, Current Best: 5000, not feasible\n",
      "Current generation: 706, Current Best: 5000, not feasible\n",
      "Current generation: 707, Current Best: 5000, not feasible\n",
      "Current generation: 708, Current Best: 5000, not feasible\n",
      "Current generation: 709, Current Best: 5000, not feasible\n",
      "Current generation: 710, Current Best: 5000, not feasible\n",
      "Current generation: 711, Current Best: 5000, not feasible\n",
      "Current generation: 712, Current Best: 5000, not feasible\n",
      "Current generation: 713, Current Best: 5000, not feasible\n",
      "Current generation: 714, Current Best: 5000, not feasible\n",
      "Current generation: 715, Current Best: 5000, not feasible\n",
      "Current generation: 716, Current Best: 5000, not feasible\n",
      "Current generation: 717, Current Best: 5000, not feasible\n",
      "Current generation: 718, Current Best: 5000, not feasible\n",
      "Current generation: 719, Current Best: 5000, not feasible\n",
      "Current generation: 720, Current Best: 5000, not feasible\n",
      "Current generation: 721, Current Best: 5000, not feasible\n",
      "Current generation: 722, Current Best: 5000, not feasible\n",
      "Current generation: 723, Current Best: 5000, not feasible\n",
      "Current generation: 724, Current Best: 5000, not feasible\n",
      "Current generation: 725, Current Best: 5000, not feasible\n",
      "Current generation: 726, Current Best: 5000, not feasible\n",
      "Current generation: 727, Current Best: 5000, not feasible\n",
      "Current generation: 728, Current Best: 5000, not feasible\n",
      "Current generation: 729, Current Best: 5000, not feasible\n",
      "Current generation: 730, Current Best: 5000, not feasible\n",
      "Current generation: 731, Current Best: 5000, not feasible\n",
      "Current generation: 732, Current Best: 5000, not feasible\n",
      "Current generation: 733, Current Best: 5000, not feasible\n",
      "Current generation: 734, Current Best: 5000, not feasible\n",
      "Current generation: 735, Current Best: 5000, not feasible\n",
      "Current generation: 736, Current Best: 5000, not feasible\n",
      "Current generation: 737, Current Best: 5000, not feasible\n",
      "Current generation: 738, Current Best: 5000, not feasible\n",
      "Current generation: 739, Current Best: 5000, not feasible\n",
      "Current generation: 740, Current Best: 5000, not feasible\n",
      "Current generation: 741, Current Best: 5000, not feasible\n",
      "Current generation: 742, Current Best: 5000, not feasible\n",
      "Current generation: 743, Current Best: 5000, not feasible\n",
      "Current generation: 744, Current Best: 5000, not feasible\n",
      "Current generation: 745, Current Best: 5000, not feasible\n",
      "Current generation: 746, Current Best: 5000, not feasible\n",
      "Current generation: 747, Current Best: 5000, not feasible\n",
      "Current generation: 748, Current Best: 5000, not feasible\n",
      "Current generation: 749, Current Best: 5000, not feasible\n",
      "Current generation: 750, Current Best: 5000, not feasible\n",
      "Current generation: 751, Current Best: 5000, not feasible\n",
      "Current generation: 752, Current Best: 5000, not feasible\n",
      "Current generation: 753, Current Best: 5000, not feasible\n",
      "Current generation: 754, Current Best: 5000, not feasible\n",
      "Current generation: 755, Current Best: 5000, not feasible\n",
      "Current generation: 756, Current Best: 5000, not feasible\n",
      "Current generation: 757, Current Best: 5000, not feasible\n",
      "Current generation: 758, Current Best: 5000, not feasible\n",
      "Current generation: 759, Current Best: 5000, not feasible\n",
      "Current generation: 760, Current Best: 5000, not feasible\n",
      "Current generation: 761, Current Best: 5000, not feasible\n",
      "Current generation: 762, Current Best: 5000, not feasible\n",
      "Current generation: 763, Current Best: 5000, not feasible\n",
      "Current generation: 764, Current Best: 5000, not feasible\n",
      "Current generation: 765, Current Best: 5000, not feasible\n",
      "Current generation: 766, Current Best: 5000, not feasible\n",
      "Current generation: 767, Current Best: 5000, not feasible\n",
      "Current generation: 768, Current Best: 5000, not feasible\n",
      "Current generation: 769, Current Best: 5000, not feasible\n",
      "Current generation: 770, Current Best: 5000, not feasible\n",
      "Current generation: 771, Current Best: 5000, not feasible\n",
      "Current generation: 772, Current Best: 5000, not feasible\n",
      "Current generation: 773, Current Best: 5000, not feasible\n",
      "Current generation: 774, Current Best: 5000, not feasible\n",
      "Current generation: 775, Current Best: 5000, not feasible\n",
      "Current generation: 776, Current Best: 5000, not feasible\n",
      "Current generation: 777, Current Best: 5000, not feasible\n",
      "Current generation: 778, Current Best: 5000, not feasible\n",
      "Current generation: 779, Current Best: 5000, not feasible\n",
      "Current generation: 780, Current Best: 5000, not feasible\n",
      "Current generation: 781, Current Best: 5000, not feasible\n",
      "Current generation: 782, Current Best: 5000, not feasible\n",
      "Current generation: 783, Current Best: 5000, not feasible\n",
      "Current generation: 784, Current Best: 5000, not feasible\n",
      "Current generation: 785, Current Best: 5000, not feasible\n",
      "Current generation: 786, Current Best: 5000, not feasible\n",
      "Current generation: 787, Current Best: 5000, not feasible\n",
      "Current generation: 788, Current Best: 5000, not feasible\n",
      "Current generation: 789, Current Best: 5000, not feasible\n",
      "Current generation: 790, Current Best: 5000, not feasible\n",
      "Current generation: 791, Current Best: 5000, not feasible\n",
      "Current generation: 792, Current Best: 5000, not feasible\n",
      "Current generation: 793, Current Best: 5000, not feasible\n",
      "Current generation: 794, Current Best: 5000, not feasible\n",
      "Current generation: 795, Current Best: 5000, not feasible\n",
      "Current generation: 796, Current Best: 5000, not feasible\n",
      "Current generation: 797, Current Best: 5000, not feasible\n",
      "Current generation: 798, Current Best: 5000, not feasible\n",
      "Current generation: 799, Current Best: 5000, not feasible\n",
      "Current generation: 800, Current Best: 5000, not feasible\n",
      "Current generation: 801, Current Best: 5000, not feasible\n",
      "Current generation: 802, Current Best: 5000, not feasible\n",
      "Current generation: 803, Current Best: 5000, not feasible\n",
      "Current generation: 804, Current Best: 5000, not feasible\n",
      "Current generation: 805, Current Best: 5000, not feasible\n",
      "Current generation: 806, Current Best: 5000, not feasible\n",
      "Current generation: 807, Current Best: 5000, not feasible\n",
      "Current generation: 808, Current Best: 5000, not feasible\n",
      "Current generation: 809, Current Best: 5000, not feasible\n",
      "Current generation: 810, Current Best: 5000, not feasible\n",
      "Current generation: 811, Current Best: 5000, not feasible\n",
      "Current generation: 812, Current Best: 5000, not feasible\n",
      "Current generation: 813, Current Best: 5000, not feasible\n",
      "Current generation: 814, Current Best: 5000, not feasible\n",
      "Current generation: 815, Current Best: 5000, not feasible\n",
      "Current generation: 816, Current Best: 5000, not feasible\n",
      "Current generation: 817, Current Best: 5000, not feasible\n",
      "Current generation: 818, Current Best: 5000, not feasible\n",
      "Current generation: 819, Current Best: 5000, not feasible\n",
      "Current generation: 820, Current Best: 5000, not feasible\n",
      "Current generation: 821, Current Best: 5000, not feasible\n",
      "Current generation: 822, Current Best: 5000, not feasible\n",
      "Current generation: 823, Current Best: 5000, not feasible\n",
      "Current generation: 824, Current Best: 5000, not feasible\n",
      "Current generation: 825, Current Best: 5000, not feasible\n",
      "Current generation: 826, Current Best: 5000, not feasible\n",
      "Current generation: 827, Current Best: 5000, not feasible\n",
      "Current generation: 828, Current Best: 5000, not feasible\n",
      "Current generation: 829, Current Best: 5000, not feasible\n",
      "Current generation: 830, Current Best: 5000, not feasible\n",
      "Current generation: 831, Current Best: 5000, not feasible\n",
      "Current generation: 832, Current Best: 5000, not feasible\n",
      "Current generation: 833, Current Best: 5000, not feasible\n",
      "Current generation: 834, Current Best: 5000, not feasible\n",
      "Current generation: 835, Current Best: 5000, not feasible\n",
      "Current generation: 836, Current Best: 5000, not feasible\n",
      "Current generation: 837, Current Best: 5000, not feasible\n",
      "Current generation: 838, Current Best: 5000, not feasible\n",
      "Current generation: 839, Current Best: 5000, not feasible\n",
      "Current generation: 840, Current Best: 5000, not feasible\n",
      "Current generation: 841, Current Best: 5000, not feasible\n",
      "Current generation: 842, Current Best: 5000, not feasible\n",
      "Current generation: 843, Current Best: 5000, not feasible\n",
      "Current generation: 844, Current Best: 5000, not feasible\n",
      "Current generation: 845, Current Best: 5000, not feasible\n",
      "Current generation: 846, Current Best: 5000, not feasible\n",
      "Current generation: 847, Current Best: 5000, not feasible\n",
      "Current generation: 848, Current Best: 5000, not feasible\n",
      "Current generation: 849, Current Best: 5000, not feasible\n",
      "Current generation: 850, Current Best: 5000, not feasible\n",
      "Current generation: 851, Current Best: 5000, not feasible\n",
      "Current generation: 852, Current Best: 5000, not feasible\n",
      "Current generation: 853, Current Best: 5000, not feasible\n",
      "Current generation: 854, Current Best: 5000, not feasible\n",
      "Current generation: 855, Current Best: 5000, not feasible\n",
      "Current generation: 856, Current Best: 5000, not feasible\n",
      "Current generation: 857, Current Best: 5000, not feasible\n",
      "Current generation: 858, Current Best: 5000, not feasible\n",
      "Current generation: 859, Current Best: 5000, not feasible\n",
      "Current generation: 860, Current Best: 5000, not feasible\n",
      "Current generation: 861, Current Best: 5000, not feasible\n",
      "Current generation: 862, Current Best: 5000, not feasible\n",
      "Current generation: 863, Current Best: 5000, not feasible\n",
      "Current generation: 864, Current Best: 5000, not feasible\n",
      "Current generation: 865, Current Best: 5000, not feasible\n",
      "Current generation: 866, Current Best: 5000, not feasible\n",
      "Current generation: 867, Current Best: 5000, not feasible\n",
      "Current generation: 868, Current Best: 5000, not feasible\n",
      "Current generation: 869, Current Best: 5000, not feasible\n",
      "Current generation: 870, Current Best: 5000, not feasible\n",
      "Current generation: 871, Current Best: 5000, not feasible\n",
      "Current generation: 872, Current Best: 5000, not feasible\n",
      "Current generation: 873, Current Best: 5000, not feasible\n",
      "Current generation: 874, Current Best: 5000, not feasible\n",
      "Current generation: 875, Current Best: 5000, not feasible\n",
      "Current generation: 876, Current Best: 5000, not feasible\n",
      "Current generation: 877, Current Best: 5000, not feasible\n",
      "Current generation: 878, Current Best: 5000, not feasible\n",
      "Current generation: 879, Current Best: 5000, not feasible\n",
      "Current generation: 880, Current Best: 5000, not feasible\n",
      "Current generation: 881, Current Best: 5000, not feasible\n",
      "Current generation: 882, Current Best: 5000, not feasible\n",
      "Current generation: 883, Current Best: 5000, not feasible\n",
      "Current generation: 884, Current Best: 5000, not feasible\n",
      "Current generation: 885, Current Best: 5000, not feasible\n",
      "Current generation: 886, Current Best: 5000, not feasible\n",
      "Current generation: 887, Current Best: 5000, not feasible\n",
      "Current generation: 888, Current Best: 5000, not feasible\n",
      "Current generation: 889, Current Best: 5000, not feasible\n",
      "Current generation: 890, Current Best: 5000, not feasible\n",
      "Current generation: 891, Current Best: 5000, not feasible\n",
      "Current generation: 892, Current Best: 5000, not feasible\n",
      "Current generation: 893, Current Best: 5000, not feasible\n",
      "Current generation: 894, Current Best: 5000, not feasible\n",
      "Current generation: 895, Current Best: 5000, not feasible\n",
      "Current generation: 896, Current Best: 5000, not feasible\n",
      "Current generation: 897, Current Best: 5000, not feasible\n",
      "Current generation: 898, Current Best: 5000, not feasible\n",
      "Current generation: 899, Current Best: 5000, not feasible\n",
      "Current generation: 900, Current Best: 5000, not feasible\n",
      "Current generation: 901, Current Best: 5000, not feasible\n",
      "Current generation: 902, Current Best: 5000, not feasible\n",
      "Current generation: 903, Current Best: 5000, not feasible\n",
      "Current generation: 904, Current Best: 5000, not feasible\n",
      "Current generation: 905, Current Best: 5000, not feasible\n",
      "Current generation: 906, Current Best: 5000, not feasible\n",
      "Current generation: 907, Current Best: 5000, not feasible\n",
      "Current generation: 908, Current Best: 5000, not feasible\n",
      "Current generation: 909, Current Best: 5000, not feasible\n",
      "Current generation: 910, Current Best: 5000, not feasible\n",
      "Current generation: 911, Current Best: 5000, not feasible\n",
      "Current generation: 912, Current Best: 5000, not feasible\n",
      "Current generation: 913, Current Best: 5000, not feasible\n",
      "Current generation: 914, Current Best: 5000, not feasible\n",
      "Current generation: 915, Current Best: 5000, not feasible\n",
      "Current generation: 916, Current Best: 5000, not feasible\n",
      "Current generation: 917, Current Best: 5000, not feasible\n",
      "Current generation: 918, Current Best: 5000, not feasible\n",
      "Current generation: 919, Current Best: 5000, not feasible\n",
      "Current generation: 920, Current Best: 5000, not feasible\n",
      "Current generation: 921, Current Best: 5000, not feasible\n",
      "Current generation: 922, Current Best: 5000, not feasible\n",
      "Current generation: 923, Current Best: 5000, not feasible\n",
      "Current generation: 924, Current Best: 5000, not feasible\n",
      "Current generation: 925, Current Best: 5000, not feasible\n",
      "Current generation: 926, Current Best: 5000, not feasible\n",
      "Current generation: 927, Current Best: 5000, not feasible\n",
      "Current generation: 928, Current Best: 5000, not feasible\n",
      "Current generation: 929, Current Best: 5000, not feasible\n",
      "Current generation: 930, Current Best: 5000, not feasible\n",
      "Current generation: 931, Current Best: 5000, not feasible\n",
      "Current generation: 932, Current Best: 5000, not feasible\n",
      "Current generation: 933, Current Best: 5000, not feasible\n",
      "Current generation: 934, Current Best: 5000, not feasible\n",
      "Current generation: 935, Current Best: 5000, not feasible\n",
      "Current generation: 936, Current Best: 5000, not feasible\n",
      "Current generation: 937, Current Best: 5000, not feasible\n",
      "Current generation: 938, Current Best: 5000, not feasible\n",
      "Current generation: 939, Current Best: 5000, not feasible\n",
      "Current generation: 940, Current Best: 5000, not feasible\n",
      "Current generation: 941, Current Best: 5000, not feasible\n",
      "Current generation: 942, Current Best: 5000, not feasible\n",
      "Current generation: 943, Current Best: 5000, not feasible\n",
      "Current generation: 944, Current Best: 5000, not feasible\n",
      "Current generation: 945, Current Best: 5000, not feasible\n",
      "Current generation: 946, Current Best: 5000, not feasible\n",
      "Current generation: 947, Current Best: 5000, not feasible\n",
      "Current generation: 948, Current Best: 5000, not feasible\n",
      "Current generation: 949, Current Best: 5000, not feasible\n",
      "Current generation: 950, Current Best: 5000, not feasible\n",
      "Current generation: 951, Current Best: 5000, not feasible\n",
      "Current generation: 952, Current Best: 5000, not feasible\n",
      "Current generation: 953, Current Best: 5000, not feasible\n",
      "Current generation: 954, Current Best: 5000, not feasible\n",
      "Current generation: 955, Current Best: 5000, not feasible\n",
      "Current generation: 956, Current Best: 5000, not feasible\n",
      "Current generation: 957, Current Best: 5000, not feasible\n",
      "Current generation: 958, Current Best: 5000, not feasible\n",
      "Current generation: 959, Current Best: 5000, not feasible\n",
      "Current generation: 960, Current Best: 5000, not feasible\n",
      "Current generation: 961, Current Best: 5000, not feasible\n",
      "Current generation: 962, Current Best: 5000, not feasible\n",
      "Current generation: 963, Current Best: 5000, not feasible\n",
      "Current generation: 964, Current Best: 5000, not feasible\n",
      "Current generation: 965, Current Best: 5000, not feasible\n",
      "Current generation: 966, Current Best: 5000, not feasible\n",
      "Current generation: 967, Current Best: 5000, not feasible\n",
      "Current generation: 968, Current Best: 5000, not feasible\n",
      "Current generation: 969, Current Best: 5000, not feasible\n",
      "Current generation: 970, Current Best: 5000, not feasible\n",
      "Current generation: 971, Current Best: 5000, not feasible\n",
      "Current generation: 972, Current Best: 5000, not feasible\n",
      "Current generation: 973, Current Best: 5000, not feasible\n",
      "Current generation: 974, Current Best: 5000, not feasible\n",
      "Current generation: 975, Current Best: 5000, not feasible\n",
      "Current generation: 976, Current Best: 5000, not feasible\n",
      "Current generation: 977, Current Best: 5000, not feasible\n",
      "Current generation: 978, Current Best: 5000, not feasible\n",
      "Current generation: 979, Current Best: 5000, not feasible\n",
      "Current generation: 980, Current Best: 5000, not feasible\n",
      "Current generation: 981, Current Best: 5000, not feasible\n",
      "Current generation: 982, Current Best: 5000, not feasible\n",
      "Current generation: 983, Current Best: 5000, not feasible\n",
      "Current generation: 984, Current Best: 5000, not feasible\n",
      "Current generation: 985, Current Best: 5000, not feasible\n",
      "Current generation: 986, Current Best: 5000, not feasible\n",
      "Current generation: 987, Current Best: 5000, not feasible\n",
      "Current generation: 988, Current Best: 5000, not feasible\n",
      "Current generation: 989, Current Best: 5000, not feasible\n",
      "Current generation: 990, Current Best: 5000, not feasible\n",
      "Current generation: 991, Current Best: 5000, not feasible\n",
      "Current generation: 992, Current Best: 5000, not feasible\n",
      "Current generation: 993, Current Best: 5000, not feasible\n",
      "Current generation: 994, Current Best: 5000, not feasible\n",
      "Current generation: 995, Current Best: 5000, not feasible\n",
      "Current generation: 996, Current Best: 5000, not feasible\n",
      "Current generation: 997, Current Best: 5000, not feasible\n",
      "Current generation: 998, Current Best: 5000, not feasible\n",
      "Current generation: 999, Current Best: 5000, not feasible\n"
     ]
    },
    {
     "data": {
      "application/vnd.plotly.v1+json": {
       "config": {
        "plotlyServerURL": "https://plot.ly"
       },
       "data": [
        {
         "fill": "toself",
         "fillcolor": "rgb(141, 195, 231)",
         "hoverinfo": "name",
         "legendgroup": "rgb(141, 195, 231)",
         "mode": "none",
         "name": "2",
         "type": "scatter",
         "x": [
          19,
          105,
          105,
          19,
          19,
          1077,
          1164,
          1164,
          1077,
          1077,
          2166,
          2213,
          2213,
          2166,
          2166,
          4133,
          4198,
          4198,
          4133,
          4133,
          1375,
          1500,
          1500,
          1375,
          1375,
          1071,
          1196,
          1196,
          1071,
          1071,
          3492,
          3579,
          3579,
          3492,
          3492,
          3484,
          3571,
          3571,
          3484,
          3484,
          692,
          779,
          779,
          692,
          692,
          3026,
          3170,
          3170,
          3026,
          3026,
          2435,
          2558,
          2558,
          2435,
          2435,
          1348,
          1413,
          1413,
          1348,
          1348,
          2045,
          2170,
          2170,
          2045,
          2045,
          2900,
          3045,
          3045,
          2900,
          2900,
          3309,
          3453,
          3453,
          3309,
          3309,
          2595,
          2717,
          2717,
          2595,
          2595,
          306,
          382,
          382,
          306,
          306,
          4230,
          4352,
          4352,
          4230
         ],
         "y": [
          5.8,
          5.8,
          6.2,
          6.2,
          null,
          5.8,
          5.8,
          6.2,
          6.2,
          null,
          5.8,
          5.8,
          6.2,
          6.2,
          null,
          5.8,
          5.8,
          6.2,
          6.2,
          null,
          5.8,
          5.8,
          6.2,
          6.2,
          null,
          5.8,
          5.8,
          6.2,
          6.2,
          null,
          5.8,
          5.8,
          6.2,
          6.2,
          null,
          5.8,
          5.8,
          6.2,
          6.2,
          null,
          5.8,
          5.8,
          6.2,
          6.2,
          null,
          5.8,
          5.8,
          6.2,
          6.2,
          null,
          5.8,
          5.8,
          6.2,
          6.2,
          null,
          5.8,
          5.8,
          6.2,
          6.2,
          null,
          5.8,
          5.8,
          6.2,
          6.2,
          null,
          5.8,
          5.8,
          6.2,
          6.2,
          null,
          5.8,
          5.8,
          6.2,
          6.2,
          null,
          5.8,
          5.8,
          6.2,
          6.2,
          null,
          5.8,
          5.8,
          6.2,
          6.2,
          null,
          5.8,
          5.8,
          6.2,
          6.2
         ]
        },
        {
         "fill": "toself",
         "fillcolor": "rgb(192, 246, 26)",
         "hoverinfo": "name",
         "legendgroup": "rgb(192, 246, 26)",
         "mode": "none",
         "name": "3",
         "type": "scatter",
         "x": [
          972,
          1067,
          1067,
          972,
          972,
          3140,
          3290,
          3290,
          3140,
          3140,
          1820,
          1886,
          1886,
          1820,
          1820,
          2237,
          2387,
          2387,
          2237,
          2237,
          2629,
          2695,
          2695,
          2629,
          2629,
          2577,
          2653,
          2653,
          2577,
          2577,
          715,
          812,
          812,
          715,
          715,
          1625,
          1775,
          1775,
          1625,
          1625,
          3782,
          3869,
          3869,
          3782,
          3782,
          2764,
          2889,
          2889,
          2764,
          2764,
          4575,
          4651,
          4651,
          4575,
          4575,
          3676,
          3801,
          3801,
          3676,
          3676,
          2771,
          2847,
          2847,
          2771,
          2771,
          2750,
          2826,
          2826,
          2750,
          2750,
          2778,
          2854,
          2854,
          2778,
          2778,
          4361,
          4437,
          4437,
          4361,
          4361,
          3060,
          3136,
          3136,
          3060,
          3060,
          4694,
          4874,
          4874,
          4694,
          4694,
          2254,
          2434,
          2434,
          2254,
          2254,
          1116,
          1296,
          1296,
          1116,
          1116,
          3039,
          3253,
          3253,
          3039
         ],
         "y": [
          5.8,
          5.8,
          6.2,
          6.2,
          null,
          5.8,
          5.8,
          6.2,
          6.2,
          null,
          5.8,
          5.8,
          6.2,
          6.2,
          null,
          5.8,
          5.8,
          6.2,
          6.2,
          null,
          4.8,
          4.8,
          5.2,
          5.2,
          null,
          4.8,
          4.8,
          5.2,
          5.2,
          null,
          4.8,
          4.8,
          5.2,
          5.2,
          null,
          4.8,
          4.8,
          5.2,
          5.2,
          null,
          4.8,
          4.8,
          5.2,
          5.2,
          null,
          4.8,
          4.8,
          5.2,
          5.2,
          null,
          4.8,
          4.8,
          5.2,
          5.2,
          null,
          4.8,
          4.8,
          5.2,
          5.2,
          null,
          4.8,
          4.8,
          5.2,
          5.2,
          null,
          4.8,
          4.8,
          5.2,
          5.2,
          null,
          4.8,
          4.8,
          5.2,
          5.2,
          null,
          4.8,
          4.8,
          5.2,
          5.2,
          null,
          4.8,
          4.8,
          5.2,
          5.2,
          null,
          3.8,
          3.8,
          4.2,
          4.2,
          null,
          3.8,
          3.8,
          4.2,
          4.2,
          null,
          3.8,
          3.8,
          4.2,
          4.2,
          null,
          3.8,
          3.8,
          4.2,
          4.2
         ]
        },
        {
         "fill": "toself",
         "fillcolor": "rgb(243, 41, 77)",
         "hoverinfo": "name",
         "legendgroup": "rgb(243, 41, 77)",
         "mode": "none",
         "name": "4",
         "type": "scatter",
         "x": [
          4337,
          4447,
          4447,
          4337,
          4337,
          4054,
          4174,
          4174,
          4054,
          4054,
          1927,
          2037,
          2037,
          1927,
          1927,
          150,
          280,
          280,
          150,
          150,
          4938,
          5048,
          5048,
          4938,
          4938,
          2497,
          2627,
          2627,
          2497,
          2497,
          3414,
          3524,
          3524,
          3414,
          3414,
          2455,
          2605,
          2605,
          2455,
          2455,
          1090,
          1186,
          1186,
          1090,
          1090,
          554,
          704,
          704,
          554,
          554,
          3315,
          3438,
          3438,
          3315,
          3315,
          124,
          247,
          247,
          124,
          124,
          3501,
          3624,
          3624,
          3501,
          3501,
          935,
          1067,
          1067,
          935,
          935,
          920,
          1052,
          1052,
          920,
          920,
          4960,
          5083,
          5083,
          4960,
          4960,
          462,
          585,
          585,
          462,
          462,
          4320,
          4567,
          4567,
          4320
         ],
         "y": [
          3.8,
          3.8,
          4.2,
          4.2,
          null,
          3.8,
          3.8,
          4.2,
          4.2,
          null,
          2.8,
          2.8,
          3.2,
          3.2,
          null,
          2.8,
          2.8,
          3.2,
          3.2,
          null,
          2.8,
          2.8,
          3.2,
          3.2,
          null,
          2.8,
          2.8,
          3.2,
          3.2,
          null,
          2.8,
          2.8,
          3.2,
          3.2,
          null,
          1.8,
          1.8,
          2.2,
          2.2,
          null,
          1.8,
          1.8,
          2.2,
          2.2,
          null,
          1.8,
          1.8,
          2.2,
          2.2,
          null,
          1.8,
          1.8,
          2.2,
          2.2,
          null,
          1.8,
          1.8,
          2.2,
          2.2,
          null,
          1.8,
          1.8,
          2.2,
          2.2,
          null,
          0.8,
          0.8,
          1.2,
          1.2,
          null,
          0.8,
          0.8,
          1.2,
          1.2,
          null,
          -0.2,
          -0.2,
          0.2,
          0.2,
          null,
          -0.2,
          -0.2,
          0.2,
          0.2,
          null,
          -0.2,
          -0.2,
          0.2,
          0.2
         ]
        },
        {
         "fill": "toself",
         "fillcolor": "rgb(39, 93, 129)",
         "hoverinfo": "name",
         "legendgroup": "rgb(39, 93, 129)",
         "mode": "none",
         "name": "0",
         "type": "scatter",
         "x": [
          2925,
          3045,
          3045,
          2925,
          2925,
          4709,
          4806,
          4806,
          4709,
          4709,
          3899,
          3955,
          3955,
          3899,
          3899,
          1488,
          1544,
          1544,
          1488,
          1488,
          4809,
          4905,
          4905,
          4809,
          4809,
          462,
          592,
          592,
          462,
          462,
          2911,
          3031,
          3031,
          2911,
          2911,
          1541,
          1628,
          1628,
          1541,
          1541,
          267,
          377,
          377,
          267,
          267,
          4162,
          4277,
          4277,
          4162,
          4162,
          4878,
          4998,
          4998,
          4878,
          4878,
          2471,
          2624,
          2624,
          2471,
          2471,
          4397,
          4459,
          4459,
          4397,
          4397,
          3766,
          3956,
          3956,
          3766,
          3766,
          3863,
          3988,
          3988,
          3863,
          3863,
          497,
          617,
          617,
          497,
          497,
          2521,
          2641,
          2641,
          2521,
          2521,
          4344,
          4494,
          4494,
          4344,
          4344,
          2762,
          2824,
          2824,
          2762,
          2762,
          520,
          650,
          650,
          520,
          520,
          1222,
          1342,
          1342,
          1222,
          1222,
          3501,
          3611,
          3611,
          3501,
          3501,
          4713,
          4833,
          4833,
          4713
         ],
         "y": [
          5.8,
          5.8,
          6.2,
          6.2,
          null,
          5.8,
          5.8,
          6.2,
          6.2,
          null,
          5.8,
          5.8,
          6.2,
          6.2,
          null,
          5.8,
          5.8,
          6.2,
          6.2,
          null,
          5.8,
          5.8,
          6.2,
          6.2,
          null,
          5.8,
          5.8,
          6.2,
          6.2,
          null,
          5.8,
          5.8,
          6.2,
          6.2,
          null,
          5.8,
          5.8,
          6.2,
          6.2,
          null,
          5.8,
          5.8,
          6.2,
          6.2,
          null,
          5.8,
          5.8,
          6.2,
          6.2,
          null,
          5.8,
          5.8,
          6.2,
          6.2,
          null,
          5.8,
          5.8,
          6.2,
          6.2,
          null,
          5.8,
          5.8,
          6.2,
          6.2,
          null,
          5.8,
          5.8,
          6.2,
          6.2,
          null,
          5.8,
          5.8,
          6.2,
          6.2,
          null,
          5.8,
          5.8,
          6.2,
          6.2,
          null,
          5.8,
          5.8,
          6.2,
          6.2,
          null,
          5.8,
          5.8,
          6.2,
          6.2,
          null,
          5.8,
          5.8,
          6.2,
          6.2,
          null,
          5.8,
          5.8,
          6.2,
          6.2,
          null,
          5.8,
          5.8,
          6.2,
          6.2,
          null,
          5.8,
          5.8,
          6.2,
          6.2,
          null,
          5.8,
          5.8,
          6.2,
          6.2
         ]
        },
        {
         "fill": "toself",
         "fillcolor": "rgb(90, 144, 180)",
         "hoverinfo": "name",
         "legendgroup": "rgb(90, 144, 180)",
         "mode": "none",
         "name": "1",
         "type": "scatter",
         "x": [
          2447,
          2612,
          2612,
          2447,
          2447,
          4504,
          4664,
          4664,
          4504,
          4504,
          2007,
          2152,
          2152,
          2007,
          2007,
          1430,
          1517,
          1517,
          1430,
          1430,
          1367,
          1512,
          1512,
          1367,
          1367,
          519,
          664,
          664,
          519,
          519,
          2739,
          2865,
          2865,
          2739,
          2739,
          2515,
          2625,
          2625,
          2515,
          2515,
          2720,
          2840,
          2840,
          2720,
          2720,
          855,
          980,
          980,
          855,
          855,
          146,
          266,
          266,
          146,
          146,
          2976,
          3186,
          3186,
          2976,
          2976,
          1329,
          1474,
          1474,
          1329,
          1329,
          2058,
          2184,
          2184,
          2058,
          2058,
          3370,
          3458,
          3458,
          3370,
          3370,
          3120,
          3235,
          3235,
          3120,
          3120,
          4001,
          4097,
          4097,
          4001,
          4001,
          3416,
          3531,
          3531,
          3416,
          3416,
          3049,
          3164,
          3164,
          3049,
          3049,
          1861,
          1971,
          1971,
          1861,
          1861,
          4842,
          4942,
          4942,
          4842,
          4842,
          3035,
          3189,
          3189,
          3035,
          3035,
          3196,
          3351,
          3351,
          3196,
          3196,
          4857,
          4977,
          4977,
          4857,
          4857,
          4035,
          4145,
          4145,
          4035,
          4035,
          2976,
          3141,
          3141,
          2976,
          2976,
          2463,
          2641,
          2641,
          2463
         ],
         "y": [
          5.8,
          5.8,
          6.2,
          6.2,
          null,
          5.8,
          5.8,
          6.2,
          6.2,
          null,
          5.8,
          5.8,
          6.2,
          6.2,
          null,
          5.8,
          5.8,
          6.2,
          6.2,
          null,
          5.8,
          5.8,
          6.2,
          6.2,
          null,
          5.8,
          5.8,
          6.2,
          6.2,
          null,
          5.8,
          5.8,
          6.2,
          6.2,
          null,
          5.8,
          5.8,
          6.2,
          6.2,
          null,
          5.8,
          5.8,
          6.2,
          6.2,
          null,
          5.8,
          5.8,
          6.2,
          6.2,
          null,
          5.8,
          5.8,
          6.2,
          6.2,
          null,
          5.8,
          5.8,
          6.2,
          6.2,
          null,
          5.8,
          5.8,
          6.2,
          6.2,
          null,
          5.8,
          5.8,
          6.2,
          6.2,
          null,
          5.8,
          5.8,
          6.2,
          6.2,
          null,
          5.8,
          5.8,
          6.2,
          6.2,
          null,
          5.8,
          5.8,
          6.2,
          6.2,
          null,
          5.8,
          5.8,
          6.2,
          6.2,
          null,
          5.8,
          5.8,
          6.2,
          6.2,
          null,
          5.8,
          5.8,
          6.2,
          6.2,
          null,
          5.8,
          5.8,
          6.2,
          6.2,
          null,
          5.8,
          5.8,
          6.2,
          6.2,
          null,
          5.8,
          5.8,
          6.2,
          6.2,
          null,
          5.8,
          5.8,
          6.2,
          6.2,
          null,
          5.8,
          5.8,
          6.2,
          6.2,
          null,
          5.8,
          5.8,
          6.2,
          6.2,
          null,
          5.8,
          5.8,
          6.2,
          6.2
         ]
        },
        {
         "legendgroup": "rgb(141, 195, 231)",
         "marker": {
          "color": "rgb(141, 195, 231)",
          "opacity": 0,
          "size": 1
         },
         "mode": "markers",
         "name": "",
         "showlegend": false,
         "text": [
          null,
          null,
          null,
          null,
          null,
          null,
          null,
          null,
          null,
          null,
          null,
          null,
          null,
          null,
          null,
          null,
          null,
          null,
          null,
          null,
          null,
          null,
          null,
          null,
          null,
          null,
          null,
          null,
          null,
          null,
          null,
          null,
          null,
          null,
          null,
          null
         ],
         "type": "scatter",
         "x": [
          19,
          105,
          1077,
          1164,
          2166,
          2213,
          4133,
          4198,
          1375,
          1500,
          1071,
          1196,
          3492,
          3579,
          3484,
          3571,
          692,
          779,
          3026,
          3170,
          2435,
          2558,
          1348,
          1413,
          2045,
          2170,
          2900,
          3045,
          3309,
          3453,
          2595,
          2717,
          306,
          382,
          4230,
          4352
         ],
         "y": [
          6,
          6,
          6,
          6,
          6,
          6,
          6,
          6,
          6,
          6,
          6,
          6,
          6,
          6,
          6,
          6,
          6,
          6,
          6,
          6,
          6,
          6,
          6,
          6,
          6,
          6,
          6,
          6,
          6,
          6,
          6,
          6,
          6,
          6,
          6,
          6
         ]
        },
        {
         "legendgroup": "rgb(192, 246, 26)",
         "marker": {
          "color": "rgb(192, 246, 26)",
          "opacity": 0,
          "size": 1
         },
         "mode": "markers",
         "name": "",
         "showlegend": false,
         "text": [
          null,
          null,
          null,
          null,
          null,
          null,
          null,
          null,
          null,
          null,
          null,
          null,
          null,
          null,
          null,
          null,
          null,
          null,
          null,
          null,
          null,
          null,
          null,
          null,
          null,
          null,
          null,
          null,
          null,
          null,
          null,
          null,
          null,
          null,
          null,
          null,
          null,
          null,
          null,
          null,
          null,
          null
         ],
         "type": "scatter",
         "x": [
          972,
          1067,
          3140,
          3290,
          1820,
          1886,
          2237,
          2387,
          2629,
          2695,
          2577,
          2653,
          715,
          812,
          1625,
          1775,
          3782,
          3869,
          2764,
          2889,
          4575,
          4651,
          3676,
          3801,
          2771,
          2847,
          2750,
          2826,
          2778,
          2854,
          4361,
          4437,
          3060,
          3136,
          4694,
          4874,
          2254,
          2434,
          1116,
          1296,
          3039,
          3253
         ],
         "y": [
          6,
          6,
          6,
          6,
          6,
          6,
          6,
          6,
          5,
          5,
          5,
          5,
          5,
          5,
          5,
          5,
          5,
          5,
          5,
          5,
          5,
          5,
          5,
          5,
          5,
          5,
          5,
          5,
          5,
          5,
          5,
          5,
          5,
          5,
          4,
          4,
          4,
          4,
          4,
          4,
          4,
          4
         ]
        },
        {
         "legendgroup": "rgb(243, 41, 77)",
         "marker": {
          "color": "rgb(243, 41, 77)",
          "opacity": 0,
          "size": 1
         },
         "mode": "markers",
         "name": "",
         "showlegend": false,
         "text": [
          null,
          null,
          null,
          null,
          null,
          null,
          null,
          null,
          null,
          null,
          null,
          null,
          null,
          null,
          null,
          null,
          null,
          null,
          null,
          null,
          null,
          null,
          null,
          null,
          null,
          null,
          null,
          null,
          null,
          null,
          null,
          null,
          null,
          null,
          null,
          null
         ],
         "type": "scatter",
         "x": [
          4337,
          4447,
          4054,
          4174,
          1927,
          2037,
          150,
          280,
          4938,
          5048,
          2497,
          2627,
          3414,
          3524,
          2455,
          2605,
          1090,
          1186,
          554,
          704,
          3315,
          3438,
          124,
          247,
          3501,
          3624,
          935,
          1067,
          920,
          1052,
          4960,
          5083,
          462,
          585,
          4320,
          4567
         ],
         "y": [
          4,
          4,
          4,
          4,
          3,
          3,
          3,
          3,
          3,
          3,
          3,
          3,
          3,
          3,
          2,
          2,
          2,
          2,
          2,
          2,
          2,
          2,
          2,
          2,
          2,
          2,
          1,
          1,
          1,
          1,
          0,
          0,
          0,
          0,
          0,
          0
         ]
        },
        {
         "legendgroup": "rgb(39, 93, 129)",
         "marker": {
          "color": "rgb(39, 93, 129)",
          "opacity": 0,
          "size": 1
         },
         "mode": "markers",
         "name": "",
         "showlegend": false,
         "text": [
          null,
          null,
          null,
          null,
          null,
          null,
          null,
          null,
          null,
          null,
          null,
          null,
          null,
          null,
          null,
          null,
          null,
          null,
          null,
          null,
          null,
          null,
          null,
          null,
          null,
          null,
          null,
          null,
          null,
          null,
          null,
          null,
          null,
          null,
          null,
          null,
          null,
          null,
          null,
          null,
          null,
          null,
          null,
          null,
          null,
          null
         ],
         "type": "scatter",
         "x": [
          2925,
          3045,
          4709,
          4806,
          3899,
          3955,
          1488,
          1544,
          4809,
          4905,
          462,
          592,
          2911,
          3031,
          1541,
          1628,
          267,
          377,
          4162,
          4277,
          4878,
          4998,
          2471,
          2624,
          4397,
          4459,
          3766,
          3956,
          3863,
          3988,
          497,
          617,
          2521,
          2641,
          4344,
          4494,
          2762,
          2824,
          520,
          650,
          1222,
          1342,
          3501,
          3611,
          4713,
          4833
         ],
         "y": [
          6,
          6,
          6,
          6,
          6,
          6,
          6,
          6,
          6,
          6,
          6,
          6,
          6,
          6,
          6,
          6,
          6,
          6,
          6,
          6,
          6,
          6,
          6,
          6,
          6,
          6,
          6,
          6,
          6,
          6,
          6,
          6,
          6,
          6,
          6,
          6,
          6,
          6,
          6,
          6,
          6,
          6,
          6,
          6,
          6,
          6
         ]
        },
        {
         "legendgroup": "rgb(90, 144, 180)",
         "marker": {
          "color": "rgb(90, 144, 180)",
          "opacity": 0,
          "size": 1
         },
         "mode": "markers",
         "name": "",
         "showlegend": false,
         "text": [
          null,
          null,
          null,
          null,
          null,
          null,
          null,
          null,
          null,
          null,
          null,
          null,
          null,
          null,
          null,
          null,
          null,
          null,
          null,
          null,
          null,
          null,
          null,
          null,
          null,
          null,
          null,
          null,
          null,
          null,
          null,
          null,
          null,
          null,
          null,
          null,
          null,
          null,
          null,
          null,
          null,
          null,
          null,
          null,
          null,
          null,
          null,
          null,
          null,
          null,
          null,
          null,
          null,
          null
         ],
         "type": "scatter",
         "x": [
          2447,
          2612,
          4504,
          4664,
          2007,
          2152,
          1430,
          1517,
          1367,
          1512,
          519,
          664,
          2739,
          2865,
          2515,
          2625,
          2720,
          2840,
          855,
          980,
          146,
          266,
          2976,
          3186,
          1329,
          1474,
          2058,
          2184,
          3370,
          3458,
          3120,
          3235,
          4001,
          4097,
          3416,
          3531,
          3049,
          3164,
          1861,
          1971,
          4842,
          4942,
          3035,
          3189,
          3196,
          3351,
          4857,
          4977,
          4035,
          4145,
          2976,
          3141,
          2463,
          2641
         ],
         "y": [
          6,
          6,
          6,
          6,
          6,
          6,
          6,
          6,
          6,
          6,
          6,
          6,
          6,
          6,
          6,
          6,
          6,
          6,
          6,
          6,
          6,
          6,
          6,
          6,
          6,
          6,
          6,
          6,
          6,
          6,
          6,
          6,
          6,
          6,
          6,
          6,
          6,
          6,
          6,
          6,
          6,
          6,
          6,
          6,
          6,
          6,
          6,
          6,
          6,
          6,
          6,
          6,
          6,
          6
         ]
        }
       ],
       "layout": {
        "height": 600,
        "hovermode": "closest",
        "showlegend": true,
        "template": {
         "data": {
          "bar": [
           {
            "error_x": {
             "color": "#2a3f5f"
            },
            "error_y": {
             "color": "#2a3f5f"
            },
            "marker": {
             "line": {
              "color": "#E5ECF6",
              "width": 0.5
             },
             "pattern": {
              "fillmode": "overlay",
              "size": 10,
              "solidity": 0.2
             }
            },
            "type": "bar"
           }
          ],
          "barpolar": [
           {
            "marker": {
             "line": {
              "color": "#E5ECF6",
              "width": 0.5
             },
             "pattern": {
              "fillmode": "overlay",
              "size": 10,
              "solidity": 0.2
             }
            },
            "type": "barpolar"
           }
          ],
          "carpet": [
           {
            "aaxis": {
             "endlinecolor": "#2a3f5f",
             "gridcolor": "white",
             "linecolor": "white",
             "minorgridcolor": "white",
             "startlinecolor": "#2a3f5f"
            },
            "baxis": {
             "endlinecolor": "#2a3f5f",
             "gridcolor": "white",
             "linecolor": "white",
             "minorgridcolor": "white",
             "startlinecolor": "#2a3f5f"
            },
            "type": "carpet"
           }
          ],
          "choropleth": [
           {
            "colorbar": {
             "outlinewidth": 0,
             "ticks": ""
            },
            "type": "choropleth"
           }
          ],
          "contour": [
           {
            "colorbar": {
             "outlinewidth": 0,
             "ticks": ""
            },
            "colorscale": [
             [
              0,
              "#0d0887"
             ],
             [
              0.1111111111111111,
              "#46039f"
             ],
             [
              0.2222222222222222,
              "#7201a8"
             ],
             [
              0.3333333333333333,
              "#9c179e"
             ],
             [
              0.4444444444444444,
              "#bd3786"
             ],
             [
              0.5555555555555556,
              "#d8576b"
             ],
             [
              0.6666666666666666,
              "#ed7953"
             ],
             [
              0.7777777777777778,
              "#fb9f3a"
             ],
             [
              0.8888888888888888,
              "#fdca26"
             ],
             [
              1,
              "#f0f921"
             ]
            ],
            "type": "contour"
           }
          ],
          "contourcarpet": [
           {
            "colorbar": {
             "outlinewidth": 0,
             "ticks": ""
            },
            "type": "contourcarpet"
           }
          ],
          "heatmap": [
           {
            "colorbar": {
             "outlinewidth": 0,
             "ticks": ""
            },
            "colorscale": [
             [
              0,
              "#0d0887"
             ],
             [
              0.1111111111111111,
              "#46039f"
             ],
             [
              0.2222222222222222,
              "#7201a8"
             ],
             [
              0.3333333333333333,
              "#9c179e"
             ],
             [
              0.4444444444444444,
              "#bd3786"
             ],
             [
              0.5555555555555556,
              "#d8576b"
             ],
             [
              0.6666666666666666,
              "#ed7953"
             ],
             [
              0.7777777777777778,
              "#fb9f3a"
             ],
             [
              0.8888888888888888,
              "#fdca26"
             ],
             [
              1,
              "#f0f921"
             ]
            ],
            "type": "heatmap"
           }
          ],
          "heatmapgl": [
           {
            "colorbar": {
             "outlinewidth": 0,
             "ticks": ""
            },
            "colorscale": [
             [
              0,
              "#0d0887"
             ],
             [
              0.1111111111111111,
              "#46039f"
             ],
             [
              0.2222222222222222,
              "#7201a8"
             ],
             [
              0.3333333333333333,
              "#9c179e"
             ],
             [
              0.4444444444444444,
              "#bd3786"
             ],
             [
              0.5555555555555556,
              "#d8576b"
             ],
             [
              0.6666666666666666,
              "#ed7953"
             ],
             [
              0.7777777777777778,
              "#fb9f3a"
             ],
             [
              0.8888888888888888,
              "#fdca26"
             ],
             [
              1,
              "#f0f921"
             ]
            ],
            "type": "heatmapgl"
           }
          ],
          "histogram": [
           {
            "marker": {
             "pattern": {
              "fillmode": "overlay",
              "size": 10,
              "solidity": 0.2
             }
            },
            "type": "histogram"
           }
          ],
          "histogram2d": [
           {
            "colorbar": {
             "outlinewidth": 0,
             "ticks": ""
            },
            "colorscale": [
             [
              0,
              "#0d0887"
             ],
             [
              0.1111111111111111,
              "#46039f"
             ],
             [
              0.2222222222222222,
              "#7201a8"
             ],
             [
              0.3333333333333333,
              "#9c179e"
             ],
             [
              0.4444444444444444,
              "#bd3786"
             ],
             [
              0.5555555555555556,
              "#d8576b"
             ],
             [
              0.6666666666666666,
              "#ed7953"
             ],
             [
              0.7777777777777778,
              "#fb9f3a"
             ],
             [
              0.8888888888888888,
              "#fdca26"
             ],
             [
              1,
              "#f0f921"
             ]
            ],
            "type": "histogram2d"
           }
          ],
          "histogram2dcontour": [
           {
            "colorbar": {
             "outlinewidth": 0,
             "ticks": ""
            },
            "colorscale": [
             [
              0,
              "#0d0887"
             ],
             [
              0.1111111111111111,
              "#46039f"
             ],
             [
              0.2222222222222222,
              "#7201a8"
             ],
             [
              0.3333333333333333,
              "#9c179e"
             ],
             [
              0.4444444444444444,
              "#bd3786"
             ],
             [
              0.5555555555555556,
              "#d8576b"
             ],
             [
              0.6666666666666666,
              "#ed7953"
             ],
             [
              0.7777777777777778,
              "#fb9f3a"
             ],
             [
              0.8888888888888888,
              "#fdca26"
             ],
             [
              1,
              "#f0f921"
             ]
            ],
            "type": "histogram2dcontour"
           }
          ],
          "mesh3d": [
           {
            "colorbar": {
             "outlinewidth": 0,
             "ticks": ""
            },
            "type": "mesh3d"
           }
          ],
          "parcoords": [
           {
            "line": {
             "colorbar": {
              "outlinewidth": 0,
              "ticks": ""
             }
            },
            "type": "parcoords"
           }
          ],
          "pie": [
           {
            "automargin": true,
            "type": "pie"
           }
          ],
          "scatter": [
           {
            "marker": {
             "colorbar": {
              "outlinewidth": 0,
              "ticks": ""
             }
            },
            "type": "scatter"
           }
          ],
          "scatter3d": [
           {
            "line": {
             "colorbar": {
              "outlinewidth": 0,
              "ticks": ""
             }
            },
            "marker": {
             "colorbar": {
              "outlinewidth": 0,
              "ticks": ""
             }
            },
            "type": "scatter3d"
           }
          ],
          "scattercarpet": [
           {
            "marker": {
             "colorbar": {
              "outlinewidth": 0,
              "ticks": ""
             }
            },
            "type": "scattercarpet"
           }
          ],
          "scattergeo": [
           {
            "marker": {
             "colorbar": {
              "outlinewidth": 0,
              "ticks": ""
             }
            },
            "type": "scattergeo"
           }
          ],
          "scattergl": [
           {
            "marker": {
             "colorbar": {
              "outlinewidth": 0,
              "ticks": ""
             }
            },
            "type": "scattergl"
           }
          ],
          "scattermapbox": [
           {
            "marker": {
             "colorbar": {
              "outlinewidth": 0,
              "ticks": ""
             }
            },
            "type": "scattermapbox"
           }
          ],
          "scatterpolar": [
           {
            "marker": {
             "colorbar": {
              "outlinewidth": 0,
              "ticks": ""
             }
            },
            "type": "scatterpolar"
           }
          ],
          "scatterpolargl": [
           {
            "marker": {
             "colorbar": {
              "outlinewidth": 0,
              "ticks": ""
             }
            },
            "type": "scatterpolargl"
           }
          ],
          "scatterternary": [
           {
            "marker": {
             "colorbar": {
              "outlinewidth": 0,
              "ticks": ""
             }
            },
            "type": "scatterternary"
           }
          ],
          "surface": [
           {
            "colorbar": {
             "outlinewidth": 0,
             "ticks": ""
            },
            "colorscale": [
             [
              0,
              "#0d0887"
             ],
             [
              0.1111111111111111,
              "#46039f"
             ],
             [
              0.2222222222222222,
              "#7201a8"
             ],
             [
              0.3333333333333333,
              "#9c179e"
             ],
             [
              0.4444444444444444,
              "#bd3786"
             ],
             [
              0.5555555555555556,
              "#d8576b"
             ],
             [
              0.6666666666666666,
              "#ed7953"
             ],
             [
              0.7777777777777778,
              "#fb9f3a"
             ],
             [
              0.8888888888888888,
              "#fdca26"
             ],
             [
              1,
              "#f0f921"
             ]
            ],
            "type": "surface"
           }
          ],
          "table": [
           {
            "cells": {
             "fill": {
              "color": "#EBF0F8"
             },
             "line": {
              "color": "white"
             }
            },
            "header": {
             "fill": {
              "color": "#C8D4E3"
             },
             "line": {
              "color": "white"
             }
            },
            "type": "table"
           }
          ]
         },
         "layout": {
          "annotationdefaults": {
           "arrowcolor": "#2a3f5f",
           "arrowhead": 0,
           "arrowwidth": 1
          },
          "autotypenumbers": "strict",
          "coloraxis": {
           "colorbar": {
            "outlinewidth": 0,
            "ticks": ""
           }
          },
          "colorscale": {
           "diverging": [
            [
             0,
             "#8e0152"
            ],
            [
             0.1,
             "#c51b7d"
            ],
            [
             0.2,
             "#de77ae"
            ],
            [
             0.3,
             "#f1b6da"
            ],
            [
             0.4,
             "#fde0ef"
            ],
            [
             0.5,
             "#f7f7f7"
            ],
            [
             0.6,
             "#e6f5d0"
            ],
            [
             0.7,
             "#b8e186"
            ],
            [
             0.8,
             "#7fbc41"
            ],
            [
             0.9,
             "#4d9221"
            ],
            [
             1,
             "#276419"
            ]
           ],
           "sequential": [
            [
             0,
             "#0d0887"
            ],
            [
             0.1111111111111111,
             "#46039f"
            ],
            [
             0.2222222222222222,
             "#7201a8"
            ],
            [
             0.3333333333333333,
             "#9c179e"
            ],
            [
             0.4444444444444444,
             "#bd3786"
            ],
            [
             0.5555555555555556,
             "#d8576b"
            ],
            [
             0.6666666666666666,
             "#ed7953"
            ],
            [
             0.7777777777777778,
             "#fb9f3a"
            ],
            [
             0.8888888888888888,
             "#fdca26"
            ],
            [
             1,
             "#f0f921"
            ]
           ],
           "sequentialminus": [
            [
             0,
             "#0d0887"
            ],
            [
             0.1111111111111111,
             "#46039f"
            ],
            [
             0.2222222222222222,
             "#7201a8"
            ],
            [
             0.3333333333333333,
             "#9c179e"
            ],
            [
             0.4444444444444444,
             "#bd3786"
            ],
            [
             0.5555555555555556,
             "#d8576b"
            ],
            [
             0.6666666666666666,
             "#ed7953"
            ],
            [
             0.7777777777777778,
             "#fb9f3a"
            ],
            [
             0.8888888888888888,
             "#fdca26"
            ],
            [
             1,
             "#f0f921"
            ]
           ]
          },
          "colorway": [
           "#636efa",
           "#EF553B",
           "#00cc96",
           "#ab63fa",
           "#FFA15A",
           "#19d3f3",
           "#FF6692",
           "#B6E880",
           "#FF97FF",
           "#FECB52"
          ],
          "font": {
           "color": "#2a3f5f"
          },
          "geo": {
           "bgcolor": "white",
           "lakecolor": "white",
           "landcolor": "#E5ECF6",
           "showlakes": true,
           "showland": true,
           "subunitcolor": "white"
          },
          "hoverlabel": {
           "align": "left"
          },
          "hovermode": "closest",
          "mapbox": {
           "style": "light"
          },
          "paper_bgcolor": "white",
          "plot_bgcolor": "#E5ECF6",
          "polar": {
           "angularaxis": {
            "gridcolor": "white",
            "linecolor": "white",
            "ticks": ""
           },
           "bgcolor": "#E5ECF6",
           "radialaxis": {
            "gridcolor": "white",
            "linecolor": "white",
            "ticks": ""
           }
          },
          "scene": {
           "xaxis": {
            "backgroundcolor": "#E5ECF6",
            "gridcolor": "white",
            "gridwidth": 2,
            "linecolor": "white",
            "showbackground": true,
            "ticks": "",
            "zerolinecolor": "white"
           },
           "yaxis": {
            "backgroundcolor": "#E5ECF6",
            "gridcolor": "white",
            "gridwidth": 2,
            "linecolor": "white",
            "showbackground": true,
            "ticks": "",
            "zerolinecolor": "white"
           },
           "zaxis": {
            "backgroundcolor": "#E5ECF6",
            "gridcolor": "white",
            "gridwidth": 2,
            "linecolor": "white",
            "showbackground": true,
            "ticks": "",
            "zerolinecolor": "white"
           }
          },
          "shapedefaults": {
           "line": {
            "color": "#2a3f5f"
           }
          },
          "ternary": {
           "aaxis": {
            "gridcolor": "white",
            "linecolor": "white",
            "ticks": ""
           },
           "baxis": {
            "gridcolor": "white",
            "linecolor": "white",
            "ticks": ""
           },
           "bgcolor": "#E5ECF6",
           "caxis": {
            "gridcolor": "white",
            "linecolor": "white",
            "ticks": ""
           }
          },
          "title": {
           "x": 0.05
          },
          "xaxis": {
           "automargin": true,
           "gridcolor": "white",
           "linecolor": "white",
           "ticks": "",
           "title": {
            "standoff": 15
           },
           "zerolinecolor": "white",
           "zerolinewidth": 2
          },
          "yaxis": {
           "automargin": true,
           "gridcolor": "white",
           "linecolor": "white",
           "ticks": "",
           "title": {
            "standoff": 15
           },
           "zerolinecolor": "white",
           "zerolinewidth": 2
          }
         }
        },
        "title": {
         "text": "Gantt Chart"
        },
        "xaxis": {
         "rangeselector": {
          "buttons": [
           {
            "count": 7,
            "label": "1w",
            "step": "day",
            "stepmode": "backward"
           },
           {
            "count": 1,
            "label": "1m",
            "step": "month",
            "stepmode": "backward"
           },
           {
            "count": 6,
            "label": "6m",
            "step": "month",
            "stepmode": "backward"
           },
           {
            "count": 1,
            "label": "YTD",
            "step": "year",
            "stepmode": "todate"
           },
           {
            "count": 1,
            "label": "1y",
            "step": "year",
            "stepmode": "backward"
           },
           {
            "step": "all"
           }
          ]
         },
         "showgrid": false,
         "type": "linear",
         "zeroline": false
        },
        "yaxis": {
         "autorange": false,
         "range": [
          -1,
          8
         ],
         "showgrid": false,
         "ticktext": [
          "w1",
          "w2",
          "w7",
          "w4",
          "w5",
          "w3",
          "w6"
         ],
         "tickvals": [
          0,
          1,
          2,
          3,
          4,
          5,
          6
         ],
         "zeroline": false
        }
       }
      }
     },
     "metadata": {},
     "output_type": "display_data"
    },
    {
     "data": {
      "image/png": "[encoded data removed]",
      "text/plain": [
       "<Figure size 640x480 with 1 Axes>"
      ]
     },
     "metadata": {},
     "output_type": "display_data"
    }
   ],
   "source": [
    "max_generations = 1000\n",
    "population_size = 50\n",
    "offspring_amount = 100\n",
    "\n",
    "optimizer = BaseGA(env)\n",
    "optimizer.set_minimize()\n",
    "optimizer.configure('makespan', 'twopointcrossover', 'roulettewheel', 'randomize')\n",
    "last_time_slot = 5000\n",
    "# set all delivery dates to last time slot\n",
    "for order in orders:\n",
    "    order[1] = last_time_slot\n",
    "result, best_fitness_history, average_fitness_history, best_generation_history, feasible_gen = optimizer.optimize(orders, max_generations, earliest_time_slot, last_time_slot, population_size, offspring_amount, verbose=True, randomize_until_feasible=True)\n",
    "workstation_assignments = reformat_result(result, orders, env)\n",
    "visualize(workstation_assignments, best_fitness_history, average_fitness_history, best_generation_history, feasible_gen)"
   ]
  },
  {
   "cell_type": "code",
   "execution_count": 7,
   "metadata": {},
   "outputs": [
    {
     "name": "stdout",
     "output_type": "stream",
     "text": [
      "Current generation: 0, Current Best: 20000, not feasible\n",
      "Current generation: 1, Current Best: 20000, not feasible\n",
      "Current generation: 2, Current Best: 20000, not feasible\n",
      "Current generation: 3, Current Best: 20000, not feasible\n",
      "Current generation: 4, Current Best: 20000, not feasible\n",
      "Current generation: 5, Current Best: 20000, not feasible\n",
      "Current generation: 6, Current Best: 20000, not feasible\n",
      "Current generation: 7, Current Best: 20000, not feasible\n",
      "Current generation: 8, Current Best: 20000, not feasible\n",
      "Current generation: 9, Current Best: 20000, not feasible\n",
      "Current generation: 10, Current Best: 20000, not feasible\n",
      "Current generation: 11, Current Best: 20000, not feasible\n",
      "Current generation: 12, Current Best: 20000, not feasible\n",
      "Current generation: 13, Current Best: 20000, not feasible\n",
      "Current generation: 14, Current Best: 20000, not feasible\n",
      "Current generation: 15, Current Best: 20000, not feasible\n",
      "Current generation: 16, Current Best: 20000, not feasible\n",
      "Current generation: 17, Current Best: 20000, not feasible\n",
      "Current generation: 18, Current Best: 20000, not feasible\n",
      "Current generation: 19, Current Best: 20000, not feasible\n",
      "Current generation: 20, Current Best: 20000, not feasible\n",
      "Current generation: 21, Current Best: 20000, not feasible\n",
      "Current generation: 22, Current Best: 20000, not feasible\n",
      "Current generation: 23, Current Best: 20000, not feasible\n",
      "Current generation: 24, Current Best: 20000, not feasible\n",
      "Current generation: 25, Current Best: 20000, not feasible\n",
      "Current generation: 26, Current Best: 20000, not feasible\n",
      "Current generation: 27, Current Best: 20000, not feasible\n",
      "Current generation: 28, Current Best: 20000, not feasible\n",
      "Current generation: 29, Current Best: 20000, not feasible\n",
      "Current generation: 30, Current Best: 20000, not feasible\n",
      "Current generation: 31, Current Best: 20000, not feasible\n",
      "Current generation: 32, Current Best: 20000, not feasible\n",
      "Current generation: 33, Current Best: 20000, not feasible\n",
      "Current generation: 34, Current Best: 20000, not feasible\n",
      "Current generation: 35, Current Best: 20000, not feasible\n",
      "Current generation: 36, Current Best: 20000, not feasible\n",
      "Current generation: 37, Current Best: 20000, not feasible\n",
      "Current generation: 38, Current Best: 20000, not feasible\n",
      "Current generation: 39, Current Best: 20000, not feasible\n",
      "Current generation: 40, Current Best: 20000, not feasible\n",
      "Current generation: 41, Current Best: 20000, not feasible\n",
      "Current generation: 42, Current Best: 20000, not feasible\n",
      "Current generation: 43, Current Best: 20000, not feasible\n",
      "Current generation: 44, Current Best: 20000, not feasible\n",
      "Current generation: 45, Current Best: 20000, not feasible\n",
      "Current generation: 46, Current Best: 20000, not feasible\n",
      "Current generation: 47, Current Best: 20000, not feasible\n",
      "Current generation: 48, Current Best: 20000, not feasible\n",
      "Current generation: 49, Current Best: 20000, not feasible\n",
      "Current generation: 50, Current Best: 20000, not feasible\n",
      "Current generation: 51, Current Best: 20000, not feasible\n",
      "Current generation: 52, Current Best: 20000, not feasible\n",
      "Current generation: 53, Current Best: 20000, not feasible\n",
      "Current generation: 54, Current Best: 20000, not feasible\n",
      "Current generation: 55, Current Best: 20000, not feasible\n",
      "Current generation: 56, Current Best: 20000, not feasible\n",
      "Current generation: 57, Current Best: 20000, not feasible\n",
      "Current generation: 58, Current Best: 20000, not feasible\n",
      "Current generation: 59, Current Best: 20000, not feasible\n",
      "Current generation: 60, Current Best: 20000, not feasible\n",
      "Current generation: 61, Current Best: 20000, not feasible\n",
      "Current generation: 62, Current Best: 20000, not feasible\n",
      "Current generation: 63, Current Best: 20000, not feasible\n",
      "Current generation: 64, Current Best: 20000, not feasible\n",
      "Current generation: 65, Current Best: 20000, not feasible\n",
      "Current generation: 66, Current Best: 20000, not feasible\n",
      "Current generation: 67, Current Best: 20000, not feasible\n",
      "Current generation: 68, Current Best: 20000, not feasible\n",
      "Current generation: 69, Current Best: 20000, not feasible\n",
      "Current generation: 70, Current Best: 20000, not feasible\n",
      "Current generation: 71, Current Best: 20000, not feasible\n",
      "Current generation: 72, Current Best: 20000, not feasible\n",
      "Current generation: 73, Current Best: 20000, not feasible\n",
      "Current generation: 74, Current Best: 20000, not feasible\n",
      "Current generation: 75, Current Best: 20000, not feasible\n",
      "Current generation: 76, Current Best: 20000, not feasible\n",
      "Current generation: 77, Current Best: 20000, not feasible\n",
      "Current generation: 78, Current Best: 20000, not feasible\n",
      "Current generation: 79, Current Best: 20000, not feasible\n",
      "Current generation: 80, Current Best: 20000, not feasible\n",
      "Current generation: 81, Current Best: 20000, not feasible\n",
      "Current generation: 82, Current Best: 20000, not feasible\n",
      "Current generation: 83, Current Best: 20000, not feasible\n",
      "Current generation: 84, Current Best: 20000, not feasible\n",
      "Current generation: 85, Current Best: 20000, not feasible\n",
      "Current generation: 86, Current Best: 20000, not feasible\n",
      "Current generation: 87, Current Best: 20000, not feasible\n",
      "Current generation: 88, Current Best: 20000, not feasible\n",
      "Current generation: 89, Current Best: 20000, not feasible\n",
      "Current generation: 90, Current Best: 20000, not feasible\n",
      "Current generation: 91, Current Best: 20000, not feasible\n",
      "Current generation: 92, Current Best: 20000, not feasible\n",
      "Current generation: 93, Current Best: 20000, not feasible\n",
      "Current generation: 94, Current Best: 20000, not feasible\n",
      "Current generation: 95, Current Best: 20000, not feasible\n",
      "Current generation: 96, Current Best: 20000, not feasible\n",
      "Current generation: 97, Current Best: 20000, not feasible\n",
      "Current generation: 98, Current Best: 20000, not feasible\n",
      "Current generation: 99, Current Best: 20000, not feasible\n"
     ]
    },
    {
     "data": {
      "application/vnd.plotly.v1+json": {
       "config": {
        "plotlyServerURL": "https://plot.ly"
       },
       "data": [
        {
         "fill": "toself",
         "fillcolor": "rgb(142, 25, 145)",
         "hoverinfo": "name",
         "legendgroup": "rgb(142, 25, 145)",
         "mode": "none",
         "name": "2",
         "type": "scatter",
         "x": [
          19122,
          19209,
          19209,
          19122,
          19122,
          14587,
          14672,
          14672,
          14587,
          14587,
          18851,
          18961,
          18961,
          18851,
          18851,
          4729,
          4785,
          4785,
          4729,
          4729,
          14980,
          15103,
          15103,
          14980,
          14980,
          7273,
          7383,
          7383,
          7273,
          7273,
          4891,
          4967,
          4967,
          4891,
          4891,
          2969,
          3094,
          3094,
          2969,
          2969,
          19783,
          19859,
          19859,
          19783,
          19783,
          19843,
          19988,
          19988,
          19843,
          19843,
          8942,
          9052,
          9052,
          8942,
          8942,
          4577,
          4641,
          4641,
          4577,
          4577,
          5998,
          6085,
          6085,
          5998,
          5998,
          15576,
          15699,
          15699,
          15576,
          15576,
          3410,
          3532,
          3532,
          3410,
          3410,
          720,
          784,
          784,
          720,
          720,
          14178,
          14303,
          14303,
          14178,
          14178,
          12237,
          12313,
          12313,
          12237
         ],
         "y": [
          4.8,
          4.8,
          5.2,
          5.2,
          null,
          4.8,
          4.8,
          5.2,
          5.2,
          null,
          4.8,
          4.8,
          5.2,
          5.2,
          null,
          4.8,
          4.8,
          5.2,
          5.2,
          null,
          4.8,
          4.8,
          5.2,
          5.2,
          null,
          4.8,
          4.8,
          5.2,
          5.2,
          null,
          4.8,
          4.8,
          5.2,
          5.2,
          null,
          4.8,
          4.8,
          5.2,
          5.2,
          null,
          4.8,
          4.8,
          5.2,
          5.2,
          null,
          4.8,
          4.8,
          5.2,
          5.2,
          null,
          4.8,
          4.8,
          5.2,
          5.2,
          null,
          4.8,
          4.8,
          5.2,
          5.2,
          null,
          4.8,
          4.8,
          5.2,
          5.2,
          null,
          4.8,
          4.8,
          5.2,
          5.2,
          null,
          4.8,
          4.8,
          5.2,
          5.2,
          null,
          4.8,
          4.8,
          5.2,
          5.2,
          null,
          4.8,
          4.8,
          5.2,
          5.2,
          null,
          4.8,
          4.8,
          5.2,
          5.2
         ]
        },
        {
         "fill": "toself",
         "fillcolor": "rgb(193, 76, 196)",
         "hoverinfo": "name",
         "legendgroup": "rgb(193, 76, 196)",
         "mode": "none",
         "name": "3",
         "type": "scatter",
         "x": [
          10803,
          10898,
          10898,
          10803,
          10803,
          14241,
          14334,
          14334,
          14241,
          14241,
          1084,
          1179,
          1179,
          1084,
          1084,
          12049,
          12133,
          12133,
          12049,
          12049,
          1550,
          1643,
          1643,
          1550,
          1550,
          1,
          94,
          94,
          1,
          1,
          13381,
          13476,
          13476,
          13381,
          13381,
          3431,
          3486,
          3486,
          3431,
          3431,
          442,
          567,
          567,
          442,
          442,
          9806,
          9882,
          9882,
          9806,
          9806,
          2642,
          2741,
          2741,
          2642,
          2642,
          2432,
          2531,
          2531,
          2432,
          2432,
          1197,
          1375,
          1375,
          1197,
          1197,
          8066,
          8163,
          8163,
          8066,
          8066,
          14684,
          14760,
          14760,
          14684,
          14684,
          1155,
          1280,
          1280,
          1155,
          1155,
          16794,
          16870,
          16870,
          16794,
          16794,
          15427,
          15514,
          15514,
          15427,
          15427,
          14043,
          14098,
          14098,
          14043,
          14043,
          12004,
          12218,
          12218,
          12004,
          12004,
          5451,
          5631,
          5631,
          5451
         ],
         "y": [
          4.8,
          4.8,
          5.2,
          5.2,
          null,
          4.8,
          4.8,
          5.2,
          5.2,
          null,
          4.8,
          4.8,
          5.2,
          5.2,
          null,
          4.8,
          4.8,
          5.2,
          5.2,
          null,
          4.8,
          4.8,
          5.2,
          5.2,
          null,
          4.8,
          4.8,
          5.2,
          5.2,
          null,
          4.8,
          4.8,
          5.2,
          5.2,
          null,
          3.8,
          3.8,
          4.2,
          4.2,
          null,
          3.8,
          3.8,
          4.2,
          4.2,
          null,
          3.8,
          3.8,
          4.2,
          4.2,
          null,
          3.8,
          3.8,
          4.2,
          4.2,
          null,
          3.8,
          3.8,
          4.2,
          4.2,
          null,
          3.8,
          3.8,
          4.2,
          4.2,
          null,
          3.8,
          3.8,
          4.2,
          4.2,
          null,
          3.8,
          3.8,
          4.2,
          4.2,
          null,
          3.8,
          3.8,
          4.2,
          4.2,
          null,
          3.8,
          3.8,
          4.2,
          4.2,
          null,
          3.8,
          3.8,
          4.2,
          4.2,
          null,
          3.8,
          3.8,
          4.2,
          4.2,
          null,
          2.8,
          2.8,
          3.2,
          3.2,
          null,
          2.8,
          2.8,
          3.2,
          3.2
         ]
        },
        {
         "fill": "toself",
         "fillcolor": "rgb(244, 127, 247)",
         "hoverinfo": "name",
         "legendgroup": "rgb(244, 127, 247)",
         "mode": "none",
         "name": "4",
         "type": "scatter",
         "x": [
          6161,
          6271,
          6271,
          6161,
          6161,
          16110,
          16310,
          16310,
          16110,
          16110,
          11570,
          11770,
          11770,
          11570,
          11570,
          10693,
          10813,
          10813,
          10693,
          10693,
          2769,
          2899,
          2899,
          2769,
          2769,
          17884,
          18024,
          18024,
          17884,
          17884,
          12004,
          12134,
          12134,
          12004,
          12004,
          17376,
          17516,
          17516,
          17376,
          17376,
          10881,
          11021,
          11021,
          10881,
          10881,
          9183,
          9293,
          9293,
          9183,
          9183,
          11148,
          11258,
          11258,
          11148,
          11148,
          7087,
          7217,
          7217,
          7087,
          7087,
          6381,
          6491,
          6491,
          6381,
          6381,
          1616,
          1712,
          1712,
          1616,
          1616,
          17053,
          17149,
          17149,
          17053,
          17053,
          18717,
          18940,
          18940,
          18717,
          18717,
          7267,
          7399,
          7399,
          7267,
          7267,
          4199,
          4422,
          4422,
          4199
         ],
         "y": [
          2.8,
          2.8,
          3.2,
          3.2,
          null,
          2.8,
          2.8,
          3.2,
          3.2,
          null,
          2.8,
          2.8,
          3.2,
          3.2,
          null,
          2.8,
          2.8,
          3.2,
          3.2,
          null,
          1.8,
          1.8,
          2.2,
          2.2,
          null,
          1.8,
          1.8,
          2.2,
          2.2,
          null,
          1.8,
          1.8,
          2.2,
          2.2,
          null,
          1.8,
          1.8,
          2.2,
          2.2,
          null,
          1.8,
          1.8,
          2.2,
          2.2,
          null,
          1.8,
          1.8,
          2.2,
          2.2,
          null,
          1.8,
          1.8,
          2.2,
          2.2,
          null,
          1.8,
          1.8,
          2.2,
          2.2,
          null,
          1.8,
          1.8,
          2.2,
          2.2,
          null,
          0.8,
          0.8,
          1.2,
          1.2,
          null,
          0.8,
          0.8,
          1.2,
          1.2,
          null,
          -0.2,
          -0.2,
          0.2,
          0.2,
          null,
          -0.2,
          -0.2,
          0.2,
          0.2,
          null,
          -0.2,
          -0.2,
          0.2,
          0.2
         ]
        },
        {
         "fill": "toself",
         "fillcolor": "rgb(40, 179, 43)",
         "hoverinfo": "name",
         "legendgroup": "rgb(40, 179, 43)",
         "mode": "none",
         "name": "0",
         "type": "scatter",
         "x": [
          9033,
          9156,
          9156,
          9033,
          9033,
          6984,
          7046,
          7046,
          6984,
          6984,
          17641,
          17771,
          17771,
          17641,
          17641,
          51,
          176,
          176,
          51,
          51,
          3316,
          3372,
          3372,
          3316,
          3316,
          7236,
          7389,
          7389,
          7236,
          7236,
          19130,
          19226,
          19226,
          19130,
          19130,
          199,
          329,
          329,
          199,
          199,
          14984,
          15169,
          15169,
          14984,
          14984,
          3560,
          3680,
          3680,
          3560,
          3560,
          16128,
          16238,
          16238,
          16128,
          16128,
          1127,
          1312,
          1312,
          1127,
          1127,
          1513,
          1643,
          1643,
          1513,
          1513,
          12807,
          12869,
          12869,
          12807,
          12807,
          5283,
          5433,
          5433,
          5283,
          5283,
          11912,
          12032,
          12032,
          11912,
          11912,
          8807,
          8894,
          8894,
          8807,
          8807,
          14809,
          14962,
          14962,
          14809,
          14809,
          19890,
          20020,
          20020,
          19890,
          19890,
          12834,
          12954,
          12954,
          12834,
          12834,
          9713,
          9836,
          9836,
          9713,
          9713,
          2954,
          3064,
          3064,
          2954,
          2954,
          15685,
          15875,
          15875,
          15685
         ],
         "y": [
          4.8,
          4.8,
          5.2,
          5.2,
          null,
          4.8,
          4.8,
          5.2,
          5.2,
          null,
          4.8,
          4.8,
          5.2,
          5.2,
          null,
          4.8,
          4.8,
          5.2,
          5.2,
          null,
          4.8,
          4.8,
          5.2,
          5.2,
          null,
          4.8,
          4.8,
          5.2,
          5.2,
          null,
          4.8,
          4.8,
          5.2,
          5.2,
          null,
          4.8,
          4.8,
          5.2,
          5.2,
          null,
          4.8,
          4.8,
          5.2,
          5.2,
          null,
          4.8,
          4.8,
          5.2,
          5.2,
          null,
          4.8,
          4.8,
          5.2,
          5.2,
          null,
          4.8,
          4.8,
          5.2,
          5.2,
          null,
          4.8,
          4.8,
          5.2,
          5.2,
          null,
          4.8,
          4.8,
          5.2,
          5.2,
          null,
          4.8,
          4.8,
          5.2,
          5.2,
          null,
          4.8,
          4.8,
          5.2,
          5.2,
          null,
          4.8,
          4.8,
          5.2,
          5.2,
          null,
          4.8,
          4.8,
          5.2,
          5.2,
          null,
          4.8,
          4.8,
          5.2,
          5.2,
          null,
          4.8,
          4.8,
          5.2,
          5.2,
          null,
          4.8,
          4.8,
          5.2,
          5.2,
          null,
          4.8,
          4.8,
          5.2,
          5.2,
          null,
          4.8,
          4.8,
          5.2,
          5.2
         ]
        },
        {
         "fill": "toself",
         "fillcolor": "rgb(91, 230, 94)",
         "hoverinfo": "name",
         "legendgroup": "rgb(91, 230, 94)",
         "mode": "none",
         "name": "1",
         "type": "scatter",
         "x": [
          562,
          707,
          707,
          562,
          562,
          8514,
          8624,
          8624,
          8514,
          8514,
          15814,
          15919,
          15919,
          15814,
          15814,
          9932,
          10027,
          10027,
          9932,
          9932,
          2043,
          2163,
          2163,
          2043,
          2043,
          11686,
          11806,
          11806,
          11686,
          11686,
          3903,
          4008,
          4008,
          3903,
          3903,
          6947,
          7092,
          7092,
          6947,
          6947,
          17583,
          17670,
          17670,
          17583,
          17583,
          10059,
          10189,
          10189,
          10059,
          10059,
          12238,
          12333,
          12333,
          12238,
          12238,
          19636,
          19736,
          19736,
          19636,
          19636,
          1590,
          1720,
          1720,
          1590,
          1590,
          18718,
          18896,
          18896,
          18718,
          18718,
          12824,
          12989,
          12989,
          12824,
          12824,
          12322,
          12437,
          12437,
          12322,
          12322,
          19679,
          19766,
          19766,
          19679,
          19679,
          1304,
          1414,
          1414,
          1304,
          1304,
          17771,
          17925,
          17925,
          17771,
          17771,
          1608,
          1753,
          1753,
          1608,
          1608,
          2901,
          3058,
          3058,
          2901,
          2901,
          13045,
          13140,
          13140,
          13045,
          13045,
          10155,
          10300,
          10300,
          10155,
          10155,
          680,
          790,
          790,
          680,
          680,
          16443,
          16558,
          16558,
          16443,
          16443,
          13105,
          13250,
          13250,
          13105,
          13105,
          13663,
          13820,
          13820,
          13663
         ],
         "y": [
          4.8,
          4.8,
          5.2,
          5.2,
          null,
          4.8,
          4.8,
          5.2,
          5.2,
          null,
          4.8,
          4.8,
          5.2,
          5.2,
          null,
          4.8,
          4.8,
          5.2,
          5.2,
          null,
          4.8,
          4.8,
          5.2,
          5.2,
          null,
          4.8,
          4.8,
          5.2,
          5.2,
          null,
          4.8,
          4.8,
          5.2,
          5.2,
          null,
          4.8,
          4.8,
          5.2,
          5.2,
          null,
          4.8,
          4.8,
          5.2,
          5.2,
          null,
          4.8,
          4.8,
          5.2,
          5.2,
          null,
          4.8,
          4.8,
          5.2,
          5.2,
          null,
          4.8,
          4.8,
          5.2,
          5.2,
          null,
          4.8,
          4.8,
          5.2,
          5.2,
          null,
          4.8,
          4.8,
          5.2,
          5.2,
          null,
          4.8,
          4.8,
          5.2,
          5.2,
          null,
          4.8,
          4.8,
          5.2,
          5.2,
          null,
          4.8,
          4.8,
          5.2,
          5.2,
          null,
          4.8,
          4.8,
          5.2,
          5.2,
          null,
          4.8,
          4.8,
          5.2,
          5.2,
          null,
          4.8,
          4.8,
          5.2,
          5.2,
          null,
          4.8,
          4.8,
          5.2,
          5.2,
          null,
          4.8,
          4.8,
          5.2,
          5.2,
          null,
          4.8,
          4.8,
          5.2,
          5.2,
          null,
          4.8,
          4.8,
          5.2,
          5.2,
          null,
          4.8,
          4.8,
          5.2,
          5.2,
          null,
          4.8,
          4.8,
          5.2,
          5.2,
          null,
          4.8,
          4.8,
          5.2,
          5.2
         ]
        },
        {
         "legendgroup": "rgb(142, 25, 145)",
         "marker": {
          "color": "rgb(142, 25, 145)",
          "opacity": 0,
          "size": 1
         },
         "mode": "markers",
         "name": "",
         "showlegend": false,
         "text": [
          null,
          null,
          null,
          null,
          null,
          null,
          null,
          null,
          null,
          null,
          null,
          null,
          null,
          null,
          null,
          null,
          null,
          null,
          null,
          null,
          null,
          null,
          null,
          null,
          null,
          null,
          null,
          null,
          null,
          null,
          null,
          null,
          null,
          null,
          null,
          null
         ],
         "type": "scatter",
         "x": [
          19122,
          19209,
          14587,
          14672,
          18851,
          18961,
          4729,
          4785,
          14980,
          15103,
          7273,
          7383,
          4891,
          4967,
          2969,
          3094,
          19783,
          19859,
          19843,
          19988,
          8942,
          9052,
          4577,
          4641,
          5998,
          6085,
          15576,
          15699,
          3410,
          3532,
          720,
          784,
          14178,
          14303,
          12237,
          12313
         ],
         "y": [
          5,
          5,
          5,
          5,
          5,
          5,
          5,
          5,
          5,
          5,
          5,
          5,
          5,
          5,
          5,
          5,
          5,
          5,
          5,
          5,
          5,
          5,
          5,
          5,
          5,
          5,
          5,
          5,
          5,
          5,
          5,
          5,
          5,
          5,
          5,
          5
         ]
        },
        {
         "legendgroup": "rgb(193, 76, 196)",
         "marker": {
          "color": "rgb(193, 76, 196)",
          "opacity": 0,
          "size": 1
         },
         "mode": "markers",
         "name": "",
         "showlegend": false,
         "text": [
          null,
          null,
          null,
          null,
          null,
          null,
          null,
          null,
          null,
          null,
          null,
          null,
          null,
          null,
          null,
          null,
          null,
          null,
          null,
          null,
          null,
          null,
          null,
          null,
          null,
          null,
          null,
          null,
          null,
          null,
          null,
          null,
          null,
          null,
          null,
          null,
          null,
          null,
          null,
          null,
          null,
          null
         ],
         "type": "scatter",
         "x": [
          10803,
          10898,
          14241,
          14334,
          1084,
          1179,
          12049,
          12133,
          1550,
          1643,
          1,
          94,
          13381,
          13476,
          3431,
          3486,
          442,
          567,
          9806,
          9882,
          2642,
          2741,
          2432,
          2531,
          1197,
          1375,
          8066,
          8163,
          14684,
          14760,
          1155,
          1280,
          16794,
          16870,
          15427,
          15514,
          14043,
          14098,
          12004,
          12218,
          5451,
          5631
         ],
         "y": [
          5,
          5,
          5,
          5,
          5,
          5,
          5,
          5,
          5,
          5,
          5,
          5,
          5,
          5,
          4,
          4,
          4,
          4,
          4,
          4,
          4,
          4,
          4,
          4,
          4,
          4,
          4,
          4,
          4,
          4,
          4,
          4,
          4,
          4,
          4,
          4,
          4,
          4,
          3,
          3,
          3,
          3
         ]
        },
        {
         "legendgroup": "rgb(244, 127, 247)",
         "marker": {
          "color": "rgb(244, 127, 247)",
          "opacity": 0,
          "size": 1
         },
         "mode": "markers",
         "name": "",
         "showlegend": false,
         "text": [
          null,
          null,
          null,
          null,
          null,
          null,
          null,
          null,
          null,
          null,
          null,
          null,
          null,
          null,
          null,
          null,
          null,
          null,
          null,
          null,
          null,
          null,
          null,
          null,
          null,
          null,
          null,
          null,
          null,
          null,
          null,
          null,
          null,
          null,
          null,
          null
         ],
         "type": "scatter",
         "x": [
          6161,
          6271,
          16110,
          16310,
          11570,
          11770,
          10693,
          10813,
          2769,
          2899,
          17884,
          18024,
          12004,
          12134,
          17376,
          17516,
          10881,
          11021,
          9183,
          9293,
          11148,
          11258,
          7087,
          7217,
          6381,
          6491,
          1616,
          1712,
          17053,
          17149,
          18717,
          18940,
          7267,
          7399,
          4199,
          4422
         ],
         "y": [
          3,
          3,
          3,
          3,
          3,
          3,
          3,
          3,
          2,
          2,
          2,
          2,
          2,
          2,
          2,
          2,
          2,
          2,
          2,
          2,
          2,
          2,
          2,
          2,
          2,
          2,
          1,
          1,
          1,
          1,
          0,
          0,
          0,
          0,
          0,
          0
         ]
        },
        {
         "legendgroup": "rgb(40, 179, 43)",
         "marker": {
          "color": "rgb(40, 179, 43)",
          "opacity": 0,
          "size": 1
         },
         "mode": "markers",
         "name": "",
         "showlegend": false,
         "text": [
          null,
          null,
          null,
          null,
          null,
          null,
          null,
          null,
          null,
          null,
          null,
          null,
          null,
          null,
          null,
          null,
          null,
          null,
          null,
          null,
          null,
          null,
          null,
          null,
          null,
          null,
          null,
          null,
          null,
          null,
          null,
          null,
          null,
          null,
          null,
          null,
          null,
          null,
          null,
          null,
          null,
          null,
          null,
          null,
          null,
          null
         ],
         "type": "scatter",
         "x": [
          9033,
          9156,
          6984,
          7046,
          17641,
          17771,
          51,
          176,
          3316,
          3372,
          7236,
          7389,
          19130,
          19226,
          199,
          329,
          14984,
          15169,
          3560,
          3680,
          16128,
          16238,
          1127,
          1312,
          1513,
          1643,
          12807,
          12869,
          5283,
          5433,
          11912,
          12032,
          8807,
          8894,
          14809,
          14962,
          19890,
          20020,
          12834,
          12954,
          9713,
          9836,
          2954,
          3064,
          15685,
          15875
         ],
         "y": [
          5,
          5,
          5,
          5,
          5,
          5,
          5,
          5,
          5,
          5,
          5,
          5,
          5,
          5,
          5,
          5,
          5,
          5,
          5,
          5,
          5,
          5,
          5,
          5,
          5,
          5,
          5,
          5,
          5,
          5,
          5,
          5,
          5,
          5,
          5,
          5,
          5,
          5,
          5,
          5,
          5,
          5,
          5,
          5,
          5,
          5
         ]
        },
        {
         "legendgroup": "rgb(91, 230, 94)",
         "marker": {
          "color": "rgb(91, 230, 94)",
          "opacity": 0,
          "size": 1
         },
         "mode": "markers",
         "name": "",
         "showlegend": false,
         "text": [
          null,
          null,
          null,
          null,
          null,
          null,
          null,
          null,
          null,
          null,
          null,
          null,
          null,
          null,
          null,
          null,
          null,
          null,
          null,
          null,
          null,
          null,
          null,
          null,
          null,
          null,
          null,
          null,
          null,
          null,
          null,
          null,
          null,
          null,
          null,
          null,
          null,
          null,
          null,
          null,
          null,
          null,
          null,
          null,
          null,
          null,
          null,
          null,
          null,
          null,
          null,
          null,
          null,
          null
         ],
         "type": "scatter",
         "x": [
          562,
          707,
          8514,
          8624,
          15814,
          15919,
          9932,
          10027,
          2043,
          2163,
          11686,
          11806,
          3903,
          4008,
          6947,
          7092,
          17583,
          17670,
          10059,
          10189,
          12238,
          12333,
          19636,
          19736,
          1590,
          1720,
          18718,
          18896,
          12824,
          12989,
          12322,
          12437,
          19679,
          19766,
          1304,
          1414,
          17771,
          17925,
          1608,
          1753,
          2901,
          3058,
          13045,
          13140,
          10155,
          10300,
          680,
          790,
          16443,
          16558,
          13105,
          13250,
          13663,
          13820
         ],
         "y": [
          5,
          5,
          5,
          5,
          5,
          5,
          5,
          5,
          5,
          5,
          5,
          5,
          5,
          5,
          5,
          5,
          5,
          5,
          5,
          5,
          5,
          5,
          5,
          5,
          5,
          5,
          5,
          5,
          5,
          5,
          5,
          5,
          5,
          5,
          5,
          5,
          5,
          5,
          5,
          5,
          5,
          5,
          5,
          5,
          5,
          5,
          5,
          5,
          5,
          5,
          5,
          5,
          5,
          5
         ]
        }
       ],
       "layout": {
        "height": 600,
        "hovermode": "closest",
        "showlegend": true,
        "template": {
         "data": {
          "bar": [
           {
            "error_x": {
             "color": "#2a3f5f"
            },
            "error_y": {
             "color": "#2a3f5f"
            },
            "marker": {
             "line": {
              "color": "#E5ECF6",
              "width": 0.5
             },
             "pattern": {
              "fillmode": "overlay",
              "size": 10,
              "solidity": 0.2
             }
            },
            "type": "bar"
           }
          ],
          "barpolar": [
           {
            "marker": {
             "line": {
              "color": "#E5ECF6",
              "width": 0.5
             },
             "pattern": {
              "fillmode": "overlay",
              "size": 10,
              "solidity": 0.2
             }
            },
            "type": "barpolar"
           }
          ],
          "carpet": [
           {
            "aaxis": {
             "endlinecolor": "#2a3f5f",
             "gridcolor": "white",
             "linecolor": "white",
             "minorgridcolor": "white",
             "startlinecolor": "#2a3f5f"
            },
            "baxis": {
             "endlinecolor": "#2a3f5f",
             "gridcolor": "white",
             "linecolor": "white",
             "minorgridcolor": "white",
             "startlinecolor": "#2a3f5f"
            },
            "type": "carpet"
           }
          ],
          "choropleth": [
           {
            "colorbar": {
             "outlinewidth": 0,
             "ticks": ""
            },
            "type": "choropleth"
           }
          ],
          "contour": [
           {
            "colorbar": {
             "outlinewidth": 0,
             "ticks": ""
            },
            "colorscale": [
             [
              0,
              "#0d0887"
             ],
             [
              0.1111111111111111,
              "#46039f"
             ],
             [
              0.2222222222222222,
              "#7201a8"
             ],
             [
              0.3333333333333333,
              "#9c179e"
             ],
             [
              0.4444444444444444,
              "#bd3786"
             ],
             [
              0.5555555555555556,
              "#d8576b"
             ],
             [
              0.6666666666666666,
              "#ed7953"
             ],
             [
              0.7777777777777778,
              "#fb9f3a"
             ],
             [
              0.8888888888888888,
              "#fdca26"
             ],
             [
              1,
              "#f0f921"
             ]
            ],
            "type": "contour"
           }
          ],
          "contourcarpet": [
           {
            "colorbar": {
             "outlinewidth": 0,
             "ticks": ""
            },
            "type": "contourcarpet"
           }
          ],
          "heatmap": [
           {
            "colorbar": {
             "outlinewidth": 0,
             "ticks": ""
            },
            "colorscale": [
             [
              0,
              "#0d0887"
             ],
             [
              0.1111111111111111,
              "#46039f"
             ],
             [
              0.2222222222222222,
              "#7201a8"
             ],
             [
              0.3333333333333333,
              "#9c179e"
             ],
             [
              0.4444444444444444,
              "#bd3786"
             ],
             [
              0.5555555555555556,
              "#d8576b"
             ],
             [
              0.6666666666666666,
              "#ed7953"
             ],
             [
              0.7777777777777778,
              "#fb9f3a"
             ],
             [
              0.8888888888888888,
              "#fdca26"
             ],
             [
              1,
              "#f0f921"
             ]
            ],
            "type": "heatmap"
           }
          ],
          "heatmapgl": [
           {
            "colorbar": {
             "outlinewidth": 0,
             "ticks": ""
            },
            "colorscale": [
             [
              0,
              "#0d0887"
             ],
             [
              0.1111111111111111,
              "#46039f"
             ],
             [
              0.2222222222222222,
              "#7201a8"
             ],
             [
              0.3333333333333333,
              "#9c179e"
             ],
             [
              0.4444444444444444,
              "#bd3786"
             ],
             [
              0.5555555555555556,
              "#d8576b"
             ],
             [
              0.6666666666666666,
              "#ed7953"
             ],
             [
              0.7777777777777778,
              "#fb9f3a"
             ],
             [
              0.8888888888888888,
              "#fdca26"
             ],
             [
              1,
              "#f0f921"
             ]
            ],
            "type": "heatmapgl"
           }
          ],
          "histogram": [
           {
            "marker": {
             "pattern": {
              "fillmode": "overlay",
              "size": 10,
              "solidity": 0.2
             }
            },
            "type": "histogram"
           }
          ],
          "histogram2d": [
           {
            "colorbar": {
             "outlinewidth": 0,
             "ticks": ""
            },
            "colorscale": [
             [
              0,
              "#0d0887"
             ],
             [
              0.1111111111111111,
              "#46039f"
             ],
             [
              0.2222222222222222,
              "#7201a8"
             ],
             [
              0.3333333333333333,
              "#9c179e"
             ],
             [
              0.4444444444444444,
              "#bd3786"
             ],
             [
              0.5555555555555556,
              "#d8576b"
             ],
             [
              0.6666666666666666,
              "#ed7953"
             ],
             [
              0.7777777777777778,
              "#fb9f3a"
             ],
             [
              0.8888888888888888,
              "#fdca26"
             ],
             [
              1,
              "#f0f921"
             ]
            ],
            "type": "histogram2d"
           }
          ],
          "histogram2dcontour": [
           {
            "colorbar": {
             "outlinewidth": 0,
             "ticks": ""
            },
            "colorscale": [
             [
              0,
              "#0d0887"
             ],
             [
              0.1111111111111111,
              "#46039f"
             ],
             [
              0.2222222222222222,
              "#7201a8"
             ],
             [
              0.3333333333333333,
              "#9c179e"
             ],
             [
              0.4444444444444444,
              "#bd3786"
             ],
             [
              0.5555555555555556,
              "#d8576b"
             ],
             [
              0.6666666666666666,
              "#ed7953"
             ],
             [
              0.7777777777777778,
              "#fb9f3a"
             ],
             [
              0.8888888888888888,
              "#fdca26"
             ],
             [
              1,
              "#f0f921"
             ]
            ],
            "type": "histogram2dcontour"
           }
          ],
          "mesh3d": [
           {
            "colorbar": {
             "outlinewidth": 0,
             "ticks": ""
            },
            "type": "mesh3d"
           }
          ],
          "parcoords": [
           {
            "line": {
             "colorbar": {
              "outlinewidth": 0,
              "ticks": ""
             }
            },
            "type": "parcoords"
           }
          ],
          "pie": [
           {
            "automargin": true,
            "type": "pie"
           }
          ],
          "scatter": [
           {
            "marker": {
             "colorbar": {
              "outlinewidth": 0,
              "ticks": ""
             }
            },
            "type": "scatter"
           }
          ],
          "scatter3d": [
           {
            "line": {
             "colorbar": {
              "outlinewidth": 0,
              "ticks": ""
             }
            },
            "marker": {
             "colorbar": {
              "outlinewidth": 0,
              "ticks": ""
             }
            },
            "type": "scatter3d"
           }
          ],
          "scattercarpet": [
           {
            "marker": {
             "colorbar": {
              "outlinewidth": 0,
              "ticks": ""
             }
            },
            "type": "scattercarpet"
           }
          ],
          "scattergeo": [
           {
            "marker": {
             "colorbar": {
              "outlinewidth": 0,
              "ticks": ""
             }
            },
            "type": "scattergeo"
           }
          ],
          "scattergl": [
           {
            "marker": {
             "colorbar": {
              "outlinewidth": 0,
              "ticks": ""
             }
            },
            "type": "scattergl"
           }
          ],
          "scattermapbox": [
           {
            "marker": {
             "colorbar": {
              "outlinewidth": 0,
              "ticks": ""
             }
            },
            "type": "scattermapbox"
           }
          ],
          "scatterpolar": [
           {
            "marker": {
             "colorbar": {
              "outlinewidth": 0,
              "ticks": ""
             }
            },
            "type": "scatterpolar"
           }
          ],
          "scatterpolargl": [
           {
            "marker": {
             "colorbar": {
              "outlinewidth": 0,
              "ticks": ""
             }
            },
            "type": "scatterpolargl"
           }
          ],
          "scatterternary": [
           {
            "marker": {
             "colorbar": {
              "outlinewidth": 0,
              "ticks": ""
             }
            },
            "type": "scatterternary"
           }
          ],
          "surface": [
           {
            "colorbar": {
             "outlinewidth": 0,
             "ticks": ""
            },
            "colorscale": [
             [
              0,
              "#0d0887"
             ],
             [
              0.1111111111111111,
              "#46039f"
             ],
             [
              0.2222222222222222,
              "#7201a8"
             ],
             [
              0.3333333333333333,
              "#9c179e"
             ],
             [
              0.4444444444444444,
              "#bd3786"
             ],
             [
              0.5555555555555556,
              "#d8576b"
             ],
             [
              0.6666666666666666,
              "#ed7953"
             ],
             [
              0.7777777777777778,
              "#fb9f3a"
             ],
             [
              0.8888888888888888,
              "#fdca26"
             ],
             [
              1,
              "#f0f921"
             ]
            ],
            "type": "surface"
           }
          ],
          "table": [
           {
            "cells": {
             "fill": {
              "color": "#EBF0F8"
             },
             "line": {
              "color": "white"
             }
            },
            "header": {
             "fill": {
              "color": "#C8D4E3"
             },
             "line": {
              "color": "white"
             }
            },
            "type": "table"
           }
          ]
         },
         "layout": {
          "annotationdefaults": {
           "arrowcolor": "#2a3f5f",
           "arrowhead": 0,
           "arrowwidth": 1
          },
          "autotypenumbers": "strict",
          "coloraxis": {
           "colorbar": {
            "outlinewidth": 0,
            "ticks": ""
           }
          },
          "colorscale": {
           "diverging": [
            [
             0,
             "#8e0152"
            ],
            [
             0.1,
             "#c51b7d"
            ],
            [
             0.2,
             "#de77ae"
            ],
            [
             0.3,
             "#f1b6da"
            ],
            [
             0.4,
             "#fde0ef"
            ],
            [
             0.5,
             "#f7f7f7"
            ],
            [
             0.6,
             "#e6f5d0"
            ],
            [
             0.7,
             "#b8e186"
            ],
            [
             0.8,
             "#7fbc41"
            ],
            [
             0.9,
             "#4d9221"
            ],
            [
             1,
             "#276419"
            ]
           ],
           "sequential": [
            [
             0,
             "#0d0887"
            ],
            [
             0.1111111111111111,
             "#46039f"
            ],
            [
             0.2222222222222222,
             "#7201a8"
            ],
            [
             0.3333333333333333,
             "#9c179e"
            ],
            [
             0.4444444444444444,
             "#bd3786"
            ],
            [
             0.5555555555555556,
             "#d8576b"
            ],
            [
             0.6666666666666666,
             "#ed7953"
            ],
            [
             0.7777777777777778,
             "#fb9f3a"
            ],
            [
             0.8888888888888888,
             "#fdca26"
            ],
            [
             1,
             "#f0f921"
            ]
           ],
           "sequentialminus": [
            [
             0,
             "#0d0887"
            ],
            [
             0.1111111111111111,
             "#46039f"
            ],
            [
             0.2222222222222222,
             "#7201a8"
            ],
            [
             0.3333333333333333,
             "#9c179e"
            ],
            [
             0.4444444444444444,
             "#bd3786"
            ],
            [
             0.5555555555555556,
             "#d8576b"
            ],
            [
             0.6666666666666666,
             "#ed7953"
            ],
            [
             0.7777777777777778,
             "#fb9f3a"
            ],
            [
             0.8888888888888888,
             "#fdca26"
            ],
            [
             1,
             "#f0f921"
            ]
           ]
          },
          "colorway": [
           "#636efa",
           "#EF553B",
           "#00cc96",
           "#ab63fa",
           "#FFA15A",
           "#19d3f3",
           "#FF6692",
           "#B6E880",
           "#FF97FF",
           "#FECB52"
          ],
          "font": {
           "color": "#2a3f5f"
          },
          "geo": {
           "bgcolor": "white",
           "lakecolor": "white",
           "landcolor": "#E5ECF6",
           "showlakes": true,
           "showland": true,
           "subunitcolor": "white"
          },
          "hoverlabel": {
           "align": "left"
          },
          "hovermode": "closest",
          "mapbox": {
           "style": "light"
          },
          "paper_bgcolor": "white",
          "plot_bgcolor": "#E5ECF6",
          "polar": {
           "angularaxis": {
            "gridcolor": "white",
            "linecolor": "white",
            "ticks": ""
           },
           "bgcolor": "#E5ECF6",
           "radialaxis": {
            "gridcolor": "white",
            "linecolor": "white",
            "ticks": ""
           }
          },
          "scene": {
           "xaxis": {
            "backgroundcolor": "#E5ECF6",
            "gridcolor": "white",
            "gridwidth": 2,
            "linecolor": "white",
            "showbackground": true,
            "ticks": "",
            "zerolinecolor": "white"
           },
           "yaxis": {
            "backgroundcolor": "#E5ECF6",
            "gridcolor": "white",
            "gridwidth": 2,
            "linecolor": "white",
            "showbackground": true,
            "ticks": "",
            "zerolinecolor": "white"
           },
           "zaxis": {
            "backgroundcolor": "#E5ECF6",
            "gridcolor": "white",
            "gridwidth": 2,
            "linecolor": "white",
            "showbackground": true,
            "ticks": "",
            "zerolinecolor": "white"
           }
          },
          "shapedefaults": {
           "line": {
            "color": "#2a3f5f"
           }
          },
          "ternary": {
           "aaxis": {
            "gridcolor": "white",
            "linecolor": "white",
            "ticks": ""
           },
           "baxis": {
            "gridcolor": "white",
            "linecolor": "white",
            "ticks": ""
           },
           "bgcolor": "#E5ECF6",
           "caxis": {
            "gridcolor": "white",
            "linecolor": "white",
            "ticks": ""
           }
          },
          "title": {
           "x": 0.05
          },
          "xaxis": {
           "automargin": true,
           "gridcolor": "white",
           "linecolor": "white",
           "ticks": "",
           "title": {
            "standoff": 15
           },
           "zerolinecolor": "white",
           "zerolinewidth": 2
          },
          "yaxis": {
           "automargin": true,
           "gridcolor": "white",
           "linecolor": "white",
           "ticks": "",
           "title": {
            "standoff": 15
           },
           "zerolinecolor": "white",
           "zerolinewidth": 2
          }
         }
        },
        "title": {
         "text": "Gantt Chart"
        },
        "xaxis": {
         "rangeselector": {
          "buttons": [
           {
            "count": 7,
            "label": "1w",
            "step": "day",
            "stepmode": "backward"
           },
           {
            "count": 1,
            "label": "1m",
            "step": "month",
            "stepmode": "backward"
           },
           {
            "count": 6,
            "label": "6m",
            "step": "month",
            "stepmode": "backward"
           },
           {
            "count": 1,
            "label": "YTD",
            "step": "year",
            "stepmode": "todate"
           },
           {
            "count": 1,
            "label": "1y",
            "step": "year",
            "stepmode": "backward"
           },
           {
            "step": "all"
           }
          ]
         },
         "showgrid": false,
         "type": "linear",
         "zeroline": false
        },
        "yaxis": {
         "autorange": false,
         "range": [
          -1,
          7
         ],
         "showgrid": false,
         "ticktext": [
          "w2",
          "w7",
          "w4",
          "w5",
          "w3",
          "w6"
         ],
         "tickvals": [
          0,
          1,
          2,
          3,
          4,
          5
         ],
         "zeroline": false
        }
       }
      }
     },
     "metadata": {},
     "output_type": "display_data"
    },
    {
     "data": {
      "image/png": "[encoded data removed]",
      "text/plain": [
       "<Figure size 640x480 with 1 Axes>"
      ]
     },
     "metadata": {},
     "output_type": "display_data"
    }
   ],
   "source": [
    "max_generations = 100\n",
    "population_size = 50\n",
    "offspring_amount = 1000\n",
    "earliest_time_slot = 0\n",
    "last_time_slot = 20000\n",
    "\n",
    "optimizer = BaseGA(env)\n",
    "optimizer.set_minimize()\n",
    "optimizer.configure('makespan', 'twopointcrossover', 'roulettewheel', 'randomize')\n",
    "# set all delivery dates to last time slot\n",
    "for order in orders:\n",
    "    order[1] = last_time_slot\n",
    "result, best_fitness_history, average_fitness_history, best_generation_history, feasible_gen = optimizer.optimize(orders, max_generations, earliest_time_slot, last_time_slot, population_size, offspring_amount, verbose=True, randomize_until_feasible=True, randomize_until_feasible_probability=0.5)\n",
    "workstation_assignments = reformat_result(result, orders, env)\n",
    "visualize(workstation_assignments, best_fitness_history, average_fitness_history, best_generation_history, feasible_gen)"
   ]
  },
  {
   "cell_type": "markdown",
   "metadata": {},
   "source": [
    "<h3>Testing pygad</h3>"
   ]
  },
  {
   "cell_type": "code",
   "execution_count": 8,
   "metadata": {},
   "outputs": [],
   "source": [
    "import pygad"
   ]
  },
  {
   "cell_type": "markdown",
   "metadata": {},
   "source": [
    "pygad helper functions"
   ]
  },
  {
   "cell_type": "code",
   "execution_count": 9,
   "metadata": {},
   "outputs": [],
   "source": [
    "def reformat_pygad_result(solution, orders, environment):\n",
    "    j = 0\n",
    "    result = []\n",
    "    for i in range(len(solution)):\n",
    "        if j == 0:\n",
    "            result.append([])\n",
    "        result[len(result)-1].append(solution[i])\n",
    "        j += 1\n",
    "        if j > 2:\n",
    "            j = 0\n",
    "    workstation_assignments = dict()\n",
    "    for i in range(len(result)):\n",
    "        operation = result[i]\n",
    "        if operation[1] not in workstation_assignments:\n",
    "            workstation_assignments[operation[1]] = []\n",
    "        _, order = map_index_to_operation(i, orders, environment)\n",
    "        workstation_assignments[operation[1]].append([order[2], order[0], i, operation[0], operation[2], environment.get_duration(operation[0], operation[1])])\n",
    "    return workstation_assignments"
   ]
  },
  {
   "cell_type": "code",
   "execution_count": 10,
   "metadata": {},
   "outputs": [
    {
     "name": "stdout",
     "output_type": "stream",
     "text": [
      "Parameters of the best solution : [  91    6 3075   26    3  627   92    6 1283  105    6 1425  126    6\n",
      " 2956   14    5 1073   71    6 2567    2    2 2942   87    6 4233  122\n",
      "    6 2274   63    6 1986    9    4 2542  122    6 2969  113    6 3493\n",
      "  122    6 1690   54    6 1102   66    6 2921   85    6 2707  113    6\n",
      " 2830  122    6 1410   76    6 1633   45    6 3367   51    6 3172  121\n",
      "    6 3329   30    3 3094   20    5 3556  110    6 1827   82    6 1312\n",
      "   73    6 3093  115    6 1412   49    6 1041  133    6 1694   24    3\n",
      " 1584   99    6 2521  118    6 2089   74    6 3303   37    6 3535   67\n",
      "    6 4066  107    6 1950   93    6  857   38    6 2339   79    6  575\n",
      "   36    6 2580   16    5 1829   55    6 2300]\n",
      "Fitness value of the best solution = -3735\n"
     ]
    },
    {
     "data": {
      "application/vnd.plotly.v1+json": {
       "config": {
        "plotlyServerURL": "https://plot.ly"
       },
       "data": [
        {
         "fill": "toself",
         "fillcolor": "rgb(149, 32, 58)",
         "hoverinfo": "name",
         "legendgroup": "rgb(149, 32, 58)",
         "mode": "none",
         "name": "0",
         "type": "scatter",
         "x": [
          3075,
          3152,
          3152,
          3075,
          3075,
          1283,
          1348,
          1348,
          1283,
          1283,
          1425,
          1575,
          1575,
          1425,
          1425,
          2956,
          3080,
          3080,
          2956,
          2956,
          2567,
          2731,
          2731,
          2567,
          2567,
          4233,
          4320,
          4320,
          4233,
          4233,
          2274,
          2484,
          2484,
          2274,
          2274,
          1986,
          2073,
          2073,
          1986,
          1986,
          2969,
          3179,
          3179,
          2969,
          2969,
          3493,
          3733,
          3733,
          3493,
          3493,
          1690,
          1900,
          1900,
          1690,
          1690,
          1102,
          1292,
          1292,
          1102,
          1102,
          2921,
          2997,
          2997,
          2921,
          2921,
          2707,
          2772,
          2772,
          2707,
          2707,
          2830,
          3070,
          3070,
          2830,
          2830,
          1410,
          1620,
          1620,
          1410,
          1410,
          1633,
          1769,
          1769,
          1633,
          1633,
          3367,
          3552,
          3552,
          3367,
          3367,
          3172,
          3297,
          3297,
          3172,
          3172,
          627,
          693,
          693,
          627,
          627,
          1073,
          1193,
          1193,
          1073,
          1073,
          2942,
          3074,
          3074,
          2942,
          2942,
          2542,
          2672,
          2672,
          2542
         ],
         "y": [
          3.8,
          3.8,
          4.2,
          4.2,
          null,
          3.8,
          3.8,
          4.2,
          4.2,
          null,
          3.8,
          3.8,
          4.2,
          4.2,
          null,
          3.8,
          3.8,
          4.2,
          4.2,
          null,
          3.8,
          3.8,
          4.2,
          4.2,
          null,
          3.8,
          3.8,
          4.2,
          4.2,
          null,
          3.8,
          3.8,
          4.2,
          4.2,
          null,
          3.8,
          3.8,
          4.2,
          4.2,
          null,
          3.8,
          3.8,
          4.2,
          4.2,
          null,
          3.8,
          3.8,
          4.2,
          4.2,
          null,
          3.8,
          3.8,
          4.2,
          4.2,
          null,
          3.8,
          3.8,
          4.2,
          4.2,
          null,
          3.8,
          3.8,
          4.2,
          4.2,
          null,
          3.8,
          3.8,
          4.2,
          4.2,
          null,
          3.8,
          3.8,
          4.2,
          4.2,
          null,
          3.8,
          3.8,
          4.2,
          4.2,
          null,
          3.8,
          3.8,
          4.2,
          4.2,
          null,
          3.8,
          3.8,
          4.2,
          4.2,
          null,
          3.8,
          3.8,
          4.2,
          4.2,
          null,
          2.8,
          2.8,
          3.2,
          3.2,
          null,
          1.8,
          1.8,
          2.2,
          2.2,
          null,
          0.8,
          0.8,
          1.2,
          1.2,
          null,
          -0.2,
          -0.2,
          0.2,
          0.2
         ]
        },
        {
         "fill": "toself",
         "fillcolor": "rgb(21, 160, 186)",
         "hoverinfo": "name",
         "legendgroup": "rgb(21, 160, 186)",
         "mode": "none",
         "name": "1",
         "type": "scatter",
         "x": [
          3329,
          3434,
          3434,
          3329,
          3329,
          1827,
          1932,
          1932,
          1827,
          1827,
          1312,
          1456,
          1456,
          1312,
          1312,
          3093,
          3248,
          3248,
          3093,
          3093,
          1412,
          1592,
          1592,
          1412,
          1412,
          1041,
          1221,
          1221,
          1041,
          1041,
          1694,
          1814,
          1814,
          1694,
          1694,
          2521,
          2641,
          2641,
          2521,
          2521,
          2089,
          2234,
          2234,
          2089,
          2089,
          3303,
          3448,
          3448,
          3303,
          3303,
          3535,
          3640,
          3640,
          3535,
          3535,
          4066,
          4316,
          4316,
          4066,
          4066,
          1950,
          2073,
          2073,
          1950,
          1950,
          857,
          942,
          942,
          857,
          857,
          2339,
          2432,
          2432,
          2339,
          2339,
          575,
          708,
          708,
          575,
          575,
          2580,
          2730,
          2730,
          2580,
          2580,
          2300,
          2460,
          2460,
          2300,
          2300,
          3094,
          3193,
          3193,
          3094,
          3094,
          1584,
          1671,
          1671,
          1584,
          1584,
          3556,
          3736,
          3736,
          3556,
          3556,
          1829,
          2029,
          2029,
          1829
         ],
         "y": [
          3.8,
          3.8,
          4.2,
          4.2,
          null,
          3.8,
          3.8,
          4.2,
          4.2,
          null,
          3.8,
          3.8,
          4.2,
          4.2,
          null,
          3.8,
          3.8,
          4.2,
          4.2,
          null,
          3.8,
          3.8,
          4.2,
          4.2,
          null,
          3.8,
          3.8,
          4.2,
          4.2,
          null,
          3.8,
          3.8,
          4.2,
          4.2,
          null,
          3.8,
          3.8,
          4.2,
          4.2,
          null,
          3.8,
          3.8,
          4.2,
          4.2,
          null,
          3.8,
          3.8,
          4.2,
          4.2,
          null,
          3.8,
          3.8,
          4.2,
          4.2,
          null,
          3.8,
          3.8,
          4.2,
          4.2,
          null,
          3.8,
          3.8,
          4.2,
          4.2,
          null,
          3.8,
          3.8,
          4.2,
          4.2,
          null,
          3.8,
          3.8,
          4.2,
          4.2,
          null,
          3.8,
          3.8,
          4.2,
          4.2,
          null,
          3.8,
          3.8,
          4.2,
          4.2,
          null,
          3.8,
          3.8,
          4.2,
          4.2,
          null,
          2.8,
          2.8,
          3.2,
          3.2,
          null,
          2.8,
          2.8,
          3.2,
          3.2,
          null,
          1.8,
          1.8,
          2.2,
          2.2,
          null,
          1.8,
          1.8,
          2.2,
          2.2
         ]
        },
        {
         "legendgroup": "rgb(149, 32, 58)",
         "marker": {
          "color": "rgb(149, 32, 58)",
          "opacity": 0,
          "size": 1
         },
         "mode": "markers",
         "name": "",
         "showlegend": false,
         "text": [
          null,
          null,
          null,
          null,
          null,
          null,
          null,
          null,
          null,
          null,
          null,
          null,
          null,
          null,
          null,
          null,
          null,
          null,
          null,
          null,
          null,
          null,
          null,
          null,
          null,
          null,
          null,
          null,
          null,
          null,
          null,
          null,
          null,
          null,
          null,
          null,
          null,
          null,
          null,
          null,
          null,
          null,
          null,
          null,
          null,
          null
         ],
         "type": "scatter",
         "x": [
          3075,
          3152,
          1283,
          1348,
          1425,
          1575,
          2956,
          3080,
          2567,
          2731,
          4233,
          4320,
          2274,
          2484,
          1986,
          2073,
          2969,
          3179,
          3493,
          3733,
          1690,
          1900,
          1102,
          1292,
          2921,
          2997,
          2707,
          2772,
          2830,
          3070,
          1410,
          1620,
          1633,
          1769,
          3367,
          3552,
          3172,
          3297,
          627,
          693,
          1073,
          1193,
          2942,
          3074,
          2542,
          2672
         ],
         "y": [
          4,
          4,
          4,
          4,
          4,
          4,
          4,
          4,
          4,
          4,
          4,
          4,
          4,
          4,
          4,
          4,
          4,
          4,
          4,
          4,
          4,
          4,
          4,
          4,
          4,
          4,
          4,
          4,
          4,
          4,
          4,
          4,
          4,
          4,
          4,
          4,
          4,
          4,
          3,
          3,
          2,
          2,
          1,
          1,
          0,
          0
         ]
        },
        {
         "legendgroup": "rgb(21, 160, 186)",
         "marker": {
          "color": "rgb(21, 160, 186)",
          "opacity": 0,
          "size": 1
         },
         "mode": "markers",
         "name": "",
         "showlegend": false,
         "text": [
          null,
          null,
          null,
          null,
          null,
          null,
          null,
          null,
          null,
          null,
          null,
          null,
          null,
          null,
          null,
          null,
          null,
          null,
          null,
          null,
          null,
          null,
          null,
          null,
          null,
          null,
          null,
          null,
          null,
          null,
          null,
          null,
          null,
          null,
          null,
          null,
          null,
          null,
          null,
          null,
          null,
          null,
          null,
          null
         ],
         "type": "scatter",
         "x": [
          3329,
          3434,
          1827,
          1932,
          1312,
          1456,
          3093,
          3248,
          1412,
          1592,
          1041,
          1221,
          1694,
          1814,
          2521,
          2641,
          2089,
          2234,
          3303,
          3448,
          3535,
          3640,
          4066,
          4316,
          1950,
          2073,
          857,
          942,
          2339,
          2432,
          575,
          708,
          2580,
          2730,
          2300,
          2460,
          3094,
          3193,
          1584,
          1671,
          3556,
          3736,
          1829,
          2029
         ],
         "y": [
          4,
          4,
          4,
          4,
          4,
          4,
          4,
          4,
          4,
          4,
          4,
          4,
          4,
          4,
          4,
          4,
          4,
          4,
          4,
          4,
          4,
          4,
          4,
          4,
          4,
          4,
          4,
          4,
          4,
          4,
          4,
          4,
          4,
          4,
          4,
          4,
          3,
          3,
          3,
          3,
          2,
          2,
          2,
          2
         ]
        }
       ],
       "layout": {
        "height": 600,
        "hovermode": "closest",
        "showlegend": true,
        "template": {
         "data": {
          "bar": [
           {
            "error_x": {
             "color": "#2a3f5f"
            },
            "error_y": {
             "color": "#2a3f5f"
            },
            "marker": {
             "line": {
              "color": "#E5ECF6",
              "width": 0.5
             },
             "pattern": {
              "fillmode": "overlay",
              "size": 10,
              "solidity": 0.2
             }
            },
            "type": "bar"
           }
          ],
          "barpolar": [
           {
            "marker": {
             "line": {
              "color": "#E5ECF6",
              "width": 0.5
             },
             "pattern": {
              "fillmode": "overlay",
              "size": 10,
              "solidity": 0.2
             }
            },
            "type": "barpolar"
           }
          ],
          "carpet": [
           {
            "aaxis": {
             "endlinecolor": "#2a3f5f",
             "gridcolor": "white",
             "linecolor": "white",
             "minorgridcolor": "white",
             "startlinecolor": "#2a3f5f"
            },
            "baxis": {
             "endlinecolor": "#2a3f5f",
             "gridcolor": "white",
             "linecolor": "white",
             "minorgridcolor": "white",
             "startlinecolor": "#2a3f5f"
            },
            "type": "carpet"
           }
          ],
          "choropleth": [
           {
            "colorbar": {
             "outlinewidth": 0,
             "ticks": ""
            },
            "type": "choropleth"
           }
          ],
          "contour": [
           {
            "colorbar": {
             "outlinewidth": 0,
             "ticks": ""
            },
            "colorscale": [
             [
              0,
              "#0d0887"
             ],
             [
              0.1111111111111111,
              "#46039f"
             ],
             [
              0.2222222222222222,
              "#7201a8"
             ],
             [
              0.3333333333333333,
              "#9c179e"
             ],
             [
              0.4444444444444444,
              "#bd3786"
             ],
             [
              0.5555555555555556,
              "#d8576b"
             ],
             [
              0.6666666666666666,
              "#ed7953"
             ],
             [
              0.7777777777777778,
              "#fb9f3a"
             ],
             [
              0.8888888888888888,
              "#fdca26"
             ],
             [
              1,
              "#f0f921"
             ]
            ],
            "type": "contour"
           }
          ],
          "contourcarpet": [
           {
            "colorbar": {
             "outlinewidth": 0,
             "ticks": ""
            },
            "type": "contourcarpet"
           }
          ],
          "heatmap": [
           {
            "colorbar": {
             "outlinewidth": 0,
             "ticks": ""
            },
            "colorscale": [
             [
              0,
              "#0d0887"
             ],
             [
              0.1111111111111111,
              "#46039f"
             ],
             [
              0.2222222222222222,
              "#7201a8"
             ],
             [
              0.3333333333333333,
              "#9c179e"
             ],
             [
              0.4444444444444444,
              "#bd3786"
             ],
             [
              0.5555555555555556,
              "#d8576b"
             ],
             [
              0.6666666666666666,
              "#ed7953"
             ],
             [
              0.7777777777777778,
              "#fb9f3a"
             ],
             [
              0.8888888888888888,
              "#fdca26"
             ],
             [
              1,
              "#f0f921"
             ]
            ],
            "type": "heatmap"
           }
          ],
          "heatmapgl": [
           {
            "colorbar": {
             "outlinewidth": 0,
             "ticks": ""
            },
            "colorscale": [
             [
              0,
              "#0d0887"
             ],
             [
              0.1111111111111111,
              "#46039f"
             ],
             [
              0.2222222222222222,
              "#7201a8"
             ],
             [
              0.3333333333333333,
              "#9c179e"
             ],
             [
              0.4444444444444444,
              "#bd3786"
             ],
             [
              0.5555555555555556,
              "#d8576b"
             ],
             [
              0.6666666666666666,
              "#ed7953"
             ],
             [
              0.7777777777777778,
              "#fb9f3a"
             ],
             [
              0.8888888888888888,
              "#fdca26"
             ],
             [
              1,
              "#f0f921"
             ]
            ],
            "type": "heatmapgl"
           }
          ],
          "histogram": [
           {
            "marker": {
             "pattern": {
              "fillmode": "overlay",
              "size": 10,
              "solidity": 0.2
             }
            },
            "type": "histogram"
           }
          ],
          "histogram2d": [
           {
            "colorbar": {
             "outlinewidth": 0,
             "ticks": ""
            },
            "colorscale": [
             [
              0,
              "#0d0887"
             ],
             [
              0.1111111111111111,
              "#46039f"
             ],
             [
              0.2222222222222222,
              "#7201a8"
             ],
             [
              0.3333333333333333,
              "#9c179e"
             ],
             [
              0.4444444444444444,
              "#bd3786"
             ],
             [
              0.5555555555555556,
              "#d8576b"
             ],
             [
              0.6666666666666666,
              "#ed7953"
             ],
             [
              0.7777777777777778,
              "#fb9f3a"
             ],
             [
              0.8888888888888888,
              "#fdca26"
             ],
             [
              1,
              "#f0f921"
             ]
            ],
            "type": "histogram2d"
           }
          ],
          "histogram2dcontour": [
           {
            "colorbar": {
             "outlinewidth": 0,
             "ticks": ""
            },
            "colorscale": [
             [
              0,
              "#0d0887"
             ],
             [
              0.1111111111111111,
              "#46039f"
             ],
             [
              0.2222222222222222,
              "#7201a8"
             ],
             [
              0.3333333333333333,
              "#9c179e"
             ],
             [
              0.4444444444444444,
              "#bd3786"
             ],
             [
              0.5555555555555556,
              "#d8576b"
             ],
             [
              0.6666666666666666,
              "#ed7953"
             ],
             [
              0.7777777777777778,
              "#fb9f3a"
             ],
             [
              0.8888888888888888,
              "#fdca26"
             ],
             [
              1,
              "#f0f921"
             ]
            ],
            "type": "histogram2dcontour"
           }
          ],
          "mesh3d": [
           {
            "colorbar": {
             "outlinewidth": 0,
             "ticks": ""
            },
            "type": "mesh3d"
           }
          ],
          "parcoords": [
           {
            "line": {
             "colorbar": {
              "outlinewidth": 0,
              "ticks": ""
             }
            },
            "type": "parcoords"
           }
          ],
          "pie": [
           {
            "automargin": true,
            "type": "pie"
           }
          ],
          "scatter": [
           {
            "marker": {
             "colorbar": {
              "outlinewidth": 0,
              "ticks": ""
             }
            },
            "type": "scatter"
           }
          ],
          "scatter3d": [
           {
            "line": {
             "colorbar": {
              "outlinewidth": 0,
              "ticks": ""
             }
            },
            "marker": {
             "colorbar": {
              "outlinewidth": 0,
              "ticks": ""
             }
            },
            "type": "scatter3d"
           }
          ],
          "scattercarpet": [
           {
            "marker": {
             "colorbar": {
              "outlinewidth": 0,
              "ticks": ""
             }
            },
            "type": "scattercarpet"
           }
          ],
          "scattergeo": [
           {
            "marker": {
             "colorbar": {
              "outlinewidth": 0,
              "ticks": ""
             }
            },
            "type": "scattergeo"
           }
          ],
          "scattergl": [
           {
            "marker": {
             "colorbar": {
              "outlinewidth": 0,
              "ticks": ""
             }
            },
            "type": "scattergl"
           }
          ],
          "scattermapbox": [
           {
            "marker": {
             "colorbar": {
              "outlinewidth": 0,
              "ticks": ""
             }
            },
            "type": "scattermapbox"
           }
          ],
          "scatterpolar": [
           {
            "marker": {
             "colorbar": {
              "outlinewidth": 0,
              "ticks": ""
             }
            },
            "type": "scatterpolar"
           }
          ],
          "scatterpolargl": [
           {
            "marker": {
             "colorbar": {
              "outlinewidth": 0,
              "ticks": ""
             }
            },
            "type": "scatterpolargl"
           }
          ],
          "scatterternary": [
           {
            "marker": {
             "colorbar": {
              "outlinewidth": 0,
              "ticks": ""
             }
            },
            "type": "scatterternary"
           }
          ],
          "surface": [
           {
            "colorbar": {
             "outlinewidth": 0,
             "ticks": ""
            },
            "colorscale": [
             [
              0,
              "#0d0887"
             ],
             [
              0.1111111111111111,
              "#46039f"
             ],
             [
              0.2222222222222222,
              "#7201a8"
             ],
             [
              0.3333333333333333,
              "#9c179e"
             ],
             [
              0.4444444444444444,
              "#bd3786"
             ],
             [
              0.5555555555555556,
              "#d8576b"
             ],
             [
              0.6666666666666666,
              "#ed7953"
             ],
             [
              0.7777777777777778,
              "#fb9f3a"
             ],
             [
              0.8888888888888888,
              "#fdca26"
             ],
             [
              1,
              "#f0f921"
             ]
            ],
            "type": "surface"
           }
          ],
          "table": [
           {
            "cells": {
             "fill": {
              "color": "#EBF0F8"
             },
             "line": {
              "color": "white"
             }
            },
            "header": {
             "fill": {
              "color": "#C8D4E3"
             },
             "line": {
              "color": "white"
             }
            },
            "type": "table"
           }
          ]
         },
         "layout": {
          "annotationdefaults": {
           "arrowcolor": "#2a3f5f",
           "arrowhead": 0,
           "arrowwidth": 1
          },
          "autotypenumbers": "strict",
          "coloraxis": {
           "colorbar": {
            "outlinewidth": 0,
            "ticks": ""
           }
          },
          "colorscale": {
           "diverging": [
            [
             0,
             "#8e0152"
            ],
            [
             0.1,
             "#c51b7d"
            ],
            [
             0.2,
             "#de77ae"
            ],
            [
             0.3,
             "#f1b6da"
            ],
            [
             0.4,
             "#fde0ef"
            ],
            [
             0.5,
             "#f7f7f7"
            ],
            [
             0.6,
             "#e6f5d0"
            ],
            [
             0.7,
             "#b8e186"
            ],
            [
             0.8,
             "#7fbc41"
            ],
            [
             0.9,
             "#4d9221"
            ],
            [
             1,
             "#276419"
            ]
           ],
           "sequential": [
            [
             0,
             "#0d0887"
            ],
            [
             0.1111111111111111,
             "#46039f"
            ],
            [
             0.2222222222222222,
             "#7201a8"
            ],
            [
             0.3333333333333333,
             "#9c179e"
            ],
            [
             0.4444444444444444,
             "#bd3786"
            ],
            [
             0.5555555555555556,
             "#d8576b"
            ],
            [
             0.6666666666666666,
             "#ed7953"
            ],
            [
             0.7777777777777778,
             "#fb9f3a"
            ],
            [
             0.8888888888888888,
             "#fdca26"
            ],
            [
             1,
             "#f0f921"
            ]
           ],
           "sequentialminus": [
            [
             0,
             "#0d0887"
            ],
            [
             0.1111111111111111,
             "#46039f"
            ],
            [
             0.2222222222222222,
             "#7201a8"
            ],
            [
             0.3333333333333333,
             "#9c179e"
            ],
            [
             0.4444444444444444,
             "#bd3786"
            ],
            [
             0.5555555555555556,
             "#d8576b"
            ],
            [
             0.6666666666666666,
             "#ed7953"
            ],
            [
             0.7777777777777778,
             "#fb9f3a"
            ],
            [
             0.8888888888888888,
             "#fdca26"
            ],
            [
             1,
             "#f0f921"
            ]
           ]
          },
          "colorway": [
           "#636efa",
           "#EF553B",
           "#00cc96",
           "#ab63fa",
           "#FFA15A",
           "#19d3f3",
           "#FF6692",
           "#B6E880",
           "#FF97FF",
           "#FECB52"
          ],
          "font": {
           "color": "#2a3f5f"
          },
          "geo": {
           "bgcolor": "white",
           "lakecolor": "white",
           "landcolor": "#E5ECF6",
           "showlakes": true,
           "showland": true,
           "subunitcolor": "white"
          },
          "hoverlabel": {
           "align": "left"
          },
          "hovermode": "closest",
          "mapbox": {
           "style": "light"
          },
          "paper_bgcolor": "white",
          "plot_bgcolor": "#E5ECF6",
          "polar": {
           "angularaxis": {
            "gridcolor": "white",
            "linecolor": "white",
            "ticks": ""
           },
           "bgcolor": "#E5ECF6",
           "radialaxis": {
            "gridcolor": "white",
            "linecolor": "white",
            "ticks": ""
           }
          },
          "scene": {
           "xaxis": {
            "backgroundcolor": "#E5ECF6",
            "gridcolor": "white",
            "gridwidth": 2,
            "linecolor": "white",
            "showbackground": true,
            "ticks": "",
            "zerolinecolor": "white"
           },
           "yaxis": {
            "backgroundcolor": "#E5ECF6",
            "gridcolor": "white",
            "gridwidth": 2,
            "linecolor": "white",
            "showbackground": true,
            "ticks": "",
            "zerolinecolor": "white"
           },
           "zaxis": {
            "backgroundcolor": "#E5ECF6",
            "gridcolor": "white",
            "gridwidth": 2,
            "linecolor": "white",
            "showbackground": true,
            "ticks": "",
            "zerolinecolor": "white"
           }
          },
          "shapedefaults": {
           "line": {
            "color": "#2a3f5f"
           }
          },
          "ternary": {
           "aaxis": {
            "gridcolor": "white",
            "linecolor": "white",
            "ticks": ""
           },
           "baxis": {
            "gridcolor": "white",
            "linecolor": "white",
            "ticks": ""
           },
           "bgcolor": "#E5ECF6",
           "caxis": {
            "gridcolor": "white",
            "linecolor": "white",
            "ticks": ""
           }
          },
          "title": {
           "x": 0.05
          },
          "xaxis": {
           "automargin": true,
           "gridcolor": "white",
           "linecolor": "white",
           "ticks": "",
           "title": {
            "standoff": 15
           },
           "zerolinecolor": "white",
           "zerolinewidth": 2
          },
          "yaxis": {
           "automargin": true,
           "gridcolor": "white",
           "linecolor": "white",
           "ticks": "",
           "title": {
            "standoff": 15
           },
           "zerolinecolor": "white",
           "zerolinewidth": 2
          }
         }
        },
        "title": {
         "text": "Gantt Chart"
        },
        "xaxis": {
         "rangeselector": {
          "buttons": [
           {
            "count": 7,
            "label": "1w",
            "step": "day",
            "stepmode": "backward"
           },
           {
            "count": 1,
            "label": "1m",
            "step": "month",
            "stepmode": "backward"
           },
           {
            "count": 6,
            "label": "6m",
            "step": "month",
            "stepmode": "backward"
           },
           {
            "count": 1,
            "label": "YTD",
            "step": "year",
            "stepmode": "todate"
           },
           {
            "count": 1,
            "label": "1y",
            "step": "year",
            "stepmode": "backward"
           },
           {
            "step": "all"
           }
          ]
         },
         "showgrid": false,
         "type": "linear",
         "zeroline": false
        },
        "yaxis": {
         "autorange": false,
         "range": [
          -1,
          6
         ],
         "showgrid": false,
         "ticktext": [
          "w4",
          "w2",
          "w5",
          "w3",
          "w6"
         ],
         "tickvals": [
          0,
          1,
          2,
          3,
          4
         ],
         "zeroline": false
        }
       }
      }
     },
     "metadata": {},
     "output_type": "display_data"
    },
    {
     "data": {
      "image/png": "[encoded data removed]",
      "text/plain": [
       "<Figure size 640x480 with 1 Axes>"
      ]
     },
     "metadata": {},
     "output_type": "display_data"
    }
   ],
   "source": [
    "from optimizer_components import map_index_to_operation\n",
    "\n",
    "earliest_time_slot = 0\n",
    "last_time_slot = 5000\n",
    "\n",
    "def feasible(solution):\n",
    "    j = 0\n",
    "    for i in range(len(solution)):\n",
    "        if j == 2:\n",
    "            # just check if task and workstation do exist\n",
    "            \"\"\"if env.get_task(solution[i-2]) is None or env.get_workstation(solution[i-1]) is None:\n",
    "                return False\"\"\"\n",
    "            if solution[i] < earliest_time_slot:\n",
    "                return False\n",
    "            duration = env.get_duration(solution[i-2], solution[i-1])\n",
    "            if duration == 0: # illegal combination\n",
    "                return False\n",
    "            if solution[i] + duration > last_time_slot:\n",
    "                return False\n",
    "        j += 1\n",
    "        if j > 2:\n",
    "            j = 0\n",
    "    return True # just testing\n",
    "\n",
    "def fitness_function(solution, solution_idx):\n",
    "    fitness = 0\n",
    "    if feasible(solution):\n",
    "        min = float('inf')\n",
    "        max = -float('inf')\n",
    "        i = 0\n",
    "        for gene in solution:\n",
    "            if i == 2:\n",
    "                if gene < min:\n",
    "                    min = gene\n",
    "                duration = env.get_duration(solution[i-2], solution[i-1])\n",
    "                if gene + duration > max:\n",
    "                    max = gene + duration\n",
    "            i += 1\n",
    "            if i > 2:\n",
    "                i = 0\n",
    "        fitness += abs(max - min)\n",
    "    else:\n",
    "        fitness = 2 * last_time_slot\n",
    "    return -fitness\n",
    "\n",
    "def only_valid_mutation_function(offsprings, ga_instance):\n",
    "    start_low = ga_instance.gene_space[2]['low']\n",
    "    start_high = ga_instance.gene_space[2]['high']\n",
    "    \n",
    "    for offspring in offsprings:\n",
    "        j = 0\n",
    "        for i in range(len(offspring)):\n",
    "            if j == 0:\n",
    "                valid_workstations = env.get_valid_workstations(offspring[i])\n",
    "            if random.random() < 1/len(offspring): # just fix mutation probability for now\n",
    "                if j == 1:\n",
    "                    offspring[i] = random.choice(valid_workstations).id\n",
    "                elif j == 2:\n",
    "                    offspring[i] = random.randint(start_low, start_high)\n",
    "            j += 1\n",
    "            if j > 2:\n",
    "                j = 0\n",
    "    return offsprings\n",
    "\n",
    "def mutation_function(offsprings, ga_instance):\n",
    "    workstation_low = ga_instance.gene_space[1]['low']\n",
    "    workstation_high = ga_instance.gene_space[1]['high']\n",
    "    start_low = ga_instance.gene_space[2]['low']\n",
    "    start_high = ga_instance.gene_space[2]['high']\n",
    "    \n",
    "    for offspring in offsprings:\n",
    "        j = 0\n",
    "        for i in range(len(offspring)):\n",
    "            if random.random() < 1/len(offspring): # just fix mutation probability for now\n",
    "                if j == 1:\n",
    "                    offspring[i] = random.randint(workstation_low, workstation_high)\n",
    "                elif j == 2:\n",
    "                    offspring[i] = random.randint(start_low, start_high)\n",
    "            j += 1\n",
    "            if j > 2:\n",
    "                j = 0\n",
    "    return offsprings\n",
    "\n",
    "flat_input = [item for sublist in input for item in sublist]\n",
    "num_genes = len(flat_input) * 3\n",
    "num_generations = 1000\n",
    "num_parents_mating = 25\n",
    "sol_per_pop = 50\n",
    "init_range_low = 0\n",
    "init_range_high = last_time_slot\n",
    "parent_selection_type = 'rws'\n",
    "keep_parents = 1\n",
    "crossover_type = 'single_point'\n",
    "#mutation_type = 'random'\n",
    "#mutation_type = mutation_function\n",
    "mutation_type = only_valid_mutation_function\n",
    "mutation_percentage_genes = 10\n",
    "fitness_func = fitness_function\n",
    "gene_type = int\n",
    "gene_space = []\n",
    "space_tasks = {'low': 0, 'high': len(tasks)-1}#[0, len(tasks)-1]\n",
    "space_workstations = {'low': 1, 'high': len(workstations)-1}#[0, len(workstations)-1]\n",
    "space_time = {'low': earliest_time_slot, 'high': last_time_slot}#[earliest_time_slot, last_time_slot]\n",
    "j = 0\n",
    "for i in range(num_genes):\n",
    "    if j == 0:\n",
    "        gene_space.append(space_tasks)\n",
    "    elif j == 1:\n",
    "        gene_space.append(space_workstations)\n",
    "    else:\n",
    "        gene_space.append(space_time)\n",
    "    j += 1\n",
    "    if j > 2:\n",
    "        j = 0\n",
    "ga_instance = pygad.GA(num_generations=num_generations, num_parents_mating=num_parents_mating, fitness_func=fitness_func, sol_per_pop=sol_per_pop, num_genes=num_genes, init_range_low=init_range_low, init_range_high=init_range_high, parent_selection_type=parent_selection_type, keep_parents=keep_parents, crossover_type=crossover_type, mutation_type=mutation_type, mutation_percent_genes=mutation_percentage_genes, gene_type=gene_type, gene_space=gene_space)\n",
    "ga_instance.run()\n",
    "solution, solution_fitness, solution_idx = ga_instance.best_solution()\n",
    "print(\"Parameters of the best solution : {solution}\".format(solution=solution))\n",
    "print(\"Fitness value of the best solution = {solution_fitness}\".format(solution_fitness=solution_fitness))\n",
    "\n",
    "workstation_assignments = reformat_pygad_result(solution, orders, env)\n",
    "visualize(workstation_assignments, [], [], [], num_generations+1)"
   ]
  },
  {
   "cell_type": "code",
   "execution_count": 11,
   "metadata": {},
   "outputs": [
    {
     "name": "stdout",
     "output_type": "stream",
     "text": [
      "Parameters of the best solution : [  12    5 4587  117    6  919  137    6 2073   17    5  174   79    6\n",
      " 2125   25    3 3845   99    6 2218   39    6 2364  109    6 1847   69\n",
      "    6 4071   96    6 4199   26    3 1319  100    6 1013  106    6 1867\n",
      "   63    6 4447   83    4 1413   78    3 2663  135    5 3885   74    5\n",
      " 1096  106    2 4160  143    5 4388   19    2  497   35    4 1415   90\n",
      "    5 1037  108    1  118   43    3 4655  130    1 3856    0    3 3490\n",
      "  117    2 3033   65    4 2483   59    3 2061  130    2 3541   25    4\n",
      " 1522   52    4  466   66    3 4800   90    2  982   82    1 1935   57\n",
      "    1  777  119    4 3669   91    2 3293   89    1 2694   62    2 1481\n",
      "  101    2 2938  117    3 1359   83    5 2006]\n",
      "Fitness value of the best solution = -10000\n"
     ]
    },
    {
     "data": {
      "application/vnd.plotly.v1+json": {
       "config": {
        "plotlyServerURL": "https://plot.ly"
       },
       "data": [
        {
         "fill": "toself",
         "fillcolor": "rgb(227, 221, 164)",
         "hoverinfo": "name",
         "legendgroup": "rgb(227, 221, 164)",
         "mode": "none",
         "name": "0",
         "type": "scatter",
         "x": [
          4587,
          4587,
          4587,
          4587,
          4587,
          174,
          284,
          284,
          174,
          174,
          3885,
          3885,
          3885,
          3885,
          3885,
          1096,
          1096,
          1096,
          1096,
          1096,
          4388,
          4388,
          4388,
          4388,
          4388,
          919,
          1019,
          1019,
          919,
          919,
          2073,
          2188,
          2188,
          2073,
          2073,
          2125,
          2258,
          2258,
          2125,
          2125,
          2218,
          2338,
          2338,
          2218,
          2218,
          2364,
          2451,
          2451,
          2364,
          2364,
          1847,
          2017,
          2017,
          1847,
          1847,
          4071,
          4285,
          4285,
          4071,
          4071,
          4199,
          4332,
          4332,
          4199,
          4199,
          1013,
          1143,
          1143,
          1013,
          1013,
          1867,
          1980,
          1980,
          1867,
          1867,
          4447,
          4534,
          4534,
          4447,
          4447,
          3845,
          3921,
          3921,
          3845,
          3845,
          1319,
          1385,
          1385,
          1319,
          1319,
          2663,
          2663,
          2663,
          2663,
          2663,
          1413,
          1413,
          1413,
          1413,
          1413,
          1415,
          1415,
          1415,
          1415,
          1415,
          4160,
          4160,
          4160,
          4160,
          4160,
          497,
          497,
          497,
          497
         ],
         "y": [
          4.8,
          4.8,
          5.2,
          5.2,
          null,
          4.8,
          4.8,
          5.2,
          5.2,
          null,
          4.8,
          4.8,
          5.2,
          5.2,
          null,
          4.8,
          4.8,
          5.2,
          5.2,
          null,
          4.8,
          4.8,
          5.2,
          5.2,
          null,
          3.8,
          3.8,
          4.2,
          4.2,
          null,
          3.8,
          3.8,
          4.2,
          4.2,
          null,
          3.8,
          3.8,
          4.2,
          4.2,
          null,
          3.8,
          3.8,
          4.2,
          4.2,
          null,
          3.8,
          3.8,
          4.2,
          4.2,
          null,
          3.8,
          3.8,
          4.2,
          4.2,
          null,
          3.8,
          3.8,
          4.2,
          4.2,
          null,
          3.8,
          3.8,
          4.2,
          4.2,
          null,
          3.8,
          3.8,
          4.2,
          4.2,
          null,
          3.8,
          3.8,
          4.2,
          4.2,
          null,
          3.8,
          3.8,
          4.2,
          4.2,
          null,
          2.8,
          2.8,
          3.2,
          3.2,
          null,
          2.8,
          2.8,
          3.2,
          3.2,
          null,
          2.8,
          2.8,
          3.2,
          3.2,
          null,
          1.8,
          1.8,
          2.2,
          2.2,
          null,
          1.8,
          1.8,
          2.2,
          2.2,
          null,
          0.8,
          0.8,
          1.2,
          1.2,
          null,
          0.8,
          0.8,
          1.2,
          1.2
         ]
        },
        {
         "fill": "toself",
         "fillcolor": "rgb(99, 93, 36)",
         "hoverinfo": "name",
         "legendgroup": "rgb(99, 93, 36)",
         "mode": "none",
         "name": "1",
         "type": "scatter",
         "x": [
          1037,
          1037,
          1037,
          1037,
          1037,
          2006,
          2006,
          2006,
          2006,
          2006,
          4655,
          4655,
          4655,
          4655,
          4655,
          3490,
          3490,
          3490,
          3490,
          3490,
          2061,
          2061,
          2061,
          2061,
          2061,
          4800,
          4800,
          4800,
          4800,
          4800,
          1359,
          1359,
          1359,
          1359,
          1359,
          2483,
          2483,
          2483,
          2483,
          2483,
          1522,
          1522,
          1522,
          1522,
          1522,
          466,
          466,
          466,
          466,
          466,
          3669,
          3669,
          3669,
          3669,
          3669,
          3033,
          3033,
          3033,
          3033,
          3033,
          3541,
          3541,
          3541,
          3541,
          3541,
          982,
          982,
          982,
          982,
          982,
          3293,
          3293,
          3293,
          3293,
          3293,
          1481,
          1481,
          1481,
          1481,
          1481,
          2938,
          2938,
          2938,
          2938,
          2938,
          118,
          118,
          118,
          118,
          118,
          3856,
          3856,
          3856,
          3856,
          3856,
          1935,
          1935,
          1935,
          1935,
          1935,
          777,
          777,
          777,
          777,
          777,
          2694,
          2694,
          2694,
          2694
         ],
         "y": [
          4.8,
          4.8,
          5.2,
          5.2,
          null,
          4.8,
          4.8,
          5.2,
          5.2,
          null,
          2.8,
          2.8,
          3.2,
          3.2,
          null,
          2.8,
          2.8,
          3.2,
          3.2,
          null,
          2.8,
          2.8,
          3.2,
          3.2,
          null,
          2.8,
          2.8,
          3.2,
          3.2,
          null,
          2.8,
          2.8,
          3.2,
          3.2,
          null,
          1.8,
          1.8,
          2.2,
          2.2,
          null,
          1.8,
          1.8,
          2.2,
          2.2,
          null,
          1.8,
          1.8,
          2.2,
          2.2,
          null,
          1.8,
          1.8,
          2.2,
          2.2,
          null,
          0.8,
          0.8,
          1.2,
          1.2,
          null,
          0.8,
          0.8,
          1.2,
          1.2,
          null,
          0.8,
          0.8,
          1.2,
          1.2,
          null,
          0.8,
          0.8,
          1.2,
          1.2,
          null,
          0.8,
          0.8,
          1.2,
          1.2,
          null,
          0.8,
          0.8,
          1.2,
          1.2,
          null,
          -0.2,
          -0.2,
          0.2,
          0.2,
          null,
          -0.2,
          -0.2,
          0.2,
          0.2,
          null,
          -0.2,
          -0.2,
          0.2,
          0.2,
          null,
          -0.2,
          -0.2,
          0.2,
          0.2,
          null,
          -0.2,
          -0.2,
          0.2,
          0.2
         ]
        },
        {
         "legendgroup": "rgb(227, 221, 164)",
         "marker": {
          "color": "rgb(227, 221, 164)",
          "opacity": 0,
          "size": 1
         },
         "mode": "markers",
         "name": "",
         "showlegend": false,
         "text": [
          null,
          null,
          null,
          null,
          null,
          null,
          null,
          null,
          null,
          null,
          null,
          null,
          null,
          null,
          null,
          null,
          null,
          null,
          null,
          null,
          null,
          null,
          null,
          null,
          null,
          null,
          null,
          null,
          null,
          null,
          null,
          null,
          null,
          null,
          null,
          null,
          null,
          null,
          null,
          null,
          null,
          null,
          null,
          null,
          null,
          null
         ],
         "type": "scatter",
         "x": [
          4587,
          4587,
          174,
          284,
          3885,
          3885,
          1096,
          1096,
          4388,
          4388,
          919,
          1019,
          2073,
          2188,
          2125,
          2258,
          2218,
          2338,
          2364,
          2451,
          1847,
          2017,
          4071,
          4285,
          4199,
          4332,
          1013,
          1143,
          1867,
          1980,
          4447,
          4534,
          3845,
          3921,
          1319,
          1385,
          2663,
          2663,
          1413,
          1413,
          1415,
          1415,
          4160,
          4160,
          497,
          497
         ],
         "y": [
          5,
          5,
          5,
          5,
          5,
          5,
          5,
          5,
          5,
          5,
          4,
          4,
          4,
          4,
          4,
          4,
          4,
          4,
          4,
          4,
          4,
          4,
          4,
          4,
          4,
          4,
          4,
          4,
          4,
          4,
          4,
          4,
          3,
          3,
          3,
          3,
          3,
          3,
          2,
          2,
          2,
          2,
          1,
          1,
          1,
          1
         ]
        },
        {
         "legendgroup": "rgb(99, 93, 36)",
         "marker": {
          "color": "rgb(99, 93, 36)",
          "opacity": 0,
          "size": 1
         },
         "mode": "markers",
         "name": "",
         "showlegend": false,
         "text": [
          null,
          null,
          null,
          null,
          null,
          null,
          null,
          null,
          null,
          null,
          null,
          null,
          null,
          null,
          null,
          null,
          null,
          null,
          null,
          null,
          null,
          null,
          null,
          null,
          null,
          null,
          null,
          null,
          null,
          null,
          null,
          null,
          null,
          null,
          null,
          null,
          null,
          null,
          null,
          null,
          null,
          null,
          null,
          null
         ],
         "type": "scatter",
         "x": [
          1037,
          1037,
          2006,
          2006,
          4655,
          4655,
          3490,
          3490,
          2061,
          2061,
          4800,
          4800,
          1359,
          1359,
          2483,
          2483,
          1522,
          1522,
          466,
          466,
          3669,
          3669,
          3033,
          3033,
          3541,
          3541,
          982,
          982,
          3293,
          3293,
          1481,
          1481,
          2938,
          2938,
          118,
          118,
          3856,
          3856,
          1935,
          1935,
          777,
          777,
          2694,
          2694
         ],
         "y": [
          5,
          5,
          5,
          5,
          3,
          3,
          3,
          3,
          3,
          3,
          3,
          3,
          3,
          3,
          2,
          2,
          2,
          2,
          2,
          2,
          2,
          2,
          1,
          1,
          1,
          1,
          1,
          1,
          1,
          1,
          1,
          1,
          1,
          1,
          0,
          0,
          0,
          0,
          0,
          0,
          0,
          0,
          0,
          0
         ]
        }
       ],
       "layout": {
        "height": 600,
        "hovermode": "closest",
        "showlegend": true,
        "template": {
         "data": {
          "bar": [
           {
            "error_x": {
             "color": "#2a3f5f"
            },
            "error_y": {
             "color": "#2a3f5f"
            },
            "marker": {
             "line": {
              "color": "#E5ECF6",
              "width": 0.5
             },
             "pattern": {
              "fillmode": "overlay",
              "size": 10,
              "solidity": 0.2
             }
            },
            "type": "bar"
           }
          ],
          "barpolar": [
           {
            "marker": {
             "line": {
              "color": "#E5ECF6",
              "width": 0.5
             },
             "pattern": {
              "fillmode": "overlay",
              "size": 10,
              "solidity": 0.2
             }
            },
            "type": "barpolar"
           }
          ],
          "carpet": [
           {
            "aaxis": {
             "endlinecolor": "#2a3f5f",
             "gridcolor": "white",
             "linecolor": "white",
             "minorgridcolor": "white",
             "startlinecolor": "#2a3f5f"
            },
            "baxis": {
             "endlinecolor": "#2a3f5f",
             "gridcolor": "white",
             "linecolor": "white",
             "minorgridcolor": "white",
             "startlinecolor": "#2a3f5f"
            },
            "type": "carpet"
           }
          ],
          "choropleth": [
           {
            "colorbar": {
             "outlinewidth": 0,
             "ticks": ""
            },
            "type": "choropleth"
           }
          ],
          "contour": [
           {
            "colorbar": {
             "outlinewidth": 0,
             "ticks": ""
            },
            "colorscale": [
             [
              0,
              "#0d0887"
             ],
             [
              0.1111111111111111,
              "#46039f"
             ],
             [
              0.2222222222222222,
              "#7201a8"
             ],
             [
              0.3333333333333333,
              "#9c179e"
             ],
             [
              0.4444444444444444,
              "#bd3786"
             ],
             [
              0.5555555555555556,
              "#d8576b"
             ],
             [
              0.6666666666666666,
              "#ed7953"
             ],
             [
              0.7777777777777778,
              "#fb9f3a"
             ],
             [
              0.8888888888888888,
              "#fdca26"
             ],
             [
              1,
              "#f0f921"
             ]
            ],
            "type": "contour"
           }
          ],
          "contourcarpet": [
           {
            "colorbar": {
             "outlinewidth": 0,
             "ticks": ""
            },
            "type": "contourcarpet"
           }
          ],
          "heatmap": [
           {
            "colorbar": {
             "outlinewidth": 0,
             "ticks": ""
            },
            "colorscale": [
             [
              0,
              "#0d0887"
             ],
             [
              0.1111111111111111,
              "#46039f"
             ],
             [
              0.2222222222222222,
              "#7201a8"
             ],
             [
              0.3333333333333333,
              "#9c179e"
             ],
             [
              0.4444444444444444,
              "#bd3786"
             ],
             [
              0.5555555555555556,
              "#d8576b"
             ],
             [
              0.6666666666666666,
              "#ed7953"
             ],
             [
              0.7777777777777778,
              "#fb9f3a"
             ],
             [
              0.8888888888888888,
              "#fdca26"
             ],
             [
              1,
              "#f0f921"
             ]
            ],
            "type": "heatmap"
           }
          ],
          "heatmapgl": [
           {
            "colorbar": {
             "outlinewidth": 0,
             "ticks": ""
            },
            "colorscale": [
             [
              0,
              "#0d0887"
             ],
             [
              0.1111111111111111,
              "#46039f"
             ],
             [
              0.2222222222222222,
              "#7201a8"
             ],
             [
              0.3333333333333333,
              "#9c179e"
             ],
             [
              0.4444444444444444,
              "#bd3786"
             ],
             [
              0.5555555555555556,
              "#d8576b"
             ],
             [
              0.6666666666666666,
              "#ed7953"
             ],
             [
              0.7777777777777778,
              "#fb9f3a"
             ],
             [
              0.8888888888888888,
              "#fdca26"
             ],
             [
              1,
              "#f0f921"
             ]
            ],
            "type": "heatmapgl"
           }
          ],
          "histogram": [
           {
            "marker": {
             "pattern": {
              "fillmode": "overlay",
              "size": 10,
              "solidity": 0.2
             }
            },
            "type": "histogram"
           }
          ],
          "histogram2d": [
           {
            "colorbar": {
             "outlinewidth": 0,
             "ticks": ""
            },
            "colorscale": [
             [
              0,
              "#0d0887"
             ],
             [
              0.1111111111111111,
              "#46039f"
             ],
             [
              0.2222222222222222,
              "#7201a8"
             ],
             [
              0.3333333333333333,
              "#9c179e"
             ],
             [
              0.4444444444444444,
              "#bd3786"
             ],
             [
              0.5555555555555556,
              "#d8576b"
             ],
             [
              0.6666666666666666,
              "#ed7953"
             ],
             [
              0.7777777777777778,
              "#fb9f3a"
             ],
             [
              0.8888888888888888,
              "#fdca26"
             ],
             [
              1,
              "#f0f921"
             ]
            ],
            "type": "histogram2d"
           }
          ],
          "histogram2dcontour": [
           {
            "colorbar": {
             "outlinewidth": 0,
             "ticks": ""
            },
            "colorscale": [
             [
              0,
              "#0d0887"
             ],
             [
              0.1111111111111111,
              "#46039f"
             ],
             [
              0.2222222222222222,
              "#7201a8"
             ],
             [
              0.3333333333333333,
              "#9c179e"
             ],
             [
              0.4444444444444444,
              "#bd3786"
             ],
             [
              0.5555555555555556,
              "#d8576b"
             ],
             [
              0.6666666666666666,
              "#ed7953"
             ],
             [
              0.7777777777777778,
              "#fb9f3a"
             ],
             [
              0.8888888888888888,
              "#fdca26"
             ],
             [
              1,
              "#f0f921"
             ]
            ],
            "type": "histogram2dcontour"
           }
          ],
          "mesh3d": [
           {
            "colorbar": {
             "outlinewidth": 0,
             "ticks": ""
            },
            "type": "mesh3d"
           }
          ],
          "parcoords": [
           {
            "line": {
             "colorbar": {
              "outlinewidth": 0,
              "ticks": ""
             }
            },
            "type": "parcoords"
           }
          ],
          "pie": [
           {
            "automargin": true,
            "type": "pie"
           }
          ],
          "scatter": [
           {
            "marker": {
             "colorbar": {
              "outlinewidth": 0,
              "ticks": ""
             }
            },
            "type": "scatter"
           }
          ],
          "scatter3d": [
           {
            "line": {
             "colorbar": {
              "outlinewidth": 0,
              "ticks": ""
             }
            },
            "marker": {
             "colorbar": {
              "outlinewidth": 0,
              "ticks": ""
             }
            },
            "type": "scatter3d"
           }
          ],
          "scattercarpet": [
           {
            "marker": {
             "colorbar": {
              "outlinewidth": 0,
              "ticks": ""
             }
            },
            "type": "scattercarpet"
           }
          ],
          "scattergeo": [
           {
            "marker": {
             "colorbar": {
              "outlinewidth": 0,
              "ticks": ""
             }
            },
            "type": "scattergeo"
           }
          ],
          "scattergl": [
           {
            "marker": {
             "colorbar": {
              "outlinewidth": 0,
              "ticks": ""
             }
            },
            "type": "scattergl"
           }
          ],
          "scattermapbox": [
           {
            "marker": {
             "colorbar": {
              "outlinewidth": 0,
              "ticks": ""
             }
            },
            "type": "scattermapbox"
           }
          ],
          "scatterpolar": [
           {
            "marker": {
             "colorbar": {
              "outlinewidth": 0,
              "ticks": ""
             }
            },
            "type": "scatterpolar"
           }
          ],
          "scatterpolargl": [
           {
            "marker": {
             "colorbar": {
              "outlinewidth": 0,
              "ticks": ""
             }
            },
            "type": "scatterpolargl"
           }
          ],
          "scatterternary": [
           {
            "marker": {
             "colorbar": {
              "outlinewidth": 0,
              "ticks": ""
             }
            },
            "type": "scatterternary"
           }
          ],
          "surface": [
           {
            "colorbar": {
             "outlinewidth": 0,
             "ticks": ""
            },
            "colorscale": [
             [
              0,
              "#0d0887"
             ],
             [
              0.1111111111111111,
              "#46039f"
             ],
             [
              0.2222222222222222,
              "#7201a8"
             ],
             [
              0.3333333333333333,
              "#9c179e"
             ],
             [
              0.4444444444444444,
              "#bd3786"
             ],
             [
              0.5555555555555556,
              "#d8576b"
             ],
             [
              0.6666666666666666,
              "#ed7953"
             ],
             [
              0.7777777777777778,
              "#fb9f3a"
             ],
             [
              0.8888888888888888,
              "#fdca26"
             ],
             [
              1,
              "#f0f921"
             ]
            ],
            "type": "surface"
           }
          ],
          "table": [
           {
            "cells": {
             "fill": {
              "color": "#EBF0F8"
             },
             "line": {
              "color": "white"
             }
            },
            "header": {
             "fill": {
              "color": "#C8D4E3"
             },
             "line": {
              "color": "white"
             }
            },
            "type": "table"
           }
          ]
         },
         "layout": {
          "annotationdefaults": {
           "arrowcolor": "#2a3f5f",
           "arrowhead": 0,
           "arrowwidth": 1
          },
          "autotypenumbers": "strict",
          "coloraxis": {
           "colorbar": {
            "outlinewidth": 0,
            "ticks": ""
           }
          },
          "colorscale": {
           "diverging": [
            [
             0,
             "#8e0152"
            ],
            [
             0.1,
             "#c51b7d"
            ],
            [
             0.2,
             "#de77ae"
            ],
            [
             0.3,
             "#f1b6da"
            ],
            [
             0.4,
             "#fde0ef"
            ],
            [
             0.5,
             "#f7f7f7"
            ],
            [
             0.6,
             "#e6f5d0"
            ],
            [
             0.7,
             "#b8e186"
            ],
            [
             0.8,
             "#7fbc41"
            ],
            [
             0.9,
             "#4d9221"
            ],
            [
             1,
             "#276419"
            ]
           ],
           "sequential": [
            [
             0,
             "#0d0887"
            ],
            [
             0.1111111111111111,
             "#46039f"
            ],
            [
             0.2222222222222222,
             "#7201a8"
            ],
            [
             0.3333333333333333,
             "#9c179e"
            ],
            [
             0.4444444444444444,
             "#bd3786"
            ],
            [
             0.5555555555555556,
             "#d8576b"
            ],
            [
             0.6666666666666666,
             "#ed7953"
            ],
            [
             0.7777777777777778,
             "#fb9f3a"
            ],
            [
             0.8888888888888888,
             "#fdca26"
            ],
            [
             1,
             "#f0f921"
            ]
           ],
           "sequentialminus": [
            [
             0,
             "#0d0887"
            ],
            [
             0.1111111111111111,
             "#46039f"
            ],
            [
             0.2222222222222222,
             "#7201a8"
            ],
            [
             0.3333333333333333,
             "#9c179e"
            ],
            [
             0.4444444444444444,
             "#bd3786"
            ],
            [
             0.5555555555555556,
             "#d8576b"
            ],
            [
             0.6666666666666666,
             "#ed7953"
            ],
            [
             0.7777777777777778,
             "#fb9f3a"
            ],
            [
             0.8888888888888888,
             "#fdca26"
            ],
            [
             1,
             "#f0f921"
            ]
           ]
          },
          "colorway": [
           "#636efa",
           "#EF553B",
           "#00cc96",
           "#ab63fa",
           "#FFA15A",
           "#19d3f3",
           "#FF6692",
           "#B6E880",
           "#FF97FF",
           "#FECB52"
          ],
          "font": {
           "color": "#2a3f5f"
          },
          "geo": {
           "bgcolor": "white",
           "lakecolor": "white",
           "landcolor": "#E5ECF6",
           "showlakes": true,
           "showland": true,
           "subunitcolor": "white"
          },
          "hoverlabel": {
           "align": "left"
          },
          "hovermode": "closest",
          "mapbox": {
           "style": "light"
          },
          "paper_bgcolor": "white",
          "plot_bgcolor": "#E5ECF6",
          "polar": {
           "angularaxis": {
            "gridcolor": "white",
            "linecolor": "white",
            "ticks": ""
           },
           "bgcolor": "#E5ECF6",
           "radialaxis": {
            "gridcolor": "white",
            "linecolor": "white",
            "ticks": ""
           }
          },
          "scene": {
           "xaxis": {
            "backgroundcolor": "#E5ECF6",
            "gridcolor": "white",
            "gridwidth": 2,
            "linecolor": "white",
            "showbackground": true,
            "ticks": "",
            "zerolinecolor": "white"
           },
           "yaxis": {
            "backgroundcolor": "#E5ECF6",
            "gridcolor": "white",
            "gridwidth": 2,
            "linecolor": "white",
            "showbackground": true,
            "ticks": "",
            "zerolinecolor": "white"
           },
           "zaxis": {
            "backgroundcolor": "#E5ECF6",
            "gridcolor": "white",
            "gridwidth": 2,
            "linecolor": "white",
            "showbackground": true,
            "ticks": "",
            "zerolinecolor": "white"
           }
          },
          "shapedefaults": {
           "line": {
            "color": "#2a3f5f"
           }
          },
          "ternary": {
           "aaxis": {
            "gridcolor": "white",
            "linecolor": "white",
            "ticks": ""
           },
           "baxis": {
            "gridcolor": "white",
            "linecolor": "white",
            "ticks": ""
           },
           "bgcolor": "#E5ECF6",
           "caxis": {
            "gridcolor": "white",
            "linecolor": "white",
            "ticks": ""
           }
          },
          "title": {
           "x": 0.05
          },
          "xaxis": {
           "automargin": true,
           "gridcolor": "white",
           "linecolor": "white",
           "ticks": "",
           "title": {
            "standoff": 15
           },
           "zerolinecolor": "white",
           "zerolinewidth": 2
          },
          "yaxis": {
           "automargin": true,
           "gridcolor": "white",
           "linecolor": "white",
           "ticks": "",
           "title": {
            "standoff": 15
           },
           "zerolinecolor": "white",
           "zerolinewidth": 2
          }
         }
        },
        "title": {
         "text": "Gantt Chart"
        },
        "xaxis": {
         "rangeselector": {
          "buttons": [
           {
            "count": 7,
            "label": "1w",
            "step": "day",
            "stepmode": "backward"
           },
           {
            "count": 1,
            "label": "1m",
            "step": "month",
            "stepmode": "backward"
           },
           {
            "count": 6,
            "label": "6m",
            "step": "month",
            "stepmode": "backward"
           },
           {
            "count": 1,
            "label": "YTD",
            "step": "year",
            "stepmode": "todate"
           },
           {
            "count": 1,
            "label": "1y",
            "step": "year",
            "stepmode": "backward"
           },
           {
            "step": "all"
           }
          ]
         },
         "showgrid": false,
         "type": "linear",
         "zeroline": false
        },
        "yaxis": {
         "autorange": false,
         "range": [
          -1,
          7
         ],
         "showgrid": false,
         "ticktext": [
          "w1",
          "w2",
          "w4",
          "w3",
          "w6",
          "w5"
         ],
         "tickvals": [
          0,
          1,
          2,
          3,
          4,
          5
         ],
         "zeroline": false
        }
       }
      }
     },
     "metadata": {},
     "output_type": "display_data"
    },
    {
     "data": {
      "image/png": "[encoded data removed]",
      "text/plain": [
       "<Figure size 640x480 with 1 Axes>"
      ]
     },
     "metadata": {},
     "output_type": "display_data"
    }
   ],
   "source": [
    "earliest_time_slot = 0\n",
    "last_time_slot = 5000\n",
    "operations = []\n",
    "\n",
    "def get_alternative_tasks(task_id):\n",
    "    task = env.get_task(task_id)\n",
    "    tasks = env.tasks\n",
    "    alternatives = []\n",
    "    for t in tasks:\n",
    "        if task.result_resources[0][0] == t.result_resources[0][0] and t not in alternatives and t.id != task_id:\n",
    "            alternatives.append(t)\n",
    "    return alternatives\n",
    "\n",
    "def mutation_function(offsprings, ga_instance):\n",
    "    for offspring in offsprings:\n",
    "        for i in range(len(operations)):\n",
    "            if random.random() < 1 / len(operations):\n",
    "                task = offspring[i*3]\n",
    "                alternatives = get_alternative_tasks(task)\n",
    "                offspring[i*3] = random.choice(alternatives).id\n",
    "                offspring[i*3+1] = random.choice(env.get_valid_workstations(offspring[i*3])).id\n",
    "                offspring[i*3+2] = random.randint(earliest_time_slot, last_time_slot)\n",
    "    return offsprings\n",
    "\n",
    "def fitness_function(solution, solution_idx):\n",
    "    fitness = 0\n",
    "    if feasible(solution):\n",
    "        min = float('inf')\n",
    "        max = -float('inf')\n",
    "        i = 0\n",
    "        for gene in solution:\n",
    "            if i == 2:\n",
    "                if gene < min:\n",
    "                    min = gene\n",
    "                duration = env.get_duration(solution[i-2], solution[i-1])\n",
    "                if gene + duration > max:\n",
    "                    max = gene + duration\n",
    "            i += 1\n",
    "            if i > 2:\n",
    "                i = 0\n",
    "        fitness += abs(max - min)\n",
    "    else:\n",
    "        fitness = 2 * last_time_slot\n",
    "    return -fitness\n",
    "\n",
    "for order in orders_model:\n",
    "    for resource in order.resources:\n",
    "        recipe = resource.recipes[0] # just use recipe 0 for now\n",
    "        recipe_tasks = env.get_all_tasks_for_recipe(recipe.id)\n",
    "        results = dict()\n",
    "        for task in recipe_tasks:\n",
    "            if task.result_resources[0][0] not in results:\n",
    "                results[task.result_resources[0][0]] = []\n",
    "            results[task.result_resources[0][0]].append(task)\n",
    "        for key in results:\n",
    "            operations.append(random.choice(results[key]).id)\n",
    "assignments = []\n",
    "for operation in operations:\n",
    "    workstation = env.get_valid_workstations(operation)\n",
    "    assignments.append(operation)\n",
    "    assignments.append(random.choice(workstation).id)\n",
    "    assignments.append(random.randint(earliest_time_slot, last_time_slot))\n",
    "\n",
    "num_genes = len(assignments) * 3\n",
    "num_generations = 1000\n",
    "num_parents_mating = 25\n",
    "sol_per_pop = 50\n",
    "init_range_low = 0\n",
    "init_range_high = last_time_slot\n",
    "parent_selection_type = 'rws'\n",
    "keep_parents = 1\n",
    "crossover_type = 'two_points'\n",
    "mutation_type = mutation_function\n",
    "mutation_percentage_genes = 10\n",
    "fitness_func = fitness_function\n",
    "gene_type = int\n",
    "ga_instance = pygad.GA(num_generations=num_generations, num_parents_mating=num_parents_mating, fitness_func=fitness_func, sol_per_pop=sol_per_pop, num_genes=num_genes, init_range_low=init_range_low, init_range_high=init_range_high, parent_selection_type=parent_selection_type, keep_parents=keep_parents, crossover_type=crossover_type, mutation_type=mutation_type, mutation_percent_genes=mutation_percentage_genes, gene_type=gene_type, gene_space=gene_space)\n",
    "ga_instance.run()\n",
    "solution, solution_fitness, solution_idx = ga_instance.best_solution()\n",
    "print(\"Parameters of the best solution : {solution}\".format(solution=solution))\n",
    "print(\"Fitness value of the best solution = {solution_fitness}\".format(solution_fitness=solution_fitness))\n",
    "\n",
    "workstation_assignments = reformat_pygad_result(solution, orders, env)\n",
    "visualize(workstation_assignments, [], [], [], num_generations+1)"
   ]
  },
  {
   "cell_type": "markdown",
   "metadata": {},
   "source": [
    "Testing DEAP"
   ]
  },
  {
   "cell_type": "code",
   "execution_count": 12,
   "metadata": {},
   "outputs": [],
   "source": [
    "from deap import creator, base, tools, algorithms"
   ]
  },
  {
   "cell_type": "code",
   "execution_count": 13,
   "metadata": {},
   "outputs": [
    {
     "name": "stdout",
     "output_type": "stream",
     "text": [
      "[1, 1, 1, 1, 1, 1, 1, 1, 1, 1, 1, 1, 1, 1, 1, 1, 1, 1, 1, 1, 1, 1, 1, 1, 1, 1, 1, 1, 1, 1, 1, 1, 1, 1, 1, 1, 1, 1, 1, 1, 1, 1, 1, 1, 1, 1, 1, 1, 1, 1, 1, 1, 1, 1, 1, 1, 1, 1, 1, 1, 1, 1, 1, 1, 1, 1, 1, 1, 1, 1, 1, 1, 1, 1, 1, 1, 1, 1, 1, 1, 1, 1, 1, 1, 1, 1, 1, 1, 1, 1, 1, 1, 1, 1, 1, 1, 1, 1, 0, 1]\n"
     ]
    }
   ],
   "source": [
    "creator.create(\"FitnessMax\", base.Fitness, weights=(1.0,))\n",
    "creator.create(\"Individual\", list, fitness=creator.FitnessMax)\n",
    "\n",
    "toolbox = base.Toolbox()\n",
    "\n",
    "toolbox.register(\"attr_bool\", random.randint, 0, 1)\n",
    "toolbox.register(\"individual\", tools.initRepeat, creator.Individual, toolbox.attr_bool, n=100)\n",
    "toolbox.register(\"population\", tools.initRepeat, list, toolbox.individual)\n",
    "\n",
    "def evalOneMax(individual):\n",
    "    return sum(individual),\n",
    "\n",
    "#NOTE: not in use yet\n",
    "def fitness_function(solution):\n",
    "    fitness = 0\n",
    "    if feasible(solution):\n",
    "        min = float('inf')\n",
    "        max = -float('inf')\n",
    "        i = 0\n",
    "        for gene in solution:\n",
    "            if i == 2:\n",
    "                if gene < min:\n",
    "                    min = gene\n",
    "                duration = env.get_duration(solution[i-2], solution[i-1])\n",
    "                if gene + duration > max:\n",
    "                    max = gene + duration\n",
    "            i += 1\n",
    "            if i > 2:\n",
    "                i = 0\n",
    "        fitness += abs(max - min)\n",
    "    else:\n",
    "        fitness = 2 * last_time_slot\n",
    "    return fitness\n",
    "\n",
    "#NOTE: not in use yet\n",
    "def mutation_function(offspring):\n",
    "    for i in range(len(offspring)):\n",
    "        if random.random() < 1 / len(operations):\n",
    "            task = offspring[i*3]\n",
    "            alternatives = get_alternative_tasks(task)\n",
    "            offspring[i*3] = random.choice(alternatives).id\n",
    "            offspring[i*3+1] = random.choice(env.get_valid_workstations(offspring[i*3])).id\n",
    "            offspring[i*3+2] = random.randint(earliest_time_slot, last_time_slot)\n",
    "    return offspring\n",
    "\n",
    "toolbox.register(\"evaluate\", evalOneMax)\n",
    "toolbox.register(\"mate\", tools.cxTwoPoint)\n",
    "toolbox.register(\"mutate\", tools.mutFlipBit, indpb=0.05)\n",
    "toolbox.register(\"select\", tools.selTournament, tournsize=3)\n",
    "\n",
    "population = toolbox.population(n=300)\n",
    "\n",
    "NGEN=40\n",
    "for gen in range(NGEN):\n",
    "    offspring = algorithms.varAnd(population, toolbox, cxpb=0.5, mutpb=0.1)\n",
    "    fits = toolbox.map(toolbox.evaluate, offspring)\n",
    "    for fit, ind in zip(fits, offspring):\n",
    "        ind.fitness.values = fit\n",
    "    population = toolbox.select(offspring, k=len(population))\n",
    "top10 = tools.selBest(population, k=10)\n",
    "print(top10[0])"
   ]
  },
  {
   "cell_type": "markdown",
   "metadata": {},
   "source": [
    "Visualization Code"
   ]
  },
  {
   "cell_type": "code",
   "execution_count": 14,
   "metadata": {},
   "outputs": [],
   "source": [
    "def get_colors(n): \n",
    "    ret = [] \n",
    "    r = int(random.random() * 256) \n",
    "    g = int(random.random() * 256) \n",
    "    b = int(random.random() * 256) \n",
    "    step = 256 / n \n",
    "    for i in range(n): \n",
    "        r += step \n",
    "        g += step \n",
    "        b += step \n",
    "        r = int(r) % 256 \n",
    "        g = int(g) % 256 \n",
    "        b = int(b) % 256 \n",
    "        ret.append((r,g,b))  \n",
    "    return ret\n",
    "\n",
    "def visualize(data):\n",
    "    # data format: 0 - workstation, 1 - job id, 2 - start time, 3 - duration\n",
    "    colors = {}\n",
    "    rgb_values = get_colors(len(orders))\n",
    "    for i in range(len(orders)):\n",
    "        colors[str(f'Order {i}')] = f'rgb({rgb_values[i][0]}, {rgb_values[i][1]}, {rgb_values[i][2]})' # just ignore colors for now\n",
    "    composed_data = []\n",
    "    \n",
    "    for i in range(len(data)):\n",
    "        label = f'W{data[i][0]}'\n",
    "        start = data[i][2]\n",
    "        end = start + data[i][3]\n",
    "        composed_data.append(\n",
    "                    dict(Task=label, Start=start, Finish=end, Resource=f'Order {order_for_index[i]}')\n",
    "                )\n",
    "        #print(composed_data)\n",
    "    fig = ff.create_gantt(composed_data, colors=colors, index_col='Resource', show_colorbar=True,\n",
    "                        group_tasks=True, showgrid_x=True)\n",
    "    fig.update_layout(xaxis_type='linear')\n",
    "    \"\"\"import plotly.express as px\n",
    "    fig = px.timeline(composed_data, x_start='Start', x_end='Finish', y='Task', color='Resource')\"\"\" # for some reason doesn't do what it's supposed to do\n",
    "    fig.show()"
   ]
  },
  {
   "cell_type": "code",
   "execution_count": 15,
   "metadata": {},
   "outputs": [
    {
     "name": "stdout",
     "output_type": "stream",
     "text": [
      "Parameters of the best solution : [6 6 6 6 6 6 5 3 6 6 6 6 6 6 6]\n",
      "Fitness value of the best solution = 1950\n",
      "Parameters of the best solution : [ 146 2291  412 3582  943 4510  926 3253 1572  599 4736   66 4337 3366\n",
      " 2119]\n",
      "Fitness value of the best solution = 9999\n"
     ]
    }
   ],
   "source": [
    "import pygad\n",
    "import plotly.figure_factory as ff\n",
    "\"\"\"\n",
    "# bin packing\n",
    "dict<task_id, dict<workstation_id, duration>> for lookups\n",
    "\n",
    "> min duration for each workstation\n",
    "> balance amount of tasks on each workstations\n",
    "> balance working time on each workstation\n",
    "\n",
    "> feasible if all tasks are on a valid workstation for that task\n",
    "\n",
    "# time slot scheduling\n",
    "# move starting times for each job on each workstation\n",
    "> min makespan\n",
    "> min tardy jobs\n",
    "\n",
    "> feasible if order of associated jobs is in tact\n",
    "\"\"\"\n",
    "# duration lookup table\n",
    "duration_lookup_table = dict()\n",
    "for task in tasks:\n",
    "    for workstation in env.get_valid_workstations(task.id):\n",
    "        if not task in duration_lookup_table:\n",
    "            duration_lookup_table[task.id] = dict()\n",
    "        duration_lookup_table[task.id][workstation.id] = env.get_duration(task.id, workstation.id)\n",
    "\n",
    "operations = []\n",
    "order_for_index = []\n",
    "for order in orders_model:\n",
    "    for resource in order.resources:\n",
    "        recipe = resource.recipes[0] # just use recipe 0 for now\n",
    "        recipe_tasks = env.get_all_tasks_for_recipe(recipe.id)\n",
    "        results = dict()\n",
    "        for task in recipe_tasks:\n",
    "            if task.result_resources[0][0] not in results:\n",
    "                results[task.result_resources[0][0]] = []\n",
    "            results[task.result_resources[0][0]].append(task)\n",
    "        for key in results:\n",
    "            operations.append(random.choice(results[key]).id)\n",
    "            order_for_index.append(order.id)\n",
    "assignments = []\n",
    "\n",
    "for operation in operations:\n",
    "    workstation = env.get_valid_workstations(operation)\n",
    "    # random init\n",
    "    assignments.append(random.choice(workstation).id)\n",
    "\n",
    "def fitness_function(solution, solution_idx):\n",
    "    bins = dict()\n",
    "    sum = 0\n",
    "    max_sum = 0\n",
    "    for operation in list(duration_lookup_table.keys()):\n",
    "        max = -float('inf')\n",
    "        for workstation in list(duration_lookup_table[operation].keys()):\n",
    "            if duration_lookup_table[operation][workstation] > max:\n",
    "                max = duration_lookup_table[operation][workstation]\n",
    "        max_sum += max\n",
    "    for i in range(len(solution)):\n",
    "        if solution[i] not in duration_lookup_table[operations[i]]: # illegal combination\n",
    "            return len(solution) * 10000 * -1\n",
    "        if i not in bins:\n",
    "            bins[i] = 0\n",
    "        sum += duration_lookup_table[operations[i]][solution[i]] # minimize working minutes for all workstations\n",
    "        #bins[i] += duration_lookup_table[operations[i]][solution[i]]\n",
    "    return sum * -1\n",
    "\n",
    "def mutation_function(offsprings, ga_instance):\n",
    "    for offspring in offsprings:\n",
    "        p = 1 / len(offspring)\n",
    "        for i in range(len(offspring)):\n",
    "            if random.random() < p:\n",
    "                offspring[i] = random.choice(list(duration_lookup_table[operations[i]].keys()))\n",
    "    return offsprings\n",
    "\n",
    "num_genes = len(assignments)\n",
    "num_generations = 5000\n",
    "num_parents_mating = 50\n",
    "sol_per_pop = 100\n",
    "init_range_low = 0\n",
    "init_range_high = last_time_slot\n",
    "parent_selection_type = 'rws'\n",
    "keep_parents = 10\n",
    "crossover_type = 'two_points'\n",
    "mutation_type = mutation_function\n",
    "#mutation_type = 'random'\n",
    "mutation_percentage_genes = 10\n",
    "fitness_func = fitness_function\n",
    "gene_type = int\n",
    "space_workstations = {'low': 1, 'high': len(workstations)-1}\n",
    "gene_space = []\n",
    "for i in range(len(assignments)):\n",
    "    gene_space.append(space_workstations)\n",
    "ga_instance = pygad.GA(num_generations=num_generations, num_parents_mating=num_parents_mating, fitness_func=fitness_func, sol_per_pop=sol_per_pop, num_genes=num_genes, init_range_low=init_range_low, init_range_high=init_range_high, parent_selection_type=parent_selection_type, keep_parents=keep_parents, crossover_type=crossover_type, mutation_type=mutation_type, mutation_percent_genes=mutation_percentage_genes, gene_type=gene_type, gene_space=gene_space)\n",
    "ga_instance.run()\n",
    "solution, solution_fitness, solution_idx = ga_instance.best_solution()\n",
    "\n",
    "print(\"Parameters of the best solution : {solution}\".format(solution=solution))\n",
    "print(\"Fitness value of the best solution = {solution_fitness}\".format(solution_fitness=abs(solution_fitness) - 1))\n",
    "\n",
    "def is_feasible(solution):\n",
    "    for i in range(len(solution)):\n",
    "        start = solution[i]\n",
    "        end = start + duration_lookup_table[operations[i]][assignments[i]]\n",
    "        if end > last_time_slot:\n",
    "            return False\n",
    "        if start < earliest_time_slot:\n",
    "            return False\n",
    "        # overlap\n",
    "        same_workstation = [] # append indices of jobs running on the same workstation\n",
    "        for j in range(len(assignments)):\n",
    "            if assignments[j] == assignments[i] and i != j:\n",
    "                same_workstation.append(j)\n",
    "        for j in range(len(same_workstation)):\n",
    "            other_start = solution[same_workstation[j]]\n",
    "            other_end = other_start + duration_lookup_table[operations[same_workstation[j]]][assignments[same_workstation[j]]]\n",
    "            if start > other_start and start < other_end:\n",
    "                return False\n",
    "            if end > other_start and end < other_end:\n",
    "                return False\n",
    "            if other_start > start and other_start < end:\n",
    "                return False\n",
    "            if other_end > start and other_end < end:\n",
    "                return False\n",
    "        # check sequence\n",
    "        order = order_for_index[i]\n",
    "        if i > 0:\n",
    "            if order_for_index[i-1] == order: # same order\n",
    "                prev_start = solution[i-1]\n",
    "                prev_end = prev_start + duration_lookup_table[operations[i-1]][assignments[i-1]]\n",
    "                if prev_end > start:\n",
    "                    return False\n",
    "    return True\n",
    "\n",
    "def fitness_function_time_slots(solution, solution_idx):\n",
    "    fitness = 1\n",
    "    if not is_feasible(solution):\n",
    "        #fitness += last_time_slot\n",
    "        return -2 * last_time_slot\n",
    "    max = -float('inf')\n",
    "    min = float('inf')\n",
    "    for i in range(len(solution)):\n",
    "        start = solution[i]\n",
    "        end = start + duration_lookup_table[operations[i]][assignments[i]]\n",
    "        if start < min:\n",
    "            min = start\n",
    "        if end > max:\n",
    "            max = end\n",
    "    fitness += abs(max - min)\n",
    "    return -fitness\n",
    "\n",
    "def mutation_function_time_slots(offsprings, ga_instance):\n",
    "    for offspring in offsprings:\n",
    "        p = 1 / len(offspring)\n",
    "        for i in range(len(offspring)):\n",
    "            if random.random() < p:\n",
    "                offspring[i] = random.randint(earliest_time_slot, last_time_slot)\n",
    "    return offsprings\n",
    "\n",
    "assignments = solution\n",
    "start_slots = []\n",
    "for assignment in assignments:\n",
    "    start_slots.append(0)\n",
    "num_genes = len(start_slots)\n",
    "num_generations = 5000\n",
    "num_parents_mating = 50\n",
    "sol_per_pop = 100\n",
    "init_range_low = 0\n",
    "init_range_high = last_time_slot\n",
    "parent_selection_type = 'rws'\n",
    "keep_parents = 10\n",
    "crossover_type = 'two_points'\n",
    "mutation_type = mutation_function_time_slots\n",
    "#mutation_type = 'random'\n",
    "mutation_percentage_genes = 10\n",
    "fitness_func = fitness_function_time_slots\n",
    "gene_type = int\n",
    "space_time = {'low': earliest_time_slot, 'high': last_time_slot}\n",
    "gene_space = []\n",
    "for i in range(len(assignments)):\n",
    "    gene_space.append(space_time)\n",
    "ga_instance = pygad.GA(num_generations=num_generations, num_parents_mating=num_parents_mating, fitness_func=fitness_func, sol_per_pop=sol_per_pop, num_genes=num_genes, init_range_low=init_range_low, init_range_high=init_range_high, parent_selection_type=parent_selection_type, keep_parents=keep_parents, crossover_type=crossover_type, mutation_type=mutation_type, mutation_percent_genes=mutation_percentage_genes, gene_type=gene_type, gene_space=gene_space)\n",
    "ga_instance.run()\n",
    "solution, solution_fitness, solution_idx = ga_instance.best_solution()\n",
    "print(\"Parameters of the best solution : {solution}\".format(solution=solution))\n",
    "print(\"Fitness value of the best solution = {solution_fitness}\".format(solution_fitness=abs(solution_fitness) - 1))\n"
   ]
  },
  {
   "cell_type": "code",
   "execution_count": 16,
   "metadata": {},
   "outputs": [
    {
     "data": {
      "application/vnd.plotly.v1+json": {
       "config": {
        "plotlyServerURL": "https://plot.ly"
       },
       "data": [
        {
         "fill": "toself",
         "fillcolor": "rgb(115, 20, 246)",
         "hoverinfo": "name",
         "legendgroup": "rgb(115, 20, 246)",
         "mode": "none",
         "name": "Order 4",
         "type": "scatter",
         "x": [
          4337,
          4491,
          4491,
          4337,
          4337,
          3366,
          3471,
          3471,
          3366,
          3366,
          2119,
          2299,
          2299,
          2119
         ],
         "y": [
          1.8,
          1.8,
          2.2,
          2.2,
          null,
          1.8,
          1.8,
          2.2,
          2.2,
          null,
          1.8,
          1.8,
          2.2,
          2.2
         ]
        },
        {
         "fill": "toself",
         "fillcolor": "rgb(13, 174, 144)",
         "hoverinfo": "name",
         "legendgroup": "rgb(13, 174, 144)",
         "mode": "none",
         "name": "Order 2",
         "type": "scatter",
         "x": [
          926,
          1066,
          1066,
          926,
          926,
          3253,
          3350,
          3350,
          3253,
          3253,
          1572,
          1667,
          1667,
          1572
         ],
         "y": [
          0.8,
          0.8,
          1.2,
          1.2,
          null,
          -0.2,
          -0.2,
          0.2,
          0.2,
          null,
          1.8,
          1.8,
          2.2,
          2.2
         ]
        },
        {
         "fill": "toself",
         "fillcolor": "rgb(167, 72, 42)",
         "hoverinfo": "name",
         "legendgroup": "rgb(167, 72, 42)",
         "mode": "none",
         "name": "Order 0",
         "type": "scatter",
         "x": [
          146,
          211,
          211,
          146,
          146,
          2291,
          2505,
          2505,
          2291,
          2291,
          412,
          554,
          554,
          412
         ],
         "y": [
          1.8,
          1.8,
          2.2,
          2.2,
          null,
          1.8,
          1.8,
          2.2,
          2.2,
          null,
          1.8,
          1.8,
          2.2,
          2.2
         ]
        },
        {
         "fill": "toself",
         "fillcolor": "rgb(218, 123, 93)",
         "hoverinfo": "name",
         "legendgroup": "rgb(218, 123, 93)",
         "mode": "none",
         "name": "Order 1",
         "type": "scatter",
         "x": [
          3582,
          3648,
          3648,
          3582,
          3582,
          943,
          1116,
          1116,
          943,
          943,
          4510,
          4646,
          4646,
          4510
         ],
         "y": [
          1.8,
          1.8,
          2.2,
          2.2,
          null,
          1.8,
          1.8,
          2.2,
          2.2,
          null,
          1.8,
          1.8,
          2.2,
          2.2
         ]
        },
        {
         "fill": "toself",
         "fillcolor": "rgb(64, 225, 195)",
         "hoverinfo": "name",
         "legendgroup": "rgb(64, 225, 195)",
         "mode": "none",
         "name": "Order 3",
         "type": "scatter",
         "x": [
          599,
          665,
          665,
          599,
          599,
          4736,
          4909,
          4909,
          4736,
          4736,
          66,
          211,
          211,
          66
         ],
         "y": [
          1.8,
          1.8,
          2.2,
          2.2,
          null,
          1.8,
          1.8,
          2.2,
          2.2,
          null,
          1.8,
          1.8,
          2.2,
          2.2
         ]
        },
        {
         "legendgroup": "rgb(115, 20, 246)",
         "marker": {
          "color": "rgb(115, 20, 246)",
          "opacity": 0,
          "size": 1
         },
         "mode": "markers",
         "name": "",
         "showlegend": false,
         "text": [
          null,
          null,
          null,
          null,
          null,
          null
         ],
         "type": "scatter",
         "x": [
          4337,
          4491,
          3366,
          3471,
          2119,
          2299
         ],
         "y": [
          2,
          2,
          2,
          2,
          2,
          2
         ]
        },
        {
         "legendgroup": "rgb(13, 174, 144)",
         "marker": {
          "color": "rgb(13, 174, 144)",
          "opacity": 0,
          "size": 1
         },
         "mode": "markers",
         "name": "",
         "showlegend": false,
         "text": [
          null,
          null,
          null,
          null,
          null,
          null
         ],
         "type": "scatter",
         "x": [
          926,
          1066,
          3253,
          3350,
          1572,
          1667
         ],
         "y": [
          1,
          1,
          0,
          0,
          2,
          2
         ]
        },
        {
         "legendgroup": "rgb(167, 72, 42)",
         "marker": {
          "color": "rgb(167, 72, 42)",
          "opacity": 0,
          "size": 1
         },
         "mode": "markers",
         "name": "",
         "showlegend": false,
         "text": [
          null,
          null,
          null,
          null,
          null,
          null
         ],
         "type": "scatter",
         "x": [
          146,
          211,
          2291,
          2505,
          412,
          554
         ],
         "y": [
          2,
          2,
          2,
          2,
          2,
          2
         ]
        },
        {
         "legendgroup": "rgb(218, 123, 93)",
         "marker": {
          "color": "rgb(218, 123, 93)",
          "opacity": 0,
          "size": 1
         },
         "mode": "markers",
         "name": "",
         "showlegend": false,
         "text": [
          null,
          null,
          null,
          null,
          null,
          null
         ],
         "type": "scatter",
         "x": [
          3582,
          3648,
          943,
          1116,
          4510,
          4646
         ],
         "y": [
          2,
          2,
          2,
          2,
          2,
          2
         ]
        },
        {
         "legendgroup": "rgb(64, 225, 195)",
         "marker": {
          "color": "rgb(64, 225, 195)",
          "opacity": 0,
          "size": 1
         },
         "mode": "markers",
         "name": "",
         "showlegend": false,
         "text": [
          null,
          null,
          null,
          null,
          null,
          null
         ],
         "type": "scatter",
         "x": [
          599,
          665,
          4736,
          4909,
          66,
          211
         ],
         "y": [
          2,
          2,
          2,
          2,
          2,
          2
         ]
        }
       ],
       "layout": {
        "height": 600,
        "hovermode": "closest",
        "showlegend": true,
        "template": {
         "data": {
          "bar": [
           {
            "error_x": {
             "color": "#2a3f5f"
            },
            "error_y": {
             "color": "#2a3f5f"
            },
            "marker": {
             "line": {
              "color": "#E5ECF6",
              "width": 0.5
             },
             "pattern": {
              "fillmode": "overlay",
              "size": 10,
              "solidity": 0.2
             }
            },
            "type": "bar"
           }
          ],
          "barpolar": [
           {
            "marker": {
             "line": {
              "color": "#E5ECF6",
              "width": 0.5
             },
             "pattern": {
              "fillmode": "overlay",
              "size": 10,
              "solidity": 0.2
             }
            },
            "type": "barpolar"
           }
          ],
          "carpet": [
           {
            "aaxis": {
             "endlinecolor": "#2a3f5f",
             "gridcolor": "white",
             "linecolor": "white",
             "minorgridcolor": "white",
             "startlinecolor": "#2a3f5f"
            },
            "baxis": {
             "endlinecolor": "#2a3f5f",
             "gridcolor": "white",
             "linecolor": "white",
             "minorgridcolor": "white",
             "startlinecolor": "#2a3f5f"
            },
            "type": "carpet"
           }
          ],
          "choropleth": [
           {
            "colorbar": {
             "outlinewidth": 0,
             "ticks": ""
            },
            "type": "choropleth"
           }
          ],
          "contour": [
           {
            "colorbar": {
             "outlinewidth": 0,
             "ticks": ""
            },
            "colorscale": [
             [
              0,
              "#0d0887"
             ],
             [
              0.1111111111111111,
              "#46039f"
             ],
             [
              0.2222222222222222,
              "#7201a8"
             ],
             [
              0.3333333333333333,
              "#9c179e"
             ],
             [
              0.4444444444444444,
              "#bd3786"
             ],
             [
              0.5555555555555556,
              "#d8576b"
             ],
             [
              0.6666666666666666,
              "#ed7953"
             ],
             [
              0.7777777777777778,
              "#fb9f3a"
             ],
             [
              0.8888888888888888,
              "#fdca26"
             ],
             [
              1,
              "#f0f921"
             ]
            ],
            "type": "contour"
           }
          ],
          "contourcarpet": [
           {
            "colorbar": {
             "outlinewidth": 0,
             "ticks": ""
            },
            "type": "contourcarpet"
           }
          ],
          "heatmap": [
           {
            "colorbar": {
             "outlinewidth": 0,
             "ticks": ""
            },
            "colorscale": [
             [
              0,
              "#0d0887"
             ],
             [
              0.1111111111111111,
              "#46039f"
             ],
             [
              0.2222222222222222,
              "#7201a8"
             ],
             [
              0.3333333333333333,
              "#9c179e"
             ],
             [
              0.4444444444444444,
              "#bd3786"
             ],
             [
              0.5555555555555556,
              "#d8576b"
             ],
             [
              0.6666666666666666,
              "#ed7953"
             ],
             [
              0.7777777777777778,
              "#fb9f3a"
             ],
             [
              0.8888888888888888,
              "#fdca26"
             ],
             [
              1,
              "#f0f921"
             ]
            ],
            "type": "heatmap"
           }
          ],
          "heatmapgl": [
           {
            "colorbar": {
             "outlinewidth": 0,
             "ticks": ""
            },
            "colorscale": [
             [
              0,
              "#0d0887"
             ],
             [
              0.1111111111111111,
              "#46039f"
             ],
             [
              0.2222222222222222,
              "#7201a8"
             ],
             [
              0.3333333333333333,
              "#9c179e"
             ],
             [
              0.4444444444444444,
              "#bd3786"
             ],
             [
              0.5555555555555556,
              "#d8576b"
             ],
             [
              0.6666666666666666,
              "#ed7953"
             ],
             [
              0.7777777777777778,
              "#fb9f3a"
             ],
             [
              0.8888888888888888,
              "#fdca26"
             ],
             [
              1,
              "#f0f921"
             ]
            ],
            "type": "heatmapgl"
           }
          ],
          "histogram": [
           {
            "marker": {
             "pattern": {
              "fillmode": "overlay",
              "size": 10,
              "solidity": 0.2
             }
            },
            "type": "histogram"
           }
          ],
          "histogram2d": [
           {
            "colorbar": {
             "outlinewidth": 0,
             "ticks": ""
            },
            "colorscale": [
             [
              0,
              "#0d0887"
             ],
             [
              0.1111111111111111,
              "#46039f"
             ],
             [
              0.2222222222222222,
              "#7201a8"
             ],
             [
              0.3333333333333333,
              "#9c179e"
             ],
             [
              0.4444444444444444,
              "#bd3786"
             ],
             [
              0.5555555555555556,
              "#d8576b"
             ],
             [
              0.6666666666666666,
              "#ed7953"
             ],
             [
              0.7777777777777778,
              "#fb9f3a"
             ],
             [
              0.8888888888888888,
              "#fdca26"
             ],
             [
              1,
              "#f0f921"
             ]
            ],
            "type": "histogram2d"
           }
          ],
          "histogram2dcontour": [
           {
            "colorbar": {
             "outlinewidth": 0,
             "ticks": ""
            },
            "colorscale": [
             [
              0,
              "#0d0887"
             ],
             [
              0.1111111111111111,
              "#46039f"
             ],
             [
              0.2222222222222222,
              "#7201a8"
             ],
             [
              0.3333333333333333,
              "#9c179e"
             ],
             [
              0.4444444444444444,
              "#bd3786"
             ],
             [
              0.5555555555555556,
              "#d8576b"
             ],
             [
              0.6666666666666666,
              "#ed7953"
             ],
             [
              0.7777777777777778,
              "#fb9f3a"
             ],
             [
              0.8888888888888888,
              "#fdca26"
             ],
             [
              1,
              "#f0f921"
             ]
            ],
            "type": "histogram2dcontour"
           }
          ],
          "mesh3d": [
           {
            "colorbar": {
             "outlinewidth": 0,
             "ticks": ""
            },
            "type": "mesh3d"
           }
          ],
          "parcoords": [
           {
            "line": {
             "colorbar": {
              "outlinewidth": 0,
              "ticks": ""
             }
            },
            "type": "parcoords"
           }
          ],
          "pie": [
           {
            "automargin": true,
            "type": "pie"
           }
          ],
          "scatter": [
           {
            "marker": {
             "colorbar": {
              "outlinewidth": 0,
              "ticks": ""
             }
            },
            "type": "scatter"
           }
          ],
          "scatter3d": [
           {
            "line": {
             "colorbar": {
              "outlinewidth": 0,
              "ticks": ""
             }
            },
            "marker": {
             "colorbar": {
              "outlinewidth": 0,
              "ticks": ""
             }
            },
            "type": "scatter3d"
           }
          ],
          "scattercarpet": [
           {
            "marker": {
             "colorbar": {
              "outlinewidth": 0,
              "ticks": ""
             }
            },
            "type": "scattercarpet"
           }
          ],
          "scattergeo": [
           {
            "marker": {
             "colorbar": {
              "outlinewidth": 0,
              "ticks": ""
             }
            },
            "type": "scattergeo"
           }
          ],
          "scattergl": [
           {
            "marker": {
             "colorbar": {
              "outlinewidth": 0,
              "ticks": ""
             }
            },
            "type": "scattergl"
           }
          ],
          "scattermapbox": [
           {
            "marker": {
             "colorbar": {
              "outlinewidth": 0,
              "ticks": ""
             }
            },
            "type": "scattermapbox"
           }
          ],
          "scatterpolar": [
           {
            "marker": {
             "colorbar": {
              "outlinewidth": 0,
              "ticks": ""
             }
            },
            "type": "scatterpolar"
           }
          ],
          "scatterpolargl": [
           {
            "marker": {
             "colorbar": {
              "outlinewidth": 0,
              "ticks": ""
             }
            },
            "type": "scatterpolargl"
           }
          ],
          "scatterternary": [
           {
            "marker": {
             "colorbar": {
              "outlinewidth": 0,
              "ticks": ""
             }
            },
            "type": "scatterternary"
           }
          ],
          "surface": [
           {
            "colorbar": {
             "outlinewidth": 0,
             "ticks": ""
            },
            "colorscale": [
             [
              0,
              "#0d0887"
             ],
             [
              0.1111111111111111,
              "#46039f"
             ],
             [
              0.2222222222222222,
              "#7201a8"
             ],
             [
              0.3333333333333333,
              "#9c179e"
             ],
             [
              0.4444444444444444,
              "#bd3786"
             ],
             [
              0.5555555555555556,
              "#d8576b"
             ],
             [
              0.6666666666666666,
              "#ed7953"
             ],
             [
              0.7777777777777778,
              "#fb9f3a"
             ],
             [
              0.8888888888888888,
              "#fdca26"
             ],
             [
              1,
              "#f0f921"
             ]
            ],
            "type": "surface"
           }
          ],
          "table": [
           {
            "cells": {
             "fill": {
              "color": "#EBF0F8"
             },
             "line": {
              "color": "white"
             }
            },
            "header": {
             "fill": {
              "color": "#C8D4E3"
             },
             "line": {
              "color": "white"
             }
            },
            "type": "table"
           }
          ]
         },
         "layout": {
          "annotationdefaults": {
           "arrowcolor": "#2a3f5f",
           "arrowhead": 0,
           "arrowwidth": 1
          },
          "autotypenumbers": "strict",
          "coloraxis": {
           "colorbar": {
            "outlinewidth": 0,
            "ticks": ""
           }
          },
          "colorscale": {
           "diverging": [
            [
             0,
             "#8e0152"
            ],
            [
             0.1,
             "#c51b7d"
            ],
            [
             0.2,
             "#de77ae"
            ],
            [
             0.3,
             "#f1b6da"
            ],
            [
             0.4,
             "#fde0ef"
            ],
            [
             0.5,
             "#f7f7f7"
            ],
            [
             0.6,
             "#e6f5d0"
            ],
            [
             0.7,
             "#b8e186"
            ],
            [
             0.8,
             "#7fbc41"
            ],
            [
             0.9,
             "#4d9221"
            ],
            [
             1,
             "#276419"
            ]
           ],
           "sequential": [
            [
             0,
             "#0d0887"
            ],
            [
             0.1111111111111111,
             "#46039f"
            ],
            [
             0.2222222222222222,
             "#7201a8"
            ],
            [
             0.3333333333333333,
             "#9c179e"
            ],
            [
             0.4444444444444444,
             "#bd3786"
            ],
            [
             0.5555555555555556,
             "#d8576b"
            ],
            [
             0.6666666666666666,
             "#ed7953"
            ],
            [
             0.7777777777777778,
             "#fb9f3a"
            ],
            [
             0.8888888888888888,
             "#fdca26"
            ],
            [
             1,
             "#f0f921"
            ]
           ],
           "sequentialminus": [
            [
             0,
             "#0d0887"
            ],
            [
             0.1111111111111111,
             "#46039f"
            ],
            [
             0.2222222222222222,
             "#7201a8"
            ],
            [
             0.3333333333333333,
             "#9c179e"
            ],
            [
             0.4444444444444444,
             "#bd3786"
            ],
            [
             0.5555555555555556,
             "#d8576b"
            ],
            [
             0.6666666666666666,
             "#ed7953"
            ],
            [
             0.7777777777777778,
             "#fb9f3a"
            ],
            [
             0.8888888888888888,
             "#fdca26"
            ],
            [
             1,
             "#f0f921"
            ]
           ]
          },
          "colorway": [
           "#636efa",
           "#EF553B",
           "#00cc96",
           "#ab63fa",
           "#FFA15A",
           "#19d3f3",
           "#FF6692",
           "#B6E880",
           "#FF97FF",
           "#FECB52"
          ],
          "font": {
           "color": "#2a3f5f"
          },
          "geo": {
           "bgcolor": "white",
           "lakecolor": "white",
           "landcolor": "#E5ECF6",
           "showlakes": true,
           "showland": true,
           "subunitcolor": "white"
          },
          "hoverlabel": {
           "align": "left"
          },
          "hovermode": "closest",
          "mapbox": {
           "style": "light"
          },
          "paper_bgcolor": "white",
          "plot_bgcolor": "#E5ECF6",
          "polar": {
           "angularaxis": {
            "gridcolor": "white",
            "linecolor": "white",
            "ticks": ""
           },
           "bgcolor": "#E5ECF6",
           "radialaxis": {
            "gridcolor": "white",
            "linecolor": "white",
            "ticks": ""
           }
          },
          "scene": {
           "xaxis": {
            "backgroundcolor": "#E5ECF6",
            "gridcolor": "white",
            "gridwidth": 2,
            "linecolor": "white",
            "showbackground": true,
            "ticks": "",
            "zerolinecolor": "white"
           },
           "yaxis": {
            "backgroundcolor": "#E5ECF6",
            "gridcolor": "white",
            "gridwidth": 2,
            "linecolor": "white",
            "showbackground": true,
            "ticks": "",
            "zerolinecolor": "white"
           },
           "zaxis": {
            "backgroundcolor": "#E5ECF6",
            "gridcolor": "white",
            "gridwidth": 2,
            "linecolor": "white",
            "showbackground": true,
            "ticks": "",
            "zerolinecolor": "white"
           }
          },
          "shapedefaults": {
           "line": {
            "color": "#2a3f5f"
           }
          },
          "ternary": {
           "aaxis": {
            "gridcolor": "white",
            "linecolor": "white",
            "ticks": ""
           },
           "baxis": {
            "gridcolor": "white",
            "linecolor": "white",
            "ticks": ""
           },
           "bgcolor": "#E5ECF6",
           "caxis": {
            "gridcolor": "white",
            "linecolor": "white",
            "ticks": ""
           }
          },
          "title": {
           "x": 0.05
          },
          "xaxis": {
           "automargin": true,
           "gridcolor": "white",
           "linecolor": "white",
           "ticks": "",
           "title": {
            "standoff": 15
           },
           "zerolinecolor": "white",
           "zerolinewidth": 2
          },
          "yaxis": {
           "automargin": true,
           "gridcolor": "white",
           "linecolor": "white",
           "ticks": "",
           "title": {
            "standoff": 15
           },
           "zerolinecolor": "white",
           "zerolinewidth": 2
          }
         }
        },
        "title": {
         "text": "Gantt Chart"
        },
        "xaxis": {
         "rangeselector": {
          "buttons": [
           {
            "count": 7,
            "label": "1w",
            "step": "day",
            "stepmode": "backward"
           },
           {
            "count": 1,
            "label": "1m",
            "step": "month",
            "stepmode": "backward"
           },
           {
            "count": 6,
            "label": "6m",
            "step": "month",
            "stepmode": "backward"
           },
           {
            "count": 1,
            "label": "YTD",
            "step": "year",
            "stepmode": "todate"
           },
           {
            "count": 1,
            "label": "1y",
            "step": "year",
            "stepmode": "backward"
           },
           {
            "step": "all"
           }
          ]
         },
         "showgrid": true,
         "type": "linear",
         "zeroline": false
        },
        "yaxis": {
         "autorange": false,
         "range": [
          -1,
          4
         ],
         "showgrid": false,
         "ticktext": [
          "W3",
          "W5",
          "W6"
         ],
         "tickvals": [
          0,
          1,
          2
         ],
         "zeroline": false
        }
       }
      }
     },
     "metadata": {},
     "output_type": "display_data"
    }
   ],
   "source": [
    "data = []\n",
    "for i in range(len(solution)):\n",
    "    data.append([assignments[i], operations[i], solution[i], duration_lookup_table[operations[i]][assignments[i]]])\n",
    "visualize(data)"
   ]
  },
  {
   "cell_type": "markdown",
   "metadata": {},
   "source": [
    "OneNote Example"
   ]
  },
  {
   "cell_type": "code",
   "execution_count": 17,
   "metadata": {},
   "outputs": [
    {
     "name": "stdout",
     "output_type": "stream",
     "text": [
      "Max duration: 21\n",
      "Parameters of the best solution : [ 9 13 15  7 14 15  8 10]\n",
      "Fitness value of the best solution = 12\n"
     ]
    }
   ],
   "source": [
    "# tasks = [0, 1, 2]\n",
    "jobs = [        # row = task_id\n",
    "    [0, 1, 2],\n",
    "    [0, 1, 2],\n",
    "    [0, 1]\n",
    "]\n",
    "# assume orders: {0, 1, 2}\n",
    "jobs_to_schedule = [0, 1, 2, 0, 1, 2, 0, 1]\n",
    "order_for_index = [0, 0, 0, 1, 1, 1, 2, 2]\n",
    "assignments = [0, 1, 2, 0, 2, 1, 1, 2]\n",
    "durations = [3, 2, 4, 2, 1, 3, 2, 4]\n",
    "# start_times = ?\n",
    "input = [0 for _ in range(len(jobs_to_schedule))]\n",
    "max_time = 0\n",
    "for duration in durations:\n",
    "    max_time += duration\n",
    "print(f'Max duration: {max_time}')\n",
    "max_time = max_time# * 3 # leave some room \n",
    "def mutation_function(offsprings, ga_isntance):\n",
    "    for offspring in offsprings:\n",
    "        p = 1 / len(offspring)\n",
    "        for i in range(len(offspring)):\n",
    "            if random.random() < p:\n",
    "                offspring[i] = random.randint(0, max_time)\n",
    "    return offsprings\n",
    "\n",
    "def is_feasible(solution):\n",
    "    for i in range(len(solution)):\n",
    "        if solution[i] < 0:\n",
    "            return False\n",
    "        if solution[i] + durations[i] > max_time:\n",
    "            return False\n",
    "        same_workstation = []\n",
    "        workstation = assignments[i]\n",
    "        for j in range(len(assignments)):\n",
    "            if i != j and assignments[j] == workstation:\n",
    "                same_workstation.append(j)\n",
    "        start = solution[i]\n",
    "        end = solution[i] + durations[i]\n",
    "        # check overlap on same workstation\n",
    "        for j in range(len(same_workstation)):\n",
    "            other_start = solution[same_workstation[j]]\n",
    "            other_end = other_start + durations[same_workstation[j]]\n",
    "            if start >= other_start and start < other_end:\n",
    "                return False\n",
    "            if end > other_start and end <= other_end:\n",
    "                return False\n",
    "            if other_start >= start and other_start < end:\n",
    "                return False\n",
    "            if other_end > start and other_end <= end:\n",
    "                return False\n",
    "        order = order_for_index[i]\n",
    "        # check sequence\n",
    "        if i > 0:\n",
    "            j = 1\n",
    "            while i-j >= 0 and order_for_index[i-j] == order:\n",
    "                prev_start = solution[i-j]\n",
    "                prev_end = prev_start + durations[i-j]\n",
    "                if prev_end > start:\n",
    "                    return False\n",
    "                j += 1\n",
    "    return True\n",
    "\n",
    "def fitness_function(solution, solution_idx):\n",
    "    fitness = 1\n",
    "    if not is_feasible(solution):\n",
    "        # fitness += max_time\n",
    "        return -2 * max_time\n",
    "    min = float('inf')\n",
    "    max = -float('inf')\n",
    "    for i in range(len(solution)):\n",
    "        if solution[i] < min:\n",
    "            min = solution[i]\n",
    "        if solution[i] + durations[i] > max:\n",
    "            max = solution[i] + durations[i]\n",
    "    fitness += abs(max - min)\n",
    "    return -fitness\n",
    "\n",
    "def idle_time_fitness_function(solution, solution_idx):\n",
    "    fitness = 1\n",
    "    if not is_feasible(solution):\n",
    "        return -10 * max_time\n",
    "    workstations = dict()\n",
    "    for i in range(len(assignments)):\n",
    "        if assignments[i] not in workstations:\n",
    "            workstations[assignments[i]] = []\n",
    "        workstations[assignments[i]].append(i) # add all indices which are assigned to each workstation\n",
    "    for workstation in workstations: # sort by start points\n",
    "        ordered = sorted(workstations[workstation], key=lambda x: solution[x]) # should create a copy\n",
    "        for i in range(len(ordered)):\n",
    "            if i == 0:\n",
    "                fitness += solution[ordered[i]] # add distance to 0 for first job scheduled on workstation\n",
    "            else:\n",
    "                fitness += (solution[ordered[i]] - (solution[ordered[i-1]] + durations[ordered[i-1]])) # start - end_prev\n",
    "    return -(fitness)\n",
    "\n",
    "num_genes = len(input)\n",
    "num_generations = 2500\n",
    "num_parents_mating = 50\n",
    "sol_per_pop = 100\n",
    "init_range_low = 0\n",
    "init_range_high = max_time\n",
    "parent_selection_type = 'rws'\n",
    "keep_parents = 10\n",
    "crossover_type = 'two_points'\n",
    "mutation_type = mutation_function\n",
    "#mutation_type = 'random'\n",
    "mutation_percentage_genes = 10\n",
    "mutation_num_genes = 1\n",
    "fitness_func = fitness_function\n",
    "#fitness_func = idle_time_fitness_function\n",
    "gene_type = int\n",
    "space_time = {'low': 0, 'high': max_time}\n",
    "gene_space = []\n",
    "for i in range(len(jobs_to_schedule)):\n",
    "    gene_space.append(space_time)\n",
    "ga_instance = pygad.GA(num_generations=num_generations, num_parents_mating=num_parents_mating, fitness_func=fitness_func, sol_per_pop=sol_per_pop, num_genes=num_genes, init_range_low=init_range_low, init_range_high=init_range_high, parent_selection_type=parent_selection_type, keep_parents=keep_parents, crossover_type=crossover_type, mutation_type=mutation_type, mutation_num_genes=mutation_num_genes, mutation_percent_genes=mutation_percentage_genes, gene_type=gene_type, gene_space=gene_space)#, save_solutions=True)\n",
    "ga_instance.run()\n",
    "solution, solution_fitness, solution_idx = ga_instance.best_solution()\n",
    "print(\"Parameters of the best solution : {solution}\".format(solution=solution))\n",
    "print(\"Fitness value of the best solution = {solution_fitness}\".format(solution_fitness=abs(solution_fitness) - 1))\n"
   ]
  },
  {
   "cell_type": "code",
   "execution_count": 18,
   "metadata": {},
   "outputs": [
    {
     "data": {
      "application/vnd.plotly.v1+json": {
       "config": {
        "plotlyServerURL": "https://plot.ly"
       },
       "data": [
        {
         "fill": "toself",
         "fillcolor": "rgb(1, 198, 87)",
         "hoverinfo": "name",
         "legendgroup": "rgb(1, 198, 87)",
         "mode": "none",
         "name": "Order 2",
         "type": "scatter",
         "x": [
          8,
          10,
          10,
          8,
          8,
          10,
          14,
          14,
          10
         ],
         "y": [
          0.8,
          0.8,
          1.2,
          1.2,
          null,
          -0.2,
          -0.2,
          0.2,
          0.2
         ]
        },
        {
         "fill": "toself",
         "fillcolor": "rgb(155, 96, 241)",
         "hoverinfo": "name",
         "legendgroup": "rgb(155, 96, 241)",
         "mode": "none",
         "name": "Order 0",
         "type": "scatter",
         "x": [
          9,
          12,
          12,
          9,
          9,
          13,
          15,
          15,
          13,
          13,
          15,
          19,
          19,
          15
         ],
         "y": [
          1.8,
          1.8,
          2.2,
          2.2,
          null,
          0.8,
          0.8,
          1.2,
          1.2,
          null,
          -0.2,
          -0.2,
          0.2,
          0.2
         ]
        },
        {
         "fill": "toself",
         "fillcolor": "rgb(206, 147, 36)",
         "hoverinfo": "name",
         "legendgroup": "rgb(206, 147, 36)",
         "mode": "none",
         "name": "Order 1",
         "type": "scatter",
         "x": [
          7,
          9,
          9,
          7,
          7,
          14,
          15,
          15,
          14,
          14,
          15,
          18,
          18,
          15
         ],
         "y": [
          1.8,
          1.8,
          2.2,
          2.2,
          null,
          -0.2,
          -0.2,
          0.2,
          0.2,
          null,
          0.8,
          0.8,
          1.2,
          1.2
         ]
        },
        {
         "legendgroup": "rgb(1, 198, 87)",
         "marker": {
          "color": "rgb(1, 198, 87)",
          "opacity": 0,
          "size": 1
         },
         "mode": "markers",
         "name": "",
         "showlegend": false,
         "text": [
          null,
          null,
          null,
          null
         ],
         "type": "scatter",
         "x": [
          8,
          10,
          10,
          14
         ],
         "y": [
          1,
          1,
          0,
          0
         ]
        },
        {
         "legendgroup": "rgb(155, 96, 241)",
         "marker": {
          "color": "rgb(155, 96, 241)",
          "opacity": 0,
          "size": 1
         },
         "mode": "markers",
         "name": "",
         "showlegend": false,
         "text": [
          null,
          null,
          null,
          null,
          null,
          null
         ],
         "type": "scatter",
         "x": [
          9,
          12,
          13,
          15,
          15,
          19
         ],
         "y": [
          2,
          2,
          1,
          1,
          0,
          0
         ]
        },
        {
         "legendgroup": "rgb(206, 147, 36)",
         "marker": {
          "color": "rgb(206, 147, 36)",
          "opacity": 0,
          "size": 1
         },
         "mode": "markers",
         "name": "",
         "showlegend": false,
         "text": [
          null,
          null,
          null,
          null,
          null,
          null
         ],
         "type": "scatter",
         "x": [
          7,
          9,
          14,
          15,
          15,
          18
         ],
         "y": [
          2,
          2,
          0,
          0,
          1,
          1
         ]
        }
       ],
       "layout": {
        "height": 600,
        "hovermode": "closest",
        "showlegend": true,
        "template": {
         "data": {
          "bar": [
           {
            "error_x": {
             "color": "#2a3f5f"
            },
            "error_y": {
             "color": "#2a3f5f"
            },
            "marker": {
             "line": {
              "color": "#E5ECF6",
              "width": 0.5
             },
             "pattern": {
              "fillmode": "overlay",
              "size": 10,
              "solidity": 0.2
             }
            },
            "type": "bar"
           }
          ],
          "barpolar": [
           {
            "marker": {
             "line": {
              "color": "#E5ECF6",
              "width": 0.5
             },
             "pattern": {
              "fillmode": "overlay",
              "size": 10,
              "solidity": 0.2
             }
            },
            "type": "barpolar"
           }
          ],
          "carpet": [
           {
            "aaxis": {
             "endlinecolor": "#2a3f5f",
             "gridcolor": "white",
             "linecolor": "white",
             "minorgridcolor": "white",
             "startlinecolor": "#2a3f5f"
            },
            "baxis": {
             "endlinecolor": "#2a3f5f",
             "gridcolor": "white",
             "linecolor": "white",
             "minorgridcolor": "white",
             "startlinecolor": "#2a3f5f"
            },
            "type": "carpet"
           }
          ],
          "choropleth": [
           {
            "colorbar": {
             "outlinewidth": 0,
             "ticks": ""
            },
            "type": "choropleth"
           }
          ],
          "contour": [
           {
            "colorbar": {
             "outlinewidth": 0,
             "ticks": ""
            },
            "colorscale": [
             [
              0,
              "#0d0887"
             ],
             [
              0.1111111111111111,
              "#46039f"
             ],
             [
              0.2222222222222222,
              "#7201a8"
             ],
             [
              0.3333333333333333,
              "#9c179e"
             ],
             [
              0.4444444444444444,
              "#bd3786"
             ],
             [
              0.5555555555555556,
              "#d8576b"
             ],
             [
              0.6666666666666666,
              "#ed7953"
             ],
             [
              0.7777777777777778,
              "#fb9f3a"
             ],
             [
              0.8888888888888888,
              "#fdca26"
             ],
             [
              1,
              "#f0f921"
             ]
            ],
            "type": "contour"
           }
          ],
          "contourcarpet": [
           {
            "colorbar": {
             "outlinewidth": 0,
             "ticks": ""
            },
            "type": "contourcarpet"
           }
          ],
          "heatmap": [
           {
            "colorbar": {
             "outlinewidth": 0,
             "ticks": ""
            },
            "colorscale": [
             [
              0,
              "#0d0887"
             ],
             [
              0.1111111111111111,
              "#46039f"
             ],
             [
              0.2222222222222222,
              "#7201a8"
             ],
             [
              0.3333333333333333,
              "#9c179e"
             ],
             [
              0.4444444444444444,
              "#bd3786"
             ],
             [
              0.5555555555555556,
              "#d8576b"
             ],
             [
              0.6666666666666666,
              "#ed7953"
             ],
             [
              0.7777777777777778,
              "#fb9f3a"
             ],
             [
              0.8888888888888888,
              "#fdca26"
             ],
             [
              1,
              "#f0f921"
             ]
            ],
            "type": "heatmap"
           }
          ],
          "heatmapgl": [
           {
            "colorbar": {
             "outlinewidth": 0,
             "ticks": ""
            },
            "colorscale": [
             [
              0,
              "#0d0887"
             ],
             [
              0.1111111111111111,
              "#46039f"
             ],
             [
              0.2222222222222222,
              "#7201a8"
             ],
             [
              0.3333333333333333,
              "#9c179e"
             ],
             [
              0.4444444444444444,
              "#bd3786"
             ],
             [
              0.5555555555555556,
              "#d8576b"
             ],
             [
              0.6666666666666666,
              "#ed7953"
             ],
             [
              0.7777777777777778,
              "#fb9f3a"
             ],
             [
              0.8888888888888888,
              "#fdca26"
             ],
             [
              1,
              "#f0f921"
             ]
            ],
            "type": "heatmapgl"
           }
          ],
          "histogram": [
           {
            "marker": {
             "pattern": {
              "fillmode": "overlay",
              "size": 10,
              "solidity": 0.2
             }
            },
            "type": "histogram"
           }
          ],
          "histogram2d": [
           {
            "colorbar": {
             "outlinewidth": 0,
             "ticks": ""
            },
            "colorscale": [
             [
              0,
              "#0d0887"
             ],
             [
              0.1111111111111111,
              "#46039f"
             ],
             [
              0.2222222222222222,
              "#7201a8"
             ],
             [
              0.3333333333333333,
              "#9c179e"
             ],
             [
              0.4444444444444444,
              "#bd3786"
             ],
             [
              0.5555555555555556,
              "#d8576b"
             ],
             [
              0.6666666666666666,
              "#ed7953"
             ],
             [
              0.7777777777777778,
              "#fb9f3a"
             ],
             [
              0.8888888888888888,
              "#fdca26"
             ],
             [
              1,
              "#f0f921"
             ]
            ],
            "type": "histogram2d"
           }
          ],
          "histogram2dcontour": [
           {
            "colorbar": {
             "outlinewidth": 0,
             "ticks": ""
            },
            "colorscale": [
             [
              0,
              "#0d0887"
             ],
             [
              0.1111111111111111,
              "#46039f"
             ],
             [
              0.2222222222222222,
              "#7201a8"
             ],
             [
              0.3333333333333333,
              "#9c179e"
             ],
             [
              0.4444444444444444,
              "#bd3786"
             ],
             [
              0.5555555555555556,
              "#d8576b"
             ],
             [
              0.6666666666666666,
              "#ed7953"
             ],
             [
              0.7777777777777778,
              "#fb9f3a"
             ],
             [
              0.8888888888888888,
              "#fdca26"
             ],
             [
              1,
              "#f0f921"
             ]
            ],
            "type": "histogram2dcontour"
           }
          ],
          "mesh3d": [
           {
            "colorbar": {
             "outlinewidth": 0,
             "ticks": ""
            },
            "type": "mesh3d"
           }
          ],
          "parcoords": [
           {
            "line": {
             "colorbar": {
              "outlinewidth": 0,
              "ticks": ""
             }
            },
            "type": "parcoords"
           }
          ],
          "pie": [
           {
            "automargin": true,
            "type": "pie"
           }
          ],
          "scatter": [
           {
            "marker": {
             "colorbar": {
              "outlinewidth": 0,
              "ticks": ""
             }
            },
            "type": "scatter"
           }
          ],
          "scatter3d": [
           {
            "line": {
             "colorbar": {
              "outlinewidth": 0,
              "ticks": ""
             }
            },
            "marker": {
             "colorbar": {
              "outlinewidth": 0,
              "ticks": ""
             }
            },
            "type": "scatter3d"
           }
          ],
          "scattercarpet": [
           {
            "marker": {
             "colorbar": {
              "outlinewidth": 0,
              "ticks": ""
             }
            },
            "type": "scattercarpet"
           }
          ],
          "scattergeo": [
           {
            "marker": {
             "colorbar": {
              "outlinewidth": 0,
              "ticks": ""
             }
            },
            "type": "scattergeo"
           }
          ],
          "scattergl": [
           {
            "marker": {
             "colorbar": {
              "outlinewidth": 0,
              "ticks": ""
             }
            },
            "type": "scattergl"
           }
          ],
          "scattermapbox": [
           {
            "marker": {
             "colorbar": {
              "outlinewidth": 0,
              "ticks": ""
             }
            },
            "type": "scattermapbox"
           }
          ],
          "scatterpolar": [
           {
            "marker": {
             "colorbar": {
              "outlinewidth": 0,
              "ticks": ""
             }
            },
            "type": "scatterpolar"
           }
          ],
          "scatterpolargl": [
           {
            "marker": {
             "colorbar": {
              "outlinewidth": 0,
              "ticks": ""
             }
            },
            "type": "scatterpolargl"
           }
          ],
          "scatterternary": [
           {
            "marker": {
             "colorbar": {
              "outlinewidth": 0,
              "ticks": ""
             }
            },
            "type": "scatterternary"
           }
          ],
          "surface": [
           {
            "colorbar": {
             "outlinewidth": 0,
             "ticks": ""
            },
            "colorscale": [
             [
              0,
              "#0d0887"
             ],
             [
              0.1111111111111111,
              "#46039f"
             ],
             [
              0.2222222222222222,
              "#7201a8"
             ],
             [
              0.3333333333333333,
              "#9c179e"
             ],
             [
              0.4444444444444444,
              "#bd3786"
             ],
             [
              0.5555555555555556,
              "#d8576b"
             ],
             [
              0.6666666666666666,
              "#ed7953"
             ],
             [
              0.7777777777777778,
              "#fb9f3a"
             ],
             [
              0.8888888888888888,
              "#fdca26"
             ],
             [
              1,
              "#f0f921"
             ]
            ],
            "type": "surface"
           }
          ],
          "table": [
           {
            "cells": {
             "fill": {
              "color": "#EBF0F8"
             },
             "line": {
              "color": "white"
             }
            },
            "header": {
             "fill": {
              "color": "#C8D4E3"
             },
             "line": {
              "color": "white"
             }
            },
            "type": "table"
           }
          ]
         },
         "layout": {
          "annotationdefaults": {
           "arrowcolor": "#2a3f5f",
           "arrowhead": 0,
           "arrowwidth": 1
          },
          "autotypenumbers": "strict",
          "coloraxis": {
           "colorbar": {
            "outlinewidth": 0,
            "ticks": ""
           }
          },
          "colorscale": {
           "diverging": [
            [
             0,
             "#8e0152"
            ],
            [
             0.1,
             "#c51b7d"
            ],
            [
             0.2,
             "#de77ae"
            ],
            [
             0.3,
             "#f1b6da"
            ],
            [
             0.4,
             "#fde0ef"
            ],
            [
             0.5,
             "#f7f7f7"
            ],
            [
             0.6,
             "#e6f5d0"
            ],
            [
             0.7,
             "#b8e186"
            ],
            [
             0.8,
             "#7fbc41"
            ],
            [
             0.9,
             "#4d9221"
            ],
            [
             1,
             "#276419"
            ]
           ],
           "sequential": [
            [
             0,
             "#0d0887"
            ],
            [
             0.1111111111111111,
             "#46039f"
            ],
            [
             0.2222222222222222,
             "#7201a8"
            ],
            [
             0.3333333333333333,
             "#9c179e"
            ],
            [
             0.4444444444444444,
             "#bd3786"
            ],
            [
             0.5555555555555556,
             "#d8576b"
            ],
            [
             0.6666666666666666,
             "#ed7953"
            ],
            [
             0.7777777777777778,
             "#fb9f3a"
            ],
            [
             0.8888888888888888,
             "#fdca26"
            ],
            [
             1,
             "#f0f921"
            ]
           ],
           "sequentialminus": [
            [
             0,
             "#0d0887"
            ],
            [
             0.1111111111111111,
             "#46039f"
            ],
            [
             0.2222222222222222,
             "#7201a8"
            ],
            [
             0.3333333333333333,
             "#9c179e"
            ],
            [
             0.4444444444444444,
             "#bd3786"
            ],
            [
             0.5555555555555556,
             "#d8576b"
            ],
            [
             0.6666666666666666,
             "#ed7953"
            ],
            [
             0.7777777777777778,
             "#fb9f3a"
            ],
            [
             0.8888888888888888,
             "#fdca26"
            ],
            [
             1,
             "#f0f921"
            ]
           ]
          },
          "colorway": [
           "#636efa",
           "#EF553B",
           "#00cc96",
           "#ab63fa",
           "#FFA15A",
           "#19d3f3",
           "#FF6692",
           "#B6E880",
           "#FF97FF",
           "#FECB52"
          ],
          "font": {
           "color": "#2a3f5f"
          },
          "geo": {
           "bgcolor": "white",
           "lakecolor": "white",
           "landcolor": "#E5ECF6",
           "showlakes": true,
           "showland": true,
           "subunitcolor": "white"
          },
          "hoverlabel": {
           "align": "left"
          },
          "hovermode": "closest",
          "mapbox": {
           "style": "light"
          },
          "paper_bgcolor": "white",
          "plot_bgcolor": "#E5ECF6",
          "polar": {
           "angularaxis": {
            "gridcolor": "white",
            "linecolor": "white",
            "ticks": ""
           },
           "bgcolor": "#E5ECF6",
           "radialaxis": {
            "gridcolor": "white",
            "linecolor": "white",
            "ticks": ""
           }
          },
          "scene": {
           "xaxis": {
            "backgroundcolor": "#E5ECF6",
            "gridcolor": "white",
            "gridwidth": 2,
            "linecolor": "white",
            "showbackground": true,
            "ticks": "",
            "zerolinecolor": "white"
           },
           "yaxis": {
            "backgroundcolor": "#E5ECF6",
            "gridcolor": "white",
            "gridwidth": 2,
            "linecolor": "white",
            "showbackground": true,
            "ticks": "",
            "zerolinecolor": "white"
           },
           "zaxis": {
            "backgroundcolor": "#E5ECF6",
            "gridcolor": "white",
            "gridwidth": 2,
            "linecolor": "white",
            "showbackground": true,
            "ticks": "",
            "zerolinecolor": "white"
           }
          },
          "shapedefaults": {
           "line": {
            "color": "#2a3f5f"
           }
          },
          "ternary": {
           "aaxis": {
            "gridcolor": "white",
            "linecolor": "white",
            "ticks": ""
           },
           "baxis": {
            "gridcolor": "white",
            "linecolor": "white",
            "ticks": ""
           },
           "bgcolor": "#E5ECF6",
           "caxis": {
            "gridcolor": "white",
            "linecolor": "white",
            "ticks": ""
           }
          },
          "title": {
           "x": 0.05
          },
          "xaxis": {
           "automargin": true,
           "gridcolor": "white",
           "linecolor": "white",
           "ticks": "",
           "title": {
            "standoff": 15
           },
           "zerolinecolor": "white",
           "zerolinewidth": 2
          },
          "yaxis": {
           "automargin": true,
           "gridcolor": "white",
           "linecolor": "white",
           "ticks": "",
           "title": {
            "standoff": 15
           },
           "zerolinecolor": "white",
           "zerolinewidth": 2
          }
         }
        },
        "title": {
         "text": "Gantt Chart"
        },
        "xaxis": {
         "rangeselector": {
          "buttons": [
           {
            "count": 7,
            "label": "1w",
            "step": "day",
            "stepmode": "backward"
           },
           {
            "count": 1,
            "label": "1m",
            "step": "month",
            "stepmode": "backward"
           },
           {
            "count": 6,
            "label": "6m",
            "step": "month",
            "stepmode": "backward"
           },
           {
            "count": 1,
            "label": "YTD",
            "step": "year",
            "stepmode": "todate"
           },
           {
            "count": 1,
            "label": "1y",
            "step": "year",
            "stepmode": "backward"
           },
           {
            "step": "all"
           }
          ]
         },
         "showgrid": true,
         "type": "linear",
         "zeroline": false
        },
        "yaxis": {
         "autorange": false,
         "range": [
          -1,
          4
         ],
         "showgrid": false,
         "ticktext": [
          "W2",
          "W1",
          "W0"
         ],
         "tickvals": [
          0,
          1,
          2
         ],
         "zeroline": false
        }
       }
      }
     },
     "metadata": {},
     "output_type": "display_data"
    }
   ],
   "source": [
    "data = []\n",
    "for i in range(len(jobs_to_schedule)):\n",
    "    data.append([assignments[i], jobs_to_schedule[i], solution[i], durations[i]])\n",
    "visualize(data)"
   ]
  },
  {
   "cell_type": "code",
   "execution_count": 19,
   "metadata": {},
   "outputs": [
    {
     "name": "stdout",
     "output_type": "stream",
     "text": [
      "Idle Time: 28\n",
      "Makespan: 12\n"
     ]
    }
   ],
   "source": [
    "print(f'Idle Time: {abs(idle_time_fitness_function(solution, 0)) -1}')\n",
    "print(f'Makespan: {abs(fitness_function(solution, 0)) - 1}')"
   ]
  },
  {
   "cell_type": "code",
   "execution_count": 20,
   "metadata": {},
   "outputs": [
    {
     "name": "stdout",
     "output_type": "stream",
     "text": [
      "[2 5 7 0 6 7 0 2]\n",
      "Idle Time: 5\n",
      "Makespan: 11\n"
     ]
    },
    {
     "data": {
      "application/vnd.plotly.v1+json": {
       "config": {
        "plotlyServerURL": "https://plot.ly"
       },
       "data": [
        {
         "fill": "toself",
         "fillcolor": "rgb(129, 127, 62)",
         "hoverinfo": "name",
         "legendgroup": "rgb(129, 127, 62)",
         "mode": "none",
         "name": "Order 1",
         "type": "scatter",
         "x": [
          0,
          2,
          2,
          0,
          0,
          6,
          7,
          7,
          6,
          6,
          7,
          10,
          10,
          7
         ],
         "y": [
          1.8,
          1.8,
          2.2,
          2.2,
          null,
          -0.2,
          -0.2,
          0.2,
          0.2,
          null,
          0.8,
          0.8,
          1.2,
          1.2
         ]
        },
        {
         "fill": "toself",
         "fillcolor": "rgb(180, 178, 113)",
         "hoverinfo": "name",
         "legendgroup": "rgb(180, 178, 113)",
         "mode": "none",
         "name": "Order 2",
         "type": "scatter",
         "x": [
          0,
          2,
          2,
          0,
          0,
          2,
          6,
          6,
          2
         ],
         "y": [
          0.8,
          0.8,
          1.2,
          1.2,
          null,
          -0.2,
          -0.2,
          0.2,
          0.2
         ]
        },
        {
         "fill": "toself",
         "fillcolor": "rgb(78, 76, 11)",
         "hoverinfo": "name",
         "legendgroup": "rgb(78, 76, 11)",
         "mode": "none",
         "name": "Order 0",
         "type": "scatter",
         "x": [
          2,
          5,
          5,
          2,
          2,
          5,
          7,
          7,
          5,
          5,
          7,
          11,
          11,
          7
         ],
         "y": [
          1.8,
          1.8,
          2.2,
          2.2,
          null,
          0.8,
          0.8,
          1.2,
          1.2,
          null,
          -0.2,
          -0.2,
          0.2,
          0.2
         ]
        },
        {
         "legendgroup": "rgb(129, 127, 62)",
         "marker": {
          "color": "rgb(129, 127, 62)",
          "opacity": 0,
          "size": 1
         },
         "mode": "markers",
         "name": "",
         "showlegend": false,
         "text": [
          null,
          null,
          null,
          null,
          null,
          null
         ],
         "type": "scatter",
         "x": [
          0,
          2,
          6,
          7,
          7,
          10
         ],
         "y": [
          2,
          2,
          0,
          0,
          1,
          1
         ]
        },
        {
         "legendgroup": "rgb(180, 178, 113)",
         "marker": {
          "color": "rgb(180, 178, 113)",
          "opacity": 0,
          "size": 1
         },
         "mode": "markers",
         "name": "",
         "showlegend": false,
         "text": [
          null,
          null,
          null,
          null
         ],
         "type": "scatter",
         "x": [
          0,
          2,
          2,
          6
         ],
         "y": [
          1,
          1,
          0,
          0
         ]
        },
        {
         "legendgroup": "rgb(78, 76, 11)",
         "marker": {
          "color": "rgb(78, 76, 11)",
          "opacity": 0,
          "size": 1
         },
         "mode": "markers",
         "name": "",
         "showlegend": false,
         "text": [
          null,
          null,
          null,
          null,
          null,
          null
         ],
         "type": "scatter",
         "x": [
          2,
          5,
          5,
          7,
          7,
          11
         ],
         "y": [
          2,
          2,
          1,
          1,
          0,
          0
         ]
        }
       ],
       "layout": {
        "height": 600,
        "hovermode": "closest",
        "showlegend": true,
        "template": {
         "data": {
          "bar": [
           {
            "error_x": {
             "color": "#2a3f5f"
            },
            "error_y": {
             "color": "#2a3f5f"
            },
            "marker": {
             "line": {
              "color": "#E5ECF6",
              "width": 0.5
             },
             "pattern": {
              "fillmode": "overlay",
              "size": 10,
              "solidity": 0.2
             }
            },
            "type": "bar"
           }
          ],
          "barpolar": [
           {
            "marker": {
             "line": {
              "color": "#E5ECF6",
              "width": 0.5
             },
             "pattern": {
              "fillmode": "overlay",
              "size": 10,
              "solidity": 0.2
             }
            },
            "type": "barpolar"
           }
          ],
          "carpet": [
           {
            "aaxis": {
             "endlinecolor": "#2a3f5f",
             "gridcolor": "white",
             "linecolor": "white",
             "minorgridcolor": "white",
             "startlinecolor": "#2a3f5f"
            },
            "baxis": {
             "endlinecolor": "#2a3f5f",
             "gridcolor": "white",
             "linecolor": "white",
             "minorgridcolor": "white",
             "startlinecolor": "#2a3f5f"
            },
            "type": "carpet"
           }
          ],
          "choropleth": [
           {
            "colorbar": {
             "outlinewidth": 0,
             "ticks": ""
            },
            "type": "choropleth"
           }
          ],
          "contour": [
           {
            "colorbar": {
             "outlinewidth": 0,
             "ticks": ""
            },
            "colorscale": [
             [
              0,
              "#0d0887"
             ],
             [
              0.1111111111111111,
              "#46039f"
             ],
             [
              0.2222222222222222,
              "#7201a8"
             ],
             [
              0.3333333333333333,
              "#9c179e"
             ],
             [
              0.4444444444444444,
              "#bd3786"
             ],
             [
              0.5555555555555556,
              "#d8576b"
             ],
             [
              0.6666666666666666,
              "#ed7953"
             ],
             [
              0.7777777777777778,
              "#fb9f3a"
             ],
             [
              0.8888888888888888,
              "#fdca26"
             ],
             [
              1,
              "#f0f921"
             ]
            ],
            "type": "contour"
           }
          ],
          "contourcarpet": [
           {
            "colorbar": {
             "outlinewidth": 0,
             "ticks": ""
            },
            "type": "contourcarpet"
           }
          ],
          "heatmap": [
           {
            "colorbar": {
             "outlinewidth": 0,
             "ticks": ""
            },
            "colorscale": [
             [
              0,
              "#0d0887"
             ],
             [
              0.1111111111111111,
              "#46039f"
             ],
             [
              0.2222222222222222,
              "#7201a8"
             ],
             [
              0.3333333333333333,
              "#9c179e"
             ],
             [
              0.4444444444444444,
              "#bd3786"
             ],
             [
              0.5555555555555556,
              "#d8576b"
             ],
             [
              0.6666666666666666,
              "#ed7953"
             ],
             [
              0.7777777777777778,
              "#fb9f3a"
             ],
             [
              0.8888888888888888,
              "#fdca26"
             ],
             [
              1,
              "#f0f921"
             ]
            ],
            "type": "heatmap"
           }
          ],
          "heatmapgl": [
           {
            "colorbar": {
             "outlinewidth": 0,
             "ticks": ""
            },
            "colorscale": [
             [
              0,
              "#0d0887"
             ],
             [
              0.1111111111111111,
              "#46039f"
             ],
             [
              0.2222222222222222,
              "#7201a8"
             ],
             [
              0.3333333333333333,
              "#9c179e"
             ],
             [
              0.4444444444444444,
              "#bd3786"
             ],
             [
              0.5555555555555556,
              "#d8576b"
             ],
             [
              0.6666666666666666,
              "#ed7953"
             ],
             [
              0.7777777777777778,
              "#fb9f3a"
             ],
             [
              0.8888888888888888,
              "#fdca26"
             ],
             [
              1,
              "#f0f921"
             ]
            ],
            "type": "heatmapgl"
           }
          ],
          "histogram": [
           {
            "marker": {
             "pattern": {
              "fillmode": "overlay",
              "size": 10,
              "solidity": 0.2
             }
            },
            "type": "histogram"
           }
          ],
          "histogram2d": [
           {
            "colorbar": {
             "outlinewidth": 0,
             "ticks": ""
            },
            "colorscale": [
             [
              0,
              "#0d0887"
             ],
             [
              0.1111111111111111,
              "#46039f"
             ],
             [
              0.2222222222222222,
              "#7201a8"
             ],
             [
              0.3333333333333333,
              "#9c179e"
             ],
             [
              0.4444444444444444,
              "#bd3786"
             ],
             [
              0.5555555555555556,
              "#d8576b"
             ],
             [
              0.6666666666666666,
              "#ed7953"
             ],
             [
              0.7777777777777778,
              "#fb9f3a"
             ],
             [
              0.8888888888888888,
              "#fdca26"
             ],
             [
              1,
              "#f0f921"
             ]
            ],
            "type": "histogram2d"
           }
          ],
          "histogram2dcontour": [
           {
            "colorbar": {
             "outlinewidth": 0,
             "ticks": ""
            },
            "colorscale": [
             [
              0,
              "#0d0887"
             ],
             [
              0.1111111111111111,
              "#46039f"
             ],
             [
              0.2222222222222222,
              "#7201a8"
             ],
             [
              0.3333333333333333,
              "#9c179e"
             ],
             [
              0.4444444444444444,
              "#bd3786"
             ],
             [
              0.5555555555555556,
              "#d8576b"
             ],
             [
              0.6666666666666666,
              "#ed7953"
             ],
             [
              0.7777777777777778,
              "#fb9f3a"
             ],
             [
              0.8888888888888888,
              "#fdca26"
             ],
             [
              1,
              "#f0f921"
             ]
            ],
            "type": "histogram2dcontour"
           }
          ],
          "mesh3d": [
           {
            "colorbar": {
             "outlinewidth": 0,
             "ticks": ""
            },
            "type": "mesh3d"
           }
          ],
          "parcoords": [
           {
            "line": {
             "colorbar": {
              "outlinewidth": 0,
              "ticks": ""
             }
            },
            "type": "parcoords"
           }
          ],
          "pie": [
           {
            "automargin": true,
            "type": "pie"
           }
          ],
          "scatter": [
           {
            "marker": {
             "colorbar": {
              "outlinewidth": 0,
              "ticks": ""
             }
            },
            "type": "scatter"
           }
          ],
          "scatter3d": [
           {
            "line": {
             "colorbar": {
              "outlinewidth": 0,
              "ticks": ""
             }
            },
            "marker": {
             "colorbar": {
              "outlinewidth": 0,
              "ticks": ""
             }
            },
            "type": "scatter3d"
           }
          ],
          "scattercarpet": [
           {
            "marker": {
             "colorbar": {
              "outlinewidth": 0,
              "ticks": ""
             }
            },
            "type": "scattercarpet"
           }
          ],
          "scattergeo": [
           {
            "marker": {
             "colorbar": {
              "outlinewidth": 0,
              "ticks": ""
             }
            },
            "type": "scattergeo"
           }
          ],
          "scattergl": [
           {
            "marker": {
             "colorbar": {
              "outlinewidth": 0,
              "ticks": ""
             }
            },
            "type": "scattergl"
           }
          ],
          "scattermapbox": [
           {
            "marker": {
             "colorbar": {
              "outlinewidth": 0,
              "ticks": ""
             }
            },
            "type": "scattermapbox"
           }
          ],
          "scatterpolar": [
           {
            "marker": {
             "colorbar": {
              "outlinewidth": 0,
              "ticks": ""
             }
            },
            "type": "scatterpolar"
           }
          ],
          "scatterpolargl": [
           {
            "marker": {
             "colorbar": {
              "outlinewidth": 0,
              "ticks": ""
             }
            },
            "type": "scatterpolargl"
           }
          ],
          "scatterternary": [
           {
            "marker": {
             "colorbar": {
              "outlinewidth": 0,
              "ticks": ""
             }
            },
            "type": "scatterternary"
           }
          ],
          "surface": [
           {
            "colorbar": {
             "outlinewidth": 0,
             "ticks": ""
            },
            "colorscale": [
             [
              0,
              "#0d0887"
             ],
             [
              0.1111111111111111,
              "#46039f"
             ],
             [
              0.2222222222222222,
              "#7201a8"
             ],
             [
              0.3333333333333333,
              "#9c179e"
             ],
             [
              0.4444444444444444,
              "#bd3786"
             ],
             [
              0.5555555555555556,
              "#d8576b"
             ],
             [
              0.6666666666666666,
              "#ed7953"
             ],
             [
              0.7777777777777778,
              "#fb9f3a"
             ],
             [
              0.8888888888888888,
              "#fdca26"
             ],
             [
              1,
              "#f0f921"
             ]
            ],
            "type": "surface"
           }
          ],
          "table": [
           {
            "cells": {
             "fill": {
              "color": "#EBF0F8"
             },
             "line": {
              "color": "white"
             }
            },
            "header": {
             "fill": {
              "color": "#C8D4E3"
             },
             "line": {
              "color": "white"
             }
            },
            "type": "table"
           }
          ]
         },
         "layout": {
          "annotationdefaults": {
           "arrowcolor": "#2a3f5f",
           "arrowhead": 0,
           "arrowwidth": 1
          },
          "autotypenumbers": "strict",
          "coloraxis": {
           "colorbar": {
            "outlinewidth": 0,
            "ticks": ""
           }
          },
          "colorscale": {
           "diverging": [
            [
             0,
             "#8e0152"
            ],
            [
             0.1,
             "#c51b7d"
            ],
            [
             0.2,
             "#de77ae"
            ],
            [
             0.3,
             "#f1b6da"
            ],
            [
             0.4,
             "#fde0ef"
            ],
            [
             0.5,
             "#f7f7f7"
            ],
            [
             0.6,
             "#e6f5d0"
            ],
            [
             0.7,
             "#b8e186"
            ],
            [
             0.8,
             "#7fbc41"
            ],
            [
             0.9,
             "#4d9221"
            ],
            [
             1,
             "#276419"
            ]
           ],
           "sequential": [
            [
             0,
             "#0d0887"
            ],
            [
             0.1111111111111111,
             "#46039f"
            ],
            [
             0.2222222222222222,
             "#7201a8"
            ],
            [
             0.3333333333333333,
             "#9c179e"
            ],
            [
             0.4444444444444444,
             "#bd3786"
            ],
            [
             0.5555555555555556,
             "#d8576b"
            ],
            [
             0.6666666666666666,
             "#ed7953"
            ],
            [
             0.7777777777777778,
             "#fb9f3a"
            ],
            [
             0.8888888888888888,
             "#fdca26"
            ],
            [
             1,
             "#f0f921"
            ]
           ],
           "sequentialminus": [
            [
             0,
             "#0d0887"
            ],
            [
             0.1111111111111111,
             "#46039f"
            ],
            [
             0.2222222222222222,
             "#7201a8"
            ],
            [
             0.3333333333333333,
             "#9c179e"
            ],
            [
             0.4444444444444444,
             "#bd3786"
            ],
            [
             0.5555555555555556,
             "#d8576b"
            ],
            [
             0.6666666666666666,
             "#ed7953"
            ],
            [
             0.7777777777777778,
             "#fb9f3a"
            ],
            [
             0.8888888888888888,
             "#fdca26"
            ],
            [
             1,
             "#f0f921"
            ]
           ]
          },
          "colorway": [
           "#636efa",
           "#EF553B",
           "#00cc96",
           "#ab63fa",
           "#FFA15A",
           "#19d3f3",
           "#FF6692",
           "#B6E880",
           "#FF97FF",
           "#FECB52"
          ],
          "font": {
           "color": "#2a3f5f"
          },
          "geo": {
           "bgcolor": "white",
           "lakecolor": "white",
           "landcolor": "#E5ECF6",
           "showlakes": true,
           "showland": true,
           "subunitcolor": "white"
          },
          "hoverlabel": {
           "align": "left"
          },
          "hovermode": "closest",
          "mapbox": {
           "style": "light"
          },
          "paper_bgcolor": "white",
          "plot_bgcolor": "#E5ECF6",
          "polar": {
           "angularaxis": {
            "gridcolor": "white",
            "linecolor": "white",
            "ticks": ""
           },
           "bgcolor": "#E5ECF6",
           "radialaxis": {
            "gridcolor": "white",
            "linecolor": "white",
            "ticks": ""
           }
          },
          "scene": {
           "xaxis": {
            "backgroundcolor": "#E5ECF6",
            "gridcolor": "white",
            "gridwidth": 2,
            "linecolor": "white",
            "showbackground": true,
            "ticks": "",
            "zerolinecolor": "white"
           },
           "yaxis": {
            "backgroundcolor": "#E5ECF6",
            "gridcolor": "white",
            "gridwidth": 2,
            "linecolor": "white",
            "showbackground": true,
            "ticks": "",
            "zerolinecolor": "white"
           },
           "zaxis": {
            "backgroundcolor": "#E5ECF6",
            "gridcolor": "white",
            "gridwidth": 2,
            "linecolor": "white",
            "showbackground": true,
            "ticks": "",
            "zerolinecolor": "white"
           }
          },
          "shapedefaults": {
           "line": {
            "color": "#2a3f5f"
           }
          },
          "ternary": {
           "aaxis": {
            "gridcolor": "white",
            "linecolor": "white",
            "ticks": ""
           },
           "baxis": {
            "gridcolor": "white",
            "linecolor": "white",
            "ticks": ""
           },
           "bgcolor": "#E5ECF6",
           "caxis": {
            "gridcolor": "white",
            "linecolor": "white",
            "ticks": ""
           }
          },
          "title": {
           "x": 0.05
          },
          "xaxis": {
           "automargin": true,
           "gridcolor": "white",
           "linecolor": "white",
           "ticks": "",
           "title": {
            "standoff": 15
           },
           "zerolinecolor": "white",
           "zerolinewidth": 2
          },
          "yaxis": {
           "automargin": true,
           "gridcolor": "white",
           "linecolor": "white",
           "ticks": "",
           "title": {
            "standoff": 15
           },
           "zerolinecolor": "white",
           "zerolinewidth": 2
          }
         }
        },
        "title": {
         "text": "Gantt Chart"
        },
        "xaxis": {
         "rangeselector": {
          "buttons": [
           {
            "count": 7,
            "label": "1w",
            "step": "day",
            "stepmode": "backward"
           },
           {
            "count": 1,
            "label": "1m",
            "step": "month",
            "stepmode": "backward"
           },
           {
            "count": 6,
            "label": "6m",
            "step": "month",
            "stepmode": "backward"
           },
           {
            "count": 1,
            "label": "YTD",
            "step": "year",
            "stepmode": "todate"
           },
           {
            "count": 1,
            "label": "1y",
            "step": "year",
            "stepmode": "backward"
           },
           {
            "step": "all"
           }
          ]
         },
         "showgrid": true,
         "type": "linear",
         "zeroline": false
        },
        "yaxis": {
         "autorange": false,
         "range": [
          -1,
          4
         ],
         "showgrid": false,
         "ticktext": [
          "W2",
          "W1",
          "W0"
         ],
         "tickvals": [
          0,
          1,
          2
         ],
         "zeroline": false
        }
       }
      }
     },
     "metadata": {},
     "output_type": "display_data"
    }
   ],
   "source": [
    "def is_first(jobs, index): # check if job is the first in it's order sequence\n",
    "    return jobs[index][2] == 0 or order_for_index[jobs[index][2]-1] != order_for_index[jobs[index][2]]\n",
    "\n",
    "w = dict()\n",
    "for i in range(len(assignments)):\n",
    "    if assignments[i] not in w:\n",
    "        w[assignments[i]] = []\n",
    "    w[assignments[i]].append([solution[i], solution[i]+durations[i], i]) #<start, end, index>\n",
    "import copy\n",
    "new_solution = copy.deepcopy(solution)\n",
    "changes_made = True\n",
    "while changes_made:\n",
    "    changes_made = False\n",
    "    for workstation in w.keys():\n",
    "        sorted_jobs = sorted(w[workstation], key=lambda x: x[0])\n",
    "        for i in range(len(sorted_jobs)):\n",
    "            shift = 0\n",
    "            if is_first(sorted_jobs, i):\n",
    "                if i == 0: # start at 0\n",
    "                    shift = sorted_jobs[i][0] \n",
    "                    sorted_jobs[i][0] -= shift\n",
    "                    sorted_jobs[i][1] -= shift                  \n",
    "                else: # there are other jobs on this workstation before this one\n",
    "                    shift = sorted_jobs[i][0] - sorted_jobs[i-1][1] # move it back to where the previous job stopped\n",
    "                    sorted_jobs[i][0] -= shift\n",
    "                    sorted_jobs[i][1] -= shift\n",
    "            else: # find end of previous job in sequence + end of job previous on the workstation -> move to closer one\n",
    "                prev_end = new_solution[sorted_jobs[i][2]-1] + durations[sorted_jobs[i][2]-1]\n",
    "                prev_shift = sorted_jobs[i][0] - prev_end\n",
    "                if i == 0: # no previous jobs on this workstation\n",
    "                    shift = prev_shift\n",
    "                    sorted_jobs[i][0] -= shift\n",
    "                    sorted_jobs[i][1] -= shift\n",
    "                else:\n",
    "                    shift = sorted_jobs[i][0] - sorted_jobs[i-1][1] # move it back to where the previous job stopped\n",
    "                    if prev_shift < shift:\n",
    "                        shift = prev_shift\n",
    "                    sorted_jobs[i][0] -= shift\n",
    "                    sorted_jobs[i][1] -= shift\n",
    "            new_solution[sorted_jobs[i][2]] = sorted_jobs[i][0] # update new start points\n",
    "            changes_made = changes_made or shift != 0\n",
    "print(new_solution)\n",
    "print(f'Idle Time: {abs(idle_time_fitness_function(new_solution, 0)) -1}')\n",
    "print(f'Makespan: {abs(fitness_function(new_solution, 0)) - 1}')\n",
    "data = []\n",
    "for i in range(len(jobs_to_schedule)):\n",
    "    data.append([assignments[i], jobs_to_schedule[i], new_solution[i], durations[i]])\n",
    "visualize(data)"
   ]
  }
 ],
 "metadata": {
  "kernelspec": {
   "display_name": "Python 3.10.3 64-bit",
   "language": "python",
   "name": "python3"
  },
  "language_info": {
   "codemirror_mode": {
    "name": "ipython",
    "version": 3
   },
   "file_extension": ".py",
   "mimetype": "text/x-python",
   "name": "python",
   "nbconvert_exporter": "python",
   "pygments_lexer": "ipython3",
   "version": "3.10.3"
  },
  "orig_nbformat": 4,
  "vscode": {
   "interpreter": {
    "hash": "1e478315ea93f9f083d422a59179b37c6ead09cc57c0e51f656bb4b8796d5f86"
   }
  }
 },
 "nbformat": 4,
 "nbformat_minor": 2
}
