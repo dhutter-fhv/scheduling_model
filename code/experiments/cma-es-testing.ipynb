{
 "cells": [
  {
   "cell_type": "code",
   "execution_count": 2,
   "metadata": {},
   "outputs": [],
   "source": [
    "import cma\n",
    "import numpy as np"
   ]
  },
  {
   "cell_type": "code",
   "execution_count": 3,
   "metadata": {},
   "outputs": [
    {
     "name": "stdout",
     "output_type": "stream",
     "text": [
      "(5_w,10)-aCMA-ES (mu_w=3.2,w_1=45%) in dimension 8 (seed=626993, Thu Jan 12 13:37:24 2023)\n",
      "Iterat #Fevals   function value  axis ratio  sigma  min&max std  t[m:s]\n",
      "    1     10 1.471803188029096e+00 1.0e+00 4.70e-01  4e-01  5e-01 0:00.0\n",
      "    2     20 1.181814467088752e+00 1.2e+00 4.13e-01  4e-01  4e-01 0:00.0\n",
      "    3     30 7.430643400367897e-01 1.2e+00 3.46e-01  3e-01  3e-01 0:00.0\n",
      "  100   1000 3.959066736659178e-02 1.8e+00 2.97e-01  6e-02  7e-02 0:00.1\n",
      "  200   2000 5.526635039325668e-02 1.9e+00 1.65e+00  6e-02  9e-02 0:00.2\n",
      "  300   3000 1.573849773110841e-01 1.8e+00 7.18e+00  6e-02  8e-02 0:00.4\n",
      "  400   4000 1.094041358714199e-01 2.2e+00 3.11e+01  6e-02  8e-02 0:00.5\n",
      "  500   5000 1.424283595944977e-01 1.7e+00 1.48e+02  6e-02  7e-02 0:00.6\n",
      "  600   6000 4.498712819594703e-02 1.8e+00 6.88e+02  6e-02  7e-02 0:00.7\n",
      "  700   7000 1.603573909039973e-01 1.9e+00 3.59e+03  6e-02  8e-02 0:00.9\n",
      "  720   7200 4.668392514111936e-02 1.8e+00 5.01e+03  6e-02  8e-02 0:00.9\n",
      "termination on tolstagnation=321 (Thu Jan 12 13:37:26 2023)\n",
      "final/bestever f-value = 1.001271e-02 5.705082e-03\n",
      "incumbent solution: [0.0014481666359364323, 0.0019079563395811305, 0.0007512011972839955, 0.0010718087452584828, 1.279179965870376e-06, 0.0032161584805106627, 8.264275227036858e-05, 0.0015334995575831886]\n",
      "std deviation: [0.0588235294117647, 0.06433870315945252, 0.07627226759411528, 0.07170370731785009, 0.0741634261508939, 0.07272408203540122, 0.06304705470324012, 0.07302119077449842]\n",
      "Result: [0.0, 0.0, 0.0, 0.0, 0.0, 0.0, 0.0, 0.0]\n",
      "[9.42536637e-05 3.68297851e-05 1.10408050e-03 5.48076829e-05\n",
      " 1.97103211e-05 3.52833677e-03 5.49035542e-04 3.18027621e-04]\n"
     ]
    }
   ],
   "source": [
    "def fitness_function(x):\n",
    "    sum = 0\n",
    "    for i in range(len(x)):\n",
    "        sum += x[i]\n",
    "    return sum\n",
    "\n",
    "x0 = 8 * [0]\n",
    "xopt, es = cma.fmin2(fitness_function, x0 , 0.5, {'integer_variables': list(range(len(x0))), 'bounds': [0, 100]})#'bounds': [-1, 15 - 1e-9]})#, {'verb_disp': 1})\n",
    "int_result = [np.floor(x) for x in es.result[0]] #NOTE: the cma library truncates/rounds all values in the background itself, apparently np.floor\n",
    "print(f'Result: {int_result}')\n",
    "\n",
    "print(xopt)"
   ]
  }
 ],
 "metadata": {
  "kernelspec": {
   "display_name": "Python 3",
   "language": "python",
   "name": "python3"
  },
  "language_info": {
   "codemirror_mode": {
    "name": "ipython",
    "version": 3
   },
   "file_extension": ".py",
   "mimetype": "text/x-python",
   "name": "python",
   "nbconvert_exporter": "python",
   "pygments_lexer": "ipython3",
   "version": "3.11.1"
  },
  "orig_nbformat": 4,
  "vscode": {
   "interpreter": {
    "hash": "1fa67616b1b49c35c458482b0866d2a2c548d80a3d17b7076357e3633b29d939"
   }
  }
 },
 "nbformat": 4,
 "nbformat_minor": 2
}
