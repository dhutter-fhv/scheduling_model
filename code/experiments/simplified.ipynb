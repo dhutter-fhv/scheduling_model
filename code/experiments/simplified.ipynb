{
 "cells": [
  {
   "cell_type": "markdown",
   "metadata": {},
   "source": [
    "Imports"
   ]
  },
  {
   "cell_type": "code",
   "execution_count": 1,
   "metadata": {},
   "outputs": [],
   "source": [
    "import pygad\n",
    "import math\n",
    "import random\n",
    "import plotly.figure_factory as ff\n",
    "from plotly.express import timeline"
   ]
  },
  {
   "cell_type": "markdown",
   "metadata": {},
   "source": [
    "Helper Functions"
   ]
  },
  {
   "cell_type": "code",
   "execution_count": 2,
   "metadata": {},
   "outputs": [],
   "source": [
    "def index_to_job(index):\n",
    "    i = 0\n",
    "    for order in orders:\n",
    "        if i + 2 * len(available_tasks[order[0]]) > index:\n",
    "            j = 0\n",
    "            # find exact index\n",
    "            for job in available_tasks[order[0]]:\n",
    "                if i + 2*j == index:\n",
    "                    return job\n",
    "                j+=1\n",
    "        else:\n",
    "            i += 2 * len(available_tasks[order[0]])\n",
    "\n",
    "def index_to_order(index):\n",
    "    i = 0\n",
    "    for o in range(len(orders)):\n",
    "        if i + 2 * len(available_tasks[orders[o][0]]) > index:\n",
    "            j = 0\n",
    "            # find exact index\n",
    "            for job in available_tasks[orders[o][0]]:\n",
    "                if i + 2*j == index:\n",
    "                    return o\n",
    "                j+=1\n",
    "        else:\n",
    "            i += 2 * len(available_tasks[order[0]])"
   ]
  },
  {
   "cell_type": "markdown",
   "metadata": {},
   "source": [
    "Environment Setup"
   ]
  },
  {
   "cell_type": "code",
   "execution_count": 3,
   "metadata": {},
   "outputs": [],
   "source": [
    "last_slot = 1000\n",
    "first_slot = 0\n",
    "available_workstations = [2, 2, 3, 1, 2, 1, 1] # just put workstations for now (amount of workstation per type -> index = type)\n",
    "available_resources = [2, 3, 1, 4] # just put workers for now (amount of worker per type -> index = type)\n",
    "available_tasks = [ # recipes\n",
    "    [0, 1, 2],\n",
    "    [2, 3, 4],\n",
    "    [4, 1, 0],\n",
    "    [3, 2, 1]\n",
    "]\n",
    "job_durations = [ # rows = workstation idx, columns = jobs, 0 = jobs can't be done on this workstation\n",
    "    [10, 20, 0, 0, 10],\n",
    "    [0, 15, 10, 0, 0],\n",
    "    [15, 20, 0, 10, 10],\n",
    "    [10, 0, 10, 0, 10],\n",
    "    [0, 0, 15, 5, 10],\n",
    "    [0, 10, 0, 15, 0],\n",
    "    [5, 10, 15, 10, 5]\n",
    "]\n",
    "workstation_resources = [ # rows = workstation idx, columns = amount of resources (workers) needed, 0 = worker type can't operate workstation\n",
    "    [1, 0, 0, 1],         \n",
    "    [0, 1, 1, 0],\n",
    "    [1, 0, 1, 0],\n",
    "    [0, 1, 0, 1],\n",
    "    [1, 1, 0, 0],\n",
    "    [0, 0, 1, 1],\n",
    "    [2, 2, 1, 1]\n",
    "]\n",
    "job_resources = [ # rows = job idx, columns = amount of resources (materials needed), but ignore for now\n",
    "    [0, 0, 0, 0],\n",
    "    [0, 0, 0, 0],\n",
    "    [0, 0, 0, 0],\n",
    "    [0, 0, 0, 0],\n",
    "    [0, 0, 0, 0]\n",
    "]\n",
    "orders = [  # <recipe, target delivery time slot>\n",
    "    [0, 50],\n",
    "    [1, 500],\n",
    "    [2, 250],\n",
    "    [3, 75],\n",
    "    [1, 100]\n",
    "]"
   ]
  },
  {
   "cell_type": "markdown",
   "metadata": {},
   "source": [
    "GA Setup + Run"
   ]
  },
  {
   "cell_type": "code",
   "execution_count": 4,
   "metadata": {},
   "outputs": [
    {
     "name": "stdout",
     "output_type": "stream",
     "text": [
      "Parameters of the best solution : [  6 149   0 174   4 377   1 170   6 263   6 273   3 273   0 350   6 441\n",
      "   2  75   4 112   0 198   3  75   4 110   6 170]\n",
      "Fitness value of the best solution = 371\n"
     ]
    }
   ],
   "source": [
    "delivery_space = {'low': first_slot, 'high': last_slot}\n",
    "workstation_space = {'low': 0, 'high': len(available_workstations)-1}\n",
    "gene_space = []\n",
    "input = []\n",
    "for order in orders:\n",
    "    for job in available_tasks[order[0]]:\n",
    "        input.append(0)\n",
    "        input.append(0)\n",
    "j = 0\n",
    "for i in range(len(input)): # set lower and upper bounds for mutation for each gene\n",
    "    if j == 0:\n",
    "        gene_space.append(workstation_space)\n",
    "    else:\n",
    "        gene_space.append(delivery_space)\n",
    "    j+=1\n",
    "    if j > 1:\n",
    "        j = 0\n",
    "\n",
    "def mutation_function(offsprings, ga_instance):\n",
    "    for offspring in offsprings:\n",
    "        p = 1 / (len(offspring)/2) # amount of jobs\n",
    "        j = 0\n",
    "        for i in range(len(offspring)):\n",
    "            if j == 0:\n",
    "                if random.random() < p:\n",
    "                    options = []\n",
    "                    job = index_to_job(i)\n",
    "                    for w in range(len(job_durations)):\n",
    "                        if job_durations[w][job] > 0:\n",
    "                            options.append(w)\n",
    "                    # mutate workstation assignment\n",
    "                    offspring[i] = random.choice(options)\n",
    "                    # mutate start time\n",
    "                    offspring[i+1] = random.randint(0, last_slot)\n",
    "            j += 1\n",
    "            if j > 1:\n",
    "                j = 0\n",
    "                \n",
    "    return offsprings\n",
    "\n",
    "def is_feasible(solution):\n",
    "    j = 0\n",
    "    order = 0\n",
    "    for i in range(len(solution)):\n",
    "        if j == 0:\n",
    "            job = index_to_job(i)\n",
    "            \n",
    "        if j == 1: # timeslot\n",
    "            # check for last time slot\n",
    "            if solution[i] + job_durations[solution[i-1]][job] > last_slot:\n",
    "                return False\n",
    "            # check for first slot\n",
    "            if solution[i] < first_slot: # should never happen\n",
    "                return False\n",
    "        else: # assigned workstation\n",
    "            # check for overlaps\n",
    "            y = 0\n",
    "            for x in range(len(solution)):\n",
    "                if y == 0 and not y == i:\n",
    "                    if solution[y] == solution[i]: # tasks run on the same workstation, check overlap\n",
    "                        y_job = index_to_job(y)\n",
    "                        i_start = solution[i+1]\n",
    "                        y_start = solution[y+1]\n",
    "                        i_duration = job_durations[solution[i]][job]\n",
    "                        y_duration = job_durations[solution[y]][y_job]\n",
    "                        i_end = i_start + i_duration\n",
    "                        y_end = y_start + y_duration\n",
    "                        if i_start >= y_start and i_start < y_end:\n",
    "                            return False\n",
    "                        if i_end > y_start and i_end <= y_end:\n",
    "                            return False\n",
    "                        if y_start >= i_start and y_start < i_end:\n",
    "                            return False\n",
    "                        if y_end > i_start and y_end <= i_end:\n",
    "                            return False\n",
    "                y+=1\n",
    "                if y > 1:\n",
    "                    y = 0\n",
    "            # check for correct sequence\n",
    "            prev_order = order\n",
    "            order = index_to_order(i)\n",
    "            if i != 0 and order == prev_order: # not the first job of the order, check previous jobs\n",
    "                l = 1\n",
    "                while index_to_order(i - 2*l) == order:\n",
    "                    prev_start = solution[i - 2*l + 1]\n",
    "                    prev_end = prev_start + job_durations[solution[i - 2*l]][index_to_job(i-2*l)]\n",
    "                    start = solution[i+1]\n",
    "                    if start < prev_end:\n",
    "                        return False\n",
    "                    l+=1\n",
    "        j+=1\n",
    "        if j > 1:\n",
    "            j = 0\n",
    "    return True\n",
    "\n",
    "def fitness_function(solution, solution_idx): # NOTE: PyGAD always maximizes\n",
    "    fitness = 1#0\n",
    "    if not is_feasible(solution):\n",
    "        #fitness += last_slot\n",
    "        return -2 * last_slot\n",
    "    max = -float('inf')\n",
    "    min = float('inf')\n",
    "    j = 0\n",
    "    for i in range(len(solution)):\n",
    "        if j == 1: # time assignment\n",
    "            start = solution[i]\n",
    "            end = start + job_durations[solution[i-1]][index_to_job(i-1)]\n",
    "            if end > max:\n",
    "                max = end\n",
    "            if start < min:\n",
    "                min = solution[i]\n",
    "        j+=1\n",
    "        if j > 1:\n",
    "            j = 0\n",
    "    fitness += abs(max - min)\n",
    "    return -fitness\n",
    "\n",
    "num_genes = len(input)\n",
    "num_generations = 5000\n",
    "num_parents_mating = 50\n",
    "sol_per_pop = 100\n",
    "init_range_low = 0\n",
    "init_range_high = last_slot\n",
    "parent_selection_type = 'rws'\n",
    "keep_parents = 10\n",
    "crossover_type = 'two_points'\n",
    "mutation_type = mutation_function\n",
    "mutation_percentage_genes = 10 # not needed for custom mutation functions\n",
    "fitness_func = fitness_function\n",
    "gene_type = int\n",
    "\n",
    "ga_instance = pygad.GA(num_generations=num_generations, num_parents_mating=num_parents_mating, fitness_func=fitness_func, sol_per_pop=sol_per_pop, num_genes=num_genes, init_range_low=init_range_low, init_range_high=init_range_high, parent_selection_type=parent_selection_type, keep_parents=keep_parents, crossover_type=crossover_type, mutation_type=mutation_type, mutation_percent_genes=mutation_percentage_genes, gene_type=gene_type, gene_space=gene_space)\n",
    "ga_instance.run()\n",
    "solution, solution_fitness, solution_idx = ga_instance.best_solution()\n",
    "print(\"Parameters of the best solution : {solution}\".format(solution=solution))\n",
    "print(\"Fitness value of the best solution = {solution_fitness}\".format(solution_fitness=abs(solution_fitness) - 1))\n"
   ]
  },
  {
   "cell_type": "markdown",
   "metadata": {},
   "source": [
    "Visualize Result"
   ]
  },
  {
   "cell_type": "code",
   "execution_count": 5,
   "metadata": {},
   "outputs": [
    {
     "data": {
      "application/vnd.plotly.v1+json": {
       "config": {
        "plotlyServerURL": "https://plot.ly"
       },
       "data": [
        {
         "fill": "toself",
         "fillcolor": "rgb(120, 89, 208)",
         "hoverinfo": "name",
         "legendgroup": "rgb(120, 89, 208)",
         "mode": "none",
         "name": "Order 1",
         "type": "scatter",
         "x": [
          170,
          180,
          180,
          170,
          170,
          263,
          273,
          273,
          263,
          263,
          273,
          278,
          278,
          273
         ],
         "y": [
          1.8,
          1.8,
          2.2,
          2.2,
          null,
          4.8,
          4.8,
          5.2,
          5.2,
          null,
          4.8,
          4.8,
          5.2,
          5.2
         ]
        },
        {
         "fill": "toself",
         "fillcolor": "rgb(17, 242, 105)",
         "hoverinfo": "name",
         "legendgroup": "rgb(17, 242, 105)",
         "mode": "none",
         "name": "Order 4",
         "type": "scatter",
         "x": [
          75,
          85,
          85,
          75,
          75,
          110,
          115,
          115,
          110,
          110,
          170,
          175,
          175,
          170
         ],
         "y": [
          0.8,
          0.8,
          1.2,
          1.2,
          null,
          2.8,
          2.8,
          3.2,
          3.2,
          null,
          4.8,
          4.8,
          5.2,
          5.2
         ]
        },
        {
         "fill": "toself",
         "fillcolor": "rgb(171, 140, 3)",
         "hoverinfo": "name",
         "legendgroup": "rgb(171, 140, 3)",
         "mode": "none",
         "name": "Order 2",
         "type": "scatter",
         "x": [
          273,
          283,
          283,
          273,
          273,
          350,
          370,
          370,
          350,
          350,
          441,
          446,
          446,
          441
         ],
         "y": [
          0.8,
          0.8,
          1.2,
          1.2,
          null,
          3.8,
          3.8,
          4.2,
          4.2,
          null,
          4.8,
          4.8,
          5.2,
          5.2
         ]
        },
        {
         "fill": "toself",
         "fillcolor": "rgb(222, 191, 54)",
         "hoverinfo": "name",
         "legendgroup": "rgb(222, 191, 54)",
         "mode": "none",
         "name": "Order 3",
         "type": "scatter",
         "x": [
          75,
          85,
          85,
          75,
          75,
          112,
          127,
          127,
          112,
          112,
          198,
          218,
          218,
          198
         ],
         "y": [
          -0.2,
          -0.2,
          0.2,
          0.2,
          null,
          2.8,
          2.8,
          3.2,
          3.2,
          null,
          3.8,
          3.8,
          4.2,
          4.2
         ]
        },
        {
         "fill": "toself",
         "fillcolor": "rgb(69, 38, 157)",
         "hoverinfo": "name",
         "legendgroup": "rgb(69, 38, 157)",
         "mode": "none",
         "name": "Order 0",
         "type": "scatter",
         "x": [
          149,
          154,
          154,
          149,
          149,
          174,
          194,
          194,
          174,
          174,
          377,
          392,
          392,
          377
         ],
         "y": [
          4.8,
          4.8,
          5.2,
          5.2,
          null,
          3.8,
          3.8,
          4.2,
          4.2,
          null,
          2.8,
          2.8,
          3.2,
          3.2
         ]
        },
        {
         "legendgroup": "rgb(120, 89, 208)",
         "marker": {
          "color": "rgb(120, 89, 208)",
          "opacity": 0,
          "size": 1
         },
         "mode": "markers",
         "name": "",
         "showlegend": false,
         "text": [
          null,
          null,
          null,
          null,
          null,
          null
         ],
         "type": "scatter",
         "x": [
          170,
          180,
          263,
          273,
          273,
          278
         ],
         "y": [
          2,
          2,
          5,
          5,
          5,
          5
         ]
        },
        {
         "legendgroup": "rgb(17, 242, 105)",
         "marker": {
          "color": "rgb(17, 242, 105)",
          "opacity": 0,
          "size": 1
         },
         "mode": "markers",
         "name": "",
         "showlegend": false,
         "text": [
          null,
          null,
          null,
          null,
          null,
          null
         ],
         "type": "scatter",
         "x": [
          75,
          85,
          110,
          115,
          170,
          175
         ],
         "y": [
          1,
          1,
          3,
          3,
          5,
          5
         ]
        },
        {
         "legendgroup": "rgb(171, 140, 3)",
         "marker": {
          "color": "rgb(171, 140, 3)",
          "opacity": 0,
          "size": 1
         },
         "mode": "markers",
         "name": "",
         "showlegend": false,
         "text": [
          null,
          null,
          null,
          null,
          null,
          null
         ],
         "type": "scatter",
         "x": [
          273,
          283,
          350,
          370,
          441,
          446
         ],
         "y": [
          1,
          1,
          4,
          4,
          5,
          5
         ]
        },
        {
         "legendgroup": "rgb(222, 191, 54)",
         "marker": {
          "color": "rgb(222, 191, 54)",
          "opacity": 0,
          "size": 1
         },
         "mode": "markers",
         "name": "",
         "showlegend": false,
         "text": [
          null,
          null,
          null,
          null,
          null,
          null
         ],
         "type": "scatter",
         "x": [
          75,
          85,
          112,
          127,
          198,
          218
         ],
         "y": [
          0,
          0,
          3,
          3,
          4,
          4
         ]
        },
        {
         "legendgroup": "rgb(69, 38, 157)",
         "marker": {
          "color": "rgb(69, 38, 157)",
          "opacity": 0,
          "size": 1
         },
         "mode": "markers",
         "name": "",
         "showlegend": false,
         "text": [
          null,
          null,
          null,
          null,
          null,
          null
         ],
         "type": "scatter",
         "x": [
          149,
          154,
          174,
          194,
          377,
          392
         ],
         "y": [
          5,
          5,
          4,
          4,
          3,
          3
         ]
        }
       ],
       "layout": {
        "height": 600,
        "hovermode": "closest",
        "showlegend": true,
        "template": {
         "data": {
          "bar": [
           {
            "error_x": {
             "color": "#2a3f5f"
            },
            "error_y": {
             "color": "#2a3f5f"
            },
            "marker": {
             "line": {
              "color": "#E5ECF6",
              "width": 0.5
             },
             "pattern": {
              "fillmode": "overlay",
              "size": 10,
              "solidity": 0.2
             }
            },
            "type": "bar"
           }
          ],
          "barpolar": [
           {
            "marker": {
             "line": {
              "color": "#E5ECF6",
              "width": 0.5
             },
             "pattern": {
              "fillmode": "overlay",
              "size": 10,
              "solidity": 0.2
             }
            },
            "type": "barpolar"
           }
          ],
          "carpet": [
           {
            "aaxis": {
             "endlinecolor": "#2a3f5f",
             "gridcolor": "white",
             "linecolor": "white",
             "minorgridcolor": "white",
             "startlinecolor": "#2a3f5f"
            },
            "baxis": {
             "endlinecolor": "#2a3f5f",
             "gridcolor": "white",
             "linecolor": "white",
             "minorgridcolor": "white",
             "startlinecolor": "#2a3f5f"
            },
            "type": "carpet"
           }
          ],
          "choropleth": [
           {
            "colorbar": {
             "outlinewidth": 0,
             "ticks": ""
            },
            "type": "choropleth"
           }
          ],
          "contour": [
           {
            "colorbar": {
             "outlinewidth": 0,
             "ticks": ""
            },
            "colorscale": [
             [
              0,
              "#0d0887"
             ],
             [
              0.1111111111111111,
              "#46039f"
             ],
             [
              0.2222222222222222,
              "#7201a8"
             ],
             [
              0.3333333333333333,
              "#9c179e"
             ],
             [
              0.4444444444444444,
              "#bd3786"
             ],
             [
              0.5555555555555556,
              "#d8576b"
             ],
             [
              0.6666666666666666,
              "#ed7953"
             ],
             [
              0.7777777777777778,
              "#fb9f3a"
             ],
             [
              0.8888888888888888,
              "#fdca26"
             ],
             [
              1,
              "#f0f921"
             ]
            ],
            "type": "contour"
           }
          ],
          "contourcarpet": [
           {
            "colorbar": {
             "outlinewidth": 0,
             "ticks": ""
            },
            "type": "contourcarpet"
           }
          ],
          "heatmap": [
           {
            "colorbar": {
             "outlinewidth": 0,
             "ticks": ""
            },
            "colorscale": [
             [
              0,
              "#0d0887"
             ],
             [
              0.1111111111111111,
              "#46039f"
             ],
             [
              0.2222222222222222,
              "#7201a8"
             ],
             [
              0.3333333333333333,
              "#9c179e"
             ],
             [
              0.4444444444444444,
              "#bd3786"
             ],
             [
              0.5555555555555556,
              "#d8576b"
             ],
             [
              0.6666666666666666,
              "#ed7953"
             ],
             [
              0.7777777777777778,
              "#fb9f3a"
             ],
             [
              0.8888888888888888,
              "#fdca26"
             ],
             [
              1,
              "#f0f921"
             ]
            ],
            "type": "heatmap"
           }
          ],
          "heatmapgl": [
           {
            "colorbar": {
             "outlinewidth": 0,
             "ticks": ""
            },
            "colorscale": [
             [
              0,
              "#0d0887"
             ],
             [
              0.1111111111111111,
              "#46039f"
             ],
             [
              0.2222222222222222,
              "#7201a8"
             ],
             [
              0.3333333333333333,
              "#9c179e"
             ],
             [
              0.4444444444444444,
              "#bd3786"
             ],
             [
              0.5555555555555556,
              "#d8576b"
             ],
             [
              0.6666666666666666,
              "#ed7953"
             ],
             [
              0.7777777777777778,
              "#fb9f3a"
             ],
             [
              0.8888888888888888,
              "#fdca26"
             ],
             [
              1,
              "#f0f921"
             ]
            ],
            "type": "heatmapgl"
           }
          ],
          "histogram": [
           {
            "marker": {
             "pattern": {
              "fillmode": "overlay",
              "size": 10,
              "solidity": 0.2
             }
            },
            "type": "histogram"
           }
          ],
          "histogram2d": [
           {
            "colorbar": {
             "outlinewidth": 0,
             "ticks": ""
            },
            "colorscale": [
             [
              0,
              "#0d0887"
             ],
             [
              0.1111111111111111,
              "#46039f"
             ],
             [
              0.2222222222222222,
              "#7201a8"
             ],
             [
              0.3333333333333333,
              "#9c179e"
             ],
             [
              0.4444444444444444,
              "#bd3786"
             ],
             [
              0.5555555555555556,
              "#d8576b"
             ],
             [
              0.6666666666666666,
              "#ed7953"
             ],
             [
              0.7777777777777778,
              "#fb9f3a"
             ],
             [
              0.8888888888888888,
              "#fdca26"
             ],
             [
              1,
              "#f0f921"
             ]
            ],
            "type": "histogram2d"
           }
          ],
          "histogram2dcontour": [
           {
            "colorbar": {
             "outlinewidth": 0,
             "ticks": ""
            },
            "colorscale": [
             [
              0,
              "#0d0887"
             ],
             [
              0.1111111111111111,
              "#46039f"
             ],
             [
              0.2222222222222222,
              "#7201a8"
             ],
             [
              0.3333333333333333,
              "#9c179e"
             ],
             [
              0.4444444444444444,
              "#bd3786"
             ],
             [
              0.5555555555555556,
              "#d8576b"
             ],
             [
              0.6666666666666666,
              "#ed7953"
             ],
             [
              0.7777777777777778,
              "#fb9f3a"
             ],
             [
              0.8888888888888888,
              "#fdca26"
             ],
             [
              1,
              "#f0f921"
             ]
            ],
            "type": "histogram2dcontour"
           }
          ],
          "mesh3d": [
           {
            "colorbar": {
             "outlinewidth": 0,
             "ticks": ""
            },
            "type": "mesh3d"
           }
          ],
          "parcoords": [
           {
            "line": {
             "colorbar": {
              "outlinewidth": 0,
              "ticks": ""
             }
            },
            "type": "parcoords"
           }
          ],
          "pie": [
           {
            "automargin": true,
            "type": "pie"
           }
          ],
          "scatter": [
           {
            "marker": {
             "colorbar": {
              "outlinewidth": 0,
              "ticks": ""
             }
            },
            "type": "scatter"
           }
          ],
          "scatter3d": [
           {
            "line": {
             "colorbar": {
              "outlinewidth": 0,
              "ticks": ""
             }
            },
            "marker": {
             "colorbar": {
              "outlinewidth": 0,
              "ticks": ""
             }
            },
            "type": "scatter3d"
           }
          ],
          "scattercarpet": [
           {
            "marker": {
             "colorbar": {
              "outlinewidth": 0,
              "ticks": ""
             }
            },
            "type": "scattercarpet"
           }
          ],
          "scattergeo": [
           {
            "marker": {
             "colorbar": {
              "outlinewidth": 0,
              "ticks": ""
             }
            },
            "type": "scattergeo"
           }
          ],
          "scattergl": [
           {
            "marker": {
             "colorbar": {
              "outlinewidth": 0,
              "ticks": ""
             }
            },
            "type": "scattergl"
           }
          ],
          "scattermapbox": [
           {
            "marker": {
             "colorbar": {
              "outlinewidth": 0,
              "ticks": ""
             }
            },
            "type": "scattermapbox"
           }
          ],
          "scatterpolar": [
           {
            "marker": {
             "colorbar": {
              "outlinewidth": 0,
              "ticks": ""
             }
            },
            "type": "scatterpolar"
           }
          ],
          "scatterpolargl": [
           {
            "marker": {
             "colorbar": {
              "outlinewidth": 0,
              "ticks": ""
             }
            },
            "type": "scatterpolargl"
           }
          ],
          "scatterternary": [
           {
            "marker": {
             "colorbar": {
              "outlinewidth": 0,
              "ticks": ""
             }
            },
            "type": "scatterternary"
           }
          ],
          "surface": [
           {
            "colorbar": {
             "outlinewidth": 0,
             "ticks": ""
            },
            "colorscale": [
             [
              0,
              "#0d0887"
             ],
             [
              0.1111111111111111,
              "#46039f"
             ],
             [
              0.2222222222222222,
              "#7201a8"
             ],
             [
              0.3333333333333333,
              "#9c179e"
             ],
             [
              0.4444444444444444,
              "#bd3786"
             ],
             [
              0.5555555555555556,
              "#d8576b"
             ],
             [
              0.6666666666666666,
              "#ed7953"
             ],
             [
              0.7777777777777778,
              "#fb9f3a"
             ],
             [
              0.8888888888888888,
              "#fdca26"
             ],
             [
              1,
              "#f0f921"
             ]
            ],
            "type": "surface"
           }
          ],
          "table": [
           {
            "cells": {
             "fill": {
              "color": "#EBF0F8"
             },
             "line": {
              "color": "white"
             }
            },
            "header": {
             "fill": {
              "color": "#C8D4E3"
             },
             "line": {
              "color": "white"
             }
            },
            "type": "table"
           }
          ]
         },
         "layout": {
          "annotationdefaults": {
           "arrowcolor": "#2a3f5f",
           "arrowhead": 0,
           "arrowwidth": 1
          },
          "autotypenumbers": "strict",
          "coloraxis": {
           "colorbar": {
            "outlinewidth": 0,
            "ticks": ""
           }
          },
          "colorscale": {
           "diverging": [
            [
             0,
             "#8e0152"
            ],
            [
             0.1,
             "#c51b7d"
            ],
            [
             0.2,
             "#de77ae"
            ],
            [
             0.3,
             "#f1b6da"
            ],
            [
             0.4,
             "#fde0ef"
            ],
            [
             0.5,
             "#f7f7f7"
            ],
            [
             0.6,
             "#e6f5d0"
            ],
            [
             0.7,
             "#b8e186"
            ],
            [
             0.8,
             "#7fbc41"
            ],
            [
             0.9,
             "#4d9221"
            ],
            [
             1,
             "#276419"
            ]
           ],
           "sequential": [
            [
             0,
             "#0d0887"
            ],
            [
             0.1111111111111111,
             "#46039f"
            ],
            [
             0.2222222222222222,
             "#7201a8"
            ],
            [
             0.3333333333333333,
             "#9c179e"
            ],
            [
             0.4444444444444444,
             "#bd3786"
            ],
            [
             0.5555555555555556,
             "#d8576b"
            ],
            [
             0.6666666666666666,
             "#ed7953"
            ],
            [
             0.7777777777777778,
             "#fb9f3a"
            ],
            [
             0.8888888888888888,
             "#fdca26"
            ],
            [
             1,
             "#f0f921"
            ]
           ],
           "sequentialminus": [
            [
             0,
             "#0d0887"
            ],
            [
             0.1111111111111111,
             "#46039f"
            ],
            [
             0.2222222222222222,
             "#7201a8"
            ],
            [
             0.3333333333333333,
             "#9c179e"
            ],
            [
             0.4444444444444444,
             "#bd3786"
            ],
            [
             0.5555555555555556,
             "#d8576b"
            ],
            [
             0.6666666666666666,
             "#ed7953"
            ],
            [
             0.7777777777777778,
             "#fb9f3a"
            ],
            [
             0.8888888888888888,
             "#fdca26"
            ],
            [
             1,
             "#f0f921"
            ]
           ]
          },
          "colorway": [
           "#636efa",
           "#EF553B",
           "#00cc96",
           "#ab63fa",
           "#FFA15A",
           "#19d3f3",
           "#FF6692",
           "#B6E880",
           "#FF97FF",
           "#FECB52"
          ],
          "font": {
           "color": "#2a3f5f"
          },
          "geo": {
           "bgcolor": "white",
           "lakecolor": "white",
           "landcolor": "#E5ECF6",
           "showlakes": true,
           "showland": true,
           "subunitcolor": "white"
          },
          "hoverlabel": {
           "align": "left"
          },
          "hovermode": "closest",
          "mapbox": {
           "style": "light"
          },
          "paper_bgcolor": "white",
          "plot_bgcolor": "#E5ECF6",
          "polar": {
           "angularaxis": {
            "gridcolor": "white",
            "linecolor": "white",
            "ticks": ""
           },
           "bgcolor": "#E5ECF6",
           "radialaxis": {
            "gridcolor": "white",
            "linecolor": "white",
            "ticks": ""
           }
          },
          "scene": {
           "xaxis": {
            "backgroundcolor": "#E5ECF6",
            "gridcolor": "white",
            "gridwidth": 2,
            "linecolor": "white",
            "showbackground": true,
            "ticks": "",
            "zerolinecolor": "white"
           },
           "yaxis": {
            "backgroundcolor": "#E5ECF6",
            "gridcolor": "white",
            "gridwidth": 2,
            "linecolor": "white",
            "showbackground": true,
            "ticks": "",
            "zerolinecolor": "white"
           },
           "zaxis": {
            "backgroundcolor": "#E5ECF6",
            "gridcolor": "white",
            "gridwidth": 2,
            "linecolor": "white",
            "showbackground": true,
            "ticks": "",
            "zerolinecolor": "white"
           }
          },
          "shapedefaults": {
           "line": {
            "color": "#2a3f5f"
           }
          },
          "ternary": {
           "aaxis": {
            "gridcolor": "white",
            "linecolor": "white",
            "ticks": ""
           },
           "baxis": {
            "gridcolor": "white",
            "linecolor": "white",
            "ticks": ""
           },
           "bgcolor": "#E5ECF6",
           "caxis": {
            "gridcolor": "white",
            "linecolor": "white",
            "ticks": ""
           }
          },
          "title": {
           "x": 0.05
          },
          "xaxis": {
           "automargin": true,
           "gridcolor": "white",
           "linecolor": "white",
           "ticks": "",
           "title": {
            "standoff": 15
           },
           "zerolinecolor": "white",
           "zerolinewidth": 2
          },
          "yaxis": {
           "automargin": true,
           "gridcolor": "white",
           "linecolor": "white",
           "ticks": "",
           "title": {
            "standoff": 15
           },
           "zerolinecolor": "white",
           "zerolinewidth": 2
          }
         }
        },
        "title": {
         "text": "Orders made: [[0, 50], [1, 500], [2, 250], [3, 75], [1, 100]], Fitness of best result: 371"
        },
        "xaxis": {
         "rangeselector": {
          "buttons": [
           {
            "count": 7,
            "label": "1w",
            "step": "day",
            "stepmode": "backward"
           },
           {
            "count": 1,
            "label": "1m",
            "step": "month",
            "stepmode": "backward"
           },
           {
            "count": 6,
            "label": "6m",
            "step": "month",
            "stepmode": "backward"
           },
           {
            "count": 1,
            "label": "YTD",
            "step": "year",
            "stepmode": "todate"
           },
           {
            "count": 1,
            "label": "1y",
            "step": "year",
            "stepmode": "backward"
           },
           {
            "step": "all"
           }
          ]
         },
         "showgrid": true,
         "type": "linear",
         "zeroline": false
        },
        "yaxis": {
         "autorange": false,
         "range": [
          -1,
          7
         ],
         "showgrid": false,
         "ticktext": [
          "W2",
          "W3",
          "W1",
          "W4",
          "W0",
          "W6"
         ],
         "tickvals": [
          0,
          1,
          2,
          3,
          4,
          5
         ],
         "zeroline": false
        }
       }
      }
     },
     "metadata": {},
     "output_type": "display_data"
    }
   ],
   "source": [
    "def get_colors(n): \n",
    "    ret = [] \n",
    "    r = int(random.random() * 256) \n",
    "    g = int(random.random() * 256) \n",
    "    b = int(random.random() * 256) \n",
    "    step = 256 / n \n",
    "    for i in range(n): \n",
    "        r += step \n",
    "        g += step \n",
    "        b += step \n",
    "        r = int(r) % 256 \n",
    "        g = int(g) % 256 \n",
    "        b = int(b) % 256 \n",
    "        ret.append((r,g,b))  \n",
    "    return ret\n",
    "\n",
    "def visualize(solution, solution_fitness, orders, durations):\n",
    "    colors = {}\n",
    "    rgb_values = get_colors(len(orders))\n",
    "    for i in range(len(orders)):\n",
    "        colors[f'Order {i}'] = f'rgb({rgb_values[i][0]}, {rgb_values[i][1]}, {rgb_values[i][2]})'\n",
    "    data = []\n",
    "    j = 0\n",
    "    for i in range(len(solution)):\n",
    "        if j == 0:\n",
    "            job = index_to_job(i)\n",
    "            order = index_to_order(i)\n",
    "            label = f'W{solution[i]}'\n",
    "            start = solution[i+1]\n",
    "            end = start + durations[solution[i]][job]\n",
    "            data.append(\n",
    "                        dict(Task=label, Start=start, Finish=end, Resource=f'Order {order}')\n",
    "                    )\n",
    "        j+=1\n",
    "        if j > 1:\n",
    "            j = 0\n",
    "\n",
    "    fig = ff.create_gantt(data, colors=colors, index_col='Resource', show_colorbar=True,\n",
    "                        group_tasks=True, title=f'Orders made: {orders}, Fitness of best result: {solution_fitness}', showgrid_x=True)\n",
    "    fig.update_layout(xaxis_type='linear')\n",
    "    #fig = timeline(data, x_start=\"Start\", x_end=\"Finish\", y=\"Task\",color = \"Resource\",template = \"gridon\")\n",
    "    fig.show()\n",
    "\n",
    "visualize(solution, abs(solution_fitness)-1, orders, job_durations)"
   ]
  },
  {
   "cell_type": "code",
   "execution_count": 6,
   "metadata": {},
   "outputs": [
    {
     "name": "stdout",
     "output_type": "stream",
     "text": [
      "[6, 0, 4, 1, 6, 6, 3, 0, 6, 2, 4, 0, 3, 4, 6]\n",
      "[149, 174, 377, 170, 263, 273, 273, 350, 441, 75, 112, 198, 75, 110, 170]\n",
      "[0, 0, 0, 1, 1, 1, 2, 2, 2, 3, 3, 3, 4, 4, 4]\n",
      "[5, 20, 15, 10, 10, 5, 10, 20, 5, 10, 15, 20, 10, 5, 5]\n"
     ]
    }
   ],
   "source": [
    "def job_for_index(i):\n",
    "    recipe = available_tasks[orders[order_for_index[i]][0]]\n",
    "    job_index = 0\n",
    "    j = i\n",
    "    done = False\n",
    "    while j > 0 and not done:\n",
    "        if order_for_index[j] == order_for_index[j-1]:\n",
    "            job_index += 1\n",
    "        else:\n",
    "            done = True\n",
    "        j -= 1\n",
    "    return recipe[job_index]\n",
    "\n",
    "assignments = []\n",
    "start_times = []\n",
    "j = 0\n",
    "for i in range(len(solution)):\n",
    "    if j == 0:\n",
    "        assignments.append(solution[i])\n",
    "    else:\n",
    "        start_times.append(solution[i])\n",
    "    j += 1\n",
    "    if j > 1:\n",
    "        j = 0\n",
    "print(assignments)\n",
    "print(start_times)\n",
    "order_for_index = []\n",
    "for i in range(len(orders)):\n",
    "    for job in range(len(available_tasks[orders[i][0]])):\n",
    "        order_for_index.append(i)\n",
    "print(order_for_index)\n",
    "durations = []\n",
    "for i in range(len(assignments)):\n",
    "    # row = workstation, col = job\n",
    "    # fetch job from recipe -> get through order\n",
    "    # fetch workstation from assignments list\n",
    "    job = job_for_index(i)\n",
    "    durations.append(job_durations[assignments[i]][job])\n",
    "print(durations)"
   ]
  },
  {
   "cell_type": "code",
   "execution_count": 7,
   "metadata": {},
   "outputs": [
    {
     "data": {
      "application/vnd.plotly.v1+json": {
       "config": {
        "plotlyServerURL": "https://plot.ly"
       },
       "data": [
        {
         "fill": "toself",
         "fillcolor": "rgb(118, 10, 2)",
         "hoverinfo": "name",
         "legendgroup": "rgb(118, 10, 2)",
         "mode": "none",
         "name": "Order 2",
         "type": "scatter",
         "x": [
          10,
          20,
          20,
          10,
          10,
          50,
          70,
          70,
          50,
          50,
          70,
          75,
          75,
          70
         ],
         "y": [
          0.8,
          0.8,
          1.2,
          1.2,
          null,
          3.8,
          3.8,
          4.2,
          4.2,
          null,
          4.8,
          4.8,
          5.2,
          5.2
         ]
        },
        {
         "fill": "toself",
         "fillcolor": "rgb(16, 164, 156)",
         "hoverinfo": "name",
         "legendgroup": "rgb(16, 164, 156)",
         "mode": "none",
         "name": "Order 0",
         "type": "scatter",
         "x": [
          0,
          5,
          5,
          0,
          0,
          5,
          25,
          25,
          5,
          5,
          30,
          45,
          45,
          30
         ],
         "y": [
          4.8,
          4.8,
          5.2,
          5.2,
          null,
          3.8,
          3.8,
          4.2,
          4.2,
          null,
          2.8,
          2.8,
          3.2,
          3.2
         ]
        },
        {
         "fill": "toself",
         "fillcolor": "rgb(169, 61, 53)",
         "hoverinfo": "name",
         "legendgroup": "rgb(169, 61, 53)",
         "mode": "none",
         "name": "Order 3",
         "type": "scatter",
         "x": [
          0,
          10,
          10,
          0,
          0,
          15,
          30,
          30,
          15,
          15,
          30,
          50,
          50,
          30
         ],
         "y": [
          -0.2,
          -0.2,
          0.2,
          0.2,
          null,
          2.8,
          2.8,
          3.2,
          3.2,
          null,
          3.8,
          3.8,
          4.2,
          4.2
         ]
        },
        {
         "fill": "toself",
         "fillcolor": "rgb(220, 112, 104)",
         "hoverinfo": "name",
         "legendgroup": "rgb(220, 112, 104)",
         "mode": "none",
         "name": "Order 4",
         "type": "scatter",
         "x": [
          0,
          10,
          10,
          0,
          0,
          10,
          15,
          15,
          10,
          10,
          15,
          20,
          20,
          15
         ],
         "y": [
          0.8,
          0.8,
          1.2,
          1.2,
          null,
          2.8,
          2.8,
          3.2,
          3.2,
          null,
          4.8,
          4.8,
          5.2,
          5.2
         ]
        },
        {
         "fill": "toself",
         "fillcolor": "rgb(67, 215, 207)",
         "hoverinfo": "name",
         "legendgroup": "rgb(67, 215, 207)",
         "mode": "none",
         "name": "Order 1",
         "type": "scatter",
         "x": [
          0,
          10,
          10,
          0,
          0,
          20,
          30,
          30,
          20,
          20,
          30,
          35,
          35,
          30
         ],
         "y": [
          1.8,
          1.8,
          2.2,
          2.2,
          null,
          4.8,
          4.8,
          5.2,
          5.2,
          null,
          4.8,
          4.8,
          5.2,
          5.2
         ]
        },
        {
         "legendgroup": "rgb(118, 10, 2)",
         "marker": {
          "color": "rgb(118, 10, 2)",
          "opacity": 0,
          "size": 1
         },
         "mode": "markers",
         "name": "",
         "showlegend": false,
         "text": [
          null,
          null,
          null,
          null,
          null,
          null
         ],
         "type": "scatter",
         "x": [
          10,
          20,
          50,
          70,
          70,
          75
         ],
         "y": [
          1,
          1,
          4,
          4,
          5,
          5
         ]
        },
        {
         "legendgroup": "rgb(16, 164, 156)",
         "marker": {
          "color": "rgb(16, 164, 156)",
          "opacity": 0,
          "size": 1
         },
         "mode": "markers",
         "name": "",
         "showlegend": false,
         "text": [
          null,
          null,
          null,
          null,
          null,
          null
         ],
         "type": "scatter",
         "x": [
          0,
          5,
          5,
          25,
          30,
          45
         ],
         "y": [
          5,
          5,
          4,
          4,
          3,
          3
         ]
        },
        {
         "legendgroup": "rgb(169, 61, 53)",
         "marker": {
          "color": "rgb(169, 61, 53)",
          "opacity": 0,
          "size": 1
         },
         "mode": "markers",
         "name": "",
         "showlegend": false,
         "text": [
          null,
          null,
          null,
          null,
          null,
          null
         ],
         "type": "scatter",
         "x": [
          0,
          10,
          15,
          30,
          30,
          50
         ],
         "y": [
          0,
          0,
          3,
          3,
          4,
          4
         ]
        },
        {
         "legendgroup": "rgb(220, 112, 104)",
         "marker": {
          "color": "rgb(220, 112, 104)",
          "opacity": 0,
          "size": 1
         },
         "mode": "markers",
         "name": "",
         "showlegend": false,
         "text": [
          null,
          null,
          null,
          null,
          null,
          null
         ],
         "type": "scatter",
         "x": [
          0,
          10,
          10,
          15,
          15,
          20
         ],
         "y": [
          1,
          1,
          3,
          3,
          5,
          5
         ]
        },
        {
         "legendgroup": "rgb(67, 215, 207)",
         "marker": {
          "color": "rgb(67, 215, 207)",
          "opacity": 0,
          "size": 1
         },
         "mode": "markers",
         "name": "",
         "showlegend": false,
         "text": [
          null,
          null,
          null,
          null,
          null,
          null
         ],
         "type": "scatter",
         "x": [
          0,
          10,
          20,
          30,
          30,
          35
         ],
         "y": [
          2,
          2,
          5,
          5,
          5,
          5
         ]
        }
       ],
       "layout": {
        "height": 600,
        "hovermode": "closest",
        "showlegend": true,
        "template": {
         "data": {
          "bar": [
           {
            "error_x": {
             "color": "#2a3f5f"
            },
            "error_y": {
             "color": "#2a3f5f"
            },
            "marker": {
             "line": {
              "color": "#E5ECF6",
              "width": 0.5
             },
             "pattern": {
              "fillmode": "overlay",
              "size": 10,
              "solidity": 0.2
             }
            },
            "type": "bar"
           }
          ],
          "barpolar": [
           {
            "marker": {
             "line": {
              "color": "#E5ECF6",
              "width": 0.5
             },
             "pattern": {
              "fillmode": "overlay",
              "size": 10,
              "solidity": 0.2
             }
            },
            "type": "barpolar"
           }
          ],
          "carpet": [
           {
            "aaxis": {
             "endlinecolor": "#2a3f5f",
             "gridcolor": "white",
             "linecolor": "white",
             "minorgridcolor": "white",
             "startlinecolor": "#2a3f5f"
            },
            "baxis": {
             "endlinecolor": "#2a3f5f",
             "gridcolor": "white",
             "linecolor": "white",
             "minorgridcolor": "white",
             "startlinecolor": "#2a3f5f"
            },
            "type": "carpet"
           }
          ],
          "choropleth": [
           {
            "colorbar": {
             "outlinewidth": 0,
             "ticks": ""
            },
            "type": "choropleth"
           }
          ],
          "contour": [
           {
            "colorbar": {
             "outlinewidth": 0,
             "ticks": ""
            },
            "colorscale": [
             [
              0,
              "#0d0887"
             ],
             [
              0.1111111111111111,
              "#46039f"
             ],
             [
              0.2222222222222222,
              "#7201a8"
             ],
             [
              0.3333333333333333,
              "#9c179e"
             ],
             [
              0.4444444444444444,
              "#bd3786"
             ],
             [
              0.5555555555555556,
              "#d8576b"
             ],
             [
              0.6666666666666666,
              "#ed7953"
             ],
             [
              0.7777777777777778,
              "#fb9f3a"
             ],
             [
              0.8888888888888888,
              "#fdca26"
             ],
             [
              1,
              "#f0f921"
             ]
            ],
            "type": "contour"
           }
          ],
          "contourcarpet": [
           {
            "colorbar": {
             "outlinewidth": 0,
             "ticks": ""
            },
            "type": "contourcarpet"
           }
          ],
          "heatmap": [
           {
            "colorbar": {
             "outlinewidth": 0,
             "ticks": ""
            },
            "colorscale": [
             [
              0,
              "#0d0887"
             ],
             [
              0.1111111111111111,
              "#46039f"
             ],
             [
              0.2222222222222222,
              "#7201a8"
             ],
             [
              0.3333333333333333,
              "#9c179e"
             ],
             [
              0.4444444444444444,
              "#bd3786"
             ],
             [
              0.5555555555555556,
              "#d8576b"
             ],
             [
              0.6666666666666666,
              "#ed7953"
             ],
             [
              0.7777777777777778,
              "#fb9f3a"
             ],
             [
              0.8888888888888888,
              "#fdca26"
             ],
             [
              1,
              "#f0f921"
             ]
            ],
            "type": "heatmap"
           }
          ],
          "heatmapgl": [
           {
            "colorbar": {
             "outlinewidth": 0,
             "ticks": ""
            },
            "colorscale": [
             [
              0,
              "#0d0887"
             ],
             [
              0.1111111111111111,
              "#46039f"
             ],
             [
              0.2222222222222222,
              "#7201a8"
             ],
             [
              0.3333333333333333,
              "#9c179e"
             ],
             [
              0.4444444444444444,
              "#bd3786"
             ],
             [
              0.5555555555555556,
              "#d8576b"
             ],
             [
              0.6666666666666666,
              "#ed7953"
             ],
             [
              0.7777777777777778,
              "#fb9f3a"
             ],
             [
              0.8888888888888888,
              "#fdca26"
             ],
             [
              1,
              "#f0f921"
             ]
            ],
            "type": "heatmapgl"
           }
          ],
          "histogram": [
           {
            "marker": {
             "pattern": {
              "fillmode": "overlay",
              "size": 10,
              "solidity": 0.2
             }
            },
            "type": "histogram"
           }
          ],
          "histogram2d": [
           {
            "colorbar": {
             "outlinewidth": 0,
             "ticks": ""
            },
            "colorscale": [
             [
              0,
              "#0d0887"
             ],
             [
              0.1111111111111111,
              "#46039f"
             ],
             [
              0.2222222222222222,
              "#7201a8"
             ],
             [
              0.3333333333333333,
              "#9c179e"
             ],
             [
              0.4444444444444444,
              "#bd3786"
             ],
             [
              0.5555555555555556,
              "#d8576b"
             ],
             [
              0.6666666666666666,
              "#ed7953"
             ],
             [
              0.7777777777777778,
              "#fb9f3a"
             ],
             [
              0.8888888888888888,
              "#fdca26"
             ],
             [
              1,
              "#f0f921"
             ]
            ],
            "type": "histogram2d"
           }
          ],
          "histogram2dcontour": [
           {
            "colorbar": {
             "outlinewidth": 0,
             "ticks": ""
            },
            "colorscale": [
             [
              0,
              "#0d0887"
             ],
             [
              0.1111111111111111,
              "#46039f"
             ],
             [
              0.2222222222222222,
              "#7201a8"
             ],
             [
              0.3333333333333333,
              "#9c179e"
             ],
             [
              0.4444444444444444,
              "#bd3786"
             ],
             [
              0.5555555555555556,
              "#d8576b"
             ],
             [
              0.6666666666666666,
              "#ed7953"
             ],
             [
              0.7777777777777778,
              "#fb9f3a"
             ],
             [
              0.8888888888888888,
              "#fdca26"
             ],
             [
              1,
              "#f0f921"
             ]
            ],
            "type": "histogram2dcontour"
           }
          ],
          "mesh3d": [
           {
            "colorbar": {
             "outlinewidth": 0,
             "ticks": ""
            },
            "type": "mesh3d"
           }
          ],
          "parcoords": [
           {
            "line": {
             "colorbar": {
              "outlinewidth": 0,
              "ticks": ""
             }
            },
            "type": "parcoords"
           }
          ],
          "pie": [
           {
            "automargin": true,
            "type": "pie"
           }
          ],
          "scatter": [
           {
            "marker": {
             "colorbar": {
              "outlinewidth": 0,
              "ticks": ""
             }
            },
            "type": "scatter"
           }
          ],
          "scatter3d": [
           {
            "line": {
             "colorbar": {
              "outlinewidth": 0,
              "ticks": ""
             }
            },
            "marker": {
             "colorbar": {
              "outlinewidth": 0,
              "ticks": ""
             }
            },
            "type": "scatter3d"
           }
          ],
          "scattercarpet": [
           {
            "marker": {
             "colorbar": {
              "outlinewidth": 0,
              "ticks": ""
             }
            },
            "type": "scattercarpet"
           }
          ],
          "scattergeo": [
           {
            "marker": {
             "colorbar": {
              "outlinewidth": 0,
              "ticks": ""
             }
            },
            "type": "scattergeo"
           }
          ],
          "scattergl": [
           {
            "marker": {
             "colorbar": {
              "outlinewidth": 0,
              "ticks": ""
             }
            },
            "type": "scattergl"
           }
          ],
          "scattermapbox": [
           {
            "marker": {
             "colorbar": {
              "outlinewidth": 0,
              "ticks": ""
             }
            },
            "type": "scattermapbox"
           }
          ],
          "scatterpolar": [
           {
            "marker": {
             "colorbar": {
              "outlinewidth": 0,
              "ticks": ""
             }
            },
            "type": "scatterpolar"
           }
          ],
          "scatterpolargl": [
           {
            "marker": {
             "colorbar": {
              "outlinewidth": 0,
              "ticks": ""
             }
            },
            "type": "scatterpolargl"
           }
          ],
          "scatterternary": [
           {
            "marker": {
             "colorbar": {
              "outlinewidth": 0,
              "ticks": ""
             }
            },
            "type": "scatterternary"
           }
          ],
          "surface": [
           {
            "colorbar": {
             "outlinewidth": 0,
             "ticks": ""
            },
            "colorscale": [
             [
              0,
              "#0d0887"
             ],
             [
              0.1111111111111111,
              "#46039f"
             ],
             [
              0.2222222222222222,
              "#7201a8"
             ],
             [
              0.3333333333333333,
              "#9c179e"
             ],
             [
              0.4444444444444444,
              "#bd3786"
             ],
             [
              0.5555555555555556,
              "#d8576b"
             ],
             [
              0.6666666666666666,
              "#ed7953"
             ],
             [
              0.7777777777777778,
              "#fb9f3a"
             ],
             [
              0.8888888888888888,
              "#fdca26"
             ],
             [
              1,
              "#f0f921"
             ]
            ],
            "type": "surface"
           }
          ],
          "table": [
           {
            "cells": {
             "fill": {
              "color": "#EBF0F8"
             },
             "line": {
              "color": "white"
             }
            },
            "header": {
             "fill": {
              "color": "#C8D4E3"
             },
             "line": {
              "color": "white"
             }
            },
            "type": "table"
           }
          ]
         },
         "layout": {
          "annotationdefaults": {
           "arrowcolor": "#2a3f5f",
           "arrowhead": 0,
           "arrowwidth": 1
          },
          "autotypenumbers": "strict",
          "coloraxis": {
           "colorbar": {
            "outlinewidth": 0,
            "ticks": ""
           }
          },
          "colorscale": {
           "diverging": [
            [
             0,
             "#8e0152"
            ],
            [
             0.1,
             "#c51b7d"
            ],
            [
             0.2,
             "#de77ae"
            ],
            [
             0.3,
             "#f1b6da"
            ],
            [
             0.4,
             "#fde0ef"
            ],
            [
             0.5,
             "#f7f7f7"
            ],
            [
             0.6,
             "#e6f5d0"
            ],
            [
             0.7,
             "#b8e186"
            ],
            [
             0.8,
             "#7fbc41"
            ],
            [
             0.9,
             "#4d9221"
            ],
            [
             1,
             "#276419"
            ]
           ],
           "sequential": [
            [
             0,
             "#0d0887"
            ],
            [
             0.1111111111111111,
             "#46039f"
            ],
            [
             0.2222222222222222,
             "#7201a8"
            ],
            [
             0.3333333333333333,
             "#9c179e"
            ],
            [
             0.4444444444444444,
             "#bd3786"
            ],
            [
             0.5555555555555556,
             "#d8576b"
            ],
            [
             0.6666666666666666,
             "#ed7953"
            ],
            [
             0.7777777777777778,
             "#fb9f3a"
            ],
            [
             0.8888888888888888,
             "#fdca26"
            ],
            [
             1,
             "#f0f921"
            ]
           ],
           "sequentialminus": [
            [
             0,
             "#0d0887"
            ],
            [
             0.1111111111111111,
             "#46039f"
            ],
            [
             0.2222222222222222,
             "#7201a8"
            ],
            [
             0.3333333333333333,
             "#9c179e"
            ],
            [
             0.4444444444444444,
             "#bd3786"
            ],
            [
             0.5555555555555556,
             "#d8576b"
            ],
            [
             0.6666666666666666,
             "#ed7953"
            ],
            [
             0.7777777777777778,
             "#fb9f3a"
            ],
            [
             0.8888888888888888,
             "#fdca26"
            ],
            [
             1,
             "#f0f921"
            ]
           ]
          },
          "colorway": [
           "#636efa",
           "#EF553B",
           "#00cc96",
           "#ab63fa",
           "#FFA15A",
           "#19d3f3",
           "#FF6692",
           "#B6E880",
           "#FF97FF",
           "#FECB52"
          ],
          "font": {
           "color": "#2a3f5f"
          },
          "geo": {
           "bgcolor": "white",
           "lakecolor": "white",
           "landcolor": "#E5ECF6",
           "showlakes": true,
           "showland": true,
           "subunitcolor": "white"
          },
          "hoverlabel": {
           "align": "left"
          },
          "hovermode": "closest",
          "mapbox": {
           "style": "light"
          },
          "paper_bgcolor": "white",
          "plot_bgcolor": "#E5ECF6",
          "polar": {
           "angularaxis": {
            "gridcolor": "white",
            "linecolor": "white",
            "ticks": ""
           },
           "bgcolor": "#E5ECF6",
           "radialaxis": {
            "gridcolor": "white",
            "linecolor": "white",
            "ticks": ""
           }
          },
          "scene": {
           "xaxis": {
            "backgroundcolor": "#E5ECF6",
            "gridcolor": "white",
            "gridwidth": 2,
            "linecolor": "white",
            "showbackground": true,
            "ticks": "",
            "zerolinecolor": "white"
           },
           "yaxis": {
            "backgroundcolor": "#E5ECF6",
            "gridcolor": "white",
            "gridwidth": 2,
            "linecolor": "white",
            "showbackground": true,
            "ticks": "",
            "zerolinecolor": "white"
           },
           "zaxis": {
            "backgroundcolor": "#E5ECF6",
            "gridcolor": "white",
            "gridwidth": 2,
            "linecolor": "white",
            "showbackground": true,
            "ticks": "",
            "zerolinecolor": "white"
           }
          },
          "shapedefaults": {
           "line": {
            "color": "#2a3f5f"
           }
          },
          "ternary": {
           "aaxis": {
            "gridcolor": "white",
            "linecolor": "white",
            "ticks": ""
           },
           "baxis": {
            "gridcolor": "white",
            "linecolor": "white",
            "ticks": ""
           },
           "bgcolor": "#E5ECF6",
           "caxis": {
            "gridcolor": "white",
            "linecolor": "white",
            "ticks": ""
           }
          },
          "title": {
           "x": 0.05
          },
          "xaxis": {
           "automargin": true,
           "gridcolor": "white",
           "linecolor": "white",
           "ticks": "",
           "title": {
            "standoff": 15
           },
           "zerolinecolor": "white",
           "zerolinewidth": 2
          },
          "yaxis": {
           "automargin": true,
           "gridcolor": "white",
           "linecolor": "white",
           "ticks": "",
           "title": {
            "standoff": 15
           },
           "zerolinecolor": "white",
           "zerolinewidth": 2
          }
         }
        },
        "title": {
         "text": "Orders made: [[0, 50], [1, 500], [2, 250], [3, 75], [1, 100]], Fitness of best result: 75"
        },
        "xaxis": {
         "rangeselector": {
          "buttons": [
           {
            "count": 7,
            "label": "1w",
            "step": "day",
            "stepmode": "backward"
           },
           {
            "count": 1,
            "label": "1m",
            "step": "month",
            "stepmode": "backward"
           },
           {
            "count": 6,
            "label": "6m",
            "step": "month",
            "stepmode": "backward"
           },
           {
            "count": 1,
            "label": "YTD",
            "step": "year",
            "stepmode": "todate"
           },
           {
            "count": 1,
            "label": "1y",
            "step": "year",
            "stepmode": "backward"
           },
           {
            "step": "all"
           }
          ]
         },
         "showgrid": true,
         "type": "linear",
         "zeroline": false
        },
        "yaxis": {
         "autorange": false,
         "range": [
          -1,
          7
         ],
         "showgrid": false,
         "ticktext": [
          "W2",
          "W3",
          "W1",
          "W4",
          "W0",
          "W6"
         ],
         "tickvals": [
          0,
          1,
          2,
          3,
          4,
          5
         ],
         "zeroline": false
        }
       }
      }
     },
     "metadata": {},
     "output_type": "display_data"
    }
   ],
   "source": [
    "def is_first(jobs, index): # check if job is the first in it's order sequence\n",
    "    return jobs[index][2] == 0 or order_for_index[jobs[index][2]-1] != order_for_index[jobs[index][2]]\n",
    "\n",
    "w = dict()\n",
    "for i in range(len(assignments)):\n",
    "    if assignments[i] not in w:\n",
    "        w[assignments[i]] = []\n",
    "    w[assignments[i]].append([start_times[i], start_times[i]+durations[i], i]) #<start, end, index>\n",
    "#print(w)\n",
    "for workstation in w:\n",
    "    w[workstation] = sorted(w[workstation], key=lambda x: x[0])\n",
    "#print(w)\n",
    "import copy\n",
    "new_solution = copy.deepcopy(start_times)\n",
    "changes_made = True\n",
    "while changes_made:\n",
    "    changes_made = False\n",
    "    for workstation in w:\n",
    "        for i in range(len(w[workstation])):\n",
    "            shift = 0\n",
    "            if is_first(w[workstation], i):\n",
    "                if i == 0:\n",
    "                    shift = w[workstation][i][0]\n",
    "                else:\n",
    "                    shift = w[workstation][i][0] - w[workstation][i-1][1]\n",
    "            else: # find end of previous job in sequence + end of job previous on the workstation -> move to closer one\n",
    "                    prev_end = new_solution[w[workstation][i][2]-1] + durations[w[workstation][i][2]-1]\n",
    "                    prev_shift = w[workstation][i][0] - prev_end\n",
    "                    if i == 0:\n",
    "                        shift = prev_shift\n",
    "                    else:\n",
    "                        shift = w[workstation][i][0] - w[workstation][i-1][1]\n",
    "                        if prev_shift < shift:\n",
    "                            shift = prev_shift\n",
    "            w[workstation][i][0] -= shift\n",
    "            w[workstation][i][1] -= shift\n",
    "            new_solution[w[workstation][i][2]] = w[workstation][i][0]\n",
    "        changes_made = changes_made or shift != 0\n",
    "result = []\n",
    "for i in range(len(new_solution)):\n",
    "    result.append(assignments[i])\n",
    "    result.append(new_solution[i])\n",
    "#print(result)\n",
    "fitness = abs(fitness_function(result, 0)) - 1\n",
    "#print(f'Makespan: {abs(fitness_function(result, 0)) - 1}')\n",
    "data = []\n",
    "for i in range(len(assignments)):\n",
    "    data.append([assignments[i], job_for_index(i), new_solution[i], durations[i]])\n",
    "visualize(result, fitness, orders, job_durations)\n"
   ]
  }
 ],
 "metadata": {
  "kernelspec": {
   "display_name": "Python 3.10.3 64-bit",
   "language": "python",
   "name": "python3"
  },
  "language_info": {
   "codemirror_mode": {
    "name": "ipython",
    "version": 3
   },
   "file_extension": ".py",
   "mimetype": "text/x-python",
   "name": "python",
   "nbconvert_exporter": "python",
   "pygments_lexer": "ipython3",
   "version": "3.10.3"
  },
  "orig_nbformat": 4,
  "vscode": {
   "interpreter": {
    "hash": "1e478315ea93f9f083d422a59179b37c6ead09cc57c0e51f656bb4b8796d5f86"
   }
  }
 },
 "nbformat": 4,
 "nbformat_minor": 2
}
