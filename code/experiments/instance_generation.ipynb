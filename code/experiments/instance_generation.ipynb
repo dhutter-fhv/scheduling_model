{
 "cells": [
  {
   "cell_type": "code",
   "execution_count": null,
   "metadata": {
    "vscode": {
     "languageId": "plaintext"
    }
   },
   "outputs": [],
   "source": [
    "min_machines = 5\n",
    "max_machines = 20\n",
    "min_operations = 20\n",
    "max_operations = 100\n",
    "min_workers = 5\n",
    "max_workers = 30\n",
    "min_jobs = 2\n",
    "max_jobs = 10"
   ]
  },
  {
   "cell_type": "code",
   "execution_count": null,
   "metadata": {
    "vscode": {
     "languageId": "plaintext"
    }
   },
   "outputs": [],
   "source": [
    "target_dv = 0.01\n",
    "target_flexibility = 0.25\n",
    "target_job_operations = 4 # average sequence constraints"
   ]
  },
  {
   "cell_type": "code",
   "execution_count": null,
   "metadata": {
    "vscode": {
     "languageId": "plaintext"
    }
   },
   "outputs": [],
   "source": [
    "machines = 10\n",
    "operations = 40\n",
    "workers = 10\n",
    "jobs = 10\n",
    "m_average = 2 # bound between (1, max_machines)"
   ]
  },
  {
   "cell_type": "code",
   "execution_count": null,
   "metadata": {
    "vscode": {
     "languageId": "plaintext"
    }
   },
   "outputs": [],
   "source": []
  }
 ],
 "metadata": {
  "language_info": {
   "name": "python"
  }
 },
 "nbformat": 4,
 "nbformat_minor": 2
}
