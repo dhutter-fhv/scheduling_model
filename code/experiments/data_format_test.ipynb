{
 "cells": [
  {
   "cell_type": "code",
   "execution_count": 2,
   "metadata": {},
   "outputs": [],
   "source": [
    "workstation_types = [1,1,2,2,1] # amount available machines for each machine type\n",
    "recipes = [2,2,3] # amount of tasks per recipe, sorted in following table\n",
    "# all tasks, with processing times on each machine type\n",
    "# 0 = task can not be processed on machine n\n",
    "tasks = [\n",
    " [27,32,0,53,64],\n",
    " [35,22,51,0,33],\n",
    " [11,40,22,34,0],\n",
    " [23,55,42,0,27],\n",
    " [43,0,21,36,0],\n",
    " [0,42,21,0,34],\n",
    " [20,0,30,22,40]\n",
    "]\n",
    "# resource inventory\n",
    "resources = [200,100,100,200,100,300]\n",
    "# prices of resources for different vendors, 0 = not available, first value = price (per unit), second value = delivery time\n",
    "#NOTE: for uncertainty, maybe make prices and delivery times change over time, leave static for now\n",
    "resource_delivery = [\n",
    " [(10,500),(12,400),(15,450),(0,0),(0,0),(10,1000)],\n",
    " [(20,350),(20,300),(30,500),(10,1000),(0,0),(11,1000)],\n",
    " [(5,800),(5,800),(5,800),(5,800),(4,850),(8,1100)],\n",
    " [(4,700),(3,800),(4,700),(3,750),(5,700),(10,1150)],\n",
    " [(20,800),(21,800),(19,820),(20,800),(0,0),(13,800)],\n",
    " [(0,0),(0,0),(10,800),(10,800),(0,0),(9,1050)]\n",
    "]\n",
    "# resource consumption per task, possibly needs one of these tables for each machine type\n",
    "resource_consumption = [\n",
    " [0,1,1,2,0,0],\n",
    " [1,2,0,0,0,0],\n",
    " [0,0,0,1,2,0],\n",
    " [2,0,0,0,0,3],\n",
    " [0,0,0,0,2,1],\n",
    " [1,0,1,0,1,0],\n",
    " [0,0,0,0,0,5]\n",
    "]\n"
   ]
  },
  {
   "cell_type": "code",
   "execution_count": 3,
   "metadata": {},
   "outputs": [],
   "source": [
    "def get_duration(task_id : int, w_type_id : int) -> int:\n",
    "    return tasks[task_id][w_type_id]\n",
    "\n",
    "def get_resource_amount_in_inventory(resource_id : int) -> int:\n",
    "    return resources[resource_id]\n",
    "\n",
    "def get_resource_consumption(task_id : int, resource_id : int) -> int: \n",
    "    return resource_consumption[task_id][resource_id]\n",
    "\n",
    "def get_delivery_options(resource_id : int) -> list[tuple[int, int]]:\n",
    "    options = []\n",
    "    for vendor in resource_delivery:\n",
    "        options.append(vendor[resource_id])\n",
    "    return options\n",
    "\n",
    "def get_tasks_for_recipe(recipe_id : int) -> list[list[int]]:\n",
    "    recipe_tasks = []\n",
    "    start_index = 0\n",
    "    if not recipe_id == 0:\n",
    "        start_index = sum(recipes[:recipe_id])\n",
    "    for i in range(start_index, start_index + recipes[recipe_id]):\n",
    "        recipe_tasks.append(tasks[i])\n",
    "    return recipe_tasks\n",
    "\n",
    "def get_recipe_id_for_task(task_id : int) -> int:\n",
    "    recipe_id = 0\n",
    "    current_id = 0\n",
    "    while current_id <= task_id:\n",
    "        current_id += recipes[recipe_id]\n",
    "        recipe_id += 1\n",
    "    return recipe_id-1\n",
    "\n",
    "def is_first_of_recipe(task_id : int) -> bool:\n",
    "    id = 0\n",
    "    for recipe_length in recipes:\n",
    "        if task_id - id <= 0:\n",
    "            return task_id - id == 0\n",
    "        id += recipe_length\n",
    "    return False\n"
   ]
  },
  {
   "cell_type": "code",
   "execution_count": 4,
   "metadata": {},
   "outputs": [
    {
     "name": "stdout",
     "output_type": "stream",
     "text": [
      "[[43, 0, 21, 36, 0], [0, 42, 21, 0, 34], [20, 0, 30, 22, 40]]\n",
      "0: True\n",
      "1: False\n",
      "2: True\n",
      "3: False\n",
      "4: True\n",
      "5: False\n",
      "6: False\n",
      "0: 0\n",
      "1: 0\n",
      "2: 1\n",
      "3: 1\n",
      "4: 2\n",
      "5: 2\n",
      "6: 2\n",
      "[(15, 450), (30, 500), (5, 800), (4, 700), (19, 820), (10, 800)]\n"
     ]
    }
   ],
   "source": [
    "print(get_tasks_for_recipe(2)) # should be the last 3 tasks\n",
    "#firsts = 0, 2, 4\n",
    "for i in range(len(tasks)):\n",
    "    print(f'{i}: {is_first_of_recipe(i)}')\n",
    "# should be 0, 0, 1, 1, 2, 2, 2\n",
    "for i in range(len(tasks)):\n",
    "    print(f'{i}: {get_recipe_id_for_task(i)}')\n",
    "print(get_delivery_options(2))\n"
   ]
  }
 ],
 "metadata": {
  "kernelspec": {
   "display_name": "Python 3",
   "language": "python",
   "name": "python3"
  },
  "language_info": {
   "codemirror_mode": {
    "name": "ipython",
    "version": 3
   },
   "file_extension": ".py",
   "mimetype": "text/x-python",
   "name": "python",
   "nbconvert_exporter": "python",
   "pygments_lexer": "ipython3",
   "version": "3.9.13"
  },
  "orig_nbformat": 4,
  "vscode": {
   "interpreter": {
    "hash": "462e7448f083626ea37b7306171372e26a088fcd344dea0651d8925b8464838f"
   }
  }
 },
 "nbformat": 4,
 "nbformat_minor": 2
}
