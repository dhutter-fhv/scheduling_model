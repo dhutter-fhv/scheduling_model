{
 "cells": [
  {
   "cell_type": "code",
   "execution_count": 2,
   "metadata": {},
   "outputs": [],
   "source": [
    "import cma\n",
    "import numpy as np"
   ]
  },
  {
   "cell_type": "code",
   "execution_count": 4,
   "metadata": {},
   "outputs": [
    {
     "name": "stdout",
     "output_type": "stream",
     "text": [
      "(5_w,10)-aCMA-ES (mu_w=3.2,w_1=45%) in dimension 8 (seed=993352, Mon Apr 25 15:52:45 2022)\n",
      "Iterat #Fevals   function value  axis ratio  sigma  min&max std  t[m:s]\n",
      "    1     10 1.166625081668687e+00 1.0e+00 4.39e-01  4e-01  4e-01 0:00.0\n",
      "    2     20 1.856935685935422e+00 1.1e+00 4.01e-01  4e-01  4e-01 0:00.0\n",
      "    3     30 1.771247988804315e+00 1.2e+00 3.72e-01  3e-01  4e-01 0:00.0\n",
      "  100   1000 7.925879531823740e-02 1.7e+00 2.91e-01  6e-02  8e-02 0:00.2\n",
      "  200   2000 1.442087799343967e-01 2.4e+00 1.53e+00  6e-02  9e-02 0:00.3\n",
      "  300   3000 6.583553681475357e-02 1.6e+00 6.48e+00  6e-02  7e-02 0:00.4\n",
      "  400   4000 6.493174311547195e-02 2.1e+00 3.50e+01  6e-02  9e-02 0:00.6\n",
      "  500   5000 1.276598600514235e-01 1.6e+00 1.64e+02  6e-02  7e-02 0:00.7\n",
      "  505   5050 3.304455150748294e-02 1.8e+00 1.76e+02  6e-02  7e-02 0:00.7\n",
      "termination on tolstagnation=321 (Mon Apr 25 15:52:47 2022)\n",
      "final/bestever f-value = 2.024433e-02 1.075695e-02\n",
      "incumbent solution: [1.7214520173743898e-07, 5.1082871503781294e-05, 0.0015426729076161848, 0.0009388936276936956, 0.0016656628722430764, 0.014289437793412692, 0.00042974095476504026, 0.0013266672634463933]\n",
      "std deviation: [0.07185785238361754, 0.06488662166202523, 0.06415091140753194, 0.06797735799462312, 0.058823529411764705, 0.07499505197504637, 0.06038108952375259, 0.06539911371482275]\n",
      "Result: [0.0, 0.0, 0.0, 0.0, 0.0, 0.0, 0.0, 0.0]\n"
     ]
    }
   ],
   "source": [
    "def fitness_function(x):\n",
    "    sum = 0\n",
    "    for i in range(len(x)):\n",
    "        sum += x[i]\n",
    "    return sum\n",
    "\n",
    "x0 = 8 * [0]\n",
    "xopt, es = cma.fmin2(fitness_function, x0 , 0.5, {'integer_variables': list(range(len(x0))), 'bounds': [0, 100]})#'bounds': [-1, 15 - 1e-9]})#, {'verb_disp': 1})\n",
    "int_result = [np.floor(x) for x in es.result[0]] #NOTE: the cma library truncates/rounds all values in the background itself, apparently np.floor\n",
    "print(f'Result: {int_result}')"
   ]
  }
 ],
 "metadata": {
  "interpreter": {
   "hash": "7f6a1dc8c4280d136ecdbc82017e55b6ce3aee96b85e53655c8afc2236474583"
  },
  "kernelspec": {
   "display_name": "Python 3.10.3 64-bit",
   "language": "python",
   "name": "python3"
  },
  "language_info": {
   "codemirror_mode": {
    "name": "ipython",
    "version": 3
   },
   "file_extension": ".py",
   "mimetype": "text/x-python",
   "name": "python",
   "nbconvert_exporter": "python",
   "pygments_lexer": "ipython3",
   "version": "3.10.3"
  },
  "orig_nbformat": 4
 },
 "nbformat": 4,
 "nbformat_minor": 2
}
