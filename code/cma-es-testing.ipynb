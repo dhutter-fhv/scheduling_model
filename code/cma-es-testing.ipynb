{
 "cells": [
  {
   "cell_type": "code",
   "execution_count": 1,
   "metadata": {},
   "outputs": [],
   "source": [
    "import cma"
   ]
  },
  {
   "cell_type": "code",
   "execution_count": 15,
   "metadata": {},
   "outputs": [
    {
     "name": "stdout",
     "output_type": "stream",
     "text": [
      "(5_w,10)-aCMA-ES (mu_w=3.2,w_1=45%) in dimension 8 (seed=1008152, Mon Apr 25 15:41:45 2022)\n",
      "Iterat #Fevals   function value  axis ratio  sigma  min&max std  t[m:s]\n",
      "    1     10 -1.569823235194502e+00 1.0e+00 4.79e-01  5e-01  5e-01 0:00.0\n",
      "    2     20 -2.653834651946216e+00 1.2e+00 4.96e-01  5e-01  5e-01 0:00.0\n",
      "    3     30 -4.880286039366950e+00 1.3e+00 5.57e-01  5e-01  7e-01 0:00.0\n",
      "  100   1000 -7.999533840513546e+01 1.8e+00 2.29e-01  6e-02  7e-02 0:00.1\n",
      "  200   2000 -7.999293041049980e+01 1.8e+00 1.01e+00  6e-02  7e-02 0:00.3\n",
      "  300   3000 -7.999424447189102e+01 2.0e+00 4.89e+00  6e-02  8e-02 0:00.4\n",
      "  400   4000 -7.999361103933303e+01 1.8e+00 2.20e+01  6e-02  7e-02 0:00.6\n",
      "  500   5000 -7.999033178126379e+01 2.0e+00 9.84e+01  6e-02  7e-02 0:00.7\n",
      "  600   6000 -7.999360319258389e+01 2.0e+00 4.63e+02  6e-02  7e-02 0:00.8\n",
      "  665   6650 -7.999044679616867e+01 1.8e+00 1.34e+03  6e-02  8e-02 0:00.9\n",
      "termination on tolstagnation=321 (Mon Apr 25 15:41:48 2022)\n",
      "final/bestever f-value = -7.999781e+01 -7.999888e+01\n",
      "incumbent solution: [-9.999867778041654, -9.999999342295302, -9.999943572923913, -9.998928834821733, -9.999894515452839, -9.999868985833277, -9.999881372399871, -9.999424303137937]\n",
      "std deviation: [0.06511765451572413, 0.06215603890211598, 0.06673394164397688, 0.07550906392042141, 0.0588235294117647, 0.06100496821684134, 0.06231106980256353, 0.05891522438309897]\n",
      "Result: [-9, -9, -9, -9, -9, -9, -9, -9]\n"
     ]
    }
   ],
   "source": [
    "def fitness_function(x):\n",
    "    sum = 0\n",
    "    for i in range(len(x)):\n",
    "        sum += x[i]\n",
    "    return sum\n",
    "\n",
    "x0 = 8 * [0]\n",
    "xopt, es = cma.fmin2(fitness_function, x0 , 0.5, {'integer_variables': list(range(len(x0))), 'bounds': [-10, 15 - 1e-9]})#'bounds': [-1, 15 - 1e-9]})#, {'verb_disp': 1})\n",
    "int_result = [int(x) for x in es.result[0]] #NOTE: the cma library truncates/rounds all values in the background itself\n",
    "print(f'Result: {int_result}')"
   ]
  }
 ],
 "metadata": {
  "interpreter": {
   "hash": "7f6a1dc8c4280d136ecdbc82017e55b6ce3aee96b85e53655c8afc2236474583"
  },
  "kernelspec": {
   "display_name": "Python 3.10.3 64-bit",
   "language": "python",
   "name": "python3"
  },
  "language_info": {
   "codemirror_mode": {
    "name": "ipython",
    "version": 3
   },
   "file_extension": ".py",
   "mimetype": "text/x-python",
   "name": "python",
   "nbconvert_exporter": "python",
   "pygments_lexer": "ipython3",
   "version": "3.10.3"
  },
  "orig_nbformat": 4
 },
 "nbformat": 4,
 "nbformat_minor": 2
}
