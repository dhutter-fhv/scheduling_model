{
 "cells": [
  {
   "attachments": {},
   "cell_type": "markdown",
   "metadata": {},
   "source": [
    "Imports"
   ]
  },
  {
   "cell_type": "code",
   "execution_count": 25,
   "metadata": {},
   "outputs": [
    {
     "name": "stdout",
     "output_type": "stream",
     "text": [
      "The autoreload extension is already loaded. To reload it, use:\n",
      "  %reload_ext autoreload\n"
     ]
    }
   ],
   "source": [
    "%load_ext autoreload\n",
    "%autoreload 2\n",
    "from translation import BasicBenchmarkTranslator, FJSSPInstancesTranslator, SimpleGAEncoder, GurobiEncoder\n",
    "from model import Order, ProductionEnvironment, reset_entities, soft_reset\n",
    "from solver import GASolver, GreedyAgentSolver, PSOSolver, StagedGA, GurobiSolver\n",
    "from evaluation import Evaluator, Makespan, IdleTime, TimeDeviation, Profit, UnfulfilledOrders, Tardiness\n",
    "from visualization import visualize_schedule\n",
    "import random"
   ]
  },
  {
   "attachments": {},
   "cell_type": "markdown",
   "metadata": {},
   "source": [
    "<h3>Setup</h3>"
   ]
  },
  {
   "cell_type": "code",
   "execution_count": 2,
   "metadata": {},
   "outputs": [],
   "source": [
    "order_amount = 10"
   ]
  },
  {
   "attachments": {},
   "cell_type": "markdown",
   "metadata": {},
   "source": [
    "Data Selection (Only run one of the following blocks)"
   ]
  },
  {
   "cell_type": "code",
   "execution_count": 26,
   "metadata": {},
   "outputs": [],
   "source": [
    "reset_entities()\n",
    "fjssp_translator = FJSSPInstancesTranslator()\n",
    "production_environment = fjssp_translator.translate('6_Fattahi', 10)"
   ]
  },
  {
   "cell_type": "code",
   "execution_count": 2,
   "metadata": {},
   "outputs": [],
   "source": [
    "reset_entities()\n",
    "simple_translator = BasicBenchmarkTranslator()\n",
    "production_environment = simple_translator.translate(3)"
   ]
  },
  {
   "attachments": {},
   "cell_type": "markdown",
   "metadata": {},
   "source": [
    "Order Generation"
   ]
  },
  {
   "cell_type": "code",
   "execution_count": 27,
   "metadata": {},
   "outputs": [],
   "source": [
    "def generate_random_orders(amount : int, production_enviornment : ProductionEnvironment) -> list[Order]:\n",
    "    available_resources = production_enviornment.resources # NOTE: currently works because all resources can be produced\n",
    "    orders : list[Order] = []\n",
    "    for i in range(amount):\n",
    "        resource_id = random.randint(0, len(available_resources)-1)\n",
    "        resource = production_environment.get_resource(resource_id)\n",
    "        order = Order(arrival_time=0, delivery_time=1000, latest_acceptable_time=1000, resources=[(resource, 1)], penalty=100.0, tardiness_fee=50.0, divisible=False, profit=500.0) # NOTE: randomize later\n",
    "        orders.append(order)\n",
    "    return orders\n",
    "\n",
    "def generate_one_order_per_recipe(production_environment : ProductionEnvironment) -> list[Order]:\n",
    "    orders : list[Order] = []\n",
    "    for i in range(len(production_environment.resources.values())): # should be the same amount as recipes for now\n",
    "        orders.append(Order(delivery_time=1000, latest_acceptable_time=1000, resources=[(production_environment.get_resource(i), 1)], penalty=100.0, tardiness_fee=50.0, divisible=False, profit=500.0))\n",
    "    return orders\n",
    "\n",
    "random.seed(1) # for comparisons\n",
    "\n",
    "#orders = generate_random_orders(order_amount, production_environment) # NOTE: some of the data is currently the same for every order\n",
    "orders = generate_one_order_per_recipe(production_environment)"
   ]
  },
  {
   "attachments": {},
   "cell_type": "markdown",
   "metadata": {},
   "source": [
    "Solver Selection and Configuration (Only run one of the following blocks)"
   ]
  },
  {
   "cell_type": "code",
   "execution_count": 175,
   "metadata": {},
   "outputs": [],
   "source": [
    "soft_reset()\n",
    "encoder = SimpleGAEncoder()\n",
    "values, durations, jobs = encoder.encode(production_environment, orders) # NOTE: create duration dictionary\n",
    "solver = GASolver(values, durations, jobs, production_environment, orders)\n",
    "\n",
    "start_time_slot = 0\n",
    "end_time_slot = 1000\n",
    "population_size = 50\n",
    "offspring_amount = 2 * population_size\n",
    "max_generations = 10000\n",
    "keep_parents = 0#int(population_size/4)#int(population_size / 6) #NOTE: weirdly only applies if keep_elitism=0, otherwise keep_elitism is used\n",
    "keep_elitism= int(population_size/4)\n",
    "crossover = 'two_points' # available options: single_point, two_points, uniform, scattered\n",
    "selection = 'tournament' # available options: sss (Stead State Selection), rws (Roulette Wheel Selection), sus (Stochastic Universal Selection), rank (Rank Selection), random (Random Selection), tournament (Torunament Selection)\n",
    "k_tournament = int(population_size/4)\n",
    "mutation = 'force_feasible' # available options: workstation_only, full_random, random_only_feasible, force_feasible\n",
    "\n",
    "solver.initialize(earliest_slot=start_time_slot, last_slot=end_time_slot, population_size=population_size, offspring_amount=offspring_amount, max_generations=max_generations, crossover=crossover, selection=selection, mutation=mutation, k_tournament=k_tournament, keep_parents=keep_parents, keep_elitism=keep_elitism)"
   ]
  },
  {
   "cell_type": "code",
   "execution_count": 278,
   "metadata": {},
   "outputs": [],
   "source": [
    "soft_reset()\n",
    "encoder = SimpleGAEncoder()\n",
    "values, durations, jobs = encoder.encode(production_environment, orders) # NOTE: create duration dictionary\n",
    "solver = GreedyAgentSolver(values, durations, jobs, production_environment, orders)"
   ]
  },
  {
   "cell_type": "code",
   "execution_count": 208,
   "metadata": {},
   "outputs": [],
   "source": [
    "soft_reset()\n",
    "start_time_slot = 0\n",
    "end_time_slot = 1000\n",
    "encoder = SimpleGAEncoder()\n",
    "values, durations, jobs = encoder.encode(production_environment, orders)\n",
    "solver = PSOSolver(production_environment=production_environment, encoder=encoder, jobs=jobs, durations=durations, start_time=start_time_slot, end_time=end_time_slot, orders=orders)\n",
    "use_alternative = True\n",
    "if not use_alternative:\n",
    "    solver.initialize(dimensions=len(values), max_iterations=10000, update_weights=False, lower_bounds=[start_time_slot] * len(values), upper_bounds=[end_time_slot] * len(values))\n",
    "else:\n",
    "    # TODO: change feasibility and fitness functions NOTE: needs alternative encoder\n",
    "    lower_bounds = []\n",
    "    upper_bounds = []\n",
    "    for i in range(len(values)):\n",
    "        if i % 2 == 0:\n",
    "            # bounds for workstation\n",
    "            lower_bounds.append(0)\n",
    "            upper_bounds.append(len(production_environment.get_available_workstations_for_task(jobs[int(i/2)])))\n",
    "        else:\n",
    "            # bounds for start times\n",
    "            lower_bounds.append(start_time_slot)\n",
    "            upper_bounds.append(end_time_slot)\n",
    "    solver.initialize(dimensions=len(values), max_iterations=10000, update_weights=False, lower_bounds=lower_bounds, upper_bounds=upper_bounds, use_alternative=True)"
   ]
  },
  {
   "cell_type": "code",
   "execution_count": 162,
   "metadata": {},
   "outputs": [],
   "source": [
    "soft_reset()\n",
    "encoder = SimpleGAEncoder()\n",
    "values, durations, jobs = encoder.encode(production_environment, orders)\n",
    "solver = StagedGA(production_environment=production_environment)\n",
    "\n",
    "solver.initialize(values, jobs, durations, 0, 1000)\n"
   ]
  },
  {
   "cell_type": "code",
   "execution_count": 33,
   "metadata": {},
   "outputs": [],
   "source": [
    "soft_reset()\n",
    "encoder = GurobiEncoder()\n",
    "nb_machines, nb_jobs, nb_operations, job_ops_machs, durations, job_op_suitable, upper_bound, jobs = encoder.encode(production_environment, orders)\n",
    "solver = GurobiSolver(production_environment)\n",
    "solver.initialize(nb_jobs, nb_operations, nb_machines, job_ops_machs, durations, job_op_suitable, upper_bound)"
   ]
  },
  {
   "attachments": {},
   "cell_type": "markdown",
   "metadata": {},
   "source": [
    "Objective Selection (Multiple objectives can be added) NOTE: currently only the first added objective is considered during optimization"
   ]
  },
  {
   "cell_type": "code",
   "execution_count": 29,
   "metadata": {},
   "outputs": [],
   "source": [
    "solver.add_objective(Makespan())"
   ]
  },
  {
   "cell_type": "code",
   "execution_count": 177,
   "metadata": {},
   "outputs": [],
   "source": [
    "solver.add_objective(IdleTime())"
   ]
  },
  {
   "cell_type": "code",
   "execution_count": 178,
   "metadata": {},
   "outputs": [],
   "source": [
    "solver.add_objective(TimeDeviation())"
   ]
  },
  {
   "cell_type": "code",
   "execution_count": 179,
   "metadata": {},
   "outputs": [],
   "source": [
    "solver.add_objective(Tardiness())"
   ]
  },
  {
   "cell_type": "code",
   "execution_count": 180,
   "metadata": {},
   "outputs": [],
   "source": [
    "solver.add_objective(Profit())"
   ]
  },
  {
   "cell_type": "code",
   "execution_count": 181,
   "metadata": {},
   "outputs": [],
   "source": [
    "solver.add_objective(UnfulfilledOrders())"
   ]
  },
  {
   "attachments": {},
   "cell_type": "markdown",
   "metadata": {},
   "source": [
    "<h3>Run the Solver</h3>"
   ]
  },
  {
   "cell_type": "code",
   "execution_count": 34,
   "metadata": {},
   "outputs": [
    {
     "name": "stdout",
     "output_type": "stream",
     "text": [
      "Minimize\n",
      "  Cmax\n",
      "Subject To\n",
      "  Y_const[1,1]: Y[1,1,1] = 1\n",
      "  Y_const[1,2]: Y[1,2,2] + Y[1,2,4] = 1\n",
      "  Y_const[1,3]: Y[1,3,4] + Y[1,3,5] = 1\n",
      "  Y_const[2,1]: Y[2,1,1] + Y[2,1,3] = 1\n",
      "  Y_const[2,2]: Y[2,2,2] + Y[2,2,3] = 1\n",
      "  Y_const[2,3]: Y[2,3,5] = 1\n",
      "  Y_const[3,1]: Y[3,1,1] + Y[3,1,2] = 1\n",
      "  Y_const[3,2]: Y[3,2,3] = 1\n",
      "  Y_const[3,3]: Y[3,3,4] + Y[3,3,5] = 1\n",
      "  Y_const[4,1]: Y[4,1,1] + Y[4,1,2] = 1\n",
      "  Y_const[4,2]: Y[4,2,5] = 1\n",
      "  Y_const[4,3]: Y[4,3,3] + Y[4,3,4] = 1\n",
      "  C_time[1,1]: 147.0 Y[1,1,1] + -1.0 C[1,1] <= 0\n",
      "  C_time[2,1]: 214.0 Y[2,1,1] + 150.0 Y[2,1,3] + -1.0 C[2,1] <= 0\n",
      "  C_time[3,1]: 87.0 Y[3,1,1] + 62.0 Y[3,1,2] + -1.0 C[3,1] <= 0\n",
      "  C_time[4,1]: 87.0 Y[4,1,1] + 65.0 Y[4,1,2] + -1.0 C[4,1] <= 0\n",
      "  C_time[1,2]: 130.0 Y[1,2,2] + 140.0 Y[1,2,4] + C[1,1] + -1.0 C[1,2] <= 0\n",
      "  C_time[1,3]: 150.0 Y[1,3,4] + 160.0 Y[1,3,5] + C[1,2] + -1.0 C[1,3] <= 0\n",
      "  C_time[2,2]: 66.0 Y[2,2,2] + 87.0 Y[2,2,3] + C[2,1] + -1.0 C[2,2] <= 0\n",
      "  C_time[2,3]: 178.0 Y[2,3,5] + C[2,2] + -1.0 C[2,3] <= 0\n",
      "  C_time[3,2]: 180.0 Y[3,2,3] + C[3,1] + -1.0 C[3,2] <= 0\n",
      "  C_time[3,3]: 190.0 Y[3,3,4] + 100.0 Y[3,3,5] + C[3,2] + -1.0 C[3,3] <= 0\n",
      "  C_time[4,2]: 173.0 Y[4,2,5] + C[4,1] + -1.0 C[4,2] <= 0\n",
      "  C_time[4,3]: 136.0 Y[4,3,3] + 145.0 Y[4,3,4] + C[4,2] + -1.0 C[4,3] <= 0\n",
      "l1[1,1,2,1,1]: -1788.0 Y[1,1,1] + -1788.0 Y[2,1,1] + -1788.0 X[1,1,2,1] + C[1,1] + -1.0\n",
      " C[2,1] >= -5217\n",
      "l1[1,1,3,1,1]: -1788.0 Y[1,1,1] + -1788.0 Y[3,1,1] + -1788.0 X[1,1,3,1] + C[1,1] + -1.0\n",
      " C[3,1] >= -5217\n",
      "l1[1,1,4,1,1]: -1788.0 Y[1,1,1] + -1788.0 Y[4,1,1] + -1788.0 X[1,1,4,1] + C[1,1] + -1.0\n",
      " C[4,1] >= -5217\n",
      "l1[1,2,2,2,2]: -1788.0 Y[1,2,2] + -1788.0 Y[2,2,2] + -1788.0 X[1,2,2,2] + C[1,2] + -1.0\n",
      " C[2,2] >= -5234\n",
      "l1[1,2,3,1,2]: -1788.0 Y[1,2,2] + -1788.0 Y[3,1,2] + -1788.0 X[1,2,3,1] + C[1,2] + -1.0\n",
      " C[3,1] >= -5234\n",
      "l1[1,2,3,3,4]: -1788.0 Y[1,2,4] + -1788.0 Y[3,3,4] + -1788.0 X[1,2,3,3] + C[1,2] + -1.0\n",
      " C[3,3] >= -5224\n",
      "l1[1,2,4,1,2]: -1788.0 Y[1,2,2] + -1788.0 Y[4,1,2] + -1788.0 X[1,2,4,1] + C[1,2] + -1.0\n",
      " C[4,1] >= -5234\n",
      "l1[1,2,4,3,4]: -1788.0 Y[1,2,4] + -1788.0 Y[4,3,4] + -1788.0 X[1,2,4,3] + C[1,2] + -1.0\n",
      " C[4,3] >= -5224\n",
      "l1[1,3,2,3,5]: -1788.0 Y[1,3,5] + -1788.0 Y[2,3,5] + -1788.0 X[1,3,2,3] + C[1,3] + -1.0\n",
      " C[2,3] >= -5204\n",
      "l1[1,3,3,3,4]: -1788.0 Y[1,3,4] + -1788.0 Y[3,3,4] + -1788.0 X[1,3,3,3] + C[1,3] + -1.0\n",
      " C[3,3] >= -5214\n",
      "l1[1,3,3,3,5]: -1788.0 Y[1,3,5] + -1788.0 Y[3,3,5] + -1788.0 X[1,3,3,3] + C[1,3] + -1.0\n",
      " C[3,3] >= -5204\n",
      "l1[1,3,4,2,5]: -1788.0 Y[1,3,5] + -1788.0 Y[4,2,5] + -1788.0 X[1,3,4,2] + C[1,3] + -1.0\n",
      " C[4,2] >= -5204\n",
      "l1[1,3,4,3,4]: -1788.0 Y[1,3,4] + -1788.0 Y[4,3,4] + -1788.0 X[1,3,4,3] + C[1,3] + -1.0\n",
      " C[4,3] >= -5214\n",
      "l1[2,1,3,1,1]: -1788.0 Y[2,1,1] + -1788.0 Y[3,1,1] + -1788.0 X[2,1,3,1] + C[2,1] + -1.0\n",
      " C[3,1] >= -5150\n",
      "l1[2,1,3,2,3]: -1788.0 Y[2,1,3] + -1788.0 Y[3,2,3] + -1788.0 X[2,1,3,2] + C[2,1] + -1.0\n",
      " C[3,2] >= -5214\n",
      "l1[2,1,4,1,1]: -1788.0 Y[2,1,1] + -1788.0 Y[4,1,1] + -1788.0 X[2,1,4,1] + C[2,1] + -1.0\n",
      " C[4,1] >= -5150\n",
      "l1[2,1,4,3,3]: -1788.0 Y[2,1,3] + -1788.0 Y[4,3,3] + -1788.0 X[2,1,4,3] + C[2,1] + -1.0\n",
      " C[4,3] >= -5214\n",
      "l1[2,2,3,1,2]: -1788.0 Y[2,2,2] + -1788.0 Y[3,1,2] + -1788.0 X[2,2,3,1] + C[2,2] + -1.0\n",
      " C[3,1] >= -5298\n",
      "l1[2,2,3,2,3]: -1788.0 Y[2,2,3] + -1788.0 Y[3,2,3] + -1788.0 X[2,2,3,2] + C[2,2] + -1.0\n",
      " C[3,2] >= -5277\n",
      "l1[2,2,4,1,2]: -1788.0 Y[2,2,2] + -1788.0 Y[4,1,2] + -1788.0 X[2,2,4,1] + C[2,2] + -1.0\n",
      " C[4,1] >= -5298\n",
      "l1[2,2,4,3,3]: -1788.0 Y[2,2,3] + -1788.0 Y[4,3,3] + -1788.0 X[2,2,4,3] + C[2,2] + -1.0\n",
      " C[4,3] >= -5277\n",
      "l1[2,3,3,3,5]: -1788.0 Y[2,3,5] + -1788.0 Y[3,3,5] + -1788.0 X[2,3,3,3] + C[2,3] + -1.0\n",
      " C[3,3] >= -5186\n",
      "l1[2,3,4,2,5]: -1788.0 Y[2,3,5] + -1788.0 Y[4,2,5] + -1788.0 X[2,3,4,2] + C[2,3] + -1.0\n",
      " C[4,2] >= -5186\n",
      "l1[3,1,4,1,1]: -1788.0 Y[3,1,1] + -1788.0 Y[4,1,1] + -1788.0 X[3,1,4,1] + C[3,1] + -1.0\n",
      " C[4,1] >= -5277\n",
      "l1[3,1,4,1,2]: -1788.0 Y[3,1,2] + -1788.0 Y[4,1,2] + -1788.0 X[3,1,4,1] + C[3,1] + -1.0\n",
      " C[4,1] >= -5302\n",
      "l1[3,2,4,3,3]: -1788.0 Y[3,2,3] + -1788.0 Y[4,3,3] + -1788.0 X[3,2,4,3] + C[3,2] + -1.0\n",
      " C[4,3] >= -5184\n",
      "l1[3,3,4,2,5]: -1788.0 Y[3,3,5] + -1788.0 Y[4,2,5] + -1788.0 X[3,3,4,2] + C[3,3] + -1.0\n",
      " C[4,2] >= -5264\n",
      "l1[3,3,4,3,4]: -1788.0 Y[3,3,4] + -1788.0 Y[4,3,4] + -1788.0 X[3,3,4,3] + C[3,3] + -1.0\n",
      " C[4,3] >= -5174\n",
      "l2[1,1,2,1,1]: -1788.0 Y[1,1,1] + -1788.0 Y[2,1,1] + 1788.0 X[1,1,2,1] + -1.0 C[1,1] +\n",
      " C[2,1] >= -3362\n",
      "l2[1,1,3,1,1]: -1788.0 Y[1,1,1] + -1788.0 Y[3,1,1] + 1788.0 X[1,1,3,1] + -1.0 C[1,1] +\n",
      " C[3,1] >= -3489\n",
      "l2[1,1,4,1,1]: -1788.0 Y[1,1,1] + -1788.0 Y[4,1,1] + 1788.0 X[1,1,4,1] + -1.0 C[1,1] +\n",
      " C[4,1] >= -3489\n",
      "l2[1,2,2,2,2]: -1788.0 Y[1,2,2] + -1788.0 Y[2,2,2] + 1788.0 X[1,2,2,2] + -1.0 C[1,2] +\n",
      " C[2,2] >= -3510\n",
      "l2[1,2,3,1,2]: -1788.0 Y[1,2,2] + -1788.0 Y[3,1,2] + 1788.0 X[1,2,3,1] + -1.0 C[1,2] +\n",
      " C[3,1] >= -3514\n",
      "l2[1,2,3,3,4]: -1788.0 Y[1,2,4] + -1788.0 Y[3,3,4] + 1788.0 X[1,2,3,3] + -1.0 C[1,2] +\n",
      " C[3,3] >= -3386\n",
      "l2[1,2,4,1,2]: -1788.0 Y[1,2,2] + -1788.0 Y[4,1,2] + 1788.0 X[1,2,4,1] + -1.0 C[1,2] +\n",
      " C[4,1] >= -3511\n",
      "l2[1,2,4,3,4]: -1788.0 Y[1,2,4] + -1788.0 Y[4,3,4] + 1788.0 X[1,2,4,3] + -1.0 C[1,2] +\n",
      " C[4,3] >= -3431\n",
      "l2[1,3,2,3,5]: -1788.0 Y[1,3,5] + -1788.0 Y[2,3,5] + 1788.0 X[1,3,2,3] + -1.0 C[1,3] +\n",
      " C[2,3] >= -3398\n",
      "l2[1,3,3,3,4]: -1788.0 Y[1,3,4] + -1788.0 Y[3,3,4] + 1788.0 X[1,3,3,3] + -1.0 C[1,3] +\n",
      " C[3,3] >= -3386\n",
      "l2[1,3,3,3,5]: -1788.0 Y[1,3,5] + -1788.0 Y[3,3,5] + 1788.0 X[1,3,3,3] + -1.0 C[1,3] +\n",
      " C[3,3] >= -3476\n",
      "l2[1,3,4,2,5]: -1788.0 Y[1,3,5] + -1788.0 Y[4,2,5] + 1788.0 X[1,3,4,2] + -1.0 C[1,3] +\n",
      " C[4,2] >= -3403\n",
      "l2[1,3,4,3,4]: -1788.0 Y[1,3,4] + -1788.0 Y[4,3,4] + 1788.0 X[1,3,4,3] + -1.0 C[1,3] +\n",
      " C[4,3] >= -3431\n",
      "l2[2,1,3,1,1]: -1788.0 Y[2,1,1] + -1788.0 Y[3,1,1] + 1788.0 X[2,1,3,1] + -1.0 C[2,1] +\n",
      " C[3,1] >= -3489\n",
      "l2[2,1,3,2,3]: -1788.0 Y[2,1,3] + -1788.0 Y[3,2,3] + 1788.0 X[2,1,3,2] + -1.0 C[2,1] +\n",
      " C[3,2] >= -3396\n",
      "l2[2,1,4,1,1]: -1788.0 Y[2,1,1] + -1788.0 Y[4,1,1] + 1788.0 X[2,1,4,1] + -1.0 C[2,1] +\n",
      " C[4,1] >= -3489\n",
      "l2[2,1,4,3,3]: -1788.0 Y[2,1,3] + -1788.0 Y[4,3,3] + 1788.0 X[2,1,4,3] + -1.0 C[2,1] +\n",
      " C[4,3] >= -3440\n",
      "l2[2,2,3,1,2]: -1788.0 Y[2,2,2] + -1788.0 Y[3,1,2] + 1788.0 X[2,2,3,1] + -1.0 C[2,2] +\n",
      " C[3,1] >= -3514\n",
      "l2[2,2,3,2,3]: -1788.0 Y[2,2,3] + -1788.0 Y[3,2,3] + 1788.0 X[2,2,3,2] + -1.0 C[2,2] +\n",
      " C[3,2] >= -3396\n",
      "l2[2,2,4,1,2]: -1788.0 Y[2,2,2] + -1788.0 Y[4,1,2] + 1788.0 X[2,2,4,1] + -1.0 C[2,2] +\n",
      " C[4,1] >= -3511\n",
      "l2[2,2,4,3,3]: -1788.0 Y[2,2,3] + -1788.0 Y[4,3,3] + 1788.0 X[2,2,4,3] + -1.0 C[2,2] +\n",
      " C[4,3] >= -3440\n",
      "l2[2,3,3,3,5]: -1788.0 Y[2,3,5] + -1788.0 Y[3,3,5] + 1788.0 X[2,3,3,3] + -1.0 C[2,3] +\n",
      " C[3,3] >= -3476\n",
      "l2[2,3,4,2,5]: -1788.0 Y[2,3,5] + -1788.0 Y[4,2,5] + 1788.0 X[2,3,4,2] + -1.0 C[2,3] +\n",
      " C[4,2] >= -3403\n",
      "l2[3,1,4,1,1]: -1788.0 Y[3,1,1] + -1788.0 Y[4,1,1] + 1788.0 X[3,1,4,1] + -1.0 C[3,1] +\n",
      " C[4,1] >= -3489\n",
      "l2[3,1,4,1,2]: -1788.0 Y[3,1,2] + -1788.0 Y[4,1,2] + 1788.0 X[3,1,4,1] + -1.0 C[3,1] +\n",
      " C[4,1] >= -3511\n",
      "l2[3,2,4,3,3]: -1788.0 Y[3,2,3] + -1788.0 Y[4,3,3] + 1788.0 X[3,2,4,3] + -1.0 C[3,2] +\n",
      " C[4,3] >= -3440\n",
      "l2[3,3,4,2,5]: -1788.0 Y[3,3,5] + -1788.0 Y[4,2,5] + 1788.0 X[3,3,4,2] + -1.0 C[3,3] +\n",
      " C[4,2] >= -3403\n",
      "l2[3,3,4,3,4]: -1788.0 Y[3,3,4] + -1788.0 Y[4,3,4] + 1788.0 X[3,3,4,3] + -1.0 C[3,3] +\n",
      " C[4,3] >= -3431\n",
      "  Cmax[1]: -1.0 C[1,3] + Cmax >= 0\n",
      "  Cmax[2]: -1.0 C[2,3] + Cmax >= 0\n",
      "  Cmax[3]: -1.0 C[3,3] + Cmax >= 0\n",
      "  Cmax[4]: -1.0 C[4,3] + Cmax >= 0\n",
      "Binaries\n",
      "['Y[1,1,1]', 'Y[1,2,2]', 'Y[1,2,4]', 'Y[1,3,4]', 'Y[1,3,5]', 'Y[2,1,1]', 'Y[2,1,3]',\n",
      "'Y[2,2,2]', 'Y[2,2,3]', 'Y[2,3,5]', 'Y[3,1,1]', 'Y[3,1,2]', 'Y[3,2,3]', 'Y[3,3,4]',\n",
      "'Y[3,3,5]', 'Y[4,1,1]', 'Y[4,1,2]', 'Y[4,2,5]', 'Y[4,3,3]', 'Y[4,3,4]', 'X[1,1,2,1]',\n",
      "'X[1,1,2,2]', 'X[1,1,2,3]', 'X[1,1,3,1]', 'X[1,1,3,2]', 'X[1,1,3,3]', 'X[1,1,4,1]',\n",
      "'X[1,1,4,2]', 'X[1,1,4,3]', 'X[1,2,2,1]', 'X[1,2,2,2]', 'X[1,2,2,3]', 'X[1,2,3,1]',\n",
      "'X[1,2,3,2]', 'X[1,2,3,3]', 'X[1,2,4,1]', 'X[1,2,4,2]', 'X[1,2,4,3]', 'X[1,3,2,1]',\n",
      "'X[1,3,2,2]', 'X[1,3,2,3]', 'X[1,3,3,1]', 'X[1,3,3,2]', 'X[1,3,3,3]', 'X[1,3,4,1]',\n",
      "'X[1,3,4,2]', 'X[1,3,4,3]', 'X[2,1,3,1]', 'X[2,1,3,2]', 'X[2,1,3,3]', 'X[2,1,4,1]',\n",
      "'X[2,1,4,2]', 'X[2,1,4,3]', 'X[2,2,3,1]', 'X[2,2,3,2]', 'X[2,2,3,3]', 'X[2,2,4,1]',\n",
      "'X[2,2,4,2]', 'X[2,2,4,3]', 'X[2,3,3,1]', 'X[2,3,3,2]', 'X[2,3,3,3]', 'X[2,3,4,1]',\n",
      "'X[2,3,4,2]', 'X[2,3,4,3]', 'X[3,1,4,1]', 'X[3,1,4,2]', 'X[3,1,4,3]', 'X[3,2,4,1]',\n",
      " 'X[3,2,4,2]', 'X[3,2,4,3]', 'X[3,3,4,1]', 'X[3,3,4,2]', 'X[3,3,4,3]']\n",
      "Gurobi Optimizer version 10.0.1 build v10.0.1rc0 (win64)\n",
      "\n",
      "CPU model: Intel(R) Core(TM) i9-10980HK CPU @ 2.40GHz, instruction set [SSE2|AVX|AVX2]\n",
      "Thread count: 8 physical cores, 16 logical processors, using up to 16 threads\n",
      "\n",
      "Optimize a model with 84 rows, 87 columns and 348 nonzeros\n",
      "Model fingerprint: 0x28c167f1\n",
      "Variable types: 13 continuous, 74 integer (74 binary)\n",
      "Coefficient statistics:\n",
      "  Matrix range     [1e+00, 2e+03]\n",
      "  Objective range  [1e+00, 1e+00]\n",
      "  Bounds range     [1e+00, 1e+00]\n",
      "  RHS range        [1e+00, 5e+03]\n",
      "Presolve removed 13 rows and 40 columns\n",
      "Presolve time: 0.00s\n",
      "Presolved: 71 rows, 47 columns, 291 nonzeros\n",
      "Variable types: 13 continuous, 34 integer (34 binary)\n",
      "Found heuristic solution: objective 826.0000000\n",
      "Found heuristic solution: objective 703.0000000\n",
      "\n",
      "Root relaxation: objective 4.270000e+02, 21 iterations, 0.00 seconds (0.00 work units)\n",
      "\n",
      "    Nodes    |    Current Node    |     Objective Bounds      |     Work\n",
      " Expl Unexpl |  Obj  Depth IntInf | Incumbent    BestBd   Gap | It/Node Time\n",
      "\n",
      "     0     0  427.00000    0    6  703.00000  427.00000  39.3%     -    0s\n",
      "H    0     0                     578.0000000  427.00000  26.1%     -    0s\n",
      "H    0     0                     553.0000000  427.00000  22.8%     -    0s\n",
      "H    0     0                     550.0000000  427.00000  22.4%     -    0s\n",
      "     0     0  427.00000    0    6  550.00000  427.00000  22.4%     -    0s\n",
      "     0     0  516.00000    0    3  550.00000  516.00000  6.18%     -    0s\n",
      "H    0     0                     516.0000000  516.00000  0.00%     -    0s\n",
      "\n",
      "Cutting planes:\n",
      "  Gomory: 1\n",
      "  MIR: 5\n",
      "\n",
      "Explored 1 nodes (56 simplex iterations) in 0.03 seconds (0.00 work units)\n",
      "Thread count was 16 (of 16 available processors)\n",
      "\n",
      "Solution count 6: 516 550 553 ... 826\n",
      "\n",
      "Optimal solution found (tolerance 1.00e-04)\n",
      "Best objective 5.160000000000e+02, best bound 5.160000000000e+02, gap 0.0000%\n"
     ]
    }
   ],
   "source": [
    "# TODO: solver.reset()\n",
    "solver.run()"
   ]
  },
  {
   "cell_type": "code",
   "execution_count": 31,
   "metadata": {},
   "outputs": [
    {
     "name": "stdout",
     "output_type": "stream",
     "text": [
      "({(1, 1, 2, 1): -0.0, (1, 1, 2, 2): 0.0, (1, 1, 2, 3): 0.0, (1, 1, 3, 1): 1.0, (1, 1, 3, 2): 0.0, (1, 1, 3, 3): 0.0, (1, 1, 4, 1): -0.0, (1, 1, 4, 2): 0.0, (1, 1, 4, 3): 0.0, (1, 2, 2, 1): 0.0, (1, 2, 2, 2): 1.0, (1, 2, 2, 3): 0.0, (1, 2, 3, 1): 1.0, (1, 2, 3, 2): 0.0, (1, 2, 3, 3): -0.0, (1, 2, 4, 1): 1.0, (1, 2, 4, 2): 0.0, (1, 2, 4, 3): -0.0, (1, 3, 2, 1): 0.0, (1, 3, 2, 2): 0.0, (1, 3, 2, 3): -0.0, (1, 3, 3, 1): 0.0, (1, 3, 3, 2): 0.0, (1, 3, 3, 3): -0.0, (1, 3, 4, 1): 0.0, (1, 3, 4, 2): -0.0, (1, 3, 4, 3): 1.0, (2, 1, 3, 1): -0.0, (2, 1, 3, 2): 0.0, (2, 1, 3, 3): 0.0, (2, 1, 4, 1): -0.0, (2, 1, 4, 2): 0.0, (2, 1, 4, 3): -0.0, (2, 2, 3, 1): -0.0, (2, 2, 3, 2): -0.0, (2, 2, 3, 3): 0.0, (2, 2, 4, 1): 1.0, (2, 2, 4, 2): 0.0, (2, 2, 4, 3): -0.0, (2, 3, 3, 1): 0.0, (2, 3, 3, 2): 0.0, (2, 3, 3, 3): 0.0, (2, 3, 4, 1): 0.0, (2, 3, 4, 2): 1.0, (2, 3, 4, 3): 0.0, (3, 1, 4, 1): -0.0, (3, 1, 4, 2): 0.0, (3, 1, 4, 3): 0.0, (3, 2, 4, 1): 0.0, (3, 2, 4, 2): 0.0, (3, 2, 4, 3): -0.0, (3, 3, 4, 1): 0.0, (3, 3, 4, 2): 1.0, (3, 3, 4, 3): -0.0}, {(1, 1, 1): 1.0, (1, 2, 2): 1.0, (1, 2, 4): 0.0, (1, 3, 4): 1.0, (1, 3, 5): -0.0, (2, 1, 1): -0.0, (2, 1, 3): 1.0, (2, 2, 2): 1.0, (2, 2, 3): 0.0, (2, 3, 5): 1.0, (3, 1, 1): 1.0, (3, 1, 2): 0.0, (3, 2, 3): 1.0, (3, 3, 4): -0.0, (3, 3, 5): 1.0, (4, 1, 1): -0.0, (4, 1, 2): 1.0, (4, 2, 5): 1.0, (4, 3, 3): 1.0, (4, 3, 4): 0.0}, {(1, 1): 235.99999999999852, (1, 2): 365.9999999999985, (1, 3): 515.9999999999985, (2, 1): 150.0, (2, 2): 235.99999999999852, (2, 3): 415.99999999999966, (3, 1): 88.99999999999852, (3, 2): 329.9999999999991, (3, 3): 515.9999999999985, (4, 1): 65.0, (4, 2): 238.0, (4, 3): 465.9999999999991})\n",
      "0\n"
     ]
    }
   ],
   "source": [
    "print(solver.get_best())\n",
    "print(solver.get_best_fitness())"
   ]
  },
  {
   "cell_type": "code",
   "execution_count": 183,
   "metadata": {},
   "outputs": [
    {
     "name": "stdout",
     "output_type": "stream",
     "text": [
      "19459\n"
     ]
    }
   ],
   "source": [
    "print(solver.memory_duplicate)"
   ]
  },
  {
   "attachments": {},
   "cell_type": "markdown",
   "metadata": {},
   "source": [
    "<h3>Evaluation</h3>"
   ]
  },
  {
   "attachments": {},
   "cell_type": "markdown",
   "metadata": {},
   "source": [
    "If the used Solver provides improvement history:"
   ]
  },
  {
   "cell_type": "code",
   "execution_count": 184,
   "metadata": {},
   "outputs": [
    {
     "data": {
      "image/png": "[encoded data removed]",
      "text/plain": [
       "<Figure size 640x480 with 1 Axes>"
      ]
     },
     "metadata": {},
     "output_type": "display_data"
    }
   ],
   "source": [
    "import matplotlib.pyplot as plt\n",
    "best_history = solver.best_history\n",
    "generation_average_history = solver.average_history\n",
    "\n",
    "plt.plot(best_history)\n",
    "plt.plot(generation_average_history)\n",
    "plt.show()"
   ]
  },
  {
   "cell_type": "code",
   "execution_count": null,
   "metadata": {},
   "outputs": [],
   "source": [
    "schedule = encoder.decode(solver.get_best(), jobs, production_environment, solver=solver)"
   ]
  },
  {
   "attachments": {},
   "cell_type": "markdown",
   "metadata": {},
   "source": [
    "TODO: change decoder signature, use different cell for gurobi for now"
   ]
  },
  {
   "cell_type": "code",
   "execution_count": 45,
   "metadata": {},
   "outputs": [],
   "source": [
    "xsol, ysol, csol = solver.get_best() # TODO: change signature\n",
    "schedule = encoder.decode(xsol, ysol, csol, job_ops_machs, durations, production_environment, jobs, solver)"
   ]
  },
  {
   "attachments": {},
   "cell_type": "markdown",
   "metadata": {},
   "source": [
    "Visualization"
   ]
  },
  {
   "cell_type": "code",
   "execution_count": 46,
   "metadata": {},
   "outputs": [
    {
     "data": {
      "application/vnd.plotly.v1+json": {
       "config": {
        "plotlyServerURL": "https://plot.ly"
       },
       "data": [
        {
         "fill": "toself",
         "fillcolor": "rgb(0, 128, 255)",
         "hoverinfo": "name",
         "legendgroup": "rgb(0, 128, 255)",
         "mode": "none",
         "name": "Order 2",
         "type": "scatter",
         "x": [
          149.9999999999991,
          329.9999999999991,
          329.9999999999991,
          149.9999999999991,
          149.9999999999991,
          415.9999999999985,
          515.9999999999985,
          515.9999999999985,
          415.9999999999985,
          415.9999999999985,
          1.999999999998522,
          88.99999999999852,
          88.99999999999852,
          1.999999999998522
         ],
         "y": [
          2.8,
          2.8,
          3.2,
          3.2,
          null,
          1.8,
          1.8,
          2.2,
          2.2,
          null,
          -0.2,
          -0.2,
          0.2,
          0.2
         ]
        },
        {
         "fill": "toself",
         "fillcolor": "rgb(0, 255, 0)",
         "hoverinfo": "name",
         "legendgroup": "rgb(0, 255, 0)",
         "mode": "none",
         "name": "Order 0",
         "type": "scatter",
         "x": [
          88.99999999999852,
          235.99999999999852,
          235.99999999999852,
          88.99999999999852,
          88.99999999999852,
          235.99999999999852,
          365.9999999999985,
          365.9999999999985,
          235.99999999999852,
          235.99999999999852,
          169.99999999999852,
          235.99999999999852,
          235.99999999999852,
          169.99999999999852,
          169.99999999999852,
          235.99999999999852,
          365.9999999999985,
          365.9999999999985,
          235.99999999999852,
          235.99999999999852,
          169.99999999999852,
          235.99999999999852,
          235.99999999999852,
          169.99999999999852,
          169.99999999999852,
          235.99999999999852,
          365.9999999999985,
          365.9999999999985,
          235.99999999999852,
          235.99999999999852,
          235.99999999999852,
          365.9999999999985,
          365.9999999999985,
          235.99999999999852,
          235.99999999999852,
          169.99999999999852,
          235.99999999999852,
          235.99999999999852,
          169.99999999999852,
          169.99999999999852,
          0,
          150,
          150,
          0,
          0,
          0,
          150,
          150,
          0,
          0,
          365.9999999999985,
          515.9999999999985,
          515.9999999999985,
          365.9999999999985,
          365.9999999999985,
          237.99999999999966,
          415.99999999999966,
          415.99999999999966,
          237.99999999999966,
          237.99999999999966,
          237.99999999999966,
          415.99999999999966,
          415.99999999999966,
          237.99999999999966,
          237.99999999999966,
          0,
          150,
          150,
          0,
          0,
          365.9999999999985,
          515.9999999999985,
          515.9999999999985,
          365.9999999999985,
          365.9999999999985,
          365.9999999999985,
          515.9999999999985,
          515.9999999999985,
          365.9999999999985,
          365.9999999999985,
          365.9999999999985,
          515.9999999999985,
          515.9999999999985,
          365.9999999999985,
          365.9999999999985,
          88.99999999999852,
          235.99999999999852,
          235.99999999999852,
          88.99999999999852,
          88.99999999999852,
          88.99999999999852,
          235.99999999999852,
          235.99999999999852,
          88.99999999999852,
          88.99999999999852,
          88.99999999999852,
          235.99999999999852,
          235.99999999999852,
          88.99999999999852
         ],
         "y": [
          3.8,
          3.8,
          4.2,
          4.2,
          null,
          3.8,
          3.8,
          4.2,
          4.2,
          null,
          3.8,
          3.8,
          4.2,
          4.2,
          null,
          3.8,
          3.8,
          4.2,
          4.2,
          null,
          3.8,
          3.8,
          4.2,
          4.2,
          null,
          3.8,
          3.8,
          4.2,
          4.2,
          null,
          2.8,
          2.8,
          3.2,
          3.2,
          null,
          2.8,
          2.8,
          3.2,
          3.2,
          null,
          2.8,
          2.8,
          3.2,
          3.2,
          null,
          2.8,
          2.8,
          3.2,
          3.2,
          null,
          1.8,
          1.8,
          2.2,
          2.2,
          null,
          1.8,
          1.8,
          2.2,
          2.2,
          null,
          1.8,
          1.8,
          2.2,
          2.2,
          null,
          0.8,
          0.8,
          1.2,
          1.2,
          null,
          0.8,
          0.8,
          1.2,
          1.2,
          null,
          0.8,
          0.8,
          1.2,
          1.2,
          null,
          0.8,
          0.8,
          1.2,
          1.2,
          null,
          -0.2,
          -0.2,
          0.2,
          0.2,
          null,
          -0.2,
          -0.2,
          0.2,
          0.2,
          null,
          -0.2,
          -0.2,
          0.2,
          0.2
         ]
        },
        {
         "fill": "toself",
         "fillcolor": "rgb(255, 0, 255)",
         "hoverinfo": "name",
         "legendgroup": "rgb(255, 0, 255)",
         "mode": "none",
         "name": "Order 1",
         "type": "scatter",
         "x": [
          0,
          65,
          65,
          0,
          0,
          0,
          65,
          65,
          0,
          0,
          169.99999999999852,
          235.99999999999852,
          235.99999999999852,
          169.99999999999852,
          169.99999999999852,
          149.9999999999991,
          329.9999999999991,
          329.9999999999991,
          149.9999999999991,
          149.9999999999991,
          329.9999999999991,
          465.9999999999991,
          465.9999999999991,
          329.9999999999991,
          329.9999999999991,
          149.9999999999991,
          329.9999999999991,
          329.9999999999991,
          149.9999999999991,
          149.9999999999991,
          329.9999999999991,
          465.9999999999991,
          465.9999999999991,
          329.9999999999991,
          329.9999999999991,
          0,
          150,
          150,
          0,
          0,
          415.9999999999985,
          515.9999999999985,
          515.9999999999985,
          415.9999999999985,
          415.9999999999985,
          65,
          238,
          238,
          65,
          65,
          415.9999999999985,
          515.9999999999985,
          515.9999999999985,
          415.9999999999985,
          415.9999999999985,
          65,
          238,
          238,
          65,
          65,
          237.99999999999966,
          415.99999999999966,
          415.99999999999966,
          237.99999999999966,
          237.99999999999966,
          1.999999999998522,
          88.99999999999852,
          88.99999999999852,
          1.999999999998522,
          1.999999999998522,
          1.999999999998522,
          88.99999999999852,
          88.99999999999852,
          1.999999999998522
         ],
         "y": [
          3.8,
          3.8,
          4.2,
          4.2,
          null,
          3.8,
          3.8,
          4.2,
          4.2,
          null,
          3.8,
          3.8,
          4.2,
          4.2,
          null,
          2.8,
          2.8,
          3.2,
          3.2,
          null,
          2.8,
          2.8,
          3.2,
          3.2,
          null,
          2.8,
          2.8,
          3.2,
          3.2,
          null,
          2.8,
          2.8,
          3.2,
          3.2,
          null,
          2.8,
          2.8,
          3.2,
          3.2,
          null,
          1.8,
          1.8,
          2.2,
          2.2,
          null,
          1.8,
          1.8,
          2.2,
          2.2,
          null,
          1.8,
          1.8,
          2.2,
          2.2,
          null,
          1.8,
          1.8,
          2.2,
          2.2,
          null,
          1.8,
          1.8,
          2.2,
          2.2,
          null,
          -0.2,
          -0.2,
          0.2,
          0.2,
          null,
          -0.2,
          -0.2,
          0.2,
          0.2
         ]
        },
        {
         "fill": "toself",
         "fillcolor": "rgb(255, 128, 0)",
         "hoverinfo": "name",
         "legendgroup": "rgb(255, 128, 0)",
         "mode": "none",
         "name": "Order 3",
         "type": "scatter",
         "x": [
          0,
          65,
          65,
          0,
          0,
          329.9999999999991,
          465.9999999999991,
          465.9999999999991,
          329.9999999999991,
          329.9999999999991,
          65,
          238,
          238,
          65
         ],
         "y": [
          3.8,
          3.8,
          4.2,
          4.2,
          null,
          2.8,
          2.8,
          3.2,
          3.2,
          null,
          1.8,
          1.8,
          2.2,
          2.2
         ]
        },
        {
         "legendgroup": "rgb(0, 128, 255)",
         "marker": {
          "color": "rgb(0, 128, 255)",
          "opacity": 0,
          "size": 1
         },
         "mode": "markers",
         "name": "",
         "showlegend": false,
         "text": [
          null,
          null,
          null,
          null,
          null,
          null
         ],
         "type": "scatter",
         "x": [
          149.9999999999991,
          329.9999999999991,
          415.9999999999985,
          515.9999999999985,
          1.999999999998522,
          88.99999999999852
         ],
         "y": [
          3,
          3,
          2,
          2,
          0,
          0
         ]
        },
        {
         "legendgroup": "rgb(0, 255, 0)",
         "marker": {
          "color": "rgb(0, 255, 0)",
          "opacity": 0,
          "size": 1
         },
         "mode": "markers",
         "name": "",
         "showlegend": false,
         "text": [
          null,
          null,
          null,
          null,
          null,
          null,
          null,
          null,
          null,
          null,
          null,
          null,
          null,
          null,
          null,
          null,
          null,
          null,
          null,
          null,
          null,
          null,
          null,
          null,
          null,
          null,
          null,
          null,
          null,
          null,
          null,
          null,
          null,
          null,
          null,
          null,
          null,
          null,
          null,
          null
         ],
         "type": "scatter",
         "x": [
          88.99999999999852,
          235.99999999999852,
          235.99999999999852,
          365.9999999999985,
          169.99999999999852,
          235.99999999999852,
          235.99999999999852,
          365.9999999999985,
          169.99999999999852,
          235.99999999999852,
          235.99999999999852,
          365.9999999999985,
          235.99999999999852,
          365.9999999999985,
          169.99999999999852,
          235.99999999999852,
          0,
          150,
          0,
          150,
          365.9999999999985,
          515.9999999999985,
          237.99999999999966,
          415.99999999999966,
          237.99999999999966,
          415.99999999999966,
          0,
          150,
          365.9999999999985,
          515.9999999999985,
          365.9999999999985,
          515.9999999999985,
          365.9999999999985,
          515.9999999999985,
          88.99999999999852,
          235.99999999999852,
          88.99999999999852,
          235.99999999999852,
          88.99999999999852,
          235.99999999999852
         ],
         "y": [
          4,
          4,
          4,
          4,
          4,
          4,
          4,
          4,
          4,
          4,
          4,
          4,
          3,
          3,
          3,
          3,
          3,
          3,
          3,
          3,
          2,
          2,
          2,
          2,
          2,
          2,
          1,
          1,
          1,
          1,
          1,
          1,
          1,
          1,
          0,
          0,
          0,
          0,
          0,
          0
         ]
        },
        {
         "legendgroup": "rgb(255, 0, 255)",
         "marker": {
          "color": "rgb(255, 0, 255)",
          "opacity": 0,
          "size": 1
         },
         "mode": "markers",
         "name": "",
         "showlegend": false,
         "text": [
          null,
          null,
          null,
          null,
          null,
          null,
          null,
          null,
          null,
          null,
          null,
          null,
          null,
          null,
          null,
          null,
          null,
          null,
          null,
          null,
          null,
          null,
          null,
          null,
          null,
          null,
          null,
          null,
          null,
          null
         ],
         "type": "scatter",
         "x": [
          0,
          65,
          0,
          65,
          169.99999999999852,
          235.99999999999852,
          149.9999999999991,
          329.9999999999991,
          329.9999999999991,
          465.9999999999991,
          149.9999999999991,
          329.9999999999991,
          329.9999999999991,
          465.9999999999991,
          0,
          150,
          415.9999999999985,
          515.9999999999985,
          65,
          238,
          415.9999999999985,
          515.9999999999985,
          65,
          238,
          237.99999999999966,
          415.99999999999966,
          1.999999999998522,
          88.99999999999852,
          1.999999999998522,
          88.99999999999852
         ],
         "y": [
          4,
          4,
          4,
          4,
          4,
          4,
          3,
          3,
          3,
          3,
          3,
          3,
          3,
          3,
          3,
          3,
          2,
          2,
          2,
          2,
          2,
          2,
          2,
          2,
          2,
          2,
          0,
          0,
          0,
          0
         ]
        },
        {
         "legendgroup": "rgb(255, 128, 0)",
         "marker": {
          "color": "rgb(255, 128, 0)",
          "opacity": 0,
          "size": 1
         },
         "mode": "markers",
         "name": "",
         "showlegend": false,
         "text": [
          null,
          null,
          null,
          null,
          null,
          null
         ],
         "type": "scatter",
         "x": [
          0,
          65,
          329.9999999999991,
          465.9999999999991,
          65,
          238
         ],
         "y": [
          4,
          4,
          3,
          3,
          2,
          2
         ]
        }
       ],
       "layout": {
        "height": 600,
        "hovermode": "closest",
        "showlegend": true,
        "template": {
         "data": {
          "bar": [
           {
            "error_x": {
             "color": "#2a3f5f"
            },
            "error_y": {
             "color": "#2a3f5f"
            },
            "marker": {
             "line": {
              "color": "#E5ECF6",
              "width": 0.5
             },
             "pattern": {
              "fillmode": "overlay",
              "size": 10,
              "solidity": 0.2
             }
            },
            "type": "bar"
           }
          ],
          "barpolar": [
           {
            "marker": {
             "line": {
              "color": "#E5ECF6",
              "width": 0.5
             },
             "pattern": {
              "fillmode": "overlay",
              "size": 10,
              "solidity": 0.2
             }
            },
            "type": "barpolar"
           }
          ],
          "carpet": [
           {
            "aaxis": {
             "endlinecolor": "#2a3f5f",
             "gridcolor": "white",
             "linecolor": "white",
             "minorgridcolor": "white",
             "startlinecolor": "#2a3f5f"
            },
            "baxis": {
             "endlinecolor": "#2a3f5f",
             "gridcolor": "white",
             "linecolor": "white",
             "minorgridcolor": "white",
             "startlinecolor": "#2a3f5f"
            },
            "type": "carpet"
           }
          ],
          "choropleth": [
           {
            "colorbar": {
             "outlinewidth": 0,
             "ticks": ""
            },
            "type": "choropleth"
           }
          ],
          "contour": [
           {
            "colorbar": {
             "outlinewidth": 0,
             "ticks": ""
            },
            "colorscale": [
             [
              0,
              "#0d0887"
             ],
             [
              0.1111111111111111,
              "#46039f"
             ],
             [
              0.2222222222222222,
              "#7201a8"
             ],
             [
              0.3333333333333333,
              "#9c179e"
             ],
             [
              0.4444444444444444,
              "#bd3786"
             ],
             [
              0.5555555555555556,
              "#d8576b"
             ],
             [
              0.6666666666666666,
              "#ed7953"
             ],
             [
              0.7777777777777778,
              "#fb9f3a"
             ],
             [
              0.8888888888888888,
              "#fdca26"
             ],
             [
              1,
              "#f0f921"
             ]
            ],
            "type": "contour"
           }
          ],
          "contourcarpet": [
           {
            "colorbar": {
             "outlinewidth": 0,
             "ticks": ""
            },
            "type": "contourcarpet"
           }
          ],
          "heatmap": [
           {
            "colorbar": {
             "outlinewidth": 0,
             "ticks": ""
            },
            "colorscale": [
             [
              0,
              "#0d0887"
             ],
             [
              0.1111111111111111,
              "#46039f"
             ],
             [
              0.2222222222222222,
              "#7201a8"
             ],
             [
              0.3333333333333333,
              "#9c179e"
             ],
             [
              0.4444444444444444,
              "#bd3786"
             ],
             [
              0.5555555555555556,
              "#d8576b"
             ],
             [
              0.6666666666666666,
              "#ed7953"
             ],
             [
              0.7777777777777778,
              "#fb9f3a"
             ],
             [
              0.8888888888888888,
              "#fdca26"
             ],
             [
              1,
              "#f0f921"
             ]
            ],
            "type": "heatmap"
           }
          ],
          "heatmapgl": [
           {
            "colorbar": {
             "outlinewidth": 0,
             "ticks": ""
            },
            "colorscale": [
             [
              0,
              "#0d0887"
             ],
             [
              0.1111111111111111,
              "#46039f"
             ],
             [
              0.2222222222222222,
              "#7201a8"
             ],
             [
              0.3333333333333333,
              "#9c179e"
             ],
             [
              0.4444444444444444,
              "#bd3786"
             ],
             [
              0.5555555555555556,
              "#d8576b"
             ],
             [
              0.6666666666666666,
              "#ed7953"
             ],
             [
              0.7777777777777778,
              "#fb9f3a"
             ],
             [
              0.8888888888888888,
              "#fdca26"
             ],
             [
              1,
              "#f0f921"
             ]
            ],
            "type": "heatmapgl"
           }
          ],
          "histogram": [
           {
            "marker": {
             "pattern": {
              "fillmode": "overlay",
              "size": 10,
              "solidity": 0.2
             }
            },
            "type": "histogram"
           }
          ],
          "histogram2d": [
           {
            "colorbar": {
             "outlinewidth": 0,
             "ticks": ""
            },
            "colorscale": [
             [
              0,
              "#0d0887"
             ],
             [
              0.1111111111111111,
              "#46039f"
             ],
             [
              0.2222222222222222,
              "#7201a8"
             ],
             [
              0.3333333333333333,
              "#9c179e"
             ],
             [
              0.4444444444444444,
              "#bd3786"
             ],
             [
              0.5555555555555556,
              "#d8576b"
             ],
             [
              0.6666666666666666,
              "#ed7953"
             ],
             [
              0.7777777777777778,
              "#fb9f3a"
             ],
             [
              0.8888888888888888,
              "#fdca26"
             ],
             [
              1,
              "#f0f921"
             ]
            ],
            "type": "histogram2d"
           }
          ],
          "histogram2dcontour": [
           {
            "colorbar": {
             "outlinewidth": 0,
             "ticks": ""
            },
            "colorscale": [
             [
              0,
              "#0d0887"
             ],
             [
              0.1111111111111111,
              "#46039f"
             ],
             [
              0.2222222222222222,
              "#7201a8"
             ],
             [
              0.3333333333333333,
              "#9c179e"
             ],
             [
              0.4444444444444444,
              "#bd3786"
             ],
             [
              0.5555555555555556,
              "#d8576b"
             ],
             [
              0.6666666666666666,
              "#ed7953"
             ],
             [
              0.7777777777777778,
              "#fb9f3a"
             ],
             [
              0.8888888888888888,
              "#fdca26"
             ],
             [
              1,
              "#f0f921"
             ]
            ],
            "type": "histogram2dcontour"
           }
          ],
          "mesh3d": [
           {
            "colorbar": {
             "outlinewidth": 0,
             "ticks": ""
            },
            "type": "mesh3d"
           }
          ],
          "parcoords": [
           {
            "line": {
             "colorbar": {
              "outlinewidth": 0,
              "ticks": ""
             }
            },
            "type": "parcoords"
           }
          ],
          "pie": [
           {
            "automargin": true,
            "type": "pie"
           }
          ],
          "scatter": [
           {
            "fillpattern": {
             "fillmode": "overlay",
             "size": 10,
             "solidity": 0.2
            },
            "type": "scatter"
           }
          ],
          "scatter3d": [
           {
            "line": {
             "colorbar": {
              "outlinewidth": 0,
              "ticks": ""
             }
            },
            "marker": {
             "colorbar": {
              "outlinewidth": 0,
              "ticks": ""
             }
            },
            "type": "scatter3d"
           }
          ],
          "scattercarpet": [
           {
            "marker": {
             "colorbar": {
              "outlinewidth": 0,
              "ticks": ""
             }
            },
            "type": "scattercarpet"
           }
          ],
          "scattergeo": [
           {
            "marker": {
             "colorbar": {
              "outlinewidth": 0,
              "ticks": ""
             }
            },
            "type": "scattergeo"
           }
          ],
          "scattergl": [
           {
            "marker": {
             "colorbar": {
              "outlinewidth": 0,
              "ticks": ""
             }
            },
            "type": "scattergl"
           }
          ],
          "scattermapbox": [
           {
            "marker": {
             "colorbar": {
              "outlinewidth": 0,
              "ticks": ""
             }
            },
            "type": "scattermapbox"
           }
          ],
          "scatterpolar": [
           {
            "marker": {
             "colorbar": {
              "outlinewidth": 0,
              "ticks": ""
             }
            },
            "type": "scatterpolar"
           }
          ],
          "scatterpolargl": [
           {
            "marker": {
             "colorbar": {
              "outlinewidth": 0,
              "ticks": ""
             }
            },
            "type": "scatterpolargl"
           }
          ],
          "scatterternary": [
           {
            "marker": {
             "colorbar": {
              "outlinewidth": 0,
              "ticks": ""
             }
            },
            "type": "scatterternary"
           }
          ],
          "surface": [
           {
            "colorbar": {
             "outlinewidth": 0,
             "ticks": ""
            },
            "colorscale": [
             [
              0,
              "#0d0887"
             ],
             [
              0.1111111111111111,
              "#46039f"
             ],
             [
              0.2222222222222222,
              "#7201a8"
             ],
             [
              0.3333333333333333,
              "#9c179e"
             ],
             [
              0.4444444444444444,
              "#bd3786"
             ],
             [
              0.5555555555555556,
              "#d8576b"
             ],
             [
              0.6666666666666666,
              "#ed7953"
             ],
             [
              0.7777777777777778,
              "#fb9f3a"
             ],
             [
              0.8888888888888888,
              "#fdca26"
             ],
             [
              1,
              "#f0f921"
             ]
            ],
            "type": "surface"
           }
          ],
          "table": [
           {
            "cells": {
             "fill": {
              "color": "#EBF0F8"
             },
             "line": {
              "color": "white"
             }
            },
            "header": {
             "fill": {
              "color": "#C8D4E3"
             },
             "line": {
              "color": "white"
             }
            },
            "type": "table"
           }
          ]
         },
         "layout": {
          "annotationdefaults": {
           "arrowcolor": "#2a3f5f",
           "arrowhead": 0,
           "arrowwidth": 1
          },
          "autotypenumbers": "strict",
          "coloraxis": {
           "colorbar": {
            "outlinewidth": 0,
            "ticks": ""
           }
          },
          "colorscale": {
           "diverging": [
            [
             0,
             "#8e0152"
            ],
            [
             0.1,
             "#c51b7d"
            ],
            [
             0.2,
             "#de77ae"
            ],
            [
             0.3,
             "#f1b6da"
            ],
            [
             0.4,
             "#fde0ef"
            ],
            [
             0.5,
             "#f7f7f7"
            ],
            [
             0.6,
             "#e6f5d0"
            ],
            [
             0.7,
             "#b8e186"
            ],
            [
             0.8,
             "#7fbc41"
            ],
            [
             0.9,
             "#4d9221"
            ],
            [
             1,
             "#276419"
            ]
           ],
           "sequential": [
            [
             0,
             "#0d0887"
            ],
            [
             0.1111111111111111,
             "#46039f"
            ],
            [
             0.2222222222222222,
             "#7201a8"
            ],
            [
             0.3333333333333333,
             "#9c179e"
            ],
            [
             0.4444444444444444,
             "#bd3786"
            ],
            [
             0.5555555555555556,
             "#d8576b"
            ],
            [
             0.6666666666666666,
             "#ed7953"
            ],
            [
             0.7777777777777778,
             "#fb9f3a"
            ],
            [
             0.8888888888888888,
             "#fdca26"
            ],
            [
             1,
             "#f0f921"
            ]
           ],
           "sequentialminus": [
            [
             0,
             "#0d0887"
            ],
            [
             0.1111111111111111,
             "#46039f"
            ],
            [
             0.2222222222222222,
             "#7201a8"
            ],
            [
             0.3333333333333333,
             "#9c179e"
            ],
            [
             0.4444444444444444,
             "#bd3786"
            ],
            [
             0.5555555555555556,
             "#d8576b"
            ],
            [
             0.6666666666666666,
             "#ed7953"
            ],
            [
             0.7777777777777778,
             "#fb9f3a"
            ],
            [
             0.8888888888888888,
             "#fdca26"
            ],
            [
             1,
             "#f0f921"
            ]
           ]
          },
          "colorway": [
           "#636efa",
           "#EF553B",
           "#00cc96",
           "#ab63fa",
           "#FFA15A",
           "#19d3f3",
           "#FF6692",
           "#B6E880",
           "#FF97FF",
           "#FECB52"
          ],
          "font": {
           "color": "#2a3f5f"
          },
          "geo": {
           "bgcolor": "white",
           "lakecolor": "white",
           "landcolor": "#E5ECF6",
           "showlakes": true,
           "showland": true,
           "subunitcolor": "white"
          },
          "hoverlabel": {
           "align": "left"
          },
          "hovermode": "closest",
          "mapbox": {
           "style": "light"
          },
          "paper_bgcolor": "white",
          "plot_bgcolor": "#E5ECF6",
          "polar": {
           "angularaxis": {
            "gridcolor": "white",
            "linecolor": "white",
            "ticks": ""
           },
           "bgcolor": "#E5ECF6",
           "radialaxis": {
            "gridcolor": "white",
            "linecolor": "white",
            "ticks": ""
           }
          },
          "scene": {
           "xaxis": {
            "backgroundcolor": "#E5ECF6",
            "gridcolor": "white",
            "gridwidth": 2,
            "linecolor": "white",
            "showbackground": true,
            "ticks": "",
            "zerolinecolor": "white"
           },
           "yaxis": {
            "backgroundcolor": "#E5ECF6",
            "gridcolor": "white",
            "gridwidth": 2,
            "linecolor": "white",
            "showbackground": true,
            "ticks": "",
            "zerolinecolor": "white"
           },
           "zaxis": {
            "backgroundcolor": "#E5ECF6",
            "gridcolor": "white",
            "gridwidth": 2,
            "linecolor": "white",
            "showbackground": true,
            "ticks": "",
            "zerolinecolor": "white"
           }
          },
          "shapedefaults": {
           "line": {
            "color": "#2a3f5f"
           }
          },
          "ternary": {
           "aaxis": {
            "gridcolor": "white",
            "linecolor": "white",
            "ticks": ""
           },
           "baxis": {
            "gridcolor": "white",
            "linecolor": "white",
            "ticks": ""
           },
           "bgcolor": "#E5ECF6",
           "caxis": {
            "gridcolor": "white",
            "linecolor": "white",
            "ticks": ""
           }
          },
          "title": {
           "x": 0.05
          },
          "xaxis": {
           "automargin": true,
           "gridcolor": "white",
           "linecolor": "white",
           "ticks": "",
           "title": {
            "standoff": 15
           },
           "zerolinecolor": "white",
           "zerolinewidth": 2
          },
          "yaxis": {
           "automargin": true,
           "gridcolor": "white",
           "linecolor": "white",
           "ticks": "",
           "title": {
            "standoff": 15
           },
           "zerolinecolor": "white",
           "zerolinewidth": 2
          }
         }
        },
        "title": {
         "text": "Gantt Chart"
        },
        "xaxis": {
         "rangeselector": {
          "buttons": [
           {
            "count": 7,
            "label": "1w",
            "step": "day",
            "stepmode": "backward"
           },
           {
            "count": 1,
            "label": "1m",
            "step": "month",
            "stepmode": "backward"
           },
           {
            "count": 6,
            "label": "6m",
            "step": "month",
            "stepmode": "backward"
           },
           {
            "count": 1,
            "label": "YTD",
            "step": "year",
            "stepmode": "todate"
           },
           {
            "count": 1,
            "label": "1y",
            "step": "year",
            "stepmode": "backward"
           },
           {
            "step": "all"
           }
          ]
         },
         "showgrid": false,
         "type": "linear",
         "zeroline": false
        },
        "yaxis": {
         "autorange": false,
         "range": [
          -1,
          6
         ],
         "showgrid": false,
         "ticktext": [
          "w0",
          "w3",
          "w4",
          "w2",
          "w1"
         ],
         "tickvals": [
          0,
          1,
          2,
          3,
          4
         ],
         "zeroline": false
        }
       }
      }
     },
     "metadata": {},
     "output_type": "display_data"
    }
   ],
   "source": [
    "visualize_schedule(schedule, production_environment, orders)"
   ]
  },
  {
   "attachments": {},
   "cell_type": "markdown",
   "metadata": {},
   "source": [
    "Objective Values"
   ]
  },
  {
   "cell_type": "code",
   "execution_count": null,
   "metadata": {},
   "outputs": [],
   "source": [
    "evaluator = Evaluator(production_environment)\n",
    "evaluator.add_objective(Makespan())\n",
    "evaluator.add_objective(IdleTime())\n",
    "evaluator.add_objective(TimeDeviation())\n",
    "evaluator.add_objective(Tardiness())\n",
    "evaluator.add_objective(Profit())\n",
    "evaluator.add_objective(UnfulfilledOrders())\n",
    "objective_values = evaluator.evaluate(schedule, jobs)\n",
    "print(f'Solution created with: {solver.name}')\n",
    "print(objective_values)"
   ]
  },
  {
   "cell_type": "code",
   "execution_count": 1,
   "metadata": {},
   "outputs": [
    {
     "name": "stdout",
     "output_type": "stream",
     "text": [
      "[0, 0, 0, 0]\n",
      "[1, 1, 1, 1]\n"
     ]
    }
   ],
   "source": [
    "#just testing with python\n",
    "values = [0, 1, 0, 1, 0, 1, 0, 1]\n",
    "zeros = values[::2]\n",
    "ones = values[1::2]\n",
    "print(zeros)\n",
    "print(ones)"
   ]
  }
 ],
 "metadata": {
  "kernelspec": {
   "display_name": "Python 3",
   "language": "python",
   "name": "python3"
  },
  "language_info": {
   "codemirror_mode": {
    "name": "ipython",
    "version": 3
   },
   "file_extension": ".py",
   "mimetype": "text/x-python",
   "name": "python",
   "nbconvert_exporter": "python",
   "pygments_lexer": "ipython3",
   "version": "3.11.1"
  },
  "orig_nbformat": 4
 },
 "nbformat": 4,
 "nbformat_minor": 2
}
