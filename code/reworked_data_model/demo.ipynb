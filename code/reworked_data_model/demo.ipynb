{
 "cells": [
  {
   "attachments": {},
   "cell_type": "markdown",
   "metadata": {},
   "source": [
    "Imports"
   ]
  },
  {
   "cell_type": "code",
   "execution_count": 38,
   "metadata": {},
   "outputs": [
    {
     "name": "stdout",
     "output_type": "stream",
     "text": [
      "The autoreload extension is already loaded. To reload it, use:\n",
      "  %reload_ext autoreload\n"
     ]
    }
   ],
   "source": [
    "%load_ext autoreload\n",
    "%autoreload 2\n",
    "from translation import BasicBenchmarkTranslator, FJSSPInstancesTranslator, SimpleGAEncoder\n",
    "from model import Order, ProductionEnvironment, reset_entities, soft_reset\n",
    "from solver import GASolver, GreedyAgentSolver, PSOSolver, StagedGA\n",
    "from evaluation import Evaluator, Makespan, IdleTime, TimeDeviation, Profit, UnfulfilledOrders, Tardiness\n",
    "from visualization import visualize_schedule\n",
    "import random"
   ]
  },
  {
   "attachments": {},
   "cell_type": "markdown",
   "metadata": {},
   "source": [
    "<h3>Setup</h3>"
   ]
  },
  {
   "cell_type": "code",
   "execution_count": 2,
   "metadata": {},
   "outputs": [],
   "source": [
    "order_amount = 10"
   ]
  },
  {
   "attachments": {},
   "cell_type": "markdown",
   "metadata": {},
   "source": [
    "Data Selection (Only run one of the following blocks)"
   ]
  },
  {
   "cell_type": "code",
   "execution_count": 173,
   "metadata": {},
   "outputs": [],
   "source": [
    "reset_entities()\n",
    "fjssp_translator = FJSSPInstancesTranslator()\n",
    "production_environment = fjssp_translator.translate('6_Fattahi', 6)"
   ]
  },
  {
   "cell_type": "code",
   "execution_count": 39,
   "metadata": {},
   "outputs": [],
   "source": [
    "reset_entities()\n",
    "simple_translator = BasicBenchmarkTranslator()\n",
    "production_environment = simple_translator.translate(3)"
   ]
  },
  {
   "attachments": {},
   "cell_type": "markdown",
   "metadata": {},
   "source": [
    "Order Generation"
   ]
  },
  {
   "cell_type": "code",
   "execution_count": 40,
   "metadata": {},
   "outputs": [],
   "source": [
    "def generate_random_orders(amount : int, production_enviornment : ProductionEnvironment) -> list[Order]:\n",
    "    available_resources = production_enviornment.resources # NOTE: currently works because all resources can be produced\n",
    "    orders : list[Order] = []\n",
    "    for i in range(amount):\n",
    "        resource_id = random.randint(0, len(available_resources)-1)\n",
    "        resource = production_environment.get_resource(resource_id)\n",
    "        order = Order(arrival_time=0, delivery_time=1000, latest_acceptable_time=1000, resources=[(resource, 1)], penalty=100.0, tardiness_fee=50.0, divisible=False, profit=500.0) # NOTE: randomize later\n",
    "        orders.append(order)\n",
    "    return orders\n",
    "\n",
    "def generate_one_order_per_recipe(production_environment : ProductionEnvironment) -> list[Order]:\n",
    "    orders : list[Order] = []\n",
    "    for i in range(len(production_environment.resources.values())): # should be the same amount as recipes for now\n",
    "        orders.append(Order(delivery_time=1000, latest_acceptable_time=1000, resources=[(production_environment.get_resource(i), 1)], penalty=100.0, tardiness_fee=50.0, divisible=False, profit=500.0))\n",
    "    return orders\n",
    "\n",
    "random.seed(1) # for comparisons\n",
    "\n",
    "#orders = generate_random_orders(order_amount, production_environment) # NOTE: some of the data is currently the same for every order\n",
    "orders = generate_one_order_per_recipe(production_environment)"
   ]
  },
  {
   "attachments": {},
   "cell_type": "markdown",
   "metadata": {},
   "source": [
    "Solver Selection and Configuration (Only run one of the following blocks)"
   ]
  },
  {
   "cell_type": "code",
   "execution_count": 93,
   "metadata": {},
   "outputs": [],
   "source": [
    "soft_reset()\n",
    "encoder = SimpleGAEncoder()\n",
    "values, durations, jobs = encoder.encode(production_environment, orders) # NOTE: create duration dictionary\n",
    "solver = GASolver(values, durations, jobs, production_environment, orders)\n",
    "\n",
    "start_time_slot = 0\n",
    "end_time_slot = 500\n",
    "population_size = 100\n",
    "offspring_amount = 200\n",
    "max_generations = 25000\n",
    "keep_parents = 0#int(population_size/4)#int(population_size / 6) #NOTE: weirdly only applies if keep_elitism=0, otherwise keep_elitism is used\n",
    "keep_elitism= int(population_size/4)\n",
    "crossover = 'two_points' # available options: single_point, two_points, uniform, scattered\n",
    "selection = 'tournament' # available options: sss (Stead State Selection), rws (Roulette Wheel Selection), sus (Stochastic Universal Selection), rank (Rank Selection), random (Random Selection), tournament (Torunament Selection)\n",
    "k_tournament = int(population_size/4)\n",
    "mutation = 'force_feasible' # available options: workstation_only, full_random, random_only_feasible, force_feasible\n",
    "\n",
    "solver.initialize(earliest_slot=start_time_slot, last_slot=end_time_slot, population_size=population_size, offspring_amount=offspring_amount, max_generations=max_generations, crossover=crossover, selection=selection, mutation=mutation, k_tournament=k_tournament, keep_parents=keep_parents, keep_elitism=keep_elitism)"
   ]
  },
  {
   "cell_type": "code",
   "execution_count": 110,
   "metadata": {},
   "outputs": [],
   "source": [
    "soft_reset()\n",
    "encoder = SimpleGAEncoder()\n",
    "values, durations, jobs = encoder.encode(production_environment, orders) # NOTE: create duration dictionary\n",
    "solver = GreedyAgentSolver(values, durations, jobs, production_environment, orders)"
   ]
  },
  {
   "cell_type": "code",
   "execution_count": 103,
   "metadata": {},
   "outputs": [],
   "source": [
    "soft_reset()\n",
    "start_time_slot = 0\n",
    "end_time_slot = 1000\n",
    "encoder = SimpleGAEncoder()\n",
    "values, durations, jobs = encoder.encode(production_environment, orders)\n",
    "solver = PSOSolver(production_environment=production_environment, encoder=encoder, jobs=jobs, durations=durations, start_time=start_time_slot, end_time=end_time_slot, orders=orders)\n",
    "use_alternative = True\n",
    "if not use_alternative:\n",
    "    solver.initialize(dimensions=len(values), max_iterations=10000, update_weights=False, lower_bounds=[start_time_slot] * len(values), upper_bounds=[end_time_slot] * len(values))\n",
    "else:\n",
    "    # TODO: change feasibility and fitness functions NOTE: needs alternative encoder\n",
    "    lower_bounds = []\n",
    "    upper_bounds = []\n",
    "    for i in range(len(values)):\n",
    "        if i % 2 == 0:\n",
    "            # bounds for workstation\n",
    "            lower_bounds.append(0)\n",
    "            upper_bounds.append(len(production_environment.get_available_workstations_for_task(jobs[int(i/2)])))\n",
    "        else:\n",
    "            # bounds for start times\n",
    "            lower_bounds.append(start_time_slot)\n",
    "            upper_bounds.append(end_time_slot)\n",
    "    solver.initialize(dimensions=len(values), max_iterations=10000, update_weights=False, lower_bounds=lower_bounds, upper_bounds=upper_bounds, use_alternative=True)"
   ]
  },
  {
   "cell_type": "code",
   "execution_count": 25,
   "metadata": {},
   "outputs": [],
   "source": [
    "soft_reset()\n",
    "encoder = SimpleGAEncoder()\n",
    "values, durations, jobs = encoder.encode(production_environment, orders)\n",
    "solver = StagedGA(production_environment=production_environment)\n",
    "\n",
    "solver.initialize(values, jobs, durations, 0, 1000)\n"
   ]
  },
  {
   "attachments": {},
   "cell_type": "markdown",
   "metadata": {},
   "source": [
    "Objective Selection (Multiple objectives can be added) NOTE: currently only the first added objective is considered during optimization"
   ]
  },
  {
   "cell_type": "code",
   "execution_count": 94,
   "metadata": {},
   "outputs": [],
   "source": [
    "solver.add_objective(Makespan())"
   ]
  },
  {
   "cell_type": "code",
   "execution_count": 95,
   "metadata": {},
   "outputs": [],
   "source": [
    "solver.add_objective(IdleTime())"
   ]
  },
  {
   "cell_type": "code",
   "execution_count": 96,
   "metadata": {},
   "outputs": [],
   "source": [
    "solver.add_objective(TimeDeviation())"
   ]
  },
  {
   "cell_type": "code",
   "execution_count": 97,
   "metadata": {},
   "outputs": [],
   "source": [
    "solver.add_objective(Tardiness())"
   ]
  },
  {
   "cell_type": "code",
   "execution_count": 98,
   "metadata": {},
   "outputs": [],
   "source": [
    "solver.add_objective(Profit())"
   ]
  },
  {
   "cell_type": "code",
   "execution_count": 99,
   "metadata": {},
   "outputs": [],
   "source": [
    "solver.add_objective(UnfulfilledOrders())"
   ]
  },
  {
   "attachments": {},
   "cell_type": "markdown",
   "metadata": {},
   "source": [
    "<h3>Run the Solver</h3>"
   ]
  },
  {
   "cell_type": "code",
   "execution_count": 100,
   "metadata": {},
   "outputs": [
    {
     "name": "stdout",
     "output_type": "stream",
     "text": [
      "Done\n",
      "[  7 299   8 332   8 336   1 339   6 300   0 308   9 317   0 326   5 292\n",
      "   8 313   8 315   3 343   5 287   9 300   1 317   8 323   2 312   1 332\n",
      "   2 337   4 341   1 293   0 315   1 311   5 333   6 294   5 303   4 320\n",
      "   3 332   9 291   0 300   8 305   2 325   8 293   0 318   2 334   5 336\n",
      "   6 286   2 290   0 303   0 320   3 307   4 313   6 318   6 332   9 286\n",
      "   6 307   5 327   7 334   3 286   1 305   4 308   9 329   8 286   4 291\n",
      "   3 295   7 326]\n",
      "-58.0\n"
     ]
    }
   ],
   "source": [
    "solver.run()\n",
    "print(solver.get_best())\n",
    "print(solver.get_best_fitness())"
   ]
  },
  {
   "attachments": {},
   "cell_type": "markdown",
   "metadata": {},
   "source": [
    "<h3>Evaluation</h3>"
   ]
  },
  {
   "attachments": {},
   "cell_type": "markdown",
   "metadata": {},
   "source": [
    "If the used Solver provides improvement history:"
   ]
  },
  {
   "cell_type": "code",
   "execution_count": 101,
   "metadata": {},
   "outputs": [
    {
     "data": {
      "image/png": "[encoded data removed]",
      "text/plain": [
       "<Figure size 640x480 with 1 Axes>"
      ]
     },
     "metadata": {},
     "output_type": "display_data"
    }
   ],
   "source": [
    "import matplotlib.pyplot as plt\n",
    "best_history = solver.best_history\n",
    "generation_average_history = solver.average_history\n",
    "\n",
    "plt.plot(best_history)\n",
    "plt.plot(generation_average_history)\n",
    "plt.show()"
   ]
  },
  {
   "cell_type": "code",
   "execution_count": 102,
   "metadata": {},
   "outputs": [],
   "source": [
    "schedule = encoder.decode(solver.get_best(), jobs, production_environment, solver=solver)"
   ]
  },
  {
   "attachments": {},
   "cell_type": "markdown",
   "metadata": {},
   "source": [
    "Visualization"
   ]
  },
  {
   "cell_type": "code",
   "execution_count": 103,
   "metadata": {},
   "outputs": [
    {
     "data": {
      "application/vnd.plotly.v1+json": {
       "config": {
        "plotlyServerURL": "https://plot.ly"
       },
       "data": [
        {
         "fill": "toself",
         "fillcolor": "rgb(0, 0, 128)",
         "hoverinfo": "name",
         "legendgroup": "rgb(0, 0, 128)",
         "mode": "none",
         "name": "Order 11",
         "type": "scatter",
         "x": [
          318,
          323,
          323,
          318,
          318,
          332,
          334,
          334,
          332,
          332,
          307,
          313,
          313,
          307,
          307,
          313,
          317,
          317,
          313
         ],
         "y": [
          5.8,
          5.8,
          6.2,
          6.2,
          null,
          5.8,
          5.8,
          6.2,
          6.2,
          null,
          1.8,
          1.8,
          2.2,
          2.2,
          null,
          -0.2,
          -0.2,
          0.2,
          0.2
         ]
        },
        {
         "fill": "toself",
         "fillcolor": "rgb(0, 128, 128)",
         "hoverinfo": "name",
         "legendgroup": "rgb(0, 128, 128)",
         "mode": "none",
         "name": "Order 12",
         "type": "scatter",
         "x": [
          334,
          339,
          339,
          334,
          334,
          307,
          313,
          313,
          307,
          307,
          286,
          288,
          288,
          286,
          286,
          327,
          331,
          331,
          327
         ],
         "y": [
          8.8,
          8.8,
          9.2,
          9.2,
          null,
          5.8,
          5.8,
          6.2,
          6.2,
          null,
          3.8,
          3.8,
          4.2,
          4.2,
          null,
          2.8,
          2.8,
          3.2,
          3.2
         ]
        },
        {
         "fill": "toself",
         "fillcolor": "rgb(0, 128, 255)",
         "hoverinfo": "name",
         "legendgroup": "rgb(0, 128, 255)",
         "mode": "none",
         "name": "Order 2",
         "type": "scatter",
         "x": [
          313,
          314,
          314,
          313,
          313,
          315,
          323,
          323,
          315,
          315,
          292,
          301,
          301,
          292,
          292,
          343,
          344,
          344,
          343
         ],
         "y": [
          7.8,
          7.8,
          8.2,
          8.2,
          null,
          7.8,
          7.8,
          8.2,
          8.2,
          null,
          2.8,
          2.8,
          3.2,
          3.2,
          null,
          1.8,
          1.8,
          2.2,
          2.2
         ]
        },
        {
         "fill": "toself",
         "fillcolor": "rgb(128, 64, 128)",
         "hoverinfo": "name",
         "legendgroup": "rgb(128, 64, 128)",
         "mode": "none",
         "name": "Order 4",
         "type": "scatter",
         "x": [
          332,
          336,
          336,
          332,
          332,
          312,
          314,
          314,
          312,
          312,
          337,
          341,
          341,
          337,
          337,
          341,
          344,
          344,
          341
         ],
         "y": [
          6.8,
          6.8,
          7.2,
          7.2,
          null,
          0.8,
          0.8,
          1.2,
          1.2,
          null,
          0.8,
          0.8,
          1.2,
          1.2,
          null,
          -0.2,
          -0.2,
          0.2,
          0.2
         ]
        },
        {
         "fill": "toself",
         "fillcolor": "rgb(133, 178, 104)",
         "hoverinfo": "name",
         "legendgroup": "rgb(133, 178, 104)",
         "mode": "none",
         "name": "Order 13",
         "type": "scatter",
         "x": [
          305,
          307,
          307,
          305,
          305,
          329,
          333,
          333,
          329,
          329,
          286,
          290,
          290,
          286,
          286,
          308,
          313,
          313,
          308
         ],
         "y": [
          6.8,
          6.8,
          7.2,
          7.2,
          null,
          3.8,
          3.8,
          4.2,
          4.2,
          null,
          1.8,
          1.8,
          2.2,
          2.2,
          null,
          -0.2,
          -0.2,
          0.2,
          0.2
         ]
        },
        {
         "fill": "toself",
         "fillcolor": "rgb(192, 136, 251)",
         "hoverinfo": "name",
         "legendgroup": "rgb(192, 136, 251)",
         "mode": "none",
         "name": "Order 8",
         "type": "scatter",
         "x": [
          305,
          310,
          310,
          305,
          305,
          300,
          302,
          302,
          300,
          300,
          291,
          292,
          292,
          291,
          291,
          325,
          332,
          332,
          325
         ],
         "y": [
          7.8,
          7.8,
          8.2,
          8.2,
          null,
          4.8,
          4.8,
          5.2,
          5.2,
          null,
          3.8,
          3.8,
          4.2,
          4.2,
          null,
          0.8,
          0.8,
          1.2,
          1.2
         ]
        },
        {
         "fill": "toself",
         "fillcolor": "rgb(209, 0, 0)",
         "hoverinfo": "name",
         "legendgroup": "rgb(209, 0, 0)",
         "mode": "none",
         "name": "Order 10",
         "type": "scatter",
         "x": [
          286,
          287,
          287,
          286,
          286,
          303,
          306,
          306,
          303,
          303,
          320,
          324,
          324,
          320,
          320,
          290,
          296,
          296,
          290
         ],
         "y": [
          5.8,
          5.8,
          6.2,
          6.2,
          null,
          4.8,
          4.8,
          5.2,
          5.2,
          null,
          4.8,
          4.8,
          5.2,
          5.2,
          null,
          0.8,
          0.8,
          1.2,
          1.2
         ]
        },
        {
         "fill": "toself",
         "fillcolor": "rgb(224, 248, 61)",
         "hoverinfo": "name",
         "legendgroup": "rgb(224, 248, 61)",
         "mode": "none",
         "name": "Order 6",
         "type": "scatter",
         "x": [
          311,
          315,
          315,
          311,
          311,
          333,
          336,
          336,
          333
         ],
         "y": [
          6.8,
          6.8,
          7.2,
          7.2,
          null,
          2.8,
          2.8,
          3.2,
          3.2
         ]
        },
        {
         "fill": "toself",
         "fillcolor": "rgb(247, 77, 153)",
         "hoverinfo": "name",
         "legendgroup": "rgb(247, 77, 153)",
         "mode": "none",
         "name": "Order 14",
         "type": "scatter",
         "x": [
          326,
          331,
          331,
          326,
          326,
          286,
          291,
          291,
          286,
          286,
          295,
          298,
          298,
          295,
          295,
          291,
          295,
          295,
          291
         ],
         "y": [
          8.8,
          8.8,
          9.2,
          9.2,
          null,
          7.8,
          7.8,
          8.2,
          8.2,
          null,
          1.8,
          1.8,
          2.2,
          2.2,
          null,
          -0.2,
          -0.2,
          0.2,
          0.2
         ]
        },
        {
         "fill": "toself",
         "fillcolor": "rgb(255, 0, 255)",
         "hoverinfo": "name",
         "legendgroup": "rgb(255, 0, 255)",
         "mode": "none",
         "name": "Order 1",
         "type": "scatter",
         "x": [
          300,
          301,
          301,
          300,
          300,
          308,
          314,
          314,
          308,
          308,
          326,
          335,
          335,
          326,
          326,
          317,
          318,
          318,
          317
         ],
         "y": [
          5.8,
          5.8,
          6.2,
          6.2,
          null,
          4.8,
          4.8,
          5.2,
          5.2,
          null,
          4.8,
          4.8,
          5.2,
          5.2,
          null,
          3.8,
          3.8,
          4.2,
          4.2
         ]
        },
        {
         "fill": "toself",
         "fillcolor": "rgb(255, 128, 0)",
         "hoverinfo": "name",
         "legendgroup": "rgb(255, 128, 0)",
         "mode": "none",
         "name": "Order 3",
         "type": "scatter",
         "x": [
          323,
          325,
          325,
          323,
          323,
          317,
          323,
          323,
          317,
          317,
          300,
          305,
          305,
          300,
          300,
          287,
          289,
          289,
          287
         ],
         "y": [
          7.8,
          7.8,
          8.2,
          8.2,
          null,
          6.8,
          6.8,
          7.2,
          7.2,
          null,
          3.8,
          3.8,
          4.2,
          4.2,
          null,
          2.8,
          2.8,
          3.2,
          3.2
         ]
        },
        {
         "fill": "toself",
         "fillcolor": "rgb(34, 254, 16)",
         "hoverinfo": "name",
         "legendgroup": "rgb(34, 254, 16)",
         "mode": "none",
         "name": "Order 0",
         "type": "scatter",
         "x": [
          299,
          307,
          307,
          299,
          299,
          332,
          336,
          336,
          332,
          332,
          336,
          339,
          339,
          336,
          336,
          339,
          343,
          343,
          339
         ],
         "y": [
          8.8,
          8.8,
          9.2,
          9.2,
          null,
          7.8,
          7.8,
          8.2,
          8.2,
          null,
          7.8,
          7.8,
          8.2,
          8.2,
          null,
          6.8,
          6.8,
          7.2,
          7.2
         ]
        },
        {
         "fill": "toself",
         "fillcolor": "rgb(51, 124, 9)",
         "hoverinfo": "name",
         "legendgroup": "rgb(51, 124, 9)",
         "mode": "none",
         "name": "Order 7",
         "type": "scatter",
         "x": [
          294,
          295,
          295,
          294,
          294,
          303,
          308,
          308,
          303,
          303,
          332,
          337,
          337,
          332,
          332,
          320,
          325,
          325,
          320
         ],
         "y": [
          5.8,
          5.8,
          6.2,
          6.2,
          null,
          2.8,
          2.8,
          3.2,
          3.2,
          null,
          1.8,
          1.8,
          2.2,
          2.2,
          null,
          -0.2,
          -0.2,
          0.2,
          0.2
         ]
        },
        {
         "fill": "toself",
         "fillcolor": "rgb(57, 1, 248)",
         "hoverinfo": "name",
         "legendgroup": "rgb(57, 1, 248)",
         "mode": "none",
         "name": "Order 9",
         "type": "scatter",
         "x": [
          293,
          297,
          297,
          293,
          293,
          318,
          320,
          320,
          318,
          318,
          336,
          344,
          344,
          336,
          336,
          334,
          336,
          336,
          334
         ],
         "y": [
          7.8,
          7.8,
          8.2,
          8.2,
          null,
          4.8,
          4.8,
          5.2,
          5.2,
          null,
          2.8,
          2.8,
          3.2,
          3.2,
          null,
          0.8,
          0.8,
          1.2,
          1.2
         ]
        },
        {
         "fill": "toself",
         "fillcolor": "rgb(72, 253, 199)",
         "hoverinfo": "name",
         "legendgroup": "rgb(72, 253, 199)",
         "mode": "none",
         "name": "Order 5",
         "type": "scatter",
         "x": [
          293,
          294,
          294,
          293,
          293,
          315,
          316,
          316,
          315
         ],
         "y": [
          6.8,
          6.8,
          7.2,
          7.2,
          null,
          4.8,
          4.8,
          5.2,
          5.2
         ]
        },
        {
         "legendgroup": "rgb(0, 0, 128)",
         "marker": {
          "color": "rgb(0, 0, 128)",
          "opacity": 0,
          "size": 1
         },
         "mode": "markers",
         "name": "",
         "showlegend": false,
         "text": [
          null,
          null,
          null,
          null,
          null,
          null,
          null,
          null
         ],
         "type": "scatter",
         "x": [
          318,
          323,
          332,
          334,
          307,
          313,
          313,
          317
         ],
         "y": [
          6,
          6,
          6,
          6,
          2,
          2,
          0,
          0
         ]
        },
        {
         "legendgroup": "rgb(0, 128, 128)",
         "marker": {
          "color": "rgb(0, 128, 128)",
          "opacity": 0,
          "size": 1
         },
         "mode": "markers",
         "name": "",
         "showlegend": false,
         "text": [
          null,
          null,
          null,
          null,
          null,
          null,
          null,
          null
         ],
         "type": "scatter",
         "x": [
          334,
          339,
          307,
          313,
          286,
          288,
          327,
          331
         ],
         "y": [
          9,
          9,
          6,
          6,
          4,
          4,
          3,
          3
         ]
        },
        {
         "legendgroup": "rgb(0, 128, 255)",
         "marker": {
          "color": "rgb(0, 128, 255)",
          "opacity": 0,
          "size": 1
         },
         "mode": "markers",
         "name": "",
         "showlegend": false,
         "text": [
          null,
          null,
          null,
          null,
          null,
          null,
          null,
          null
         ],
         "type": "scatter",
         "x": [
          313,
          314,
          315,
          323,
          292,
          301,
          343,
          344
         ],
         "y": [
          8,
          8,
          8,
          8,
          3,
          3,
          2,
          2
         ]
        },
        {
         "legendgroup": "rgb(128, 64, 128)",
         "marker": {
          "color": "rgb(128, 64, 128)",
          "opacity": 0,
          "size": 1
         },
         "mode": "markers",
         "name": "",
         "showlegend": false,
         "text": [
          null,
          null,
          null,
          null,
          null,
          null,
          null,
          null
         ],
         "type": "scatter",
         "x": [
          332,
          336,
          312,
          314,
          337,
          341,
          341,
          344
         ],
         "y": [
          7,
          7,
          1,
          1,
          1,
          1,
          0,
          0
         ]
        },
        {
         "legendgroup": "rgb(133, 178, 104)",
         "marker": {
          "color": "rgb(133, 178, 104)",
          "opacity": 0,
          "size": 1
         },
         "mode": "markers",
         "name": "",
         "showlegend": false,
         "text": [
          null,
          null,
          null,
          null,
          null,
          null,
          null,
          null
         ],
         "type": "scatter",
         "x": [
          305,
          307,
          329,
          333,
          286,
          290,
          308,
          313
         ],
         "y": [
          7,
          7,
          4,
          4,
          2,
          2,
          0,
          0
         ]
        },
        {
         "legendgroup": "rgb(192, 136, 251)",
         "marker": {
          "color": "rgb(192, 136, 251)",
          "opacity": 0,
          "size": 1
         },
         "mode": "markers",
         "name": "",
         "showlegend": false,
         "text": [
          null,
          null,
          null,
          null,
          null,
          null,
          null,
          null
         ],
         "type": "scatter",
         "x": [
          305,
          310,
          300,
          302,
          291,
          292,
          325,
          332
         ],
         "y": [
          8,
          8,
          5,
          5,
          4,
          4,
          1,
          1
         ]
        },
        {
         "legendgroup": "rgb(209, 0, 0)",
         "marker": {
          "color": "rgb(209, 0, 0)",
          "opacity": 0,
          "size": 1
         },
         "mode": "markers",
         "name": "",
         "showlegend": false,
         "text": [
          null,
          null,
          null,
          null,
          null,
          null,
          null,
          null
         ],
         "type": "scatter",
         "x": [
          286,
          287,
          303,
          306,
          320,
          324,
          290,
          296
         ],
         "y": [
          6,
          6,
          5,
          5,
          5,
          5,
          1,
          1
         ]
        },
        {
         "legendgroup": "rgb(224, 248, 61)",
         "marker": {
          "color": "rgb(224, 248, 61)",
          "opacity": 0,
          "size": 1
         },
         "mode": "markers",
         "name": "",
         "showlegend": false,
         "text": [
          null,
          null,
          null,
          null
         ],
         "type": "scatter",
         "x": [
          311,
          315,
          333,
          336
         ],
         "y": [
          7,
          7,
          3,
          3
         ]
        },
        {
         "legendgroup": "rgb(247, 77, 153)",
         "marker": {
          "color": "rgb(247, 77, 153)",
          "opacity": 0,
          "size": 1
         },
         "mode": "markers",
         "name": "",
         "showlegend": false,
         "text": [
          null,
          null,
          null,
          null,
          null,
          null,
          null,
          null
         ],
         "type": "scatter",
         "x": [
          326,
          331,
          286,
          291,
          295,
          298,
          291,
          295
         ],
         "y": [
          9,
          9,
          8,
          8,
          2,
          2,
          0,
          0
         ]
        },
        {
         "legendgroup": "rgb(255, 0, 255)",
         "marker": {
          "color": "rgb(255, 0, 255)",
          "opacity": 0,
          "size": 1
         },
         "mode": "markers",
         "name": "",
         "showlegend": false,
         "text": [
          null,
          null,
          null,
          null,
          null,
          null,
          null,
          null
         ],
         "type": "scatter",
         "x": [
          300,
          301,
          308,
          314,
          326,
          335,
          317,
          318
         ],
         "y": [
          6,
          6,
          5,
          5,
          5,
          5,
          4,
          4
         ]
        },
        {
         "legendgroup": "rgb(255, 128, 0)",
         "marker": {
          "color": "rgb(255, 128, 0)",
          "opacity": 0,
          "size": 1
         },
         "mode": "markers",
         "name": "",
         "showlegend": false,
         "text": [
          null,
          null,
          null,
          null,
          null,
          null,
          null,
          null
         ],
         "type": "scatter",
         "x": [
          323,
          325,
          317,
          323,
          300,
          305,
          287,
          289
         ],
         "y": [
          8,
          8,
          7,
          7,
          4,
          4,
          3,
          3
         ]
        },
        {
         "legendgroup": "rgb(34, 254, 16)",
         "marker": {
          "color": "rgb(34, 254, 16)",
          "opacity": 0,
          "size": 1
         },
         "mode": "markers",
         "name": "",
         "showlegend": false,
         "text": [
          null,
          null,
          null,
          null,
          null,
          null,
          null,
          null
         ],
         "type": "scatter",
         "x": [
          299,
          307,
          332,
          336,
          336,
          339,
          339,
          343
         ],
         "y": [
          9,
          9,
          8,
          8,
          8,
          8,
          7,
          7
         ]
        },
        {
         "legendgroup": "rgb(51, 124, 9)",
         "marker": {
          "color": "rgb(51, 124, 9)",
          "opacity": 0,
          "size": 1
         },
         "mode": "markers",
         "name": "",
         "showlegend": false,
         "text": [
          null,
          null,
          null,
          null,
          null,
          null,
          null,
          null
         ],
         "type": "scatter",
         "x": [
          294,
          295,
          303,
          308,
          332,
          337,
          320,
          325
         ],
         "y": [
          6,
          6,
          3,
          3,
          2,
          2,
          0,
          0
         ]
        },
        {
         "legendgroup": "rgb(57, 1, 248)",
         "marker": {
          "color": "rgb(57, 1, 248)",
          "opacity": 0,
          "size": 1
         },
         "mode": "markers",
         "name": "",
         "showlegend": false,
         "text": [
          null,
          null,
          null,
          null,
          null,
          null,
          null,
          null
         ],
         "type": "scatter",
         "x": [
          293,
          297,
          318,
          320,
          336,
          344,
          334,
          336
         ],
         "y": [
          8,
          8,
          5,
          5,
          3,
          3,
          1,
          1
         ]
        },
        {
         "legendgroup": "rgb(72, 253, 199)",
         "marker": {
          "color": "rgb(72, 253, 199)",
          "opacity": 0,
          "size": 1
         },
         "mode": "markers",
         "name": "",
         "showlegend": false,
         "text": [
          null,
          null,
          null,
          null
         ],
         "type": "scatter",
         "x": [
          293,
          294,
          315,
          316
         ],
         "y": [
          7,
          7,
          5,
          5
         ]
        }
       ],
       "layout": {
        "height": 600,
        "hovermode": "closest",
        "showlegend": true,
        "template": {
         "data": {
          "bar": [
           {
            "error_x": {
             "color": "#2a3f5f"
            },
            "error_y": {
             "color": "#2a3f5f"
            },
            "marker": {
             "line": {
              "color": "#E5ECF6",
              "width": 0.5
             },
             "pattern": {
              "fillmode": "overlay",
              "size": 10,
              "solidity": 0.2
             }
            },
            "type": "bar"
           }
          ],
          "barpolar": [
           {
            "marker": {
             "line": {
              "color": "#E5ECF6",
              "width": 0.5
             },
             "pattern": {
              "fillmode": "overlay",
              "size": 10,
              "solidity": 0.2
             }
            },
            "type": "barpolar"
           }
          ],
          "carpet": [
           {
            "aaxis": {
             "endlinecolor": "#2a3f5f",
             "gridcolor": "white",
             "linecolor": "white",
             "minorgridcolor": "white",
             "startlinecolor": "#2a3f5f"
            },
            "baxis": {
             "endlinecolor": "#2a3f5f",
             "gridcolor": "white",
             "linecolor": "white",
             "minorgridcolor": "white",
             "startlinecolor": "#2a3f5f"
            },
            "type": "carpet"
           }
          ],
          "choropleth": [
           {
            "colorbar": {
             "outlinewidth": 0,
             "ticks": ""
            },
            "type": "choropleth"
           }
          ],
          "contour": [
           {
            "colorbar": {
             "outlinewidth": 0,
             "ticks": ""
            },
            "colorscale": [
             [
              0,
              "#0d0887"
             ],
             [
              0.1111111111111111,
              "#46039f"
             ],
             [
              0.2222222222222222,
              "#7201a8"
             ],
             [
              0.3333333333333333,
              "#9c179e"
             ],
             [
              0.4444444444444444,
              "#bd3786"
             ],
             [
              0.5555555555555556,
              "#d8576b"
             ],
             [
              0.6666666666666666,
              "#ed7953"
             ],
             [
              0.7777777777777778,
              "#fb9f3a"
             ],
             [
              0.8888888888888888,
              "#fdca26"
             ],
             [
              1,
              "#f0f921"
             ]
            ],
            "type": "contour"
           }
          ],
          "contourcarpet": [
           {
            "colorbar": {
             "outlinewidth": 0,
             "ticks": ""
            },
            "type": "contourcarpet"
           }
          ],
          "heatmap": [
           {
            "colorbar": {
             "outlinewidth": 0,
             "ticks": ""
            },
            "colorscale": [
             [
              0,
              "#0d0887"
             ],
             [
              0.1111111111111111,
              "#46039f"
             ],
             [
              0.2222222222222222,
              "#7201a8"
             ],
             [
              0.3333333333333333,
              "#9c179e"
             ],
             [
              0.4444444444444444,
              "#bd3786"
             ],
             [
              0.5555555555555556,
              "#d8576b"
             ],
             [
              0.6666666666666666,
              "#ed7953"
             ],
             [
              0.7777777777777778,
              "#fb9f3a"
             ],
             [
              0.8888888888888888,
              "#fdca26"
             ],
             [
              1,
              "#f0f921"
             ]
            ],
            "type": "heatmap"
           }
          ],
          "heatmapgl": [
           {
            "colorbar": {
             "outlinewidth": 0,
             "ticks": ""
            },
            "colorscale": [
             [
              0,
              "#0d0887"
             ],
             [
              0.1111111111111111,
              "#46039f"
             ],
             [
              0.2222222222222222,
              "#7201a8"
             ],
             [
              0.3333333333333333,
              "#9c179e"
             ],
             [
              0.4444444444444444,
              "#bd3786"
             ],
             [
              0.5555555555555556,
              "#d8576b"
             ],
             [
              0.6666666666666666,
              "#ed7953"
             ],
             [
              0.7777777777777778,
              "#fb9f3a"
             ],
             [
              0.8888888888888888,
              "#fdca26"
             ],
             [
              1,
              "#f0f921"
             ]
            ],
            "type": "heatmapgl"
           }
          ],
          "histogram": [
           {
            "marker": {
             "pattern": {
              "fillmode": "overlay",
              "size": 10,
              "solidity": 0.2
             }
            },
            "type": "histogram"
           }
          ],
          "histogram2d": [
           {
            "colorbar": {
             "outlinewidth": 0,
             "ticks": ""
            },
            "colorscale": [
             [
              0,
              "#0d0887"
             ],
             [
              0.1111111111111111,
              "#46039f"
             ],
             [
              0.2222222222222222,
              "#7201a8"
             ],
             [
              0.3333333333333333,
              "#9c179e"
             ],
             [
              0.4444444444444444,
              "#bd3786"
             ],
             [
              0.5555555555555556,
              "#d8576b"
             ],
             [
              0.6666666666666666,
              "#ed7953"
             ],
             [
              0.7777777777777778,
              "#fb9f3a"
             ],
             [
              0.8888888888888888,
              "#fdca26"
             ],
             [
              1,
              "#f0f921"
             ]
            ],
            "type": "histogram2d"
           }
          ],
          "histogram2dcontour": [
           {
            "colorbar": {
             "outlinewidth": 0,
             "ticks": ""
            },
            "colorscale": [
             [
              0,
              "#0d0887"
             ],
             [
              0.1111111111111111,
              "#46039f"
             ],
             [
              0.2222222222222222,
              "#7201a8"
             ],
             [
              0.3333333333333333,
              "#9c179e"
             ],
             [
              0.4444444444444444,
              "#bd3786"
             ],
             [
              0.5555555555555556,
              "#d8576b"
             ],
             [
              0.6666666666666666,
              "#ed7953"
             ],
             [
              0.7777777777777778,
              "#fb9f3a"
             ],
             [
              0.8888888888888888,
              "#fdca26"
             ],
             [
              1,
              "#f0f921"
             ]
            ],
            "type": "histogram2dcontour"
           }
          ],
          "mesh3d": [
           {
            "colorbar": {
             "outlinewidth": 0,
             "ticks": ""
            },
            "type": "mesh3d"
           }
          ],
          "parcoords": [
           {
            "line": {
             "colorbar": {
              "outlinewidth": 0,
              "ticks": ""
             }
            },
            "type": "parcoords"
           }
          ],
          "pie": [
           {
            "automargin": true,
            "type": "pie"
           }
          ],
          "scatter": [
           {
            "fillpattern": {
             "fillmode": "overlay",
             "size": 10,
             "solidity": 0.2
            },
            "type": "scatter"
           }
          ],
          "scatter3d": [
           {
            "line": {
             "colorbar": {
              "outlinewidth": 0,
              "ticks": ""
             }
            },
            "marker": {
             "colorbar": {
              "outlinewidth": 0,
              "ticks": ""
             }
            },
            "type": "scatter3d"
           }
          ],
          "scattercarpet": [
           {
            "marker": {
             "colorbar": {
              "outlinewidth": 0,
              "ticks": ""
             }
            },
            "type": "scattercarpet"
           }
          ],
          "scattergeo": [
           {
            "marker": {
             "colorbar": {
              "outlinewidth": 0,
              "ticks": ""
             }
            },
            "type": "scattergeo"
           }
          ],
          "scattergl": [
           {
            "marker": {
             "colorbar": {
              "outlinewidth": 0,
              "ticks": ""
             }
            },
            "type": "scattergl"
           }
          ],
          "scattermapbox": [
           {
            "marker": {
             "colorbar": {
              "outlinewidth": 0,
              "ticks": ""
             }
            },
            "type": "scattermapbox"
           }
          ],
          "scatterpolar": [
           {
            "marker": {
             "colorbar": {
              "outlinewidth": 0,
              "ticks": ""
             }
            },
            "type": "scatterpolar"
           }
          ],
          "scatterpolargl": [
           {
            "marker": {
             "colorbar": {
              "outlinewidth": 0,
              "ticks": ""
             }
            },
            "type": "scatterpolargl"
           }
          ],
          "scatterternary": [
           {
            "marker": {
             "colorbar": {
              "outlinewidth": 0,
              "ticks": ""
             }
            },
            "type": "scatterternary"
           }
          ],
          "surface": [
           {
            "colorbar": {
             "outlinewidth": 0,
             "ticks": ""
            },
            "colorscale": [
             [
              0,
              "#0d0887"
             ],
             [
              0.1111111111111111,
              "#46039f"
             ],
             [
              0.2222222222222222,
              "#7201a8"
             ],
             [
              0.3333333333333333,
              "#9c179e"
             ],
             [
              0.4444444444444444,
              "#bd3786"
             ],
             [
              0.5555555555555556,
              "#d8576b"
             ],
             [
              0.6666666666666666,
              "#ed7953"
             ],
             [
              0.7777777777777778,
              "#fb9f3a"
             ],
             [
              0.8888888888888888,
              "#fdca26"
             ],
             [
              1,
              "#f0f921"
             ]
            ],
            "type": "surface"
           }
          ],
          "table": [
           {
            "cells": {
             "fill": {
              "color": "#EBF0F8"
             },
             "line": {
              "color": "white"
             }
            },
            "header": {
             "fill": {
              "color": "#C8D4E3"
             },
             "line": {
              "color": "white"
             }
            },
            "type": "table"
           }
          ]
         },
         "layout": {
          "annotationdefaults": {
           "arrowcolor": "#2a3f5f",
           "arrowhead": 0,
           "arrowwidth": 1
          },
          "autotypenumbers": "strict",
          "coloraxis": {
           "colorbar": {
            "outlinewidth": 0,
            "ticks": ""
           }
          },
          "colorscale": {
           "diverging": [
            [
             0,
             "#8e0152"
            ],
            [
             0.1,
             "#c51b7d"
            ],
            [
             0.2,
             "#de77ae"
            ],
            [
             0.3,
             "#f1b6da"
            ],
            [
             0.4,
             "#fde0ef"
            ],
            [
             0.5,
             "#f7f7f7"
            ],
            [
             0.6,
             "#e6f5d0"
            ],
            [
             0.7,
             "#b8e186"
            ],
            [
             0.8,
             "#7fbc41"
            ],
            [
             0.9,
             "#4d9221"
            ],
            [
             1,
             "#276419"
            ]
           ],
           "sequential": [
            [
             0,
             "#0d0887"
            ],
            [
             0.1111111111111111,
             "#46039f"
            ],
            [
             0.2222222222222222,
             "#7201a8"
            ],
            [
             0.3333333333333333,
             "#9c179e"
            ],
            [
             0.4444444444444444,
             "#bd3786"
            ],
            [
             0.5555555555555556,
             "#d8576b"
            ],
            [
             0.6666666666666666,
             "#ed7953"
            ],
            [
             0.7777777777777778,
             "#fb9f3a"
            ],
            [
             0.8888888888888888,
             "#fdca26"
            ],
            [
             1,
             "#f0f921"
            ]
           ],
           "sequentialminus": [
            [
             0,
             "#0d0887"
            ],
            [
             0.1111111111111111,
             "#46039f"
            ],
            [
             0.2222222222222222,
             "#7201a8"
            ],
            [
             0.3333333333333333,
             "#9c179e"
            ],
            [
             0.4444444444444444,
             "#bd3786"
            ],
            [
             0.5555555555555556,
             "#d8576b"
            ],
            [
             0.6666666666666666,
             "#ed7953"
            ],
            [
             0.7777777777777778,
             "#fb9f3a"
            ],
            [
             0.8888888888888888,
             "#fdca26"
            ],
            [
             1,
             "#f0f921"
            ]
           ]
          },
          "colorway": [
           "#636efa",
           "#EF553B",
           "#00cc96",
           "#ab63fa",
           "#FFA15A",
           "#19d3f3",
           "#FF6692",
           "#B6E880",
           "#FF97FF",
           "#FECB52"
          ],
          "font": {
           "color": "#2a3f5f"
          },
          "geo": {
           "bgcolor": "white",
           "lakecolor": "white",
           "landcolor": "#E5ECF6",
           "showlakes": true,
           "showland": true,
           "subunitcolor": "white"
          },
          "hoverlabel": {
           "align": "left"
          },
          "hovermode": "closest",
          "mapbox": {
           "style": "light"
          },
          "paper_bgcolor": "white",
          "plot_bgcolor": "#E5ECF6",
          "polar": {
           "angularaxis": {
            "gridcolor": "white",
            "linecolor": "white",
            "ticks": ""
           },
           "bgcolor": "#E5ECF6",
           "radialaxis": {
            "gridcolor": "white",
            "linecolor": "white",
            "ticks": ""
           }
          },
          "scene": {
           "xaxis": {
            "backgroundcolor": "#E5ECF6",
            "gridcolor": "white",
            "gridwidth": 2,
            "linecolor": "white",
            "showbackground": true,
            "ticks": "",
            "zerolinecolor": "white"
           },
           "yaxis": {
            "backgroundcolor": "#E5ECF6",
            "gridcolor": "white",
            "gridwidth": 2,
            "linecolor": "white",
            "showbackground": true,
            "ticks": "",
            "zerolinecolor": "white"
           },
           "zaxis": {
            "backgroundcolor": "#E5ECF6",
            "gridcolor": "white",
            "gridwidth": 2,
            "linecolor": "white",
            "showbackground": true,
            "ticks": "",
            "zerolinecolor": "white"
           }
          },
          "shapedefaults": {
           "line": {
            "color": "#2a3f5f"
           }
          },
          "ternary": {
           "aaxis": {
            "gridcolor": "white",
            "linecolor": "white",
            "ticks": ""
           },
           "baxis": {
            "gridcolor": "white",
            "linecolor": "white",
            "ticks": ""
           },
           "bgcolor": "#E5ECF6",
           "caxis": {
            "gridcolor": "white",
            "linecolor": "white",
            "ticks": ""
           }
          },
          "title": {
           "x": 0.05
          },
          "xaxis": {
           "automargin": true,
           "gridcolor": "white",
           "linecolor": "white",
           "ticks": "",
           "title": {
            "standoff": 15
           },
           "zerolinecolor": "white",
           "zerolinewidth": 2
          },
          "yaxis": {
           "automargin": true,
           "gridcolor": "white",
           "linecolor": "white",
           "ticks": "",
           "title": {
            "standoff": 15
           },
           "zerolinecolor": "white",
           "zerolinewidth": 2
          }
         }
        },
        "title": {
         "text": "Gantt Chart"
        },
        "xaxis": {
         "rangeselector": {
          "buttons": [
           {
            "count": 7,
            "label": "1w",
            "step": "day",
            "stepmode": "backward"
           },
           {
            "count": 1,
            "label": "1m",
            "step": "month",
            "stepmode": "backward"
           },
           {
            "count": 6,
            "label": "6m",
            "step": "month",
            "stepmode": "backward"
           },
           {
            "count": 1,
            "label": "YTD",
            "step": "year",
            "stepmode": "todate"
           },
           {
            "count": 1,
            "label": "1y",
            "step": "year",
            "stepmode": "backward"
           },
           {
            "step": "all"
           }
          ]
         },
         "showgrid": false,
         "type": "linear",
         "zeroline": false
        },
        "yaxis": {
         "autorange": false,
         "range": [
          -1,
          11
         ],
         "showgrid": false,
         "ticktext": [
          "w4",
          "w2",
          "w3",
          "w5",
          "w9",
          "w0",
          "w6",
          "w1",
          "w8",
          "w7"
         ],
         "tickvals": [
          0,
          1,
          2,
          3,
          4,
          5,
          6,
          7,
          8,
          9
         ],
         "zeroline": false
        }
       }
      }
     },
     "metadata": {},
     "output_type": "display_data"
    }
   ],
   "source": [
    "visualize_schedule(schedule, production_environment, orders)"
   ]
  },
  {
   "attachments": {},
   "cell_type": "markdown",
   "metadata": {},
   "source": [
    "Objective Values"
   ]
  },
  {
   "cell_type": "code",
   "execution_count": 104,
   "metadata": {},
   "outputs": [
    {
     "name": "stdout",
     "output_type": "stream",
     "text": [
      "Solution created with: GASolver\n",
      "[58, 3177, 10016, 0, 7500.0, 0]\n"
     ]
    }
   ],
   "source": [
    "evaluator = Evaluator(production_environment)\n",
    "evaluator.add_objective(Makespan())\n",
    "evaluator.add_objective(IdleTime())\n",
    "evaluator.add_objective(TimeDeviation())\n",
    "evaluator.add_objective(Tardiness())\n",
    "evaluator.add_objective(Profit())\n",
    "evaluator.add_objective(UnfulfilledOrders())\n",
    "objective_values = evaluator.evaluate(schedule, jobs)\n",
    "print(f'Solution created with: {solver.name}')\n",
    "print(objective_values)"
   ]
  },
  {
   "cell_type": "code",
   "execution_count": 105,
   "metadata": {},
   "outputs": [
    {
     "name": "stdout",
     "output_type": "stream",
     "text": [
      "[0, 0, 0, 0]\n",
      "[1, 1, 1, 1]\n"
     ]
    }
   ],
   "source": [
    "#just testing with python\n",
    "values = [0, 1, 0, 1, 0, 1, 0, 1]\n",
    "zeros = values[::2]\n",
    "ones = values[1::2]\n",
    "print(zeros)\n",
    "print(ones)"
   ]
  }
 ],
 "metadata": {
  "kernelspec": {
   "display_name": "Python 3",
   "language": "python",
   "name": "python3"
  },
  "language_info": {
   "codemirror_mode": {
    "name": "ipython",
    "version": 3
   },
   "file_extension": ".py",
   "mimetype": "text/x-python",
   "name": "python",
   "nbconvert_exporter": "python",
   "pygments_lexer": "ipython3",
   "version": "3.11.1"
  },
  "orig_nbformat": 4
 },
 "nbformat": 4,
 "nbformat_minor": 2
}
