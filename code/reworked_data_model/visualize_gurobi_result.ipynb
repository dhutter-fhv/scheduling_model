{
 "cells": [
  {
   "cell_type": "code",
   "execution_count": null,
   "metadata": {},
   "outputs": [],
   "source": [
    "from translation import BasicBenchmarkTranslator, GurobiEncoder, FJSSPInstancesTranslator\n",
    "from model import ProductionEnvironment, Order\n",
    "from solver import GurobiSolver\n",
    "from visualization import visualize_schedule"
   ]
  },
  {
   "cell_type": "code",
   "execution_count": null,
   "metadata": {},
   "outputs": [],
   "source": [
    "source = '5_Kacem'\n",
    "benchmark_id = 4\n",
    "simple_translator = FJSSPInstancesTranslator()\n",
    "production_environment = simple_translator.translate(source=source, benchmark_id=benchmark_id)"
   ]
  },
  {
   "cell_type": "code",
   "execution_count": null,
   "metadata": {},
   "outputs": [],
   "source": [
    "orders : list[Order] = []\n",
    "for i in range(len(production_environment.resources.values())): # should be the same amount as recipes for now\n",
    "    orders.append(Order(delivery_time=1000, latest_acceptable_time=1000, resources=[(production_environment.get_resource(i), 1)], penalty=100.0, tardiness_fee=50.0, divisible=False, profit=500.0))\n",
    "\n",
    "encoder = GurobiEncoder()\n",
    "nb_machines, nb_jobs, nb_operations, job_ops_machs, durations, job_op_suitable, upper_bound, jobs = encoder.encode(production_environment, orders)\n",
    "\n",
    "solver = GurobiSolver(production_environment) # isn't actually needed, just for the api\n",
    "solver.initialize(nb_jobs, nb_operations, nb_machines, job_ops_machs, durations, job_op_suitable, upper_bound)"
   ]
  },
  {
   "cell_type": "code",
   "execution_count": null,
   "metadata": {},
   "outputs": [],
   "source": [
    "xsol = ...\n",
    "ysol = ...\n",
    "csol = ..."
   ]
  },
  {
   "cell_type": "code",
   "execution_count": null,
   "metadata": {},
   "outputs": [],
   "source": [
    "schedule = encoder.decode(xsol, ysol, csol, job_ops_machs, durations, production_environment, jobs, solver)"
   ]
  }
 ],
 "metadata": {
  "language_info": {
   "name": "python"
  }
 },
 "nbformat": 4,
 "nbformat_minor": 2
}
