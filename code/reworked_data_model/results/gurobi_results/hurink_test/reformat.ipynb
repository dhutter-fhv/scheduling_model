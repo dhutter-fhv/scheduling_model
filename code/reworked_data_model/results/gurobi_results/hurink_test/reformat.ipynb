{
 "cells": [
  {
   "cell_type": "code",
   "execution_count": 39,
   "metadata": {},
   "outputs": [],
   "source": [
    "read_path = r'C:\\Users\\huda\\Documents\\GitHub\\scheduling_model\\code\\reworked_data_model\\results\\gurobi_results\\hurink_test\\workers_all.txt'\n"
   ]
  },
  {
   "cell_type": "code",
   "execution_count": 40,
   "metadata": {},
   "outputs": [],
   "source": [
    "data = []\n",
    "with open(read_path, 'r') as f:\n",
    "    data = f.readlines()"
   ]
  },
  {
   "cell_type": "code",
   "execution_count": 41,
   "metadata": {},
   "outputs": [
    {
     "name": "stdout",
     "output_type": "stream",
     "text": [
      "391\n"
     ]
    }
   ],
   "source": [
    "print(len(data))"
   ]
  },
  {
   "cell_type": "code",
   "execution_count": 42,
   "metadata": {},
   "outputs": [],
   "source": [
    "runs = [x.split(';') for x in data]"
   ]
  },
  {
   "cell_type": "code",
   "execution_count": 43,
   "metadata": {},
   "outputs": [
    {
     "name": "stdout",
     "output_type": "stream",
     "text": [
      "14\n"
     ]
    }
   ],
   "source": [
    "corrected_runs = []\n",
    "instance = 2\n",
    "lastReal = 0\n",
    "for i in range(1, len(runs)):\n",
    "    if not runs[i][0].startswith('Error'):\n",
    "        if runs[i][0] != runs[lastReal][0]:\n",
    "            instance = 1\n",
    "            lastReal = i\n",
    "        corrected_runs.append(runs[i].copy())\n",
    "        corrected_runs[-1][1] = instance\n",
    "        instance += 1\n",
    "print(len(corrected_runs[1]))"
   ]
  },
  {
   "cell_type": "code",
   "execution_count": 44,
   "metadata": {},
   "outputs": [],
   "source": [
    "def join_line(line):\n",
    "    result = ''\n",
    "    for i in range(len(line)):\n",
    "        result += str(line[i]) + ';'\n",
    "    return result[:-2]"
   ]
  },
  {
   "cell_type": "code",
   "execution_count": 45,
   "metadata": {},
   "outputs": [],
   "source": [
    "corrected_path = r'C:\\Users\\huda\\Documents\\GitHub\\scheduling_model\\code\\reworked_data_model\\results\\gurobi_results\\hurink_test\\workers_corrected.txt'\n",
    "with open(corrected_path, 'a') as f:\n",
    "    for i in range(len(corrected_runs)):\n",
    "        f.write(join_line(corrected_runs[i]) + '\\n')"
   ]
  }
 ],
 "metadata": {
  "kernelspec": {
   "display_name": "Python 3",
   "language": "python",
   "name": "python3"
  },
  "language_info": {
   "codemirror_mode": {
    "name": "ipython",
    "version": 3
   },
   "file_extension": ".py",
   "mimetype": "text/x-python",
   "name": "python",
   "nbconvert_exporter": "python",
   "pygments_lexer": "ipython3",
   "version": "3.11.1"
  }
 },
 "nbformat": 4,
 "nbformat_minor": 2
}
