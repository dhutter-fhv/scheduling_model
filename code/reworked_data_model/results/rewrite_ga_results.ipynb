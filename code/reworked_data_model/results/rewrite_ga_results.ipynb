{
 "cells": [
  {
   "cell_type": "code",
   "execution_count": 14,
   "metadata": {},
   "outputs": [],
   "source": [
    "ga_path = r'C:\\Users\\huda\\Downloads\\final\\final\\\\'\n",
    "files = ['s0_s1_3600.txt','s4_3600.txt','s5_s6_s3_3600.txt', 's2a_3600.txt', 's2b_3600.txt', 's2c_s2d_3600.txt', 'behnke_geiger_repeat.txt', 'chambers.txt', 'dppaulli.txt', 'fattahi.txt', 'behnkegeiger.txt', 'brandimarte.txt']\n",
    "files2 = ['chambers.txt', 'dppaulli.txt', 'fattahi.txt', 'behnkegeiger.txt', 'brandimarte.txt']\n"
   ]
  },
  {
   "cell_type": "code",
   "execution_count": 15,
   "metadata": {},
   "outputs": [],
   "source": [
    "data = dict()\n",
    "benchmark_data = []\n",
    "average_runtimes = dict()\n",
    "average_fitness = dict()\n",
    "run_count = dict()\n",
    "for file in files:\n",
    "    content = open(ga_path + file, 'r').readlines()\n",
    "    for values in content:\n",
    "        line = values.split(';')\n",
    "        uid = line[0]+line[1]\n",
    "        if uid not in data:\n",
    "            data[uid] = []\n",
    "            data[uid].append(float(line[6])) # for min fitness\n",
    "            data[uid].append(float(line[6])) # for max fitness\n",
    "            data[uid].append(float(line[2])) # for min runtime\n",
    "            data[uid].append(float(line[2])) # for max runtime\n",
    "            data[uid].append(0) # for average fitness\n",
    "            data[uid].append(0) # for average runtime\n",
    "            data[uid].append(line[0])\n",
    "            data[uid].append(line[1])\n",
    "        if data[uid][0] > float(line[6]):\n",
    "            data[uid][0] = float(line[6])\n",
    "        if data[uid][1] < float(line[6]):\n",
    "            data[uid][1] = float(line[6])\n",
    "        if data[uid][2] > float(line[2]):\n",
    "            data[uid][2] = float(line[2])\n",
    "        if data[uid][3] < float(line[2]):\n",
    "            data[uid][3] = float(line[2])\n",
    "        data[uid][4] += float(line[6])\n",
    "        data[uid][5] += float(line[2])\n",
    "        if uid not in run_count:\n",
    "            run_count[uid] = 0\n",
    "        run_count[uid] += 1\n",
    "for entry in data.keys():\n",
    "    data[entry][4] /= run_count[entry]\n",
    "    data[entry][5] /= run_count[entry]\n"
   ]
  },
  {
   "cell_type": "code",
   "execution_count": 16,
   "metadata": {},
   "outputs": [],
   "source": [
    "import json\n",
    "with open(\"ga_results.json\", \"w\") as outfile: \n",
    "    json.dump(data, outfile)"
   ]
  }
 ],
 "metadata": {
  "kernelspec": {
   "display_name": "Python 3",
   "language": "python",
   "name": "python3"
  },
  "language_info": {
   "codemirror_mode": {
    "name": "ipython",
    "version": 3
   },
   "file_extension": ".py",
   "mimetype": "text/x-python",
   "name": "python",
   "nbconvert_exporter": "python",
   "pygments_lexer": "ipython3",
   "version": "3.11.1"
  }
 },
 "nbformat": 4,
 "nbformat_minor": 2
}
