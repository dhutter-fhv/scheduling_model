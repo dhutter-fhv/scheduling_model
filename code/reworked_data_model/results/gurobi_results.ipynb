{
 "cells": [
  {
   "cell_type": "markdown",
   "metadata": {},
   "source": [
    "<h> Do NOT run the following blocks </h>"
   ]
  },
  {
   "cell_type": "code",
   "execution_count": 79,
   "metadata": {},
   "outputs": [],
   "source": [
    "file_path = r\"C:/Users/huda/Downloads/part_1.txt\"\n",
    "benchmark_base_path = \"C:/Users/huda/Documents/GitHub/scheduling_model/code/external_test_data/FJSSPinstances/\"\n",
    "file = open(file_path, 'r')\n",
    "file_content = file.readlines()"
   ]
  },
  {
   "cell_type": "code",
   "execution_count": 80,
   "metadata": {},
   "outputs": [],
   "source": [
    "results_30min = file_content[:402]"
   ]
  },
  {
   "cell_type": "code",
   "execution_count": 91,
   "metadata": {},
   "outputs": [],
   "source": [
    "#NOTE: ONLY NEEDED TO BE DONE ONCE TO DIVIDE DATA INTO THE FILES\n",
    "file_path = r\"C:\\Users\\huda\\Downloads\\part_2.txt\"\n",
    "file = open(file_path, 'r')\n",
    "file_content = file.readlines()\n",
    "results_60min = file_content\n",
    "target_path = r'C:\\Users\\huda\\Documents\\GitHub\\scheduling_model\\code\\reworked_data_model\\results\\gurobi_results\\runs_60min\\results.txt'\n",
    "file = open(target_path, 'a')\n",
    "for line in results_60min:\n",
    "    file.write(line)\n",
    "file.close()"
   ]
  },
  {
   "cell_type": "code",
   "execution_count": 89,
   "metadata": {},
   "outputs": [],
   "source": [
    "#NOTE: ONLY NEEDED TO BE DONE ONCE TO DIVIDE DATA INTO THE FILES\n",
    "# rewrite data\n",
    "\n",
    "target_path = r'C:\\Users\\huda\\Documents\\GitHub\\scheduling_model\\code\\reworked_data_model\\results\\gurobi_results\\runs_30min\\results.txt'\n",
    "file = open(target_path, 'w')\n",
    "for line in results_30min:\n",
    "    # TODO: remove x, y, c vectors\n",
    "    file.write(line)\n",
    "file.close()\n",
    "target_path = r'C:\\Users\\huda\\Documents\\GitHub\\scheduling_model\\code\\reworked_data_model\\results\\gurobi_results\\runs_60min\\results.txt'\n",
    "file = open(target_path, 'w')\n",
    "for line in file_content[402:]:\n",
    "    file.write(line)\n",
    "file.close()"
   ]
  },
  {
   "cell_type": "markdown",
   "metadata": {},
   "source": [
    "<h> Run from here</h>"
   ]
  },
  {
   "cell_type": "code",
   "execution_count": 92,
   "metadata": {},
   "outputs": [],
   "source": [
    "import matplotlib.pyplot as plt"
   ]
  },
  {
   "cell_type": "code",
   "execution_count": 93,
   "metadata": {},
   "outputs": [],
   "source": [
    "file_path = r\"C:/Users/huda/Downloads/part_1.txt\"\n",
    "benchmark_base_path = \"C:/Users/huda/Documents/GitHub/scheduling_model/code/external_test_data/FJSSPinstances/\"\n",
    "file = open(file_path, 'r')\n",
    "file_content = file.readlines()"
   ]
  },
  {
   "cell_type": "code",
   "execution_count": 94,
   "metadata": {},
   "outputs": [],
   "source": [
    "results_30min = file_content[:402]"
   ]
  },
  {
   "cell_type": "code",
   "execution_count": 95,
   "metadata": {},
   "outputs": [],
   "source": [
    "def read_benchmark_file(source, instance):\n",
    "    if source.startswith('0'):\n",
    "        target_file = f'Behnke{instance}.fjs'\n",
    "    elif source.startswith('1'):\n",
    "        target_file = f'BrandimarteMk{instance}.fjs'\n",
    "    elif source.startswith('2a'):\n",
    "        target_file = f'HurinkSdata{instance}.fjs'\n",
    "    elif source.startswith('2b'):\n",
    "        target_file = f'HurinkEdata{instance}.fjs'\n",
    "    elif source.startswith('2c'):\n",
    "        target_file = f'HurinkRdata{instance}.fjs'\n",
    "    elif source.startswith('2d'):\n",
    "        target_file = f'HurinkVdata{instance}.fjs'\n",
    "    elif source.startswith('3'):\n",
    "        target_file = f'DPpaulli{instance}.fjs'\n",
    "    elif source.startswith('4'):\n",
    "        target_file = f'ChambersBarnes{instance}.fjs'\n",
    "    elif source.startswith('5'):\n",
    "        target_file = f'Kacem{instance}.fjs'\n",
    "    elif source.startswith('6'):\n",
    "        target_file = f'Fattahi{instance}.fjs'\n",
    "    path = benchmark_base_path + f'{source}\\\\{target_file}'\n",
    "    return open(path, 'r').readlines()"
   ]
  },
  {
   "cell_type": "code",
   "execution_count": 96,
   "metadata": {},
   "outputs": [],
   "source": [
    "results = []\n",
    "success_count = 0\n",
    "timeout_count = 0\n",
    "other_limit_count = 0\n",
    "successful = []\n",
    "failed = []\n",
    "for row in results_30min:\n",
    "    line = dict()\n",
    "    columns = row.split(';')\n",
    "    line[\"source\"] = columns[0]\n",
    "    line[\"instance\"] = int(columns[1])\n",
    "    line[\"best_objective\"] = float(columns[2])\n",
    "    line[\"upper_bound\"] = float(columns[3])\n",
    "    line[\"lower_bound\"] = float(columns[4])\n",
    "    line[\"gap\"] = float(columns[5])\n",
    "    line[\"status\"] = int(columns[6])\n",
    "    line[\"n_explored\"] = int(float(columns[7]))\n",
    "    line[\"runtime\"] = float(columns[8])\n",
    "    line[\"overall_runtime\"] = float(columns[9])\n",
    "    line[\"setup_time\"] = line[\"overall_runtime\"] - line[\"runtime\"]\n",
    "    # add information about the benchmark instance\n",
    "    benchmark_file = read_benchmark_file(line[\"source\"], line[\"instance\"])\n",
    "    benchmark_system = benchmark_file[0].split(' ')\n",
    "    line[\"n_machines\"] = int(benchmark_system[1])\n",
    "    line[\"n_jobs\"] = int(benchmark_system[0])\n",
    "    line[\"average_workstations_per_operation\"] = float(benchmark_system[2])\n",
    "    jobs = benchmark_file[1:]\n",
    "    line[\"n_operations\"] = sum([int(x.split(' ')[0]) for x in jobs])\n",
    "    line[\"average_operations_per_job\"] = line[\"n_operations\"] / line[\"n_jobs\"]\n",
    "    line[\"beta_flexibility\"] = line[\"average_workstations_per_operation\"]/line[\"n_machines\"]\n",
    "    line[\"approximate_max_dissimilarity\"] = line[\"n_operations\"] + line[\"average_operations_per_job\"] * line[\"average_workstations_per_operation\"]\n",
    "    \n",
    "    results.append(line)\n",
    "successful = [x for x in results if x[\"status\"] == 2]\n",
    "failed = [x for x in results if x[\"status\"] != 2]"
   ]
  },
  {
   "cell_type": "code",
   "execution_count": 97,
   "metadata": {},
   "outputs": [],
   "source": [
    "def average(values):\n",
    "    return sum(values) / len(values)"
   ]
  },
  {
   "cell_type": "code",
   "execution_count": 98,
   "metadata": {},
   "outputs": [
    {
     "name": "stdout",
     "output_type": "stream",
     "text": [
      "Averages of\tSuccess(n=166)\t\tFailed(n=236)\n",
      "# machines:\t10.75301204819277\t15.453389830508474\n",
      "# jobs:\t\t9.885542168674698\t25.23728813559322\n",
      "# operations:\t89.18072289156626\t192.97457627118644\n",
      "Flexibility:\t0.27365994654805786\t0.27735930966704997\n",
      "Approx.Max.Dis.:111.164969879518\t220.99678672316375\n"
     ]
    }
   ],
   "source": [
    "n_machines_success = [x[\"n_machines\"] for x in successful]\n",
    "n_machines_failed = [x[\"n_machines\"] for x in failed]\n",
    "n_jobs_success = [x[\"n_jobs\"] for x in successful]\n",
    "n_jobs_failed = [x[\"n_jobs\"] for x in failed]\n",
    "n_operations_success = [x[\"n_operations\"] for x in successful]\n",
    "n_operations_failed = [x[\"n_operations\"] for x in failed]\n",
    "success_beta = [x[\"beta_flexibility\"] for x in successful]\n",
    "failed_beta = [x[\"beta_flexibility\"] for x in failed]\n",
    "success_approximated_max_dissimilarity = [x[\"approximate_max_dissimilarity\"] for x in successful]\n",
    "failed_approximated_max_dissimilarity = [x[\"approximate_max_dissimilarity\"] for x in failed]\n",
    "print(f'Averages of\\tSuccess(n={len(successful)})\\t\\tFailed(n={len(failed)})')\n",
    "print(f'# machines:\\t{average(n_machines_success)}\\t{average(n_machines_failed)}')\n",
    "print(f'# jobs:\\t\\t{average(n_jobs_success)}\\t{average(n_jobs_failed)}')\n",
    "print(f'# operations:\\t{average(n_operations_success)}\\t{average(n_operations_failed)}')\n",
    "print(f'Flexibility:\\t{average(success_beta)}\\t{average(failed_beta)}')\n",
    "print(f'Approx.Max.Dis.:{average(success_approximated_max_dissimilarity)}\\t{average(failed_approximated_max_dissimilarity)}')\n"
   ]
  },
  {
   "cell_type": "code",
   "execution_count": 107,
   "metadata": {},
   "outputs": [
    {
     "name": "stdout",
     "output_type": "stream",
     "text": [
      "Average Gap in failed runs: 0.39115123202534696\n",
      "Max Gap: 0.8843441466854631 for instance 0_BehnkeGeiger-60\n"
     ]
    },
    {
     "name": "stdout",
     "output_type": "stream",
     "text": [
      "Min Gap: 0.011494244358202708 for instance 0_BehnkeGeiger-42\n"
     ]
    }
   ],
   "source": [
    "gap_failed = [x[\"gap\"] for x in failed]\n",
    "average_gap_failed = average(gap_failed)\n",
    "print(f\"Average Gap in failed runs: {average_gap_failed}\")\n",
    "benchmarks_by_gap = sorted(failed, key=lambda x: x[\"gap\"])\n",
    "print(f'Max Gap: {benchmarks_by_gap[-1][\"gap\"]} for instance {benchmarks_by_gap[-1][\"source\"]}-{benchmarks_by_gap[-1][\"instance\"]}')\n",
    "print(f'Min Gap: {benchmarks_by_gap[0][\"gap\"]} for instance {benchmarks_by_gap[0][\"source\"]}-{benchmarks_by_gap[0][\"instance\"]}')\n",
    "\n"
   ]
  },
  {
   "cell_type": "code",
   "execution_count": 112,
   "metadata": {},
   "outputs": [],
   "source": [
    "success_divided = dict()\n",
    "failed_divided = dict()\n",
    "sources = []\n",
    "for instance in successful:\n",
    "    if instance[\"source\"] not in success_divided:\n",
    "        success_divided[instance[\"source\"]] = [x for x in successful if x[\"source\"] == instance[\"source\"]]\n",
    "        if instance[\"source\"] not in sources:\n",
    "            sources.append(instance[\"source\"])\n",
    "for instance in failed:\n",
    "    if instance[\"source\"] not in failed_divided:\n",
    "        failed_divided[instance[\"source\"]] = [x for x in failed if x[\"source\"] == instance[\"source\"]]\n",
    "        if instance[\"source\"] not in sources:\n",
    "            sources.append(instance[\"source\"])"
   ]
  },
  {
   "cell_type": "code",
   "execution_count": 113,
   "metadata": {},
   "outputs": [
    {
     "name": "stdout",
     "output_type": "stream",
     "text": [
      "All instances of 3_DPpaulli failed.\n"
     ]
    }
   ],
   "source": [
    "for source in sources:\n",
    "    if source not in success_divided:\n",
    "        print(f'All instances of {source} failed.')\n",
    "    if source not in failed_divided:\n",
    "        print(f'All instances of {source} succeeded.')"
   ]
  },
  {
   "cell_type": "code",
   "execution_count": 115,
   "metadata": {},
   "outputs": [
    {
     "name": "stdout",
     "output_type": "stream",
     "text": [
      "end\n"
     ]
    }
   ],
   "source": [
    "n_success_failed = dict()\n",
    "for source in sources:\n",
    "    if source not in n_success_failed:\n",
    "        n_success_failed[source] = [0, 0]\n",
    "    if source in success_divided:\n",
    "        n_success_failed[source][0] = len(success_divided[source])\n",
    "    if source in failed_divided:\n",
    "        n_success_failed[source][1] = len(failed_divided[source])"
   ]
  },
  {
   "cell_type": "code",
   "execution_count": 127,
   "metadata": {},
   "outputs": [
    {
     "name": "stdout",
     "output_type": "stream",
     "text": [
      "source\t\t\tsuccess\tfailed\tsuccess/failure\t\t% success\t\t% failed\n",
      "0_BehnkeGeiger(n=60)\t9\t51\t0.17647058823529413\t0.15\t0.85\n",
      "1_Brandimarte(n=15)\t2\t13\t0.15384615384615385\t0.13333333333333333\t0.8666666666666667\n",
      "2a_Hurink_sdata(n=66)\t32\t34\t0.9411764705882353\t0.48484848484848486\t0.5151515151515151\n",
      "2b_Hurink_edata(n=66)\t35\t31\t1.1290322580645162\t0.5303030303030303\t0.4696969696969697\n",
      "2c_Hurink_rdata(n=66)\t24\t42\t0.5714285714285714\t0.36363636363636365\t0.6363636363636364\n",
      "2d_Hurink_vdata(n=66)\t27\t39\t0.6923076923076923\t0.4090909090909091\t0.5909090909090909\n",
      "4_ChambersBarnes(n=21)\t16\t5\t3.2\t0.7619047619047619\t0.23809523809523808\n",
      "5_Kacem(n=4)\t3\t1\t3.0\t0.75\t0.25\n",
      "6_Fattahi(n=20)\t18\t2\t9.0\t0.9\t0.1\n",
      "3_DPpaulli(n=18)\t0\t18\t0.0\t0.0\t1.0\n"
     ]
    }
   ],
   "source": [
    "print(f'source\\t\\t\\tsuccess\\tfailed\\tsuccess/failure\\t\\t% success\\t\\t% failed')\n",
    "for source in sources:\n",
    "    print(f'{source}(n={sum(n_success_failed[source])})\\t{n_success_failed[source][0]}\\t{n_success_failed[source][1]}\\t{n_success_failed[source][0] / n_success_failed[source][1]}\\t{n_success_failed[source][0]/sum(n_success_failed[source])}\\t{n_success_failed[source][1]/sum(n_success_failed[source])}')\n"
   ]
  }
 ],
 "metadata": {
  "kernelspec": {
   "display_name": "Python 3",
   "language": "python",
   "name": "python3"
  },
  "language_info": {
   "codemirror_mode": {
    "name": "ipython",
    "version": 3
   },
   "file_extension": ".py",
   "mimetype": "text/x-python",
   "name": "python",
   "nbconvert_exporter": "python",
   "pygments_lexer": "ipython3",
   "version": "3.11.1"
  }
 },
 "nbformat": 4,
 "nbformat_minor": 2
}
