{
 "cells": [
  {
   "cell_type": "code",
   "execution_count": 23,
   "metadata": {},
   "outputs": [],
   "source": [
    "def split(data):\n",
    "    overall_result = []\n",
    "    for entry in data:\n",
    "        values = entry.split(';')\n",
    "        result = []\n",
    "        result.append(values[0]) # source\n",
    "        result.append(values[1]) # instance\n",
    "        result.append(values[2]) # best fitness\n",
    "        result.append(values[5]) # gap\n",
    "        result.append(values[6]) # status\n",
    "        result.append(values[7]) # n explored solutions\n",
    "        result.append(values[8]) # optimization time\n",
    "        result.append(values[9]) # overall runtime\n",
    "        overall_result.append(result)\n",
    "    return overall_result"
   ]
  },
  {
   "cell_type": "code",
   "execution_count": 24,
   "metadata": {},
   "outputs": [],
   "source": [
    "def write(data, target):\n",
    "    if target == '30':\n",
    "        target_path = r'C:\\Users\\huda\\Documents\\GitHub\\scheduling_model\\code\\reworked_data_model\\results\\gurobi_results\\formatted_results\\30_min.txt'\n",
    "    else:\n",
    "        target_path = r'C:\\Users\\huda\\Documents\\GitHub\\scheduling_model\\code\\reworked_data_model\\results\\gurobi_results\\formatted_results\\60_min.txt'\n",
    "    file = open(target_path, 'a')\n",
    "    for line in data:\n",
    "        file.write(f'{line[0]};{line[1]};{line[2]};{line[3]};{line[4]};{line[5]};{line[6]};{line[7]}\\n')\n",
    "    file.close()"
   ]
  },
  {
   "cell_type": "code",
   "execution_count": 25,
   "metadata": {},
   "outputs": [],
   "source": [
    "file_path = r\"C:/Users/huda/Downloads/part_1.txt\"\n",
    "benchmark_base_path = \"C:/Users/huda/Documents/GitHub/scheduling_model/code/external_test_data/FJSSPinstances/\"\n",
    "file = open(file_path, 'r')\n",
    "file_content = file.readlines()\n",
    "results_30_min = file_content[:402]\n",
    "write(split(results_30_min), '30')\n",
    "results_60_min = file_content[403:]"
   ]
  },
  {
   "cell_type": "code",
   "execution_count": 26,
   "metadata": {},
   "outputs": [],
   "source": [
    "file_path = r\"C:\\Users\\huda\\Downloads\\part_2.txt\"\n",
    "file = open(file_path, 'r')\n",
    "file_content = file.readlines()\n",
    "results_60_min.extend(file_content)\n"
   ]
  },
  {
   "cell_type": "code",
   "execution_count": 27,
   "metadata": {},
   "outputs": [],
   "source": [
    "file_path = r\"C:\\Users\\huda\\Downloads\\part_3.txt\"\n",
    "file = open(file_path, 'r')\n",
    "file_content = file.readlines()\n",
    "results_60_min.extend(file_content[:-1])"
   ]
  },
  {
   "cell_type": "code",
   "execution_count": 28,
   "metadata": {},
   "outputs": [],
   "source": [
    "write(split(results_60_min), '60')"
   ]
  }
 ],
 "metadata": {
  "kernelspec": {
   "display_name": "Python 3",
   "language": "python",
   "name": "python3"
  },
  "language_info": {
   "codemirror_mode": {
    "name": "ipython",
    "version": 3
   },
   "file_extension": ".py",
   "mimetype": "text/x-python",
   "name": "python",
   "nbconvert_exporter": "python",
   "pygments_lexer": "ipython3",
   "version": "3.11.1"
  }
 },
 "nbformat": 4,
 "nbformat_minor": 2
}
