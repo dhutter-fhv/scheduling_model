{
 "cells": [
  {
   "cell_type": "code",
   "execution_count": 43,
   "metadata": {},
   "outputs": [],
   "source": [
    "lit_path = r'C:\\Users\\huda\\Documents\\GitHub\\scheduling_model\\code\\reworked_data_model\\results\\lit_results\\lit_best_known.csv'\n",
    "ga_path = r'C:\\Users\\huda\\Downloads\\newest\\newest\\\\'\n",
    "files = ['s0_s1_3600.txt','s4_3600.txt','s5_s6_s3_3600.txt', 's2a_3600.txt', 's2b_3600.txt', 's2c_s2d_3600.txt', 'behnke_geiger_repeat.txt', 'chambers.txt', 'dppaulli.txt', 'fattahi.txt', 'behnkegeiger.txt', 'brandimarte.txt']\n",
    "files2 = ['chambers.txt', 'dppaulli.txt', 'fattahi.txt', 'behnkegeiger.txt', 'brandimarte.txt']\n",
    "gurobi_30 = r'C:\\Users\\huda\\Documents\\GitHub\\scheduling_model\\code\\reworked_data_model\\results\\gurobi_results\\formatted_results\\30_min.txt'\n",
    "gurobi_60 = r'C:\\Users\\huda\\Documents\\GitHub\\scheduling_model\\code\\reworked_data_model\\results\\gurobi_results\\formatted_results\\60_min.txt'"
   ]
  },
  {
   "cell_type": "code",
   "execution_count": 44,
   "metadata": {},
   "outputs": [],
   "source": [
    "from translation import FJSSPInstancesTranslator, SequenceGAEncoder\n",
    "from model import ProductionEnvironment, Order\n",
    "\n",
    "benchmark_base_path = r'C:\\Users\\huda\\Documents\\GitHub\\scheduling_model\\code\\external_test_data\\FJSSPinstances\\\\'\n",
    "\n",
    "def generate_one_order_per_recipe(production_environment : ProductionEnvironment) -> list[Order]:\n",
    "    orders : list[Order] = []\n",
    "    for i in range(len(production_environment.resources.values())): # should be the same amount as recipes for now\n",
    "        orders.append(Order(delivery_time=1000, latest_acceptable_time=1000, resources=[(production_environment.get_resource(i), 1)], penalty=100.0, tardiness_fee=50.0, divisible=False, profit=500.0))\n",
    "    return orders\n",
    "\n",
    "def read_benchmark_file(source, instance):\n",
    "    if source.startswith('0'):\n",
    "        target_file = f'Behnke{instance}.fjs'\n",
    "    elif source.startswith('1'):\n",
    "        target_file = f'BrandimarteMk{instance}.fjs'\n",
    "    elif source.startswith('2a'):\n",
    "        target_file = f'HurinkSdata{instance}.fjs'\n",
    "    elif source.startswith('2b'):\n",
    "        target_file = f'HurinkEdata{instance}.fjs'\n",
    "    elif source.startswith('2c'):\n",
    "        target_file = f'HurinkRdata{instance}.fjs'\n",
    "    elif source.startswith('2d'):\n",
    "        target_file = f'HurinkVdata{instance}.fjs'\n",
    "    elif source.startswith('3'):\n",
    "        target_file = f'DPpaulli{instance}.fjs'\n",
    "    elif source.startswith('4'):\n",
    "        target_file = f'ChambersBarnes{instance}.fjs'\n",
    "    elif source.startswith('5'):\n",
    "        target_file = f'Kacem{instance}.fjs'\n",
    "    elif source.startswith('6'):\n",
    "        target_file = f'Fattahi{instance}.fjs'\n",
    "    path = benchmark_base_path + f'{source}\\\\{target_file}'\n",
    "    return open(path, 'r').readlines()\n",
    "\n",
    "def load_benchmark_data(content):   \n",
    "    line = dict()\n",
    "    line['source'] = content[0]\n",
    "    line['instance'] = int(content[1])\n",
    "\n",
    "    # add information about the benchmark instance\n",
    "    benchmark_file = read_benchmark_file(line['source'], line['instance'])\n",
    "    benchmark_system = benchmark_file[0].split(' ')\n",
    "    line['n_machines'] = int(benchmark_system[1])\n",
    "    line['n_jobs'] = int(benchmark_system[0])\n",
    "    line['average_workstations_per_operation'] = float(benchmark_system[2])\n",
    "    jobs = benchmark_file[1:]\n",
    "    line['n_operations'] = sum([int(x.split(' ')[0]) for x in jobs])\n",
    "    line['average_operations_per_job'] = line['n_operations'] / line['n_jobs']\n",
    "    line['beta_flexibility'] = line['average_workstations_per_operation']/line['n_machines']\n",
    "    line['approximate_max_dissimilarity'] = line['n_operations'] + line['average_operations_per_job'] * line['average_workstations_per_operation']\n",
    "\n",
    "    production_environment = FJSSPInstancesTranslator().translate(line['source'], line['instance'])\n",
    "    orders = generate_one_order_per_recipe(production_environment)\n",
    "    production_environment.orders = orders\n",
    "    workstations_per_operation, base_durations, job_operations = SequenceGAEncoder().encode(production_environment, orders)\n",
    "    unique_durations = []\n",
    "    overall_amount_durations = []\n",
    "    for duration in base_durations:\n",
    "        for d in duration:\n",
    "            if d not in unique_durations and d > 0:\n",
    "                unique_durations.append(d)\n",
    "        overall_amount_durations.extend([x for x in duration if x > 0])\n",
    "    overall_amount_durations = len(overall_amount_durations)\n",
    "    line['duration_variety'] = (len(unique_durations)/overall_amount_durations)\n",
    "    return line    "
   ]
  },
  {
   "cell_type": "code",
   "execution_count": 45,
   "metadata": {},
   "outputs": [
    {
     "data": {
      "text/plain": [
       "\"for file in files2:\\n    content = open(ga_path + file, 'r').readlines()\\n    for values in content:\\n        line = values.split(';')\\n        uid = line[0]+line[1]\\n        if uid not in data:\\n            data[uid] = [float(line)]\""
      ]
     },
     "execution_count": 45,
     "metadata": {},
     "output_type": "execute_result"
    }
   ],
   "source": [
    "data = dict()\n",
    "benchmark_data = []\n",
    "for file in files:\n",
    "    content = open(ga_path + file, 'r').readlines()\n",
    "    for values in content:\n",
    "        line = values.split(';')\n",
    "\n",
    "        uid = line[0]+line[1]\n",
    "        if not uid.startswith('2a'):\n",
    "            if uid not in data:\n",
    "                data[uid] = [float(line[6])]\n",
    "            elif data[uid][0] > float(line[6]):\n",
    "                data[uid] = [float(line[6])]\n",
    "\"\"\"for file in files2:\n",
    "    content = open(ga_path + file, 'r').readlines()\n",
    "    for values in content:\n",
    "        line = values.split(';')\n",
    "        uid = line[0]+line[1]\n",
    "        if uid not in data:\n",
    "            data[uid] = [float(line)]\"\"\""
   ]
  },
  {
   "cell_type": "code",
   "execution_count": 46,
   "metadata": {},
   "outputs": [],
   "source": [
    "content = open(lit_path, 'r').readlines()\n",
    "for values in content[1:]:\n",
    "    line = values.split(';')\n",
    "    uid = line[0]+line[1]\n",
    "    #if not any([x['source'] == line[0] and x['instance'] == line[1] for x in benchmark_data]):\n",
    "    benchmark_data.append(load_benchmark_data(line))\n",
    "    if not uid.startswith('2a'):\n",
    "        if uid in data: # skip remaining benchmarks\n",
    "            value = float(line[3])\n",
    "            if value < 0:\n",
    "                value = 10000000 # replacing missing data\n",
    "            data[uid].append(value)"
   ]
  },
  {
   "cell_type": "code",
   "execution_count": 47,
   "metadata": {},
   "outputs": [
    {
     "ename": "TypeError",
     "evalue": "string indices must be integers, not 'str'",
     "output_type": "error",
     "traceback": [
      "\u001b[1;31m---------------------------------------------------------------------------\u001b[0m",
      "\u001b[1;31mTypeError\u001b[0m                                 Traceback (most recent call last)",
      "Cell \u001b[1;32mIn[47], line 3\u001b[0m\n\u001b[0;32m      1\u001b[0m best \u001b[38;5;241m=\u001b[39m \u001b[38;5;28mdict\u001b[39m()\n\u001b[0;32m      2\u001b[0m \u001b[38;5;28;01mfor\u001b[39;00m line \u001b[38;5;129;01min\u001b[39;00m data:\n\u001b[1;32m----> 3\u001b[0m     \u001b[38;5;28;01mif\u001b[39;00m \u001b[43mline\u001b[49m\u001b[43m[\u001b[49m\u001b[38;5;124;43m'\u001b[39;49m\u001b[38;5;124;43msource\u001b[39;49m\u001b[38;5;124;43m'\u001b[39;49m\u001b[43m]\u001b[49m\u001b[38;5;241m+\u001b[39m\u001b[38;5;28mstr\u001b[39m(line[\u001b[38;5;124m'\u001b[39m\u001b[38;5;124minstance\u001b[39m\u001b[38;5;124m'\u001b[39m]) \u001b[38;5;129;01mnot\u001b[39;00m \u001b[38;5;129;01min\u001b[39;00m best:\n\u001b[0;32m      4\u001b[0m         best[line[\u001b[38;5;124m'\u001b[39m\u001b[38;5;124msource\u001b[39m\u001b[38;5;124m'\u001b[39m]\u001b[38;5;241m+\u001b[39m\u001b[38;5;28mstr\u001b[39m(line[\u001b[38;5;124m'\u001b[39m\u001b[38;5;124minstance\u001b[39m\u001b[38;5;124m'\u001b[39m])] \u001b[38;5;241m=\u001b[39m line\n\u001b[0;32m      5\u001b[0m     \u001b[38;5;28;01melif\u001b[39;00m best[line[\u001b[38;5;124m'\u001b[39m\u001b[38;5;124msource\u001b[39m\u001b[38;5;124m'\u001b[39m]\u001b[38;5;241m+\u001b[39m\u001b[38;5;28mstr\u001b[39m(line[\u001b[38;5;124m'\u001b[39m\u001b[38;5;124minstance\u001b[39m\u001b[38;5;124m'\u001b[39m])][\u001b[38;5;124m'\u001b[39m\u001b[38;5;124mbest_objective\u001b[39m\u001b[38;5;124m'\u001b[39m] \u001b[38;5;241m>\u001b[39m line[\u001b[38;5;124m'\u001b[39m\u001b[38;5;124mbest_objective\u001b[39m\u001b[38;5;124m'\u001b[39m]:\n",
      "\u001b[1;31mTypeError\u001b[0m: string indices must be integers, not 'str'"
     ]
    }
   ],
   "source": [
    "best = dict()\n",
    "for line in data:\n",
    "    if line['source']+str(line['instance']) not in best:\n",
    "        best[line['source']+str(line['instance'])] = line\n",
    "    elif best[line['source']+str(line['instance'])]['best_objective'] > line['best_objective']:\n",
    "        best[line['source']+str(line['instance'])] = line"
   ]
  },
  {
   "cell_type": "code",
   "execution_count": 48,
   "metadata": {},
   "outputs": [],
   "source": [
    "content = open(gurobi_30, 'r').readlines()\n",
    "for values in content[1:]:\n",
    "    line = values.split(';')\n",
    "    uid = line[0]+line[1]\n",
    "    if not uid.startswith('2a'):\n",
    "        if uid in data: # skip remaining benchmarks\n",
    "            data[uid].append(int(float(line[2]) + 0.5))"
   ]
  },
  {
   "cell_type": "code",
   "execution_count": 49,
   "metadata": {},
   "outputs": [],
   "source": [
    "content = open(gurobi_60, 'r').readlines()\n",
    "for values in content[1:]:\n",
    "    line = values.split(';')\n",
    "    uid = line[0]+line[1]\n",
    "    if not uid.startswith('2a'):\n",
    "        if uid in data: # skip remaining benchmarks\n",
    "            data[uid][2] = (int(float(line[2]) + 0.5)) # assuming 60 min is better than the 30 min result"
   ]
  },
  {
   "cell_type": "code",
   "execution_count": 50,
   "metadata": {},
   "outputs": [],
   "source": [
    "def calc_gap(best, value):\n",
    "    return (value - best)/best"
   ]
  },
  {
   "cell_type": "code",
   "execution_count": 51,
   "metadata": {},
   "outputs": [],
   "source": [
    "# NOTE: 0 - GA, 1 - Lit, 2 - Gurobi\n",
    "best = dict()\n",
    "for key in data.keys():\n",
    "    best[key] = min(data[key])\n",
    "gaps = dict()\n",
    "for key in best.keys():\n",
    "    gaps[key] = dict()\n",
    "    gaps[key]['GA'] = (calc_gap(best[key], data[key][0])) # GA\n",
    "    gaps[key]['Literature'] = (calc_gap(best[key], data[key][1])) # Lit\n",
    "    gaps[key]['Gurobi'] = (calc_gap(best[key], data[key][2])) # Gurobi\n",
    "import pandas as pd\n",
    "df = pd.DataFrame(gaps)"
   ]
  },
  {
   "cell_type": "code",
   "execution_count": 52,
   "metadata": {},
   "outputs": [
    {
     "data": {
      "text/html": [
       "<div>\n",
       "<style scoped>\n",
       "    .dataframe tbody tr th:only-of-type {\n",
       "        vertical-align: middle;\n",
       "    }\n",
       "\n",
       "    .dataframe tbody tr th {\n",
       "        vertical-align: top;\n",
       "    }\n",
       "\n",
       "    .dataframe thead th {\n",
       "        text-align: right;\n",
       "    }\n",
       "</style>\n",
       "<table border=\"1\" class=\"dataframe\">\n",
       "  <thead>\n",
       "    <tr style=\"text-align: right;\">\n",
       "      <th></th>\n",
       "      <th>1_Brandimarte1</th>\n",
       "      <th>1_Brandimarte2</th>\n",
       "      <th>1_Brandimarte3</th>\n",
       "      <th>1_Brandimarte4</th>\n",
       "      <th>1_Brandimarte5</th>\n",
       "      <th>1_Brandimarte6</th>\n",
       "      <th>1_Brandimarte7</th>\n",
       "      <th>1_Brandimarte8</th>\n",
       "      <th>1_Brandimarte9</th>\n",
       "      <th>1_Brandimarte10</th>\n",
       "      <th>...</th>\n",
       "      <th>2d_Hurink_vdata57</th>\n",
       "      <th>2d_Hurink_vdata58</th>\n",
       "      <th>2d_Hurink_vdata59</th>\n",
       "      <th>2d_Hurink_vdata60</th>\n",
       "      <th>2d_Hurink_vdata61</th>\n",
       "      <th>2d_Hurink_vdata62</th>\n",
       "      <th>2d_Hurink_vdata63</th>\n",
       "      <th>2d_Hurink_vdata64</th>\n",
       "      <th>2d_Hurink_vdata65</th>\n",
       "      <th>2d_Hurink_vdata66</th>\n",
       "    </tr>\n",
       "  </thead>\n",
       "  <tbody>\n",
       "    <tr>\n",
       "      <th>GA</th>\n",
       "      <td>0.0</td>\n",
       "      <td>0.000000</td>\n",
       "      <td>0.0</td>\n",
       "      <td>0.0</td>\n",
       "      <td>0.005814</td>\n",
       "      <td>0.086207</td>\n",
       "      <td>0.014388</td>\n",
       "      <td>0.0</td>\n",
       "      <td>0.042345</td>\n",
       "      <td>0.253807</td>\n",
       "      <td>...</td>\n",
       "      <td>0.0</td>\n",
       "      <td>0.01129</td>\n",
       "      <td>0.0</td>\n",
       "      <td>0.0</td>\n",
       "      <td>0.015411</td>\n",
       "      <td>0.0</td>\n",
       "      <td>0.025455</td>\n",
       "      <td>0.0</td>\n",
       "      <td>0.0</td>\n",
       "      <td>0.0</td>\n",
       "    </tr>\n",
       "    <tr>\n",
       "      <th>Literature</th>\n",
       "      <td>0.0</td>\n",
       "      <td>0.000000</td>\n",
       "      <td>0.0</td>\n",
       "      <td>0.0</td>\n",
       "      <td>0.000000</td>\n",
       "      <td>0.000000</td>\n",
       "      <td>0.000000</td>\n",
       "      <td>0.0</td>\n",
       "      <td>0.000000</td>\n",
       "      <td>0.000000</td>\n",
       "      <td>...</td>\n",
       "      <td>0.0</td>\n",
       "      <td>0.00000</td>\n",
       "      <td>0.0</td>\n",
       "      <td>0.0</td>\n",
       "      <td>0.000000</td>\n",
       "      <td>0.0</td>\n",
       "      <td>0.000000</td>\n",
       "      <td>0.0</td>\n",
       "      <td>0.0</td>\n",
       "      <td>0.0</td>\n",
       "    </tr>\n",
       "    <tr>\n",
       "      <th>Gurobi</th>\n",
       "      <td>0.0</td>\n",
       "      <td>0.038462</td>\n",
       "      <td>0.0</td>\n",
       "      <td>0.0</td>\n",
       "      <td>0.005814</td>\n",
       "      <td>0.103448</td>\n",
       "      <td>0.035971</td>\n",
       "      <td>0.0</td>\n",
       "      <td>0.009772</td>\n",
       "      <td>0.101523</td>\n",
       "      <td>...</td>\n",
       "      <td>0.0</td>\n",
       "      <td>0.00000</td>\n",
       "      <td>0.0</td>\n",
       "      <td>0.0</td>\n",
       "      <td>0.000000</td>\n",
       "      <td>0.0</td>\n",
       "      <td>0.000000</td>\n",
       "      <td>0.0</td>\n",
       "      <td>0.0</td>\n",
       "      <td>0.0</td>\n",
       "    </tr>\n",
       "  </tbody>\n",
       "</table>\n",
       "<p>3 rows × 336 columns</p>\n",
       "</div>"
      ],
      "text/plain": [
       "            1_Brandimarte1  1_Brandimarte2  1_Brandimarte3  1_Brandimarte4  \\\n",
       "GA                     0.0        0.000000             0.0             0.0   \n",
       "Literature             0.0        0.000000             0.0             0.0   \n",
       "Gurobi                 0.0        0.038462             0.0             0.0   \n",
       "\n",
       "            1_Brandimarte5  1_Brandimarte6  1_Brandimarte7  1_Brandimarte8  \\\n",
       "GA                0.005814        0.086207        0.014388             0.0   \n",
       "Literature        0.000000        0.000000        0.000000             0.0   \n",
       "Gurobi            0.005814        0.103448        0.035971             0.0   \n",
       "\n",
       "            1_Brandimarte9  1_Brandimarte10  ...  2d_Hurink_vdata57  \\\n",
       "GA                0.042345         0.253807  ...                0.0   \n",
       "Literature        0.000000         0.000000  ...                0.0   \n",
       "Gurobi            0.009772         0.101523  ...                0.0   \n",
       "\n",
       "            2d_Hurink_vdata58  2d_Hurink_vdata59  2d_Hurink_vdata60  \\\n",
       "GA                    0.01129                0.0                0.0   \n",
       "Literature            0.00000                0.0                0.0   \n",
       "Gurobi                0.00000                0.0                0.0   \n",
       "\n",
       "            2d_Hurink_vdata61  2d_Hurink_vdata62  2d_Hurink_vdata63  \\\n",
       "GA                   0.015411                0.0           0.025455   \n",
       "Literature           0.000000                0.0           0.000000   \n",
       "Gurobi               0.000000                0.0           0.000000   \n",
       "\n",
       "            2d_Hurink_vdata64  2d_Hurink_vdata65  2d_Hurink_vdata66  \n",
       "GA                        0.0                0.0                0.0  \n",
       "Literature                0.0                0.0                0.0  \n",
       "Gurobi                    0.0                0.0                0.0  \n",
       "\n",
       "[3 rows x 336 columns]"
      ]
     },
     "execution_count": 52,
     "metadata": {},
     "output_type": "execute_result"
    }
   ],
   "source": [
    "df"
   ]
  },
  {
   "cell_type": "code",
   "execution_count": 53,
   "metadata": {},
   "outputs": [],
   "source": [
    "instances = gaps.keys()\n",
    "ga_values = [gaps[x]['GA'] for x in instances]\n",
    "lit_values = [gaps[x]['Literature'] for x in instances]\n",
    "gurobi_values = [gaps[x]['Gurobi'] for x in instances]"
   ]
  },
  {
   "cell_type": "code",
   "execution_count": 54,
   "metadata": {},
   "outputs": [
    {
     "name": "stdout",
     "output_type": "stream",
     "text": [
      "[85, 40, 32, 33, 43, 73, 22]\n",
      "328\n",
      "336\n"
     ]
    }
   ],
   "source": [
    "bins = [0.0, 0.01, 0.02, 0.03, 0.05, 0.15, 0.35]\n",
    "counts = []\n",
    "eps = 0.000001\n",
    "for i in range(len(bins)):\n",
    "    counts.append(0)\n",
    "    if i == 0:\n",
    "        for value in ga_values:\n",
    "            if value <= bins[i] + eps:\n",
    "                counts[i] += 1\n",
    "    else:\n",
    "        for value in ga_values:\n",
    "            if value > bins[i-1] and value <= bins[i]:\n",
    "                counts[i] += 1\n",
    "print(counts)\n",
    "print(sum(counts))\n",
    "print(len(ga_values))"
   ]
  },
  {
   "cell_type": "code",
   "execution_count": 55,
   "metadata": {},
   "outputs": [
    {
     "data": {
      "text/plain": [
       "<BarContainer object of 7 artists>"
      ]
     },
     "execution_count": 55,
     "metadata": {},
     "output_type": "execute_result"
    },
    {
     "data": {
      "image/png": "[encoded data removed]",
      "text/plain": [
       "<Figure size 640x480 with 1 Axes>"
      ]
     },
     "metadata": {},
     "output_type": "display_data"
    }
   ],
   "source": [
    "import matplotlib.pyplot as plt\n",
    "#import numpy as np\n",
    "#bins = [0.0, 0.01, 0.02, 0.03, 0.05, 0.15, 0.35]\n",
    "#counts, bins = np.histogram(ga_values, bins=bins)\n",
    "#plt.hist(bins[:-1], bins, weights=counts, edgecolor='black')\n",
    "plt.bar(bins, counts, edgecolor='black', align='center', width=0.01)\n",
    "#plt.xticks(bins-.5, bins)\n",
    "#plt.hlines(0.05, 0, len(values), colors='r')"
   ]
  },
  {
   "cell_type": "code",
   "execution_count": 56,
   "metadata": {},
   "outputs": [
    {
     "data": {
      "text/plain": [
       "<AxesSubplot: >"
      ]
     },
     "execution_count": 56,
     "metadata": {},
     "output_type": "execute_result"
    },
    {
     "data": {
      "image/png": "[encoded data removed]",
      "text/plain": [
       "<Figure size 640x480 with 1 Axes>"
      ]
     },
     "metadata": {},
     "output_type": "display_data"
    }
   ],
   "source": [
    "import seaborn as sns\n",
    "sns.histplot(x=bins, y=counts)"
   ]
  },
  {
   "cell_type": "code",
   "execution_count": 122,
   "metadata": {},
   "outputs": [
    {
     "name": "stdout",
     "output_type": "stream",
     "text": [
      "0.5119887165021156\n",
      "0.5359848484848485\n"
     ]
    },
    {
     "data": {
      "text/plain": [
       "Text(0.5, 1.0, 'Result Overview')"
      ]
     },
     "execution_count": 122,
     "metadata": {},
     "output_type": "execute_result"
    },
    {
     "data": {
      "image/png": "[encoded data removed]",
      "text/plain": [
       "<Figure size 640x480 with 1 Axes>"
      ]
     },
     "metadata": {},
     "output_type": "display_data"
    }
   ],
   "source": [
    "bins = [0.0, 0.01, 0.02, 0.03, 0.05, 0.15, 0.35]\n",
    "counts = []\n",
    "eps = 0.000001\n",
    "for i in range(len(bins)):\n",
    "    counts.append(0)\n",
    "    if i == 0:\n",
    "        for value in ga_values:\n",
    "            if value <= bins[i] + eps:\n",
    "                counts[i] += 1\n",
    "    else:\n",
    "        for value in ga_values:\n",
    "            if value > bins[i-1] and value <= bins[i]:\n",
    "                counts[i] += 1\n",
    "counts_gurobi = []               \n",
    "for i in range(len(bins)):\n",
    "    counts_gurobi.append(0)\n",
    "    if i == 0:\n",
    "        for value in gurobi_values:\n",
    "            if value <= bins[i] + eps:\n",
    "                counts_gurobi[i] += 1\n",
    "    else:\n",
    "        for value in gurobi_values:\n",
    "            if value > bins[i-1] and value <= bins[i]:\n",
    "                counts_gurobi[i] += 1\n",
    "\n",
    "print(max(gurobi_values))\n",
    "print(max(ga_values))\n",
    "import numpy as np\n",
    "x_axis = np.arange(len(bins))\n",
    "fig, ax = plt.subplots()\n",
    "#ax.step(x_axis, counts)\n",
    "ax.bar(x_axis -0.2, counts, width=0.4, edgecolor='black', label='GA')\n",
    "ax.bar(x_axis +0.2, counts_gurobi, width=0.4, edgecolor='black', label='Gurobi')\n",
    "ax.set_xticks([i for i, j in enumerate(counts)])\n",
    "ax.set_xticklabels(['0%', '1%', '2%', '3%', '5%', '15%', '35%'])\n",
    "plt.legend()\n",
    "plt.xlabel('Gap to Best Known Solution')\n",
    "plt.ylabel('Count')\n",
    "plt.title('Result Overview')"
   ]
  },
  {
   "cell_type": "code",
   "execution_count": 58,
   "metadata": {},
   "outputs": [
    {
     "name": "stdout",
     "output_type": "stream",
     "text": [
      "336\n",
      "336\n",
      "336\n"
     ]
    }
   ],
   "source": [
    "ga_inside_percentage = []\n",
    "ga_values_sorted = sorted(ga_values)\n",
    "\n",
    "for value in ga_values_sorted:\n",
    "    count = 0\n",
    "    i = 0\n",
    "    while i < len(ga_values_sorted) and ga_values_sorted[i] <= value:\n",
    "        count += 1\n",
    "        i+=1\n",
    "    ga_inside_percentage.append(count/len(ga_values_sorted))\n",
    "print(len(ga_inside_percentage))\n",
    "gurobi_inside_percentage = []\n",
    "gurobi_values_sorted = sorted(gurobi_values)\n",
    "\n",
    "for value in gurobi_values_sorted:\n",
    "    count = 0\n",
    "    i = 0\n",
    "    while i < len(gurobi_values_sorted) and gurobi_values_sorted[i] <= value:\n",
    "        count += 1\n",
    "        i+=1\n",
    "    gurobi_inside_percentage.append(count/len(gurobi_values_sorted))\n",
    "print(len(gurobi_inside_percentage))\n",
    "lit_inside_percentage = []\n",
    "lit_values_sorted = sorted(lit_values)\n",
    "\n",
    "for value in gurobi_values_sorted:\n",
    "    count = 0\n",
    "    i = 0\n",
    "    while i < len(lit_values_sorted) and lit_values_sorted[i] <= value:\n",
    "        count += 1\n",
    "        i+=1\n",
    "    lit_inside_percentage.append(count/len(lit_values_sorted))\n",
    "print(len(lit_inside_percentage))"
   ]
  },
  {
   "cell_type": "code",
   "execution_count": 59,
   "metadata": {},
   "outputs": [
    {
     "name": "stdout",
     "output_type": "stream",
     "text": [
      "[0.25297619047619047, 0.25297619047619047, 0.25297619047619047, 0.25297619047619047, 0.25297619047619047, 0.25297619047619047, 0.25297619047619047, 0.25297619047619047, 0.25297619047619047, 0.25297619047619047, 0.25297619047619047, 0.25297619047619047, 0.25297619047619047, 0.25297619047619047, 0.25297619047619047, 0.25297619047619047, 0.25297619047619047, 0.25297619047619047, 0.25297619047619047, 0.25297619047619047, 0.25297619047619047, 0.25297619047619047, 0.25297619047619047, 0.25297619047619047, 0.25297619047619047, 0.25297619047619047, 0.25297619047619047, 0.25297619047619047, 0.25297619047619047, 0.25297619047619047, 0.25297619047619047, 0.25297619047619047, 0.25297619047619047, 0.25297619047619047, 0.25297619047619047, 0.25297619047619047, 0.25297619047619047, 0.25297619047619047, 0.25297619047619047, 0.25297619047619047, 0.25297619047619047, 0.25297619047619047, 0.25297619047619047, 0.25297619047619047, 0.25297619047619047, 0.25297619047619047, 0.25297619047619047, 0.25297619047619047, 0.25297619047619047, 0.25297619047619047, 0.25297619047619047, 0.25297619047619047, 0.25297619047619047, 0.25297619047619047, 0.25297619047619047, 0.25297619047619047, 0.25297619047619047, 0.25297619047619047, 0.25297619047619047, 0.25297619047619047, 0.25297619047619047, 0.25297619047619047, 0.25297619047619047, 0.25297619047619047, 0.25297619047619047, 0.25297619047619047, 0.25297619047619047, 0.25297619047619047, 0.25297619047619047, 0.25297619047619047, 0.25297619047619047, 0.25297619047619047, 0.25297619047619047, 0.25297619047619047, 0.25297619047619047, 0.25297619047619047, 0.25297619047619047, 0.25297619047619047, 0.25297619047619047, 0.25297619047619047, 0.25297619047619047, 0.25297619047619047, 0.25297619047619047, 0.25297619047619047, 0.25297619047619047, 0.25595238095238093, 0.25892857142857145, 0.2619047619047619, 0.2648809523809524, 0.26785714285714285, 0.27380952380952384, 0.27380952380952384, 0.27976190476190477, 0.27976190476190477, 0.28273809523809523, 0.28869047619047616, 0.28869047619047616, 0.2916666666666667, 0.29464285714285715, 0.2976190476190476, 0.3005952380952381, 0.30357142857142855, 0.30654761904761907, 0.30952380952380953, 0.3125, 0.31547619047619047, 0.31845238095238093, 0.32142857142857145, 0.3244047619047619, 0.3273809523809524, 0.33035714285714285, 0.3333333333333333, 0.33630952380952384, 0.3392857142857143, 0.34226190476190477, 0.34523809523809523, 0.3482142857142857, 0.35119047619047616, 0.3541666666666667, 0.35714285714285715, 0.3601190476190476, 0.3630952380952381, 0.36607142857142855, 0.36904761904761907, 0.37202380952380953, 0.375, 0.37797619047619047, 0.38095238095238093, 0.38392857142857145, 0.39285714285714285, 0.39285714285714285, 0.39285714285714285, 0.3958333333333333, 0.39880952380952384, 0.4017857142857143, 0.40476190476190477, 0.40773809523809523, 0.4107142857142857, 0.41369047619047616, 0.4166666666666667, 0.41964285714285715, 0.4226190476190476, 0.4255952380952381, 0.42857142857142855, 0.43154761904761907, 0.43452380952380953, 0.4375, 0.44047619047619047, 0.44345238095238093, 0.44642857142857145, 0.4494047619047619, 0.4523809523809524, 0.45535714285714285, 0.4583333333333333, 0.46130952380952384, 0.4642857142857143, 0.46726190476190477, 0.47023809523809523, 0.4732142857142857, 0.47619047619047616, 0.4791666666666667, 0.48214285714285715, 0.4851190476190476, 0.4880952380952381, 0.49107142857142855, 0.49404761904761907, 0.49702380952380953, 0.5029761904761905, 0.5029761904761905, 0.5059523809523809, 0.5089285714285714, 0.5119047619047619, 0.5148809523809523, 0.5178571428571429, 0.5208333333333334, 0.5238095238095238, 0.5267857142857143, 0.5297619047619048, 0.5327380952380952, 0.5357142857142857, 0.5416666666666666, 0.5416666666666666, 0.5446428571428571, 0.5476190476190477, 0.5505952380952381, 0.5535714285714286, 0.5565476190476191, 0.5595238095238095, 0.5625, 0.5654761904761905, 0.5684523809523809, 0.5714285714285714, 0.5744047619047619, 0.5773809523809523, 0.5803571428571429, 0.5833333333333334, 0.5863095238095238, 0.5892857142857143, 0.5922619047619048, 0.5952380952380952, 0.5982142857142857, 0.6011904761904762, 0.6041666666666666, 0.6071428571428571, 0.6101190476190477, 0.6130952380952381, 0.6160714285714286, 0.6190476190476191, 0.625, 0.625, 0.6279761904761905, 0.6309523809523809, 0.6339285714285714, 0.6369047619047619, 0.6398809523809523, 0.6428571428571429, 0.6458333333333334, 0.6488095238095238, 0.6517857142857143, 0.6547619047619048, 0.6577380952380952, 0.6607142857142857, 0.6636904761904762, 0.6666666666666666, 0.6696428571428571, 0.6726190476190477, 0.6755952380952381, 0.6785714285714286, 0.6815476190476191, 0.6845238095238095, 0.6875, 0.6904761904761905, 0.6934523809523809, 0.6964285714285714, 0.6994047619047619, 0.7023809523809523, 0.7053571428571429, 0.7083333333333334, 0.7113095238095238, 0.7142857142857143, 0.7172619047619048, 0.7202380952380952, 0.7232142857142857, 0.7261904761904762, 0.7291666666666666, 0.7321428571428571, 0.7351190476190477, 0.7380952380952381, 0.7410714285714286, 0.7440476190476191, 0.7470238095238095, 0.75, 0.7529761904761905, 0.7559523809523809, 0.7589285714285714, 0.7619047619047619, 0.7648809523809523, 0.7678571428571429, 0.7708333333333334, 0.7738095238095238, 0.7767857142857143, 0.7797619047619048, 0.7827380952380952, 0.7857142857142857, 0.7886904761904762, 0.7916666666666666, 0.7946428571428571, 0.7976190476190477, 0.8005952380952381, 0.8035714285714286, 0.8065476190476191, 0.8095238095238095, 0.8125, 0.8154761904761905, 0.8184523809523809, 0.8214285714285714, 0.8244047619047619, 0.8273809523809523, 0.8303571428571429, 0.8333333333333334, 0.8363095238095238, 0.8392857142857143, 0.8422619047619048, 0.8452380952380952, 0.8482142857142857, 0.8511904761904762, 0.8541666666666666, 0.8571428571428571, 0.8601190476190477, 0.8630952380952381, 0.8660714285714286, 0.8690476190476191, 0.8720238095238095, 0.875, 0.8779761904761905, 0.8809523809523809, 0.8839285714285714, 0.8869047619047619, 0.8898809523809523, 0.8928571428571429, 0.8958333333333334, 0.8988095238095238, 0.9017857142857143, 0.9047619047619048, 0.9077380952380952, 0.9107142857142857, 0.9136904761904762, 0.9166666666666666, 0.9196428571428571, 0.9226190476190477, 0.9255952380952381, 0.9285714285714286, 0.9315476190476191, 0.9345238095238095, 0.9375, 0.9404761904761905, 0.9434523809523809, 0.9464285714285714, 0.9494047619047619, 0.9523809523809523, 0.9553571428571429, 0.9583333333333334, 0.9613095238095238, 0.9642857142857143, 0.9672619047619048, 0.9702380952380952, 0.9732142857142857, 0.9761904761904762, 0.9791666666666666, 0.9821428571428571, 0.9851190476190477, 0.9880952380952381, 0.9910714285714286, 0.9940476190476191, 0.9970238095238095, 1.0]\n"
     ]
    }
   ],
   "source": [
    "print(ga_inside_percentage)"
   ]
  },
  {
   "cell_type": "code",
   "execution_count": 128,
   "metadata": {},
   "outputs": [
    {
     "data": {
      "text/plain": [
       "<matplotlib.legend.Legend at 0x1ee89d973d0>"
      ]
     },
     "execution_count": 128,
     "metadata": {},
     "output_type": "execute_result"
    },
    {
     "data": {
      "image/png": "[encoded data removed]",
      "text/plain": [
       "<Figure size 640x480 with 1 Axes>"
      ]
     },
     "metadata": {},
     "output_type": "display_data"
    }
   ],
   "source": [
    "fig2, ax2 = plt.subplots()\n",
    "x_axis = np.arange(0.0, 0.5, 0.1)\n",
    "ax2.plot(ga_values_sorted, ga_inside_percentage, linestyle='solid', label='GA')\n",
    "ax2.plot(gurobi_values_sorted, gurobi_inside_percentage, linestyle='dashed', label='Gurobi')\n",
    "ax2.plot(lit_values_sorted, lit_inside_percentage, linestyle='dotted', label='Literature')\n",
    "ax2.set_xlabel('Gap to Best Known')\n",
    "ax2.set_ylabel('Percentage of Solutions within Gap')\n",
    "\"\"\"ax2.scatter(instances, ga_values, s=1, marker='o', label='GA')\n",
    "ax2.scatter(instances, gurobi_values, s=1, marker='v', label='Gurobi')\n",
    "ax2.scatter(instances, lit_values, s=1, marker='s', label='Literature')\"\"\"\n",
    "#fig2.set_figwidth(15)\n",
    "ax2.set_xlim(0.0, 0.5)\n",
    "ax2.set_ylim(0.0, 1.0)\n",
    "\n",
    "plt.legend(loc='lower right')\n"
   ]
  },
  {
   "cell_type": "code",
   "execution_count": 119,
   "metadata": {},
   "outputs": [
    {
     "data": {
      "text/plain": [
       "<matplotlib.legend.Legend at 0x1ee89b6c7d0>"
      ]
     },
     "execution_count": 119,
     "metadata": {},
     "output_type": "execute_result"
    },
    {
     "data": {
      "image/png": "[encoded data removed]",
      "text/plain": [
       "<Figure size 640x480 with 1 Axes>"
      ]
     },
     "metadata": {},
     "output_type": "display_data"
    }
   ],
   "source": [
    "fig2, ax2 = plt.subplots()\n",
    "x_axis = np.arange(0.0, 0.5, 0.1)\n",
    "ga_x = ga_values_sorted.copy()\n",
    "\n",
    "\n",
    "ax2.step(ga_x, ga_inside_percentage, label='GA')\n",
    "ax2.step(gurobi_values_sorted, gurobi_inside_percentage, label='Gurobi')\n",
    "ax2.step(lit_values_sorted, lit_inside_percentage, label='Literature')\n",
    "ax2.set_xlabel('Gap to Best Known')\n",
    "ax2.set_ylabel('Percentage of Solutions within Gap')\n",
    "\"\"\"ax2.scatter(instances, ga_values, s=1, marker='o', label='GA')\n",
    "ax2.scatter(instances, gurobi_values, s=1, marker='v', label='Gurobi')\n",
    "ax2.scatter(instances, lit_values, s=1, marker='s', label='Literature')\"\"\"\n",
    "#fig2.set_figwidth(15)\n",
    "ax2.set_xlim(0.0, 0.6)\n",
    "ax2.set_ylim(0.0, 1.0)\n",
    "#ax2.vlines([0.05, 0.1, 0.2], 0.0, 1.0, 'r', 'dashed')\n",
    "plt.legend(loc='lower right')\n"
   ]
  },
  {
   "cell_type": "code",
   "execution_count": 62,
   "metadata": {},
   "outputs": [
    {
     "data": {
      "text/plain": [
       "<matplotlib.legend.Legend at 0x1ee86eba250>"
      ]
     },
     "execution_count": 62,
     "metadata": {},
     "output_type": "execute_result"
    },
    {
     "data": {
      "image/png": "[encoded data removed]",
      "text/plain": [
       "<Figure size 1500x480 with 1 Axes>"
      ]
     },
     "metadata": {},
     "output_type": "display_data"
    }
   ],
   "source": [
    "fig2, ax2 = plt.subplots()\n",
    "ax2.scatter(instances, ga_values, s=1, marker='o', label='GA')\n",
    "ax2.scatter(instances, gurobi_values, s=1, marker='v', label='Gurobi')\n",
    "ax2.scatter(instances, lit_values, s=1, marker='s', label='Literature')\n",
    "fig2.set_figwidth(15)\n",
    "ax2.set_ylim(0.0, 0.4)\n",
    "plt.legend()\n"
   ]
  },
  {
   "cell_type": "code",
   "execution_count": null,
   "metadata": {},
   "outputs": [],
   "source": []
  },
  {
   "cell_type": "code",
   "execution_count": 63,
   "metadata": {},
   "outputs": [
    {
     "data": {
      "text/plain": [
       "<AxesSubplot: xlabel='Count', ylabel='Count'>"
      ]
     },
     "execution_count": 63,
     "metadata": {},
     "output_type": "execute_result"
    },
    {
     "data": {
      "image/png": "[encoded data removed]",
      "text/plain": [
       "<Figure size 640x480 with 1 Axes>"
      ]
     },
     "metadata": {},
     "output_type": "display_data"
    }
   ],
   "source": [
    "c = dict()\n",
    "c['Count'] = counts\n",
    "c = [{\n",
    "    'Bin': '0%',\n",
    "    'Count': counts[0]\n",
    "},\n",
    "{\n",
    "    'Bin': '1%',\n",
    "    'Count': counts[1]\n",
    "},\n",
    "{\n",
    "    'Bin': '2%',\n",
    "    'Count': counts[2]\n",
    "},\n",
    "{\n",
    "    'Bin': '3%',\n",
    "    'Count': counts[3]\n",
    "},\n",
    "{\n",
    "    'Bin': '5%',\n",
    "    'Count': counts[4]\n",
    "},\n",
    "{\n",
    "    'Bin': '15%',\n",
    "    'Count': counts[5]\n",
    "},\n",
    "{\n",
    "    'Bin': '35%',\n",
    "    'Count': counts[6]\n",
    "},\n",
    "]\n",
    "c_df = pd.DataFrame(c)\n",
    "sns.histplot(data=c_df, x='Count')"
   ]
  },
  {
   "cell_type": "code",
   "execution_count": null,
   "metadata": {},
   "outputs": [],
   "source": []
  },
  {
   "cell_type": "code",
   "execution_count": 64,
   "metadata": {},
   "outputs": [
    {
     "data": {
      "text/html": [
       "<div>\n",
       "<style scoped>\n",
       "    .dataframe tbody tr th:only-of-type {\n",
       "        vertical-align: middle;\n",
       "    }\n",
       "\n",
       "    .dataframe tbody tr th {\n",
       "        vertical-align: top;\n",
       "    }\n",
       "\n",
       "    .dataframe thead th {\n",
       "        text-align: right;\n",
       "    }\n",
       "</style>\n",
       "<table border=\"1\" class=\"dataframe\">\n",
       "  <thead>\n",
       "    <tr style=\"text-align: right;\">\n",
       "      <th></th>\n",
       "      <th>Bin</th>\n",
       "      <th>Count</th>\n",
       "    </tr>\n",
       "  </thead>\n",
       "  <tbody>\n",
       "    <tr>\n",
       "      <th>0</th>\n",
       "      <td>0%</td>\n",
       "      <td>85</td>\n",
       "    </tr>\n",
       "    <tr>\n",
       "      <th>1</th>\n",
       "      <td>1%</td>\n",
       "      <td>40</td>\n",
       "    </tr>\n",
       "    <tr>\n",
       "      <th>2</th>\n",
       "      <td>2%</td>\n",
       "      <td>32</td>\n",
       "    </tr>\n",
       "    <tr>\n",
       "      <th>3</th>\n",
       "      <td>3%</td>\n",
       "      <td>33</td>\n",
       "    </tr>\n",
       "    <tr>\n",
       "      <th>4</th>\n",
       "      <td>5%</td>\n",
       "      <td>43</td>\n",
       "    </tr>\n",
       "    <tr>\n",
       "      <th>5</th>\n",
       "      <td>15%</td>\n",
       "      <td>73</td>\n",
       "    </tr>\n",
       "    <tr>\n",
       "      <th>6</th>\n",
       "      <td>35%</td>\n",
       "      <td>22</td>\n",
       "    </tr>\n",
       "  </tbody>\n",
       "</table>\n",
       "</div>"
      ],
      "text/plain": [
       "   Bin  Count\n",
       "0   0%     85\n",
       "1   1%     40\n",
       "2   2%     32\n",
       "3   3%     33\n",
       "4   5%     43\n",
       "5  15%     73\n",
       "6  35%     22"
      ]
     },
     "execution_count": 64,
     "metadata": {},
     "output_type": "execute_result"
    }
   ],
   "source": [
    "c_df"
   ]
  },
  {
   "cell_type": "code",
   "execution_count": 65,
   "metadata": {},
   "outputs": [],
   "source": [
    "ga_values_dict = dict()\n",
    "ga_values_dict['Gap'] = ga_values\n",
    "ga_hist_df = pd.DataFrame(ga_values_dict)\n",
    "gurobi_values_dict = dict()\n",
    "gurobi_values_dict['Gap'] = gurobi_values\n",
    "guorbi_hist_df = pd.DataFrame(gurobi_values)\n"
   ]
  },
  {
   "cell_type": "code",
   "execution_count": 66,
   "metadata": {},
   "outputs": [
    {
     "data": {
      "text/plain": [
       "<AxesSubplot: xlabel='Gap', ylabel='Count'>"
      ]
     },
     "execution_count": 66,
     "metadata": {},
     "output_type": "execute_result"
    },
    {
     "data": {
      "image/png": "[encoded data removed]",
      "text/plain": [
       "<Figure size 640x480 with 1 Axes>"
      ]
     },
     "metadata": {},
     "output_type": "display_data"
    }
   ],
   "source": [
    "sns.histplot(data=ga_hist_df, x='Gap', kde=True)\n"
   ]
  },
  {
   "cell_type": "code",
   "execution_count": 67,
   "metadata": {},
   "outputs": [
    {
     "data": {
      "text/plain": [
       "<AxesSubplot: xlabel='Gap'>"
      ]
     },
     "execution_count": 67,
     "metadata": {},
     "output_type": "execute_result"
    },
    {
     "data": {
      "image/png": "[encoded data removed]",
      "text/plain": [
       "<Figure size 640x480 with 1 Axes>"
      ]
     },
     "metadata": {},
     "output_type": "display_data"
    }
   ],
   "source": [
    "sns.barplot(data=ga_hist_df, x='Gap')"
   ]
  },
  {
   "cell_type": "code",
   "execution_count": 68,
   "metadata": {},
   "outputs": [
    {
     "data": {
      "text/plain": [
       "<AxesSubplot: xlabel='Gap', ylabel='Count'>"
      ]
     },
     "execution_count": 68,
     "metadata": {},
     "output_type": "execute_result"
    },
    {
     "data": {
      "image/png": "[encoded data removed]",
      "text/plain": [
       "<Figure size 640x480 with 1 Axes>"
      ]
     },
     "metadata": {},
     "output_type": "display_data"
    }
   ],
   "source": [
    "sns.histplot(data=ga_hist_df, x='Gap', bins=bins, multiple='dodge')\n",
    "sns.histplot(data=gurobi_values_dict, x='Gap', bins=bins, multiple='dodge')"
   ]
  },
  {
   "cell_type": "code",
   "execution_count": 69,
   "metadata": {},
   "outputs": [],
   "source": [
    "differences = dict()\n",
    "for key in data.keys():\n",
    "    differences[key] = [data[key][0] - data[key][1], data[key][0] - data[key][2], data[key][1] - data[key][2]]"
   ]
  },
  {
   "cell_type": "code",
   "execution_count": 70,
   "metadata": {},
   "outputs": [],
   "source": [
    "ga_wins = []\n",
    "gurobi_wins = []\n",
    "lit_wins = []\n",
    "overall_ties = []\n",
    "ties = []\n",
    "ga = []\n",
    "lit = []\n",
    "for key in differences.keys(): # 0 -> GA - Lit\n",
    "    #if not key.startswith('2a'):\n",
    "        if differences[key][0] == 0:\n",
    "            ties.append(key)\n",
    "            if key not in overall_ties:\n",
    "                overall_ties.append(key)\n",
    "        elif differences[key][0] >0:\n",
    "            lit.append(key)\n",
    "            if not key in lit_wins:\n",
    "                lit_wins.append(key)\n",
    "        else:\n",
    "            ga.append(key)\n",
    "            ga_wins.append(key)"
   ]
  },
  {
   "cell_type": "code",
   "execution_count": 71,
   "metadata": {},
   "outputs": [
    {
     "name": "stdout",
     "output_type": "stream",
     "text": [
      "Ties:80\n",
      "Lit:226\n",
      "GA:30\n"
     ]
    }
   ],
   "source": [
    "print(f'Ties:{len(ties)}')\n",
    "print(f'Lit:{len(lit)}')\n",
    "print(f'GA:{len(ga)}')"
   ]
  },
  {
   "cell_type": "code",
   "execution_count": 72,
   "metadata": {},
   "outputs": [
    {
     "name": "stdout",
     "output_type": "stream",
     "text": [
      "Key: 1_Brandimarte11: -1.0\n",
      "Key: 0_BehnkeGeiger26: -1.0\n",
      "Key: 0_BehnkeGeiger27: -1.0\n",
      "Key: 0_BehnkeGeiger29: -3.0\n",
      "Key: 0_BehnkeGeiger31: -2.0\n",
      "Key: 0_BehnkeGeiger34: -9.0\n",
      "Key: 0_BehnkeGeiger35: -3.0\n",
      "Key: 0_BehnkeGeiger36: -4.0\n",
      "Key: 0_BehnkeGeiger46: -1.0\n",
      "Key: 0_BehnkeGeiger47: -3.0\n",
      "Key: 0_BehnkeGeiger48: -3.0\n",
      "Key: 0_BehnkeGeiger49: -1.0\n",
      "Key: 0_BehnkeGeiger51: -2.0\n",
      "Key: 0_BehnkeGeiger52: -6.0\n",
      "Key: 0_BehnkeGeiger53: -6.0\n",
      "Key: 0_BehnkeGeiger54: -7.0\n",
      "Key: 0_BehnkeGeiger55: -3.0\n",
      "Key: 0_BehnkeGeiger56: -22.0\n",
      "Key: 0_BehnkeGeiger57: -22.0\n",
      "Key: 0_BehnkeGeiger58: -15.0\n",
      "Key: 0_BehnkeGeiger59: -11.0\n",
      "Key: 0_BehnkeGeiger60: -6.0\n",
      "Key: 5_Kacem4: -1.0\n",
      "Key: 6_Fattahi19: -10.0\n",
      "Key: 2b_Hurink_edata50: -10.0\n",
      "Key: 2b_Hurink_edata54: -339.0\n",
      "Key: 2b_Hurink_edata60: -11.0\n",
      "Key: 2b_Hurink_edata62: -16.0\n",
      "Key: 2d_Hurink_vdata49: -5.0\n",
      "Key: 2d_Hurink_vdata52: -1.0\n"
     ]
    }
   ],
   "source": [
    "for key in ga:\n",
    "    print(f'Key: {key}: {differences[key][0]}')"
   ]
  },
  {
   "cell_type": "code",
   "execution_count": 73,
   "metadata": {},
   "outputs": [],
   "source": [
    "ties = []\n",
    "ga = []\n",
    "lit = []\n",
    "for key in differences.keys(): # 1 -> Lit - Gurobi\n",
    "    if not key.startswith('2a'):\n",
    "        if differences[key][2] == 0:\n",
    "            ties.append(key)\n",
    "            if key not in overall_ties:\n",
    "                overall_ties.append(key)\n",
    "        elif differences[key][2] < 0:\n",
    "            lit.append(key)\n",
    "            if not key in lit_wins:\n",
    "                lit_wins.append(key)\n",
    "        else:\n",
    "            ga.append(key)\n",
    "            gurobi_wins.append(key)\n"
   ]
  },
  {
   "cell_type": "code",
   "execution_count": 74,
   "metadata": {},
   "outputs": [
    {
     "name": "stdout",
     "output_type": "stream",
     "text": [
      "Ties:128\n",
      "Lit:141\n",
      "Gurobi:67\n"
     ]
    }
   ],
   "source": [
    "print(f'Ties:{len(ties)}')\n",
    "print(f'Lit:{len(lit)}')\n",
    "print(f'Gurobi:{len(ga)}')"
   ]
  },
  {
   "cell_type": "code",
   "execution_count": 75,
   "metadata": {},
   "outputs": [
    {
     "name": "stdout",
     "output_type": "stream",
     "text": [
      "Key: 0_BehnkeGeiger1: 2.0\n",
      "Key: 0_BehnkeGeiger16: 283.0\n",
      "Key: 0_BehnkeGeiger19: 272.0\n",
      "Key: 0_BehnkeGeiger20: 253.0\n",
      "Key: 0_BehnkeGeiger23: 1.0\n",
      "Key: 0_BehnkeGeiger26: 4.0\n",
      "Key: 0_BehnkeGeiger27: 2.0\n",
      "Key: 0_BehnkeGeiger28: 2.0\n",
      "Key: 0_BehnkeGeiger29: -2.0\n",
      "Key: 0_BehnkeGeiger30: 6.0\n",
      "Key: 0_BehnkeGeiger31: 1.0\n",
      "Key: 0_BehnkeGeiger32: 6.0\n",
      "Key: 0_BehnkeGeiger35: 6.0\n",
      "Key: 0_BehnkeGeiger36: 62.0\n",
      "Key: 0_BehnkeGeiger38: 87.0\n",
      "Key: 0_BehnkeGeiger39: 89.0\n",
      "Key: 0_BehnkeGeiger40: 89.0\n",
      "Key: 0_BehnkeGeiger44: 2.0\n",
      "Key: 0_BehnkeGeiger46: 3.0\n",
      "Key: 0_BehnkeGeiger47: 1.0\n",
      "Key: 0_BehnkeGeiger48: 3.0\n",
      "Key: 0_BehnkeGeiger49: 4.0\n",
      "Key: 0_BehnkeGeiger50: 6.0\n",
      "Key: 0_BehnkeGeiger51: 3.0\n",
      "Key: 0_BehnkeGeiger52: 4.0\n",
      "Key: 0_BehnkeGeiger53: 3.0\n",
      "Key: 0_BehnkeGeiger54: 3.0\n",
      "Key: 0_BehnkeGeiger55: 0.0\n",
      "Key: 0_BehnkeGeiger56: 55.0\n",
      "Key: 0_BehnkeGeiger57: 36.0\n",
      "Key: 4_ChambersBarnes7: 22.0\n",
      "Key: 4_ChambersBarnes11: 48.0\n",
      "Key: 4_ChambersBarnes12: 41.0\n",
      "Key: 4_ChambersBarnes14: 45.0\n",
      "Key: 4_ChambersBarnes18: 98.0\n",
      "Key: 4_ChambersBarnes20: 84.0\n",
      "Key: 4_ChambersBarnes21: 72.0\n",
      "Key: 0_BehnkeGeiger58: 68.0\n",
      "Key: 0_BehnkeGeiger59: 81.0\n",
      "Key: 5_Kacem4: 0.0\n",
      "Key: 2b_Hurink_edata25: 67.0\n",
      "Key: 2b_Hurink_edata28: 55.0\n",
      "Key: 2b_Hurink_edata44: 21.0\n",
      "Key: 2b_Hurink_edata50: 118.0\n",
      "Key: 2b_Hurink_edata54: 149.0\n",
      "Key: 2b_Hurink_edata57: 40.0\n",
      "Key: 2b_Hurink_edata58: 22.0\n",
      "Key: 2b_Hurink_edata59: 28.0\n",
      "Key: 2b_Hurink_edata60: 21.0\n",
      "Key: 2b_Hurink_edata61: 30.0\n",
      "Key: 2b_Hurink_edata62: 30.0\n",
      "Key: 2b_Hurink_edata66: 14.0\n",
      "Key: 2c_Hurink_rdata23: 8.0\n",
      "Key: 2c_Hurink_rdata39: 164.0\n",
      "Key: 2c_Hurink_rdata41: 151.0\n",
      "Key: 2c_Hurink_rdata44: 31.0\n",
      "Key: 2c_Hurink_rdata53: 138.0\n",
      "Key: 2c_Hurink_rdata55: 7.0\n",
      "Key: 2c_Hurink_rdata57: 33.0\n",
      "Key: 2c_Hurink_rdata58: 32.0\n",
      "Key: 2c_Hurink_rdata59: 34.0\n",
      "Key: 2c_Hurink_rdata61: 28.0\n",
      "Key: 2c_Hurink_rdata62: 29.0\n",
      "Key: 2c_Hurink_rdata64: 17.0\n",
      "Key: 2c_Hurink_rdata66: 27.0\n",
      "Key: 2d_Hurink_vdata44: 42.0\n",
      "Key: 2d_Hurink_vdata52: 0.0\n"
     ]
    }
   ],
   "source": [
    "for key in ga:\n",
    "    print(f'Key: {key}: {differences[key][1]}')"
   ]
  },
  {
   "cell_type": "code",
   "execution_count": 76,
   "metadata": {},
   "outputs": [],
   "source": [
    "ties = []\n",
    "ga = []\n",
    "lit = []\n",
    "for key in differences.keys(): # 1 -> GA - Gurobi\n",
    "    if differences[key][1] == 0:\n",
    "        ties.append(key)\n",
    "    elif differences[key][1] > 0:\n",
    "        lit.append(key)\n",
    "    else:\n",
    "        ga.append(key)"
   ]
  },
  {
   "cell_type": "code",
   "execution_count": 77,
   "metadata": {},
   "outputs": [
    {
     "name": "stdout",
     "output_type": "stream",
     "text": [
      "Ties:80\n",
      "Gurobi:203\n",
      "GA:53\n"
     ]
    }
   ],
   "source": [
    "print(f'Ties:{len(ties)}')\n",
    "print(f'Gurobi:{len(lit)}')\n",
    "print(f'GA:{len(ga)}')"
   ]
  },
  {
   "cell_type": "code",
   "execution_count": 78,
   "metadata": {},
   "outputs": [
    {
     "name": "stdout",
     "output_type": "stream",
     "text": [
      "Gurobi\n",
      "['1_Brandimarte9', '1_Brandimarte10', '1_Brandimarte13', '1_Brandimarte15', '0_BehnkeGeiger1', '0_BehnkeGeiger2', '0_BehnkeGeiger3', '0_BehnkeGeiger4', '0_BehnkeGeiger5', '0_BehnkeGeiger9', '0_BehnkeGeiger11', '0_BehnkeGeiger12', '0_BehnkeGeiger13', '0_BehnkeGeiger14', '0_BehnkeGeiger15', '0_BehnkeGeiger16', '0_BehnkeGeiger17', '0_BehnkeGeiger18', '0_BehnkeGeiger19', '0_BehnkeGeiger20', '0_BehnkeGeiger21', '0_BehnkeGeiger22', '0_BehnkeGeiger23', '0_BehnkeGeiger25', '0_BehnkeGeiger26', '0_BehnkeGeiger27', '0_BehnkeGeiger28', '0_BehnkeGeiger30', '0_BehnkeGeiger31', '0_BehnkeGeiger32', '0_BehnkeGeiger33', '0_BehnkeGeiger35', '0_BehnkeGeiger36', '0_BehnkeGeiger38', '0_BehnkeGeiger39', '0_BehnkeGeiger40', '0_BehnkeGeiger42', '0_BehnkeGeiger43', '0_BehnkeGeiger44', '0_BehnkeGeiger46', '0_BehnkeGeiger47', '0_BehnkeGeiger48', '0_BehnkeGeiger49', '0_BehnkeGeiger50', '0_BehnkeGeiger51', '0_BehnkeGeiger52', '0_BehnkeGeiger53', '0_BehnkeGeiger54', '0_BehnkeGeiger56', '0_BehnkeGeiger57', '4_ChambersBarnes1', '4_ChambersBarnes2', '4_ChambersBarnes3', '4_ChambersBarnes4', '4_ChambersBarnes5', '4_ChambersBarnes6', '4_ChambersBarnes7', '4_ChambersBarnes8', '4_ChambersBarnes9', '4_ChambersBarnes10', '4_ChambersBarnes11', '4_ChambersBarnes12', '4_ChambersBarnes13', '4_ChambersBarnes14', '4_ChambersBarnes15', '4_ChambersBarnes16', '4_ChambersBarnes17', '4_ChambersBarnes18', '4_ChambersBarnes19', '4_ChambersBarnes20', '4_ChambersBarnes21', '0_BehnkeGeiger58', '0_BehnkeGeiger59', '6_Fattahi20', '3_DPpaulli7', '3_DPpaulli9', '3_DPpaulli13', '3_DPpaulli14', '3_DPpaulli16', '3_DPpaulli17', '2b_Hurink_edata2', '2b_Hurink_edata3', '2b_Hurink_edata6', '2b_Hurink_edata10', '2b_Hurink_edata18', '2b_Hurink_edata19', '2b_Hurink_edata21', '2b_Hurink_edata22', '2b_Hurink_edata23', '2b_Hurink_edata24', '2b_Hurink_edata25', '2b_Hurink_edata26', '2b_Hurink_edata27', '2b_Hurink_edata28', '2b_Hurink_edata29', '2b_Hurink_edata30', '2b_Hurink_edata31', '2b_Hurink_edata32', '2b_Hurink_edata33', '2b_Hurink_edata35', '2b_Hurink_edata36', '2b_Hurink_edata37', '2b_Hurink_edata38', '2b_Hurink_edata39', '2b_Hurink_edata40', '2b_Hurink_edata41', '2b_Hurink_edata42', '2b_Hurink_edata43', '2b_Hurink_edata44', '2b_Hurink_edata45', '2b_Hurink_edata46', '2b_Hurink_edata47', '2b_Hurink_edata48', '2b_Hurink_edata49', '2b_Hurink_edata50', '2b_Hurink_edata51', '2b_Hurink_edata54', '2b_Hurink_edata57', '2b_Hurink_edata58', '2b_Hurink_edata59', '2b_Hurink_edata60', '2b_Hurink_edata61', '2b_Hurink_edata62', '2b_Hurink_edata63', '2b_Hurink_edata64', '2b_Hurink_edata65', '2b_Hurink_edata66', '2c_Hurink_rdata2', '2c_Hurink_rdata4', '2c_Hurink_rdata5', '2c_Hurink_rdata7', '2c_Hurink_rdata19', '2c_Hurink_rdata21', '2c_Hurink_rdata22', '2c_Hurink_rdata23', '2c_Hurink_rdata24', '2c_Hurink_rdata25', '2c_Hurink_rdata26', '2c_Hurink_rdata27', '2c_Hurink_rdata28', '2c_Hurink_rdata29', '2c_Hurink_rdata30', '2c_Hurink_rdata31', '2c_Hurink_rdata32', '2c_Hurink_rdata33', '2c_Hurink_rdata39', '2c_Hurink_rdata40', '2c_Hurink_rdata41', '2c_Hurink_rdata42', '2c_Hurink_rdata43', '2c_Hurink_rdata44', '2c_Hurink_rdata45', '2c_Hurink_rdata46', '2c_Hurink_rdata47', '2c_Hurink_rdata48', '2c_Hurink_rdata49', '2c_Hurink_rdata50', '2c_Hurink_rdata51', '2c_Hurink_rdata53', '2c_Hurink_rdata54', '2c_Hurink_rdata55', '2c_Hurink_rdata56', '2c_Hurink_rdata57', '2c_Hurink_rdata58', '2c_Hurink_rdata59', '2c_Hurink_rdata60', '2c_Hurink_rdata61', '2c_Hurink_rdata62', '2c_Hurink_rdata63', '2c_Hurink_rdata64', '2c_Hurink_rdata65', '2c_Hurink_rdata66', '2d_Hurink_vdata4', '2d_Hurink_vdata5', '2d_Hurink_vdata8', '2d_Hurink_vdata22', '2d_Hurink_vdata24', '2d_Hurink_vdata25', '2d_Hurink_vdata26', '2d_Hurink_vdata27', '2d_Hurink_vdata28', '2d_Hurink_vdata30', '2d_Hurink_vdata33', '2d_Hurink_vdata34', '2d_Hurink_vdata35', '2d_Hurink_vdata36', '2d_Hurink_vdata37', '2d_Hurink_vdata38', '2d_Hurink_vdata39', '2d_Hurink_vdata40', '2d_Hurink_vdata41', '2d_Hurink_vdata42', '2d_Hurink_vdata43', '2d_Hurink_vdata44', '2d_Hurink_vdata46', '2d_Hurink_vdata47', '2d_Hurink_vdata48', '2d_Hurink_vdata50', '2d_Hurink_vdata51', '2d_Hurink_vdata53', '2d_Hurink_vdata58', '2d_Hurink_vdata61', '2d_Hurink_vdata63']\n",
      "GA\n",
      "['1_Brandimarte2', '1_Brandimarte6', '1_Brandimarte7', '1_Brandimarte11', '0_BehnkeGeiger6', '0_BehnkeGeiger7', '0_BehnkeGeiger8', '0_BehnkeGeiger10', '0_BehnkeGeiger29', '0_BehnkeGeiger34', '0_BehnkeGeiger37', '0_BehnkeGeiger60', '6_Fattahi19', '3_DPpaulli1', '3_DPpaulli2', '3_DPpaulli3', '3_DPpaulli4', '3_DPpaulli5', '3_DPpaulli6', '3_DPpaulli8', '3_DPpaulli10', '3_DPpaulli11', '3_DPpaulli12', '3_DPpaulli15', '3_DPpaulli18', '2b_Hurink_edata34', '2c_Hurink_rdata3', '2c_Hurink_rdata9', '2c_Hurink_rdata10', '2c_Hurink_rdata11', '2c_Hurink_rdata12', '2c_Hurink_rdata13', '2c_Hurink_rdata14', '2c_Hurink_rdata15', '2c_Hurink_rdata16', '2c_Hurink_rdata17', '2c_Hurink_rdata18', '2c_Hurink_rdata34', '2c_Hurink_rdata35', '2c_Hurink_rdata36', '2c_Hurink_rdata37', '2c_Hurink_rdata38', '2c_Hurink_rdata52', '2d_Hurink_vdata3', '2d_Hurink_vdata11', '2d_Hurink_vdata14', '2d_Hurink_vdata15', '2d_Hurink_vdata16', '2d_Hurink_vdata17', '2d_Hurink_vdata29', '2d_Hurink_vdata31', '2d_Hurink_vdata32', '2d_Hurink_vdata49']\n",
      "TIE\n",
      "['1_Brandimarte1', '1_Brandimarte3', '1_Brandimarte4', '1_Brandimarte5', '1_Brandimarte8', '1_Brandimarte12', '1_Brandimarte14', '0_BehnkeGeiger24', '0_BehnkeGeiger41', '0_BehnkeGeiger45', '0_BehnkeGeiger55', '5_Kacem1', '5_Kacem2', '5_Kacem3', '5_Kacem4', '6_Fattahi1', '6_Fattahi2', '6_Fattahi3', '6_Fattahi4', '6_Fattahi5', '6_Fattahi6', '6_Fattahi7', '6_Fattahi8', '6_Fattahi9', '6_Fattahi10', '6_Fattahi11', '6_Fattahi12', '6_Fattahi13', '6_Fattahi14', '6_Fattahi15', '6_Fattahi16', '6_Fattahi17', '6_Fattahi18', '2b_Hurink_edata1', '2b_Hurink_edata4', '2b_Hurink_edata5', '2b_Hurink_edata7', '2b_Hurink_edata8', '2b_Hurink_edata9', '2b_Hurink_edata11', '2b_Hurink_edata12', '2b_Hurink_edata13', '2b_Hurink_edata14', '2b_Hurink_edata15', '2b_Hurink_edata16', '2b_Hurink_edata17', '2b_Hurink_edata20', '2b_Hurink_edata52', '2b_Hurink_edata53', '2b_Hurink_edata55', '2b_Hurink_edata56', '2c_Hurink_rdata1', '2c_Hurink_rdata6', '2c_Hurink_rdata8', '2c_Hurink_rdata20', '2d_Hurink_vdata1', '2d_Hurink_vdata2', '2d_Hurink_vdata6', '2d_Hurink_vdata7', '2d_Hurink_vdata9', '2d_Hurink_vdata10', '2d_Hurink_vdata12', '2d_Hurink_vdata13', '2d_Hurink_vdata18', '2d_Hurink_vdata19', '2d_Hurink_vdata20', '2d_Hurink_vdata21', '2d_Hurink_vdata23', '2d_Hurink_vdata45', '2d_Hurink_vdata52', '2d_Hurink_vdata54', '2d_Hurink_vdata55', '2d_Hurink_vdata56', '2d_Hurink_vdata57', '2d_Hurink_vdata59', '2d_Hurink_vdata60', '2d_Hurink_vdata62', '2d_Hurink_vdata64', '2d_Hurink_vdata65', '2d_Hurink_vdata66']\n"
     ]
    }
   ],
   "source": [
    "gurobi = lit\n",
    "print('Gurobi')\n",
    "print(gurobi)\n",
    "print('GA')\n",
    "print(ga)\n",
    "print('TIE')\n",
    "print(ties)"
   ]
  },
  {
   "cell_type": "code",
   "execution_count": 79,
   "metadata": {},
   "outputs": [],
   "source": [
    "cleaned_gurobi = []\n",
    "cleaned_ga = []\n",
    "cleaned_ties = []\n",
    "for entry in gurobi:\n",
    "    i = len(entry)-1\n",
    "    while i > 0 and entry[i].isnumeric():\n",
    "        i-=1\n",
    "    cleaned_gurobi.append((entry[:i+1], int(entry[i+1:])))\n",
    "for entry in ga:\n",
    "    i = len(entry)-1\n",
    "    while i > 0 and entry[i].isnumeric():\n",
    "        i-=1\n",
    "    cleaned_ga.append((entry[:i+1], int(entry[i+1:])))\n",
    "for entry in ties:\n",
    "    i = len(entry)-1\n",
    "    while i > 0 and entry[i].isnumeric():\n",
    "        i-=1\n",
    "    cleaned_ties.append((entry[:i+1], int(entry[i+1:])))\n",
    "\n"
   ]
  },
  {
   "cell_type": "code",
   "execution_count": 80,
   "metadata": {},
   "outputs": [
    {
     "name": "stdout",
     "output_type": "stream",
     "text": [
      "Key: 1_Brandimarte2: -1.0\n",
      "Key: 1_Brandimarte6: -6.0\n",
      "Key: 1_Brandimarte7: -5.0\n",
      "Key: 1_Brandimarte11: -11.0\n",
      "Key: 0_BehnkeGeiger6: -11.0\n",
      "Key: 0_BehnkeGeiger7: -9.0\n",
      "Key: 0_BehnkeGeiger8: -7.0\n",
      "Key: 0_BehnkeGeiger10: -7.0\n",
      "Key: 0_BehnkeGeiger29: 1.0\n",
      "Key: 0_BehnkeGeiger34: -1.0\n",
      "Key: 0_BehnkeGeiger37: -13.0\n",
      "Key: 0_BehnkeGeiger60: -15.0\n",
      "Key: 6_Fattahi19: -10.0\n",
      "Key: 3_DPpaulli1: -155.0\n",
      "Key: 3_DPpaulli2: -117.0\n",
      "Key: 3_DPpaulli3: -74.0\n",
      "Key: 3_DPpaulli4: -121.0\n",
      "Key: 3_DPpaulli5: -183.0\n",
      "Key: 3_DPpaulli6: -120.0\n",
      "Key: 3_DPpaulli8: -216.0\n",
      "Key: 3_DPpaulli10: -319.0\n",
      "Key: 3_DPpaulli11: -221.0\n",
      "Key: 3_DPpaulli12: -349.0\n",
      "Key: 3_DPpaulli15: -508.0\n",
      "Key: 3_DPpaulli18: -1089.0\n",
      "Key: 2b_Hurink_edata34: -170.0\n",
      "Key: 2c_Hurink_rdata3: -4.0\n",
      "Key: 2c_Hurink_rdata9: -2.0\n",
      "Key: 2c_Hurink_rdata10: -1.0\n",
      "Key: 2c_Hurink_rdata11: -2.0\n",
      "Key: 2c_Hurink_rdata12: -2.0\n",
      "Key: 2c_Hurink_rdata13: -3.0\n",
      "Key: 2c_Hurink_rdata14: -2.0\n",
      "Key: 2c_Hurink_rdata15: -2.0\n",
      "Key: 2c_Hurink_rdata16: -6.0\n",
      "Key: 2c_Hurink_rdata17: -5.0\n",
      "Key: 2c_Hurink_rdata18: -8.0\n",
      "Key: 2c_Hurink_rdata34: -56.0\n",
      "Key: 2c_Hurink_rdata35: -143.0\n",
      "Key: 2c_Hurink_rdata36: -100.0\n",
      "Key: 2c_Hurink_rdata37: -78.0\n",
      "Key: 2c_Hurink_rdata38: -104.0\n",
      "Key: 2c_Hurink_rdata52: -9.0\n",
      "Key: 2d_Hurink_vdata3: -5.0\n",
      "Key: 2d_Hurink_vdata11: -2.0\n",
      "Key: 2d_Hurink_vdata14: -3.0\n",
      "Key: 2d_Hurink_vdata15: -5.0\n",
      "Key: 2d_Hurink_vdata16: -4.0\n",
      "Key: 2d_Hurink_vdata17: -3.0\n",
      "Key: 2d_Hurink_vdata29: -33.0\n",
      "Key: 2d_Hurink_vdata31: -49.0\n",
      "Key: 2d_Hurink_vdata32: -44.0\n",
      "Key: 2d_Hurink_vdata49: -3.0\n"
     ]
    }
   ],
   "source": [
    "for key in ga:\n",
    "    print(f'Key: {key}: {differences[key][2]}')"
   ]
  },
  {
   "cell_type": "code",
   "execution_count": 81,
   "metadata": {},
   "outputs": [],
   "source": [
    "both_wins = []\n",
    "ga_overall_wins = []\n",
    "gurobi_overall_wins = []\n",
    "ga_gurobi_overall_ties = []\n",
    "lit_overall_wins = []\n",
    "lit_gurobi_tie = []\n",
    "lit_ga_tie = []\n",
    "lit_ties = []\n",
    "for key in differences.keys():\n",
    "    ga_win = differences[key][0] < 0\n",
    "    ga_tie = differences[key][0] == 0\n",
    "    gurobi_win = differences[key][2] > 0\n",
    "    gurobi_tie = differences[key][2] == 0\n",
    "    if ga_win or gurobi_win:\n",
    "        if ga_win and gurobi_win:\n",
    "            if differences[key][1] < 0:\n",
    "                ga_overall_wins.append(key)\n",
    "            elif differences[key][1] > 0:\n",
    "                gurobi_overall_wins.append(key)\n",
    "            else:\n",
    "                ga_gurobi_overall_ties.append(key)\n",
    "        elif ga_win:\n",
    "            ga_overall_wins.append(key)\n",
    "        else:\n",
    "            gurobi_overall_wins.append(key)\n",
    "    elif gurobi_tie or ga_tie:\n",
    "        if gurobi_tie and ga_tie:\n",
    "            overall_ties.append(key)\n",
    "        elif gurobi_tie:\n",
    "            lit_gurobi_tie.append(key)\n",
    "        else:\n",
    "            lit_ga_tie.append(key)\n",
    "    else:\n",
    "        lit_overall_wins.append(key)"
   ]
  },
  {
   "cell_type": "code",
   "execution_count": 82,
   "metadata": {},
   "outputs": [
    {
     "name": "stdout",
     "output_type": "stream",
     "text": [
      "478\n",
      "336\n"
     ]
    }
   ],
   "source": [
    "data_sum = len(ga_overall_wins) + len(gurobi_overall_wins) + len(lit_overall_wins) + len(ga_gurobi_overall_ties) + len(lit_gurobi_tie) + len(lit_ga_tie) + len(overall_ties)\n",
    "print(data_sum)\n",
    "print(len(differences.keys()))"
   ]
  },
  {
   "cell_type": "code",
   "execution_count": 83,
   "metadata": {},
   "outputs": [],
   "source": [
    "all_keys = []\n",
    "all_keys.extend(ga_overall_wins)\n",
    "all_keys.extend(gurobi_overall_wins)\n",
    "all_keys.extend(lit_overall_wins)\n",
    "all_keys.extend(lit_ga_tie)\n",
    "all_keys.extend(lit_gurobi_tie)\n",
    "all_keys.extend(overall_ties)\n",
    "all_keys.extend(ga_gurobi_overall_ties)"
   ]
  },
  {
   "cell_type": "code",
   "execution_count": 84,
   "metadata": {},
   "outputs": [
    {
     "name": "stdout",
     "output_type": "stream",
     "text": [
      "478\n"
     ]
    }
   ],
   "source": [
    "print(len(all_keys))"
   ]
  },
  {
   "cell_type": "code",
   "execution_count": 85,
   "metadata": {},
   "outputs": [
    {
     "data": {
      "text/plain": [
       "['1_Brandimarte11',\n",
       " '0_BehnkeGeiger29',\n",
       " '0_BehnkeGeiger34',\n",
       " '0_BehnkeGeiger60',\n",
       " '6_Fattahi19',\n",
       " '2d_Hurink_vdata49']"
      ]
     },
     "execution_count": 85,
     "metadata": {},
     "output_type": "execute_result"
    }
   ],
   "source": [
    "ga_overall_wins"
   ]
  },
  {
   "cell_type": "code",
   "execution_count": 86,
   "metadata": {},
   "outputs": [
    {
     "data": {
      "text/plain": [
       "['0_BehnkeGeiger55', '5_Kacem4', '2d_Hurink_vdata52']"
      ]
     },
     "execution_count": 86,
     "metadata": {},
     "output_type": "execute_result"
    }
   ],
   "source": [
    "ga_gurobi_overall_ties"
   ]
  },
  {
   "cell_type": "code",
   "execution_count": 87,
   "metadata": {},
   "outputs": [
    {
     "data": {
      "text/plain": [
       "['1_Brandimarte5',\n",
       " '1_Brandimarte6',\n",
       " '1_Brandimarte7',\n",
       " '1_Brandimarte9',\n",
       " '1_Brandimarte10',\n",
       " '1_Brandimarte13',\n",
       " '1_Brandimarte15',\n",
       " '0_BehnkeGeiger6',\n",
       " '0_BehnkeGeiger7',\n",
       " '0_BehnkeGeiger8',\n",
       " '0_BehnkeGeiger9',\n",
       " '0_BehnkeGeiger10',\n",
       " '0_BehnkeGeiger11',\n",
       " '0_BehnkeGeiger12',\n",
       " '0_BehnkeGeiger13',\n",
       " '0_BehnkeGeiger14',\n",
       " '0_BehnkeGeiger15',\n",
       " '0_BehnkeGeiger17',\n",
       " '0_BehnkeGeiger18',\n",
       " '0_BehnkeGeiger21',\n",
       " '0_BehnkeGeiger33',\n",
       " '0_BehnkeGeiger37',\n",
       " '4_ChambersBarnes16',\n",
       " '6_Fattahi20',\n",
       " '3_DPpaulli1',\n",
       " '3_DPpaulli2',\n",
       " '3_DPpaulli3',\n",
       " '3_DPpaulli4',\n",
       " '3_DPpaulli5',\n",
       " '3_DPpaulli6',\n",
       " '3_DPpaulli7',\n",
       " '3_DPpaulli8',\n",
       " '3_DPpaulli9',\n",
       " '3_DPpaulli10',\n",
       " '3_DPpaulli11',\n",
       " '3_DPpaulli12',\n",
       " '3_DPpaulli13',\n",
       " '3_DPpaulli14',\n",
       " '3_DPpaulli15',\n",
       " '3_DPpaulli16',\n",
       " '3_DPpaulli17',\n",
       " '3_DPpaulli18',\n",
       " '2b_Hurink_edata3',\n",
       " '2b_Hurink_edata14',\n",
       " '2b_Hurink_edata24',\n",
       " '2b_Hurink_edata26',\n",
       " '2b_Hurink_edata29',\n",
       " '2b_Hurink_edata30',\n",
       " '2b_Hurink_edata31',\n",
       " '2b_Hurink_edata32',\n",
       " '2b_Hurink_edata33',\n",
       " '2b_Hurink_edata34',\n",
       " '2b_Hurink_edata35',\n",
       " '2b_Hurink_edata36',\n",
       " '2b_Hurink_edata37',\n",
       " '2b_Hurink_edata38',\n",
       " '2b_Hurink_edata43',\n",
       " '2b_Hurink_edata46',\n",
       " '2b_Hurink_edata47',\n",
       " '2b_Hurink_edata48',\n",
       " '2c_Hurink_rdata3',\n",
       " '2c_Hurink_rdata4',\n",
       " '2c_Hurink_rdata5',\n",
       " '2c_Hurink_rdata6',\n",
       " '2c_Hurink_rdata7',\n",
       " '2c_Hurink_rdata8',\n",
       " '2c_Hurink_rdata9',\n",
       " '2c_Hurink_rdata11',\n",
       " '2c_Hurink_rdata12',\n",
       " '2c_Hurink_rdata13',\n",
       " '2c_Hurink_rdata24',\n",
       " '2c_Hurink_rdata25',\n",
       " '2c_Hurink_rdata26',\n",
       " '2c_Hurink_rdata27',\n",
       " '2c_Hurink_rdata28',\n",
       " '2c_Hurink_rdata29',\n",
       " '2c_Hurink_rdata30',\n",
       " '2c_Hurink_rdata31',\n",
       " '2c_Hurink_rdata32',\n",
       " '2c_Hurink_rdata33',\n",
       " '2c_Hurink_rdata34',\n",
       " '2c_Hurink_rdata35',\n",
       " '2c_Hurink_rdata36',\n",
       " '2c_Hurink_rdata37',\n",
       " '2c_Hurink_rdata38',\n",
       " '2c_Hurink_rdata40',\n",
       " '2c_Hurink_rdata43',\n",
       " '2c_Hurink_rdata46',\n",
       " '2c_Hurink_rdata47',\n",
       " '2c_Hurink_rdata48',\n",
       " '2c_Hurink_rdata49',\n",
       " '2c_Hurink_rdata51',\n",
       " '2c_Hurink_rdata52',\n",
       " '2d_Hurink_vdata3',\n",
       " '2d_Hurink_vdata4',\n",
       " '2d_Hurink_vdata5',\n",
       " '2d_Hurink_vdata6',\n",
       " '2d_Hurink_vdata7',\n",
       " '2d_Hurink_vdata8',\n",
       " '2d_Hurink_vdata9',\n",
       " '2d_Hurink_vdata10',\n",
       " '2d_Hurink_vdata11',\n",
       " '2d_Hurink_vdata12',\n",
       " '2d_Hurink_vdata13',\n",
       " '2d_Hurink_vdata16',\n",
       " '2d_Hurink_vdata18',\n",
       " '2d_Hurink_vdata24',\n",
       " '2d_Hurink_vdata25',\n",
       " '2d_Hurink_vdata26',\n",
       " '2d_Hurink_vdata27',\n",
       " '2d_Hurink_vdata28',\n",
       " '2d_Hurink_vdata29',\n",
       " '2d_Hurink_vdata30',\n",
       " '2d_Hurink_vdata31',\n",
       " '2d_Hurink_vdata32',\n",
       " '2d_Hurink_vdata33',\n",
       " '2d_Hurink_vdata34',\n",
       " '2d_Hurink_vdata35',\n",
       " '2d_Hurink_vdata36',\n",
       " '2d_Hurink_vdata37',\n",
       " '2d_Hurink_vdata38',\n",
       " '2d_Hurink_vdata46',\n",
       " '2d_Hurink_vdata47',\n",
       " '2d_Hurink_vdata48',\n",
       " '2d_Hurink_vdata51',\n",
       " '2d_Hurink_vdata53']"
      ]
     },
     "execution_count": 87,
     "metadata": {},
     "output_type": "execute_result"
    }
   ],
   "source": [
    "lit_overall_wins"
   ]
  },
  {
   "cell_type": "code",
   "execution_count": 88,
   "metadata": {},
   "outputs": [
    {
     "data": {
      "text/plain": [
       "['0_BehnkeGeiger1',\n",
       " '0_BehnkeGeiger16',\n",
       " '0_BehnkeGeiger19',\n",
       " '0_BehnkeGeiger20',\n",
       " '0_BehnkeGeiger23',\n",
       " '0_BehnkeGeiger26',\n",
       " '0_BehnkeGeiger27',\n",
       " '0_BehnkeGeiger28',\n",
       " '0_BehnkeGeiger30',\n",
       " '0_BehnkeGeiger31',\n",
       " '0_BehnkeGeiger32',\n",
       " '0_BehnkeGeiger35',\n",
       " '0_BehnkeGeiger36',\n",
       " '0_BehnkeGeiger38',\n",
       " '0_BehnkeGeiger39',\n",
       " '0_BehnkeGeiger40',\n",
       " '0_BehnkeGeiger44',\n",
       " '0_BehnkeGeiger46',\n",
       " '0_BehnkeGeiger47',\n",
       " '0_BehnkeGeiger48',\n",
       " '0_BehnkeGeiger49',\n",
       " '0_BehnkeGeiger50',\n",
       " '0_BehnkeGeiger51',\n",
       " '0_BehnkeGeiger52',\n",
       " '0_BehnkeGeiger53',\n",
       " '0_BehnkeGeiger54',\n",
       " '0_BehnkeGeiger56',\n",
       " '0_BehnkeGeiger57',\n",
       " '4_ChambersBarnes7',\n",
       " '4_ChambersBarnes11',\n",
       " '4_ChambersBarnes12',\n",
       " '4_ChambersBarnes14',\n",
       " '4_ChambersBarnes18',\n",
       " '4_ChambersBarnes20',\n",
       " '4_ChambersBarnes21',\n",
       " '0_BehnkeGeiger58',\n",
       " '0_BehnkeGeiger59',\n",
       " '2b_Hurink_edata25',\n",
       " '2b_Hurink_edata28',\n",
       " '2b_Hurink_edata44',\n",
       " '2b_Hurink_edata50',\n",
       " '2b_Hurink_edata54',\n",
       " '2b_Hurink_edata57',\n",
       " '2b_Hurink_edata58',\n",
       " '2b_Hurink_edata59',\n",
       " '2b_Hurink_edata60',\n",
       " '2b_Hurink_edata61',\n",
       " '2b_Hurink_edata62',\n",
       " '2b_Hurink_edata66',\n",
       " '2c_Hurink_rdata23',\n",
       " '2c_Hurink_rdata39',\n",
       " '2c_Hurink_rdata41',\n",
       " '2c_Hurink_rdata44',\n",
       " '2c_Hurink_rdata53',\n",
       " '2c_Hurink_rdata55',\n",
       " '2c_Hurink_rdata57',\n",
       " '2c_Hurink_rdata58',\n",
       " '2c_Hurink_rdata59',\n",
       " '2c_Hurink_rdata61',\n",
       " '2c_Hurink_rdata62',\n",
       " '2c_Hurink_rdata64',\n",
       " '2c_Hurink_rdata66',\n",
       " '2d_Hurink_vdata44']"
      ]
     },
     "execution_count": 88,
     "metadata": {},
     "output_type": "execute_result"
    }
   ],
   "source": [
    "gurobi_overall_wins"
   ]
  },
  {
   "cell_type": "code",
   "execution_count": 89,
   "metadata": {},
   "outputs": [
    {
     "name": "stdout",
     "output_type": "stream",
     "text": [
      "-3\n"
     ]
    }
   ],
   "source": [
    "print(len(gurobi_overall_wins) - 66) #adjust for sdata"
   ]
  },
  {
   "cell_type": "code",
   "execution_count": 90,
   "metadata": {},
   "outputs": [
    {
     "name": "stdout",
     "output_type": "stream",
     "text": [
      "126\n"
     ]
    }
   ],
   "source": [
    "print(len(lit_overall_wins))"
   ]
  },
  {
   "cell_type": "code",
   "execution_count": 91,
   "metadata": {},
   "outputs": [
    {
     "name": "stdout",
     "output_type": "stream",
     "text": [
      "6\n"
     ]
    }
   ],
   "source": [
    "print(len(ga_overall_wins))"
   ]
  },
  {
   "cell_type": "code",
   "execution_count": 92,
   "metadata": {},
   "outputs": [
    {
     "name": "stdout",
     "output_type": "stream",
     "text": [
      "3\n"
     ]
    }
   ],
   "source": [
    "print(len(ga_gurobi_overall_ties))"
   ]
  },
  {
   "cell_type": "code",
   "execution_count": 93,
   "metadata": {},
   "outputs": [
    {
     "name": "stdout",
     "output_type": "stream",
     "text": [
      "208\n"
     ]
    }
   ],
   "source": [
    "print(len(overall_ties))"
   ]
  },
  {
   "cell_type": "code",
   "execution_count": 94,
   "metadata": {},
   "outputs": [],
   "source": [
    "t = [x for x in differences.keys() if all(y == 0 for y in differences[x])]"
   ]
  },
  {
   "cell_type": "code",
   "execution_count": 95,
   "metadata": {},
   "outputs": [
    {
     "name": "stdout",
     "output_type": "stream",
     "text": [
      "142\n"
     ]
    }
   ],
   "source": [
    "doubles = []\n",
    "for value in data:\n",
    "    if all_keys.count(value) > 1:\n",
    "        doubles.append(value)\n",
    "print(len(doubles))"
   ]
  },
  {
   "cell_type": "code",
   "execution_count": 96,
   "metadata": {},
   "outputs": [
    {
     "data": {
      "text/plain": [
       "['1_Brandimarte1',\n",
       " '1_Brandimarte2',\n",
       " '1_Brandimarte3',\n",
       " '1_Brandimarte4',\n",
       " '1_Brandimarte8',\n",
       " '1_Brandimarte12',\n",
       " '1_Brandimarte14',\n",
       " '0_BehnkeGeiger23',\n",
       " '0_BehnkeGeiger24',\n",
       " '0_BehnkeGeiger28',\n",
       " '0_BehnkeGeiger41',\n",
       " '0_BehnkeGeiger45',\n",
       " '0_BehnkeGeiger50',\n",
       " '5_Kacem1',\n",
       " '5_Kacem2',\n",
       " '5_Kacem3',\n",
       " '6_Fattahi1',\n",
       " '6_Fattahi2',\n",
       " '6_Fattahi3',\n",
       " '6_Fattahi4',\n",
       " '6_Fattahi5',\n",
       " '6_Fattahi6',\n",
       " '6_Fattahi7',\n",
       " '6_Fattahi8',\n",
       " '6_Fattahi9',\n",
       " '6_Fattahi10',\n",
       " '6_Fattahi11',\n",
       " '6_Fattahi12',\n",
       " '6_Fattahi13',\n",
       " '6_Fattahi14',\n",
       " '6_Fattahi15',\n",
       " '6_Fattahi16',\n",
       " '6_Fattahi17',\n",
       " '6_Fattahi18',\n",
       " '2b_Hurink_edata1',\n",
       " '2b_Hurink_edata4',\n",
       " '2b_Hurink_edata5',\n",
       " '2b_Hurink_edata7',\n",
       " '2b_Hurink_edata8',\n",
       " '2b_Hurink_edata9',\n",
       " '2b_Hurink_edata11',\n",
       " '2b_Hurink_edata12',\n",
       " '2b_Hurink_edata13',\n",
       " '2b_Hurink_edata15',\n",
       " '2b_Hurink_edata16',\n",
       " '2b_Hurink_edata17',\n",
       " '2b_Hurink_edata20',\n",
       " '2b_Hurink_edata52',\n",
       " '2b_Hurink_edata53',\n",
       " '2b_Hurink_edata55',\n",
       " '2b_Hurink_edata56',\n",
       " '2c_Hurink_rdata1',\n",
       " '2c_Hurink_rdata10',\n",
       " '2c_Hurink_rdata14',\n",
       " '2c_Hurink_rdata15',\n",
       " '2c_Hurink_rdata16',\n",
       " '2c_Hurink_rdata17',\n",
       " '2c_Hurink_rdata18',\n",
       " '2c_Hurink_rdata20',\n",
       " '2c_Hurink_rdata55',\n",
       " '2d_Hurink_vdata1',\n",
       " '2d_Hurink_vdata2',\n",
       " '2d_Hurink_vdata14',\n",
       " '2d_Hurink_vdata15',\n",
       " '2d_Hurink_vdata17',\n",
       " '2d_Hurink_vdata19',\n",
       " '2d_Hurink_vdata20',\n",
       " '2d_Hurink_vdata21',\n",
       " '2d_Hurink_vdata23',\n",
       " '2d_Hurink_vdata45',\n",
       " '2d_Hurink_vdata54',\n",
       " '2d_Hurink_vdata55',\n",
       " '2d_Hurink_vdata56',\n",
       " '2d_Hurink_vdata57',\n",
       " '2d_Hurink_vdata59',\n",
       " '2d_Hurink_vdata60',\n",
       " '2d_Hurink_vdata62',\n",
       " '2d_Hurink_vdata64',\n",
       " '2d_Hurink_vdata65',\n",
       " '2d_Hurink_vdata66',\n",
       " '0_BehnkeGeiger2',\n",
       " '0_BehnkeGeiger3',\n",
       " '0_BehnkeGeiger4',\n",
       " '0_BehnkeGeiger5',\n",
       " '0_BehnkeGeiger22',\n",
       " '0_BehnkeGeiger25',\n",
       " '0_BehnkeGeiger42',\n",
       " '0_BehnkeGeiger43',\n",
       " '4_ChambersBarnes1',\n",
       " '4_ChambersBarnes2',\n",
       " '4_ChambersBarnes3',\n",
       " '4_ChambersBarnes4',\n",
       " '4_ChambersBarnes5',\n",
       " '4_ChambersBarnes6',\n",
       " '4_ChambersBarnes8',\n",
       " '4_ChambersBarnes9',\n",
       " '4_ChambersBarnes10',\n",
       " '4_ChambersBarnes13',\n",
       " '4_ChambersBarnes15',\n",
       " '4_ChambersBarnes17',\n",
       " '4_ChambersBarnes19',\n",
       " '2b_Hurink_edata2',\n",
       " '2b_Hurink_edata6',\n",
       " '2b_Hurink_edata10',\n",
       " '2b_Hurink_edata18',\n",
       " '2b_Hurink_edata19',\n",
       " '2b_Hurink_edata21',\n",
       " '2b_Hurink_edata22',\n",
       " '2b_Hurink_edata23',\n",
       " '2b_Hurink_edata27',\n",
       " '2b_Hurink_edata39',\n",
       " '2b_Hurink_edata40',\n",
       " '2b_Hurink_edata41',\n",
       " '2b_Hurink_edata42',\n",
       " '2b_Hurink_edata45',\n",
       " '2b_Hurink_edata49',\n",
       " '2b_Hurink_edata51',\n",
       " '2b_Hurink_edata63',\n",
       " '2b_Hurink_edata64',\n",
       " '2b_Hurink_edata65',\n",
       " '2c_Hurink_rdata2',\n",
       " '2c_Hurink_rdata19',\n",
       " '2c_Hurink_rdata21',\n",
       " '2c_Hurink_rdata22',\n",
       " '2c_Hurink_rdata42',\n",
       " '2c_Hurink_rdata45',\n",
       " '2c_Hurink_rdata50',\n",
       " '2c_Hurink_rdata54',\n",
       " '2c_Hurink_rdata56',\n",
       " '2c_Hurink_rdata60',\n",
       " '2c_Hurink_rdata63',\n",
       " '2c_Hurink_rdata65',\n",
       " '2d_Hurink_vdata22',\n",
       " '2d_Hurink_vdata39',\n",
       " '2d_Hurink_vdata40',\n",
       " '2d_Hurink_vdata41',\n",
       " '2d_Hurink_vdata42',\n",
       " '2d_Hurink_vdata43',\n",
       " '2d_Hurink_vdata50',\n",
       " '2d_Hurink_vdata58',\n",
       " '2d_Hurink_vdata61',\n",
       " '2d_Hurink_vdata63',\n",
       " '1_Brandimarte1',\n",
       " '1_Brandimarte3',\n",
       " '1_Brandimarte4',\n",
       " '1_Brandimarte8',\n",
       " '1_Brandimarte12',\n",
       " '1_Brandimarte14',\n",
       " '0_BehnkeGeiger24',\n",
       " '0_BehnkeGeiger41',\n",
       " '0_BehnkeGeiger45',\n",
       " '5_Kacem1',\n",
       " '5_Kacem2',\n",
       " '5_Kacem3',\n",
       " '6_Fattahi1',\n",
       " '6_Fattahi2',\n",
       " '6_Fattahi3',\n",
       " '6_Fattahi4',\n",
       " '6_Fattahi5',\n",
       " '6_Fattahi6',\n",
       " '6_Fattahi7',\n",
       " '6_Fattahi8',\n",
       " '6_Fattahi9',\n",
       " '6_Fattahi10',\n",
       " '6_Fattahi11',\n",
       " '6_Fattahi12',\n",
       " '6_Fattahi13',\n",
       " '6_Fattahi14',\n",
       " '6_Fattahi15',\n",
       " '6_Fattahi16',\n",
       " '6_Fattahi17',\n",
       " '6_Fattahi18',\n",
       " '2b_Hurink_edata1',\n",
       " '2b_Hurink_edata4',\n",
       " '2b_Hurink_edata5',\n",
       " '2b_Hurink_edata7',\n",
       " '2b_Hurink_edata8',\n",
       " '2b_Hurink_edata9',\n",
       " '2b_Hurink_edata11',\n",
       " '2b_Hurink_edata12',\n",
       " '2b_Hurink_edata13',\n",
       " '2b_Hurink_edata15',\n",
       " '2b_Hurink_edata16',\n",
       " '2b_Hurink_edata17',\n",
       " '2b_Hurink_edata20',\n",
       " '2b_Hurink_edata52',\n",
       " '2b_Hurink_edata53',\n",
       " '2b_Hurink_edata55',\n",
       " '2b_Hurink_edata56',\n",
       " '2c_Hurink_rdata1',\n",
       " '2c_Hurink_rdata20',\n",
       " '2d_Hurink_vdata1',\n",
       " '2d_Hurink_vdata2',\n",
       " '2d_Hurink_vdata19',\n",
       " '2d_Hurink_vdata20',\n",
       " '2d_Hurink_vdata21',\n",
       " '2d_Hurink_vdata23',\n",
       " '2d_Hurink_vdata45',\n",
       " '2d_Hurink_vdata54',\n",
       " '2d_Hurink_vdata55',\n",
       " '2d_Hurink_vdata56',\n",
       " '2d_Hurink_vdata57',\n",
       " '2d_Hurink_vdata59',\n",
       " '2d_Hurink_vdata60',\n",
       " '2d_Hurink_vdata62',\n",
       " '2d_Hurink_vdata64',\n",
       " '2d_Hurink_vdata65',\n",
       " '2d_Hurink_vdata66']"
      ]
     },
     "execution_count": 96,
     "metadata": {},
     "output_type": "execute_result"
    }
   ],
   "source": [
    "overall_ties"
   ]
  },
  {
   "cell_type": "code",
   "execution_count": 97,
   "metadata": {},
   "outputs": [
    {
     "data": {
      "text/plain": [
       "['1_Brandimarte11',\n",
       " '0_BehnkeGeiger29',\n",
       " '0_BehnkeGeiger34',\n",
       " '0_BehnkeGeiger60',\n",
       " '6_Fattahi19',\n",
       " '2d_Hurink_vdata49']"
      ]
     },
     "execution_count": 97,
     "metadata": {},
     "output_type": "execute_result"
    }
   ],
   "source": [
    "ga_overall_wins"
   ]
  },
  {
   "cell_type": "code",
   "execution_count": 98,
   "metadata": {},
   "outputs": [
    {
     "data": {
      "text/plain": [
       "['0_BehnkeGeiger1',\n",
       " '0_BehnkeGeiger16',\n",
       " '0_BehnkeGeiger19',\n",
       " '0_BehnkeGeiger20',\n",
       " '0_BehnkeGeiger23',\n",
       " '0_BehnkeGeiger26',\n",
       " '0_BehnkeGeiger27',\n",
       " '0_BehnkeGeiger28',\n",
       " '0_BehnkeGeiger30',\n",
       " '0_BehnkeGeiger31',\n",
       " '0_BehnkeGeiger32',\n",
       " '0_BehnkeGeiger35',\n",
       " '0_BehnkeGeiger36',\n",
       " '0_BehnkeGeiger38',\n",
       " '0_BehnkeGeiger39',\n",
       " '0_BehnkeGeiger40',\n",
       " '0_BehnkeGeiger44',\n",
       " '0_BehnkeGeiger46',\n",
       " '0_BehnkeGeiger47',\n",
       " '0_BehnkeGeiger48',\n",
       " '0_BehnkeGeiger49',\n",
       " '0_BehnkeGeiger50',\n",
       " '0_BehnkeGeiger51',\n",
       " '0_BehnkeGeiger52',\n",
       " '0_BehnkeGeiger53',\n",
       " '0_BehnkeGeiger54',\n",
       " '0_BehnkeGeiger56',\n",
       " '0_BehnkeGeiger57',\n",
       " '4_ChambersBarnes7',\n",
       " '4_ChambersBarnes11',\n",
       " '4_ChambersBarnes12',\n",
       " '4_ChambersBarnes14',\n",
       " '4_ChambersBarnes18',\n",
       " '4_ChambersBarnes20',\n",
       " '4_ChambersBarnes21',\n",
       " '0_BehnkeGeiger58',\n",
       " '0_BehnkeGeiger59',\n",
       " '2b_Hurink_edata25',\n",
       " '2b_Hurink_edata28',\n",
       " '2b_Hurink_edata44',\n",
       " '2b_Hurink_edata50',\n",
       " '2b_Hurink_edata54',\n",
       " '2b_Hurink_edata57',\n",
       " '2b_Hurink_edata58',\n",
       " '2b_Hurink_edata59',\n",
       " '2b_Hurink_edata60',\n",
       " '2b_Hurink_edata61',\n",
       " '2b_Hurink_edata62',\n",
       " '2b_Hurink_edata66',\n",
       " '2c_Hurink_rdata23',\n",
       " '2c_Hurink_rdata39',\n",
       " '2c_Hurink_rdata41',\n",
       " '2c_Hurink_rdata44',\n",
       " '2c_Hurink_rdata53',\n",
       " '2c_Hurink_rdata55',\n",
       " '2c_Hurink_rdata57',\n",
       " '2c_Hurink_rdata58',\n",
       " '2c_Hurink_rdata59',\n",
       " '2c_Hurink_rdata61',\n",
       " '2c_Hurink_rdata62',\n",
       " '2c_Hurink_rdata64',\n",
       " '2c_Hurink_rdata66',\n",
       " '2d_Hurink_vdata44']"
      ]
     },
     "execution_count": 98,
     "metadata": {},
     "output_type": "execute_result"
    }
   ],
   "source": [
    "gurobi_overall_wins"
   ]
  },
  {
   "cell_type": "code",
   "execution_count": 99,
   "metadata": {},
   "outputs": [
    {
     "data": {
      "text/plain": [
       "['0_BehnkeGeiger55', '5_Kacem4', '2d_Hurink_vdata52']"
      ]
     },
     "execution_count": 99,
     "metadata": {},
     "output_type": "execute_result"
    }
   ],
   "source": [
    "ga_gurobi_overall_ties"
   ]
  },
  {
   "cell_type": "code",
   "execution_count": 100,
   "metadata": {},
   "outputs": [],
   "source": [
    "ga_clean = cleaned_ga\n",
    "gurobi_clean = cleaned_gurobi\n",
    "ties_clean = cleaned_ties"
   ]
  },
  {
   "cell_type": "code",
   "execution_count": 101,
   "metadata": {},
   "outputs": [],
   "source": [
    "benchmarks = benchmark_data"
   ]
  },
  {
   "cell_type": "code",
   "execution_count": 102,
   "metadata": {},
   "outputs": [
    {
     "name": "stdout",
     "output_type": "stream",
     "text": [
      "[('1_Brandimarte', 2), ('1_Brandimarte', 6), ('1_Brandimarte', 7), ('1_Brandimarte', 11), ('0_BehnkeGeiger', 6), ('0_BehnkeGeiger', 7), ('0_BehnkeGeiger', 8), ('0_BehnkeGeiger', 10), ('0_BehnkeGeiger', 29), ('0_BehnkeGeiger', 34), ('0_BehnkeGeiger', 37), ('0_BehnkeGeiger', 60), ('6_Fattahi', 19), ('3_DPpaulli', 1), ('3_DPpaulli', 2), ('3_DPpaulli', 3), ('3_DPpaulli', 4), ('3_DPpaulli', 5), ('3_DPpaulli', 6), ('3_DPpaulli', 8), ('3_DPpaulli', 10), ('3_DPpaulli', 11), ('3_DPpaulli', 12), ('3_DPpaulli', 15), ('3_DPpaulli', 18), ('2b_Hurink_edata', 34), ('2c_Hurink_rdata', 3), ('2c_Hurink_rdata', 9), ('2c_Hurink_rdata', 10), ('2c_Hurink_rdata', 11), ('2c_Hurink_rdata', 12), ('2c_Hurink_rdata', 13), ('2c_Hurink_rdata', 14), ('2c_Hurink_rdata', 15), ('2c_Hurink_rdata', 16), ('2c_Hurink_rdata', 17), ('2c_Hurink_rdata', 18), ('2c_Hurink_rdata', 34), ('2c_Hurink_rdata', 35), ('2c_Hurink_rdata', 36), ('2c_Hurink_rdata', 37), ('2c_Hurink_rdata', 38), ('2c_Hurink_rdata', 52), ('2d_Hurink_vdata', 3), ('2d_Hurink_vdata', 11), ('2d_Hurink_vdata', 14), ('2d_Hurink_vdata', 15), ('2d_Hurink_vdata', 16), ('2d_Hurink_vdata', 17), ('2d_Hurink_vdata', 29), ('2d_Hurink_vdata', 31), ('2d_Hurink_vdata', 32), ('2d_Hurink_vdata', 49)]\n"
     ]
    }
   ],
   "source": [
    "print(ga_clean)"
   ]
  },
  {
   "cell_type": "code",
   "execution_count": 103,
   "metadata": {},
   "outputs": [],
   "source": [
    "def get_benchmark(source, instance):\n",
    "    for benchmark in benchmarks:\n",
    "        if benchmark['source'] == source and benchmark['instance'] == instance:\n",
    "            return benchmark"
   ]
  },
  {
   "cell_type": "code",
   "execution_count": 104,
   "metadata": {},
   "outputs": [],
   "source": [
    "all_data = dict()\n",
    "for entry in ga_clean:\n",
    "    benchmark = get_benchmark(entry[0], entry[1])\n",
    "    all_data[entry[0]+str(entry[1])] = {\n",
    "        'source': entry[0],\n",
    "        'instance': entry[1],\n",
    "        'ga' : data[entry[0]+str(entry[1])][0],\n",
    "        'gurobi': data[entry[0]+str(entry[1])][2],\n",
    "        'literature': data[entry[0]+str(entry[1])][1],\n",
    "        'beta': benchmark['beta_flexibility'],\n",
    "        'optimizer': 'GA',\n",
    "        'best': data[entry[0]+str(entry[1])][0]\n",
    "    }\n",
    "for entry in gurobi_clean:\n",
    "    benchmark = get_benchmark(entry[0], entry[1])\n",
    "    all_data[entry[0]+str(entry[1])] = {\n",
    "        'source': entry[0],\n",
    "        'instance': entry[1],\n",
    "        'ga' : data[entry[0]+str(entry[1])][0],\n",
    "        'gurobi': data[entry[0]+str(entry[1])][2],\n",
    "        'literature': data[entry[0]+str(entry[1])][1],\n",
    "        'beta': benchmark['beta_flexibility'],\n",
    "        'optimizer': 'Gurobi',\n",
    "        'best': data[entry[0]+str(entry[1])][2]\n",
    "    }\n",
    "for entry in ties_clean:\n",
    "    benchmark = get_benchmark(entry[0], entry[1])\n",
    "    all_data[entry[0]+str(entry[1])] = {\n",
    "        'source': entry[0],\n",
    "        'instance': entry[1],\n",
    "        'ga' : data[entry[0]+str(entry[1])][0],\n",
    "        'gurobi': data[entry[0]+str(entry[1])][2],\n",
    "        'literature': data[entry[0]+str(entry[1])][1],\n",
    "        'beta': benchmark['beta_flexibility'],\n",
    "        'optimizer': 'Tie',\n",
    "        'best': data[entry[0]+str(entry[1])][0]\n",
    "    }\n",
    "    "
   ]
  },
  {
   "cell_type": "code",
   "execution_count": 105,
   "metadata": {},
   "outputs": [
    {
     "name": "stdout",
     "output_type": "stream",
     "text": [
      "{'1_Brandimarte2': {'source': '1_Brandimarte', 'instance': 2, 'ga': 26.0, 'gurobi': 27, 'literature': 26.0, 'beta': 0.5833333333333334, 'optimizer': 'GA', 'best': 26.0}, '1_Brandimarte6': {'source': '1_Brandimarte', 'instance': 6, 'ga': 63.0, 'gurobi': 64, 'literature': 58.0, 'beta': 0.3, 'optimizer': 'GA', 'best': 63.0}, '1_Brandimarte7': {'source': '1_Brandimarte', 'instance': 7, 'ga': 141.0, 'gurobi': 144, 'literature': 139.0, 'beta': 0.6, 'optimizer': 'GA', 'best': 141.0}, '1_Brandimarte11': {'source': '1_Brandimarte', 'instance': 11, 'ga': 614.0, 'gurobi': 626, 'literature': 615.0, 'beta': 0.301675977653632, 'optimizer': 'GA', 'best': 614.0}, '0_BehnkeGeiger6': {'source': '0_BehnkeGeiger', 'instance': 6, 'ga': 135.0, 'gurobi': 142, 'literature': 131.0, 'beta': 0.33399999999999996, 'optimizer': 'GA', 'best': 135.0}, '0_BehnkeGeiger7': {'source': '0_BehnkeGeiger', 'instance': 7, 'ga': 135.0, 'gurobi': 139, 'literature': 130.0, 'beta': 0.32599999999999996, 'optimizer': 'GA', 'best': 135.0}, '0_BehnkeGeiger8': {'source': '0_BehnkeGeiger', 'instance': 8, 'ga': 133.0, 'gurobi': 135, 'literature': 128.0, 'beta': 0.322, 'optimizer': 'GA', 'best': 133.0}, '0_BehnkeGeiger10': {'source': '0_BehnkeGeiger', 'instance': 10, 'ga': 139.0, 'gurobi': 140, 'literature': 133.0, 'beta': 0.306, 'optimizer': 'GA', 'best': 139.0}, '0_BehnkeGeiger29': {'source': '0_BehnkeGeiger', 'instance': 29, 'ga': 122.0, 'gurobi': 124, 'literature': 125.0, 'beta': 0.34900000000000003, 'optimizer': 'GA', 'best': 122.0}, '0_BehnkeGeiger34': {'source': '0_BehnkeGeiger', 'instance': 34, 'ga': 256.0, 'gurobi': 266, 'literature': 265.0, 'beta': 0.3085, 'optimizer': 'GA', 'best': 256.0}, '0_BehnkeGeiger37': {'source': '0_BehnkeGeiger', 'instance': 37, 'ga': 543.0, 'gurobi': 549, 'literature': 536.0, 'beta': 0.305, 'optimizer': 'GA', 'best': 543.0}, '0_BehnkeGeiger60': {'source': '0_BehnkeGeiger', 'instance': 60, 'ga': 531.0, 'gurobi': 552, 'literature': 537.0, 'beta': 0.29416666666666663, 'optimizer': 'GA', 'best': 531.0}, '6_Fattahi19': {'source': '6_Fattahi', 'instance': 19, 'ga': 1060.0, 'gurobi': 1080, 'literature': 1070.0, 'beta': 0.2875, 'optimizer': 'GA', 'best': 1060.0}, '3_DPpaulli1': {'source': '3_DPpaulli', 'instance': 1, 'ga': 2606.0, 'gurobi': 2673, 'literature': 2518.0, 'beta': 0.2, 'optimizer': 'GA', 'best': 2606.0}, '3_DPpaulli2': {'source': '3_DPpaulli', 'instance': 2, 'ga': 2320.0, 'gurobi': 2348, 'literature': 2231.0, 'beta': 0.2, 'optimizer': 'GA', 'best': 2320.0}, '3_DPpaulli3': {'source': '3_DPpaulli', 'instance': 3, 'ga': 2268.0, 'gurobi': 2303, 'literature': 2229.0, 'beta': 0.2, 'optimizer': 'GA', 'best': 2268.0}, '3_DPpaulli4': {'source': '3_DPpaulli', 'instance': 4, 'ga': 2600.0, 'gurobi': 2624, 'literature': 2503.0, 'beta': 0.2, 'optimizer': 'GA', 'best': 2600.0}, '3_DPpaulli5': {'source': '3_DPpaulli', 'instance': 5, 'ga': 2310.0, 'gurobi': 2399, 'literature': 2216.0, 'beta': 0.2, 'optimizer': 'GA', 'best': 2310.0}, '3_DPpaulli6': {'source': '3_DPpaulli', 'instance': 6, 'ga': 2265.0, 'gurobi': 2316, 'literature': 2196.0, 'beta': 0.2, 'optimizer': 'GA', 'best': 2265.0}, '3_DPpaulli8': {'source': '3_DPpaulli', 'instance': 8, 'ga': 2197.0, 'gurobi': 2285, 'literature': 2069.0, 'beta': 0.125, 'optimizer': 'GA', 'best': 2197.0}, '3_DPpaulli10': {'source': '3_DPpaulli', 'instance': 10, 'ga': 2577.0, 'gurobi': 2610, 'literature': 2291.0, 'beta': 0.125, 'optimizer': 'GA', 'best': 2577.0}, '3_DPpaulli11': {'source': '3_DPpaulli', 'instance': 11, 'ga': 2215.0, 'gurobi': 2284, 'literature': 2063.0, 'beta': 0.125, 'optimizer': 'GA', 'best': 2215.0}, '3_DPpaulli12': {'source': '3_DPpaulli', 'instance': 12, 'ga': 2197.0, 'gurobi': 2379, 'literature': 2030.0, 'beta': 0.125, 'optimizer': 'GA', 'best': 2197.0}, '3_DPpaulli15': {'source': '3_DPpaulli', 'instance': 15, 'ga': 2621.0, 'gurobi': 2672, 'literature': 2164.0, 'beta': 0.1, 'optimizer': 'GA', 'best': 2621.0}, '3_DPpaulli18': {'source': '3_DPpaulli', 'instance': 18, 'ga': 2646.0, 'gurobi': 3216, 'literature': 2127.0, 'beta': 0.1, 'optimizer': 'GA', 'best': 2646.0}, '2b_Hurink_edata34': {'source': '2b_Hurink_edata', 'instance': 34, 'ga': 1690.0, 'gurobi': 1709, 'literature': 1539.0, 'beta': 0.11499999999999999, 'optimizer': 'GA', 'best': 1690.0}, '2c_Hurink_rdata3': {'source': '2c_Hurink_rdata', 'instance': 3, 'ga': 1025.0, 'gurobi': 1026, 'literature': 1022.0, 'beta': 0.4, 'optimizer': 'GA', 'best': 1025.0}, '2c_Hurink_rdata9': {'source': '2c_Hurink_rdata', 'instance': 9, 'ga': 800.0, 'gurobi': 801, 'literature': 799.0, 'beta': 0.4, 'optimizer': 'GA', 'best': 800.0}, '2c_Hurink_rdata10': {'source': '2c_Hurink_rdata', 'instance': 10, 'ga': 750.0, 'gurobi': 751, 'literature': 750.0, 'beta': 0.4, 'optimizer': 'GA', 'best': 750.0}, '2c_Hurink_rdata11': {'source': '2c_Hurink_rdata', 'instance': 11, 'ga': 766.0, 'gurobi': 767, 'literature': 765.0, 'beta': 0.4, 'optimizer': 'GA', 'best': 766.0}, '2c_Hurink_rdata12': {'source': '2c_Hurink_rdata', 'instance': 12, 'ga': 854.0, 'gurobi': 855, 'literature': 853.0, 'beta': 0.4, 'optimizer': 'GA', 'best': 854.0}, '2c_Hurink_rdata13': {'source': '2c_Hurink_rdata', 'instance': 13, 'ga': 805.0, 'gurobi': 807, 'literature': 804.0, 'beta': 0.4, 'optimizer': 'GA', 'best': 805.0}, '2c_Hurink_rdata14': {'source': '2c_Hurink_rdata', 'instance': 14, 'ga': 1071.0, 'gurobi': 1073, 'literature': 1071.0, 'beta': 0.4, 'optimizer': 'GA', 'best': 1071.0}, '2c_Hurink_rdata15': {'source': '2c_Hurink_rdata', 'instance': 15, 'ga': 936.0, 'gurobi': 938, 'literature': 936.0, 'beta': 0.4, 'optimizer': 'GA', 'best': 936.0}, '2c_Hurink_rdata16': {'source': '2c_Hurink_rdata', 'instance': 16, 'ga': 1038.0, 'gurobi': 1044, 'literature': 1038.0, 'beta': 0.4, 'optimizer': 'GA', 'best': 1038.0}, '2c_Hurink_rdata17': {'source': '2c_Hurink_rdata', 'instance': 17, 'ga': 1070.0, 'gurobi': 1075, 'literature': 1070.0, 'beta': 0.4, 'optimizer': 'GA', 'best': 1070.0}, '2c_Hurink_rdata18': {'source': '2c_Hurink_rdata', 'instance': 18, 'ga': 1090.0, 'gurobi': 1098, 'literature': 1090.0, 'beta': 0.4, 'optimizer': 'GA', 'best': 1090.0}, '2c_Hurink_rdata34': {'source': '2c_Hurink_rdata', 'instance': 34, 'ga': 1567.0, 'gurobi': 1577, 'literature': 1521.0, 'beta': 0.2, 'optimizer': 'GA', 'best': 1567.0}, '2c_Hurink_rdata35': {'source': '2c_Hurink_rdata', 'instance': 35, 'ga': 1705.0, 'gurobi': 1802, 'literature': 1659.0, 'beta': 0.2, 'optimizer': 'GA', 'best': 1705.0}, '2c_Hurink_rdata36': {'source': '2c_Hurink_rdata', 'instance': 36, 'ga': 1541.0, 'gurobi': 1599, 'literature': 1499.0, 'beta': 0.2, 'optimizer': 'GA', 'best': 1541.0}, '2c_Hurink_rdata37': {'source': '2c_Hurink_rdata', 'instance': 37, 'ga': 1554.0, 'gurobi': 1614, 'literature': 1536.0, 'beta': 0.2, 'optimizer': 'GA', 'best': 1554.0}, '2c_Hurink_rdata38': {'source': '2c_Hurink_rdata', 'instance': 38, 'ga': 1577.0, 'gurobi': 1654, 'literature': 1550.0, 'beta': 0.2, 'optimizer': 'GA', 'best': 1577.0}, '2c_Hurink_rdata52': {'source': '2c_Hurink_rdata', 'instance': 52, 'ga': 6521.0, 'gurobi': 6527, 'literature': 6518.0, 'beta': 0.5, 'optimizer': 'GA', 'best': 6521.0}, '2d_Hurink_vdata3': {'source': '2d_Hurink_vdata', 'instance': 3, 'ga': 1023.0, 'gurobi': 1027, 'literature': 1022.0, 'beta': 0.5, 'optimizer': 'GA', 'best': 1023.0}, '2d_Hurink_vdata11': {'source': '2d_Hurink_vdata', 'instance': 11, 'ga': 766.0, 'gurobi': 767, 'literature': 765.0, 'beta': 0.5, 'optimizer': 'GA', 'best': 766.0}, '2d_Hurink_vdata14': {'source': '2d_Hurink_vdata', 'instance': 14, 'ga': 1071.0, 'gurobi': 1074, 'literature': 1071.0, 'beta': 0.5, 'optimizer': 'GA', 'best': 1071.0}, '2d_Hurink_vdata15': {'source': '2d_Hurink_vdata', 'instance': 15, 'ga': 936.0, 'gurobi': 941, 'literature': 936.0, 'beta': 0.5, 'optimizer': 'GA', 'best': 936.0}, '2d_Hurink_vdata16': {'source': '2d_Hurink_vdata', 'instance': 16, 'ga': 1039.0, 'gurobi': 1042, 'literature': 1038.0, 'beta': 0.5, 'optimizer': 'GA', 'best': 1039.0}, '2d_Hurink_vdata17': {'source': '2d_Hurink_vdata', 'instance': 17, 'ga': 1070.0, 'gurobi': 1073, 'literature': 1070.0, 'beta': 0.5, 'optimizer': 'GA', 'best': 1070.0}, '2d_Hurink_vdata29': {'source': '2d_Hurink_vdata', 'instance': 29, 'ga': 1086.0, 'gurobi': 1087, 'literature': 1054.0, 'beta': 0.5, 'optimizer': 'GA', 'best': 1086.0}, '2d_Hurink_vdata31': {'source': '2d_Hurink_vdata', 'instance': 31, 'ga': 1093.0, 'gurobi': 1119, 'literature': 1070.0, 'beta': 0.5, 'optimizer': 'GA', 'best': 1093.0}, '2d_Hurink_vdata32': {'source': '2d_Hurink_vdata', 'instance': 32, 'ga': 1020.0, 'gurobi': 1038, 'literature': 994.0, 'beta': 0.5, 'optimizer': 'GA', 'best': 1020.0}, '2d_Hurink_vdata49': {'source': '2d_Hurink_vdata', 'instance': 49, 'ga': 5008.0, 'gurobi': 5016, 'literature': 5013.0, 'beta': 0.5, 'optimizer': 'GA', 'best': 5008.0}, '1_Brandimarte9': {'source': '1_Brandimarte', 'instance': 9, 'ga': 320.0, 'gurobi': 310, 'literature': 307.0, 'beta': 0.3, 'optimizer': 'Gurobi', 'best': 310}, '1_Brandimarte10': {'source': '1_Brandimarte', 'instance': 10, 'ga': 247.0, 'gurobi': 217, 'literature': 197.0, 'beta': 0.2, 'optimizer': 'Gurobi', 'best': 217}, '1_Brandimarte13': {'source': '1_Brandimarte', 'instance': 13, 'ga': 434.0, 'gurobi': 431, 'literature': 430.0, 'beta': 0.336796536796537, 'optimizer': 'Gurobi', 'best': 431}, '1_Brandimarte15': {'source': '1_Brandimarte', 'instance': 15, 'ga': 415.0, 'gurobi': 358, 'literature': 341.0, 'beta': 0.202112676056338, 'optimizer': 'Gurobi', 'best': 358}, '0_BehnkeGeiger1': {'source': '0_BehnkeGeiger', 'instance': 1, 'ga': 92.0, 'gurobi': 90, 'literature': 91.0, 'beta': 0.304, 'optimizer': 'Gurobi', 'best': 90}, '0_BehnkeGeiger2': {'source': '0_BehnkeGeiger', 'instance': 2, 'ga': 94.0, 'gurobi': 91, 'literature': 91.0, 'beta': 0.33599999999999997, 'optimizer': 'Gurobi', 'best': 91}, '0_BehnkeGeiger3': {'source': '0_BehnkeGeiger', 'instance': 3, 'ga': 92.0, 'gurobi': 91, 'literature': 91.0, 'beta': 0.312, 'optimizer': 'Gurobi', 'best': 91}, '0_BehnkeGeiger4': {'source': '0_BehnkeGeiger', 'instance': 4, 'ga': 99.0, 'gurobi': 97, 'literature': 97.0, 'beta': 0.33199999999999996, 'optimizer': 'Gurobi', 'best': 97}, '0_BehnkeGeiger5': {'source': '0_BehnkeGeiger', 'instance': 5, 'ga': 93.0, 'gurobi': 91, 'literature': 91.0, 'beta': 0.308, 'optimizer': 'Gurobi', 'best': 91}, '0_BehnkeGeiger9': {'source': '0_BehnkeGeiger', 'instance': 9, 'ga': 134.0, 'gurobi': 130, 'literature': 129.0, 'beta': 0.322, 'optimizer': 'Gurobi', 'best': 130}, '0_BehnkeGeiger11': {'source': '0_BehnkeGeiger', 'instance': 11, 'ga': 312.0, 'gurobi': 294, 'literature': 259.0, 'beta': 0.321, 'optimizer': 'Gurobi', 'best': 294}, '0_BehnkeGeiger12': {'source': '0_BehnkeGeiger', 'instance': 12, 'ga': 299.0, 'gurobi': 297, 'literature': 251.0, 'beta': 0.327, 'optimizer': 'Gurobi', 'best': 297}, '0_BehnkeGeiger13': {'source': '0_BehnkeGeiger', 'instance': 13, 'ga': 314.0, 'gurobi': 277, 'literature': 252.0, 'beta': 0.3225, 'optimizer': 'Gurobi', 'best': 277}, '0_BehnkeGeiger14': {'source': '0_BehnkeGeiger', 'instance': 14, 'ga': 313.0, 'gurobi': 302, 'literature': 258.0, 'beta': 0.305, 'optimizer': 'Gurobi', 'best': 302}, '0_BehnkeGeiger15': {'source': '0_BehnkeGeiger', 'instance': 15, 'ga': 300.0, 'gurobi': 297, 'literature': 262.0, 'beta': 0.3135, 'optimizer': 'Gurobi', 'best': 297}, '0_BehnkeGeiger16': {'source': '0_BehnkeGeiger', 'instance': 16, 'ga': 811.0, 'gurobi': 528, 'literature': 566.0, 'beta': 0.3235, 'optimizer': 'Gurobi', 'best': 528}, '0_BehnkeGeiger17': {'source': '0_BehnkeGeiger', 'instance': 17, 'ga': 759.0, 'gurobi': 565, 'literature': 535.0, 'beta': 0.32, 'optimizer': 'Gurobi', 'best': 565}, '0_BehnkeGeiger18': {'source': '0_BehnkeGeiger', 'instance': 18, 'ga': 777.0, 'gurobi': 617, 'literature': 555.0, 'beta': 0.3165, 'optimizer': 'Gurobi', 'best': 617}, '0_BehnkeGeiger19': {'source': '0_BehnkeGeiger', 'instance': 19, 'ga': 801.0, 'gurobi': 529, 'literature': 532.0, 'beta': 0.3225, 'optimizer': 'Gurobi', 'best': 529}, '0_BehnkeGeiger20': {'source': '0_BehnkeGeiger', 'instance': 20, 'ga': 768.0, 'gurobi': 515, 'literature': 522.0, 'beta': 0.3165, 'optimizer': 'Gurobi', 'best': 515}, '0_BehnkeGeiger21': {'source': '0_BehnkeGeiger', 'instance': 21, 'ga': 88.0, 'gurobi': 87, 'literature': 85.0, 'beta': 0.374, 'optimizer': 'Gurobi', 'best': 87}, '0_BehnkeGeiger22': {'source': '0_BehnkeGeiger', 'instance': 22, 'ga': 88.0, 'gurobi': 87, 'literature': 87.0, 'beta': 0.32799999999999996, 'optimizer': 'Gurobi', 'best': 87}, '0_BehnkeGeiger23': {'source': '0_BehnkeGeiger', 'instance': 23, 'ga': 86.0, 'gurobi': 85, 'literature': 86.0, 'beta': 0.348, 'optimizer': 'Gurobi', 'best': 85}, '0_BehnkeGeiger25': {'source': '0_BehnkeGeiger', 'instance': 25, 'ga': 88.0, 'gurobi': 87, 'literature': 87.0, 'beta': 0.284, 'optimizer': 'Gurobi', 'best': 87}, '0_BehnkeGeiger26': {'source': '0_BehnkeGeiger', 'instance': 26, 'ga': 121.0, 'gurobi': 117, 'literature': 122.0, 'beta': 0.319, 'optimizer': 'Gurobi', 'best': 117}, '0_BehnkeGeiger27': {'source': '0_BehnkeGeiger', 'instance': 27, 'ga': 131.0, 'gurobi': 129, 'literature': 132.0, 'beta': 0.298, 'optimizer': 'Gurobi', 'best': 129}, '0_BehnkeGeiger28': {'source': '0_BehnkeGeiger', 'instance': 28, 'ga': 123.0, 'gurobi': 121, 'literature': 123.0, 'beta': 0.346, 'optimizer': 'Gurobi', 'best': 121}, '0_BehnkeGeiger30': {'source': '0_BehnkeGeiger', 'instance': 30, 'ga': 129.0, 'gurobi': 123, 'literature': 127.0, 'beta': 0.324, 'optimizer': 'Gurobi', 'best': 123}, '0_BehnkeGeiger31': {'source': '0_BehnkeGeiger', 'instance': 31, 'ga': 270.0, 'gurobi': 269, 'literature': 272.0, 'beta': 0.32325, 'optimizer': 'Gurobi', 'best': 269}, '0_BehnkeGeiger32': {'source': '0_BehnkeGeiger', 'instance': 32, 'ga': 264.0, 'gurobi': 258, 'literature': 259.0, 'beta': 0.30525, 'optimizer': 'Gurobi', 'best': 258}, '0_BehnkeGeiger33': {'source': '0_BehnkeGeiger', 'instance': 33, 'ga': 264.0, 'gurobi': 246, 'literature': 245.0, 'beta': 0.3075, 'optimizer': 'Gurobi', 'best': 246}, '0_BehnkeGeiger35': {'source': '0_BehnkeGeiger', 'instance': 35, 'ga': 250.0, 'gurobi': 244, 'literature': 253.0, 'beta': 0.312, 'optimizer': 'Gurobi', 'best': 244}, '0_BehnkeGeiger36': {'source': '0_BehnkeGeiger', 'instance': 36, 'ga': 527.0, 'gurobi': 465, 'literature': 531.0, 'beta': 0.31124999999999997, 'optimizer': 'Gurobi', 'best': 465}, '0_BehnkeGeiger38': {'source': '0_BehnkeGeiger', 'instance': 38, 'ga': 532.0, 'gurobi': 445, 'literature': 527.0, 'beta': 0.31775000000000003, 'optimizer': 'Gurobi', 'best': 445}, '0_BehnkeGeiger39': {'source': '0_BehnkeGeiger', 'instance': 39, 'ga': 555.0, 'gurobi': 466, 'literature': 516.0, 'beta': 0.31275, 'optimizer': 'Gurobi', 'best': 466}, '0_BehnkeGeiger40': {'source': '0_BehnkeGeiger', 'instance': 40, 'ga': 575.0, 'gurobi': 486, 'literature': 521.0, 'beta': 0.301, 'optimizer': 'Gurobi', 'best': 486}, '0_BehnkeGeiger42': {'source': '0_BehnkeGeiger', 'instance': 42, 'ga': 88.0, 'gurobi': 87, 'literature': 87.0, 'beta': 0.2613333333333333, 'optimizer': 'Gurobi', 'best': 87}, '0_BehnkeGeiger43': {'source': '0_BehnkeGeiger', 'instance': 43, 'ga': 88.0, 'gurobi': 86, 'literature': 86.0, 'beta': 0.32133333333333336, 'optimizer': 'Gurobi', 'best': 86}, '0_BehnkeGeiger44': {'source': '0_BehnkeGeiger', 'instance': 44, 'ga': 86.0, 'gurobi': 84, 'literature': 85.0, 'beta': 0.3266666666666667, 'optimizer': 'Gurobi', 'best': 84}, '0_BehnkeGeiger46': {'source': '0_BehnkeGeiger', 'instance': 46, 'ga': 123.0, 'gurobi': 120, 'literature': 124.0, 'beta': 0.26066666666666666, 'optimizer': 'Gurobi', 'best': 120}, '0_BehnkeGeiger47': {'source': '0_BehnkeGeiger', 'instance': 47, 'ga': 123.0, 'gurobi': 122, 'literature': 126.0, 'beta': 0.3126666666666667, 'optimizer': 'Gurobi', 'best': 122}, '0_BehnkeGeiger48': {'source': '0_BehnkeGeiger', 'instance': 48, 'ga': 131.0, 'gurobi': 128, 'literature': 134.0, 'beta': 0.2946666666666667, 'optimizer': 'Gurobi', 'best': 128}, '0_BehnkeGeiger49': {'source': '0_BehnkeGeiger', 'instance': 49, 'ga': 120.0, 'gurobi': 116, 'literature': 121.0, 'beta': 0.30333333333333334, 'optimizer': 'Gurobi', 'best': 116}, '0_BehnkeGeiger50': {'source': '0_BehnkeGeiger', 'instance': 50, 'ga': 131.0, 'gurobi': 125, 'literature': 131.0, 'beta': 0.3453333333333333, 'optimizer': 'Gurobi', 'best': 125}, '0_BehnkeGeiger51': {'source': '0_BehnkeGeiger', 'instance': 51, 'ga': 257.0, 'gurobi': 254, 'literature': 259.0, 'beta': 0.3111666666666667, 'optimizer': 'Gurobi', 'best': 254}, '0_BehnkeGeiger52': {'source': '0_BehnkeGeiger', 'instance': 52, 'ga': 249.0, 'gurobi': 245, 'literature': 255.0, 'beta': 0.30216666666666664, 'optimizer': 'Gurobi', 'best': 245}, '0_BehnkeGeiger53': {'source': '0_BehnkeGeiger', 'instance': 53, 'ga': 251.0, 'gurobi': 248, 'literature': 257.0, 'beta': 0.3115, 'optimizer': 'Gurobi', 'best': 248}, '0_BehnkeGeiger54': {'source': '0_BehnkeGeiger', 'instance': 54, 'ga': 260.0, 'gurobi': 257, 'literature': 267.0, 'beta': 0.29283333333333333, 'optimizer': 'Gurobi', 'best': 257}, '0_BehnkeGeiger56': {'source': '0_BehnkeGeiger', 'instance': 56, 'ga': 516.0, 'gurobi': 461, 'literature': 538.0, 'beta': 0.30866666666666664, 'optimizer': 'Gurobi', 'best': 461}, '0_BehnkeGeiger57': {'source': '0_BehnkeGeiger', 'instance': 57, 'ga': 513.0, 'gurobi': 477, 'literature': 535.0, 'beta': 0.31166666666666665, 'optimizer': 'Gurobi', 'best': 477}, '4_ChambersBarnes1': {'source': '4_ChambersBarnes', 'instance': 1, 'ga': 959.0, 'gurobi': 918, 'literature': 918.0, 'beta': 0.09090909090909091, 'optimizer': 'Gurobi', 'best': 918}, '4_ChambersBarnes2': {'source': '4_ChambersBarnes', 'instance': 2, 'ga': 946.0, 'gurobi': 918, 'literature': 918.0, 'beta': 0.08333333333333333, 'optimizer': 'Gurobi', 'best': 918}, '4_ChambersBarnes3': {'source': '4_ChambersBarnes', 'instance': 3, 'ga': 943.0, 'gurobi': 918, 'literature': 918.0, 'beta': 0.07692307692307693, 'optimizer': 'Gurobi', 'best': 918}, '4_ChambersBarnes4': {'source': '4_ChambersBarnes', 'instance': 4, 'ga': 919.0, 'gurobi': 905, 'literature': 905.0, 'beta': 0.08333333333333333, 'optimizer': 'Gurobi', 'best': 905}, '4_ChambersBarnes5': {'source': '4_ChambersBarnes', 'instance': 5, 'ga': 858.0, 'gurobi': 847, 'literature': 847.0, 'beta': 0.07692307692307693, 'optimizer': 'Gurobi', 'best': 847}, '4_ChambersBarnes6': {'source': '4_ChambersBarnes', 'instance': 6, 'ga': 948.0, 'gurobi': 927, 'literature': 927.0, 'beta': 0.09090909090909091, 'optimizer': 'Gurobi', 'best': 927}, '4_ChambersBarnes7': {'source': '4_ChambersBarnes', 'instance': 7, 'ga': 930.0, 'gurobi': 908, 'literature': 910.0, 'beta': 0.08333333333333333, 'optimizer': 'Gurobi', 'best': 908}, '4_ChambersBarnes8': {'source': '4_ChambersBarnes', 'instance': 8, 'ga': 969.0, 'gurobi': 925, 'literature': 925.0, 'beta': 0.09090909090909091, 'optimizer': 'Gurobi', 'best': 925}, '4_ChambersBarnes9': {'source': '4_ChambersBarnes', 'instance': 9, 'ga': 977.0, 'gurobi': 925, 'literature': 925.0, 'beta': 0.08333333333333333, 'optimizer': 'Gurobi', 'best': 925}, '4_ChambersBarnes10': {'source': '4_ChambersBarnes', 'instance': 10, 'ga': 974.0, 'gurobi': 925, 'literature': 925.0, 'beta': 0.07692307692307693, 'optimizer': 'Gurobi', 'best': 925}, '4_ChambersBarnes11': {'source': '4_ChambersBarnes', 'instance': 11, 'ga': 958.0, 'gurobi': 910, 'literature': 916.0, 'beta': 0.08333333333333333, 'optimizer': 'Gurobi', 'best': 910}, '4_ChambersBarnes12': {'source': '4_ChambersBarnes', 'instance': 12, 'ga': 943.0, 'gurobi': 902, 'literature': 905.0, 'beta': 0.07692307692307693, 'optimizer': 'Gurobi', 'best': 902}, '4_ChambersBarnes13': {'source': '4_ChambersBarnes', 'instance': 13, 'ga': 956.0, 'gurobi': 914, 'literature': 914.0, 'beta': 0.09090909090909091, 'optimizer': 'Gurobi', 'best': 914}, '4_ChambersBarnes14': {'source': '4_ChambersBarnes', 'instance': 14, 'ga': 952.0, 'gurobi': 907, 'literature': 909.0, 'beta': 0.08333333333333333, 'optimizer': 'Gurobi', 'best': 907}, '4_ChambersBarnes15': {'source': '4_ChambersBarnes', 'instance': 15, 'ga': 1272.0, 'gurobi': 1201, 'literature': 1201.0, 'beta': 0.0625, 'optimizer': 'Gurobi', 'best': 1201}, '4_ChambersBarnes16': {'source': '4_ChambersBarnes', 'instance': 16, 'ga': 1229.0, 'gurobi': 1202, 'literature': 1199.0, 'beta': 0.058823529411764705, 'optimizer': 'Gurobi', 'best': 1202}, '4_ChambersBarnes17': {'source': '4_ChambersBarnes', 'instance': 17, 'ga': 1287.0, 'gurobi': 1197, 'literature': 1197.0, 'beta': 0.05555555555555555, 'optimizer': 'Gurobi', 'best': 1197}, '4_ChambersBarnes18': {'source': '4_ChambersBarnes', 'instance': 18, 'ga': 1233.0, 'gurobi': 1135, 'literature': 1136.0, 'beta': 0.058823529411764705, 'optimizer': 'Gurobi', 'best': 1135}, '4_ChambersBarnes19': {'source': '4_ChambersBarnes', 'instance': 19, 'ga': 1197.0, 'gurobi': 1125, 'literature': 1125.0, 'beta': 0.05555555555555555, 'optimizer': 'Gurobi', 'best': 1125}, '4_ChambersBarnes20': {'source': '4_ChambersBarnes', 'instance': 20, 'ga': 1253.0, 'gurobi': 1169, 'literature': 1174.0, 'beta': 0.0625, 'optimizer': 'Gurobi', 'best': 1169}, '4_ChambersBarnes21': {'source': '4_ChambersBarnes', 'instance': 21, 'ga': 1207.0, 'gurobi': 1135, 'literature': 1136.0, 'beta': 0.058823529411764705, 'optimizer': 'Gurobi', 'best': 1135}, '0_BehnkeGeiger58': {'source': '0_BehnkeGeiger', 'instance': 58, 'ga': 516.0, 'gurobi': 448, 'literature': 531.0, 'beta': 0.325, 'optimizer': 'Gurobi', 'best': 448}, '0_BehnkeGeiger59': {'source': '0_BehnkeGeiger', 'instance': 59, 'ga': 521.0, 'gurobi': 440, 'literature': 532.0, 'beta': 0.30366666666666664, 'optimizer': 'Gurobi', 'best': 440}, '6_Fattahi20': {'source': '6_Fattahi', 'instance': 20, 'ga': 1225.0, 'gurobi': 1214, 'literature': 1208.0, 'beta': 0.2875, 'optimizer': 'Gurobi', 'best': 1214}, '3_DPpaulli7': {'source': '3_DPpaulli', 'instance': 7, 'ga': 2584.0, 'gurobi': 2513, 'literature': 2283.0, 'beta': 0.125, 'optimizer': 'Gurobi', 'best': 2513}, '3_DPpaulli9': {'source': '3_DPpaulli', 'instance': 9, 'ga': 2208.0, 'gurobi': 2157, 'literature': 2064.0, 'beta': 0.125, 'optimizer': 'Gurobi', 'best': 2157}, '3_DPpaulli13': {'source': '3_DPpaulli', 'instance': 13, 'ga': 2618.0, 'gurobi': 2549, 'literature': 2257.0, 'beta': 0.1, 'optimizer': 'Gurobi', 'best': 2549}, '3_DPpaulli14': {'source': '3_DPpaulli', 'instance': 14, 'ga': 2431.0, 'gurobi': 2315, 'literature': 2167.0, 'beta': 0.1, 'optimizer': 'Gurobi', 'best': 2315}, '3_DPpaulli16': {'source': '3_DPpaulli', 'instance': 16, 'ga': 2565.0, 'gurobi': 2450, 'literature': 2255.0, 'beta': 0.1, 'optimizer': 'Gurobi', 'best': 2450}, '3_DPpaulli17': {'source': '3_DPpaulli', 'instance': 17, 'ga': 2665.0, 'gurobi': 2297, 'literature': 2140.0, 'beta': 0.1, 'optimizer': 'Gurobi', 'best': 2297}, '2b_Hurink_edata2': {'source': '2b_Hurink_edata', 'instance': 2, 'ga': 915.0, 'gurobi': 871, 'literature': 871.0, 'beta': 0.11499999999999999, 'optimizer': 'Gurobi', 'best': 871}, '2b_Hurink_edata3': {'source': '2b_Hurink_edata', 'instance': 3, 'ga': 1149.0, 'gurobi': 1117, 'literature': 1088.0, 'beta': 0.22999999999999998, 'optimizer': 'Gurobi', 'best': 1117}, '2b_Hurink_edata6': {'source': '2b_Hurink_edata', 'instance': 6, 'ga': 564.0, 'gurobi': 550, 'literature': 550.0, 'beta': 0.22999999999999998, 'optimizer': 'Gurobi', 'best': 550}, '2b_Hurink_edata10': {'source': '2b_Hurink_edata', 'instance': 10, 'ga': 778.0, 'gurobi': 762, 'literature': 762.0, 'beta': 0.22999999999999998, 'optimizer': 'Gurobi', 'best': 762}, '2b_Hurink_edata18': {'source': '2b_Hurink_edata', 'instance': 18, 'ga': 1116.0, 'gurobi': 1111, 'literature': 1111.0, 'beta': 0.22999999999999998, 'optimizer': 'Gurobi', 'best': 1111}, '2b_Hurink_edata19': {'source': '2b_Hurink_edata', 'instance': 19, 'ga': 915.0, 'gurobi': 892, 'literature': 892.0, 'beta': 0.11499999999999999, 'optimizer': 'Gurobi', 'best': 892}, '2b_Hurink_edata21': {'source': '2b_Hurink_edata', 'instance': 21, 'ga': 855.0, 'gurobi': 842, 'literature': 842.0, 'beta': 0.11499999999999999, 'optimizer': 'Gurobi', 'best': 842}, '2b_Hurink_edata22': {'source': '2b_Hurink_edata', 'instance': 22, 'ga': 813.0, 'gurobi': 796, 'literature': 796.0, 'beta': 0.11499999999999999, 'optimizer': 'Gurobi', 'best': 796}, '2b_Hurink_edata23': {'source': '2b_Hurink_edata', 'instance': 23, 'ga': 864.0, 'gurobi': 857, 'literature': 857.0, 'beta': 0.11499999999999999, 'optimizer': 'Gurobi', 'best': 857}, '2b_Hurink_edata24': {'source': '2b_Hurink_edata', 'instance': 24, 'ga': 1094.0, 'gurobi': 1027, 'literature': 895.0, 'beta': 0.11499999999999999, 'optimizer': 'Gurobi', 'best': 1027}, '2b_Hurink_edata25': {'source': '2b_Hurink_edata', 'instance': 25, 'ga': 947.0, 'gurobi': 880, 'literature': 882.0, 'beta': 0.11499999999999999, 'optimizer': 'Gurobi', 'best': 880}, '2b_Hurink_edata26': {'source': '2b_Hurink_edata', 'instance': 26, 'ga': 998.0, 'gurobi': 957, 'literature': 950.0, 'beta': 0.11499999999999999, 'optimizer': 'Gurobi', 'best': 957}, '2b_Hurink_edata27': {'source': '2b_Hurink_edata', 'instance': 27, 'ga': 987.0, 'gurobi': 909, 'literature': 909.0, 'beta': 0.11499999999999999, 'optimizer': 'Gurobi', 'best': 909}, '2b_Hurink_edata28': {'source': '2b_Hurink_edata', 'instance': 28, 'ga': 991.0, 'gurobi': 936, 'literature': 941.0, 'beta': 0.11499999999999999, 'optimizer': 'Gurobi', 'best': 936}, '2b_Hurink_edata29': {'source': '2b_Hurink_edata', 'instance': 29, 'ga': 1215.0, 'gurobi': 1148, 'literature': 1125.0, 'beta': 0.11499999999999999, 'optimizer': 'Gurobi', 'best': 1148}, '2b_Hurink_edata30': {'source': '2b_Hurink_edata', 'instance': 30, 'ga': 1321.0, 'gurobi': 1249, 'literature': 1186.0, 'beta': 0.11499999999999999, 'optimizer': 'Gurobi', 'best': 1249}, '2b_Hurink_edata31': {'source': '2b_Hurink_edata', 'instance': 31, 'ga': 1260.0, 'gurobi': 1188, 'literature': 1149.0, 'beta': 0.11499999999999999, 'optimizer': 'Gurobi', 'best': 1188}, '2b_Hurink_edata32': {'source': '2b_Hurink_edata', 'instance': 32, 'ga': 1235.0, 'gurobi': 1157, 'literature': 1118.0, 'beta': 0.11499999999999999, 'optimizer': 'Gurobi', 'best': 1157}, '2b_Hurink_edata33': {'source': '2b_Hurink_edata', 'instance': 33, 'ga': 1324.0, 'gurobi': 1263, 'literature': 1209.0, 'beta': 0.11499999999999999, 'optimizer': 'Gurobi', 'best': 1263}, '2b_Hurink_edata35': {'source': '2b_Hurink_edata', 'instance': 35, 'ga': 1811.0, 'gurobi': 1785, 'literature': 1698.0, 'beta': 0.11499999999999999, 'optimizer': 'Gurobi', 'best': 1785}, '2b_Hurink_edata36': {'source': '2b_Hurink_edata', 'instance': 36, 'ga': 1691.0, 'gurobi': 1656, 'literature': 1547.0, 'beta': 0.11499999999999999, 'optimizer': 'Gurobi', 'best': 1656}, '2b_Hurink_edata37': {'source': '2b_Hurink_edata', 'instance': 37, 'ga': 1711.0, 'gurobi': 1693, 'literature': 1604.0, 'beta': 0.11499999999999999, 'optimizer': 'Gurobi', 'best': 1693}, '2b_Hurink_edata38': {'source': '2b_Hurink_edata', 'instance': 38, 'ga': 1808.0, 'gurobi': 1762, 'literature': 1736.0, 'beta': 0.11499999999999999, 'optimizer': 'Gurobi', 'best': 1762}, '2b_Hurink_edata39': {'source': '2b_Hurink_edata', 'instance': 39, 'ga': 1292.0, 'gurobi': 1160, 'literature': 1160.0, 'beta': 0.07666666666666666, 'optimizer': 'Gurobi', 'best': 1160}, '2b_Hurink_edata40': {'source': '2b_Hurink_edata', 'instance': 40, 'ga': 1509.0, 'gurobi': 1397, 'literature': 1397.0, 'beta': 0.07666666666666666, 'optimizer': 'Gurobi', 'best': 1397}, '2b_Hurink_edata41': {'source': '2b_Hurink_edata', 'instance': 41, 'ga': 1264.0, 'gurobi': 1144, 'literature': 1144.0, 'beta': 0.07666666666666666, 'optimizer': 'Gurobi', 'best': 1144}, '2b_Hurink_edata42': {'source': '2b_Hurink_edata', 'instance': 42, 'ga': 1331.0, 'gurobi': 1184, 'literature': 1184.0, 'beta': 0.07666666666666666, 'optimizer': 'Gurobi', 'best': 1184}, '2b_Hurink_edata43': {'source': '2b_Hurink_edata', 'instance': 43, 'ga': 1269.0, 'gurobi': 1163, 'literature': 1150.0, 'beta': 0.07666666666666666, 'optimizer': 'Gurobi', 'best': 1163}, '2b_Hurink_edata44': {'source': '2b_Hurink_edata', 'instance': 44, 'ga': 1188.0, 'gurobi': 1167, 'literature': 1176.0, 'beta': 0.11499999999999999, 'optimizer': 'Gurobi', 'best': 1167}, '2b_Hurink_edata45': {'source': '2b_Hurink_edata', 'instance': 45, 'ga': 947.0, 'gurobi': 925, 'literature': 925.0, 'beta': 0.11499999999999999, 'optimizer': 'Gurobi', 'best': 925}, '2b_Hurink_edata46': {'source': '2b_Hurink_edata', 'instance': 46, 'ga': 717.0, 'gurobi': 655, 'literature': 638.0, 'beta': 0.07666666666666666, 'optimizer': 'Gurobi', 'best': 655}, '2b_Hurink_edata47': {'source': '2b_Hurink_edata', 'instance': 47, 'ga': 757.0, 'gurobi': 665, 'literature': 654.0, 'beta': 0.07666666666666666, 'optimizer': 'Gurobi', 'best': 665}, '2b_Hurink_edata48': {'source': '2b_Hurink_edata', 'instance': 48, 'ga': 744.0, 'gurobi': 681, 'literature': 668.0, 'beta': 0.07666666666666666, 'optimizer': 'Gurobi', 'best': 681}, '2b_Hurink_edata49': {'source': '2b_Hurink_edata', 'instance': 49, 'ga': 6253.0, 'gurobi': 6176, 'literature': 6176.0, 'beta': 0.22999999999999998, 'optimizer': 'Gurobi', 'best': 6176}, '2b_Hurink_edata50': {'source': '2b_Hurink_edata', 'instance': 50, 'ga': 6445.0, 'gurobi': 6327, 'literature': 6455.0, 'beta': 0.2875, 'optimizer': 'Gurobi', 'best': 6327}, '2b_Hurink_edata51': {'source': '2b_Hurink_edata', 'instance': 51, 'ga': 6987.0, 'gurobi': 6856, 'literature': 6856.0, 'beta': 0.22999999999999998, 'optimizer': 'Gurobi', 'best': 6856}, '2b_Hurink_edata54': {'source': '2b_Hurink_edata', 'instance': 54, 'ga': 8139.0, 'gurobi': 7990, 'literature': 8478.0, 'beta': 0.12777777777777777, 'optimizer': 'Gurobi', 'best': 7990}, '2b_Hurink_edata57': {'source': '2b_Hurink_edata', 'instance': 57, 'ga': 1017.0, 'gurobi': 977, 'literature': 988.0, 'beta': 0.11499999999999999, 'optimizer': 'Gurobi', 'best': 977}, '2b_Hurink_edata58': {'source': '2b_Hurink_edata', 'instance': 58, 'ga': 887.0, 'gurobi': 865, 'literature': 870.0, 'beta': 0.11499999999999999, 'optimizer': 'Gurobi', 'best': 865}, '2b_Hurink_edata59': {'source': '2b_Hurink_edata', 'instance': 59, 'ga': 979.0, 'gurobi': 951, 'literature': 960.0, 'beta': 0.11499999999999999, 'optimizer': 'Gurobi', 'best': 951}, '2b_Hurink_edata60': {'source': '2b_Hurink_edata', 'instance': 60, 'ga': 1005.0, 'gurobi': 984, 'literature': 1016.0, 'beta': 0.11499999999999999, 'optimizer': 'Gurobi', 'best': 984}, '2b_Hurink_edata61': {'source': '2b_Hurink_edata', 'instance': 61, 'ga': 872.0, 'gurobi': 842, 'literature': 865.0, 'beta': 0.11499999999999999, 'optimizer': 'Gurobi', 'best': 842}, '2b_Hurink_edata62': {'source': '2b_Hurink_edata', 'instance': 62, 'ga': 988.0, 'gurobi': 958, 'literature': 1004.0, 'beta': 0.11499999999999999, 'optimizer': 'Gurobi', 'best': 958}, '2b_Hurink_edata63': {'source': '2b_Hurink_edata', 'instance': 63, 'ga': 390.0, 'gurobi': 387, 'literature': 387.0, 'beta': 0.11499999999999999, 'optimizer': 'Gurobi', 'best': 387}, '2b_Hurink_edata64': {'source': '2b_Hurink_edata', 'instance': 64, 'ga': 920.0, 'gurobi': 894, 'literature': 894.0, 'beta': 0.11499999999999999, 'optimizer': 'Gurobi', 'best': 894}, '2b_Hurink_edata65': {'source': '2b_Hurink_edata', 'instance': 65, 'ga': 955.0, 'gurobi': 933, 'literature': 933.0, 'beta': 0.11499999999999999, 'optimizer': 'Gurobi', 'best': 933}, '2b_Hurink_edata66': {'source': '2b_Hurink_edata', 'instance': 66, 'ga': 947.0, 'gurobi': 933, 'literature': 937.0, 'beta': 0.11499999999999999, 'optimizer': 'Gurobi', 'best': 933}, '2c_Hurink_rdata2': {'source': '2c_Hurink_rdata', 'instance': 2, 'ga': 716.0, 'gurobi': 686, 'literature': 686.0, 'beta': 0.2, 'optimizer': 'Gurobi', 'best': 686}, '2c_Hurink_rdata4': {'source': '2c_Hurink_rdata', 'instance': 4, 'ga': 573.0, 'gurobi': 572, 'literature': 571.0, 'beta': 0.4, 'optimizer': 'Gurobi', 'best': 572}, '2c_Hurink_rdata5': {'source': '2c_Hurink_rdata', 'instance': 5, 'ga': 532.0, 'gurobi': 531, 'literature': 530.0, 'beta': 0.4, 'optimizer': 'Gurobi', 'best': 531}, '2c_Hurink_rdata7': {'source': '2c_Hurink_rdata', 'instance': 7, 'ga': 504.0, 'gurobi': 503, 'literature': 502.0, 'beta': 0.4, 'optimizer': 'Gurobi', 'best': 503}, '2c_Hurink_rdata19': {'source': '2c_Hurink_rdata', 'instance': 19, 'ga': 732.0, 'gurobi': 717, 'literature': 717.0, 'beta': 0.2, 'optimizer': 'Gurobi', 'best': 717}, '2c_Hurink_rdata21': {'source': '2c_Hurink_rdata', 'instance': 21, 'ga': 700.0, 'gurobi': 666, 'literature': 666.0, 'beta': 0.2, 'optimizer': 'Gurobi', 'best': 666}, '2c_Hurink_rdata22': {'source': '2c_Hurink_rdata', 'instance': 22, 'ga': 711.0, 'gurobi': 700, 'literature': 700.0, 'beta': 0.2, 'optimizer': 'Gurobi', 'best': 700}, '2c_Hurink_rdata23': {'source': '2c_Hurink_rdata', 'instance': 23, 'ga': 764.0, 'gurobi': 756, 'literature': 757.0, 'beta': 0.2, 'optimizer': 'Gurobi', 'best': 756}, '2c_Hurink_rdata24': {'source': '2c_Hurink_rdata', 'instance': 24, 'ga': 926.0, 'gurobi': 847, 'literature': 835.0, 'beta': 0.2, 'optimizer': 'Gurobi', 'best': 847}, '2c_Hurink_rdata25': {'source': '2c_Hurink_rdata', 'instance': 25, 'ga': 862.0, 'gurobi': 782, 'literature': 760.0, 'beta': 0.2, 'optimizer': 'Gurobi', 'best': 782}, '2c_Hurink_rdata26': {'source': '2c_Hurink_rdata', 'instance': 26, 'ga': 915.0, 'gurobi': 874, 'literature': 842.0, 'beta': 0.2, 'optimizer': 'Gurobi', 'best': 874}, '2c_Hurink_rdata27': {'source': '2c_Hurink_rdata', 'instance': 27, 'ga': 886.0, 'gurobi': 833, 'literature': 808.0, 'beta': 0.2, 'optimizer': 'Gurobi', 'best': 833}, '2c_Hurink_rdata28': {'source': '2c_Hurink_rdata', 'instance': 28, 'ga': 870.0, 'gurobi': 806, 'literature': 791.0, 'beta': 0.2, 'optimizer': 'Gurobi', 'best': 806}, '2c_Hurink_rdata29': {'source': '2c_Hurink_rdata', 'instance': 29, 'ga': 1138.0, 'gurobi': 1102, 'literature': 1061.0, 'beta': 0.2, 'optimizer': 'Gurobi', 'best': 1102}, '2c_Hurink_rdata30': {'source': '2c_Hurink_rdata', 'instance': 30, 'ga': 1167.0, 'gurobi': 1155, 'literature': 1091.0, 'beta': 0.2, 'optimizer': 'Gurobi', 'best': 1155}, '2c_Hurink_rdata31': {'source': '2c_Hurink_rdata', 'instance': 31, 'ga': 1149.0, 'gurobi': 1117, 'literature': 1080.0, 'beta': 0.2, 'optimizer': 'Gurobi', 'best': 1117}, '2c_Hurink_rdata32': {'source': '2c_Hurink_rdata', 'instance': 32, 'ga': 1069.0, 'gurobi': 1042, 'literature': 998.0, 'beta': 0.2, 'optimizer': 'Gurobi', 'best': 1042}, '2c_Hurink_rdata33': {'source': '2c_Hurink_rdata', 'instance': 33, 'ga': 1171.0, 'gurobi': 1141, 'literature': 1078.0, 'beta': 0.2, 'optimizer': 'Gurobi', 'best': 1141}, '2c_Hurink_rdata39': {'source': '2c_Hurink_rdata', 'instance': 39, 'ga': 1187.0, 'gurobi': 1023, 'literature': 1030.0, 'beta': 0.13333333333333333, 'optimizer': 'Gurobi', 'best': 1023}, '2c_Hurink_rdata40': {'source': '2c_Hurink_rdata', 'instance': 40, 'ga': 1211.0, 'gurobi': 1087, 'literature': 1077.0, 'beta': 0.13333333333333333, 'optimizer': 'Gurobi', 'best': 1087}, '2c_Hurink_rdata41': {'source': '2c_Hurink_rdata', 'instance': 41, 'ga': 1105.0, 'gurobi': 954, 'literature': 962.0, 'beta': 0.13333333333333333, 'optimizer': 'Gurobi', 'best': 954}, '2c_Hurink_rdata42': {'source': '2c_Hurink_rdata', 'instance': 42, 'ga': 1162.0, 'gurobi': 1018, 'literature': 1018.0, 'beta': 0.13333333333333333, 'optimizer': 'Gurobi', 'best': 1018}, '2c_Hurink_rdata43': {'source': '2c_Hurink_rdata', 'instance': 43, 'ga': 1074.0, 'gurobi': 972, 'literature': 970.0, 'beta': 0.13333333333333333, 'optimizer': 'Gurobi', 'best': 972}, '2c_Hurink_rdata44': {'source': '2c_Hurink_rdata', 'instance': 44, 'ga': 985.0, 'gurobi': 954, 'literature': 962.0, 'beta': 0.2, 'optimizer': 'Gurobi', 'best': 954}, '2c_Hurink_rdata45': {'source': '2c_Hurink_rdata', 'instance': 45, 'ga': 809.0, 'gurobi': 807, 'literature': 807.0, 'beta': 0.2, 'optimizer': 'Gurobi', 'best': 807}, '2c_Hurink_rdata46': {'source': '2c_Hurink_rdata', 'instance': 46, 'ga': 673.0, 'gurobi': 570, 'literature': 544.0, 'beta': 0.13333333333333333, 'optimizer': 'Gurobi', 'best': 570}, '2c_Hurink_rdata47': {'source': '2c_Hurink_rdata', 'instance': 47, 'ga': 699.0, 'gurobi': 577, 'literature': 555.0, 'beta': 0.13333333333333333, 'optimizer': 'Gurobi', 'best': 577}, '2c_Hurink_rdata48': {'source': '2c_Hurink_rdata', 'instance': 48, 'ga': 690.0, 'gurobi': 570, 'literature': 562.0, 'beta': 0.13333333333333333, 'optimizer': 'Gurobi', 'best': 570}, '2c_Hurink_rdata49': {'source': '2c_Hurink_rdata', 'instance': 49, 'ga': 5071.0, 'gurobi': 5066, 'literature': 5057.0, 'beta': 0.4, 'optimizer': 'Gurobi', 'best': 5066}, '2c_Hurink_rdata50': {'source': '2c_Hurink_rdata', 'instance': 50, 'ga': 5988.0, 'gurobi': 5987, 'literature': 5987.0, 'beta': 0.5, 'optimizer': 'Gurobi', 'best': 5987}, '2c_Hurink_rdata51': {'source': '2c_Hurink_rdata', 'instance': 51, 'ga': 5654.0, 'gurobi': 5651, 'literature': 5626.0, 'beta': 0.4, 'optimizer': 'Gurobi', 'best': 5651}, '2c_Hurink_rdata53': {'source': '2c_Hurink_rdata', 'instance': 53, 'ga': 5785.0, 'gurobi': 5647, 'literature': 5764.0, 'beta': 0.3333333333333333, 'optimizer': 'Gurobi', 'best': 5647}, '2c_Hurink_rdata54': {'source': '2c_Hurink_rdata', 'instance': 54, 'ga': 6237.0, 'gurobi': 6147, 'literature': 6147.0, 'beta': 0.2222222222222222, 'optimizer': 'Gurobi', 'best': 6147}, '2c_Hurink_rdata55': {'source': '2c_Hurink_rdata', 'instance': 55, 'ga': 4432.0, 'gurobi': 4425, 'literature': 4432.0, 'beta': 0.2857142857142857, 'optimizer': 'Gurobi', 'best': 4425}, '2c_Hurink_rdata56': {'source': '2c_Hurink_rdata', 'instance': 56, 'ga': 5748.0, 'gurobi': 5692, 'literature': 5692.0, 'beta': 0.25, 'optimizer': 'Gurobi', 'best': 5692}, '2c_Hurink_rdata57': {'source': '2c_Hurink_rdata', 'instance': 57, 'ga': 779.0, 'gurobi': 746, 'literature': 763.0, 'beta': 0.2, 'optimizer': 'Gurobi', 'best': 746}, '2c_Hurink_rdata58': {'source': '2c_Hurink_rdata', 'instance': 58, 'ga': 728.0, 'gurobi': 696, 'literature': 703.0, 'beta': 0.2, 'optimizer': 'Gurobi', 'best': 696}, '2c_Hurink_rdata59': {'source': '2c_Hurink_rdata', 'instance': 59, 'ga': 746.0, 'gurobi': 712, 'literature': 720.0, 'beta': 0.2, 'optimizer': 'Gurobi', 'best': 712}, '2c_Hurink_rdata60': {'source': '2c_Hurink_rdata', 'instance': 60, 'ga': 781.0, 'gurobi': 753, 'literature': 753.0, 'beta': 0.2, 'optimizer': 'Gurobi', 'best': 753}, '2c_Hurink_rdata61': {'source': '2c_Hurink_rdata', 'instance': 61, 'ga': 667.0, 'gurobi': 639, 'literature': 643.0, 'beta': 0.2, 'optimizer': 'Gurobi', 'best': 639}, '2c_Hurink_rdata62': {'source': '2c_Hurink_rdata', 'instance': 62, 'ga': 783.0, 'gurobi': 754, 'literature': 766.0, 'beta': 0.2, 'optimizer': 'Gurobi', 'best': 754}, '2c_Hurink_rdata63': {'source': '2c_Hurink_rdata', 'instance': 63, 'ga': 312.0, 'gurobi': 302, 'literature': 302.0, 'beta': 0.2, 'optimizer': 'Gurobi', 'best': 302}, '2c_Hurink_rdata64': {'source': '2c_Hurink_rdata', 'instance': 64, 'ga': 656.0, 'gurobi': 639, 'literature': 651.0, 'beta': 0.2, 'optimizer': 'Gurobi', 'best': 639}, '2c_Hurink_rdata65': {'source': '2c_Hurink_rdata', 'instance': 65, 'ga': 730.0, 'gurobi': 694, 'literature': 694.0, 'beta': 0.2, 'optimizer': 'Gurobi', 'best': 694}, '2c_Hurink_rdata66': {'source': '2c_Hurink_rdata', 'instance': 66, 'ga': 769.0, 'gurobi': 742, 'literature': 750.0, 'beta': 0.2, 'optimizer': 'Gurobi', 'best': 742}, '2d_Hurink_vdata4': {'source': '2d_Hurink_vdata', 'instance': 4, 'ga': 572.0, 'gurobi': 571, 'literature': 570.0, 'beta': 0.5, 'optimizer': 'Gurobi', 'best': 571}, '2d_Hurink_vdata5': {'source': '2d_Hurink_vdata', 'instance': 5, 'ga': 531.0, 'gurobi': 530, 'literature': 529.0, 'beta': 0.5, 'optimizer': 'Gurobi', 'best': 530}, '2d_Hurink_vdata8': {'source': '2d_Hurink_vdata', 'instance': 8, 'ga': 461.0, 'gurobi': 459, 'literature': 457.0, 'beta': 0.5, 'optimizer': 'Gurobi', 'best': 459}, '2d_Hurink_vdata22': {'source': '2d_Hurink_vdata', 'instance': 22, 'ga': 651.0, 'gurobi': 617, 'literature': 617.0, 'beta': 0.5, 'optimizer': 'Gurobi', 'best': 617}, '2d_Hurink_vdata24': {'source': '2d_Hurink_vdata', 'instance': 24, 'ga': 873.0, 'gurobi': 828, 'literature': 804.0, 'beta': 0.5, 'optimizer': 'Gurobi', 'best': 828}, '2d_Hurink_vdata25': {'source': '2d_Hurink_vdata', 'instance': 25, 'ga': 777.0, 'gurobi': 756, 'literature': 736.0, 'beta': 0.5, 'optimizer': 'Gurobi', 'best': 756}, '2d_Hurink_vdata26': {'source': '2d_Hurink_vdata', 'instance': 26, 'ga': 854.0, 'gurobi': 848, 'literature': 815.0, 'beta': 0.5, 'optimizer': 'Gurobi', 'best': 848}, '2d_Hurink_vdata27': {'source': '2d_Hurink_vdata', 'instance': 27, 'ga': 828.0, 'gurobi': 814, 'literature': 775.0, 'beta': 0.5, 'optimizer': 'Gurobi', 'best': 814}, '2d_Hurink_vdata28': {'source': '2d_Hurink_vdata', 'instance': 28, 'ga': 825.0, 'gurobi': 796, 'literature': 756.0, 'beta': 0.5, 'optimizer': 'Gurobi', 'best': 796}, '2d_Hurink_vdata30': {'source': '2d_Hurink_vdata', 'instance': 30, 'ga': 1109.0, 'gurobi': 1100, 'literature': 1084.0, 'beta': 0.5, 'optimizer': 'Gurobi', 'best': 1100}, '2d_Hurink_vdata33': {'source': '2d_Hurink_vdata', 'instance': 33, 'ga': 1106.0, 'gurobi': 1086, 'literature': 1069.0, 'beta': 0.5, 'optimizer': 'Gurobi', 'best': 1086}, '2d_Hurink_vdata34': {'source': '2d_Hurink_vdata', 'instance': 34, 'ga': 1691.0, 'gurobi': 1600, 'literature': 1520.0, 'beta': 0.5, 'optimizer': 'Gurobi', 'best': 1600}, '2d_Hurink_vdata35': {'source': '2d_Hurink_vdata', 'instance': 35, 'ga': 1879.0, 'gurobi': 1723, 'literature': 1658.0, 'beta': 0.5, 'optimizer': 'Gurobi', 'best': 1723}, '2d_Hurink_vdata36': {'source': '2d_Hurink_vdata', 'instance': 36, 'ga': 1695.0, 'gurobi': 1544, 'literature': 1497.0, 'beta': 0.5, 'optimizer': 'Gurobi', 'best': 1544}, '2d_Hurink_vdata37': {'source': '2d_Hurink_vdata', 'instance': 37, 'ga': 1755.0, 'gurobi': 1639, 'literature': 1535.0, 'beta': 0.5, 'optimizer': 'Gurobi', 'best': 1639}, '2d_Hurink_vdata38': {'source': '2d_Hurink_vdata', 'instance': 38, 'ga': 1738.0, 'gurobi': 1641, 'literature': 1549.0, 'beta': 0.5, 'optimizer': 'Gurobi', 'best': 1641}, '2d_Hurink_vdata39': {'source': '2d_Hurink_vdata', 'instance': 39, 'ga': 1035.0, 'gurobi': 948, 'literature': 948.0, 'beta': 0.5, 'optimizer': 'Gurobi', 'best': 948}, '2d_Hurink_vdata40': {'source': '2d_Hurink_vdata', 'instance': 40, 'ga': 1050.0, 'gurobi': 986, 'literature': 986.0, 'beta': 0.5, 'optimizer': 'Gurobi', 'best': 986}, '2d_Hurink_vdata41': {'source': '2d_Hurink_vdata', 'instance': 41, 'ga': 977.0, 'gurobi': 943, 'literature': 943.0, 'beta': 0.5, 'optimizer': 'Gurobi', 'best': 943}, '2d_Hurink_vdata42': {'source': '2d_Hurink_vdata', 'instance': 42, 'ga': 998.0, 'gurobi': 922, 'literature': 922.0, 'beta': 0.5, 'optimizer': 'Gurobi', 'best': 922}, '2d_Hurink_vdata43': {'source': '2d_Hurink_vdata', 'instance': 43, 'ga': 979.0, 'gurobi': 955, 'literature': 955.0, 'beta': 0.5, 'optimizer': 'Gurobi', 'best': 955}, '2d_Hurink_vdata44': {'source': '2d_Hurink_vdata', 'instance': 44, 'ga': 901.0, 'gurobi': 859, 'literature': 860.0, 'beta': 0.5, 'optimizer': 'Gurobi', 'best': 859}, '2d_Hurink_vdata46': {'source': '2d_Hurink_vdata', 'instance': 46, 'ga': 681.0, 'gurobi': 530, 'literature': 495.0, 'beta': 0.5, 'optimizer': 'Gurobi', 'best': 530}, '2d_Hurink_vdata47': {'source': '2d_Hurink_vdata', 'instance': 47, 'ga': 710.0, 'gurobi': 575, 'literature': 509.0, 'beta': 0.5, 'optimizer': 'Gurobi', 'best': 575}, '2d_Hurink_vdata48': {'source': '2d_Hurink_vdata', 'instance': 48, 'ga': 710.0, 'gurobi': 571, 'literature': 500.0, 'beta': 0.5, 'optimizer': 'Gurobi', 'best': 571}, '2d_Hurink_vdata50': {'source': '2d_Hurink_vdata', 'instance': 50, 'ga': 5931.0, 'gurobi': 5930, 'literature': 5930.0, 'beta': 0.5, 'optimizer': 'Gurobi', 'best': 5930}, '2d_Hurink_vdata51': {'source': '2d_Hurink_vdata', 'instance': 51, 'ga': 5616.0, 'gurobi': 5606, 'literature': 5600.0, 'beta': 0.5, 'optimizer': 'Gurobi', 'best': 5606}, '2d_Hurink_vdata53': {'source': '2d_Hurink_vdata', 'instance': 53, 'ga': 4984.0, 'gurobi': 4955, 'literature': 4932.0, 'beta': 0.5, 'optimizer': 'Gurobi', 'best': 4955}, '2d_Hurink_vdata58': {'source': '2d_Hurink_vdata', 'instance': 58, 'ga': 627.0, 'gurobi': 620, 'literature': 620.0, 'beta': 0.5, 'optimizer': 'Gurobi', 'best': 620}, '2d_Hurink_vdata61': {'source': '2d_Hurink_vdata', 'instance': 61, 'ga': 593.0, 'gurobi': 584, 'literature': 584.0, 'beta': 0.5, 'optimizer': 'Gurobi', 'best': 584}, '2d_Hurink_vdata63': {'source': '2d_Hurink_vdata', 'instance': 63, 'ga': 282.0, 'gurobi': 275, 'literature': 275.0, 'beta': 0.5, 'optimizer': 'Gurobi', 'best': 275}, '1_Brandimarte1': {'source': '1_Brandimarte', 'instance': 1, 'ga': 40.0, 'gurobi': 40, 'literature': 40.0, 'beta': 0.3333333333333333, 'optimizer': 'Tie', 'best': 40.0}, '1_Brandimarte3': {'source': '1_Brandimarte', 'instance': 3, 'ga': 204.0, 'gurobi': 204, 'literature': 204.0, 'beta': 0.375, 'optimizer': 'Tie', 'best': 204.0}, '1_Brandimarte4': {'source': '1_Brandimarte', 'instance': 4, 'ga': 60.0, 'gurobi': 60, 'literature': 60.0, 'beta': 0.25, 'optimizer': 'Tie', 'best': 60.0}, '1_Brandimarte5': {'source': '1_Brandimarte', 'instance': 5, 'ga': 173.0, 'gurobi': 173, 'literature': 172.0, 'beta': 0.375, 'optimizer': 'Tie', 'best': 173.0}, '1_Brandimarte8': {'source': '1_Brandimarte', 'instance': 8, 'ga': 523.0, 'gurobi': 523, 'literature': 523.0, 'beta': 0.15, 'optimizer': 'Tie', 'best': 523.0}, '1_Brandimarte12': {'source': '1_Brandimarte', 'instance': 12, 'ga': 508.0, 'gurobi': 508, 'literature': 508.0, 'beta': 0.14922279792746102, 'optimizer': 'Tie', 'best': 508.0}, '1_Brandimarte14': {'source': '1_Brandimarte', 'instance': 14, 'ga': 694.0, 'gurobi': 694, 'literature': 694.0, 'beta': 0.103971119133574, 'optimizer': 'Tie', 'best': 694.0}, '0_BehnkeGeiger24': {'source': '0_BehnkeGeiger', 'instance': 24, 'ga': 87.0, 'gurobi': 87, 'literature': 87.0, 'beta': 0.282, 'optimizer': 'Tie', 'best': 87.0}, '0_BehnkeGeiger41': {'source': '0_BehnkeGeiger', 'instance': 41, 'ga': 87.0, 'gurobi': 87, 'literature': 87.0, 'beta': 0.37066666666666664, 'optimizer': 'Tie', 'best': 87.0}, '0_BehnkeGeiger45': {'source': '0_BehnkeGeiger', 'instance': 45, 'ga': 87.0, 'gurobi': 87, 'literature': 87.0, 'beta': 0.33999999999999997, 'optimizer': 'Tie', 'best': 87.0}, '0_BehnkeGeiger55': {'source': '0_BehnkeGeiger', 'instance': 55, 'ga': 253.0, 'gurobi': 253, 'literature': 256.0, 'beta': 0.29233333333333333, 'optimizer': 'Tie', 'best': 253.0}, '5_Kacem1': {'source': '5_Kacem', 'instance': 1, 'ga': 11.0, 'gurobi': 11, 'literature': 11.0, 'beta': 1.0, 'optimizer': 'Tie', 'best': 11.0}, '5_Kacem2': {'source': '5_Kacem', 'instance': 2, 'ga': 11.0, 'gurobi': 11, 'literature': 11.0, 'beta': 1.0, 'optimizer': 'Tie', 'best': 11.0}, '5_Kacem3': {'source': '5_Kacem', 'instance': 3, 'ga': 7.0, 'gurobi': 7, 'literature': 7.0, 'beta': 1.0, 'optimizer': 'Tie', 'best': 7.0}, '5_Kacem4': {'source': '5_Kacem', 'instance': 4, 'ga': 11.0, 'gurobi': 11, 'literature': 12.0, 'beta': 1.0, 'optimizer': 'Tie', 'best': 11.0}, '6_Fattahi1': {'source': '6_Fattahi', 'instance': 1, 'ga': 66.0, 'gurobi': 66, 'literature': 66.0, 'beta': 1.0, 'optimizer': 'Tie', 'best': 66.0}, '6_Fattahi2': {'source': '6_Fattahi', 'instance': 2, 'ga': 107.0, 'gurobi': 107, 'literature': 107.0, 'beta': 0.75, 'optimizer': 'Tie', 'best': 107.0}, '6_Fattahi3': {'source': '6_Fattahi', 'instance': 3, 'ga': 221.0, 'gurobi': 221, 'literature': 221.0, 'beta': 0.85, 'optimizer': 'Tie', 'best': 221.0}, '6_Fattahi4': {'source': '6_Fattahi', 'instance': 4, 'ga': 355.0, 'gurobi': 355, 'literature': 355.0, 'beta': 0.85, 'optimizer': 'Tie', 'best': 355.0}, '6_Fattahi5': {'source': '6_Fattahi', 'instance': 5, 'ga': 119.0, 'gurobi': 119, 'literature': 119.0, 'beta': 1.0, 'optimizer': 'Tie', 'best': 119.0}, '6_Fattahi6': {'source': '6_Fattahi', 'instance': 6, 'ga': 320.0, 'gurobi': 320, 'literature': 320.0, 'beta': 0.5333333333333333, 'optimizer': 'Tie', 'best': 320.0}, '6_Fattahi7': {'source': '6_Fattahi', 'instance': 7, 'ga': 397.0, 'gurobi': 397, 'literature': 397.0, 'beta': 0.4, 'optimizer': 'Tie', 'best': 397.0}, '6_Fattahi8': {'source': '6_Fattahi', 'instance': 8, 'ga': 253.0, 'gurobi': 253, 'literature': 253.0, 'beta': 0.5, 'optimizer': 'Tie', 'best': 253.0}, '6_Fattahi9': {'source': '6_Fattahi', 'instance': 9, 'ga': 210.0, 'gurobi': 210, 'literature': 210.0, 'beta': 0.6666666666666666, 'optimizer': 'Tie', 'best': 210.0}, '6_Fattahi10': {'source': '6_Fattahi', 'instance': 10, 'ga': 516.0, 'gurobi': 516, 'literature': 516.0, 'beta': 0.33999999999999997, 'optimizer': 'Tie', 'best': 516.0}, '6_Fattahi11': {'source': '6_Fattahi', 'instance': 11, 'ga': 468.0, 'gurobi': 468, 'literature': 468.0, 'beta': 0.3666666666666667, 'optimizer': 'Tie', 'best': 468.0}, '6_Fattahi12': {'source': '6_Fattahi', 'instance': 12, 'ga': 446.0, 'gurobi': 446, 'literature': 446.0, 'beta': 0.38571428571428573, 'optimizer': 'Tie', 'best': 446.0}, '6_Fattahi13': {'source': '6_Fattahi', 'instance': 13, 'ga': 466.0, 'gurobi': 466, 'literature': 466.0, 'beta': 0.38571428571428573, 'optimizer': 'Tie', 'best': 466.0}, '6_Fattahi14': {'source': '6_Fattahi', 'instance': 14, 'ga': 554.0, 'gurobi': 554, 'literature': 554.0, 'beta': 0.38571428571428573, 'optimizer': 'Tie', 'best': 554.0}, '6_Fattahi15': {'source': '6_Fattahi', 'instance': 15, 'ga': 514.0, 'gurobi': 514, 'literature': 514.0, 'beta': 0.37142857142857144, 'optimizer': 'Tie', 'best': 514.0}, '6_Fattahi16': {'source': '6_Fattahi', 'instance': 16, 'ga': 634.0, 'gurobi': 634, 'literature': 634.0, 'beta': 0.37142857142857144, 'optimizer': 'Tie', 'best': 634.0}, '6_Fattahi17': {'source': '6_Fattahi', 'instance': 17, 'ga': 879.0, 'gurobi': 879, 'literature': 879.0, 'beta': 0.34285714285714286, 'optimizer': 'Tie', 'best': 879.0}, '6_Fattahi18': {'source': '6_Fattahi', 'instance': 18, 'ga': 884.0, 'gurobi': 884, 'literature': 884.0, 'beta': 0.3, 'optimizer': 'Tie', 'best': 884.0}, '2b_Hurink_edata1': {'source': '2b_Hurink_edata', 'instance': 1, 'ga': 55.0, 'gurobi': 55, 'literature': 55.0, 'beta': 0.19166666666666665, 'optimizer': 'Tie', 'best': 55.0}, '2b_Hurink_edata4': {'source': '2b_Hurink_edata', 'instance': 4, 'ga': 609.0, 'gurobi': 609, 'literature': 609.0, 'beta': 0.22999999999999998, 'optimizer': 'Tie', 'best': 609.0}, '2b_Hurink_edata5': {'source': '2b_Hurink_edata', 'instance': 5, 'ga': 655.0, 'gurobi': 655, 'literature': 655.0, 'beta': 0.22999999999999998, 'optimizer': 'Tie', 'best': 655.0}, '2b_Hurink_edata7': {'source': '2b_Hurink_edata', 'instance': 7, 'ga': 568.0, 'gurobi': 568, 'literature': 568.0, 'beta': 0.22999999999999998, 'optimizer': 'Tie', 'best': 568.0}, '2b_Hurink_edata8': {'source': '2b_Hurink_edata', 'instance': 8, 'ga': 503.0, 'gurobi': 503, 'literature': 503.0, 'beta': 0.22999999999999998, 'optimizer': 'Tie', 'best': 503.0}, '2b_Hurink_edata9': {'source': '2b_Hurink_edata', 'instance': 9, 'ga': 833.0, 'gurobi': 833, 'literature': 833.0, 'beta': 0.22999999999999998, 'optimizer': 'Tie', 'best': 833.0}, '2b_Hurink_edata11': {'source': '2b_Hurink_edata', 'instance': 11, 'ga': 845.0, 'gurobi': 845, 'literature': 845.0, 'beta': 0.22999999999999998, 'optimizer': 'Tie', 'best': 845.0}, '2b_Hurink_edata12': {'source': '2b_Hurink_edata', 'instance': 12, 'ga': 878.0, 'gurobi': 878, 'literature': 878.0, 'beta': 0.22999999999999998, 'optimizer': 'Tie', 'best': 878.0}, '2b_Hurink_edata13': {'source': '2b_Hurink_edata', 'instance': 13, 'ga': 866.0, 'gurobi': 866, 'literature': 866.0, 'beta': 0.22999999999999998, 'optimizer': 'Tie', 'best': 866.0}, '2b_Hurink_edata14': {'source': '2b_Hurink_edata', 'instance': 14, 'ga': 1106.0, 'gurobi': 1106, 'literature': 1103.0, 'beta': 0.22999999999999998, 'optimizer': 'Tie', 'best': 1106.0}, '2b_Hurink_edata15': {'source': '2b_Hurink_edata', 'instance': 15, 'ga': 960.0, 'gurobi': 960, 'literature': 960.0, 'beta': 0.22999999999999998, 'optimizer': 'Tie', 'best': 960.0}, '2b_Hurink_edata16': {'source': '2b_Hurink_edata', 'instance': 16, 'ga': 1053.0, 'gurobi': 1053, 'literature': 1053.0, 'beta': 0.22999999999999998, 'optimizer': 'Tie', 'best': 1053.0}, '2b_Hurink_edata17': {'source': '2b_Hurink_edata', 'instance': 17, 'ga': 1123.0, 'gurobi': 1123, 'literature': 1123.0, 'beta': 0.22999999999999998, 'optimizer': 'Tie', 'best': 1123.0}, '2b_Hurink_edata20': {'source': '2b_Hurink_edata', 'instance': 20, 'ga': 707.0, 'gurobi': 707, 'literature': 707.0, 'beta': 0.11499999999999999, 'optimizer': 'Tie', 'best': 707.0}, '2b_Hurink_edata52': {'source': '2b_Hurink_edata', 'instance': 52, 'ga': 7789.0, 'gurobi': 7789, 'literature': 7789.0, 'beta': 0.2875, 'optimizer': 'Tie', 'best': 7789.0}, '2b_Hurink_edata53': {'source': '2b_Hurink_edata', 'instance': 53, 'ga': 7229.0, 'gurobi': 7229, 'literature': 7229.0, 'beta': 0.19166666666666665, 'optimizer': 'Tie', 'best': 7229.0}, '2b_Hurink_edata55': {'source': '2b_Hurink_edata', 'instance': 55, 'ga': 6123.0, 'gurobi': 6123, 'literature': 6123.0, 'beta': 0.16428571428571428, 'optimizer': 'Tie', 'best': 6123.0}, '2b_Hurink_edata56': {'source': '2b_Hurink_edata', 'instance': 56, 'ga': 7689.0, 'gurobi': 7689, 'literature': 7689.0, 'beta': 0.14375, 'optimizer': 'Tie', 'best': 7689.0}, '2c_Hurink_rdata1': {'source': '2c_Hurink_rdata', 'instance': 1, 'ga': 47.0, 'gurobi': 47, 'literature': 47.0, 'beta': 0.3333333333333333, 'optimizer': 'Tie', 'best': 47.0}, '2c_Hurink_rdata6': {'source': '2c_Hurink_rdata', 'instance': 6, 'ga': 479.0, 'gurobi': 479, 'literature': 478.0, 'beta': 0.4, 'optimizer': 'Tie', 'best': 479.0}, '2c_Hurink_rdata8': {'source': '2c_Hurink_rdata', 'instance': 8, 'ga': 458.0, 'gurobi': 458, 'literature': 457.0, 'beta': 0.4, 'optimizer': 'Tie', 'best': 458.0}, '2c_Hurink_rdata20': {'source': '2c_Hurink_rdata', 'instance': 20, 'ga': 646.0, 'gurobi': 646, 'literature': 646.0, 'beta': 0.2, 'optimizer': 'Tie', 'best': 646.0}, '2d_Hurink_vdata1': {'source': '2d_Hurink_vdata', 'instance': 1, 'ga': 47.0, 'gurobi': 47, 'literature': 47.0, 'beta': 0.5, 'optimizer': 'Tie', 'best': 47.0}, '2d_Hurink_vdata2': {'source': '2d_Hurink_vdata', 'instance': 2, 'ga': 655.0, 'gurobi': 655, 'literature': 655.0, 'beta': 0.5, 'optimizer': 'Tie', 'best': 655.0}, '2d_Hurink_vdata6': {'source': '2d_Hurink_vdata', 'instance': 6, 'ga': 478.0, 'gurobi': 478, 'literature': 477.0, 'beta': 0.5, 'optimizer': 'Tie', 'best': 478.0}, '2d_Hurink_vdata7': {'source': '2d_Hurink_vdata', 'instance': 7, 'ga': 503.0, 'gurobi': 503, 'literature': 502.0, 'beta': 0.5, 'optimizer': 'Tie', 'best': 503.0}, '2d_Hurink_vdata9': {'source': '2d_Hurink_vdata', 'instance': 9, 'ga': 801.0, 'gurobi': 801, 'literature': 799.0, 'beta': 0.5, 'optimizer': 'Tie', 'best': 801.0}, '2d_Hurink_vdata10': {'source': '2d_Hurink_vdata', 'instance': 10, 'ga': 752.0, 'gurobi': 752, 'literature': 749.0, 'beta': 0.5, 'optimizer': 'Tie', 'best': 752.0}, '2d_Hurink_vdata12': {'source': '2d_Hurink_vdata', 'instance': 12, 'ga': 854.0, 'gurobi': 854, 'literature': 853.0, 'beta': 0.5, 'optimizer': 'Tie', 'best': 854.0}, '2d_Hurink_vdata13': {'source': '2d_Hurink_vdata', 'instance': 13, 'ga': 805.0, 'gurobi': 805, 'literature': 804.0, 'beta': 0.5, 'optimizer': 'Tie', 'best': 805.0}, '2d_Hurink_vdata18': {'source': '2d_Hurink_vdata', 'instance': 18, 'ga': 1091.0, 'gurobi': 1091, 'literature': 1089.0, 'beta': 0.5, 'optimizer': 'Tie', 'best': 1091.0}, '2d_Hurink_vdata19': {'source': '2d_Hurink_vdata', 'instance': 19, 'ga': 717.0, 'gurobi': 717, 'literature': 717.0, 'beta': 0.5, 'optimizer': 'Tie', 'best': 717.0}, '2d_Hurink_vdata20': {'source': '2d_Hurink_vdata', 'instance': 20, 'ga': 646.0, 'gurobi': 646, 'literature': 646.0, 'beta': 0.5, 'optimizer': 'Tie', 'best': 646.0}, '2d_Hurink_vdata21': {'source': '2d_Hurink_vdata', 'instance': 21, 'ga': 663.0, 'gurobi': 663, 'literature': 663.0, 'beta': 0.5, 'optimizer': 'Tie', 'best': 663.0}, '2d_Hurink_vdata23': {'source': '2d_Hurink_vdata', 'instance': 23, 'ga': 756.0, 'gurobi': 756, 'literature': 756.0, 'beta': 0.5, 'optimizer': 'Tie', 'best': 756.0}, '2d_Hurink_vdata45': {'source': '2d_Hurink_vdata', 'instance': 45, 'ga': 742.0, 'gurobi': 742, 'literature': 742.0, 'beta': 0.5, 'optimizer': 'Tie', 'best': 742.0}, '2d_Hurink_vdata52': {'source': '2d_Hurink_vdata', 'instance': 52, 'ga': 6516.0, 'gurobi': 6516, 'literature': 6517.0, 'beta': 0.5, 'optimizer': 'Tie', 'best': 6516.0}, '2d_Hurink_vdata54': {'source': '2d_Hurink_vdata', 'instance': 54, 'ga': 5486.0, 'gurobi': 5486, 'literature': 5486.0, 'beta': 0.5, 'optimizer': 'Tie', 'best': 5486.0}, '2d_Hurink_vdata55': {'source': '2d_Hurink_vdata', 'instance': 55, 'ga': 4281.0, 'gurobi': 4281, 'literature': 4281.0, 'beta': 0.5, 'optimizer': 'Tie', 'best': 4281.0}, '2d_Hurink_vdata56': {'source': '2d_Hurink_vdata', 'instance': 56, 'ga': 4613.0, 'gurobi': 4613, 'literature': 4613.0, 'beta': 0.5, 'optimizer': 'Tie', 'best': 4613.0}, '2d_Hurink_vdata57': {'source': '2d_Hurink_vdata', 'instance': 57, 'ga': 695.0, 'gurobi': 695, 'literature': 695.0, 'beta': 0.5, 'optimizer': 'Tie', 'best': 695.0}, '2d_Hurink_vdata59': {'source': '2d_Hurink_vdata', 'instance': 59, 'ga': 648.0, 'gurobi': 648, 'literature': 648.0, 'beta': 0.5, 'optimizer': 'Tie', 'best': 648.0}, '2d_Hurink_vdata60': {'source': '2d_Hurink_vdata', 'instance': 60, 'ga': 753.0, 'gurobi': 753, 'literature': 753.0, 'beta': 0.5, 'optimizer': 'Tie', 'best': 753.0}, '2d_Hurink_vdata62': {'source': '2d_Hurink_vdata', 'instance': 62, 'ga': 715.0, 'gurobi': 715, 'literature': 715.0, 'beta': 0.5, 'optimizer': 'Tie', 'best': 715.0}, '2d_Hurink_vdata64': {'source': '2d_Hurink_vdata', 'instance': 64, 'ga': 573.0, 'gurobi': 573, 'literature': 573.0, 'beta': 0.5, 'optimizer': 'Tie', 'best': 573.0}, '2d_Hurink_vdata65': {'source': '2d_Hurink_vdata', 'instance': 65, 'ga': 659.0, 'gurobi': 659, 'literature': 659.0, 'beta': 0.5, 'optimizer': 'Tie', 'best': 659.0}, '2d_Hurink_vdata66': {'source': '2d_Hurink_vdata', 'instance': 66, 'ga': 681.0, 'gurobi': 681, 'literature': 681.0, 'beta': 0.5, 'optimizer': 'Tie', 'best': 681.0}}\n"
     ]
    }
   ],
   "source": [
    "print(all_data)"
   ]
  },
  {
   "cell_type": "code",
   "execution_count": 106,
   "metadata": {},
   "outputs": [
    {
     "name": "stdout",
     "output_type": "stream",
     "text": [
      "Flexibility: 0.330795773163276\n",
      "# Machines: 10.566037735849056\n",
      "# Operations: 178.56603773584905\n",
      "Duration Variety: 0.1912242759969459\n"
     ]
    }
   ],
   "source": [
    "x = []\n",
    "y = []\n",
    "avg_flexibility = 0\n",
    "avg_n_machines = 0\n",
    "avg_n_operations = 0\n",
    "avg_n_duration_variety = 0\n",
    "for entry in ga_clean:\n",
    "    benchmark = get_benchmark(entry[0], entry[1])\n",
    "    avg_flexibility += benchmark['beta_flexibility']\n",
    "    avg_n_machines += benchmark['n_machines']\n",
    "    avg_n_operations += benchmark['n_operations']\n",
    "    avg_n_duration_variety += benchmark['duration_variety']\n",
    "print(f'Flexibility: {avg_flexibility/len(ga_clean)}')\n",
    "print(f'# Machines: {avg_n_machines/len(ga_clean)}')\n",
    "print(f'# Operations: {avg_n_operations/len(ga_clean)}')\n",
    "print(f'Duration Variety: {avg_n_duration_variety/len(ga_clean)}')"
   ]
  },
  {
   "cell_type": "code",
   "execution_count": 107,
   "metadata": {},
   "outputs": [
    {
     "name": "stdout",
     "output_type": "stream",
     "text": [
      "Flexibility: 0.2472821865479912\n",
      "# Machines: 17.551724137931036\n",
      "# Operations: 180.4039408866995\n",
      "Duration Variety: 0.23749058873737436\n"
     ]
    }
   ],
   "source": [
    "avg_flexibility = 0\n",
    "avg_n_machines = 0\n",
    "avg_n_operations = 0\n",
    "avg_n_duration_variety = 0\n",
    "for entry in gurobi_clean:\n",
    "    benchmark = get_benchmark(entry[0], entry[1])\n",
    "    avg_flexibility += benchmark['beta_flexibility']\n",
    "    avg_n_machines += benchmark['n_machines']\n",
    "    avg_n_operations += benchmark['n_operations']\n",
    "    avg_n_duration_variety += benchmark['duration_variety']\n",
    "print(f'Flexibility: {avg_flexibility/len(gurobi_clean)}')\n",
    "print(f'# Machines: {avg_n_machines/len(gurobi_clean)}')\n",
    "print(f'# Operations: {avg_n_operations/len(gurobi_clean)}')\n",
    "print(f'Duration Variety: {avg_n_duration_variety/len(gurobi_clean)}')"
   ]
  },
  {
   "cell_type": "code",
   "execution_count": 108,
   "metadata": {},
   "outputs": [
    {
     "name": "stdout",
     "output_type": "stream",
     "text": [
      "Flexibility: 0.431353168010882\n",
      "# Machines: 9.0625\n",
      "# Operations: 68.2125\n",
      "Duration Variety: 0.386582493005297\n"
     ]
    }
   ],
   "source": [
    "avg_flexibility = 0\n",
    "avg_n_machines = 0\n",
    "avg_n_operations = 0\n",
    "avg_n_duration_variety = 0\n",
    "for entry in ties_clean:\n",
    "    benchmark = get_benchmark(entry[0], entry[1])\n",
    "    avg_flexibility += benchmark['beta_flexibility']\n",
    "    avg_n_machines += benchmark['n_machines']\n",
    "    avg_n_operations += benchmark['n_operations']\n",
    "    avg_n_duration_variety += benchmark['duration_variety']\n",
    "print(f'Flexibility: {avg_flexibility/len(ties_clean)}')\n",
    "print(f'# Machines: {avg_n_machines/len(ties_clean)}')\n",
    "print(f'# Operations: {avg_n_operations/len(ties_clean)}')\n",
    "print(f'Duration Variety: {avg_n_duration_variety/len(ties_clean)}')"
   ]
  },
  {
   "cell_type": "code",
   "execution_count": 109,
   "metadata": {},
   "outputs": [],
   "source": [
    "beta_df = pd.DataFrame(all_data)"
   ]
  },
  {
   "cell_type": "code",
   "execution_count": 110,
   "metadata": {},
   "outputs": [],
   "source": [
    "sources = dict()\n",
    "for entry in ga_clean:\n",
    "    benchmark = get_benchmark(entry[0], entry[1])\n",
    "    if entry[0] not in sources:\n",
    "        sources[entry[0]] = {'win': 0, 'lose': 0, 'tie': 0, 'beta': 0.0}\n",
    "    sources[entry[0]]['win'] += 1\n",
    "    sources[entry[0]]['beta'] += benchmark['beta_flexibility']\n",
    "for entry in gurobi_clean:\n",
    "    benchmark = get_benchmark(entry[0], entry[1])\n",
    "    if entry[0] not in sources:\n",
    "        sources[entry[0]] = {'win': 0, 'lose': 0, 'tie': 0, 'beta': 0.0}\n",
    "    sources[entry[0]]['lose'] += 1\n",
    "    sources[entry[0]]['beta'] += benchmark['beta_flexibility']\n",
    "for entry in ties_clean:\n",
    "    benchmark = get_benchmark(entry[0], entry[1])\n",
    "    if entry[0] not in sources:\n",
    "        sources[entry[0]] = {'win': 0, 'lose': 0, 'tie': 0, 'beta': 0.0}\n",
    "    sources[entry[0]]['tie'] += 1\n",
    "    sources[entry[0]]['beta'] += benchmark['beta_flexibility']"
   ]
  },
  {
   "cell_type": "code",
   "execution_count": 111,
   "metadata": {},
   "outputs": [
    {
     "name": "stdout",
     "output_type": "stream",
     "text": [
      "Source\t\t\tBetter\tWorse\tTied\tAverage Flexibility\n",
      "1_Brandimarte\t\t4\t4\t7\t0.3040297182822806\n",
      "0_BehnkeGeiger\t\t8\t48\t4\t0.31560138888888883\n",
      "6_Fattahi\t\t1\t1\t18\t0.5187261904761906\n",
      "3_DPpaulli\t\t12\t6\t0\t0.14166666666666672\n",
      "2b_Hurink_edata\t\t1\t47\t18\t0.15064363876863893\n",
      "2c_Hurink_rdata\t\t17\t45\t4\t0.26198893698893666\n",
      "2d_Hurink_vdata\t\t10\t31\t25\t0.5\n",
      "4_ChambersBarnes\t\t0\t21\t0\t0.07542430336547985\n",
      "5_Kacem\t\t0\t0\t4\t1.0\n"
     ]
    }
   ],
   "source": [
    "print(f'Source\\t\\t\\tBetter\\tWorse\\tTied\\tAverage Flexibility')\n",
    "for key in sources.keys():\n",
    "    print(f'{key}\\t\\t{sources[key][\"win\"]}\\t{sources[key][\"lose\"]}\\t{sources[key][\"tie\"]}\\t{sources[key][\"beta\"]/(sources[key][\"win\"]+sources[key][\"lose\"]+sources[key][\"tie\"])}')\n"
   ]
  }
 ],
 "metadata": {
  "kernelspec": {
   "display_name": "Python 3",
   "language": "python",
   "name": "python3"
  },
  "language_info": {
   "codemirror_mode": {
    "name": "ipython",
    "version": 3
   },
   "file_extension": ".py",
   "mimetype": "text/x-python",
   "name": "python",
   "nbconvert_exporter": "python",
   "pygments_lexer": "ipython3",
   "version": "3.11.1"
  }
 },
 "nbformat": 4,
 "nbformat_minor": 2
}
