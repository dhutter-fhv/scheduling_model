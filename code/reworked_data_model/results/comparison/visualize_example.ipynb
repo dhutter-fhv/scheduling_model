{
 "cells": [
  {
   "cell_type": "code",
   "execution_count": 1,
   "metadata": {},
   "outputs": [],
   "source": [
    "from translation import BasicBenchmarkTranslator, SequenceGAEncoder, FJSSPInstancesTranslator\n",
    "from model import ProductionEnvironment, Order\n",
    "from oo_sequence_ga import GA, Individual\n",
    "from visualization import visualize_schedule, visualizer_for_schedule"
   ]
  },
  {
   "cell_type": "code",
   "execution_count": 2,
   "metadata": {},
   "outputs": [],
   "source": [
    "source = '5_Kacem'\n",
    "benchmark_id = 2\n",
    "simple_translator = FJSSPInstancesTranslator()\n",
    "production_environment = simple_translator.translate(source=source, benchmark_id=benchmark_id)"
   ]
  },
  {
   "cell_type": "code",
   "execution_count": 3,
   "metadata": {},
   "outputs": [],
   "source": [
    "orders : list[Order] = []\n",
    "for i in range(len(production_environment.resources.values())): # should be the same amount as recipes for now\n",
    "    orders.append(Order(delivery_time=1000, latest_acceptable_time=1000, resources=[(production_environment.get_resource(i), 1)], penalty=100.0, tardiness_fee=50.0, divisible=False, profit=500.0))\n",
    "\n",
    "encoder = SequenceGAEncoder()\n",
    "production_environment.orders = orders\n",
    "workstations_per_operation, base_durations, job_operations = encoder.encode(production_environment, orders)\n",
    "\n",
    "solver = GA(job_operations, workstations_per_operation, base_durations) # isn't actually needed, just for the api\n",
    "#solver.initialize(nb_jobs, nb_operations, nb_machines, job_ops_machs, durations, job_op_suitable, upper_bound)"
   ]
  },
  {
   "cell_type": "code",
   "execution_count": 4,
   "metadata": {},
   "outputs": [],
   "source": [
    "sequence = [2,\n",
    "   7,\n",
    "   9,\n",
    "   8,\n",
    "   4,\n",
    "   6,\n",
    "   3,\n",
    "   1,\n",
    "   0,\n",
    "   0,\n",
    "   8,\n",
    "   2,\n",
    "   0,\n",
    "   6,\n",
    "   7,\n",
    "   9,\n",
    "   4,\n",
    "   2,\n",
    "   1,\n",
    "   6,\n",
    "   3,\n",
    "   5,\n",
    "   5,\n",
    "   3,\n",
    "   1,\n",
    "   7,\n",
    "   4,\n",
    "   9,\n",
    "   8,\n",
    "   5]"
   ]
  },
  {
   "cell_type": "code",
   "execution_count": 5,
   "metadata": {},
   "outputs": [],
   "source": [
    "workstations = [6,\n",
    "   4,\n",
    "   1,\n",
    "   0,\n",
    "   2,\n",
    "   4,\n",
    "   7,\n",
    "   3,\n",
    "   4,\n",
    "   6,\n",
    "   4,\n",
    "   3,\n",
    "   3,\n",
    "   4,\n",
    "   5,\n",
    "   5,\n",
    "   2,\n",
    "   3,\n",
    "   4,\n",
    "   2,\n",
    "   2,\n",
    "   4,\n",
    "   3,\n",
    "   5,\n",
    "   8,\n",
    "   8,\n",
    "   8,\n",
    "   0,\n",
    "   9,\n",
    "   3]"
   ]
  },
  {
   "cell_type": "code",
   "execution_count": 10,
   "metadata": {},
   "outputs": [
    {
     "ename": "IndexError",
     "evalue": "list index out of range",
     "output_type": "error",
     "traceback": [
      "\u001b[1;31m---------------------------------------------------------------------------\u001b[0m",
      "\u001b[1;31mIndexError\u001b[0m                                Traceback (most recent call last)",
      "Cell \u001b[1;32mIn[10], line 3\u001b[0m\n\u001b[0;32m      1\u001b[0m durations \u001b[38;5;241m=\u001b[39m []\n\u001b[0;32m      2\u001b[0m \u001b[38;5;28;01mfor\u001b[39;00m i \u001b[38;5;129;01min\u001b[39;00m \u001b[38;5;28mrange\u001b[39m(\u001b[38;5;28mlen\u001b[39m(workstations)):\n\u001b[1;32m----> 3\u001b[0m     durations\u001b[38;5;241m.\u001b[39mappend(\u001b[43mbase_durations\u001b[49m\u001b[43m[\u001b[49m\u001b[43mi\u001b[49m\u001b[43m]\u001b[49m\u001b[43m[\u001b[49m\u001b[43mworkstations\u001b[49m\u001b[43m[\u001b[49m\u001b[43mi\u001b[49m\u001b[43m]\u001b[49m\u001b[43m]\u001b[49m)\n",
      "\u001b[1;31mIndexError\u001b[0m: list index out of range"
     ]
    }
   ],
   "source": [
    "durations = []\n",
    "for i in range(len(workstations)):\n",
    "    durations.append(base_durations[i][workstations[i]])"
   ]
  },
  {
   "cell_type": "code",
   "execution_count": null,
   "metadata": {},
   "outputs": [
    {
     "ename": "IndexError",
     "evalue": "list index out of range",
     "output_type": "error",
     "traceback": [
      "\u001b[1;31m---------------------------------------------------------------------------\u001b[0m",
      "\u001b[1;31mIndexError\u001b[0m                                Traceback (most recent call last)",
      "Cell \u001b[1;32mIn[7], line 1\u001b[0m\n\u001b[1;32m----> 1\u001b[0m schedule \u001b[38;5;241m=\u001b[39m \u001b[43mSequenceGAEncoder\u001b[49m\u001b[43m(\u001b[49m\u001b[43m)\u001b[49m\u001b[38;5;241;43m.\u001b[39;49m\u001b[43mdecode\u001b[49m\u001b[43m(\u001b[49m\u001b[43msequence\u001b[49m\u001b[43m,\u001b[49m\u001b[43m \u001b[49m\u001b[43mworkstations\u001b[49m\u001b[43m,\u001b[49m\u001b[43m \u001b[49m\u001b[38;5;28;43;01mNone\u001b[39;49;00m\u001b[43m,\u001b[49m\u001b[43m \u001b[49m\u001b[43mdurations\u001b[49m\u001b[43m,\u001b[49m\u001b[43m \u001b[49m\u001b[43mjob_operations\u001b[49m\u001b[43m,\u001b[49m\u001b[43m \u001b[49m\u001b[43mproduction_environment\u001b[49m\u001b[43m,\u001b[49m\u001b[43m \u001b[49m\u001b[38;5;28;43;01mTrue\u001b[39;49;00m\u001b[43m,\u001b[49m\u001b[43m \u001b[49m\u001b[38;5;28;43;01mNone\u001b[39;49;00m\u001b[43m)\u001b[49m\n\u001b[0;32m      2\u001b[0m visualizer_for_schedule(schedule, job_operations)\n",
      "File \u001b[1;32mc:\\Users\\huda\\Documents\\GitHub\\scheduling_model\\code\\reworked_data_model\\results\\comparison\\translation.py:611\u001b[0m, in \u001b[0;36mSequenceGAEncoder.decode\u001b[1;34m(self, job_sequence, workstation_assignments, worker_assignments, durations, job_operations, production_environment, fill_gaps, solver)\u001b[0m\n\u001b[0;32m    609\u001b[0m next_operations[job] \u001b[38;5;241m+\u001b[39m\u001b[38;5;241m=\u001b[39m \u001b[38;5;241m1\u001b[39m\n\u001b[0;32m    610\u001b[0m workstation \u001b[38;5;241m=\u001b[39m workstation_assignments[start_index]\n\u001b[1;32m--> 611\u001b[0m duration \u001b[38;5;241m=\u001b[39m \u001b[43mdurations\u001b[49m\u001b[43m[\u001b[49m\u001b[43mstart_index\u001b[49m\u001b[43m]\u001b[49m\n\u001b[0;32m    612\u001b[0m offset \u001b[38;5;241m=\u001b[39m \u001b[38;5;241m0\u001b[39m\n\u001b[0;32m    613\u001b[0m \u001b[38;5;28;01mif\u001b[39;00m operation \u001b[38;5;241m>\u001b[39m \u001b[38;5;241m0\u001b[39m:\n\u001b[0;32m    614\u001b[0m     \u001b[38;5;66;03m# check end on prev workstation NOTE: if there is a previous operation of this job, start_index-1 should never be out of range\u001b[39;00m\n",
      "\u001b[1;31mIndexError\u001b[0m: list index out of range"
     ]
    }
   ],
   "source": [
    "schedule = SequenceGAEncoder().decode(sequence, workstations, None, durations, job_operations, production_environment, True, None)\n",
    "visualizer_for_schedule(schedule, job_operations)"
   ]
  }
 ],
 "metadata": {
  "kernelspec": {
   "display_name": "Python 3",
   "language": "python",
   "name": "python3"
  },
  "language_info": {
   "codemirror_mode": {
    "name": "ipython",
    "version": 3
   },
   "file_extension": ".py",
   "mimetype": "text/x-python",
   "name": "python",
   "nbconvert_exporter": "python",
   "pygments_lexer": "ipython3",
   "version": "3.11.1"
  }
 },
 "nbformat": 4,
 "nbformat_minor": 2
}
