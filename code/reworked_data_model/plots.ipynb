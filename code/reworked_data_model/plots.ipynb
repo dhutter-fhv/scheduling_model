{
 "cells": [
  {
   "cell_type": "code",
   "execution_count": 70,
   "metadata": {},
   "outputs": [],
   "source": [
    "import matplotlib.pyplot as plt"
   ]
  },
  {
   "cell_type": "code",
   "execution_count": 71,
   "metadata": {},
   "outputs": [],
   "source": [
    "file_path = r'C:\\Users\\dhutt\\Desktop\\SCHEDULING_MODEL\\code\\reworked_data_model\\results\\comparison.txt'\n",
    "file = open(file_path, 'r')\n",
    "content = file.readlines()"
   ]
  },
  {
   "cell_type": "code",
   "execution_count": 72,
   "metadata": {},
   "outputs": [],
   "source": [
    "elitism_tournament = content[4:317]\n",
    "random_selection = content[321:]"
   ]
  },
  {
   "cell_type": "code",
   "execution_count": 73,
   "metadata": {},
   "outputs": [],
   "source": [
    "reformated_a = []\n",
    "for result in elitism_tournament:\n",
    "    values = result.split(';')\n",
    "    reformated_a.append({'source': values[0], 'instance': int(values[1]), 'runtime': float(values[2]), 'fevals': int(values[3]), 'generations': int(values[4]), 'restarts': int(values[5]), 'fitness': int(values[6]), 'adjustment': True if values[7].startswith('True') else False})\n",
    "reformated_b = []\n",
    "for result in random_selection:\n",
    "    values = result.split(';')\n",
    "    reformated_b.append({'source': values[0], 'instance': int(values[1]), 'runtime': float(values[2]), 'fevals': int(values[3]), 'generations': int(values[4]), 'restarts': int(values[5]), 'fitness': int(values[6]), 'adjustment': True if values[7].startswith('True') else False})\n"
   ]
  },
  {
   "cell_type": "code",
   "execution_count": 74,
   "metadata": {},
   "outputs": [],
   "source": [
    "def get_id(result):\n",
    "    return f'{result[\"source\"]}{result[\"instance\"]}'\n",
    "\n",
    "def add_result(result, data):\n",
    "    if get_id(result) not in data:\n",
    "        data[get_id(result)] = []\n",
    "    data[get_id(result)].append(result)\n",
    "\n",
    "a_divided = [dict(), dict()]\n",
    "b_divided = [dict(), dict()]\n",
    "\n",
    "for result in reformated_a:\n",
    "    if result['adjustment']:\n",
    "        add_result(result, a_divided[0])\n",
    "    else:\n",
    "        add_result(result, a_divided[1])\n",
    "\n",
    "for result in reformated_b:\n",
    "    if result['adjustment']:\n",
    "        add_result(result, b_divided[0])\n",
    "    else:\n",
    "        add_result(result, b_divided[1])\n"
   ]
  },
  {
   "cell_type": "code",
   "execution_count": 75,
   "metadata": {},
   "outputs": [],
   "source": [
    "def average(data, name):\n",
    "    sum = 0\n",
    "    count = 0\n",
    "    for entry in data:\n",
    "        for experiment in data[entry]:\n",
    "            sum += experiment[name]\n",
    "        count += len(data[entry])\n",
    "    return sum / count\n",
    "\n",
    "def average_per_instance(data, name):\n",
    "    sum = 0\n",
    "    for entry in data:\n",
    "        sum += entry[name]\n",
    "    return sum/len(data)"
   ]
  },
  {
   "cell_type": "code",
   "execution_count": 76,
   "metadata": {},
   "outputs": [],
   "source": [
    "average_runtime = [average(b_divided[0], 'runtime'), average(b_divided[1], 'runtime')]\n",
    "average_fevals = [average(b_divided[0], 'fevals'), average(b_divided[1], 'fevals')]\n"
   ]
  },
  {
   "cell_type": "code",
   "execution_count": 77,
   "metadata": {},
   "outputs": [
    {
     "data": {
      "text/plain": [
       "Text(0, 0.5, 'Time in seconds')"
      ]
     },
     "execution_count": 77,
     "metadata": {},
     "output_type": "execute_result"
    },
    {
     "data": {
      "image/png": "[encoded data removed]",
      "text/plain": [
       "<Figure size 432x288 with 1 Axes>"
      ]
     },
     "metadata": {
      "needs_background": "light"
     },
     "output_type": "display_data"
    }
   ],
   "source": [
    "plt.bar(['With Adjustment', 'Without Adjustment'], average_runtime)\n",
    "plt.title('Average Runtime')\n",
    "plt.ylabel('Time in seconds')\n"
   ]
  },
  {
   "cell_type": "code",
   "execution_count": 79,
   "metadata": {},
   "outputs": [
    {
     "data": {
      "text/plain": [
       "Text(0, 0.5, 'Function Evaluations')"
      ]
     },
     "execution_count": 79,
     "metadata": {},
     "output_type": "execute_result"
    },
    {
     "data": {
      "image/png": "[encoded data removed]",
      "text/plain": [
       "<Figure size 432x288 with 1 Axes>"
      ]
     },
     "metadata": {
      "needs_background": "light"
     },
     "output_type": "display_data"
    }
   ],
   "source": [
    "plt.bar(['With Adjustment', 'Without Adjustment'], average_fevals)\n",
    "plt.title('Average Function Evaluations')\n",
    "plt.ylabel('Function Evaluations')"
   ]
  },
  {
   "cell_type": "code",
   "execution_count": null,
   "metadata": {},
   "outputs": [],
   "source": []
  }
 ],
 "metadata": {
  "kernelspec": {
   "display_name": "Python 3",
   "language": "python",
   "name": "python3"
  },
  "language_info": {
   "codemirror_mode": {
    "name": "ipython",
    "version": 3
   },
   "file_extension": ".py",
   "mimetype": "text/x-python",
   "name": "python",
   "nbconvert_exporter": "python",
   "pygments_lexer": "ipython3",
   "version": "3.9.13"
  },
  "orig_nbformat": 4
 },
 "nbformat": 4,
 "nbformat_minor": 2
}
