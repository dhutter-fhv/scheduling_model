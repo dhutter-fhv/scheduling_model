{
 "cells": [
  {
   "cell_type": "code",
   "execution_count": 1,
   "metadata": {},
   "outputs": [],
   "source": [
    "import os\n",
    "import inspect\n",
    "from translation import FJSSPInstancesTranslator"
   ]
  },
  {
   "cell_type": "code",
   "execution_count": 2,
   "metadata": {},
   "outputs": [],
   "source": [
    "def read_file(source : str, id : int, path : str) -> list[str]:\n",
    "    if source.startswith('0'):\n",
    "        target_file = f'Behnke{id}.fjs'\n",
    "    elif source.startswith('1'):\n",
    "        target_file = f'BrandimarteMk{id}.fjs'\n",
    "    elif source.startswith('2a'):\n",
    "        target_file = f'HurinkSdata{id}.fjs'\n",
    "    elif source.startswith('2b'):\n",
    "        target_file = f'HurinkEdata{id}.fjs'\n",
    "    elif source.startswith('2c'):\n",
    "        target_file = f'HurinkRdata{id}.fjs'\n",
    "    elif source.startswith('2d'):\n",
    "        target_file = f'HurinkVdata{id}.fjs'\n",
    "    elif source.startswith('3'):\n",
    "        target_file = f'DPpaulli{id}.fjs'\n",
    "    elif source.startswith('4'):\n",
    "        target_file = f'ChambersBarnes{id}.fjs'\n",
    "    elif source.startswith('5'):\n",
    "        target_file = f'Kacem{id}.fjs'\n",
    "    elif source.startswith('6'):\n",
    "        target_file = f'Fattahi{id}.fjs'\n",
    "    path += f'{source}\\\\{target_file}'\n",
    "    file = open(path, 'r')\n",
    "    return file.readlines()"
   ]
  },
  {
   "cell_type": "code",
   "execution_count": 3,
   "metadata": {},
   "outputs": [],
   "source": [
    "currentdir = os.path.dirname(os.path.abspath(inspect.getfile(inspect.currentframe())))\n",
    "read_path = r'C:\\Users\\dhutt\\Desktop\\SCHEDULING_MODEL\\code\\external_test_data\\FJSSPinstances\\\\'\n",
    "\n",
    "\n",
    "sources = ['0_BehnkeGeiger', '1_Brandimarte', '2a_Hurink_sdata', '2b_Hurink_edata', '2c_Hurink_rdata', '2d_Hurink_vdata', '3_DPpaulli', '4_ChambersBarnes', '5_Kacem', '6_Fattahi']\n",
    "\n",
    "scores = []\n",
    "source_scores = []\n",
    "instances = []\n",
    "for benchmark_source in sources:\n",
    "    full_path = read_path + benchmark_source + '/'\n",
    "    source_scores.append([])\n",
    "    for i in range(len(os.listdir(full_path))):\n",
    "        file_content : list[str] = read_file(benchmark_source, i+1, read_path)\n",
    "        values = file_content[0].split(' ')\n",
    "        workstation_amount = int(values[1])\n",
    "        average_workstations = float(values[2])\n",
    "        n_operations = sum([int(x.split(' ')[0]) for x in file_content[1:]])\n",
    "        #max_dissimilarity = get_approximate_max_dissimilarity(values[0], file_content[1:], values[2])\n",
    "\n",
    "        #scores.append([f'{benchmark_source}{i+1}', average_workstations/workstation_amount, values[0], values[1], values[2], max_dissimilarity, n_operations, average_workstations])\n",
    "        #source_scores[-1].append(scores[-1])\n",
    "        instances.append(FJSSPInstancesTranslator().translate(benchmark_source, i+1))\n",
    "        instances[-1].id = f'{benchmark_source}{i+1}'        \n"
   ]
  },
  {
   "cell_type": "code",
   "execution_count": 7,
   "metadata": {},
   "outputs": [
    {
     "name": "stdout",
     "output_type": "stream",
     "text": [
      "{'0_BehnkeGeiger1': 59, '0_BehnkeGeiger2': 61, '0_BehnkeGeiger3': 76, '0_BehnkeGeiger4': 69, '0_BehnkeGeiger5': 54, '0_BehnkeGeiger6': 61, '0_BehnkeGeiger7': 62, '0_BehnkeGeiger8': 69, '0_BehnkeGeiger9': 67, '0_BehnkeGeiger10': 60, '0_BehnkeGeiger11': 65, '0_BehnkeGeiger12': 77, '0_BehnkeGeiger13': 68, '0_BehnkeGeiger14': 67, '0_BehnkeGeiger15': 65, '0_BehnkeGeiger16': 74, '0_BehnkeGeiger17': 66, '0_BehnkeGeiger18': 73, '0_BehnkeGeiger19': 61, '0_BehnkeGeiger20': 62, '0_BehnkeGeiger21': 63, '0_BehnkeGeiger22': 60, '0_BehnkeGeiger23': 59, '0_BehnkeGeiger24': 55, '0_BehnkeGeiger25': 58, '0_BehnkeGeiger26': 60, '0_BehnkeGeiger27': 65, '0_BehnkeGeiger28': 60, '0_BehnkeGeiger29': 73, '0_BehnkeGeiger30': 54, '0_BehnkeGeiger31': 62, '0_BehnkeGeiger32': 62, '0_BehnkeGeiger33': 66, '0_BehnkeGeiger34': 62, '0_BehnkeGeiger35': 59, '0_BehnkeGeiger36': 61, '0_BehnkeGeiger37': 68, '0_BehnkeGeiger38': 73, '0_BehnkeGeiger39': 51, '0_BehnkeGeiger40': 61, '0_BehnkeGeiger41': 61, '0_BehnkeGeiger42': 54, '0_BehnkeGeiger43': 52, '0_BehnkeGeiger44': 57, '0_BehnkeGeiger45': 61, '0_BehnkeGeiger46': 64, '0_BehnkeGeiger47': 61, '0_BehnkeGeiger48': 53, '0_BehnkeGeiger49': 55, '0_BehnkeGeiger50': 60, '0_BehnkeGeiger51': 57, '0_BehnkeGeiger52': 57, '0_BehnkeGeiger53': 74, '0_BehnkeGeiger54': 69, '0_BehnkeGeiger55': 58, '0_BehnkeGeiger56': 55, '0_BehnkeGeiger57': 60, '0_BehnkeGeiger58': 60, '0_BehnkeGeiger59': 59, '0_BehnkeGeiger60': 53, '1_Brandimarte1': 16, '1_Brandimarte2': 13, '1_Brandimarte3': 63, '1_Brandimarte4': 24, '1_Brandimarte5': 45, '1_Brandimarte6': 33, '1_Brandimarte7': 36, '1_Brandimarte8': 110, '1_Brandimarte9': 120, '1_Brandimarte10': 109, '1_Brandimarte11': 106, '1_Brandimarte12': 75, '1_Brandimarte13': 126, '1_Brandimarte14': 180, '1_Brandimarte15': 131, '2a_Hurink_sdata1': 30, '2a_Hurink_sdata2': 540, '2a_Hurink_sdata3': 193, '2a_Hurink_sdata4': 370, '2a_Hurink_sdata5': 267, '2a_Hurink_sdata6': 157, '2a_Hurink_sdata7': 221, '2a_Hurink_sdata8': 222, '2a_Hurink_sdata9': 221, '2a_Hurink_sdata10': 297, '2a_Hurink_sdata11': 338, '2a_Hurink_sdata12': 259, '2a_Hurink_sdata13': 171, '2a_Hurink_sdata14': 369, '2a_Hurink_sdata15': 102, '2a_Hurink_sdata16': 305, '2a_Hurink_sdata17': 292, '2a_Hurink_sdata18': 329, '2a_Hurink_sdata19': 717, '2a_Hurink_sdata20': 510, '2a_Hurink_sdata21': 663, '2a_Hurink_sdata22': 464, '2a_Hurink_sdata23': 589, '2a_Hurink_sdata24': 502, '2a_Hurink_sdata25': 449, '2a_Hurink_sdata26': 579, '2a_Hurink_sdata27': 442, '2a_Hurink_sdata28': 490, '2a_Hurink_sdata29': 578, '2a_Hurink_sdata30': 532, '2a_Hurink_sdata31': 475, '2a_Hurink_sdata32': 417, '2a_Hurink_sdata33': 695, '2a_Hurink_sdata34': 510, '2a_Hurink_sdata35': 589, '2a_Hurink_sdata36': 490, '2a_Hurink_sdata37': 478, '2a_Hurink_sdata38': 602, '2a_Hurink_sdata39': 793, '2a_Hurink_sdata40': 697, '2a_Hurink_sdata41': 712, '2a_Hurink_sdata42': 917, '2a_Hurink_sdata43': 728, '2a_Hurink_sdata44': 704, '2a_Hurink_sdata45': 497, '2a_Hurink_sdata46': 370, '2a_Hurink_sdata47': 368, '2a_Hurink_sdata48': 434, '2a_Hurink_sdata49': 3088, '2a_Hurink_sdata50': 1380, '2a_Hurink_sdata51': 1881, '2a_Hurink_sdata52': 2257, '2a_Hurink_sdata53': 4037, '2a_Hurink_sdata54': 3410, '2a_Hurink_sdata55': 3533, '2a_Hurink_sdata56': 4022, '2a_Hurink_sdata57': 524, '2a_Hurink_sdata58': 566, '2a_Hurink_sdata59': 535, '2a_Hurink_sdata60': 509, '2a_Hurink_sdata61': 499, '2a_Hurink_sdata62': 715, '2a_Hurink_sdata63': 206, '2a_Hurink_sdata64': 461, '2a_Hurink_sdata65': 574, '2a_Hurink_sdata66': 517, '2b_Hurink_edata1': 30, '2b_Hurink_edata2': 540, '2b_Hurink_edata3': 193, '2b_Hurink_edata4': 370, '2b_Hurink_edata5': 267, '2b_Hurink_edata6': 157, '2b_Hurink_edata7': 221, '2b_Hurink_edata8': 222, '2b_Hurink_edata9': 221, '2b_Hurink_edata10': 297, '2b_Hurink_edata11': 338, '2b_Hurink_edata12': 259, '2b_Hurink_edata13': 171, '2b_Hurink_edata14': 369, '2b_Hurink_edata15': 102, '2b_Hurink_edata16': 305, '2b_Hurink_edata17': 292, '2b_Hurink_edata18': 329, '2b_Hurink_edata19': 717, '2b_Hurink_edata20': 510, '2b_Hurink_edata21': 663, '2b_Hurink_edata22': 464, '2b_Hurink_edata23': 589, '2b_Hurink_edata24': 502, '2b_Hurink_edata25': 449, '2b_Hurink_edata26': 579, '2b_Hurink_edata27': 442, '2b_Hurink_edata28': 490, '2b_Hurink_edata29': 578, '2b_Hurink_edata30': 532, '2b_Hurink_edata31': 475, '2b_Hurink_edata32': 417, '2b_Hurink_edata33': 695, '2b_Hurink_edata34': 510, '2b_Hurink_edata35': 589, '2b_Hurink_edata36': 490, '2b_Hurink_edata37': 478, '2b_Hurink_edata38': 602, '2b_Hurink_edata39': 793, '2b_Hurink_edata40': 697, '2b_Hurink_edata41': 712, '2b_Hurink_edata42': 917, '2b_Hurink_edata43': 728, '2b_Hurink_edata44': 704, '2b_Hurink_edata45': 497, '2b_Hurink_edata46': 370, '2b_Hurink_edata47': 368, '2b_Hurink_edata48': 434, '2b_Hurink_edata49': 3088, '2b_Hurink_edata50': 1380, '2b_Hurink_edata51': 1881, '2b_Hurink_edata52': 2257, '2b_Hurink_edata53': 4037, '2b_Hurink_edata54': 3410, '2b_Hurink_edata55': 3533, '2b_Hurink_edata56': 4022, '2b_Hurink_edata57': 524, '2b_Hurink_edata58': 566, '2b_Hurink_edata59': 535, '2b_Hurink_edata60': 509, '2b_Hurink_edata61': 499, '2b_Hurink_edata62': 715, '2b_Hurink_edata63': 206, '2b_Hurink_edata64': 461, '2b_Hurink_edata65': 574, '2b_Hurink_edata66': 517, '2c_Hurink_rdata1': 30, '2c_Hurink_rdata2': 540, '2c_Hurink_rdata3': 193, '2c_Hurink_rdata4': 370, '2c_Hurink_rdata5': 267, '2c_Hurink_rdata6': 157, '2c_Hurink_rdata7': 221, '2c_Hurink_rdata8': 222, '2c_Hurink_rdata9': 221, '2c_Hurink_rdata10': 297, '2c_Hurink_rdata11': 338, '2c_Hurink_rdata12': 259, '2c_Hurink_rdata13': 171, '2c_Hurink_rdata14': 369, '2c_Hurink_rdata15': 102, '2c_Hurink_rdata16': 305, '2c_Hurink_rdata17': 292, '2c_Hurink_rdata18': 329, '2c_Hurink_rdata19': 717, '2c_Hurink_rdata20': 510, '2c_Hurink_rdata21': 663, '2c_Hurink_rdata22': 464, '2c_Hurink_rdata23': 589, '2c_Hurink_rdata24': 502, '2c_Hurink_rdata25': 449, '2c_Hurink_rdata26': 579, '2c_Hurink_rdata27': 442, '2c_Hurink_rdata28': 490, '2c_Hurink_rdata29': 578, '2c_Hurink_rdata30': 532, '2c_Hurink_rdata31': 475, '2c_Hurink_rdata32': 417, '2c_Hurink_rdata33': 695, '2c_Hurink_rdata34': 510, '2c_Hurink_rdata35': 589, '2c_Hurink_rdata36': 490, '2c_Hurink_rdata37': 478, '2c_Hurink_rdata38': 602, '2c_Hurink_rdata39': 793, '2c_Hurink_rdata40': 697, '2c_Hurink_rdata41': 712, '2c_Hurink_rdata42': 917, '2c_Hurink_rdata43': 728, '2c_Hurink_rdata44': 704, '2c_Hurink_rdata45': 497, '2c_Hurink_rdata46': 370, '2c_Hurink_rdata47': 368, '2c_Hurink_rdata48': 434, '2c_Hurink_rdata49': 3088, '2c_Hurink_rdata50': 1380, '2c_Hurink_rdata51': 1881, '2c_Hurink_rdata52': 2257, '2c_Hurink_rdata53': 4037, '2c_Hurink_rdata54': 3410, '2c_Hurink_rdata55': 3533, '2c_Hurink_rdata56': 4022, '2c_Hurink_rdata57': 524, '2c_Hurink_rdata58': 566, '2c_Hurink_rdata59': 535, '2c_Hurink_rdata60': 509, '2c_Hurink_rdata61': 499, '2c_Hurink_rdata62': 715, '2c_Hurink_rdata63': 206, '2c_Hurink_rdata64': 461, '2c_Hurink_rdata65': 574, '2c_Hurink_rdata66': 517, '2d_Hurink_vdata1': 30, '2d_Hurink_vdata2': 540, '2d_Hurink_vdata3': 193, '2d_Hurink_vdata4': 370, '2d_Hurink_vdata5': 267, '2d_Hurink_vdata6': 157, '2d_Hurink_vdata7': 221, '2d_Hurink_vdata8': 222, '2d_Hurink_vdata9': 221, '2d_Hurink_vdata10': 297, '2d_Hurink_vdata11': 338, '2d_Hurink_vdata12': 259, '2d_Hurink_vdata13': 171, '2d_Hurink_vdata14': 369, '2d_Hurink_vdata15': 102, '2d_Hurink_vdata16': 305, '2d_Hurink_vdata17': 292, '2d_Hurink_vdata18': 329, '2d_Hurink_vdata19': 717, '2d_Hurink_vdata20': 510, '2d_Hurink_vdata21': 663, '2d_Hurink_vdata22': 464, '2d_Hurink_vdata23': 589, '2d_Hurink_vdata24': 502, '2d_Hurink_vdata25': 449, '2d_Hurink_vdata26': 579, '2d_Hurink_vdata27': 442, '2d_Hurink_vdata28': 490, '2d_Hurink_vdata29': 578, '2d_Hurink_vdata30': 532, '2d_Hurink_vdata31': 475, '2d_Hurink_vdata32': 417, '2d_Hurink_vdata33': 695, '2d_Hurink_vdata34': 510, '2d_Hurink_vdata35': 589, '2d_Hurink_vdata36': 490, '2d_Hurink_vdata37': 478, '2d_Hurink_vdata38': 602, '2d_Hurink_vdata39': 793, '2d_Hurink_vdata40': 697, '2d_Hurink_vdata41': 712, '2d_Hurink_vdata42': 917, '2d_Hurink_vdata43': 728, '2d_Hurink_vdata44': 704, '2d_Hurink_vdata45': 497, '2d_Hurink_vdata46': 370, '2d_Hurink_vdata47': 368, '2d_Hurink_vdata48': 434, '2d_Hurink_vdata49': 3088, '2d_Hurink_vdata50': 1380, '2d_Hurink_vdata51': 1881, '2d_Hurink_vdata52': 2257, '2d_Hurink_vdata53': 4037, '2d_Hurink_vdata54': 3410, '2d_Hurink_vdata55': 3533, '2d_Hurink_vdata56': 4022, '2d_Hurink_vdata57': 524, '2d_Hurink_vdata58': 566, '2d_Hurink_vdata59': 535, '2d_Hurink_vdata60': 509, '2d_Hurink_vdata61': 499, '2d_Hurink_vdata62': 715, '2d_Hurink_vdata63': 206, '2d_Hurink_vdata64': 461, '2d_Hurink_vdata65': 574, '2d_Hurink_vdata66': 517, '3_DPpaulli1': 1064, '3_DPpaulli2': 1064, '3_DPpaulli3': 1064, '3_DPpaulli4': 1055, '3_DPpaulli5': 1068, '3_DPpaulli6': 1030, '3_DPpaulli7': 1177, '3_DPpaulli8': 1177, '3_DPpaulli9': 1177, '3_DPpaulli10': 1191, '3_DPpaulli11': 1184, '3_DPpaulli12': 1144, '3_DPpaulli13': 971, '3_DPpaulli14': 971, '3_DPpaulli15': 971, '3_DPpaulli16': 964, '3_DPpaulli17': 924, '3_DPpaulli18': 924, '4_ChambersBarnes1': 540, '4_ChambersBarnes2': 540, '4_ChambersBarnes3': 540, '4_ChambersBarnes4': 540, '4_ChambersBarnes5': 540, '4_ChambersBarnes6': 540, '4_ChambersBarnes7': 540, '4_ChambersBarnes8': 442, '4_ChambersBarnes9': 442, '4_ChambersBarnes10': 442, '4_ChambersBarnes11': 442, '4_ChambersBarnes12': 442, '4_ChambersBarnes13': 442, '4_ChambersBarnes14': 442, '4_ChambersBarnes15': 728, '4_ChambersBarnes16': 728, '4_ChambersBarnes17': 728, '4_ChambersBarnes18': 728, '4_ChambersBarnes19': 728, '4_ChambersBarnes20': 728, '4_ChambersBarnes21': 728, '5_Kacem1': 2, '5_Kacem2': 6, '5_Kacem3': 4, '5_Kacem4': 8, '6_Fattahi1': 66, '6_Fattahi2': 64, '6_Fattahi3': 168, '6_Fattahi4': 249, '6_Fattahi5': 58, '6_Fattahi6': 310, '6_Fattahi7': 232, '6_Fattahi8': 216, '6_Fattahi9': 210, '6_Fattahi10': 374, '6_Fattahi11': 255, '6_Fattahi12': 255, '6_Fattahi13': 388, '6_Fattahi14': 414, '6_Fattahi15': 414, '6_Fattahi16': 614, '6_Fattahi17': 764, '6_Fattahi18': 520, '6_Fattahi19': 520, '6_Fattahi20': 944}\n",
      "66\n"
     ]
    }
   ],
   "source": [
    "operation_mins = dict()\n",
    "for instance in instances:\n",
    "    operation_mins[instance.id] = dict()\n",
    "    for machine in instance.workstations.values():\n",
    "        for operation in machine.tasks:\n",
    "            if operation[0].id not in operation_mins[instance.id]:\n",
    "                operation_mins[instance.id][operation[0].id] = float('inf')\n",
    "            operation_mins[instance.id][operation[0].id] = min(operation_mins[instance.id][operation[0].id], machine.get_duration(operation[0]) if machine.get_duration(operation[0]) != 0 else float('inf'))\n",
    "            #print(machine.get_duration(operation[0]))\n",
    "min_lengths = dict()\n",
    "for instance in instances:\n",
    "    if instance.id not in min_lengths:\n",
    "        min_lengths[instance.id] = 0\n",
    "    for recipe in instance.recipes.values():\n",
    "        max_job = 0\n",
    "        for operation in recipe.tasks:\n",
    "            max_job += operation_mins[instance.id][operation[0].id]#max(, max_job)\n",
    "    min_lengths[instance.id] = max(max_job, min_lengths[instance.id])\n",
    "print(min_lengths)\n",
    "print(min_lengths['6_Fattahi1'])"
   ]
  },
  {
   "cell_type": "markdown",
   "metadata": {},
   "source": []
  },
  {
   "cell_type": "code",
   "execution_count": 6,
   "metadata": {},
   "outputs": [],
   "source": [
    "import pandas as pd\n",
    "csv_path = r'C:\\Users\\dhutt\\Downloads\\lit_best_known\\lit_best_known.csv'\n"
   ]
  }
 ],
 "metadata": {
  "kernelspec": {
   "display_name": "Python 3",
   "language": "python",
   "name": "python3"
  },
  "language_info": {
   "codemirror_mode": {
    "name": "ipython",
    "version": 3
   },
   "file_extension": ".py",
   "mimetype": "text/x-python",
   "name": "python",
   "nbconvert_exporter": "python",
   "pygments_lexer": "ipython3",
   "version": "3.9.13"
  }
 },
 "nbformat": 4,
 "nbformat_minor": 2
}
