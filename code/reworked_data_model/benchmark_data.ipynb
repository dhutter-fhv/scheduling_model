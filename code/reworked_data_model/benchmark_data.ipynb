{
 "cells": [
  {
   "cell_type": "code",
   "execution_count": null,
   "metadata": {},
   "outputs": [],
   "source": [
    "from translation import FJSSPInstancesTranslator, SequenceGAEncoder\n",
    "from model import ProductionEnvironment, Order\n",
    "benchmark_base_path = r'C:\\Users\\huda\\Documents\\GitHub\\scheduling_model\\code\\external_test_data\\FJSSPinstances\\\\'"
   ]
  },
  {
   "cell_type": "code",
   "execution_count": null,
   "metadata": {},
   "outputs": [],
   "source": [
    "def read_benchmark_file(source, instance):\n",
    "    if source.startswith('0'):\n",
    "        target_file = f'Behnke{instance}.fjs'\n",
    "    elif source.startswith('1'):\n",
    "        target_file = f'BrandimarteMk{instance}.fjs'\n",
    "    elif source.startswith('2a'):\n",
    "        target_file = f'HurinkSdata{instance}.fjs'\n",
    "    elif source.startswith('2b'):\n",
    "        target_file = f'HurinkEdata{instance}.fjs'\n",
    "    elif source.startswith('2c'):\n",
    "        target_file = f'HurinkRdata{instance}.fjs'\n",
    "    elif source.startswith('2d'):\n",
    "        target_file = f'HurinkVdata{instance}.fjs'\n",
    "    elif source.startswith('3'):\n",
    "        target_file = f'DPpaulli{instance}.fjs'\n",
    "    elif source.startswith('4'):\n",
    "        target_file = f'ChambersBarnes{instance}.fjs'\n",
    "    elif source.startswith('5'):\n",
    "        target_file = f'Kacem{instance}.fjs'\n",
    "    elif source.startswith('6'):\n",
    "        target_file = f'Fattahi{instance}.fjs'\n",
    "    path = benchmark_base_path + f'{source}\\\\{target_file}'\n",
    "    return open(path, 'r').readlines()"
   ]
  },
  {
   "cell_type": "code",
   "execution_count": null,
   "metadata": {},
   "outputs": [],
   "source": [
    "def generate_one_order_per_recipe(production_environment : ProductionEnvironment) -> list[Order]:\n",
    "    orders : list[Order] = []\n",
    "    for i in range(len(production_environment.resources.values())): # should be the same amount as recipes for now\n",
    "        orders.append(Order(delivery_time=1000, latest_acceptable_time=1000, resources=[(production_environment.get_resource(i), 1)], penalty=100.0, tardiness_fee=50.0, divisible=False, profit=500.0))\n",
    "    return orders"
   ]
  },
  {
   "cell_type": "code",
   "execution_count": null,
   "metadata": {},
   "outputs": [],
   "source": [
    "sources = ['0_BehnkeGeiger', '1_Brandimarte', '2a_Hurink_sdata', '2b_Hurink_edata', '2c_Hurink_rdata', '2d_Hurink_vdata', '3_DPpaulli', '4_ChambersBarnes', '5_Kacem', '6_Fattahi']\n",
    "data = []\n",
    "for source in sources:\n",
    "    n = 0\n",
    "    if source.startswith('0'):\n",
    "        n = 60\n",
    "    elif source.startswith('1'):\n",
    "        n = 15\n",
    "    elif source.startswith('2'):\n",
    "        n = 66\n",
    "    elif source.startswith('3'):\n",
    "        n = 18\n",
    "    elif source.startswith('4'):\n",
    "        n = 21\n",
    "    elif source.startswith('5'):\n",
    "        n = 4\n",
    "    else:\n",
    "        n = 20\n",
    "    for i in range(1, n+1):\n",
    "        line = []\n",
    "        benchmark_file = read_benchmark_file(source, i)\n",
    "        benchmark_system = benchmark_file[0].split(' ')\n",
    "        line.append(int(benchmark_system[1])) # n_machines\n",
    "        line.append(int(benchmark_system[0])) # n_jobs\n",
    "        line.append(float(benchmark_system[2])) #average_machines_per_operation\n",
    "        jobs = benchmark_file[1:]\n",
    "        line.append(sum([int(x.split(' ')[0]) for x in jobs])) # n_operations\n",
    "        line.append(line[3] / line[1])# = line['n_operations'] / line['n_jobs'] #average_operations_per_job\n",
    "        line.append(line[2] / line[0])#['beta_flexibility'] = line['average_workstations_per_operation']/line['n_machines']\n",
    "        line.append(line[3] + line[4] * line[2]) # approx. max. dissimilarity\n",
    "        #line['approximate_max_dissimilarity'] = line['n_operations'] + line['average_operations_per_job'] * line['average_workstations_per_operation']\n",
    "        #line['limit'] = limit\n",
    "        production_environment = FJSSPInstancesTranslator().translate(source[0], source[1])\n",
    "        orders = generate_one_order_per_recipe(production_environment)\n",
    "        production_environment.orders = orders\n",
    "        workstations_per_operation, base_durations, job_operations = SequenceGAEncoder().encode(production_environment, orders)\n",
    "        unique_durations = []\n",
    "        overall_amount_durations = []\n",
    "        for duration in base_durations:\n",
    "            for d in duration:\n",
    "                if d not in unique_durations and d > 0:\n",
    "                    unique_durations.append(d)\n",
    "            overall_amount_durations.extend([x for x in duration if x > 0])\n",
    "        overall_amount_durations = len(overall_amount_durations)\n",
    "        line.append(len(unique_durations)/overall_amount_durations) # duration variety "
   ]
  },
  {
   "cell_type": "code",
   "execution_count": null,
   "metadata": {},
   "outputs": [],
   "source": []
  }
 ],
 "metadata": {
  "language_info": {
   "name": "python"
  }
 },
 "nbformat": 4,
 "nbformat_minor": 2
}
