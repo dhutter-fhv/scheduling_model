{
 "cells": [
  {
   "cell_type": "code",
   "execution_count": 18,
   "metadata": {},
   "outputs": [],
   "source": [
    "import pyswarms as ps\n",
    "import random\n",
    "from read_data import read_dataset_1, translate_1_testing\n",
    "from pyswarms.utils.functions import single_obj as fx\n",
    "from models import SimulationEnvironment"
   ]
  },
  {
   "cell_type": "code",
   "execution_count": 19,
   "metadata": {},
   "outputs": [
    {
     "name": "stderr",
     "output_type": "stream",
     "text": [
      "2022-09-26 15:26:01,208 - pyswarms.single.global_best - INFO - Optimize for 100 iters with {'c1': 0.5, 'c2': 0.3, 'w': 0.9}\n",
      "pyswarms.single.global_best: 100%|██████████|100/100, best_cost=0.995\n",
      "2022-09-26 15:26:01,309 - pyswarms.single.global_best - INFO - Optimization finished | best cost: 0.9949919903178142, best pos: [ 9.95334646e-01 -1.57116372e-04]\n"
     ]
    }
   ],
   "source": [
    "# Set-up hyperparameters\n",
    "options = {'c1': 0.5, 'c2': 0.3, 'w':0.9}\n",
    "# Call instance of PSO\n",
    "optimizer = ps.single.GlobalBestPSO(n_particles=10, dimensions=2, options=options)\n",
    "# Perform optimization\n",
    "best_cost, best_pos = optimizer.optimize(fx.rastrigin, iters=100)"
   ]
  },
  {
   "cell_type": "code",
   "execution_count": 20,
   "metadata": {},
   "outputs": [],
   "source": [
    "order_amount = 5\n",
    "earliest_time_slot = 0\n",
    "last_time_slot = 5000 # shouldn't actually be necessary for this"
   ]
  },
  {
   "cell_type": "code",
   "execution_count": 21,
   "metadata": {},
   "outputs": [],
   "source": [
    "input, orders, instance = read_dataset_1(use_instance=6, order_amount=order_amount, earliest_time=earliest_time_slot, last_time=last_time_slot)\n",
    "#recipes, workstations, resources, tasks, orders_model = translate_1(instance, orders, earliest_time_slot, last_time_slot)\n",
    "recipes, workstations, resources, tasks, orders_model = translate_1_testing(instance, orders, earliest_time_slot, last_time_slot)\n",
    "env = SimulationEnvironment(workstations, tasks, resources, recipes)"
   ]
  },
  {
   "cell_type": "code",
   "execution_count": null,
   "metadata": {},
   "outputs": [],
   "source": [
    "bounds = (earliest_time_slot, last_time_slot)\n",
    "options = {'c1': 0.5, 'c2': 0.3, 'w':0.9}\n",
    "# build input array\n",
    "assignments = []\n",
    "start_times = []\n",
    "associated_orders = []\n",
    "duration_lookup_table = dict()\n",
    "for task in tasks:\n",
    "    if not task.external_id in duration_lookup_table:\n",
    "            duration_lookup_table[task.external_id] = dict()\n",
    "    for workstation in env.get_valid_workstations(task.external_id):\n",
    "        duration_lookup_table[task.external_id][workstation.id] = env.get_duration(task.external_id, workstation.id)\n",
    "\n",
    "operations = []\n",
    "order_for_index = []\n",
    "for order in orders_model:\n",
    "    for resource in order.resources:\n",
    "        recipe = resource.recipes[0] # just use recipe 0 for now\n",
    "        recipe_tasks = env.get_all_tasks_for_recipe(recipe.id)\n",
    "        results = dict()\n",
    "        for task in recipe_tasks:\n",
    "            if task.result_resources[0][0] not in results:\n",
    "                results[task.result_resources[0][0]] = []\n",
    "            results[task.result_resources[0][0]].append(task)\n",
    "        for key in results:\n",
    "            #operations.append(random.choice(results[key]).id)\n",
    "            operations.append(random.choice(results[key]).external_id)\n",
    "            order_for_index.append(order.id)\n",
    "\n",
    "for operation in operations:\n",
    "    workstation = env.get_valid_workstations(operation)\n",
    "    # random init\n",
    "    assignments.append(random.choice(workstation).id)\n",
    "    assignments.append(0) # start time slot\n",
    "\n",
    "# TODO: remove start times from encoding\n",
    "def calculate_start_time():\n",
    "    pass\n",
    "\n",
    "# feasibility function\n",
    "def feasible(x):\n",
    "    for i in range(0, len(x), 2):\n",
    "        # check if workstation is valid for task\n",
    "        if x[i] not in duration_lookup_table[operations[int(i / 2)]]: \n",
    "            return False\n",
    "        # check if time is within bounds\n",
    "        if x[i+1] + duration_lookup_table[operations[int(i / 2)]][x[i]] > last_time_slot:\n",
    "            return False\n",
    "        if x[i+1] < 0:\n",
    "            return False\n",
    "        # TODO: check for overlaps\n",
    "\n",
    "# objective function - using makespan for now\n",
    "def objective_function(x):\n",
    "    if feasible(x):\n",
    "        min = float('inf')\n",
    "        max = 0\n",
    "        for i in range(0, x, 2):\n",
    "            if x[i+1] < min:\n",
    "                min = x[i+1]\n",
    "            if x[i+1] + duration_lookup_table[operations[int(i / 2)]][x[i]] > max:\n",
    "                x[i+1] + duration_lookup_table[operations[int(i / 2)]][x[i]]\n",
    "        return max - min\n",
    "    else:\n",
    "        return float('inf')\n",
    "        \n",
    "# setup optimizer\n",
    "optimizer = ps.single.GlobalBestPSO(n_particles=10, dimensions=len(assignments), options=options, bounds=bounds)\n",
    "# Perform optimization\n",
    "cost, pos = optimizer.optimize(objective_function, iters=1000)"
   ]
  }
 ],
 "metadata": {
  "kernelspec": {
   "display_name": "Python 3.9.13 64-bit (microsoft store)",
   "language": "python",
   "name": "python3"
  },
  "language_info": {
   "codemirror_mode": {
    "name": "ipython",
    "version": 3
   },
   "file_extension": ".py",
   "mimetype": "text/x-python",
   "name": "python",
   "nbconvert_exporter": "python",
   "pygments_lexer": "ipython3",
   "version": "3.9.13"
  },
  "orig_nbformat": 4,
  "vscode": {
   "interpreter": {
    "hash": "462e7448f083626ea37b7306171372e26a088fcd344dea0651d8925b8464838f"
   }
  }
 },
 "nbformat": 4,
 "nbformat_minor": 2
}
