{
 "cells": [
  {
   "cell_type": "code",
   "execution_count": 18,
   "metadata": {},
   "outputs": [],
   "source": [
    "import pyswarms as ps\n",
    "import random\n",
    "from read_data import read_dataset_1, translate_1_testing\n",
    "from pyswarms.utils.functions import single_obj as fx\n",
    "from models import SimulationEnvironment"
   ]
  },
  {
   "cell_type": "code",
   "execution_count": 19,
   "metadata": {},
   "outputs": [
    {
     "name": "stderr",
     "output_type": "stream",
     "text": [
      "2022-09-26 15:26:01,208 - pyswarms.single.global_best - INFO - Optimize for 100 iters with {'c1': 0.5, 'c2': 0.3, 'w': 0.9}\n",
      "pyswarms.single.global_best: 100%|██████████|100/100, best_cost=0.995\n",
      "2022-09-26 15:26:01,309 - pyswarms.single.global_best - INFO - Optimization finished | best cost: 0.9949919903178142, best pos: [ 9.95334646e-01 -1.57116372e-04]\n"
     ]
    }
   ],
   "source": [
    "# Set-up hyperparameters\n",
    "options = {'c1': 0.5, 'c2': 0.3, 'w':0.9}\n",
    "# Call instance of PSO\n",
    "optimizer = ps.single.GlobalBestPSO(n_particles=10, dimensions=2, options=options)\n",
    "# Perform optimization\n",
    "best_cost, best_pos = optimizer.optimize(fx.rastrigin, iters=100)"
   ]
  },
  {
   "cell_type": "code",
   "execution_count": 20,
   "metadata": {},
   "outputs": [],
   "source": [
    "order_amount = 5\n",
    "earliest_time_slot = 0\n",
    "last_time_slot = 5000 # shouldn't actually be necessary for this"
   ]
  },
  {
   "cell_type": "code",
   "execution_count": 21,
   "metadata": {},
   "outputs": [],
   "source": [
    "input, orders, instance = read_dataset_1(use_instance=6, order_amount=order_amount, earliest_time=earliest_time_slot, last_time=last_time_slot)\n",
    "#recipes, workstations, resources, tasks, orders_model = translate_1(instance, orders, earliest_time_slot, last_time_slot)\n",
    "recipes, workstations, resources, tasks, orders_model = translate_1_testing(instance, orders, earliest_time_slot, last_time_slot)\n",
    "env = SimulationEnvironment(workstations, tasks, resources, recipes)"
   ]
  },
  {
   "cell_type": "code",
   "execution_count": 22,
   "metadata": {},
   "outputs": [
    {
     "ename": "IndexError",
     "evalue": "too many indices for array: array is 0-dimensional, but 1 were indexed",
     "output_type": "error",
     "traceback": [
      "\u001b[1;31m---------------------------------------------------------------------------\u001b[0m",
      "\u001b[1;31mIndexError\u001b[0m                                Traceback (most recent call last)",
      "\u001b[1;32mc:\\Users\\dhutt\\Desktop\\SCHEDULING_MODEL\\code\\pyswarm_testing.ipynb Cell 5\u001b[0m in \u001b[0;36m<cell line: 63>\u001b[1;34m()\u001b[0m\n\u001b[0;32m     <a href='vscode-notebook-cell:/c%3A/Users/dhutt/Desktop/SCHEDULING_MODEL/code/pyswarm_testing.ipynb#W1sZmlsZQ%3D%3D?line=59'>60</a>\u001b[0m         \u001b[39mreturn\u001b[39;00m \u001b[39mfloat\u001b[39m(\u001b[39m'\u001b[39m\u001b[39minf\u001b[39m\u001b[39m'\u001b[39m)\n\u001b[0;32m     <a href='vscode-notebook-cell:/c%3A/Users/dhutt/Desktop/SCHEDULING_MODEL/code/pyswarm_testing.ipynb#W1sZmlsZQ%3D%3D?line=61'>62</a>\u001b[0m \u001b[39m# setup optimizer\u001b[39;00m\n\u001b[1;32m---> <a href='vscode-notebook-cell:/c%3A/Users/dhutt/Desktop/SCHEDULING_MODEL/code/pyswarm_testing.ipynb#W1sZmlsZQ%3D%3D?line=62'>63</a>\u001b[0m optimizer \u001b[39m=\u001b[39m ps\u001b[39m.\u001b[39;49msingle\u001b[39m.\u001b[39;49mGlobalBestPSO(n_particles\u001b[39m=\u001b[39;49m\u001b[39m10\u001b[39;49m, dimensions\u001b[39m=\u001b[39;49m\u001b[39mlen\u001b[39;49m(assignments), options\u001b[39m=\u001b[39;49moptions, bounds\u001b[39m=\u001b[39;49mbounds)\n\u001b[0;32m     <a href='vscode-notebook-cell:/c%3A/Users/dhutt/Desktop/SCHEDULING_MODEL/code/pyswarm_testing.ipynb#W1sZmlsZQ%3D%3D?line=63'>64</a>\u001b[0m \u001b[39m# Perform optimization\u001b[39;00m\n\u001b[0;32m     <a href='vscode-notebook-cell:/c%3A/Users/dhutt/Desktop/SCHEDULING_MODEL/code/pyswarm_testing.ipynb#W1sZmlsZQ%3D%3D?line=64'>65</a>\u001b[0m cost, pos \u001b[39m=\u001b[39m optimizer\u001b[39m.\u001b[39moptimize(objective_function, iters\u001b[39m=\u001b[39m\u001b[39m1000\u001b[39m)\n",
      "File \u001b[1;32m~\\AppData\\Local\\Packages\\PythonSoftwareFoundation.Python.3.9_qbz5n2kfra8p0\\LocalCache\\local-packages\\Python39\\site-packages\\pyswarms\\single\\global_best.py:134\u001b[0m, in \u001b[0;36mGlobalBestPSO.__init__\u001b[1;34m(self, n_particles, dimensions, options, bounds, oh_strategy, bh_strategy, velocity_clamp, vh_strategy, center, ftol, ftol_iter, init_pos)\u001b[0m\n\u001b[0;32m     75\u001b[0m \u001b[39mdef\u001b[39;00m \u001b[39m__init__\u001b[39m(\n\u001b[0;32m     76\u001b[0m     \u001b[39mself\u001b[39m,\n\u001b[0;32m     77\u001b[0m     n_particles,\n\u001b[1;32m   (...)\u001b[0m\n\u001b[0;32m     88\u001b[0m     init_pos\u001b[39m=\u001b[39m\u001b[39mNone\u001b[39;00m,\n\u001b[0;32m     89\u001b[0m ):\n\u001b[0;32m     90\u001b[0m     \u001b[39m\"\"\"Initialize the swarm\u001b[39;00m\n\u001b[0;32m     91\u001b[0m \n\u001b[0;32m     92\u001b[0m \u001b[39m    Attributes\u001b[39;00m\n\u001b[1;32m   (...)\u001b[0m\n\u001b[0;32m    132\u001b[0m \u001b[39m        :code:`None` if you wish to generate the particles randomly.\u001b[39;00m\n\u001b[0;32m    133\u001b[0m \u001b[39m    \"\"\"\u001b[39;00m\n\u001b[1;32m--> 134\u001b[0m     \u001b[39msuper\u001b[39;49m(GlobalBestPSO, \u001b[39mself\u001b[39;49m)\u001b[39m.\u001b[39;49m\u001b[39m__init__\u001b[39;49m(\n\u001b[0;32m    135\u001b[0m         n_particles\u001b[39m=\u001b[39;49mn_particles,\n\u001b[0;32m    136\u001b[0m         dimensions\u001b[39m=\u001b[39;49mdimensions,\n\u001b[0;32m    137\u001b[0m         options\u001b[39m=\u001b[39;49moptions,\n\u001b[0;32m    138\u001b[0m         bounds\u001b[39m=\u001b[39;49mbounds,\n\u001b[0;32m    139\u001b[0m         velocity_clamp\u001b[39m=\u001b[39;49mvelocity_clamp,\n\u001b[0;32m    140\u001b[0m         center\u001b[39m=\u001b[39;49mcenter,\n\u001b[0;32m    141\u001b[0m         ftol\u001b[39m=\u001b[39;49mftol,\n\u001b[0;32m    142\u001b[0m         ftol_iter\u001b[39m=\u001b[39;49mftol_iter,\n\u001b[0;32m    143\u001b[0m         init_pos\u001b[39m=\u001b[39;49minit_pos,\n\u001b[0;32m    144\u001b[0m     )\n\u001b[0;32m    146\u001b[0m     \u001b[39mif\u001b[39;00m oh_strategy \u001b[39mis\u001b[39;00m \u001b[39mNone\u001b[39;00m:\n\u001b[0;32m    147\u001b[0m         oh_strategy \u001b[39m=\u001b[39m {}\n",
      "File \u001b[1;32m~\\AppData\\Local\\Packages\\PythonSoftwareFoundation.Python.3.9_qbz5n2kfra8p0\\LocalCache\\local-packages\\Python39\\site-packages\\pyswarms\\base\\base_single.py:124\u001b[0m, in \u001b[0;36mSwarmOptimizer.__init__\u001b[1;34m(self, n_particles, dimensions, options, bounds, velocity_clamp, center, ftol, ftol_iter, init_pos)\u001b[0m\n\u001b[0;32m    113\u001b[0m \u001b[39mself\u001b[39m\u001b[39m.\u001b[39mToHistory \u001b[39m=\u001b[39m namedtuple(\n\u001b[0;32m    114\u001b[0m     \u001b[39m\"\u001b[39m\u001b[39mToHistory\u001b[39m\u001b[39m\"\u001b[39m,\n\u001b[0;32m    115\u001b[0m     [\n\u001b[1;32m   (...)\u001b[0m\n\u001b[0;32m    121\u001b[0m     ],\n\u001b[0;32m    122\u001b[0m )\n\u001b[0;32m    123\u001b[0m \u001b[39m# Initialize resettable attributes\u001b[39;00m\n\u001b[1;32m--> 124\u001b[0m \u001b[39mself\u001b[39;49m\u001b[39m.\u001b[39;49mreset()\n",
      "File \u001b[1;32m~\\AppData\\Local\\Packages\\PythonSoftwareFoundation.Python.3.9_qbz5n2kfra8p0\\LocalCache\\local-packages\\Python39\\site-packages\\pyswarms\\base\\base_single.py:204\u001b[0m, in \u001b[0;36mSwarmOptimizer.reset\u001b[1;34m(self)\u001b[0m\n\u001b[0;32m    201\u001b[0m \u001b[39mself\u001b[39m\u001b[39m.\u001b[39mvelocity_history \u001b[39m=\u001b[39m []\n\u001b[0;32m    203\u001b[0m \u001b[39m# Initialize the swarm\u001b[39;00m\n\u001b[1;32m--> 204\u001b[0m \u001b[39mself\u001b[39m\u001b[39m.\u001b[39mswarm \u001b[39m=\u001b[39m create_swarm(\n\u001b[0;32m    205\u001b[0m     n_particles\u001b[39m=\u001b[39;49m\u001b[39mself\u001b[39;49m\u001b[39m.\u001b[39;49mn_particles,\n\u001b[0;32m    206\u001b[0m     dimensions\u001b[39m=\u001b[39;49m\u001b[39mself\u001b[39;49m\u001b[39m.\u001b[39;49mdimensions,\n\u001b[0;32m    207\u001b[0m     bounds\u001b[39m=\u001b[39;49m\u001b[39mself\u001b[39;49m\u001b[39m.\u001b[39;49mbounds,\n\u001b[0;32m    208\u001b[0m     center\u001b[39m=\u001b[39;49m\u001b[39mself\u001b[39;49m\u001b[39m.\u001b[39;49mcenter,\n\u001b[0;32m    209\u001b[0m     init_pos\u001b[39m=\u001b[39;49m\u001b[39mself\u001b[39;49m\u001b[39m.\u001b[39;49minit_pos,\n\u001b[0;32m    210\u001b[0m     clamp\u001b[39m=\u001b[39;49m\u001b[39mself\u001b[39;49m\u001b[39m.\u001b[39;49mvelocity_clamp,\n\u001b[0;32m    211\u001b[0m     options\u001b[39m=\u001b[39;49m\u001b[39mself\u001b[39;49m\u001b[39m.\u001b[39;49moptions,\n\u001b[0;32m    212\u001b[0m )\n",
      "File \u001b[1;32m~\\AppData\\Local\\Packages\\PythonSoftwareFoundation.Python.3.9_qbz5n2kfra8p0\\LocalCache\\local-packages\\Python39\\site-packages\\pyswarms\\backend\\generators.py:236\u001b[0m, in \u001b[0;36mcreate_swarm\u001b[1;34m(n_particles, dimensions, discrete, binary, options, bounds, center, init_pos, clamp)\u001b[0m\n\u001b[0;32m    232\u001b[0m     position \u001b[39m=\u001b[39m generate_discrete_swarm(\n\u001b[0;32m    233\u001b[0m         n_particles, dimensions, binary\u001b[39m=\u001b[39mbinary, init_pos\u001b[39m=\u001b[39minit_pos\n\u001b[0;32m    234\u001b[0m     )\n\u001b[0;32m    235\u001b[0m \u001b[39melse\u001b[39;00m:\n\u001b[1;32m--> 236\u001b[0m     position \u001b[39m=\u001b[39m generate_swarm(\n\u001b[0;32m    237\u001b[0m         n_particles,\n\u001b[0;32m    238\u001b[0m         dimensions,\n\u001b[0;32m    239\u001b[0m         bounds\u001b[39m=\u001b[39;49mbounds,\n\u001b[0;32m    240\u001b[0m         center\u001b[39m=\u001b[39;49mcenter,\n\u001b[0;32m    241\u001b[0m         init_pos\u001b[39m=\u001b[39;49minit_pos,\n\u001b[0;32m    242\u001b[0m     )\n\u001b[0;32m    244\u001b[0m velocity \u001b[39m=\u001b[39m generate_velocity(n_particles, dimensions, clamp\u001b[39m=\u001b[39mclamp)\n\u001b[0;32m    245\u001b[0m \u001b[39mreturn\u001b[39;00m Swarm(position, velocity, options\u001b[39m=\u001b[39moptions)\n",
      "File \u001b[1;32m~\\AppData\\Local\\Packages\\PythonSoftwareFoundation.Python.3.9_qbz5n2kfra8p0\\LocalCache\\local-packages\\Python39\\site-packages\\pyswarms\\backend\\generators.py:76\u001b[0m, in \u001b[0;36mgenerate_swarm\u001b[1;34m(n_particles, dimensions, bounds, center, init_pos)\u001b[0m\n\u001b[0;32m     73\u001b[0m \u001b[39melse\u001b[39;00m:\n\u001b[0;32m     74\u001b[0m     lb, ub \u001b[39m=\u001b[39m bounds\n\u001b[0;32m     75\u001b[0m     min_bounds \u001b[39m=\u001b[39m np\u001b[39m.\u001b[39mrepeat(\n\u001b[1;32m---> 76\u001b[0m         np\u001b[39m.\u001b[39;49marray(lb)[np\u001b[39m.\u001b[39;49mnewaxis, :], n_particles, axis\u001b[39m=\u001b[39m\u001b[39m0\u001b[39m\n\u001b[0;32m     77\u001b[0m     )\n\u001b[0;32m     78\u001b[0m     max_bounds \u001b[39m=\u001b[39m np\u001b[39m.\u001b[39mrepeat(\n\u001b[0;32m     79\u001b[0m         np\u001b[39m.\u001b[39marray(ub)[np\u001b[39m.\u001b[39mnewaxis, :], n_particles, axis\u001b[39m=\u001b[39m\u001b[39m0\u001b[39m\n\u001b[0;32m     80\u001b[0m     )\n\u001b[0;32m     81\u001b[0m     pos \u001b[39m=\u001b[39m center \u001b[39m*\u001b[39m np\u001b[39m.\u001b[39mrandom\u001b[39m.\u001b[39muniform(\n\u001b[0;32m     82\u001b[0m         low\u001b[39m=\u001b[39mmin_bounds, high\u001b[39m=\u001b[39mmax_bounds, size\u001b[39m=\u001b[39m(n_particles, dimensions)\n\u001b[0;32m     83\u001b[0m     )\n",
      "\u001b[1;31mIndexError\u001b[0m: too many indices for array: array is 0-dimensional, but 1 were indexed"
     ]
    }
   ],
   "source": [
    "bounds = (earliest_time_slot, last_time_slot)\n",
    "options = {'c1': 0.5, 'c2': 0.3, 'w':0.9}\n",
    "# build input array\n",
    "assignments = []\n",
    "start_times = []\n",
    "\n",
    "duration_lookup_table = dict()\n",
    "for task in tasks:\n",
    "    if not task.external_id in duration_lookup_table:\n",
    "            duration_lookup_table[task.external_id] = dict()\n",
    "    for workstation in env.get_valid_workstations(task.external_id):\n",
    "        duration_lookup_table[task.external_id][workstation.id] = env.get_duration(task.external_id, workstation.id)\n",
    "\n",
    "operations = []\n",
    "order_for_index = []\n",
    "for order in orders_model:\n",
    "    for resource in order.resources:\n",
    "        recipe = resource.recipes[0] # just use recipe 0 for now\n",
    "        recipe_tasks = env.get_all_tasks_for_recipe(recipe.id)\n",
    "        results = dict()\n",
    "        for task in recipe_tasks:\n",
    "            if task.result_resources[0][0] not in results:\n",
    "                results[task.result_resources[0][0]] = []\n",
    "            results[task.result_resources[0][0]].append(task)\n",
    "        for key in results:\n",
    "            #operations.append(random.choice(results[key]).id)\n",
    "            operations.append(random.choice(results[key]).external_id)\n",
    "            order_for_index.append(order.id)\n",
    "\n",
    "for operation in operations:\n",
    "    workstation = env.get_valid_workstations(operation)\n",
    "    # random init\n",
    "    assignments.append(random.choice(workstation).id)\n",
    "    assignments.append(0) # start time slot\n",
    "# feasibility function\n",
    "def feasible(x):\n",
    "    for i in range(0, len(x), 2):\n",
    "        # check if workstation is valid for task\n",
    "        if x[i] not in duration_lookup_table[operations[int(i / 2)]]: \n",
    "            return False\n",
    "        # check if time is within bounds\n",
    "        if x[i+1] + duration_lookup_table[operations[int(i / 2)]][x[i]] > last_time_slot:\n",
    "            return False\n",
    "        if x[i+1] < 0:\n",
    "            return False\n",
    "        # TODO: check for overlaps\n",
    "\n",
    "# objective function - using makespan for now\n",
    "def objective_function(x):\n",
    "    if feasible(x):\n",
    "        min = float('inf')\n",
    "        max = 0\n",
    "        for i in range(0, x, 2):\n",
    "            if x[i+1] < min:\n",
    "                min = x[i+1]\n",
    "            if x[i+1] + duration_lookup_table[operations[int(i / 2)]][x[i]] > max:\n",
    "                x[i+1] + duration_lookup_table[operations[int(i / 2)]][x[i]]\n",
    "        return max - min\n",
    "    else:\n",
    "        return float('inf')\n",
    "        \n",
    "# setup optimizer\n",
    "optimizer = ps.single.GlobalBestPSO(n_particles=10, dimensions=len(assignments), options=options, bounds=bounds)\n",
    "# Perform optimization\n",
    "cost, pos = optimizer.optimize(objective_function, iters=1000)"
   ]
  }
 ],
 "metadata": {
  "kernelspec": {
   "display_name": "Python 3.9.13 64-bit (microsoft store)",
   "language": "python",
   "name": "python3"
  },
  "language_info": {
   "codemirror_mode": {
    "name": "ipython",
    "version": 3
   },
   "file_extension": ".py",
   "mimetype": "text/x-python",
   "name": "python",
   "nbconvert_exporter": "python",
   "pygments_lexer": "ipython3",
   "version": "3.9.13"
  },
  "orig_nbformat": 4,
  "vscode": {
   "interpreter": {
    "hash": "462e7448f083626ea37b7306171372e26a088fcd344dea0651d8925b8464838f"
   }
  }
 },
 "nbformat": 4,
 "nbformat_minor": 2
}
