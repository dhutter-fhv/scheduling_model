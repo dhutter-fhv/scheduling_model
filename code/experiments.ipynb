{
 "cells": [
  {
   "cell_type": "markdown",
   "metadata": {},
   "source": [
    "<h1>Imports</h1>"
   ]
  },
  {
   "cell_type": "code",
   "execution_count": 1,
   "metadata": {},
   "outputs": [],
   "source": [
    "from read_data import read_dataset_1, translate_1\n",
    "from models import SimulationEnvironment\n",
    "from optimizer import BaseGA\n",
    "from visualize import reformat_result, visualize, visualize_schedule, fitness_history_plot\n",
    "import random"
   ]
  },
  {
   "cell_type": "markdown",
   "metadata": {},
   "source": [
    "<h1>Parameters</h1>"
   ]
  },
  {
   "cell_type": "code",
   "execution_count": 2,
   "metadata": {},
   "outputs": [],
   "source": [
    "# general parameters\n",
    "order_amount = 10\n",
    "earliest_time_slot = 0\n",
    "last_time_slot = 5000"
   ]
  },
  {
   "cell_type": "markdown",
   "metadata": {},
   "source": [
    "<h1>Input</h1>"
   ]
  },
  {
   "cell_type": "code",
   "execution_count": 3,
   "metadata": {},
   "outputs": [],
   "source": [
    "input, orders, instance = read_dataset_1(use_instance=1, order_amount=order_amount, earliest_time=earliest_time_slot, last_time=last_time_slot)\n",
    "recipes, workstations, resources, tasks, orders_model = translate_1(instance, orders, earliest_time_slot, last_time_slot)\n",
    "env = SimulationEnvironment(workstations, tasks, resources, recipes)"
   ]
  },
  {
   "cell_type": "markdown",
   "metadata": {},
   "source": [
    "<h1>Experiments</h1>"
   ]
  },
  {
   "cell_type": "markdown",
   "metadata": {},
   "source": [
    "Makespan Evaluation"
   ]
  },
  {
   "cell_type": "code",
   "execution_count": 4,
   "metadata": {},
   "outputs": [
    {
     "name": "stdout",
     "output_type": "stream",
     "text": [
      "Current generation: 0, Current Best: 5000, not feasible\n",
      "Current generation: 1, Current Best: 5000, not feasible\n",
      "Current generation: 2, Current Best: 5000, not feasible\n",
      "Current generation: 3, Current Best: 5000, not feasible\n",
      "Current generation: 4, Current Best: 5000, not feasible\n",
      "Current generation: 5, Current Best: 5000, not feasible\n",
      "Current generation: 6, Current Best: 5000, not feasible\n",
      "Current generation: 7, Current Best: 5000, not feasible\n",
      "Current generation: 8, Current Best: 5000, not feasible\n",
      "Current generation: 9, Current Best: 5000, not feasible\n",
      "Current generation: 10, Current Best: 5000, not feasible\n",
      "Current generation: 11, Current Best: 5000, not feasible\n",
      "Current generation: 12, Current Best: 5000, not feasible\n",
      "Current generation: 13, Current Best: 5000, not feasible\n",
      "Current generation: 14, Current Best: 5000, not feasible\n",
      "Current generation: 15, Current Best: 5000, not feasible\n",
      "Current generation: 16, Current Best: 5000, not feasible\n",
      "Current generation: 17, Current Best: 5000, not feasible\n",
      "Current generation: 18, Current Best: 5000, not feasible\n",
      "Current generation: 19, Current Best: 5000, not feasible\n",
      "Current generation: 20, Current Best: 5000, not feasible\n",
      "Current generation: 21, Current Best: 5000, not feasible\n",
      "Current generation: 22, Current Best: 5000, not feasible\n",
      "Current generation: 23, Current Best: 5000, not feasible\n",
      "Current generation: 24, Current Best: 5000, not feasible\n",
      "Current generation: 25, Current Best: 5000, not feasible\n",
      "Current generation: 26, Current Best: 5000, not feasible\n",
      "Current generation: 27, Current Best: 5000, not feasible\n",
      "Current generation: 28, Current Best: 5000, not feasible\n",
      "Current generation: 29, Current Best: 5000, not feasible\n",
      "Current generation: 30, Current Best: 5000, not feasible\n",
      "Current generation: 31, Current Best: 5000, not feasible\n",
      "Current generation: 32, Current Best: 5000, not feasible\n",
      "Current generation: 33, Current Best: 5000, not feasible\n",
      "Current generation: 34, Current Best: 5000, not feasible\n",
      "Current generation: 35, Current Best: 5000, not feasible\n",
      "Current generation: 36, Current Best: 5000, not feasible\n",
      "Current generation: 37, Current Best: 5000, not feasible\n",
      "Current generation: 38, Current Best: 5000, not feasible\n",
      "Current generation: 39, Current Best: 5000, not feasible\n",
      "Current generation: 40, Current Best: 5000, not feasible\n",
      "Current generation: 41, Current Best: 5000, not feasible\n",
      "Current generation: 42, Current Best: 5000, not feasible\n",
      "Current generation: 43, Current Best: 5000, not feasible\n",
      "Current generation: 44, Current Best: 5000, not feasible\n",
      "Current generation: 45, Current Best: 5000, not feasible\n",
      "Current generation: 46, Current Best: 5000, not feasible\n",
      "Current generation: 47, Current Best: 5000, not feasible\n",
      "Current generation: 48, Current Best: 5000, not feasible\n",
      "Current generation: 49, Current Best: 5000, not feasible\n",
      "Current generation: 50, Current Best: 5000, not feasible\n",
      "Current generation: 51, Current Best: 5000, not feasible\n",
      "Current generation: 52, Current Best: 5000, not feasible\n",
      "Current generation: 53, Current Best: 5000, not feasible\n",
      "Current generation: 54, Current Best: 5000, not feasible\n",
      "Current generation: 55, Current Best: 5000, not feasible\n",
      "Current generation: 56, Current Best: 5000, not feasible\n",
      "Current generation: 57, Current Best: 5000, not feasible\n",
      "Current generation: 58, Current Best: 5000, not feasible\n",
      "Current generation: 59, Current Best: 5000, not feasible\n",
      "Current generation: 60, Current Best: 5000, not feasible\n",
      "Current generation: 61, Current Best: 5000, not feasible\n",
      "Current generation: 62, Current Best: 5000, not feasible\n",
      "Current generation: 63, Current Best: 5000, not feasible\n",
      "Current generation: 64, Current Best: 5000, not feasible\n",
      "Current generation: 65, Current Best: 5000, not feasible\n",
      "Current generation: 66, Current Best: 5000, not feasible\n",
      "Current generation: 67, Current Best: 5000, not feasible\n",
      "Current generation: 68, Current Best: 5000, not feasible\n",
      "Current generation: 69, Current Best: 5000, not feasible\n",
      "Current generation: 70, Current Best: 5000, not feasible\n",
      "Current generation: 71, Current Best: 5000, not feasible\n",
      "Current generation: 72, Current Best: 5000, not feasible\n",
      "Current generation: 73, Current Best: 5000, not feasible\n",
      "Current generation: 74, Current Best: 5000, not feasible\n",
      "Current generation: 75, Current Best: 5000, not feasible\n",
      "Current generation: 76, Current Best: 5000, not feasible\n",
      "Current generation: 77, Current Best: 5000, not feasible\n",
      "Current generation: 78, Current Best: 5000, not feasible\n",
      "Current generation: 79, Current Best: 5000, not feasible\n",
      "Current generation: 80, Current Best: 5000, not feasible\n",
      "Current generation: 81, Current Best: 5000, not feasible\n",
      "Current generation: 82, Current Best: 5000, not feasible\n",
      "Current generation: 83, Current Best: 5000, not feasible\n",
      "Current generation: 84, Current Best: 5000, not feasible\n",
      "Current generation: 85, Current Best: 5000, not feasible\n",
      "Current generation: 86, Current Best: 5000, not feasible\n",
      "Current generation: 87, Current Best: 5000, not feasible\n",
      "Current generation: 88, Current Best: 5000, not feasible\n",
      "Current generation: 89, Current Best: 5000, not feasible\n",
      "Current generation: 90, Current Best: 5000, not feasible\n",
      "Current generation: 91, Current Best: 5000, not feasible\n",
      "Current generation: 92, Current Best: 5000, not feasible\n",
      "Current generation: 93, Current Best: 5000, not feasible\n",
      "Current generation: 94, Current Best: 5000, not feasible\n",
      "Current generation: 95, Current Best: 5000, not feasible\n",
      "Current generation: 96, Current Best: 5000, not feasible\n",
      "Current generation: 97, Current Best: 5000, not feasible\n",
      "Current generation: 98, Current Best: 5000, not feasible\n",
      "Current generation: 99, Current Best: 5000, not feasible\n"
     ]
    },
    {
     "data": {
      "application/vnd.plotly.v1+json": {
       "config": {
        "plotlyServerURL": "https://plot.ly"
       },
       "data": [
        {
         "fill": "toself",
         "fillcolor": "rgb(119, 141, 137)",
         "hoverinfo": "name",
         "legendgroup": "rgb(119, 141, 137)",
         "mode": "none",
         "name": "2",
         "type": "scatter",
         "x": [
          4721,
          4764,
          4764,
          4721,
          4721,
          3367,
          3402,
          3402,
          3367,
          3367,
          4843,
          4866,
          4866,
          4843,
          4843,
          2748,
          2783,
          2783,
          2748,
          2748,
          984,
          1027,
          1027,
          984
         ],
         "y": [
          0.8,
          0.8,
          1.2,
          1.2,
          null,
          0.8,
          0.8,
          1.2,
          1.2,
          null,
          0.8,
          0.8,
          1.2,
          1.2,
          null,
          0.8,
          0.8,
          1.2,
          1.2,
          null,
          0.8,
          0.8,
          1.2,
          1.2
         ]
        },
        {
         "fill": "toself",
         "fillcolor": "rgb(13, 35, 31)",
         "hoverinfo": "name",
         "legendgroup": "rgb(13, 35, 31)",
         "mode": "none",
         "name": "8",
         "type": "scatter",
         "x": [
          209,
          274,
          274,
          209,
          209,
          3612,
          3683,
          3683,
          3612,
          3612,
          2559,
          2624,
          2624,
          2559,
          2559,
          3247,
          3311,
          3311,
          3247,
          3247,
          137,
          172,
          172,
          137
         ],
         "y": [
          0.8,
          0.8,
          1.2,
          1.2,
          null,
          0.8,
          0.8,
          1.2,
          1.2,
          null,
          0.8,
          0.8,
          1.2,
          1.2,
          null,
          -0.2,
          -0.2,
          0.2,
          0.2,
          null,
          -0.2,
          -0.2,
          0.2,
          0.2
         ]
        },
        {
         "fill": "toself",
         "fillcolor": "rgb(144, 166, 162)",
         "hoverinfo": "name",
         "legendgroup": "rgb(144, 166, 162)",
         "mode": "none",
         "name": "3",
         "type": "scatter",
         "x": [
          237,
          308,
          308,
          237,
          237,
          1171,
          1236,
          1236,
          1171,
          1171,
          2780,
          2844,
          2844,
          2780,
          2780,
          4024,
          4059,
          4059,
          4024,
          4024,
          597,
          640,
          640,
          597
         ],
         "y": [
          0.8,
          0.8,
          1.2,
          1.2,
          null,
          0.8,
          0.8,
          1.2,
          1.2,
          null,
          -0.2,
          -0.2,
          0.2,
          0.2,
          null,
          -0.2,
          -0.2,
          0.2,
          0.2,
          null,
          -0.2,
          -0.2,
          0.2,
          0.2
         ]
        },
        {
         "fill": "toself",
         "fillcolor": "rgb(169, 191, 187)",
         "hoverinfo": "name",
         "legendgroup": "rgb(169, 191, 187)",
         "mode": "none",
         "name": "4",
         "type": "scatter",
         "x": [
          712,
          777,
          777,
          712,
          712,
          63,
          134,
          134,
          63,
          63,
          3802,
          3845,
          3845,
          3802,
          3802,
          3488,
          3531,
          3531,
          3488,
          3488,
          1186,
          1229,
          1229,
          1186
         ],
         "y": [
          0.8,
          0.8,
          1.2,
          1.2,
          null,
          0.8,
          0.8,
          1.2,
          1.2,
          null,
          -0.2,
          -0.2,
          0.2,
          0.2,
          null,
          -0.2,
          -0.2,
          0.2,
          0.2,
          null,
          -0.2,
          -0.2,
          0.2,
          0.2
         ]
        },
        {
         "fill": "toself",
         "fillcolor": "rgb(194, 216, 212)",
         "hoverinfo": "name",
         "legendgroup": "rgb(194, 216, 212)",
         "mode": "none",
         "name": "5",
         "type": "scatter",
         "x": [
          2151,
          2172,
          2172,
          2151,
          2151,
          399,
          420,
          420,
          399,
          399,
          2490,
          2533,
          2533,
          2490,
          2490,
          2989,
          3024,
          3024,
          2989,
          2989,
          2496,
          2539,
          2539,
          2496
         ],
         "y": [
          0.8,
          0.8,
          1.2,
          1.2,
          null,
          0.8,
          0.8,
          1.2,
          1.2,
          null,
          0.8,
          0.8,
          1.2,
          1.2,
          null,
          0.8,
          0.8,
          1.2,
          1.2,
          null,
          0.8,
          0.8,
          1.2,
          1.2
         ]
        },
        {
         "fill": "toself",
         "fillcolor": "rgb(219, 241, 237)",
         "hoverinfo": "name",
         "legendgroup": "rgb(219, 241, 237)",
         "mode": "none",
         "name": "6",
         "type": "scatter",
         "x": [
          2042,
          2077,
          2077,
          2042,
          2042,
          1920,
          1955,
          1955,
          1920,
          1920,
          3660,
          3703,
          3703,
          3660,
          3660,
          4410,
          4445,
          4445,
          4410,
          4410,
          1982,
          2005,
          2005,
          1982
         ],
         "y": [
          0.8,
          0.8,
          1.2,
          1.2,
          null,
          0.8,
          0.8,
          1.2,
          1.2,
          null,
          0.8,
          0.8,
          1.2,
          1.2,
          null,
          0.8,
          0.8,
          1.2,
          1.2,
          null,
          0.8,
          0.8,
          1.2,
          1.2
         ]
        },
        {
         "fill": "toself",
         "fillcolor": "rgb(244, 10, 6)",
         "hoverinfo": "name",
         "legendgroup": "rgb(244, 10, 6)",
         "mode": "none",
         "name": "7",
         "type": "scatter",
         "x": [
          2369,
          2404,
          2404,
          2369,
          2369,
          677,
          720,
          720,
          677,
          677,
          586,
          629,
          629,
          586,
          586,
          4027,
          4062,
          4062,
          4027,
          4027,
          3541,
          3562,
          3562,
          3541
         ],
         "y": [
          0.8,
          0.8,
          1.2,
          1.2,
          null,
          0.8,
          0.8,
          1.2,
          1.2,
          null,
          0.8,
          0.8,
          1.2,
          1.2,
          null,
          0.8,
          0.8,
          1.2,
          1.2,
          null,
          0.8,
          0.8,
          1.2,
          1.2
         ]
        },
        {
         "fill": "toself",
         "fillcolor": "rgb(38, 60, 56)",
         "hoverinfo": "name",
         "legendgroup": "rgb(38, 60, 56)",
         "mode": "none",
         "name": "9",
         "type": "scatter",
         "x": [
          1158,
          1229,
          1229,
          1158,
          1158,
          3120,
          3185,
          3185,
          3120,
          3120,
          4268,
          4333,
          4333,
          4268,
          4268,
          2937,
          2972,
          2972,
          2937,
          2937,
          4927,
          4970,
          4970,
          4927
         ],
         "y": [
          0.8,
          0.8,
          1.2,
          1.2,
          null,
          0.8,
          0.8,
          1.2,
          1.2,
          null,
          0.8,
          0.8,
          1.2,
          1.2,
          null,
          -0.2,
          -0.2,
          0.2,
          0.2,
          null,
          -0.2,
          -0.2,
          0.2,
          0.2
         ]
        },
        {
         "fill": "toself",
         "fillcolor": "rgb(69, 91, 87)",
         "hoverinfo": "name",
         "legendgroup": "rgb(69, 91, 87)",
         "mode": "none",
         "name": "0",
         "type": "scatter",
         "x": [
          3083,
          3118,
          3118,
          3083,
          3083,
          813,
          856,
          856,
          813,
          813,
          25,
          46,
          46,
          25,
          25,
          53,
          88,
          88,
          53,
          53,
          694,
          717,
          717,
          694
         ],
         "y": [
          0.8,
          0.8,
          1.2,
          1.2,
          null,
          0.8,
          0.8,
          1.2,
          1.2,
          null,
          0.8,
          0.8,
          1.2,
          1.2,
          null,
          0.8,
          0.8,
          1.2,
          1.2,
          null,
          0.8,
          0.8,
          1.2,
          1.2
         ]
        },
        {
         "fill": "toself",
         "fillcolor": "rgb(94, 116, 112)",
         "hoverinfo": "name",
         "legendgroup": "rgb(94, 116, 112)",
         "mode": "none",
         "name": "1",
         "type": "scatter",
         "x": [
          2685,
          2750,
          2750,
          2685,
          2685,
          2125,
          2190,
          2190,
          2125,
          2125,
          3591,
          3634,
          3634,
          3591,
          3591,
          2624,
          2667,
          2667,
          2624,
          2624,
          1640,
          1683,
          1683,
          1640
         ],
         "y": [
          0.8,
          0.8,
          1.2,
          1.2,
          null,
          0.8,
          0.8,
          1.2,
          1.2,
          null,
          -0.2,
          -0.2,
          0.2,
          0.2,
          null,
          -0.2,
          -0.2,
          0.2,
          0.2,
          null,
          -0.2,
          -0.2,
          0.2,
          0.2
         ]
        },
        {
         "legendgroup": "rgb(119, 141, 137)",
         "marker": {
          "color": "rgb(119, 141, 137)",
          "opacity": 0,
          "size": 1
         },
         "mode": "markers",
         "name": "",
         "showlegend": false,
         "text": [
          null,
          null,
          null,
          null,
          null,
          null,
          null,
          null,
          null,
          null
         ],
         "type": "scatter",
         "x": [
          4721,
          4764,
          3367,
          3402,
          4843,
          4866,
          2748,
          2783,
          984,
          1027
         ],
         "y": [
          1,
          1,
          1,
          1,
          1,
          1,
          1,
          1,
          1,
          1
         ]
        },
        {
         "legendgroup": "rgb(13, 35, 31)",
         "marker": {
          "color": "rgb(13, 35, 31)",
          "opacity": 0,
          "size": 1
         },
         "mode": "markers",
         "name": "",
         "showlegend": false,
         "text": [
          null,
          null,
          null,
          null,
          null,
          null,
          null,
          null,
          null,
          null
         ],
         "type": "scatter",
         "x": [
          209,
          274,
          3612,
          3683,
          2559,
          2624,
          3247,
          3311,
          137,
          172
         ],
         "y": [
          1,
          1,
          1,
          1,
          1,
          1,
          0,
          0,
          0,
          0
         ]
        },
        {
         "legendgroup": "rgb(144, 166, 162)",
         "marker": {
          "color": "rgb(144, 166, 162)",
          "opacity": 0,
          "size": 1
         },
         "mode": "markers",
         "name": "",
         "showlegend": false,
         "text": [
          null,
          null,
          null,
          null,
          null,
          null,
          null,
          null,
          null,
          null
         ],
         "type": "scatter",
         "x": [
          237,
          308,
          1171,
          1236,
          2780,
          2844,
          4024,
          4059,
          597,
          640
         ],
         "y": [
          1,
          1,
          1,
          1,
          0,
          0,
          0,
          0,
          0,
          0
         ]
        },
        {
         "legendgroup": "rgb(169, 191, 187)",
         "marker": {
          "color": "rgb(169, 191, 187)",
          "opacity": 0,
          "size": 1
         },
         "mode": "markers",
         "name": "",
         "showlegend": false,
         "text": [
          null,
          null,
          null,
          null,
          null,
          null,
          null,
          null,
          null,
          null
         ],
         "type": "scatter",
         "x": [
          712,
          777,
          63,
          134,
          3802,
          3845,
          3488,
          3531,
          1186,
          1229
         ],
         "y": [
          1,
          1,
          1,
          1,
          0,
          0,
          0,
          0,
          0,
          0
         ]
        },
        {
         "legendgroup": "rgb(194, 216, 212)",
         "marker": {
          "color": "rgb(194, 216, 212)",
          "opacity": 0,
          "size": 1
         },
         "mode": "markers",
         "name": "",
         "showlegend": false,
         "text": [
          null,
          null,
          null,
          null,
          null,
          null,
          null,
          null,
          null,
          null
         ],
         "type": "scatter",
         "x": [
          2151,
          2172,
          399,
          420,
          2490,
          2533,
          2989,
          3024,
          2496,
          2539
         ],
         "y": [
          1,
          1,
          1,
          1,
          1,
          1,
          1,
          1,
          1,
          1
         ]
        },
        {
         "legendgroup": "rgb(219, 241, 237)",
         "marker": {
          "color": "rgb(219, 241, 237)",
          "opacity": 0,
          "size": 1
         },
         "mode": "markers",
         "name": "",
         "showlegend": false,
         "text": [
          null,
          null,
          null,
          null,
          null,
          null,
          null,
          null,
          null,
          null
         ],
         "type": "scatter",
         "x": [
          2042,
          2077,
          1920,
          1955,
          3660,
          3703,
          4410,
          4445,
          1982,
          2005
         ],
         "y": [
          1,
          1,
          1,
          1,
          1,
          1,
          1,
          1,
          1,
          1
         ]
        },
        {
         "legendgroup": "rgb(244, 10, 6)",
         "marker": {
          "color": "rgb(244, 10, 6)",
          "opacity": 0,
          "size": 1
         },
         "mode": "markers",
         "name": "",
         "showlegend": false,
         "text": [
          null,
          null,
          null,
          null,
          null,
          null,
          null,
          null,
          null,
          null
         ],
         "type": "scatter",
         "x": [
          2369,
          2404,
          677,
          720,
          586,
          629,
          4027,
          4062,
          3541,
          3562
         ],
         "y": [
          1,
          1,
          1,
          1,
          1,
          1,
          1,
          1,
          1,
          1
         ]
        },
        {
         "legendgroup": "rgb(38, 60, 56)",
         "marker": {
          "color": "rgb(38, 60, 56)",
          "opacity": 0,
          "size": 1
         },
         "mode": "markers",
         "name": "",
         "showlegend": false,
         "text": [
          null,
          null,
          null,
          null,
          null,
          null,
          null,
          null,
          null,
          null
         ],
         "type": "scatter",
         "x": [
          1158,
          1229,
          3120,
          3185,
          4268,
          4333,
          2937,
          2972,
          4927,
          4970
         ],
         "y": [
          1,
          1,
          1,
          1,
          1,
          1,
          0,
          0,
          0,
          0
         ]
        },
        {
         "legendgroup": "rgb(69, 91, 87)",
         "marker": {
          "color": "rgb(69, 91, 87)",
          "opacity": 0,
          "size": 1
         },
         "mode": "markers",
         "name": "",
         "showlegend": false,
         "text": [
          null,
          null,
          null,
          null,
          null,
          null,
          null,
          null,
          null,
          null
         ],
         "type": "scatter",
         "x": [
          3083,
          3118,
          813,
          856,
          25,
          46,
          53,
          88,
          694,
          717
         ],
         "y": [
          1,
          1,
          1,
          1,
          1,
          1,
          1,
          1,
          1,
          1
         ]
        },
        {
         "legendgroup": "rgb(94, 116, 112)",
         "marker": {
          "color": "rgb(94, 116, 112)",
          "opacity": 0,
          "size": 1
         },
         "mode": "markers",
         "name": "",
         "showlegend": false,
         "text": [
          null,
          null,
          null,
          null,
          null,
          null,
          null,
          null,
          null,
          null
         ],
         "type": "scatter",
         "x": [
          2685,
          2750,
          2125,
          2190,
          3591,
          3634,
          2624,
          2667,
          1640,
          1683
         ],
         "y": [
          1,
          1,
          1,
          1,
          0,
          0,
          0,
          0,
          0,
          0
         ]
        }
       ],
       "layout": {
        "height": 600,
        "hovermode": "closest",
        "showlegend": true,
        "template": {
         "data": {
          "bar": [
           {
            "error_x": {
             "color": "#2a3f5f"
            },
            "error_y": {
             "color": "#2a3f5f"
            },
            "marker": {
             "line": {
              "color": "#E5ECF6",
              "width": 0.5
             },
             "pattern": {
              "fillmode": "overlay",
              "size": 10,
              "solidity": 0.2
             }
            },
            "type": "bar"
           }
          ],
          "barpolar": [
           {
            "marker": {
             "line": {
              "color": "#E5ECF6",
              "width": 0.5
             },
             "pattern": {
              "fillmode": "overlay",
              "size": 10,
              "solidity": 0.2
             }
            },
            "type": "barpolar"
           }
          ],
          "carpet": [
           {
            "aaxis": {
             "endlinecolor": "#2a3f5f",
             "gridcolor": "white",
             "linecolor": "white",
             "minorgridcolor": "white",
             "startlinecolor": "#2a3f5f"
            },
            "baxis": {
             "endlinecolor": "#2a3f5f",
             "gridcolor": "white",
             "linecolor": "white",
             "minorgridcolor": "white",
             "startlinecolor": "#2a3f5f"
            },
            "type": "carpet"
           }
          ],
          "choropleth": [
           {
            "colorbar": {
             "outlinewidth": 0,
             "ticks": ""
            },
            "type": "choropleth"
           }
          ],
          "contour": [
           {
            "colorbar": {
             "outlinewidth": 0,
             "ticks": ""
            },
            "colorscale": [
             [
              0,
              "#0d0887"
             ],
             [
              0.1111111111111111,
              "#46039f"
             ],
             [
              0.2222222222222222,
              "#7201a8"
             ],
             [
              0.3333333333333333,
              "#9c179e"
             ],
             [
              0.4444444444444444,
              "#bd3786"
             ],
             [
              0.5555555555555556,
              "#d8576b"
             ],
             [
              0.6666666666666666,
              "#ed7953"
             ],
             [
              0.7777777777777778,
              "#fb9f3a"
             ],
             [
              0.8888888888888888,
              "#fdca26"
             ],
             [
              1,
              "#f0f921"
             ]
            ],
            "type": "contour"
           }
          ],
          "contourcarpet": [
           {
            "colorbar": {
             "outlinewidth": 0,
             "ticks": ""
            },
            "type": "contourcarpet"
           }
          ],
          "heatmap": [
           {
            "colorbar": {
             "outlinewidth": 0,
             "ticks": ""
            },
            "colorscale": [
             [
              0,
              "#0d0887"
             ],
             [
              0.1111111111111111,
              "#46039f"
             ],
             [
              0.2222222222222222,
              "#7201a8"
             ],
             [
              0.3333333333333333,
              "#9c179e"
             ],
             [
              0.4444444444444444,
              "#bd3786"
             ],
             [
              0.5555555555555556,
              "#d8576b"
             ],
             [
              0.6666666666666666,
              "#ed7953"
             ],
             [
              0.7777777777777778,
              "#fb9f3a"
             ],
             [
              0.8888888888888888,
              "#fdca26"
             ],
             [
              1,
              "#f0f921"
             ]
            ],
            "type": "heatmap"
           }
          ],
          "heatmapgl": [
           {
            "colorbar": {
             "outlinewidth": 0,
             "ticks": ""
            },
            "colorscale": [
             [
              0,
              "#0d0887"
             ],
             [
              0.1111111111111111,
              "#46039f"
             ],
             [
              0.2222222222222222,
              "#7201a8"
             ],
             [
              0.3333333333333333,
              "#9c179e"
             ],
             [
              0.4444444444444444,
              "#bd3786"
             ],
             [
              0.5555555555555556,
              "#d8576b"
             ],
             [
              0.6666666666666666,
              "#ed7953"
             ],
             [
              0.7777777777777778,
              "#fb9f3a"
             ],
             [
              0.8888888888888888,
              "#fdca26"
             ],
             [
              1,
              "#f0f921"
             ]
            ],
            "type": "heatmapgl"
           }
          ],
          "histogram": [
           {
            "marker": {
             "pattern": {
              "fillmode": "overlay",
              "size": 10,
              "solidity": 0.2
             }
            },
            "type": "histogram"
           }
          ],
          "histogram2d": [
           {
            "colorbar": {
             "outlinewidth": 0,
             "ticks": ""
            },
            "colorscale": [
             [
              0,
              "#0d0887"
             ],
             [
              0.1111111111111111,
              "#46039f"
             ],
             [
              0.2222222222222222,
              "#7201a8"
             ],
             [
              0.3333333333333333,
              "#9c179e"
             ],
             [
              0.4444444444444444,
              "#bd3786"
             ],
             [
              0.5555555555555556,
              "#d8576b"
             ],
             [
              0.6666666666666666,
              "#ed7953"
             ],
             [
              0.7777777777777778,
              "#fb9f3a"
             ],
             [
              0.8888888888888888,
              "#fdca26"
             ],
             [
              1,
              "#f0f921"
             ]
            ],
            "type": "histogram2d"
           }
          ],
          "histogram2dcontour": [
           {
            "colorbar": {
             "outlinewidth": 0,
             "ticks": ""
            },
            "colorscale": [
             [
              0,
              "#0d0887"
             ],
             [
              0.1111111111111111,
              "#46039f"
             ],
             [
              0.2222222222222222,
              "#7201a8"
             ],
             [
              0.3333333333333333,
              "#9c179e"
             ],
             [
              0.4444444444444444,
              "#bd3786"
             ],
             [
              0.5555555555555556,
              "#d8576b"
             ],
             [
              0.6666666666666666,
              "#ed7953"
             ],
             [
              0.7777777777777778,
              "#fb9f3a"
             ],
             [
              0.8888888888888888,
              "#fdca26"
             ],
             [
              1,
              "#f0f921"
             ]
            ],
            "type": "histogram2dcontour"
           }
          ],
          "mesh3d": [
           {
            "colorbar": {
             "outlinewidth": 0,
             "ticks": ""
            },
            "type": "mesh3d"
           }
          ],
          "parcoords": [
           {
            "line": {
             "colorbar": {
              "outlinewidth": 0,
              "ticks": ""
             }
            },
            "type": "parcoords"
           }
          ],
          "pie": [
           {
            "automargin": true,
            "type": "pie"
           }
          ],
          "scatter": [
           {
            "marker": {
             "colorbar": {
              "outlinewidth": 0,
              "ticks": ""
             }
            },
            "type": "scatter"
           }
          ],
          "scatter3d": [
           {
            "line": {
             "colorbar": {
              "outlinewidth": 0,
              "ticks": ""
             }
            },
            "marker": {
             "colorbar": {
              "outlinewidth": 0,
              "ticks": ""
             }
            },
            "type": "scatter3d"
           }
          ],
          "scattercarpet": [
           {
            "marker": {
             "colorbar": {
              "outlinewidth": 0,
              "ticks": ""
             }
            },
            "type": "scattercarpet"
           }
          ],
          "scattergeo": [
           {
            "marker": {
             "colorbar": {
              "outlinewidth": 0,
              "ticks": ""
             }
            },
            "type": "scattergeo"
           }
          ],
          "scattergl": [
           {
            "marker": {
             "colorbar": {
              "outlinewidth": 0,
              "ticks": ""
             }
            },
            "type": "scattergl"
           }
          ],
          "scattermapbox": [
           {
            "marker": {
             "colorbar": {
              "outlinewidth": 0,
              "ticks": ""
             }
            },
            "type": "scattermapbox"
           }
          ],
          "scatterpolar": [
           {
            "marker": {
             "colorbar": {
              "outlinewidth": 0,
              "ticks": ""
             }
            },
            "type": "scatterpolar"
           }
          ],
          "scatterpolargl": [
           {
            "marker": {
             "colorbar": {
              "outlinewidth": 0,
              "ticks": ""
             }
            },
            "type": "scatterpolargl"
           }
          ],
          "scatterternary": [
           {
            "marker": {
             "colorbar": {
              "outlinewidth": 0,
              "ticks": ""
             }
            },
            "type": "scatterternary"
           }
          ],
          "surface": [
           {
            "colorbar": {
             "outlinewidth": 0,
             "ticks": ""
            },
            "colorscale": [
             [
              0,
              "#0d0887"
             ],
             [
              0.1111111111111111,
              "#46039f"
             ],
             [
              0.2222222222222222,
              "#7201a8"
             ],
             [
              0.3333333333333333,
              "#9c179e"
             ],
             [
              0.4444444444444444,
              "#bd3786"
             ],
             [
              0.5555555555555556,
              "#d8576b"
             ],
             [
              0.6666666666666666,
              "#ed7953"
             ],
             [
              0.7777777777777778,
              "#fb9f3a"
             ],
             [
              0.8888888888888888,
              "#fdca26"
             ],
             [
              1,
              "#f0f921"
             ]
            ],
            "type": "surface"
           }
          ],
          "table": [
           {
            "cells": {
             "fill": {
              "color": "#EBF0F8"
             },
             "line": {
              "color": "white"
             }
            },
            "header": {
             "fill": {
              "color": "#C8D4E3"
             },
             "line": {
              "color": "white"
             }
            },
            "type": "table"
           }
          ]
         },
         "layout": {
          "annotationdefaults": {
           "arrowcolor": "#2a3f5f",
           "arrowhead": 0,
           "arrowwidth": 1
          },
          "autotypenumbers": "strict",
          "coloraxis": {
           "colorbar": {
            "outlinewidth": 0,
            "ticks": ""
           }
          },
          "colorscale": {
           "diverging": [
            [
             0,
             "#8e0152"
            ],
            [
             0.1,
             "#c51b7d"
            ],
            [
             0.2,
             "#de77ae"
            ],
            [
             0.3,
             "#f1b6da"
            ],
            [
             0.4,
             "#fde0ef"
            ],
            [
             0.5,
             "#f7f7f7"
            ],
            [
             0.6,
             "#e6f5d0"
            ],
            [
             0.7,
             "#b8e186"
            ],
            [
             0.8,
             "#7fbc41"
            ],
            [
             0.9,
             "#4d9221"
            ],
            [
             1,
             "#276419"
            ]
           ],
           "sequential": [
            [
             0,
             "#0d0887"
            ],
            [
             0.1111111111111111,
             "#46039f"
            ],
            [
             0.2222222222222222,
             "#7201a8"
            ],
            [
             0.3333333333333333,
             "#9c179e"
            ],
            [
             0.4444444444444444,
             "#bd3786"
            ],
            [
             0.5555555555555556,
             "#d8576b"
            ],
            [
             0.6666666666666666,
             "#ed7953"
            ],
            [
             0.7777777777777778,
             "#fb9f3a"
            ],
            [
             0.8888888888888888,
             "#fdca26"
            ],
            [
             1,
             "#f0f921"
            ]
           ],
           "sequentialminus": [
            [
             0,
             "#0d0887"
            ],
            [
             0.1111111111111111,
             "#46039f"
            ],
            [
             0.2222222222222222,
             "#7201a8"
            ],
            [
             0.3333333333333333,
             "#9c179e"
            ],
            [
             0.4444444444444444,
             "#bd3786"
            ],
            [
             0.5555555555555556,
             "#d8576b"
            ],
            [
             0.6666666666666666,
             "#ed7953"
            ],
            [
             0.7777777777777778,
             "#fb9f3a"
            ],
            [
             0.8888888888888888,
             "#fdca26"
            ],
            [
             1,
             "#f0f921"
            ]
           ]
          },
          "colorway": [
           "#636efa",
           "#EF553B",
           "#00cc96",
           "#ab63fa",
           "#FFA15A",
           "#19d3f3",
           "#FF6692",
           "#B6E880",
           "#FF97FF",
           "#FECB52"
          ],
          "font": {
           "color": "#2a3f5f"
          },
          "geo": {
           "bgcolor": "white",
           "lakecolor": "white",
           "landcolor": "#E5ECF6",
           "showlakes": true,
           "showland": true,
           "subunitcolor": "white"
          },
          "hoverlabel": {
           "align": "left"
          },
          "hovermode": "closest",
          "mapbox": {
           "style": "light"
          },
          "paper_bgcolor": "white",
          "plot_bgcolor": "#E5ECF6",
          "polar": {
           "angularaxis": {
            "gridcolor": "white",
            "linecolor": "white",
            "ticks": ""
           },
           "bgcolor": "#E5ECF6",
           "radialaxis": {
            "gridcolor": "white",
            "linecolor": "white",
            "ticks": ""
           }
          },
          "scene": {
           "xaxis": {
            "backgroundcolor": "#E5ECF6",
            "gridcolor": "white",
            "gridwidth": 2,
            "linecolor": "white",
            "showbackground": true,
            "ticks": "",
            "zerolinecolor": "white"
           },
           "yaxis": {
            "backgroundcolor": "#E5ECF6",
            "gridcolor": "white",
            "gridwidth": 2,
            "linecolor": "white",
            "showbackground": true,
            "ticks": "",
            "zerolinecolor": "white"
           },
           "zaxis": {
            "backgroundcolor": "#E5ECF6",
            "gridcolor": "white",
            "gridwidth": 2,
            "linecolor": "white",
            "showbackground": true,
            "ticks": "",
            "zerolinecolor": "white"
           }
          },
          "shapedefaults": {
           "line": {
            "color": "#2a3f5f"
           }
          },
          "ternary": {
           "aaxis": {
            "gridcolor": "white",
            "linecolor": "white",
            "ticks": ""
           },
           "baxis": {
            "gridcolor": "white",
            "linecolor": "white",
            "ticks": ""
           },
           "bgcolor": "#E5ECF6",
           "caxis": {
            "gridcolor": "white",
            "linecolor": "white",
            "ticks": ""
           }
          },
          "title": {
           "x": 0.05
          },
          "xaxis": {
           "automargin": true,
           "gridcolor": "white",
           "linecolor": "white",
           "ticks": "",
           "title": {
            "standoff": 15
           },
           "zerolinecolor": "white",
           "zerolinewidth": 2
          },
          "yaxis": {
           "automargin": true,
           "gridcolor": "white",
           "linecolor": "white",
           "ticks": "",
           "title": {
            "standoff": 15
           },
           "zerolinecolor": "white",
           "zerolinewidth": 2
          }
         }
        },
        "title": {
         "text": "Gantt Chart"
        },
        "xaxis": {
         "rangeselector": {
          "buttons": [
           {
            "count": 7,
            "label": "1w",
            "step": "day",
            "stepmode": "backward"
           },
           {
            "count": 1,
            "label": "1m",
            "step": "month",
            "stepmode": "backward"
           },
           {
            "count": 6,
            "label": "6m",
            "step": "month",
            "stepmode": "backward"
           },
           {
            "count": 1,
            "label": "YTD",
            "step": "year",
            "stepmode": "todate"
           },
           {
            "count": 1,
            "label": "1y",
            "step": "year",
            "stepmode": "backward"
           },
           {
            "step": "all"
           }
          ]
         },
         "showgrid": false,
         "type": "linear",
         "zeroline": false
        },
        "yaxis": {
         "autorange": false,
         "range": [
          -1,
          3
         ],
         "showgrid": false,
         "ticktext": [
          "w1",
          "w2"
         ],
         "tickvals": [
          0,
          1
         ],
         "zeroline": false
        }
       }
      }
     },
     "metadata": {},
     "output_type": "display_data"
    },
    {
     "data": {
      "image/png": "[encoded data removed]",
      "text/plain": [
       "<Figure size 432x288 with 1 Axes>"
      ]
     },
     "metadata": {
      "needs_background": "light"
     },
     "output_type": "display_data"
    }
   ],
   "source": [
    "max_generations = 100\n",
    "population_size = 10\n",
    "offspring_amount = 20\n",
    "\n",
    "optimizer = BaseGA(env)\n",
    "optimizer.set_minimize()\n",
    "optimizer.configure('makespan', 'twopointcrossover', 'roulettewheel', 'randomize')\n",
    "last_time_slot = 5000\n",
    "# set all delivery dates to last time slot\n",
    "for order in orders:\n",
    "    order[1] = last_time_slot\n",
    "result, best_fitness_history, average_fitness_history, best_generation_history, feasible_gen = optimizer.optimize(orders, max_generations, earliest_time_slot, last_time_slot, population_size, offspring_amount, verbose=True)\n",
    "workstation_assignments = reformat_result(result, orders, env)\n",
    "visualize(workstation_assignments, best_fitness_history, average_fitness_history, best_generation_history, feasible_gen)"
   ]
  },
  {
   "cell_type": "code",
   "execution_count": 5,
   "metadata": {},
   "outputs": [
    {
     "name": "stdout",
     "output_type": "stream",
     "text": [
      "Current generation: 0, Current Best: 50000, not feasible\n",
      "Current generation: 1, Current Best: 50000, not feasible\n",
      "Current generation: 2, Current Best: 50000, not feasible\n",
      "Current generation: 3, Current Best: 50000, not feasible\n",
      "Current generation: 4, Current Best: 50000, not feasible\n",
      "Current generation: 5, Current Best: 50000, not feasible\n",
      "Current generation: 6, Current Best: 50000, not feasible\n",
      "Current generation: 7, Current Best: 50000, not feasible\n",
      "Current generation: 8, Current Best: 50000, not feasible\n",
      "Current generation: 9, Current Best: 50000, not feasible\n",
      "Current generation: 10, Current Best: 50000, not feasible\n",
      "Current generation: 11, Current Best: 50000, not feasible\n",
      "Current generation: 12, Current Best: 50000, not feasible\n",
      "Current generation: 13, Current Best: 50000, not feasible\n",
      "Current generation: 14, Current Best: 50000, not feasible\n",
      "Current generation: 15, Current Best: 50000, not feasible\n",
      "Current generation: 16, Current Best: 50000, not feasible\n",
      "Current generation: 17, Current Best: 50000, not feasible\n",
      "Current generation: 18, Current Best: 50000, not feasible\n",
      "Current generation: 19, Current Best: 50000, not feasible\n",
      "Current generation: 20, Current Best: 50000, not feasible\n",
      "Current generation: 21, Current Best: 50000, not feasible\n",
      "Current generation: 22, Current Best: 50000, not feasible\n",
      "Current generation: 23, Current Best: 50000, not feasible\n",
      "Current generation: 24, Current Best: 50000, not feasible\n",
      "Current generation: 25, Current Best: 50000, not feasible\n",
      "Current generation: 26, Current Best: 50000, not feasible\n",
      "Current generation: 27, Current Best: 50000, not feasible\n",
      "Current generation: 28, Current Best: 50000, not feasible\n",
      "Current generation: 29, Current Best: 50000, not feasible\n",
      "Current generation: 30, Current Best: 50000, not feasible\n",
      "Current generation: 31, Current Best: 50000, not feasible\n",
      "Current generation: 32, Current Best: 50000, not feasible\n",
      "Current generation: 33, Current Best: 50000, not feasible\n",
      "Current generation: 34, Current Best: 50000, not feasible\n",
      "Current generation: 35, Current Best: 50000, not feasible\n",
      "Current generation: 36, Current Best: 50000, not feasible\n",
      "Current generation: 37, Current Best: 50000, not feasible\n",
      "Current generation: 38, Current Best: 50000, not feasible\n",
      "Current generation: 39, Current Best: 50000, not feasible\n",
      "Current generation: 40, Current Best: 50000, not feasible\n",
      "Current generation: 41, Current Best: 50000, not feasible\n",
      "Current generation: 42, Current Best: 50000, not feasible\n",
      "Current generation: 43, Current Best: 50000, not feasible\n",
      "Current generation: 44, Current Best: 50000, not feasible\n",
      "Current generation: 45, Current Best: 50000, not feasible\n",
      "Current generation: 46, Current Best: 50000, not feasible\n",
      "Current generation: 47, Current Best: 50000, not feasible\n",
      "Current generation: 48, Current Best: 50000, not feasible\n",
      "Current generation: 49, Current Best: 50000, not feasible\n",
      "Current generation: 50, Current Best: 50000, not feasible\n",
      "Current generation: 51, Current Best: 50000, not feasible\n",
      "Current generation: 52, Current Best: 50000, not feasible\n",
      "Current generation: 53, Current Best: 50000, not feasible\n",
      "Current generation: 54, Current Best: 50000, not feasible\n",
      "Current generation: 55, Current Best: 50000, not feasible\n",
      "Current generation: 56, Current Best: 50000, not feasible\n",
      "Current generation: 57, Current Best: 50000, not feasible\n",
      "Current generation: 58, Current Best: 50000, not feasible\n",
      "Current generation: 59, Current Best: 50000, not feasible\n",
      "Current generation: 60, Current Best: 50000, not feasible\n",
      "Current generation: 61, Current Best: 50000, not feasible\n",
      "Current generation: 62, Current Best: 50000, not feasible\n",
      "Current generation: 63, Current Best: 50000, not feasible\n",
      "Current generation: 64, Current Best: 50000, not feasible\n",
      "Current generation: 65, Current Best: 50000, not feasible\n",
      "Current generation: 66, Current Best: 50000, not feasible\n",
      "Current generation: 67, Current Best: 50000, not feasible\n",
      "Current generation: 68, Current Best: 50000, not feasible\n",
      "Current generation: 69, Current Best: 50000, not feasible\n",
      "Current generation: 70, Current Best: 50000, not feasible\n",
      "Current generation: 71, Current Best: 50000, not feasible\n",
      "Current generation: 72, Current Best: 50000, not feasible\n",
      "Current generation: 73, Current Best: 50000, not feasible\n",
      "Current generation: 74, Current Best: 50000, not feasible\n",
      "Current generation: 75, Current Best: 50000, not feasible\n",
      "Current generation: 76, Current Best: 50000, not feasible\n",
      "Current generation: 77, Current Best: 50000, not feasible\n",
      "Current generation: 78, Current Best: 50000, not feasible\n",
      "Current generation: 79, Current Best: 50000, not feasible\n",
      "Current generation: 80, Current Best: 50000, not feasible\n",
      "Current generation: 81, Current Best: 50000, not feasible\n",
      "Current generation: 82, Current Best: 50000, not feasible\n",
      "Current generation: 83, Current Best: 50000, not feasible\n",
      "Current generation: 84, Current Best: 50000, not feasible\n",
      "Current generation: 85, Current Best: 50000, not feasible\n",
      "Current generation: 86, Current Best: 50000, not feasible\n",
      "Current generation: 87, Current Best: 50000, not feasible\n",
      "Current generation: 88, Current Best: 50000, not feasible\n",
      "Current generation: 89, Current Best: 50000, not feasible\n",
      "Current generation: 90, Current Best: 50000, not feasible\n",
      "Current generation: 91, Current Best: 50000, not feasible\n",
      "Current generation: 92, Current Best: 50000, not feasible\n",
      "Current generation: 93, Current Best: 50000, not feasible\n",
      "Current generation: 94, Current Best: 50000, not feasible\n",
      "Current generation: 95, Current Best: 50000, not feasible\n",
      "Current generation: 96, Current Best: 50000, not feasible\n",
      "Current generation: 97, Current Best: 50000, not feasible\n",
      "Current generation: 98, Current Best: 50000, not feasible\n",
      "Current generation: 99, Current Best: 50000, not feasible\n",
      "Current generation: 100, Current Best: 50000, not feasible\n",
      "Current generation: 101, Current Best: 50000, not feasible\n",
      "Current generation: 102, Current Best: 50000, not feasible\n",
      "Current generation: 103, Current Best: 50000, not feasible\n",
      "Current generation: 104, Current Best: 50000, not feasible\n",
      "Current generation: 105, Current Best: 50000, not feasible\n",
      "Current generation: 106, Current Best: 50000, not feasible\n",
      "Current generation: 107, Current Best: 50000, not feasible\n",
      "Current generation: 108, Current Best: 50000, not feasible\n",
      "Current generation: 109, Current Best: 50000, not feasible\n",
      "Current generation: 110, Current Best: 50000, not feasible\n",
      "Current generation: 111, Current Best: 50000, not feasible\n",
      "Current generation: 112, Current Best: 50000, not feasible\n",
      "Current generation: 113, Current Best: 50000, not feasible\n",
      "Current generation: 114, Current Best: 50000, not feasible\n",
      "Current generation: 115, Current Best: 50000, not feasible\n",
      "Current generation: 116, Current Best: 50000, not feasible\n",
      "Current generation: 117, Current Best: 50000, not feasible\n",
      "Current generation: 118, Current Best: 50000, not feasible\n",
      "Current generation: 119, Current Best: 50000, not feasible\n",
      "Current generation: 120, Current Best: 50000, not feasible\n",
      "Current generation: 121, Current Best: 50000, not feasible\n",
      "Current generation: 122, Current Best: 50000, not feasible\n",
      "Current generation: 123, Current Best: 50000, not feasible\n",
      "Current generation: 124, Current Best: 50000, not feasible\n",
      "Current generation: 125, Current Best: 50000, not feasible\n",
      "Current generation: 126, Current Best: 50000, not feasible\n",
      "Current generation: 127, Current Best: 50000, not feasible\n",
      "Current generation: 128, Current Best: 50000, not feasible\n",
      "Current generation: 129, Current Best: 50000, not feasible\n",
      "Current generation: 130, Current Best: 50000, not feasible\n",
      "Current generation: 131, Current Best: 50000, not feasible\n",
      "Current generation: 132, Current Best: 50000, not feasible\n",
      "Current generation: 133, Current Best: 50000, not feasible\n",
      "Current generation: 134, Current Best: 50000, not feasible\n",
      "Current generation: 135, Current Best: 50000, not feasible\n",
      "Current generation: 136, Current Best: 50000, not feasible\n",
      "Current generation: 137, Current Best: 50000, not feasible\n",
      "Current generation: 138, Current Best: 50000, not feasible\n",
      "Current generation: 139, Current Best: 50000, not feasible\n",
      "Current generation: 140, Current Best: 50000, not feasible\n",
      "Current generation: 141, Current Best: 50000, not feasible\n",
      "Current generation: 142, Current Best: 50000, not feasible\n",
      "Current generation: 143, Current Best: 50000, not feasible\n",
      "Current generation: 144, Current Best: 50000, not feasible\n",
      "Current generation: 145, Current Best: 50000, not feasible\n",
      "Current generation: 146, Current Best: 50000, not feasible\n",
      "Current generation: 147, Current Best: 50000, not feasible\n",
      "Current generation: 148, Current Best: 50000, not feasible\n",
      "Current generation: 149, Current Best: 50000, not feasible\n",
      "Current generation: 150, Current Best: 50000, not feasible\n",
      "Current generation: 151, Current Best: 50000, not feasible\n",
      "Current generation: 152, Current Best: 50000, not feasible\n",
      "Current generation: 153, Current Best: 50000, not feasible\n",
      "Current generation: 154, Current Best: 50000, not feasible\n",
      "Current generation: 155, Current Best: 50000, not feasible\n",
      "Current generation: 156, Current Best: 50000, not feasible\n",
      "Current generation: 157, Current Best: 50000, not feasible\n",
      "Current generation: 158, Current Best: 50000, not feasible\n",
      "Current generation: 159, Current Best: 50000, not feasible\n",
      "Current generation: 160, Current Best: 50000, not feasible\n",
      "Current generation: 161, Current Best: 50000, not feasible\n",
      "Current generation: 162, Current Best: 50000, not feasible\n",
      "Current generation: 163, Current Best: 50000, not feasible\n",
      "Current generation: 164, Current Best: 50000, not feasible\n",
      "Current generation: 165, Current Best: 50000, not feasible\n",
      "Current generation: 166, Current Best: 50000, not feasible\n",
      "Current generation: 167, Current Best: 50000, not feasible\n",
      "Current generation: 168, Current Best: 50000, not feasible\n",
      "Current generation: 169, Current Best: 50000, not feasible\n",
      "Current generation: 170, Current Best: 50000, not feasible\n",
      "Current generation: 171, Current Best: 50000, not feasible\n",
      "Current generation: 172, Current Best: 50000, not feasible\n",
      "Current generation: 173, Current Best: 50000, not feasible\n",
      "Current generation: 174, Current Best: 50000, not feasible\n",
      "Current generation: 175, Current Best: 50000, not feasible\n",
      "Current generation: 176, Current Best: 50000, not feasible\n",
      "Current generation: 177, Current Best: 50000, not feasible\n",
      "Current generation: 178, Current Best: 50000, not feasible\n",
      "Current generation: 179, Current Best: 50000, not feasible\n",
      "Current generation: 180, Current Best: 50000, not feasible\n",
      "Current generation: 181, Current Best: 50000, not feasible\n",
      "Current generation: 182, Current Best: 50000, not feasible\n",
      "Current generation: 183, Current Best: 50000, not feasible\n",
      "Current generation: 184, Current Best: 50000, not feasible\n",
      "Current generation: 185, Current Best: 50000, not feasible\n",
      "Current generation: 186, Current Best: 50000, not feasible\n",
      "Current generation: 187, Current Best: 50000, not feasible\n",
      "Current generation: 188, Current Best: 50000, not feasible\n",
      "Current generation: 189, Current Best: 50000, not feasible\n",
      "Current generation: 190, Current Best: 50000, not feasible\n",
      "Current generation: 191, Current Best: 50000, not feasible\n",
      "Current generation: 192, Current Best: 50000, not feasible\n",
      "Current generation: 193, Current Best: 50000, not feasible\n",
      "Current generation: 194, Current Best: 50000, not feasible\n",
      "Current generation: 195, Current Best: 50000, not feasible\n",
      "Current generation: 196, Current Best: 50000, not feasible\n",
      "Current generation: 197, Current Best: 50000, not feasible\n",
      "Current generation: 198, Current Best: 50000, not feasible\n",
      "Current generation: 199, Current Best: 50000, not feasible\n",
      "Current generation: 200, Current Best: 50000, not feasible\n",
      "Current generation: 201, Current Best: 50000, not feasible\n",
      "Current generation: 202, Current Best: 50000, not feasible\n",
      "Current generation: 203, Current Best: 50000, not feasible\n",
      "Current generation: 204, Current Best: 50000, not feasible\n",
      "Current generation: 205, Current Best: 50000, not feasible\n",
      "Current generation: 206, Current Best: 50000, not feasible\n",
      "Current generation: 207, Current Best: 50000, not feasible\n",
      "Current generation: 208, Current Best: 50000, not feasible\n",
      "Current generation: 209, Current Best: 50000, not feasible\n",
      "Current generation: 210, Current Best: 50000, not feasible\n",
      "Current generation: 211, Current Best: 50000, not feasible\n",
      "Current generation: 212, Current Best: 50000, not feasible\n",
      "Current generation: 213, Current Best: 50000, not feasible\n",
      "Current generation: 214, Current Best: 50000, not feasible\n",
      "Current generation: 215, Current Best: 50000, not feasible\n",
      "Current generation: 216, Current Best: 50000, not feasible\n",
      "Current generation: 217, Current Best: 50000, not feasible\n",
      "Current generation: 218, Current Best: 50000, not feasible\n",
      "Current generation: 219, Current Best: 50000, not feasible\n",
      "Current generation: 220, Current Best: 50000, not feasible\n",
      "Current generation: 221, Current Best: 50000, not feasible\n",
      "Current generation: 222, Current Best: 50000, not feasible\n",
      "Current generation: 223, Current Best: 50000, not feasible\n",
      "Current generation: 224, Current Best: 50000, not feasible\n",
      "Current generation: 225, Current Best: 50000, not feasible\n",
      "Current generation: 226, Current Best: 50000, not feasible\n",
      "Current generation: 227, Current Best: 50000, not feasible\n",
      "Current generation: 228, Current Best: 50000, not feasible\n",
      "Current generation: 229, Current Best: 50000, not feasible\n",
      "Current generation: 230, Current Best: 50000, not feasible\n",
      "Current generation: 231, Current Best: 50000, not feasible\n",
      "Current generation: 232, Current Best: 50000, not feasible\n",
      "Current generation: 233, Current Best: 50000, not feasible\n",
      "Current generation: 234, Current Best: 50000, not feasible\n",
      "Current generation: 235, Current Best: 50000, not feasible\n",
      "Current generation: 236, Current Best: 50000, not feasible\n",
      "Current generation: 237, Current Best: 50000, not feasible\n",
      "Current generation: 238, Current Best: 50000, not feasible\n",
      "Current generation: 239, Current Best: 50000, not feasible\n",
      "Current generation: 240, Current Best: 50000, not feasible\n",
      "Current generation: 241, Current Best: 50000, not feasible\n",
      "Current generation: 242, Current Best: 50000, not feasible\n",
      "Current generation: 243, Current Best: 50000, not feasible\n",
      "Current generation: 244, Current Best: 50000, not feasible\n",
      "Current generation: 245, Current Best: 50000, not feasible\n",
      "Current generation: 246, Current Best: 50000, not feasible\n",
      "Current generation: 247, Current Best: 50000, not feasible\n",
      "Current generation: 248, Current Best: 50000, not feasible\n",
      "Current generation: 249, Current Best: 50000, not feasible\n",
      "Current generation: 250, Current Best: 50000, not feasible\n",
      "Current generation: 251, Current Best: 50000, not feasible\n",
      "Current generation: 252, Current Best: 50000, not feasible\n",
      "Current generation: 253, Current Best: 50000, not feasible\n",
      "Current generation: 254, Current Best: 50000, not feasible\n",
      "Current generation: 255, Current Best: 50000, not feasible\n",
      "Current generation: 256, Current Best: 50000, not feasible\n",
      "Current generation: 257, Current Best: 50000, not feasible\n",
      "Current generation: 258, Current Best: 50000, not feasible\n",
      "Current generation: 259, Current Best: 50000, not feasible\n",
      "Current generation: 260, Current Best: 50000, not feasible\n",
      "Current generation: 261, Current Best: 50000, not feasible\n",
      "Current generation: 262, Current Best: 50000, not feasible\n",
      "Current generation: 263, Current Best: 50000, not feasible\n",
      "Current generation: 264, Current Best: 50000, not feasible\n",
      "Current generation: 265, Current Best: 50000, not feasible\n",
      "Current generation: 266, Current Best: 50000, not feasible\n",
      "Current generation: 267, Current Best: 50000, not feasible\n",
      "Current generation: 268, Current Best: 50000, not feasible\n",
      "Current generation: 269, Current Best: 50000, not feasible\n",
      "Current generation: 270, Current Best: 50000, not feasible\n",
      "Current generation: 271, Current Best: 50000, not feasible\n",
      "Current generation: 272, Current Best: 50000, not feasible\n",
      "Current generation: 273, Current Best: 50000, not feasible\n",
      "Current generation: 274, Current Best: 50000, not feasible\n",
      "Current generation: 275, Current Best: 50000, not feasible\n",
      "Current generation: 276, Current Best: 50000, not feasible\n",
      "Current generation: 277, Current Best: 50000, not feasible\n",
      "Current generation: 278, Current Best: 50000, not feasible\n",
      "Current generation: 279, Current Best: 50000, not feasible\n",
      "Current generation: 280, Current Best: 50000, not feasible\n",
      "Current generation: 281, Current Best: 50000, not feasible\n",
      "Current generation: 282, Current Best: 50000, not feasible\n",
      "Current generation: 283, Current Best: 50000, not feasible\n",
      "Current generation: 284, Current Best: 50000, not feasible\n",
      "Current generation: 285, Current Best: 50000, not feasible\n",
      "Current generation: 286, Current Best: 50000, not feasible\n",
      "Current generation: 287, Current Best: 50000, not feasible\n",
      "Current generation: 288, Current Best: 50000, not feasible\n",
      "Current generation: 289, Current Best: 50000, not feasible\n",
      "Current generation: 290, Current Best: 50000, not feasible\n",
      "Current generation: 291, Current Best: 50000, not feasible\n",
      "Current generation: 292, Current Best: 50000, not feasible\n",
      "Current generation: 293, Current Best: 50000, not feasible\n",
      "Current generation: 294, Current Best: 50000, not feasible\n",
      "Current generation: 295, Current Best: 50000, not feasible\n",
      "Current generation: 296, Current Best: 50000, not feasible\n",
      "Current generation: 297, Current Best: 50000, not feasible\n",
      "Current generation: 298, Current Best: 50000, not feasible\n",
      "Current generation: 299, Current Best: 50000, not feasible\n",
      "Current generation: 300, Current Best: 50000, not feasible\n",
      "Current generation: 301, Current Best: 50000, not feasible\n",
      "Current generation: 302, Current Best: 50000, not feasible\n",
      "Current generation: 303, Current Best: 50000, not feasible\n",
      "Current generation: 304, Current Best: 50000, not feasible\n",
      "Current generation: 305, Current Best: 50000, not feasible\n",
      "Current generation: 306, Current Best: 50000, not feasible\n",
      "Current generation: 307, Current Best: 50000, not feasible\n",
      "Current generation: 308, Current Best: 50000, not feasible\n",
      "Current generation: 309, Current Best: 50000, not feasible\n",
      "Current generation: 310, Current Best: 50000, not feasible\n",
      "Current generation: 311, Current Best: 50000, not feasible\n",
      "Current generation: 312, Current Best: 50000, not feasible\n",
      "Current generation: 313, Current Best: 50000, not feasible\n",
      "Current generation: 314, Current Best: 50000, not feasible\n",
      "Current generation: 315, Current Best: 50000, not feasible\n",
      "Current generation: 316, Current Best: 50000, not feasible\n",
      "Current generation: 317, Current Best: 50000, not feasible\n",
      "Current generation: 318, Current Best: 50000, not feasible\n",
      "Current generation: 319, Current Best: 50000, not feasible\n",
      "Current generation: 320, Current Best: 50000, not feasible\n",
      "Current generation: 321, Current Best: 50000, not feasible\n",
      "Current generation: 322, Current Best: 50000, not feasible\n",
      "Current generation: 323, Current Best: 50000, not feasible\n",
      "Current generation: 324, Current Best: 50000, not feasible\n",
      "Current generation: 325, Current Best: 50000, not feasible\n",
      "Current generation: 326, Current Best: 50000, not feasible\n",
      "Current generation: 327, Current Best: 50000, not feasible\n",
      "Current generation: 328, Current Best: 50000, not feasible\n",
      "Current generation: 329, Current Best: 50000, not feasible\n",
      "Current generation: 330, Current Best: 50000, not feasible\n",
      "Current generation: 331, Current Best: 50000, not feasible\n",
      "Current generation: 332, Current Best: 50000, not feasible\n",
      "Current generation: 333, Current Best: 50000, not feasible\n",
      "Current generation: 334, Current Best: 50000, not feasible\n",
      "Current generation: 335, Current Best: 50000, not feasible\n",
      "Current generation: 336, Current Best: 50000, not feasible\n",
      "Current generation: 337, Current Best: 50000, not feasible\n",
      "Current generation: 338, Current Best: 50000, not feasible\n",
      "Current generation: 339, Current Best: 50000, not feasible\n",
      "Current generation: 340, Current Best: 50000, not feasible\n",
      "Current generation: 341, Current Best: 50000, not feasible\n",
      "Current generation: 342, Current Best: 50000, not feasible\n",
      "Current generation: 343, Current Best: 50000, not feasible\n",
      "Current generation: 344, Current Best: 50000, not feasible\n",
      "Current generation: 345, Current Best: 50000, not feasible\n",
      "Current generation: 346, Current Best: 50000, not feasible\n",
      "Current generation: 347, Current Best: 50000, not feasible\n",
      "Current generation: 348, Current Best: 50000, not feasible\n",
      "Current generation: 349, Current Best: 50000, not feasible\n",
      "Current generation: 350, Current Best: 50000, not feasible\n",
      "Current generation: 351, Current Best: 50000, not feasible\n",
      "Current generation: 352, Current Best: 50000, not feasible\n",
      "Current generation: 353, Current Best: 50000, not feasible\n",
      "Current generation: 354, Current Best: 50000, not feasible\n",
      "Current generation: 355, Current Best: 50000, not feasible\n",
      "Current generation: 356, Current Best: 50000, not feasible\n",
      "Current generation: 357, Current Best: 50000, not feasible\n",
      "Current generation: 358, Current Best: 50000, not feasible\n",
      "Current generation: 359, Current Best: 50000, not feasible\n",
      "Current generation: 360, Current Best: 50000, not feasible\n",
      "Current generation: 361, Current Best: 50000, not feasible\n",
      "Current generation: 362, Current Best: 50000, not feasible\n",
      "Current generation: 363, Current Best: 50000, not feasible\n",
      "Current generation: 364, Current Best: 50000, not feasible\n",
      "Current generation: 365, Current Best: 50000, not feasible\n",
      "Current generation: 366, Current Best: 50000, not feasible\n",
      "Current generation: 367, Current Best: 50000, not feasible\n",
      "Current generation: 368, Current Best: 50000, not feasible\n",
      "Current generation: 369, Current Best: 50000, not feasible\n",
      "Current generation: 370, Current Best: 50000, not feasible\n",
      "Current generation: 371, Current Best: 50000, not feasible\n",
      "Current generation: 372, Current Best: 50000, not feasible\n",
      "Current generation: 373, Current Best: 50000, not feasible\n",
      "Current generation: 374, Current Best: 50000, not feasible\n",
      "Current generation: 375, Current Best: 50000, not feasible\n",
      "Current generation: 376, Current Best: 50000, not feasible\n",
      "Current generation: 377, Current Best: 50000, not feasible\n",
      "Current generation: 378, Current Best: 50000, not feasible\n",
      "Current generation: 379, Current Best: 50000, not feasible\n",
      "Current generation: 380, Current Best: 50000, not feasible\n",
      "Current generation: 381, Current Best: 50000, not feasible\n",
      "Current generation: 382, Current Best: 50000, not feasible\n",
      "Current generation: 383, Current Best: 50000, not feasible\n",
      "Current generation: 384, Current Best: 50000, not feasible\n",
      "Current generation: 385, Current Best: 50000, not feasible\n",
      "Current generation: 386, Current Best: 50000, not feasible\n",
      "Current generation: 387, Current Best: 50000, not feasible\n",
      "Current generation: 388, Current Best: 50000, not feasible\n",
      "Current generation: 389, Current Best: 50000, not feasible\n",
      "Current generation: 390, Current Best: 50000, not feasible\n",
      "Current generation: 391, Current Best: 50000, not feasible\n",
      "Current generation: 392, Current Best: 50000, not feasible\n",
      "Current generation: 393, Current Best: 50000, not feasible\n",
      "Current generation: 394, Current Best: 50000, not feasible\n",
      "Current generation: 395, Current Best: 50000, not feasible\n",
      "Current generation: 396, Current Best: 50000, not feasible\n",
      "Current generation: 397, Current Best: 50000, not feasible\n",
      "Current generation: 398, Current Best: 50000, not feasible\n",
      "Current generation: 399, Current Best: 50000, not feasible\n",
      "Current generation: 400, Current Best: 50000, not feasible\n",
      "Current generation: 401, Current Best: 50000, not feasible\n",
      "Current generation: 402, Current Best: 50000, not feasible\n",
      "Current generation: 403, Current Best: 50000, not feasible\n",
      "Current generation: 404, Current Best: 50000, not feasible\n",
      "Current generation: 405, Current Best: 50000, not feasible\n",
      "Current generation: 406, Current Best: 50000, not feasible\n",
      "Current generation: 407, Current Best: 50000, not feasible\n",
      "Current generation: 408, Current Best: 50000, not feasible\n",
      "Current generation: 409, Current Best: 50000, not feasible\n",
      "Current generation: 410, Current Best: 50000, not feasible\n",
      "Current generation: 411, Current Best: 50000, not feasible\n",
      "Current generation: 412, Current Best: 50000, not feasible\n",
      "Current generation: 413, Current Best: 50000, not feasible\n",
      "Current generation: 414, Current Best: 50000, not feasible\n",
      "Current generation: 415, Current Best: 50000, not feasible\n",
      "Current generation: 416, Current Best: 50000, not feasible\n",
      "Current generation: 417, Current Best: 50000, not feasible\n",
      "Current generation: 418, Current Best: 50000, not feasible\n",
      "Current generation: 419, Current Best: 50000, not feasible\n",
      "Current generation: 420, Current Best: 50000, not feasible\n",
      "Current generation: 421, Current Best: 50000, not feasible\n",
      "Current generation: 422, Current Best: 50000, not feasible\n",
      "Current generation: 423, Current Best: 50000, not feasible\n",
      "Current generation: 424, Current Best: 50000, not feasible\n",
      "Current generation: 425, Current Best: 50000, not feasible\n",
      "Current generation: 426, Current Best: 50000, not feasible\n",
      "Current generation: 427, Current Best: 50000, not feasible\n",
      "Current generation: 428, Current Best: 50000, not feasible\n",
      "Current generation: 429, Current Best: 50000, not feasible\n",
      "Current generation: 430, Current Best: 50000, not feasible\n",
      "Current generation: 431, Current Best: 50000, not feasible\n",
      "Current generation: 432, Current Best: 50000, not feasible\n",
      "Current generation: 433, Current Best: 50000, not feasible\n",
      "Current generation: 434, Current Best: 50000, not feasible\n",
      "Current generation: 435, Current Best: 50000, not feasible\n",
      "Current generation: 436, Current Best: 50000, not feasible\n",
      "Current generation: 437, Current Best: 50000, not feasible\n",
      "Current generation: 438, Current Best: 50000, not feasible\n",
      "Current generation: 439, Current Best: 50000, not feasible\n",
      "Current generation: 440, Current Best: 50000, not feasible\n",
      "Current generation: 441, Current Best: 50000, not feasible\n",
      "Current generation: 442, Current Best: 50000, not feasible\n",
      "Current generation: 443, Current Best: 50000, not feasible\n",
      "Current generation: 444, Current Best: 50000, not feasible\n",
      "Current generation: 445, Current Best: 50000, not feasible\n",
      "Current generation: 446, Current Best: 50000, not feasible\n",
      "Current generation: 447, Current Best: 50000, not feasible\n",
      "Current generation: 448, Current Best: 50000, not feasible\n",
      "Current generation: 449, Current Best: 50000, not feasible\n",
      "Current generation: 450, Current Best: 50000, not feasible\n",
      "Current generation: 451, Current Best: 50000, not feasible\n",
      "Current generation: 452, Current Best: 50000, not feasible\n",
      "Current generation: 453, Current Best: 50000, not feasible\n",
      "Current generation: 454, Current Best: 50000, not feasible\n",
      "Current generation: 455, Current Best: 50000, not feasible\n",
      "Current generation: 456, Current Best: 50000, not feasible\n",
      "Current generation: 457, Current Best: 50000, not feasible\n",
      "Current generation: 458, Current Best: 50000, not feasible\n",
      "Current generation: 459, Current Best: 50000, not feasible\n",
      "Current generation: 460, Current Best: 50000, not feasible\n",
      "Current generation: 461, Current Best: 50000, not feasible\n",
      "Current generation: 462, Current Best: 50000, not feasible\n",
      "Current generation: 463, Current Best: 50000, not feasible\n",
      "Current generation: 464, Current Best: 50000, not feasible\n",
      "Current generation: 465, Current Best: 50000, not feasible\n",
      "Current generation: 466, Current Best: 50000, not feasible\n",
      "Current generation: 467, Current Best: 50000, not feasible\n",
      "Current generation: 468, Current Best: 50000, not feasible\n",
      "Current generation: 469, Current Best: 50000, not feasible\n",
      "Current generation: 470, Current Best: 50000, not feasible\n",
      "Current generation: 471, Current Best: 50000, not feasible\n",
      "Current generation: 472, Current Best: 50000, not feasible\n",
      "Current generation: 473, Current Best: 50000, not feasible\n",
      "Current generation: 474, Current Best: 50000, not feasible\n",
      "Current generation: 475, Current Best: 50000, not feasible\n",
      "Current generation: 476, Current Best: 50000, not feasible\n",
      "Current generation: 477, Current Best: 50000, not feasible\n",
      "Current generation: 478, Current Best: 50000, not feasible\n",
      "Current generation: 479, Current Best: 50000, not feasible\n",
      "Current generation: 480, Current Best: 50000, not feasible\n",
      "Current generation: 481, Current Best: 50000, not feasible\n",
      "Current generation: 482, Current Best: 50000, not feasible\n",
      "Current generation: 483, Current Best: 50000, not feasible\n",
      "Current generation: 484, Current Best: 50000, not feasible\n",
      "Current generation: 485, Current Best: 50000, not feasible\n",
      "Current generation: 486, Current Best: 50000, not feasible\n",
      "Current generation: 487, Current Best: 50000, not feasible\n",
      "Current generation: 488, Current Best: 50000, not feasible\n",
      "Current generation: 489, Current Best: 50000, not feasible\n",
      "Current generation: 490, Current Best: 50000, not feasible\n",
      "Current generation: 491, Current Best: 50000, not feasible\n",
      "Current generation: 492, Current Best: 50000, not feasible\n",
      "Current generation: 493, Current Best: 50000, not feasible\n",
      "Current generation: 494, Current Best: 50000, not feasible\n",
      "Current generation: 495, Current Best: 50000, not feasible\n",
      "Current generation: 496, Current Best: 50000, not feasible\n",
      "Current generation: 497, Current Best: 50000, not feasible\n",
      "Current generation: 498, Current Best: 50000, not feasible\n",
      "Current generation: 499, Current Best: 50000, not feasible\n",
      "Current generation: 500, Current Best: 50000, not feasible\n",
      "Current generation: 501, Current Best: 50000, not feasible\n",
      "Current generation: 502, Current Best: 50000, not feasible\n",
      "Current generation: 503, Current Best: 50000, not feasible\n",
      "Current generation: 504, Current Best: 50000, not feasible\n",
      "Current generation: 505, Current Best: 50000, not feasible\n",
      "Current generation: 506, Current Best: 50000, not feasible\n",
      "Current generation: 507, Current Best: 50000, not feasible\n",
      "Current generation: 508, Current Best: 50000, not feasible\n",
      "Current generation: 509, Current Best: 50000, not feasible\n",
      "Current generation: 510, Current Best: 50000, not feasible\n",
      "Current generation: 511, Current Best: 50000, not feasible\n",
      "Current generation: 512, Current Best: 50000, not feasible\n",
      "Current generation: 513, Current Best: 50000, not feasible\n",
      "Current generation: 514, Current Best: 50000, not feasible\n",
      "Current generation: 515, Current Best: 50000, not feasible\n",
      "Current generation: 516, Current Best: 50000, not feasible\n",
      "Current generation: 517, Current Best: 50000, not feasible\n",
      "Current generation: 518, Current Best: 50000, not feasible\n",
      "Current generation: 519, Current Best: 50000, not feasible\n",
      "Current generation: 520, Current Best: 50000, not feasible\n",
      "Current generation: 521, Current Best: 50000, not feasible\n",
      "Current generation: 522, Current Best: 50000, not feasible\n",
      "Current generation: 523, Current Best: 50000, not feasible\n",
      "Current generation: 524, Current Best: 50000, not feasible\n",
      "Current generation: 525, Current Best: 50000, not feasible\n",
      "Current generation: 526, Current Best: 50000, not feasible\n",
      "Current generation: 527, Current Best: 50000, not feasible\n",
      "Current generation: 528, Current Best: 50000, not feasible\n",
      "Current generation: 529, Current Best: 50000, not feasible\n",
      "Current generation: 530, Current Best: 50000, not feasible\n",
      "Current generation: 531, Current Best: 50000, not feasible\n",
      "Current generation: 532, Current Best: 50000, not feasible\n",
      "Current generation: 533, Current Best: 50000, not feasible\n",
      "Current generation: 534, Current Best: 50000, not feasible\n",
      "Current generation: 535, Current Best: 50000, not feasible\n",
      "Current generation: 536, Current Best: 50000, not feasible\n",
      "Current generation: 537, Current Best: 50000, not feasible\n",
      "Current generation: 538, Current Best: 50000, not feasible\n",
      "Current generation: 539, Current Best: 50000, not feasible\n",
      "Current generation: 540, Current Best: 50000, not feasible\n",
      "Current generation: 541, Current Best: 50000, not feasible\n",
      "Current generation: 542, Current Best: 50000, not feasible\n",
      "Current generation: 543, Current Best: 50000, not feasible\n",
      "Current generation: 544, Current Best: 50000, not feasible\n",
      "Current generation: 545, Current Best: 50000, not feasible\n",
      "Current generation: 546, Current Best: 50000, not feasible\n",
      "Current generation: 547, Current Best: 50000, not feasible\n",
      "Current generation: 548, Current Best: 50000, not feasible\n",
      "Current generation: 549, Current Best: 50000, not feasible\n",
      "Current generation: 550, Current Best: 50000, not feasible\n",
      "Current generation: 551, Current Best: 50000, not feasible\n",
      "Current generation: 552, Current Best: 50000, not feasible\n",
      "Current generation: 553, Current Best: 50000, not feasible\n",
      "Current generation: 554, Current Best: 50000, not feasible\n",
      "Current generation: 555, Current Best: 50000, not feasible\n",
      "Current generation: 556, Current Best: 50000, not feasible\n",
      "Current generation: 557, Current Best: 50000, not feasible\n",
      "Current generation: 558, Current Best: 50000, not feasible\n",
      "Current generation: 559, Current Best: 50000, not feasible\n",
      "Current generation: 560, Current Best: 50000, not feasible\n",
      "Current generation: 561, Current Best: 50000, not feasible\n",
      "Current generation: 562, Current Best: 50000, not feasible\n",
      "Current generation: 563, Current Best: 50000, not feasible\n",
      "Current generation: 564, Current Best: 50000, not feasible\n",
      "Current generation: 565, Current Best: 50000, not feasible\n",
      "Current generation: 566, Current Best: 50000, not feasible\n",
      "Current generation: 567, Current Best: 50000, not feasible\n",
      "Current generation: 568, Current Best: 50000, not feasible\n",
      "Current generation: 569, Current Best: 50000, not feasible\n",
      "Current generation: 570, Current Best: 50000, not feasible\n",
      "Current generation: 571, Current Best: 50000, not feasible\n",
      "Current generation: 572, Current Best: 50000, not feasible\n",
      "Current generation: 573, Current Best: 50000, not feasible\n",
      "Current generation: 574, Current Best: 50000, not feasible\n",
      "Current generation: 575, Current Best: 50000, not feasible\n",
      "Current generation: 576, Current Best: 50000, not feasible\n",
      "Current generation: 577, Current Best: 50000, not feasible\n",
      "Current generation: 578, Current Best: 50000, not feasible\n",
      "Current generation: 579, Current Best: 50000, not feasible\n",
      "Current generation: 580, Current Best: 50000, not feasible\n",
      "Current generation: 581, Current Best: 50000, not feasible\n",
      "Current generation: 582, Current Best: 50000, not feasible\n",
      "Current generation: 583, Current Best: 50000, not feasible\n",
      "Current generation: 584, Current Best: 50000, not feasible\n",
      "Current generation: 585, Current Best: 50000, not feasible\n",
      "Current generation: 586, Current Best: 50000, not feasible\n",
      "Current generation: 587, Current Best: 50000, not feasible\n",
      "Current generation: 588, Current Best: 50000, not feasible\n",
      "Current generation: 589, Current Best: 50000, not feasible\n",
      "Current generation: 590, Current Best: 50000, not feasible\n",
      "Current generation: 591, Current Best: 50000, not feasible\n",
      "Current generation: 592, Current Best: 50000, not feasible\n",
      "Current generation: 593, Current Best: 50000, not feasible\n",
      "Current generation: 594, Current Best: 50000, not feasible\n",
      "Current generation: 595, Current Best: 50000, not feasible\n",
      "Current generation: 596, Current Best: 50000, not feasible\n",
      "Current generation: 597, Current Best: 50000, not feasible\n",
      "Current generation: 598, Current Best: 50000, not feasible\n",
      "Current generation: 599, Current Best: 50000, not feasible\n",
      "Current generation: 600, Current Best: 50000, not feasible\n",
      "Current generation: 601, Current Best: 50000, not feasible\n",
      "Current generation: 602, Current Best: 50000, not feasible\n",
      "Current generation: 603, Current Best: 50000, not feasible\n",
      "Current generation: 604, Current Best: 50000, not feasible\n",
      "Current generation: 605, Current Best: 50000, not feasible\n",
      "Current generation: 606, Current Best: 50000, not feasible\n",
      "Current generation: 607, Current Best: 50000, not feasible\n",
      "Current generation: 608, Current Best: 50000, not feasible\n",
      "Current generation: 609, Current Best: 50000, not feasible\n",
      "Current generation: 610, Current Best: 50000, not feasible\n",
      "Current generation: 611, Current Best: 50000, not feasible\n",
      "Current generation: 612, Current Best: 50000, not feasible\n",
      "Current generation: 613, Current Best: 50000, not feasible\n",
      "Current generation: 614, Current Best: 50000, not feasible\n",
      "Current generation: 615, Current Best: 50000, not feasible\n",
      "Current generation: 616, Current Best: 50000, not feasible\n",
      "Current generation: 617, Current Best: 50000, not feasible\n",
      "Current generation: 618, Current Best: 50000, not feasible\n",
      "Current generation: 619, Current Best: 50000, not feasible\n",
      "Current generation: 620, Current Best: 50000, not feasible\n",
      "Current generation: 621, Current Best: 50000, not feasible\n",
      "Current generation: 622, Current Best: 50000, not feasible\n",
      "Current generation: 623, Current Best: 50000, not feasible\n",
      "Current generation: 624, Current Best: 50000, not feasible\n",
      "Current generation: 625, Current Best: 50000, not feasible\n",
      "Current generation: 626, Current Best: 50000, not feasible\n",
      "Current generation: 627, Current Best: 50000, not feasible\n",
      "Current generation: 628, Current Best: 50000, not feasible\n",
      "Current generation: 629, Current Best: 50000, not feasible\n",
      "Current generation: 630, Current Best: 50000, not feasible\n",
      "Current generation: 631, Current Best: 50000, not feasible\n",
      "Current generation: 632, Current Best: 50000, not feasible\n",
      "Current generation: 633, Current Best: 50000, not feasible\n",
      "Current generation: 634, Current Best: 50000, not feasible\n",
      "Current generation: 635, Current Best: 50000, not feasible\n",
      "Current generation: 636, Current Best: 50000, not feasible\n",
      "Current generation: 637, Current Best: 50000, not feasible\n",
      "Current generation: 638, Current Best: 50000, not feasible\n",
      "Current generation: 639, Current Best: 50000, not feasible\n",
      "Current generation: 640, Current Best: 50000, not feasible\n",
      "Current generation: 641, Current Best: 50000, not feasible\n",
      "Current generation: 642, Current Best: 50000, not feasible\n",
      "Current generation: 643, Current Best: 50000, not feasible\n",
      "Current generation: 644, Current Best: 50000, not feasible\n",
      "Current generation: 645, Current Best: 50000, not feasible\n",
      "Current generation: 646, Current Best: 50000, not feasible\n",
      "Current generation: 647, Current Best: 50000, not feasible\n",
      "Current generation: 648, Current Best: 50000, not feasible\n",
      "Current generation: 649, Current Best: 50000, not feasible\n",
      "Current generation: 650, Current Best: 50000, not feasible\n",
      "Current generation: 651, Current Best: 50000, not feasible\n",
      "Current generation: 652, Current Best: 50000, not feasible\n",
      "Current generation: 653, Current Best: 50000, not feasible\n",
      "Current generation: 654, Current Best: 50000, not feasible\n",
      "Current generation: 655, Current Best: 50000, not feasible\n",
      "Current generation: 656, Current Best: 50000, not feasible\n",
      "Current generation: 657, Current Best: 50000, not feasible\n",
      "Current generation: 658, Current Best: 50000, not feasible\n",
      "Current generation: 659, Current Best: 50000, not feasible\n",
      "Current generation: 660, Current Best: 50000, not feasible\n",
      "Current generation: 661, Current Best: 50000, not feasible\n",
      "Current generation: 662, Current Best: 50000, not feasible\n",
      "Current generation: 663, Current Best: 50000, not feasible\n",
      "Current generation: 664, Current Best: 50000, not feasible\n",
      "Current generation: 665, Current Best: 50000, not feasible\n",
      "Current generation: 666, Current Best: 50000, not feasible\n",
      "Current generation: 667, Current Best: 50000, not feasible\n",
      "Current generation: 668, Current Best: 50000, not feasible\n",
      "Current generation: 669, Current Best: 50000, not feasible\n",
      "Current generation: 670, Current Best: 50000, not feasible\n",
      "Current generation: 671, Current Best: 50000, not feasible\n",
      "Current generation: 672, Current Best: 50000, not feasible\n",
      "Current generation: 673, Current Best: 50000, not feasible\n",
      "Current generation: 674, Current Best: 50000, not feasible\n",
      "Current generation: 675, Current Best: 50000, not feasible\n",
      "Current generation: 676, Current Best: 50000, not feasible\n",
      "Current generation: 677, Current Best: 50000, not feasible\n",
      "Current generation: 678, Current Best: 50000, not feasible\n",
      "Current generation: 679, Current Best: 50000, not feasible\n",
      "Current generation: 680, Current Best: 50000, not feasible\n",
      "Current generation: 681, Current Best: 50000, not feasible\n",
      "Current generation: 682, Current Best: 50000, not feasible\n",
      "Current generation: 683, Current Best: 50000, not feasible\n",
      "Current generation: 684, Current Best: 50000, not feasible\n",
      "Current generation: 685, Current Best: 50000, not feasible\n",
      "Current generation: 686, Current Best: 50000, not feasible\n",
      "Current generation: 687, Current Best: 50000, not feasible\n",
      "Current generation: 688, Current Best: 50000, not feasible\n",
      "Current generation: 689, Current Best: 50000, not feasible\n",
      "Current generation: 690, Current Best: 50000, not feasible\n",
      "Current generation: 691, Current Best: 50000, not feasible\n",
      "Current generation: 692, Current Best: 50000, not feasible\n",
      "Current generation: 693, Current Best: 50000, not feasible\n",
      "Current generation: 694, Current Best: 50000, not feasible\n",
      "Current generation: 695, Current Best: 50000, not feasible\n",
      "Current generation: 696, Current Best: 50000, not feasible\n",
      "Current generation: 697, Current Best: 50000, not feasible\n",
      "Current generation: 698, Current Best: 50000, not feasible\n",
      "Current generation: 699, Current Best: 50000, not feasible\n",
      "Current generation: 700, Current Best: 50000, not feasible\n",
      "Current generation: 701, Current Best: 50000, not feasible\n",
      "Current generation: 702, Current Best: 50000, not feasible\n",
      "Current generation: 703, Current Best: 50000, not feasible\n",
      "Current generation: 704, Current Best: 50000, not feasible\n",
      "Current generation: 705, Current Best: 50000, not feasible\n",
      "Current generation: 706, Current Best: 50000, not feasible\n",
      "Current generation: 707, Current Best: 50000, not feasible\n",
      "Current generation: 708, Current Best: 50000, not feasible\n",
      "Current generation: 709, Current Best: 50000, not feasible\n",
      "Current generation: 710, Current Best: 50000, not feasible\n",
      "Current generation: 711, Current Best: 50000, not feasible\n",
      "Current generation: 712, Current Best: 50000, not feasible\n",
      "Current generation: 713, Current Best: 50000, not feasible\n",
      "Current generation: 714, Current Best: 50000, not feasible\n",
      "Current generation: 715, Current Best: 50000, not feasible\n",
      "Current generation: 716, Current Best: 50000, not feasible\n",
      "Current generation: 717, Current Best: 50000, not feasible\n",
      "Current generation: 718, Current Best: 50000, not feasible\n",
      "Current generation: 719, Current Best: 50000, not feasible\n",
      "Current generation: 720, Current Best: 50000, not feasible\n",
      "Current generation: 721, Current Best: 50000, not feasible\n",
      "Current generation: 722, Current Best: 50000, not feasible\n",
      "Current generation: 723, Current Best: 50000, not feasible\n",
      "Current generation: 724, Current Best: 50000, not feasible\n",
      "Current generation: 725, Current Best: 50000, not feasible\n",
      "Current generation: 726, Current Best: 50000, not feasible\n",
      "Current generation: 727, Current Best: 50000, not feasible\n",
      "Current generation: 728, Current Best: 50000, not feasible\n",
      "Current generation: 729, Current Best: 50000, not feasible\n",
      "Current generation: 730, Current Best: 50000, not feasible\n",
      "Current generation: 731, Current Best: 50000, not feasible\n",
      "Current generation: 732, Current Best: 50000, not feasible\n",
      "Current generation: 733, Current Best: 50000, not feasible\n",
      "Current generation: 734, Current Best: 50000, not feasible\n",
      "Current generation: 735, Current Best: 50000, not feasible\n",
      "Current generation: 736, Current Best: 50000, not feasible\n",
      "Current generation: 737, Current Best: 50000, not feasible\n",
      "Current generation: 738, Current Best: 50000, not feasible\n",
      "Current generation: 739, Current Best: 50000, not feasible\n",
      "Current generation: 740, Current Best: 50000, not feasible\n",
      "Current generation: 741, Current Best: 50000, not feasible\n",
      "Current generation: 742, Current Best: 50000, not feasible\n",
      "Current generation: 743, Current Best: 50000, not feasible\n",
      "Current generation: 744, Current Best: 50000, not feasible\n",
      "Current generation: 745, Current Best: 50000, not feasible\n",
      "Current generation: 746, Current Best: 50000, not feasible\n",
      "Current generation: 747, Current Best: 50000, not feasible\n",
      "Current generation: 748, Current Best: 50000, not feasible\n",
      "Current generation: 749, Current Best: 50000, not feasible\n",
      "Current generation: 750, Current Best: 50000, not feasible\n",
      "Current generation: 751, Current Best: 50000, not feasible\n",
      "Current generation: 752, Current Best: 50000, not feasible\n",
      "Current generation: 753, Current Best: 50000, not feasible\n",
      "Current generation: 754, Current Best: 50000, not feasible\n",
      "Current generation: 755, Current Best: 50000, not feasible\n",
      "Current generation: 756, Current Best: 50000, not feasible\n",
      "Current generation: 757, Current Best: 50000, not feasible\n",
      "Current generation: 758, Current Best: 50000, not feasible\n",
      "Current generation: 759, Current Best: 50000, not feasible\n",
      "Current generation: 760, Current Best: 50000, not feasible\n",
      "Current generation: 761, Current Best: 50000, not feasible\n",
      "Current generation: 762, Current Best: 50000, not feasible\n",
      "Current generation: 763, Current Best: 50000, not feasible\n",
      "Current generation: 764, Current Best: 50000, not feasible\n",
      "Current generation: 765, Current Best: 50000, not feasible\n",
      "Current generation: 766, Current Best: 50000, not feasible\n",
      "Current generation: 767, Current Best: 50000, not feasible\n",
      "Current generation: 768, Current Best: 50000, not feasible\n",
      "Current generation: 769, Current Best: 50000, not feasible\n",
      "Current generation: 770, Current Best: 50000, not feasible\n",
      "Current generation: 771, Current Best: 50000, not feasible\n",
      "Current generation: 772, Current Best: 50000, not feasible\n",
      "Current generation: 773, Current Best: 50000, not feasible\n",
      "Current generation: 774, Current Best: 50000, not feasible\n",
      "Current generation: 775, Current Best: 50000, not feasible\n",
      "Current generation: 776, Current Best: 50000, not feasible\n",
      "Current generation: 777, Current Best: 50000, not feasible\n",
      "Current generation: 778, Current Best: 50000, not feasible\n",
      "Current generation: 779, Current Best: 50000, not feasible\n",
      "Current generation: 780, Current Best: 50000, not feasible\n",
      "Current generation: 781, Current Best: 50000, not feasible\n",
      "Current generation: 782, Current Best: 50000, not feasible\n",
      "Current generation: 783, Current Best: 50000, not feasible\n",
      "Current generation: 784, Current Best: 50000, not feasible\n",
      "Current generation: 785, Current Best: 50000, not feasible\n",
      "Current generation: 786, Current Best: 50000, not feasible\n",
      "Current generation: 787, Current Best: 50000, not feasible\n",
      "Current generation: 788, Current Best: 50000, not feasible\n",
      "Current generation: 789, Current Best: 50000, not feasible\n",
      "Current generation: 790, Current Best: 50000, not feasible\n",
      "Current generation: 791, Current Best: 50000, not feasible\n",
      "Current generation: 792, Current Best: 50000, not feasible\n",
      "Current generation: 793, Current Best: 50000, not feasible\n",
      "Current generation: 794, Current Best: 50000, not feasible\n",
      "Current generation: 795, Current Best: 50000, not feasible\n",
      "Current generation: 796, Current Best: 50000, not feasible\n",
      "Current generation: 797, Current Best: 50000, not feasible\n",
      "Current generation: 798, Current Best: 50000, not feasible\n",
      "Current generation: 799, Current Best: 50000, not feasible\n",
      "Current generation: 800, Current Best: 50000, not feasible\n",
      "Current generation: 801, Current Best: 50000, not feasible\n",
      "Current generation: 802, Current Best: 50000, not feasible\n",
      "Current generation: 803, Current Best: 50000, not feasible\n",
      "Current generation: 804, Current Best: 50000, not feasible\n",
      "Current generation: 805, Current Best: 50000, not feasible\n",
      "Current generation: 806, Current Best: 50000, not feasible\n",
      "Current generation: 807, Current Best: 50000, not feasible\n",
      "Current generation: 808, Current Best: 50000, not feasible\n",
      "Current generation: 809, Current Best: 50000, not feasible\n",
      "Current generation: 810, Current Best: 50000, not feasible\n",
      "Current generation: 811, Current Best: 50000, not feasible\n",
      "Current generation: 812, Current Best: 50000, not feasible\n",
      "Current generation: 813, Current Best: 50000, not feasible\n",
      "Current generation: 814, Current Best: 50000, not feasible\n",
      "Current generation: 815, Current Best: 50000, not feasible\n",
      "Current generation: 816, Current Best: 50000, not feasible\n",
      "Current generation: 817, Current Best: 50000, not feasible\n",
      "Current generation: 818, Current Best: 50000, not feasible\n",
      "Current generation: 819, Current Best: 50000, not feasible\n",
      "Current generation: 820, Current Best: 50000, not feasible\n",
      "Current generation: 821, Current Best: 50000, not feasible\n",
      "Current generation: 822, Current Best: 50000, not feasible\n",
      "Current generation: 823, Current Best: 50000, not feasible\n",
      "Current generation: 824, Current Best: 50000, not feasible\n",
      "Current generation: 825, Current Best: 50000, not feasible\n",
      "Current generation: 826, Current Best: 50000, not feasible\n",
      "Current generation: 827, Current Best: 50000, not feasible\n",
      "Current generation: 828, Current Best: 50000, not feasible\n",
      "Current generation: 829, Current Best: 50000, not feasible\n",
      "Current generation: 830, Current Best: 50000, not feasible\n",
      "Current generation: 831, Current Best: 50000, not feasible\n",
      "Current generation: 832, Current Best: 50000, not feasible\n",
      "Current generation: 833, Current Best: 50000, not feasible\n",
      "Current generation: 834, Current Best: 50000, not feasible\n",
      "Current generation: 835, Current Best: 50000, not feasible\n",
      "Current generation: 836, Current Best: 50000, not feasible\n",
      "Current generation: 837, Current Best: 50000, not feasible\n",
      "Current generation: 838, Current Best: 50000, not feasible\n",
      "Current generation: 839, Current Best: 50000, not feasible\n",
      "Current generation: 840, Current Best: 50000, not feasible\n",
      "Current generation: 841, Current Best: 50000, not feasible\n",
      "Current generation: 842, Current Best: 50000, not feasible\n",
      "Current generation: 843, Current Best: 50000, not feasible\n",
      "Current generation: 844, Current Best: 50000, not feasible\n",
      "Current generation: 845, Current Best: 50000, not feasible\n",
      "Current generation: 846, Current Best: 50000, not feasible\n",
      "Current generation: 847, Current Best: 50000, not feasible\n",
      "Current generation: 848, Current Best: 50000, not feasible\n",
      "Current generation: 849, Current Best: 50000, not feasible\n",
      "Current generation: 850, Current Best: 50000, not feasible\n",
      "Current generation: 851, Current Best: 50000, not feasible\n",
      "Current generation: 852, Current Best: 50000, not feasible\n",
      "Current generation: 853, Current Best: 50000, not feasible\n",
      "Current generation: 854, Current Best: 50000, not feasible\n",
      "Current generation: 855, Current Best: 50000, not feasible\n",
      "Current generation: 856, Current Best: 50000, not feasible\n",
      "Current generation: 857, Current Best: 50000, not feasible\n",
      "Current generation: 858, Current Best: 50000, not feasible\n",
      "Current generation: 859, Current Best: 50000, not feasible\n",
      "Current generation: 860, Current Best: 50000, not feasible\n",
      "Current generation: 861, Current Best: 50000, not feasible\n",
      "Current generation: 862, Current Best: 50000, not feasible\n",
      "Current generation: 863, Current Best: 50000, not feasible\n",
      "Current generation: 864, Current Best: 50000, not feasible\n",
      "Current generation: 865, Current Best: 50000, not feasible\n",
      "Current generation: 866, Current Best: 50000, not feasible\n",
      "Current generation: 867, Current Best: 50000, not feasible\n",
      "Current generation: 868, Current Best: 50000, not feasible\n",
      "Current generation: 869, Current Best: 50000, not feasible\n",
      "Current generation: 870, Current Best: 50000, not feasible\n",
      "Current generation: 871, Current Best: 50000, not feasible\n",
      "Current generation: 872, Current Best: 50000, not feasible\n",
      "Current generation: 873, Current Best: 50000, not feasible\n",
      "Current generation: 874, Current Best: 50000, not feasible\n",
      "Current generation: 875, Current Best: 50000, not feasible\n",
      "Current generation: 876, Current Best: 50000, not feasible\n",
      "Current generation: 877, Current Best: 50000, not feasible\n",
      "Current generation: 878, Current Best: 50000, not feasible\n",
      "Current generation: 879, Current Best: 50000, not feasible\n",
      "Current generation: 880, Current Best: 50000, not feasible\n",
      "Current generation: 881, Current Best: 50000, not feasible\n",
      "Current generation: 882, Current Best: 50000, not feasible\n",
      "Current generation: 883, Current Best: 50000, not feasible\n",
      "Current generation: 884, Current Best: 50000, not feasible\n",
      "Current generation: 885, Current Best: 50000, not feasible\n",
      "Current generation: 886, Current Best: 50000, not feasible\n",
      "Current generation: 887, Current Best: 50000, not feasible\n",
      "Current generation: 888, Current Best: 50000, not feasible\n",
      "Current generation: 889, Current Best: 50000, not feasible\n",
      "Current generation: 890, Current Best: 50000, not feasible\n",
      "Current generation: 891, Current Best: 50000, not feasible\n",
      "Current generation: 892, Current Best: 50000, not feasible\n",
      "Current generation: 893, Current Best: 50000, not feasible\n",
      "Current generation: 894, Current Best: 50000, not feasible\n",
      "Current generation: 895, Current Best: 50000, not feasible\n",
      "Current generation: 896, Current Best: 50000, not feasible\n",
      "Current generation: 897, Current Best: 50000, not feasible\n",
      "Current generation: 898, Current Best: 50000, not feasible\n",
      "Current generation: 899, Current Best: 50000, not feasible\n",
      "Current generation: 900, Current Best: 50000, not feasible\n",
      "Current generation: 901, Current Best: 50000, not feasible\n",
      "Current generation: 902, Current Best: 50000, not feasible\n",
      "Current generation: 903, Current Best: 50000, not feasible\n",
      "Current generation: 904, Current Best: 50000, not feasible\n",
      "Current generation: 905, Current Best: 50000, not feasible\n",
      "Current generation: 906, Current Best: 50000, not feasible\n",
      "Current generation: 907, Current Best: 50000, not feasible\n",
      "Current generation: 908, Current Best: 50000, not feasible\n",
      "Current generation: 909, Current Best: 50000, not feasible\n",
      "Current generation: 910, Current Best: 50000, not feasible\n",
      "Current generation: 911, Current Best: 50000, not feasible\n",
      "Current generation: 912, Current Best: 50000, not feasible\n",
      "Current generation: 913, Current Best: 50000, not feasible\n",
      "Current generation: 914, Current Best: 50000, not feasible\n",
      "Current generation: 915, Current Best: 50000, not feasible\n",
      "Current generation: 916, Current Best: 50000, not feasible\n",
      "Current generation: 917, Current Best: 50000, not feasible\n",
      "Current generation: 918, Current Best: 50000, not feasible\n",
      "Current generation: 919, Current Best: 50000, not feasible\n",
      "Current generation: 920, Current Best: 50000, not feasible\n",
      "Current generation: 921, Current Best: 50000, not feasible\n",
      "Current generation: 922, Current Best: 50000, not feasible\n",
      "Current generation: 923, Current Best: 50000, not feasible\n",
      "Current generation: 924, Current Best: 50000, not feasible\n",
      "Current generation: 925, Current Best: 50000, not feasible\n",
      "Current generation: 926, Current Best: 50000, not feasible\n",
      "Current generation: 927, Current Best: 50000, not feasible\n",
      "Current generation: 928, Current Best: 50000, not feasible\n",
      "Current generation: 929, Current Best: 50000, not feasible\n",
      "Current generation: 930, Current Best: 50000, not feasible\n",
      "Current generation: 931, Current Best: 50000, not feasible\n",
      "Current generation: 932, Current Best: 50000, not feasible\n",
      "Current generation: 933, Current Best: 50000, not feasible\n",
      "Current generation: 934, Current Best: 50000, not feasible\n",
      "Current generation: 935, Current Best: 50000, not feasible\n",
      "Current generation: 936, Current Best: 50000, not feasible\n",
      "Current generation: 937, Current Best: 50000, not feasible\n",
      "Current generation: 938, Current Best: 50000, not feasible\n",
      "Current generation: 939, Current Best: 50000, not feasible\n",
      "Current generation: 940, Current Best: 50000, not feasible\n",
      "Current generation: 941, Current Best: 50000, not feasible\n",
      "Current generation: 942, Current Best: 50000, not feasible\n",
      "Current generation: 943, Current Best: 50000, not feasible\n",
      "Current generation: 944, Current Best: 50000, not feasible\n",
      "Current generation: 945, Current Best: 50000, not feasible\n",
      "Current generation: 946, Current Best: 50000, not feasible\n",
      "Current generation: 947, Current Best: 50000, not feasible\n",
      "Current generation: 948, Current Best: 50000, not feasible\n",
      "Current generation: 949, Current Best: 50000, not feasible\n",
      "Current generation: 950, Current Best: 50000, not feasible\n",
      "Current generation: 951, Current Best: 50000, not feasible\n",
      "Current generation: 952, Current Best: 50000, not feasible\n",
      "Current generation: 953, Current Best: 50000, not feasible\n",
      "Current generation: 954, Current Best: 50000, not feasible\n",
      "Current generation: 955, Current Best: 50000, not feasible\n",
      "Current generation: 956, Current Best: 50000, not feasible\n",
      "Current generation: 957, Current Best: 50000, not feasible\n",
      "Current generation: 958, Current Best: 50000, not feasible\n",
      "Current generation: 959, Current Best: 50000, not feasible\n",
      "Current generation: 960, Current Best: 50000, not feasible\n",
      "Current generation: 961, Current Best: 50000, not feasible\n",
      "Current generation: 962, Current Best: 50000, not feasible\n",
      "Current generation: 963, Current Best: 50000, not feasible\n",
      "Current generation: 964, Current Best: 50000, not feasible\n",
      "Current generation: 965, Current Best: 50000, not feasible\n",
      "Current generation: 966, Current Best: 50000, not feasible\n",
      "Current generation: 967, Current Best: 50000, not feasible\n",
      "Current generation: 968, Current Best: 50000, not feasible\n",
      "Current generation: 969, Current Best: 50000, not feasible\n",
      "Current generation: 970, Current Best: 50000, not feasible\n",
      "Current generation: 971, Current Best: 50000, not feasible\n",
      "Current generation: 972, Current Best: 50000, not feasible\n",
      "Current generation: 973, Current Best: 50000, not feasible\n",
      "Current generation: 974, Current Best: 50000, not feasible\n",
      "Current generation: 975, Current Best: 50000, not feasible\n",
      "Current generation: 976, Current Best: 50000, not feasible\n",
      "Current generation: 977, Current Best: 50000, not feasible\n",
      "Current generation: 978, Current Best: 50000, not feasible\n",
      "Current generation: 979, Current Best: 50000, not feasible\n",
      "Current generation: 980, Current Best: 50000, not feasible\n",
      "Current generation: 981, Current Best: 50000, not feasible\n",
      "Current generation: 982, Current Best: 50000, not feasible\n",
      "Current generation: 983, Current Best: 50000, not feasible\n",
      "Current generation: 984, Current Best: 50000, not feasible\n",
      "Current generation: 985, Current Best: 50000, not feasible\n",
      "Current generation: 986, Current Best: 50000, not feasible\n",
      "Current generation: 987, Current Best: 50000, not feasible\n",
      "Current generation: 988, Current Best: 50000, not feasible\n",
      "Current generation: 989, Current Best: 50000, not feasible\n",
      "Current generation: 990, Current Best: 50000, not feasible\n",
      "Current generation: 991, Current Best: 50000, not feasible\n",
      "Current generation: 992, Current Best: 50000, not feasible\n",
      "Current generation: 993, Current Best: 50000, not feasible\n",
      "Current generation: 994, Current Best: 50000, not feasible\n",
      "Current generation: 995, Current Best: 50000, not feasible\n",
      "Current generation: 996, Current Best: 50000, not feasible\n",
      "Current generation: 997, Current Best: 50000, not feasible\n",
      "Current generation: 998, Current Best: 50000, not feasible\n",
      "Current generation: 999, Current Best: 50000, not feasible\n",
      "Current generation: 1000, Current Best: 50000, not feasible\n",
      "Current generation: 1001, Current Best: 50000, not feasible\n",
      "Current generation: 1002, Current Best: 50000, not feasible\n",
      "Current generation: 1003, Current Best: 50000, not feasible\n",
      "Current generation: 1004, Current Best: 50000, not feasible\n",
      "Current generation: 1005, Current Best: 50000, not feasible\n",
      "Current generation: 1006, Current Best: 50000, not feasible\n",
      "Current generation: 1007, Current Best: 50000, not feasible\n",
      "Current generation: 1008, Current Best: 50000, not feasible\n",
      "Current generation: 1009, Current Best: 50000, not feasible\n",
      "Current generation: 1010, Current Best: 50000, not feasible\n",
      "Current generation: 1011, Current Best: 50000, not feasible\n",
      "Current generation: 1012, Current Best: 50000, not feasible\n",
      "Current generation: 1013, Current Best: 50000, not feasible\n",
      "Current generation: 1014, Current Best: 50000, not feasible\n",
      "Current generation: 1015, Current Best: 50000, not feasible\n",
      "Current generation: 1016, Current Best: 50000, not feasible\n",
      "Current generation: 1017, Current Best: 50000, not feasible\n",
      "Current generation: 1018, Current Best: 50000, not feasible\n",
      "Current generation: 1019, Current Best: 50000, not feasible\n",
      "Current generation: 1020, Current Best: 50000, not feasible\n",
      "Current generation: 1021, Current Best: 50000, not feasible\n",
      "Current generation: 1022, Current Best: 50000, not feasible\n",
      "Current generation: 1023, Current Best: 50000, not feasible\n",
      "Current generation: 1024, Current Best: 50000, not feasible\n",
      "Current generation: 1025, Current Best: 50000, not feasible\n",
      "Current generation: 1026, Current Best: 50000, not feasible\n",
      "Current generation: 1027, Current Best: 50000, not feasible\n",
      "Current generation: 1028, Current Best: 50000, not feasible\n",
      "Current generation: 1029, Current Best: 50000, not feasible\n",
      "Current generation: 1030, Current Best: 50000, not feasible\n",
      "Current generation: 1031, Current Best: 50000, not feasible\n",
      "Current generation: 1032, Current Best: 50000, not feasible\n",
      "Current generation: 1033, Current Best: 50000, not feasible\n",
      "Current generation: 1034, Current Best: 50000, not feasible\n",
      "Current generation: 1035, Current Best: 50000, not feasible\n",
      "Current generation: 1036, Current Best: 50000, not feasible\n",
      "Current generation: 1037, Current Best: 50000, not feasible\n",
      "Current generation: 1038, Current Best: 50000, not feasible\n",
      "Current generation: 1039, Current Best: 50000, not feasible\n",
      "Current generation: 1040, Current Best: 50000, not feasible\n",
      "Current generation: 1041, Current Best: 50000, not feasible\n",
      "Current generation: 1042, Current Best: 50000, not feasible\n",
      "Current generation: 1043, Current Best: 50000, not feasible\n",
      "Current generation: 1044, Current Best: 50000, not feasible\n",
      "Current generation: 1045, Current Best: 50000, not feasible\n",
      "Current generation: 1046, Current Best: 50000, not feasible\n",
      "Current generation: 1047, Current Best: 50000, not feasible\n",
      "Current generation: 1048, Current Best: 50000, not feasible\n",
      "Current generation: 1049, Current Best: 50000, not feasible\n",
      "Current generation: 1050, Current Best: 50000, not feasible\n",
      "Current generation: 1051, Current Best: 50000, not feasible\n",
      "Current generation: 1052, Current Best: 50000, not feasible\n",
      "Current generation: 1053, Current Best: 50000, not feasible\n",
      "Current generation: 1054, Current Best: 50000, not feasible\n",
      "Current generation: 1055, Current Best: 50000, not feasible\n",
      "Current generation: 1056, Current Best: 50000, not feasible\n",
      "Current generation: 1057, Current Best: 50000, not feasible\n",
      "Current generation: 1058, Current Best: 50000, not feasible\n",
      "Current generation: 1059, Current Best: 50000, not feasible\n",
      "Current generation: 1060, Current Best: 50000, not feasible\n",
      "Current generation: 1061, Current Best: 50000, not feasible\n",
      "Current generation: 1062, Current Best: 50000, not feasible\n",
      "Current generation: 1063, Current Best: 50000, not feasible\n",
      "Current generation: 1064, Current Best: 50000, not feasible\n",
      "Current generation: 1065, Current Best: 50000, not feasible\n",
      "Current generation: 1066, Current Best: 50000, not feasible\n",
      "Current generation: 1067, Current Best: 50000, not feasible\n",
      "Current generation: 1068, Current Best: 50000, not feasible\n",
      "Current generation: 1069, Current Best: 50000, not feasible\n",
      "Current generation: 1070, Current Best: 50000, not feasible\n",
      "Current generation: 1071, Current Best: 50000, not feasible\n",
      "Current generation: 1072, Current Best: 50000, not feasible\n",
      "Current generation: 1073, Current Best: 50000, not feasible\n",
      "Current generation: 1074, Current Best: 50000, not feasible\n",
      "Current generation: 1075, Current Best: 50000, not feasible\n",
      "Current generation: 1076, Current Best: 50000, not feasible\n",
      "Current generation: 1077, Current Best: 50000, not feasible\n",
      "Current generation: 1078, Current Best: 50000, not feasible\n",
      "Current generation: 1079, Current Best: 50000, not feasible\n",
      "Current generation: 1080, Current Best: 50000, not feasible\n",
      "Current generation: 1081, Current Best: 50000, not feasible\n",
      "Current generation: 1082, Current Best: 50000, not feasible\n",
      "Current generation: 1083, Current Best: 50000, not feasible\n",
      "Current generation: 1084, Current Best: 50000, not feasible\n",
      "Current generation: 1085, Current Best: 50000, not feasible\n",
      "Current generation: 1086, Current Best: 50000, not feasible\n",
      "Current generation: 1087, Current Best: 50000, not feasible\n",
      "Current generation: 1088, Current Best: 50000, not feasible\n",
      "Current generation: 1089, Current Best: 50000, not feasible\n",
      "Current generation: 1090, Current Best: 50000, not feasible\n",
      "Current generation: 1091, Current Best: 50000, not feasible\n",
      "Current generation: 1092, Current Best: 50000, not feasible\n",
      "Current generation: 1093, Current Best: 50000, not feasible\n",
      "Current generation: 1094, Current Best: 50000, not feasible\n",
      "Current generation: 1095, Current Best: 50000, not feasible\n",
      "Current generation: 1096, Current Best: 50000, not feasible\n",
      "Current generation: 1097, Current Best: 50000, not feasible\n",
      "Current generation: 1098, Current Best: 50000, not feasible\n",
      "Current generation: 1099, Current Best: 50000, not feasible\n",
      "Current generation: 1100, Current Best: 50000, not feasible\n",
      "Current generation: 1101, Current Best: 50000, not feasible\n",
      "Current generation: 1102, Current Best: 50000, not feasible\n",
      "Current generation: 1103, Current Best: 50000, not feasible\n",
      "Current generation: 1104, Current Best: 50000, not feasible\n",
      "Current generation: 1105, Current Best: 50000, not feasible\n",
      "Current generation: 1106, Current Best: 50000, not feasible\n",
      "Current generation: 1107, Current Best: 50000, not feasible\n",
      "Current generation: 1108, Current Best: 50000, not feasible\n",
      "Current generation: 1109, Current Best: 50000, not feasible\n",
      "Current generation: 1110, Current Best: 50000, not feasible\n",
      "Current generation: 1111, Current Best: 50000, not feasible\n",
      "Current generation: 1112, Current Best: 50000, not feasible\n",
      "Current generation: 1113, Current Best: 50000, not feasible\n",
      "Current generation: 1114, Current Best: 50000, not feasible\n",
      "Current generation: 1115, Current Best: 50000, not feasible\n",
      "Current generation: 1116, Current Best: 50000, not feasible\n",
      "Current generation: 1117, Current Best: 50000, not feasible\n",
      "Current generation: 1118, Current Best: 50000, not feasible\n",
      "Current generation: 1119, Current Best: 50000, not feasible\n",
      "Current generation: 1120, Current Best: 50000, not feasible\n",
      "Current generation: 1121, Current Best: 50000, not feasible\n",
      "Current generation: 1122, Current Best: 50000, not feasible\n",
      "Current generation: 1123, Current Best: 50000, not feasible\n",
      "Current generation: 1124, Current Best: 50000, not feasible\n",
      "Current generation: 1125, Current Best: 50000, not feasible\n",
      "Current generation: 1126, Current Best: 50000, not feasible\n",
      "Current generation: 1127, Current Best: 50000, not feasible\n",
      "Current generation: 1128, Current Best: 50000, not feasible\n",
      "Current generation: 1129, Current Best: 50000, not feasible\n",
      "Current generation: 1130, Current Best: 50000, not feasible\n",
      "Current generation: 1131, Current Best: 50000, not feasible\n",
      "Current generation: 1132, Current Best: 50000, not feasible\n",
      "Current generation: 1133, Current Best: 50000, not feasible\n",
      "Current generation: 1134, Current Best: 50000, not feasible\n",
      "Current generation: 1135, Current Best: 50000, not feasible\n",
      "Current generation: 1136, Current Best: 50000, not feasible\n",
      "Current generation: 1137, Current Best: 50000, not feasible\n",
      "Current generation: 1138, Current Best: 50000, not feasible\n",
      "Current generation: 1139, Current Best: 50000, not feasible\n",
      "Current generation: 1140, Current Best: 50000, not feasible\n",
      "Current generation: 1141, Current Best: 50000, not feasible\n",
      "Current generation: 1142, Current Best: 50000, not feasible\n",
      "Current generation: 1143, Current Best: 50000, not feasible\n",
      "Current generation: 1144, Current Best: 50000, not feasible\n",
      "Current generation: 1145, Current Best: 50000, not feasible\n",
      "Current generation: 1146, Current Best: 50000, not feasible\n",
      "Current generation: 1147, Current Best: 50000, not feasible\n",
      "Current generation: 1148, Current Best: 50000, not feasible\n",
      "Current generation: 1149, Current Best: 50000, not feasible\n",
      "Current generation: 1150, Current Best: 50000, not feasible\n",
      "Current generation: 1151, Current Best: 50000, not feasible\n",
      "Current generation: 1152, Current Best: 50000, not feasible\n",
      "Current generation: 1153, Current Best: 50000, not feasible\n",
      "Current generation: 1154, Current Best: 50000, not feasible\n",
      "Current generation: 1155, Current Best: 50000, not feasible\n",
      "Current generation: 1156, Current Best: 50000, not feasible\n",
      "Current generation: 1157, Current Best: 50000, not feasible\n",
      "Current generation: 1158, Current Best: 50000, not feasible\n",
      "Current generation: 1159, Current Best: 50000, not feasible\n",
      "Current generation: 1160, Current Best: 50000, not feasible\n",
      "Current generation: 1161, Current Best: 50000, not feasible\n",
      "Current generation: 1162, Current Best: 50000, not feasible\n",
      "Current generation: 1163, Current Best: 50000, not feasible\n",
      "Current generation: 1164, Current Best: 50000, not feasible\n",
      "Current generation: 1165, Current Best: 50000, not feasible\n",
      "Current generation: 1166, Current Best: 50000, not feasible\n",
      "Current generation: 1167, Current Best: 50000, not feasible\n",
      "Current generation: 1168, Current Best: 50000, not feasible\n",
      "Current generation: 1169, Current Best: 50000, not feasible\n",
      "Current generation: 1170, Current Best: 50000, not feasible\n",
      "Current generation: 1171, Current Best: 50000, not feasible\n",
      "Current generation: 1172, Current Best: 50000, not feasible\n",
      "Current generation: 1173, Current Best: 50000, not feasible\n",
      "Current generation: 1174, Current Best: 50000, not feasible\n",
      "Current generation: 1175, Current Best: 50000, not feasible\n",
      "Current generation: 1176, Current Best: 50000, not feasible\n",
      "Current generation: 1177, Current Best: 50000, not feasible\n",
      "Current generation: 1178, Current Best: 50000, not feasible\n",
      "Current generation: 1179, Current Best: 50000, not feasible\n",
      "Current generation: 1180, Current Best: 50000, not feasible\n",
      "Current generation: 1181, Current Best: 50000, not feasible\n",
      "Current generation: 1182, Current Best: 50000, not feasible\n",
      "Current generation: 1183, Current Best: 50000, not feasible\n",
      "Current generation: 1184, Current Best: 50000, not feasible\n",
      "Current generation: 1185, Current Best: 50000, not feasible\n",
      "Current generation: 1186, Current Best: 50000, not feasible\n",
      "Current generation: 1187, Current Best: 50000, not feasible\n",
      "Current generation: 1188, Current Best: 50000, not feasible\n",
      "Current generation: 1189, Current Best: 50000, not feasible\n",
      "Current generation: 1190, Current Best: 50000, not feasible\n",
      "Current generation: 1191, Current Best: 50000, not feasible\n",
      "Current generation: 1192, Current Best: 50000, not feasible\n",
      "Current generation: 1193, Current Best: 50000, not feasible\n",
      "Current generation: 1194, Current Best: 50000, not feasible\n",
      "Current generation: 1195, Current Best: 50000, not feasible\n",
      "Current generation: 1196, Current Best: 50000, not feasible\n",
      "Current generation: 1197, Current Best: 50000, not feasible\n",
      "Current generation: 1198, Current Best: 50000, not feasible\n",
      "Current generation: 1199, Current Best: 50000, not feasible\n",
      "Current generation: 1200, Current Best: 50000, not feasible\n",
      "Current generation: 1201, Current Best: 50000, not feasible\n",
      "Current generation: 1202, Current Best: 50000, not feasible\n",
      "Current generation: 1203, Current Best: 50000, not feasible\n",
      "Current generation: 1204, Current Best: 50000, not feasible\n",
      "Current generation: 1205, Current Best: 50000, not feasible\n",
      "Current generation: 1206, Current Best: 50000, not feasible\n",
      "Current generation: 1207, Current Best: 50000, not feasible\n",
      "Current generation: 1208, Current Best: 50000, not feasible\n",
      "Current generation: 1209, Current Best: 50000, not feasible\n",
      "Current generation: 1210, Current Best: 50000, not feasible\n",
      "Current generation: 1211, Current Best: 50000, not feasible\n",
      "Current generation: 1212, Current Best: 50000, not feasible\n",
      "Current generation: 1213, Current Best: 50000, not feasible\n",
      "Current generation: 1214, Current Best: 50000, not feasible\n",
      "Current generation: 1215, Current Best: 50000, not feasible\n",
      "Current generation: 1216, Current Best: 50000, not feasible\n",
      "Current generation: 1217, Current Best: 50000, not feasible\n",
      "Current generation: 1218, Current Best: 50000, not feasible\n",
      "Current generation: 1219, Current Best: 50000, not feasible\n",
      "Current generation: 1220, Current Best: 50000, not feasible\n",
      "Current generation: 1221, Current Best: 50000, not feasible\n",
      "Current generation: 1222, Current Best: 50000, not feasible\n",
      "Current generation: 1223, Current Best: 50000, not feasible\n",
      "Current generation: 1224, Current Best: 50000, not feasible\n",
      "Current generation: 1225, Current Best: 50000, not feasible\n",
      "Current generation: 1226, Current Best: 50000, not feasible\n",
      "Current generation: 1227, Current Best: 50000, not feasible\n",
      "Current generation: 1228, Current Best: 50000, not feasible\n",
      "Current generation: 1229, Current Best: 50000, not feasible\n",
      "Current generation: 1230, Current Best: 50000, not feasible\n",
      "Current generation: 1231, Current Best: 50000, not feasible\n",
      "Current generation: 1232, Current Best: 50000, not feasible\n",
      "Current generation: 1233, Current Best: 50000, not feasible\n",
      "Current generation: 1234, Current Best: 50000, not feasible\n",
      "Current generation: 1235, Current Best: 50000, not feasible\n",
      "Current generation: 1236, Current Best: 50000, not feasible\n",
      "Current generation: 1237, Current Best: 50000, not feasible\n",
      "Current generation: 1238, Current Best: 50000, not feasible\n",
      "Current generation: 1239, Current Best: 50000, not feasible\n",
      "Current generation: 1240, Current Best: 50000, not feasible\n",
      "Current generation: 1241, Current Best: 50000, not feasible\n",
      "Current generation: 1242, Current Best: 50000, not feasible\n",
      "Current generation: 1243, Current Best: 50000, not feasible\n",
      "Current generation: 1244, Current Best: 50000, not feasible\n",
      "Current generation: 1245, Current Best: 50000, not feasible\n",
      "Current generation: 1246, Current Best: 50000, not feasible\n",
      "Current generation: 1247, Current Best: 50000, not feasible\n",
      "Current generation: 1248, Current Best: 50000, not feasible\n",
      "Current generation: 1249, Current Best: 50000, not feasible\n",
      "Current generation: 1250, Current Best: 50000, not feasible\n",
      "Current generation: 1251, Current Best: 50000, not feasible\n",
      "Current generation: 1252, Current Best: 50000, not feasible\n",
      "Current generation: 1253, Current Best: 50000, not feasible\n",
      "Current generation: 1254, Current Best: 50000, not feasible\n",
      "Current generation: 1255, Current Best: 50000, not feasible\n",
      "Current generation: 1256, Current Best: 50000, not feasible\n",
      "Current generation: 1257, Current Best: 50000, not feasible\n",
      "Current generation: 1258, Current Best: 50000, not feasible\n",
      "Current generation: 1259, Current Best: 50000, not feasible\n",
      "Current generation: 1260, Current Best: 50000, not feasible\n",
      "Current generation: 1261, Current Best: 50000, not feasible\n",
      "Current generation: 1262, Current Best: 50000, not feasible\n",
      "Current generation: 1263, Current Best: 50000, not feasible\n",
      "Current generation: 1264, Current Best: 50000, not feasible\n",
      "Current generation: 1265, Current Best: 50000, not feasible\n",
      "Current generation: 1266, Current Best: 50000, not feasible\n",
      "Current generation: 1267, Current Best: 50000, not feasible\n",
      "Current generation: 1268, Current Best: 50000, not feasible\n",
      "Current generation: 1269, Current Best: 50000, not feasible\n",
      "Current generation: 1270, Current Best: 50000, not feasible\n",
      "Current generation: 1271, Current Best: 50000, not feasible\n",
      "Current generation: 1272, Current Best: 50000, not feasible\n",
      "Current generation: 1273, Current Best: 50000, not feasible\n",
      "Current generation: 1274, Current Best: 50000, not feasible\n",
      "Current generation: 1275, Current Best: 50000, not feasible\n",
      "Current generation: 1276, Current Best: 50000, not feasible\n",
      "Current generation: 1277, Current Best: 50000, not feasible\n",
      "Current generation: 1278, Current Best: 50000, not feasible\n",
      "Current generation: 1279, Current Best: 50000, not feasible\n",
      "Current generation: 1280, Current Best: 50000, not feasible\n",
      "Current generation: 1281, Current Best: 50000, not feasible\n",
      "Current generation: 1282, Current Best: 50000, not feasible\n",
      "Current generation: 1283, Current Best: 50000, not feasible\n",
      "Current generation: 1284, Current Best: 50000, not feasible\n",
      "Current generation: 1285, Current Best: 50000, not feasible\n",
      "Current generation: 1286, Current Best: 50000, not feasible\n",
      "Current generation: 1287, Current Best: 50000, not feasible\n",
      "Current generation: 1288, Current Best: 50000, not feasible\n",
      "Current generation: 1289, Current Best: 50000, not feasible\n",
      "Current generation: 1290, Current Best: 50000, not feasible\n",
      "Current generation: 1291, Current Best: 50000, not feasible\n",
      "Current generation: 1292, Current Best: 50000, not feasible\n",
      "Current generation: 1293, Current Best: 50000, not feasible\n",
      "Current generation: 1294, Current Best: 50000, not feasible\n",
      "Current generation: 1295, Current Best: 50000, not feasible\n",
      "Current generation: 1296, Current Best: 50000, not feasible\n",
      "Current generation: 1297, Current Best: 50000, not feasible\n",
      "Current generation: 1298, Current Best: 50000, not feasible\n",
      "Current generation: 1299, Current Best: 50000, not feasible\n",
      "Current generation: 1300, Current Best: 50000, not feasible\n",
      "Current generation: 1301, Current Best: 50000, not feasible\n",
      "Current generation: 1302, Current Best: 50000, not feasible\n",
      "Current generation: 1303, Current Best: 50000, not feasible\n",
      "Current generation: 1304, Current Best: 50000, not feasible\n",
      "Current generation: 1305, Current Best: 50000, not feasible\n",
      "Current generation: 1306, Current Best: 50000, not feasible\n",
      "Current generation: 1307, Current Best: 50000, not feasible\n",
      "Current generation: 1308, Current Best: 50000, not feasible\n",
      "Current generation: 1309, Current Best: 50000, not feasible\n",
      "Current generation: 1310, Current Best: 50000, not feasible\n",
      "Current generation: 1311, Current Best: 50000, not feasible\n",
      "Current generation: 1312, Current Best: 50000, not feasible\n",
      "Current generation: 1313, Current Best: 50000, not feasible\n",
      "Current generation: 1314, Current Best: 50000, not feasible\n",
      "Current generation: 1315, Current Best: 50000, not feasible\n",
      "Current generation: 1316, Current Best: 50000, not feasible\n",
      "Current generation: 1317, Current Best: 50000, not feasible\n",
      "Current generation: 1318, Current Best: 50000, not feasible\n",
      "Current generation: 1319, Current Best: 50000, not feasible\n",
      "Current generation: 1320, Current Best: 50000, not feasible\n",
      "Current generation: 1321, Current Best: 50000, not feasible\n",
      "Current generation: 1322, Current Best: 50000, not feasible\n",
      "Current generation: 1323, Current Best: 50000, not feasible\n",
      "Current generation: 1324, Current Best: 50000, not feasible\n",
      "Current generation: 1325, Current Best: 50000, not feasible\n",
      "Current generation: 1326, Current Best: 50000, not feasible\n",
      "Current generation: 1327, Current Best: 50000, not feasible\n",
      "Current generation: 1328, Current Best: 50000, not feasible\n",
      "Current generation: 1329, Current Best: 50000, not feasible\n",
      "Current generation: 1330, Current Best: 50000, not feasible\n",
      "Current generation: 1331, Current Best: 50000, not feasible\n",
      "Current generation: 1332, Current Best: 50000, not feasible\n",
      "Current generation: 1333, Current Best: 50000, not feasible\n",
      "Current generation: 1334, Current Best: 50000, not feasible\n",
      "Current generation: 1335, Current Best: 50000, not feasible\n",
      "Current generation: 1336, Current Best: 50000, not feasible\n",
      "Current generation: 1337, Current Best: 50000, not feasible\n",
      "Current generation: 1338, Current Best: 50000, not feasible\n",
      "Current generation: 1339, Current Best: 50000, not feasible\n",
      "Current generation: 1340, Current Best: 50000, not feasible\n",
      "Current generation: 1341, Current Best: 50000, not feasible\n",
      "Current generation: 1342, Current Best: 50000, not feasible\n",
      "Current generation: 1343, Current Best: 50000, not feasible\n",
      "Current generation: 1344, Current Best: 50000, not feasible\n",
      "Current generation: 1345, Current Best: 50000, not feasible\n",
      "Current generation: 1346, Current Best: 50000, not feasible\n",
      "Current generation: 1347, Current Best: 50000, not feasible\n",
      "Current generation: 1348, Current Best: 50000, not feasible\n",
      "Current generation: 1349, Current Best: 50000, not feasible\n",
      "Current generation: 1350, Current Best: 50000, not feasible\n",
      "Current generation: 1351, Current Best: 50000, not feasible\n",
      "Current generation: 1352, Current Best: 50000, not feasible\n",
      "Current generation: 1353, Current Best: 50000, not feasible\n",
      "Current generation: 1354, Current Best: 50000, not feasible\n",
      "Current generation: 1355, Current Best: 50000, not feasible\n",
      "Current generation: 1356, Current Best: 50000, not feasible\n",
      "Current generation: 1357, Current Best: 50000, not feasible\n",
      "Current generation: 1358, Current Best: 50000, not feasible\n",
      "Current generation: 1359, Current Best: 50000, not feasible\n",
      "Current generation: 1360, Current Best: 50000, not feasible\n",
      "Current generation: 1361, Current Best: 50000, not feasible\n",
      "Current generation: 1362, Current Best: 50000, not feasible\n",
      "Current generation: 1363, Current Best: 50000, not feasible\n",
      "Current generation: 1364, Current Best: 50000, not feasible\n",
      "Current generation: 1365, Current Best: 50000, not feasible\n",
      "Current generation: 1366, Current Best: 50000, not feasible\n",
      "Current generation: 1367, Current Best: 50000, not feasible\n",
      "Current generation: 1368, Current Best: 50000, not feasible\n",
      "Current generation: 1369, Current Best: 50000, not feasible\n",
      "Current generation: 1370, Current Best: 50000, not feasible\n",
      "Current generation: 1371, Current Best: 50000, not feasible\n",
      "Current generation: 1372, Current Best: 50000, not feasible\n",
      "Current generation: 1373, Current Best: 50000, not feasible\n",
      "Current generation: 1374, Current Best: 50000, not feasible\n",
      "Current generation: 1375, Current Best: 50000, not feasible\n",
      "Current generation: 1376, Current Best: 50000, not feasible\n",
      "Current generation: 1377, Current Best: 50000, not feasible\n",
      "Current generation: 1378, Current Best: 50000, not feasible\n",
      "Current generation: 1379, Current Best: 50000, not feasible\n",
      "Current generation: 1380, Current Best: 50000, not feasible\n",
      "Current generation: 1381, Current Best: 50000, not feasible\n",
      "Current generation: 1382, Current Best: 50000, not feasible\n",
      "Current generation: 1383, Current Best: 50000, not feasible\n",
      "Current generation: 1384, Current Best: 50000, not feasible\n",
      "Current generation: 1385, Current Best: 50000, not feasible\n",
      "Current generation: 1386, Current Best: 50000, not feasible\n",
      "Current generation: 1387, Current Best: 50000, not feasible\n",
      "Current generation: 1388, Current Best: 50000, not feasible\n",
      "Current generation: 1389, Current Best: 50000, not feasible\n",
      "Current generation: 1390, Current Best: 50000, not feasible\n",
      "Current generation: 1391, Current Best: 50000, not feasible\n",
      "Current generation: 1392, Current Best: 50000, not feasible\n",
      "Current generation: 1393, Current Best: 50000, not feasible\n",
      "Current generation: 1394, Current Best: 50000, not feasible\n",
      "Current generation: 1395, Current Best: 50000, not feasible\n",
      "Current generation: 1396, Current Best: 50000, not feasible\n",
      "Current generation: 1397, Current Best: 50000, not feasible\n",
      "Current generation: 1398, Current Best: 50000, not feasible\n",
      "Current generation: 1399, Current Best: 50000, not feasible\n",
      "Current generation: 1400, Current Best: 50000, not feasible\n",
      "Current generation: 1401, Current Best: 50000, not feasible\n",
      "Current generation: 1402, Current Best: 50000, not feasible\n",
      "Current generation: 1403, Current Best: 50000, not feasible\n",
      "Current generation: 1404, Current Best: 50000, not feasible\n",
      "Current generation: 1405, Current Best: 50000, not feasible\n",
      "Current generation: 1406, Current Best: 50000, not feasible\n",
      "Current generation: 1407, Current Best: 50000, not feasible\n",
      "Current generation: 1408, Current Best: 50000, not feasible\n",
      "Current generation: 1409, Current Best: 50000, not feasible\n",
      "Current generation: 1410, Current Best: 50000, not feasible\n",
      "Current generation: 1411, Current Best: 50000, not feasible\n",
      "Current generation: 1412, Current Best: 50000, not feasible\n",
      "Current generation: 1413, Current Best: 50000, not feasible\n",
      "Current generation: 1414, Current Best: 50000, not feasible\n",
      "Current generation: 1415, Current Best: 50000, not feasible\n",
      "Current generation: 1416, Current Best: 50000, not feasible\n",
      "Current generation: 1417, Current Best: 50000, not feasible\n",
      "Current generation: 1418, Current Best: 50000, not feasible\n",
      "Current generation: 1419, Current Best: 50000, not feasible\n",
      "Current generation: 1420, Current Best: 50000, not feasible\n",
      "Current generation: 1421, Current Best: 50000, not feasible\n",
      "Current generation: 1422, Current Best: 50000, not feasible\n",
      "Current generation: 1423, Current Best: 50000, not feasible\n",
      "Current generation: 1424, Current Best: 50000, not feasible\n",
      "Current generation: 1425, Current Best: 50000, not feasible\n",
      "Current generation: 1426, Current Best: 50000, not feasible\n",
      "Current generation: 1427, Current Best: 50000, not feasible\n",
      "Current generation: 1428, Current Best: 50000, not feasible\n",
      "Current generation: 1429, Current Best: 50000, not feasible\n",
      "Current generation: 1430, Current Best: 50000, not feasible\n",
      "Current generation: 1431, Current Best: 50000, not feasible\n",
      "Current generation: 1432, Current Best: 50000, not feasible\n",
      "Current generation: 1433, Current Best: 50000, not feasible\n",
      "Current generation: 1434, Current Best: 50000, not feasible\n",
      "Current generation: 1435, Current Best: 50000, not feasible\n",
      "Current generation: 1436, Current Best: 50000, not feasible\n",
      "Current generation: 1437, Current Best: 50000, not feasible\n",
      "Current generation: 1438, Current Best: 50000, not feasible\n",
      "Current generation: 1439, Current Best: 50000, not feasible\n",
      "Current generation: 1440, Current Best: 50000, not feasible\n",
      "Current generation: 1441, Current Best: 50000, not feasible\n",
      "Current generation: 1442, Current Best: 50000, not feasible\n",
      "Current generation: 1443, Current Best: 50000, not feasible\n",
      "Current generation: 1444, Current Best: 50000, not feasible\n",
      "Current generation: 1445, Current Best: 50000, not feasible\n",
      "Current generation: 1446, Current Best: 50000, not feasible\n",
      "Current generation: 1447, Current Best: 50000, not feasible\n",
      "Current generation: 1448, Current Best: 50000, not feasible\n",
      "Current generation: 1449, Current Best: 50000, not feasible\n",
      "Current generation: 1450, Current Best: 50000, not feasible\n",
      "Current generation: 1451, Current Best: 50000, not feasible\n",
      "Current generation: 1452, Current Best: 50000, not feasible\n",
      "Current generation: 1453, Current Best: 50000, not feasible\n",
      "Current generation: 1454, Current Best: 50000, not feasible\n",
      "Current generation: 1455, Current Best: 50000, not feasible\n",
      "Current generation: 1456, Current Best: 50000, not feasible\n",
      "Current generation: 1457, Current Best: 50000, not feasible\n",
      "Current generation: 1458, Current Best: 50000, not feasible\n",
      "Current generation: 1459, Current Best: 50000, not feasible\n",
      "Current generation: 1460, Current Best: 50000, not feasible\n",
      "Current generation: 1461, Current Best: 50000, not feasible\n",
      "Current generation: 1462, Current Best: 50000, not feasible\n",
      "Current generation: 1463, Current Best: 50000, not feasible\n",
      "Current generation: 1464, Current Best: 50000, not feasible\n",
      "Current generation: 1465, Current Best: 50000, not feasible\n",
      "Current generation: 1466, Current Best: 50000, not feasible\n",
      "Current generation: 1467, Current Best: 50000, not feasible\n",
      "Current generation: 1468, Current Best: 50000, not feasible\n",
      "Current generation: 1469, Current Best: 50000, not feasible\n",
      "Current generation: 1470, Current Best: 50000, not feasible\n",
      "Current generation: 1471, Current Best: 50000, not feasible\n",
      "Current generation: 1472, Current Best: 50000, not feasible\n",
      "Current generation: 1473, Current Best: 50000, not feasible\n",
      "Current generation: 1474, Current Best: 50000, not feasible\n",
      "Current generation: 1475, Current Best: 50000, not feasible\n",
      "Current generation: 1476, Current Best: 50000, not feasible\n",
      "Current generation: 1477, Current Best: 50000, not feasible\n",
      "Current generation: 1478, Current Best: 50000, not feasible\n",
      "Current generation: 1479, Current Best: 50000, not feasible\n",
      "Current generation: 1480, Current Best: 50000, not feasible\n",
      "Current generation: 1481, Current Best: 50000, not feasible\n",
      "Current generation: 1482, Current Best: 50000, not feasible\n",
      "Current generation: 1483, Current Best: 50000, not feasible\n",
      "Current generation: 1484, Current Best: 50000, not feasible\n",
      "Current generation: 1485, Current Best: 50000, not feasible\n",
      "Current generation: 1486, Current Best: 50000, not feasible\n",
      "Current generation: 1487, Current Best: 50000, not feasible\n",
      "Current generation: 1488, Current Best: 50000, not feasible\n",
      "Current generation: 1489, Current Best: 50000, not feasible\n",
      "Current generation: 1490, Current Best: 50000, not feasible\n",
      "Current generation: 1491, Current Best: 50000, not feasible\n",
      "Current generation: 1492, Current Best: 50000, not feasible\n",
      "Current generation: 1493, Current Best: 50000, not feasible\n",
      "Current generation: 1494, Current Best: 50000, not feasible\n",
      "Current generation: 1495, Current Best: 50000, not feasible\n",
      "Current generation: 1496, Current Best: 50000, not feasible\n",
      "Current generation: 1497, Current Best: 50000, not feasible\n",
      "Current generation: 1498, Current Best: 50000, not feasible\n",
      "Current generation: 1499, Current Best: 50000, not feasible\n",
      "Current generation: 1500, Current Best: 50000, not feasible\n",
      "Current generation: 1501, Current Best: 50000, not feasible\n",
      "Current generation: 1502, Current Best: 50000, not feasible\n",
      "Current generation: 1503, Current Best: 50000, not feasible\n",
      "Current generation: 1504, Current Best: 50000, not feasible\n",
      "Current generation: 1505, Current Best: 50000, not feasible\n",
      "Current generation: 1506, Current Best: 50000, not feasible\n",
      "Current generation: 1507, Current Best: 50000, not feasible\n",
      "Current generation: 1508, Current Best: 50000, not feasible\n",
      "Current generation: 1509, Current Best: 50000, not feasible\n",
      "Current generation: 1510, Current Best: 50000, not feasible\n",
      "Current generation: 1511, Current Best: 50000, not feasible\n",
      "Current generation: 1512, Current Best: 50000, not feasible\n",
      "Current generation: 1513, Current Best: 50000, not feasible\n",
      "Current generation: 1514, Current Best: 50000, not feasible\n",
      "Current generation: 1515, Current Best: 50000, not feasible\n",
      "Current generation: 1516, Current Best: 50000, not feasible\n",
      "Current generation: 1517, Current Best: 50000, not feasible\n",
      "Current generation: 1518, Current Best: 50000, not feasible\n",
      "Current generation: 1519, Current Best: 50000, not feasible\n",
      "Current generation: 1520, Current Best: 50000, not feasible\n",
      "Current generation: 1521, Current Best: 50000, not feasible\n",
      "Current generation: 1522, Current Best: 50000, not feasible\n",
      "Current generation: 1523, Current Best: 50000, not feasible\n",
      "Current generation: 1524, Current Best: 50000, not feasible\n",
      "Current generation: 1525, Current Best: 50000, not feasible\n",
      "Current generation: 1526, Current Best: 50000, not feasible\n",
      "Current generation: 1527, Current Best: 50000, not feasible\n",
      "Current generation: 1528, Current Best: 50000, not feasible\n",
      "Current generation: 1529, Current Best: 50000, not feasible\n",
      "Current generation: 1530, Current Best: 50000, not feasible\n",
      "Current generation: 1531, Current Best: 50000, not feasible\n",
      "Current generation: 1532, Current Best: 50000, not feasible\n",
      "Current generation: 1533, Current Best: 50000, not feasible\n",
      "Current generation: 1534, Current Best: 50000, not feasible\n",
      "Current generation: 1535, Current Best: 50000, not feasible\n",
      "Current generation: 1536, Current Best: 50000, not feasible\n",
      "Current generation: 1537, Current Best: 50000, not feasible\n",
      "Current generation: 1538, Current Best: 50000, not feasible\n",
      "Current generation: 1539, Current Best: 50000, not feasible\n",
      "Current generation: 1540, Current Best: 50000, not feasible\n",
      "Current generation: 1541, Current Best: 50000, not feasible\n",
      "Current generation: 1542, Current Best: 50000, not feasible\n",
      "Current generation: 1543, Current Best: 50000, not feasible\n",
      "Current generation: 1544, Current Best: 50000, not feasible\n",
      "Current generation: 1545, Current Best: 50000, not feasible\n",
      "Current generation: 1546, Current Best: 50000, not feasible\n",
      "Current generation: 1547, Current Best: 50000, not feasible\n",
      "Current generation: 1548, Current Best: 50000, not feasible\n",
      "Current generation: 1549, Current Best: 50000, not feasible\n",
      "Current generation: 1550, Current Best: 50000, not feasible\n",
      "Current generation: 1551, Current Best: 50000, not feasible\n",
      "Current generation: 1552, Current Best: 50000, not feasible\n",
      "Current generation: 1553, Current Best: 50000, not feasible\n",
      "Current generation: 1554, Current Best: 50000, not feasible\n",
      "Current generation: 1555, Current Best: 50000, not feasible\n",
      "Current generation: 1556, Current Best: 50000, not feasible\n",
      "Current generation: 1557, Current Best: 50000, not feasible\n",
      "Current generation: 1558, Current Best: 50000, not feasible\n",
      "Current generation: 1559, Current Best: 50000, not feasible\n",
      "Current generation: 1560, Current Best: 50000, not feasible\n",
      "Current generation: 1561, Current Best: 50000, not feasible\n",
      "Current generation: 1562, Current Best: 50000, not feasible\n",
      "Current generation: 1563, Current Best: 50000, not feasible\n",
      "Current generation: 1564, Current Best: 50000, not feasible\n",
      "Current generation: 1565, Current Best: 50000, not feasible\n",
      "Current generation: 1566, Current Best: 50000, not feasible\n",
      "Current generation: 1567, Current Best: 50000, not feasible\n",
      "Current generation: 1568, Current Best: 50000, not feasible\n",
      "Current generation: 1569, Current Best: 50000, not feasible\n",
      "Current generation: 1570, Current Best: 50000, not feasible\n",
      "Current generation: 1571, Current Best: 50000, not feasible\n",
      "Current generation: 1572, Current Best: 50000, not feasible\n",
      "Current generation: 1573, Current Best: 50000, not feasible\n",
      "Current generation: 1574, Current Best: 50000, not feasible\n",
      "Current generation: 1575, Current Best: 50000, not feasible\n",
      "Current generation: 1576, Current Best: 50000, not feasible\n",
      "Current generation: 1577, Current Best: 50000, not feasible\n",
      "Current generation: 1578, Current Best: 50000, not feasible\n",
      "Current generation: 1579, Current Best: 50000, not feasible\n",
      "Current generation: 1580, Current Best: 50000, not feasible\n",
      "Current generation: 1581, Current Best: 50000, not feasible\n",
      "Current generation: 1582, Current Best: 50000, not feasible\n",
      "Current generation: 1583, Current Best: 50000, not feasible\n",
      "Current generation: 1584, Current Best: 50000, not feasible\n",
      "Current generation: 1585, Current Best: 50000, not feasible\n",
      "Current generation: 1586, Current Best: 50000, not feasible\n",
      "Current generation: 1587, Current Best: 50000, not feasible\n",
      "Current generation: 1588, Current Best: 50000, not feasible\n",
      "Current generation: 1589, Current Best: 50000, not feasible\n",
      "Current generation: 1590, Current Best: 50000, not feasible\n",
      "Current generation: 1591, Current Best: 50000, not feasible\n",
      "Current generation: 1592, Current Best: 50000, not feasible\n",
      "Current generation: 1593, Current Best: 50000, not feasible\n",
      "Current generation: 1594, Current Best: 50000, not feasible\n",
      "Current generation: 1595, Current Best: 50000, not feasible\n",
      "Current generation: 1596, Current Best: 50000, not feasible\n",
      "Current generation: 1597, Current Best: 50000, not feasible\n",
      "Current generation: 1598, Current Best: 50000, not feasible\n",
      "Current generation: 1599, Current Best: 50000, not feasible\n",
      "Current generation: 1600, Current Best: 50000, not feasible\n",
      "Current generation: 1601, Current Best: 50000, not feasible\n",
      "Current generation: 1602, Current Best: 50000, not feasible\n",
      "Current generation: 1603, Current Best: 50000, not feasible\n",
      "Current generation: 1604, Current Best: 50000, not feasible\n",
      "Current generation: 1605, Current Best: 50000, not feasible\n",
      "Current generation: 1606, Current Best: 50000, not feasible\n",
      "Current generation: 1607, Current Best: 50000, not feasible\n",
      "Current generation: 1608, Current Best: 50000, not feasible\n",
      "Current generation: 1609, Current Best: 50000, not feasible\n",
      "Current generation: 1610, Current Best: 50000, not feasible\n",
      "Current generation: 1611, Current Best: 50000, not feasible\n",
      "Current generation: 1612, Current Best: 50000, not feasible\n",
      "Current generation: 1613, Current Best: 50000, not feasible\n",
      "Current generation: 1614, Current Best: 50000, not feasible\n",
      "Current generation: 1615, Current Best: 50000, not feasible\n",
      "Current generation: 1616, Current Best: 50000, not feasible\n",
      "Current generation: 1617, Current Best: 50000, not feasible\n",
      "Current generation: 1618, Current Best: 50000, not feasible\n",
      "Current generation: 1619, Current Best: 50000, not feasible\n",
      "Current generation: 1620, Current Best: 50000, not feasible\n",
      "Current generation: 1621, Current Best: 50000, not feasible\n",
      "Current generation: 1622, Current Best: 50000, not feasible\n",
      "Current generation: 1623, Current Best: 50000, not feasible\n",
      "Current generation: 1624, Current Best: 50000, not feasible\n",
      "Current generation: 1625, Current Best: 50000, not feasible\n",
      "Current generation: 1626, Current Best: 50000, not feasible\n",
      "Current generation: 1627, Current Best: 50000, not feasible\n",
      "Current generation: 1628, Current Best: 50000, not feasible\n",
      "Current generation: 1629, Current Best: 50000, not feasible\n",
      "Current generation: 1630, Current Best: 50000, not feasible\n",
      "Current generation: 1631, Current Best: 50000, not feasible\n",
      "Current generation: 1632, Current Best: 50000, not feasible\n",
      "Current generation: 1633, Current Best: 50000, not feasible\n",
      "Current generation: 1634, Current Best: 50000, not feasible\n",
      "Current generation: 1635, Current Best: 50000, not feasible\n",
      "Current generation: 1636, Current Best: 50000, not feasible\n",
      "Current generation: 1637, Current Best: 50000, not feasible\n",
      "Current generation: 1638, Current Best: 50000, not feasible\n",
      "Current generation: 1639, Current Best: 50000, not feasible\n",
      "Current generation: 1640, Current Best: 50000, not feasible\n",
      "Current generation: 1641, Current Best: 50000, not feasible\n",
      "Current generation: 1642, Current Best: 50000, not feasible\n",
      "Current generation: 1643, Current Best: 50000, not feasible\n",
      "Current generation: 1644, Current Best: 50000, not feasible\n",
      "Current generation: 1645, Current Best: 50000, not feasible\n",
      "Current generation: 1646, Current Best: 50000, not feasible\n",
      "Current generation: 1647, Current Best: 50000, not feasible\n",
      "Current generation: 1648, Current Best: 50000, not feasible\n",
      "Current generation: 1649, Current Best: 50000, not feasible\n",
      "Current generation: 1650, Current Best: 50000, not feasible\n",
      "Current generation: 1651, Current Best: 50000, not feasible\n",
      "Current generation: 1652, Current Best: 50000, not feasible\n",
      "Current generation: 1653, Current Best: 50000, not feasible\n",
      "Current generation: 1654, Current Best: 50000, not feasible\n",
      "Current generation: 1655, Current Best: 50000, not feasible\n",
      "Current generation: 1656, Current Best: 50000, not feasible\n",
      "Current generation: 1657, Current Best: 50000, not feasible\n",
      "Current generation: 1658, Current Best: 50000, not feasible\n",
      "Current generation: 1659, Current Best: 50000, not feasible\n",
      "Current generation: 1660, Current Best: 50000, not feasible\n",
      "Current generation: 1661, Current Best: 50000, not feasible\n",
      "Current generation: 1662, Current Best: 50000, not feasible\n",
      "Current generation: 1663, Current Best: 50000, not feasible\n",
      "Current generation: 1664, Current Best: 50000, not feasible\n",
      "Current generation: 1665, Current Best: 50000, not feasible\n",
      "Current generation: 1666, Current Best: 50000, not feasible\n",
      "Current generation: 1667, Current Best: 50000, not feasible\n",
      "Current generation: 1668, Current Best: 50000, not feasible\n",
      "Current generation: 1669, Current Best: 50000, not feasible\n",
      "Current generation: 1670, Current Best: 50000, not feasible\n",
      "Current generation: 1671, Current Best: 50000, not feasible\n",
      "Current generation: 1672, Current Best: 50000, not feasible\n",
      "Current generation: 1673, Current Best: 50000, not feasible\n",
      "Current generation: 1674, Current Best: 50000, not feasible\n",
      "Current generation: 1675, Current Best: 50000, not feasible\n",
      "Current generation: 1676, Current Best: 50000, not feasible\n",
      "Current generation: 1677, Current Best: 50000, not feasible\n",
      "Current generation: 1678, Current Best: 50000, not feasible\n",
      "Current generation: 1679, Current Best: 50000, not feasible\n",
      "Current generation: 1680, Current Best: 50000, not feasible\n",
      "Current generation: 1681, Current Best: 50000, not feasible\n",
      "Current generation: 1682, Current Best: 50000, not feasible\n",
      "Current generation: 1683, Current Best: 50000, not feasible\n",
      "Current generation: 1684, Current Best: 50000, not feasible\n",
      "Current generation: 1685, Current Best: 50000, not feasible\n",
      "Current generation: 1686, Current Best: 50000, not feasible\n",
      "Current generation: 1687, Current Best: 50000, not feasible\n",
      "Current generation: 1688, Current Best: 50000, not feasible\n",
      "Current generation: 1689, Current Best: 50000, not feasible\n",
      "Current generation: 1690, Current Best: 50000, not feasible\n",
      "Current generation: 1691, Current Best: 50000, not feasible\n",
      "Current generation: 1692, Current Best: 50000, not feasible\n",
      "Current generation: 1693, Current Best: 50000, not feasible\n",
      "Current generation: 1694, Current Best: 50000, not feasible\n",
      "Current generation: 1695, Current Best: 50000, not feasible\n",
      "Current generation: 1696, Current Best: 50000, not feasible\n",
      "Current generation: 1697, Current Best: 50000, not feasible\n",
      "Current generation: 1698, Current Best: 50000, not feasible\n",
      "Current generation: 1699, Current Best: 50000, not feasible\n",
      "Current generation: 1700, Current Best: 50000, not feasible\n",
      "Current generation: 1701, Current Best: 50000, not feasible\n",
      "Current generation: 1702, Current Best: 50000, not feasible\n",
      "Current generation: 1703, Current Best: 50000, not feasible\n",
      "Current generation: 1704, Current Best: 50000, not feasible\n",
      "Current generation: 1705, Current Best: 50000, not feasible\n",
      "Current generation: 1706, Current Best: 50000, not feasible\n",
      "Current generation: 1707, Current Best: 50000, not feasible\n",
      "Current generation: 1708, Current Best: 50000, not feasible\n",
      "Current generation: 1709, Current Best: 50000, not feasible\n",
      "Current generation: 1710, Current Best: 50000, not feasible\n",
      "Current generation: 1711, Current Best: 50000, not feasible\n",
      "Current generation: 1712, Current Best: 50000, not feasible\n",
      "Current generation: 1713, Current Best: 50000, not feasible\n",
      "Current generation: 1714, Current Best: 50000, not feasible\n",
      "Current generation: 1715, Current Best: 50000, not feasible\n",
      "Current generation: 1716, Current Best: 50000, not feasible\n",
      "Current generation: 1717, Current Best: 50000, not feasible\n",
      "Current generation: 1718, Current Best: 50000, not feasible\n",
      "Current generation: 1719, Current Best: 50000, not feasible\n",
      "Current generation: 1720, Current Best: 50000, not feasible\n",
      "Current generation: 1721, Current Best: 50000, not feasible\n",
      "Current generation: 1722, Current Best: 50000, not feasible\n",
      "Current generation: 1723, Current Best: 50000, not feasible\n",
      "Current generation: 1724, Current Best: 50000, not feasible\n",
      "Current generation: 1725, Current Best: 50000, not feasible\n",
      "Current generation: 1726, Current Best: 50000, not feasible\n",
      "Current generation: 1727, Current Best: 50000, not feasible\n",
      "Current generation: 1728, Current Best: 50000, not feasible\n",
      "Current generation: 1729, Current Best: 50000, not feasible\n",
      "Current generation: 1730, Current Best: 50000, not feasible\n",
      "Current generation: 1731, Current Best: 50000, not feasible\n",
      "Current generation: 1732, Current Best: 50000, not feasible\n",
      "Current generation: 1733, Current Best: 50000, not feasible\n",
      "Current generation: 1734, Current Best: 50000, not feasible\n",
      "Current generation: 1735, Current Best: 50000, not feasible\n",
      "Current generation: 1736, Current Best: 50000, not feasible\n",
      "Current generation: 1737, Current Best: 50000, not feasible\n",
      "Current generation: 1738, Current Best: 50000, not feasible\n",
      "Current generation: 1739, Current Best: 50000, not feasible\n",
      "Current generation: 1740, Current Best: 50000, not feasible\n",
      "Current generation: 1741, Current Best: 50000, not feasible\n",
      "Current generation: 1742, Current Best: 50000, not feasible\n",
      "Current generation: 1743, Current Best: 50000, not feasible\n",
      "Current generation: 1744, Current Best: 50000, not feasible\n",
      "Current generation: 1745, Current Best: 50000, not feasible\n",
      "Current generation: 1746, Current Best: 50000, not feasible\n",
      "Current generation: 1747, Current Best: 50000, not feasible\n",
      "Current generation: 1748, Current Best: 50000, not feasible\n",
      "Current generation: 1749, Current Best: 50000, not feasible\n",
      "Current generation: 1750, Current Best: 50000, not feasible\n",
      "Current generation: 1751, Current Best: 50000, not feasible\n",
      "Current generation: 1752, Current Best: 50000, not feasible\n",
      "Current generation: 1753, Current Best: 50000, not feasible\n",
      "Current generation: 1754, Current Best: 50000, not feasible\n",
      "Current generation: 1755, Current Best: 50000, not feasible\n",
      "Current generation: 1756, Current Best: 50000, not feasible\n",
      "Current generation: 1757, Current Best: 50000, not feasible\n",
      "Current generation: 1758, Current Best: 50000, not feasible\n",
      "Current generation: 1759, Current Best: 50000, not feasible\n",
      "Current generation: 1760, Current Best: 50000, not feasible\n",
      "Current generation: 1761, Current Best: 50000, not feasible\n",
      "Current generation: 1762, Current Best: 50000, not feasible\n",
      "Current generation: 1763, Current Best: 50000, not feasible\n",
      "Current generation: 1764, Current Best: 50000, not feasible\n",
      "Current generation: 1765, Current Best: 50000, not feasible\n",
      "Current generation: 1766, Current Best: 50000, not feasible\n",
      "Current generation: 1767, Current Best: 50000, not feasible\n",
      "Current generation: 1768, Current Best: 50000, not feasible\n",
      "Current generation: 1769, Current Best: 50000, not feasible\n",
      "Current generation: 1770, Current Best: 50000, not feasible\n",
      "Current generation: 1771, Current Best: 50000, not feasible\n",
      "Current generation: 1772, Current Best: 50000, not feasible\n",
      "Current generation: 1773, Current Best: 50000, not feasible\n",
      "Current generation: 1774, Current Best: 50000, not feasible\n",
      "Current generation: 1775, Current Best: 50000, not feasible\n",
      "Current generation: 1776, Current Best: 50000, not feasible\n",
      "Current generation: 1777, Current Best: 50000, not feasible\n",
      "Current generation: 1778, Current Best: 50000, not feasible\n",
      "Current generation: 1779, Current Best: 50000, not feasible\n",
      "Current generation: 1780, Current Best: 50000, not feasible\n",
      "Current generation: 1781, Current Best: 50000, not feasible\n",
      "Current generation: 1782, Current Best: 50000, not feasible\n",
      "Current generation: 1783, Current Best: 50000, not feasible\n",
      "Current generation: 1784, Current Best: 50000, not feasible\n",
      "Current generation: 1785, Current Best: 50000, not feasible\n",
      "Current generation: 1786, Current Best: 50000, not feasible\n",
      "Current generation: 1787, Current Best: 50000, not feasible\n",
      "Current generation: 1788, Current Best: 50000, not feasible\n",
      "Current generation: 1789, Current Best: 50000, not feasible\n",
      "Current generation: 1790, Current Best: 50000, not feasible\n",
      "Current generation: 1791, Current Best: 50000, not feasible\n",
      "Current generation: 1792, Current Best: 50000, not feasible\n",
      "Current generation: 1793, Current Best: 50000, not feasible\n",
      "Current generation: 1794, Current Best: 50000, not feasible\n",
      "Current generation: 1795, Current Best: 50000, not feasible\n",
      "Current generation: 1796, Current Best: 50000, not feasible\n",
      "Current generation: 1797, Current Best: 50000, not feasible\n",
      "Current generation: 1798, Current Best: 50000, not feasible\n",
      "Current generation: 1799, Current Best: 50000, not feasible\n",
      "Current generation: 1800, Current Best: 50000, not feasible\n",
      "Current generation: 1801, Current Best: 50000, not feasible\n",
      "Current generation: 1802, Current Best: 50000, not feasible\n",
      "Current generation: 1803, Current Best: 50000, not feasible\n",
      "Current generation: 1804, Current Best: 50000, not feasible\n",
      "Current generation: 1805, Current Best: 50000, not feasible\n",
      "Current generation: 1806, Current Best: 50000, not feasible\n",
      "Current generation: 1807, Current Best: 50000, not feasible\n",
      "Current generation: 1808, Current Best: 50000, not feasible\n",
      "Current generation: 1809, Current Best: 50000, not feasible\n",
      "Current generation: 1810, Current Best: 50000, not feasible\n",
      "Current generation: 1811, Current Best: 50000, not feasible\n",
      "Current generation: 1812, Current Best: 50000, not feasible\n",
      "Current generation: 1813, Current Best: 50000, not feasible\n",
      "Current generation: 1814, Current Best: 50000, not feasible\n",
      "Current generation: 1815, Current Best: 50000, not feasible\n",
      "Current generation: 1816, Current Best: 50000, not feasible\n",
      "Current generation: 1817, Current Best: 50000, not feasible\n",
      "Current generation: 1818, Current Best: 50000, not feasible\n",
      "Current generation: 1819, Current Best: 50000, not feasible\n",
      "Current generation: 1820, Current Best: 50000, not feasible\n",
      "Current generation: 1821, Current Best: 50000, not feasible\n",
      "Current generation: 1822, Current Best: 50000, not feasible\n",
      "Current generation: 1823, Current Best: 50000, not feasible\n",
      "Current generation: 1824, Current Best: 50000, not feasible\n",
      "Current generation: 1825, Current Best: 50000, not feasible\n",
      "Current generation: 1826, Current Best: 50000, not feasible\n",
      "Current generation: 1827, Current Best: 50000, not feasible\n",
      "Current generation: 1828, Current Best: 50000, not feasible\n",
      "Current generation: 1829, Current Best: 50000, not feasible\n",
      "Current generation: 1830, Current Best: 50000, not feasible\n",
      "Current generation: 1831, Current Best: 50000, not feasible\n",
      "Current generation: 1832, Current Best: 50000, not feasible\n",
      "Current generation: 1833, Current Best: 50000, not feasible\n",
      "Current generation: 1834, Current Best: 50000, not feasible\n",
      "Current generation: 1835, Current Best: 50000, not feasible\n",
      "Current generation: 1836, Current Best: 50000, not feasible\n",
      "Current generation: 1837, Current Best: 50000, not feasible\n",
      "Current generation: 1838, Current Best: 50000, not feasible\n",
      "Current generation: 1839, Current Best: 50000, not feasible\n",
      "Current generation: 1840, Current Best: 50000, not feasible\n",
      "Current generation: 1841, Current Best: 50000, not feasible\n",
      "Current generation: 1842, Current Best: 50000, not feasible\n",
      "Current generation: 1843, Current Best: 50000, not feasible\n",
      "Current generation: 1844, Current Best: 50000, not feasible\n",
      "Current generation: 1845, Current Best: 50000, not feasible\n",
      "Current generation: 1846, Current Best: 50000, not feasible\n",
      "Current generation: 1847, Current Best: 50000, not feasible\n",
      "Current generation: 1848, Current Best: 50000, not feasible\n",
      "Current generation: 1849, Current Best: 50000, not feasible\n",
      "Current generation: 1850, Current Best: 50000, not feasible\n",
      "Current generation: 1851, Current Best: 50000, not feasible\n",
      "Current generation: 1852, Current Best: 50000, not feasible\n",
      "Current generation: 1853, Current Best: 50000, not feasible\n",
      "Current generation: 1854, Current Best: 50000, not feasible\n",
      "Current generation: 1855, Current Best: 50000, not feasible\n",
      "Current generation: 1856, Current Best: 50000, not feasible\n",
      "Current generation: 1857, Current Best: 50000, not feasible\n",
      "Current generation: 1858, Current Best: 50000, not feasible\n",
      "Current generation: 1859, Current Best: 50000, not feasible\n",
      "Current generation: 1860, Current Best: 50000, not feasible\n",
      "Current generation: 1861, Current Best: 50000, not feasible\n",
      "Current generation: 1862, Current Best: 50000, not feasible\n",
      "Current generation: 1863, Current Best: 50000, not feasible\n",
      "Current generation: 1864, Current Best: 50000, not feasible\n",
      "Current generation: 1865, Current Best: 50000, not feasible\n",
      "Current generation: 1866, Current Best: 50000, not feasible\n",
      "Current generation: 1867, Current Best: 50000, not feasible\n",
      "Current generation: 1868, Current Best: 50000, not feasible\n",
      "Current generation: 1869, Current Best: 50000, not feasible\n",
      "Current generation: 1870, Current Best: 50000, not feasible\n",
      "Current generation: 1871, Current Best: 50000, not feasible\n",
      "Current generation: 1872, Current Best: 50000, not feasible\n",
      "Current generation: 1873, Current Best: 50000, not feasible\n",
      "Current generation: 1874, Current Best: 50000, not feasible\n",
      "Current generation: 1875, Current Best: 50000, not feasible\n",
      "Current generation: 1876, Current Best: 50000, not feasible\n",
      "Current generation: 1877, Current Best: 50000, not feasible\n",
      "Current generation: 1878, Current Best: 50000, not feasible\n",
      "Current generation: 1879, Current Best: 50000, not feasible\n",
      "Current generation: 1880, Current Best: 50000, not feasible\n",
      "Current generation: 1881, Current Best: 50000, not feasible\n",
      "Current generation: 1882, Current Best: 50000, not feasible\n",
      "Current generation: 1883, Current Best: 50000, not feasible\n",
      "Current generation: 1884, Current Best: 50000, not feasible\n",
      "Current generation: 1885, Current Best: 50000, not feasible\n",
      "Current generation: 1886, Current Best: 50000, not feasible\n",
      "Current generation: 1887, Current Best: 50000, not feasible\n",
      "Current generation: 1888, Current Best: 50000, not feasible\n",
      "Current generation: 1889, Current Best: 50000, not feasible\n",
      "Current generation: 1890, Current Best: 50000, not feasible\n",
      "Current generation: 1891, Current Best: 50000, not feasible\n",
      "Current generation: 1892, Current Best: 50000, not feasible\n",
      "Current generation: 1893, Current Best: 50000, not feasible\n",
      "Current generation: 1894, Current Best: 50000, not feasible\n",
      "Current generation: 1895, Current Best: 50000, not feasible\n",
      "Current generation: 1896, Current Best: 50000, not feasible\n",
      "Current generation: 1897, Current Best: 50000, not feasible\n",
      "Current generation: 1898, Current Best: 50000, not feasible\n",
      "Current generation: 1899, Current Best: 50000, not feasible\n",
      "Current generation: 1900, Current Best: 50000, not feasible\n",
      "Current generation: 1901, Current Best: 50000, not feasible\n",
      "Current generation: 1902, Current Best: 50000, not feasible\n",
      "Current generation: 1903, Current Best: 50000, not feasible\n",
      "Current generation: 1904, Current Best: 50000, not feasible\n",
      "Current generation: 1905, Current Best: 50000, not feasible\n",
      "Current generation: 1906, Current Best: 50000, not feasible\n",
      "Current generation: 1907, Current Best: 50000, not feasible\n",
      "Current generation: 1908, Current Best: 50000, not feasible\n",
      "Current generation: 1909, Current Best: 50000, not feasible\n",
      "Current generation: 1910, Current Best: 50000, not feasible\n",
      "Current generation: 1911, Current Best: 50000, not feasible\n",
      "Current generation: 1912, Current Best: 50000, not feasible\n",
      "Current generation: 1913, Current Best: 50000, not feasible\n",
      "Current generation: 1914, Current Best: 50000, not feasible\n",
      "Current generation: 1915, Current Best: 50000, not feasible\n",
      "Current generation: 1916, Current Best: 50000, not feasible\n",
      "Current generation: 1917, Current Best: 50000, not feasible\n",
      "Current generation: 1918, Current Best: 50000, not feasible\n",
      "Current generation: 1919, Current Best: 50000, not feasible\n",
      "Current generation: 1920, Current Best: 50000, not feasible\n",
      "Current generation: 1921, Current Best: 50000, not feasible\n",
      "Current generation: 1922, Current Best: 50000, not feasible\n",
      "Current generation: 1923, Current Best: 50000, not feasible\n",
      "Current generation: 1924, Current Best: 50000, not feasible\n",
      "Current generation: 1925, Current Best: 50000, not feasible\n",
      "Current generation: 1926, Current Best: 50000, not feasible\n",
      "Current generation: 1927, Current Best: 50000, not feasible\n",
      "Current generation: 1928, Current Best: 50000, not feasible\n",
      "Current generation: 1929, Current Best: 50000, not feasible\n",
      "Current generation: 1930, Current Best: 50000, not feasible\n",
      "Current generation: 1931, Current Best: 50000, not feasible\n",
      "Current generation: 1932, Current Best: 50000, not feasible\n",
      "Current generation: 1933, Current Best: 50000, not feasible\n",
      "Current generation: 1934, Current Best: 50000, not feasible\n",
      "Current generation: 1935, Current Best: 50000, not feasible\n",
      "Current generation: 1936, Current Best: 50000, not feasible\n",
      "Current generation: 1937, Current Best: 50000, not feasible\n",
      "Current generation: 1938, Current Best: 50000, not feasible\n",
      "Current generation: 1939, Current Best: 50000, not feasible\n",
      "Current generation: 1940, Current Best: 50000, not feasible\n",
      "Current generation: 1941, Current Best: 50000, not feasible\n",
      "Current generation: 1942, Current Best: 50000, not feasible\n",
      "Current generation: 1943, Current Best: 50000, not feasible\n",
      "Current generation: 1944, Current Best: 50000, not feasible\n",
      "Current generation: 1945, Current Best: 50000, not feasible\n",
      "Current generation: 1946, Current Best: 50000, not feasible\n",
      "Current generation: 1947, Current Best: 50000, not feasible\n",
      "Current generation: 1948, Current Best: 50000, not feasible\n",
      "Current generation: 1949, Current Best: 50000, not feasible\n",
      "Current generation: 1950, Current Best: 50000, not feasible\n",
      "Current generation: 1951, Current Best: 50000, not feasible\n",
      "Current generation: 1952, Current Best: 50000, not feasible\n",
      "Current generation: 1953, Current Best: 50000, not feasible\n",
      "Current generation: 1954, Current Best: 50000, not feasible\n",
      "Current generation: 1955, Current Best: 50000, not feasible\n",
      "Current generation: 1956, Current Best: 50000, not feasible\n",
      "Current generation: 1957, Current Best: 50000, not feasible\n",
      "Current generation: 1958, Current Best: 50000, not feasible\n",
      "Current generation: 1959, Current Best: 50000, not feasible\n",
      "Current generation: 1960, Current Best: 50000, not feasible\n",
      "Current generation: 1961, Current Best: 50000, not feasible\n",
      "Current generation: 1962, Current Best: 50000, not feasible\n",
      "Current generation: 1963, Current Best: 50000, not feasible\n",
      "Current generation: 1964, Current Best: 50000, not feasible\n",
      "Current generation: 1965, Current Best: 50000, not feasible\n",
      "Current generation: 1966, Current Best: 50000, not feasible\n",
      "Current generation: 1967, Current Best: 50000, not feasible\n",
      "Current generation: 1968, Current Best: 50000, not feasible\n",
      "Current generation: 1969, Current Best: 50000, not feasible\n",
      "Current generation: 1970, Current Best: 50000, not feasible\n",
      "Current generation: 1971, Current Best: 50000, not feasible\n",
      "Current generation: 1972, Current Best: 50000, not feasible\n",
      "Current generation: 1973, Current Best: 50000, not feasible\n",
      "Current generation: 1974, Current Best: 50000, not feasible\n",
      "Current generation: 1975, Current Best: 50000, not feasible\n",
      "Current generation: 1976, Current Best: 50000, not feasible\n",
      "Current generation: 1977, Current Best: 50000, not feasible\n",
      "Current generation: 1978, Current Best: 50000, not feasible\n",
      "Current generation: 1979, Current Best: 50000, not feasible\n",
      "Current generation: 1980, Current Best: 50000, not feasible\n",
      "Current generation: 1981, Current Best: 50000, not feasible\n",
      "Current generation: 1982, Current Best: 50000, not feasible\n",
      "Current generation: 1983, Current Best: 50000, not feasible\n",
      "Current generation: 1984, Current Best: 50000, not feasible\n",
      "Current generation: 1985, Current Best: 50000, not feasible\n",
      "Current generation: 1986, Current Best: 50000, not feasible\n",
      "Current generation: 1987, Current Best: 50000, not feasible\n",
      "Current generation: 1988, Current Best: 50000, not feasible\n",
      "Current generation: 1989, Current Best: 50000, not feasible\n",
      "Current generation: 1990, Current Best: 50000, not feasible\n",
      "Current generation: 1991, Current Best: 50000, not feasible\n",
      "Current generation: 1992, Current Best: 50000, not feasible\n",
      "Current generation: 1993, Current Best: 50000, not feasible\n",
      "Current generation: 1994, Current Best: 50000, not feasible\n",
      "Current generation: 1995, Current Best: 50000, not feasible\n",
      "Current generation: 1996, Current Best: 50000, not feasible\n",
      "Current generation: 1997, Current Best: 50000, not feasible\n",
      "Current generation: 1998, Current Best: 50000, not feasible\n",
      "Current generation: 1999, Current Best: 50000, not feasible\n",
      "Current generation: 2000, Current Best: 50000, not feasible\n",
      "Current generation: 2001, Current Best: 50000, not feasible\n",
      "Current generation: 2002, Current Best: 50000, not feasible\n",
      "Current generation: 2003, Current Best: 50000, not feasible\n",
      "Current generation: 2004, Current Best: 50000, not feasible\n",
      "Current generation: 2005, Current Best: 50000, not feasible\n",
      "Current generation: 2006, Current Best: 50000, not feasible\n",
      "Current generation: 2007, Current Best: 50000, not feasible\n",
      "Current generation: 2008, Current Best: 50000, not feasible\n",
      "Current generation: 2009, Current Best: 50000, not feasible\n",
      "Current generation: 2010, Current Best: 50000, not feasible\n",
      "Current generation: 2011, Current Best: 50000, not feasible\n",
      "Current generation: 2012, Current Best: 50000, not feasible\n",
      "Current generation: 2013, Current Best: 50000, not feasible\n",
      "Current generation: 2014, Current Best: 50000, not feasible\n",
      "Current generation: 2015, Current Best: 50000, not feasible\n",
      "Current generation: 2016, Current Best: 50000, not feasible\n",
      "Current generation: 2017, Current Best: 50000, not feasible\n",
      "Current generation: 2018, Current Best: 50000, not feasible\n",
      "Current generation: 2019, Current Best: 50000, not feasible\n",
      "Current generation: 2020, Current Best: 50000, not feasible\n",
      "Current generation: 2021, Current Best: 50000, not feasible\n",
      "Current generation: 2022, Current Best: 50000, not feasible\n",
      "Current generation: 2023, Current Best: 50000, not feasible\n",
      "Current generation: 2024, Current Best: 50000, not feasible\n",
      "Current generation: 2025, Current Best: 50000, not feasible\n",
      "Current generation: 2026, Current Best: 50000, not feasible\n",
      "Current generation: 2027, Current Best: 50000, not feasible\n",
      "Current generation: 2028, Current Best: 50000, not feasible\n",
      "Current generation: 2029, Current Best: 50000, not feasible\n",
      "Current generation: 2030, Current Best: 50000, not feasible\n",
      "Current generation: 2031, Current Best: 50000, not feasible\n",
      "Current generation: 2032, Current Best: 50000, not feasible\n",
      "Current generation: 2033, Current Best: 50000, not feasible\n",
      "Current generation: 2034, Current Best: 50000, not feasible\n",
      "Current generation: 2035, Current Best: 50000, not feasible\n",
      "Current generation: 2036, Current Best: 50000, not feasible\n",
      "Current generation: 2037, Current Best: 50000, not feasible\n",
      "Current generation: 2038, Current Best: 50000, not feasible\n",
      "Current generation: 2039, Current Best: 50000, not feasible\n",
      "Current generation: 2040, Current Best: 50000, not feasible\n",
      "Current generation: 2041, Current Best: 50000, not feasible\n",
      "Current generation: 2042, Current Best: 50000, not feasible\n",
      "Current generation: 2043, Current Best: 50000, not feasible\n",
      "Current generation: 2044, Current Best: 50000, not feasible\n",
      "Current generation: 2045, Current Best: 50000, not feasible\n",
      "Current generation: 2046, Current Best: 50000, not feasible\n",
      "Current generation: 2047, Current Best: 50000, not feasible\n",
      "Current generation: 2048, Current Best: 50000, not feasible\n",
      "Current generation: 2049, Current Best: 50000, not feasible\n",
      "Current generation: 2050, Current Best: 50000, not feasible\n",
      "Current generation: 2051, Current Best: 50000, not feasible\n",
      "Current generation: 2052, Current Best: 50000, not feasible\n",
      "Current generation: 2053, Current Best: 50000, not feasible\n",
      "Current generation: 2054, Current Best: 50000, not feasible\n",
      "Current generation: 2055, Current Best: 50000, not feasible\n",
      "Current generation: 2056, Current Best: 50000, not feasible\n",
      "Current generation: 2057, Current Best: 50000, not feasible\n",
      "Current generation: 2058, Current Best: 50000, not feasible\n",
      "Current generation: 2059, Current Best: 50000, not feasible\n",
      "Current generation: 2060, Current Best: 50000, not feasible\n",
      "Current generation: 2061, Current Best: 50000, not feasible\n",
      "Current generation: 2062, Current Best: 50000, not feasible\n",
      "Current generation: 2063, Current Best: 50000, not feasible\n",
      "Current generation: 2064, Current Best: 50000, not feasible\n",
      "Current generation: 2065, Current Best: 50000, not feasible\n",
      "Current generation: 2066, Current Best: 50000, not feasible\n",
      "Current generation: 2067, Current Best: 50000, not feasible\n",
      "Current generation: 2068, Current Best: 50000, not feasible\n",
      "Current generation: 2069, Current Best: 50000, not feasible\n",
      "Current generation: 2070, Current Best: 50000, not feasible\n",
      "Current generation: 2071, Current Best: 50000, not feasible\n",
      "Current generation: 2072, Current Best: 50000, not feasible\n",
      "Current generation: 2073, Current Best: 50000, not feasible\n",
      "Current generation: 2074, Current Best: 50000, not feasible\n",
      "Current generation: 2075, Current Best: 50000, not feasible\n",
      "Current generation: 2076, Current Best: 50000, not feasible\n",
      "Current generation: 2077, Current Best: 50000, not feasible\n",
      "Current generation: 2078, Current Best: 50000, not feasible\n",
      "Current generation: 2079, Current Best: 50000, not feasible\n",
      "Current generation: 2080, Current Best: 50000, not feasible\n",
      "Current generation: 2081, Current Best: 50000, not feasible\n",
      "Current generation: 2082, Current Best: 50000, not feasible\n",
      "Current generation: 2083, Current Best: 50000, not feasible\n",
      "Current generation: 2084, Current Best: 50000, not feasible\n",
      "Current generation: 2085, Current Best: 50000, not feasible\n",
      "Current generation: 2086, Current Best: 50000, not feasible\n",
      "Current generation: 2087, Current Best: 50000, not feasible\n",
      "Current generation: 2088, Current Best: 50000, not feasible\n",
      "Current generation: 2089, Current Best: 50000, not feasible\n",
      "Current generation: 2090, Current Best: 50000, not feasible\n",
      "Current generation: 2091, Current Best: 50000, not feasible\n",
      "Current generation: 2092, Current Best: 50000, not feasible\n",
      "Current generation: 2093, Current Best: 50000, not feasible\n",
      "Current generation: 2094, Current Best: 50000, not feasible\n",
      "Current generation: 2095, Current Best: 50000, not feasible\n",
      "Current generation: 2096, Current Best: 50000, not feasible\n",
      "Current generation: 2097, Current Best: 50000, not feasible\n",
      "Current generation: 2098, Current Best: 50000, not feasible\n",
      "Current generation: 2099, Current Best: 50000, not feasible\n",
      "Current generation: 2100, Current Best: 50000, not feasible\n",
      "Current generation: 2101, Current Best: 50000, not feasible\n",
      "Current generation: 2102, Current Best: 50000, not feasible\n",
      "Current generation: 2103, Current Best: 50000, not feasible\n",
      "Current generation: 2104, Current Best: 50000, not feasible\n",
      "Current generation: 2105, Current Best: 50000, not feasible\n",
      "Current generation: 2106, Current Best: 50000, not feasible\n",
      "Current generation: 2107, Current Best: 50000, not feasible\n",
      "Current generation: 2108, Current Best: 50000, not feasible\n",
      "Current generation: 2109, Current Best: 50000, not feasible\n",
      "Current generation: 2110, Current Best: 50000, not feasible\n",
      "Current generation: 2111, Current Best: 50000, not feasible\n",
      "Current generation: 2112, Current Best: 50000, not feasible\n",
      "Current generation: 2113, Current Best: 50000, not feasible\n",
      "Current generation: 2114, Current Best: 50000, not feasible\n",
      "Current generation: 2115, Current Best: 50000, not feasible\n",
      "Current generation: 2116, Current Best: 50000, not feasible\n",
      "Current generation: 2117, Current Best: 50000, not feasible\n",
      "Current generation: 2118, Current Best: 50000, not feasible\n",
      "Current generation: 2119, Current Best: 50000, not feasible\n",
      "Current generation: 2120, Current Best: 50000, not feasible\n",
      "Current generation: 2121, Current Best: 50000, not feasible\n",
      "Current generation: 2122, Current Best: 50000, not feasible\n",
      "Current generation: 2123, Current Best: 50000, not feasible\n",
      "Current generation: 2124, Current Best: 50000, not feasible\n",
      "Current generation: 2125, Current Best: 50000, not feasible\n",
      "Current generation: 2126, Current Best: 50000, not feasible\n",
      "Current generation: 2127, Current Best: 50000, not feasible\n",
      "Current generation: 2128, Current Best: 50000, not feasible\n",
      "Current generation: 2129, Current Best: 50000, not feasible\n",
      "Current generation: 2130, Current Best: 50000, not feasible\n",
      "Current generation: 2131, Current Best: 50000, not feasible\n",
      "Current generation: 2132, Current Best: 50000, not feasible\n",
      "Current generation: 2133, Current Best: 50000, not feasible\n",
      "Current generation: 2134, Current Best: 50000, not feasible\n",
      "Current generation: 2135, Current Best: 50000, not feasible\n",
      "Current generation: 2136, Current Best: 50000, not feasible\n",
      "Current generation: 2137, Current Best: 50000, not feasible\n",
      "Current generation: 2138, Current Best: 50000, not feasible\n",
      "Current generation: 2139, Current Best: 50000, not feasible\n",
      "Current generation: 2140, Current Best: 50000, not feasible\n",
      "Current generation: 2141, Current Best: 50000, not feasible\n",
      "Current generation: 2142, Current Best: 50000, not feasible\n",
      "Current generation: 2143, Current Best: 50000, not feasible\n",
      "Current generation: 2144, Current Best: 50000, not feasible\n",
      "Current generation: 2145, Current Best: 50000, not feasible\n",
      "Current generation: 2146, Current Best: 50000, not feasible\n",
      "Current generation: 2147, Current Best: 50000, not feasible\n",
      "Current generation: 2148, Current Best: 50000, not feasible\n",
      "Current generation: 2149, Current Best: 50000, not feasible\n",
      "Current generation: 2150, Current Best: 50000, not feasible\n",
      "Current generation: 2151, Current Best: 50000, not feasible\n",
      "Current generation: 2152, Current Best: 50000, not feasible\n",
      "Current generation: 2153, Current Best: 50000, not feasible\n",
      "Current generation: 2154, Current Best: 50000, not feasible\n",
      "Current generation: 2155, Current Best: 50000, not feasible\n",
      "Current generation: 2156, Current Best: 50000, not feasible\n",
      "Current generation: 2157, Current Best: 50000, not feasible\n",
      "Current generation: 2158, Current Best: 50000, not feasible\n",
      "Current generation: 2159, Current Best: 50000, not feasible\n",
      "Current generation: 2160, Current Best: 50000, not feasible\n",
      "Current generation: 2161, Current Best: 50000, not feasible\n",
      "Current generation: 2162, Current Best: 50000, not feasible\n",
      "Current generation: 2163, Current Best: 50000, not feasible\n",
      "Current generation: 2164, Current Best: 50000, not feasible\n",
      "Current generation: 2165, Current Best: 50000, not feasible\n",
      "Current generation: 2166, Current Best: 50000, not feasible\n",
      "Current generation: 2167, Current Best: 50000, not feasible\n",
      "Current generation: 2168, Current Best: 50000, not feasible\n",
      "Current generation: 2169, Current Best: 50000, not feasible\n",
      "Current generation: 2170, Current Best: 50000, not feasible\n",
      "Current generation: 2171, Current Best: 50000, not feasible\n",
      "Current generation: 2172, Current Best: 50000, not feasible\n",
      "Current generation: 2173, Current Best: 50000, not feasible\n",
      "Current generation: 2174, Current Best: 50000, not feasible\n",
      "Current generation: 2175, Current Best: 50000, not feasible\n",
      "Current generation: 2176, Current Best: 50000, not feasible\n",
      "Current generation: 2177, Current Best: 50000, not feasible\n",
      "Current generation: 2178, Current Best: 50000, not feasible\n",
      "Current generation: 2179, Current Best: 50000, not feasible\n",
      "Current generation: 2180, Current Best: 50000, not feasible\n",
      "Current generation: 2181, Current Best: 50000, not feasible\n",
      "Current generation: 2182, Current Best: 50000, not feasible\n",
      "Current generation: 2183, Current Best: 50000, not feasible\n",
      "Current generation: 2184, Current Best: 50000, not feasible\n",
      "Current generation: 2185, Current Best: 50000, not feasible\n",
      "Current generation: 2186, Current Best: 50000, not feasible\n",
      "Current generation: 2187, Current Best: 50000, not feasible\n",
      "Current generation: 2188, Current Best: 50000, not feasible\n",
      "Current generation: 2189, Current Best: 50000, not feasible\n",
      "Current generation: 2190, Current Best: 50000, not feasible\n",
      "Current generation: 2191, Current Best: 50000, not feasible\n",
      "Current generation: 2192, Current Best: 50000, not feasible\n",
      "Current generation: 2193, Current Best: 50000, not feasible\n",
      "Current generation: 2194, Current Best: 50000, not feasible\n",
      "Current generation: 2195, Current Best: 50000, not feasible\n",
      "Current generation: 2196, Current Best: 50000, not feasible\n",
      "Current generation: 2197, Current Best: 50000, not feasible\n",
      "Current generation: 2198, Current Best: 50000, not feasible\n",
      "Current generation: 2199, Current Best: 50000, not feasible\n",
      "Current generation: 2200, Current Best: 50000, not feasible\n",
      "Current generation: 2201, Current Best: 50000, not feasible\n",
      "Current generation: 2202, Current Best: 50000, not feasible\n",
      "Current generation: 2203, Current Best: 50000, not feasible\n",
      "Current generation: 2204, Current Best: 50000, not feasible\n",
      "Current generation: 2205, Current Best: 50000, not feasible\n",
      "Current generation: 2206, Current Best: 50000, not feasible\n",
      "Current generation: 2207, Current Best: 50000, not feasible\n",
      "Current generation: 2208, Current Best: 50000, not feasible\n",
      "Current generation: 2209, Current Best: 50000, not feasible\n",
      "Current generation: 2210, Current Best: 50000, not feasible\n",
      "Current generation: 2211, Current Best: 50000, not feasible\n",
      "Current generation: 2212, Current Best: 50000, not feasible\n",
      "Current generation: 2213, Current Best: 50000, not feasible\n",
      "Current generation: 2214, Current Best: 50000, not feasible\n",
      "Current generation: 2215, Current Best: 50000, not feasible\n",
      "Current generation: 2216, Current Best: 50000, not feasible\n",
      "Current generation: 2217, Current Best: 50000, not feasible\n",
      "Current generation: 2218, Current Best: 50000, not feasible\n",
      "Current generation: 2219, Current Best: 50000, not feasible\n",
      "Current generation: 2220, Current Best: 50000, not feasible\n",
      "Current generation: 2221, Current Best: 50000, not feasible\n",
      "Current generation: 2222, Current Best: 50000, not feasible\n",
      "Current generation: 2223, Current Best: 50000, not feasible\n",
      "Current generation: 2224, Current Best: 50000, not feasible\n",
      "Current generation: 2225, Current Best: 50000, not feasible\n",
      "Current generation: 2226, Current Best: 50000, not feasible\n",
      "Current generation: 2227, Current Best: 50000, not feasible\n",
      "Current generation: 2228, Current Best: 50000, not feasible\n",
      "Current generation: 2229, Current Best: 50000, not feasible\n",
      "Current generation: 2230, Current Best: 50000, not feasible\n",
      "Current generation: 2231, Current Best: 50000, not feasible\n",
      "Current generation: 2232, Current Best: 50000, not feasible\n",
      "Current generation: 2233, Current Best: 50000, not feasible\n",
      "Current generation: 2234, Current Best: 50000, not feasible\n",
      "Current generation: 2235, Current Best: 50000, not feasible\n",
      "Current generation: 2236, Current Best: 50000, not feasible\n",
      "Current generation: 2237, Current Best: 50000, not feasible\n",
      "Current generation: 2238, Current Best: 50000, not feasible\n",
      "Current generation: 2239, Current Best: 50000, not feasible\n",
      "Current generation: 2240, Current Best: 50000, not feasible\n",
      "Current generation: 2241, Current Best: 50000, not feasible\n",
      "Current generation: 2242, Current Best: 50000, not feasible\n",
      "Current generation: 2243, Current Best: 50000, not feasible\n",
      "Current generation: 2244, Current Best: 50000, not feasible\n",
      "Current generation: 2245, Current Best: 50000, not feasible\n",
      "Current generation: 2246, Current Best: 50000, not feasible\n",
      "Current generation: 2247, Current Best: 50000, not feasible\n",
      "Current generation: 2248, Current Best: 50000, not feasible\n",
      "Current generation: 2249, Current Best: 50000, not feasible\n",
      "Current generation: 2250, Current Best: 50000, not feasible\n",
      "Current generation: 2251, Current Best: 50000, not feasible\n",
      "Current generation: 2252, Current Best: 50000, not feasible\n",
      "Current generation: 2253, Current Best: 50000, not feasible\n",
      "Current generation: 2254, Current Best: 50000, not feasible\n",
      "Current generation: 2255, Current Best: 50000, not feasible\n",
      "Current generation: 2256, Current Best: 50000, not feasible\n",
      "Current generation: 2257, Current Best: 50000, not feasible\n",
      "Current generation: 2258, Current Best: 50000, not feasible\n",
      "Current generation: 2259, Current Best: 50000, not feasible\n",
      "Current generation: 2260, Current Best: 50000, not feasible\n",
      "Current generation: 2261, Current Best: 50000, not feasible\n",
      "Current generation: 2262, Current Best: 50000, not feasible\n",
      "Current generation: 2263, Current Best: 50000, not feasible\n",
      "Current generation: 2264, Current Best: 50000, not feasible\n",
      "Current generation: 2265, Current Best: 50000, not feasible\n",
      "Current generation: 2266, Current Best: 50000, not feasible\n",
      "Current generation: 2267, Current Best: 50000, not feasible\n",
      "Current generation: 2268, Current Best: 50000, not feasible\n",
      "Current generation: 2269, Current Best: 50000, not feasible\n",
      "Current generation: 2270, Current Best: 50000, not feasible\n",
      "Current generation: 2271, Current Best: 50000, not feasible\n",
      "Current generation: 2272, Current Best: 50000, not feasible\n",
      "Current generation: 2273, Current Best: 50000, not feasible\n",
      "Current generation: 2274, Current Best: 50000, not feasible\n",
      "Current generation: 2275, Current Best: 50000, not feasible\n",
      "Current generation: 2276, Current Best: 50000, not feasible\n",
      "Current generation: 2277, Current Best: 50000, not feasible\n",
      "Current generation: 2278, Current Best: 50000, not feasible\n",
      "Current generation: 2279, Current Best: 50000, not feasible\n",
      "Current generation: 2280, Current Best: 50000, not feasible\n",
      "Current generation: 2281, Current Best: 50000, not feasible\n",
      "Current generation: 2282, Current Best: 50000, not feasible\n",
      "Current generation: 2283, Current Best: 50000, not feasible\n",
      "Current generation: 2284, Current Best: 50000, not feasible\n",
      "Current generation: 2285, Current Best: 50000, not feasible\n",
      "Current generation: 2286, Current Best: 50000, not feasible\n",
      "Current generation: 2287, Current Best: 50000, not feasible\n",
      "Current generation: 2288, Current Best: 50000, not feasible\n",
      "Current generation: 2289, Current Best: 50000, not feasible\n",
      "Current generation: 2290, Current Best: 50000, not feasible\n",
      "Current generation: 2291, Current Best: 50000, not feasible\n",
      "Current generation: 2292, Current Best: 50000, not feasible\n",
      "Current generation: 2293, Current Best: 50000, not feasible\n",
      "Current generation: 2294, Current Best: 50000, not feasible\n",
      "Current generation: 2295, Current Best: 50000, not feasible\n",
      "Current generation: 2296, Current Best: 50000, not feasible\n",
      "Current generation: 2297, Current Best: 50000, not feasible\n",
      "Current generation: 2298, Current Best: 50000, not feasible\n",
      "Current generation: 2299, Current Best: 50000, not feasible\n",
      "Current generation: 2300, Current Best: 50000, not feasible\n",
      "Current generation: 2301, Current Best: 50000, not feasible\n",
      "Current generation: 2302, Current Best: 50000, not feasible\n",
      "Current generation: 2303, Current Best: 50000, not feasible\n",
      "Current generation: 2304, Current Best: 50000, not feasible\n",
      "Current generation: 2305, Current Best: 50000, not feasible\n",
      "Current generation: 2306, Current Best: 50000, not feasible\n",
      "Current generation: 2307, Current Best: 50000, not feasible\n",
      "Current generation: 2308, Current Best: 50000, not feasible\n",
      "Current generation: 2309, Current Best: 50000, not feasible\n",
      "Current generation: 2310, Current Best: 50000, not feasible\n",
      "Current generation: 2311, Current Best: 50000, not feasible\n",
      "Current generation: 2312, Current Best: 50000, not feasible\n",
      "Current generation: 2313, Current Best: 50000, not feasible\n",
      "Current generation: 2314, Current Best: 50000, not feasible\n",
      "Current generation: 2315, Current Best: 50000, not feasible\n",
      "Current generation: 2316, Current Best: 50000, not feasible\n",
      "Current generation: 2317, Current Best: 50000, not feasible\n",
      "Current generation: 2318, Current Best: 50000, not feasible\n",
      "Current generation: 2319, Current Best: 50000, not feasible\n",
      "Current generation: 2320, Current Best: 50000, not feasible\n",
      "Current generation: 2321, Current Best: 50000, not feasible\n",
      "Current generation: 2322, Current Best: 50000, not feasible\n",
      "Current generation: 2323, Current Best: 50000, not feasible\n",
      "Current generation: 2324, Current Best: 50000, not feasible\n",
      "Current generation: 2325, Current Best: 50000, not feasible\n",
      "Current generation: 2326, Current Best: 50000, not feasible\n",
      "Current generation: 2327, Current Best: 50000, not feasible\n",
      "Current generation: 2328, Current Best: 50000, not feasible\n",
      "Current generation: 2329, Current Best: 50000, not feasible\n",
      "Current generation: 2330, Current Best: 50000, not feasible\n",
      "Current generation: 2331, Current Best: 50000, not feasible\n",
      "Current generation: 2332, Current Best: 50000, not feasible\n",
      "Current generation: 2333, Current Best: 50000, not feasible\n",
      "Current generation: 2334, Current Best: 50000, not feasible\n",
      "Current generation: 2335, Current Best: 50000, not feasible\n",
      "Current generation: 2336, Current Best: 50000, not feasible\n",
      "Current generation: 2337, Current Best: 50000, not feasible\n",
      "Current generation: 2338, Current Best: 50000, not feasible\n",
      "Current generation: 2339, Current Best: 50000, not feasible\n",
      "Current generation: 2340, Current Best: 50000, not feasible\n",
      "Current generation: 2341, Current Best: 50000, not feasible\n",
      "Current generation: 2342, Current Best: 50000, not feasible\n",
      "Current generation: 2343, Current Best: 50000, not feasible\n",
      "Current generation: 2344, Current Best: 50000, not feasible\n",
      "Current generation: 2345, Current Best: 50000, not feasible\n",
      "Current generation: 2346, Current Best: 50000, not feasible\n",
      "Current generation: 2347, Current Best: 50000, not feasible\n",
      "Current generation: 2348, Current Best: 50000, not feasible\n",
      "Current generation: 2349, Current Best: 50000, not feasible\n",
      "Current generation: 2350, Current Best: 50000, not feasible\n",
      "Current generation: 2351, Current Best: 50000, not feasible\n",
      "Current generation: 2352, Current Best: 50000, not feasible\n",
      "Current generation: 2353, Current Best: 50000, not feasible\n",
      "Current generation: 2354, Current Best: 50000, not feasible\n",
      "Current generation: 2355, Current Best: 50000, not feasible\n",
      "Current generation: 2356, Current Best: 50000, not feasible\n",
      "Current generation: 2357, Current Best: 50000, not feasible\n",
      "Current generation: 2358, Current Best: 50000, not feasible\n",
      "Current generation: 2359, Current Best: 50000, not feasible\n",
      "Current generation: 2360, Current Best: 50000, not feasible\n",
      "Current generation: 2361, Current Best: 50000, not feasible\n",
      "Current generation: 2362, Current Best: 50000, not feasible\n",
      "Current generation: 2363, Current Best: 50000, not feasible\n",
      "Current generation: 2364, Current Best: 50000, not feasible\n",
      "Current generation: 2365, Current Best: 50000, not feasible\n",
      "Current generation: 2366, Current Best: 50000, not feasible\n",
      "Current generation: 2367, Current Best: 50000, not feasible\n",
      "Current generation: 2368, Current Best: 50000, not feasible\n",
      "Current generation: 2369, Current Best: 50000, not feasible\n",
      "Current generation: 2370, Current Best: 50000, not feasible\n",
      "Current generation: 2371, Current Best: 50000, not feasible\n",
      "Current generation: 2372, Current Best: 50000, not feasible\n",
      "Current generation: 2373, Current Best: 50000, not feasible\n",
      "Current generation: 2374, Current Best: 50000, not feasible\n",
      "Current generation: 2375, Current Best: 50000, not feasible\n",
      "Current generation: 2376, Current Best: 50000, not feasible\n",
      "Current generation: 2377, Current Best: 50000, not feasible\n",
      "Current generation: 2378, Current Best: 50000, not feasible\n",
      "Current generation: 2379, Current Best: 50000, not feasible\n",
      "Current generation: 2380, Current Best: 50000, not feasible\n",
      "Current generation: 2381, Current Best: 50000, not feasible\n",
      "Current generation: 2382, Current Best: 50000, not feasible\n",
      "Current generation: 2383, Current Best: 50000, not feasible\n",
      "Current generation: 2384, Current Best: 50000, not feasible\n",
      "Current generation: 2385, Current Best: 50000, not feasible\n",
      "Current generation: 2386, Current Best: 50000, not feasible\n",
      "Current generation: 2387, Current Best: 50000, not feasible\n",
      "Current generation: 2388, Current Best: 50000, not feasible\n",
      "Current generation: 2389, Current Best: 50000, not feasible\n",
      "Current generation: 2390, Current Best: 50000, not feasible\n",
      "Current generation: 2391, Current Best: 50000, not feasible\n",
      "Current generation: 2392, Current Best: 50000, not feasible\n",
      "Current generation: 2393, Current Best: 50000, not feasible\n",
      "Current generation: 2394, Current Best: 50000, not feasible\n",
      "Current generation: 2395, Current Best: 50000, not feasible\n",
      "Current generation: 2396, Current Best: 50000, not feasible\n",
      "Current generation: 2397, Current Best: 50000, not feasible\n",
      "Current generation: 2398, Current Best: 50000, not feasible\n",
      "Current generation: 2399, Current Best: 50000, not feasible\n",
      "Current generation: 2400, Current Best: 50000, not feasible\n",
      "Current generation: 2401, Current Best: 50000, not feasible\n",
      "Current generation: 2402, Current Best: 50000, not feasible\n",
      "Current generation: 2403, Current Best: 50000, not feasible\n",
      "Current generation: 2404, Current Best: 50000, not feasible\n",
      "Current generation: 2405, Current Best: 50000, not feasible\n",
      "Current generation: 2406, Current Best: 50000, not feasible\n",
      "Current generation: 2407, Current Best: 50000, not feasible\n",
      "Current generation: 2408, Current Best: 50000, not feasible\n",
      "Current generation: 2409, Current Best: 50000, not feasible\n",
      "Current generation: 2410, Current Best: 50000, not feasible\n",
      "Current generation: 2411, Current Best: 50000, not feasible\n",
      "Current generation: 2412, Current Best: 50000, not feasible\n",
      "Current generation: 2413, Current Best: 50000, not feasible\n",
      "Current generation: 2414, Current Best: 50000, not feasible\n",
      "Current generation: 2415, Current Best: 50000, not feasible\n",
      "Current generation: 2416, Current Best: 50000, not feasible\n",
      "Current generation: 2417, Current Best: 50000, not feasible\n",
      "Current generation: 2418, Current Best: 50000, not feasible\n",
      "Current generation: 2419, Current Best: 50000, not feasible\n",
      "Current generation: 2420, Current Best: 50000, not feasible\n",
      "Current generation: 2421, Current Best: 50000, not feasible\n",
      "Current generation: 2422, Current Best: 50000, not feasible\n",
      "Current generation: 2423, Current Best: 50000, not feasible\n",
      "Current generation: 2424, Current Best: 50000, not feasible\n",
      "Current generation: 2425, Current Best: 50000, not feasible\n",
      "Current generation: 2426, Current Best: 50000, not feasible\n",
      "Current generation: 2427, Current Best: 50000, not feasible\n",
      "Current generation: 2428, Current Best: 50000, not feasible\n",
      "Current generation: 2429, Current Best: 50000, not feasible\n",
      "Current generation: 2430, Current Best: 50000, not feasible\n",
      "Current generation: 2431, Current Best: 50000, not feasible\n",
      "Current generation: 2432, Current Best: 50000, not feasible\n",
      "Current generation: 2433, Current Best: 50000, not feasible\n",
      "Current generation: 2434, Current Best: 50000, not feasible\n",
      "Current generation: 2435, Current Best: 50000, not feasible\n",
      "Current generation: 2436, Current Best: 50000, not feasible\n",
      "Current generation: 2437, Current Best: 50000, not feasible\n",
      "Current generation: 2438, Current Best: 50000, not feasible\n",
      "Current generation: 2439, Current Best: 50000, not feasible\n",
      "Current generation: 2440, Current Best: 50000, not feasible\n",
      "Current generation: 2441, Current Best: 50000, not feasible\n",
      "Current generation: 2442, Current Best: 50000, not feasible\n",
      "Current generation: 2443, Current Best: 50000, not feasible\n",
      "Current generation: 2444, Current Best: 50000, not feasible\n",
      "Current generation: 2445, Current Best: 50000, not feasible\n",
      "Current generation: 2446, Current Best: 50000, not feasible\n",
      "Current generation: 2447, Current Best: 50000, not feasible\n",
      "Current generation: 2448, Current Best: 50000, not feasible\n",
      "Current generation: 2449, Current Best: 50000, not feasible\n",
      "Current generation: 2450, Current Best: 50000, not feasible\n",
      "Current generation: 2451, Current Best: 50000, not feasible\n",
      "Current generation: 2452, Current Best: 50000, not feasible\n",
      "Current generation: 2453, Current Best: 50000, not feasible\n",
      "Current generation: 2454, Current Best: 50000, not feasible\n",
      "Current generation: 2455, Current Best: 50000, not feasible\n",
      "Current generation: 2456, Current Best: 50000, not feasible\n",
      "Current generation: 2457, Current Best: 50000, not feasible\n",
      "Current generation: 2458, Current Best: 50000, not feasible\n",
      "Current generation: 2459, Current Best: 50000, not feasible\n",
      "Current generation: 2460, Current Best: 50000, not feasible\n",
      "Current generation: 2461, Current Best: 50000, not feasible\n",
      "Current generation: 2462, Current Best: 50000, not feasible\n",
      "Current generation: 2463, Current Best: 50000, not feasible\n",
      "Current generation: 2464, Current Best: 50000, not feasible\n",
      "Current generation: 2465, Current Best: 50000, not feasible\n",
      "Current generation: 2466, Current Best: 50000, not feasible\n",
      "Current generation: 2467, Current Best: 50000, not feasible\n",
      "Current generation: 2468, Current Best: 50000, not feasible\n",
      "Current generation: 2469, Current Best: 50000, not feasible\n",
      "Current generation: 2470, Current Best: 50000, not feasible\n",
      "Current generation: 2471, Current Best: 50000, not feasible\n",
      "Current generation: 2472, Current Best: 50000, not feasible\n",
      "Current generation: 2473, Current Best: 50000, not feasible\n",
      "Current generation: 2474, Current Best: 50000, not feasible\n",
      "Current generation: 2475, Current Best: 50000, not feasible\n",
      "Current generation: 2476, Current Best: 50000, not feasible\n",
      "Current generation: 2477, Current Best: 50000, not feasible\n",
      "Current generation: 2478, Current Best: 50000, not feasible\n",
      "Current generation: 2479, Current Best: 50000, not feasible\n",
      "Current generation: 2480, Current Best: 50000, not feasible\n",
      "Current generation: 2481, Current Best: 50000, not feasible\n",
      "Current generation: 2482, Current Best: 50000, not feasible\n",
      "Current generation: 2483, Current Best: 50000, not feasible\n",
      "Current generation: 2484, Current Best: 50000, not feasible\n",
      "Current generation: 2485, Current Best: 50000, not feasible\n",
      "Current generation: 2486, Current Best: 50000, not feasible\n",
      "Current generation: 2487, Current Best: 50000, not feasible\n",
      "Current generation: 2488, Current Best: 50000, not feasible\n",
      "Current generation: 2489, Current Best: 50000, not feasible\n",
      "Current generation: 2490, Current Best: 50000, not feasible\n",
      "Current generation: 2491, Current Best: 50000, not feasible\n",
      "Current generation: 2492, Current Best: 50000, not feasible\n",
      "Current generation: 2493, Current Best: 50000, not feasible\n",
      "Current generation: 2494, Current Best: 50000, not feasible\n",
      "Current generation: 2495, Current Best: 50000, not feasible\n",
      "Current generation: 2496, Current Best: 50000, not feasible\n",
      "Current generation: 2497, Current Best: 50000, not feasible\n",
      "Current generation: 2498, Current Best: 50000, not feasible\n",
      "Current generation: 2499, Current Best: 50000, not feasible\n",
      "Current generation: 2500, Current Best: 50000, not feasible\n",
      "Current generation: 2501, Current Best: 50000, not feasible\n",
      "Current generation: 2502, Current Best: 50000, not feasible\n",
      "Current generation: 2503, Current Best: 50000, not feasible\n",
      "Current generation: 2504, Current Best: 50000, not feasible\n",
      "Current generation: 2505, Current Best: 50000, not feasible\n",
      "Current generation: 2506, Current Best: 50000, not feasible\n",
      "Current generation: 2507, Current Best: 50000, not feasible\n",
      "Current generation: 2508, Current Best: 50000, not feasible\n",
      "Current generation: 2509, Current Best: 50000, not feasible\n",
      "Current generation: 2510, Current Best: 50000, not feasible\n",
      "Current generation: 2511, Current Best: 50000, not feasible\n",
      "Current generation: 2512, Current Best: 50000, not feasible\n",
      "Current generation: 2513, Current Best: 50000, not feasible\n",
      "Current generation: 2514, Current Best: 50000, not feasible\n",
      "Current generation: 2515, Current Best: 50000, not feasible\n",
      "Current generation: 2516, Current Best: 50000, not feasible\n",
      "Current generation: 2517, Current Best: 50000, not feasible\n",
      "Current generation: 2518, Current Best: 50000, not feasible\n",
      "Current generation: 2519, Current Best: 50000, not feasible\n",
      "Current generation: 2520, Current Best: 50000, not feasible\n",
      "Current generation: 2521, Current Best: 50000, not feasible\n",
      "Current generation: 2522, Current Best: 50000, not feasible\n",
      "Current generation: 2523, Current Best: 50000, not feasible\n",
      "Current generation: 2524, Current Best: 50000, not feasible\n",
      "Current generation: 2525, Current Best: 50000, not feasible\n",
      "Current generation: 2526, Current Best: 50000, not feasible\n",
      "Current generation: 2527, Current Best: 50000, not feasible\n",
      "Current generation: 2528, Current Best: 50000, not feasible\n",
      "Current generation: 2529, Current Best: 50000, not feasible\n",
      "Current generation: 2530, Current Best: 50000, not feasible\n",
      "Current generation: 2531, Current Best: 50000, not feasible\n",
      "Current generation: 2532, Current Best: 50000, not feasible\n",
      "Current generation: 2533, Current Best: 50000, not feasible\n",
      "Current generation: 2534, Current Best: 50000, not feasible\n",
      "Current generation: 2535, Current Best: 50000, not feasible\n",
      "Current generation: 2536, Current Best: 50000, not feasible\n",
      "Current generation: 2537, Current Best: 50000, not feasible\n",
      "Current generation: 2538, Current Best: 50000, not feasible\n",
      "Current generation: 2539, Current Best: 50000, not feasible\n",
      "Current generation: 2540, Current Best: 50000, not feasible\n",
      "Current generation: 2541, Current Best: 50000, not feasible\n",
      "Current generation: 2542, Current Best: 50000, not feasible\n",
      "Current generation: 2543, Current Best: 50000, not feasible\n",
      "Current generation: 2544, Current Best: 50000, not feasible\n",
      "Current generation: 2545, Current Best: 50000, not feasible\n",
      "Current generation: 2546, Current Best: 50000, not feasible\n",
      "Current generation: 2547, Current Best: 50000, not feasible\n",
      "Current generation: 2548, Current Best: 50000, not feasible\n",
      "Current generation: 2549, Current Best: 50000, not feasible\n",
      "Current generation: 2550, Current Best: 50000, not feasible\n",
      "Current generation: 2551, Current Best: 50000, not feasible\n",
      "Current generation: 2552, Current Best: 50000, not feasible\n",
      "Current generation: 2553, Current Best: 50000, not feasible\n",
      "Current generation: 2554, Current Best: 50000, not feasible\n",
      "Current generation: 2555, Current Best: 50000, not feasible\n",
      "Current generation: 2556, Current Best: 50000, not feasible\n",
      "Current generation: 2557, Current Best: 50000, not feasible\n",
      "Current generation: 2558, Current Best: 50000, not feasible\n",
      "Current generation: 2559, Current Best: 50000, not feasible\n",
      "Current generation: 2560, Current Best: 50000, not feasible\n",
      "Current generation: 2561, Current Best: 50000, not feasible\n",
      "Current generation: 2562, Current Best: 50000, not feasible\n",
      "Current generation: 2563, Current Best: 50000, not feasible\n",
      "Current generation: 2564, Current Best: 50000, not feasible\n",
      "Current generation: 2565, Current Best: 50000, not feasible\n",
      "Current generation: 2566, Current Best: 50000, not feasible\n",
      "Current generation: 2567, Current Best: 50000, not feasible\n",
      "Current generation: 2568, Current Best: 50000, not feasible\n",
      "Current generation: 2569, Current Best: 50000, not feasible\n",
      "Current generation: 2570, Current Best: 50000, not feasible\n",
      "Current generation: 2571, Current Best: 50000, not feasible\n",
      "Current generation: 2572, Current Best: 50000, not feasible\n",
      "Current generation: 2573, Current Best: 50000, not feasible\n",
      "Current generation: 2574, Current Best: 50000, not feasible\n",
      "Current generation: 2575, Current Best: 50000, not feasible\n",
      "Current generation: 2576, Current Best: 50000, not feasible\n",
      "Current generation: 2577, Current Best: 50000, not feasible\n",
      "Current generation: 2578, Current Best: 50000, not feasible\n",
      "Current generation: 2579, Current Best: 50000, not feasible\n",
      "Current generation: 2580, Current Best: 50000, not feasible\n",
      "Current generation: 2581, Current Best: 50000, not feasible\n",
      "Current generation: 2582, Current Best: 50000, not feasible\n",
      "Current generation: 2583, Current Best: 50000, not feasible\n",
      "Current generation: 2584, Current Best: 50000, not feasible\n",
      "Current generation: 2585, Current Best: 50000, not feasible\n",
      "Current generation: 2586, Current Best: 50000, not feasible\n",
      "Current generation: 2587, Current Best: 50000, not feasible\n",
      "Current generation: 2588, Current Best: 50000, not feasible\n",
      "Current generation: 2589, Current Best: 50000, not feasible\n",
      "Current generation: 2590, Current Best: 50000, not feasible\n",
      "Current generation: 2591, Current Best: 50000, not feasible\n",
      "Current generation: 2592, Current Best: 50000, not feasible\n",
      "Current generation: 2593, Current Best: 50000, not feasible\n",
      "Current generation: 2594, Current Best: 50000, not feasible\n",
      "Current generation: 2595, Current Best: 50000, not feasible\n",
      "Current generation: 2596, Current Best: 50000, not feasible\n",
      "Current generation: 2597, Current Best: 50000, not feasible\n",
      "Current generation: 2598, Current Best: 50000, not feasible\n",
      "Current generation: 2599, Current Best: 50000, not feasible\n",
      "Current generation: 2600, Current Best: 50000, not feasible\n",
      "Current generation: 2601, Current Best: 50000, not feasible\n",
      "Current generation: 2602, Current Best: 50000, not feasible\n",
      "Current generation: 2603, Current Best: 50000, not feasible\n",
      "Current generation: 2604, Current Best: 50000, not feasible\n",
      "Current generation: 2605, Current Best: 50000, not feasible\n",
      "Current generation: 2606, Current Best: 50000, not feasible\n",
      "Current generation: 2607, Current Best: 50000, not feasible\n",
      "Current generation: 2608, Current Best: 50000, not feasible\n",
      "Current generation: 2609, Current Best: 50000, not feasible\n",
      "Current generation: 2610, Current Best: 50000, not feasible\n",
      "Current generation: 2611, Current Best: 50000, not feasible\n",
      "Current generation: 2612, Current Best: 50000, not feasible\n",
      "Current generation: 2613, Current Best: 50000, not feasible\n",
      "Current generation: 2614, Current Best: 50000, not feasible\n",
      "Current generation: 2615, Current Best: 50000, not feasible\n",
      "Current generation: 2616, Current Best: 50000, not feasible\n",
      "Current generation: 2617, Current Best: 50000, not feasible\n",
      "Current generation: 2618, Current Best: 50000, not feasible\n",
      "Current generation: 2619, Current Best: 50000, not feasible\n",
      "Current generation: 2620, Current Best: 50000, not feasible\n",
      "Current generation: 2621, Current Best: 50000, not feasible\n",
      "Current generation: 2622, Current Best: 50000, not feasible\n",
      "Current generation: 2623, Current Best: 50000, not feasible\n",
      "Current generation: 2624, Current Best: 50000, not feasible\n",
      "Current generation: 2625, Current Best: 50000, not feasible\n",
      "Current generation: 2626, Current Best: 50000, not feasible\n",
      "Current generation: 2627, Current Best: 50000, not feasible\n",
      "Current generation: 2628, Current Best: 50000, not feasible\n",
      "Current generation: 2629, Current Best: 50000, not feasible\n",
      "Current generation: 2630, Current Best: 50000, not feasible\n",
      "Current generation: 2631, Current Best: 50000, not feasible\n",
      "Current generation: 2632, Current Best: 50000, not feasible\n",
      "Current generation: 2633, Current Best: 50000, not feasible\n",
      "Current generation: 2634, Current Best: 50000, not feasible\n",
      "Current generation: 2635, Current Best: 50000, not feasible\n",
      "Current generation: 2636, Current Best: 50000, not feasible\n",
      "Current generation: 2637, Current Best: 50000, not feasible\n",
      "Current generation: 2638, Current Best: 50000, not feasible\n",
      "Current generation: 2639, Current Best: 50000, not feasible\n",
      "Current generation: 2640, Current Best: 50000, not feasible\n",
      "Current generation: 2641, Current Best: 50000, not feasible\n",
      "Current generation: 2642, Current Best: 50000, not feasible\n",
      "Current generation: 2643, Current Best: 50000, not feasible\n",
      "Current generation: 2644, Current Best: 50000, not feasible\n",
      "Current generation: 2645, Current Best: 50000, not feasible\n",
      "Current generation: 2646, Current Best: 50000, not feasible\n",
      "Current generation: 2647, Current Best: 50000, not feasible\n",
      "Current generation: 2648, Current Best: 50000, not feasible\n",
      "Current generation: 2649, Current Best: 50000, not feasible\n",
      "Current generation: 2650, Current Best: 50000, not feasible\n",
      "Current generation: 2651, Current Best: 50000, not feasible\n",
      "Current generation: 2652, Current Best: 50000, not feasible\n",
      "Current generation: 2653, Current Best: 50000, not feasible\n",
      "Current generation: 2654, Current Best: 50000, not feasible\n",
      "Current generation: 2655, Current Best: 50000, not feasible\n",
      "Current generation: 2656, Current Best: 50000, not feasible\n",
      "Current generation: 2657, Current Best: 50000, not feasible\n",
      "Current generation: 2658, Current Best: 50000, not feasible\n",
      "Current generation: 2659, Current Best: 50000, not feasible\n",
      "Current generation: 2660, Current Best: 50000, not feasible\n",
      "Current generation: 2661, Current Best: 50000, not feasible\n",
      "Current generation: 2662, Current Best: 50000, not feasible\n",
      "Current generation: 2663, Current Best: 50000, not feasible\n",
      "Current generation: 2664, Current Best: 50000, not feasible\n",
      "Current generation: 2665, Current Best: 50000, not feasible\n",
      "Current generation: 2666, Current Best: 50000, not feasible\n",
      "Current generation: 2667, Current Best: 50000, not feasible\n",
      "Current generation: 2668, Current Best: 50000, not feasible\n",
      "Current generation: 2669, Current Best: 50000, not feasible\n",
      "Current generation: 2670, Current Best: 50000, not feasible\n",
      "Current generation: 2671, Current Best: 50000, not feasible\n",
      "Current generation: 2672, Current Best: 50000, not feasible\n",
      "Current generation: 2673, Current Best: 50000, not feasible\n",
      "Current generation: 2674, Current Best: 50000, not feasible\n",
      "Current generation: 2675, Current Best: 50000, not feasible\n",
      "Current generation: 2676, Current Best: 50000, not feasible\n",
      "Current generation: 2677, Current Best: 50000, not feasible\n",
      "Current generation: 2678, Current Best: 50000, not feasible\n",
      "Current generation: 2679, Current Best: 50000, not feasible\n",
      "Current generation: 2680, Current Best: 50000, not feasible\n",
      "Current generation: 2681, Current Best: 50000, not feasible\n",
      "Current generation: 2682, Current Best: 50000, not feasible\n",
      "Current generation: 2683, Current Best: 50000, not feasible\n",
      "Current generation: 2684, Current Best: 50000, not feasible\n",
      "Current generation: 2685, Current Best: 50000, not feasible\n",
      "Current generation: 2686, Current Best: 50000, not feasible\n",
      "Current generation: 2687, Current Best: 50000, not feasible\n",
      "Current generation: 2688, Current Best: 50000, not feasible\n",
      "Current generation: 2689, Current Best: 50000, not feasible\n",
      "Current generation: 2690, Current Best: 50000, not feasible\n",
      "Current generation: 2691, Current Best: 50000, not feasible\n",
      "Current generation: 2692, Current Best: 50000, not feasible\n",
      "Current generation: 2693, Current Best: 50000, not feasible\n",
      "Current generation: 2694, Current Best: 50000, not feasible\n",
      "Current generation: 2695, Current Best: 50000, not feasible\n",
      "Current generation: 2696, Current Best: 50000, not feasible\n",
      "Current generation: 2697, Current Best: 50000, not feasible\n",
      "Current generation: 2698, Current Best: 50000, not feasible\n",
      "Current generation: 2699, Current Best: 50000, not feasible\n",
      "Current generation: 2700, Current Best: 50000, not feasible\n",
      "Current generation: 2701, Current Best: 50000, not feasible\n",
      "Current generation: 2702, Current Best: 50000, not feasible\n",
      "Current generation: 2703, Current Best: 50000, not feasible\n",
      "Current generation: 2704, Current Best: 50000, not feasible\n",
      "Current generation: 2705, Current Best: 50000, not feasible\n",
      "Current generation: 2706, Current Best: 50000, not feasible\n",
      "Current generation: 2707, Current Best: 50000, not feasible\n",
      "Current generation: 2708, Current Best: 50000, not feasible\n",
      "Current generation: 2709, Current Best: 50000, not feasible\n",
      "Current generation: 2710, Current Best: 50000, not feasible\n",
      "Current generation: 2711, Current Best: 50000, not feasible\n",
      "Current generation: 2712, Current Best: 50000, not feasible\n",
      "Current generation: 2713, Current Best: 50000, not feasible\n",
      "Current generation: 2714, Current Best: 50000, not feasible\n",
      "Current generation: 2715, Current Best: 50000, not feasible\n",
      "Current generation: 2716, Current Best: 50000, not feasible\n",
      "Current generation: 2717, Current Best: 50000, not feasible\n",
      "Current generation: 2718, Current Best: 50000, not feasible\n",
      "Current generation: 2719, Current Best: 50000, not feasible\n",
      "Current generation: 2720, Current Best: 50000, not feasible\n",
      "Current generation: 2721, Current Best: 50000, not feasible\n",
      "Current generation: 2722, Current Best: 50000, not feasible\n",
      "Current generation: 2723, Current Best: 50000, not feasible\n",
      "Current generation: 2724, Current Best: 50000, not feasible\n",
      "Current generation: 2725, Current Best: 50000, not feasible\n",
      "Current generation: 2726, Current Best: 50000, not feasible\n",
      "Current generation: 2727, Current Best: 50000, not feasible\n",
      "Current generation: 2728, Current Best: 50000, not feasible\n",
      "Current generation: 2729, Current Best: 50000, not feasible\n",
      "Current generation: 2730, Current Best: 50000, not feasible\n",
      "Current generation: 2731, Current Best: 50000, not feasible\n",
      "Current generation: 2732, Current Best: 50000, not feasible\n",
      "Current generation: 2733, Current Best: 50000, not feasible\n",
      "Current generation: 2734, Current Best: 50000, not feasible\n",
      "Current generation: 2735, Current Best: 50000, not feasible\n",
      "Current generation: 2736, Current Best: 50000, not feasible\n",
      "Current generation: 2737, Current Best: 50000, not feasible\n",
      "Current generation: 2738, Current Best: 50000, not feasible\n",
      "Current generation: 2739, Current Best: 50000, not feasible\n",
      "Current generation: 2740, Current Best: 50000, not feasible\n",
      "Current generation: 2741, Current Best: 50000, not feasible\n",
      "Current generation: 2742, Current Best: 50000, not feasible\n",
      "Current generation: 2743, Current Best: 50000, not feasible\n",
      "Current generation: 2744, Current Best: 50000, not feasible\n",
      "Current generation: 2745, Current Best: 50000, not feasible\n",
      "Current generation: 2746, Current Best: 50000, not feasible\n",
      "Current generation: 2747, Current Best: 50000, not feasible\n",
      "Current generation: 2748, Current Best: 50000, not feasible\n",
      "Current generation: 2749, Current Best: 50000, not feasible\n",
      "Current generation: 2750, Current Best: 50000, not feasible\n",
      "Current generation: 2751, Current Best: 50000, not feasible\n",
      "Current generation: 2752, Current Best: 50000, not feasible\n",
      "Current generation: 2753, Current Best: 50000, not feasible\n",
      "Current generation: 2754, Current Best: 50000, not feasible\n",
      "Current generation: 2755, Current Best: 50000, not feasible\n",
      "Current generation: 2756, Current Best: 50000, not feasible\n",
      "Current generation: 2757, Current Best: 50000, not feasible\n",
      "Current generation: 2758, Current Best: 50000, not feasible\n",
      "Current generation: 2759, Current Best: 50000, not feasible\n",
      "Current generation: 2760, Current Best: 50000, not feasible\n",
      "Current generation: 2761, Current Best: 50000, not feasible\n",
      "Current generation: 2762, Current Best: 50000, not feasible\n",
      "Current generation: 2763, Current Best: 50000, not feasible\n",
      "Current generation: 2764, Current Best: 50000, not feasible\n",
      "Current generation: 2765, Current Best: 50000, not feasible\n",
      "Current generation: 2766, Current Best: 50000, not feasible\n",
      "Current generation: 2767, Current Best: 50000, not feasible\n",
      "Current generation: 2768, Current Best: 50000, not feasible\n",
      "Current generation: 2769, Current Best: 50000, not feasible\n",
      "Current generation: 2770, Current Best: 50000, not feasible\n",
      "Current generation: 2771, Current Best: 50000, not feasible\n",
      "Current generation: 2772, Current Best: 50000, not feasible\n",
      "Current generation: 2773, Current Best: 50000, not feasible\n",
      "Current generation: 2774, Current Best: 50000, not feasible\n",
      "Current generation: 2775, Current Best: 50000, not feasible\n",
      "Current generation: 2776, Current Best: 50000, not feasible\n",
      "Current generation: 2777, Current Best: 50000, not feasible\n",
      "Current generation: 2778, Current Best: 50000, not feasible\n",
      "Current generation: 2779, Current Best: 50000, not feasible\n",
      "Current generation: 2780, Current Best: 50000, not feasible\n",
      "Current generation: 2781, Current Best: 50000, not feasible\n",
      "Current generation: 2782, Current Best: 50000, not feasible\n",
      "Current generation: 2783, Current Best: 50000, not feasible\n",
      "Current generation: 2784, Current Best: 50000, not feasible\n",
      "Current generation: 2785, Current Best: 50000, not feasible\n",
      "Current generation: 2786, Current Best: 50000, not feasible\n",
      "Current generation: 2787, Current Best: 50000, not feasible\n",
      "Current generation: 2788, Current Best: 50000, not feasible\n",
      "Current generation: 2789, Current Best: 50000, not feasible\n",
      "Current generation: 2790, Current Best: 50000, not feasible\n",
      "Current generation: 2791, Current Best: 50000, not feasible\n",
      "Current generation: 2792, Current Best: 50000, not feasible\n",
      "Current generation: 2793, Current Best: 50000, not feasible\n",
      "Current generation: 2794, Current Best: 50000, not feasible\n",
      "Current generation: 2795, Current Best: 50000, not feasible\n",
      "Current generation: 2796, Current Best: 50000, not feasible\n",
      "Current generation: 2797, Current Best: 50000, not feasible\n",
      "Current generation: 2798, Current Best: 50000, not feasible\n",
      "Current generation: 2799, Current Best: 50000, not feasible\n",
      "Current generation: 2800, Current Best: 50000, not feasible\n",
      "Current generation: 2801, Current Best: 50000, not feasible\n",
      "Current generation: 2802, Current Best: 50000, not feasible\n",
      "Current generation: 2803, Current Best: 50000, not feasible\n",
      "Current generation: 2804, Current Best: 50000, not feasible\n",
      "Current generation: 2805, Current Best: 50000, not feasible\n",
      "Current generation: 2806, Current Best: 50000, not feasible\n",
      "Current generation: 2807, Current Best: 50000, not feasible\n",
      "Current generation: 2808, Current Best: 50000, not feasible\n",
      "Current generation: 2809, Current Best: 50000, not feasible\n",
      "Current generation: 2810, Current Best: 50000, not feasible\n",
      "Current generation: 2811, Current Best: 50000, not feasible\n",
      "Current generation: 2812, Current Best: 50000, not feasible\n",
      "Current generation: 2813, Current Best: 50000, not feasible\n",
      "Current generation: 2814, Current Best: 50000, not feasible\n",
      "Current generation: 2815, Current Best: 50000, not feasible\n",
      "Current generation: 2816, Current Best: 50000, not feasible\n",
      "Current generation: 2817, Current Best: 50000, not feasible\n",
      "Current generation: 2818, Current Best: 50000, not feasible\n",
      "Current generation: 2819, Current Best: 50000, not feasible\n",
      "Current generation: 2820, Current Best: 50000, not feasible\n",
      "Current generation: 2821, Current Best: 50000, not feasible\n",
      "Current generation: 2822, Current Best: 50000, not feasible\n",
      "Current generation: 2823, Current Best: 50000, not feasible\n",
      "Current generation: 2824, Current Best: 50000, not feasible\n",
      "Current generation: 2825, Current Best: 50000, not feasible\n",
      "Current generation: 2826, Current Best: 50000, not feasible\n",
      "Current generation: 2827, Current Best: 50000, not feasible\n",
      "Current generation: 2828, Current Best: 50000, not feasible\n",
      "Current generation: 2829, Current Best: 50000, not feasible\n",
      "Current generation: 2830, Current Best: 50000, not feasible\n",
      "Current generation: 2831, Current Best: 50000, not feasible\n",
      "Current generation: 2832, Current Best: 50000, not feasible\n",
      "Current generation: 2833, Current Best: 50000, not feasible\n",
      "Current generation: 2834, Current Best: 50000, not feasible\n",
      "Current generation: 2835, Current Best: 50000, not feasible\n",
      "Current generation: 2836, Current Best: 50000, not feasible\n",
      "Current generation: 2837, Current Best: 50000, not feasible\n",
      "Current generation: 2838, Current Best: 50000, not feasible\n",
      "Current generation: 2839, Current Best: 50000, not feasible\n",
      "Current generation: 2840, Current Best: 50000, not feasible\n",
      "Current generation: 2841, Current Best: 50000, not feasible\n",
      "Current generation: 2842, Current Best: 50000, not feasible\n",
      "Current generation: 2843, Current Best: 50000, not feasible\n",
      "Current generation: 2844, Current Best: 50000, not feasible\n",
      "Current generation: 2845, Current Best: 50000, not feasible\n",
      "Current generation: 2846, Current Best: 50000, not feasible\n",
      "Current generation: 2847, Current Best: 50000, not feasible\n",
      "Current generation: 2848, Current Best: 50000, not feasible\n",
      "Current generation: 2849, Current Best: 50000, not feasible\n",
      "Current generation: 2850, Current Best: 50000, not feasible\n",
      "Current generation: 2851, Current Best: 50000, not feasible\n",
      "Current generation: 2852, Current Best: 50000, not feasible\n",
      "Current generation: 2853, Current Best: 50000, not feasible\n",
      "Current generation: 2854, Current Best: 50000, not feasible\n",
      "Current generation: 2855, Current Best: 50000, not feasible\n",
      "Current generation: 2856, Current Best: 50000, not feasible\n",
      "Current generation: 2857, Current Best: 50000, not feasible\n",
      "Current generation: 2858, Current Best: 50000, not feasible\n",
      "Current generation: 2859, Current Best: 50000, not feasible\n",
      "Current generation: 2860, Current Best: 50000, not feasible\n",
      "Current generation: 2861, Current Best: 50000, not feasible\n",
      "Current generation: 2862, Current Best: 50000, not feasible\n",
      "Current generation: 2863, Current Best: 50000, not feasible\n",
      "Current generation: 2864, Current Best: 50000, not feasible\n",
      "Current generation: 2865, Current Best: 50000, not feasible\n",
      "Current generation: 2866, Current Best: 50000, not feasible\n",
      "Current generation: 2867, Current Best: 50000, not feasible\n",
      "Current generation: 2868, Current Best: 50000, not feasible\n",
      "Current generation: 2869, Current Best: 50000, not feasible\n",
      "Current generation: 2870, Current Best: 50000, not feasible\n",
      "Current generation: 2871, Current Best: 50000, not feasible\n",
      "Current generation: 2872, Current Best: 50000, not feasible\n",
      "Current generation: 2873, Current Best: 50000, not feasible\n",
      "Current generation: 2874, Current Best: 50000, not feasible\n",
      "Current generation: 2875, Current Best: 50000, not feasible\n",
      "Current generation: 2876, Current Best: 50000, not feasible\n",
      "Current generation: 2877, Current Best: 50000, not feasible\n",
      "Current generation: 2878, Current Best: 50000, not feasible\n",
      "Current generation: 2879, Current Best: 50000, not feasible\n",
      "Current generation: 2880, Current Best: 50000, not feasible\n",
      "Current generation: 2881, Current Best: 50000, not feasible\n",
      "Current generation: 2882, Current Best: 50000, not feasible\n",
      "Current generation: 2883, Current Best: 50000, not feasible\n",
      "Current generation: 2884, Current Best: 50000, not feasible\n",
      "Current generation: 2885, Current Best: 50000, not feasible\n",
      "Current generation: 2886, Current Best: 50000, not feasible\n",
      "Current generation: 2887, Current Best: 50000, not feasible\n",
      "Current generation: 2888, Current Best: 50000, not feasible\n",
      "Current generation: 2889, Current Best: 50000, not feasible\n",
      "Current generation: 2890, Current Best: 50000, not feasible\n",
      "Current generation: 2891, Current Best: 50000, not feasible\n",
      "Current generation: 2892, Current Best: 50000, not feasible\n",
      "Current generation: 2893, Current Best: 50000, not feasible\n",
      "Current generation: 2894, Current Best: 50000, not feasible\n",
      "Current generation: 2895, Current Best: 50000, not feasible\n",
      "Current generation: 2896, Current Best: 50000, not feasible\n",
      "Current generation: 2897, Current Best: 50000, not feasible\n",
      "Current generation: 2898, Current Best: 50000, not feasible\n",
      "Current generation: 2899, Current Best: 50000, not feasible\n",
      "Current generation: 2900, Current Best: 50000, not feasible\n",
      "Current generation: 2901, Current Best: 50000, not feasible\n",
      "Current generation: 2902, Current Best: 50000, not feasible\n",
      "Current generation: 2903, Current Best: 50000, not feasible\n",
      "Current generation: 2904, Current Best: 50000, not feasible\n",
      "Current generation: 2905, Current Best: 50000, not feasible\n",
      "Current generation: 2906, Current Best: 50000, not feasible\n",
      "Current generation: 2907, Current Best: 50000, not feasible\n",
      "Current generation: 2908, Current Best: 50000, not feasible\n",
      "Current generation: 2909, Current Best: 50000, not feasible\n",
      "Current generation: 2910, Current Best: 50000, not feasible\n",
      "Current generation: 2911, Current Best: 50000, not feasible\n",
      "Current generation: 2912, Current Best: 50000, not feasible\n",
      "Current generation: 2913, Current Best: 50000, not feasible\n",
      "Current generation: 2914, Current Best: 50000, not feasible\n",
      "Current generation: 2915, Current Best: 50000, not feasible\n",
      "Current generation: 2916, Current Best: 50000, not feasible\n",
      "Current generation: 2917, Current Best: 50000, not feasible\n",
      "Current generation: 2918, Current Best: 50000, not feasible\n",
      "Current generation: 2919, Current Best: 50000, not feasible\n",
      "Current generation: 2920, Current Best: 50000, not feasible\n",
      "Current generation: 2921, Current Best: 50000, not feasible\n",
      "Current generation: 2922, Current Best: 50000, not feasible\n",
      "Current generation: 2923, Current Best: 50000, not feasible\n",
      "Current generation: 2924, Current Best: 50000, not feasible\n",
      "Current generation: 2925, Current Best: 50000, not feasible\n",
      "Current generation: 2926, Current Best: 50000, not feasible\n",
      "Current generation: 2927, Current Best: 50000, not feasible\n",
      "Current generation: 2928, Current Best: 50000, not feasible\n",
      "Current generation: 2929, Current Best: 50000, not feasible\n",
      "Current generation: 2930, Current Best: 50000, not feasible\n",
      "Current generation: 2931, Current Best: 50000, not feasible\n",
      "Current generation: 2932, Current Best: 50000, not feasible\n",
      "Current generation: 2933, Current Best: 50000, not feasible\n",
      "Current generation: 2934, Current Best: 50000, not feasible\n",
      "Current generation: 2935, Current Best: 50000, not feasible\n",
      "Current generation: 2936, Current Best: 50000, not feasible\n",
      "Current generation: 2937, Current Best: 50000, not feasible\n",
      "Current generation: 2938, Current Best: 50000, not feasible\n",
      "Current generation: 2939, Current Best: 50000, not feasible\n",
      "Current generation: 2940, Current Best: 50000, not feasible\n",
      "Current generation: 2941, Current Best: 50000, not feasible\n",
      "Current generation: 2942, Current Best: 50000, not feasible\n",
      "Current generation: 2943, Current Best: 50000, not feasible\n",
      "Current generation: 2944, Current Best: 50000, not feasible\n",
      "Current generation: 2945, Current Best: 50000, not feasible\n",
      "Current generation: 2946, Current Best: 50000, not feasible\n",
      "Current generation: 2947, Current Best: 50000, not feasible\n",
      "Current generation: 2948, Current Best: 50000, not feasible\n",
      "Current generation: 2949, Current Best: 50000, not feasible\n",
      "Current generation: 2950, Current Best: 50000, not feasible\n",
      "Current generation: 2951, Current Best: 50000, not feasible\n",
      "Current generation: 2952, Current Best: 50000, not feasible\n",
      "Current generation: 2953, Current Best: 50000, not feasible\n",
      "Current generation: 2954, Current Best: 50000, not feasible\n",
      "Current generation: 2955, Current Best: 50000, not feasible\n",
      "Current generation: 2956, Current Best: 50000, not feasible\n",
      "Current generation: 2957, Current Best: 50000, not feasible\n",
      "Current generation: 2958, Current Best: 50000, not feasible\n",
      "Current generation: 2959, Current Best: 50000, not feasible\n",
      "Current generation: 2960, Current Best: 50000, not feasible\n",
      "Current generation: 2961, Current Best: 50000, not feasible\n",
      "Current generation: 2962, Current Best: 50000, not feasible\n",
      "Current generation: 2963, Current Best: 50000, not feasible\n",
      "Current generation: 2964, Current Best: 50000, not feasible\n",
      "Current generation: 2965, Current Best: 50000, not feasible\n",
      "Current generation: 2966, Current Best: 50000, not feasible\n",
      "Current generation: 2967, Current Best: 50000, not feasible\n",
      "Current generation: 2968, Current Best: 50000, not feasible\n",
      "Current generation: 2969, Current Best: 50000, not feasible\n",
      "Current generation: 2970, Current Best: 50000, not feasible\n",
      "Current generation: 2971, Current Best: 50000, not feasible\n",
      "Current generation: 2972, Current Best: 50000, not feasible\n",
      "Current generation: 2973, Current Best: 50000, not feasible\n",
      "Current generation: 2974, Current Best: 50000, not feasible\n",
      "Current generation: 2975, Current Best: 50000, not feasible\n",
      "Current generation: 2976, Current Best: 50000, not feasible\n",
      "Current generation: 2977, Current Best: 50000, not feasible\n",
      "Current generation: 2978, Current Best: 50000, not feasible\n",
      "Current generation: 2979, Current Best: 50000, not feasible\n",
      "Current generation: 2980, Current Best: 50000, not feasible\n",
      "Current generation: 2981, Current Best: 50000, not feasible\n",
      "Current generation: 2982, Current Best: 50000, not feasible\n",
      "Current generation: 2983, Current Best: 50000, not feasible\n",
      "Current generation: 2984, Current Best: 50000, not feasible\n",
      "Current generation: 2985, Current Best: 50000, not feasible\n",
      "Current generation: 2986, Current Best: 50000, not feasible\n",
      "Current generation: 2987, Current Best: 50000, not feasible\n",
      "Current generation: 2988, Current Best: 50000, not feasible\n",
      "Current generation: 2989, Current Best: 50000, not feasible\n",
      "Current generation: 2990, Current Best: 50000, not feasible\n",
      "Current generation: 2991, Current Best: 50000, not feasible\n",
      "Current generation: 2992, Current Best: 50000, not feasible\n",
      "Current generation: 2993, Current Best: 50000, not feasible\n",
      "Current generation: 2994, Current Best: 50000, not feasible\n",
      "Current generation: 2995, Current Best: 50000, not feasible\n",
      "Current generation: 2996, Current Best: 50000, not feasible\n",
      "Current generation: 2997, Current Best: 50000, not feasible\n",
      "Current generation: 2998, Current Best: 50000, not feasible\n",
      "Current generation: 2999, Current Best: 50000, not feasible\n",
      "Current generation: 3000, Current Best: 50000, not feasible\n",
      "Current generation: 3001, Current Best: 50000, not feasible\n",
      "Current generation: 3002, Current Best: 50000, not feasible\n",
      "Current generation: 3003, Current Best: 50000, not feasible\n",
      "Current generation: 3004, Current Best: 50000, not feasible\n",
      "Current generation: 3005, Current Best: 50000, not feasible\n",
      "Current generation: 3006, Current Best: 50000, not feasible\n",
      "Current generation: 3007, Current Best: 50000, not feasible\n",
      "Current generation: 3008, Current Best: 50000, not feasible\n",
      "Current generation: 3009, Current Best: 50000, not feasible\n",
      "Current generation: 3010, Current Best: 50000, not feasible\n",
      "Current generation: 3011, Current Best: 50000, not feasible\n",
      "Current generation: 3012, Current Best: 50000, not feasible\n",
      "Current generation: 3013, Current Best: 50000, not feasible\n",
      "Current generation: 3014, Current Best: 50000, not feasible\n",
      "Current generation: 3015, Current Best: 50000, not feasible\n",
      "Current generation: 3016, Current Best: 50000, not feasible\n",
      "Current generation: 3017, Current Best: 50000, not feasible\n",
      "Current generation: 3018, Current Best: 50000, not feasible\n",
      "Current generation: 3019, Current Best: 50000, not feasible\n",
      "Current generation: 3020, Current Best: 50000, not feasible\n",
      "Current generation: 3021, Current Best: 50000, not feasible\n",
      "Current generation: 3022, Current Best: 50000, not feasible\n",
      "Current generation: 3023, Current Best: 50000, not feasible\n",
      "Current generation: 3024, Current Best: 50000, not feasible\n",
      "Current generation: 3025, Current Best: 50000, not feasible\n",
      "Current generation: 3026, Current Best: 50000, not feasible\n",
      "Current generation: 3027, Current Best: 50000, not feasible\n",
      "Current generation: 3028, Current Best: 50000, not feasible\n",
      "Current generation: 3029, Current Best: 50000, not feasible\n",
      "Current generation: 3030, Current Best: 50000, not feasible\n",
      "Current generation: 3031, Current Best: 50000, not feasible\n",
      "Current generation: 3032, Current Best: 50000, not feasible\n",
      "Current generation: 3033, Current Best: 50000, not feasible\n",
      "Current generation: 3034, Current Best: 50000, not feasible\n",
      "Current generation: 3035, Current Best: 50000, not feasible\n",
      "Current generation: 3036, Current Best: 50000, not feasible\n",
      "Current generation: 3037, Current Best: 50000, not feasible\n",
      "Current generation: 3038, Current Best: 50000, not feasible\n",
      "Current generation: 3039, Current Best: 50000, not feasible\n",
      "Current generation: 3040, Current Best: 50000, not feasible\n",
      "Current generation: 3041, Current Best: 50000, not feasible\n",
      "Current generation: 3042, Current Best: 50000, not feasible\n",
      "Current generation: 3043, Current Best: 50000, not feasible\n",
      "Current generation: 3044, Current Best: 50000, not feasible\n",
      "Current generation: 3045, Current Best: 50000, not feasible\n",
      "Current generation: 3046, Current Best: 50000, not feasible\n",
      "Current generation: 3047, Current Best: 50000, not feasible\n",
      "Current generation: 3048, Current Best: 50000, not feasible\n",
      "Current generation: 3049, Current Best: 50000, not feasible\n",
      "Current generation: 3050, Current Best: 50000, not feasible\n",
      "Current generation: 3051, Current Best: 50000, not feasible\n",
      "Current generation: 3052, Current Best: 50000, not feasible\n",
      "Current generation: 3053, Current Best: 50000, not feasible\n",
      "Current generation: 3054, Current Best: 50000, not feasible\n",
      "Current generation: 3055, Current Best: 50000, not feasible\n",
      "Current generation: 3056, Current Best: 50000, not feasible\n",
      "Current generation: 3057, Current Best: 50000, not feasible\n",
      "Current generation: 3058, Current Best: 50000, not feasible\n",
      "Current generation: 3059, Current Best: 50000, not feasible\n",
      "Current generation: 3060, Current Best: 50000, not feasible\n",
      "Current generation: 3061, Current Best: 50000, not feasible\n",
      "Current generation: 3062, Current Best: 50000, not feasible\n",
      "Current generation: 3063, Current Best: 50000, not feasible\n",
      "Current generation: 3064, Current Best: 50000, not feasible\n",
      "Current generation: 3065, Current Best: 50000, not feasible\n",
      "Current generation: 3066, Current Best: 50000, not feasible\n",
      "Current generation: 3067, Current Best: 50000, not feasible\n",
      "Current generation: 3068, Current Best: 50000, not feasible\n",
      "Current generation: 3069, Current Best: 50000, not feasible\n",
      "Current generation: 3070, Current Best: 50000, not feasible\n",
      "Current generation: 3071, Current Best: 50000, not feasible\n",
      "Current generation: 3072, Current Best: 50000, not feasible\n",
      "Current generation: 3073, Current Best: 50000, not feasible\n",
      "Current generation: 3074, Current Best: 50000, not feasible\n",
      "Current generation: 3075, Current Best: 50000, not feasible\n",
      "Current generation: 3076, Current Best: 50000, not feasible\n",
      "Current generation: 3077, Current Best: 50000, not feasible\n",
      "Current generation: 3078, Current Best: 50000, not feasible\n",
      "Current generation: 3079, Current Best: 50000, not feasible\n",
      "Current generation: 3080, Current Best: 50000, not feasible\n",
      "Current generation: 3081, Current Best: 50000, not feasible\n",
      "Current generation: 3082, Current Best: 50000, not feasible\n",
      "Current generation: 3083, Current Best: 50000, not feasible\n",
      "Current generation: 3084, Current Best: 50000, not feasible\n",
      "Current generation: 3085, Current Best: 50000, not feasible\n",
      "Current generation: 3086, Current Best: 50000, not feasible\n",
      "Current generation: 3087, Current Best: 50000, not feasible\n",
      "Current generation: 3088, Current Best: 50000, not feasible\n",
      "Current generation: 3089, Current Best: 50000, not feasible\n",
      "Current generation: 3090, Current Best: 50000, not feasible\n",
      "Current generation: 3091, Current Best: 50000, not feasible\n",
      "Current generation: 3092, Current Best: 50000, not feasible\n",
      "Current generation: 3093, Current Best: 50000, not feasible\n",
      "Current generation: 3094, Current Best: 50000, not feasible\n",
      "Current generation: 3095, Current Best: 50000, not feasible\n",
      "Current generation: 3096, Current Best: 50000, not feasible\n",
      "Current generation: 3097, Current Best: 50000, not feasible\n",
      "Current generation: 3098, Current Best: 50000, not feasible\n",
      "Current generation: 3099, Current Best: 50000, not feasible\n",
      "Current generation: 3100, Current Best: 50000, not feasible\n",
      "Current generation: 3101, Current Best: 50000, not feasible\n",
      "Current generation: 3102, Current Best: 50000, not feasible\n",
      "Current generation: 3103, Current Best: 50000, not feasible\n",
      "Current generation: 3104, Current Best: 50000, not feasible\n",
      "Current generation: 3105, Current Best: 50000, not feasible\n",
      "Current generation: 3106, Current Best: 50000, not feasible\n",
      "Current generation: 3107, Current Best: 50000, not feasible\n",
      "Current generation: 3108, Current Best: 50000, not feasible\n",
      "Current generation: 3109, Current Best: 50000, not feasible\n",
      "Current generation: 3110, Current Best: 50000, not feasible\n",
      "Current generation: 3111, Current Best: 50000, not feasible\n",
      "Current generation: 3112, Current Best: 50000, not feasible\n",
      "Current generation: 3113, Current Best: 50000, not feasible\n",
      "Current generation: 3114, Current Best: 50000, not feasible\n",
      "Current generation: 3115, Current Best: 50000, not feasible\n",
      "Current generation: 3116, Current Best: 50000, not feasible\n",
      "Current generation: 3117, Current Best: 50000, not feasible\n",
      "Current generation: 3118, Current Best: 50000, not feasible\n",
      "Current generation: 3119, Current Best: 50000, not feasible\n",
      "Current generation: 3120, Current Best: 50000, not feasible\n",
      "Current generation: 3121, Current Best: 50000, not feasible\n",
      "Current generation: 3122, Current Best: 50000, not feasible\n",
      "Current generation: 3123, Current Best: 50000, not feasible\n",
      "Current generation: 3124, Current Best: 50000, not feasible\n",
      "Current generation: 3125, Current Best: 50000, not feasible\n",
      "Current generation: 3126, Current Best: 50000, not feasible\n",
      "Current generation: 3127, Current Best: 50000, not feasible\n",
      "Current generation: 3128, Current Best: 50000, not feasible\n",
      "Current generation: 3129, Current Best: 50000, not feasible\n",
      "Current generation: 3130, Current Best: 50000, not feasible\n",
      "Current generation: 3131, Current Best: 50000, not feasible\n",
      "Current generation: 3132, Current Best: 50000, not feasible\n",
      "Current generation: 3133, Current Best: 50000, not feasible\n",
      "Current generation: 3134, Current Best: 50000, not feasible\n",
      "Current generation: 3135, Current Best: 50000, not feasible\n",
      "Current generation: 3136, Current Best: 50000, not feasible\n",
      "Current generation: 3137, Current Best: 50000, not feasible\n",
      "Current generation: 3138, Current Best: 50000, not feasible\n",
      "Current generation: 3139, Current Best: 50000, not feasible\n",
      "Current generation: 3140, Current Best: 50000, not feasible\n",
      "Current generation: 3141, Current Best: 50000, not feasible\n",
      "Current generation: 3142, Current Best: 50000, not feasible\n",
      "Current generation: 3143, Current Best: 50000, not feasible\n",
      "Current generation: 3144, Current Best: 50000, not feasible\n",
      "Current generation: 3145, Current Best: 50000, not feasible\n",
      "Current generation: 3146, Current Best: 50000, not feasible\n",
      "Current generation: 3147, Current Best: 50000, not feasible\n",
      "Current generation: 3148, Current Best: 50000, not feasible\n",
      "Current generation: 3149, Current Best: 50000, not feasible\n",
      "Current generation: 3150, Current Best: 50000, not feasible\n",
      "Current generation: 3151, Current Best: 50000, not feasible\n",
      "Current generation: 3152, Current Best: 50000, not feasible\n",
      "Current generation: 3153, Current Best: 50000, not feasible\n",
      "Current generation: 3154, Current Best: 50000, not feasible\n",
      "Current generation: 3155, Current Best: 50000, not feasible\n",
      "Current generation: 3156, Current Best: 50000, not feasible\n",
      "Current generation: 3157, Current Best: 50000, not feasible\n",
      "Current generation: 3158, Current Best: 50000, not feasible\n",
      "Current generation: 3159, Current Best: 50000, not feasible\n",
      "Current generation: 3160, Current Best: 50000, not feasible\n",
      "Current generation: 3161, Current Best: 50000, not feasible\n",
      "Current generation: 3162, Current Best: 50000, not feasible\n",
      "Current generation: 3163, Current Best: 50000, not feasible\n",
      "Current generation: 3164, Current Best: 50000, not feasible\n",
      "Current generation: 3165, Current Best: 50000, not feasible\n",
      "Current generation: 3166, Current Best: 50000, not feasible\n",
      "Current generation: 3167, Current Best: 50000, not feasible\n",
      "Current generation: 3168, Current Best: 50000, not feasible\n",
      "Current generation: 3169, Current Best: 50000, not feasible\n",
      "Current generation: 3170, Current Best: 50000, not feasible\n",
      "Current generation: 3171, Current Best: 50000, not feasible\n",
      "Current generation: 3172, Current Best: 50000, not feasible\n",
      "Current generation: 3173, Current Best: 50000, not feasible\n",
      "Current generation: 3174, Current Best: 50000, not feasible\n",
      "Current generation: 3175, Current Best: 50000, not feasible\n",
      "Current generation: 3176, Current Best: 50000, not feasible\n",
      "Current generation: 3177, Current Best: 50000, not feasible\n",
      "Current generation: 3178, Current Best: 50000, not feasible\n",
      "Current generation: 3179, Current Best: 50000, not feasible\n",
      "Current generation: 3180, Current Best: 50000, not feasible\n",
      "Current generation: 3181, Current Best: 50000, not feasible\n",
      "Current generation: 3182, Current Best: 50000, not feasible\n",
      "Current generation: 3183, Current Best: 50000, not feasible\n",
      "Current generation: 3184, Current Best: 50000, not feasible\n",
      "Current generation: 3185, Current Best: 50000, not feasible\n",
      "Current generation: 3186, Current Best: 50000, not feasible\n",
      "Current generation: 3187, Current Best: 50000, not feasible\n",
      "Current generation: 3188, Current Best: 50000, not feasible\n",
      "Current generation: 3189, Current Best: 50000, not feasible\n",
      "Current generation: 3190, Current Best: 50000, not feasible\n",
      "Current generation: 3191, Current Best: 50000, not feasible\n",
      "Current generation: 3192, Current Best: 50000, not feasible\n",
      "Current generation: 3193, Current Best: 50000, not feasible\n",
      "Current generation: 3194, Current Best: 50000, not feasible\n",
      "Current generation: 3195, Current Best: 50000, not feasible\n",
      "Current generation: 3196, Current Best: 50000, not feasible\n",
      "Current generation: 3197, Current Best: 50000, not feasible\n",
      "Current generation: 3198, Current Best: 50000, not feasible\n",
      "Current generation: 3199, Current Best: 50000, not feasible\n",
      "Current generation: 3200, Current Best: 50000, not feasible\n",
      "Current generation: 3201, Current Best: 50000, not feasible\n",
      "Current generation: 3202, Current Best: 50000, not feasible\n",
      "Current generation: 3203, Current Best: 50000, not feasible\n",
      "Current generation: 3204, Current Best: 50000, not feasible\n",
      "Current generation: 3205, Current Best: 50000, not feasible\n",
      "Current generation: 3206, Current Best: 50000, not feasible\n",
      "Current generation: 3207, Current Best: 50000, not feasible\n",
      "Current generation: 3208, Current Best: 50000, not feasible\n",
      "Current generation: 3209, Current Best: 50000, not feasible\n",
      "Current generation: 3210, Current Best: 50000, not feasible\n",
      "Current generation: 3211, Current Best: 50000, not feasible\n",
      "Current generation: 3212, Current Best: 50000, not feasible\n",
      "Current generation: 3213, Current Best: 50000, not feasible\n",
      "Current generation: 3214, Current Best: 50000, not feasible\n",
      "Current generation: 3215, Current Best: 50000, not feasible\n",
      "Current generation: 3216, Current Best: 50000, not feasible\n",
      "Current generation: 3217, Current Best: 50000, not feasible\n",
      "Current generation: 3218, Current Best: 50000, not feasible\n",
      "Current generation: 3219, Current Best: 50000, not feasible\n",
      "Current generation: 3220, Current Best: 50000, not feasible\n",
      "Current generation: 3221, Current Best: 50000, not feasible\n",
      "Current generation: 3222, Current Best: 50000, not feasible\n",
      "Current generation: 3223, Current Best: 50000, not feasible\n",
      "Current generation: 3224, Current Best: 50000, not feasible\n",
      "Current generation: 3225, Current Best: 50000, not feasible\n",
      "Current generation: 3226, Current Best: 50000, not feasible\n",
      "Current generation: 3227, Current Best: 50000, not feasible\n",
      "Current generation: 3228, Current Best: 50000, not feasible\n",
      "Current generation: 3229, Current Best: 50000, not feasible\n",
      "Current generation: 3230, Current Best: 50000, not feasible\n",
      "Current generation: 3231, Current Best: 50000, not feasible\n",
      "Current generation: 3232, Current Best: 50000, not feasible\n",
      "Current generation: 3233, Current Best: 50000, not feasible\n",
      "Current generation: 3234, Current Best: 50000, not feasible\n",
      "Current generation: 3235, Current Best: 50000, not feasible\n",
      "Current generation: 3236, Current Best: 50000, not feasible\n",
      "Current generation: 3237, Current Best: 50000, not feasible\n",
      "Current generation: 3238, Current Best: 50000, not feasible\n",
      "Current generation: 3239, Current Best: 50000, not feasible\n",
      "Current generation: 3240, Current Best: 50000, not feasible\n",
      "Current generation: 3241, Current Best: 50000, not feasible\n",
      "Current generation: 3242, Current Best: 50000, not feasible\n",
      "Current generation: 3243, Current Best: 50000, not feasible\n",
      "Current generation: 3244, Current Best: 50000, not feasible\n",
      "Current generation: 3245, Current Best: 50000, not feasible\n",
      "Current generation: 3246, Current Best: 50000, not feasible\n",
      "Current generation: 3247, Current Best: 50000, not feasible\n",
      "Current generation: 3248, Current Best: 50000, not feasible\n",
      "Current generation: 3249, Current Best: 50000, not feasible\n",
      "Current generation: 3250, Current Best: 50000, not feasible\n",
      "Current generation: 3251, Current Best: 50000, not feasible\n",
      "Current generation: 3252, Current Best: 50000, not feasible\n",
      "Current generation: 3253, Current Best: 50000, not feasible\n",
      "Current generation: 3254, Current Best: 50000, not feasible\n",
      "Current generation: 3255, Current Best: 50000, not feasible\n",
      "Current generation: 3256, Current Best: 50000, not feasible\n",
      "Current generation: 3257, Current Best: 50000, not feasible\n",
      "Current generation: 3258, Current Best: 50000, not feasible\n",
      "Current generation: 3259, Current Best: 50000, not feasible\n",
      "Current generation: 3260, Current Best: 50000, not feasible\n",
      "Current generation: 3261, Current Best: 50000, not feasible\n",
      "Current generation: 3262, Current Best: 50000, not feasible\n",
      "Current generation: 3263, Current Best: 50000, not feasible\n",
      "Current generation: 3264, Current Best: 50000, not feasible\n",
      "Current generation: 3265, Current Best: 50000, not feasible\n",
      "Current generation: 3266, Current Best: 50000, not feasible\n",
      "Current generation: 3267, Current Best: 50000, not feasible\n",
      "Current generation: 3268, Current Best: 50000, not feasible\n",
      "Current generation: 3269, Current Best: 50000, not feasible\n",
      "Current generation: 3270, Current Best: 50000, not feasible\n",
      "Current generation: 3271, Current Best: 50000, not feasible\n",
      "Current generation: 3272, Current Best: 50000, not feasible\n",
      "Current generation: 3273, Current Best: 50000, not feasible\n",
      "Current generation: 3274, Current Best: 50000, not feasible\n",
      "Current generation: 3275, Current Best: 50000, not feasible\n",
      "Current generation: 3276, Current Best: 50000, not feasible\n",
      "Current generation: 3277, Current Best: 50000, not feasible\n",
      "Current generation: 3278, Current Best: 50000, not feasible\n",
      "Current generation: 3279, Current Best: 50000, not feasible\n",
      "Current generation: 3280, Current Best: 50000, not feasible\n",
      "Current generation: 3281, Current Best: 50000, not feasible\n",
      "Current generation: 3282, Current Best: 50000, not feasible\n",
      "Current generation: 3283, Current Best: 50000, not feasible\n",
      "Current generation: 3284, Current Best: 50000, not feasible\n",
      "Current generation: 3285, Current Best: 50000, not feasible\n",
      "Current generation: 3286, Current Best: 50000, not feasible\n",
      "Current generation: 3287, Current Best: 50000, not feasible\n",
      "Current generation: 3288, Current Best: 50000, not feasible\n",
      "Current generation: 3289, Current Best: 50000, not feasible\n",
      "Current generation: 3290, Current Best: 50000, not feasible\n",
      "Current generation: 3291, Current Best: 50000, not feasible\n",
      "Current generation: 3292, Current Best: 50000, not feasible\n",
      "Current generation: 3293, Current Best: 50000, not feasible\n",
      "Current generation: 3294, Current Best: 50000, not feasible\n",
      "Current generation: 3295, Current Best: 50000, not feasible\n",
      "Current generation: 3296, Current Best: 50000, not feasible\n",
      "Current generation: 3297, Current Best: 50000, not feasible\n",
      "Current generation: 3298, Current Best: 50000, not feasible\n",
      "Current generation: 3299, Current Best: 50000, not feasible\n",
      "Current generation: 3300, Current Best: 50000, not feasible\n",
      "Current generation: 3301, Current Best: 50000, not feasible\n",
      "Current generation: 3302, Current Best: 50000, not feasible\n",
      "Current generation: 3303, Current Best: 50000, not feasible\n",
      "Current generation: 3304, Current Best: 50000, not feasible\n",
      "Current generation: 3305, Current Best: 50000, not feasible\n",
      "Current generation: 3306, Current Best: 50000, not feasible\n",
      "Current generation: 3307, Current Best: 50000, not feasible\n",
      "Current generation: 3308, Current Best: 50000, not feasible\n",
      "Current generation: 3309, Current Best: 50000, not feasible\n",
      "Current generation: 3310, Current Best: 50000, not feasible\n",
      "Current generation: 3311, Current Best: 50000, not feasible\n",
      "Current generation: 3312, Current Best: 50000, not feasible\n",
      "Current generation: 3313, Current Best: 50000, not feasible\n",
      "Current generation: 3314, Current Best: 50000, not feasible\n",
      "Current generation: 3315, Current Best: 50000, not feasible\n",
      "Current generation: 3316, Current Best: 50000, not feasible\n",
      "Current generation: 3317, Current Best: 50000, not feasible\n",
      "Current generation: 3318, Current Best: 50000, not feasible\n",
      "Current generation: 3319, Current Best: 50000, not feasible\n",
      "Current generation: 3320, Current Best: 50000, not feasible\n",
      "Current generation: 3321, Current Best: 50000, not feasible\n",
      "Current generation: 3322, Current Best: 50000, not feasible\n",
      "Current generation: 3323, Current Best: 50000, not feasible\n",
      "Current generation: 3324, Current Best: 50000, not feasible\n",
      "Current generation: 3325, Current Best: 50000, not feasible\n",
      "Current generation: 3326, Current Best: 50000, not feasible\n",
      "Current generation: 3327, Current Best: 50000, not feasible\n",
      "Current generation: 3328, Current Best: 50000, not feasible\n",
      "Current generation: 3329, Current Best: 50000, not feasible\n",
      "Current generation: 3330, Current Best: 50000, not feasible\n",
      "Current generation: 3331, Current Best: 50000, not feasible\n",
      "Current generation: 3332, Current Best: 50000, not feasible\n",
      "Current generation: 3333, Current Best: 50000, not feasible\n",
      "Current generation: 3334, Current Best: 50000, not feasible\n",
      "Current generation: 3335, Current Best: 50000, not feasible\n",
      "Current generation: 3336, Current Best: 50000, not feasible\n",
      "Current generation: 3337, Current Best: 50000, not feasible\n",
      "Current generation: 3338, Current Best: 50000, not feasible\n",
      "Current generation: 3339, Current Best: 50000, not feasible\n",
      "Current generation: 3340, Current Best: 50000, not feasible\n",
      "Current generation: 3341, Current Best: 50000, not feasible\n",
      "Current generation: 3342, Current Best: 50000, not feasible\n",
      "Current generation: 3343, Current Best: 50000, not feasible\n",
      "Current generation: 3344, Current Best: 50000, not feasible\n",
      "Current generation: 3345, Current Best: 50000, not feasible\n",
      "Current generation: 3346, Current Best: 50000, not feasible\n",
      "Current generation: 3347, Current Best: 50000, not feasible\n",
      "Current generation: 3348, Current Best: 50000, not feasible\n",
      "Current generation: 3349, Current Best: 50000, not feasible\n",
      "Current generation: 3350, Current Best: 50000, not feasible\n",
      "Current generation: 3351, Current Best: 50000, not feasible\n",
      "Current generation: 3352, Current Best: 50000, not feasible\n",
      "Current generation: 3353, Current Best: 50000, not feasible\n",
      "Current generation: 3354, Current Best: 50000, not feasible\n",
      "Current generation: 3355, Current Best: 50000, not feasible\n",
      "Current generation: 3356, Current Best: 50000, not feasible\n",
      "Current generation: 3357, Current Best: 50000, not feasible\n",
      "Current generation: 3358, Current Best: 50000, not feasible\n",
      "Current generation: 3359, Current Best: 50000, not feasible\n",
      "Current generation: 3360, Current Best: 50000, not feasible\n",
      "Current generation: 3361, Current Best: 50000, not feasible\n",
      "Current generation: 3362, Current Best: 50000, not feasible\n",
      "Current generation: 3363, Current Best: 50000, not feasible\n",
      "Current generation: 3364, Current Best: 50000, not feasible\n",
      "Current generation: 3365, Current Best: 50000, not feasible\n",
      "Current generation: 3366, Current Best: 50000, not feasible\n",
      "Current generation: 3367, Current Best: 50000, not feasible\n",
      "Current generation: 3368, Current Best: 50000, not feasible\n",
      "Current generation: 3369, Current Best: 50000, not feasible\n",
      "Current generation: 3370, Current Best: 50000, not feasible\n",
      "Current generation: 3371, Current Best: 50000, not feasible\n",
      "Current generation: 3372, Current Best: 50000, not feasible\n",
      "Current generation: 3373, Current Best: 50000, not feasible\n",
      "Current generation: 3374, Current Best: 50000, not feasible\n",
      "Current generation: 3375, Current Best: 50000, not feasible\n",
      "Current generation: 3376, Current Best: 50000, not feasible\n",
      "Current generation: 3377, Current Best: 50000, not feasible\n",
      "Current generation: 3378, Current Best: 50000, not feasible\n",
      "Current generation: 3379, Current Best: 50000, not feasible\n",
      "Current generation: 3380, Current Best: 50000, not feasible\n",
      "Current generation: 3381, Current Best: 50000, not feasible\n",
      "Current generation: 3382, Current Best: 50000, not feasible\n",
      "Current generation: 3383, Current Best: 50000, not feasible\n",
      "Current generation: 3384, Current Best: 50000, not feasible\n",
      "Current generation: 3385, Current Best: 50000, not feasible\n",
      "Current generation: 3386, Current Best: 50000, not feasible\n",
      "Current generation: 3387, Current Best: 50000, not feasible\n",
      "Current generation: 3388, Current Best: 50000, not feasible\n",
      "Current generation: 3389, Current Best: 50000, not feasible\n",
      "Current generation: 3390, Current Best: 50000, not feasible\n",
      "Current generation: 3391, Current Best: 50000, not feasible\n",
      "Current generation: 3392, Current Best: 50000, not feasible\n",
      "Current generation: 3393, Current Best: 50000, not feasible\n",
      "Current generation: 3394, Current Best: 50000, not feasible\n",
      "Current generation: 3395, Current Best: 50000, not feasible\n",
      "Current generation: 3396, Current Best: 50000, not feasible\n",
      "Current generation: 3397, Current Best: 50000, not feasible\n",
      "Current generation: 3398, Current Best: 50000, not feasible\n",
      "Current generation: 3399, Current Best: 50000, not feasible\n",
      "Current generation: 3400, Current Best: 50000, not feasible\n",
      "Current generation: 3401, Current Best: 50000, not feasible\n",
      "Current generation: 3402, Current Best: 50000, not feasible\n",
      "Current generation: 3403, Current Best: 50000, not feasible\n",
      "Current generation: 3404, Current Best: 50000, not feasible\n",
      "Current generation: 3405, Current Best: 50000, not feasible\n",
      "Current generation: 3406, Current Best: 50000, not feasible\n",
      "Current generation: 3407, Current Best: 50000, not feasible\n",
      "Current generation: 3408, Current Best: 50000, not feasible\n",
      "Current generation: 3409, Current Best: 50000, not feasible\n",
      "Current generation: 3410, Current Best: 50000, not feasible\n",
      "Current generation: 3411, Current Best: 50000, not feasible\n",
      "Current generation: 3412, Current Best: 50000, not feasible\n",
      "Current generation: 3413, Current Best: 50000, not feasible\n",
      "Current generation: 3414, Current Best: 50000, not feasible\n",
      "Current generation: 3415, Current Best: 50000, not feasible\n",
      "Current generation: 3416, Current Best: 50000, not feasible\n",
      "Current generation: 3417, Current Best: 50000, not feasible\n",
      "Current generation: 3418, Current Best: 50000, not feasible\n",
      "Current generation: 3419, Current Best: 50000, not feasible\n",
      "Current generation: 3420, Current Best: 50000, not feasible\n",
      "Current generation: 3421, Current Best: 50000, not feasible\n",
      "Current generation: 3422, Current Best: 50000, not feasible\n",
      "Current generation: 3423, Current Best: 50000, not feasible\n",
      "Current generation: 3424, Current Best: 50000, not feasible\n",
      "Current generation: 3425, Current Best: 50000, not feasible\n",
      "Current generation: 3426, Current Best: 50000, not feasible\n",
      "Current generation: 3427, Current Best: 50000, not feasible\n",
      "Current generation: 3428, Current Best: 50000, not feasible\n",
      "Current generation: 3429, Current Best: 50000, not feasible\n",
      "Current generation: 3430, Current Best: 50000, not feasible\n",
      "Current generation: 3431, Current Best: 50000, not feasible\n",
      "Current generation: 3432, Current Best: 50000, not feasible\n",
      "Current generation: 3433, Current Best: 50000, not feasible\n",
      "Current generation: 3434, Current Best: 50000, not feasible\n",
      "Current generation: 3435, Current Best: 50000, not feasible\n",
      "Current generation: 3436, Current Best: 50000, not feasible\n",
      "Current generation: 3437, Current Best: 50000, not feasible\n",
      "Current generation: 3438, Current Best: 50000, not feasible\n",
      "Current generation: 3439, Current Best: 50000, not feasible\n",
      "Current generation: 3440, Current Best: 50000, not feasible\n",
      "Current generation: 3441, Current Best: 50000, not feasible\n",
      "Current generation: 3442, Current Best: 50000, not feasible\n",
      "Current generation: 3443, Current Best: 50000, not feasible\n",
      "Current generation: 3444, Current Best: 50000, not feasible\n",
      "Current generation: 3445, Current Best: 50000, not feasible\n",
      "Current generation: 3446, Current Best: 50000, not feasible\n",
      "Current generation: 3447, Current Best: 50000, not feasible\n",
      "Current generation: 3448, Current Best: 50000, not feasible\n",
      "Current generation: 3449, Current Best: 50000, not feasible\n",
      "Current generation: 3450, Current Best: 50000, not feasible\n",
      "Current generation: 3451, Current Best: 50000, not feasible\n",
      "Current generation: 3452, Current Best: 50000, not feasible\n",
      "Current generation: 3453, Current Best: 50000, not feasible\n",
      "Current generation: 3454, Current Best: 50000, not feasible\n",
      "Current generation: 3455, Current Best: 50000, not feasible\n",
      "Current generation: 3456, Current Best: 50000, not feasible\n",
      "Current generation: 3457, Current Best: 50000, not feasible\n",
      "Current generation: 3458, Current Best: 50000, not feasible\n",
      "Current generation: 3459, Current Best: 50000, not feasible\n",
      "Current generation: 3460, Current Best: 50000, not feasible\n",
      "Current generation: 3461, Current Best: 50000, not feasible\n",
      "Current generation: 3462, Current Best: 50000, not feasible\n",
      "Current generation: 3463, Current Best: 50000, not feasible\n",
      "Current generation: 3464, Current Best: 50000, not feasible\n",
      "Current generation: 3465, Current Best: 50000, not feasible\n",
      "Current generation: 3466, Current Best: 50000, not feasible\n",
      "Current generation: 3467, Current Best: 50000, not feasible\n",
      "Current generation: 3468, Current Best: 50000, not feasible\n",
      "Current generation: 3469, Current Best: 50000, not feasible\n",
      "Current generation: 3470, Current Best: 50000, not feasible\n",
      "Current generation: 3471, Current Best: 50000, not feasible\n",
      "Current generation: 3472, Current Best: 50000, not feasible\n",
      "Current generation: 3473, Current Best: 50000, not feasible\n",
      "Current generation: 3474, Current Best: 50000, not feasible\n",
      "Current generation: 3475, Current Best: 50000, not feasible\n",
      "Current generation: 3476, Current Best: 50000, not feasible\n",
      "Current generation: 3477, Current Best: 50000, not feasible\n",
      "Current generation: 3478, Current Best: 50000, not feasible\n",
      "Current generation: 3479, Current Best: 50000, not feasible\n",
      "Current generation: 3480, Current Best: 50000, not feasible\n",
      "Current generation: 3481, Current Best: 50000, not feasible\n",
      "Current generation: 3482, Current Best: 50000, not feasible\n",
      "Current generation: 3483, Current Best: 50000, not feasible\n",
      "Current generation: 3484, Current Best: 50000, not feasible\n",
      "Current generation: 3485, Current Best: 50000, not feasible\n",
      "Current generation: 3486, Current Best: 50000, not feasible\n",
      "Current generation: 3487, Current Best: 50000, not feasible\n",
      "Current generation: 3488, Current Best: 50000, not feasible\n",
      "Current generation: 3489, Current Best: 50000, not feasible\n",
      "Current generation: 3490, Current Best: 50000, not feasible\n",
      "Current generation: 3491, Current Best: 50000, not feasible\n",
      "Current generation: 3492, Current Best: 50000, not feasible\n",
      "Current generation: 3493, Current Best: 50000, not feasible\n",
      "Current generation: 3494, Current Best: 50000, not feasible\n",
      "Current generation: 3495, Current Best: 50000, not feasible\n",
      "Current generation: 3496, Current Best: 50000, not feasible\n",
      "Current generation: 3497, Current Best: 50000, not feasible\n",
      "Current generation: 3498, Current Best: 50000, not feasible\n",
      "Current generation: 3499, Current Best: 50000, not feasible\n",
      "Current generation: 3500, Current Best: 50000, not feasible\n",
      "Current generation: 3501, Current Best: 50000, not feasible\n",
      "Current generation: 3502, Current Best: 50000, not feasible\n",
      "Current generation: 3503, Current Best: 50000, not feasible\n",
      "Current generation: 3504, Current Best: 50000, not feasible\n",
      "Current generation: 3505, Current Best: 50000, not feasible\n",
      "Current generation: 3506, Current Best: 50000, not feasible\n",
      "Current generation: 3507, Current Best: 50000, not feasible\n",
      "Current generation: 3508, Current Best: 50000, not feasible\n",
      "Current generation: 3509, Current Best: 50000, not feasible\n",
      "Current generation: 3510, Current Best: 50000, not feasible\n",
      "Current generation: 3511, Current Best: 50000, not feasible\n",
      "Current generation: 3512, Current Best: 50000, not feasible\n",
      "Current generation: 3513, Current Best: 50000, not feasible\n",
      "Current generation: 3514, Current Best: 50000, not feasible\n",
      "Current generation: 3515, Current Best: 50000, not feasible\n",
      "Current generation: 3516, Current Best: 50000, not feasible\n",
      "Current generation: 3517, Current Best: 50000, not feasible\n",
      "Current generation: 3518, Current Best: 50000, not feasible\n",
      "Current generation: 3519, Current Best: 50000, not feasible\n",
      "Current generation: 3520, Current Best: 50000, not feasible\n",
      "Current generation: 3521, Current Best: 50000, not feasible\n",
      "Current generation: 3522, Current Best: 50000, not feasible\n",
      "Current generation: 3523, Current Best: 50000, not feasible\n",
      "Current generation: 3524, Current Best: 50000, not feasible\n",
      "Current generation: 3525, Current Best: 50000, not feasible\n",
      "Current generation: 3526, Current Best: 50000, not feasible\n",
      "Current generation: 3527, Current Best: 50000, not feasible\n",
      "Current generation: 3528, Current Best: 50000, not feasible\n",
      "Current generation: 3529, Current Best: 50000, not feasible\n",
      "Current generation: 3530, Current Best: 50000, not feasible\n",
      "Current generation: 3531, Current Best: 50000, not feasible\n",
      "Current generation: 3532, Current Best: 50000, not feasible\n",
      "Current generation: 3533, Current Best: 50000, not feasible\n",
      "Current generation: 3534, Current Best: 50000, not feasible\n",
      "Current generation: 3535, Current Best: 50000, not feasible\n",
      "Current generation: 3536, Current Best: 50000, not feasible\n",
      "Current generation: 3537, Current Best: 50000, not feasible\n",
      "Current generation: 3538, Current Best: 50000, not feasible\n",
      "Current generation: 3539, Current Best: 50000, not feasible\n",
      "Current generation: 3540, Current Best: 50000, not feasible\n",
      "Current generation: 3541, Current Best: 50000, not feasible\n",
      "Current generation: 3542, Current Best: 50000, not feasible\n",
      "Current generation: 3543, Current Best: 50000, not feasible\n",
      "Current generation: 3544, Current Best: 50000, not feasible\n",
      "Current generation: 3545, Current Best: 50000, not feasible\n",
      "Current generation: 3546, Current Best: 50000, not feasible\n",
      "Current generation: 3547, Current Best: 50000, not feasible\n",
      "Current generation: 3548, Current Best: 50000, not feasible\n",
      "Current generation: 3549, Current Best: 50000, not feasible\n",
      "Current generation: 3550, Current Best: 50000, not feasible\n",
      "Current generation: 3551, Current Best: 50000, not feasible\n",
      "Current generation: 3552, Current Best: 50000, not feasible\n",
      "Current generation: 3553, Current Best: 50000, not feasible\n",
      "Current generation: 3554, Current Best: 50000, not feasible\n",
      "Current generation: 3555, Current Best: 50000, not feasible\n",
      "Current generation: 3556, Current Best: 50000, not feasible\n",
      "Current generation: 3557, Current Best: 50000, not feasible\n",
      "Current generation: 3558, Current Best: 50000, not feasible\n",
      "Current generation: 3559, Current Best: 50000, not feasible\n",
      "Current generation: 3560, Current Best: 50000, not feasible\n",
      "Current generation: 3561, Current Best: 50000, not feasible\n",
      "Current generation: 3562, Current Best: 50000, not feasible\n",
      "Current generation: 3563, Current Best: 50000, not feasible\n",
      "Current generation: 3564, Current Best: 50000, not feasible\n",
      "Current generation: 3565, Current Best: 50000, not feasible\n",
      "Current generation: 3566, Current Best: 50000, not feasible\n",
      "Current generation: 3567, Current Best: 50000, not feasible\n",
      "Current generation: 3568, Current Best: 50000, not feasible\n",
      "Current generation: 3569, Current Best: 50000, not feasible\n",
      "Current generation: 3570, Current Best: 50000, not feasible\n",
      "Current generation: 3571, Current Best: 50000, not feasible\n",
      "Current generation: 3572, Current Best: 50000, not feasible\n",
      "Current generation: 3573, Current Best: 50000, not feasible\n",
      "Current generation: 3574, Current Best: 50000, not feasible\n",
      "Current generation: 3575, Current Best: 50000, not feasible\n",
      "Current generation: 3576, Current Best: 50000, not feasible\n",
      "Current generation: 3577, Current Best: 50000, not feasible\n",
      "Current generation: 3578, Current Best: 50000, not feasible\n",
      "Current generation: 3579, Current Best: 50000, not feasible\n",
      "Current generation: 3580, Current Best: 50000, not feasible\n",
      "Current generation: 3581, Current Best: 50000, not feasible\n",
      "Current generation: 3582, Current Best: 50000, not feasible\n",
      "Current generation: 3583, Current Best: 50000, not feasible\n",
      "Current generation: 3584, Current Best: 50000, not feasible\n",
      "Current generation: 3585, Current Best: 50000, not feasible\n",
      "Current generation: 3586, Current Best: 50000, not feasible\n",
      "Current generation: 3587, Current Best: 50000, not feasible\n",
      "Current generation: 3588, Current Best: 50000, not feasible\n",
      "Current generation: 3589, Current Best: 50000, not feasible\n",
      "Current generation: 3590, Current Best: 50000, not feasible\n",
      "Current generation: 3591, Current Best: 50000, not feasible\n",
      "Current generation: 3592, Current Best: 50000, not feasible\n",
      "Current generation: 3593, Current Best: 50000, not feasible\n",
      "Current generation: 3594, Current Best: 50000, not feasible\n",
      "Current generation: 3595, Current Best: 50000, not feasible\n",
      "Current generation: 3596, Current Best: 50000, not feasible\n",
      "Current generation: 3597, Current Best: 50000, not feasible\n",
      "Current generation: 3598, Current Best: 50000, not feasible\n",
      "Current generation: 3599, Current Best: 50000, not feasible\n",
      "Current generation: 3600, Current Best: 50000, not feasible\n",
      "Current generation: 3601, Current Best: 50000, not feasible\n",
      "Current generation: 3602, Current Best: 50000, not feasible\n",
      "Current generation: 3603, Current Best: 50000, not feasible\n",
      "Current generation: 3604, Current Best: 50000, not feasible\n",
      "Current generation: 3605, Current Best: 50000, not feasible\n",
      "Current generation: 3606, Current Best: 50000, not feasible\n",
      "Current generation: 3607, Current Best: 50000, not feasible\n",
      "Current generation: 3608, Current Best: 50000, not feasible\n",
      "Current generation: 3609, Current Best: 50000, not feasible\n",
      "Current generation: 3610, Current Best: 50000, not feasible\n",
      "Current generation: 3611, Current Best: 50000, not feasible\n",
      "Current generation: 3612, Current Best: 50000, not feasible\n",
      "Current generation: 3613, Current Best: 50000, not feasible\n",
      "Current generation: 3614, Current Best: 50000, not feasible\n",
      "Current generation: 3615, Current Best: 50000, not feasible\n",
      "Current generation: 3616, Current Best: 50000, not feasible\n",
      "Current generation: 3617, Current Best: 50000, not feasible\n",
      "Current generation: 3618, Current Best: 50000, not feasible\n",
      "Current generation: 3619, Current Best: 50000, not feasible\n",
      "Current generation: 3620, Current Best: 50000, not feasible\n",
      "Current generation: 3621, Current Best: 50000, not feasible\n",
      "Current generation: 3622, Current Best: 50000, not feasible\n",
      "Current generation: 3623, Current Best: 50000, not feasible\n",
      "Current generation: 3624, Current Best: 50000, not feasible\n",
      "Current generation: 3625, Current Best: 50000, not feasible\n",
      "Current generation: 3626, Current Best: 50000, not feasible\n",
      "Current generation: 3627, Current Best: 50000, not feasible\n",
      "Current generation: 3628, Current Best: 50000, not feasible\n",
      "Current generation: 3629, Current Best: 50000, not feasible\n",
      "Current generation: 3630, Current Best: 50000, not feasible\n",
      "Current generation: 3631, Current Best: 50000, not feasible\n",
      "Current generation: 3632, Current Best: 50000, not feasible\n",
      "Current generation: 3633, Current Best: 50000, not feasible\n",
      "Current generation: 3634, Current Best: 50000, not feasible\n",
      "Current generation: 3635, Current Best: 50000, not feasible\n",
      "Current generation: 3636, Current Best: 50000, not feasible\n",
      "Current generation: 3637, Current Best: 50000, not feasible\n",
      "Current generation: 3638, Current Best: 50000, not feasible\n",
      "Current generation: 3639, Current Best: 50000, not feasible\n",
      "Current generation: 3640, Current Best: 50000, not feasible\n",
      "Current generation: 3641, Current Best: 50000, not feasible\n",
      "Current generation: 3642, Current Best: 50000, not feasible\n",
      "Current generation: 3643, Current Best: 50000, not feasible\n",
      "Current generation: 3644, Current Best: 50000, not feasible\n",
      "Current generation: 3645, Current Best: 50000, not feasible\n",
      "Current generation: 3646, Current Best: 50000, not feasible\n",
      "Current generation: 3647, Current Best: 50000, not feasible\n",
      "Current generation: 3648, Current Best: 50000, not feasible\n",
      "Current generation: 3649, Current Best: 50000, not feasible\n",
      "Current generation: 3650, Current Best: 50000, not feasible\n",
      "Current generation: 3651, Current Best: 50000, not feasible\n",
      "Current generation: 3652, Current Best: 50000, not feasible\n",
      "Current generation: 3653, Current Best: 50000, not feasible\n",
      "Current generation: 3654, Current Best: 50000, not feasible\n",
      "Current generation: 3655, Current Best: 50000, not feasible\n",
      "Current generation: 3656, Current Best: 50000, not feasible\n",
      "Current generation: 3657, Current Best: 50000, not feasible\n",
      "Current generation: 3658, Current Best: 50000, not feasible\n",
      "Current generation: 3659, Current Best: 50000, not feasible\n",
      "Current generation: 3660, Current Best: 50000, not feasible\n",
      "Current generation: 3661, Current Best: 50000, not feasible\n",
      "Current generation: 3662, Current Best: 50000, not feasible\n",
      "Current generation: 3663, Current Best: 50000, not feasible\n",
      "Current generation: 3664, Current Best: 50000, not feasible\n",
      "Current generation: 3665, Current Best: 50000, not feasible\n",
      "Current generation: 3666, Current Best: 50000, not feasible\n",
      "Current generation: 3667, Current Best: 50000, not feasible\n",
      "Current generation: 3668, Current Best: 50000, not feasible\n",
      "Current generation: 3669, Current Best: 50000, not feasible\n",
      "Current generation: 3670, Current Best: 50000, not feasible\n",
      "Current generation: 3671, Current Best: 50000, not feasible\n",
      "Current generation: 3672, Current Best: 50000, not feasible\n",
      "Current generation: 3673, Current Best: 50000, not feasible\n",
      "Current generation: 3674, Current Best: 50000, not feasible\n",
      "Current generation: 3675, Current Best: 50000, not feasible\n",
      "Current generation: 3676, Current Best: 50000, not feasible\n",
      "Current generation: 3677, Current Best: 50000, not feasible\n",
      "Current generation: 3678, Current Best: 50000, not feasible\n",
      "Current generation: 3679, Current Best: 50000, not feasible\n",
      "Current generation: 3680, Current Best: 50000, not feasible\n",
      "Current generation: 3681, Current Best: 50000, not feasible\n",
      "Current generation: 3682, Current Best: 50000, not feasible\n",
      "Current generation: 3683, Current Best: 50000, not feasible\n",
      "Current generation: 3684, Current Best: 50000, not feasible\n",
      "Current generation: 3685, Current Best: 50000, not feasible\n",
      "Current generation: 3686, Current Best: 50000, not feasible\n",
      "Current generation: 3687, Current Best: 50000, not feasible\n",
      "Current generation: 3688, Current Best: 50000, not feasible\n",
      "Current generation: 3689, Current Best: 50000, not feasible\n",
      "Current generation: 3690, Current Best: 50000, not feasible\n",
      "Current generation: 3691, Current Best: 50000, not feasible\n",
      "Current generation: 3692, Current Best: 50000, not feasible\n",
      "Current generation: 3693, Current Best: 50000, not feasible\n",
      "Current generation: 3694, Current Best: 50000, not feasible\n",
      "Current generation: 3695, Current Best: 50000, not feasible\n",
      "Current generation: 3696, Current Best: 50000, not feasible\n",
      "Current generation: 3697, Current Best: 50000, not feasible\n",
      "Current generation: 3698, Current Best: 50000, not feasible\n",
      "Current generation: 3699, Current Best: 50000, not feasible\n",
      "Current generation: 3700, Current Best: 50000, not feasible\n",
      "Current generation: 3701, Current Best: 50000, not feasible\n",
      "Current generation: 3702, Current Best: 50000, not feasible\n",
      "Current generation: 3703, Current Best: 50000, not feasible\n",
      "Current generation: 3704, Current Best: 50000, not feasible\n",
      "Current generation: 3705, Current Best: 50000, not feasible\n",
      "Current generation: 3706, Current Best: 50000, not feasible\n",
      "Current generation: 3707, Current Best: 50000, not feasible\n",
      "Current generation: 3708, Current Best: 50000, not feasible\n",
      "Current generation: 3709, Current Best: 50000, not feasible\n",
      "Current generation: 3710, Current Best: 50000, not feasible\n",
      "Current generation: 3711, Current Best: 50000, not feasible\n",
      "Current generation: 3712, Current Best: 50000, not feasible\n",
      "Current generation: 3713, Current Best: 50000, not feasible\n",
      "Current generation: 3714, Current Best: 50000, not feasible\n",
      "Current generation: 3715, Current Best: 50000, not feasible\n",
      "Current generation: 3716, Current Best: 50000, not feasible\n",
      "Current generation: 3717, Current Best: 50000, not feasible\n",
      "Current generation: 3718, Current Best: 50000, not feasible\n",
      "Current generation: 3719, Current Best: 50000, not feasible\n",
      "Current generation: 3720, Current Best: 50000, not feasible\n",
      "Current generation: 3721, Current Best: 50000, not feasible\n",
      "Current generation: 3722, Current Best: 50000, not feasible\n",
      "Current generation: 3723, Current Best: 50000, not feasible\n",
      "Current generation: 3724, Current Best: 50000, not feasible\n",
      "Current generation: 3725, Current Best: 50000, not feasible\n",
      "Current generation: 3726, Current Best: 50000, not feasible\n",
      "Current generation: 3727, Current Best: 50000, not feasible\n",
      "Current generation: 3728, Current Best: 50000, not feasible\n",
      "Current generation: 3729, Current Best: 50000, not feasible\n",
      "Current generation: 3730, Current Best: 50000, not feasible\n",
      "Current generation: 3731, Current Best: 50000, not feasible\n",
      "Current generation: 3732, Current Best: 50000, not feasible\n",
      "Current generation: 3733, Current Best: 50000, not feasible\n",
      "Current generation: 3734, Current Best: 50000, not feasible\n",
      "Current generation: 3735, Current Best: 50000, not feasible\n",
      "Current generation: 3736, Current Best: 50000, not feasible\n",
      "Current generation: 3737, Current Best: 50000, not feasible\n",
      "Current generation: 3738, Current Best: 50000, not feasible\n",
      "Current generation: 3739, Current Best: 50000, not feasible\n",
      "Current generation: 3740, Current Best: 50000, not feasible\n",
      "Current generation: 3741, Current Best: 50000, not feasible\n",
      "Current generation: 3742, Current Best: 50000, not feasible\n",
      "Current generation: 3743, Current Best: 50000, not feasible\n",
      "Current generation: 3744, Current Best: 50000, not feasible\n",
      "Current generation: 3745, Current Best: 50000, not feasible\n",
      "Current generation: 3746, Current Best: 50000, not feasible\n",
      "Current generation: 3747, Current Best: 50000, not feasible\n",
      "Current generation: 3748, Current Best: 50000, not feasible\n",
      "Current generation: 3749, Current Best: 50000, not feasible\n",
      "Current generation: 3750, Current Best: 50000, not feasible\n",
      "Current generation: 3751, Current Best: 50000, not feasible\n",
      "Current generation: 3752, Current Best: 50000, not feasible\n",
      "Current generation: 3753, Current Best: 50000, not feasible\n",
      "Current generation: 3754, Current Best: 50000, not feasible\n",
      "Current generation: 3755, Current Best: 50000, not feasible\n",
      "Current generation: 3756, Current Best: 50000, not feasible\n",
      "Current generation: 3757, Current Best: 50000, not feasible\n",
      "Current generation: 3758, Current Best: 50000, not feasible\n",
      "Current generation: 3759, Current Best: 50000, not feasible\n",
      "Current generation: 3760, Current Best: 50000, not feasible\n",
      "Current generation: 3761, Current Best: 50000, not feasible\n",
      "Current generation: 3762, Current Best: 50000, not feasible\n",
      "Current generation: 3763, Current Best: 50000, not feasible\n",
      "Current generation: 3764, Current Best: 50000, not feasible\n",
      "Current generation: 3765, Current Best: 50000, not feasible\n",
      "Current generation: 3766, Current Best: 50000, not feasible\n",
      "Current generation: 3767, Current Best: 50000, not feasible\n",
      "Current generation: 3768, Current Best: 50000, not feasible\n",
      "Current generation: 3769, Current Best: 50000, not feasible\n",
      "Current generation: 3770, Current Best: 50000, not feasible\n",
      "Current generation: 3771, Current Best: 50000, not feasible\n",
      "Current generation: 3772, Current Best: 50000, not feasible\n",
      "Current generation: 3773, Current Best: 50000, not feasible\n",
      "Current generation: 3774, Current Best: 50000, not feasible\n",
      "Current generation: 3775, Current Best: 50000, not feasible\n",
      "Current generation: 3776, Current Best: 50000, not feasible\n",
      "Current generation: 3777, Current Best: 50000, not feasible\n",
      "Current generation: 3778, Current Best: 50000, not feasible\n",
      "Current generation: 3779, Current Best: 50000, not feasible\n",
      "Current generation: 3780, Current Best: 50000, not feasible\n",
      "Current generation: 3781, Current Best: 50000, not feasible\n",
      "Current generation: 3782, Current Best: 50000, not feasible\n",
      "Current generation: 3783, Current Best: 50000, not feasible\n",
      "Current generation: 3784, Current Best: 50000, not feasible\n",
      "Current generation: 3785, Current Best: 50000, not feasible\n",
      "Current generation: 3786, Current Best: 50000, not feasible\n",
      "Current generation: 3787, Current Best: 50000, not feasible\n",
      "Current generation: 3788, Current Best: 50000, not feasible\n",
      "Current generation: 3789, Current Best: 50000, not feasible\n",
      "Current generation: 3790, Current Best: 50000, not feasible\n",
      "Current generation: 3791, Current Best: 50000, not feasible\n",
      "Current generation: 3792, Current Best: 50000, not feasible\n",
      "Current generation: 3793, Current Best: 50000, not feasible\n",
      "Current generation: 3794, Current Best: 50000, not feasible\n",
      "Current generation: 3795, Current Best: 50000, not feasible\n",
      "Current generation: 3796, Current Best: 50000, not feasible\n",
      "Current generation: 3797, Current Best: 50000, not feasible\n",
      "Current generation: 3798, Current Best: 50000, not feasible\n",
      "Current generation: 3799, Current Best: 50000, not feasible\n",
      "Current generation: 3800, Current Best: 50000, not feasible\n",
      "Current generation: 3801, Current Best: 50000, not feasible\n",
      "Current generation: 3802, Current Best: 50000, not feasible\n",
      "Current generation: 3803, Current Best: 50000, not feasible\n",
      "Current generation: 3804, Current Best: 50000, not feasible\n",
      "Current generation: 3805, Current Best: 50000, not feasible\n",
      "Current generation: 3806, Current Best: 50000, not feasible\n",
      "Current generation: 3807, Current Best: 50000, not feasible\n",
      "Current generation: 3808, Current Best: 50000, not feasible\n",
      "Current generation: 3809, Current Best: 50000, not feasible\n",
      "Current generation: 3810, Current Best: 50000, not feasible\n",
      "Current generation: 3811, Current Best: 50000, not feasible\n",
      "Current generation: 3812, Current Best: 50000, not feasible\n",
      "Current generation: 3813, Current Best: 50000, not feasible\n",
      "Current generation: 3814, Current Best: 50000, not feasible\n",
      "Current generation: 3815, Current Best: 50000, not feasible\n",
      "Current generation: 3816, Current Best: 50000, not feasible\n",
      "Current generation: 3817, Current Best: 50000, not feasible\n",
      "Current generation: 3818, Current Best: 50000, not feasible\n",
      "Current generation: 3819, Current Best: 50000, not feasible\n",
      "Current generation: 3820, Current Best: 50000, not feasible\n",
      "Current generation: 3821, Current Best: 50000, not feasible\n",
      "Current generation: 3822, Current Best: 50000, not feasible\n",
      "Current generation: 3823, Current Best: 50000, not feasible\n",
      "Current generation: 3824, Current Best: 50000, not feasible\n",
      "Current generation: 3825, Current Best: 50000, not feasible\n",
      "Current generation: 3826, Current Best: 50000, not feasible\n",
      "Current generation: 3827, Current Best: 50000, not feasible\n",
      "Current generation: 3828, Current Best: 50000, not feasible\n",
      "Current generation: 3829, Current Best: 50000, not feasible\n",
      "Current generation: 3830, Current Best: 50000, not feasible\n",
      "Current generation: 3831, Current Best: 50000, not feasible\n",
      "Current generation: 3832, Current Best: 50000, not feasible\n",
      "Current generation: 3833, Current Best: 50000, not feasible\n",
      "Current generation: 3834, Current Best: 50000, not feasible\n",
      "Current generation: 3835, Current Best: 50000, not feasible\n",
      "Current generation: 3836, Current Best: 50000, not feasible\n",
      "Current generation: 3837, Current Best: 50000, not feasible\n",
      "Current generation: 3838, Current Best: 50000, not feasible\n",
      "Current generation: 3839, Current Best: 50000, not feasible\n",
      "Current generation: 3840, Current Best: 50000, not feasible\n",
      "Current generation: 3841, Current Best: 50000, not feasible\n",
      "Current generation: 3842, Current Best: 50000, not feasible\n",
      "Current generation: 3843, Current Best: 50000, not feasible\n",
      "Current generation: 3844, Current Best: 50000, not feasible\n",
      "Current generation: 3845, Current Best: 50000, not feasible\n",
      "Current generation: 3846, Current Best: 50000, not feasible\n",
      "Current generation: 3847, Current Best: 50000, not feasible\n",
      "Current generation: 3848, Current Best: 50000, not feasible\n",
      "Current generation: 3849, Current Best: 50000, not feasible\n",
      "Current generation: 3850, Current Best: 50000, not feasible\n",
      "Current generation: 3851, Current Best: 50000, not feasible\n",
      "Current generation: 3852, Current Best: 50000, not feasible\n",
      "Current generation: 3853, Current Best: 50000, not feasible\n",
      "Current generation: 3854, Current Best: 50000, not feasible\n",
      "Current generation: 3855, Current Best: 50000, not feasible\n",
      "Current generation: 3856, Current Best: 50000, not feasible\n",
      "Current generation: 3857, Current Best: 50000, not feasible\n",
      "Current generation: 3858, Current Best: 50000, not feasible\n",
      "Current generation: 3859, Current Best: 50000, not feasible\n",
      "Current generation: 3860, Current Best: 50000, not feasible\n",
      "Current generation: 3861, Current Best: 50000, not feasible\n",
      "Current generation: 3862, Current Best: 50000, not feasible\n",
      "Current generation: 3863, Current Best: 50000, not feasible\n",
      "Current generation: 3864, Current Best: 50000, not feasible\n",
      "Current generation: 3865, Current Best: 50000, not feasible\n",
      "Current generation: 3866, Current Best: 50000, not feasible\n",
      "Current generation: 3867, Current Best: 50000, not feasible\n",
      "Current generation: 3868, Current Best: 50000, not feasible\n",
      "Current generation: 3869, Current Best: 50000, not feasible\n",
      "Current generation: 3870, Current Best: 50000, not feasible\n",
      "Current generation: 3871, Current Best: 50000, not feasible\n",
      "Current generation: 3872, Current Best: 50000, not feasible\n",
      "Current generation: 3873, Current Best: 50000, not feasible\n",
      "Current generation: 3874, Current Best: 50000, not feasible\n",
      "Current generation: 3875, Current Best: 50000, not feasible\n",
      "Current generation: 3876, Current Best: 50000, not feasible\n",
      "Current generation: 3877, Current Best: 50000, not feasible\n",
      "Current generation: 3878, Current Best: 50000, not feasible\n",
      "Current generation: 3879, Current Best: 50000, not feasible\n",
      "Current generation: 3880, Current Best: 50000, not feasible\n",
      "Current generation: 3881, Current Best: 50000, not feasible\n",
      "Current generation: 3882, Current Best: 50000, not feasible\n",
      "Current generation: 3883, Current Best: 50000, not feasible\n",
      "Current generation: 3884, Current Best: 50000, not feasible\n",
      "Current generation: 3885, Current Best: 50000, not feasible\n",
      "Current generation: 3886, Current Best: 50000, not feasible\n",
      "Current generation: 3887, Current Best: 50000, not feasible\n",
      "Current generation: 3888, Current Best: 50000, not feasible\n",
      "Current generation: 3889, Current Best: 50000, not feasible\n",
      "Current generation: 3890, Current Best: 50000, not feasible\n",
      "Current generation: 3891, Current Best: 50000, not feasible\n",
      "Current generation: 3892, Current Best: 50000, not feasible\n",
      "Current generation: 3893, Current Best: 50000, not feasible\n",
      "Current generation: 3894, Current Best: 50000, not feasible\n",
      "Current generation: 3895, Current Best: 50000, not feasible\n",
      "Current generation: 3896, Current Best: 50000, not feasible\n",
      "Current generation: 3897, Current Best: 50000, not feasible\n",
      "Current generation: 3898, Current Best: 50000, not feasible\n",
      "Current generation: 3899, Current Best: 50000, not feasible\n",
      "Current generation: 3900, Current Best: 50000, not feasible\n",
      "Current generation: 3901, Current Best: 50000, not feasible\n",
      "Current generation: 3902, Current Best: 50000, not feasible\n",
      "Current generation: 3903, Current Best: 50000, not feasible\n",
      "Current generation: 3904, Current Best: 50000, not feasible\n",
      "Current generation: 3905, Current Best: 50000, not feasible\n",
      "Current generation: 3906, Current Best: 50000, not feasible\n",
      "Current generation: 3907, Current Best: 50000, not feasible\n",
      "Current generation: 3908, Current Best: 50000, not feasible\n",
      "Current generation: 3909, Current Best: 50000, not feasible\n",
      "Current generation: 3910, Current Best: 50000, not feasible\n",
      "Current generation: 3911, Current Best: 50000, not feasible\n",
      "Current generation: 3912, Current Best: 50000, not feasible\n",
      "Current generation: 3913, Current Best: 50000, not feasible\n",
      "Current generation: 3914, Current Best: 50000, not feasible\n",
      "Current generation: 3915, Current Best: 50000, not feasible\n",
      "Current generation: 3916, Current Best: 50000, not feasible\n",
      "Current generation: 3917, Current Best: 50000, not feasible\n",
      "Current generation: 3918, Current Best: 50000, not feasible\n",
      "Current generation: 3919, Current Best: 50000, not feasible\n",
      "Current generation: 3920, Current Best: 50000, not feasible\n",
      "Current generation: 3921, Current Best: 50000, not feasible\n",
      "Current generation: 3922, Current Best: 50000, not feasible\n",
      "Current generation: 3923, Current Best: 50000, not feasible\n",
      "Current generation: 3924, Current Best: 50000, not feasible\n",
      "Current generation: 3925, Current Best: 50000, not feasible\n",
      "Current generation: 3926, Current Best: 50000, not feasible\n",
      "Current generation: 3927, Current Best: 50000, not feasible\n",
      "Current generation: 3928, Current Best: 50000, not feasible\n",
      "Current generation: 3929, Current Best: 50000, not feasible\n",
      "Current generation: 3930, Current Best: 50000, not feasible\n",
      "Current generation: 3931, Current Best: 50000, not feasible\n",
      "Current generation: 3932, Current Best: 50000, not feasible\n",
      "Current generation: 3933, Current Best: 50000, not feasible\n",
      "Current generation: 3934, Current Best: 50000, not feasible\n",
      "Current generation: 3935, Current Best: 50000, not feasible\n",
      "Current generation: 3936, Current Best: 50000, not feasible\n",
      "Current generation: 3937, Current Best: 50000, not feasible\n",
      "Current generation: 3938, Current Best: 50000, not feasible\n",
      "Current generation: 3939, Current Best: 50000, not feasible\n",
      "Current generation: 3940, Current Best: 50000, not feasible\n",
      "Current generation: 3941, Current Best: 50000, not feasible\n",
      "Current generation: 3942, Current Best: 50000, not feasible\n",
      "Current generation: 3943, Current Best: 50000, not feasible\n",
      "Current generation: 3944, Current Best: 50000, not feasible\n",
      "Current generation: 3945, Current Best: 50000, not feasible\n",
      "Current generation: 3946, Current Best: 50000, not feasible\n",
      "Current generation: 3947, Current Best: 50000, not feasible\n",
      "Current generation: 3948, Current Best: 50000, not feasible\n",
      "Current generation: 3949, Current Best: 50000, not feasible\n",
      "Current generation: 3950, Current Best: 50000, not feasible\n",
      "Current generation: 3951, Current Best: 50000, not feasible\n",
      "Current generation: 3952, Current Best: 50000, not feasible\n",
      "Current generation: 3953, Current Best: 50000, not feasible\n",
      "Current generation: 3954, Current Best: 50000, not feasible\n",
      "Current generation: 3955, Current Best: 50000, not feasible\n",
      "Current generation: 3956, Current Best: 50000, not feasible\n",
      "Current generation: 3957, Current Best: 50000, not feasible\n",
      "Current generation: 3958, Current Best: 50000, not feasible\n",
      "Current generation: 3959, Current Best: 50000, not feasible\n",
      "Current generation: 3960, Current Best: 50000, not feasible\n",
      "Current generation: 3961, Current Best: 50000, not feasible\n",
      "Current generation: 3962, Current Best: 50000, not feasible\n",
      "Current generation: 3963, Current Best: 50000, not feasible\n",
      "Current generation: 3964, Current Best: 50000, not feasible\n",
      "Current generation: 3965, Current Best: 50000, not feasible\n",
      "Current generation: 3966, Current Best: 50000, not feasible\n",
      "Current generation: 3967, Current Best: 50000, not feasible\n",
      "Current generation: 3968, Current Best: 50000, not feasible\n",
      "Current generation: 3969, Current Best: 50000, not feasible\n",
      "Current generation: 3970, Current Best: 50000, not feasible\n",
      "Current generation: 3971, Current Best: 50000, not feasible\n",
      "Current generation: 3972, Current Best: 50000, not feasible\n",
      "Current generation: 3973, Current Best: 50000, not feasible\n",
      "Current generation: 3974, Current Best: 50000, not feasible\n",
      "Current generation: 3975, Current Best: 50000, not feasible\n",
      "Current generation: 3976, Current Best: 50000, not feasible\n",
      "Current generation: 3977, Current Best: 50000, not feasible\n",
      "Current generation: 3978, Current Best: 50000, not feasible\n",
      "Current generation: 3979, Current Best: 50000, not feasible\n",
      "Current generation: 3980, Current Best: 50000, not feasible\n",
      "Current generation: 3981, Current Best: 50000, not feasible\n",
      "Current generation: 3982, Current Best: 50000, not feasible\n",
      "Current generation: 3983, Current Best: 50000, not feasible\n",
      "Current generation: 3984, Current Best: 50000, not feasible\n",
      "Current generation: 3985, Current Best: 50000, not feasible\n",
      "Current generation: 3986, Current Best: 50000, not feasible\n",
      "Current generation: 3987, Current Best: 50000, not feasible\n",
      "Current generation: 3988, Current Best: 50000, not feasible\n",
      "Current generation: 3989, Current Best: 50000, not feasible\n",
      "Current generation: 3990, Current Best: 50000, not feasible\n",
      "Current generation: 3991, Current Best: 50000, not feasible\n",
      "Current generation: 3992, Current Best: 50000, not feasible\n",
      "Current generation: 3993, Current Best: 50000, not feasible\n",
      "Current generation: 3994, Current Best: 50000, not feasible\n",
      "Current generation: 3995, Current Best: 50000, not feasible\n",
      "Current generation: 3996, Current Best: 50000, not feasible\n",
      "Current generation: 3997, Current Best: 50000, not feasible\n",
      "Current generation: 3998, Current Best: 50000, not feasible\n",
      "Current generation: 3999, Current Best: 50000, not feasible\n",
      "Current generation: 4000, Current Best: 50000, not feasible\n",
      "Current generation: 4001, Current Best: 50000, not feasible\n",
      "Current generation: 4002, Current Best: 50000, not feasible\n",
      "Current generation: 4003, Current Best: 50000, not feasible\n",
      "Current generation: 4004, Current Best: 50000, not feasible\n",
      "Current generation: 4005, Current Best: 50000, not feasible\n",
      "Current generation: 4006, Current Best: 50000, not feasible\n",
      "Current generation: 4007, Current Best: 50000, not feasible\n",
      "Current generation: 4008, Current Best: 50000, not feasible\n",
      "Current generation: 4009, Current Best: 50000, not feasible\n",
      "Current generation: 4010, Current Best: 50000, not feasible\n",
      "Current generation: 4011, Current Best: 50000, not feasible\n",
      "Current generation: 4012, Current Best: 50000, not feasible\n",
      "Current generation: 4013, Current Best: 50000, not feasible\n",
      "Current generation: 4014, Current Best: 50000, not feasible\n",
      "Current generation: 4015, Current Best: 50000, not feasible\n",
      "Current generation: 4016, Current Best: 50000, not feasible\n",
      "Current generation: 4017, Current Best: 50000, not feasible\n",
      "Current generation: 4018, Current Best: 50000, not feasible\n",
      "Current generation: 4019, Current Best: 50000, not feasible\n",
      "Current generation: 4020, Current Best: 50000, not feasible\n",
      "Current generation: 4021, Current Best: 50000, not feasible\n",
      "Current generation: 4022, Current Best: 50000, not feasible\n",
      "Current generation: 4023, Current Best: 50000, not feasible\n",
      "Current generation: 4024, Current Best: 50000, not feasible\n",
      "Current generation: 4025, Current Best: 50000, not feasible\n",
      "Current generation: 4026, Current Best: 50000, not feasible\n",
      "Current generation: 4027, Current Best: 50000, not feasible\n",
      "Current generation: 4028, Current Best: 50000, not feasible\n",
      "Current generation: 4029, Current Best: 50000, not feasible\n",
      "Current generation: 4030, Current Best: 50000, not feasible\n",
      "Current generation: 4031, Current Best: 50000, not feasible\n",
      "Current generation: 4032, Current Best: 50000, not feasible\n",
      "Current generation: 4033, Current Best: 50000, not feasible\n",
      "Current generation: 4034, Current Best: 50000, not feasible\n",
      "Current generation: 4035, Current Best: 50000, not feasible\n",
      "Current generation: 4036, Current Best: 50000, not feasible\n",
      "Current generation: 4037, Current Best: 50000, not feasible\n",
      "Current generation: 4038, Current Best: 50000, not feasible\n",
      "Current generation: 4039, Current Best: 50000, not feasible\n",
      "Current generation: 4040, Current Best: 50000, not feasible\n",
      "Current generation: 4041, Current Best: 50000, not feasible\n",
      "Current generation: 4042, Current Best: 50000, not feasible\n",
      "Current generation: 4043, Current Best: 50000, not feasible\n",
      "Current generation: 4044, Current Best: 50000, not feasible\n",
      "Current generation: 4045, Current Best: 50000, not feasible\n",
      "Current generation: 4046, Current Best: 50000, not feasible\n",
      "Current generation: 4047, Current Best: 50000, not feasible\n",
      "Current generation: 4048, Current Best: 50000, not feasible\n",
      "Current generation: 4049, Current Best: 50000, not feasible\n",
      "Current generation: 4050, Current Best: 50000, not feasible\n",
      "Current generation: 4051, Current Best: 50000, not feasible\n",
      "Current generation: 4052, Current Best: 50000, not feasible\n",
      "Current generation: 4053, Current Best: 50000, not feasible\n",
      "Current generation: 4054, Current Best: 50000, not feasible\n",
      "Current generation: 4055, Current Best: 50000, not feasible\n",
      "Current generation: 4056, Current Best: 50000, not feasible\n",
      "Current generation: 4057, Current Best: 50000, not feasible\n",
      "Current generation: 4058, Current Best: 50000, not feasible\n",
      "Current generation: 4059, Current Best: 50000, not feasible\n",
      "Current generation: 4060, Current Best: 50000, not feasible\n",
      "Current generation: 4061, Current Best: 50000, not feasible\n",
      "Current generation: 4062, Current Best: 50000, not feasible\n",
      "Current generation: 4063, Current Best: 50000, not feasible\n",
      "Current generation: 4064, Current Best: 50000, not feasible\n",
      "Current generation: 4065, Current Best: 50000, not feasible\n",
      "Current generation: 4066, Current Best: 50000, not feasible\n",
      "Current generation: 4067, Current Best: 50000, not feasible\n",
      "Current generation: 4068, Current Best: 50000, not feasible\n",
      "Current generation: 4069, Current Best: 50000, not feasible\n",
      "Current generation: 4070, Current Best: 50000, not feasible\n",
      "Current generation: 4071, Current Best: 50000, not feasible\n",
      "Current generation: 4072, Current Best: 50000, not feasible\n",
      "Current generation: 4073, Current Best: 50000, not feasible\n",
      "Current generation: 4074, Current Best: 50000, not feasible\n",
      "Current generation: 4075, Current Best: 50000, not feasible\n",
      "Current generation: 4076, Current Best: 50000, not feasible\n",
      "Current generation: 4077, Current Best: 50000, not feasible\n",
      "Current generation: 4078, Current Best: 50000, not feasible\n",
      "Current generation: 4079, Current Best: 50000, not feasible\n",
      "Current generation: 4080, Current Best: 50000, not feasible\n",
      "Current generation: 4081, Current Best: 50000, not feasible\n",
      "Current generation: 4082, Current Best: 50000, not feasible\n",
      "Current generation: 4083, Current Best: 50000, not feasible\n",
      "Current generation: 4084, Current Best: 50000, not feasible\n",
      "Current generation: 4085, Current Best: 50000, not feasible\n",
      "Current generation: 4086, Current Best: 50000, not feasible\n",
      "Current generation: 4087, Current Best: 50000, not feasible\n",
      "Current generation: 4088, Current Best: 50000, not feasible\n",
      "Current generation: 4089, Current Best: 50000, not feasible\n",
      "Current generation: 4090, Current Best: 50000, not feasible\n",
      "Current generation: 4091, Current Best: 50000, not feasible\n",
      "Current generation: 4092, Current Best: 50000, not feasible\n",
      "Current generation: 4093, Current Best: 50000, not feasible\n",
      "Current generation: 4094, Current Best: 50000, not feasible\n",
      "Current generation: 4095, Current Best: 50000, not feasible\n",
      "Current generation: 4096, Current Best: 50000, not feasible\n",
      "Current generation: 4097, Current Best: 50000, not feasible\n",
      "Current generation: 4098, Current Best: 50000, not feasible\n",
      "Current generation: 4099, Current Best: 50000, not feasible\n",
      "Current generation: 4100, Current Best: 50000, not feasible\n",
      "Current generation: 4101, Current Best: 50000, not feasible\n",
      "Current generation: 4102, Current Best: 50000, not feasible\n",
      "Current generation: 4103, Current Best: 50000, not feasible\n",
      "Current generation: 4104, Current Best: 50000, not feasible\n",
      "Current generation: 4105, Current Best: 50000, not feasible\n",
      "Current generation: 4106, Current Best: 50000, not feasible\n",
      "Current generation: 4107, Current Best: 50000, not feasible\n",
      "Current generation: 4108, Current Best: 50000, not feasible\n",
      "Current generation: 4109, Current Best: 50000, not feasible\n",
      "Current generation: 4110, Current Best: 50000, not feasible\n",
      "Current generation: 4111, Current Best: 50000, not feasible\n",
      "Current generation: 4112, Current Best: 50000, not feasible\n",
      "Current generation: 4113, Current Best: 50000, not feasible\n",
      "Current generation: 4114, Current Best: 50000, not feasible\n",
      "Current generation: 4115, Current Best: 50000, not feasible\n",
      "Current generation: 4116, Current Best: 50000, not feasible\n",
      "Current generation: 4117, Current Best: 50000, not feasible\n",
      "Current generation: 4118, Current Best: 50000, not feasible\n",
      "Current generation: 4119, Current Best: 50000, not feasible\n",
      "Current generation: 4120, Current Best: 50000, not feasible\n",
      "Current generation: 4121, Current Best: 50000, not feasible\n",
      "Current generation: 4122, Current Best: 50000, not feasible\n",
      "Current generation: 4123, Current Best: 50000, not feasible\n",
      "Current generation: 4124, Current Best: 50000, not feasible\n",
      "Current generation: 4125, Current Best: 50000, not feasible\n",
      "Current generation: 4126, Current Best: 50000, not feasible\n",
      "Current generation: 4127, Current Best: 50000, not feasible\n",
      "Current generation: 4128, Current Best: 50000, not feasible\n",
      "Current generation: 4129, Current Best: 50000, not feasible\n",
      "Current generation: 4130, Current Best: 50000, not feasible\n",
      "Current generation: 4131, Current Best: 50000, not feasible\n",
      "Current generation: 4132, Current Best: 50000, not feasible\n",
      "Current generation: 4133, Current Best: 50000, not feasible\n",
      "Current generation: 4134, Current Best: 50000, not feasible\n",
      "Current generation: 4135, Current Best: 50000, not feasible\n",
      "Current generation: 4136, Current Best: 50000, not feasible\n",
      "Current generation: 4137, Current Best: 50000, not feasible\n",
      "Current generation: 4138, Current Best: 50000, not feasible\n",
      "Current generation: 4139, Current Best: 50000, not feasible\n",
      "Current generation: 4140, Current Best: 50000, not feasible\n",
      "Current generation: 4141, Current Best: 50000, not feasible\n",
      "Current generation: 4142, Current Best: 50000, not feasible\n",
      "Current generation: 4143, Current Best: 50000, not feasible\n",
      "Current generation: 4144, Current Best: 50000, not feasible\n",
      "Current generation: 4145, Current Best: 50000, not feasible\n",
      "Current generation: 4146, Current Best: 50000, not feasible\n",
      "Current generation: 4147, Current Best: 50000, not feasible\n",
      "Current generation: 4148, Current Best: 50000, not feasible\n",
      "Current generation: 4149, Current Best: 50000, not feasible\n",
      "Current generation: 4150, Current Best: 50000, not feasible\n",
      "Current generation: 4151, Current Best: 50000, not feasible\n",
      "Current generation: 4152, Current Best: 50000, not feasible\n",
      "Current generation: 4153, Current Best: 50000, not feasible\n",
      "Current generation: 4154, Current Best: 50000, not feasible\n",
      "Current generation: 4155, Current Best: 50000, not feasible\n",
      "Current generation: 4156, Current Best: 50000, not feasible\n",
      "Current generation: 4157, Current Best: 50000, not feasible\n",
      "Current generation: 4158, Current Best: 50000, not feasible\n",
      "Current generation: 4159, Current Best: 50000, not feasible\n",
      "Current generation: 4160, Current Best: 50000, not feasible\n",
      "Current generation: 4161, Current Best: 50000, not feasible\n",
      "Current generation: 4162, Current Best: 50000, not feasible\n",
      "Current generation: 4163, Current Best: 50000, not feasible\n",
      "Current generation: 4164, Current Best: 50000, not feasible\n",
      "Current generation: 4165, Current Best: 50000, not feasible\n",
      "Current generation: 4166, Current Best: 50000, not feasible\n",
      "Current generation: 4167, Current Best: 50000, not feasible\n",
      "Current generation: 4168, Current Best: 50000, not feasible\n",
      "Current generation: 4169, Current Best: 50000, not feasible\n",
      "Current generation: 4170, Current Best: 50000, not feasible\n",
      "Current generation: 4171, Current Best: 50000, not feasible\n",
      "Current generation: 4172, Current Best: 50000, not feasible\n",
      "Current generation: 4173, Current Best: 50000, not feasible\n",
      "Current generation: 4174, Current Best: 50000, not feasible\n",
      "Current generation: 4175, Current Best: 50000, not feasible\n",
      "Current generation: 4176, Current Best: 50000, not feasible\n",
      "Current generation: 4177, Current Best: 50000, not feasible\n",
      "Current generation: 4178, Current Best: 50000, not feasible\n",
      "Current generation: 4179, Current Best: 50000, not feasible\n",
      "Current generation: 4180, Current Best: 50000, not feasible\n",
      "Current generation: 4181, Current Best: 50000, not feasible\n",
      "Current generation: 4182, Current Best: 50000, not feasible\n",
      "Current generation: 4183, Current Best: 50000, not feasible\n",
      "Current generation: 4184, Current Best: 50000, not feasible\n",
      "Current generation: 4185, Current Best: 50000, not feasible\n",
      "Current generation: 4186, Current Best: 50000, not feasible\n",
      "Current generation: 4187, Current Best: 50000, not feasible\n",
      "Current generation: 4188, Current Best: 50000, not feasible\n",
      "Current generation: 4189, Current Best: 50000, not feasible\n",
      "Current generation: 4190, Current Best: 50000, not feasible\n",
      "Current generation: 4191, Current Best: 50000, not feasible\n",
      "Current generation: 4192, Current Best: 50000, not feasible\n",
      "Current generation: 4193, Current Best: 50000, not feasible\n",
      "Current generation: 4194, Current Best: 50000, not feasible\n",
      "Current generation: 4195, Current Best: 50000, not feasible\n",
      "Current generation: 4196, Current Best: 50000, not feasible\n",
      "Current generation: 4197, Current Best: 50000, not feasible\n",
      "Current generation: 4198, Current Best: 50000, not feasible\n",
      "Current generation: 4199, Current Best: 50000, not feasible\n",
      "Current generation: 4200, Current Best: 50000, not feasible\n",
      "Current generation: 4201, Current Best: 50000, not feasible\n",
      "Current generation: 4202, Current Best: 50000, not feasible\n",
      "Current generation: 4203, Current Best: 50000, not feasible\n",
      "Current generation: 4204, Current Best: 50000, not feasible\n",
      "Current generation: 4205, Current Best: 50000, not feasible\n",
      "Current generation: 4206, Current Best: 50000, not feasible\n",
      "Current generation: 4207, Current Best: 50000, not feasible\n",
      "Current generation: 4208, Current Best: 50000, not feasible\n",
      "Current generation: 4209, Current Best: 50000, not feasible\n",
      "Current generation: 4210, Current Best: 50000, not feasible\n",
      "Current generation: 4211, Current Best: 50000, not feasible\n",
      "Current generation: 4212, Current Best: 50000, not feasible\n",
      "Current generation: 4213, Current Best: 50000, not feasible\n",
      "Current generation: 4214, Current Best: 50000, not feasible\n",
      "Current generation: 4215, Current Best: 50000, not feasible\n",
      "Current generation: 4216, Current Best: 50000, not feasible\n",
      "Current generation: 4217, Current Best: 50000, not feasible\n",
      "Current generation: 4218, Current Best: 50000, not feasible\n",
      "Current generation: 4219, Current Best: 50000, not feasible\n",
      "Current generation: 4220, Current Best: 50000, not feasible\n",
      "Current generation: 4221, Current Best: 50000, not feasible\n",
      "Current generation: 4222, Current Best: 50000, not feasible\n",
      "Current generation: 4223, Current Best: 50000, not feasible\n",
      "Current generation: 4224, Current Best: 50000, not feasible\n",
      "Current generation: 4225, Current Best: 50000, not feasible\n",
      "Current generation: 4226, Current Best: 50000, not feasible\n",
      "Current generation: 4227, Current Best: 50000, not feasible\n",
      "Current generation: 4228, Current Best: 50000, not feasible\n",
      "Current generation: 4229, Current Best: 50000, not feasible\n",
      "Current generation: 4230, Current Best: 50000, not feasible\n",
      "Current generation: 4231, Current Best: 50000, not feasible\n",
      "Current generation: 4232, Current Best: 50000, not feasible\n",
      "Current generation: 4233, Current Best: 50000, not feasible\n",
      "Current generation: 4234, Current Best: 50000, not feasible\n",
      "Current generation: 4235, Current Best: 50000, not feasible\n",
      "Current generation: 4236, Current Best: 50000, not feasible\n",
      "Current generation: 4237, Current Best: 50000, not feasible\n",
      "Current generation: 4238, Current Best: 50000, not feasible\n",
      "Current generation: 4239, Current Best: 50000, not feasible\n",
      "Current generation: 4240, Current Best: 50000, not feasible\n",
      "Current generation: 4241, Current Best: 50000, not feasible\n",
      "Current generation: 4242, Current Best: 50000, not feasible\n",
      "Current generation: 4243, Current Best: 50000, not feasible\n",
      "Current generation: 4244, Current Best: 50000, not feasible\n",
      "Current generation: 4245, Current Best: 50000, not feasible\n",
      "Current generation: 4246, Current Best: 50000, not feasible\n",
      "Current generation: 4247, Current Best: 50000, not feasible\n",
      "Current generation: 4248, Current Best: 50000, not feasible\n",
      "Current generation: 4249, Current Best: 50000, not feasible\n",
      "Current generation: 4250, Current Best: 50000, not feasible\n",
      "Current generation: 4251, Current Best: 50000, not feasible\n",
      "Current generation: 4252, Current Best: 50000, not feasible\n",
      "Current generation: 4253, Current Best: 50000, not feasible\n",
      "Current generation: 4254, Current Best: 50000, not feasible\n",
      "Current generation: 4255, Current Best: 50000, not feasible\n",
      "Current generation: 4256, Current Best: 50000, not feasible\n",
      "Current generation: 4257, Current Best: 50000, not feasible\n",
      "Current generation: 4258, Current Best: 50000, not feasible\n",
      "Current generation: 4259, Current Best: 50000, not feasible\n",
      "Current generation: 4260, Current Best: 50000, not feasible\n",
      "Current generation: 4261, Current Best: 50000, not feasible\n",
      "Current generation: 4262, Current Best: 50000, not feasible\n",
      "Current generation: 4263, Current Best: 50000, not feasible\n",
      "Current generation: 4264, Current Best: 50000, not feasible\n",
      "Current generation: 4265, Current Best: 50000, not feasible\n",
      "Current generation: 4266, Current Best: 50000, not feasible\n",
      "Current generation: 4267, Current Best: 50000, not feasible\n",
      "Current generation: 4268, Current Best: 50000, not feasible\n",
      "Current generation: 4269, Current Best: 50000, not feasible\n",
      "Current generation: 4270, Current Best: 50000, not feasible\n",
      "Current generation: 4271, Current Best: 50000, not feasible\n",
      "Current generation: 4272, Current Best: 50000, not feasible\n",
      "Current generation: 4273, Current Best: 50000, not feasible\n",
      "Current generation: 4274, Current Best: 50000, not feasible\n",
      "Current generation: 4275, Current Best: 50000, not feasible\n",
      "Current generation: 4276, Current Best: 50000, not feasible\n",
      "Current generation: 4277, Current Best: 50000, not feasible\n",
      "Current generation: 4278, Current Best: 50000, not feasible\n",
      "Current generation: 4279, Current Best: 50000, not feasible\n",
      "Current generation: 4280, Current Best: 50000, not feasible\n",
      "Current generation: 4281, Current Best: 50000, not feasible\n",
      "Current generation: 4282, Current Best: 50000, not feasible\n",
      "Current generation: 4283, Current Best: 50000, not feasible\n",
      "Current generation: 4284, Current Best: 50000, not feasible\n",
      "Current generation: 4285, Current Best: 50000, not feasible\n",
      "Current generation: 4286, Current Best: 50000, not feasible\n",
      "Current generation: 4287, Current Best: 50000, not feasible\n",
      "Current generation: 4288, Current Best: 50000, not feasible\n",
      "Current generation: 4289, Current Best: 50000, not feasible\n",
      "Current generation: 4290, Current Best: 50000, not feasible\n",
      "Current generation: 4291, Current Best: 50000, not feasible\n",
      "Current generation: 4292, Current Best: 50000, not feasible\n",
      "Current generation: 4293, Current Best: 50000, not feasible\n",
      "Current generation: 4294, Current Best: 50000, not feasible\n",
      "Current generation: 4295, Current Best: 50000, not feasible\n",
      "Current generation: 4296, Current Best: 50000, not feasible\n",
      "Current generation: 4297, Current Best: 50000, not feasible\n",
      "Current generation: 4298, Current Best: 50000, not feasible\n",
      "Current generation: 4299, Current Best: 50000, not feasible\n",
      "Current generation: 4300, Current Best: 50000, not feasible\n",
      "Current generation: 4301, Current Best: 50000, not feasible\n",
      "Current generation: 4302, Current Best: 50000, not feasible\n",
      "Current generation: 4303, Current Best: 50000, not feasible\n",
      "Current generation: 4304, Current Best: 50000, not feasible\n",
      "Current generation: 4305, Current Best: 50000, not feasible\n",
      "Current generation: 4306, Current Best: 50000, not feasible\n",
      "Current generation: 4307, Current Best: 50000, not feasible\n",
      "Current generation: 4308, Current Best: 50000, not feasible\n",
      "Current generation: 4309, Current Best: 50000, not feasible\n",
      "Current generation: 4310, Current Best: 50000, not feasible\n",
      "Current generation: 4311, Current Best: 50000, not feasible\n",
      "Current generation: 4312, Current Best: 50000, not feasible\n",
      "Current generation: 4313, Current Best: 50000, not feasible\n",
      "Current generation: 4314, Current Best: 50000, not feasible\n",
      "Current generation: 4315, Current Best: 50000, not feasible\n",
      "Current generation: 4316, Current Best: 50000, not feasible\n",
      "Current generation: 4317, Current Best: 50000, not feasible\n",
      "Current generation: 4318, Current Best: 50000, not feasible\n",
      "Current generation: 4319, Current Best: 50000, not feasible\n",
      "Current generation: 4320, Current Best: 50000, not feasible\n",
      "Current generation: 4321, Current Best: 50000, not feasible\n",
      "Current generation: 4322, Current Best: 50000, not feasible\n",
      "Current generation: 4323, Current Best: 50000, not feasible\n",
      "Current generation: 4324, Current Best: 50000, not feasible\n",
      "Current generation: 4325, Current Best: 50000, not feasible\n",
      "Current generation: 4326, Current Best: 50000, not feasible\n",
      "Current generation: 4327, Current Best: 50000, not feasible\n",
      "Current generation: 4328, Current Best: 50000, not feasible\n",
      "Current generation: 4329, Current Best: 50000, not feasible\n",
      "Current generation: 4330, Current Best: 50000, not feasible\n",
      "Current generation: 4331, Current Best: 50000, not feasible\n",
      "Current generation: 4332, Current Best: 50000, not feasible\n",
      "Current generation: 4333, Current Best: 50000, not feasible\n",
      "Current generation: 4334, Current Best: 50000, not feasible\n",
      "Current generation: 4335, Current Best: 50000, not feasible\n",
      "Current generation: 4336, Current Best: 50000, not feasible\n",
      "Current generation: 4337, Current Best: 50000, not feasible\n",
      "Current generation: 4338, Current Best: 50000, not feasible\n",
      "Current generation: 4339, Current Best: 50000, not feasible\n",
      "Current generation: 4340, Current Best: 50000, not feasible\n",
      "Current generation: 4341, Current Best: 50000, not feasible\n",
      "Current generation: 4342, Current Best: 50000, not feasible\n",
      "Current generation: 4343, Current Best: 50000, not feasible\n",
      "Current generation: 4344, Current Best: 50000, not feasible\n",
      "Current generation: 4345, Current Best: 50000, not feasible\n",
      "Current generation: 4346, Current Best: 50000, not feasible\n",
      "Current generation: 4347, Current Best: 50000, not feasible\n",
      "Current generation: 4348, Current Best: 50000, not feasible\n",
      "Current generation: 4349, Current Best: 50000, not feasible\n",
      "Current generation: 4350, Current Best: 50000, not feasible\n",
      "Current generation: 4351, Current Best: 50000, not feasible\n",
      "Current generation: 4352, Current Best: 50000, not feasible\n",
      "Current generation: 4353, Current Best: 50000, not feasible\n",
      "Current generation: 4354, Current Best: 50000, not feasible\n",
      "Current generation: 4355, Current Best: 50000, not feasible\n",
      "Current generation: 4356, Current Best: 50000, not feasible\n",
      "Current generation: 4357, Current Best: 50000, not feasible\n",
      "Current generation: 4358, Current Best: 50000, not feasible\n",
      "Current generation: 4359, Current Best: 50000, not feasible\n",
      "Current generation: 4360, Current Best: 50000, not feasible\n",
      "Current generation: 4361, Current Best: 50000, not feasible\n",
      "Current generation: 4362, Current Best: 50000, not feasible\n",
      "Current generation: 4363, Current Best: 50000, not feasible\n",
      "Current generation: 4364, Current Best: 50000, not feasible\n",
      "Current generation: 4365, Current Best: 50000, not feasible\n",
      "Current generation: 4366, Current Best: 50000, not feasible\n",
      "Current generation: 4367, Current Best: 50000, not feasible\n",
      "Current generation: 4368, Current Best: 50000, not feasible\n",
      "Current generation: 4369, Current Best: 50000, not feasible\n",
      "Current generation: 4370, Current Best: 50000, not feasible\n",
      "Current generation: 4371, Current Best: 50000, not feasible\n",
      "Current generation: 4372, Current Best: 50000, not feasible\n",
      "Current generation: 4373, Current Best: 50000, not feasible\n",
      "Current generation: 4374, Current Best: 50000, not feasible\n",
      "Current generation: 4375, Current Best: 50000, not feasible\n",
      "Current generation: 4376, Current Best: 50000, not feasible\n",
      "Current generation: 4377, Current Best: 50000, not feasible\n",
      "Current generation: 4378, Current Best: 50000, not feasible\n",
      "Current generation: 4379, Current Best: 50000, not feasible\n",
      "Current generation: 4380, Current Best: 50000, not feasible\n",
      "Current generation: 4381, Current Best: 50000, not feasible\n",
      "Current generation: 4382, Current Best: 50000, not feasible\n",
      "Current generation: 4383, Current Best: 50000, not feasible\n",
      "Current generation: 4384, Current Best: 50000, not feasible\n",
      "Current generation: 4385, Current Best: 50000, not feasible\n",
      "Current generation: 4386, Current Best: 50000, not feasible\n",
      "Current generation: 4387, Current Best: 50000, not feasible\n",
      "Current generation: 4388, Current Best: 50000, not feasible\n",
      "Current generation: 4389, Current Best: 50000, not feasible\n",
      "Current generation: 4390, Current Best: 50000, not feasible\n",
      "Current generation: 4391, Current Best: 50000, not feasible\n",
      "Current generation: 4392, Current Best: 50000, not feasible\n",
      "Current generation: 4393, Current Best: 50000, not feasible\n",
      "Current generation: 4394, Current Best: 50000, not feasible\n",
      "Current generation: 4395, Current Best: 50000, not feasible\n",
      "Current generation: 4396, Current Best: 50000, not feasible\n",
      "Current generation: 4397, Current Best: 50000, not feasible\n",
      "Current generation: 4398, Current Best: 50000, not feasible\n",
      "Current generation: 4399, Current Best: 50000, not feasible\n",
      "Current generation: 4400, Current Best: 50000, not feasible\n",
      "Current generation: 4401, Current Best: 50000, not feasible\n",
      "Current generation: 4402, Current Best: 50000, not feasible\n",
      "Current generation: 4403, Current Best: 50000, not feasible\n",
      "Current generation: 4404, Current Best: 50000, not feasible\n",
      "Current generation: 4405, Current Best: 50000, not feasible\n",
      "Current generation: 4406, Current Best: 50000, not feasible\n",
      "Current generation: 4407, Current Best: 50000, not feasible\n",
      "Current generation: 4408, Current Best: 50000, not feasible\n",
      "Current generation: 4409, Current Best: 50000, not feasible\n",
      "Current generation: 4410, Current Best: 50000, not feasible\n",
      "Current generation: 4411, Current Best: 50000, not feasible\n",
      "Current generation: 4412, Current Best: 50000, not feasible\n",
      "Current generation: 4413, Current Best: 50000, not feasible\n",
      "Current generation: 4414, Current Best: 50000, not feasible\n",
      "Current generation: 4415, Current Best: 50000, not feasible\n",
      "Current generation: 4416, Current Best: 50000, not feasible\n",
      "Current generation: 4417, Current Best: 50000, not feasible\n",
      "Current generation: 4418, Current Best: 50000, not feasible\n",
      "Current generation: 4419, Current Best: 50000, not feasible\n",
      "Current generation: 4420, Current Best: 50000, not feasible\n",
      "Current generation: 4421, Current Best: 50000, not feasible\n",
      "Current generation: 4422, Current Best: 50000, not feasible\n",
      "Current generation: 4423, Current Best: 50000, not feasible\n",
      "Current generation: 4424, Current Best: 50000, not feasible\n",
      "Current generation: 4425, Current Best: 50000, not feasible\n",
      "Current generation: 4426, Current Best: 50000, not feasible\n",
      "Current generation: 4427, Current Best: 50000, not feasible\n",
      "Current generation: 4428, Current Best: 50000, not feasible\n",
      "Current generation: 4429, Current Best: 50000, not feasible\n",
      "Current generation: 4430, Current Best: 50000, not feasible\n",
      "Current generation: 4431, Current Best: 50000, not feasible\n",
      "Current generation: 4432, Current Best: 50000, not feasible\n",
      "Current generation: 4433, Current Best: 50000, not feasible\n",
      "Current generation: 4434, Current Best: 50000, not feasible\n",
      "Current generation: 4435, Current Best: 50000, not feasible\n",
      "Current generation: 4436, Current Best: 50000, not feasible\n",
      "Current generation: 4437, Current Best: 50000, not feasible\n",
      "Current generation: 4438, Current Best: 50000, not feasible\n",
      "Current generation: 4439, Current Best: 50000, not feasible\n",
      "Current generation: 4440, Current Best: 50000, not feasible\n",
      "Current generation: 4441, Current Best: 50000, not feasible\n",
      "Current generation: 4442, Current Best: 50000, not feasible\n",
      "Current generation: 4443, Current Best: 50000, not feasible\n",
      "Current generation: 4444, Current Best: 50000, not feasible\n",
      "Current generation: 4445, Current Best: 50000, not feasible\n",
      "Current generation: 4446, Current Best: 50000, not feasible\n",
      "Current generation: 4447, Current Best: 50000, not feasible\n",
      "Current generation: 4448, Current Best: 50000, not feasible\n",
      "Current generation: 4449, Current Best: 50000, not feasible\n",
      "Current generation: 4450, Current Best: 50000, not feasible\n",
      "Current generation: 4451, Current Best: 50000, not feasible\n",
      "Current generation: 4452, Current Best: 50000, not feasible\n",
      "Current generation: 4453, Current Best: 50000, not feasible\n",
      "Current generation: 4454, Current Best: 50000, not feasible\n",
      "Current generation: 4455, Current Best: 50000, not feasible\n",
      "Current generation: 4456, Current Best: 50000, not feasible\n",
      "Current generation: 4457, Current Best: 50000, not feasible\n",
      "Current generation: 4458, Current Best: 50000, not feasible\n",
      "Current generation: 4459, Current Best: 50000, not feasible\n",
      "Current generation: 4460, Current Best: 50000, not feasible\n",
      "Current generation: 4461, Current Best: 50000, not feasible\n",
      "Current generation: 4462, Current Best: 50000, not feasible\n",
      "Current generation: 4463, Current Best: 50000, not feasible\n",
      "Current generation: 4464, Current Best: 50000, not feasible\n",
      "Current generation: 4465, Current Best: 50000, not feasible\n",
      "Current generation: 4466, Current Best: 50000, not feasible\n",
      "Current generation: 4467, Current Best: 50000, not feasible\n",
      "Current generation: 4468, Current Best: 50000, not feasible\n",
      "Current generation: 4469, Current Best: 50000, not feasible\n",
      "Current generation: 4470, Current Best: 50000, not feasible\n",
      "Current generation: 4471, Current Best: 50000, not feasible\n",
      "Current generation: 4472, Current Best: 50000, not feasible\n",
      "Current generation: 4473, Current Best: 50000, not feasible\n",
      "Current generation: 4474, Current Best: 50000, not feasible\n",
      "Current generation: 4475, Current Best: 50000, not feasible\n",
      "Current generation: 4476, Current Best: 50000, not feasible\n",
      "Current generation: 4477, Current Best: 50000, not feasible\n",
      "Current generation: 4478, Current Best: 50000, not feasible\n",
      "Current generation: 4479, Current Best: 50000, not feasible\n",
      "Current generation: 4480, Current Best: 50000, not feasible\n",
      "Current generation: 4481, Current Best: 50000, not feasible\n",
      "Current generation: 4482, Current Best: 50000, not feasible\n",
      "Current generation: 4483, Current Best: 50000, not feasible\n",
      "Current generation: 4484, Current Best: 50000, not feasible\n",
      "Current generation: 4485, Current Best: 50000, not feasible\n",
      "Current generation: 4486, Current Best: 50000, not feasible\n",
      "Current generation: 4487, Current Best: 50000, not feasible\n",
      "Current generation: 4488, Current Best: 50000, not feasible\n",
      "Current generation: 4489, Current Best: 50000, not feasible\n",
      "Current generation: 4490, Current Best: 50000, not feasible\n",
      "Current generation: 4491, Current Best: 50000, not feasible\n",
      "Current generation: 4492, Current Best: 50000, not feasible\n",
      "Current generation: 4493, Current Best: 50000, not feasible\n",
      "Current generation: 4494, Current Best: 50000, not feasible\n",
      "Current generation: 4495, Current Best: 50000, not feasible\n",
      "Current generation: 4496, Current Best: 50000, not feasible\n",
      "Current generation: 4497, Current Best: 50000, not feasible\n",
      "Current generation: 4498, Current Best: 50000, not feasible\n",
      "Current generation: 4499, Current Best: 50000, not feasible\n",
      "Current generation: 4500, Current Best: 50000, not feasible\n",
      "Current generation: 4501, Current Best: 50000, not feasible\n",
      "Current generation: 4502, Current Best: 50000, not feasible\n",
      "Current generation: 4503, Current Best: 50000, not feasible\n",
      "Current generation: 4504, Current Best: 50000, not feasible\n",
      "Current generation: 4505, Current Best: 50000, not feasible\n",
      "Current generation: 4506, Current Best: 50000, not feasible\n",
      "Current generation: 4507, Current Best: 50000, not feasible\n",
      "Current generation: 4508, Current Best: 50000, not feasible\n",
      "Current generation: 4509, Current Best: 50000, not feasible\n",
      "Current generation: 4510, Current Best: 50000, not feasible\n",
      "Current generation: 4511, Current Best: 50000, not feasible\n",
      "Current generation: 4512, Current Best: 50000, not feasible\n",
      "Current generation: 4513, Current Best: 50000, not feasible\n",
      "Current generation: 4514, Current Best: 50000, not feasible\n",
      "Current generation: 4515, Current Best: 50000, not feasible\n",
      "Current generation: 4516, Current Best: 50000, not feasible\n",
      "Current generation: 4517, Current Best: 50000, not feasible\n",
      "Current generation: 4518, Current Best: 50000, not feasible\n",
      "Current generation: 4519, Current Best: 50000, not feasible\n",
      "Current generation: 4520, Current Best: 50000, not feasible\n",
      "Current generation: 4521, Current Best: 50000, not feasible\n",
      "Current generation: 4522, Current Best: 50000, not feasible\n",
      "Current generation: 4523, Current Best: 50000, not feasible\n",
      "Current generation: 4524, Current Best: 50000, not feasible\n",
      "Current generation: 4525, Current Best: 50000, not feasible\n",
      "Current generation: 4526, Current Best: 50000, not feasible\n",
      "Current generation: 4527, Current Best: 50000, not feasible\n",
      "Current generation: 4528, Current Best: 50000, not feasible\n",
      "Current generation: 4529, Current Best: 50000, not feasible\n",
      "Current generation: 4530, Current Best: 50000, not feasible\n",
      "Current generation: 4531, Current Best: 50000, not feasible\n",
      "Current generation: 4532, Current Best: 50000, not feasible\n",
      "Current generation: 4533, Current Best: 50000, not feasible\n",
      "Current generation: 4534, Current Best: 50000, not feasible\n",
      "Current generation: 4535, Current Best: 50000, not feasible\n",
      "Current generation: 4536, Current Best: 50000, not feasible\n",
      "Current generation: 4537, Current Best: 50000, not feasible\n",
      "Current generation: 4538, Current Best: 50000, not feasible\n",
      "Current generation: 4539, Current Best: 50000, not feasible\n",
      "Current generation: 4540, Current Best: 50000, not feasible\n",
      "Current generation: 4541, Current Best: 50000, not feasible\n",
      "Current generation: 4542, Current Best: 50000, not feasible\n",
      "Current generation: 4543, Current Best: 50000, not feasible\n",
      "Current generation: 4544, Current Best: 50000, not feasible\n",
      "Current generation: 4545, Current Best: 50000, not feasible\n",
      "Current generation: 4546, Current Best: 50000, not feasible\n",
      "Current generation: 4547, Current Best: 50000, not feasible\n",
      "Current generation: 4548, Current Best: 50000, not feasible\n",
      "Current generation: 4549, Current Best: 50000, not feasible\n",
      "Current generation: 4550, Current Best: 50000, not feasible\n",
      "Current generation: 4551, Current Best: 50000, not feasible\n",
      "Current generation: 4552, Current Best: 50000, not feasible\n",
      "Current generation: 4553, Current Best: 50000, not feasible\n",
      "Current generation: 4554, Current Best: 50000, not feasible\n",
      "Current generation: 4555, Current Best: 50000, not feasible\n",
      "Current generation: 4556, Current Best: 50000, not feasible\n",
      "Current generation: 4557, Current Best: 50000, not feasible\n",
      "Current generation: 4558, Current Best: 50000, not feasible\n",
      "Current generation: 4559, Current Best: 50000, not feasible\n",
      "Current generation: 4560, Current Best: 50000, not feasible\n",
      "Current generation: 4561, Current Best: 50000, not feasible\n",
      "Current generation: 4562, Current Best: 50000, not feasible\n",
      "Current generation: 4563, Current Best: 50000, not feasible\n",
      "Current generation: 4564, Current Best: 50000, not feasible\n",
      "Current generation: 4565, Current Best: 50000, not feasible\n",
      "Current generation: 4566, Current Best: 50000, not feasible\n",
      "Current generation: 4567, Current Best: 50000, not feasible\n",
      "Current generation: 4568, Current Best: 50000, not feasible\n",
      "Current generation: 4569, Current Best: 50000, not feasible\n",
      "Current generation: 4570, Current Best: 50000, not feasible\n",
      "Current generation: 4571, Current Best: 50000, not feasible\n",
      "Current generation: 4572, Current Best: 50000, not feasible\n",
      "Current generation: 4573, Current Best: 50000, not feasible\n",
      "Current generation: 4574, Current Best: 50000, not feasible\n",
      "Current generation: 4575, Current Best: 50000, not feasible\n",
      "Current generation: 4576, Current Best: 50000, not feasible\n",
      "Current generation: 4577, Current Best: 50000, not feasible\n",
      "Current generation: 4578, Current Best: 50000, not feasible\n",
      "Current generation: 4579, Current Best: 50000, not feasible\n",
      "Current generation: 4580, Current Best: 50000, not feasible\n",
      "Current generation: 4581, Current Best: 50000, not feasible\n",
      "Current generation: 4582, Current Best: 50000, not feasible\n",
      "Current generation: 4583, Current Best: 50000, not feasible\n",
      "Current generation: 4584, Current Best: 50000, not feasible\n",
      "Current generation: 4585, Current Best: 50000, not feasible\n",
      "Current generation: 4586, Current Best: 50000, not feasible\n",
      "Current generation: 4587, Current Best: 50000, not feasible\n",
      "Current generation: 4588, Current Best: 50000, not feasible\n",
      "Current generation: 4589, Current Best: 50000, not feasible\n",
      "Current generation: 4590, Current Best: 50000, not feasible\n",
      "Current generation: 4591, Current Best: 50000, not feasible\n",
      "Current generation: 4592, Current Best: 50000, not feasible\n",
      "Current generation: 4593, Current Best: 50000, not feasible\n",
      "Current generation: 4594, Current Best: 50000, not feasible\n",
      "Current generation: 4595, Current Best: 50000, not feasible\n",
      "Current generation: 4596, Current Best: 50000, not feasible\n",
      "Current generation: 4597, Current Best: 50000, not feasible\n",
      "Current generation: 4598, Current Best: 50000, not feasible\n",
      "Current generation: 4599, Current Best: 50000, not feasible\n",
      "Current generation: 4600, Current Best: 50000, not feasible\n",
      "Current generation: 4601, Current Best: 50000, not feasible\n",
      "Current generation: 4602, Current Best: 50000, not feasible\n",
      "Current generation: 4603, Current Best: 50000, not feasible\n",
      "Current generation: 4604, Current Best: 50000, not feasible\n",
      "Current generation: 4605, Current Best: 50000, not feasible\n",
      "Current generation: 4606, Current Best: 50000, not feasible\n",
      "Current generation: 4607, Current Best: 50000, not feasible\n",
      "Current generation: 4608, Current Best: 50000, not feasible\n",
      "Current generation: 4609, Current Best: 50000, not feasible\n",
      "Current generation: 4610, Current Best: 50000, not feasible\n",
      "Current generation: 4611, Current Best: 50000, not feasible\n",
      "Current generation: 4612, Current Best: 50000, not feasible\n",
      "Current generation: 4613, Current Best: 50000, not feasible\n",
      "Current generation: 4614, Current Best: 50000, not feasible\n",
      "Current generation: 4615, Current Best: 50000, not feasible\n",
      "Current generation: 4616, Current Best: 50000, not feasible\n",
      "Current generation: 4617, Current Best: 50000, not feasible\n",
      "Current generation: 4618, Current Best: 50000, not feasible\n",
      "Current generation: 4619, Current Best: 50000, not feasible\n",
      "Current generation: 4620, Current Best: 50000, not feasible\n",
      "Current generation: 4621, Current Best: 50000, not feasible\n",
      "Current generation: 4622, Current Best: 50000, not feasible\n",
      "Current generation: 4623, Current Best: 50000, not feasible\n",
      "Current generation: 4624, Current Best: 50000, not feasible\n",
      "Current generation: 4625, Current Best: 50000, not feasible\n",
      "Current generation: 4626, Current Best: 50000, not feasible\n",
      "Current generation: 4627, Current Best: 50000, not feasible\n",
      "Current generation: 4628, Current Best: 50000, not feasible\n",
      "Current generation: 4629, Current Best: 50000, not feasible\n",
      "Current generation: 4630, Current Best: 50000, not feasible\n",
      "Current generation: 4631, Current Best: 50000, not feasible\n",
      "Current generation: 4632, Current Best: 50000, not feasible\n",
      "Current generation: 4633, Current Best: 50000, not feasible\n",
      "Current generation: 4634, Current Best: 50000, not feasible\n",
      "Current generation: 4635, Current Best: 50000, not feasible\n",
      "Current generation: 4636, Current Best: 50000, not feasible\n",
      "Current generation: 4637, Current Best: 50000, not feasible\n",
      "Current generation: 4638, Current Best: 50000, not feasible\n",
      "Current generation: 4639, Current Best: 50000, not feasible\n",
      "Current generation: 4640, Current Best: 50000, not feasible\n",
      "Current generation: 4641, Current Best: 50000, not feasible\n",
      "Current generation: 4642, Current Best: 50000, not feasible\n",
      "Current generation: 4643, Current Best: 50000, not feasible\n",
      "Current generation: 4644, Current Best: 50000, not feasible\n",
      "Current generation: 4645, Current Best: 50000, not feasible\n",
      "Current generation: 4646, Current Best: 50000, not feasible\n",
      "Current generation: 4647, Current Best: 50000, not feasible\n",
      "Current generation: 4648, Current Best: 50000, not feasible\n",
      "Current generation: 4649, Current Best: 50000, not feasible\n",
      "Current generation: 4650, Current Best: 50000, not feasible\n",
      "Current generation: 4651, Current Best: 50000, not feasible\n",
      "Current generation: 4652, Current Best: 50000, not feasible\n",
      "Current generation: 4653, Current Best: 50000, not feasible\n",
      "Current generation: 4654, Current Best: 50000, not feasible\n",
      "Current generation: 4655, Current Best: 50000, not feasible\n",
      "Current generation: 4656, Current Best: 50000, not feasible\n",
      "Current generation: 4657, Current Best: 50000, not feasible\n",
      "Current generation: 4658, Current Best: 50000, not feasible\n",
      "Current generation: 4659, Current Best: 50000, not feasible\n",
      "Current generation: 4660, Current Best: 50000, not feasible\n",
      "Current generation: 4661, Current Best: 50000, not feasible\n",
      "Current generation: 4662, Current Best: 50000, not feasible\n",
      "Current generation: 4663, Current Best: 50000, not feasible\n",
      "Current generation: 4664, Current Best: 50000, not feasible\n",
      "Current generation: 4665, Current Best: 50000, not feasible\n",
      "Current generation: 4666, Current Best: 50000, not feasible\n",
      "Current generation: 4667, Current Best: 50000, not feasible\n",
      "Current generation: 4668, Current Best: 50000, not feasible\n",
      "Current generation: 4669, Current Best: 50000, not feasible\n",
      "Current generation: 4670, Current Best: 50000, not feasible\n",
      "Current generation: 4671, Current Best: 50000, not feasible\n",
      "Current generation: 4672, Current Best: 50000, not feasible\n",
      "Current generation: 4673, Current Best: 50000, not feasible\n",
      "Current generation: 4674, Current Best: 50000, not feasible\n",
      "Current generation: 4675, Current Best: 50000, not feasible\n",
      "Current generation: 4676, Current Best: 50000, not feasible\n",
      "Current generation: 4677, Current Best: 50000, not feasible\n",
      "Current generation: 4678, Current Best: 50000, not feasible\n",
      "Current generation: 4679, Current Best: 50000, not feasible\n",
      "Current generation: 4680, Current Best: 50000, not feasible\n",
      "Current generation: 4681, Current Best: 50000, not feasible\n",
      "Current generation: 4682, Current Best: 50000, not feasible\n",
      "Current generation: 4683, Current Best: 50000, not feasible\n",
      "Current generation: 4684, Current Best: 50000, not feasible\n",
      "Current generation: 4685, Current Best: 50000, not feasible\n",
      "Current generation: 4686, Current Best: 50000, not feasible\n",
      "Current generation: 4687, Current Best: 50000, not feasible\n",
      "Current generation: 4688, Current Best: 50000, not feasible\n",
      "Current generation: 4689, Current Best: 50000, not feasible\n",
      "Current generation: 4690, Current Best: 50000, not feasible\n",
      "Current generation: 4691, Current Best: 50000, not feasible\n",
      "Current generation: 4692, Current Best: 50000, not feasible\n",
      "Current generation: 4693, Current Best: 50000, not feasible\n",
      "Current generation: 4694, Current Best: 50000, not feasible\n",
      "Current generation: 4695, Current Best: 50000, not feasible\n",
      "Current generation: 4696, Current Best: 50000, not feasible\n",
      "Current generation: 4697, Current Best: 50000, not feasible\n",
      "Current generation: 4698, Current Best: 50000, not feasible\n",
      "Current generation: 4699, Current Best: 50000, not feasible\n",
      "Current generation: 4700, Current Best: 50000, not feasible\n",
      "Current generation: 4701, Current Best: 50000, not feasible\n",
      "Current generation: 4702, Current Best: 50000, not feasible\n",
      "Current generation: 4703, Current Best: 50000, not feasible\n",
      "Current generation: 4704, Current Best: 50000, not feasible\n",
      "Current generation: 4705, Current Best: 50000, not feasible\n",
      "Current generation: 4706, Current Best: 50000, not feasible\n",
      "Current generation: 4707, Current Best: 50000, not feasible\n",
      "Current generation: 4708, Current Best: 50000, not feasible\n",
      "Current generation: 4709, Current Best: 50000, not feasible\n",
      "Current generation: 4710, Current Best: 50000, not feasible\n",
      "Current generation: 4711, Current Best: 50000, not feasible\n",
      "Current generation: 4712, Current Best: 50000, not feasible\n",
      "Current generation: 4713, Current Best: 50000, not feasible\n",
      "Current generation: 4714, Current Best: 50000, not feasible\n",
      "Current generation: 4715, Current Best: 50000, not feasible\n",
      "Current generation: 4716, Current Best: 50000, not feasible\n",
      "Current generation: 4717, Current Best: 50000, not feasible\n",
      "Current generation: 4718, Current Best: 50000, not feasible\n",
      "Current generation: 4719, Current Best: 50000, not feasible\n",
      "Current generation: 4720, Current Best: 50000, not feasible\n",
      "Current generation: 4721, Current Best: 50000, not feasible\n",
      "Current generation: 4722, Current Best: 50000, not feasible\n",
      "Current generation: 4723, Current Best: 50000, not feasible\n",
      "Current generation: 4724, Current Best: 50000, not feasible\n",
      "Current generation: 4725, Current Best: 50000, not feasible\n",
      "Current generation: 4726, Current Best: 50000, not feasible\n",
      "Current generation: 4727, Current Best: 50000, not feasible\n",
      "Current generation: 4728, Current Best: 50000, not feasible\n",
      "Current generation: 4729, Current Best: 50000, not feasible\n",
      "Current generation: 4730, Current Best: 50000, not feasible\n",
      "Current generation: 4731, Current Best: 50000, not feasible\n",
      "Current generation: 4732, Current Best: 50000, not feasible\n",
      "Current generation: 4733, Current Best: 50000, not feasible\n",
      "Current generation: 4734, Current Best: 50000, not feasible\n",
      "Current generation: 4735, Current Best: 50000, not feasible\n",
      "Current generation: 4736, Current Best: 50000, not feasible\n",
      "Current generation: 4737, Current Best: 50000, not feasible\n",
      "Current generation: 4738, Current Best: 50000, not feasible\n",
      "Current generation: 4739, Current Best: 50000, not feasible\n",
      "Current generation: 4740, Current Best: 50000, not feasible\n",
      "Current generation: 4741, Current Best: 50000, not feasible\n",
      "Current generation: 4742, Current Best: 50000, not feasible\n",
      "Current generation: 4743, Current Best: 50000, not feasible\n",
      "Current generation: 4744, Current Best: 50000, not feasible\n",
      "Current generation: 4745, Current Best: 50000, not feasible\n",
      "Current generation: 4746, Current Best: 50000, not feasible\n",
      "Current generation: 4747, Current Best: 50000, not feasible\n",
      "Current generation: 4748, Current Best: 50000, not feasible\n",
      "Current generation: 4749, Current Best: 50000, not feasible\n",
      "Current generation: 4750, Current Best: 50000, not feasible\n",
      "Current generation: 4751, Current Best: 50000, not feasible\n",
      "Current generation: 4752, Current Best: 50000, not feasible\n",
      "Current generation: 4753, Current Best: 50000, not feasible\n",
      "Current generation: 4754, Current Best: 50000, not feasible\n",
      "Current generation: 4755, Current Best: 50000, not feasible\n",
      "Current generation: 4756, Current Best: 50000, not feasible\n",
      "Current generation: 4757, Current Best: 50000, not feasible\n",
      "Current generation: 4758, Current Best: 50000, not feasible\n",
      "Current generation: 4759, Current Best: 50000, not feasible\n",
      "Current generation: 4760, Current Best: 50000, not feasible\n",
      "Current generation: 4761, Current Best: 50000, not feasible\n",
      "Current generation: 4762, Current Best: 50000, not feasible\n",
      "Current generation: 4763, Current Best: 50000, not feasible\n",
      "Current generation: 4764, Current Best: 50000, not feasible\n",
      "Current generation: 4765, Current Best: 50000, not feasible\n",
      "Current generation: 4766, Current Best: 50000, not feasible\n",
      "Current generation: 4767, Current Best: 50000, not feasible\n",
      "Current generation: 4768, Current Best: 50000, not feasible\n",
      "Current generation: 4769, Current Best: 50000, not feasible\n",
      "Current generation: 4770, Current Best: 50000, not feasible\n",
      "Current generation: 4771, Current Best: 50000, not feasible\n",
      "Current generation: 4772, Current Best: 50000, not feasible\n",
      "Current generation: 4773, Current Best: 50000, not feasible\n",
      "Current generation: 4774, Current Best: 50000, not feasible\n",
      "Current generation: 4775, Current Best: 50000, not feasible\n",
      "Current generation: 4776, Current Best: 50000, not feasible\n",
      "Current generation: 4777, Current Best: 50000, not feasible\n",
      "Current generation: 4778, Current Best: 50000, not feasible\n",
      "Current generation: 4779, Current Best: 50000, not feasible\n",
      "Current generation: 4780, Current Best: 50000, not feasible\n",
      "Current generation: 4781, Current Best: 50000, not feasible\n",
      "Current generation: 4782, Current Best: 50000, not feasible\n",
      "Current generation: 4783, Current Best: 50000, not feasible\n",
      "Current generation: 4784, Current Best: 50000, not feasible\n",
      "Current generation: 4785, Current Best: 50000, not feasible\n",
      "Current generation: 4786, Current Best: 50000, not feasible\n",
      "Current generation: 4787, Current Best: 50000, not feasible\n",
      "Current generation: 4788, Current Best: 50000, not feasible\n",
      "Current generation: 4789, Current Best: 50000, not feasible\n",
      "Current generation: 4790, Current Best: 50000, not feasible\n",
      "Current generation: 4791, Current Best: 50000, not feasible\n",
      "Current generation: 4792, Current Best: 50000, not feasible\n",
      "Current generation: 4793, Current Best: 50000, not feasible\n",
      "Current generation: 4794, Current Best: 50000, not feasible\n",
      "Current generation: 4795, Current Best: 50000, not feasible\n",
      "Current generation: 4796, Current Best: 50000, not feasible\n",
      "Current generation: 4797, Current Best: 50000, not feasible\n",
      "Current generation: 4798, Current Best: 50000, not feasible\n",
      "Current generation: 4799, Current Best: 50000, not feasible\n",
      "Current generation: 4800, Current Best: 50000, not feasible\n",
      "Current generation: 4801, Current Best: 50000, not feasible\n",
      "Current generation: 4802, Current Best: 50000, not feasible\n",
      "Current generation: 4803, Current Best: 50000, not feasible\n",
      "Current generation: 4804, Current Best: 50000, not feasible\n",
      "Current generation: 4805, Current Best: 50000, not feasible\n",
      "Current generation: 4806, Current Best: 50000, not feasible\n",
      "Current generation: 4807, Current Best: 50000, not feasible\n",
      "Current generation: 4808, Current Best: 50000, not feasible\n",
      "Current generation: 4809, Current Best: 50000, not feasible\n",
      "Current generation: 4810, Current Best: 50000, not feasible\n",
      "Current generation: 4811, Current Best: 50000, not feasible\n",
      "Current generation: 4812, Current Best: 50000, not feasible\n",
      "Current generation: 4813, Current Best: 50000, not feasible\n",
      "Current generation: 4814, Current Best: 50000, not feasible\n",
      "Current generation: 4815, Current Best: 50000, not feasible\n",
      "Current generation: 4816, Current Best: 50000, not feasible\n",
      "Current generation: 4817, Current Best: 50000, not feasible\n",
      "Current generation: 4818, Current Best: 50000, not feasible\n",
      "Current generation: 4819, Current Best: 50000, not feasible\n",
      "Current generation: 4820, Current Best: 50000, not feasible\n",
      "Current generation: 4821, Current Best: 50000, not feasible\n",
      "Current generation: 4822, Current Best: 50000, not feasible\n",
      "Current generation: 4823, Current Best: 50000, not feasible\n",
      "Current generation: 4824, Current Best: 50000, not feasible\n",
      "Current generation: 4825, Current Best: 50000, not feasible\n",
      "Current generation: 4826, Current Best: 50000, not feasible\n",
      "Current generation: 4827, Current Best: 50000, not feasible\n",
      "Current generation: 4828, Current Best: 50000, not feasible\n",
      "Current generation: 4829, Current Best: 50000, not feasible\n",
      "Current generation: 4830, Current Best: 50000, not feasible\n",
      "Current generation: 4831, Current Best: 50000, not feasible\n",
      "Current generation: 4832, Current Best: 50000, not feasible\n",
      "Current generation: 4833, Current Best: 50000, not feasible\n",
      "Current generation: 4834, Current Best: 50000, not feasible\n",
      "Current generation: 4835, Current Best: 50000, not feasible\n",
      "Current generation: 4836, Current Best: 50000, not feasible\n",
      "Current generation: 4837, Current Best: 50000, not feasible\n",
      "Current generation: 4838, Current Best: 50000, not feasible\n",
      "Current generation: 4839, Current Best: 50000, not feasible\n",
      "Current generation: 4840, Current Best: 50000, not feasible\n",
      "Current generation: 4841, Current Best: 50000, not feasible\n",
      "Current generation: 4842, Current Best: 50000, not feasible\n",
      "Current generation: 4843, Current Best: 50000, not feasible\n",
      "Current generation: 4844, Current Best: 50000, not feasible\n",
      "Current generation: 4845, Current Best: 50000, not feasible\n",
      "Current generation: 4846, Current Best: 50000, not feasible\n",
      "Current generation: 4847, Current Best: 50000, not feasible\n",
      "Current generation: 4848, Current Best: 50000, not feasible\n",
      "Current generation: 4849, Current Best: 50000, not feasible\n",
      "Current generation: 4850, Current Best: 50000, not feasible\n",
      "Current generation: 4851, Current Best: 50000, not feasible\n",
      "Current generation: 4852, Current Best: 50000, not feasible\n",
      "Current generation: 4853, Current Best: 50000, not feasible\n",
      "Current generation: 4854, Current Best: 50000, not feasible\n",
      "Current generation: 4855, Current Best: 50000, not feasible\n",
      "Current generation: 4856, Current Best: 50000, not feasible\n",
      "Current generation: 4857, Current Best: 50000, not feasible\n",
      "Current generation: 4858, Current Best: 50000, not feasible\n",
      "Current generation: 4859, Current Best: 50000, not feasible\n",
      "Current generation: 4860, Current Best: 50000, not feasible\n",
      "Current generation: 4861, Current Best: 50000, not feasible\n",
      "Current generation: 4862, Current Best: 50000, not feasible\n",
      "Current generation: 4863, Current Best: 50000, not feasible\n",
      "Current generation: 4864, Current Best: 50000, not feasible\n",
      "Current generation: 4865, Current Best: 50000, not feasible\n",
      "Current generation: 4866, Current Best: 50000, not feasible\n",
      "Current generation: 4867, Current Best: 50000, not feasible\n",
      "Current generation: 4868, Current Best: 50000, not feasible\n",
      "Current generation: 4869, Current Best: 50000, not feasible\n",
      "Current generation: 4870, Current Best: 50000, not feasible\n",
      "Current generation: 4871, Current Best: 50000, not feasible\n",
      "Current generation: 4872, Current Best: 50000, not feasible\n",
      "Current generation: 4873, Current Best: 50000, not feasible\n",
      "Current generation: 4874, Current Best: 50000, not feasible\n",
      "Current generation: 4875, Current Best: 50000, not feasible\n",
      "Current generation: 4876, Current Best: 50000, not feasible\n",
      "Current generation: 4877, Current Best: 50000, not feasible\n",
      "Current generation: 4878, Current Best: 50000, not feasible\n",
      "Current generation: 4879, Current Best: 50000, not feasible\n",
      "Current generation: 4880, Current Best: 50000, not feasible\n",
      "Current generation: 4881, Current Best: 50000, not feasible\n",
      "Current generation: 4882, Current Best: 50000, not feasible\n",
      "Current generation: 4883, Current Best: 50000, not feasible\n",
      "Current generation: 4884, Current Best: 50000, not feasible\n",
      "Current generation: 4885, Current Best: 50000, not feasible\n",
      "Current generation: 4886, Current Best: 50000, not feasible\n",
      "Current generation: 4887, Current Best: 50000, not feasible\n",
      "Current generation: 4888, Current Best: 50000, not feasible\n",
      "Current generation: 4889, Current Best: 50000, not feasible\n",
      "Current generation: 4890, Current Best: 50000, not feasible\n",
      "Current generation: 4891, Current Best: 50000, not feasible\n",
      "Current generation: 4892, Current Best: 50000, not feasible\n",
      "Current generation: 4893, Current Best: 50000, not feasible\n",
      "Current generation: 4894, Current Best: 50000, not feasible\n",
      "Current generation: 4895, Current Best: 50000, not feasible\n",
      "Current generation: 4896, Current Best: 50000, not feasible\n",
      "Current generation: 4897, Current Best: 50000, not feasible\n",
      "Current generation: 4898, Current Best: 50000, not feasible\n",
      "Current generation: 4899, Current Best: 50000, not feasible\n",
      "Current generation: 4900, Current Best: 50000, not feasible\n",
      "Current generation: 4901, Current Best: 50000, not feasible\n",
      "Current generation: 4902, Current Best: 50000, not feasible\n",
      "Current generation: 4903, Current Best: 50000, not feasible\n",
      "Current generation: 4904, Current Best: 50000, not feasible\n",
      "Current generation: 4905, Current Best: 50000, not feasible\n",
      "Current generation: 4906, Current Best: 50000, not feasible\n",
      "Current generation: 4907, Current Best: 50000, not feasible\n",
      "Current generation: 4908, Current Best: 50000, not feasible\n",
      "Current generation: 4909, Current Best: 50000, not feasible\n",
      "Current generation: 4910, Current Best: 50000, not feasible\n",
      "Current generation: 4911, Current Best: 50000, not feasible\n",
      "Current generation: 4912, Current Best: 50000, not feasible\n",
      "Current generation: 4913, Current Best: 50000, not feasible\n",
      "Current generation: 4914, Current Best: 50000, not feasible\n",
      "Current generation: 4915, Current Best: 50000, not feasible\n",
      "Current generation: 4916, Current Best: 50000, not feasible\n",
      "Current generation: 4917, Current Best: 50000, not feasible\n",
      "Current generation: 4918, Current Best: 50000, not feasible\n",
      "Current generation: 4919, Current Best: 50000, not feasible\n",
      "Current generation: 4920, Current Best: 50000, not feasible\n",
      "Current generation: 4921, Current Best: 50000, not feasible\n",
      "Current generation: 4922, Current Best: 50000, not feasible\n",
      "Current generation: 4923, Current Best: 50000, not feasible\n",
      "Current generation: 4924, Current Best: 50000, not feasible\n",
      "Current generation: 4925, Current Best: 50000, not feasible\n",
      "Current generation: 4926, Current Best: 50000, not feasible\n",
      "Current generation: 4927, Current Best: 50000, not feasible\n",
      "Current generation: 4928, Current Best: 50000, not feasible\n",
      "Current generation: 4929, Current Best: 50000, not feasible\n",
      "Current generation: 4930, Current Best: 50000, not feasible\n",
      "Current generation: 4931, Current Best: 50000, not feasible\n",
      "Current generation: 4932, Current Best: 50000, not feasible\n",
      "Current generation: 4933, Current Best: 50000, not feasible\n",
      "Current generation: 4934, Current Best: 50000, not feasible\n",
      "Current generation: 4935, Current Best: 50000, not feasible\n",
      "Current generation: 4936, Current Best: 50000, not feasible\n",
      "Current generation: 4937, Current Best: 50000, not feasible\n",
      "Current generation: 4938, Current Best: 50000, not feasible\n",
      "Current generation: 4939, Current Best: 50000, not feasible\n",
      "Current generation: 4940, Current Best: 50000, not feasible\n",
      "Current generation: 4941, Current Best: 50000, not feasible\n",
      "Current generation: 4942, Current Best: 50000, not feasible\n",
      "Current generation: 4943, Current Best: 50000, not feasible\n",
      "Current generation: 4944, Current Best: 50000, not feasible\n",
      "Current generation: 4945, Current Best: 50000, not feasible\n",
      "Current generation: 4946, Current Best: 50000, not feasible\n",
      "Current generation: 4947, Current Best: 50000, not feasible\n",
      "Current generation: 4948, Current Best: 50000, not feasible\n",
      "Current generation: 4949, Current Best: 50000, not feasible\n",
      "Current generation: 4950, Current Best: 50000, not feasible\n",
      "Current generation: 4951, Current Best: 50000, not feasible\n",
      "Current generation: 4952, Current Best: 50000, not feasible\n",
      "Current generation: 4953, Current Best: 50000, not feasible\n",
      "Current generation: 4954, Current Best: 50000, not feasible\n",
      "Current generation: 4955, Current Best: 50000, not feasible\n",
      "Current generation: 4956, Current Best: 50000, not feasible\n",
      "Current generation: 4957, Current Best: 50000, not feasible\n",
      "Current generation: 4958, Current Best: 50000, not feasible\n",
      "Current generation: 4959, Current Best: 50000, not feasible\n",
      "Current generation: 4960, Current Best: 50000, not feasible\n",
      "Current generation: 4961, Current Best: 50000, not feasible\n",
      "Current generation: 4962, Current Best: 50000, not feasible\n",
      "Current generation: 4963, Current Best: 50000, not feasible\n",
      "Current generation: 4964, Current Best: 50000, not feasible\n",
      "Current generation: 4965, Current Best: 50000, not feasible\n",
      "Current generation: 4966, Current Best: 50000, not feasible\n",
      "Current generation: 4967, Current Best: 50000, not feasible\n",
      "Current generation: 4968, Current Best: 50000, not feasible\n",
      "Current generation: 4969, Current Best: 50000, not feasible\n",
      "Current generation: 4970, Current Best: 50000, not feasible\n",
      "Current generation: 4971, Current Best: 50000, not feasible\n",
      "Current generation: 4972, Current Best: 50000, not feasible\n",
      "Current generation: 4973, Current Best: 50000, not feasible\n",
      "Current generation: 4974, Current Best: 50000, not feasible\n",
      "Current generation: 4975, Current Best: 50000, not feasible\n",
      "Current generation: 4976, Current Best: 50000, not feasible\n",
      "Current generation: 4977, Current Best: 50000, not feasible\n",
      "Current generation: 4978, Current Best: 50000, not feasible\n",
      "Current generation: 4979, Current Best: 50000, not feasible\n",
      "Current generation: 4980, Current Best: 50000, not feasible\n",
      "Current generation: 4981, Current Best: 50000, not feasible\n",
      "Current generation: 4982, Current Best: 50000, not feasible\n",
      "Current generation: 4983, Current Best: 50000, not feasible\n",
      "Current generation: 4984, Current Best: 50000, not feasible\n",
      "Current generation: 4985, Current Best: 50000, not feasible\n",
      "Current generation: 4986, Current Best: 50000, not feasible\n",
      "Current generation: 4987, Current Best: 50000, not feasible\n",
      "Current generation: 4988, Current Best: 50000, not feasible\n",
      "Current generation: 4989, Current Best: 50000, not feasible\n",
      "Current generation: 4990, Current Best: 50000, not feasible\n",
      "Current generation: 4991, Current Best: 50000, not feasible\n",
      "Current generation: 4992, Current Best: 50000, not feasible\n",
      "Current generation: 4993, Current Best: 50000, not feasible\n",
      "Current generation: 4994, Current Best: 50000, not feasible\n",
      "Current generation: 4995, Current Best: 50000, not feasible\n",
      "Current generation: 4996, Current Best: 50000, not feasible\n",
      "Current generation: 4997, Current Best: 50000, not feasible\n",
      "Current generation: 4998, Current Best: 50000, not feasible\n",
      "Current generation: 4999, Current Best: 50000, not feasible\n"
     ]
    },
    {
     "data": {
      "application/vnd.plotly.v1+json": {
       "config": {
        "plotlyServerURL": "https://plot.ly"
       },
       "data": [
        {
         "fill": "toself",
         "fillcolor": "rgb(112, 181, 65)",
         "hoverinfo": "name",
         "legendgroup": "rgb(112, 181, 65)",
         "mode": "none",
         "name": "1",
         "type": "scatter",
         "x": [
          5329,
          5400,
          5400,
          5329,
          5329,
          16754,
          16825,
          16825,
          16754,
          16754,
          33450,
          33515,
          33515,
          33450,
          33450,
          2249,
          2284,
          2284,
          2249,
          2249,
          23420,
          23484,
          23484,
          23420
         ],
         "y": [
          0.8,
          0.8,
          1.2,
          1.2,
          null,
          0.8,
          0.8,
          1.2,
          1.2,
          null,
          0.8,
          0.8,
          1.2,
          1.2,
          null,
          -0.2,
          -0.2,
          0.2,
          0.2,
          null,
          -0.2,
          -0.2,
          0.2,
          0.2
         ]
        },
        {
         "fill": "toself",
         "fillcolor": "rgb(137, 206, 90)",
         "hoverinfo": "name",
         "legendgroup": "rgb(137, 206, 90)",
         "mode": "none",
         "name": "2",
         "type": "scatter",
         "x": [
          35909,
          35932,
          35932,
          35909,
          35909,
          17156,
          17191,
          17191,
          17156,
          17156,
          26765,
          26800,
          26800,
          26765,
          26765,
          16123,
          16146,
          16146,
          16123,
          16123,
          10293,
          10316,
          10316,
          10293
         ],
         "y": [
          0.8,
          0.8,
          1.2,
          1.2,
          null,
          0.8,
          0.8,
          1.2,
          1.2,
          null,
          0.8,
          0.8,
          1.2,
          1.2,
          null,
          0.8,
          0.8,
          1.2,
          1.2,
          null,
          0.8,
          0.8,
          1.2,
          1.2
         ]
        },
        {
         "fill": "toself",
         "fillcolor": "rgb(162, 231, 115)",
         "hoverinfo": "name",
         "legendgroup": "rgb(162, 231, 115)",
         "mode": "none",
         "name": "3",
         "type": "scatter",
         "x": [
          43148,
          43213,
          43213,
          43148,
          43148,
          27140,
          27211,
          27211,
          27140,
          27140,
          29008,
          29051,
          29051,
          29008,
          29008,
          41720,
          41784,
          41784,
          41720,
          41720,
          34467,
          34531,
          34531,
          34467
         ],
         "y": [
          0.8,
          0.8,
          1.2,
          1.2,
          null,
          0.8,
          0.8,
          1.2,
          1.2,
          null,
          -0.2,
          -0.2,
          0.2,
          0.2,
          null,
          -0.2,
          -0.2,
          0.2,
          0.2,
          null,
          -0.2,
          -0.2,
          0.2,
          0.2
         ]
        },
        {
         "fill": "toself",
         "fillcolor": "rgb(187, 0, 140)",
         "hoverinfo": "name",
         "legendgroup": "rgb(187, 0, 140)",
         "mode": "none",
         "name": "5",
         "type": "scatter",
         "x": [
          18827,
          18862,
          18862,
          18827,
          18827,
          19759,
          19782,
          19782,
          19759,
          19759,
          5033,
          5076,
          5076,
          5033,
          5033,
          29492,
          29535,
          29535,
          29492,
          29492,
          31030,
          31073,
          31073,
          31030
         ],
         "y": [
          0.8,
          0.8,
          1.2,
          1.2,
          null,
          0.8,
          0.8,
          1.2,
          1.2,
          null,
          0.8,
          0.8,
          1.2,
          1.2,
          null,
          0.8,
          0.8,
          1.2,
          1.2,
          null,
          0.8,
          0.8,
          1.2,
          1.2
         ]
        },
        {
         "fill": "toself",
         "fillcolor": "rgb(212, 25, 165)",
         "hoverinfo": "name",
         "legendgroup": "rgb(212, 25, 165)",
         "mode": "none",
         "name": "6",
         "type": "scatter",
         "x": [
          40870,
          40905,
          40905,
          40870,
          40870,
          19475,
          19510,
          19510,
          19475,
          19475,
          33432,
          33453,
          33453,
          33432,
          33432,
          1278,
          1313,
          1313,
          1278,
          1278,
          7514,
          7549,
          7549,
          7514
         ],
         "y": [
          0.8,
          0.8,
          1.2,
          1.2,
          null,
          0.8,
          0.8,
          1.2,
          1.2,
          null,
          0.8,
          0.8,
          1.2,
          1.2,
          null,
          0.8,
          0.8,
          1.2,
          1.2,
          null,
          0.8,
          0.8,
          1.2,
          1.2
         ]
        },
        {
         "fill": "toself",
         "fillcolor": "rgb(237, 50, 190)",
         "hoverinfo": "name",
         "legendgroup": "rgb(237, 50, 190)",
         "mode": "none",
         "name": "7",
         "type": "scatter",
         "x": [
          42251,
          42272,
          42272,
          42251,
          42251,
          34284,
          34319,
          34319,
          34284,
          34284,
          1163,
          1206,
          1206,
          1163,
          1163,
          40369,
          40404,
          40404,
          40369,
          40369,
          9118,
          9139,
          9139,
          9118
         ],
         "y": [
          0.8,
          0.8,
          1.2,
          1.2,
          null,
          0.8,
          0.8,
          1.2,
          1.2,
          null,
          0.8,
          0.8,
          1.2,
          1.2,
          null,
          0.8,
          0.8,
          1.2,
          1.2,
          null,
          0.8,
          0.8,
          1.2,
          1.2
         ]
        },
        {
         "fill": "toself",
         "fillcolor": "rgb(31, 100, 240)",
         "hoverinfo": "name",
         "legendgroup": "rgb(31, 100, 240)",
         "mode": "none",
         "name": "9",
         "type": "scatter",
         "x": [
          23596,
          23667,
          23667,
          23596,
          23596,
          31666,
          31737,
          31737,
          31666,
          31666,
          24011,
          24082,
          24082,
          24011,
          24011,
          39819,
          39854,
          39854,
          39819,
          39819,
          44268,
          44303,
          44303,
          44268
         ],
         "y": [
          0.8,
          0.8,
          1.2,
          1.2,
          null,
          0.8,
          0.8,
          1.2,
          1.2,
          null,
          0.8,
          0.8,
          1.2,
          1.2,
          null,
          -0.2,
          -0.2,
          0.2,
          0.2,
          null,
          -0.2,
          -0.2,
          0.2,
          0.2
         ]
        },
        {
         "fill": "toself",
         "fillcolor": "rgb(56, 125, 9)",
         "hoverinfo": "name",
         "legendgroup": "rgb(56, 125, 9)",
         "mode": "none",
         "name": "4",
         "type": "scatter",
         "x": [
          32724,
          32759,
          32759,
          32724,
          32724,
          8085,
          8149,
          8149,
          8085,
          8085,
          33538,
          33581,
          33581,
          33538,
          33538,
          7556,
          7591,
          7591,
          7556,
          7556,
          34897,
          34961,
          34961,
          34897
         ],
         "y": [
          -0.2,
          -0.2,
          0.2,
          0.2,
          null,
          -0.2,
          -0.2,
          0.2,
          0.2,
          null,
          -0.2,
          -0.2,
          0.2,
          0.2,
          null,
          -0.2,
          -0.2,
          0.2,
          0.2,
          null,
          -0.2,
          -0.2,
          0.2,
          0.2
         ]
        },
        {
         "fill": "toself",
         "fillcolor": "rgb(6, 75, 215)",
         "hoverinfo": "name",
         "legendgroup": "rgb(6, 75, 215)",
         "mode": "none",
         "name": "8",
         "type": "scatter",
         "x": [
          10842,
          10907,
          10907,
          10842,
          10842,
          19147,
          19182,
          19182,
          19147,
          19147,
          15173,
          15237,
          15237,
          15173,
          15173,
          27778,
          27821,
          27821,
          27778,
          27778,
          39933,
          39976,
          39976,
          39933
         ],
         "y": [
          0.8,
          0.8,
          1.2,
          1.2,
          null,
          -0.2,
          -0.2,
          0.2,
          0.2,
          null,
          -0.2,
          -0.2,
          0.2,
          0.2,
          null,
          -0.2,
          -0.2,
          0.2,
          0.2,
          null,
          -0.2,
          -0.2,
          0.2,
          0.2
         ]
        },
        {
         "fill": "toself",
         "fillcolor": "rgb(87, 156, 40)",
         "hoverinfo": "name",
         "legendgroup": "rgb(87, 156, 40)",
         "mode": "none",
         "name": "0",
         "type": "scatter",
         "x": [
          13413,
          13436,
          13436,
          13413,
          13413,
          39598,
          39619,
          39619,
          39598,
          39598,
          24850,
          24885,
          24885,
          24850,
          24850,
          18871,
          18894,
          18894,
          18871,
          18871,
          6605,
          6640,
          6640,
          6605
         ],
         "y": [
          0.8,
          0.8,
          1.2,
          1.2,
          null,
          0.8,
          0.8,
          1.2,
          1.2,
          null,
          0.8,
          0.8,
          1.2,
          1.2,
          null,
          0.8,
          0.8,
          1.2,
          1.2,
          null,
          0.8,
          0.8,
          1.2,
          1.2
         ]
        },
        {
         "legendgroup": "rgb(112, 181, 65)",
         "marker": {
          "color": "rgb(112, 181, 65)",
          "opacity": 0,
          "size": 1
         },
         "mode": "markers",
         "name": "",
         "showlegend": false,
         "text": [
          null,
          null,
          null,
          null,
          null,
          null,
          null,
          null,
          null,
          null
         ],
         "type": "scatter",
         "x": [
          5329,
          5400,
          16754,
          16825,
          33450,
          33515,
          2249,
          2284,
          23420,
          23484
         ],
         "y": [
          1,
          1,
          1,
          1,
          1,
          1,
          0,
          0,
          0,
          0
         ]
        },
        {
         "legendgroup": "rgb(137, 206, 90)",
         "marker": {
          "color": "rgb(137, 206, 90)",
          "opacity": 0,
          "size": 1
         },
         "mode": "markers",
         "name": "",
         "showlegend": false,
         "text": [
          null,
          null,
          null,
          null,
          null,
          null,
          null,
          null,
          null,
          null
         ],
         "type": "scatter",
         "x": [
          35909,
          35932,
          17156,
          17191,
          26765,
          26800,
          16123,
          16146,
          10293,
          10316
         ],
         "y": [
          1,
          1,
          1,
          1,
          1,
          1,
          1,
          1,
          1,
          1
         ]
        },
        {
         "legendgroup": "rgb(162, 231, 115)",
         "marker": {
          "color": "rgb(162, 231, 115)",
          "opacity": 0,
          "size": 1
         },
         "mode": "markers",
         "name": "",
         "showlegend": false,
         "text": [
          null,
          null,
          null,
          null,
          null,
          null,
          null,
          null,
          null,
          null
         ],
         "type": "scatter",
         "x": [
          43148,
          43213,
          27140,
          27211,
          29008,
          29051,
          41720,
          41784,
          34467,
          34531
         ],
         "y": [
          1,
          1,
          1,
          1,
          0,
          0,
          0,
          0,
          0,
          0
         ]
        },
        {
         "legendgroup": "rgb(187, 0, 140)",
         "marker": {
          "color": "rgb(187, 0, 140)",
          "opacity": 0,
          "size": 1
         },
         "mode": "markers",
         "name": "",
         "showlegend": false,
         "text": [
          null,
          null,
          null,
          null,
          null,
          null,
          null,
          null,
          null,
          null
         ],
         "type": "scatter",
         "x": [
          18827,
          18862,
          19759,
          19782,
          5033,
          5076,
          29492,
          29535,
          31030,
          31073
         ],
         "y": [
          1,
          1,
          1,
          1,
          1,
          1,
          1,
          1,
          1,
          1
         ]
        },
        {
         "legendgroup": "rgb(212, 25, 165)",
         "marker": {
          "color": "rgb(212, 25, 165)",
          "opacity": 0,
          "size": 1
         },
         "mode": "markers",
         "name": "",
         "showlegend": false,
         "text": [
          null,
          null,
          null,
          null,
          null,
          null,
          null,
          null,
          null,
          null
         ],
         "type": "scatter",
         "x": [
          40870,
          40905,
          19475,
          19510,
          33432,
          33453,
          1278,
          1313,
          7514,
          7549
         ],
         "y": [
          1,
          1,
          1,
          1,
          1,
          1,
          1,
          1,
          1,
          1
         ]
        },
        {
         "legendgroup": "rgb(237, 50, 190)",
         "marker": {
          "color": "rgb(237, 50, 190)",
          "opacity": 0,
          "size": 1
         },
         "mode": "markers",
         "name": "",
         "showlegend": false,
         "text": [
          null,
          null,
          null,
          null,
          null,
          null,
          null,
          null,
          null,
          null
         ],
         "type": "scatter",
         "x": [
          42251,
          42272,
          34284,
          34319,
          1163,
          1206,
          40369,
          40404,
          9118,
          9139
         ],
         "y": [
          1,
          1,
          1,
          1,
          1,
          1,
          1,
          1,
          1,
          1
         ]
        },
        {
         "legendgroup": "rgb(31, 100, 240)",
         "marker": {
          "color": "rgb(31, 100, 240)",
          "opacity": 0,
          "size": 1
         },
         "mode": "markers",
         "name": "",
         "showlegend": false,
         "text": [
          null,
          null,
          null,
          null,
          null,
          null,
          null,
          null,
          null,
          null
         ],
         "type": "scatter",
         "x": [
          23596,
          23667,
          31666,
          31737,
          24011,
          24082,
          39819,
          39854,
          44268,
          44303
         ],
         "y": [
          1,
          1,
          1,
          1,
          1,
          1,
          0,
          0,
          0,
          0
         ]
        },
        {
         "legendgroup": "rgb(56, 125, 9)",
         "marker": {
          "color": "rgb(56, 125, 9)",
          "opacity": 0,
          "size": 1
         },
         "mode": "markers",
         "name": "",
         "showlegend": false,
         "text": [
          null,
          null,
          null,
          null,
          null,
          null,
          null,
          null,
          null,
          null
         ],
         "type": "scatter",
         "x": [
          32724,
          32759,
          8085,
          8149,
          33538,
          33581,
          7556,
          7591,
          34897,
          34961
         ],
         "y": [
          0,
          0,
          0,
          0,
          0,
          0,
          0,
          0,
          0,
          0
         ]
        },
        {
         "legendgroup": "rgb(6, 75, 215)",
         "marker": {
          "color": "rgb(6, 75, 215)",
          "opacity": 0,
          "size": 1
         },
         "mode": "markers",
         "name": "",
         "showlegend": false,
         "text": [
          null,
          null,
          null,
          null,
          null,
          null,
          null,
          null,
          null,
          null
         ],
         "type": "scatter",
         "x": [
          10842,
          10907,
          19147,
          19182,
          15173,
          15237,
          27778,
          27821,
          39933,
          39976
         ],
         "y": [
          1,
          1,
          0,
          0,
          0,
          0,
          0,
          0,
          0,
          0
         ]
        },
        {
         "legendgroup": "rgb(87, 156, 40)",
         "marker": {
          "color": "rgb(87, 156, 40)",
          "opacity": 0,
          "size": 1
         },
         "mode": "markers",
         "name": "",
         "showlegend": false,
         "text": [
          null,
          null,
          null,
          null,
          null,
          null,
          null,
          null,
          null,
          null
         ],
         "type": "scatter",
         "x": [
          13413,
          13436,
          39598,
          39619,
          24850,
          24885,
          18871,
          18894,
          6605,
          6640
         ],
         "y": [
          1,
          1,
          1,
          1,
          1,
          1,
          1,
          1,
          1,
          1
         ]
        }
       ],
       "layout": {
        "height": 600,
        "hovermode": "closest",
        "showlegend": true,
        "template": {
         "data": {
          "bar": [
           {
            "error_x": {
             "color": "#2a3f5f"
            },
            "error_y": {
             "color": "#2a3f5f"
            },
            "marker": {
             "line": {
              "color": "#E5ECF6",
              "width": 0.5
             },
             "pattern": {
              "fillmode": "overlay",
              "size": 10,
              "solidity": 0.2
             }
            },
            "type": "bar"
           }
          ],
          "barpolar": [
           {
            "marker": {
             "line": {
              "color": "#E5ECF6",
              "width": 0.5
             },
             "pattern": {
              "fillmode": "overlay",
              "size": 10,
              "solidity": 0.2
             }
            },
            "type": "barpolar"
           }
          ],
          "carpet": [
           {
            "aaxis": {
             "endlinecolor": "#2a3f5f",
             "gridcolor": "white",
             "linecolor": "white",
             "minorgridcolor": "white",
             "startlinecolor": "#2a3f5f"
            },
            "baxis": {
             "endlinecolor": "#2a3f5f",
             "gridcolor": "white",
             "linecolor": "white",
             "minorgridcolor": "white",
             "startlinecolor": "#2a3f5f"
            },
            "type": "carpet"
           }
          ],
          "choropleth": [
           {
            "colorbar": {
             "outlinewidth": 0,
             "ticks": ""
            },
            "type": "choropleth"
           }
          ],
          "contour": [
           {
            "colorbar": {
             "outlinewidth": 0,
             "ticks": ""
            },
            "colorscale": [
             [
              0,
              "#0d0887"
             ],
             [
              0.1111111111111111,
              "#46039f"
             ],
             [
              0.2222222222222222,
              "#7201a8"
             ],
             [
              0.3333333333333333,
              "#9c179e"
             ],
             [
              0.4444444444444444,
              "#bd3786"
             ],
             [
              0.5555555555555556,
              "#d8576b"
             ],
             [
              0.6666666666666666,
              "#ed7953"
             ],
             [
              0.7777777777777778,
              "#fb9f3a"
             ],
             [
              0.8888888888888888,
              "#fdca26"
             ],
             [
              1,
              "#f0f921"
             ]
            ],
            "type": "contour"
           }
          ],
          "contourcarpet": [
           {
            "colorbar": {
             "outlinewidth": 0,
             "ticks": ""
            },
            "type": "contourcarpet"
           }
          ],
          "heatmap": [
           {
            "colorbar": {
             "outlinewidth": 0,
             "ticks": ""
            },
            "colorscale": [
             [
              0,
              "#0d0887"
             ],
             [
              0.1111111111111111,
              "#46039f"
             ],
             [
              0.2222222222222222,
              "#7201a8"
             ],
             [
              0.3333333333333333,
              "#9c179e"
             ],
             [
              0.4444444444444444,
              "#bd3786"
             ],
             [
              0.5555555555555556,
              "#d8576b"
             ],
             [
              0.6666666666666666,
              "#ed7953"
             ],
             [
              0.7777777777777778,
              "#fb9f3a"
             ],
             [
              0.8888888888888888,
              "#fdca26"
             ],
             [
              1,
              "#f0f921"
             ]
            ],
            "type": "heatmap"
           }
          ],
          "heatmapgl": [
           {
            "colorbar": {
             "outlinewidth": 0,
             "ticks": ""
            },
            "colorscale": [
             [
              0,
              "#0d0887"
             ],
             [
              0.1111111111111111,
              "#46039f"
             ],
             [
              0.2222222222222222,
              "#7201a8"
             ],
             [
              0.3333333333333333,
              "#9c179e"
             ],
             [
              0.4444444444444444,
              "#bd3786"
             ],
             [
              0.5555555555555556,
              "#d8576b"
             ],
             [
              0.6666666666666666,
              "#ed7953"
             ],
             [
              0.7777777777777778,
              "#fb9f3a"
             ],
             [
              0.8888888888888888,
              "#fdca26"
             ],
             [
              1,
              "#f0f921"
             ]
            ],
            "type": "heatmapgl"
           }
          ],
          "histogram": [
           {
            "marker": {
             "pattern": {
              "fillmode": "overlay",
              "size": 10,
              "solidity": 0.2
             }
            },
            "type": "histogram"
           }
          ],
          "histogram2d": [
           {
            "colorbar": {
             "outlinewidth": 0,
             "ticks": ""
            },
            "colorscale": [
             [
              0,
              "#0d0887"
             ],
             [
              0.1111111111111111,
              "#46039f"
             ],
             [
              0.2222222222222222,
              "#7201a8"
             ],
             [
              0.3333333333333333,
              "#9c179e"
             ],
             [
              0.4444444444444444,
              "#bd3786"
             ],
             [
              0.5555555555555556,
              "#d8576b"
             ],
             [
              0.6666666666666666,
              "#ed7953"
             ],
             [
              0.7777777777777778,
              "#fb9f3a"
             ],
             [
              0.8888888888888888,
              "#fdca26"
             ],
             [
              1,
              "#f0f921"
             ]
            ],
            "type": "histogram2d"
           }
          ],
          "histogram2dcontour": [
           {
            "colorbar": {
             "outlinewidth": 0,
             "ticks": ""
            },
            "colorscale": [
             [
              0,
              "#0d0887"
             ],
             [
              0.1111111111111111,
              "#46039f"
             ],
             [
              0.2222222222222222,
              "#7201a8"
             ],
             [
              0.3333333333333333,
              "#9c179e"
             ],
             [
              0.4444444444444444,
              "#bd3786"
             ],
             [
              0.5555555555555556,
              "#d8576b"
             ],
             [
              0.6666666666666666,
              "#ed7953"
             ],
             [
              0.7777777777777778,
              "#fb9f3a"
             ],
             [
              0.8888888888888888,
              "#fdca26"
             ],
             [
              1,
              "#f0f921"
             ]
            ],
            "type": "histogram2dcontour"
           }
          ],
          "mesh3d": [
           {
            "colorbar": {
             "outlinewidth": 0,
             "ticks": ""
            },
            "type": "mesh3d"
           }
          ],
          "parcoords": [
           {
            "line": {
             "colorbar": {
              "outlinewidth": 0,
              "ticks": ""
             }
            },
            "type": "parcoords"
           }
          ],
          "pie": [
           {
            "automargin": true,
            "type": "pie"
           }
          ],
          "scatter": [
           {
            "marker": {
             "colorbar": {
              "outlinewidth": 0,
              "ticks": ""
             }
            },
            "type": "scatter"
           }
          ],
          "scatter3d": [
           {
            "line": {
             "colorbar": {
              "outlinewidth": 0,
              "ticks": ""
             }
            },
            "marker": {
             "colorbar": {
              "outlinewidth": 0,
              "ticks": ""
             }
            },
            "type": "scatter3d"
           }
          ],
          "scattercarpet": [
           {
            "marker": {
             "colorbar": {
              "outlinewidth": 0,
              "ticks": ""
             }
            },
            "type": "scattercarpet"
           }
          ],
          "scattergeo": [
           {
            "marker": {
             "colorbar": {
              "outlinewidth": 0,
              "ticks": ""
             }
            },
            "type": "scattergeo"
           }
          ],
          "scattergl": [
           {
            "marker": {
             "colorbar": {
              "outlinewidth": 0,
              "ticks": ""
             }
            },
            "type": "scattergl"
           }
          ],
          "scattermapbox": [
           {
            "marker": {
             "colorbar": {
              "outlinewidth": 0,
              "ticks": ""
             }
            },
            "type": "scattermapbox"
           }
          ],
          "scatterpolar": [
           {
            "marker": {
             "colorbar": {
              "outlinewidth": 0,
              "ticks": ""
             }
            },
            "type": "scatterpolar"
           }
          ],
          "scatterpolargl": [
           {
            "marker": {
             "colorbar": {
              "outlinewidth": 0,
              "ticks": ""
             }
            },
            "type": "scatterpolargl"
           }
          ],
          "scatterternary": [
           {
            "marker": {
             "colorbar": {
              "outlinewidth": 0,
              "ticks": ""
             }
            },
            "type": "scatterternary"
           }
          ],
          "surface": [
           {
            "colorbar": {
             "outlinewidth": 0,
             "ticks": ""
            },
            "colorscale": [
             [
              0,
              "#0d0887"
             ],
             [
              0.1111111111111111,
              "#46039f"
             ],
             [
              0.2222222222222222,
              "#7201a8"
             ],
             [
              0.3333333333333333,
              "#9c179e"
             ],
             [
              0.4444444444444444,
              "#bd3786"
             ],
             [
              0.5555555555555556,
              "#d8576b"
             ],
             [
              0.6666666666666666,
              "#ed7953"
             ],
             [
              0.7777777777777778,
              "#fb9f3a"
             ],
             [
              0.8888888888888888,
              "#fdca26"
             ],
             [
              1,
              "#f0f921"
             ]
            ],
            "type": "surface"
           }
          ],
          "table": [
           {
            "cells": {
             "fill": {
              "color": "#EBF0F8"
             },
             "line": {
              "color": "white"
             }
            },
            "header": {
             "fill": {
              "color": "#C8D4E3"
             },
             "line": {
              "color": "white"
             }
            },
            "type": "table"
           }
          ]
         },
         "layout": {
          "annotationdefaults": {
           "arrowcolor": "#2a3f5f",
           "arrowhead": 0,
           "arrowwidth": 1
          },
          "autotypenumbers": "strict",
          "coloraxis": {
           "colorbar": {
            "outlinewidth": 0,
            "ticks": ""
           }
          },
          "colorscale": {
           "diverging": [
            [
             0,
             "#8e0152"
            ],
            [
             0.1,
             "#c51b7d"
            ],
            [
             0.2,
             "#de77ae"
            ],
            [
             0.3,
             "#f1b6da"
            ],
            [
             0.4,
             "#fde0ef"
            ],
            [
             0.5,
             "#f7f7f7"
            ],
            [
             0.6,
             "#e6f5d0"
            ],
            [
             0.7,
             "#b8e186"
            ],
            [
             0.8,
             "#7fbc41"
            ],
            [
             0.9,
             "#4d9221"
            ],
            [
             1,
             "#276419"
            ]
           ],
           "sequential": [
            [
             0,
             "#0d0887"
            ],
            [
             0.1111111111111111,
             "#46039f"
            ],
            [
             0.2222222222222222,
             "#7201a8"
            ],
            [
             0.3333333333333333,
             "#9c179e"
            ],
            [
             0.4444444444444444,
             "#bd3786"
            ],
            [
             0.5555555555555556,
             "#d8576b"
            ],
            [
             0.6666666666666666,
             "#ed7953"
            ],
            [
             0.7777777777777778,
             "#fb9f3a"
            ],
            [
             0.8888888888888888,
             "#fdca26"
            ],
            [
             1,
             "#f0f921"
            ]
           ],
           "sequentialminus": [
            [
             0,
             "#0d0887"
            ],
            [
             0.1111111111111111,
             "#46039f"
            ],
            [
             0.2222222222222222,
             "#7201a8"
            ],
            [
             0.3333333333333333,
             "#9c179e"
            ],
            [
             0.4444444444444444,
             "#bd3786"
            ],
            [
             0.5555555555555556,
             "#d8576b"
            ],
            [
             0.6666666666666666,
             "#ed7953"
            ],
            [
             0.7777777777777778,
             "#fb9f3a"
            ],
            [
             0.8888888888888888,
             "#fdca26"
            ],
            [
             1,
             "#f0f921"
            ]
           ]
          },
          "colorway": [
           "#636efa",
           "#EF553B",
           "#00cc96",
           "#ab63fa",
           "#FFA15A",
           "#19d3f3",
           "#FF6692",
           "#B6E880",
           "#FF97FF",
           "#FECB52"
          ],
          "font": {
           "color": "#2a3f5f"
          },
          "geo": {
           "bgcolor": "white",
           "lakecolor": "white",
           "landcolor": "#E5ECF6",
           "showlakes": true,
           "showland": true,
           "subunitcolor": "white"
          },
          "hoverlabel": {
           "align": "left"
          },
          "hovermode": "closest",
          "mapbox": {
           "style": "light"
          },
          "paper_bgcolor": "white",
          "plot_bgcolor": "#E5ECF6",
          "polar": {
           "angularaxis": {
            "gridcolor": "white",
            "linecolor": "white",
            "ticks": ""
           },
           "bgcolor": "#E5ECF6",
           "radialaxis": {
            "gridcolor": "white",
            "linecolor": "white",
            "ticks": ""
           }
          },
          "scene": {
           "xaxis": {
            "backgroundcolor": "#E5ECF6",
            "gridcolor": "white",
            "gridwidth": 2,
            "linecolor": "white",
            "showbackground": true,
            "ticks": "",
            "zerolinecolor": "white"
           },
           "yaxis": {
            "backgroundcolor": "#E5ECF6",
            "gridcolor": "white",
            "gridwidth": 2,
            "linecolor": "white",
            "showbackground": true,
            "ticks": "",
            "zerolinecolor": "white"
           },
           "zaxis": {
            "backgroundcolor": "#E5ECF6",
            "gridcolor": "white",
            "gridwidth": 2,
            "linecolor": "white",
            "showbackground": true,
            "ticks": "",
            "zerolinecolor": "white"
           }
          },
          "shapedefaults": {
           "line": {
            "color": "#2a3f5f"
           }
          },
          "ternary": {
           "aaxis": {
            "gridcolor": "white",
            "linecolor": "white",
            "ticks": ""
           },
           "baxis": {
            "gridcolor": "white",
            "linecolor": "white",
            "ticks": ""
           },
           "bgcolor": "#E5ECF6",
           "caxis": {
            "gridcolor": "white",
            "linecolor": "white",
            "ticks": ""
           }
          },
          "title": {
           "x": 0.05
          },
          "xaxis": {
           "automargin": true,
           "gridcolor": "white",
           "linecolor": "white",
           "ticks": "",
           "title": {
            "standoff": 15
           },
           "zerolinecolor": "white",
           "zerolinewidth": 2
          },
          "yaxis": {
           "automargin": true,
           "gridcolor": "white",
           "linecolor": "white",
           "ticks": "",
           "title": {
            "standoff": 15
           },
           "zerolinecolor": "white",
           "zerolinewidth": 2
          }
         }
        },
        "title": {
         "text": "Gantt Chart"
        },
        "xaxis": {
         "rangeselector": {
          "buttons": [
           {
            "count": 7,
            "label": "1w",
            "step": "day",
            "stepmode": "backward"
           },
           {
            "count": 1,
            "label": "1m",
            "step": "month",
            "stepmode": "backward"
           },
           {
            "count": 6,
            "label": "6m",
            "step": "month",
            "stepmode": "backward"
           },
           {
            "count": 1,
            "label": "YTD",
            "step": "year",
            "stepmode": "todate"
           },
           {
            "count": 1,
            "label": "1y",
            "step": "year",
            "stepmode": "backward"
           },
           {
            "step": "all"
           }
          ]
         },
         "showgrid": false,
         "type": "linear",
         "zeroline": false
        },
        "yaxis": {
         "autorange": false,
         "range": [
          -1,
          3
         ],
         "showgrid": false,
         "ticktext": [
          "w1",
          "w2"
         ],
         "tickvals": [
          0,
          1
         ],
         "zeroline": false
        }
       }
      }
     },
     "metadata": {},
     "output_type": "display_data"
    },
    {
     "data": {
      "image/png": "[encoded data removed]",
      "text/plain": [
       "<Figure size 432x288 with 1 Axes>"
      ]
     },
     "metadata": {
      "needs_background": "light"
     },
     "output_type": "display_data"
    }
   ],
   "source": [
    "max_generations = 5000\n",
    "population_size = 10\n",
    "offspring_amount = 20\n",
    "earliest_time_slot = 0\n",
    "last_time_slot = 50000\n",
    "\n",
    "optimizer = BaseGA(env)\n",
    "optimizer.set_minimize()\n",
    "optimizer.configure('makespan', 'twopointcrossover', 'roulettewheel', 'randomize')\n",
    "# set all delivery dates to last time slot\n",
    "for order in orders:\n",
    "    order[1] = last_time_slot\n",
    "result, best_fitness_history, average_fitness_history, best_generation_history, feasible_gen = optimizer.optimize(orders, max_generations, earliest_time_slot, last_time_slot, population_size, offspring_amount, verbose=True)\n",
    "workstation_assignments = reformat_result(result, orders, env)\n",
    "visualize(workstation_assignments, best_fitness_history, average_fitness_history, best_generation_history, feasible_gen)"
   ]
  },
  {
   "cell_type": "markdown",
   "metadata": {},
   "source": [
    "<h3>Testing pygad</h3>"
   ]
  },
  {
   "cell_type": "code",
   "execution_count": 6,
   "metadata": {},
   "outputs": [],
   "source": [
    "import pygad"
   ]
  },
  {
   "cell_type": "markdown",
   "metadata": {},
   "source": [
    "pygad helper functions"
   ]
  },
  {
   "cell_type": "code",
   "execution_count": 7,
   "metadata": {},
   "outputs": [],
   "source": [
    "def reformat_pygad_result(solution, orders, environment):\n",
    "    j = 0\n",
    "    result = []\n",
    "    for i in range(len(solution)):\n",
    "        if j == 0:\n",
    "            result.append([])\n",
    "        result[len(result)-1].append(solution[i])\n",
    "        j += 1\n",
    "        if j > 2:\n",
    "            j = 0\n",
    "    workstation_assignments = dict()\n",
    "    for i in range(len(result)):\n",
    "        operation = result[i]\n",
    "        if operation[1] not in workstation_assignments:\n",
    "            workstation_assignments[operation[1]] = []\n",
    "        _, order = map_index_to_operation(i, orders, environment)\n",
    "        workstation_assignments[operation[1]].append([order[2], order[0], i, operation[0], operation[2], environment.get_duration(operation[0], operation[1])])\n",
    "    return workstation_assignments"
   ]
  },
  {
   "cell_type": "code",
   "execution_count": 8,
   "metadata": {},
   "outputs": [
    {
     "name": "stdout",
     "output_type": "stream",
     "text": [
      "Parameters of the best solution : [   1    1 1997    3    2 4148    4    2 2643    6    2 1271    2    1\n",
      " 1706    3    2 3829    0    1 4099    8    2 1373    6    2 3594    4\n",
      "    2 2909    5    2  352    1    1 4084    3    2 3443    3    2 3189\n",
      "    6    2 1282    1    1 4185    8    2 1194    3    2  624    6    2\n",
      " 1538    5    2 3098    2    1 1192    1    1 3123    5    2 2841    2\n",
      "    1  980    8    2 3548    6    2  252    4    2 3391    4    2 2938\n",
      "    0    1 1970    2    1 1194    5    2  330    5    2 2901    1    1\n",
      " 1374    7    2 2576    6    2 3055    8    2 2560    4    2 2258    3\n",
      "    2 2731    3    2 3306    8    2  907    7    2 3100    1    1 1833\n",
      "    5    2  554    0    1 3249    1    1 1879    1    1 3617    0    1\n",
      " 2890    1    1 3812    8    2 4505    5    2 1278    7    2 4289    3\n",
      "    2 2000    2    1  962    5    2  893    6    2 2762    3    2 2440\n",
      "    6    2 3401    8    2 1267    4    2 3783    7    2  393]\n",
      "Fitness value of the best solution = -4288\n"
     ]
    },
    {
     "ename": "TypeError",
     "evalue": "cannot unpack non-iterable NoneType object",
     "output_type": "error",
     "traceback": [
      "\u001b[1;31m---------------------------------------------------------------------------\u001b[0m",
      "\u001b[1;31mTypeError\u001b[0m                                 Traceback (most recent call last)",
      "\u001b[1;32mc:\\Users\\huda\\Documents\\GitHub\\scheduling_model\\code\\experiments.ipynb Cell 15'\u001b[0m in \u001b[0;36m<cell line: 121>\u001b[1;34m()\u001b[0m\n\u001b[0;32m    <a href='vscode-notebook-cell:/c%3A/Users/huda/Documents/GitHub/scheduling_model/code/experiments.ipynb#ch0000014?line=117'>118</a>\u001b[0m \u001b[39mprint\u001b[39m(\u001b[39m\"\u001b[39m\u001b[39mParameters of the best solution : \u001b[39m\u001b[39m{solution}\u001b[39;00m\u001b[39m\"\u001b[39m\u001b[39m.\u001b[39mformat(solution\u001b[39m=\u001b[39msolution))\n\u001b[0;32m    <a href='vscode-notebook-cell:/c%3A/Users/huda/Documents/GitHub/scheduling_model/code/experiments.ipynb#ch0000014?line=118'>119</a>\u001b[0m \u001b[39mprint\u001b[39m(\u001b[39m\"\u001b[39m\u001b[39mFitness value of the best solution = \u001b[39m\u001b[39m{solution_fitness}\u001b[39;00m\u001b[39m\"\u001b[39m\u001b[39m.\u001b[39mformat(solution_fitness\u001b[39m=\u001b[39msolution_fitness))\n\u001b[1;32m--> <a href='vscode-notebook-cell:/c%3A/Users/huda/Documents/GitHub/scheduling_model/code/experiments.ipynb#ch0000014?line=120'>121</a>\u001b[0m workstation_assignments \u001b[39m=\u001b[39m reformat_pygad_result(solution, orders, env)\n\u001b[0;32m    <a href='vscode-notebook-cell:/c%3A/Users/huda/Documents/GitHub/scheduling_model/code/experiments.ipynb#ch0000014?line=121'>122</a>\u001b[0m visualize(workstation_assignments, [], [], [], num_generations\u001b[39m+\u001b[39m\u001b[39m1\u001b[39m)\n",
      "\u001b[1;32mc:\\Users\\huda\\Documents\\GitHub\\scheduling_model\\code\\experiments.ipynb Cell 14'\u001b[0m in \u001b[0;36mreformat_pygad_result\u001b[1;34m(solution, orders, environment)\u001b[0m\n\u001b[0;32m     <a href='vscode-notebook-cell:/c%3A/Users/huda/Documents/GitHub/scheduling_model/code/experiments.ipynb#ch0000013?line=13'>14</a>\u001b[0m     \u001b[39mif\u001b[39;00m operation[\u001b[39m1\u001b[39m] \u001b[39mnot\u001b[39;00m \u001b[39min\u001b[39;00m workstation_assignments:\n\u001b[0;32m     <a href='vscode-notebook-cell:/c%3A/Users/huda/Documents/GitHub/scheduling_model/code/experiments.ipynb#ch0000013?line=14'>15</a>\u001b[0m         workstation_assignments[operation[\u001b[39m1\u001b[39m]] \u001b[39m=\u001b[39m []\n\u001b[1;32m---> <a href='vscode-notebook-cell:/c%3A/Users/huda/Documents/GitHub/scheduling_model/code/experiments.ipynb#ch0000013?line=15'>16</a>\u001b[0m     _, order \u001b[39m=\u001b[39m map_index_to_operation(i, orders, environment)\n\u001b[0;32m     <a href='vscode-notebook-cell:/c%3A/Users/huda/Documents/GitHub/scheduling_model/code/experiments.ipynb#ch0000013?line=16'>17</a>\u001b[0m     workstation_assignments[operation[\u001b[39m1\u001b[39m]]\u001b[39m.\u001b[39mappend([order[\u001b[39m2\u001b[39m], order[\u001b[39m0\u001b[39m], i, operation[\u001b[39m0\u001b[39m], operation[\u001b[39m2\u001b[39m], environment\u001b[39m.\u001b[39mget_duration(operation[\u001b[39m0\u001b[39m], operation[\u001b[39m1\u001b[39m])])\n\u001b[0;32m     <a href='vscode-notebook-cell:/c%3A/Users/huda/Documents/GitHub/scheduling_model/code/experiments.ipynb#ch0000013?line=17'>18</a>\u001b[0m \u001b[39mreturn\u001b[39;00m workstation_assignments\n",
      "\u001b[1;31mTypeError\u001b[0m: cannot unpack non-iterable NoneType object"
     ]
    }
   ],
   "source": [
    "from optimizer_components import map_index_to_operation\n",
    "\n",
    "earliest_time_slot = 0\n",
    "last_time_slot = 5000\n",
    "\n",
    "def feasible(solution):\n",
    "    j = 0\n",
    "    for i in range(len(solution)):\n",
    "        if j == 2:\n",
    "            # just check if task and workstation do exist\n",
    "            \"\"\"if env.get_task(solution[i-2]) is None or env.get_workstation(solution[i-1]) is None:\n",
    "                return False\"\"\"\n",
    "            if solution[i] < earliest_time_slot:\n",
    "                return False\n",
    "            duration = env.get_duration(solution[i-2], solution[i-1])\n",
    "            if duration == 0: # illegal combination\n",
    "                return False\n",
    "            if solution[i] + duration > last_time_slot:\n",
    "                return False\n",
    "        j += 1\n",
    "        if j > 2:\n",
    "            j = 0\n",
    "    return True # just testing\n",
    "\n",
    "def fitness_function(solution, solution_idx):\n",
    "    fitness = 0\n",
    "    if feasible(solution):\n",
    "        min = float('inf')\n",
    "        max = -float('inf')\n",
    "        i = 0\n",
    "        for gene in solution:\n",
    "            if i == 2:\n",
    "                if gene < min:\n",
    "                    min = gene\n",
    "                duration = env.get_duration(solution[i-2], solution[i-1])\n",
    "                if gene + duration > max:\n",
    "                    max = gene + duration\n",
    "            i += 1\n",
    "            if i > 2:\n",
    "                i = 0\n",
    "        fitness += abs(max - min)\n",
    "    else:\n",
    "        fitness = 2 * last_time_slot\n",
    "    return -fitness\n",
    "\n",
    "def only_valid_mutation_function(offsprings, ga_instance):\n",
    "    start_low = ga_instance.gene_space[2]['low']\n",
    "    start_high = ga_instance.gene_space[2]['high']\n",
    "    \n",
    "    for offspring in offsprings:\n",
    "        j = 0\n",
    "        for i in range(len(offspring)):\n",
    "            if j == 0:\n",
    "                valid_workstations = env.get_valid_workstations(offspring[i])\n",
    "            if random.random() < 1/len(offspring): # just fix mutation probability for now\n",
    "                if j == 1:\n",
    "                    offspring[i] = random.choice(valid_workstations).id\n",
    "                elif j == 2:\n",
    "                    offspring[i] = random.randint(start_low, start_high)\n",
    "            j += 1\n",
    "            if j > 2:\n",
    "                j = 0\n",
    "    return offsprings\n",
    "\n",
    "def mutation_function(offsprings, ga_instance):\n",
    "    workstation_low = ga_instance.gene_space[1]['low']\n",
    "    workstation_high = ga_instance.gene_space[1]['high']\n",
    "    start_low = ga_instance.gene_space[2]['low']\n",
    "    start_high = ga_instance.gene_space[2]['high']\n",
    "    \n",
    "    for offspring in offsprings:\n",
    "        j = 0\n",
    "        for i in range(len(offspring)):\n",
    "            if random.random() < 1/len(offspring): # just fix mutation probability for now\n",
    "                if j == 1:\n",
    "                    offspring[i] = random.randint(workstation_low, workstation_high)\n",
    "                elif j == 2:\n",
    "                    offspring[i] = random.randint(start_low, start_high)\n",
    "            j += 1\n",
    "            if j > 2:\n",
    "                j = 0\n",
    "    return offsprings\n",
    "\n",
    "flat_input = [item for sublist in input for item in sublist]\n",
    "num_genes = len(flat_input) * 3\n",
    "num_generations = 1000\n",
    "num_parents_mating = 25\n",
    "sol_per_pop = 50\n",
    "init_range_low = 0\n",
    "init_range_high = last_time_slot\n",
    "parent_selection_type = 'rws'\n",
    "keep_parents = 1\n",
    "crossover_type = 'single_point'\n",
    "#mutation_type = 'random'\n",
    "#mutation_type = mutation_function\n",
    "mutation_type = only_valid_mutation_function\n",
    "mutation_percentage_genes = 10\n",
    "fitness_func = fitness_function\n",
    "gene_type = int\n",
    "gene_space = []\n",
    "space_tasks = {'low': 0, 'high': len(tasks)-1}#[0, len(tasks)-1]\n",
    "space_workstations = {'low': 1, 'high': len(workstations)-1}#[0, len(workstations)-1]\n",
    "space_time = {'low': earliest_time_slot, 'high': last_time_slot}#[earliest_time_slot, last_time_slot]\n",
    "j = 0\n",
    "for i in range(num_genes):\n",
    "    if j == 0:\n",
    "        gene_space.append(space_tasks)\n",
    "    elif j == 1:\n",
    "        gene_space.append(space_workstations)\n",
    "    else:\n",
    "        gene_space.append(space_time)\n",
    "    j += 1\n",
    "    if j > 2:\n",
    "        j = 0\n",
    "ga_instance = pygad.GA(num_generations=num_generations, num_parents_mating=num_parents_mating, fitness_func=fitness_func, sol_per_pop=sol_per_pop, num_genes=num_genes, init_range_low=init_range_low, init_range_high=init_range_high, parent_selection_type=parent_selection_type, keep_parents=keep_parents, crossover_type=crossover_type, mutation_type=mutation_type, mutation_percent_genes=mutation_percentage_genes, gene_type=gene_type, gene_space=gene_space)\n",
    "ga_instance.run()\n",
    "solution, solution_fitness, solution_idx = ga_instance.best_solution()\n",
    "print(\"Parameters of the best solution : {solution}\".format(solution=solution))\n",
    "print(\"Fitness value of the best solution = {solution_fitness}\".format(solution_fitness=solution_fitness))\n",
    "\n",
    "workstation_assignments = reformat_pygad_result(solution, orders, env)\n",
    "visualize(workstation_assignments, [], [], [], num_generations+1)"
   ]
  },
  {
   "cell_type": "code",
   "execution_count": 9,
   "metadata": {},
   "outputs": [
    {
     "name": "stdout",
     "output_type": "stream",
     "text": [
      "Parameters of the best solution : [   6    2 2310    1    1  213    2    1 1610    5    2 1495    6    2\n",
      " 2549    7    2 3632    2    1 3063    6    2 4892    1    1  658    5\n",
      "    2 4769    2    1 2360    8    2 4051    7    2 1741    6    2  788\n",
      "    7    2 1105    2    1 4850    5    2  292    9    2 2217    7    2\n",
      " 2776    0    1 1634    4    1 2352    0    1 4718    6    1 4522    3\n",
      "    1  893    2    1 4581    2    1 2003    4    1 2886    2    1 4624\n",
      "    3    1 3301    4    1  584    6    1 2130    2    1 4464    1    1\n",
      " 1904    4    1 1697    2    1 4024    6    1 3844    6    1  852    1\n",
      "    1 3706    2    1 3694    2    1 1076    7    1 2030    0    1  994\n",
      "    7    1    7    1    1 1100    0    1 4915    0    1 2173    1    1\n",
      " 4399    4    1 1510    3    1 2404    1    1 1049    0    1 3021    4\n",
      "    1 2347    2    1 2311    2    1 1233    2    1 3602    3    1 1531\n",
      "    2    1  508    3    1 1764    8    1 1227    4    1 2646]\n",
      "Fitness value of the best solution = -10000\n"
     ]
    },
    {
     "ename": "TypeError",
     "evalue": "cannot unpack non-iterable NoneType object",
     "output_type": "error",
     "traceback": [
      "\u001b[1;31m---------------------------------------------------------------------------\u001b[0m",
      "\u001b[1;31mTypeError\u001b[0m                                 Traceback (most recent call last)",
      "\u001b[1;32mc:\\Users\\huda\\Documents\\GitHub\\scheduling_model\\code\\experiments.ipynb Cell 16'\u001b[0m in \u001b[0;36m<cell line: 83>\u001b[1;34m()\u001b[0m\n\u001b[0;32m     <a href='vscode-notebook-cell:/c%3A/Users/huda/Documents/GitHub/scheduling_model/code/experiments.ipynb#ch0000015?line=79'>80</a>\u001b[0m \u001b[39mprint\u001b[39m(\u001b[39m\"\u001b[39m\u001b[39mParameters of the best solution : \u001b[39m\u001b[39m{solution}\u001b[39;00m\u001b[39m\"\u001b[39m\u001b[39m.\u001b[39mformat(solution\u001b[39m=\u001b[39msolution))\n\u001b[0;32m     <a href='vscode-notebook-cell:/c%3A/Users/huda/Documents/GitHub/scheduling_model/code/experiments.ipynb#ch0000015?line=80'>81</a>\u001b[0m \u001b[39mprint\u001b[39m(\u001b[39m\"\u001b[39m\u001b[39mFitness value of the best solution = \u001b[39m\u001b[39m{solution_fitness}\u001b[39;00m\u001b[39m\"\u001b[39m\u001b[39m.\u001b[39mformat(solution_fitness\u001b[39m=\u001b[39msolution_fitness))\n\u001b[1;32m---> <a href='vscode-notebook-cell:/c%3A/Users/huda/Documents/GitHub/scheduling_model/code/experiments.ipynb#ch0000015?line=82'>83</a>\u001b[0m workstation_assignments \u001b[39m=\u001b[39m reformat_pygad_result(solution, orders, env)\n\u001b[0;32m     <a href='vscode-notebook-cell:/c%3A/Users/huda/Documents/GitHub/scheduling_model/code/experiments.ipynb#ch0000015?line=83'>84</a>\u001b[0m visualize(workstation_assignments, [], [], [], num_generations\u001b[39m+\u001b[39m\u001b[39m1\u001b[39m)\n",
      "\u001b[1;32mc:\\Users\\huda\\Documents\\GitHub\\scheduling_model\\code\\experiments.ipynb Cell 14'\u001b[0m in \u001b[0;36mreformat_pygad_result\u001b[1;34m(solution, orders, environment)\u001b[0m\n\u001b[0;32m     <a href='vscode-notebook-cell:/c%3A/Users/huda/Documents/GitHub/scheduling_model/code/experiments.ipynb#ch0000013?line=13'>14</a>\u001b[0m     \u001b[39mif\u001b[39;00m operation[\u001b[39m1\u001b[39m] \u001b[39mnot\u001b[39;00m \u001b[39min\u001b[39;00m workstation_assignments:\n\u001b[0;32m     <a href='vscode-notebook-cell:/c%3A/Users/huda/Documents/GitHub/scheduling_model/code/experiments.ipynb#ch0000013?line=14'>15</a>\u001b[0m         workstation_assignments[operation[\u001b[39m1\u001b[39m]] \u001b[39m=\u001b[39m []\n\u001b[1;32m---> <a href='vscode-notebook-cell:/c%3A/Users/huda/Documents/GitHub/scheduling_model/code/experiments.ipynb#ch0000013?line=15'>16</a>\u001b[0m     _, order \u001b[39m=\u001b[39m map_index_to_operation(i, orders, environment)\n\u001b[0;32m     <a href='vscode-notebook-cell:/c%3A/Users/huda/Documents/GitHub/scheduling_model/code/experiments.ipynb#ch0000013?line=16'>17</a>\u001b[0m     workstation_assignments[operation[\u001b[39m1\u001b[39m]]\u001b[39m.\u001b[39mappend([order[\u001b[39m2\u001b[39m], order[\u001b[39m0\u001b[39m], i, operation[\u001b[39m0\u001b[39m], operation[\u001b[39m2\u001b[39m], environment\u001b[39m.\u001b[39mget_duration(operation[\u001b[39m0\u001b[39m], operation[\u001b[39m1\u001b[39m])])\n\u001b[0;32m     <a href='vscode-notebook-cell:/c%3A/Users/huda/Documents/GitHub/scheduling_model/code/experiments.ipynb#ch0000013?line=17'>18</a>\u001b[0m \u001b[39mreturn\u001b[39;00m workstation_assignments\n",
      "\u001b[1;31mTypeError\u001b[0m: cannot unpack non-iterable NoneType object"
     ]
    }
   ],
   "source": [
    "earliest_time_slot = 0\n",
    "last_time_slot = 5000\n",
    "operations = []\n",
    "\n",
    "def get_alternative_tasks(task_id):\n",
    "    task = env.get_task(task_id)\n",
    "    tasks = env.tasks\n",
    "    alternatives = []\n",
    "    for t in tasks:\n",
    "        if task.result_resources[0][0] == t.result_resources[0][0] and t not in alternatives and t.id != task_id:\n",
    "            alternatives.append(t)\n",
    "    return alternatives\n",
    "\n",
    "def mutation_function(offsprings, ga_instance):\n",
    "    for offspring in offsprings:\n",
    "        for i in range(len(operations)):\n",
    "            if random.random() < 1 / len(operations):\n",
    "                task = offspring[i*3]\n",
    "                alternatives = get_alternative_tasks(task)\n",
    "                offspring[i*3] = random.choice(alternatives).id\n",
    "                offspring[i*3+1] = random.choice(env.get_valid_workstations(offspring[i*3])).id\n",
    "                offspring[i*3+2] = random.randint(earliest_time_slot, last_time_slot)\n",
    "    return offsprings\n",
    "\n",
    "def fitness_function(solution, solution_idx):\n",
    "    fitness = 0\n",
    "    if feasible(solution):\n",
    "        min = float('inf')\n",
    "        max = -float('inf')\n",
    "        i = 0\n",
    "        for gene in solution:\n",
    "            if i == 2:\n",
    "                if gene < min:\n",
    "                    min = gene\n",
    "                duration = env.get_duration(solution[i-2], solution[i-1])\n",
    "                if gene + duration > max:\n",
    "                    max = gene + duration\n",
    "            i += 1\n",
    "            if i > 2:\n",
    "                i = 0\n",
    "        fitness += abs(max - min)\n",
    "    else:\n",
    "        fitness = 2 * last_time_slot\n",
    "    return -fitness\n",
    "\n",
    "for order in orders_model:\n",
    "    for resource in order.resources:\n",
    "        recipe = resource.recipes[0] # just use recipe 0 for now\n",
    "        recipe_tasks = env.get_all_tasks_for_recipe(recipe.id)\n",
    "        results = dict()\n",
    "        for task in recipe_tasks:\n",
    "            if task.result_resources[0][0] not in results:\n",
    "                results[task.result_resources[0][0]] = []\n",
    "            results[task.result_resources[0][0]].append(task)\n",
    "        for key in results:\n",
    "            operations.append(random.choice(results[key]).id)\n",
    "assignments = []\n",
    "for operation in operations:\n",
    "    workstation = env.get_valid_workstations(operation)\n",
    "    assignments.append(operation)\n",
    "    assignments.append(random.choice(workstation).id)\n",
    "    assignments.append(random.randint(earliest_time_slot, last_time_slot))\n",
    "\n",
    "num_genes = len(assignments) * 3\n",
    "num_generations = 1000\n",
    "num_parents_mating = 25\n",
    "sol_per_pop = 50\n",
    "init_range_low = 0\n",
    "init_range_high = last_time_slot\n",
    "parent_selection_type = 'rws'\n",
    "keep_parents = 1\n",
    "crossover_type = 'two_points'\n",
    "mutation_type = mutation_function\n",
    "mutation_percentage_genes = 10\n",
    "fitness_func = fitness_function\n",
    "gene_type = int\n",
    "ga_instance = pygad.GA(num_generations=num_generations, num_parents_mating=num_parents_mating, fitness_func=fitness_func, sol_per_pop=sol_per_pop, num_genes=num_genes, init_range_low=init_range_low, init_range_high=init_range_high, parent_selection_type=parent_selection_type, keep_parents=keep_parents, crossover_type=crossover_type, mutation_type=mutation_type, mutation_percent_genes=mutation_percentage_genes, gene_type=gene_type, gene_space=gene_space)\n",
    "ga_instance.run()\n",
    "solution, solution_fitness, solution_idx = ga_instance.best_solution()\n",
    "print(\"Parameters of the best solution : {solution}\".format(solution=solution))\n",
    "print(\"Fitness value of the best solution = {solution_fitness}\".format(solution_fitness=solution_fitness))\n",
    "\n",
    "workstation_assignments = reformat_pygad_result(solution, orders, env)\n",
    "visualize(workstation_assignments, [], [], [], num_generations+1)"
   ]
  },
  {
   "cell_type": "markdown",
   "metadata": {},
   "source": [
    "Testing DEAP"
   ]
  },
  {
   "cell_type": "code",
   "execution_count": 10,
   "metadata": {},
   "outputs": [],
   "source": [
    "from deap import creator, base, tools, algorithms"
   ]
  },
  {
   "cell_type": "code",
   "execution_count": 11,
   "metadata": {},
   "outputs": [
    {
     "name": "stdout",
     "output_type": "stream",
     "text": [
      "[1, 1, 1, 1, 1, 1, 1, 1, 1, 1, 1, 1, 1, 1, 1, 1, 1, 1, 1, 1, 1, 1, 1, 1, 1, 1, 1, 1, 1, 1, 1, 1, 1, 1, 1, 1, 1, 1, 1, 1, 1, 1, 1, 1, 1, 1, 1, 1, 1, 1, 1, 1, 1, 1, 1, 1, 1, 1, 1, 1, 1, 1, 1, 1, 1, 1, 1, 1, 1, 1, 1, 1, 1, 1, 1, 1, 1, 1, 1, 1, 1, 1, 1, 1, 1, 1, 1, 1, 1, 1, 1, 1, 1, 1, 1, 1, 1, 1, 1, 1]\n"
     ]
    }
   ],
   "source": [
    "creator.create(\"FitnessMax\", base.Fitness, weights=(1.0,))\n",
    "creator.create(\"Individual\", list, fitness=creator.FitnessMax)\n",
    "\n",
    "toolbox = base.Toolbox()\n",
    "\n",
    "toolbox.register(\"attr_bool\", random.randint, 0, 1)\n",
    "toolbox.register(\"individual\", tools.initRepeat, creator.Individual, toolbox.attr_bool, n=100)\n",
    "toolbox.register(\"population\", tools.initRepeat, list, toolbox.individual)\n",
    "\n",
    "def evalOneMax(individual):\n",
    "    return sum(individual),\n",
    "\n",
    "#NOTE: not in use yet\n",
    "def fitness_function(solution):\n",
    "    fitness = 0\n",
    "    if feasible(solution):\n",
    "        min = float('inf')\n",
    "        max = -float('inf')\n",
    "        i = 0\n",
    "        for gene in solution:\n",
    "            if i == 2:\n",
    "                if gene < min:\n",
    "                    min = gene\n",
    "                duration = env.get_duration(solution[i-2], solution[i-1])\n",
    "                if gene + duration > max:\n",
    "                    max = gene + duration\n",
    "            i += 1\n",
    "            if i > 2:\n",
    "                i = 0\n",
    "        fitness += abs(max - min)\n",
    "    else:\n",
    "        fitness = 2 * last_time_slot\n",
    "    return fitness\n",
    "\n",
    "#NOTE: not in use yet\n",
    "def mutation_function(offspring):\n",
    "    for i in range(len(offspring)):\n",
    "        if random.random() < 1 / len(operations):\n",
    "            task = offspring[i*3]\n",
    "            alternatives = get_alternative_tasks(task)\n",
    "            offspring[i*3] = random.choice(alternatives).id\n",
    "            offspring[i*3+1] = random.choice(env.get_valid_workstations(offspring[i*3])).id\n",
    "            offspring[i*3+2] = random.randint(earliest_time_slot, last_time_slot)\n",
    "    return offspring\n",
    "\n",
    "toolbox.register(\"evaluate\", evalOneMax)\n",
    "toolbox.register(\"mate\", tools.cxTwoPoint)\n",
    "toolbox.register(\"mutate\", tools.mutFlipBit, indpb=0.05)\n",
    "toolbox.register(\"select\", tools.selTournament, tournsize=3)\n",
    "\n",
    "population = toolbox.population(n=300)\n",
    "\n",
    "NGEN=40\n",
    "for gen in range(NGEN):\n",
    "    offspring = algorithms.varAnd(population, toolbox, cxpb=0.5, mutpb=0.1)\n",
    "    fits = toolbox.map(toolbox.evaluate, offspring)\n",
    "    for fit, ind in zip(fits, offspring):\n",
    "        ind.fitness.values = fit\n",
    "    population = toolbox.select(offspring, k=len(population))\n",
    "top10 = tools.selBest(population, k=10)\n",
    "print(top10[0])"
   ]
  },
  {
   "cell_type": "markdown",
   "metadata": {},
   "source": [
    "Visualization Code"
   ]
  },
  {
   "cell_type": "code",
   "execution_count": 12,
   "metadata": {},
   "outputs": [],
   "source": [
    "\n",
    "def get_colors(n): \n",
    "    ret = [] \n",
    "    r = int(random.random() * 256) \n",
    "    g = int(random.random() * 256) \n",
    "    b = int(random.random() * 256) \n",
    "    step = 256 / n \n",
    "    for i in range(n): \n",
    "        r += step \n",
    "        g += step \n",
    "        b += step \n",
    "        r = int(r) % 256 \n",
    "        g = int(g) % 256 \n",
    "        b = int(b) % 256 \n",
    "        ret.append((r,g,b))  \n",
    "    return ret\n",
    "\n",
    "def visualize(data):\n",
    "    # data format: 0 - workstation, 1 - job id, 2 - start time, 3 - duration\n",
    "    colors = {}\n",
    "    rgb_values = get_colors(len(orders))\n",
    "    for i in range(len(orders)):\n",
    "        colors[str(f'Order {i}')] = f'rgb({rgb_values[i][0]}, {rgb_values[i][1]}, {rgb_values[i][2]})' # just ignore colors for now\n",
    "    composed_data = []\n",
    "    \n",
    "    for i in range(len(data)):\n",
    "        label = f'W{data[i][0]}'\n",
    "        start = data[i][2]\n",
    "        end = start + data[i][3]\n",
    "        composed_data.append(\n",
    "                    dict(Task=label, Start=start, Finish=end, Resource=f'Order {order_for_index[i]}')\n",
    "                )\n",
    "        #print(composed_data)\n",
    "    fig = ff.create_gantt(composed_data, colors=colors, index_col='Resource', show_colorbar=True,\n",
    "                        group_tasks=True, showgrid_x=True)\n",
    "    fig.update_layout(xaxis_type='linear')\n",
    "    \"\"\"import plotly.express as px\n",
    "    fig = px.timeline(composed_data, x_start='Start', x_end='Finish', y='Task', color='Resource')\"\"\" # for some reason doesn't do what it's supposed to do\n",
    "    fig.show()"
   ]
  },
  {
   "cell_type": "code",
   "execution_count": 13,
   "metadata": {},
   "outputs": [
    {
     "name": "stdout",
     "output_type": "stream",
     "text": [
      "Parameters of the best solution : [1 2 1 2 1 2 1 2 1 2 1 2 1 2 1 2 1 2 1 2]\n",
      "Fitness value of the best solution = -1084\n",
      "Parameters of the best solution : [2991 3982 2562 2917 2402 2663 1342 2057 1285 1355 2878 4168 2187 3809\n",
      " 1199 1714 1507 4538 2242 2445]\n",
      "Fitness value of the best solution = -3411\n"
     ]
    }
   ],
   "source": [
    "import pygad\n",
    "import plotly.figure_factory as ff\n",
    "\"\"\"\n",
    "# bin packing\n",
    "dict<task_id, dict<workstation_id, duration>> for lookups\n",
    "\n",
    "> min duration for each workstation\n",
    "> balance amount of tasks on each workstations\n",
    "> balance working time on each workstation\n",
    "\n",
    "> feasible if all tasks are on a valid workstation for that task\n",
    "\n",
    "# time slot scheduling\n",
    "# move starting times for each job on each workstation\n",
    "> min makespan\n",
    "> min tardy jobs\n",
    "\n",
    "> feasible if order of associated jobs is in tact\n",
    "\"\"\"\n",
    "# duration lookup table\n",
    "duration_lookup_table = dict()\n",
    "for task in tasks:\n",
    "    for workstation in env.get_valid_workstations(task.id):\n",
    "        if not task in duration_lookup_table:\n",
    "            duration_lookup_table[task.id] = dict()\n",
    "        duration_lookup_table[task.id][workstation.id] = env.get_duration(task.id, workstation.id)\n",
    "\n",
    "operations = []\n",
    "order_for_index = []\n",
    "for order in orders_model:\n",
    "    for resource in order.resources:\n",
    "        recipe = resource.recipes[0] # just use recipe 0 for now\n",
    "        recipe_tasks = env.get_all_tasks_for_recipe(recipe.id)\n",
    "        results = dict()\n",
    "        for task in recipe_tasks:\n",
    "            if task.result_resources[0][0] not in results:\n",
    "                results[task.result_resources[0][0]] = []\n",
    "            results[task.result_resources[0][0]].append(task)\n",
    "        for key in results:\n",
    "            operations.append(random.choice(results[key]).id)\n",
    "            order_for_index.append(order.id)\n",
    "assignments = []\n",
    "\n",
    "for operation in operations:\n",
    "    workstation = env.get_valid_workstations(operation)\n",
    "    # random init\n",
    "    assignments.append(random.choice(workstation).id)\n",
    "\n",
    "def fitness_function(solution, solution_idx):\n",
    "    bins = dict()\n",
    "    sum = 0\n",
    "    max_sum = 0\n",
    "    for operation in list(duration_lookup_table.keys()):\n",
    "        max = -float('inf')\n",
    "        for workstation in list(duration_lookup_table[operation].keys()):\n",
    "            if duration_lookup_table[operation][workstation] > max:\n",
    "                max = duration_lookup_table[operation][workstation]\n",
    "        max_sum += max\n",
    "    for i in range(len(solution)):\n",
    "        if solution[i] not in duration_lookup_table[operations[i]]: # illegal combination\n",
    "            return len(solution) * 10000 * -1\n",
    "        if i not in bins:\n",
    "            bins[i] = 0\n",
    "        sum += duration_lookup_table[operations[i]][solution[i]] # minimize working minutes for all workstations\n",
    "        #bins[i] += duration_lookup_table[operations[i]][solution[i]]\n",
    "    return sum * -1\n",
    "\n",
    "def mutation_function(offsprings, ga_instance):\n",
    "    for offspring in offsprings:\n",
    "        p = 1 / len(offspring)\n",
    "        for i in range(len(offspring)):\n",
    "            if random.random() < p:\n",
    "                offspring[i] = random.choice(list(duration_lookup_table[operations[i]].keys()))\n",
    "    return offsprings\n",
    "\n",
    "num_genes = len(assignments)\n",
    "num_generations = 1000\n",
    "num_parents_mating = 25\n",
    "sol_per_pop = 50\n",
    "init_range_low = 0\n",
    "init_range_high = last_time_slot\n",
    "parent_selection_type = 'rws'\n",
    "keep_parents = 1\n",
    "crossover_type = 'two_points'\n",
    "mutation_type = mutation_function\n",
    "#mutation_type = 'random'\n",
    "mutation_percentage_genes = 10\n",
    "fitness_func = fitness_function\n",
    "gene_type = int\n",
    "space_workstations = {'low': 1, 'high': len(workstations)-1}\n",
    "gene_space = []\n",
    "for i in range(len(assignments)):\n",
    "    gene_space.append(space_workstations)\n",
    "ga_instance = pygad.GA(num_generations=num_generations, num_parents_mating=num_parents_mating, fitness_func=fitness_func, sol_per_pop=sol_per_pop, num_genes=num_genes, init_range_low=init_range_low, init_range_high=init_range_high, parent_selection_type=parent_selection_type, keep_parents=keep_parents, crossover_type=crossover_type, mutation_type=mutation_type, mutation_percent_genes=mutation_percentage_genes, gene_type=gene_type, gene_space=gene_space)\n",
    "ga_instance.run()\n",
    "solution, solution_fitness, solution_idx = ga_instance.best_solution()\n",
    "\n",
    "print(\"Parameters of the best solution : {solution}\".format(solution=solution))\n",
    "print(\"Fitness value of the best solution = {solution_fitness}\".format(solution_fitness=solution_fitness))\n",
    "\n",
    "def is_feasible(solution):\n",
    "    for i in range(len(solution)):\n",
    "        start = solution[i]\n",
    "        end = start + duration_lookup_table[operations[i]][assignments[i]]\n",
    "        if end > last_time_slot:\n",
    "            return False\n",
    "        if start < earliest_time_slot:\n",
    "            return False\n",
    "        # overlap\n",
    "        same_workstation = [] # append indices of jobs running on the same workstation\n",
    "        for j in range(len(assignments)):\n",
    "            if assignments[j] == assignments[i] and i != j:\n",
    "                same_workstation.append(j)\n",
    "        for j in range(len(same_workstation)):\n",
    "            other_start = solution[same_workstation[j]]\n",
    "            other_end = other_start + duration_lookup_table[operations[same_workstation[j]]][assignments[same_workstation[j]]]\n",
    "            if start >= other_start and start <= other_end:\n",
    "                return False\n",
    "            if end >= other_start and end <= other_end:\n",
    "                return False\n",
    "            if other_start >= start and other_start <= end:\n",
    "                return False\n",
    "            if other_end >= start and other_end <= end:\n",
    "                return False\n",
    "        # check sequence\n",
    "        order = order_for_index[i]\n",
    "        if i > 0:\n",
    "            if order_for_index[i-1] == order: # same order\n",
    "                prev_start = solution[i-1]\n",
    "                prev_end = prev_start + duration_lookup_table[operations[i-1]][assignments[i-1]]\n",
    "                if prev_end >= start:\n",
    "                    return False\n",
    "    return True\n",
    "\n",
    "def fitness_function_time_slots(solution, solution_idx):\n",
    "    fitness = 1\n",
    "    if not is_feasible(solution):\n",
    "        #fitness += last_time_slot\n",
    "        return -2 * last_time_slot\n",
    "    max = -float('inf')\n",
    "    min = float('inf')\n",
    "    for i in range(len(solution)):\n",
    "        start = solution[i]\n",
    "        end = start + duration_lookup_table[operations[i]][assignments[i]]\n",
    "        if start < min:\n",
    "            min = start\n",
    "        if end > max:\n",
    "            max = end\n",
    "    fitness += abs(max - min)\n",
    "    return -fitness\n",
    "\n",
    "def mutation_function_time_slots(offsprings, ga_instance):\n",
    "    for offspring in offsprings:\n",
    "        p = 1 / len(offspring)\n",
    "        for i in range(len(offspring)):\n",
    "            if random.random() < p:\n",
    "                offspring[i] = random.randint(earliest_time_slot, last_time_slot)\n",
    "    return offsprings\n",
    "\n",
    "assignments = solution\n",
    "start_slots = []\n",
    "for assignment in assignments:\n",
    "    start_slots.append(0)\n",
    "num_genes = len(start_slots)\n",
    "num_generations = 5000\n",
    "num_parents_mating = 25\n",
    "sol_per_pop = 50\n",
    "init_range_low = 0\n",
    "init_range_high = last_time_slot\n",
    "parent_selection_type = 'rws'\n",
    "keep_parents = 1\n",
    "crossover_type = 'two_points'\n",
    "mutation_type = mutation_function_time_slots\n",
    "#mutation_type = 'random'\n",
    "mutation_percentage_genes = 10\n",
    "fitness_func = fitness_function_time_slots\n",
    "gene_type = int\n",
    "space_time = {'low': earliest_time_slot, 'high': last_time_slot}\n",
    "gene_space = []\n",
    "for i in range(len(assignments)):\n",
    "    gene_space.append(space_time)\n",
    "ga_instance = pygad.GA(num_generations=num_generations, num_parents_mating=num_parents_mating, fitness_func=fitness_func, sol_per_pop=sol_per_pop, num_genes=num_genes, init_range_low=init_range_low, init_range_high=init_range_high, parent_selection_type=parent_selection_type, keep_parents=keep_parents, crossover_type=crossover_type, mutation_type=mutation_type, mutation_percent_genes=mutation_percentage_genes, gene_type=gene_type, gene_space=gene_space)\n",
    "ga_instance.run()\n",
    "solution, solution_fitness, solution_idx = ga_instance.best_solution()\n",
    "print(\"Parameters of the best solution : {solution}\".format(solution=solution))\n",
    "print(\"Fitness value of the best solution = {solution_fitness}\".format(solution_fitness=solution_fitness))\n"
   ]
  },
  {
   "cell_type": "code",
   "execution_count": 14,
   "metadata": {},
   "outputs": [
    {
     "data": {
      "application/vnd.plotly.v1+json": {
       "config": {
        "plotlyServerURL": "https://plot.ly"
       },
       "data": [
        {
         "fill": "toself",
         "fillcolor": "rgb(112, 28, 101)",
         "hoverinfo": "name",
         "legendgroup": "rgb(112, 28, 101)",
         "mode": "none",
         "name": "Order 3",
         "type": "scatter",
         "x": [
          1342,
          1385,
          1385,
          1342,
          1342,
          2057,
          2122,
          2122,
          2057
         ],
         "y": [
          0.8,
          0.8,
          1.2,
          1.2,
          null,
          -0.2,
          -0.2,
          0.2,
          0.2
         ]
        },
        {
         "fill": "toself",
         "fillcolor": "rgb(137, 53, 126)",
         "hoverinfo": "name",
         "legendgroup": "rgb(137, 53, 126)",
         "mode": "none",
         "name": "Order 4",
         "type": "scatter",
         "x": [
          1285,
          1320,
          1320,
          1285,
          1285,
          1355,
          1426,
          1426,
          1355
         ],
         "y": [
          0.8,
          0.8,
          1.2,
          1.2,
          null,
          -0.2,
          -0.2,
          0.2,
          0.2
         ]
        },
        {
         "fill": "toself",
         "fillcolor": "rgb(162, 78, 151)",
         "hoverinfo": "name",
         "legendgroup": "rgb(162, 78, 151)",
         "mode": "none",
         "name": "Order 5",
         "type": "scatter",
         "x": [
          2878,
          2921,
          2921,
          2878,
          2878,
          4168,
          4233,
          4233,
          4168
         ],
         "y": [
          0.8,
          0.8,
          1.2,
          1.2,
          null,
          -0.2,
          -0.2,
          0.2,
          0.2
         ]
        },
        {
         "fill": "toself",
         "fillcolor": "rgb(187, 103, 176)",
         "hoverinfo": "name",
         "legendgroup": "rgb(187, 103, 176)",
         "mode": "none",
         "name": "Order 6",
         "type": "scatter",
         "x": [
          2187,
          2222,
          2222,
          2187,
          2187,
          3809,
          3880,
          3880,
          3809
         ],
         "y": [
          0.8,
          0.8,
          1.2,
          1.2,
          null,
          -0.2,
          -0.2,
          0.2,
          0.2
         ]
        },
        {
         "fill": "toself",
         "fillcolor": "rgb(212, 128, 201)",
         "hoverinfo": "name",
         "legendgroup": "rgb(212, 128, 201)",
         "mode": "none",
         "name": "Order 7",
         "type": "scatter",
         "x": [
          1199,
          1242,
          1242,
          1199,
          1199,
          1714,
          1779,
          1779,
          1714
         ],
         "y": [
          0.8,
          0.8,
          1.2,
          1.2,
          null,
          -0.2,
          -0.2,
          0.2,
          0.2
         ]
        },
        {
         "fill": "toself",
         "fillcolor": "rgb(237, 153, 226)",
         "hoverinfo": "name",
         "legendgroup": "rgb(237, 153, 226)",
         "mode": "none",
         "name": "Order 8",
         "type": "scatter",
         "x": [
          1507,
          1542,
          1542,
          1507,
          1507,
          4538,
          4609,
          4609,
          4538
         ],
         "y": [
          0.8,
          0.8,
          1.2,
          1.2,
          null,
          -0.2,
          -0.2,
          0.2,
          0.2
         ]
        },
        {
         "fill": "toself",
         "fillcolor": "rgb(37, 209, 26)",
         "hoverinfo": "name",
         "legendgroup": "rgb(37, 209, 26)",
         "mode": "none",
         "name": "Order 0",
         "type": "scatter",
         "x": [
          2991,
          3034,
          3034,
          2991,
          2991,
          3982,
          4047,
          4047,
          3982
         ],
         "y": [
          0.8,
          0.8,
          1.2,
          1.2,
          null,
          -0.2,
          -0.2,
          0.2,
          0.2
         ]
        },
        {
         "fill": "toself",
         "fillcolor": "rgb(6, 178, 251)",
         "hoverinfo": "name",
         "legendgroup": "rgb(6, 178, 251)",
         "mode": "none",
         "name": "Order 9",
         "type": "scatter",
         "x": [
          2242,
          2277,
          2277,
          2242,
          2242,
          2445,
          2516,
          2516,
          2445
         ],
         "y": [
          0.8,
          0.8,
          1.2,
          1.2,
          null,
          -0.2,
          -0.2,
          0.2,
          0.2
         ]
        },
        {
         "fill": "toself",
         "fillcolor": "rgb(62, 234, 51)",
         "hoverinfo": "name",
         "legendgroup": "rgb(62, 234, 51)",
         "mode": "none",
         "name": "Order 1",
         "type": "scatter",
         "x": [
          2562,
          2605,
          2605,
          2562,
          2562,
          2917,
          2988,
          2988,
          2917
         ],
         "y": [
          0.8,
          0.8,
          1.2,
          1.2,
          null,
          -0.2,
          -0.2,
          0.2,
          0.2
         ]
        },
        {
         "fill": "toself",
         "fillcolor": "rgb(87, 3, 76)",
         "hoverinfo": "name",
         "legendgroup": "rgb(87, 3, 76)",
         "mode": "none",
         "name": "Order 2",
         "type": "scatter",
         "x": [
          2402,
          2445,
          2445,
          2402,
          2402,
          2663,
          2734,
          2734,
          2663
         ],
         "y": [
          0.8,
          0.8,
          1.2,
          1.2,
          null,
          -0.2,
          -0.2,
          0.2,
          0.2
         ]
        },
        {
         "legendgroup": "rgb(112, 28, 101)",
         "marker": {
          "color": "rgb(112, 28, 101)",
          "opacity": 0,
          "size": 1
         },
         "mode": "markers",
         "name": "",
         "showlegend": false,
         "text": [
          null,
          null,
          null,
          null
         ],
         "type": "scatter",
         "x": [
          1342,
          1385,
          2057,
          2122
         ],
         "y": [
          1,
          1,
          0,
          0
         ]
        },
        {
         "legendgroup": "rgb(137, 53, 126)",
         "marker": {
          "color": "rgb(137, 53, 126)",
          "opacity": 0,
          "size": 1
         },
         "mode": "markers",
         "name": "",
         "showlegend": false,
         "text": [
          null,
          null,
          null,
          null
         ],
         "type": "scatter",
         "x": [
          1285,
          1320,
          1355,
          1426
         ],
         "y": [
          1,
          1,
          0,
          0
         ]
        },
        {
         "legendgroup": "rgb(162, 78, 151)",
         "marker": {
          "color": "rgb(162, 78, 151)",
          "opacity": 0,
          "size": 1
         },
         "mode": "markers",
         "name": "",
         "showlegend": false,
         "text": [
          null,
          null,
          null,
          null
         ],
         "type": "scatter",
         "x": [
          2878,
          2921,
          4168,
          4233
         ],
         "y": [
          1,
          1,
          0,
          0
         ]
        },
        {
         "legendgroup": "rgb(187, 103, 176)",
         "marker": {
          "color": "rgb(187, 103, 176)",
          "opacity": 0,
          "size": 1
         },
         "mode": "markers",
         "name": "",
         "showlegend": false,
         "text": [
          null,
          null,
          null,
          null
         ],
         "type": "scatter",
         "x": [
          2187,
          2222,
          3809,
          3880
         ],
         "y": [
          1,
          1,
          0,
          0
         ]
        },
        {
         "legendgroup": "rgb(212, 128, 201)",
         "marker": {
          "color": "rgb(212, 128, 201)",
          "opacity": 0,
          "size": 1
         },
         "mode": "markers",
         "name": "",
         "showlegend": false,
         "text": [
          null,
          null,
          null,
          null
         ],
         "type": "scatter",
         "x": [
          1199,
          1242,
          1714,
          1779
         ],
         "y": [
          1,
          1,
          0,
          0
         ]
        },
        {
         "legendgroup": "rgb(237, 153, 226)",
         "marker": {
          "color": "rgb(237, 153, 226)",
          "opacity": 0,
          "size": 1
         },
         "mode": "markers",
         "name": "",
         "showlegend": false,
         "text": [
          null,
          null,
          null,
          null
         ],
         "type": "scatter",
         "x": [
          1507,
          1542,
          4538,
          4609
         ],
         "y": [
          1,
          1,
          0,
          0
         ]
        },
        {
         "legendgroup": "rgb(37, 209, 26)",
         "marker": {
          "color": "rgb(37, 209, 26)",
          "opacity": 0,
          "size": 1
         },
         "mode": "markers",
         "name": "",
         "showlegend": false,
         "text": [
          null,
          null,
          null,
          null
         ],
         "type": "scatter",
         "x": [
          2991,
          3034,
          3982,
          4047
         ],
         "y": [
          1,
          1,
          0,
          0
         ]
        },
        {
         "legendgroup": "rgb(6, 178, 251)",
         "marker": {
          "color": "rgb(6, 178, 251)",
          "opacity": 0,
          "size": 1
         },
         "mode": "markers",
         "name": "",
         "showlegend": false,
         "text": [
          null,
          null,
          null,
          null
         ],
         "type": "scatter",
         "x": [
          2242,
          2277,
          2445,
          2516
         ],
         "y": [
          1,
          1,
          0,
          0
         ]
        },
        {
         "legendgroup": "rgb(62, 234, 51)",
         "marker": {
          "color": "rgb(62, 234, 51)",
          "opacity": 0,
          "size": 1
         },
         "mode": "markers",
         "name": "",
         "showlegend": false,
         "text": [
          null,
          null,
          null,
          null
         ],
         "type": "scatter",
         "x": [
          2562,
          2605,
          2917,
          2988
         ],
         "y": [
          1,
          1,
          0,
          0
         ]
        },
        {
         "legendgroup": "rgb(87, 3, 76)",
         "marker": {
          "color": "rgb(87, 3, 76)",
          "opacity": 0,
          "size": 1
         },
         "mode": "markers",
         "name": "",
         "showlegend": false,
         "text": [
          null,
          null,
          null,
          null
         ],
         "type": "scatter",
         "x": [
          2402,
          2445,
          2663,
          2734
         ],
         "y": [
          1,
          1,
          0,
          0
         ]
        }
       ],
       "layout": {
        "height": 600,
        "hovermode": "closest",
        "showlegend": true,
        "template": {
         "data": {
          "bar": [
           {
            "error_x": {
             "color": "#2a3f5f"
            },
            "error_y": {
             "color": "#2a3f5f"
            },
            "marker": {
             "line": {
              "color": "#E5ECF6",
              "width": 0.5
             },
             "pattern": {
              "fillmode": "overlay",
              "size": 10,
              "solidity": 0.2
             }
            },
            "type": "bar"
           }
          ],
          "barpolar": [
           {
            "marker": {
             "line": {
              "color": "#E5ECF6",
              "width": 0.5
             },
             "pattern": {
              "fillmode": "overlay",
              "size": 10,
              "solidity": 0.2
             }
            },
            "type": "barpolar"
           }
          ],
          "carpet": [
           {
            "aaxis": {
             "endlinecolor": "#2a3f5f",
             "gridcolor": "white",
             "linecolor": "white",
             "minorgridcolor": "white",
             "startlinecolor": "#2a3f5f"
            },
            "baxis": {
             "endlinecolor": "#2a3f5f",
             "gridcolor": "white",
             "linecolor": "white",
             "minorgridcolor": "white",
             "startlinecolor": "#2a3f5f"
            },
            "type": "carpet"
           }
          ],
          "choropleth": [
           {
            "colorbar": {
             "outlinewidth": 0,
             "ticks": ""
            },
            "type": "choropleth"
           }
          ],
          "contour": [
           {
            "colorbar": {
             "outlinewidth": 0,
             "ticks": ""
            },
            "colorscale": [
             [
              0,
              "#0d0887"
             ],
             [
              0.1111111111111111,
              "#46039f"
             ],
             [
              0.2222222222222222,
              "#7201a8"
             ],
             [
              0.3333333333333333,
              "#9c179e"
             ],
             [
              0.4444444444444444,
              "#bd3786"
             ],
             [
              0.5555555555555556,
              "#d8576b"
             ],
             [
              0.6666666666666666,
              "#ed7953"
             ],
             [
              0.7777777777777778,
              "#fb9f3a"
             ],
             [
              0.8888888888888888,
              "#fdca26"
             ],
             [
              1,
              "#f0f921"
             ]
            ],
            "type": "contour"
           }
          ],
          "contourcarpet": [
           {
            "colorbar": {
             "outlinewidth": 0,
             "ticks": ""
            },
            "type": "contourcarpet"
           }
          ],
          "heatmap": [
           {
            "colorbar": {
             "outlinewidth": 0,
             "ticks": ""
            },
            "colorscale": [
             [
              0,
              "#0d0887"
             ],
             [
              0.1111111111111111,
              "#46039f"
             ],
             [
              0.2222222222222222,
              "#7201a8"
             ],
             [
              0.3333333333333333,
              "#9c179e"
             ],
             [
              0.4444444444444444,
              "#bd3786"
             ],
             [
              0.5555555555555556,
              "#d8576b"
             ],
             [
              0.6666666666666666,
              "#ed7953"
             ],
             [
              0.7777777777777778,
              "#fb9f3a"
             ],
             [
              0.8888888888888888,
              "#fdca26"
             ],
             [
              1,
              "#f0f921"
             ]
            ],
            "type": "heatmap"
           }
          ],
          "heatmapgl": [
           {
            "colorbar": {
             "outlinewidth": 0,
             "ticks": ""
            },
            "colorscale": [
             [
              0,
              "#0d0887"
             ],
             [
              0.1111111111111111,
              "#46039f"
             ],
             [
              0.2222222222222222,
              "#7201a8"
             ],
             [
              0.3333333333333333,
              "#9c179e"
             ],
             [
              0.4444444444444444,
              "#bd3786"
             ],
             [
              0.5555555555555556,
              "#d8576b"
             ],
             [
              0.6666666666666666,
              "#ed7953"
             ],
             [
              0.7777777777777778,
              "#fb9f3a"
             ],
             [
              0.8888888888888888,
              "#fdca26"
             ],
             [
              1,
              "#f0f921"
             ]
            ],
            "type": "heatmapgl"
           }
          ],
          "histogram": [
           {
            "marker": {
             "pattern": {
              "fillmode": "overlay",
              "size": 10,
              "solidity": 0.2
             }
            },
            "type": "histogram"
           }
          ],
          "histogram2d": [
           {
            "colorbar": {
             "outlinewidth": 0,
             "ticks": ""
            },
            "colorscale": [
             [
              0,
              "#0d0887"
             ],
             [
              0.1111111111111111,
              "#46039f"
             ],
             [
              0.2222222222222222,
              "#7201a8"
             ],
             [
              0.3333333333333333,
              "#9c179e"
             ],
             [
              0.4444444444444444,
              "#bd3786"
             ],
             [
              0.5555555555555556,
              "#d8576b"
             ],
             [
              0.6666666666666666,
              "#ed7953"
             ],
             [
              0.7777777777777778,
              "#fb9f3a"
             ],
             [
              0.8888888888888888,
              "#fdca26"
             ],
             [
              1,
              "#f0f921"
             ]
            ],
            "type": "histogram2d"
           }
          ],
          "histogram2dcontour": [
           {
            "colorbar": {
             "outlinewidth": 0,
             "ticks": ""
            },
            "colorscale": [
             [
              0,
              "#0d0887"
             ],
             [
              0.1111111111111111,
              "#46039f"
             ],
             [
              0.2222222222222222,
              "#7201a8"
             ],
             [
              0.3333333333333333,
              "#9c179e"
             ],
             [
              0.4444444444444444,
              "#bd3786"
             ],
             [
              0.5555555555555556,
              "#d8576b"
             ],
             [
              0.6666666666666666,
              "#ed7953"
             ],
             [
              0.7777777777777778,
              "#fb9f3a"
             ],
             [
              0.8888888888888888,
              "#fdca26"
             ],
             [
              1,
              "#f0f921"
             ]
            ],
            "type": "histogram2dcontour"
           }
          ],
          "mesh3d": [
           {
            "colorbar": {
             "outlinewidth": 0,
             "ticks": ""
            },
            "type": "mesh3d"
           }
          ],
          "parcoords": [
           {
            "line": {
             "colorbar": {
              "outlinewidth": 0,
              "ticks": ""
             }
            },
            "type": "parcoords"
           }
          ],
          "pie": [
           {
            "automargin": true,
            "type": "pie"
           }
          ],
          "scatter": [
           {
            "marker": {
             "colorbar": {
              "outlinewidth": 0,
              "ticks": ""
             }
            },
            "type": "scatter"
           }
          ],
          "scatter3d": [
           {
            "line": {
             "colorbar": {
              "outlinewidth": 0,
              "ticks": ""
             }
            },
            "marker": {
             "colorbar": {
              "outlinewidth": 0,
              "ticks": ""
             }
            },
            "type": "scatter3d"
           }
          ],
          "scattercarpet": [
           {
            "marker": {
             "colorbar": {
              "outlinewidth": 0,
              "ticks": ""
             }
            },
            "type": "scattercarpet"
           }
          ],
          "scattergeo": [
           {
            "marker": {
             "colorbar": {
              "outlinewidth": 0,
              "ticks": ""
             }
            },
            "type": "scattergeo"
           }
          ],
          "scattergl": [
           {
            "marker": {
             "colorbar": {
              "outlinewidth": 0,
              "ticks": ""
             }
            },
            "type": "scattergl"
           }
          ],
          "scattermapbox": [
           {
            "marker": {
             "colorbar": {
              "outlinewidth": 0,
              "ticks": ""
             }
            },
            "type": "scattermapbox"
           }
          ],
          "scatterpolar": [
           {
            "marker": {
             "colorbar": {
              "outlinewidth": 0,
              "ticks": ""
             }
            },
            "type": "scatterpolar"
           }
          ],
          "scatterpolargl": [
           {
            "marker": {
             "colorbar": {
              "outlinewidth": 0,
              "ticks": ""
             }
            },
            "type": "scatterpolargl"
           }
          ],
          "scatterternary": [
           {
            "marker": {
             "colorbar": {
              "outlinewidth": 0,
              "ticks": ""
             }
            },
            "type": "scatterternary"
           }
          ],
          "surface": [
           {
            "colorbar": {
             "outlinewidth": 0,
             "ticks": ""
            },
            "colorscale": [
             [
              0,
              "#0d0887"
             ],
             [
              0.1111111111111111,
              "#46039f"
             ],
             [
              0.2222222222222222,
              "#7201a8"
             ],
             [
              0.3333333333333333,
              "#9c179e"
             ],
             [
              0.4444444444444444,
              "#bd3786"
             ],
             [
              0.5555555555555556,
              "#d8576b"
             ],
             [
              0.6666666666666666,
              "#ed7953"
             ],
             [
              0.7777777777777778,
              "#fb9f3a"
             ],
             [
              0.8888888888888888,
              "#fdca26"
             ],
             [
              1,
              "#f0f921"
             ]
            ],
            "type": "surface"
           }
          ],
          "table": [
           {
            "cells": {
             "fill": {
              "color": "#EBF0F8"
             },
             "line": {
              "color": "white"
             }
            },
            "header": {
             "fill": {
              "color": "#C8D4E3"
             },
             "line": {
              "color": "white"
             }
            },
            "type": "table"
           }
          ]
         },
         "layout": {
          "annotationdefaults": {
           "arrowcolor": "#2a3f5f",
           "arrowhead": 0,
           "arrowwidth": 1
          },
          "autotypenumbers": "strict",
          "coloraxis": {
           "colorbar": {
            "outlinewidth": 0,
            "ticks": ""
           }
          },
          "colorscale": {
           "diverging": [
            [
             0,
             "#8e0152"
            ],
            [
             0.1,
             "#c51b7d"
            ],
            [
             0.2,
             "#de77ae"
            ],
            [
             0.3,
             "#f1b6da"
            ],
            [
             0.4,
             "#fde0ef"
            ],
            [
             0.5,
             "#f7f7f7"
            ],
            [
             0.6,
             "#e6f5d0"
            ],
            [
             0.7,
             "#b8e186"
            ],
            [
             0.8,
             "#7fbc41"
            ],
            [
             0.9,
             "#4d9221"
            ],
            [
             1,
             "#276419"
            ]
           ],
           "sequential": [
            [
             0,
             "#0d0887"
            ],
            [
             0.1111111111111111,
             "#46039f"
            ],
            [
             0.2222222222222222,
             "#7201a8"
            ],
            [
             0.3333333333333333,
             "#9c179e"
            ],
            [
             0.4444444444444444,
             "#bd3786"
            ],
            [
             0.5555555555555556,
             "#d8576b"
            ],
            [
             0.6666666666666666,
             "#ed7953"
            ],
            [
             0.7777777777777778,
             "#fb9f3a"
            ],
            [
             0.8888888888888888,
             "#fdca26"
            ],
            [
             1,
             "#f0f921"
            ]
           ],
           "sequentialminus": [
            [
             0,
             "#0d0887"
            ],
            [
             0.1111111111111111,
             "#46039f"
            ],
            [
             0.2222222222222222,
             "#7201a8"
            ],
            [
             0.3333333333333333,
             "#9c179e"
            ],
            [
             0.4444444444444444,
             "#bd3786"
            ],
            [
             0.5555555555555556,
             "#d8576b"
            ],
            [
             0.6666666666666666,
             "#ed7953"
            ],
            [
             0.7777777777777778,
             "#fb9f3a"
            ],
            [
             0.8888888888888888,
             "#fdca26"
            ],
            [
             1,
             "#f0f921"
            ]
           ]
          },
          "colorway": [
           "#636efa",
           "#EF553B",
           "#00cc96",
           "#ab63fa",
           "#FFA15A",
           "#19d3f3",
           "#FF6692",
           "#B6E880",
           "#FF97FF",
           "#FECB52"
          ],
          "font": {
           "color": "#2a3f5f"
          },
          "geo": {
           "bgcolor": "white",
           "lakecolor": "white",
           "landcolor": "#E5ECF6",
           "showlakes": true,
           "showland": true,
           "subunitcolor": "white"
          },
          "hoverlabel": {
           "align": "left"
          },
          "hovermode": "closest",
          "mapbox": {
           "style": "light"
          },
          "paper_bgcolor": "white",
          "plot_bgcolor": "#E5ECF6",
          "polar": {
           "angularaxis": {
            "gridcolor": "white",
            "linecolor": "white",
            "ticks": ""
           },
           "bgcolor": "#E5ECF6",
           "radialaxis": {
            "gridcolor": "white",
            "linecolor": "white",
            "ticks": ""
           }
          },
          "scene": {
           "xaxis": {
            "backgroundcolor": "#E5ECF6",
            "gridcolor": "white",
            "gridwidth": 2,
            "linecolor": "white",
            "showbackground": true,
            "ticks": "",
            "zerolinecolor": "white"
           },
           "yaxis": {
            "backgroundcolor": "#E5ECF6",
            "gridcolor": "white",
            "gridwidth": 2,
            "linecolor": "white",
            "showbackground": true,
            "ticks": "",
            "zerolinecolor": "white"
           },
           "zaxis": {
            "backgroundcolor": "#E5ECF6",
            "gridcolor": "white",
            "gridwidth": 2,
            "linecolor": "white",
            "showbackground": true,
            "ticks": "",
            "zerolinecolor": "white"
           }
          },
          "shapedefaults": {
           "line": {
            "color": "#2a3f5f"
           }
          },
          "ternary": {
           "aaxis": {
            "gridcolor": "white",
            "linecolor": "white",
            "ticks": ""
           },
           "baxis": {
            "gridcolor": "white",
            "linecolor": "white",
            "ticks": ""
           },
           "bgcolor": "#E5ECF6",
           "caxis": {
            "gridcolor": "white",
            "linecolor": "white",
            "ticks": ""
           }
          },
          "title": {
           "x": 0.05
          },
          "xaxis": {
           "automargin": true,
           "gridcolor": "white",
           "linecolor": "white",
           "ticks": "",
           "title": {
            "standoff": 15
           },
           "zerolinecolor": "white",
           "zerolinewidth": 2
          },
          "yaxis": {
           "automargin": true,
           "gridcolor": "white",
           "linecolor": "white",
           "ticks": "",
           "title": {
            "standoff": 15
           },
           "zerolinecolor": "white",
           "zerolinewidth": 2
          }
         }
        },
        "title": {
         "text": "Gantt Chart"
        },
        "xaxis": {
         "rangeselector": {
          "buttons": [
           {
            "count": 7,
            "label": "1w",
            "step": "day",
            "stepmode": "backward"
           },
           {
            "count": 1,
            "label": "1m",
            "step": "month",
            "stepmode": "backward"
           },
           {
            "count": 6,
            "label": "6m",
            "step": "month",
            "stepmode": "backward"
           },
           {
            "count": 1,
            "label": "YTD",
            "step": "year",
            "stepmode": "todate"
           },
           {
            "count": 1,
            "label": "1y",
            "step": "year",
            "stepmode": "backward"
           },
           {
            "step": "all"
           }
          ]
         },
         "showgrid": true,
         "type": "linear",
         "zeroline": false
        },
        "yaxis": {
         "autorange": false,
         "range": [
          -1,
          3
         ],
         "showgrid": false,
         "ticktext": [
          "W2",
          "W1"
         ],
         "tickvals": [
          0,
          1
         ],
         "zeroline": false
        }
       }
      }
     },
     "metadata": {},
     "output_type": "display_data"
    }
   ],
   "source": [
    "data = []\n",
    "for i in range(len(solution)):\n",
    "    data.append([assignments[i], operations[i], solution[i], duration_lookup_table[operations[i]][assignments[i]]])\n",
    "visualize(data)"
   ]
  },
  {
   "cell_type": "markdown",
   "metadata": {},
   "source": [
    "OneNote Example"
   ]
  },
  {
   "cell_type": "code",
   "execution_count": 15,
   "metadata": {},
   "outputs": [
    {
     "name": "stdout",
     "output_type": "stream",
     "text": [
      "Max duration: 21\n",
      "Parameters of the best solution : [21 31 34 32 39 41 20 29]\n",
      "Fitness value of the best solution = -25\n"
     ]
    }
   ],
   "source": [
    "# tasks = [0, 1, 2]\n",
    "jobs = [        # row = task_id\n",
    "    [0, 1, 2],\n",
    "    [0, 1, 2],\n",
    "    [0, 1]\n",
    "]\n",
    "# assume orders: {0, 1, 2}\n",
    "jobs_to_schedule = [0, 1, 2, 0, 1, 2, 0, 1]\n",
    "order_for_index = [0, 0, 0, 1, 1, 1, 2, 2]\n",
    "assignments = [0, 1, 2, 0, 2, 1, 1, 2]\n",
    "durations = [3, 2, 4, 2, 1, 3, 2, 4]\n",
    "# start_times = ?\n",
    "input = [0 for _ in range(len(jobs_to_schedule))]\n",
    "max_time = 0\n",
    "for duration in durations:\n",
    "    max_time += duration\n",
    "print(f'Max duration: {max_time}')\n",
    "max_time = max_time * 3 # leave some room \n",
    "def mutation_function(offsprings, ga_isntance):\n",
    "    for offspring in offsprings:\n",
    "        p = 1 / len(offspring)\n",
    "        for i in range(len(offspring)):\n",
    "            if random.random() < p:\n",
    "                offspring[i] = random.randint(0, max_time)\n",
    "    return offsprings\n",
    "\n",
    "def is_feasible(solution):\n",
    "    for i in range(len(solution)):\n",
    "        if solution[i] < 0:\n",
    "            return False\n",
    "        if solution[i] + durations[i] > max_time:\n",
    "            return False\n",
    "        same_workstation = []\n",
    "        workstation = assignments[i]\n",
    "        for j in range(len(assignments)):\n",
    "            if i != j and assignments[j] == workstation:\n",
    "                same_workstation.append(j)\n",
    "        start = solution[i]\n",
    "        end = solution[i] + durations[i]\n",
    "        for j in range(len(same_workstation)):\n",
    "            other_start = solution[same_workstation[j]]\n",
    "            other_end = other_start + durations[same_workstation[j]]\n",
    "            if start >= other_start and start <= other_end:\n",
    "                    return False\n",
    "            if end >= other_start and end <= other_end:\n",
    "                return False\n",
    "            if other_start >= start and other_start <= end:\n",
    "                return False\n",
    "            if other_end >= start and other_end <= end:\n",
    "                return False\n",
    "        order = order_for_index[i]\n",
    "        if i > 0:\n",
    "            j = 1\n",
    "            while i-j >= 0 and order_for_index[i-j] == order:\n",
    "                prev_start = solution[i-j]\n",
    "                prev_end = prev_start + durations[i-j]\n",
    "                if prev_end >= start:\n",
    "                    return False\n",
    "                j += 1\n",
    "    return True\n",
    "\n",
    "def fitness_function(solution, solution_idx):\n",
    "    fitness = 1\n",
    "    if not is_feasible(solution):\n",
    "        # fitness += max_time\n",
    "        return -2 * max_time\n",
    "    min = float('inf')\n",
    "    max = -float('inf')\n",
    "    for i in range(len(solution)):\n",
    "        if solution[i] < min:\n",
    "            min = solution[i]\n",
    "        if solution[i] + durations[i] > max:\n",
    "            max = solution[i] + durations[i]\n",
    "    fitness += abs(max - min)\n",
    "    return -fitness\n",
    "\n",
    "num_genes = len(input)\n",
    "num_generations = 10000\n",
    "num_parents_mating = 25\n",
    "sol_per_pop = 50\n",
    "init_range_low = 0\n",
    "init_range_high = max_time\n",
    "parent_selection_type = 'rws'\n",
    "keep_parents = 1\n",
    "crossover_type = 'two_points'\n",
    "mutation_type = mutation_function\n",
    "#mutation_type = 'random'\n",
    "mutation_percentage_genes = 10\n",
    "mutation_num_genes = 1\n",
    "fitness_func = fitness_function\n",
    "gene_type = int\n",
    "space_time = {'low': 0, 'high': max_time}\n",
    "gene_space = []\n",
    "for i in range(len(jobs_to_schedule)):\n",
    "    gene_space.append(space_time)\n",
    "ga_instance = pygad.GA(num_generations=num_generations, num_parents_mating=num_parents_mating, fitness_func=fitness_func, sol_per_pop=sol_per_pop, num_genes=num_genes, init_range_low=init_range_low, init_range_high=init_range_high, parent_selection_type=parent_selection_type, keep_parents=keep_parents, crossover_type=crossover_type, mutation_type=mutation_type, mutation_num_genes=mutation_num_genes, mutation_percent_genes=mutation_percentage_genes, gene_type=gene_type, gene_space=gene_space)#, save_solutions=True)\n",
    "ga_instance.run()\n",
    "solution, solution_fitness, solution_idx = ga_instance.best_solution()\n",
    "print(\"Parameters of the best solution : {solution}\".format(solution=solution))\n",
    "print(\"Fitness value of the best solution = {solution_fitness}\".format(solution_fitness=solution_fitness))\n"
   ]
  },
  {
   "cell_type": "code",
   "execution_count": 16,
   "metadata": {},
   "outputs": [],
   "source": [
    "#ga_instance.plot_new_solution_rate()\n",
    "#ga_instance.plot_fitness(plot_type='plot')\n"
   ]
  },
  {
   "cell_type": "code",
   "execution_count": 17,
   "metadata": {},
   "outputs": [
    {
     "data": {
      "application/vnd.plotly.v1+json": {
       "config": {
        "plotlyServerURL": "https://plot.ly"
       },
       "data": [
        {
         "fill": "toself",
         "fillcolor": "rgb(13, 74, 34)",
         "hoverinfo": "name",
         "legendgroup": "rgb(13, 74, 34)",
         "mode": "none",
         "name": "Order 2",
         "type": "scatter",
         "x": [
          20,
          22,
          22,
          20,
          20,
          29,
          33,
          33,
          29
         ],
         "y": [
          0.8,
          0.8,
          1.2,
          1.2,
          null,
          -0.2,
          -0.2,
          0.2,
          0.2
         ]
        },
        {
         "fill": "toself",
         "fillcolor": "rgb(219, 24, 240)",
         "hoverinfo": "name",
         "legendgroup": "rgb(219, 24, 240)",
         "mode": "none",
         "name": "Order 0",
         "type": "scatter",
         "x": [
          21,
          24,
          24,
          21,
          21,
          31,
          33,
          33,
          31,
          31,
          34,
          38,
          38,
          34
         ],
         "y": [
          1.8,
          1.8,
          2.2,
          2.2,
          null,
          0.8,
          0.8,
          1.2,
          1.2,
          null,
          -0.2,
          -0.2,
          0.2,
          0.2
         ]
        },
        {
         "fill": "toself",
         "fillcolor": "rgb(244, 49, 9)",
         "hoverinfo": "name",
         "legendgroup": "rgb(244, 49, 9)",
         "mode": "none",
         "name": "Order 1",
         "type": "scatter",
         "x": [
          32,
          34,
          34,
          32,
          32,
          39,
          40,
          40,
          39,
          39,
          41,
          44,
          44,
          41
         ],
         "y": [
          1.8,
          1.8,
          2.2,
          2.2,
          null,
          -0.2,
          -0.2,
          0.2,
          0.2,
          null,
          0.8,
          0.8,
          1.2,
          1.2
         ]
        },
        {
         "legendgroup": "rgb(13, 74, 34)",
         "marker": {
          "color": "rgb(13, 74, 34)",
          "opacity": 0,
          "size": 1
         },
         "mode": "markers",
         "name": "",
         "showlegend": false,
         "text": [
          null,
          null,
          null,
          null
         ],
         "type": "scatter",
         "x": [
          20,
          22,
          29,
          33
         ],
         "y": [
          1,
          1,
          0,
          0
         ]
        },
        {
         "legendgroup": "rgb(219, 24, 240)",
         "marker": {
          "color": "rgb(219, 24, 240)",
          "opacity": 0,
          "size": 1
         },
         "mode": "markers",
         "name": "",
         "showlegend": false,
         "text": [
          null,
          null,
          null,
          null,
          null,
          null
         ],
         "type": "scatter",
         "x": [
          21,
          24,
          31,
          33,
          34,
          38
         ],
         "y": [
          2,
          2,
          1,
          1,
          0,
          0
         ]
        },
        {
         "legendgroup": "rgb(244, 49, 9)",
         "marker": {
          "color": "rgb(244, 49, 9)",
          "opacity": 0,
          "size": 1
         },
         "mode": "markers",
         "name": "",
         "showlegend": false,
         "text": [
          null,
          null,
          null,
          null,
          null,
          null
         ],
         "type": "scatter",
         "x": [
          32,
          34,
          39,
          40,
          41,
          44
         ],
         "y": [
          2,
          2,
          0,
          0,
          1,
          1
         ]
        }
       ],
       "layout": {
        "height": 600,
        "hovermode": "closest",
        "showlegend": true,
        "template": {
         "data": {
          "bar": [
           {
            "error_x": {
             "color": "#2a3f5f"
            },
            "error_y": {
             "color": "#2a3f5f"
            },
            "marker": {
             "line": {
              "color": "#E5ECF6",
              "width": 0.5
             },
             "pattern": {
              "fillmode": "overlay",
              "size": 10,
              "solidity": 0.2
             }
            },
            "type": "bar"
           }
          ],
          "barpolar": [
           {
            "marker": {
             "line": {
              "color": "#E5ECF6",
              "width": 0.5
             },
             "pattern": {
              "fillmode": "overlay",
              "size": 10,
              "solidity": 0.2
             }
            },
            "type": "barpolar"
           }
          ],
          "carpet": [
           {
            "aaxis": {
             "endlinecolor": "#2a3f5f",
             "gridcolor": "white",
             "linecolor": "white",
             "minorgridcolor": "white",
             "startlinecolor": "#2a3f5f"
            },
            "baxis": {
             "endlinecolor": "#2a3f5f",
             "gridcolor": "white",
             "linecolor": "white",
             "minorgridcolor": "white",
             "startlinecolor": "#2a3f5f"
            },
            "type": "carpet"
           }
          ],
          "choropleth": [
           {
            "colorbar": {
             "outlinewidth": 0,
             "ticks": ""
            },
            "type": "choropleth"
           }
          ],
          "contour": [
           {
            "colorbar": {
             "outlinewidth": 0,
             "ticks": ""
            },
            "colorscale": [
             [
              0,
              "#0d0887"
             ],
             [
              0.1111111111111111,
              "#46039f"
             ],
             [
              0.2222222222222222,
              "#7201a8"
             ],
             [
              0.3333333333333333,
              "#9c179e"
             ],
             [
              0.4444444444444444,
              "#bd3786"
             ],
             [
              0.5555555555555556,
              "#d8576b"
             ],
             [
              0.6666666666666666,
              "#ed7953"
             ],
             [
              0.7777777777777778,
              "#fb9f3a"
             ],
             [
              0.8888888888888888,
              "#fdca26"
             ],
             [
              1,
              "#f0f921"
             ]
            ],
            "type": "contour"
           }
          ],
          "contourcarpet": [
           {
            "colorbar": {
             "outlinewidth": 0,
             "ticks": ""
            },
            "type": "contourcarpet"
           }
          ],
          "heatmap": [
           {
            "colorbar": {
             "outlinewidth": 0,
             "ticks": ""
            },
            "colorscale": [
             [
              0,
              "#0d0887"
             ],
             [
              0.1111111111111111,
              "#46039f"
             ],
             [
              0.2222222222222222,
              "#7201a8"
             ],
             [
              0.3333333333333333,
              "#9c179e"
             ],
             [
              0.4444444444444444,
              "#bd3786"
             ],
             [
              0.5555555555555556,
              "#d8576b"
             ],
             [
              0.6666666666666666,
              "#ed7953"
             ],
             [
              0.7777777777777778,
              "#fb9f3a"
             ],
             [
              0.8888888888888888,
              "#fdca26"
             ],
             [
              1,
              "#f0f921"
             ]
            ],
            "type": "heatmap"
           }
          ],
          "heatmapgl": [
           {
            "colorbar": {
             "outlinewidth": 0,
             "ticks": ""
            },
            "colorscale": [
             [
              0,
              "#0d0887"
             ],
             [
              0.1111111111111111,
              "#46039f"
             ],
             [
              0.2222222222222222,
              "#7201a8"
             ],
             [
              0.3333333333333333,
              "#9c179e"
             ],
             [
              0.4444444444444444,
              "#bd3786"
             ],
             [
              0.5555555555555556,
              "#d8576b"
             ],
             [
              0.6666666666666666,
              "#ed7953"
             ],
             [
              0.7777777777777778,
              "#fb9f3a"
             ],
             [
              0.8888888888888888,
              "#fdca26"
             ],
             [
              1,
              "#f0f921"
             ]
            ],
            "type": "heatmapgl"
           }
          ],
          "histogram": [
           {
            "marker": {
             "pattern": {
              "fillmode": "overlay",
              "size": 10,
              "solidity": 0.2
             }
            },
            "type": "histogram"
           }
          ],
          "histogram2d": [
           {
            "colorbar": {
             "outlinewidth": 0,
             "ticks": ""
            },
            "colorscale": [
             [
              0,
              "#0d0887"
             ],
             [
              0.1111111111111111,
              "#46039f"
             ],
             [
              0.2222222222222222,
              "#7201a8"
             ],
             [
              0.3333333333333333,
              "#9c179e"
             ],
             [
              0.4444444444444444,
              "#bd3786"
             ],
             [
              0.5555555555555556,
              "#d8576b"
             ],
             [
              0.6666666666666666,
              "#ed7953"
             ],
             [
              0.7777777777777778,
              "#fb9f3a"
             ],
             [
              0.8888888888888888,
              "#fdca26"
             ],
             [
              1,
              "#f0f921"
             ]
            ],
            "type": "histogram2d"
           }
          ],
          "histogram2dcontour": [
           {
            "colorbar": {
             "outlinewidth": 0,
             "ticks": ""
            },
            "colorscale": [
             [
              0,
              "#0d0887"
             ],
             [
              0.1111111111111111,
              "#46039f"
             ],
             [
              0.2222222222222222,
              "#7201a8"
             ],
             [
              0.3333333333333333,
              "#9c179e"
             ],
             [
              0.4444444444444444,
              "#bd3786"
             ],
             [
              0.5555555555555556,
              "#d8576b"
             ],
             [
              0.6666666666666666,
              "#ed7953"
             ],
             [
              0.7777777777777778,
              "#fb9f3a"
             ],
             [
              0.8888888888888888,
              "#fdca26"
             ],
             [
              1,
              "#f0f921"
             ]
            ],
            "type": "histogram2dcontour"
           }
          ],
          "mesh3d": [
           {
            "colorbar": {
             "outlinewidth": 0,
             "ticks": ""
            },
            "type": "mesh3d"
           }
          ],
          "parcoords": [
           {
            "line": {
             "colorbar": {
              "outlinewidth": 0,
              "ticks": ""
             }
            },
            "type": "parcoords"
           }
          ],
          "pie": [
           {
            "automargin": true,
            "type": "pie"
           }
          ],
          "scatter": [
           {
            "marker": {
             "colorbar": {
              "outlinewidth": 0,
              "ticks": ""
             }
            },
            "type": "scatter"
           }
          ],
          "scatter3d": [
           {
            "line": {
             "colorbar": {
              "outlinewidth": 0,
              "ticks": ""
             }
            },
            "marker": {
             "colorbar": {
              "outlinewidth": 0,
              "ticks": ""
             }
            },
            "type": "scatter3d"
           }
          ],
          "scattercarpet": [
           {
            "marker": {
             "colorbar": {
              "outlinewidth": 0,
              "ticks": ""
             }
            },
            "type": "scattercarpet"
           }
          ],
          "scattergeo": [
           {
            "marker": {
             "colorbar": {
              "outlinewidth": 0,
              "ticks": ""
             }
            },
            "type": "scattergeo"
           }
          ],
          "scattergl": [
           {
            "marker": {
             "colorbar": {
              "outlinewidth": 0,
              "ticks": ""
             }
            },
            "type": "scattergl"
           }
          ],
          "scattermapbox": [
           {
            "marker": {
             "colorbar": {
              "outlinewidth": 0,
              "ticks": ""
             }
            },
            "type": "scattermapbox"
           }
          ],
          "scatterpolar": [
           {
            "marker": {
             "colorbar": {
              "outlinewidth": 0,
              "ticks": ""
             }
            },
            "type": "scatterpolar"
           }
          ],
          "scatterpolargl": [
           {
            "marker": {
             "colorbar": {
              "outlinewidth": 0,
              "ticks": ""
             }
            },
            "type": "scatterpolargl"
           }
          ],
          "scatterternary": [
           {
            "marker": {
             "colorbar": {
              "outlinewidth": 0,
              "ticks": ""
             }
            },
            "type": "scatterternary"
           }
          ],
          "surface": [
           {
            "colorbar": {
             "outlinewidth": 0,
             "ticks": ""
            },
            "colorscale": [
             [
              0,
              "#0d0887"
             ],
             [
              0.1111111111111111,
              "#46039f"
             ],
             [
              0.2222222222222222,
              "#7201a8"
             ],
             [
              0.3333333333333333,
              "#9c179e"
             ],
             [
              0.4444444444444444,
              "#bd3786"
             ],
             [
              0.5555555555555556,
              "#d8576b"
             ],
             [
              0.6666666666666666,
              "#ed7953"
             ],
             [
              0.7777777777777778,
              "#fb9f3a"
             ],
             [
              0.8888888888888888,
              "#fdca26"
             ],
             [
              1,
              "#f0f921"
             ]
            ],
            "type": "surface"
           }
          ],
          "table": [
           {
            "cells": {
             "fill": {
              "color": "#EBF0F8"
             },
             "line": {
              "color": "white"
             }
            },
            "header": {
             "fill": {
              "color": "#C8D4E3"
             },
             "line": {
              "color": "white"
             }
            },
            "type": "table"
           }
          ]
         },
         "layout": {
          "annotationdefaults": {
           "arrowcolor": "#2a3f5f",
           "arrowhead": 0,
           "arrowwidth": 1
          },
          "autotypenumbers": "strict",
          "coloraxis": {
           "colorbar": {
            "outlinewidth": 0,
            "ticks": ""
           }
          },
          "colorscale": {
           "diverging": [
            [
             0,
             "#8e0152"
            ],
            [
             0.1,
             "#c51b7d"
            ],
            [
             0.2,
             "#de77ae"
            ],
            [
             0.3,
             "#f1b6da"
            ],
            [
             0.4,
             "#fde0ef"
            ],
            [
             0.5,
             "#f7f7f7"
            ],
            [
             0.6,
             "#e6f5d0"
            ],
            [
             0.7,
             "#b8e186"
            ],
            [
             0.8,
             "#7fbc41"
            ],
            [
             0.9,
             "#4d9221"
            ],
            [
             1,
             "#276419"
            ]
           ],
           "sequential": [
            [
             0,
             "#0d0887"
            ],
            [
             0.1111111111111111,
             "#46039f"
            ],
            [
             0.2222222222222222,
             "#7201a8"
            ],
            [
             0.3333333333333333,
             "#9c179e"
            ],
            [
             0.4444444444444444,
             "#bd3786"
            ],
            [
             0.5555555555555556,
             "#d8576b"
            ],
            [
             0.6666666666666666,
             "#ed7953"
            ],
            [
             0.7777777777777778,
             "#fb9f3a"
            ],
            [
             0.8888888888888888,
             "#fdca26"
            ],
            [
             1,
             "#f0f921"
            ]
           ],
           "sequentialminus": [
            [
             0,
             "#0d0887"
            ],
            [
             0.1111111111111111,
             "#46039f"
            ],
            [
             0.2222222222222222,
             "#7201a8"
            ],
            [
             0.3333333333333333,
             "#9c179e"
            ],
            [
             0.4444444444444444,
             "#bd3786"
            ],
            [
             0.5555555555555556,
             "#d8576b"
            ],
            [
             0.6666666666666666,
             "#ed7953"
            ],
            [
             0.7777777777777778,
             "#fb9f3a"
            ],
            [
             0.8888888888888888,
             "#fdca26"
            ],
            [
             1,
             "#f0f921"
            ]
           ]
          },
          "colorway": [
           "#636efa",
           "#EF553B",
           "#00cc96",
           "#ab63fa",
           "#FFA15A",
           "#19d3f3",
           "#FF6692",
           "#B6E880",
           "#FF97FF",
           "#FECB52"
          ],
          "font": {
           "color": "#2a3f5f"
          },
          "geo": {
           "bgcolor": "white",
           "lakecolor": "white",
           "landcolor": "#E5ECF6",
           "showlakes": true,
           "showland": true,
           "subunitcolor": "white"
          },
          "hoverlabel": {
           "align": "left"
          },
          "hovermode": "closest",
          "mapbox": {
           "style": "light"
          },
          "paper_bgcolor": "white",
          "plot_bgcolor": "#E5ECF6",
          "polar": {
           "angularaxis": {
            "gridcolor": "white",
            "linecolor": "white",
            "ticks": ""
           },
           "bgcolor": "#E5ECF6",
           "radialaxis": {
            "gridcolor": "white",
            "linecolor": "white",
            "ticks": ""
           }
          },
          "scene": {
           "xaxis": {
            "backgroundcolor": "#E5ECF6",
            "gridcolor": "white",
            "gridwidth": 2,
            "linecolor": "white",
            "showbackground": true,
            "ticks": "",
            "zerolinecolor": "white"
           },
           "yaxis": {
            "backgroundcolor": "#E5ECF6",
            "gridcolor": "white",
            "gridwidth": 2,
            "linecolor": "white",
            "showbackground": true,
            "ticks": "",
            "zerolinecolor": "white"
           },
           "zaxis": {
            "backgroundcolor": "#E5ECF6",
            "gridcolor": "white",
            "gridwidth": 2,
            "linecolor": "white",
            "showbackground": true,
            "ticks": "",
            "zerolinecolor": "white"
           }
          },
          "shapedefaults": {
           "line": {
            "color": "#2a3f5f"
           }
          },
          "ternary": {
           "aaxis": {
            "gridcolor": "white",
            "linecolor": "white",
            "ticks": ""
           },
           "baxis": {
            "gridcolor": "white",
            "linecolor": "white",
            "ticks": ""
           },
           "bgcolor": "#E5ECF6",
           "caxis": {
            "gridcolor": "white",
            "linecolor": "white",
            "ticks": ""
           }
          },
          "title": {
           "x": 0.05
          },
          "xaxis": {
           "automargin": true,
           "gridcolor": "white",
           "linecolor": "white",
           "ticks": "",
           "title": {
            "standoff": 15
           },
           "zerolinecolor": "white",
           "zerolinewidth": 2
          },
          "yaxis": {
           "automargin": true,
           "gridcolor": "white",
           "linecolor": "white",
           "ticks": "",
           "title": {
            "standoff": 15
           },
           "zerolinecolor": "white",
           "zerolinewidth": 2
          }
         }
        },
        "title": {
         "text": "Gantt Chart"
        },
        "xaxis": {
         "rangeselector": {
          "buttons": [
           {
            "count": 7,
            "label": "1w",
            "step": "day",
            "stepmode": "backward"
           },
           {
            "count": 1,
            "label": "1m",
            "step": "month",
            "stepmode": "backward"
           },
           {
            "count": 6,
            "label": "6m",
            "step": "month",
            "stepmode": "backward"
           },
           {
            "count": 1,
            "label": "YTD",
            "step": "year",
            "stepmode": "todate"
           },
           {
            "count": 1,
            "label": "1y",
            "step": "year",
            "stepmode": "backward"
           },
           {
            "step": "all"
           }
          ]
         },
         "showgrid": true,
         "type": "linear",
         "zeroline": false
        },
        "yaxis": {
         "autorange": false,
         "range": [
          -1,
          4
         ],
         "showgrid": false,
         "ticktext": [
          "W2",
          "W1",
          "W0"
         ],
         "tickvals": [
          0,
          1,
          2
         ],
         "zeroline": false
        }
       }
      }
     },
     "metadata": {},
     "output_type": "display_data"
    }
   ],
   "source": [
    "data = []\n",
    "for i in range(len(jobs_to_schedule)):\n",
    "    data.append([assignments[i], jobs_to_schedule[i], solution[i], durations[i]])\n",
    "visualize(data)"
   ]
  }
 ],
 "metadata": {
  "interpreter": {
   "hash": "7f6a1dc8c4280d136ecdbc82017e55b6ce3aee96b85e53655c8afc2236474583"
  },
  "kernelspec": {
   "display_name": "Python 3.10.3 64-bit",
   "language": "python",
   "name": "python3"
  },
  "language_info": {
   "codemirror_mode": {
    "name": "ipython",
    "version": 3
   },
   "file_extension": ".py",
   "mimetype": "text/x-python",
   "name": "python",
   "nbconvert_exporter": "python",
   "pygments_lexer": "ipython3",
   "version": "3.10.3"
  },
  "orig_nbformat": 4
 },
 "nbformat": 4,
 "nbformat_minor": 2
}
