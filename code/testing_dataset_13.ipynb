{
 "cells": [
  {
   "cell_type": "markdown",
   "metadata": {},
   "source": [
    "<h1> General Setup </h1>"
   ]
  },
  {
   "cell_type": "markdown",
   "metadata": {},
   "source": [
    "<h3> Imports </h3>"
   ]
  },
  {
   "cell_type": "code",
   "execution_count": 1,
   "metadata": {},
   "outputs": [],
   "source": [
    "import pygad\n",
    "from read_data import read_dataset_1, translate_1\n",
    "from models import SimulationEnvironment\n",
    "import plotly.figure_factory as ff\n",
    "import random\n",
    "import copy"
   ]
  },
  {
   "cell_type": "markdown",
   "metadata": {},
   "source": [
    "<h3> General Parameters </h3>"
   ]
  },
  {
   "cell_type": "code",
   "execution_count": 2,
   "metadata": {},
   "outputs": [],
   "source": [
    "order_amount = 5\n",
    "earliest_time_slot = 0\n",
    "last_time_slot = 5000\n",
    "\n",
    "#random.seed(1)"
   ]
  },
  {
   "cell_type": "markdown",
   "metadata": {},
   "source": [
    "<h3> Load Data / Environment Setup </h3>"
   ]
  },
  {
   "cell_type": "code",
   "execution_count": 3,
   "metadata": {},
   "outputs": [],
   "source": [
    "input, orders, instance = read_dataset_1(use_instance=13, order_amount=order_amount, earliest_time=earliest_time_slot, last_time=last_time_slot)\n",
    "recipes, workstations, resources, tasks, orders_model = translate_1(instance, orders, earliest_time_slot, last_time_slot)\n",
    "env = SimulationEnvironment(workstations, tasks, resources, recipes)"
   ]
  },
  {
   "cell_type": "markdown",
   "metadata": {},
   "source": [
    "<h3> Visualization Code </h3>"
   ]
  },
  {
   "cell_type": "code",
   "execution_count": 4,
   "metadata": {},
   "outputs": [],
   "source": [
    "def get_colors(n): \n",
    "    ret = [] \n",
    "    r = int(random.random() * 256) \n",
    "    g = int(random.random() * 256) \n",
    "    b = int(random.random() * 256) \n",
    "    step = 256 / n \n",
    "    for i in range(n): \n",
    "        r += step \n",
    "        g += step \n",
    "        b += step \n",
    "        r = int(r) % 256 \n",
    "        g = int(g) % 256 \n",
    "        b = int(b) % 256 \n",
    "        ret.append((r,g,b))  \n",
    "    return ret\n",
    "\n",
    "def visualize(data):\n",
    "    # data format: 0 - workstation, 1 - job id, 2 - start time, 3 - duration\n",
    "    colors = {}\n",
    "    rgb_values = get_colors(len(orders))\n",
    "    for i in range(len(orders)):\n",
    "        colors[str(f'Order {i}')] = f'rgb({rgb_values[i][0]}, {rgb_values[i][1]}, {rgb_values[i][2]})' # just ignore colors for now\n",
    "    composed_data = []\n",
    "    \n",
    "    for i in range(len(data)):\n",
    "        label = f'W{data[i][0]}'\n",
    "        start = data[i][2]\n",
    "        end = start + data[i][3]\n",
    "        composed_data.append(\n",
    "                    dict(Task=label, Start=start, Finish=end, Resource=f'Order {order_for_index[i]}')\n",
    "                )\n",
    "        #print(composed_data)\n",
    "    fig = ff.create_gantt(composed_data, colors=colors, index_col='Resource', show_colorbar=True,\n",
    "                        group_tasks=True, showgrid_x=True)\n",
    "    fig.update_layout(xaxis_type='linear')\n",
    "    \"\"\"import plotly.express as px\n",
    "    fig = px.timeline(composed_data, x_start='Start', x_end='Finish', y='Task', color='Resource')\"\"\" # for some reason doesn't do what it's supposed to do\n",
    "    fig.show()"
   ]
  },
  {
   "cell_type": "markdown",
   "metadata": {},
   "source": [
    "<h1> Optimizers </h1>"
   ]
  },
  {
   "cell_type": "markdown",
   "metadata": {},
   "source": [
    "<h3> 2-Stage GA (PyGAD) </h3>"
   ]
  },
  {
   "cell_type": "code",
   "execution_count": 13,
   "metadata": {},
   "outputs": [
    {
     "name": "stdout",
     "output_type": "stream",
     "text": [
      "Parameters of the best solution : [6 6 6 6 6 6 5 3 6 6 6 6 3 3 6]\n",
      "Fitness value of the best solution = 1788\n",
      "Parameters of the best solution : [ 619 1089 1325  710  879 1800  743 2066 2836 1502 2282 2509  636 1293\n",
      " 2085]\n",
      "Fitness value of the best solution = 2367\n"
     ]
    }
   ],
   "source": [
    "duration_lookup_table = dict()\n",
    "for task in tasks:\n",
    "    for workstation in env.get_valid_workstations(task.id):\n",
    "        if not task in duration_lookup_table:\n",
    "            duration_lookup_table[task.id] = dict()\n",
    "        duration_lookup_table[task.id][workstation.id] = env.get_duration(task.id, workstation.id)\n",
    "\n",
    "operations = []\n",
    "order_for_index = []\n",
    "for order in orders_model:\n",
    "    for resource in order.resources:\n",
    "        recipe = resource.recipes[0] # just use recipe 0 for now\n",
    "        recipe_tasks = env.get_all_tasks_for_recipe(recipe.id)\n",
    "        results = dict()\n",
    "        for task in recipe_tasks:\n",
    "            if task.result_resources[0][0] not in results:\n",
    "                results[task.result_resources[0][0]] = []\n",
    "            results[task.result_resources[0][0]].append(task)\n",
    "        for key in results:\n",
    "            operations.append(random.choice(results[key]).id)\n",
    "            order_for_index.append(order.id)\n",
    "assignments = []\n",
    "\n",
    "for operation in operations:\n",
    "    workstation = env.get_valid_workstations(operation)\n",
    "    # random init\n",
    "    assignments.append(random.choice(workstation).id)\n",
    "\n",
    "def fitness_function(solution, solution_idx):\n",
    "    bins = dict()\n",
    "    sum = 0\n",
    "    max_sum = 0\n",
    "    for operation in list(duration_lookup_table.keys()):\n",
    "        max = -float('inf')\n",
    "        for workstation in list(duration_lookup_table[operation].keys()):\n",
    "            if duration_lookup_table[operation][workstation] > max:\n",
    "                max = duration_lookup_table[operation][workstation]\n",
    "        max_sum += max\n",
    "    for i in range(len(solution)):\n",
    "        if solution[i] not in duration_lookup_table[operations[i]]: # illegal combination\n",
    "            return len(solution) * 10000 * -1\n",
    "        if i not in bins:\n",
    "            bins[i] = 0\n",
    "        sum += duration_lookup_table[operations[i]][solution[i]] # minimize working minutes for all workstations\n",
    "        #bins[i] += duration_lookup_table[operations[i]][solution[i]]\n",
    "    return sum * -1\n",
    "\n",
    "def balance_fitness_function(solution, solution_idx):\n",
    "    fitness = 0\n",
    "    sums = dict()\n",
    "    for i in range(len(workstations)):\n",
    "        sums[i+1] = 0\n",
    "    for i in range(len(solution)):\n",
    "        if solution[i] not in duration_lookup_table[operations[i]]:\n",
    "            return len(solution) * 100000 * -1\n",
    "        if solution[i] not in sums:\n",
    "            sums[solution[i]] = 0\n",
    "        sums[solution[i]] += duration_lookup_table[operations[i]][solution[i]]\n",
    "    for workstation in sums.keys():\n",
    "        for other_workstation in sums.keys():\n",
    "            fitness += abs(sums[workstation] - sums[other_workstation])\n",
    "    return fitness *-1\n",
    "\n",
    "def mutation_function(offsprings, ga_instance):\n",
    "    for offspring in offsprings:\n",
    "        p = 1 / len(offspring)\n",
    "        for i in range(len(offspring)):\n",
    "            if random.random() < p:\n",
    "                offspring[i] = random.choice(list(duration_lookup_table[operations[i]].keys()))\n",
    "    return offsprings\n",
    "\n",
    "num_genes = len(assignments)\n",
    "num_generations = 5000\n",
    "num_parents_mating = 50\n",
    "sol_per_pop = 100\n",
    "init_range_low = 0\n",
    "init_range_high = last_time_slot\n",
    "parent_selection_type = 'rws'\n",
    "keep_parents = 10\n",
    "crossover_type = 'two_points'\n",
    "mutation_type = mutation_function\n",
    "#mutation_type = 'random'\n",
    "mutation_percentage_genes = 10\n",
    "fitness_func = fitness_function\n",
    "#fitness_func = balance_fitness_function\n",
    "gene_type = int\n",
    "space_workstations = {'low': 1, 'high': len(workstations)-1}\n",
    "gene_space = []\n",
    "for i in range(len(assignments)):\n",
    "    gene_space.append(space_workstations)\n",
    "ga_instance = pygad.GA(num_generations=num_generations, num_parents_mating=num_parents_mating, fitness_func=fitness_func, sol_per_pop=sol_per_pop, num_genes=num_genes, init_range_low=init_range_low, init_range_high=init_range_high, parent_selection_type=parent_selection_type, keep_parents=keep_parents, crossover_type=crossover_type, mutation_type=mutation_type, mutation_percent_genes=mutation_percentage_genes, gene_type=gene_type, gene_space=gene_space)\n",
    "ga_instance.run()\n",
    "solution, solution_fitness, solution_idx = ga_instance.best_solution()\n",
    "\n",
    "print(\"Parameters of the best solution : {solution}\".format(solution=solution))\n",
    "print(\"Fitness value of the best solution = {solution_fitness}\".format(solution_fitness=abs(solution_fitness) - 1))\n",
    "\n",
    "def is_feasible(solution):\n",
    "    for i in range(len(solution)):\n",
    "        start = solution[i]\n",
    "        end = start + duration_lookup_table[operations[i]][assignments[i]]\n",
    "        if end > last_time_slot:\n",
    "            return False\n",
    "        if start < earliest_time_slot:\n",
    "            return False\n",
    "        # overlap\n",
    "        same_workstation = [] # append indices of jobs running on the same workstation\n",
    "        for j in range(len(assignments)):\n",
    "            if assignments[j] == assignments[i] and i != j:\n",
    "                same_workstation.append(j)\n",
    "        for j in range(len(same_workstation)):\n",
    "            other_start = solution[same_workstation[j]]\n",
    "            other_end = other_start + duration_lookup_table[operations[same_workstation[j]]][assignments[same_workstation[j]]]\n",
    "            if start > other_start and start < other_end:\n",
    "                return False\n",
    "            if end > other_start and end < other_end:\n",
    "                return False\n",
    "            if other_start > start and other_start < end:\n",
    "                return False\n",
    "            if other_end > start and other_end < end:\n",
    "                return False\n",
    "        # check sequence\n",
    "        order = order_for_index[i]\n",
    "        if i > 0:\n",
    "            if order_for_index[i-1] == order: # same order\n",
    "                prev_start = solution[i-1]\n",
    "                prev_end = prev_start + duration_lookup_table[operations[i-1]][assignments[i-1]]\n",
    "                if prev_end > start:\n",
    "                    return False\n",
    "    return True\n",
    "\n",
    "def fitness_function_time_slots(solution, solution_idx):\n",
    "    fitness = 1\n",
    "    if not is_feasible(solution):\n",
    "        #fitness += last_time_slot\n",
    "        return -2 * last_time_slot\n",
    "    max = -float('inf')\n",
    "    min = float('inf')\n",
    "    for i in range(len(solution)):\n",
    "        start = solution[i]\n",
    "        end = start + duration_lookup_table[operations[i]][assignments[i]]\n",
    "        if start < min:\n",
    "            min = start\n",
    "        if end > max:\n",
    "            max = end\n",
    "    fitness += abs(max - min)\n",
    "    return -fitness\n",
    "\n",
    "def mutation_function_time_slots(offsprings, ga_instance):\n",
    "    for offspring in offsprings:\n",
    "        p = 1 / len(offspring)\n",
    "        for i in range(len(offspring)):\n",
    "            if random.random() < p:\n",
    "                offspring[i] = random.randint(earliest_time_slot, last_time_slot)\n",
    "    return offsprings\n",
    "\n",
    "assignments = solution\n",
    "start_slots = []\n",
    "for assignment in assignments:\n",
    "    start_slots.append(0)\n",
    "num_genes = len(start_slots)\n",
    "num_generations = 5000\n",
    "num_parents_mating = 50\n",
    "sol_per_pop = 100\n",
    "init_range_low = 0\n",
    "init_range_high = last_time_slot\n",
    "parent_selection_type = 'rws'\n",
    "keep_parents = 10\n",
    "crossover_type = 'two_points'\n",
    "mutation_type = mutation_function_time_slots\n",
    "#mutation_type = 'random'\n",
    "mutation_percentage_genes = 10\n",
    "fitness_func = fitness_function_time_slots\n",
    "gene_type = int\n",
    "space_time = {'low': earliest_time_slot, 'high': last_time_slot}\n",
    "gene_space = []\n",
    "for i in range(len(assignments)):\n",
    "    gene_space.append(space_time)\n",
    "ga_instance = pygad.GA(num_generations=num_generations, num_parents_mating=num_parents_mating, fitness_func=fitness_func, sol_per_pop=sol_per_pop, num_genes=num_genes, init_range_low=init_range_low, init_range_high=init_range_high, parent_selection_type=parent_selection_type, keep_parents=keep_parents, crossover_type=crossover_type, mutation_type=mutation_type, mutation_percent_genes=mutation_percentage_genes, gene_type=gene_type, gene_space=gene_space)\n",
    "ga_instance.run()\n",
    "solution, solution_fitness, solution_idx = ga_instance.best_solution()\n",
    "print(\"Parameters of the best solution : {solution}\".format(solution=solution))\n",
    "print(\"Fitness value of the best solution = {solution_fitness}\".format(solution_fitness=abs(solution_fitness) - 1))"
   ]
  },
  {
   "cell_type": "code",
   "execution_count": 14,
   "metadata": {},
   "outputs": [
    {
     "data": {
      "application/vnd.plotly.v1+json": {
       "config": {
        "plotlyServerURL": "https://plot.ly"
       },
       "data": [
        {
         "fill": "toself",
         "fillcolor": "rgb(117, 77, 72)",
         "hoverinfo": "name",
         "legendgroup": "rgb(117, 77, 72)",
         "mode": "none",
         "name": "Order 1",
         "type": "scatter",
         "x": [
          710,
          797,
          797,
          710,
          710,
          879,
          1052,
          1052,
          879,
          879,
          1800,
          1945,
          1945,
          1800
         ],
         "y": [
          1.8,
          1.8,
          2.2,
          2.2,
          null,
          1.8,
          1.8,
          2.2,
          2.2,
          null,
          1.8,
          1.8,
          2.2,
          2.2
         ]
        },
        {
         "fill": "toself",
         "fillcolor": "rgb(14, 230, 225)",
         "hoverinfo": "name",
         "legendgroup": "rgb(14, 230, 225)",
         "mode": "none",
         "name": "Order 4",
         "type": "scatter",
         "x": [
          636,
          786,
          786,
          636,
          636,
          1293,
          1390,
          1390,
          1293,
          1293,
          2085,
          2178,
          2178,
          2085
         ],
         "y": [
          -0.2,
          -0.2,
          0.2,
          0.2,
          null,
          -0.2,
          -0.2,
          0.2,
          0.2,
          null,
          1.8,
          1.8,
          2.2,
          2.2
         ]
        },
        {
         "fill": "toself",
         "fillcolor": "rgb(168, 128, 123)",
         "hoverinfo": "name",
         "legendgroup": "rgb(168, 128, 123)",
         "mode": "none",
         "name": "Order 2",
         "type": "scatter",
         "x": [
          743,
          863,
          863,
          743,
          743,
          2066,
          2165,
          2165,
          2066,
          2066,
          2836,
          2986,
          2986,
          2836
         ],
         "y": [
          0.8,
          0.8,
          1.2,
          1.2,
          null,
          -0.2,
          -0.2,
          0.2,
          0.2,
          null,
          1.8,
          1.8,
          2.2,
          2.2
         ]
        },
        {
         "fill": "toself",
         "fillcolor": "rgb(219, 179, 174)",
         "hoverinfo": "name",
         "legendgroup": "rgb(219, 179, 174)",
         "mode": "none",
         "name": "Order 3",
         "type": "scatter",
         "x": [
          1502,
          1564,
          1564,
          1502,
          1502,
          2282,
          2402,
          2402,
          2282,
          2282,
          2509,
          2609,
          2609,
          2509
         ],
         "y": [
          1.8,
          1.8,
          2.2,
          2.2,
          null,
          1.8,
          1.8,
          2.2,
          2.2,
          null,
          1.8,
          1.8,
          2.2,
          2.2
         ]
        },
        {
         "fill": "toself",
         "fillcolor": "rgb(66, 26, 21)",
         "hoverinfo": "name",
         "legendgroup": "rgb(66, 26, 21)",
         "mode": "none",
         "name": "Order 0",
         "type": "scatter",
         "x": [
          619,
          684,
          684,
          619,
          619,
          1089,
          1262,
          1262,
          1089,
          1089,
          1325,
          1480,
          1480,
          1325
         ],
         "y": [
          1.8,
          1.8,
          2.2,
          2.2,
          null,
          1.8,
          1.8,
          2.2,
          2.2,
          null,
          1.8,
          1.8,
          2.2,
          2.2
         ]
        },
        {
         "legendgroup": "rgb(117, 77, 72)",
         "marker": {
          "color": "rgb(117, 77, 72)",
          "opacity": 0,
          "size": 1
         },
         "mode": "markers",
         "name": "",
         "showlegend": false,
         "text": [
          null,
          null,
          null,
          null,
          null,
          null
         ],
         "type": "scatter",
         "x": [
          710,
          797,
          879,
          1052,
          1800,
          1945
         ],
         "y": [
          2,
          2,
          2,
          2,
          2,
          2
         ]
        },
        {
         "legendgroup": "rgb(14, 230, 225)",
         "marker": {
          "color": "rgb(14, 230, 225)",
          "opacity": 0,
          "size": 1
         },
         "mode": "markers",
         "name": "",
         "showlegend": false,
         "text": [
          null,
          null,
          null,
          null,
          null,
          null
         ],
         "type": "scatter",
         "x": [
          636,
          786,
          1293,
          1390,
          2085,
          2178
         ],
         "y": [
          0,
          0,
          0,
          0,
          2,
          2
         ]
        },
        {
         "legendgroup": "rgb(168, 128, 123)",
         "marker": {
          "color": "rgb(168, 128, 123)",
          "opacity": 0,
          "size": 1
         },
         "mode": "markers",
         "name": "",
         "showlegend": false,
         "text": [
          null,
          null,
          null,
          null,
          null,
          null
         ],
         "type": "scatter",
         "x": [
          743,
          863,
          2066,
          2165,
          2836,
          2986
         ],
         "y": [
          1,
          1,
          0,
          0,
          2,
          2
         ]
        },
        {
         "legendgroup": "rgb(219, 179, 174)",
         "marker": {
          "color": "rgb(219, 179, 174)",
          "opacity": 0,
          "size": 1
         },
         "mode": "markers",
         "name": "",
         "showlegend": false,
         "text": [
          null,
          null,
          null,
          null,
          null,
          null
         ],
         "type": "scatter",
         "x": [
          1502,
          1564,
          2282,
          2402,
          2509,
          2609
         ],
         "y": [
          2,
          2,
          2,
          2,
          2,
          2
         ]
        },
        {
         "legendgroup": "rgb(66, 26, 21)",
         "marker": {
          "color": "rgb(66, 26, 21)",
          "opacity": 0,
          "size": 1
         },
         "mode": "markers",
         "name": "",
         "showlegend": false,
         "text": [
          null,
          null,
          null,
          null,
          null,
          null
         ],
         "type": "scatter",
         "x": [
          619,
          684,
          1089,
          1262,
          1325,
          1480
         ],
         "y": [
          2,
          2,
          2,
          2,
          2,
          2
         ]
        }
       ],
       "layout": {
        "height": 600,
        "hovermode": "closest",
        "showlegend": true,
        "template": {
         "data": {
          "bar": [
           {
            "error_x": {
             "color": "#2a3f5f"
            },
            "error_y": {
             "color": "#2a3f5f"
            },
            "marker": {
             "line": {
              "color": "#E5ECF6",
              "width": 0.5
             },
             "pattern": {
              "fillmode": "overlay",
              "size": 10,
              "solidity": 0.2
             }
            },
            "type": "bar"
           }
          ],
          "barpolar": [
           {
            "marker": {
             "line": {
              "color": "#E5ECF6",
              "width": 0.5
             },
             "pattern": {
              "fillmode": "overlay",
              "size": 10,
              "solidity": 0.2
             }
            },
            "type": "barpolar"
           }
          ],
          "carpet": [
           {
            "aaxis": {
             "endlinecolor": "#2a3f5f",
             "gridcolor": "white",
             "linecolor": "white",
             "minorgridcolor": "white",
             "startlinecolor": "#2a3f5f"
            },
            "baxis": {
             "endlinecolor": "#2a3f5f",
             "gridcolor": "white",
             "linecolor": "white",
             "minorgridcolor": "white",
             "startlinecolor": "#2a3f5f"
            },
            "type": "carpet"
           }
          ],
          "choropleth": [
           {
            "colorbar": {
             "outlinewidth": 0,
             "ticks": ""
            },
            "type": "choropleth"
           }
          ],
          "contour": [
           {
            "colorbar": {
             "outlinewidth": 0,
             "ticks": ""
            },
            "colorscale": [
             [
              0,
              "#0d0887"
             ],
             [
              0.1111111111111111,
              "#46039f"
             ],
             [
              0.2222222222222222,
              "#7201a8"
             ],
             [
              0.3333333333333333,
              "#9c179e"
             ],
             [
              0.4444444444444444,
              "#bd3786"
             ],
             [
              0.5555555555555556,
              "#d8576b"
             ],
             [
              0.6666666666666666,
              "#ed7953"
             ],
             [
              0.7777777777777778,
              "#fb9f3a"
             ],
             [
              0.8888888888888888,
              "#fdca26"
             ],
             [
              1,
              "#f0f921"
             ]
            ],
            "type": "contour"
           }
          ],
          "contourcarpet": [
           {
            "colorbar": {
             "outlinewidth": 0,
             "ticks": ""
            },
            "type": "contourcarpet"
           }
          ],
          "heatmap": [
           {
            "colorbar": {
             "outlinewidth": 0,
             "ticks": ""
            },
            "colorscale": [
             [
              0,
              "#0d0887"
             ],
             [
              0.1111111111111111,
              "#46039f"
             ],
             [
              0.2222222222222222,
              "#7201a8"
             ],
             [
              0.3333333333333333,
              "#9c179e"
             ],
             [
              0.4444444444444444,
              "#bd3786"
             ],
             [
              0.5555555555555556,
              "#d8576b"
             ],
             [
              0.6666666666666666,
              "#ed7953"
             ],
             [
              0.7777777777777778,
              "#fb9f3a"
             ],
             [
              0.8888888888888888,
              "#fdca26"
             ],
             [
              1,
              "#f0f921"
             ]
            ],
            "type": "heatmap"
           }
          ],
          "heatmapgl": [
           {
            "colorbar": {
             "outlinewidth": 0,
             "ticks": ""
            },
            "colorscale": [
             [
              0,
              "#0d0887"
             ],
             [
              0.1111111111111111,
              "#46039f"
             ],
             [
              0.2222222222222222,
              "#7201a8"
             ],
             [
              0.3333333333333333,
              "#9c179e"
             ],
             [
              0.4444444444444444,
              "#bd3786"
             ],
             [
              0.5555555555555556,
              "#d8576b"
             ],
             [
              0.6666666666666666,
              "#ed7953"
             ],
             [
              0.7777777777777778,
              "#fb9f3a"
             ],
             [
              0.8888888888888888,
              "#fdca26"
             ],
             [
              1,
              "#f0f921"
             ]
            ],
            "type": "heatmapgl"
           }
          ],
          "histogram": [
           {
            "marker": {
             "pattern": {
              "fillmode": "overlay",
              "size": 10,
              "solidity": 0.2
             }
            },
            "type": "histogram"
           }
          ],
          "histogram2d": [
           {
            "colorbar": {
             "outlinewidth": 0,
             "ticks": ""
            },
            "colorscale": [
             [
              0,
              "#0d0887"
             ],
             [
              0.1111111111111111,
              "#46039f"
             ],
             [
              0.2222222222222222,
              "#7201a8"
             ],
             [
              0.3333333333333333,
              "#9c179e"
             ],
             [
              0.4444444444444444,
              "#bd3786"
             ],
             [
              0.5555555555555556,
              "#d8576b"
             ],
             [
              0.6666666666666666,
              "#ed7953"
             ],
             [
              0.7777777777777778,
              "#fb9f3a"
             ],
             [
              0.8888888888888888,
              "#fdca26"
             ],
             [
              1,
              "#f0f921"
             ]
            ],
            "type": "histogram2d"
           }
          ],
          "histogram2dcontour": [
           {
            "colorbar": {
             "outlinewidth": 0,
             "ticks": ""
            },
            "colorscale": [
             [
              0,
              "#0d0887"
             ],
             [
              0.1111111111111111,
              "#46039f"
             ],
             [
              0.2222222222222222,
              "#7201a8"
             ],
             [
              0.3333333333333333,
              "#9c179e"
             ],
             [
              0.4444444444444444,
              "#bd3786"
             ],
             [
              0.5555555555555556,
              "#d8576b"
             ],
             [
              0.6666666666666666,
              "#ed7953"
             ],
             [
              0.7777777777777778,
              "#fb9f3a"
             ],
             [
              0.8888888888888888,
              "#fdca26"
             ],
             [
              1,
              "#f0f921"
             ]
            ],
            "type": "histogram2dcontour"
           }
          ],
          "mesh3d": [
           {
            "colorbar": {
             "outlinewidth": 0,
             "ticks": ""
            },
            "type": "mesh3d"
           }
          ],
          "parcoords": [
           {
            "line": {
             "colorbar": {
              "outlinewidth": 0,
              "ticks": ""
             }
            },
            "type": "parcoords"
           }
          ],
          "pie": [
           {
            "automargin": true,
            "type": "pie"
           }
          ],
          "scatter": [
           {
            "marker": {
             "colorbar": {
              "outlinewidth": 0,
              "ticks": ""
             }
            },
            "type": "scatter"
           }
          ],
          "scatter3d": [
           {
            "line": {
             "colorbar": {
              "outlinewidth": 0,
              "ticks": ""
             }
            },
            "marker": {
             "colorbar": {
              "outlinewidth": 0,
              "ticks": ""
             }
            },
            "type": "scatter3d"
           }
          ],
          "scattercarpet": [
           {
            "marker": {
             "colorbar": {
              "outlinewidth": 0,
              "ticks": ""
             }
            },
            "type": "scattercarpet"
           }
          ],
          "scattergeo": [
           {
            "marker": {
             "colorbar": {
              "outlinewidth": 0,
              "ticks": ""
             }
            },
            "type": "scattergeo"
           }
          ],
          "scattergl": [
           {
            "marker": {
             "colorbar": {
              "outlinewidth": 0,
              "ticks": ""
             }
            },
            "type": "scattergl"
           }
          ],
          "scattermapbox": [
           {
            "marker": {
             "colorbar": {
              "outlinewidth": 0,
              "ticks": ""
             }
            },
            "type": "scattermapbox"
           }
          ],
          "scatterpolar": [
           {
            "marker": {
             "colorbar": {
              "outlinewidth": 0,
              "ticks": ""
             }
            },
            "type": "scatterpolar"
           }
          ],
          "scatterpolargl": [
           {
            "marker": {
             "colorbar": {
              "outlinewidth": 0,
              "ticks": ""
             }
            },
            "type": "scatterpolargl"
           }
          ],
          "scatterternary": [
           {
            "marker": {
             "colorbar": {
              "outlinewidth": 0,
              "ticks": ""
             }
            },
            "type": "scatterternary"
           }
          ],
          "surface": [
           {
            "colorbar": {
             "outlinewidth": 0,
             "ticks": ""
            },
            "colorscale": [
             [
              0,
              "#0d0887"
             ],
             [
              0.1111111111111111,
              "#46039f"
             ],
             [
              0.2222222222222222,
              "#7201a8"
             ],
             [
              0.3333333333333333,
              "#9c179e"
             ],
             [
              0.4444444444444444,
              "#bd3786"
             ],
             [
              0.5555555555555556,
              "#d8576b"
             ],
             [
              0.6666666666666666,
              "#ed7953"
             ],
             [
              0.7777777777777778,
              "#fb9f3a"
             ],
             [
              0.8888888888888888,
              "#fdca26"
             ],
             [
              1,
              "#f0f921"
             ]
            ],
            "type": "surface"
           }
          ],
          "table": [
           {
            "cells": {
             "fill": {
              "color": "#EBF0F8"
             },
             "line": {
              "color": "white"
             }
            },
            "header": {
             "fill": {
              "color": "#C8D4E3"
             },
             "line": {
              "color": "white"
             }
            },
            "type": "table"
           }
          ]
         },
         "layout": {
          "annotationdefaults": {
           "arrowcolor": "#2a3f5f",
           "arrowhead": 0,
           "arrowwidth": 1
          },
          "autotypenumbers": "strict",
          "coloraxis": {
           "colorbar": {
            "outlinewidth": 0,
            "ticks": ""
           }
          },
          "colorscale": {
           "diverging": [
            [
             0,
             "#8e0152"
            ],
            [
             0.1,
             "#c51b7d"
            ],
            [
             0.2,
             "#de77ae"
            ],
            [
             0.3,
             "#f1b6da"
            ],
            [
             0.4,
             "#fde0ef"
            ],
            [
             0.5,
             "#f7f7f7"
            ],
            [
             0.6,
             "#e6f5d0"
            ],
            [
             0.7,
             "#b8e186"
            ],
            [
             0.8,
             "#7fbc41"
            ],
            [
             0.9,
             "#4d9221"
            ],
            [
             1,
             "#276419"
            ]
           ],
           "sequential": [
            [
             0,
             "#0d0887"
            ],
            [
             0.1111111111111111,
             "#46039f"
            ],
            [
             0.2222222222222222,
             "#7201a8"
            ],
            [
             0.3333333333333333,
             "#9c179e"
            ],
            [
             0.4444444444444444,
             "#bd3786"
            ],
            [
             0.5555555555555556,
             "#d8576b"
            ],
            [
             0.6666666666666666,
             "#ed7953"
            ],
            [
             0.7777777777777778,
             "#fb9f3a"
            ],
            [
             0.8888888888888888,
             "#fdca26"
            ],
            [
             1,
             "#f0f921"
            ]
           ],
           "sequentialminus": [
            [
             0,
             "#0d0887"
            ],
            [
             0.1111111111111111,
             "#46039f"
            ],
            [
             0.2222222222222222,
             "#7201a8"
            ],
            [
             0.3333333333333333,
             "#9c179e"
            ],
            [
             0.4444444444444444,
             "#bd3786"
            ],
            [
             0.5555555555555556,
             "#d8576b"
            ],
            [
             0.6666666666666666,
             "#ed7953"
            ],
            [
             0.7777777777777778,
             "#fb9f3a"
            ],
            [
             0.8888888888888888,
             "#fdca26"
            ],
            [
             1,
             "#f0f921"
            ]
           ]
          },
          "colorway": [
           "#636efa",
           "#EF553B",
           "#00cc96",
           "#ab63fa",
           "#FFA15A",
           "#19d3f3",
           "#FF6692",
           "#B6E880",
           "#FF97FF",
           "#FECB52"
          ],
          "font": {
           "color": "#2a3f5f"
          },
          "geo": {
           "bgcolor": "white",
           "lakecolor": "white",
           "landcolor": "#E5ECF6",
           "showlakes": true,
           "showland": true,
           "subunitcolor": "white"
          },
          "hoverlabel": {
           "align": "left"
          },
          "hovermode": "closest",
          "mapbox": {
           "style": "light"
          },
          "paper_bgcolor": "white",
          "plot_bgcolor": "#E5ECF6",
          "polar": {
           "angularaxis": {
            "gridcolor": "white",
            "linecolor": "white",
            "ticks": ""
           },
           "bgcolor": "#E5ECF6",
           "radialaxis": {
            "gridcolor": "white",
            "linecolor": "white",
            "ticks": ""
           }
          },
          "scene": {
           "xaxis": {
            "backgroundcolor": "#E5ECF6",
            "gridcolor": "white",
            "gridwidth": 2,
            "linecolor": "white",
            "showbackground": true,
            "ticks": "",
            "zerolinecolor": "white"
           },
           "yaxis": {
            "backgroundcolor": "#E5ECF6",
            "gridcolor": "white",
            "gridwidth": 2,
            "linecolor": "white",
            "showbackground": true,
            "ticks": "",
            "zerolinecolor": "white"
           },
           "zaxis": {
            "backgroundcolor": "#E5ECF6",
            "gridcolor": "white",
            "gridwidth": 2,
            "linecolor": "white",
            "showbackground": true,
            "ticks": "",
            "zerolinecolor": "white"
           }
          },
          "shapedefaults": {
           "line": {
            "color": "#2a3f5f"
           }
          },
          "ternary": {
           "aaxis": {
            "gridcolor": "white",
            "linecolor": "white",
            "ticks": ""
           },
           "baxis": {
            "gridcolor": "white",
            "linecolor": "white",
            "ticks": ""
           },
           "bgcolor": "#E5ECF6",
           "caxis": {
            "gridcolor": "white",
            "linecolor": "white",
            "ticks": ""
           }
          },
          "title": {
           "x": 0.05
          },
          "xaxis": {
           "automargin": true,
           "gridcolor": "white",
           "linecolor": "white",
           "ticks": "",
           "title": {
            "standoff": 15
           },
           "zerolinecolor": "white",
           "zerolinewidth": 2
          },
          "yaxis": {
           "automargin": true,
           "gridcolor": "white",
           "linecolor": "white",
           "ticks": "",
           "title": {
            "standoff": 15
           },
           "zerolinecolor": "white",
           "zerolinewidth": 2
          }
         }
        },
        "title": {
         "text": "Gantt Chart"
        },
        "xaxis": {
         "rangeselector": {
          "buttons": [
           {
            "count": 7,
            "label": "1w",
            "step": "day",
            "stepmode": "backward"
           },
           {
            "count": 1,
            "label": "1m",
            "step": "month",
            "stepmode": "backward"
           },
           {
            "count": 6,
            "label": "6m",
            "step": "month",
            "stepmode": "backward"
           },
           {
            "count": 1,
            "label": "YTD",
            "step": "year",
            "stepmode": "todate"
           },
           {
            "count": 1,
            "label": "1y",
            "step": "year",
            "stepmode": "backward"
           },
           {
            "step": "all"
           }
          ]
         },
         "showgrid": true,
         "type": "linear",
         "zeroline": false
        },
        "yaxis": {
         "autorange": false,
         "range": [
          -1,
          4
         ],
         "showgrid": false,
         "ticktext": [
          "W3",
          "W5",
          "W6"
         ],
         "tickvals": [
          0,
          1,
          2
         ],
         "zeroline": false
        }
       }
      }
     },
     "metadata": {},
     "output_type": "display_data"
    }
   ],
   "source": [
    "data = []\n",
    "for i in range(len(solution)):\n",
    "    data.append([assignments[i], operations[i], solution[i], duration_lookup_table[operations[i]][assignments[i]]])\n",
    "visualize(data)"
   ]
  },
  {
   "cell_type": "markdown",
   "metadata": {},
   "source": [
    "<h3>2 Stage CMA-ES</h3>"
   ]
  },
  {
   "cell_type": "markdown",
   "metadata": {},
   "source": [
    "Stage 1"
   ]
  },
  {
   "cell_type": "code",
   "execution_count": 38,
   "metadata": {},
   "outputs": [
    {
     "name": "stdout",
     "output_type": "stream",
     "text": [
      "(6_w,12)-aCMA-ES (mu_w=3.7,w_1=40%) in dimension 15 (seed=215301, Thu Apr 28 14:39:59 2022)\n",
      "Iterat #Fevals   function value  axis ratio  sigma  min&max std  t[m:s]\n",
      "    1     12 -1.500000000000000e+05 1.0e+00 5.73e+00  6e+00  6e+00 0:00.0\n",
      "termination on tolfun=1e-11 (Thu Apr 28 14:39:59 2022)\n",
      "final/bestever f-value = -1.500000e+05 -1.500000e+05\n",
      "incumbent solution: [2.65819649 4.74617294 2.0932133  4.82899866 3.82842629 4.61313954\n",
      " 1.01758257 2.38771569 ...]\n",
      "std deviations: [5.65580977 5.67436031 5.69115723 5.72809394 5.66843793 5.69217054\n",
      " 5.72487198 5.72265828 ...]\n",
      "Result: [2.0, 3.0, 1.0, 4.0, 3.0, 5.0, 4.0, 3.0, 2.0, 4.0, 2.0, 4.0, 4.0, 1.0, 4.0]\n"
     ]
    },
    {
     "name": "stderr",
     "output_type": "stream",
     "text": [
      "C:\\Users\\huda\\AppData\\Local\\Programs\\Python\\Python310\\lib\\site-packages\\cma\\evolution_strategy.py:1723: UserWarning:\n",
      "\n",
      "ValueWarning:\n",
      "\n",
      "  Initial standard deviations sigma0 x stds are larger than the bounded domain size in variables [ 0  1  2  3  4  5  6  7  8  9 10 11 12 13 14].\n",
      "  Consider using `cma.ScaleCoordinates` if the bounded domain sizes differ significantly. \n",
      "\n",
      "\n"
     ]
    }
   ],
   "source": [
    "import cma\n",
    "import numpy as np\n",
    "\n",
    "def fitness_function(solution):\n",
    "    bins = dict()\n",
    "    sum = 0\n",
    "    max_sum = 0\n",
    "    for operation in list(duration_lookup_table.keys()):\n",
    "        max = float('inf')\n",
    "        for workstation in list(duration_lookup_table[operation].keys()):\n",
    "            if duration_lookup_table[operation][workstation] > max:\n",
    "                max = duration_lookup_table[operation][workstation]\n",
    "        max_sum += max\n",
    "    for i in range(len(solution)):\n",
    "        if int(np.floor(solution[i])) not in duration_lookup_table[operations[i]]: # illegal combination\n",
    "            return len(solution) * 10000 * -1\n",
    "        if i not in bins:\n",
    "            bins[i] = 0\n",
    "        sum += duration_lookup_table[operations[i]][int(np.floor(solution[i]))] # minimize working minutes for all workstations\n",
    "        #bins[i] += duration_lookup_table[operations[i]][solution[i]]\n",
    "    return sum\n",
    "\n",
    "x0 = len(assignments) * [1]\n",
    "#sigma=0.5\n",
    "#sigma=1\n",
    "sigma=len(workstations)-1\n",
    "xopt, es = cma.fmin2(fitness_function, x0, sigma, {'integer_variables': list(range(len(x0))), 'bounds': [1, len(workstations)-1]})#, {'verb_disp': 1})\n",
    "int_result = [np.floor(x) for x in es.result[0]] #NOTE: the cma library truncates/rounds all values in the background itself, apparently np.floor\n",
    "print(f'Result: {int_result}')"
   ]
  },
  {
   "cell_type": "markdown",
   "metadata": {},
   "source": [
    "Stage 2"
   ]
  },
  {
   "cell_type": "code",
   "execution_count": 39,
   "metadata": {},
   "outputs": [
    {
     "name": "stdout",
     "output_type": "stream",
     "text": [
      "(6_w,12)-aCMA-ES (mu_w=3.7,w_1=40%) in dimension 15 (seed=261292, Thu Apr 28 14:40:03 2022)\n",
      "Iterat #Fevals   function value  axis ratio  sigma  min&max std  t[m:s]\n",
      "    1     12 1.000000000000000e+04 1.0e+00 4.60e+01  5e+01  5e+01 0:00.0\n",
      "termination on tolfun=1e-11 (Thu Apr 28 14:40:03 2022)\n",
      "final/bestever f-value = 1.000000e+04 1.000000e+04\n",
      "incumbent solution: [30.53619639  0.3340083  17.48662733  4.05659224  8.02033481 48.40503451\n",
      " 19.86059661  2.42390135 ...]\n",
      "std deviations: [46.50869999 45.32196089 46.10913667 45.04546937 46.08640132 46.4755\n",
      " 45.65139104 45.61893793 ...]\n",
      "Result: [2.0, 2.0, 10.0, 12.0, 31.0, 62.0, 39.0, 13.0, 19.0, 68.0, 45.0, 3.0, 114.0, 12.0, 0.0]\n"
     ]
    }
   ],
   "source": [
    "assignments = int_result # use result of stage 1\n",
    "\n",
    "def is_feasible(solution):\n",
    "    for i in range(len(solution)):\n",
    "        start = solution[i]\n",
    "        if int(np.floor(assignments[i])) not in duration_lookup_table[operations[i]]:\n",
    "            return False\n",
    "        end = start + duration_lookup_table[operations[i]][int(np.floor(assignments[i]))]\n",
    "        if end > last_time_slot:\n",
    "            return False\n",
    "        if start < earliest_time_slot:\n",
    "            return False\n",
    "        # overlap\n",
    "        same_workstation = [] # append indices of jobs running on the same workstation\n",
    "        for j in range(len(assignments)):\n",
    "            if int(np.floor(assignments[j])) == int(np.floor(assignments[i])) and i != j:\n",
    "                same_workstation.append(j)\n",
    "        for j in range(len(same_workstation)):\n",
    "            other_start = solution[same_workstation[j]]\n",
    "            other_end = other_start + duration_lookup_table[operations[same_workstation[j]]][int(np.floor(assignments[same_workstation[j]]))]\n",
    "            if start > other_start and start < other_end:\n",
    "                return False\n",
    "            if end > other_start and end < other_end:\n",
    "                return False\n",
    "            if other_start > start and other_start < end:\n",
    "                return False\n",
    "            if other_end > start and other_end < end:\n",
    "                return False\n",
    "        # check sequence\n",
    "        order = order_for_index[i]\n",
    "        if i > 0:\n",
    "            if order_for_index[i-1] == order: # same order\n",
    "                prev_start = solution[i-1]\n",
    "                prev_end = prev_start + duration_lookup_table[operations[i-1]][int(np.floor(assignments[i-1]))]\n",
    "                if prev_end > start:\n",
    "                    return False\n",
    "    return True\n",
    "\n",
    "def fitness_function(solution):\n",
    "    fitness = 0\n",
    "    if not is_feasible(solution):\n",
    "        #fitness += last_time_slot\n",
    "        return 2 * last_time_slot\n",
    "    max = -float('inf')\n",
    "    min = float('inf')\n",
    "    for i in range(len(solution)):\n",
    "        start = solution[i]\n",
    "        end = start + duration_lookup_table[operations[i]][int(np.floor(assignments[i]))]\n",
    "        if start < min:\n",
    "            min = start\n",
    "        if end > max:\n",
    "            max = end\n",
    "    fitness += abs(max - min)\n",
    "    return fitness\n",
    "\n",
    "x1 = len(assignments) * [earliest_time_slot]\n",
    "#sigma=0.5\n",
    "#sigma=10\n",
    "sigma=50\n",
    "xopt, es = cma.fmin2(fitness_function, x1, sigma, {'integer_variables': list(range(len(x1))), 'bounds': [earliest_time_slot, last_time_slot]})#, {'verb_disp': 1})\n",
    "int_result = [np.floor(x) for x in es.result[0]] #NOTE: the cma library truncates/rounds all values in the background itself, apparently np.floor\n",
    "print(f'Result: {int_result}')"
   ]
  },
  {
   "cell_type": "code",
   "execution_count": 40,
   "metadata": {},
   "outputs": [
    {
     "name": "stdout",
     "output_type": "stream",
     "text": [
      "[2.0, 3.0, 1.0, 4.0, 3.0, 5.0, 4.0, 3.0, 2.0, 4.0, 2.0, 4.0, 4.0, 1.0, 4.0]\n",
      "[2.0, 2.0, 10.0, 12.0, 31.0, 62.0, 39.0, 13.0, 19.0, 68.0, 45.0, 3.0, 114.0, 12.0, 0.0]\n"
     ]
    },
    {
     "data": {
      "application/vnd.plotly.v1+json": {
       "config": {
        "plotlyServerURL": "https://plot.ly"
       },
       "data": [
        {
         "fill": "toself",
         "fillcolor": "rgb(149, 62, 6)",
         "hoverinfo": "name",
         "legendgroup": "rgb(149, 62, 6)",
         "mode": "none",
         "name": "Order 4",
         "type": "scatter",
         "x": [
          114,
          115,
          115,
          114,
          114,
          12,
          13,
          13,
          12,
          12,
          0,
          1,
          1,
          0
         ],
         "y": [
          0.8,
          0.8,
          1.2,
          1.2,
          null,
          1.8,
          1.8,
          2.2,
          2.2,
          null,
          0.8,
          0.8,
          1.2,
          1.2
         ]
        },
        {
         "fill": "toself",
         "fillcolor": "rgb(201, 114, 58)",
         "hoverinfo": "name",
         "legendgroup": "rgb(201, 114, 58)",
         "mode": "none",
         "name": "Order 0",
         "type": "scatter",
         "x": [
          2,
          3,
          3,
          2,
          2,
          2,
          3,
          3,
          2,
          2,
          10,
          11,
          11,
          10
         ],
         "y": [
          3.8,
          3.8,
          4.2,
          4.2,
          null,
          2.8,
          2.8,
          3.2,
          3.2,
          null,
          1.8,
          1.8,
          2.2,
          2.2
         ]
        },
        {
         "fill": "toself",
         "fillcolor": "rgb(252, 165, 109)",
         "hoverinfo": "name",
         "legendgroup": "rgb(252, 165, 109)",
         "mode": "none",
         "name": "Order 1",
         "type": "scatter",
         "x": [
          12,
          13,
          13,
          12,
          12,
          31,
          32,
          32,
          31,
          31,
          62,
          63,
          63,
          62
         ],
         "y": [
          0.8,
          0.8,
          1.2,
          1.2,
          null,
          2.8,
          2.8,
          3.2,
          3.2,
          null,
          -0.2,
          -0.2,
          0.2,
          0.2
         ]
        },
        {
         "fill": "toself",
         "fillcolor": "rgb(47, 216, 160)",
         "hoverinfo": "name",
         "legendgroup": "rgb(47, 216, 160)",
         "mode": "none",
         "name": "Order 2",
         "type": "scatter",
         "x": [
          39,
          40,
          40,
          39,
          39,
          13,
          112,
          112,
          13,
          13,
          19,
          20,
          20,
          19
         ],
         "y": [
          0.8,
          0.8,
          1.2,
          1.2,
          null,
          2.8,
          2.8,
          3.2,
          3.2,
          null,
          3.8,
          3.8,
          4.2,
          4.2
         ]
        },
        {
         "fill": "toself",
         "fillcolor": "rgb(98, 11, 211)",
         "hoverinfo": "name",
         "legendgroup": "rgb(98, 11, 211)",
         "mode": "none",
         "name": "Order 3",
         "type": "scatter",
         "x": [
          68,
          69,
          69,
          68,
          68,
          45,
          46,
          46,
          45,
          45,
          3,
          4,
          4,
          3
         ],
         "y": [
          0.8,
          0.8,
          1.2,
          1.2,
          null,
          3.8,
          3.8,
          4.2,
          4.2,
          null,
          0.8,
          0.8,
          1.2,
          1.2
         ]
        },
        {
         "legendgroup": "rgb(149, 62, 6)",
         "marker": {
          "color": "rgb(149, 62, 6)",
          "opacity": 0,
          "size": 1
         },
         "mode": "markers",
         "name": "",
         "showlegend": false,
         "text": [
          null,
          null,
          null,
          null,
          null,
          null
         ],
         "type": "scatter",
         "x": [
          114,
          115,
          12,
          13,
          0,
          1
         ],
         "y": [
          1,
          1,
          2,
          2,
          1,
          1
         ]
        },
        {
         "legendgroup": "rgb(201, 114, 58)",
         "marker": {
          "color": "rgb(201, 114, 58)",
          "opacity": 0,
          "size": 1
         },
         "mode": "markers",
         "name": "",
         "showlegend": false,
         "text": [
          null,
          null,
          null,
          null,
          null,
          null
         ],
         "type": "scatter",
         "x": [
          2,
          3,
          2,
          3,
          10,
          11
         ],
         "y": [
          4,
          4,
          3,
          3,
          2,
          2
         ]
        },
        {
         "legendgroup": "rgb(252, 165, 109)",
         "marker": {
          "color": "rgb(252, 165, 109)",
          "opacity": 0,
          "size": 1
         },
         "mode": "markers",
         "name": "",
         "showlegend": false,
         "text": [
          null,
          null,
          null,
          null,
          null,
          null
         ],
         "type": "scatter",
         "x": [
          12,
          13,
          31,
          32,
          62,
          63
         ],
         "y": [
          1,
          1,
          3,
          3,
          0,
          0
         ]
        },
        {
         "legendgroup": "rgb(47, 216, 160)",
         "marker": {
          "color": "rgb(47, 216, 160)",
          "opacity": 0,
          "size": 1
         },
         "mode": "markers",
         "name": "",
         "showlegend": false,
         "text": [
          null,
          null,
          null,
          null,
          null,
          null
         ],
         "type": "scatter",
         "x": [
          39,
          40,
          13,
          112,
          19,
          20
         ],
         "y": [
          1,
          1,
          3,
          3,
          4,
          4
         ]
        },
        {
         "legendgroup": "rgb(98, 11, 211)",
         "marker": {
          "color": "rgb(98, 11, 211)",
          "opacity": 0,
          "size": 1
         },
         "mode": "markers",
         "name": "",
         "showlegend": false,
         "text": [
          null,
          null,
          null,
          null,
          null,
          null
         ],
         "type": "scatter",
         "x": [
          68,
          69,
          45,
          46,
          3,
          4
         ],
         "y": [
          1,
          1,
          4,
          4,
          1,
          1
         ]
        }
       ],
       "layout": {
        "height": 600,
        "hovermode": "closest",
        "showlegend": true,
        "template": {
         "data": {
          "bar": [
           {
            "error_x": {
             "color": "#2a3f5f"
            },
            "error_y": {
             "color": "#2a3f5f"
            },
            "marker": {
             "line": {
              "color": "#E5ECF6",
              "width": 0.5
             },
             "pattern": {
              "fillmode": "overlay",
              "size": 10,
              "solidity": 0.2
             }
            },
            "type": "bar"
           }
          ],
          "barpolar": [
           {
            "marker": {
             "line": {
              "color": "#E5ECF6",
              "width": 0.5
             },
             "pattern": {
              "fillmode": "overlay",
              "size": 10,
              "solidity": 0.2
             }
            },
            "type": "barpolar"
           }
          ],
          "carpet": [
           {
            "aaxis": {
             "endlinecolor": "#2a3f5f",
             "gridcolor": "white",
             "linecolor": "white",
             "minorgridcolor": "white",
             "startlinecolor": "#2a3f5f"
            },
            "baxis": {
             "endlinecolor": "#2a3f5f",
             "gridcolor": "white",
             "linecolor": "white",
             "minorgridcolor": "white",
             "startlinecolor": "#2a3f5f"
            },
            "type": "carpet"
           }
          ],
          "choropleth": [
           {
            "colorbar": {
             "outlinewidth": 0,
             "ticks": ""
            },
            "type": "choropleth"
           }
          ],
          "contour": [
           {
            "colorbar": {
             "outlinewidth": 0,
             "ticks": ""
            },
            "colorscale": [
             [
              0,
              "#0d0887"
             ],
             [
              0.1111111111111111,
              "#46039f"
             ],
             [
              0.2222222222222222,
              "#7201a8"
             ],
             [
              0.3333333333333333,
              "#9c179e"
             ],
             [
              0.4444444444444444,
              "#bd3786"
             ],
             [
              0.5555555555555556,
              "#d8576b"
             ],
             [
              0.6666666666666666,
              "#ed7953"
             ],
             [
              0.7777777777777778,
              "#fb9f3a"
             ],
             [
              0.8888888888888888,
              "#fdca26"
             ],
             [
              1,
              "#f0f921"
             ]
            ],
            "type": "contour"
           }
          ],
          "contourcarpet": [
           {
            "colorbar": {
             "outlinewidth": 0,
             "ticks": ""
            },
            "type": "contourcarpet"
           }
          ],
          "heatmap": [
           {
            "colorbar": {
             "outlinewidth": 0,
             "ticks": ""
            },
            "colorscale": [
             [
              0,
              "#0d0887"
             ],
             [
              0.1111111111111111,
              "#46039f"
             ],
             [
              0.2222222222222222,
              "#7201a8"
             ],
             [
              0.3333333333333333,
              "#9c179e"
             ],
             [
              0.4444444444444444,
              "#bd3786"
             ],
             [
              0.5555555555555556,
              "#d8576b"
             ],
             [
              0.6666666666666666,
              "#ed7953"
             ],
             [
              0.7777777777777778,
              "#fb9f3a"
             ],
             [
              0.8888888888888888,
              "#fdca26"
             ],
             [
              1,
              "#f0f921"
             ]
            ],
            "type": "heatmap"
           }
          ],
          "heatmapgl": [
           {
            "colorbar": {
             "outlinewidth": 0,
             "ticks": ""
            },
            "colorscale": [
             [
              0,
              "#0d0887"
             ],
             [
              0.1111111111111111,
              "#46039f"
             ],
             [
              0.2222222222222222,
              "#7201a8"
             ],
             [
              0.3333333333333333,
              "#9c179e"
             ],
             [
              0.4444444444444444,
              "#bd3786"
             ],
             [
              0.5555555555555556,
              "#d8576b"
             ],
             [
              0.6666666666666666,
              "#ed7953"
             ],
             [
              0.7777777777777778,
              "#fb9f3a"
             ],
             [
              0.8888888888888888,
              "#fdca26"
             ],
             [
              1,
              "#f0f921"
             ]
            ],
            "type": "heatmapgl"
           }
          ],
          "histogram": [
           {
            "marker": {
             "pattern": {
              "fillmode": "overlay",
              "size": 10,
              "solidity": 0.2
             }
            },
            "type": "histogram"
           }
          ],
          "histogram2d": [
           {
            "colorbar": {
             "outlinewidth": 0,
             "ticks": ""
            },
            "colorscale": [
             [
              0,
              "#0d0887"
             ],
             [
              0.1111111111111111,
              "#46039f"
             ],
             [
              0.2222222222222222,
              "#7201a8"
             ],
             [
              0.3333333333333333,
              "#9c179e"
             ],
             [
              0.4444444444444444,
              "#bd3786"
             ],
             [
              0.5555555555555556,
              "#d8576b"
             ],
             [
              0.6666666666666666,
              "#ed7953"
             ],
             [
              0.7777777777777778,
              "#fb9f3a"
             ],
             [
              0.8888888888888888,
              "#fdca26"
             ],
             [
              1,
              "#f0f921"
             ]
            ],
            "type": "histogram2d"
           }
          ],
          "histogram2dcontour": [
           {
            "colorbar": {
             "outlinewidth": 0,
             "ticks": ""
            },
            "colorscale": [
             [
              0,
              "#0d0887"
             ],
             [
              0.1111111111111111,
              "#46039f"
             ],
             [
              0.2222222222222222,
              "#7201a8"
             ],
             [
              0.3333333333333333,
              "#9c179e"
             ],
             [
              0.4444444444444444,
              "#bd3786"
             ],
             [
              0.5555555555555556,
              "#d8576b"
             ],
             [
              0.6666666666666666,
              "#ed7953"
             ],
             [
              0.7777777777777778,
              "#fb9f3a"
             ],
             [
              0.8888888888888888,
              "#fdca26"
             ],
             [
              1,
              "#f0f921"
             ]
            ],
            "type": "histogram2dcontour"
           }
          ],
          "mesh3d": [
           {
            "colorbar": {
             "outlinewidth": 0,
             "ticks": ""
            },
            "type": "mesh3d"
           }
          ],
          "parcoords": [
           {
            "line": {
             "colorbar": {
              "outlinewidth": 0,
              "ticks": ""
             }
            },
            "type": "parcoords"
           }
          ],
          "pie": [
           {
            "automargin": true,
            "type": "pie"
           }
          ],
          "scatter": [
           {
            "marker": {
             "colorbar": {
              "outlinewidth": 0,
              "ticks": ""
             }
            },
            "type": "scatter"
           }
          ],
          "scatter3d": [
           {
            "line": {
             "colorbar": {
              "outlinewidth": 0,
              "ticks": ""
             }
            },
            "marker": {
             "colorbar": {
              "outlinewidth": 0,
              "ticks": ""
             }
            },
            "type": "scatter3d"
           }
          ],
          "scattercarpet": [
           {
            "marker": {
             "colorbar": {
              "outlinewidth": 0,
              "ticks": ""
             }
            },
            "type": "scattercarpet"
           }
          ],
          "scattergeo": [
           {
            "marker": {
             "colorbar": {
              "outlinewidth": 0,
              "ticks": ""
             }
            },
            "type": "scattergeo"
           }
          ],
          "scattergl": [
           {
            "marker": {
             "colorbar": {
              "outlinewidth": 0,
              "ticks": ""
             }
            },
            "type": "scattergl"
           }
          ],
          "scattermapbox": [
           {
            "marker": {
             "colorbar": {
              "outlinewidth": 0,
              "ticks": ""
             }
            },
            "type": "scattermapbox"
           }
          ],
          "scatterpolar": [
           {
            "marker": {
             "colorbar": {
              "outlinewidth": 0,
              "ticks": ""
             }
            },
            "type": "scatterpolar"
           }
          ],
          "scatterpolargl": [
           {
            "marker": {
             "colorbar": {
              "outlinewidth": 0,
              "ticks": ""
             }
            },
            "type": "scatterpolargl"
           }
          ],
          "scatterternary": [
           {
            "marker": {
             "colorbar": {
              "outlinewidth": 0,
              "ticks": ""
             }
            },
            "type": "scatterternary"
           }
          ],
          "surface": [
           {
            "colorbar": {
             "outlinewidth": 0,
             "ticks": ""
            },
            "colorscale": [
             [
              0,
              "#0d0887"
             ],
             [
              0.1111111111111111,
              "#46039f"
             ],
             [
              0.2222222222222222,
              "#7201a8"
             ],
             [
              0.3333333333333333,
              "#9c179e"
             ],
             [
              0.4444444444444444,
              "#bd3786"
             ],
             [
              0.5555555555555556,
              "#d8576b"
             ],
             [
              0.6666666666666666,
              "#ed7953"
             ],
             [
              0.7777777777777778,
              "#fb9f3a"
             ],
             [
              0.8888888888888888,
              "#fdca26"
             ],
             [
              1,
              "#f0f921"
             ]
            ],
            "type": "surface"
           }
          ],
          "table": [
           {
            "cells": {
             "fill": {
              "color": "#EBF0F8"
             },
             "line": {
              "color": "white"
             }
            },
            "header": {
             "fill": {
              "color": "#C8D4E3"
             },
             "line": {
              "color": "white"
             }
            },
            "type": "table"
           }
          ]
         },
         "layout": {
          "annotationdefaults": {
           "arrowcolor": "#2a3f5f",
           "arrowhead": 0,
           "arrowwidth": 1
          },
          "autotypenumbers": "strict",
          "coloraxis": {
           "colorbar": {
            "outlinewidth": 0,
            "ticks": ""
           }
          },
          "colorscale": {
           "diverging": [
            [
             0,
             "#8e0152"
            ],
            [
             0.1,
             "#c51b7d"
            ],
            [
             0.2,
             "#de77ae"
            ],
            [
             0.3,
             "#f1b6da"
            ],
            [
             0.4,
             "#fde0ef"
            ],
            [
             0.5,
             "#f7f7f7"
            ],
            [
             0.6,
             "#e6f5d0"
            ],
            [
             0.7,
             "#b8e186"
            ],
            [
             0.8,
             "#7fbc41"
            ],
            [
             0.9,
             "#4d9221"
            ],
            [
             1,
             "#276419"
            ]
           ],
           "sequential": [
            [
             0,
             "#0d0887"
            ],
            [
             0.1111111111111111,
             "#46039f"
            ],
            [
             0.2222222222222222,
             "#7201a8"
            ],
            [
             0.3333333333333333,
             "#9c179e"
            ],
            [
             0.4444444444444444,
             "#bd3786"
            ],
            [
             0.5555555555555556,
             "#d8576b"
            ],
            [
             0.6666666666666666,
             "#ed7953"
            ],
            [
             0.7777777777777778,
             "#fb9f3a"
            ],
            [
             0.8888888888888888,
             "#fdca26"
            ],
            [
             1,
             "#f0f921"
            ]
           ],
           "sequentialminus": [
            [
             0,
             "#0d0887"
            ],
            [
             0.1111111111111111,
             "#46039f"
            ],
            [
             0.2222222222222222,
             "#7201a8"
            ],
            [
             0.3333333333333333,
             "#9c179e"
            ],
            [
             0.4444444444444444,
             "#bd3786"
            ],
            [
             0.5555555555555556,
             "#d8576b"
            ],
            [
             0.6666666666666666,
             "#ed7953"
            ],
            [
             0.7777777777777778,
             "#fb9f3a"
            ],
            [
             0.8888888888888888,
             "#fdca26"
            ],
            [
             1,
             "#f0f921"
            ]
           ]
          },
          "colorway": [
           "#636efa",
           "#EF553B",
           "#00cc96",
           "#ab63fa",
           "#FFA15A",
           "#19d3f3",
           "#FF6692",
           "#B6E880",
           "#FF97FF",
           "#FECB52"
          ],
          "font": {
           "color": "#2a3f5f"
          },
          "geo": {
           "bgcolor": "white",
           "lakecolor": "white",
           "landcolor": "#E5ECF6",
           "showlakes": true,
           "showland": true,
           "subunitcolor": "white"
          },
          "hoverlabel": {
           "align": "left"
          },
          "hovermode": "closest",
          "mapbox": {
           "style": "light"
          },
          "paper_bgcolor": "white",
          "plot_bgcolor": "#E5ECF6",
          "polar": {
           "angularaxis": {
            "gridcolor": "white",
            "linecolor": "white",
            "ticks": ""
           },
           "bgcolor": "#E5ECF6",
           "radialaxis": {
            "gridcolor": "white",
            "linecolor": "white",
            "ticks": ""
           }
          },
          "scene": {
           "xaxis": {
            "backgroundcolor": "#E5ECF6",
            "gridcolor": "white",
            "gridwidth": 2,
            "linecolor": "white",
            "showbackground": true,
            "ticks": "",
            "zerolinecolor": "white"
           },
           "yaxis": {
            "backgroundcolor": "#E5ECF6",
            "gridcolor": "white",
            "gridwidth": 2,
            "linecolor": "white",
            "showbackground": true,
            "ticks": "",
            "zerolinecolor": "white"
           },
           "zaxis": {
            "backgroundcolor": "#E5ECF6",
            "gridcolor": "white",
            "gridwidth": 2,
            "linecolor": "white",
            "showbackground": true,
            "ticks": "",
            "zerolinecolor": "white"
           }
          },
          "shapedefaults": {
           "line": {
            "color": "#2a3f5f"
           }
          },
          "ternary": {
           "aaxis": {
            "gridcolor": "white",
            "linecolor": "white",
            "ticks": ""
           },
           "baxis": {
            "gridcolor": "white",
            "linecolor": "white",
            "ticks": ""
           },
           "bgcolor": "#E5ECF6",
           "caxis": {
            "gridcolor": "white",
            "linecolor": "white",
            "ticks": ""
           }
          },
          "title": {
           "x": 0.05
          },
          "xaxis": {
           "automargin": true,
           "gridcolor": "white",
           "linecolor": "white",
           "ticks": "",
           "title": {
            "standoff": 15
           },
           "zerolinecolor": "white",
           "zerolinewidth": 2
          },
          "yaxis": {
           "automargin": true,
           "gridcolor": "white",
           "linecolor": "white",
           "ticks": "",
           "title": {
            "standoff": 15
           },
           "zerolinecolor": "white",
           "zerolinewidth": 2
          }
         }
        },
        "title": {
         "text": "Gantt Chart"
        },
        "xaxis": {
         "rangeselector": {
          "buttons": [
           {
            "count": 7,
            "label": "1w",
            "step": "day",
            "stepmode": "backward"
           },
           {
            "count": 1,
            "label": "1m",
            "step": "month",
            "stepmode": "backward"
           },
           {
            "count": 6,
            "label": "6m",
            "step": "month",
            "stepmode": "backward"
           },
           {
            "count": 1,
            "label": "YTD",
            "step": "year",
            "stepmode": "todate"
           },
           {
            "count": 1,
            "label": "1y",
            "step": "year",
            "stepmode": "backward"
           },
           {
            "step": "all"
           }
          ]
         },
         "showgrid": true,
         "type": "linear",
         "zeroline": false
        },
        "yaxis": {
         "autorange": false,
         "range": [
          -1,
          6
         ],
         "showgrid": false,
         "ticktext": [
          "W5.0",
          "W4.0",
          "W1.0",
          "W3.0",
          "W2.0"
         ],
         "tickvals": [
          0,
          1,
          2,
          3,
          4
         ],
         "zeroline": false
        }
       }
      }
     },
     "metadata": {},
     "output_type": "display_data"
    }
   ],
   "source": [
    "start_times = int_result\n",
    "print(assignments)\n",
    "print(start_times)\n",
    "data = []\n",
    "for i in range(len(assignments)):\n",
    "    if int(np.floor(assignments[i])) not in duration_lookup_table[operations[i]]:\n",
    "        duration = 1#0\n",
    "    else:\n",
    "        duration = duration_lookup_table[operations[i]][int(np.floor(assignments[i]))]\n",
    "    data.append([assignments[i], operations[i], start_times[i], duration])\n",
    "visualize(data)"
   ]
  },
  {
   "cell_type": "markdown",
   "metadata": {},
   "source": [
    "Simplify Data Structure"
   ]
  },
  {
   "cell_type": "code",
   "execution_count": null,
   "metadata": {},
   "outputs": [],
   "source": [
    "last_slot = last_time_slot\n",
    "first_slot = earliest_time_slot\n",
    "n_workstations = len(env.workstations)\n",
    "# skip resources for now\n",
    "n_jobs = 0\n",
    "n_recipes = len(env.recipes)\n",
    "\n",
    "alternative_tasks = dict()\n",
    "for recipe in env.recipes:\n",
    "    alternative_tasks[recipe.id] = dict()\n",
    "    for task in recipe.tasks:\n",
    "        if task.result_resources[0][1] == 1: # pseudo resource\n",
    "            if task.result_resources[0][0] not in alternative_tasks[recipe.id]:\n",
    "                alternative_tasks[recipe.id][task.result_resources[0][0]] = []\n",
    "            alternative_tasks[recipe.id][task.result_resources[0][0]].append(task.id)\n",
    "            n_jobs += 1\n",
    "\n",
    "job_durations = []\n",
    "for i in range(n_workstations):\n",
    "    job_durations.append([])\n",
    "    for j in range(n_jobs):\n",
    "        job_durations[i].append(env.get_duration(j, i+1)) # get duration for job (j = id) on workstation (i+1 = id, for some reason I started workstation IDs at 1)\n",
    "# NOTE: many tasks can be done on workstation 6 in this dataset for some reason\n",
    "#for key in alternative_tasks.keys():\n",
    "#    print(alternative_tasks[key]) # in theory, the tasks should be sorted correctly to resemble the stages\n",
    "# missing for now: translation of resources for resource constrained optimization\n"
   ]
  },
  {
   "cell_type": "code",
   "execution_count": null,
   "metadata": {},
   "outputs": [],
   "source": [
    "available_tasks = []\n",
    "for recipe_id in alternative_tasks:\n",
    "    for pseudo_resource in alternative_tasks[recipe_id]:\n",
    "        available_tasks.append(pseudo_resource)\n",
    "def job_for_index(i):\n",
    "    recipe = available_tasks[orders[order_for_index[i]][0]]\n",
    "    job_index = 0\n",
    "    j = i\n",
    "    done = False\n",
    "    while j > 0 and not done:\n",
    "        if order_for_index[j] == order_for_index[j-1]:\n",
    "            job_index += 1\n",
    "        else:\n",
    "            done = True\n",
    "        j -= 1\n",
    "    return recipe[job_index]\n",
    "\n",
    "assignments = []\n",
    "start_times = []\n",
    "j = 0\n",
    "for i in range(len(solution)):\n",
    "    if j == 0:\n",
    "        assignments.append(solution[i])\n",
    "    else:\n",
    "        start_times.append(solution[i])\n",
    "    j += 1\n",
    "    if j > 1:\n",
    "        j = 0\n",
    "print(assignments)\n",
    "print(start_times)\n",
    "order_for_index = []\n",
    "for i in range(len(orders)):\n",
    "    for job in range(len(available_tasks[orders[i][0]])):\n",
    "        order_for_index.append(i)\n",
    "print(order_for_index)\n",
    "durations = []\n",
    "for i in range(len(assignments)):\n",
    "    # row = workstation, col = job\n",
    "    # fetch job from recipe -> get through order\n",
    "    # fetch workstation from assignments list\n",
    "    job = job_for_index(i)\n",
    "    durations.append(job_durations[assignments[i]][job])\n",
    "print(durations)"
   ]
  },
  {
   "cell_type": "code",
   "execution_count": null,
   "metadata": {},
   "outputs": [],
   "source": [
    "def is_first(jobs, index): # check if job is the first in it's order sequence\n",
    "    return jobs[index][2] == 0 or order_for_index[jobs[index][2]-1] != order_for_index[jobs[index][2]]\n",
    "\n",
    "def compress(solution):\n",
    "    assignments = []\n",
    "    start_times = []\n",
    "    durations = []\n",
    "    order_for_index = []\n",
    "\n",
    "    for i in range(len(orders)):\n",
    "        for job in range(len(available_tasks[orders[i][0]])):\n",
    "            order_for_index.append(i)\n",
    "    for i in range(len(assignments)):\n",
    "        job = job_for_index(i)\n",
    "        durations.append(job_durations[assignments[i]][job])\n",
    "    j = 0\n",
    "    for i in range(len(solution)):\n",
    "        if j == 0:\n",
    "            assignments.append(solution[i])\n",
    "        else:\n",
    "            start_times.append(solution[i])\n",
    "        j += 1\n",
    "        if j > 1:\n",
    "            j = 0\n",
    "    \n",
    "    w = dict()\n",
    "    for i in range(len(assignments)):\n",
    "        if assignments[i] not in w:\n",
    "            w[assignments[i]] = []\n",
    "        w[assignments[i]].append([start_times[i], start_times[i]+durations[i], i])\n",
    "    for workstation in w:\n",
    "        w[workstation] = sorted(w[workstation], key=lambda x: x[0])\n",
    "    new_solution = copy.deepcopy(start_times)\n",
    "    changes_made = True\n",
    "    while changes_made:\n",
    "        changes_made = False\n",
    "        for workstation in w:\n",
    "            for i in range(len(w[workstation])):\n",
    "                shift = 0\n",
    "                if is_first(w[workstation], i):\n",
    "                    if i == 0:\n",
    "                        shift = w[workstation][i][0]\n",
    "                    else:\n",
    "                        shift = w[workstation][i][0] - w[workstation][i-1][1]\n",
    "                else: # find end of previous job in sequence + end of job previous on the workstation -> move to closer one\n",
    "                        prev_end = new_solution[w[workstation][i][2]-1] + durations[w[workstation][i][2]-1]\n",
    "                        prev_shift = w[workstation][i][0] - prev_end\n",
    "                        if i == 0:\n",
    "                            shift = prev_shift\n",
    "                        else:\n",
    "                            shift = w[workstation][i][0] - w[workstation][i-1][1]\n",
    "                            if prev_shift < shift:\n",
    "                                shift = prev_shift\n",
    "                w[workstation][i][0] -= shift\n",
    "                w[workstation][i][1] -= shift\n",
    "                new_solution[w[workstation][i][2]] = w[workstation][i][0]\n",
    "            changes_made = changes_made or shift != 0\n",
    "    result = []\n",
    "    for i in range(len(new_solution)):\n",
    "        result.append(assignments[i])\n",
    "        result.append(new_solution[i])\n",
    "    return result"
   ]
  }
 ],
 "metadata": {
  "interpreter": {
   "hash": "7f6a1dc8c4280d136ecdbc82017e55b6ce3aee96b85e53655c8afc2236474583"
  },
  "kernelspec": {
   "display_name": "Python 3.10.3 64-bit",
   "language": "python",
   "name": "python3"
  },
  "language_info": {
   "codemirror_mode": {
    "name": "ipython",
    "version": 3
   },
   "file_extension": ".py",
   "mimetype": "text/x-python",
   "name": "python",
   "nbconvert_exporter": "python",
   "pygments_lexer": "ipython3",
   "version": "3.10.3"
  },
  "orig_nbformat": 4
 },
 "nbformat": 4,
 "nbformat_minor": 2
}
