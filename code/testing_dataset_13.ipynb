{
 "cells": [
  {
   "cell_type": "markdown",
   "metadata": {},
   "source": [
    "<h1> General Setup </h1>"
   ]
  },
  {
   "cell_type": "markdown",
   "metadata": {},
   "source": [
    "<h3> Imports </h3>"
   ]
  },
  {
   "cell_type": "code",
   "execution_count": 48,
   "metadata": {},
   "outputs": [],
   "source": [
    "import pygad\n",
    "from read_data import read_dataset_1, translate_1, translate_1_testing\n",
    "from models import SimulationEnvironment\n",
    "import plotly.figure_factory as ff\n",
    "import random\n",
    "import copy"
   ]
  },
  {
   "cell_type": "markdown",
   "metadata": {},
   "source": [
    "<h3> General Parameters </h3>"
   ]
  },
  {
   "cell_type": "code",
   "execution_count": 49,
   "metadata": {},
   "outputs": [],
   "source": [
    "order_amount = 5\n",
    "earliest_time_slot = 0\n",
    "last_time_slot = 5000\n",
    "\n",
    "#random.seed(1)"
   ]
  },
  {
   "cell_type": "markdown",
   "metadata": {},
   "source": [
    "<h3> Load Data / Environment Setup </h3>"
   ]
  },
  {
   "cell_type": "code",
   "execution_count": 50,
   "metadata": {},
   "outputs": [],
   "source": [
    "input, orders, instance = read_dataset_1(use_instance=13, order_amount=order_amount, earliest_time=earliest_time_slot, last_time=last_time_slot)\n",
    "#recipes, workstations, resources, tasks, orders_model = translate_1(instance, orders, earliest_time_slot, last_time_slot)\n",
    "recipes, workstations, resources, tasks, orders_model = translate_1_testing(instance, orders, earliest_time_slot, last_time_slot)\n",
    "env = SimulationEnvironment(workstations, tasks, resources, recipes)"
   ]
  },
  {
   "cell_type": "markdown",
   "metadata": {},
   "source": [
    "<h3> Visualization Code </h3>"
   ]
  },
  {
   "cell_type": "code",
   "execution_count": 51,
   "metadata": {},
   "outputs": [],
   "source": [
    "def get_colors(n): \n",
    "    ret = [] \n",
    "    r = int(random.random() * 256) \n",
    "    g = int(random.random() * 256) \n",
    "    b = int(random.random() * 256) \n",
    "    step = 256 / n \n",
    "    for i in range(n): \n",
    "        r += step \n",
    "        g += step \n",
    "        b += step \n",
    "        r = int(r) % 256 \n",
    "        g = int(g) % 256 \n",
    "        b = int(b) % 256 \n",
    "        ret.append((r,g,b))  \n",
    "    return ret\n",
    "\n",
    "def visualize(data):\n",
    "    # data format: 0 - workstation, 1 - job id, 2 - start time, 3 - duration\n",
    "    colors = {}\n",
    "    rgb_values = get_colors(len(orders))\n",
    "    for i in range(len(orders)):\n",
    "        colors[str(f'Order {i}')] = f'rgb({rgb_values[i][0]}, {rgb_values[i][1]}, {rgb_values[i][2]})' # just ignore colors for now\n",
    "    composed_data = []\n",
    "    \n",
    "    for i in range(len(data)):\n",
    "        label = f'W{data[i][0]}'\n",
    "        start = data[i][2]\n",
    "        end = start + data[i][3]\n",
    "        composed_data.append(\n",
    "                    dict(Task=label, Start=start, Finish=end, Resource=f'Order {order_for_index[i]}')\n",
    "                )\n",
    "        #print(composed_data)\n",
    "    fig = ff.create_gantt(composed_data, colors=colors, index_col='Resource', show_colorbar=True,\n",
    "                        group_tasks=True, showgrid_x=True)\n",
    "    fig.update_layout(xaxis_type='linear')\n",
    "    \"\"\"import plotly.express as px\n",
    "    fig = px.timeline(composed_data, x_start='Start', x_end='Finish', y='Task', color='Resource')\"\"\" # for some reason doesn't do what it's supposed to do\n",
    "    fig.show()"
   ]
  },
  {
   "cell_type": "markdown",
   "metadata": {},
   "source": [
    "<h1> Optimizers </h1>"
   ]
  },
  {
   "cell_type": "markdown",
   "metadata": {},
   "source": [
    "<h3> 2-Stage GA (PyGAD) </h3>"
   ]
  },
  {
   "cell_type": "code",
   "execution_count": 52,
   "metadata": {},
   "outputs": [
    {
     "name": "stdout",
     "output_type": "stream",
     "text": [
      "Parameters of the best solution : [6 6 6 5 3 6 6 6 6 1 7 5 6 6 6]\n",
      "Fitness value of the best solution = 2068\n",
      "Parameters of the best solution : [1337 3646 4109  719 1826 2786 2660 2945 4521 1278 3467 4265  800 1720\n",
      " 2405]\n",
      "Fitness value of the best solution = 3992\n"
     ]
    }
   ],
   "source": [
    "duration_lookup_table = dict()\n",
    "for task in tasks:\n",
    "    if not task.external_id in duration_lookup_table:\n",
    "        duration_lookup_table[task.external_id] = dict()\n",
    "        #duration_lookup_table[task.id] = dict()\n",
    "    for workstation in env.get_valid_workstations(task.external_id):\n",
    "        duration_lookup_table[task.external_id][workstation.id] = env.get_duration(task.external_id, workstation.id)\n",
    "        #duration_lookup_table[task.id][workstation.id] = env.get_duration(task.id, workstation.id)\n",
    "\n",
    "operations = []\n",
    "order_for_index = []\n",
    "for order in orders_model:\n",
    "    for resource in order.resources:\n",
    "        recipe = resource.recipes[0] # just use recipe 0 for now\n",
    "        recipe_tasks = env.get_all_tasks_for_recipe(recipe.id)\n",
    "        results = dict()\n",
    "        for task in recipe_tasks:\n",
    "            if task.result_resources[0][0] not in results:\n",
    "                results[task.result_resources[0][0]] = []\n",
    "            results[task.result_resources[0][0]].append(task)\n",
    "        for key in results:\n",
    "            operations.append(random.choice(results[key]).external_id)\n",
    "            #operations.append(random.choice(results[key]).id)\n",
    "            order_for_index.append(order.id)\n",
    "assignments = []\n",
    "\n",
    "for operation in operations:\n",
    "    workstation = env.get_valid_workstations(operation)\n",
    "    # random init\n",
    "    assignments.append(random.choice(workstation).id)\n",
    "\n",
    "def fitness_function(solution, solution_idx):\n",
    "    bins = dict()\n",
    "    sum = 0\n",
    "    max_sum = 0\n",
    "    for operation in list(duration_lookup_table.keys()):\n",
    "        max = -float('inf')\n",
    "        for workstation in list(duration_lookup_table[operation].keys()):\n",
    "            if duration_lookup_table[operation][workstation] > max:\n",
    "                max = duration_lookup_table[operation][workstation]\n",
    "        max_sum += max\n",
    "    for i in range(len(solution)):\n",
    "        if solution[i] not in duration_lookup_table[operations[i]]: # illegal combination\n",
    "            return len(solution) * 10000 * -1\n",
    "        if i not in bins:\n",
    "            bins[i] = 0\n",
    "        sum += duration_lookup_table[operations[i]][solution[i]] # minimize working minutes for all workstations\n",
    "        #bins[i] += duration_lookup_table[operations[i]][solution[i]]\n",
    "    return sum * -1\n",
    "\n",
    "def balance_fitness_function(solution, solution_idx):\n",
    "    fitness = 0\n",
    "    sums = dict()\n",
    "    for i in range(len(workstations)):\n",
    "        sums[i+1] = 0\n",
    "    for i in range(len(solution)):\n",
    "        if solution[i] not in duration_lookup_table[operations[i]]:\n",
    "            return len(solution) * 100000 * -1\n",
    "        if solution[i] not in sums:\n",
    "            sums[solution[i]] = 0\n",
    "        sums[solution[i]] += duration_lookup_table[operations[i]][solution[i]]\n",
    "    for workstation in sums.keys():\n",
    "        for other_workstation in sums.keys():\n",
    "            fitness += abs(sums[workstation] - sums[other_workstation])\n",
    "    return fitness *-1\n",
    "\n",
    "def mutation_function(offsprings, ga_instance):\n",
    "    for offspring in offsprings:\n",
    "        p = 1 / len(offspring)\n",
    "        for i in range(len(offspring)):\n",
    "            if random.random() < p:\n",
    "                offspring[i] = random.choice(list(duration_lookup_table[operations[i]].keys()))\n",
    "    return offsprings\n",
    "\n",
    "def on_fitness_assignemts(ga_instance, population_fitness):\n",
    "    current_best = abs(sorted(population_fitness, reverse=True)[0]) - 1\n",
    "    if len(assignments_best) == 0:\n",
    "        assignments_best.append(current_best)\n",
    "    elif current_best < assignments_best[len(assignments_best)-1]:\n",
    "        assignments_best.append(current_best)\n",
    "    else:\n",
    "        assignments_best.append(assignments_best[len(assignments_best)-1])\n",
    "    sum = 0\n",
    "    for individual_fitness in population_fitness:\n",
    "        sum += abs(individual_fitness)-1\n",
    "    average_assignments.append(sum/len(population_fitness))\n",
    "\n",
    "assignments_best = []\n",
    "average_assignments = []\n",
    "num_genes = len(assignments)\n",
    "num_generations = 5000\n",
    "num_parents_mating = 50\n",
    "sol_per_pop = 100\n",
    "init_range_low = 0\n",
    "init_range_high = last_time_slot\n",
    "parent_selection_type = 'rws'\n",
    "keep_parents = 10\n",
    "crossover_type = 'two_points'\n",
    "mutation_type = mutation_function\n",
    "#mutation_type = 'random'\n",
    "mutation_percentage_genes = 10\n",
    "fitness_func = fitness_function\n",
    "#fitness_func = balance_fitness_function\n",
    "gene_type = int\n",
    "space_workstations = {'low': 1, 'high': len(workstations)-1}\n",
    "gene_space = []\n",
    "for i in range(len(assignments)):\n",
    "    gene_space.append(space_workstations)\n",
    "ga_instance = pygad.GA(num_generations=num_generations, num_parents_mating=num_parents_mating, on_fitness=on_fitness_assignemts, fitness_func=fitness_func, sol_per_pop=sol_per_pop, num_genes=num_genes, init_range_low=init_range_low, init_range_high=init_range_high, parent_selection_type=parent_selection_type, keep_parents=keep_parents, crossover_type=crossover_type, mutation_type=mutation_type, mutation_percent_genes=mutation_percentage_genes, gene_type=gene_type, gene_space=gene_space)\n",
    "ga_instance.run()\n",
    "solution, solution_fitness, solution_idx = ga_instance.best_solution()\n",
    "\n",
    "print(\"Parameters of the best solution : {solution}\".format(solution=solution))\n",
    "print(\"Fitness value of the best solution = {solution_fitness}\".format(solution_fitness=abs(solution_fitness) - 1))\n",
    "\n",
    "def is_feasible(solution):\n",
    "    for i in range(len(solution)):\n",
    "        start = solution[i]\n",
    "        end = start + duration_lookup_table[operations[i]][assignments[i]]\n",
    "        if end > last_time_slot:\n",
    "            return False\n",
    "        if start < earliest_time_slot:\n",
    "            return False\n",
    "        # overlap\n",
    "        same_workstation = [] # append indices of jobs running on the same workstation\n",
    "        for j in range(len(assignments)):\n",
    "            if assignments[j] == assignments[i] and i != j:\n",
    "                same_workstation.append(j)\n",
    "        for j in range(len(same_workstation)):\n",
    "            other_start = solution[same_workstation[j]]\n",
    "            other_end = other_start + duration_lookup_table[operations[same_workstation[j]]][assignments[same_workstation[j]]]\n",
    "            if start > other_start and start < other_end:\n",
    "                return False\n",
    "            if end > other_start and end < other_end:\n",
    "                return False\n",
    "            if other_start > start and other_start < end:\n",
    "                return False\n",
    "            if other_end > start and other_end < end:\n",
    "                return False\n",
    "        # check sequence\n",
    "        order = order_for_index[i]\n",
    "        if i > 0:\n",
    "            if order_for_index[i-1] == order: # same order\n",
    "                prev_start = solution[i-1]\n",
    "                prev_end = prev_start + duration_lookup_table[operations[i-1]][assignments[i-1]]\n",
    "                if prev_end > start:\n",
    "                    return False\n",
    "    return True\n",
    "\n",
    "def fitness_function_time_slots(solution, solution_idx):\n",
    "    fitness = 1\n",
    "    if not is_feasible(solution):\n",
    "        #fitness += last_time_slot\n",
    "        return -2 * last_time_slot\n",
    "    max = -float('inf')\n",
    "    min = float('inf')\n",
    "    for i in range(len(solution)):\n",
    "        start = solution[i]\n",
    "        end = start + duration_lookup_table[operations[i]][assignments[i]]\n",
    "        if start < min:\n",
    "            min = start\n",
    "        if end > max:\n",
    "            max = end\n",
    "    fitness += abs(max - min)\n",
    "    return -fitness\n",
    "\n",
    "def on_fitness(ga_instance, population_fitness):\n",
    "    current_best = abs(sorted(population_fitness, reverse=True)[0]) - 1\n",
    "    if len(time_best) == 0:\n",
    "        time_best.append(current_best)\n",
    "    elif current_best < time_best[len(time_best)-1]:\n",
    "        time_best.append(current_best)\n",
    "    else:\n",
    "        time_best.append(time_best[len(time_best)-1])\n",
    "    sum = 0\n",
    "    for individual_fitness in population_fitness:\n",
    "        sum += abs(individual_fitness)-1\n",
    "    average_time.append(sum/len(population_fitness))\n",
    "\n",
    "def mutation_function_time_slots(offsprings, ga_instance):\n",
    "    for offspring in offsprings:\n",
    "        p = 1 / len(offspring)\n",
    "        for i in range(len(offspring)):\n",
    "            if random.random() < p:\n",
    "                offspring[i] = random.randint(earliest_time_slot, last_time_slot)\n",
    "    return offsprings\n",
    "\n",
    "time_best = []\n",
    "average_time = []\n",
    "assignments = solution\n",
    "start_slots = []\n",
    "for assignment in assignments:\n",
    "    start_slots.append(0)\n",
    "num_genes = len(start_slots)\n",
    "num_generations = 5000\n",
    "num_parents_mating = 50\n",
    "sol_per_pop = 100\n",
    "init_range_low = 0\n",
    "init_range_high = last_time_slot\n",
    "parent_selection_type = 'rws'\n",
    "keep_parents = 10\n",
    "crossover_type = 'two_points'\n",
    "mutation_type = mutation_function_time_slots\n",
    "#mutation_type = 'random'\n",
    "mutation_percentage_genes = 10\n",
    "fitness_func = fitness_function_time_slots\n",
    "gene_type = int\n",
    "space_time = {'low': earliest_time_slot, 'high': last_time_slot}\n",
    "gene_space = []\n",
    "for i in range(len(assignments)):\n",
    "    gene_space.append(space_time)\n",
    "ga_instance = pygad.GA(num_generations=num_generations, num_parents_mating=num_parents_mating, on_fitness=on_fitness, fitness_func=fitness_func, sol_per_pop=sol_per_pop, num_genes=num_genes, init_range_low=init_range_low, init_range_high=init_range_high, parent_selection_type=parent_selection_type, keep_parents=keep_parents, crossover_type=crossover_type, mutation_type=mutation_type, mutation_percent_genes=mutation_percentage_genes, gene_type=gene_type, gene_space=gene_space)\n",
    "ga_instance.run()\n",
    "solution, solution_fitness, solution_idx = ga_instance.best_solution()\n",
    "print(\"Parameters of the best solution : {solution}\".format(solution=solution))\n",
    "print(\"Fitness value of the best solution = {solution_fitness}\".format(solution_fitness=abs(solution_fitness) - 1))"
   ]
  },
  {
   "cell_type": "code",
   "execution_count": 53,
   "metadata": {},
   "outputs": [
    {
     "name": "stdout",
     "output_type": "stream",
     "text": [
      "{0: {1: 123, 2: 132}, 1: {4: 140, 7: 123}, 2: {7: 170, 5: 120}, 3: {5: 120, 3: 125}, 4: {3: 87}, 5: {3: 178, 6: 95}, 6: {6: 87}, 7: {6: 190}, 8: {6: 190}, 9: {6: 66}, 10: {6: 250}, 11: {6: 165}, 12: {6: 123}, 13: {6: 86}, 14: {6: 110}, 15: {6: 115}, 16: {6: 150}, 17: {6: 120}, 18: {6: 145}, 19: {6: 124}, 20: {6: 160}}\n"
     ]
    }
   ],
   "source": [
    "print(duration_lookup_table)"
   ]
  },
  {
   "cell_type": "code",
   "execution_count": 54,
   "metadata": {},
   "outputs": [
    {
     "data": {
      "application/vnd.plotly.v1+json": {
       "config": {
        "plotlyServerURL": "https://plot.ly"
       },
       "data": [
        {
         "fill": "toself",
         "fillcolor": "rgb(114, 14, 66)",
         "hoverinfo": "name",
         "legendgroup": "rgb(114, 14, 66)",
         "mode": "none",
         "name": "Order 4",
         "type": "scatter",
         "x": [
          800,
          887,
          887,
          800,
          800,
          1720,
          1910,
          1910,
          1720,
          1720,
          2405,
          2595,
          2595,
          2405
         ],
         "y": [
          3.8,
          3.8,
          4.2,
          4.2,
          null,
          3.8,
          3.8,
          4.2,
          4.2,
          null,
          3.8,
          3.8,
          4.2,
          4.2
         ]
        },
        {
         "fill": "toself",
         "fillcolor": "rgb(12, 168, 220)",
         "hoverinfo": "name",
         "legendgroup": "rgb(12, 168, 220)",
         "mode": "none",
         "name": "Order 2",
         "type": "scatter",
         "x": [
          2660,
          2747,
          2747,
          2660,
          2660,
          2945,
          3135,
          3135,
          2945,
          2945,
          4521,
          4711,
          4711,
          4521
         ],
         "y": [
          3.8,
          3.8,
          4.2,
          4.2,
          null,
          3.8,
          3.8,
          4.2,
          4.2,
          null,
          3.8,
          3.8,
          4.2,
          4.2
         ]
        },
        {
         "fill": "toself",
         "fillcolor": "rgb(166, 66, 118)",
         "hoverinfo": "name",
         "legendgroup": "rgb(166, 66, 118)",
         "mode": "none",
         "name": "Order 0",
         "type": "scatter",
         "x": [
          1337,
          1424,
          1424,
          1337,
          1337,
          3646,
          3836,
          3836,
          3646,
          3646,
          4109,
          4299,
          4299,
          4109
         ],
         "y": [
          3.8,
          3.8,
          4.2,
          4.2,
          null,
          3.8,
          3.8,
          4.2,
          4.2,
          null,
          3.8,
          3.8,
          4.2,
          4.2
         ]
        },
        {
         "fill": "toself",
         "fillcolor": "rgb(217, 117, 169)",
         "hoverinfo": "name",
         "legendgroup": "rgb(217, 117, 169)",
         "mode": "none",
         "name": "Order 1",
         "type": "scatter",
         "x": [
          719,
          839,
          839,
          719,
          719,
          1826,
          1913,
          1913,
          1826,
          1826,
          2786,
          2881,
          2881,
          2786
         ],
         "y": [
          2.8,
          2.8,
          3.2,
          3.2,
          null,
          1.8,
          1.8,
          2.2,
          2.2,
          null,
          3.8,
          3.8,
          4.2,
          4.2
         ]
        },
        {
         "fill": "toself",
         "fillcolor": "rgb(63, 219, 15)",
         "hoverinfo": "name",
         "legendgroup": "rgb(63, 219, 15)",
         "mode": "none",
         "name": "Order 3",
         "type": "scatter",
         "x": [
          1278,
          1401,
          1401,
          1278,
          1278,
          3467,
          3590,
          3590,
          3467,
          3467,
          4265,
          4385,
          4385,
          4265
         ],
         "y": [
          0.8,
          0.8,
          1.2,
          1.2,
          null,
          -0.2,
          -0.2,
          0.2,
          0.2,
          null,
          2.8,
          2.8,
          3.2,
          3.2
         ]
        },
        {
         "legendgroup": "rgb(114, 14, 66)",
         "marker": {
          "color": "rgb(114, 14, 66)",
          "opacity": 0,
          "size": 1
         },
         "mode": "markers",
         "name": "",
         "showlegend": false,
         "text": [
          null,
          null,
          null,
          null,
          null,
          null
         ],
         "type": "scatter",
         "x": [
          800,
          887,
          1720,
          1910,
          2405,
          2595
         ],
         "y": [
          4,
          4,
          4,
          4,
          4,
          4
         ]
        },
        {
         "legendgroup": "rgb(12, 168, 220)",
         "marker": {
          "color": "rgb(12, 168, 220)",
          "opacity": 0,
          "size": 1
         },
         "mode": "markers",
         "name": "",
         "showlegend": false,
         "text": [
          null,
          null,
          null,
          null,
          null,
          null
         ],
         "type": "scatter",
         "x": [
          2660,
          2747,
          2945,
          3135,
          4521,
          4711
         ],
         "y": [
          4,
          4,
          4,
          4,
          4,
          4
         ]
        },
        {
         "legendgroup": "rgb(166, 66, 118)",
         "marker": {
          "color": "rgb(166, 66, 118)",
          "opacity": 0,
          "size": 1
         },
         "mode": "markers",
         "name": "",
         "showlegend": false,
         "text": [
          null,
          null,
          null,
          null,
          null,
          null
         ],
         "type": "scatter",
         "x": [
          1337,
          1424,
          3646,
          3836,
          4109,
          4299
         ],
         "y": [
          4,
          4,
          4,
          4,
          4,
          4
         ]
        },
        {
         "legendgroup": "rgb(217, 117, 169)",
         "marker": {
          "color": "rgb(217, 117, 169)",
          "opacity": 0,
          "size": 1
         },
         "mode": "markers",
         "name": "",
         "showlegend": false,
         "text": [
          null,
          null,
          null,
          null,
          null,
          null
         ],
         "type": "scatter",
         "x": [
          719,
          839,
          1826,
          1913,
          2786,
          2881
         ],
         "y": [
          3,
          3,
          2,
          2,
          4,
          4
         ]
        },
        {
         "legendgroup": "rgb(63, 219, 15)",
         "marker": {
          "color": "rgb(63, 219, 15)",
          "opacity": 0,
          "size": 1
         },
         "mode": "markers",
         "name": "",
         "showlegend": false,
         "text": [
          null,
          null,
          null,
          null,
          null,
          null
         ],
         "type": "scatter",
         "x": [
          1278,
          1401,
          3467,
          3590,
          4265,
          4385
         ],
         "y": [
          1,
          1,
          0,
          0,
          3,
          3
         ]
        }
       ],
       "layout": {
        "height": 600,
        "hovermode": "closest",
        "showlegend": true,
        "template": {
         "data": {
          "bar": [
           {
            "error_x": {
             "color": "#2a3f5f"
            },
            "error_y": {
             "color": "#2a3f5f"
            },
            "marker": {
             "line": {
              "color": "#E5ECF6",
              "width": 0.5
             },
             "pattern": {
              "fillmode": "overlay",
              "size": 10,
              "solidity": 0.2
             }
            },
            "type": "bar"
           }
          ],
          "barpolar": [
           {
            "marker": {
             "line": {
              "color": "#E5ECF6",
              "width": 0.5
             },
             "pattern": {
              "fillmode": "overlay",
              "size": 10,
              "solidity": 0.2
             }
            },
            "type": "barpolar"
           }
          ],
          "carpet": [
           {
            "aaxis": {
             "endlinecolor": "#2a3f5f",
             "gridcolor": "white",
             "linecolor": "white",
             "minorgridcolor": "white",
             "startlinecolor": "#2a3f5f"
            },
            "baxis": {
             "endlinecolor": "#2a3f5f",
             "gridcolor": "white",
             "linecolor": "white",
             "minorgridcolor": "white",
             "startlinecolor": "#2a3f5f"
            },
            "type": "carpet"
           }
          ],
          "choropleth": [
           {
            "colorbar": {
             "outlinewidth": 0,
             "ticks": ""
            },
            "type": "choropleth"
           }
          ],
          "contour": [
           {
            "colorbar": {
             "outlinewidth": 0,
             "ticks": ""
            },
            "colorscale": [
             [
              0,
              "#0d0887"
             ],
             [
              0.1111111111111111,
              "#46039f"
             ],
             [
              0.2222222222222222,
              "#7201a8"
             ],
             [
              0.3333333333333333,
              "#9c179e"
             ],
             [
              0.4444444444444444,
              "#bd3786"
             ],
             [
              0.5555555555555556,
              "#d8576b"
             ],
             [
              0.6666666666666666,
              "#ed7953"
             ],
             [
              0.7777777777777778,
              "#fb9f3a"
             ],
             [
              0.8888888888888888,
              "#fdca26"
             ],
             [
              1,
              "#f0f921"
             ]
            ],
            "type": "contour"
           }
          ],
          "contourcarpet": [
           {
            "colorbar": {
             "outlinewidth": 0,
             "ticks": ""
            },
            "type": "contourcarpet"
           }
          ],
          "heatmap": [
           {
            "colorbar": {
             "outlinewidth": 0,
             "ticks": ""
            },
            "colorscale": [
             [
              0,
              "#0d0887"
             ],
             [
              0.1111111111111111,
              "#46039f"
             ],
             [
              0.2222222222222222,
              "#7201a8"
             ],
             [
              0.3333333333333333,
              "#9c179e"
             ],
             [
              0.4444444444444444,
              "#bd3786"
             ],
             [
              0.5555555555555556,
              "#d8576b"
             ],
             [
              0.6666666666666666,
              "#ed7953"
             ],
             [
              0.7777777777777778,
              "#fb9f3a"
             ],
             [
              0.8888888888888888,
              "#fdca26"
             ],
             [
              1,
              "#f0f921"
             ]
            ],
            "type": "heatmap"
           }
          ],
          "heatmapgl": [
           {
            "colorbar": {
             "outlinewidth": 0,
             "ticks": ""
            },
            "colorscale": [
             [
              0,
              "#0d0887"
             ],
             [
              0.1111111111111111,
              "#46039f"
             ],
             [
              0.2222222222222222,
              "#7201a8"
             ],
             [
              0.3333333333333333,
              "#9c179e"
             ],
             [
              0.4444444444444444,
              "#bd3786"
             ],
             [
              0.5555555555555556,
              "#d8576b"
             ],
             [
              0.6666666666666666,
              "#ed7953"
             ],
             [
              0.7777777777777778,
              "#fb9f3a"
             ],
             [
              0.8888888888888888,
              "#fdca26"
             ],
             [
              1,
              "#f0f921"
             ]
            ],
            "type": "heatmapgl"
           }
          ],
          "histogram": [
           {
            "marker": {
             "pattern": {
              "fillmode": "overlay",
              "size": 10,
              "solidity": 0.2
             }
            },
            "type": "histogram"
           }
          ],
          "histogram2d": [
           {
            "colorbar": {
             "outlinewidth": 0,
             "ticks": ""
            },
            "colorscale": [
             [
              0,
              "#0d0887"
             ],
             [
              0.1111111111111111,
              "#46039f"
             ],
             [
              0.2222222222222222,
              "#7201a8"
             ],
             [
              0.3333333333333333,
              "#9c179e"
             ],
             [
              0.4444444444444444,
              "#bd3786"
             ],
             [
              0.5555555555555556,
              "#d8576b"
             ],
             [
              0.6666666666666666,
              "#ed7953"
             ],
             [
              0.7777777777777778,
              "#fb9f3a"
             ],
             [
              0.8888888888888888,
              "#fdca26"
             ],
             [
              1,
              "#f0f921"
             ]
            ],
            "type": "histogram2d"
           }
          ],
          "histogram2dcontour": [
           {
            "colorbar": {
             "outlinewidth": 0,
             "ticks": ""
            },
            "colorscale": [
             [
              0,
              "#0d0887"
             ],
             [
              0.1111111111111111,
              "#46039f"
             ],
             [
              0.2222222222222222,
              "#7201a8"
             ],
             [
              0.3333333333333333,
              "#9c179e"
             ],
             [
              0.4444444444444444,
              "#bd3786"
             ],
             [
              0.5555555555555556,
              "#d8576b"
             ],
             [
              0.6666666666666666,
              "#ed7953"
             ],
             [
              0.7777777777777778,
              "#fb9f3a"
             ],
             [
              0.8888888888888888,
              "#fdca26"
             ],
             [
              1,
              "#f0f921"
             ]
            ],
            "type": "histogram2dcontour"
           }
          ],
          "mesh3d": [
           {
            "colorbar": {
             "outlinewidth": 0,
             "ticks": ""
            },
            "type": "mesh3d"
           }
          ],
          "parcoords": [
           {
            "line": {
             "colorbar": {
              "outlinewidth": 0,
              "ticks": ""
             }
            },
            "type": "parcoords"
           }
          ],
          "pie": [
           {
            "automargin": true,
            "type": "pie"
           }
          ],
          "scatter": [
           {
            "marker": {
             "colorbar": {
              "outlinewidth": 0,
              "ticks": ""
             }
            },
            "type": "scatter"
           }
          ],
          "scatter3d": [
           {
            "line": {
             "colorbar": {
              "outlinewidth": 0,
              "ticks": ""
             }
            },
            "marker": {
             "colorbar": {
              "outlinewidth": 0,
              "ticks": ""
             }
            },
            "type": "scatter3d"
           }
          ],
          "scattercarpet": [
           {
            "marker": {
             "colorbar": {
              "outlinewidth": 0,
              "ticks": ""
             }
            },
            "type": "scattercarpet"
           }
          ],
          "scattergeo": [
           {
            "marker": {
             "colorbar": {
              "outlinewidth": 0,
              "ticks": ""
             }
            },
            "type": "scattergeo"
           }
          ],
          "scattergl": [
           {
            "marker": {
             "colorbar": {
              "outlinewidth": 0,
              "ticks": ""
             }
            },
            "type": "scattergl"
           }
          ],
          "scattermapbox": [
           {
            "marker": {
             "colorbar": {
              "outlinewidth": 0,
              "ticks": ""
             }
            },
            "type": "scattermapbox"
           }
          ],
          "scatterpolar": [
           {
            "marker": {
             "colorbar": {
              "outlinewidth": 0,
              "ticks": ""
             }
            },
            "type": "scatterpolar"
           }
          ],
          "scatterpolargl": [
           {
            "marker": {
             "colorbar": {
              "outlinewidth": 0,
              "ticks": ""
             }
            },
            "type": "scatterpolargl"
           }
          ],
          "scatterternary": [
           {
            "marker": {
             "colorbar": {
              "outlinewidth": 0,
              "ticks": ""
             }
            },
            "type": "scatterternary"
           }
          ],
          "surface": [
           {
            "colorbar": {
             "outlinewidth": 0,
             "ticks": ""
            },
            "colorscale": [
             [
              0,
              "#0d0887"
             ],
             [
              0.1111111111111111,
              "#46039f"
             ],
             [
              0.2222222222222222,
              "#7201a8"
             ],
             [
              0.3333333333333333,
              "#9c179e"
             ],
             [
              0.4444444444444444,
              "#bd3786"
             ],
             [
              0.5555555555555556,
              "#d8576b"
             ],
             [
              0.6666666666666666,
              "#ed7953"
             ],
             [
              0.7777777777777778,
              "#fb9f3a"
             ],
             [
              0.8888888888888888,
              "#fdca26"
             ],
             [
              1,
              "#f0f921"
             ]
            ],
            "type": "surface"
           }
          ],
          "table": [
           {
            "cells": {
             "fill": {
              "color": "#EBF0F8"
             },
             "line": {
              "color": "white"
             }
            },
            "header": {
             "fill": {
              "color": "#C8D4E3"
             },
             "line": {
              "color": "white"
             }
            },
            "type": "table"
           }
          ]
         },
         "layout": {
          "annotationdefaults": {
           "arrowcolor": "#2a3f5f",
           "arrowhead": 0,
           "arrowwidth": 1
          },
          "autotypenumbers": "strict",
          "coloraxis": {
           "colorbar": {
            "outlinewidth": 0,
            "ticks": ""
           }
          },
          "colorscale": {
           "diverging": [
            [
             0,
             "#8e0152"
            ],
            [
             0.1,
             "#c51b7d"
            ],
            [
             0.2,
             "#de77ae"
            ],
            [
             0.3,
             "#f1b6da"
            ],
            [
             0.4,
             "#fde0ef"
            ],
            [
             0.5,
             "#f7f7f7"
            ],
            [
             0.6,
             "#e6f5d0"
            ],
            [
             0.7,
             "#b8e186"
            ],
            [
             0.8,
             "#7fbc41"
            ],
            [
             0.9,
             "#4d9221"
            ],
            [
             1,
             "#276419"
            ]
           ],
           "sequential": [
            [
             0,
             "#0d0887"
            ],
            [
             0.1111111111111111,
             "#46039f"
            ],
            [
             0.2222222222222222,
             "#7201a8"
            ],
            [
             0.3333333333333333,
             "#9c179e"
            ],
            [
             0.4444444444444444,
             "#bd3786"
            ],
            [
             0.5555555555555556,
             "#d8576b"
            ],
            [
             0.6666666666666666,
             "#ed7953"
            ],
            [
             0.7777777777777778,
             "#fb9f3a"
            ],
            [
             0.8888888888888888,
             "#fdca26"
            ],
            [
             1,
             "#f0f921"
            ]
           ],
           "sequentialminus": [
            [
             0,
             "#0d0887"
            ],
            [
             0.1111111111111111,
             "#46039f"
            ],
            [
             0.2222222222222222,
             "#7201a8"
            ],
            [
             0.3333333333333333,
             "#9c179e"
            ],
            [
             0.4444444444444444,
             "#bd3786"
            ],
            [
             0.5555555555555556,
             "#d8576b"
            ],
            [
             0.6666666666666666,
             "#ed7953"
            ],
            [
             0.7777777777777778,
             "#fb9f3a"
            ],
            [
             0.8888888888888888,
             "#fdca26"
            ],
            [
             1,
             "#f0f921"
            ]
           ]
          },
          "colorway": [
           "#636efa",
           "#EF553B",
           "#00cc96",
           "#ab63fa",
           "#FFA15A",
           "#19d3f3",
           "#FF6692",
           "#B6E880",
           "#FF97FF",
           "#FECB52"
          ],
          "font": {
           "color": "#2a3f5f"
          },
          "geo": {
           "bgcolor": "white",
           "lakecolor": "white",
           "landcolor": "#E5ECF6",
           "showlakes": true,
           "showland": true,
           "subunitcolor": "white"
          },
          "hoverlabel": {
           "align": "left"
          },
          "hovermode": "closest",
          "mapbox": {
           "style": "light"
          },
          "paper_bgcolor": "white",
          "plot_bgcolor": "#E5ECF6",
          "polar": {
           "angularaxis": {
            "gridcolor": "white",
            "linecolor": "white",
            "ticks": ""
           },
           "bgcolor": "#E5ECF6",
           "radialaxis": {
            "gridcolor": "white",
            "linecolor": "white",
            "ticks": ""
           }
          },
          "scene": {
           "xaxis": {
            "backgroundcolor": "#E5ECF6",
            "gridcolor": "white",
            "gridwidth": 2,
            "linecolor": "white",
            "showbackground": true,
            "ticks": "",
            "zerolinecolor": "white"
           },
           "yaxis": {
            "backgroundcolor": "#E5ECF6",
            "gridcolor": "white",
            "gridwidth": 2,
            "linecolor": "white",
            "showbackground": true,
            "ticks": "",
            "zerolinecolor": "white"
           },
           "zaxis": {
            "backgroundcolor": "#E5ECF6",
            "gridcolor": "white",
            "gridwidth": 2,
            "linecolor": "white",
            "showbackground": true,
            "ticks": "",
            "zerolinecolor": "white"
           }
          },
          "shapedefaults": {
           "line": {
            "color": "#2a3f5f"
           }
          },
          "ternary": {
           "aaxis": {
            "gridcolor": "white",
            "linecolor": "white",
            "ticks": ""
           },
           "baxis": {
            "gridcolor": "white",
            "linecolor": "white",
            "ticks": ""
           },
           "bgcolor": "#E5ECF6",
           "caxis": {
            "gridcolor": "white",
            "linecolor": "white",
            "ticks": ""
           }
          },
          "title": {
           "x": 0.05
          },
          "xaxis": {
           "automargin": true,
           "gridcolor": "white",
           "linecolor": "white",
           "ticks": "",
           "title": {
            "standoff": 15
           },
           "zerolinecolor": "white",
           "zerolinewidth": 2
          },
          "yaxis": {
           "automargin": true,
           "gridcolor": "white",
           "linecolor": "white",
           "ticks": "",
           "title": {
            "standoff": 15
           },
           "zerolinecolor": "white",
           "zerolinewidth": 2
          }
         }
        },
        "title": {
         "text": "Gantt Chart"
        },
        "xaxis": {
         "rangeselector": {
          "buttons": [
           {
            "count": 7,
            "label": "1w",
            "step": "day",
            "stepmode": "backward"
           },
           {
            "count": 1,
            "label": "1m",
            "step": "month",
            "stepmode": "backward"
           },
           {
            "count": 6,
            "label": "6m",
            "step": "month",
            "stepmode": "backward"
           },
           {
            "count": 1,
            "label": "YTD",
            "step": "year",
            "stepmode": "todate"
           },
           {
            "count": 1,
            "label": "1y",
            "step": "year",
            "stepmode": "backward"
           },
           {
            "step": "all"
           }
          ]
         },
         "showgrid": true,
         "type": "linear",
         "zeroline": false
        },
        "yaxis": {
         "autorange": false,
         "range": [
          -1,
          6
         ],
         "showgrid": false,
         "ticktext": [
          "W7",
          "W1",
          "W3",
          "W5",
          "W6"
         ],
         "tickvals": [
          0,
          1,
          2,
          3,
          4
         ],
         "zeroline": false
        }
       }
      }
     },
     "metadata": {},
     "output_type": "display_data"
    }
   ],
   "source": [
    "data = []\n",
    "for i in range(len(solution)):\n",
    "    data.append([assignments[i], operations[i], solution[i], duration_lookup_table[operations[i]][assignments[i]]])\n",
    "visualize(data)"
   ]
  },
  {
   "cell_type": "code",
   "execution_count": 55,
   "metadata": {},
   "outputs": [
    {
     "name": "stdout",
     "output_type": "stream",
     "text": [
      "[  87  926 1116    0  120  641  554  736 1306    0  123  246    0  174\n",
      "  364]\n",
      "Makespan: 1496\n"
     ]
    },
    {
     "data": {
      "application/vnd.plotly.v1+json": {
       "config": {
        "plotlyServerURL": "https://plot.ly"
       },
       "data": [
        {
         "fill": "toself",
         "fillcolor": "rgb(143, 189, 196)",
         "hoverinfo": "name",
         "legendgroup": "rgb(143, 189, 196)",
         "mode": "none",
         "name": "Order 3",
         "type": "scatter",
         "x": [
          0,
          123,
          123,
          0,
          0,
          123,
          246,
          246,
          123,
          123,
          246,
          366,
          366,
          246
         ],
         "y": [
          0.8,
          0.8,
          1.2,
          1.2,
          null,
          -0.2,
          -0.2,
          0.2,
          0.2,
          null,
          2.8,
          2.8,
          3.2,
          3.2
         ]
        },
        {
         "fill": "toself",
         "fillcolor": "rgb(194, 240, 247)",
         "hoverinfo": "name",
         "legendgroup": "rgb(194, 240, 247)",
         "mode": "none",
         "name": "Order 4",
         "type": "scatter",
         "x": [
          0,
          87,
          87,
          0,
          0,
          174,
          364,
          364,
          174,
          174,
          364,
          554,
          554,
          364
         ],
         "y": [
          3.8,
          3.8,
          4.2,
          4.2,
          null,
          3.8,
          3.8,
          4.2,
          4.2,
          null,
          3.8,
          3.8,
          4.2,
          4.2
         ]
        },
        {
         "fill": "toself",
         "fillcolor": "rgb(246, 36, 43)",
         "hoverinfo": "name",
         "legendgroup": "rgb(246, 36, 43)",
         "mode": "none",
         "name": "Order 0",
         "type": "scatter",
         "x": [
          87,
          174,
          174,
          87,
          87,
          926,
          1116,
          1116,
          926,
          926,
          1116,
          1306,
          1306,
          1116
         ],
         "y": [
          3.8,
          3.8,
          4.2,
          4.2,
          null,
          3.8,
          3.8,
          4.2,
          4.2,
          null,
          3.8,
          3.8,
          4.2,
          4.2
         ]
        },
        {
         "fill": "toself",
         "fillcolor": "rgb(41, 87, 94)",
         "hoverinfo": "name",
         "legendgroup": "rgb(41, 87, 94)",
         "mode": "none",
         "name": "Order 1",
         "type": "scatter",
         "x": [
          0,
          120,
          120,
          0,
          0,
          120,
          207,
          207,
          120,
          120,
          641,
          736,
          736,
          641
         ],
         "y": [
          2.8,
          2.8,
          3.2,
          3.2,
          null,
          1.8,
          1.8,
          2.2,
          2.2,
          null,
          3.8,
          3.8,
          4.2,
          4.2
         ]
        },
        {
         "fill": "toself",
         "fillcolor": "rgb(92, 138, 145)",
         "hoverinfo": "name",
         "legendgroup": "rgb(92, 138, 145)",
         "mode": "none",
         "name": "Order 2",
         "type": "scatter",
         "x": [
          554,
          641,
          641,
          554,
          554,
          736,
          926,
          926,
          736,
          736,
          1306,
          1496,
          1496,
          1306
         ],
         "y": [
          3.8,
          3.8,
          4.2,
          4.2,
          null,
          3.8,
          3.8,
          4.2,
          4.2,
          null,
          3.8,
          3.8,
          4.2,
          4.2
         ]
        },
        {
         "legendgroup": "rgb(143, 189, 196)",
         "marker": {
          "color": "rgb(143, 189, 196)",
          "opacity": 0,
          "size": 1
         },
         "mode": "markers",
         "name": "",
         "showlegend": false,
         "text": [
          null,
          null,
          null,
          null,
          null,
          null
         ],
         "type": "scatter",
         "x": [
          0,
          123,
          123,
          246,
          246,
          366
         ],
         "y": [
          1,
          1,
          0,
          0,
          3,
          3
         ]
        },
        {
         "legendgroup": "rgb(194, 240, 247)",
         "marker": {
          "color": "rgb(194, 240, 247)",
          "opacity": 0,
          "size": 1
         },
         "mode": "markers",
         "name": "",
         "showlegend": false,
         "text": [
          null,
          null,
          null,
          null,
          null,
          null
         ],
         "type": "scatter",
         "x": [
          0,
          87,
          174,
          364,
          364,
          554
         ],
         "y": [
          4,
          4,
          4,
          4,
          4,
          4
         ]
        },
        {
         "legendgroup": "rgb(246, 36, 43)",
         "marker": {
          "color": "rgb(246, 36, 43)",
          "opacity": 0,
          "size": 1
         },
         "mode": "markers",
         "name": "",
         "showlegend": false,
         "text": [
          null,
          null,
          null,
          null,
          null,
          null
         ],
         "type": "scatter",
         "x": [
          87,
          174,
          926,
          1116,
          1116,
          1306
         ],
         "y": [
          4,
          4,
          4,
          4,
          4,
          4
         ]
        },
        {
         "legendgroup": "rgb(41, 87, 94)",
         "marker": {
          "color": "rgb(41, 87, 94)",
          "opacity": 0,
          "size": 1
         },
         "mode": "markers",
         "name": "",
         "showlegend": false,
         "text": [
          null,
          null,
          null,
          null,
          null,
          null
         ],
         "type": "scatter",
         "x": [
          0,
          120,
          120,
          207,
          641,
          736
         ],
         "y": [
          3,
          3,
          2,
          2,
          4,
          4
         ]
        },
        {
         "legendgroup": "rgb(92, 138, 145)",
         "marker": {
          "color": "rgb(92, 138, 145)",
          "opacity": 0,
          "size": 1
         },
         "mode": "markers",
         "name": "",
         "showlegend": false,
         "text": [
          null,
          null,
          null,
          null,
          null,
          null
         ],
         "type": "scatter",
         "x": [
          554,
          641,
          736,
          926,
          1306,
          1496
         ],
         "y": [
          4,
          4,
          4,
          4,
          4,
          4
         ]
        }
       ],
       "layout": {
        "height": 600,
        "hovermode": "closest",
        "showlegend": true,
        "template": {
         "data": {
          "bar": [
           {
            "error_x": {
             "color": "#2a3f5f"
            },
            "error_y": {
             "color": "#2a3f5f"
            },
            "marker": {
             "line": {
              "color": "#E5ECF6",
              "width": 0.5
             },
             "pattern": {
              "fillmode": "overlay",
              "size": 10,
              "solidity": 0.2
             }
            },
            "type": "bar"
           }
          ],
          "barpolar": [
           {
            "marker": {
             "line": {
              "color": "#E5ECF6",
              "width": 0.5
             },
             "pattern": {
              "fillmode": "overlay",
              "size": 10,
              "solidity": 0.2
             }
            },
            "type": "barpolar"
           }
          ],
          "carpet": [
           {
            "aaxis": {
             "endlinecolor": "#2a3f5f",
             "gridcolor": "white",
             "linecolor": "white",
             "minorgridcolor": "white",
             "startlinecolor": "#2a3f5f"
            },
            "baxis": {
             "endlinecolor": "#2a3f5f",
             "gridcolor": "white",
             "linecolor": "white",
             "minorgridcolor": "white",
             "startlinecolor": "#2a3f5f"
            },
            "type": "carpet"
           }
          ],
          "choropleth": [
           {
            "colorbar": {
             "outlinewidth": 0,
             "ticks": ""
            },
            "type": "choropleth"
           }
          ],
          "contour": [
           {
            "colorbar": {
             "outlinewidth": 0,
             "ticks": ""
            },
            "colorscale": [
             [
              0,
              "#0d0887"
             ],
             [
              0.1111111111111111,
              "#46039f"
             ],
             [
              0.2222222222222222,
              "#7201a8"
             ],
             [
              0.3333333333333333,
              "#9c179e"
             ],
             [
              0.4444444444444444,
              "#bd3786"
             ],
             [
              0.5555555555555556,
              "#d8576b"
             ],
             [
              0.6666666666666666,
              "#ed7953"
             ],
             [
              0.7777777777777778,
              "#fb9f3a"
             ],
             [
              0.8888888888888888,
              "#fdca26"
             ],
             [
              1,
              "#f0f921"
             ]
            ],
            "type": "contour"
           }
          ],
          "contourcarpet": [
           {
            "colorbar": {
             "outlinewidth": 0,
             "ticks": ""
            },
            "type": "contourcarpet"
           }
          ],
          "heatmap": [
           {
            "colorbar": {
             "outlinewidth": 0,
             "ticks": ""
            },
            "colorscale": [
             [
              0,
              "#0d0887"
             ],
             [
              0.1111111111111111,
              "#46039f"
             ],
             [
              0.2222222222222222,
              "#7201a8"
             ],
             [
              0.3333333333333333,
              "#9c179e"
             ],
             [
              0.4444444444444444,
              "#bd3786"
             ],
             [
              0.5555555555555556,
              "#d8576b"
             ],
             [
              0.6666666666666666,
              "#ed7953"
             ],
             [
              0.7777777777777778,
              "#fb9f3a"
             ],
             [
              0.8888888888888888,
              "#fdca26"
             ],
             [
              1,
              "#f0f921"
             ]
            ],
            "type": "heatmap"
           }
          ],
          "heatmapgl": [
           {
            "colorbar": {
             "outlinewidth": 0,
             "ticks": ""
            },
            "colorscale": [
             [
              0,
              "#0d0887"
             ],
             [
              0.1111111111111111,
              "#46039f"
             ],
             [
              0.2222222222222222,
              "#7201a8"
             ],
             [
              0.3333333333333333,
              "#9c179e"
             ],
             [
              0.4444444444444444,
              "#bd3786"
             ],
             [
              0.5555555555555556,
              "#d8576b"
             ],
             [
              0.6666666666666666,
              "#ed7953"
             ],
             [
              0.7777777777777778,
              "#fb9f3a"
             ],
             [
              0.8888888888888888,
              "#fdca26"
             ],
             [
              1,
              "#f0f921"
             ]
            ],
            "type": "heatmapgl"
           }
          ],
          "histogram": [
           {
            "marker": {
             "pattern": {
              "fillmode": "overlay",
              "size": 10,
              "solidity": 0.2
             }
            },
            "type": "histogram"
           }
          ],
          "histogram2d": [
           {
            "colorbar": {
             "outlinewidth": 0,
             "ticks": ""
            },
            "colorscale": [
             [
              0,
              "#0d0887"
             ],
             [
              0.1111111111111111,
              "#46039f"
             ],
             [
              0.2222222222222222,
              "#7201a8"
             ],
             [
              0.3333333333333333,
              "#9c179e"
             ],
             [
              0.4444444444444444,
              "#bd3786"
             ],
             [
              0.5555555555555556,
              "#d8576b"
             ],
             [
              0.6666666666666666,
              "#ed7953"
             ],
             [
              0.7777777777777778,
              "#fb9f3a"
             ],
             [
              0.8888888888888888,
              "#fdca26"
             ],
             [
              1,
              "#f0f921"
             ]
            ],
            "type": "histogram2d"
           }
          ],
          "histogram2dcontour": [
           {
            "colorbar": {
             "outlinewidth": 0,
             "ticks": ""
            },
            "colorscale": [
             [
              0,
              "#0d0887"
             ],
             [
              0.1111111111111111,
              "#46039f"
             ],
             [
              0.2222222222222222,
              "#7201a8"
             ],
             [
              0.3333333333333333,
              "#9c179e"
             ],
             [
              0.4444444444444444,
              "#bd3786"
             ],
             [
              0.5555555555555556,
              "#d8576b"
             ],
             [
              0.6666666666666666,
              "#ed7953"
             ],
             [
              0.7777777777777778,
              "#fb9f3a"
             ],
             [
              0.8888888888888888,
              "#fdca26"
             ],
             [
              1,
              "#f0f921"
             ]
            ],
            "type": "histogram2dcontour"
           }
          ],
          "mesh3d": [
           {
            "colorbar": {
             "outlinewidth": 0,
             "ticks": ""
            },
            "type": "mesh3d"
           }
          ],
          "parcoords": [
           {
            "line": {
             "colorbar": {
              "outlinewidth": 0,
              "ticks": ""
             }
            },
            "type": "parcoords"
           }
          ],
          "pie": [
           {
            "automargin": true,
            "type": "pie"
           }
          ],
          "scatter": [
           {
            "marker": {
             "colorbar": {
              "outlinewidth": 0,
              "ticks": ""
             }
            },
            "type": "scatter"
           }
          ],
          "scatter3d": [
           {
            "line": {
             "colorbar": {
              "outlinewidth": 0,
              "ticks": ""
             }
            },
            "marker": {
             "colorbar": {
              "outlinewidth": 0,
              "ticks": ""
             }
            },
            "type": "scatter3d"
           }
          ],
          "scattercarpet": [
           {
            "marker": {
             "colorbar": {
              "outlinewidth": 0,
              "ticks": ""
             }
            },
            "type": "scattercarpet"
           }
          ],
          "scattergeo": [
           {
            "marker": {
             "colorbar": {
              "outlinewidth": 0,
              "ticks": ""
             }
            },
            "type": "scattergeo"
           }
          ],
          "scattergl": [
           {
            "marker": {
             "colorbar": {
              "outlinewidth": 0,
              "ticks": ""
             }
            },
            "type": "scattergl"
           }
          ],
          "scattermapbox": [
           {
            "marker": {
             "colorbar": {
              "outlinewidth": 0,
              "ticks": ""
             }
            },
            "type": "scattermapbox"
           }
          ],
          "scatterpolar": [
           {
            "marker": {
             "colorbar": {
              "outlinewidth": 0,
              "ticks": ""
             }
            },
            "type": "scatterpolar"
           }
          ],
          "scatterpolargl": [
           {
            "marker": {
             "colorbar": {
              "outlinewidth": 0,
              "ticks": ""
             }
            },
            "type": "scatterpolargl"
           }
          ],
          "scatterternary": [
           {
            "marker": {
             "colorbar": {
              "outlinewidth": 0,
              "ticks": ""
             }
            },
            "type": "scatterternary"
           }
          ],
          "surface": [
           {
            "colorbar": {
             "outlinewidth": 0,
             "ticks": ""
            },
            "colorscale": [
             [
              0,
              "#0d0887"
             ],
             [
              0.1111111111111111,
              "#46039f"
             ],
             [
              0.2222222222222222,
              "#7201a8"
             ],
             [
              0.3333333333333333,
              "#9c179e"
             ],
             [
              0.4444444444444444,
              "#bd3786"
             ],
             [
              0.5555555555555556,
              "#d8576b"
             ],
             [
              0.6666666666666666,
              "#ed7953"
             ],
             [
              0.7777777777777778,
              "#fb9f3a"
             ],
             [
              0.8888888888888888,
              "#fdca26"
             ],
             [
              1,
              "#f0f921"
             ]
            ],
            "type": "surface"
           }
          ],
          "table": [
           {
            "cells": {
             "fill": {
              "color": "#EBF0F8"
             },
             "line": {
              "color": "white"
             }
            },
            "header": {
             "fill": {
              "color": "#C8D4E3"
             },
             "line": {
              "color": "white"
             }
            },
            "type": "table"
           }
          ]
         },
         "layout": {
          "annotationdefaults": {
           "arrowcolor": "#2a3f5f",
           "arrowhead": 0,
           "arrowwidth": 1
          },
          "autotypenumbers": "strict",
          "coloraxis": {
           "colorbar": {
            "outlinewidth": 0,
            "ticks": ""
           }
          },
          "colorscale": {
           "diverging": [
            [
             0,
             "#8e0152"
            ],
            [
             0.1,
             "#c51b7d"
            ],
            [
             0.2,
             "#de77ae"
            ],
            [
             0.3,
             "#f1b6da"
            ],
            [
             0.4,
             "#fde0ef"
            ],
            [
             0.5,
             "#f7f7f7"
            ],
            [
             0.6,
             "#e6f5d0"
            ],
            [
             0.7,
             "#b8e186"
            ],
            [
             0.8,
             "#7fbc41"
            ],
            [
             0.9,
             "#4d9221"
            ],
            [
             1,
             "#276419"
            ]
           ],
           "sequential": [
            [
             0,
             "#0d0887"
            ],
            [
             0.1111111111111111,
             "#46039f"
            ],
            [
             0.2222222222222222,
             "#7201a8"
            ],
            [
             0.3333333333333333,
             "#9c179e"
            ],
            [
             0.4444444444444444,
             "#bd3786"
            ],
            [
             0.5555555555555556,
             "#d8576b"
            ],
            [
             0.6666666666666666,
             "#ed7953"
            ],
            [
             0.7777777777777778,
             "#fb9f3a"
            ],
            [
             0.8888888888888888,
             "#fdca26"
            ],
            [
             1,
             "#f0f921"
            ]
           ],
           "sequentialminus": [
            [
             0,
             "#0d0887"
            ],
            [
             0.1111111111111111,
             "#46039f"
            ],
            [
             0.2222222222222222,
             "#7201a8"
            ],
            [
             0.3333333333333333,
             "#9c179e"
            ],
            [
             0.4444444444444444,
             "#bd3786"
            ],
            [
             0.5555555555555556,
             "#d8576b"
            ],
            [
             0.6666666666666666,
             "#ed7953"
            ],
            [
             0.7777777777777778,
             "#fb9f3a"
            ],
            [
             0.8888888888888888,
             "#fdca26"
            ],
            [
             1,
             "#f0f921"
            ]
           ]
          },
          "colorway": [
           "#636efa",
           "#EF553B",
           "#00cc96",
           "#ab63fa",
           "#FFA15A",
           "#19d3f3",
           "#FF6692",
           "#B6E880",
           "#FF97FF",
           "#FECB52"
          ],
          "font": {
           "color": "#2a3f5f"
          },
          "geo": {
           "bgcolor": "white",
           "lakecolor": "white",
           "landcolor": "#E5ECF6",
           "showlakes": true,
           "showland": true,
           "subunitcolor": "white"
          },
          "hoverlabel": {
           "align": "left"
          },
          "hovermode": "closest",
          "mapbox": {
           "style": "light"
          },
          "paper_bgcolor": "white",
          "plot_bgcolor": "#E5ECF6",
          "polar": {
           "angularaxis": {
            "gridcolor": "white",
            "linecolor": "white",
            "ticks": ""
           },
           "bgcolor": "#E5ECF6",
           "radialaxis": {
            "gridcolor": "white",
            "linecolor": "white",
            "ticks": ""
           }
          },
          "scene": {
           "xaxis": {
            "backgroundcolor": "#E5ECF6",
            "gridcolor": "white",
            "gridwidth": 2,
            "linecolor": "white",
            "showbackground": true,
            "ticks": "",
            "zerolinecolor": "white"
           },
           "yaxis": {
            "backgroundcolor": "#E5ECF6",
            "gridcolor": "white",
            "gridwidth": 2,
            "linecolor": "white",
            "showbackground": true,
            "ticks": "",
            "zerolinecolor": "white"
           },
           "zaxis": {
            "backgroundcolor": "#E5ECF6",
            "gridcolor": "white",
            "gridwidth": 2,
            "linecolor": "white",
            "showbackground": true,
            "ticks": "",
            "zerolinecolor": "white"
           }
          },
          "shapedefaults": {
           "line": {
            "color": "#2a3f5f"
           }
          },
          "ternary": {
           "aaxis": {
            "gridcolor": "white",
            "linecolor": "white",
            "ticks": ""
           },
           "baxis": {
            "gridcolor": "white",
            "linecolor": "white",
            "ticks": ""
           },
           "bgcolor": "#E5ECF6",
           "caxis": {
            "gridcolor": "white",
            "linecolor": "white",
            "ticks": ""
           }
          },
          "title": {
           "x": 0.05
          },
          "xaxis": {
           "automargin": true,
           "gridcolor": "white",
           "linecolor": "white",
           "ticks": "",
           "title": {
            "standoff": 15
           },
           "zerolinecolor": "white",
           "zerolinewidth": 2
          },
          "yaxis": {
           "automargin": true,
           "gridcolor": "white",
           "linecolor": "white",
           "ticks": "",
           "title": {
            "standoff": 15
           },
           "zerolinecolor": "white",
           "zerolinewidth": 2
          }
         }
        },
        "title": {
         "text": "Gantt Chart"
        },
        "xaxis": {
         "rangeselector": {
          "buttons": [
           {
            "count": 7,
            "label": "1w",
            "step": "day",
            "stepmode": "backward"
           },
           {
            "count": 1,
            "label": "1m",
            "step": "month",
            "stepmode": "backward"
           },
           {
            "count": 6,
            "label": "6m",
            "step": "month",
            "stepmode": "backward"
           },
           {
            "count": 1,
            "label": "YTD",
            "step": "year",
            "stepmode": "todate"
           },
           {
            "count": 1,
            "label": "1y",
            "step": "year",
            "stepmode": "backward"
           },
           {
            "step": "all"
           }
          ]
         },
         "showgrid": true,
         "type": "linear",
         "zeroline": false
        },
        "yaxis": {
         "autorange": false,
         "range": [
          -1,
          6
         ],
         "showgrid": false,
         "ticktext": [
          "W7",
          "W1",
          "W3",
          "W5",
          "W6"
         ],
         "tickvals": [
          0,
          1,
          2,
          3,
          4
         ],
         "zeroline": false
        }
       }
      }
     },
     "metadata": {},
     "output_type": "display_data"
    }
   ],
   "source": [
    "def is_first(jobs, index): # check if job is the first in it's order sequence\n",
    "    return jobs[index][2] == 0 or order_for_index[jobs[index][2]-1] != order_for_index[jobs[index][2]]\n",
    "durations = []\n",
    "for i in range(len(assignments)):\n",
    "    durations.append(duration_lookup_table[operations[i]][assignments[i]])\n",
    "\n",
    "w = dict()\n",
    "for i in range(len(assignments)):\n",
    "    if assignments[i] not in w:\n",
    "        w[assignments[i]] = []\n",
    "    w[assignments[i]].append([solution[i], solution[i]+durations[i], i]) #<start, end, index>\n",
    "import copy\n",
    "new_solution = copy.deepcopy(solution)\n",
    "changes_made = True\n",
    "while changes_made:\n",
    "    changes_made = False\n",
    "    for workstation in w.keys():\n",
    "        sorted_jobs = sorted(w[workstation], key=lambda x: x[0])\n",
    "        for i in range(len(sorted_jobs)):\n",
    "            shift = 0\n",
    "            if is_first(sorted_jobs, i):\n",
    "                if i == 0: # start at 0\n",
    "                    shift = sorted_jobs[i][0] \n",
    "                    sorted_jobs[i][0] -= shift\n",
    "                    sorted_jobs[i][1] -= shift                  \n",
    "                else: # there are other jobs on this workstation before this one\n",
    "                    shift = sorted_jobs[i][0] - sorted_jobs[i-1][1] # move it back to where the previous job stopped\n",
    "                    sorted_jobs[i][0] -= shift\n",
    "                    sorted_jobs[i][1] -= shift\n",
    "            else: # find end of previous job in sequence + end of job previous on the workstation -> move to closer one\n",
    "                prev_end = new_solution[sorted_jobs[i][2]-1] + durations[sorted_jobs[i][2]-1]\n",
    "                prev_shift = sorted_jobs[i][0] - prev_end\n",
    "                if i == 0: # no previous jobs on this workstation\n",
    "                    shift = prev_shift\n",
    "                    sorted_jobs[i][0] -= shift\n",
    "                    sorted_jobs[i][1] -= shift\n",
    "                else:\n",
    "                    shift = sorted_jobs[i][0] - sorted_jobs[i-1][1] # move it back to where the previous job stopped\n",
    "                    if prev_shift < shift:\n",
    "                        shift = prev_shift\n",
    "                    sorted_jobs[i][0] -= shift\n",
    "                    sorted_jobs[i][1] -= shift\n",
    "            new_solution[sorted_jobs[i][2]] = sorted_jobs[i][0] # update new start points\n",
    "            changes_made = changes_made or shift != 0\n",
    "print(new_solution)\n",
    "print(f'Makespan: {abs(fitness_function_time_slots(new_solution, 0)) - 1}')\n",
    "data = []\n",
    "for i in range(len(operations)):\n",
    "    data.append([assignments[i], operations[i], new_solution[i], durations[i]])\n",
    "visualize(data)"
   ]
  },
  {
   "cell_type": "code",
   "execution_count": null,
   "metadata": {},
   "outputs": [
    {
     "data": {
      "image/png": "[encoded data removed]",
      "text/plain": [
       "<Figure size 640x480 with 1 Axes>"
      ]
     },
     "metadata": {},
     "output_type": "display_data"
    },
    {
     "data": {
      "image/png": "[encoded data removed]",
      "text/plain": [
       "<Figure size 640x480 with 1 Axes>"
      ]
     },
     "metadata": {},
     "output_type": "display_data"
    }
   ],
   "source": [
    "import matplotlib.pyplot as plt\n",
    "x = list(range(0, len(assignments_best)))\n",
    "plt.plot(x, assignments_best)\n",
    "plt.plot(x, average_assignments)\n",
    "plt.title('Assignments')\n",
    "plt.legend(['Best Known Fitness', 'Average Fitness'])\n",
    "plt.xlabel = 'Generation'\n",
    "plt.ylabel = 'Fitness'\n",
    "plt.show()\n",
    "\n",
    "y = list(range(0, len(time_best)))\n",
    "plt.plot(y, time_best)\n",
    "plt.plot(y, average_time)\n",
    "plt.title('Start times')\n",
    "plt.legend(['Best Known Fitness', 'Average Fitness'])\n",
    "plt.xlabel = 'Generation'\n",
    "plt.ylabel = 'Fitness'\n",
    "plt.show()"
   ]
  },
  {
   "cell_type": "markdown",
   "metadata": {},
   "source": [
    "<h3>2 Stage CMA-ES</h3>"
   ]
  },
  {
   "cell_type": "markdown",
   "metadata": {},
   "source": [
    "Stage 1"
   ]
  },
  {
   "cell_type": "code",
   "execution_count": null,
   "metadata": {},
   "outputs": [
    {
     "name": "stdout",
     "output_type": "stream",
     "text": [
      "(6_w,12)-aCMA-ES (mu_w=3.7,w_1=40%) in dimension 15 (seed=844770, Wed Sep 21 10:25:41 2022)\n",
      "Iterat #Fevals   function value  axis ratio  sigma  min&max std  t[m:s]\n",
      "    1     12 -1.500000000000000e+05 1.0e+00 6.07e+00  6e+00  6e+00 0:00.0\n",
      "termination on tolfun=1e-11 (Wed Sep 21 10:25:41 2022)\n",
      "final/bestever f-value = -1.500000e+05 -1.500000e+05\n",
      "incumbent solution: [1.17274379 2.05631466 5.92813783 2.4758897  2.11242954 5.99656304\n",
      " 4.3988184  5.34767673 ...]\n",
      "std deviations: [6.13693435 5.98321361 6.10848899 6.04532277 5.97280813 6.01481444\n",
      " 6.03550006 6.09692526 ...]\n",
      "Result: [2.0, 1.0, 3.0, 5.0, 1.0, 5.0, 1.0, 3.0, 2.0, 1.0, 2.0, 1.0, 5.0, 3.0, 1.0]\n"
     ]
    },
    {
     "name": "stderr",
     "output_type": "stream",
     "text": [
      "c:\\Users\\huda\\AppData\\Local\\Programs\\Python\\Python310\\lib\\site-packages\\cma\\evolution_strategy.py:1723: UserWarning:\n",
      "\n",
      "ValueWarning:\n",
      "\n",
      "  Initial standard deviations sigma0 x stds are larger than the bounded domain size in variables [ 0  1  2  3  4  5  6  7  8  9 10 11 12 13 14].\n",
      "  Consider using `cma.ScaleCoordinates` if the bounded domain sizes differ significantly. \n",
      "\n",
      "\n"
     ]
    }
   ],
   "source": [
    "import cma\n",
    "import numpy as np\n",
    "\n",
    "def fitness_function(solution):\n",
    "    bins = dict()\n",
    "    sum = 0\n",
    "    max_sum = 0\n",
    "    for operation in list(duration_lookup_table.keys()):\n",
    "        max = float('inf')\n",
    "        for workstation in list(duration_lookup_table[operation].keys()):\n",
    "            if duration_lookup_table[operation][workstation] > max:\n",
    "                max = duration_lookup_table[operation][workstation]\n",
    "        max_sum += max\n",
    "    for i in range(len(solution)):\n",
    "        if int(np.floor(solution[i])) not in duration_lookup_table[operations[i]]: # illegal combination\n",
    "            return len(solution) * 10000 * -1\n",
    "        if i not in bins:\n",
    "            bins[i] = 0\n",
    "        sum += duration_lookup_table[operations[i]][int(np.floor(solution[i]))] # minimize working minutes for all workstations\n",
    "        #bins[i] += duration_lookup_table[operations[i]][solution[i]]\n",
    "    return sum\n",
    "\n",
    "x0 = len(assignments) * [1]\n",
    "#sigma=0.5\n",
    "#sigma=1\n",
    "sigma=len(workstations)-1 / 2\n",
    "xopt, es = cma.fmin2(fitness_function, x0, sigma, {'integer_variables': list(range(len(x0))), 'bounds': [1, len(workstations)-1]})#, {'verb_disp': 1})\n",
    "int_result = [np.floor(x) for x in es.result[0]] #NOTE: the cma library truncates/rounds all values in the background itself, apparently np.floor\n",
    "print(f'Result: {int_result}')"
   ]
  },
  {
   "cell_type": "markdown",
   "metadata": {},
   "source": [
    "Stage 2"
   ]
  },
  {
   "cell_type": "code",
   "execution_count": null,
   "metadata": {},
   "outputs": [
    {
     "name": "stdout",
     "output_type": "stream",
     "text": [
      "(6_w,12)-aCMA-ES (mu_w=3.7,w_1=40%) in dimension 15 (seed=883089, Wed Sep 21 10:25:41 2022)\n",
      "Iterat #Fevals   function value  axis ratio  sigma  min&max std  t[m:s]\n",
      "    1     12 1.000000000000000e+04 1.0e+00 2.32e+03  2e+03  2e+03 0:00.0\n",
      "termination on tolfun=1e-11 (Wed Sep 21 10:25:41 2022)\n",
      "final/bestever f-value = 1.000000e+04 1.000000e+04\n",
      "incumbent solution: [1615.52871834   80.35358227 1819.37151231 1214.78271893 2676.18499638\n",
      "  220.96495734  443.62593408 1532.87376535 ...]\n",
      "std deviations: [2345.0904169  2307.20259486 2307.50109929 2332.8153131  2327.30928378\n",
      " 2347.36855384 2322.23770979 2338.12121317 ...]\n",
      "Result: [532.0, 319.0, 1209.0, 3223.0, 4768.0, 3691.0, 1775.0, 2751.0, 1909.0, 500.0, 1286.0, 2146.0, 2888.0, 2186.0, 2924.0]\n",
      "Fitness: ´10000\n"
     ]
    }
   ],
   "source": [
    "assignments = int_result # use result of stage 1\n",
    "\n",
    "def is_feasible(solution):\n",
    "    for i in range(len(solution)):\n",
    "        start = solution[i]\n",
    "        if int(np.floor(assignments[i])) not in duration_lookup_table[operations[i]]:\n",
    "            return False\n",
    "        end = start + duration_lookup_table[operations[i]][int(np.floor(assignments[i]))]\n",
    "        if end > last_time_slot:\n",
    "            return False\n",
    "        if start < earliest_time_slot:\n",
    "            return False\n",
    "        # overlap\n",
    "        same_workstation = [] # append indices of jobs running on the same workstation\n",
    "        for j in range(len(assignments)):\n",
    "            if int(np.floor(assignments[j])) == int(np.floor(assignments[i])) and i != j:\n",
    "                same_workstation.append(j)\n",
    "        for j in range(len(same_workstation)):\n",
    "            other_start = solution[same_workstation[j]]\n",
    "            other_end = other_start + duration_lookup_table[operations[same_workstation[j]]][int(np.floor(assignments[same_workstation[j]]))]\n",
    "            if start > other_start and start < other_end:\n",
    "                return False\n",
    "            if end > other_start and end < other_end:\n",
    "                return False\n",
    "            if other_start > start and other_start < end:\n",
    "                return False\n",
    "            if other_end > start and other_end < end:\n",
    "                return False\n",
    "        # check sequence\n",
    "        order = order_for_index[i]\n",
    "        if i > 0:\n",
    "            if order_for_index[i-1] == order: # same order\n",
    "                prev_start = solution[i-1]\n",
    "                prev_end = prev_start + duration_lookup_table[operations[i-1]][int(np.floor(assignments[i-1]))]\n",
    "                if prev_end > start:\n",
    "                    return False\n",
    "    return True\n",
    "\n",
    "def fitness_function(solution):\n",
    "    fitness = 0\n",
    "    if not is_feasible(solution):\n",
    "        #fitness += last_time_slot\n",
    "        return 2 * last_time_slot\n",
    "    max = -float('inf')\n",
    "    min = float('inf')\n",
    "    for i in range(len(solution)):\n",
    "        start = solution[i]\n",
    "        end = start + duration_lookup_table[operations[i]][int(np.floor(assignments[i]))]\n",
    "        if start < min:\n",
    "            min = start\n",
    "        if end > max:\n",
    "            max = end\n",
    "    fitness += abs(max - min)\n",
    "    return fitness\n",
    "\n",
    "x1 = len(assignments) * [earliest_time_slot]\n",
    "#sigma=0.5\n",
    "#sigma=10\n",
    "sigma=(last_time_slot-earliest_time_slot)/2\n",
    "xopt, es = cma.fmin2(fitness_function, x1, sigma, {'integer_variables': list(range(len(x1))), 'bounds': [earliest_time_slot, last_time_slot]})#, {'verb_disp': 1})\n",
    "int_result = [np.floor(x) for x in es.result[0]] #NOTE: the cma library truncates/rounds all values in the background itself, apparently np.floor\n",
    "print(f'Result: {int_result}')\n",
    "#print(f'´{xopt}')\n",
    "print(f'Fitness: ´{es.result[1]}')"
   ]
  },
  {
   "cell_type": "code",
   "execution_count": null,
   "metadata": {},
   "outputs": [
    {
     "name": "stdout",
     "output_type": "stream",
     "text": [
      "[2.0, 1.0, 3.0, 5.0, 1.0, 5.0, 1.0, 3.0, 2.0, 1.0, 2.0, 1.0, 5.0, 3.0, 1.0]\n",
      "[532.0, 319.0, 1209.0, 3223.0, 4768.0, 3691.0, 1775.0, 2751.0, 1909.0, 500.0, 1286.0, 2146.0, 2888.0, 2186.0, 2924.0]\n"
     ]
    },
    {
     "data": {
      "application/vnd.plotly.v1+json": {
       "config": {
        "plotlyServerURL": "https://plot.ly"
       },
       "data": [
        {
         "fill": "toself",
         "fillcolor": "rgb(110, 0, 117)",
         "hoverinfo": "name",
         "legendgroup": "rgb(110, 0, 117)",
         "mode": "none",
         "name": "Order 0",
         "type": "scatter",
         "x": [
          532,
          533,
          533,
          532,
          532,
          319,
          320,
          320,
          319,
          319,
          1209,
          1210,
          1210,
          1209
         ],
         "y": [
          2.8,
          2.8,
          3.2,
          3.2,
          null,
          1.8,
          1.8,
          2.2,
          2.2,
          null,
          0.8,
          0.8,
          1.2,
          1.2
         ]
        },
        {
         "fill": "toself",
         "fillcolor": "rgb(161, 51, 168)",
         "hoverinfo": "name",
         "legendgroup": "rgb(161, 51, 168)",
         "mode": "none",
         "name": "Order 1",
         "type": "scatter",
         "x": [
          3223,
          3224,
          3224,
          3223,
          3223,
          4768,
          4769,
          4769,
          4768,
          4768,
          3691,
          3692,
          3692,
          3691
         ],
         "y": [
          -0.2,
          -0.2,
          0.2,
          0.2,
          null,
          1.8,
          1.8,
          2.2,
          2.2,
          null,
          -0.2,
          -0.2,
          0.2,
          0.2
         ]
        },
        {
         "fill": "toself",
         "fillcolor": "rgb(212, 102, 219)",
         "hoverinfo": "name",
         "legendgroup": "rgb(212, 102, 219)",
         "mode": "none",
         "name": "Order 2",
         "type": "scatter",
         "x": [
          1775,
          1776,
          1776,
          1775,
          1775,
          2751,
          2827,
          2827,
          2751,
          2751,
          1909,
          1910,
          1910,
          1909
         ],
         "y": [
          1.8,
          1.8,
          2.2,
          2.2,
          null,
          0.8,
          0.8,
          1.2,
          1.2,
          null,
          2.8,
          2.8,
          3.2,
          3.2
         ]
        },
        {
         "fill": "toself",
         "fillcolor": "rgb(58, 204, 65)",
         "hoverinfo": "name",
         "legendgroup": "rgb(58, 204, 65)",
         "mode": "none",
         "name": "Order 4",
         "type": "scatter",
         "x": [
          2888,
          2889,
          2889,
          2888,
          2888,
          2186,
          2187,
          2187,
          2186,
          2186,
          2924,
          2925,
          2925,
          2924
         ],
         "y": [
          -0.2,
          -0.2,
          0.2,
          0.2,
          null,
          0.8,
          0.8,
          1.2,
          1.2,
          null,
          1.8,
          1.8,
          2.2,
          2.2
         ]
        },
        {
         "fill": "toself",
         "fillcolor": "rgb(7, 153, 14)",
         "hoverinfo": "name",
         "legendgroup": "rgb(7, 153, 14)",
         "mode": "none",
         "name": "Order 3",
         "type": "scatter",
         "x": [
          500,
          501,
          501,
          500,
          500,
          1286,
          1287,
          1287,
          1286,
          1286,
          2146,
          2147,
          2147,
          2146
         ],
         "y": [
          1.8,
          1.8,
          2.2,
          2.2,
          null,
          2.8,
          2.8,
          3.2,
          3.2,
          null,
          1.8,
          1.8,
          2.2,
          2.2
         ]
        },
        {
         "legendgroup": "rgb(110, 0, 117)",
         "marker": {
          "color": "rgb(110, 0, 117)",
          "opacity": 0,
          "size": 1
         },
         "mode": "markers",
         "name": "",
         "showlegend": false,
         "text": [
          null,
          null,
          null,
          null,
          null,
          null
         ],
         "type": "scatter",
         "x": [
          532,
          533,
          319,
          320,
          1209,
          1210
         ],
         "y": [
          3,
          3,
          2,
          2,
          1,
          1
         ]
        },
        {
         "legendgroup": "rgb(161, 51, 168)",
         "marker": {
          "color": "rgb(161, 51, 168)",
          "opacity": 0,
          "size": 1
         },
         "mode": "markers",
         "name": "",
         "showlegend": false,
         "text": [
          null,
          null,
          null,
          null,
          null,
          null
         ],
         "type": "scatter",
         "x": [
          3223,
          3224,
          4768,
          4769,
          3691,
          3692
         ],
         "y": [
          0,
          0,
          2,
          2,
          0,
          0
         ]
        },
        {
         "legendgroup": "rgb(212, 102, 219)",
         "marker": {
          "color": "rgb(212, 102, 219)",
          "opacity": 0,
          "size": 1
         },
         "mode": "markers",
         "name": "",
         "showlegend": false,
         "text": [
          null,
          null,
          null,
          null,
          null,
          null
         ],
         "type": "scatter",
         "x": [
          1775,
          1776,
          2751,
          2827,
          1909,
          1910
         ],
         "y": [
          2,
          2,
          1,
          1,
          3,
          3
         ]
        },
        {
         "legendgroup": "rgb(58, 204, 65)",
         "marker": {
          "color": "rgb(58, 204, 65)",
          "opacity": 0,
          "size": 1
         },
         "mode": "markers",
         "name": "",
         "showlegend": false,
         "text": [
          null,
          null,
          null,
          null,
          null,
          null
         ],
         "type": "scatter",
         "x": [
          2888,
          2889,
          2186,
          2187,
          2924,
          2925
         ],
         "y": [
          0,
          0,
          1,
          1,
          2,
          2
         ]
        },
        {
         "legendgroup": "rgb(7, 153, 14)",
         "marker": {
          "color": "rgb(7, 153, 14)",
          "opacity": 0,
          "size": 1
         },
         "mode": "markers",
         "name": "",
         "showlegend": false,
         "text": [
          null,
          null,
          null,
          null,
          null,
          null
         ],
         "type": "scatter",
         "x": [
          500,
          501,
          1286,
          1287,
          2146,
          2147
         ],
         "y": [
          2,
          2,
          3,
          3,
          2,
          2
         ]
        }
       ],
       "layout": {
        "height": 600,
        "hovermode": "closest",
        "showlegend": true,
        "template": {
         "data": {
          "bar": [
           {
            "error_x": {
             "color": "#2a3f5f"
            },
            "error_y": {
             "color": "#2a3f5f"
            },
            "marker": {
             "line": {
              "color": "#E5ECF6",
              "width": 0.5
             },
             "pattern": {
              "fillmode": "overlay",
              "size": 10,
              "solidity": 0.2
             }
            },
            "type": "bar"
           }
          ],
          "barpolar": [
           {
            "marker": {
             "line": {
              "color": "#E5ECF6",
              "width": 0.5
             },
             "pattern": {
              "fillmode": "overlay",
              "size": 10,
              "solidity": 0.2
             }
            },
            "type": "barpolar"
           }
          ],
          "carpet": [
           {
            "aaxis": {
             "endlinecolor": "#2a3f5f",
             "gridcolor": "white",
             "linecolor": "white",
             "minorgridcolor": "white",
             "startlinecolor": "#2a3f5f"
            },
            "baxis": {
             "endlinecolor": "#2a3f5f",
             "gridcolor": "white",
             "linecolor": "white",
             "minorgridcolor": "white",
             "startlinecolor": "#2a3f5f"
            },
            "type": "carpet"
           }
          ],
          "choropleth": [
           {
            "colorbar": {
             "outlinewidth": 0,
             "ticks": ""
            },
            "type": "choropleth"
           }
          ],
          "contour": [
           {
            "colorbar": {
             "outlinewidth": 0,
             "ticks": ""
            },
            "colorscale": [
             [
              0,
              "#0d0887"
             ],
             [
              0.1111111111111111,
              "#46039f"
             ],
             [
              0.2222222222222222,
              "#7201a8"
             ],
             [
              0.3333333333333333,
              "#9c179e"
             ],
             [
              0.4444444444444444,
              "#bd3786"
             ],
             [
              0.5555555555555556,
              "#d8576b"
             ],
             [
              0.6666666666666666,
              "#ed7953"
             ],
             [
              0.7777777777777778,
              "#fb9f3a"
             ],
             [
              0.8888888888888888,
              "#fdca26"
             ],
             [
              1,
              "#f0f921"
             ]
            ],
            "type": "contour"
           }
          ],
          "contourcarpet": [
           {
            "colorbar": {
             "outlinewidth": 0,
             "ticks": ""
            },
            "type": "contourcarpet"
           }
          ],
          "heatmap": [
           {
            "colorbar": {
             "outlinewidth": 0,
             "ticks": ""
            },
            "colorscale": [
             [
              0,
              "#0d0887"
             ],
             [
              0.1111111111111111,
              "#46039f"
             ],
             [
              0.2222222222222222,
              "#7201a8"
             ],
             [
              0.3333333333333333,
              "#9c179e"
             ],
             [
              0.4444444444444444,
              "#bd3786"
             ],
             [
              0.5555555555555556,
              "#d8576b"
             ],
             [
              0.6666666666666666,
              "#ed7953"
             ],
             [
              0.7777777777777778,
              "#fb9f3a"
             ],
             [
              0.8888888888888888,
              "#fdca26"
             ],
             [
              1,
              "#f0f921"
             ]
            ],
            "type": "heatmap"
           }
          ],
          "heatmapgl": [
           {
            "colorbar": {
             "outlinewidth": 0,
             "ticks": ""
            },
            "colorscale": [
             [
              0,
              "#0d0887"
             ],
             [
              0.1111111111111111,
              "#46039f"
             ],
             [
              0.2222222222222222,
              "#7201a8"
             ],
             [
              0.3333333333333333,
              "#9c179e"
             ],
             [
              0.4444444444444444,
              "#bd3786"
             ],
             [
              0.5555555555555556,
              "#d8576b"
             ],
             [
              0.6666666666666666,
              "#ed7953"
             ],
             [
              0.7777777777777778,
              "#fb9f3a"
             ],
             [
              0.8888888888888888,
              "#fdca26"
             ],
             [
              1,
              "#f0f921"
             ]
            ],
            "type": "heatmapgl"
           }
          ],
          "histogram": [
           {
            "marker": {
             "pattern": {
              "fillmode": "overlay",
              "size": 10,
              "solidity": 0.2
             }
            },
            "type": "histogram"
           }
          ],
          "histogram2d": [
           {
            "colorbar": {
             "outlinewidth": 0,
             "ticks": ""
            },
            "colorscale": [
             [
              0,
              "#0d0887"
             ],
             [
              0.1111111111111111,
              "#46039f"
             ],
             [
              0.2222222222222222,
              "#7201a8"
             ],
             [
              0.3333333333333333,
              "#9c179e"
             ],
             [
              0.4444444444444444,
              "#bd3786"
             ],
             [
              0.5555555555555556,
              "#d8576b"
             ],
             [
              0.6666666666666666,
              "#ed7953"
             ],
             [
              0.7777777777777778,
              "#fb9f3a"
             ],
             [
              0.8888888888888888,
              "#fdca26"
             ],
             [
              1,
              "#f0f921"
             ]
            ],
            "type": "histogram2d"
           }
          ],
          "histogram2dcontour": [
           {
            "colorbar": {
             "outlinewidth": 0,
             "ticks": ""
            },
            "colorscale": [
             [
              0,
              "#0d0887"
             ],
             [
              0.1111111111111111,
              "#46039f"
             ],
             [
              0.2222222222222222,
              "#7201a8"
             ],
             [
              0.3333333333333333,
              "#9c179e"
             ],
             [
              0.4444444444444444,
              "#bd3786"
             ],
             [
              0.5555555555555556,
              "#d8576b"
             ],
             [
              0.6666666666666666,
              "#ed7953"
             ],
             [
              0.7777777777777778,
              "#fb9f3a"
             ],
             [
              0.8888888888888888,
              "#fdca26"
             ],
             [
              1,
              "#f0f921"
             ]
            ],
            "type": "histogram2dcontour"
           }
          ],
          "mesh3d": [
           {
            "colorbar": {
             "outlinewidth": 0,
             "ticks": ""
            },
            "type": "mesh3d"
           }
          ],
          "parcoords": [
           {
            "line": {
             "colorbar": {
              "outlinewidth": 0,
              "ticks": ""
             }
            },
            "type": "parcoords"
           }
          ],
          "pie": [
           {
            "automargin": true,
            "type": "pie"
           }
          ],
          "scatter": [
           {
            "marker": {
             "colorbar": {
              "outlinewidth": 0,
              "ticks": ""
             }
            },
            "type": "scatter"
           }
          ],
          "scatter3d": [
           {
            "line": {
             "colorbar": {
              "outlinewidth": 0,
              "ticks": ""
             }
            },
            "marker": {
             "colorbar": {
              "outlinewidth": 0,
              "ticks": ""
             }
            },
            "type": "scatter3d"
           }
          ],
          "scattercarpet": [
           {
            "marker": {
             "colorbar": {
              "outlinewidth": 0,
              "ticks": ""
             }
            },
            "type": "scattercarpet"
           }
          ],
          "scattergeo": [
           {
            "marker": {
             "colorbar": {
              "outlinewidth": 0,
              "ticks": ""
             }
            },
            "type": "scattergeo"
           }
          ],
          "scattergl": [
           {
            "marker": {
             "colorbar": {
              "outlinewidth": 0,
              "ticks": ""
             }
            },
            "type": "scattergl"
           }
          ],
          "scattermapbox": [
           {
            "marker": {
             "colorbar": {
              "outlinewidth": 0,
              "ticks": ""
             }
            },
            "type": "scattermapbox"
           }
          ],
          "scatterpolar": [
           {
            "marker": {
             "colorbar": {
              "outlinewidth": 0,
              "ticks": ""
             }
            },
            "type": "scatterpolar"
           }
          ],
          "scatterpolargl": [
           {
            "marker": {
             "colorbar": {
              "outlinewidth": 0,
              "ticks": ""
             }
            },
            "type": "scatterpolargl"
           }
          ],
          "scatterternary": [
           {
            "marker": {
             "colorbar": {
              "outlinewidth": 0,
              "ticks": ""
             }
            },
            "type": "scatterternary"
           }
          ],
          "surface": [
           {
            "colorbar": {
             "outlinewidth": 0,
             "ticks": ""
            },
            "colorscale": [
             [
              0,
              "#0d0887"
             ],
             [
              0.1111111111111111,
              "#46039f"
             ],
             [
              0.2222222222222222,
              "#7201a8"
             ],
             [
              0.3333333333333333,
              "#9c179e"
             ],
             [
              0.4444444444444444,
              "#bd3786"
             ],
             [
              0.5555555555555556,
              "#d8576b"
             ],
             [
              0.6666666666666666,
              "#ed7953"
             ],
             [
              0.7777777777777778,
              "#fb9f3a"
             ],
             [
              0.8888888888888888,
              "#fdca26"
             ],
             [
              1,
              "#f0f921"
             ]
            ],
            "type": "surface"
           }
          ],
          "table": [
           {
            "cells": {
             "fill": {
              "color": "#EBF0F8"
             },
             "line": {
              "color": "white"
             }
            },
            "header": {
             "fill": {
              "color": "#C8D4E3"
             },
             "line": {
              "color": "white"
             }
            },
            "type": "table"
           }
          ]
         },
         "layout": {
          "annotationdefaults": {
           "arrowcolor": "#2a3f5f",
           "arrowhead": 0,
           "arrowwidth": 1
          },
          "autotypenumbers": "strict",
          "coloraxis": {
           "colorbar": {
            "outlinewidth": 0,
            "ticks": ""
           }
          },
          "colorscale": {
           "diverging": [
            [
             0,
             "#8e0152"
            ],
            [
             0.1,
             "#c51b7d"
            ],
            [
             0.2,
             "#de77ae"
            ],
            [
             0.3,
             "#f1b6da"
            ],
            [
             0.4,
             "#fde0ef"
            ],
            [
             0.5,
             "#f7f7f7"
            ],
            [
             0.6,
             "#e6f5d0"
            ],
            [
             0.7,
             "#b8e186"
            ],
            [
             0.8,
             "#7fbc41"
            ],
            [
             0.9,
             "#4d9221"
            ],
            [
             1,
             "#276419"
            ]
           ],
           "sequential": [
            [
             0,
             "#0d0887"
            ],
            [
             0.1111111111111111,
             "#46039f"
            ],
            [
             0.2222222222222222,
             "#7201a8"
            ],
            [
             0.3333333333333333,
             "#9c179e"
            ],
            [
             0.4444444444444444,
             "#bd3786"
            ],
            [
             0.5555555555555556,
             "#d8576b"
            ],
            [
             0.6666666666666666,
             "#ed7953"
            ],
            [
             0.7777777777777778,
             "#fb9f3a"
            ],
            [
             0.8888888888888888,
             "#fdca26"
            ],
            [
             1,
             "#f0f921"
            ]
           ],
           "sequentialminus": [
            [
             0,
             "#0d0887"
            ],
            [
             0.1111111111111111,
             "#46039f"
            ],
            [
             0.2222222222222222,
             "#7201a8"
            ],
            [
             0.3333333333333333,
             "#9c179e"
            ],
            [
             0.4444444444444444,
             "#bd3786"
            ],
            [
             0.5555555555555556,
             "#d8576b"
            ],
            [
             0.6666666666666666,
             "#ed7953"
            ],
            [
             0.7777777777777778,
             "#fb9f3a"
            ],
            [
             0.8888888888888888,
             "#fdca26"
            ],
            [
             1,
             "#f0f921"
            ]
           ]
          },
          "colorway": [
           "#636efa",
           "#EF553B",
           "#00cc96",
           "#ab63fa",
           "#FFA15A",
           "#19d3f3",
           "#FF6692",
           "#B6E880",
           "#FF97FF",
           "#FECB52"
          ],
          "font": {
           "color": "#2a3f5f"
          },
          "geo": {
           "bgcolor": "white",
           "lakecolor": "white",
           "landcolor": "#E5ECF6",
           "showlakes": true,
           "showland": true,
           "subunitcolor": "white"
          },
          "hoverlabel": {
           "align": "left"
          },
          "hovermode": "closest",
          "mapbox": {
           "style": "light"
          },
          "paper_bgcolor": "white",
          "plot_bgcolor": "#E5ECF6",
          "polar": {
           "angularaxis": {
            "gridcolor": "white",
            "linecolor": "white",
            "ticks": ""
           },
           "bgcolor": "#E5ECF6",
           "radialaxis": {
            "gridcolor": "white",
            "linecolor": "white",
            "ticks": ""
           }
          },
          "scene": {
           "xaxis": {
            "backgroundcolor": "#E5ECF6",
            "gridcolor": "white",
            "gridwidth": 2,
            "linecolor": "white",
            "showbackground": true,
            "ticks": "",
            "zerolinecolor": "white"
           },
           "yaxis": {
            "backgroundcolor": "#E5ECF6",
            "gridcolor": "white",
            "gridwidth": 2,
            "linecolor": "white",
            "showbackground": true,
            "ticks": "",
            "zerolinecolor": "white"
           },
           "zaxis": {
            "backgroundcolor": "#E5ECF6",
            "gridcolor": "white",
            "gridwidth": 2,
            "linecolor": "white",
            "showbackground": true,
            "ticks": "",
            "zerolinecolor": "white"
           }
          },
          "shapedefaults": {
           "line": {
            "color": "#2a3f5f"
           }
          },
          "ternary": {
           "aaxis": {
            "gridcolor": "white",
            "linecolor": "white",
            "ticks": ""
           },
           "baxis": {
            "gridcolor": "white",
            "linecolor": "white",
            "ticks": ""
           },
           "bgcolor": "#E5ECF6",
           "caxis": {
            "gridcolor": "white",
            "linecolor": "white",
            "ticks": ""
           }
          },
          "title": {
           "x": 0.05
          },
          "xaxis": {
           "automargin": true,
           "gridcolor": "white",
           "linecolor": "white",
           "ticks": "",
           "title": {
            "standoff": 15
           },
           "zerolinecolor": "white",
           "zerolinewidth": 2
          },
          "yaxis": {
           "automargin": true,
           "gridcolor": "white",
           "linecolor": "white",
           "ticks": "",
           "title": {
            "standoff": 15
           },
           "zerolinecolor": "white",
           "zerolinewidth": 2
          }
         }
        },
        "title": {
         "text": "Gantt Chart"
        },
        "xaxis": {
         "rangeselector": {
          "buttons": [
           {
            "count": 7,
            "label": "1w",
            "step": "day",
            "stepmode": "backward"
           },
           {
            "count": 1,
            "label": "1m",
            "step": "month",
            "stepmode": "backward"
           },
           {
            "count": 6,
            "label": "6m",
            "step": "month",
            "stepmode": "backward"
           },
           {
            "count": 1,
            "label": "YTD",
            "step": "year",
            "stepmode": "todate"
           },
           {
            "count": 1,
            "label": "1y",
            "step": "year",
            "stepmode": "backward"
           },
           {
            "step": "all"
           }
          ]
         },
         "showgrid": true,
         "type": "linear",
         "zeroline": false
        },
        "yaxis": {
         "autorange": false,
         "range": [
          -1,
          5
         ],
         "showgrid": false,
         "ticktext": [
          "W5.0",
          "W3.0",
          "W1.0",
          "W2.0"
         ],
         "tickvals": [
          0,
          1,
          2,
          3
         ],
         "zeroline": false
        }
       }
      }
     },
     "metadata": {},
     "output_type": "display_data"
    }
   ],
   "source": [
    "start_times = int_result\n",
    "print(assignments)\n",
    "print(start_times)\n",
    "data = []\n",
    "for i in range(len(assignments)):\n",
    "    if int(np.floor(assignments[i])) not in duration_lookup_table[operations[i]]:\n",
    "        duration = 1#0\n",
    "    else:\n",
    "        duration = duration_lookup_table[operations[i]][int(np.floor(assignments[i]))]\n",
    "    data.append([assignments[i], operations[i], start_times[i], duration])\n",
    "visualize(data)"
   ]
  },
  {
   "cell_type": "markdown",
   "metadata": {},
   "source": [
    "Simplify Data Structure"
   ]
  },
  {
   "cell_type": "code",
   "execution_count": null,
   "metadata": {},
   "outputs": [],
   "source": [
    "last_slot = last_time_slot\n",
    "first_slot = earliest_time_slot\n",
    "n_workstations = len(env.workstations)\n",
    "# skip resources for now\n",
    "n_jobs = 0\n",
    "n_recipes = len(env.recipes)\n",
    "\n",
    "alternative_tasks = dict()\n",
    "for recipe in env.recipes:\n",
    "    alternative_tasks[recipe.id] = dict()\n",
    "    for task in recipe.tasks:\n",
    "        if task.result_resources[0][1] == 1: # pseudo resource\n",
    "            if task.result_resources[0][0] not in alternative_tasks[recipe.id]:\n",
    "                alternative_tasks[recipe.id][task.result_resources[0][0]] = []\n",
    "            alternative_tasks[recipe.id][task.result_resources[0][0]].append(task.id)\n",
    "            n_jobs += 1\n",
    "\n",
    "job_durations = []\n",
    "for i in range(n_workstations):\n",
    "    job_durations.append([])\n",
    "    for j in range(n_jobs):\n",
    "        job_durations[i].append(env.get_duration(j, i+1)) # get duration for job (j = id) on workstation (i+1 = id, for some reason I started workstation IDs at 1)\n",
    "# NOTE: many tasks can be done on workstation 6 in this dataset for some reason\n",
    "#for key in alternative_tasks.keys():\n",
    "#    print(alternative_tasks[key]) # in theory, the tasks should be sorted correctly to resemble the stages\n",
    "# missing for now: translation of resources for resource constrained optimization\n"
   ]
  },
  {
   "cell_type": "code",
   "execution_count": null,
   "metadata": {},
   "outputs": [
    {
     "name": "stdout",
     "output_type": "stream",
     "text": [
      "[2429, 3787, 1795, 2820, 3892, 2700, 1392, 1914]\n",
      "[3597, 1438, 3391, 3707, 2298, 3086, 1674]\n"
     ]
    },
    {
     "ename": "TypeError",
     "evalue": "object of type 'int' has no len()",
     "output_type": "error",
     "traceback": [
      "\u001b[1;31m---------------------------------------------------------------------------\u001b[0m",
      "\u001b[1;31mTypeError\u001b[0m                                 Traceback (most recent call last)",
      "Cell \u001b[1;32mIn [18], line 33\u001b[0m\n\u001b[0;32m     31\u001b[0m order_for_index \u001b[38;5;241m=\u001b[39m []\n\u001b[0;32m     32\u001b[0m \u001b[38;5;28;01mfor\u001b[39;00m i \u001b[38;5;129;01min\u001b[39;00m \u001b[38;5;28mrange\u001b[39m(\u001b[38;5;28mlen\u001b[39m(orders)):\n\u001b[1;32m---> 33\u001b[0m     \u001b[38;5;28;01mfor\u001b[39;00m job \u001b[38;5;129;01min\u001b[39;00m \u001b[38;5;28mrange\u001b[39m(\u001b[38;5;28;43mlen\u001b[39;49m\u001b[43m(\u001b[49m\u001b[43mavailable_tasks\u001b[49m\u001b[43m[\u001b[49m\u001b[43morders\u001b[49m\u001b[43m[\u001b[49m\u001b[43mi\u001b[49m\u001b[43m]\u001b[49m\u001b[43m[\u001b[49m\u001b[38;5;241;43m0\u001b[39;49m\u001b[43m]\u001b[49m\u001b[43m]\u001b[49m\u001b[43m)\u001b[49m):\n\u001b[0;32m     34\u001b[0m         order_for_index\u001b[38;5;241m.\u001b[39mappend(i)\n\u001b[0;32m     35\u001b[0m \u001b[38;5;28mprint\u001b[39m(order_for_index)\n",
      "\u001b[1;31mTypeError\u001b[0m: object of type 'int' has no len()"
     ]
    }
   ],
   "source": [
    "available_tasks = []\n",
    "for recipe_id in alternative_tasks:\n",
    "    for pseudo_resource in alternative_tasks[recipe_id]:\n",
    "        available_tasks.append(pseudo_resource)\n",
    "def job_for_index(i):\n",
    "    recipe = available_tasks[orders[order_for_index[i]][0]]\n",
    "    job_index = 0\n",
    "    j = i\n",
    "    done = False\n",
    "    while j > 0 and not done:\n",
    "        if order_for_index[j] == order_for_index[j-1]:\n",
    "            job_index += 1\n",
    "        else:\n",
    "            done = True\n",
    "        j -= 1\n",
    "    return recipe[job_index]\n",
    "\n",
    "assignments = []\n",
    "start_times = []\n",
    "j = 0\n",
    "for i in range(len(solution)):\n",
    "    if j == 0:\n",
    "        assignments.append(solution[i])\n",
    "    else:\n",
    "        start_times.append(solution[i])\n",
    "    j += 1\n",
    "    if j > 1:\n",
    "        j = 0\n",
    "print(assignments)\n",
    "print(start_times)\n",
    "order_for_index = []\n",
    "for i in range(len(orders)):\n",
    "    for job in range(len(available_tasks[orders[i][0]])):\n",
    "        order_for_index.append(i)\n",
    "print(order_for_index)\n",
    "durations = []\n",
    "for i in range(len(assignments)):\n",
    "    # row = workstation, col = job\n",
    "    # fetch job from recipe -> get through order\n",
    "    # fetch workstation from assignments list\n",
    "    job = job_for_index(i)\n",
    "    durations.append(job_durations[assignments[i]][job])\n",
    "print(durations)"
   ]
  },
  {
   "cell_type": "code",
   "execution_count": null,
   "metadata": {},
   "outputs": [],
   "source": [
    "def is_first(jobs, index): # check if job is the first in it's order sequence\n",
    "    return jobs[index][2] == 0 or order_for_index[jobs[index][2]-1] != order_for_index[jobs[index][2]]\n",
    "\n",
    "def compress(solution):\n",
    "    assignments = []\n",
    "    start_times = []\n",
    "    durations = []\n",
    "    order_for_index = []\n",
    "\n",
    "    for i in range(len(orders)):\n",
    "        for job in range(len(available_tasks[orders[i][0]])):\n",
    "            order_for_index.append(i)\n",
    "    for i in range(len(assignments)):\n",
    "        job = job_for_index(i)\n",
    "        durations.append(job_durations[assignments[i]][job])\n",
    "    j = 0\n",
    "    for i in range(len(solution)):\n",
    "        if j == 0:\n",
    "            assignments.append(solution[i])\n",
    "        else:\n",
    "            start_times.append(solution[i])\n",
    "        j += 1\n",
    "        if j > 1:\n",
    "            j = 0\n",
    "    \n",
    "    w = dict()\n",
    "    for i in range(len(assignments)):\n",
    "        if assignments[i] not in w:\n",
    "            w[assignments[i]] = []\n",
    "        w[assignments[i]].append([start_times[i], start_times[i]+durations[i], i])\n",
    "    for workstation in w:\n",
    "        w[workstation] = sorted(w[workstation], key=lambda x: x[0])\n",
    "    new_solution = copy.deepcopy(start_times)\n",
    "    changes_made = True\n",
    "    while changes_made:\n",
    "        changes_made = False\n",
    "        for workstation in w:\n",
    "            for i in range(len(w[workstation])):\n",
    "                shift = 0\n",
    "                if is_first(w[workstation], i):\n",
    "                    if i == 0:\n",
    "                        shift = w[workstation][i][0]\n",
    "                    else:\n",
    "                        shift = w[workstation][i][0] - w[workstation][i-1][1]\n",
    "                else: # find end of previous job in sequence + end of job previous on the workstation -> move to closer one\n",
    "                        prev_end = new_solution[w[workstation][i][2]-1] + durations[w[workstation][i][2]-1]\n",
    "                        prev_shift = w[workstation][i][0] - prev_end\n",
    "                        if i == 0:\n",
    "                            shift = prev_shift\n",
    "                        else:\n",
    "                            shift = w[workstation][i][0] - w[workstation][i-1][1]\n",
    "                            if prev_shift < shift:\n",
    "                                shift = prev_shift\n",
    "                w[workstation][i][0] -= shift\n",
    "                w[workstation][i][1] -= shift\n",
    "                new_solution[w[workstation][i][2]] = w[workstation][i][0]\n",
    "            changes_made = changes_made or shift != 0\n",
    "    result = []\n",
    "    for i in range(len(new_solution)):\n",
    "        result.append(assignments[i])\n",
    "        result.append(new_solution[i])\n",
    "    return result"
   ]
  }
 ],
 "metadata": {
  "kernelspec": {
   "display_name": "Python 3.10.3 64-bit",
   "language": "python",
   "name": "python3"
  },
  "language_info": {
   "codemirror_mode": {
    "name": "ipython",
    "version": 3
   },
   "file_extension": ".py",
   "mimetype": "text/x-python",
   "name": "python",
   "nbconvert_exporter": "python",
   "pygments_lexer": "ipython3",
   "version": "3.10.3"
  },
  "orig_nbformat": 4,
  "vscode": {
   "interpreter": {
    "hash": "1e478315ea93f9f083d422a59179b37c6ead09cc57c0e51f656bb4b8796d5f86"
   }
  }
 },
 "nbformat": 4,
 "nbformat_minor": 2
}
