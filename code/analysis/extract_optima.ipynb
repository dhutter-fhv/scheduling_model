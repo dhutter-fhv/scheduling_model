{
 "cells": [
  {
   "cell_type": "code",
   "execution_count": 1,
   "metadata": {},
   "outputs": [],
   "source": [
    "import pandas as pd"
   ]
  },
  {
   "cell_type": "code",
   "execution_count": 2,
   "metadata": {},
   "outputs": [],
   "source": [
    "files = [r'C:\\Users\\huda\\Downloads\\results_ortools.txt', r'C:\\Users\\huda\\Downloads\\results_cplex_cp.txt']"
   ]
  },
  {
   "cell_type": "code",
   "execution_count": 3,
   "metadata": {},
   "outputs": [],
   "source": [
    "all = []\n",
    "for file in files:\n",
    "    file_content = pd.read_csv(file, names=['name','optimization_status','fitness_value','lower_bound', 'runtime', 'result_vector1', 'result_vector2', 'result_vector3', 'peak_cpu', 'peak_ram', 'resource_history', 'best_result_history'], sep=';')#, converters={'best_result_history': pd.eval})\n",
    "    data = pd.DataFrame(file_content)\n",
    "    all.append(data)"
   ]
  },
  {
   "cell_type": "code",
   "execution_count": 4,
   "metadata": {},
   "outputs": [],
   "source": [
    "filtered = []\n",
    "for data in all:\n",
    "    filtered.append(data.loc[data['optimization_status'] > 0.0])"
   ]
  },
  {
   "cell_type": "code",
   "execution_count": 6,
   "metadata": {},
   "outputs": [],
   "source": [
    "best_known = dict()\n",
    "for data in filtered:\n",
    "    for index, row in data.iterrows():\n",
    "        if row['name'] not in best_known:\n",
    "            best_known[row['name']] = float(row['fitness_value'])\n",
    "        elif float(row['fitness_value']) < best_known[row['name']]:\n",
    "            best_known[row['name']] = float(row['fitness_value'])"
   ]
  },
  {
   "cell_type": "code",
   "execution_count": 7,
   "metadata": {},
   "outputs": [
    {
     "data": {
      "text/plain": [
       "{'1_Brandimarte_1_workers.fjs': 38.0,\n",
       " '2a_Hurink_sdata_11_workers.fjs': 822.0,\n",
       " '2a_Hurink_sdata_1_workers.fjs': 52.0,\n",
       " '2a_Hurink_sdata_49_workers.fjs': 6687.0,\n",
       " '2a_Hurink_sdata_4_workers.fjs': 622.0,\n",
       " '2a_Hurink_sdata_52_workers.fjs': 7493.0,\n",
       " '2a_Hurink_sdata_8_workers.fjs': 565.0,\n",
       " '2b_Hurink_edata_1_workers.fjs': 51.0,\n",
       " '2b_Hurink_edata_52_workers.fjs': 7396.0,\n",
       " '2b_Hurink_edata_5_workers.fjs': 620.0,\n",
       " '2b_Hurink_edata_8_workers.fjs': 481.0,\n",
       " '2c_Hurink_rdata_1_workers.fjs': 44.0,\n",
       " '2d_Hurink_vdata_1_workers.fjs': 44.0,\n",
       " '2d_Hurink_vdata_20_workers.fjs': 585.0,\n",
       " '2d_Hurink_vdata_23_workers.fjs': 686.0,\n",
       " '2d_Hurink_vdata_54_workers.fjs': 5022.0,\n",
       " '2d_Hurink_vdata_55_workers.fjs': 3939.0,\n",
       " '2d_Hurink_vdata_60_workers.fjs': 682.0,\n",
       " '2d_Hurink_vdata_64_workers.fjs': 523.0,\n",
       " '2d_Hurink_vdata_65_workers.fjs': 598.0,\n",
       " '5_Kacem_1_workers.fjs': 11.0,\n",
       " '5_Kacem_2_workers.fjs': 10.0,\n",
       " '5_Kacem_3_workers.fjs': 7.0,\n",
       " '6_Fattahi_10_workers.fjs': 507.0,\n",
       " '6_Fattahi_11_workers.fjs': 445.0,\n",
       " '6_Fattahi_12_workers.fjs': 415.0,\n",
       " '6_Fattahi_13_workers.fjs': 439.0,\n",
       " '6_Fattahi_14_workers.fjs': 538.0,\n",
       " '6_Fattahi_15_workers.fjs': 472.0,\n",
       " '6_Fattahi_16_workers.fjs': 596.0,\n",
       " '6_Fattahi_1_workers.fjs': 69.0,\n",
       " '6_Fattahi_2_workers.fjs': 111.0,\n",
       " '6_Fattahi_3_workers.fjs': 240.0,\n",
       " '6_Fattahi_4_workers.fjs': 364.0,\n",
       " '6_Fattahi_5_workers.fjs': 117.0,\n",
       " '6_Fattahi_6_workers.fjs': 305.0,\n",
       " '6_Fattahi_7_workers.fjs': 386.0,\n",
       " '6_Fattahi_8_workers.fjs': 240.0,\n",
       " '6_Fattahi_9_workers.fjs': 199.0,\n",
       " '2b_Hurink_edata_53_workers.fjs': 6832.0,\n",
       " '2b_Hurink_edata_7_workers.fjs': 538.0,\n",
       " '2c_Hurink_rdata_19_workers.fjs': 656.0,\n",
       " '2c_Hurink_rdata_45_workers.fjs': 748.0,\n",
       " '2c_Hurink_rdata_55_workers.fjs': 4170.0,\n",
       " '2d_Hurink_vdata_19_workers.fjs': 651.0,\n",
       " '2d_Hurink_vdata_21_workers.fjs': 602.0,\n",
       " '2d_Hurink_vdata_22_workers.fjs': 562.0,\n",
       " '2d_Hurink_vdata_2_workers.fjs': 597.0,\n",
       " '2d_Hurink_vdata_39_workers.fjs': 854.0,\n",
       " '2d_Hurink_vdata_40_workers.fjs': 890.0,\n",
       " '2d_Hurink_vdata_41_workers.fjs': 849.0,\n",
       " '2d_Hurink_vdata_42_workers.fjs': 834.0,\n",
       " '2d_Hurink_vdata_43_workers.fjs': 861.0,\n",
       " '2d_Hurink_vdata_45_workers.fjs': 674.0,\n",
       " '2d_Hurink_vdata_57_workers.fjs': 629.0,\n",
       " '2d_Hurink_vdata_59_workers.fjs': 588.0,\n",
       " '2d_Hurink_vdata_61_workers.fjs': 531.0,\n",
       " '2d_Hurink_vdata_62_workers.fjs': 646.0,\n",
       " '2d_Hurink_vdata_66_workers.fjs': 614.0}"
      ]
     },
     "execution_count": 7,
     "metadata": {},
     "output_type": "execute_result"
    }
   ],
   "source": [
    "best_known"
   ]
  },
  {
   "cell_type": "code",
   "execution_count": 8,
   "metadata": {},
   "outputs": [
    {
     "name": "stdout",
     "output_type": "stream",
     "text": [
      "59\n"
     ]
    }
   ],
   "source": [
    "print(len(best_known))"
   ]
  },
  {
   "cell_type": "code",
   "execution_count": 10,
   "metadata": {},
   "outputs": [],
   "source": [
    "out_text = ''\n",
    "for key in best_known.keys():\n",
    "    out_text += f'{key};{best_known[key]}\\n'\n",
    "with open('best_known.txt', 'w') as out_file:\n",
    "    out_file.write(out_text)"
   ]
  }
 ],
 "metadata": {
  "kernelspec": {
   "display_name": "Python 3",
   "language": "python",
   "name": "python3"
  },
  "language_info": {
   "codemirror_mode": {
    "name": "ipython",
    "version": 3
   },
   "file_extension": ".py",
   "mimetype": "text/x-python",
   "name": "python",
   "nbconvert_exporter": "python",
   "pygments_lexer": "ipython3",
   "version": "3.10.3"
  }
 },
 "nbformat": 4,
 "nbformat_minor": 2
}
