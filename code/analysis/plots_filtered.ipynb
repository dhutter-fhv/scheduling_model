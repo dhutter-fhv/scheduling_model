{
 "cells": [
  {
   "cell_type": "code",
   "execution_count": 2,
   "metadata": {},
   "outputs": [],
   "source": [
    "import pandas as pd\n",
    "import matplotlib.pyplot as plt\n",
    "from benchmarkrewriter.benchmark_parser import WorkerBenchmarkParser\n",
    "import os\n",
    "\n",
    "path_to_benchmarks = r'/home/dhu/Downloads/benchmarks'\n",
    "path_to_results = r'/home/dhu/Downloads/results/'"
   ]
  },
  {
   "cell_type": "code",
   "execution_count": null,
   "metadata": {},
   "outputs": [],
   "source": [
    "benchmarks = os.listidr(path_to_benchmarks)\n",
    "result_files = os.listdir(path_to_results)\n"
   ]
  },
  {
   "cell_type": "code",
   "execution_count": null,
   "metadata": {},
   "outputs": [],
   "source": [
    "# TODO: make sure names match\n",
    "# read benchmarks\n",
    "benchmark_data = dict()\n",
    "# read results\n",
    "results = dict()"
   ]
  },
  {
   "cell_type": "code",
   "execution_count": null,
   "metadata": {},
   "outputs": [],
   "source": [
    "def calculate_value(fitness, best):\n",
    "    return ((fitness - best) / best)"
   ]
  },
  {
   "cell_type": "code",
   "execution_count": null,
   "metadata": {},
   "outputs": [],
   "source": [
    "def ecdf_inf(vectors, column, max : bool = False, n_instances : int = 402, labels : list[str] = [], instances : list[str] = []):\n",
    "    plot_vectors = []\n",
    "    for vector in vectors:\n",
    "        plot_vectors.append([[0.0],[0.0]])\n",
    "        i = 1\n",
    "        while i < len(vector):\n",
    "            if vector[i] == float('inf'):\n",
    "                break\n",
    "            if vector[i] == -float('inf'):\n",
    "                break\n",
    "            while i < len(vector) and vector[i] == vector[i-1]:\n",
    "                i += 1\n",
    "            plot_vectors[-1][0].append(vector[i-1])\n",
    "            plot_vectors[-1][1].append((i-1)/n_instances)\n",
    "            i += 1\n",
    "    for i in range(len(vectors)):\n",
    "        plt.plot(plot_vectors[i][0], plot_vectors[i][1], label=[labels[i]])\n",
    "    if column == 'fitness_value':\n",
    "        plt.xlim(-0.1, 1.0)\n",
    "        \n",
    "    plt.legend()\n",
    "    plt.title(column)\n",
    "    plt.show()"
   ]
  },
  {
   "cell_type": "code",
   "execution_count": null,
   "metadata": {},
   "outputs": [],
   "source": [
    "def get_min_max_value(filters, filter):\n",
    "    max_filter = str('max_'+filter)\n",
    "    min_filter = str('min_'+filter)\n",
    "    max_value = float('inf') if max_filter not in filters else filters[max_filter]\n",
    "    min_value = -float('inf') if min_filter not in filters else filters[min_filter]\n",
    "    return max_value, min_value\n",
    "\n",
    "def check(value, max, min):\n",
    "    return value >= max and value <= min\n",
    "# NOTE: names of benchmark instances and result instances need to match / be mapped\n",
    "def get_plot_vectors(results : dict, benchmarks : dict, filters : dict):\n",
    "    max_dv, min_dv = get_min_max_value(filters, 'dv')\n",
    "    max_flexibility, min_flexibility = get_min_max_value(filters, 'flexibility')\n",
    "    max_operations, min_operations = get_min_max_value(filters, 'operations')\n",
    "    # ...\n",
    "    plot_data = dict()\n",
    "    for key in benchmarks.keys():\n",
    "        if check(benchmarks[key]['dv'], max_dv, min_dv) and check(benchmarks[key]['flexibility'], max_flexibility, min_flexibility) and check(benchmarks[key]['n_operations'], max_operations, min_operations):    \n",
    "            plot_data[key] = dict()\n",
    "            best = float('inf')\n",
    "            for solver in results.keys():\n",
    "                if key in results[solver] and results[solver][key] < best:\n",
    "                    best = results[solver][key]\n",
    "            for solver in results.keys():\n",
    "                if key in results[solver]:\n",
    "                    plot_data[key][solver] = calculate_value(results[solver][key], best)\n",
    "                else:\n",
    "                    plot_data[key][solver] = float('inf')\n",
    "    vectors = []\n",
    "    for solver in results.keys():\n",
    "        vector = []\n",
    "        for instance in plot_data.keys():\n",
    "            vector.append(plot_data[instance][solver])\n",
    "        vector.sort()\n",
    "        vectors.append(vector)\n",
    "    return vectors\n",
    "\n"
   ]
  },
  {
   "cell_type": "code",
   "execution_count": null,
   "metadata": {},
   "outputs": [],
   "source": [
    "example_filter = {'max_dv': 0.2, 'min_flexibility': 0.3, 'min_operations': 50, 'max_operations': 200}\n",
    "vectors = get_plot_vectors(results, benchmark_data, example_filter)"
   ]
  }
 ],
 "metadata": {
  "kernelspec": {
   "display_name": ".venv",
   "language": "python",
   "name": "python3"
  },
  "language_info": {
   "codemirror_mode": {
    "name": "ipython",
    "version": 3
   },
   "file_extension": ".py",
   "mimetype": "text/x-python",
   "name": "python",
   "nbconvert_exporter": "python",
   "pygments_lexer": "ipython3",
   "version": "3.12.3"
  }
 },
 "nbformat": 4,
 "nbformat_minor": 2
}
