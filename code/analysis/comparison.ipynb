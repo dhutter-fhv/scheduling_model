{
 "cells": [
  {
   "cell_type": "code",
   "execution_count": 1,
   "metadata": {},
   "outputs": [],
   "source": [
    "import pandas as pd\n",
    "import matplotlib.pyplot as plt"
   ]
  },
  {
   "cell_type": "code",
   "execution_count": null,
   "metadata": {},
   "outputs": [],
   "source": [
    "all_data = []\n",
    "file_paths = ['data/results_ortools.txt', 'data/results_cplex_cp.txt', 'data/results_cplex_lp.txt', 'data/results_gurobi.txt', 'data/results_hexaly.txt', 'data/results_ga_best.txt', 'data/results_ga_median.txt']\n",
    "optimizers = ['ORTOOLS', 'CPLEX-CP', 'CPLEX-LP', 'GUROBI', 'HEXALY', 'GA-BEST', 'GA-MEDIAN']"
   ]
  },
  {
   "cell_type": "code",
   "execution_count": null,
   "metadata": {},
   "outputs": [],
   "source": [
    "def read_file(file : str) -> pd.DataFrame:\n",
    "    #file_content = pd.read_csv(file, names=['name','optimization_status','fitness_value','lower_bound', 'runtime', 'result_vector1', 'result_vector2', 'result_vector3', 'peak_cpu', 'peak_ram', 'resource_history', 'best_result_history'], sep=';')#, converters={'best_result_history': pd.eval})\n",
    "    # NOTE: fill optimization status for GA versions with 0\n",
    "    file_content = pd.read_csv(file, names=['name','optimization_status','fitness_value', 'runtime', 'resource_history', 'best_result_history'], sep=';')\n",
    "    df = pd.DataFrame(file_content)\n",
    "    return df[~df['name'].str.startswith('Error')]"
   ]
  },
  {
   "cell_type": "code",
   "execution_count": null,
   "metadata": {},
   "outputs": [],
   "source": [
    "for file in file_paths:\n",
    "    all_data.append(read_file(file))"
   ]
  },
  {
   "cell_type": "code",
   "execution_count": null,
   "metadata": {},
   "outputs": [],
   "source": [
    "def get_comparison(data, instance):\n",
    "    best = float('inf')\n",
    "    for key in data.keys():\n",
    "        optimizer = data[key]\n",
    "        fitness = optimizer.loc[optimizer['name'] == instance]['fitness_value']\n",
    "        if len(fitness.tolist()) > 1:\n",
    "            fitness = fitness.tolist()[1]\n",
    "        elif len(fitness.tolist()) == 0:\n",
    "            print(instance)\n",
    "            print(optimizer.loc[optimizer['name'] == instance])\n",
    "        else:\n",
    "            fitness = fitness.tolist()[0]\n",
    "        if fitness < best:\n",
    "            best = fitness\n",
    "    return best\n",
    "\n",
    "def calculate_value(fitness, best):\n",
    "    return ((fitness - best) / best)# * 100\n",
    "\n",
    "def skip(data, instance):\n",
    "    for optimizer in data.keys():\n",
    "        if not instance in data[optimizer].name.values:\n",
    "            return True\n",
    "    return False\n",
    "\n",
    "def get_cdf_comparison_vector(data : dict, column):\n",
    "    # TODO: handle missing results\n",
    "    results = []\n",
    "    for optimizer in data:\n",
    "        print(optimizer)\n",
    "        results.append([])\n",
    "    \n",
    "    for index, row in data[list(data.keys())[0]].iterrows():\n",
    "        instance = row['name']\n",
    "        if not skip(data, instance):\n",
    "            best = get_comparison(data, instance)\n",
    "            i = 0\n",
    "            for key in data.keys():\n",
    "                results[i].append(calculate_value(data[key].loc[data[key]['name'] == instance][column], best).item())\n",
    "                i += 1\n",
    "    for result in results:\n",
    "        result.sort()\n",
    "    return results"
   ]
  },
  {
   "cell_type": "code",
   "execution_count": null,
   "metadata": {},
   "outputs": [],
   "source": [
    "result_vectors = get_cdf_comparison_vector(all_data, 'fitness_value')"
   ]
  },
  {
   "cell_type": "code",
   "execution_count": null,
   "metadata": {},
   "outputs": [],
   "source": [
    "for i in range(len(result_vectors)):\n",
    "    plt.ecdf(result_vectors[i], label=optimizers[i])\n",
    "plt.legend()\n",
    "plt.show()"
   ]
  },
  {
   "cell_type": "code",
   "execution_count": null,
   "metadata": {},
   "outputs": [],
   "source": [
    "def get_history(df, instance):\n",
    "    fitness_history = []\n",
    "    timestamp_history = []\n",
    "    try:\n",
    "        values = pd.eval(df.loc[df['name'] == instance]['best_result_history'])\n",
    "        for entry in values:\n",
    "            for nested_entry in entry: # ??\n",
    "                timestamp_history.append(nested_entry[0])\n",
    "                fitness_history.append(nested_entry[1])\n",
    "    except:\n",
    "        pass\n",
    "    if len(fitness_history) > 0:\n",
    "        fitness_history.append(fitness_history[-1])\n",
    "        timestamp_history.append(1200 if timestamp_history[-1] < 1200 else timestamp_history[-1]) # max time limit\n",
    "    return fitness_history, timestamp_history"
   ]
  },
  {
   "cell_type": "code",
   "execution_count": null,
   "metadata": {},
   "outputs": [],
   "source": [
    "cols = 5\n",
    "rows = 81\n",
    "fig, axs = plt.subplots(rows, cols)\n",
    "fig.set_figheight(200)\n",
    "fig.set_figwidth(20)\n",
    "\n",
    "fig.suptitle(f'Fitness')\n",
    "fig.legend(handles=optimizers, loc='upper right')\n",
    "\n",
    "rows = all_data[-2]['name'].tolist()\n",
    "\n",
    "index = 0\n",
    "for instance in rows:\n",
    "    for i in range(len(all_data)):\n",
    "        data = all_data[i]\n",
    "        fitness, timestamps = get_history(data, instance)\n",
    "        if len(fitness) > 1:\n",
    "            axs[int(index / cols), index % cols].set_ylim(0, fitness[1])\n",
    "            axs[int(index / cols), index % cols].plot(timestamps, fitness, linestyle='solid')\n",
    "            axs[int(index / cols), index % cols].set_title(f'{instance}')\n",
    "    index += 1\n",
    "fig.tight_layout()"
   ]
  }
 ],
 "metadata": {
  "kernelspec": {
   "display_name": ".venv",
   "language": "python",
   "name": "python3"
  },
  "language_info": {
   "codemirror_mode": {
    "name": "ipython",
    "version": 3
   },
   "file_extension": ".py",
   "mimetype": "text/x-python",
   "name": "python",
   "nbconvert_exporter": "python",
   "pygments_lexer": "ipython3",
   "version": "3.12.3"
  }
 },
 "nbformat": 4,
 "nbformat_minor": 2
}
