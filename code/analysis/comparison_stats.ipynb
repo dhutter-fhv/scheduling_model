{
 "cells": [
  {
   "cell_type": "code",
   "execution_count": null,
   "metadata": {},
   "outputs": [],
   "source": [
    "import os\n",
    "import itertools"
   ]
  },
  {
   "cell_type": "code",
   "execution_count": null,
   "metadata": {},
   "outputs": [],
   "source": [
    "benchmark_path = '/benchmarks/'\n",
    "results_path = '/results/'"
   ]
  },
  {
   "cell_type": "code",
   "execution_count": null,
   "metadata": {},
   "outputs": [],
   "source": [
    "def read_benchmarks(path):\n",
    "    return dict()\n",
    "\n",
    "def read_results(path):\n",
    "    return dict()"
   ]
  },
  {
   "cell_type": "code",
   "execution_count": null,
   "metadata": {},
   "outputs": [],
   "source": [
    "benchmark_data = read_benchmarks(benchmark_path)\n",
    "results_data = read_results(results_path)"
   ]
  },
  {
   "cell_type": "code",
   "execution_count": null,
   "metadata": {},
   "outputs": [],
   "source": [
    "def calculate_value(fitness, best):\n",
    "    return ((fitness - best) / best)"
   ]
  },
  {
   "cell_type": "code",
   "execution_count": null,
   "metadata": {},
   "outputs": [],
   "source": [
    "best = dict()\n",
    "for instance in benchmark_data.keys():\n",
    "    best[instance] = None\n",
    "    for solver in results_data.keys():\n",
    "        if not best[instance] or (instance in results_data[solver] and results_data[solver][instance]['fitness_value'] < best[instance]):\n",
    "            best[instance] = int(results_data[solver][instance]['fitness_value']+0.5) # just making sure it's properly rounded\n",
    "best_solvers = dict()\n",
    "not_best_solvers = dict()\n",
    "for instance in best.keys():\n",
    "    best_solvers[instance] = []\n",
    "    not_best_solvers[instance] = []\n",
    "    for solver in results_data.keys():\n",
    "        if instance in results_data[solver] and results_data[solver][instance] == best[instance]:\n",
    "            best_solvers[instance].append(solver)\n",
    "        else:\n",
    "            not_best_solvers[instance].append((solver, calculate_value(results_data[solver][instance], best[instance])))\n",
    "\n"
   ]
  },
  {
   "cell_type": "code",
   "execution_count": null,
   "metadata": {},
   "outputs": [],
   "source": [
    "str_combs = []\n",
    "for i in range(1, len(best_solvers)+1):\n",
    "    els = [list(x) for x in itertools.combinations(results_data.keys(), i)]\n",
    "    for el in els:\n",
    "        str_combs.append('-'.join(el))"
   ]
  },
  {
   "cell_type": "code",
   "execution_count": null,
   "metadata": {},
   "outputs": [],
   "source": [
    "instances_with_one_best = []\n",
    "instances_with_some_best = []\n",
    "instances_with_all_best = []\n",
    "instances_all_best_including_ga_average = []\n",
    "combinations = dict()\n",
    "for comb in str_combs:\n",
    "    combinations[comb] = 0\n",
    "for instance in best_solvers.keys():\n",
    "    best_solvers[instance].sort() # for later\n",
    "    as_str = '-'.join(best_solvers[instance])\n",
    "    if as_str not in combinations:\n",
    "        combinations[as_str] = 0\n",
    "    combinations[as_str] += 1\n",
    "    if len(best_solvers[instance]) == 1:\n",
    "        instances_with_one_best.append(instance)\n",
    "    elif len(best_solvers[instance]) == len(results_data): # or whatever\n",
    "        instances_all_best_including_ga_average.append(instance)\n",
    "    elif len(best_solvers[instance]) == len(results_data)-1 and 'ga_average' not in best_solvers[instance]:\n",
    "        instances_with_all_best.append(instance)\n",
    "    else:\n",
    "        instances_with_some_best.append(instance)"
   ]
  },
  {
   "cell_type": "code",
   "execution_count": null,
   "metadata": {},
   "outputs": [],
   "source": [
    "print(f'Instances that could be solved by every solver: {len(instances_with_all_best)}')\n",
    "print(f'Instances that could be solved by every solver (including GA Average): {len(instances_all_best_including_ga_average)}')\n",
    "print(f'Instances that could only be solved by one sovler: {len(instances_with_one_best)}')"
   ]
  },
  {
   "cell_type": "code",
   "execution_count": null,
   "metadata": {},
   "outputs": [],
   "source": [
    "print('Co-Occurrences for best solution')\n",
    "print(combinations)"
   ]
  },
  {
   "cell_type": "code",
   "execution_count": null,
   "metadata": {},
   "outputs": [],
   "source": [
    "one_best_characteristics = dict()\n",
    "some_best_characteristics = dict()\n",
    "collected_best_characteristics = dict()\n",
    "for instance in instances_with_one_best:\n",
    "    for solver in instance:\n",
    "        if solver not in one_best_characteristics:\n",
    "            one_best_characteristics[solver] = dict()\n",
    "            one_best_characteristics[solver]['n_operations'] = []\n",
    "            one_best_characteristics[solver]['flexibility'] = []\n",
    "            one_best_characteristics[solver]['duration_variety'] = []\n",
    "            one_best_characteristics[solver]['n_machines'] = []\n",
    "        if solver not in collected_best_characteristics:\n",
    "            collected_best_characteristics[solver] = dict()\n",
    "            collected_best_characteristics[solver]['n_operations'] = []\n",
    "            collected_best_characteristics[solver]['flexibility'] = []\n",
    "            collected_best_characteristics[solver]['duration_variety'] = []\n",
    "            collected_best_characteristics[solver]['n_machines'] = []\n",
    "        one_best_characteristics[solver]['n_operations'].append(benchmark_data[instance]['n_operations'])\n",
    "        one_best_characteristics[solver]['flexibility'].append(benchmark_data[instance]['flexibility'])\n",
    "        one_best_characteristics[solver]['duration_variety'].append(benchmark_data[instance]['duration_variety'])\n",
    "        one_best_characteristics[solver]['n_machines'].append(benchmark_data[instance]['n_machines'])\n",
    "        collected_best_characteristics[solver]['n_operations'].append(benchmark_data[instance]['n_operations'])\n",
    "        collected_best_characteristics[solver]['flexibility'].append(benchmark_data[instance]['flexibility'])\n",
    "        collected_best_characteristics[solver]['duration_variety'].append(benchmark_data[instance]['duration_variety'])\n",
    "        collected_best_characteristics[solver]['n_machines'].append(benchmark_data[instance]['n_machines'])\n",
    "for instance in instances_with_some_best:\n",
    "    for solver in instance:\n",
    "        if solver not in some_best_characteristics:\n",
    "            some_best_characteristics[solver] = dict()\n",
    "            some_best_characteristics[solver]['n_operations'] = []\n",
    "            some_best_characteristics[solver]['flexibility'] = []\n",
    "            some_best_characteristics[solver]['duration_variety'] = []\n",
    "            some_best_characteristics[solver]['n_machines'] = []\n",
    "        if solver not in collected_best_characteristics:\n",
    "            collected_best_characteristics[solver] = dict()\n",
    "            collected_best_characteristics[solver]['n_operations'] = []\n",
    "            collected_best_characteristics[solver]['flexibility'] = []\n",
    "            collected_best_characteristics[solver]['duration_variety'] = []\n",
    "            collected_best_characteristics[solver]['n_machines'] = []\n",
    "        some_best_characteristics[solver]['n_operations'].append(benchmark_data[instance]['n_operations'])\n",
    "        some_best_characteristics[solver]['flexibility'].append(benchmark_data[instance]['flexibility'])\n",
    "        some_best_characteristics[solver]['duration_variety'].append(benchmark_data[instance]['duration_variety'])\n",
    "        some_best_characteristics[solver]['n_machines'].append(benchmark_data[instance]['n_machines'])\n",
    "        collected_best_characteristics[solver]['n_operations'].append(benchmark_data[instance]['n_operations'])\n",
    "        collected_best_characteristics[solver]['flexibility'].append(benchmark_data[instance]['flexibility'])\n",
    "        collected_best_characteristics[solver]['duration_variety'].append(benchmark_data[instance]['duration_variety'])\n",
    "        collected_best_characteristics[solver]['n_machines'].append(benchmark_data[instance]['n_machines'])"
   ]
  },
  {
   "cell_type": "code",
   "execution_count": null,
   "metadata": {},
   "outputs": [],
   "source": [
    "import statistics\n",
    "def get_stats(data, solver):\n",
    "    result = dict()\n",
    "    if solver in data:\n",
    "        result['count'] = len(data[solver])\n",
    "        result['operations_mean'] = statistics.mean(data[solver]['n_operations'])\n",
    "        result['operations_stdv'] = statistics.stdev(data[solver]['n_operations'])\n",
    "        result['flexibility_mean'] = statistics.mean(data[solver]['flexibility'])\n",
    "        result['flexibility_stdv'] = statistics.stdev(data[solver]['flexibility'])\n",
    "        result['duration_variety_mean'] = statistics.mean(data[solver]['duration_variety'])\n",
    "        result['duration_variety_stdv'] = statistics.stdev(data[solver]['duration_variety'])\n",
    "        result['machines_mean'] = statistics.mean(data[solver]['n_machines'])\n",
    "        result['machines_stdv'] = statistics.stdev(data[solver]['n_machines'])\n",
    "    return result\n",
    "\n",
    "stats_data = dict()\n",
    "for solver in collected_best_characteristics.keys():\n",
    "    if solver not in stats_data:\n",
    "        stats_data[solver] = dict()\n",
    "    if solver in one_best_characteristics:\n",
    "        stats_data[solver]['one_best'] = get_stats(one_best_characteristics, solver)\n",
    "    if solver in some_best_characteristics:\n",
    "        stats_data[solver]['some_best'] = get_stats(some_best_characteristics, solver)\n",
    "    if solver in collected_best_characteristics:\n",
    "        stats_data[solver]['collected_best'] = get_stats(collected_best_characteristics, solver)\n"
   ]
  },
  {
   "cell_type": "code",
   "execution_count": 3,
   "metadata": {},
   "outputs": [
    {
     "data": {
      "text/plain": [
       "3"
      ]
     },
     "execution_count": 3,
     "metadata": {},
     "output_type": "execute_result"
    }
   ],
   "source": [
    "test = dict({'a': 1, 'b': 2, 'c': 3})\n",
    "len(test)"
   ]
  },
  {
   "cell_type": "code",
   "execution_count": 5,
   "metadata": {},
   "outputs": [
    {
     "data": {
      "text/plain": [
       "'a-b-c'"
      ]
     },
     "execution_count": 5,
     "metadata": {},
     "output_type": "execute_result"
    }
   ],
   "source": [
    "l = ['a', 'b', 'c']\n",
    "'-'.join(l)"
   ]
  },
  {
   "cell_type": "code",
   "execution_count": 17,
   "metadata": {},
   "outputs": [],
   "source": [
    "import itertools\n",
    "combs = []\n",
    "str_combs = []\n",
    "for i in range(1, len(l)+1):\n",
    "    els = [list(x) for x in itertools.combinations(l, i)]\n",
    "    for el in els:\n",
    "        str_combs.append('-'.join(el))\n",
    "    combs.append(els)\n"
   ]
  },
  {
   "cell_type": "code",
   "execution_count": 16,
   "metadata": {},
   "outputs": [
    {
     "data": {
      "text/plain": [
       "[[['a'], ['b'], ['c']],\n",
       " [['a', 'b'], ['a', 'c'], ['b', 'c']],\n",
       " [['a', 'b', 'c']]]"
      ]
     },
     "execution_count": 16,
     "metadata": {},
     "output_type": "execute_result"
    }
   ],
   "source": [
    "combs"
   ]
  },
  {
   "cell_type": "code",
   "execution_count": 18,
   "metadata": {},
   "outputs": [
    {
     "data": {
      "text/plain": [
       "['a', 'b', 'c', 'a-b', 'a-c', 'b-c', 'a-b-c']"
      ]
     },
     "execution_count": 18,
     "metadata": {},
     "output_type": "execute_result"
    }
   ],
   "source": [
    "str_combs"
   ]
  }
 ],
 "metadata": {
  "kernelspec": {
   "display_name": ".venv",
   "language": "python",
   "name": "python3"
  },
  "language_info": {
   "codemirror_mode": {
    "name": "ipython",
    "version": 3
   },
   "file_extension": ".py",
   "mimetype": "text/x-python",
   "name": "python",
   "nbconvert_exporter": "python",
   "pygments_lexer": "ipython3",
   "version": "3.12.3"
  }
 },
 "nbformat": 4,
 "nbformat_minor": 2
}
