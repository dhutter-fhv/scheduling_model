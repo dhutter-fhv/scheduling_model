{
 "cells": [
  {
   "cell_type": "code",
   "execution_count": 1,
   "metadata": {},
   "outputs": [],
   "source": [
    "import os\n",
    "import itertools\n",
    "from benchmarkrewriter.benchmark_parser import BenchmarkParser, WorkerBenchmarkParser\n",
    "import json\n",
    "import pandas as pd\n",
    "import math"
   ]
  },
  {
   "cell_type": "code",
   "execution_count": 2,
   "metadata": {},
   "outputs": [],
   "source": [
    "benchmark_path = '/benchmarks/'\n",
    "results_path = '/results/'\n",
    "\n",
    "results_path = r'C:\\Users\\huda\\Downloads\\results\\\\'\n",
    "ga_path = r'C:\\Users\\huda\\Downloads\\ga_worker_results\\results.json'\n",
    "benchmark_path = r'C:\\Users\\huda\\Documents\\GitHub\\scheduling_model_jrc\\code\\upgrades\\benchmarks' # TODO: update to worker benchmarks\n",
    "benchmark_path = r'C:\\Users\\huda\\Documents\\GitHub\\scheduling_model_jrc\\code\\upgrades\\benchmarks_with_workers'"
   ]
  },
  {
   "cell_type": "code",
   "execution_count": 3,
   "metadata": {},
   "outputs": [],
   "source": [
    "def get_flexibility_and_dv(benchmark):\n",
    "    all = 0\n",
    "    unique = []\n",
    "    durations = benchmark.durations()\n",
    "    for i in range(len(durations)):\n",
    "        for j in range(len(durations[i])):\n",
    "            if durations[i][j] > 0:\n",
    "                if durations[i][j] not in unique:\n",
    "                    unique.append(durations[i][j])\n",
    "                all += 1.0\n",
    "\n",
    "    return (all / len(durations)) / benchmark.n_machines(), len(unique) / all\n",
    "\n",
    "def get_flexibility_and_dv_worker(benchmark):\n",
    "    all = 0\n",
    "    unique = []\n",
    "    durations = benchmark.durations()\n",
    "    for i in range(len(durations)):\n",
    "        for j in range(len(durations[i])):\n",
    "            for k in range(len(durations[i][j])):\n",
    "                if durations[i][j][k] > 0:\n",
    "                    if durations[i][j][k] not in unique:\n",
    "                        unique.append(durations[i][j][k])\n",
    "            if any([x > 0 for x in durations[i][j]]):\n",
    "                all+=1\n",
    "    return (all / len(durations)) / benchmark.n_machines(), len(unique) / all\n",
    "                "
   ]
  },
  {
   "cell_type": "code",
   "execution_count": 4,
   "metadata": {},
   "outputs": [],
   "source": [
    "def read_benchmarks(path):\n",
    "    sources = os.listdir(path)\n",
    "    result = dict()\n",
    "    for source in sources:\n",
    "        b_path = path + '\\\\' + source + '\\\\'\n",
    "        benchmarks = os.listdir(b_path)\n",
    "        for benchmark in benchmarks:\n",
    "            parser = BenchmarkParser()\n",
    "            #parser = WorkerBenchmarkParser()\n",
    "            data = parser.parse_benchmark(b_path + '\\\\' + benchmark)\n",
    "            f, dv = get_flexibility_and_dv(data)\n",
    "            #f, dv = get_flexibility_and_dv_worker(data)\n",
    "            result[benchmark[:-4]] = {'n_operations': data.n_operations(), 'flexibility': f, 'duration_variety': dv, 'n_machines': data.n_machines()}\n",
    "\n",
    "    return result\n",
    "\n",
    "def read_benchmarks_workers(path):\n",
    "    result = dict()\n",
    "    benchmarks = os.listdir(path)\n",
    "    for benchmark in benchmarks:\n",
    "        #parser = BenchmarkParser()\n",
    "        parser = WorkerBenchmarkParser()\n",
    "        data = parser.parse_benchmark(path + '\\\\' + benchmark)\n",
    "        #f, dv = get_flexibility_and_dv(data)\n",
    "        f, dv = get_flexibility_and_dv_worker(data)\n",
    "        instance_name = remap(benchmark[2:-12])\n",
    "        result[instance_name] = {'n_operations': data.n_operations(), 'flexibility': f, 'duration_variety': dv, 'n_machines': data.n_machines()}\n",
    "\n",
    "    return result\n",
    "\n",
    "def remap(name):\n",
    "    values = name.split('_')\n",
    "    if values[0].startswith('Behnke'):\n",
    "        return 'Behnke'+values[1]\n",
    "    if values[0].startswith('Brandimarte'):\n",
    "        return 'BrandimarteMk'+values[1]\n",
    "    if values[0].startswith('Chambers'):\n",
    "        return 'ChambersBarnes'+values[1]\n",
    "    if values[0].startswith('HurinkS'):\n",
    "        return 'HurinkSdata'+values[1]\n",
    "    if values[0].startswith('HurinkE'):\n",
    "        return 'HurinkEdata'+values[1]\n",
    "    if values[0].startswith('HurinkR'):\n",
    "        return 'HurinkRdata'+values[1]\n",
    "    if values[0].startswith('HurinkV'):\n",
    "        return 'HurinkVdata'+values[1]\n",
    "    if values[0].startswith('DP'):\n",
    "        return 'DPpaulli'+values[1]\n",
    "    if values[0].startswith('Kacem'):\n",
    "        return 'Kacem'+values[1]\n",
    "    if values[0].startswith('Fattahi'):\n",
    "        return 'Fattahi'+values[1]\n",
    "    return name\n",
    "\n",
    "def read_results(path):\n",
    "    files = os.listdir(path)\n",
    "    #files = [path_to_results + r'results_ortools.txt', path_to_results +r'results_cplex_cp.txt', path_to_results +r'results_gurobi.txt', path_to_results +r'results_hexaly_rewritten.txt', path_to_results +r'results_cplex_lp_rewritten.txt']\n",
    "    all_data = dict()\n",
    "    data_as_dict = dict()\n",
    "    for file in files:\n",
    "        file_content = pd.read_csv(path + file, names=['name','optimization_status','fitness_value','lower_bound', 'runtime', 'result_vector1', 'result_vector2', 'result_vector3', 'peak_cpu', 'peak_ram', 'resource_history', 'best_result_history'], sep=';')#, converters={'best_result_history': pd.eval})\n",
    "        df = pd.DataFrame(file_content)\n",
    "        name = file.split('\\\\')[-1][8:-4]\n",
    "        if name == 'hexaly_rewritten':\n",
    "            name = 'hexaly'#all_data['results_hexaly'] = df\n",
    "        elif name == 'cplex_lp_rewritten':\n",
    "            name = 'cplex_lp'#all_data['results_cplex_lp'] = df\n",
    "        all_data[name] = df\n",
    "        for index, row in df.iterrows():\n",
    "            if row['name'].startswith('Error'):\n",
    "                continue\n",
    "            if name not in data_as_dict:\n",
    "                data_as_dict[name] = dict()\n",
    "            instance_name = remap(row['name'][2:-12])\n",
    "            data_as_dict[name][instance_name] = row['fitness_value']\n",
    "    return data_as_dict\n",
    "\n",
    "def read_ga_results(path):\n",
    "    results = dict()\n",
    "    with open(path, 'r') as f:\n",
    "        ga_data = json.loads(f.read())\n",
    "\n",
    "        results['ga_best'] = dict()\n",
    "        results['ga_average'] = dict()\n",
    "        for key in ga_data.keys():\n",
    "            results['ga_best'][remap(key)] = ga_data[key]['best']\n",
    "            results['ga_average'][remap(key)] = ga_data[key]['average']\n",
    "    return results\n"
   ]
  },
  {
   "cell_type": "code",
   "execution_count": 5,
   "metadata": {},
   "outputs": [],
   "source": [
    "#benchmark_data = read_benchmarks(benchmark_path)\n",
    "benchmark_data = read_benchmarks_workers(benchmark_path)"
   ]
  },
  {
   "cell_type": "code",
   "execution_count": 6,
   "metadata": {},
   "outputs": [],
   "source": [
    "results_data = read_results(results_path)\n",
    "ga_data = read_ga_results(ga_path)\n",
    "for key in ga_data:\n",
    "    results_data[key] = ga_data[key]"
   ]
  },
  {
   "cell_type": "code",
   "execution_count": 7,
   "metadata": {},
   "outputs": [],
   "source": [
    "def calculate_value(fitness, best):\n",
    "    return ((fitness - best) / best)"
   ]
  },
  {
   "cell_type": "code",
   "execution_count": 8,
   "metadata": {},
   "outputs": [],
   "source": [
    "best = dict()\n",
    "for instance in benchmark_data.keys():\n",
    "    best[instance] = None\n",
    "    for solver in results_data.keys():\n",
    "        if instance in results_data[solver] and not math.isinf(results_data[solver][instance]) and (not best[instance] or results_data[solver][instance] < best[instance]):\n",
    "            best[instance] = int(results_data[solver][instance]+0.5) # just making sure it's properly rounded\n",
    "best_solvers = dict()\n",
    "not_best_solvers = dict()\n",
    "not_best_solvers_including_fail = dict()\n",
    "for instance in best.keys():\n",
    "    best_solvers[instance] = []\n",
    "    not_best_solvers[instance] = []\n",
    "    not_best_solvers_including_fail[instance] = []\n",
    "    for solver in results_data.keys():\n",
    "        if instance in results_data[solver] and results_data[solver][instance] == best[instance]:\n",
    "            best_solvers[instance].append(solver)\n",
    "        else:\n",
    "            if instance in results_data[solver]:\n",
    "                not_best_solvers[instance].append((solver, calculate_value(results_data[solver][instance], best[instance])))\n",
    "                not_best_solvers_including_fail[instance].append((solver, calculate_value(results_data[solver][instance], best[instance])))\n",
    "            else:\n",
    "                not_best_solvers_including_fail[instance].append((solver, float('inf')))\n"
   ]
  },
  {
   "cell_type": "code",
   "execution_count": 9,
   "metadata": {},
   "outputs": [],
   "source": [
    "str_combs = []\n",
    "for i in range(1, len(best_solvers)+1):\n",
    "    els = [list(x) for x in itertools.combinations(results_data.keys(), i)]\n",
    "    for el in els:\n",
    "        str_combs.append('-'.join(el))"
   ]
  },
  {
   "cell_type": "code",
   "execution_count": 10,
   "metadata": {},
   "outputs": [],
   "source": [
    "instances_with_one_best = []\n",
    "instances_with_some_best = []\n",
    "instances_with_all_best = []\n",
    "instances_all_best_including_ga_average = []\n",
    "combinations = dict()\n",
    "for comb in str_combs:\n",
    "    combinations[comb] = 0\n",
    "for instance in best_solvers.keys():\n",
    "    best_solvers[instance].sort() # for later\n",
    "    as_str = '-'.join(best_solvers[instance])\n",
    "    if as_str not in combinations:\n",
    "        combinations[as_str] = 0\n",
    "    combinations[as_str] += 1\n",
    "    if len(best_solvers[instance]) == 1:\n",
    "        instances_with_one_best.append(instance)\n",
    "    elif len(best_solvers[instance]) == len(results_data): # or whatever\n",
    "        instances_all_best_including_ga_average.append(instance)\n",
    "    elif 'ga_best' in best_solvers[instance] and 'cplex_cp' in best_solvers[instance] and 'cplex_lp' in best_solvers[instance] and 'gurobi' in best_solvers[instance] and 'hexaly' in best_solvers[instance] and 'ortools' in best_solvers[instance]:\n",
    "        #just testing\n",
    "        instances_with_all_best.append(instance)\n",
    "    elif len(best_solvers[instance]) == len(results_data)-1 and 'ga_average' not in best_solvers[instance]:\n",
    "        instances_with_all_best.append(instance)\n",
    "    else:\n",
    "        instances_with_some_best.append(instance)"
   ]
  },
  {
   "cell_type": "code",
   "execution_count": 11,
   "metadata": {},
   "outputs": [
    {
     "name": "stdout",
     "output_type": "stream",
     "text": [
      "Instances that could be solved by every solver: 0\n",
      "Instances that could be solved by every solver (including GA Average): 4\n",
      "Instances that could only be solved by one sovler: 335\n"
     ]
    }
   ],
   "source": [
    "print(f'Instances that could be solved by every solver: {len(instances_with_all_best)}')\n",
    "print(f'Instances that could be solved by every solver (including GA Average): {len(instances_all_best_including_ga_average)}')\n",
    "print(f'Instances that could only be solved by one sovler: {len(instances_with_one_best)}')"
   ]
  },
  {
   "cell_type": "code",
   "execution_count": 12,
   "metadata": {},
   "outputs": [
    {
     "name": "stdout",
     "output_type": "stream",
     "text": [
      "Co-Occurrences for best solution\n",
      "{'cplex_cp': 283, 'cplex_lp': 0, 'gurobi': 0, 'hexaly': 29, 'ortools': 15, 'ga_best': 8, 'ga_average': 0, 'cplex_cp-cplex_lp': 0, 'cplex_cp-gurobi': 0, 'cplex_cp-hexaly': 5, 'cplex_cp-ortools': 17, 'cplex_cp-ga_best': 5, 'cplex_cp-ga_average': 0, 'cplex_lp-gurobi': 0, 'cplex_lp-hexaly': 0, 'cplex_lp-ortools': 0, 'cplex_lp-ga_best': 0, 'cplex_lp-ga_average': 0, 'gurobi-hexaly': 0, 'gurobi-ortools': 0, 'gurobi-ga_best': 0, 'gurobi-ga_average': 0, 'hexaly-ortools': 0, 'hexaly-ga_best': 0, 'hexaly-ga_average': 0, 'ortools-ga_best': 0, 'ortools-ga_average': 0, 'ga_best-ga_average': 0, 'cplex_cp-cplex_lp-gurobi': 0, 'cplex_cp-cplex_lp-hexaly': 0, 'cplex_cp-cplex_lp-ortools': 0, 'cplex_cp-cplex_lp-ga_best': 0, 'cplex_cp-cplex_lp-ga_average': 0, 'cplex_cp-gurobi-hexaly': 0, 'cplex_cp-gurobi-ortools': 0, 'cplex_cp-gurobi-ga_best': 0, 'cplex_cp-gurobi-ga_average': 0, 'cplex_cp-hexaly-ortools': 16, 'cplex_cp-hexaly-ga_best': 0, 'cplex_cp-hexaly-ga_average': 0, 'cplex_cp-ortools-ga_best': 0, 'cplex_cp-ortools-ga_average': 0, 'cplex_cp-ga_best-ga_average': 0, 'cplex_lp-gurobi-hexaly': 0, 'cplex_lp-gurobi-ortools': 0, 'cplex_lp-gurobi-ga_best': 0, 'cplex_lp-gurobi-ga_average': 0, 'cplex_lp-hexaly-ortools': 0, 'cplex_lp-hexaly-ga_best': 0, 'cplex_lp-hexaly-ga_average': 0, 'cplex_lp-ortools-ga_best': 0, 'cplex_lp-ortools-ga_average': 0, 'cplex_lp-ga_best-ga_average': 0, 'gurobi-hexaly-ortools': 0, 'gurobi-hexaly-ga_best': 0, 'gurobi-hexaly-ga_average': 0, 'gurobi-ortools-ga_best': 0, 'gurobi-ortools-ga_average': 0, 'gurobi-ga_best-ga_average': 0, 'hexaly-ortools-ga_best': 0, 'hexaly-ortools-ga_average': 0, 'hexaly-ga_best-ga_average': 0, 'ortools-ga_best-ga_average': 0, 'cplex_cp-cplex_lp-gurobi-hexaly': 0, 'cplex_cp-cplex_lp-gurobi-ortools': 0, 'cplex_cp-cplex_lp-gurobi-ga_best': 0, 'cplex_cp-cplex_lp-gurobi-ga_average': 0, 'cplex_cp-cplex_lp-hexaly-ortools': 2, 'cplex_cp-cplex_lp-hexaly-ga_best': 0, 'cplex_cp-cplex_lp-hexaly-ga_average': 0, 'cplex_cp-cplex_lp-ortools-ga_best': 0, 'cplex_cp-cplex_lp-ortools-ga_average': 0, 'cplex_cp-cplex_lp-ga_best-ga_average': 0, 'cplex_cp-gurobi-hexaly-ortools': 3, 'cplex_cp-gurobi-hexaly-ga_best': 0, 'cplex_cp-gurobi-hexaly-ga_average': 0, 'cplex_cp-gurobi-ortools-ga_best': 0, 'cplex_cp-gurobi-ortools-ga_average': 0, 'cplex_cp-gurobi-ga_best-ga_average': 0, 'cplex_cp-hexaly-ortools-ga_best': 0, 'cplex_cp-hexaly-ortools-ga_average': 0, 'cplex_cp-hexaly-ga_best-ga_average': 0, 'cplex_cp-ortools-ga_best-ga_average': 0, 'cplex_lp-gurobi-hexaly-ortools': 0, 'cplex_lp-gurobi-hexaly-ga_best': 0, 'cplex_lp-gurobi-hexaly-ga_average': 0, 'cplex_lp-gurobi-ortools-ga_best': 0, 'cplex_lp-gurobi-ortools-ga_average': 0, 'cplex_lp-gurobi-ga_best-ga_average': 0, 'cplex_lp-hexaly-ortools-ga_best': 0, 'cplex_lp-hexaly-ortools-ga_average': 0, 'cplex_lp-hexaly-ga_best-ga_average': 0, 'cplex_lp-ortools-ga_best-ga_average': 0, 'gurobi-hexaly-ortools-ga_best': 0, 'gurobi-hexaly-ortools-ga_average': 0, 'gurobi-hexaly-ga_best-ga_average': 0, 'gurobi-ortools-ga_best-ga_average': 0, 'hexaly-ortools-ga_best-ga_average': 0, 'cplex_cp-cplex_lp-gurobi-hexaly-ortools': 0, 'cplex_cp-cplex_lp-gurobi-hexaly-ga_best': 0, 'cplex_cp-cplex_lp-gurobi-hexaly-ga_average': 0, 'cplex_cp-cplex_lp-gurobi-ortools-ga_best': 0, 'cplex_cp-cplex_lp-gurobi-ortools-ga_average': 0, 'cplex_cp-cplex_lp-gurobi-ga_best-ga_average': 0, 'cplex_cp-cplex_lp-hexaly-ortools-ga_best': 0, 'cplex_cp-cplex_lp-hexaly-ortools-ga_average': 0, 'cplex_cp-cplex_lp-hexaly-ga_best-ga_average': 0, 'cplex_cp-cplex_lp-ortools-ga_best-ga_average': 0, 'cplex_cp-gurobi-hexaly-ortools-ga_best': 0, 'cplex_cp-gurobi-hexaly-ortools-ga_average': 0, 'cplex_cp-gurobi-hexaly-ga_best-ga_average': 0, 'cplex_cp-gurobi-ortools-ga_best-ga_average': 0, 'cplex_cp-hexaly-ortools-ga_best-ga_average': 0, 'cplex_lp-gurobi-hexaly-ortools-ga_best': 0, 'cplex_lp-gurobi-hexaly-ortools-ga_average': 0, 'cplex_lp-gurobi-hexaly-ga_best-ga_average': 0, 'cplex_lp-gurobi-ortools-ga_best-ga_average': 0, 'cplex_lp-hexaly-ortools-ga_best-ga_average': 0, 'gurobi-hexaly-ortools-ga_best-ga_average': 0, 'cplex_cp-cplex_lp-gurobi-hexaly-ortools-ga_best': 0, 'cplex_cp-cplex_lp-gurobi-hexaly-ortools-ga_average': 0, 'cplex_cp-cplex_lp-gurobi-hexaly-ga_best-ga_average': 0, 'cplex_cp-cplex_lp-gurobi-ortools-ga_best-ga_average': 0, 'cplex_cp-cplex_lp-hexaly-ortools-ga_best-ga_average': 0, 'cplex_cp-gurobi-hexaly-ortools-ga_best-ga_average': 0, 'cplex_lp-gurobi-hexaly-ortools-ga_best-ga_average': 0, 'cplex_cp-cplex_lp-gurobi-hexaly-ortools-ga_best-ga_average': 0, 'cplex_cp-ga_average-ga_best': 1, 'ga_best-ortools': 1, 'cplex_cp-ga_average-ga_best-gurobi-hexaly-ortools': 3, 'cplex_cp-cplex_lp-ga_average-ga_best-gurobi-hexaly-ortools': 4, 'cplex_cp-cplex_lp-ga_average-ga_best-gurobi-ortools': 1, 'cplex_cp-cplex_lp-ga_average-ga_best-hexaly-ortools': 4, 'cplex_cp-ga_best-hexaly-ortools': 3, 'cplex_cp-ga_average-ga_best-hexaly-ortools': 2}\n",
      "[('cplex_cp', 283), ('hexaly', 29), ('cplex_cp-ortools', 17), ('cplex_cp-hexaly-ortools', 16), ('ortools', 15), ('ga_best', 8), ('cplex_cp-hexaly', 5), ('cplex_cp-ga_best', 5), ('cplex_cp-cplex_lp-ga_average-ga_best-gurobi-hexaly-ortools', 4), ('cplex_cp-cplex_lp-ga_average-ga_best-hexaly-ortools', 4), ('cplex_cp-gurobi-hexaly-ortools', 3), ('cplex_cp-ga_average-ga_best-gurobi-hexaly-ortools', 3), ('cplex_cp-ga_best-hexaly-ortools', 3), ('cplex_cp-cplex_lp-hexaly-ortools', 2), ('cplex_cp-ga_average-ga_best-hexaly-ortools', 2), ('cplex_cp-ga_average-ga_best', 1), ('ga_best-ortools', 1), ('cplex_cp-cplex_lp-ga_average-ga_best-gurobi-ortools', 1), ('cplex_lp', 0), ('gurobi', 0), ('ga_average', 0), ('cplex_cp-cplex_lp', 0), ('cplex_cp-gurobi', 0), ('cplex_cp-ga_average', 0), ('cplex_lp-gurobi', 0), ('cplex_lp-hexaly', 0), ('cplex_lp-ortools', 0), ('cplex_lp-ga_best', 0), ('cplex_lp-ga_average', 0), ('gurobi-hexaly', 0), ('gurobi-ortools', 0), ('gurobi-ga_best', 0), ('gurobi-ga_average', 0), ('hexaly-ortools', 0), ('hexaly-ga_best', 0), ('hexaly-ga_average', 0), ('ortools-ga_best', 0), ('ortools-ga_average', 0), ('ga_best-ga_average', 0), ('cplex_cp-cplex_lp-gurobi', 0), ('cplex_cp-cplex_lp-hexaly', 0), ('cplex_cp-cplex_lp-ortools', 0), ('cplex_cp-cplex_lp-ga_best', 0), ('cplex_cp-cplex_lp-ga_average', 0), ('cplex_cp-gurobi-hexaly', 0), ('cplex_cp-gurobi-ortools', 0), ('cplex_cp-gurobi-ga_best', 0), ('cplex_cp-gurobi-ga_average', 0), ('cplex_cp-hexaly-ga_best', 0), ('cplex_cp-hexaly-ga_average', 0), ('cplex_cp-ortools-ga_best', 0), ('cplex_cp-ortools-ga_average', 0), ('cplex_cp-ga_best-ga_average', 0), ('cplex_lp-gurobi-hexaly', 0), ('cplex_lp-gurobi-ortools', 0), ('cplex_lp-gurobi-ga_best', 0), ('cplex_lp-gurobi-ga_average', 0), ('cplex_lp-hexaly-ortools', 0), ('cplex_lp-hexaly-ga_best', 0), ('cplex_lp-hexaly-ga_average', 0), ('cplex_lp-ortools-ga_best', 0), ('cplex_lp-ortools-ga_average', 0), ('cplex_lp-ga_best-ga_average', 0), ('gurobi-hexaly-ortools', 0), ('gurobi-hexaly-ga_best', 0), ('gurobi-hexaly-ga_average', 0), ('gurobi-ortools-ga_best', 0), ('gurobi-ortools-ga_average', 0), ('gurobi-ga_best-ga_average', 0), ('hexaly-ortools-ga_best', 0), ('hexaly-ortools-ga_average', 0), ('hexaly-ga_best-ga_average', 0), ('ortools-ga_best-ga_average', 0), ('cplex_cp-cplex_lp-gurobi-hexaly', 0), ('cplex_cp-cplex_lp-gurobi-ortools', 0), ('cplex_cp-cplex_lp-gurobi-ga_best', 0), ('cplex_cp-cplex_lp-gurobi-ga_average', 0), ('cplex_cp-cplex_lp-hexaly-ga_best', 0), ('cplex_cp-cplex_lp-hexaly-ga_average', 0), ('cplex_cp-cplex_lp-ortools-ga_best', 0), ('cplex_cp-cplex_lp-ortools-ga_average', 0), ('cplex_cp-cplex_lp-ga_best-ga_average', 0), ('cplex_cp-gurobi-hexaly-ga_best', 0), ('cplex_cp-gurobi-hexaly-ga_average', 0), ('cplex_cp-gurobi-ortools-ga_best', 0), ('cplex_cp-gurobi-ortools-ga_average', 0), ('cplex_cp-gurobi-ga_best-ga_average', 0), ('cplex_cp-hexaly-ortools-ga_best', 0), ('cplex_cp-hexaly-ortools-ga_average', 0), ('cplex_cp-hexaly-ga_best-ga_average', 0), ('cplex_cp-ortools-ga_best-ga_average', 0), ('cplex_lp-gurobi-hexaly-ortools', 0), ('cplex_lp-gurobi-hexaly-ga_best', 0), ('cplex_lp-gurobi-hexaly-ga_average', 0), ('cplex_lp-gurobi-ortools-ga_best', 0), ('cplex_lp-gurobi-ortools-ga_average', 0), ('cplex_lp-gurobi-ga_best-ga_average', 0), ('cplex_lp-hexaly-ortools-ga_best', 0), ('cplex_lp-hexaly-ortools-ga_average', 0), ('cplex_lp-hexaly-ga_best-ga_average', 0), ('cplex_lp-ortools-ga_best-ga_average', 0), ('gurobi-hexaly-ortools-ga_best', 0), ('gurobi-hexaly-ortools-ga_average', 0), ('gurobi-hexaly-ga_best-ga_average', 0), ('gurobi-ortools-ga_best-ga_average', 0), ('hexaly-ortools-ga_best-ga_average', 0), ('cplex_cp-cplex_lp-gurobi-hexaly-ortools', 0), ('cplex_cp-cplex_lp-gurobi-hexaly-ga_best', 0), ('cplex_cp-cplex_lp-gurobi-hexaly-ga_average', 0), ('cplex_cp-cplex_lp-gurobi-ortools-ga_best', 0), ('cplex_cp-cplex_lp-gurobi-ortools-ga_average', 0), ('cplex_cp-cplex_lp-gurobi-ga_best-ga_average', 0), ('cplex_cp-cplex_lp-hexaly-ortools-ga_best', 0), ('cplex_cp-cplex_lp-hexaly-ortools-ga_average', 0), ('cplex_cp-cplex_lp-hexaly-ga_best-ga_average', 0), ('cplex_cp-cplex_lp-ortools-ga_best-ga_average', 0), ('cplex_cp-gurobi-hexaly-ortools-ga_best', 0), ('cplex_cp-gurobi-hexaly-ortools-ga_average', 0), ('cplex_cp-gurobi-hexaly-ga_best-ga_average', 0), ('cplex_cp-gurobi-ortools-ga_best-ga_average', 0), ('cplex_cp-hexaly-ortools-ga_best-ga_average', 0), ('cplex_lp-gurobi-hexaly-ortools-ga_best', 0), ('cplex_lp-gurobi-hexaly-ortools-ga_average', 0), ('cplex_lp-gurobi-hexaly-ga_best-ga_average', 0), ('cplex_lp-gurobi-ortools-ga_best-ga_average', 0), ('cplex_lp-hexaly-ortools-ga_best-ga_average', 0), ('gurobi-hexaly-ortools-ga_best-ga_average', 0), ('cplex_cp-cplex_lp-gurobi-hexaly-ortools-ga_best', 0), ('cplex_cp-cplex_lp-gurobi-hexaly-ortools-ga_average', 0), ('cplex_cp-cplex_lp-gurobi-hexaly-ga_best-ga_average', 0), ('cplex_cp-cplex_lp-gurobi-ortools-ga_best-ga_average', 0), ('cplex_cp-cplex_lp-hexaly-ortools-ga_best-ga_average', 0), ('cplex_cp-gurobi-hexaly-ortools-ga_best-ga_average', 0), ('cplex_lp-gurobi-hexaly-ortools-ga_best-ga_average', 0), ('cplex_cp-cplex_lp-gurobi-hexaly-ortools-ga_best-ga_average', 0)]\n"
     ]
    }
   ],
   "source": [
    "print('Co-Occurrences for best solution')\n",
    "print(combinations)\n",
    "comb_as_tuple = [(key, combinations[key]) for key in combinations]\n",
    "comb_as_tuple.sort(key=lambda x: x[1], reverse=True)\n",
    "print(comb_as_tuple)"
   ]
  },
  {
   "cell_type": "code",
   "execution_count": 13,
   "metadata": {},
   "outputs": [
    {
     "data": {
      "image/png": "[encoded data removed]",
      "text/plain": [
       "<Figure size 640x480 with 1 Axes>"
      ]
     },
     "metadata": {},
     "output_type": "display_data"
    }
   ],
   "source": [
    "import matplotlib.pyplot as plt\n",
    "\n",
    "plt.title('Amount Best Result achieved')\n",
    "plt.bar([x[0] for x in comb_as_tuple if x[1] > 0 and x[0] != ''], [x[1] for x in comb_as_tuple if x[1] > 0 and x[0] != ''])\n",
    "plt.xticks(rotation=90)\n",
    "plt.show()"
   ]
  },
  {
   "cell_type": "code",
   "execution_count": 14,
   "metadata": {},
   "outputs": [],
   "source": [
    "one_best_characteristics = dict()\n",
    "some_best_characteristics = dict()\n",
    "collected_best_characteristics = dict()\n",
    "for instance in instances_with_one_best:\n",
    "    for solver in best_solvers[instance]:\n",
    "        if solver not in one_best_characteristics:\n",
    "            one_best_characteristics[solver] = dict()\n",
    "            one_best_characteristics[solver]['n_operations'] = []\n",
    "            one_best_characteristics[solver]['flexibility'] = []\n",
    "            one_best_characteristics[solver]['duration_variety'] = []\n",
    "            one_best_characteristics[solver]['n_machines'] = []\n",
    "        if solver not in collected_best_characteristics:\n",
    "            collected_best_characteristics[solver] = dict()\n",
    "            collected_best_characteristics[solver]['n_operations'] = []\n",
    "            collected_best_characteristics[solver]['flexibility'] = []\n",
    "            collected_best_characteristics[solver]['duration_variety'] = []\n",
    "            collected_best_characteristics[solver]['n_machines'] = []\n",
    "        one_best_characteristics[solver]['n_operations'].append(benchmark_data[instance]['n_operations'])\n",
    "        one_best_characteristics[solver]['flexibility'].append(benchmark_data[instance]['flexibility'])\n",
    "        one_best_characteristics[solver]['duration_variety'].append(benchmark_data[instance]['duration_variety'])\n",
    "        one_best_characteristics[solver]['n_machines'].append(benchmark_data[instance]['n_machines'])\n",
    "        collected_best_characteristics[solver]['n_operations'].append(benchmark_data[instance]['n_operations'])\n",
    "        collected_best_characteristics[solver]['flexibility'].append(benchmark_data[instance]['flexibility'])\n",
    "        collected_best_characteristics[solver]['duration_variety'].append(benchmark_data[instance]['duration_variety'])\n",
    "        collected_best_characteristics[solver]['n_machines'].append(benchmark_data[instance]['n_machines'])\n",
    "for instance in instances_with_some_best:\n",
    "    for solver in best_solvers[instance]:\n",
    "        if solver not in some_best_characteristics:\n",
    "            some_best_characteristics[solver] = dict()\n",
    "            some_best_characteristics[solver]['n_operations'] = []\n",
    "            some_best_characteristics[solver]['flexibility'] = []\n",
    "            some_best_characteristics[solver]['duration_variety'] = []\n",
    "            some_best_characteristics[solver]['n_machines'] = []\n",
    "        if solver not in collected_best_characteristics:\n",
    "            collected_best_characteristics[solver] = dict()\n",
    "            collected_best_characteristics[solver]['n_operations'] = []\n",
    "            collected_best_characteristics[solver]['flexibility'] = []\n",
    "            collected_best_characteristics[solver]['duration_variety'] = []\n",
    "            collected_best_characteristics[solver]['n_machines'] = []\n",
    "        some_best_characteristics[solver]['n_operations'].append(benchmark_data[instance]['n_operations'])\n",
    "        some_best_characteristics[solver]['flexibility'].append(benchmark_data[instance]['flexibility'])\n",
    "        some_best_characteristics[solver]['duration_variety'].append(benchmark_data[instance]['duration_variety'])\n",
    "        some_best_characteristics[solver]['n_machines'].append(benchmark_data[instance]['n_machines'])\n",
    "        collected_best_characteristics[solver]['n_operations'].append(benchmark_data[instance]['n_operations'])\n",
    "        collected_best_characteristics[solver]['flexibility'].append(benchmark_data[instance]['flexibility'])\n",
    "        collected_best_characteristics[solver]['duration_variety'].append(benchmark_data[instance]['duration_variety'])\n",
    "        collected_best_characteristics[solver]['n_machines'].append(benchmark_data[instance]['n_machines'])"
   ]
  },
  {
   "cell_type": "code",
   "execution_count": 15,
   "metadata": {},
   "outputs": [],
   "source": [
    "import statistics\n",
    "def get_stats(data, solver):\n",
    "    result = dict()\n",
    "    if solver in data:\n",
    "        result['count'] = len(data[solver]['n_operations'])\n",
    "        result['operations_mean'] = statistics.mean(data[solver]['n_operations'])\n",
    "        result['operations_stdv'] = statistics.stdev(data[solver]['n_operations'])\n",
    "        result['flexibility_mean'] = statistics.mean(data[solver]['flexibility'])\n",
    "        result['flexibility_stdv'] = statistics.stdev(data[solver]['flexibility'])\n",
    "        result['duration_variety_mean'] = statistics.mean(data[solver]['duration_variety'])\n",
    "        result['duration_variety_stdv'] = statistics.stdev(data[solver]['duration_variety'])\n",
    "        result['machines_mean'] = statistics.mean(data[solver]['n_machines'])\n",
    "        result['machines_stdv'] = statistics.stdev(data[solver]['n_machines'])\n",
    "    return result\n",
    "\n",
    "stats_data = dict()\n",
    "for solver in collected_best_characteristics.keys():\n",
    "    if solver not in stats_data:\n",
    "        stats_data[solver] = dict()\n",
    "    if solver in one_best_characteristics:\n",
    "        stats_data[solver]['one_best'] = get_stats(one_best_characteristics, solver)\n",
    "    if solver in some_best_characteristics:\n",
    "        stats_data[solver]['some_best'] = get_stats(some_best_characteristics, solver)\n",
    "    if solver in collected_best_characteristics:\n",
    "        stats_data[solver]['collected_best'] = get_stats(collected_best_characteristics, solver)\n"
   ]
  },
  {
   "cell_type": "code",
   "execution_count": 23,
   "metadata": {},
   "outputs": [],
   "source": [
    "def to_table_rows(data):\n",
    "    table = ''\n",
    "    for key in data:\n",
    "        row = []\n",
    "        if key == 'one_best':\n",
    "            name = 'Single Best'\n",
    "        elif key == 'some_best':\n",
    "            name = 'Shared Best'\n",
    "        else:\n",
    "            name = 'Combined'\n",
    "        row.append(name)\n",
    "        row.append('{:.4f}'.format(data[key]['count']))\n",
    "        row.append('{:.4f}'.format(data[key]['machines_mean']))\n",
    "        row.append('{:.4f}'.format(data[key]['machines_stdv']))\n",
    "        row.append('{:.4f}'.format(data[key]['operations_mean']))\n",
    "        row.append('{:.4f}'.format(data[key]['operations_stdv']))\n",
    "        row.append('{:.4f}'.format(data[key]['flexibility_mean']))\n",
    "        row.append('{:.4f}'.format(data[key]['flexibility_stdv']))\n",
    "        row.append('{:.4f}'.format(data[key]['duration_variety_mean']))\n",
    "        row.append('{:.4f}'.format(data[key]['duration_variety_stdv']))\n",
    "        table += ' & '.join(row)[:-1] + '\\\\'\n",
    "    return table"
   ]
  },
  {
   "cell_type": "code",
   "execution_count": 24,
   "metadata": {},
   "outputs": [
    {
     "data": {
      "text/plain": [
       "'Single Best & 283.0000 & 14.1413 & 12.5521 & 175.9647 & 112.4890 & 0.2751 & 0.1489 & 0.5515 & 0.769\\\\Shared Best & 62.0000 & 9.0968 & 10.8548 & 64.3226 & 52.9753 & 0.3818 & 0.2549 & 1.2659 & 1.135\\\\Combined & 345.0000 & 13.2348 & 12.4022 & 155.9014 & 112.7542 & 0.2943 & 0.1772 & 0.6799 & 0.888\\\\'"
      ]
     },
     "execution_count": 24,
     "metadata": {},
     "output_type": "execute_result"
    }
   ],
   "source": [
    "to_table_rows(stats_data['cplex_cp'])"
   ]
  },
  {
   "cell_type": "code",
   "execution_count": 25,
   "metadata": {},
   "outputs": [
    {
     "data": {
      "text/plain": [
       "'Single Best & 8.0000 & 54.3750 & 15.9099 & 217.5000 & 192.4095 & 0.2979 & 0.0504 & 0.0183 & 0.014\\\\Shared Best & 20.0000 & 13.3000 & 17.9827 & 51.2500 & 76.3923 & 0.5725 & 0.3147 & 1.2959 & 1.211\\\\Combined & 28.0000 & 25.0357 & 25.5002 & 98.7500 & 139.8368 & 0.4940 & 0.2937 & 0.9309 & 1.174\\\\'"
      ]
     },
     "execution_count": 25,
     "metadata": {},
     "output_type": "execute_result"
    }
   ],
   "source": [
    "to_table_rows(stats_data['ga_best'])"
   ]
  },
  {
   "cell_type": "code",
   "execution_count": 26,
   "metadata": {},
   "outputs": [
    {
     "data": {
      "text/plain": [
       "'Single Best & 15.0000 & 7.4667 & 2.4456 & 78.0000 & 29.3331 & 0.1975 & 0.1134 & 1.6282 & 1.506\\\\Shared Best & 52.0000 & 6.2692 & 3.0040 & 56.3462 & 39.8216 & 0.3920 & 0.2554 & 1.4513 & 1.140\\\\Combined & 67.0000 & 6.5373 & 2.9146 & 61.1940 & 38.6081 & 0.3485 & 0.2445 & 1.4909 & 1.221\\\\'"
      ]
     },
     "execution_count": 26,
     "metadata": {},
     "output_type": "execute_result"
    }
   ],
   "source": [
    "to_table_rows(stats_data['ortools'])"
   ]
  },
  {
   "cell_type": "code",
   "execution_count": 27,
   "metadata": {},
   "outputs": [
    {
     "data": {
      "text/plain": [
       "'Single Best & 29.0000 & 10.1034 & 1.9151 & 116.7586 & 52.2478 & 0.1322 & 0.0876 & 1.0510 & 1.062\\\\Shared Best & 38.0000 & 6.3421 & 3.2572 & 57.6842 & 52.8466 & 0.3886 & 0.2779 & 1.4358 & 1.124\\\\Combined & 67.0000 & 7.9701 & 3.3211 & 83.2537 & 59.9453 & 0.2776 & 0.2509 & 1.2693 & 1.106\\\\'"
      ]
     },
     "execution_count": 27,
     "metadata": {},
     "output_type": "execute_result"
    }
   ],
   "source": [
    "to_table_rows(stats_data['hexaly'])"
   ]
  },
  {
   "cell_type": "code",
   "execution_count": 28,
   "metadata": {},
   "outputs": [
    {
     "data": {
      "text/plain": [
       "'Shared Best & 7.0000 & 4.2857 & 2.2147 & 19.1429 & 17.2668 & 0.5388 & 0.3409 & 1.8079 & 0.912\\\\Combined & 7.0000 & 4.2857 & 2.2147 & 19.1429 & 17.2668 & 0.5388 & 0.3409 & 1.8079 & 0.912\\\\'"
      ]
     },
     "execution_count": 28,
     "metadata": {},
     "output_type": "execute_result"
    }
   ],
   "source": [
    "to_table_rows(stats_data['cplex_lp'])"
   ]
  },
  {
   "cell_type": "code",
   "execution_count": 29,
   "metadata": {},
   "outputs": [
    {
     "data": {
      "text/plain": [
       "'Shared Best & 7.0000 & 6.5714 & 2.1492 & 30.0000 & 21.7025 & 0.5914 & 0.2848 & 1.3214 & 1.471\\\\Combined & 7.0000 & 6.5714 & 2.1492 & 30.0000 & 21.7025 & 0.5914 & 0.2848 & 1.3214 & 1.471\\\\'"
      ]
     },
     "execution_count": 29,
     "metadata": {},
     "output_type": "execute_result"
    }
   ],
   "source": [
    "to_table_rows(stats_data['gurobi'])"
   ]
  },
  {
   "cell_type": "code",
   "execution_count": 30,
   "metadata": {},
   "outputs": [],
   "source": [
    "row= ['a', 'b', 'c']\n",
    "x= '&'.join(row) + '\\n'"
   ]
  },
  {
   "cell_type": "code",
   "execution_count": 31,
   "metadata": {},
   "outputs": [
    {
     "name": "stdout",
     "output_type": "stream",
     "text": [
      "a&b&c\n",
      "\n"
     ]
    }
   ],
   "source": [
    "print(x)"
   ]
  },
  {
   "cell_type": "code",
   "execution_count": 32,
   "metadata": {},
   "outputs": [
    {
     "data": {
      "text/plain": [
       "3"
      ]
     },
     "execution_count": 32,
     "metadata": {},
     "output_type": "execute_result"
    }
   ],
   "source": [
    "test = dict({'a': 1, 'b': 2, 'c': 3})\n",
    "len(test)"
   ]
  },
  {
   "cell_type": "code",
   "execution_count": 33,
   "metadata": {},
   "outputs": [
    {
     "data": {
      "text/plain": [
       "'a-b-c'"
      ]
     },
     "execution_count": 33,
     "metadata": {},
     "output_type": "execute_result"
    }
   ],
   "source": [
    "l = ['a', 'b', 'c']\n",
    "'-'.join(l)"
   ]
  },
  {
   "cell_type": "code",
   "execution_count": 34,
   "metadata": {},
   "outputs": [],
   "source": [
    "import itertools\n",
    "combs = []\n",
    "str_combs = []\n",
    "for i in range(1, len(l)+1):\n",
    "    els = [list(x) for x in itertools.combinations(l, i)]\n",
    "    for el in els:\n",
    "        str_combs.append('-'.join(el))\n",
    "    combs.append(els)\n"
   ]
  },
  {
   "cell_type": "code",
   "execution_count": 35,
   "metadata": {},
   "outputs": [
    {
     "data": {
      "text/plain": [
       "[[['a'], ['b'], ['c']],\n",
       " [['a', 'b'], ['a', 'c'], ['b', 'c']],\n",
       " [['a', 'b', 'c']]]"
      ]
     },
     "execution_count": 35,
     "metadata": {},
     "output_type": "execute_result"
    }
   ],
   "source": [
    "combs"
   ]
  },
  {
   "cell_type": "code",
   "execution_count": 36,
   "metadata": {},
   "outputs": [
    {
     "data": {
      "text/plain": [
       "['a', 'b', 'c', 'a-b', 'a-c', 'b-c', 'a-b-c']"
      ]
     },
     "execution_count": 36,
     "metadata": {},
     "output_type": "execute_result"
    }
   ],
   "source": [
    "str_combs"
   ]
  }
 ],
 "metadata": {
  "kernelspec": {
   "display_name": "Python 3",
   "language": "python",
   "name": "python3"
  },
  "language_info": {
   "codemirror_mode": {
    "name": "ipython",
    "version": 3
   },
   "file_extension": ".py",
   "mimetype": "text/x-python",
   "name": "python",
   "nbconvert_exporter": "python",
   "pygments_lexer": "ipython3",
   "version": "3.10.3"
  }
 },
 "nbformat": 4,
 "nbformat_minor": 2
}
