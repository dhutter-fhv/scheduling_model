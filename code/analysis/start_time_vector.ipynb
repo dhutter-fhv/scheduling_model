{
 "cells": [
  {
   "cell_type": "markdown",
   "metadata": {},
   "source": [
    "### Functions to translate sequence encodings to start time encodings"
   ]
  },
  {
   "cell_type": "code",
   "execution_count": 5,
   "metadata": {},
   "outputs": [
    {
     "name": "stdout",
     "output_type": "stream",
     "text": [
      "[0, 35, 5, 35, 140, 55, 70]\n"
     ]
    }
   ],
   "source": [
    "# creates a map containing job operations according to job operation assignment and the duration according to the assignment vector\n",
    "def get_sorted_duration_map(job_operation_assignment, durations):\n",
    "    sorted_result_map = {}\n",
    "    operation_count = {}\n",
    "\n",
    "    for i, job in enumerate(job_operation_assignment):\n",
    "        if job not in operation_count:\n",
    "            operation_count[job] = 0\n",
    "        else:\n",
    "            operation_count[job] += 1\n",
    "\n",
    "        operation = operation_count[job]\n",
    "        sorted_result_map[(job, operation)] = durations[i]\n",
    "\n",
    "    return sorted_result_map\n",
    "\n",
    "# creates an object which contains neccessary information for determining start times - maps job operation, machine and duration \n",
    "def create_info_map(job_sequence, sorted_result_map, machine_assignment):\n",
    "    occurrences = {}\n",
    "    info = []\n",
    "\n",
    "    for i, job in enumerate(job_sequence):\n",
    "        if job not in occurrences:\n",
    "            occurrences[job] = 0\n",
    "        else:\n",
    "            occurrences[job] += 1\n",
    "\n",
    "        operation = occurrences[job]\n",
    "        machine = machine_assignment[i]\n",
    "        duration = sorted_result_map[(job, operation)][machine]\n",
    "\n",
    "        info.append(((job, operation), machine, duration))\n",
    "    \n",
    "    return info\n",
    "\n",
    "# takes start times in order of the sequence vector and sorts them according to the job operation assignment\n",
    "def sort_start_times(sorted_result_map, start_times):\n",
    "    sorted_start_times = []\n",
    "    for job_op in sorted_result_map:\n",
    "        for start_time in start_times:\n",
    "            if start_time[0] == job_op:\n",
    "                sorted_start_times.append(start_time[1])\n",
    "                break\n",
    "    return sorted_start_times\n",
    "\n",
    "# determines the start time vector for a given job sequence vector, machine assignment vector and duration matrix\n",
    "def sequence_to_starttime(job_operation_assignment, job_sequence, machine_assignment, durations):\n",
    "    sorted_result_map = get_sorted_duration_map(job_operation_assignment, durations)\n",
    "    info = create_info_map(job_sequence, sorted_result_map, machine_assignment)\n",
    "\n",
    "    job_progress = [0] * len(set(job_sequence))\n",
    "    machine_availability = [0] * len(set(machine_assignment))\n",
    "    start_times = []\n",
    "\n",
    "    for operation in info:\n",
    "        job, job_operation = operation[0]\n",
    "        duration = operation[2]\n",
    "        machine = operation[1]\n",
    "\n",
    "        start = max(machine_availability[machine], job_progress[job])\n",
    "\n",
    "        job_progress[job] = start + duration\n",
    "        machine_availability[machine] = start + duration\n",
    "        start_times.append(((job, job_operation), start))\n",
    "\n",
    "    return sort_start_times(sorted_result_map, start_times)\n",
    "\n",
    "# example\n",
    "job_sequence = [0, 1, 1, 2, 0, 2, 1]\n",
    "machine_assignment = [1, 1, 0, 0, 1, 2, 2]\n",
    "durations = [[10,5,0], [5,10,0], [0,30,0], [20,45,30], [0,2,10], [15,0,20], [0,0,70]]\n",
    "job_operation_assignment = sorted(job_sequence)\n",
    "\n",
    "print(sequence_to_starttime(job_operation_assignment, job_sequence, machine_assignment, durations))  # Output: [0, 35, 5, 35, 140, 55, 70]\n"
   ]
  },
  {
   "cell_type": "code",
   "execution_count": null,
   "metadata": {},
   "outputs": [],
   "source": []
  }
 ],
 "metadata": {
  "kernelspec": {
   "display_name": "scheduling",
   "language": "python",
   "name": "python3"
  },
  "language_info": {
   "codemirror_mode": {
    "name": "ipython",
    "version": 3
   },
   "file_extension": ".py",
   "mimetype": "text/x-python",
   "name": "python",
   "nbconvert_exporter": "python",
   "pygments_lexer": "ipython3",
   "version": "3.12.3"
  }
 },
 "nbformat": 4,
 "nbformat_minor": 2
}
