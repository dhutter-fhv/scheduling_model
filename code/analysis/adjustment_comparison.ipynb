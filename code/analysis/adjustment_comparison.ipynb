{
 "cells": [
  {
   "cell_type": "code",
   "execution_count": 9,
   "metadata": {},
   "outputs": [],
   "source": [
    "import os\n",
    "import json"
   ]
  },
  {
   "cell_type": "code",
   "execution_count": 5,
   "metadata": {},
   "outputs": [],
   "source": [
    "path = r'C:\\Users\\localadmin\\OneDrive - FH Vorarlberg\\fjssp-w-ga-comparison\\adjustment'\n",
    "wpath = path + '\\with\\\\'\n",
    "npath = path + '\\without\\\\'"
   ]
  },
  {
   "cell_type": "code",
   "execution_count": 1,
   "metadata": {},
   "outputs": [],
   "source": [
    "w = dict()\n",
    "n = dict()"
   ]
  },
  {
   "cell_type": "code",
   "execution_count": 6,
   "metadata": {},
   "outputs": [],
   "source": [
    "files = os.listdir(wpath)"
   ]
  },
  {
   "cell_type": "code",
   "execution_count": 8,
   "metadata": {},
   "outputs": [
    {
     "data": {
      "text/plain": [
       "['0_BehnkeGeiger_42_workers.fjs.json',\n",
       " '0_BehnkeGeiger_46_workers.fjs.json',\n",
       " '0_BehnkeGeiger_60_workers.fjs.json',\n",
       " '1_Brandimarte_12_workers.fjs.json',\n",
       " '1_Brandimarte_14_workers.fjs.json',\n",
       " '1_Brandimarte_7_workers.fjs.json',\n",
       " '2a_Hurink_sdata_18_workers.fjs.json',\n",
       " '2a_Hurink_sdata_1_workers.fjs.json',\n",
       " '2a_Hurink_sdata_38_workers.fjs.json',\n",
       " '2a_Hurink_sdata_40_workers.fjs.json',\n",
       " '2a_Hurink_sdata_54_workers.fjs.json',\n",
       " '2a_Hurink_sdata_61_workers.fjs.json',\n",
       " '2a_Hurink_sdata_63_workers.fjs.json',\n",
       " '2b_Hurink_edata_1_workers.fjs.json',\n",
       " '2b_Hurink_edata_6_workers.fjs.json',\n",
       " '2c_Hurink_rdata_28_workers.fjs.json',\n",
       " '2c_Hurink_rdata_38_workers.fjs.json',\n",
       " '2c_Hurink_rdata_50_workers.fjs.json',\n",
       " '2d_Hurink_vdata_18_workers.fjs.json',\n",
       " '2d_Hurink_vdata_30_workers.fjs.json',\n",
       " '2d_Hurink_vdata_5_workers.fjs.json',\n",
       " '3_DPpaulli_15_workers.fjs.json',\n",
       " '3_DPpaulli_18_workers.fjs.json',\n",
       " '3_DPpaulli_1_workers.fjs.json',\n",
       " '3_DPpaulli_9_workers.fjs.json',\n",
       " '4_ChambersBarnes_10_workers.fjs.json',\n",
       " '5_Kacem_3_workers.fjs.json',\n",
       " '5_Kacem_4_workers.fjs.json',\n",
       " '6_Fattahi_14_workers.fjs.json',\n",
       " '6_Fattahi_20_workers.fjs.json']"
      ]
     },
     "execution_count": 8,
     "metadata": {},
     "output_type": "execute_result"
    }
   ],
   "source": [
    "files"
   ]
  },
  {
   "cell_type": "code",
   "execution_count": null,
   "metadata": {},
   "outputs": [],
   "source": [
    "for file in files:\n",
    "    name = ''.join(file.split('_')[1:-2])\n",
    "    with open(wpath + file, 'r') as f:\n",
    "        data = json.loads(f.read())\n",
    "        w[name] = data\n",
    "    with open(npath + file, 'r') as f:\n",
    "        data = json.loads(f.read())\n",
    "        n[name] = data\n",
    "del data"
   ]
  }
 ],
 "metadata": {
  "kernelspec": {
   "display_name": "Python 3",
   "language": "python",
   "name": "python3"
  },
  "language_info": {
   "codemirror_mode": {
    "name": "ipython",
    "version": 3
   },
   "file_extension": ".py",
   "mimetype": "text/x-python",
   "name": "python",
   "nbconvert_exporter": "python",
   "pygments_lexer": "ipython3",
   "version": "3.10.9"
  }
 },
 "nbformat": 4,
 "nbformat_minor": 2
}
