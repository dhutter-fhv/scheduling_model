{
 "cells": [
  {
   "cell_type": "code",
   "execution_count": 18,
   "metadata": {},
   "outputs": [],
   "source": [
    "import statistics\n",
    "import math"
   ]
  },
  {
   "cell_type": "code",
   "execution_count": 19,
   "metadata": {},
   "outputs": [],
   "source": [
    "from benchmarkrewriter.benchmark_parser import WorkerBenchmarkParser, BenchmarkParser\n",
    "import os\n",
    "includeWorkers = False\n",
    "if includeWorkers:\n",
    "    path = r'C:\\Users\\huda\\Downloads\\benchmarks_with_workers\\benchmarks_with_workers'\n",
    "    parser = WorkerBenchmarkParser()\n",
    "else:\n",
    "    path = r'C:\\Users\\huda\\Documents\\GitHub\\scheduling_model_jrc\\code\\upgrades\\benchmarks\\all'\n",
    "    parser = BenchmarkParser()"
   ]
  },
  {
   "cell_type": "code",
   "execution_count": 20,
   "metadata": {},
   "outputs": [],
   "source": [
    "def calculate_flexibility(machines_for_all_operations, n_machines): \n",
    "    counts = []\n",
    "\n",
    "    for m in machines_for_all_operations:\n",
    "        counts.append(len(m))\n",
    "    \n",
    "    return statistics.mean(counts) / n_machines\n",
    "\n",
    "def calculate_duration_variety(durations):\n",
    "    counts = []\n",
    "\n",
    "    for d in durations:\n",
    "        counts.append(len(d))\n",
    "\n",
    "    return len(set(counts)) / len(counts)\n",
    "\n",
    "def calculate_average_operations(job_sequence):\n",
    "    n_jobs = 1\n",
    "    counts = [1]\n",
    "    for i in range(1, len(job_sequence)):\n",
    "        if job_sequence[i] != job_sequence[i-1]:\n",
    "            n_jobs+=1\n",
    "            counts.append(0)\n",
    "        counts[-1] += 1\n",
    "    return (sum(counts))/n_jobs\n",
    "\n",
    "def calculate_duration_features_workers(durations):\n",
    "    all_durations = []\n",
    "    for duration in durations:\n",
    "        for d in duration:\n",
    "            all_durations.extend(d)\n",
    "    all_durations = [d for d in all_durations if d != 0]\n",
    "    min_duration = min(all_durations)\n",
    "    max_duration = max(all_durations)\n",
    "    span = max_duration - min_duration\n",
    "    stdev = statistics.stdev(all_durations)\n",
    "    return min_duration, max_duration, statistics.mean(all_durations), span, stdev\n",
    "\n",
    "def calculate_duration_features(durations):\n",
    "    all_durations = []\n",
    "    for duration in durations:\n",
    "        all_durations.extend(duration)\n",
    "    all_durations = [d for d in all_durations if d != 0]\n",
    "    min_duration = min(all_durations)\n",
    "    max_duration = max(all_durations)\n",
    "    span = max_duration - min_duration\n",
    "    #stdev = statistics.stdev(all_durations)\n",
    "    mean = sum(all_durations)/len(all_durations)\n",
    "    var = sum(pow(x-mean, 2) for x in all_durations) / len(all_durations)\n",
    "    stdev = math.sqrt(var)\n",
    "    return min_duration, max_duration, statistics.mean(all_durations), span, stdev"
   ]
  },
  {
   "cell_type": "code",
   "execution_count": 21,
   "metadata": {},
   "outputs": [],
   "source": [
    "instances = os.listdir(path)\n",
    "instance_data = []\n",
    "feature_vectors = []\n",
    "consider_duration_features = True\n",
    "for instance in instances:\n",
    "    encoding = parser.parse_benchmark(path + \"\\\\\" + instance)\n",
    "    feature_vector = []\n",
    "    min_d, max_d, d_mean, d_span, d_stdev = calculate_duration_features(encoding.durations()) if not includeWorkers else calculate_duration_features_workers(encoding.durations())\n",
    "    #TODO: worker data, or just do it with base FJSSP since all benchmarks are transformed in the same way\n",
    "    extracted_data = {\n",
    "        \"name\": instance[:-4],\n",
    "        \"n_jobs\": encoding.n_jobs(), \n",
    "        \"n_machines\": encoding.n_machines(),\n",
    "        \"n_operations\": encoding.n_operations(),\n",
    "        \"durations\": encoding.durations(),\n",
    "        \"job_sequence\": encoding.job_sequence(),\n",
    "        \"machines_for_all_operations\": encoding.get_all_machines_for_all_operations() if includeWorkers else encoding.get_machines_for_all_operations(),\n",
    "        \"flexibility\": calculate_flexibility(encoding.get_all_machines_for_all_operations() if includeWorkers else encoding.get_machines_for_all_operations(), encoding.n_machines()),\n",
    "        \"duration_variety\": calculate_duration_variety(encoding.durations()),\n",
    "        \"average_operations\": calculate_average_operations(encoding.job_sequence()),\n",
    "        \"min_duration\": min_d,\n",
    "        \"max_duration\": max_d,\n",
    "        \"duration_span\": d_span,\n",
    "        \"duration_std\": d_stdev,\n",
    "        \"duration_mean\": d_mean\n",
    "    }\n",
    "    feature_vector = [encoding.n_jobs(), encoding.n_machines(), encoding.n_operations(), extracted_data[\"flexibility\"], extracted_data[\"duration_variety\"], extracted_data[\"average_operations\"]]\n",
    "    if consider_duration_features:\n",
    "        feature_vector.extend([min_d, max_d, d_span, d_stdev])\n",
    "    feature_vectors.append(feature_vector)\n",
    "    instance_data.append(extracted_data)"
   ]
  },
  {
   "cell_type": "code",
   "execution_count": 44,
   "metadata": {},
   "outputs": [],
   "source": [
    "optimal_benchmarks = ['BrandimarteMk1', 'HurinkSdata10', 'HurinkSdata11', 'HurinkSdata12', 'HurinkSdata13', 'HurinkSdata14', 'HurinkSdata15', 'HurinkSdata16', 'HurinkSdata17', 'HurinkSdata18', 'HurinkSdata1', 'HurinkSdata34', 'HurinkSdata49', 'HurinkSdata4', 'HurinkSdata52', 'HurinkSdata8', 'HurinkSdata9', 'HurinkEdata1', 'HurinkEdata52', 'HurinkEdata53', 'HurinkEdata5', 'HurinkEdata7', 'HurinkEdata8', 'HurinkRdata19', 'HurinkRdata1', 'HurinkRdata45', 'HurinkRdata55', 'HurinkVdata19', 'HurinkVdata1', 'HurinkVdata20', 'HurinkVdata21', 'HurinkVdata22', 'HurinkVdata23', 'HurinkVdata2', 'HurinkVdata39', 'HurinkVdata40', 'HurinkVdata41', 'HurinkVdata42', 'HurinkVdata43', 'HurinkVdata45', 'HurinkVdata54', 'HurinkVdata55', 'HurinkVdata57', 'HurinkVdata59', 'HurinkVdata60', 'HurinkVdata61', 'HurinkVdata62', 'HurinkVdata64', 'HurinkVdata65', 'HurinkVdata66', 'Kacem1', 'Kacem2', 'Kacem3', 'Fattahi10', 'Fattahi11', 'Fattahi12', 'Fattahi13', 'Fattahi14', 'Fattahi15', 'Fattahi16', 'Fattahi1', 'Fattahi2', 'Fattahi3', 'Fattahi4', 'Fattahi5', 'Fattahi6', 'Fattahi7', 'Fattahi8', 'Fattahi9']"
   ]
  },
  {
   "cell_type": "code",
   "execution_count": 45,
   "metadata": {},
   "outputs": [
    {
     "data": {
      "text/plain": [
       "False"
      ]
     },
     "execution_count": 45,
     "metadata": {},
     "output_type": "execute_result"
    }
   ],
   "source": [
    "'abc' in 'abdc'"
   ]
  },
  {
   "cell_type": "code",
   "execution_count": 46,
   "metadata": {},
   "outputs": [
    {
     "name": "stdout",
     "output_type": "stream",
     "text": [
      "69\n"
     ]
    }
   ],
   "source": [
    "count = 0\n",
    "for instance in instance_data:\n",
    "    if instance['name'] in optimal_benchmarks:\n",
    "        count += 1\n",
    "print(count)"
   ]
  },
  {
   "cell_type": "code",
   "execution_count": 60,
   "metadata": {},
   "outputs": [],
   "source": [
    "optimal_data = {\n",
    "    'flexibility': [],\n",
    "    'duration_variety': [],\n",
    "    'operations': [],\n",
    "    'machines': [],\n",
    "    'duration_mean': [],\n",
    "    'duration_std': [],\n",
    "    'duration_span': []\n",
    "}\n",
    "for instance in instance_data:\n",
    "    if instance['name'] in optimal_benchmarks:\n",
    "        optimal_data['flexibility'].append(instance['flexibility'])\n",
    "        optimal_data['duration_variety'].append(instance['duration_variety'])\n",
    "        optimal_data['operations'].append(instance['n_operations'])\n",
    "        optimal_data['machines'].append(instance['n_machines'])\n",
    "        optimal_data['duration_mean'].append(instance['duration_mean'])\n",
    "        optimal_data['duration_std'].append(instance['duration_std'])\n",
    "        optimal_data['duration_span'].append(instance['duration_span'])"
   ]
  },
  {
   "cell_type": "code",
   "execution_count": 61,
   "metadata": {},
   "outputs": [
    {
     "name": "stdout",
     "output_type": "stream",
     "text": [
      "987\n",
      "flexibility: Average: 0.34336156053885647 | Stdv: 0.1561453373748901\n",
      "duration_variety: Average: 0.014287164668938068 | Stdv: 0.007919366273508763\n",
      "operations: Average: 94.21153846153847 | Stdv: 58.53048025734416\n",
      "machines: Average: 8 | Stdv: 3.199264621385211\n",
      "duration_mean: Average: 105 | Stdv: 148.9798644112687\n",
      "duration_std: Average: 59.39160371612854 | Stdv: 90.15849176626433\n",
      "duration_span: Average: 206 | Stdv: 309.4899029047636\n"
     ]
    }
   ],
   "source": [
    "print(max(optimal_data['duration_span']))\n",
    "for metric in optimal_data:\n",
    "    print(f'{metric}: Average: {statistics.mean(optimal_data[metric])} | Stdv: {statistics.stdev(optimal_data[metric])}')"
   ]
  },
  {
   "cell_type": "code",
   "execution_count": 49,
   "metadata": {},
   "outputs": [],
   "source": [
    "optimal_data = {\n",
    "    'flexibility': [],\n",
    "    'duration_variety': [],\n",
    "    'operations': [],\n",
    "    'machines': [],\n",
    "    'duration_mean': [],\n",
    "    'duration_std': [],\n",
    "    'duration_span': []\n",
    "}\n",
    "for instance in instance_data:\n",
    "    if instance['name'] in optimal_benchmarks and instance['duration_span'] > 100:\n",
    "        optimal_data['flexibility'].append(instance['flexibility'])\n",
    "        optimal_data['duration_variety'].append(instance['duration_variety'])\n",
    "        optimal_data['operations'].append(instance['n_operations'])\n",
    "        optimal_data['machines'].append(instance['n_machines'])\n",
    "        optimal_data['duration_mean'].append(instance['duration_mean'])\n",
    "        optimal_data['duration_std'].append(instance['duration_std'])\n",
    "        optimal_data['duration_span'].append(instance['duration_span'])"
   ]
  },
  {
   "cell_type": "code",
   "execution_count": 50,
   "metadata": {},
   "outputs": [
    {
     "name": "stdout",
     "output_type": "stream",
     "text": [
      "flexibility: Average: 0.3658487601389762 | Stdv: 0.10001178418481162\n",
      "duration_variety: Average: 0.05104284137897583 | Stdv: 0.03553935262204089\n",
      "operations: Average: 32.35294117647059 | Stdv: 21.948636564917273\n",
      "machines: Average: 5.882352941176471 | Stdv: 1.5764815627361644\n",
      "duration_mean: Average: 268 | Stdv: 180.2553743997665\n",
      "duration_std: Average: 145.4242010799654 | Stdv: 120.19598159948342\n",
      "duration_span: Average: 525 | Stdv: 393.3103100606441\n"
     ]
    }
   ],
   "source": [
    "for metric in optimal_data:\n",
    "    print(f'{metric}: Average: {statistics.mean(optimal_data[metric])} | Stdv: {statistics.stdev(optimal_data[metric])}')"
   ]
  },
  {
   "cell_type": "code",
   "execution_count": 58,
   "metadata": {},
   "outputs": [],
   "source": [
    "optimal_data = {\n",
    "    'flexibility': [],\n",
    "    'duration_variety': [],\n",
    "    'operations': [],\n",
    "    'machines': [],\n",
    "    'duration_mean': [],\n",
    "    'duration_std': [],\n",
    "    'duration_span': []\n",
    "}\n",
    "for instance in instance_data:\n",
    "    if instance['duration_span'] > 100:\n",
    "        optimal_data['flexibility'].append(instance['flexibility'])\n",
    "        optimal_data['duration_variety'].append(instance['duration_variety'])\n",
    "        optimal_data['operations'].append(instance['n_operations'])\n",
    "        optimal_data['machines'].append(instance['n_machines'])\n",
    "        optimal_data['duration_mean'].append(instance['duration_mean'])\n",
    "        optimal_data['duration_std'].append(instance['duration_std'])\n",
    "        optimal_data['duration_span'].append(instance['duration_span'])"
   ]
  },
  {
   "cell_type": "code",
   "execution_count": 59,
   "metadata": {},
   "outputs": [
    {
     "name": "stdout",
     "output_type": "stream",
     "text": [
      "flexibility: Average: 0.3293479621105489 | Stdv: 0.1312458618360487\n",
      "duration_variety: Average: 0.029322552034605605 | Stdv: 0.026659393211770525\n",
      "operations: Average: 55.520833333333336 | Stdv: 43.122778491450376\n",
      "machines: Average: 6.375 | Stdv: 2.159836479231999\n",
      "duration_mean: Average: 356 | Stdv: 174.12064782787823\n",
      "duration_std: Average: 200.60853617192106 | Stdv: 109.40443710017388\n",
      "duration_span: Average: 745 | Stdv: 370.6804553790232\n"
     ]
    }
   ],
   "source": [
    "for metric in optimal_data:\n",
    "    print(f'{metric}: Average: {statistics.mean(optimal_data[metric])} | Stdv: {statistics.stdev(optimal_data[metric])}')"
   ]
  },
  {
   "cell_type": "code",
   "execution_count": 51,
   "metadata": {},
   "outputs": [],
   "source": [
    "optimal_benchmarks = ['BrandimarteMk1', 'HurinkSdata10', 'HurinkSdata11', 'HurinkSdata12', 'HurinkSdata13', 'HurinkSdata14', 'HurinkSdata15', 'HurinkSdata16', 'HurinkSdata17', 'HurinkSdata18', 'HurinkSdata1', 'HurinkSdata34', 'HurinkSdata49', 'HurinkSdata4', 'HurinkSdata52', 'HurinkSdata8', 'HurinkSdata9', 'HurinkEdata1', 'HurinkEdata52', 'HurinkEdata53', 'HurinkEdata5', 'HurinkEdata7', 'HurinkEdata8', 'HurinkRdata19', 'HurinkRdata1', 'HurinkRdata45', 'HurinkRdata55', 'HurinkVdata19', 'HurinkVdata1', 'HurinkVdata20', 'HurinkVdata21', 'HurinkVdata22', 'HurinkVdata23', 'HurinkVdata2', 'HurinkVdata39', 'HurinkVdata40', 'HurinkVdata41', 'HurinkVdata42', 'HurinkVdata43', 'HurinkVdata45', 'HurinkVdata54', 'HurinkVdata55', 'HurinkVdata57', 'HurinkVdata59', 'HurinkVdata60', 'HurinkVdata61', 'HurinkVdata62', 'HurinkVdata64', 'HurinkVdata65', 'HurinkVdata66', 'Kacem2', 'Fattahi16']"
   ]
  },
  {
   "cell_type": "code",
   "execution_count": 52,
   "metadata": {},
   "outputs": [],
   "source": [
    "optimal_data = {\n",
    "    'flexibility': [],\n",
    "    'duration_variety': [],\n",
    "    'operations': [],\n",
    "    'machines': [],\n",
    "    'duration_mean': [],\n",
    "    'duration_std': [],\n",
    "    'duration_span': []\n",
    "}\n",
    "for instance in instance_data:\n",
    "    if instance['name'] in optimal_benchmarks:\n",
    "        optimal_data['flexibility'].append(instance['flexibility'])\n",
    "        optimal_data['duration_variety'].append(instance['duration_variety'])\n",
    "        optimal_data['operations'].append(instance['n_operations'])\n",
    "        optimal_data['machines'].append(instance['n_machines'])\n",
    "        optimal_data['duration_mean'].append(instance['duration_mean'])\n",
    "        optimal_data['duration_std'].append(instance['duration_std'])\n",
    "        optimal_data['duration_span'].append(instance['duration_span'])"
   ]
  },
  {
   "cell_type": "code",
   "execution_count": 53,
   "metadata": {},
   "outputs": [
    {
     "name": "stdout",
     "output_type": "stream",
     "text": [
      "flexibility: Average: 0.34336156053885647 | Stdv: 0.1561453373748901\n",
      "duration_variety: Average: 0.014287164668938068 | Stdv: 0.007919366273508763\n",
      "operations: Average: 94.21153846153847 | Stdv: 58.53048025734416\n",
      "machines: Average: 8 | Stdv: 3.199264621385211\n",
      "duration_mean: Average: 105 | Stdv: 148.9798644112687\n",
      "duration_std: Average: 59.39160371612854 | Stdv: 90.15849176626433\n",
      "duration_span: Average: 206 | Stdv: 309.4899029047636\n"
     ]
    }
   ],
   "source": [
    "for metric in optimal_data:\n",
    "    print(f'{metric}: Average: {statistics.mean(optimal_data[metric])} | Stdv: {statistics.stdev(optimal_data[metric])}')"
   ]
  },
  {
   "cell_type": "code",
   "execution_count": null,
   "metadata": {},
   "outputs": [],
   "source": [
    "optimal_data = {\n",
    "    'flexibility': [],\n",
    "    'duration_variety': [],\n",
    "    'operations': [],\n",
    "    'machines': [],\n",
    "    'duration_mean': [],\n",
    "    'duration_std': [],\n",
    "    'duration_span': []\n",
    "}\n",
    "i = 25\n",
    "c = 0\n",
    "d = dict()\n",
    "while c < (1000/i):\n",
    "    for instance in instance_data:\n",
    "        if instance['duration_span'] >= i*c and instance['duration_span'] <= (c+1)*i:\n",
    "            optimal_data['flexibility'].append(instance['flexibility'])\n",
    "            optimal_data['duration_variety'].append(instance['duration_variety'])\n",
    "            optimal_data['operations'].append(instance['n_operations'])\n",
    "            optimal_data['machines'].append(instance['n_machines'])\n",
    "            optimal_data['duration_mean'].append(instance['duration_mean'])\n",
    "            optimal_data['duration_std'].append(instance['duration_std'])\n",
    "            optimal_data['duration_span'].append(instance['duration_span'])\n",
    "    c+=1\n",
    "    plot_data = {\n",
    "        'flexibility': [[],[]],\n",
    "        'duration_variety': [[],[]],\n",
    "        'operations': [[],[]],\n",
    "        'machines': [[],[]],\n",
    "        'duration_mean': [[],[]],\n",
    "        'duration_std': [[],[]],\n",
    "        'duration_span': [[],[]],\n",
    "        'count': len(optimal_data['flexibility'])\n",
    "    }\n",
    "    for metric in optimal_data:\n",
    "        plot_data[metric][0] = statistics.mean(optimal_data[metric])\n",
    "        plot_data[metric][1] = statistics.stdev(optimal_data[metric])\n",
    "    d[c].append(plot_data)\n",
    "\n",
    "\n"
   ]
  }
 ],
 "metadata": {
  "kernelspec": {
   "display_name": "Python 3",
   "language": "python",
   "name": "python3"
  },
  "language_info": {
   "codemirror_mode": {
    "name": "ipython",
    "version": 3
   },
   "file_extension": ".py",
   "mimetype": "text/x-python",
   "name": "python",
   "nbconvert_exporter": "python",
   "pygments_lexer": "ipython3",
   "version": "3.10.3"
  }
 },
 "nbformat": 4,
 "nbformat_minor": 2
}
