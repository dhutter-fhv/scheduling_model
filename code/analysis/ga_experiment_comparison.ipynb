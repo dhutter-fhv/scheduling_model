{
 "cells": [
  {
   "cell_type": "code",
   "execution_count": 1,
   "metadata": {},
   "outputs": [],
   "source": [
    "import pandas as pd\n",
    "import matplotlib.pyplot as plt\n",
    "from benchmarkrewriter.benchmark_parser import BenchmarkParser, WorkerBenchmarkParser, WorkerEncoding\n",
    "import os\n",
    "\n",
    "path_to_results = r'C:\\Users\\huda\\Downloads\\\\'\n",
    "path_to_results = r'C:\\Users\\huda\\Downloads\\ga\\ga\\\\'\n",
    "benchmark_path = r'C:\\Users\\huda\\Documents\\GitHub\\scheduling_model_jrc\\code\\upgrades\\benchmarks_with_workers'"
   ]
  },
  {
   "cell_type": "code",
   "execution_count": 2,
   "metadata": {},
   "outputs": [
    {
     "name": "stdout",
     "output_type": "stream",
     "text": [
      "6.0\n",
      "6.0\n",
      "1.0\n",
      "2.0\n",
      "1.0\n",
      "3.0\n",
      "3.0\n",
      "1.30729041081037e+29\n"
     ]
    }
   ],
   "source": [
    "import math\n",
    "def multiset_permutations(sequence : list) -> int:\n",
    "    a = math.factorial(len(sequence))\n",
    "    counts = [sequence.count(i) for i in range(min(sequence), max(sequence)+1)]\n",
    "    b = math.prod([math.factorial(counts[x]) for x in range(len(counts))])\n",
    "    return a/b\n",
    "\n",
    "print(multiset_permutations([0, 0, 1, 1]))\n",
    "print(multiset_permutations([1, 1, 2, 2]))\n",
    "print(multiset_permutations([1, 1]))\n",
    "print(multiset_permutations([1, 2]))\n",
    "print(multiset_permutations([1]))\n",
    "print(multiset_permutations([1, 1, 2]))\n",
    "print(multiset_permutations([1, 2, 1]))\n",
    "print(multiset_permutations([1, 2, 1, 1, 2, 2, 2, 3, 3, 3, 3, 4, 4, 4, 4, 4, 5, 5, 5, 5, 5, 5, 6, 6, 6, 6, 6, 6, 6, 6, 6, 6, 7, 7, 7, 7 ,8, 8, 8]))"
   ]
  },
  {
   "cell_type": "code",
   "execution_count": 3,
   "metadata": {},
   "outputs": [],
   "source": [
    "def worker_flexibility(benchmark : WorkerEncoding):\n",
    "    n_assignments = 0\n",
    "    m = benchmark.n_machines()\n",
    "    o = benchmark.n_operations()\n",
    "    durations = benchmark.durations()\n",
    "    w = durations.shape[2]\n",
    "    for i in range(len(durations)):\n",
    "        for j in range(len(durations[i])):\n",
    "            for k in range(len(durations[i][j])):\n",
    "                if durations[i][j][k] > 0:\n",
    "                    n_assignments += 1\n",
    "    average_assignments = n_assignments / o\n",
    "    return average_assignments / (m*w)\n",
    "\n",
    "\n",
    "def get_flexibility_and_dv_worker(benchmark):\n",
    "    all = 0\n",
    "    unique = []\n",
    "    machines_available = 0\n",
    "    durations = benchmark.durations()\n",
    "    for i in range(len(durations)):\n",
    "        for j in range(len(durations[i])):\n",
    "            for k in range(len(durations[i][j])):\n",
    "                if durations[i][j][k] > 0:\n",
    "                    if durations[i][j][k] not in unique:\n",
    "                        unique.append(durations[i][j][k])\n",
    "                    all += 1\n",
    "            if any([x > 0 for x in durations[i][j]]):\n",
    "                machines_available+=1\n",
    "    return worker_flexibility(benchmark), len(unique) / all\n",
    "\n",
    "def remap(name):\n",
    "    if name.startswith('_'):\n",
    "        name = name[1:]\n",
    "    values = name.split('_')\n",
    "    if values[0].startswith('Behnke'):\n",
    "        return 'Behnke'+values[1]\n",
    "    if values[0].startswith('Brandimarte'):\n",
    "        return 'BrandimarteMk'+values[1]\n",
    "    if values[0].startswith('Chambers'):\n",
    "        return 'ChambersBarnes'+values[1]\n",
    "    if values[0].startswith('HurinkS'):\n",
    "        return 'HurinkSdata'+values[1]\n",
    "    if values[0].startswith('HurinkE'):\n",
    "        return 'HurinkEdata'+values[1]\n",
    "    if values[0].startswith('HurinkR'):\n",
    "        return 'HurinkRdata'+values[1]\n",
    "    if values[0].startswith('HurinkV'):\n",
    "        return 'HurinkVdata'+values[1]\n",
    "    if values[0].startswith('DP'):\n",
    "        return 'DPpaulli'+values[1]\n",
    "    if values[0].startswith('Kacem'):\n",
    "        return 'Kacem'+values[1]\n",
    "    if values[0].startswith('Fattahi'):\n",
    "        return 'Fattahi'+values[1]\n",
    "    return name\n",
    "\n",
    "def read_benchmarks_workers(path):\n",
    "    result = dict()\n",
    "    benchmarks = os.listdir(path)\n",
    "    for benchmark in benchmarks:\n",
    "        #parser = BenchmarkParser()\n",
    "        parser = WorkerBenchmarkParser()\n",
    "        data = parser.parse_benchmark(path + '/' + benchmark)\n",
    "        #f, dv = get_flexibility_and_dv(data)\n",
    "        f, dv = get_flexibility_and_dv_worker(data)\n",
    "        instance_name = remap(benchmark[2:-12])\n",
    "        result[instance_name] = {'n_operations': data.n_operations(), 'flexibility': f, 'duration_variety': dv, 'n_machines': data.n_machines()}\n",
    "\n",
    "    return result"
   ]
  },
  {
   "cell_type": "code",
   "execution_count": 4,
   "metadata": {},
   "outputs": [],
   "source": [
    "benchmark_data = read_benchmarks_workers(benchmark_path)"
   ]
  },
  {
   "cell_type": "code",
   "execution_count": 5,
   "metadata": {},
   "outputs": [],
   "source": [
    "import os\n",
    "def rewrite(category):\n",
    "    files = os.listdir(path_to_results+category)\n",
    "    json_data = {}\n",
    "    for file in files:\n",
    "        with open(path_to_results + category + \"\\\\\" + file, 'r') as f:\n",
    "            content = f.read()\n",
    "            content = '{\"' + content[:7] + '\":' + content[8:-1] + ']' + '}'\n",
    "            json_data[file] = content\n",
    "    return json_data"
   ]
  },
  {
   "cell_type": "code",
   "execution_count": 6,
   "metadata": {},
   "outputs": [],
   "source": [
    "def remap(name):\n",
    "    if name.startswith('_'):\n",
    "        name = name[1:]\n",
    "    values = name.split('_')\n",
    "    if values[1].startswith('Behnke'):\n",
    "        return 'Behnke'+values[-1]\n",
    "    if values[1].startswith('Brandimarte'):\n",
    "        return 'BrandimarteMk'+values[-1]\n",
    "    if values[1].startswith('Chambers'):\n",
    "        return 'ChambersBarnes'+values[-1]\n",
    "    if values[1].startswith('Hurink') and values[2].startswith('s'):\n",
    "        return 'HurinkSdata'+values[-1]\n",
    "    if values[1].startswith('HurinkE') and values[2].startswith('e'):\n",
    "        return 'HurinkEdata'+values[-1]\n",
    "    if values[1].startswith('HurinkR') and values[2].startswith('e'):\n",
    "        return 'HurinkRdata'+values[-1]\n",
    "    if values[1].startswith('HurinkV') and values[2].startswith('v'):\n",
    "        return 'HurinkVdata'+values[-1]\n",
    "    if values[1].startswith('DP'):\n",
    "        return 'DPpaulli'+values[-1]\n",
    "    if values[1].startswith('Kacem'):\n",
    "        return 'Kacem'+values[-1]\n",
    "    if values[1].startswith('Fattahi'):\n",
    "        return 'Fattahi'+values[-1]\n",
    "    return name"
   ]
  },
  {
   "cell_type": "code",
   "execution_count": 7,
   "metadata": {},
   "outputs": [],
   "source": [
    "import json\n",
    "results_categories = os.listdir(path_to_results)\n",
    "results_categories = ['local', 'nolocal']\n",
    "results = dict()\n",
    "for category in results_categories:\n",
    "    results[category] = dict()\n",
    "    instances = os.listdir(path_to_results + category)\n",
    "    for instance in instances:\n",
    "        #with open(path_to_results + category + '\\\\' + instance, 'r') as f:\n",
    "        #TODO: turn into valid json\n",
    "        j_data = rewrite(category)\n",
    "        for instance in j_data:\n",
    "            ga_data = json.loads(j_data[instance])\n",
    "            # TODO: gather best, average, ...\n",
    "            if instance not in results[category]:\n",
    "                results[category][remap(instance[:-17])] = ga_data\n"
   ]
  },
  {
   "cell_type": "code",
   "execution_count": 8,
   "metadata": {},
   "outputs": [
    {
     "name": "stdout",
     "output_type": "stream",
     "text": [
      "dict_keys(['Behnke42', 'Behnke46', 'Behnke60', 'BrandimarteMk12', 'BrandimarteMk14', 'BrandimarteMk7', 'HurinkSdata18', 'HurinkSdata1', 'HurinkSdata38', 'HurinkSdata40', 'HurinkSdata54', 'HurinkSdata61', 'HurinkSdata63', '2b_Hurink_edata_1', '2b_Hurink_edata_6', '2c_Hurink_rdata_28', '2c_Hurink_rdata_38', '2c_Hurink_rdata_50', '2d_Hurink_vdata_18', '2d_Hurink_vdata_5', 'DPpaulli15', 'DPpaulli18', 'DPpaulli1', 'DPpaulli9', 'ChambersBarnes10', 'Kacem3', 'Kacem4', 'Fattahi14', 'Fattahi20'])\n",
      "dict_keys(['Behnke42', 'Behnke46', 'Behnke60', 'BrandimarteMk12', 'BrandimarteMk14', 'BrandimarteMk7', 'HurinkSdata18', 'HurinkSdata1', 'HurinkSdata38', 'HurinkSdata40', 'HurinkSdata54', 'HurinkSdata61', 'HurinkSdata63', '2b_Hurink_edata_1', '2b_Hurink_edata_6', '2c_Hurink_rdata_28', '2c_Hurink_rdata_38', '2c_Hurink_rdata_50', '2d_Hurink_vdata_18', '2d_Hurink_vdata_5', 'DPpaulli15', 'DPpaulli18', 'DPpaulli1', 'DPpaulli9', 'ChambersBarnes10', 'Kacem3', 'Kacem4', 'Fattahi14', 'Fattahi20'])\n"
     ]
    }
   ],
   "source": [
    "for result in results:\n",
    "    print(results[result].keys())"
   ]
  },
  {
   "cell_type": "code",
   "execution_count": 15,
   "metadata": {},
   "outputs": [
    {
     "ename": "TypeError",
     "evalue": "string indices must be integers",
     "output_type": "error",
     "traceback": [
      "\u001b[1;31m---------------------------------------------------------------------------\u001b[0m",
      "\u001b[1;31mTypeError\u001b[0m                                 Traceback (most recent call last)",
      "Cell \u001b[1;32mIn[15], line 34\u001b[0m\n\u001b[0;32m     31\u001b[0m                 best_category[category]\u001b[38;5;241m.\u001b[39mappend(instance)\n\u001b[0;32m     33\u001b[0m \u001b[38;5;28;01mfor\u001b[39;00m category \u001b[38;5;129;01min\u001b[39;00m best_category:\n\u001b[1;32m---> 34\u001b[0m     n \u001b[38;5;241m=\u001b[39m [x[\u001b[38;5;124m'\u001b[39m\u001b[38;5;124mn_operations\u001b[39m\u001b[38;5;124m'\u001b[39m] \u001b[38;5;28;01mfor\u001b[39;00m x \u001b[38;5;129;01min\u001b[39;00m best_category[category]]\n\u001b[0;32m     35\u001b[0m     m \u001b[38;5;241m=\u001b[39m [x[\u001b[38;5;124m'\u001b[39m\u001b[38;5;124mn_machines\u001b[39m\u001b[38;5;124m'\u001b[39m] \u001b[38;5;28;01mfor\u001b[39;00m x \u001b[38;5;129;01min\u001b[39;00m best_category[category]]\n\u001b[0;32m     36\u001b[0m     plt\u001b[38;5;241m.\u001b[39mscatter(n, m, label\u001b[38;5;241m=\u001b[39mcategory)\n",
      "Cell \u001b[1;32mIn[15], line 34\u001b[0m, in \u001b[0;36m<listcomp>\u001b[1;34m(.0)\u001b[0m\n\u001b[0;32m     31\u001b[0m                 best_category[category]\u001b[38;5;241m.\u001b[39mappend(instance)\n\u001b[0;32m     33\u001b[0m \u001b[38;5;28;01mfor\u001b[39;00m category \u001b[38;5;129;01min\u001b[39;00m best_category:\n\u001b[1;32m---> 34\u001b[0m     n \u001b[38;5;241m=\u001b[39m [\u001b[43mx\u001b[49m\u001b[43m[\u001b[49m\u001b[38;5;124;43m'\u001b[39;49m\u001b[38;5;124;43mn_operations\u001b[39;49m\u001b[38;5;124;43m'\u001b[39;49m\u001b[43m]\u001b[49m \u001b[38;5;28;01mfor\u001b[39;00m x \u001b[38;5;129;01min\u001b[39;00m best_category[category]]\n\u001b[0;32m     35\u001b[0m     m \u001b[38;5;241m=\u001b[39m [x[\u001b[38;5;124m'\u001b[39m\u001b[38;5;124mn_machines\u001b[39m\u001b[38;5;124m'\u001b[39m] \u001b[38;5;28;01mfor\u001b[39;00m x \u001b[38;5;129;01min\u001b[39;00m best_category[category]]\n\u001b[0;32m     36\u001b[0m     plt\u001b[38;5;241m.\u001b[39mscatter(n, m, label\u001b[38;5;241m=\u001b[39mcategory)\n",
      "\u001b[1;31mTypeError\u001b[0m: string indices must be integers"
     ]
    }
   ],
   "source": [
    "# plot best and average results\n",
    "\n",
    "# plot all best results and best average results for every instance, colored in the category that performed best\n",
    "labels = list(results.keys())\n",
    "best_category = dict()\n",
    "#for instance in benchmark_data:\n",
    "#    best_category[category] = []\n",
    "for category in results:\n",
    "    best_category[category] = []\n",
    "for instance in benchmark_data:\n",
    "    best_overall = float('inf')\n",
    "    best_categories = []\n",
    "    for category in results:\n",
    "        \n",
    "        if instance in results[category]:\n",
    "            # TODO: decide what to do with instances with multiple best, also do same for average\n",
    "            best = float('inf')\n",
    "            average = 0\n",
    "            for result in results[category][instance]['results']:\n",
    "                if result['Result']['Fitness']['Makespan'] < best:\n",
    "                    best = result['Result']['Fitness']['Makespan']\n",
    "                average += result['Result']['Fitness']['Makespan']\n",
    "            average /= len(results[category][instance]['results'])\n",
    "            if best < best_overall:\n",
    "                best_overall = best\n",
    "                best_categories = []\n",
    "                best_categories.append(category)\n",
    "            elif best_overall == best:\n",
    "                best_categories.append(category)\n",
    "            for category in best_categories:\n",
    "                best_category[category].append(instance)\n",
    "\n",
    "for category in best_category:\n",
    "    n = [x['n_operations'] for x in best_category[category]]\n",
    "    m = [x['n_machines'] for x in best_category[category]]\n",
    "    plt.scatter(n, m, label=category)\n",
    "    plt.xlabel('# Operations')\n",
    "    plt.ylabel('# Machines')\n",
    "    #...\n",
    "plt.show()"
   ]
  },
  {
   "cell_type": "code",
   "execution_count": 39,
   "metadata": {},
   "outputs": [],
   "source": [
    "best_overall = dict()\n",
    "average_overall = dict()\n",
    "tied_overall = []\n",
    "average_tied_overall = []\n",
    "for instance in benchmark_data:\n",
    "    if instance in results['local'] or instance in results['nolocal']:\n",
    "        best_overall[instance] = ('None', float('inf'))\n",
    "        average_overall[instance] = ('None', float('inf'))\n",
    "    for category in results:\n",
    "        \n",
    "        if instance in results[category]:\n",
    "            # TODO: decide what to do with instances with multiple best, also do same for average\n",
    "            best = float('inf')\n",
    "            average = 0\n",
    "            for result in results[category][instance]['results']:\n",
    "                if result['Result']['Fitness']['Makespan'] < best:\n",
    "                    best = result['Result']['Fitness']['Makespan']\n",
    "                average += result['Result']['Fitness']['Makespan']\n",
    "            average /= len(results[category][instance]['results'])\n",
    "            if best < best_overall[instance][1]:\n",
    "                best_overall[instance] = (category, best)\n",
    "            elif best == best_overall[instance][1]:\n",
    "                tied_overall.append(instance)\n",
    "                best_overall[instance] = ('None', float('inf'))\n",
    "            if average < average_overall[instance][1]:\n",
    "                average_overall[instance] = (category, average)\n",
    "            elif average == average_overall[instance][1]:\n",
    "                average_tied_overall.append(instance)\n",
    "                average_overall[instance] = ('None', float('inf'))"
   ]
  },
  {
   "cell_type": "code",
   "execution_count": 40,
   "metadata": {},
   "outputs": [],
   "source": [
    "local_win = [best_overall[x] for x in best_overall if best_overall[x][0] == 'local']\n",
    "nolocal_win = [best_overall[x] for x in best_overall if best_overall[x][0] == 'nolocal']\n",
    "local_average_win = [average_overall[x] for x in average_overall if average_overall[x][0] == 'local']\n",
    "nolocal_average_win = [average_overall[x] for x in average_overall if average_overall[x][0] == 'nolocal']"
   ]
  },
  {
   "cell_type": "code",
   "execution_count": 41,
   "metadata": {},
   "outputs": [],
   "source": [
    "for result in best_overall:\n",
    "    if result[0] == 'nolocal':\n",
    "        print('found')"
   ]
  },
  {
   "cell_type": "code",
   "execution_count": 42,
   "metadata": {},
   "outputs": [
    {
     "name": "stdout",
     "output_type": "stream",
     "text": [
      "Local better: 4\n",
      "No Local better: 10\n",
      "Average Local better: 1\n",
      "Average No Local better: 13\n"
     ]
    }
   ],
   "source": [
    "print(f'Local better: {len(local_win)}')\n",
    "print(f'No Local better: {len(nolocal_win)}')\n",
    "print(f'Average Local better: {len(local_average_win)}')\n",
    "print(f'Average No Local better: {len(nolocal_average_win)}')"
   ]
  },
  {
   "cell_type": "code",
   "execution_count": 44,
   "metadata": {},
   "outputs": [
    {
     "data": {
      "text/plain": [
       "1"
      ]
     },
     "execution_count": 44,
     "metadata": {},
     "output_type": "execute_result"
    }
   ],
   "source": [
    "len(tied_overall)"
   ]
  },
  {
   "cell_type": "code",
   "execution_count": 45,
   "metadata": {},
   "outputs": [
    {
     "data": {
      "text/plain": [
       "1"
      ]
     },
     "execution_count": 45,
     "metadata": {},
     "output_type": "execute_result"
    }
   ],
   "source": [
    "len(average_tied_overall)"
   ]
  },
  {
   "cell_type": "code",
   "execution_count": 46,
   "metadata": {},
   "outputs": [
    {
     "data": {
      "text/plain": [
       "['Kacem3']"
      ]
     },
     "execution_count": 46,
     "metadata": {},
     "output_type": "execute_result"
    }
   ],
   "source": [
    "tied_overall"
   ]
  },
  {
   "cell_type": "code",
   "execution_count": 47,
   "metadata": {},
   "outputs": [
    {
     "data": {
      "text/plain": [
       "['Kacem3']"
      ]
     },
     "execution_count": 47,
     "metadata": {},
     "output_type": "execute_result"
    }
   ],
   "source": [
    "average_tied_overall"
   ]
  }
 ],
 "metadata": {
  "kernelspec": {
   "display_name": "Python 3",
   "language": "python",
   "name": "python3"
  },
  "language_info": {
   "codemirror_mode": {
    "name": "ipython",
    "version": 3
   },
   "file_extension": ".py",
   "mimetype": "text/x-python",
   "name": "python",
   "nbconvert_exporter": "python",
   "pygments_lexer": "ipython3",
   "version": "3.10.3"
  }
 },
 "nbformat": 4,
 "nbformat_minor": 2
}
