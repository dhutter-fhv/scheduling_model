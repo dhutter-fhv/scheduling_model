{
 "cells": [
  {
   "cell_type": "code",
   "execution_count": 2,
   "metadata": {},
   "outputs": [],
   "source": [
    "import pandas as pd\n",
    "import matplotlib.pyplot as plt\n",
    "from benchmarkrewriter.benchmark_parser import BenchmarkParser, WorkerBenchmarkParser, WorkerEncoding\n",
    "import os\n",
    "\n",
    "path_to_results = r'C:\\Users\\huda\\Downloads\\\\'\n",
    "path_to_results = r'C:\\Users\\huda\\Downloads\\ga\\ga\\\\'\n",
    "benchmark_path = r'C:\\Users\\huda\\Documents\\GitHub\\scheduling_model_jrc\\code\\upgrades\\benchmarks_with_workers'"
   ]
  },
  {
   "cell_type": "code",
   "execution_count": 2,
   "metadata": {},
   "outputs": [
    {
     "name": "stdout",
     "output_type": "stream",
     "text": [
      "6.0\n",
      "6.0\n",
      "1.0\n",
      "2.0\n",
      "1.0\n",
      "3.0\n",
      "3.0\n",
      "1.30729041081037e+29\n"
     ]
    }
   ],
   "source": [
    "import math\n",
    "def multiset_permutations(sequence : list) -> int:\n",
    "    a = math.factorial(len(sequence))\n",
    "    counts = [sequence.count(i) for i in range(min(sequence), max(sequence)+1)]\n",
    "    b = math.prod([math.factorial(counts[x]) for x in range(len(counts))])\n",
    "    return a/b\n",
    "\n",
    "print(multiset_permutations([0, 0, 1, 1]))\n",
    "print(multiset_permutations([1, 1, 2, 2]))\n",
    "print(multiset_permutations([1, 1]))\n",
    "print(multiset_permutations([1, 2]))\n",
    "print(multiset_permutations([1]))\n",
    "print(multiset_permutations([1, 1, 2]))\n",
    "print(multiset_permutations([1, 2, 1]))\n",
    "print(multiset_permutations([1, 2, 1, 1, 2, 2, 2, 3, 3, 3, 3, 4, 4, 4, 4, 4, 5, 5, 5, 5, 5, 5, 6, 6, 6, 6, 6, 6, 6, 6, 6, 6, 7, 7, 7, 7 ,8, 8, 8]))"
   ]
  },
  {
   "cell_type": "code",
   "execution_count": 3,
   "metadata": {},
   "outputs": [],
   "source": [
    "def worker_flexibility(benchmark : WorkerEncoding):\n",
    "    n_assignments = 0\n",
    "    m = benchmark.n_machines()\n",
    "    o = benchmark.n_operations()\n",
    "    durations = benchmark.durations()\n",
    "    w = durations.shape[2]\n",
    "    for i in range(len(durations)):\n",
    "        for j in range(len(durations[i])):\n",
    "            for k in range(len(durations[i][j])):\n",
    "                if durations[i][j][k] > 0:\n",
    "                    n_assignments += 1\n",
    "    average_assignments = n_assignments / o\n",
    "    return average_assignments / (m*w)\n",
    "\n",
    "\n",
    "def get_flexibility_and_dv_worker(benchmark):\n",
    "    all = 0\n",
    "    unique = []\n",
    "    machines_available = 0\n",
    "    durations = benchmark.durations()\n",
    "    for i in range(len(durations)):\n",
    "        for j in range(len(durations[i])):\n",
    "            for k in range(len(durations[i][j])):\n",
    "                if durations[i][j][k] > 0:\n",
    "                    if durations[i][j][k] not in unique:\n",
    "                        unique.append(durations[i][j][k])\n",
    "                    all += 1\n",
    "            if any([x > 0 for x in durations[i][j]]):\n",
    "                machines_available+=1\n",
    "    return worker_flexibility(benchmark), len(unique) / all\n",
    "\n",
    "def remap(name):\n",
    "    if name.startswith('_'):\n",
    "        name = name[1:]\n",
    "    values = name.split('_')\n",
    "    if values[0].startswith('Behnke'):\n",
    "        return 'Behnke'+values[1]\n",
    "    if values[0].startswith('Brandimarte'):\n",
    "        return 'BrandimarteMk'+values[1]\n",
    "    if values[0].startswith('Chambers'):\n",
    "        return 'ChambersBarnes'+values[1]\n",
    "    if values[0].startswith('HurinkS'):\n",
    "        return 'HurinkSdata'+values[1]\n",
    "    if values[0].startswith('HurinkE'):\n",
    "        return 'HurinkEdata'+values[1]\n",
    "    if values[0].startswith('HurinkR'):\n",
    "        return 'HurinkRdata'+values[1]\n",
    "    if values[0].startswith('HurinkV'):\n",
    "        return 'HurinkVdata'+values[1]\n",
    "    if values[0].startswith('DP'):\n",
    "        return 'DPpaulli'+values[1]\n",
    "    if values[0].startswith('Kacem'):\n",
    "        return 'Kacem'+values[1]\n",
    "    if values[0].startswith('Fattahi'):\n",
    "        return 'Fattahi'+values[1]\n",
    "    return name\n",
    "\n",
    "def read_benchmarks_workers(path):\n",
    "    result = dict()\n",
    "    benchmarks = os.listdir(path)\n",
    "    for benchmark in benchmarks:\n",
    "        #parser = BenchmarkParser()\n",
    "        parser = WorkerBenchmarkParser()\n",
    "        data = parser.parse_benchmark(path + '/' + benchmark)\n",
    "        #f, dv = get_flexibility_and_dv(data)\n",
    "        f, dv = get_flexibility_and_dv_worker(data)\n",
    "        instance_name = remap(benchmark[2:-12])\n",
    "        result[instance_name] = {'n_operations': data.n_operations(), 'flexibility': f, 'duration_variety': dv, 'n_machines': data.n_machines()}\n",
    "\n",
    "    return result"
   ]
  },
  {
   "cell_type": "code",
   "execution_count": 4,
   "metadata": {},
   "outputs": [],
   "source": [
    "benchmark_data = read_benchmarks_workers(benchmark_path)"
   ]
  },
  {
   "cell_type": "code",
   "execution_count": 5,
   "metadata": {},
   "outputs": [],
   "source": [
    "import os\n",
    "def rewrite(category):\n",
    "    files = os.listdir(path_to_results+category)\n",
    "    json_data = {}\n",
    "    for file in files:\n",
    "        with open(path_to_results + category + \"\\\\\" + file, 'r') as f:\n",
    "            content = f.read()\n",
    "            content = '{\"' + content[:7] + '\":' + content[8:-1] + ']' + '}'\n",
    "            json_data[file] = content\n",
    "    return json_data"
   ]
  },
  {
   "cell_type": "code",
   "execution_count": 6,
   "metadata": {},
   "outputs": [],
   "source": [
    "def remap(name):\n",
    "    if name.startswith('_'):\n",
    "        name = name[1:]\n",
    "    values = name.split('_')\n",
    "    if values[1].startswith('Behnke'):\n",
    "        return 'Behnke'+values[-1]\n",
    "    if values[1].startswith('Brandimarte'):\n",
    "        return 'BrandimarteMk'+values[-1]\n",
    "    if values[1].startswith('Chambers'):\n",
    "        return 'ChambersBarnes'+values[-1]\n",
    "    if values[1].startswith('Hurink') and values[2].startswith('s'):\n",
    "        return 'Hurink_sdata_'+values[-1]\n",
    "    if values[1].startswith('Hurink') and values[2].startswith('e'):\n",
    "        return 'Hurink_edata_'+values[-1]\n",
    "    if values[1].startswith('Hurink') and values[2].startswith('r'):\n",
    "        return 'Hurink_rdata_'+values[-1]\n",
    "    if values[1].startswith('Hurink') and values[2].startswith('v'):\n",
    "        return 'Hurink_vdata_'+values[-1]\n",
    "    if values[1].startswith('DP'):\n",
    "        return 'DPpaulli'+values[-1]\n",
    "    if values[1].startswith('Kacem'):\n",
    "        return 'Kacem'+values[-1]\n",
    "    if values[1].startswith('Fattahi'):\n",
    "        return 'Fattahi'+values[-1]\n",
    "    return name"
   ]
  },
  {
   "cell_type": "code",
   "execution_count": 7,
   "metadata": {},
   "outputs": [],
   "source": [
    "import json\n",
    "results_categories = os.listdir(path_to_results)\n",
    "results_categories = ['local', 'nolocal']\n",
    "results = dict()\n",
    "for category in results_categories:\n",
    "    results[category] = dict()\n",
    "    instances = os.listdir(path_to_results + category)\n",
    "    for instance in instances:\n",
    "        #with open(path_to_results + category + '\\\\' + instance, 'r') as f:\n",
    "        #TODO: turn into valid json\n",
    "        j_data = rewrite(category)\n",
    "        for instance in j_data:\n",
    "            ga_data = json.loads(j_data[instance])\n",
    "            # TODO: gather best, average, ...\n",
    "            if instance not in results[category]:\n",
    "                results[category][remap(instance[:-17])] = ga_data\n"
   ]
  },
  {
   "cell_type": "code",
   "execution_count": 8,
   "metadata": {},
   "outputs": [
    {
     "name": "stdout",
     "output_type": "stream",
     "text": [
      "dict_keys(['Behnke42', 'Behnke46', 'Behnke60', 'BrandimarteMk12', 'BrandimarteMk14', 'BrandimarteMk7', 'Hurink_sdata_18', 'Hurink_sdata_1', 'Hurink_sdata_38', 'Hurink_sdata_40', 'Hurink_sdata_54', 'Hurink_sdata_61', 'Hurink_sdata_63', 'Hurink_edata_1', 'Hurink_edata_6', 'Hurink_rdata_28', 'Hurink_rdata_38', 'Hurink_rdata_50', 'Hurink_vdata_18', 'Hurink_vdata_5', 'DPpaulli15', 'DPpaulli18', 'DPpaulli1', 'DPpaulli9', 'ChambersBarnes10', 'Kacem3', 'Kacem4', 'Fattahi14', 'Fattahi20'])\n",
      "dict_keys(['Behnke42', 'Behnke46', 'Behnke60', 'BrandimarteMk12', 'BrandimarteMk14', 'BrandimarteMk7', 'Hurink_sdata_18', 'Hurink_sdata_1', 'Hurink_sdata_38', 'Hurink_sdata_40', 'Hurink_sdata_54', 'Hurink_sdata_61', 'Hurink_sdata_63', 'Hurink_edata_1', 'Hurink_edata_6', 'Hurink_rdata_28', 'Hurink_rdata_38', 'Hurink_rdata_50', 'Hurink_vdata_18', 'Hurink_vdata_5', 'DPpaulli15', 'DPpaulli18', 'DPpaulli1', 'DPpaulli9', 'ChambersBarnes10', 'Kacem3', 'Kacem4', 'Fattahi14', 'Fattahi20'])\n"
     ]
    }
   ],
   "source": [
    "for result in results:\n",
    "    print(results[result].keys())"
   ]
  },
  {
   "cell_type": "code",
   "execution_count": 9,
   "metadata": {},
   "outputs": [],
   "source": [
    "best_overall = dict()\n",
    "average_overall = dict()\n",
    "tied_overall = []\n",
    "average_tied_overall = []\n",
    "used = []\n",
    "for instance in benchmark_data:\n",
    "    if instance in results['local'] or instance in results['nolocal']:\n",
    "        best_overall[instance] = ('None', float('inf'))\n",
    "        average_overall[instance] = ('None', float('inf'))\n",
    "    for category in results:\n",
    "        \n",
    "        if instance in results[category]:\n",
    "            if instance not in used: \n",
    "                used.append(instance)\n",
    "            # TODO: decide what to do with instances with multiple best, also do same for average\n",
    "            best = float('inf')\n",
    "            average = 0\n",
    "            for result in results[category][instance]['results']:\n",
    "                if result['Result']['Fitness']['Makespan'] < best:\n",
    "                    best = result['Result']['Fitness']['Makespan']\n",
    "                average += result['Result']['Fitness']['Makespan']\n",
    "            average /= len(results[category][instance]['results'])\n",
    "            if best < best_overall[instance][1]:\n",
    "                best_overall[instance] = (category, best)\n",
    "            elif best == best_overall[instance][1]:\n",
    "                tied_overall.append(instance)\n",
    "                best_overall[instance] = ('None', float('inf'))\n",
    "            if average < average_overall[instance][1]:\n",
    "                average_overall[instance] = (category, average)\n",
    "            elif average == average_overall[instance][1]:\n",
    "                average_tied_overall.append(instance)\n",
    "                average_overall[instance] = ('None', float('inf'))"
   ]
  },
  {
   "cell_type": "code",
   "execution_count": 10,
   "metadata": {},
   "outputs": [
    {
     "data": {
      "text/plain": [
       "29"
      ]
     },
     "execution_count": 10,
     "metadata": {},
     "output_type": "execute_result"
    }
   ],
   "source": [
    "len(used)"
   ]
  },
  {
   "cell_type": "code",
   "execution_count": 11,
   "metadata": {},
   "outputs": [],
   "source": [
    "unused = []\n",
    "for instance in list(results['local'].keys()):\n",
    "    if instance not in used:\n",
    "        unused.append(instance)"
   ]
  },
  {
   "cell_type": "code",
   "execution_count": 12,
   "metadata": {},
   "outputs": [],
   "source": [
    "local_win = [best_overall[x] for x in best_overall if best_overall[x][0] == 'local']\n",
    "nolocal_win = [best_overall[x] for x in best_overall if best_overall[x][0] == 'nolocal']\n",
    "local_average_win = [average_overall[x] for x in average_overall if average_overall[x][0] == 'local']\n",
    "nolocal_average_win = [average_overall[x] for x in average_overall if average_overall[x][0] == 'nolocal']"
   ]
  },
  {
   "cell_type": "code",
   "execution_count": 13,
   "metadata": {},
   "outputs": [
    {
     "data": {
      "text/plain": [
       "29"
      ]
     },
     "execution_count": 13,
     "metadata": {},
     "output_type": "execute_result"
    }
   ],
   "source": [
    "len(best_overall.keys())"
   ]
  },
  {
   "cell_type": "code",
   "execution_count": 14,
   "metadata": {},
   "outputs": [],
   "source": [
    "for result in best_overall:\n",
    "    if result[0] == 'nolocal':\n",
    "        print('found')"
   ]
  },
  {
   "cell_type": "code",
   "execution_count": 15,
   "metadata": {},
   "outputs": [
    {
     "name": "stdout",
     "output_type": "stream",
     "text": [
      "Local better: 7\n",
      "No Local better: 18\n",
      "Average Local better: 1\n",
      "Average No Local better: 25\n"
     ]
    }
   ],
   "source": [
    "print(f'Local better: {len(local_win)}')\n",
    "print(f'No Local better: {len(nolocal_win)}')\n",
    "print(f'Average Local better: {len(local_average_win)}')\n",
    "print(f'Average No Local better: {len(nolocal_average_win)}')"
   ]
  },
  {
   "cell_type": "code",
   "execution_count": 16,
   "metadata": {},
   "outputs": [],
   "source": [
    "local_average_win_instances = [x for x in average_overall if average_overall[x][0] == 'local']"
   ]
  },
  {
   "cell_type": "code",
   "execution_count": 17,
   "metadata": {},
   "outputs": [],
   "source": [
    "nolocal_average_win_instances = [x for x in average_overall if average_overall[x][0] == 'nolocal']"
   ]
  },
  {
   "cell_type": "code",
   "execution_count": 18,
   "metadata": {},
   "outputs": [
    {
     "name": "stdout",
     "output_type": "stream",
     "text": [
      "LOCAL_WIN - 1 - 3.45%\n",
      "Operations: Mean: 277, Median: 277, Stdev: 0\n",
      "Machines: Mean: 15, Median: 15, Stdev: 0\n",
      "Flexibility: Mean: 0.05245596761842249, Median: 0.05245596761842249, Stdev: 0\n",
      "Duration Variety: Mean: 0.005005213764337852, Median: 0.005005213764337852, Stdev: 0\n",
      "\n",
      "NO_LOCAL_WIN - 25 - 86.21%\n",
      "Operations: Mean: 163.16, Median: 100, Stdev: 129.45677528297492, Min: 21, Max: 500\n",
      "Machines: Mean: 14.56, Median: 10, Stdev: 17.342337404936703, Min: 4, Max: 60\n",
      "Flexibility: Mean: 0.17408299731280397, Median: 0.1361, Stdev: 0.12126970140432095, Min: 0.03528619528619528, Max: 0.5384523809523809\n",
      "Duration Variety: Mean: 0.14674748589543474, Median: 0.04344193817878028, Stdev: 0.2150092971036988, Min: 6.217652662025811e-05, Max: 0.7348066298342542\n",
      "\n",
      "TIED - 3 - 10.34%\n",
      "Operations: Mean: 34, Median: 36, Stdev: 3.4641016151377544, Min: 30, Max: 36\n",
      "Machines: Mean: 7.333333333333333, Median: 6, Stdev: 2.309401076758503, Min: 6, Max: 10\n",
      "Flexibility: Mean: 0.2470891632373114, Median: 0.11728395061728394, Stdev: 0.244692460583577, Min: 0.09465020576131687, Max: 0.5293333333333333\n",
      "Duration Variety: Mean: 0.03609434732013109, Median: 0.043859649122807015, Stdev: 0.023135106888681655, Min: 0.010075566750629723, Max: 0.05434782608695652\n",
      "\n"
     ]
    }
   ],
   "source": [
    "import statistics\n",
    "compare = [local_average_win_instances, nolocal_average_win_instances, average_tied_overall]\n",
    "labels = ['local_win', 'no_local_win', 'tied']\n",
    "for data, label in zip(compare, labels):\n",
    "    ops = []\n",
    "    f = []\n",
    "    dv = []\n",
    "    m = []\n",
    "    for instance in data:\n",
    "        ops.append(benchmark_data[instance]['n_operations'])\n",
    "        f.append(benchmark_data[instance]['flexibility'])\n",
    "        dv.append(benchmark_data[instance]['duration_variety'])\n",
    "        m.append(benchmark_data[instance]['n_machines'])\n",
    "    print(f'{label.upper()} - {len(ops)} - {(len(ops)/29)*100 :.2f}%')\n",
    "    if len(ops) <= 1:            \n",
    "        print(f'Operations: Mean: {ops[0]}, Median: {ops[0]}, Stdev: {0}')\n",
    "        print(f'Machines: Mean: {m[0]}, Median: {m[0]}, Stdev: {0}')\n",
    "        print(f'Flexibility: Mean: {f[0]}, Median: {f[0]}, Stdev: {0}')\n",
    "        print(f'Duration Variety: Mean: {dv[0]}, Median: {dv[0]}, Stdev: {0}')\n",
    "    else:\n",
    "        print(f'Operations: Mean: {statistics.mean(ops)}, Median: {statistics.median(ops)}, Stdev: {statistics.stdev(ops)}, Min: {min(ops)}, Max: {max(ops)}')\n",
    "        print(f'Machines: Mean: {statistics.mean(m)}, Median: {statistics.median(m)}, Stdev: {statistics.stdev(m)}, Min: {min(m)}, Max: {max(m)}')\n",
    "        print(f'Flexibility: Mean: {statistics.mean(f)}, Median: {statistics.median(f)}, Stdev: {statistics.stdev(f)}, Min: {min(f)}, Max: {max(f)}')\n",
    "        print(f'Duration Variety: Mean: {statistics.mean(dv)}, Median: {statistics.median(dv)}, Stdev: {statistics.stdev(dv)}, Min: {min(dv)}, Max: {max(dv)}')\n",
    "    print()"
   ]
  },
  {
   "cell_type": "code",
   "execution_count": 19,
   "metadata": {},
   "outputs": [
    {
     "name": "stdout",
     "output_type": "stream",
     "text": [
      "LOCAL_WIN - 7 - 24.14%\n",
      "Operations: Mean: 188.85714285714286, Median: 196, Stdev: 107.59558319842652, Min: 50, Max: 300\n",
      "Machines: Mean: 9, Median: 10, Stdev: 3.4641016151377544, Min: 5, Max: 15\n",
      "Flexibility: Mean: 0.2209620386425948, Median: 0.13163265306122449, Stdev: 0.17152046168410268, Min: 0.05245596761842249, Max: 0.5384523809523809\n",
      "Duration Variety: Mean: 0.05249784127076675, Median: 0.02128530495292673, Stdev: 0.06026222063565847, Min: 0.005005213764337852, Max: 0.16351118760757316\n",
      "\n",
      "NO_LOCAL_WIN - 18 - 62.07%\n",
      "Operations: Mean: 163.05555555555554, Median: 100.0, Stdev: 140.79123979358369, Min: 21, Max: 500\n",
      "Machines: Mean: 17, Median: 10.0, Stdev: 20.00294096023941, Min: 4, Max: 60\n",
      "Flexibility: Mean: 0.15576236421479356, Median: 0.13719285714285714, Stdev: 0.0956102440874998, Min: 0.03528619528619528, Max: 0.31342857142857145\n",
      "Duration Variety: Mean: 0.17987301786499485, Median: 0.046745030687080226, Stdev: 0.24491793142706522, Min: 6.217652662025811e-05, Max: 0.7348066298342542\n",
      "\n",
      "TIED - 4 - 13.79%\n",
      "Operations: Mean: 50.25, Median: 36.0, Stdev: 32.62284475639732, Min: 30, Max: 99\n",
      "Machines: Mean: 8, Median: 8.0, Stdev: 2.309401076758503, Min: 6, Max: 10\n",
      "Flexibility: Mean: 0.19883539094650204, Median: 0.1059670781893004, Stdev: 0.22187828421337233, Min: 0.05407407407407407, Max: 0.5293333333333333\n",
      "Duration Variety: Mean: 0.04419404816133119, Median: 0.049103737604881764, Stdev: 0.024884588176250128, Min: 0.010075566750629723, Max: 0.0684931506849315\n",
      "\n"
     ]
    }
   ],
   "source": [
    "local_win_instances = [x for x in best_overall if best_overall[x][0] == 'local']\n",
    "nolocal_win_instances = [x for x in best_overall if best_overall[x][0] == 'nolocal']\n",
    "compare = [local_win_instances, nolocal_win_instances, tied_overall]\n",
    "labels = ['local_win', 'no_local_win', 'tied']\n",
    "for data, label in zip(compare, labels):\n",
    "    ops = []\n",
    "    f = []\n",
    "    dv = []\n",
    "    m = []\n",
    "    for instance in data:\n",
    "        ops.append(benchmark_data[instance]['n_operations'])\n",
    "        f.append(benchmark_data[instance]['flexibility'])\n",
    "        dv.append(benchmark_data[instance]['duration_variety'])\n",
    "        m.append(benchmark_data[instance]['n_machines'])\n",
    "    print(f'{label.upper()} - {len(ops)} - {(len(ops)/29)*100 :.2f}%')\n",
    "    if len(ops) <= 1:            \n",
    "        print(f'Operations: Mean: {ops[0]}, Median: {ops[0]}, Stdev: {0}')\n",
    "        print(f'Machines: Mean: {m[0]}, Median: {m[0]}, Stdev: {0}')\n",
    "        print(f'Flexibility: Mean: {f[0]}, Median: {f[0]}, Stdev: {0}')\n",
    "        print(f'Duration Variety: Mean: {dv[0]}, Median: {dv[0]}, Stdev: {0}')\n",
    "    else:\n",
    "        print(f'Operations: Mean: {statistics.mean(ops)}, Median: {statistics.median(ops)}, Stdev: {statistics.stdev(ops)}, Min: {min(ops)}, Max: {max(ops)}')\n",
    "        print(f'Machines: Mean: {statistics.mean(m)}, Median: {statistics.median(m)}, Stdev: {statistics.stdev(m)}, Min: {min(m)}, Max: {max(m)}')\n",
    "        print(f'Flexibility: Mean: {statistics.mean(f)}, Median: {statistics.median(f)}, Stdev: {statistics.stdev(f)}, Min: {min(f)}, Max: {max(f)}')\n",
    "        print(f'Duration Variety: Mean: {statistics.mean(dv)}, Median: {statistics.median(dv)}, Stdev: {statistics.stdev(dv)}, Min: {min(dv)}, Max: {max(dv)}')\n",
    "    print()"
   ]
  },
  {
   "cell_type": "code",
   "execution_count": 20,
   "metadata": {},
   "outputs": [
    {
     "name": "stdout",
     "output_type": "stream",
     "text": [
      "60\n",
      "500\n",
      "0.5384523809523809\n",
      "0.7348066298342542\n"
     ]
    }
   ],
   "source": [
    "print(max([benchmark_data[instance]['n_machines'] for instance in used]))\n",
    "print(max([benchmark_data[instance]['n_operations'] for instance in used]))\n",
    "print(max([benchmark_data[instance]['flexibility'] for instance in used]))\n",
    "print(max([benchmark_data[instance]['duration_variety'] for instance in used]))"
   ]
  },
  {
   "cell_type": "code",
   "execution_count": 21,
   "metadata": {},
   "outputs": [
    {
     "name": "stdout",
     "output_type": "stream",
     "text": [
      "4\n",
      "21\n",
      "0.03528619528619528\n",
      "6.217652662025811e-05\n"
     ]
    }
   ],
   "source": [
    "print(min([benchmark_data[instance]['n_machines'] for instance in used]))\n",
    "print(min([benchmark_data[instance]['n_operations'] for instance in used]))\n",
    "print(min([benchmark_data[instance]['flexibility'] for instance in used]))\n",
    "print(min([benchmark_data[instance]['duration_variety'] for instance in used]))"
   ]
  },
  {
   "cell_type": "markdown",
   "metadata": {},
   "source": [
    "Dissimilarity"
   ]
  },
  {
   "cell_type": "code",
   "execution_count": 5,
   "metadata": {},
   "outputs": [],
   "source": [
    "import os\n",
    "def rewrite(category):\n",
    "    files = os.listdir(path_to_results+category)\n",
    "    json_data = {}\n",
    "    for file in files:\n",
    "        with open(path_to_results + category + \"\\\\\" + file, 'r') as f:\n",
    "            content = f.read()\n",
    "            content = '{\"' + content[1:7] + '\"' + content[8:-1] + ']' + '}'\n",
    "            json_data[file] = content\n",
    "    return json_data"
   ]
  },
  {
   "cell_type": "code",
   "execution_count": 20,
   "metadata": {},
   "outputs": [],
   "source": [
    "def remap(name):\n",
    "    if name.startswith('_'):\n",
    "        name = name[1:]\n",
    "    values = name.split('_')\n",
    "    if values[1].startswith('Behnke'):\n",
    "        return 'Behnke'+values[-1]\n",
    "    if values[1].startswith('Brandimarte'):\n",
    "        return 'BrandimarteMk'+values[-1]\n",
    "    if values[1].startswith('Chambers'):\n",
    "        return 'ChambersBarnes'+values[-1]\n",
    "    if values[1].startswith('Hurink') and values[2].startswith('s'):\n",
    "        return 'Hurink_sdata_'+values[-1]\n",
    "    if values[1].startswith('Hurink') and values[2].startswith('e'):\n",
    "        return 'Hurink_edata_'+values[-1]\n",
    "    if values[1].startswith('Hurink') and values[2].startswith('r'):\n",
    "        return 'Hurink_rdata_'+values[-1]\n",
    "    if values[1].startswith('Hurink') and values[2].startswith('v'):\n",
    "        return 'Hurink_vdata_'+values[-1]\n",
    "    if values[1].startswith('DP'):\n",
    "        return 'DPpaulli'+values[-1]\n",
    "    if values[1].startswith('Kacem'):\n",
    "        return 'Kacem'+values[-1]\n",
    "    if values[1].startswith('Fattahi'):\n",
    "        return 'Fattahi'+values[-1]\n",
    "    return name"
   ]
  },
  {
   "cell_type": "code",
   "execution_count": 21,
   "metadata": {},
   "outputs": [],
   "source": [
    "import json\n",
    "results_categories = os.listdir(path_to_results)\n",
    "results_categories = ['dissimilarity', 'no_dissimilarity']\n",
    "results = dict()\n",
    "for category in results_categories:\n",
    "    results[category] = dict()\n",
    "    instances = os.listdir(path_to_results + category)\n",
    "    for instance in instances:\n",
    "        #with open(path_to_results + category + '\\\\' + instance, 'r') as f:\n",
    "        #TODO: turn into valid json\n",
    "        j_data = rewrite(category)\n",
    "        for instance in j_data:\n",
    "            ga_data = json.loads(j_data[instance])\n",
    "            # TODO: gather best, average, ...\n",
    "            if instance not in results[category]:\n",
    "                results[category][remap(instance[:-17])] = ga_data\n"
   ]
  },
  {
   "cell_type": "code",
   "execution_count": 22,
   "metadata": {},
   "outputs": [
    {
     "data": {
      "text/plain": [
       "dict_keys(['Behnke42', 'Behnke46', 'Behnke60', 'BrandimarteMk12', 'BrandimarteMk14', 'BrandimarteMk7', 'Hurink_sdata_18', 'Hurink_sdata_1', 'Hurink_sdata_38', 'Hurink_sdata_40', 'Hurink_sdata_54', 'Hurink_sdata_61', 'Hurink_sdata_63', 'Hurink_edata_1', 'Hurink_edata_6', 'Hurink_rdata_28', 'Hurink_rdata_38', 'Hurink_rdata_50', 'Hurink_vdata_18', 'Hurink_vdata_5', 'DPpaulli15', 'DPpaulli18', 'DPpaulli1', 'DPpaulli9', 'ChambersBarnes10', 'Kacem3', 'Kacem4', 'Fattahi14', 'Fattahi20'])"
      ]
     },
     "execution_count": 22,
     "metadata": {},
     "output_type": "execute_result"
    }
   ],
   "source": [
    "results['dissimilarity'].keys()"
   ]
  },
  {
   "cell_type": "code",
   "execution_count": 23,
   "metadata": {},
   "outputs": [
    {
     "data": {
      "text/plain": [
       "{'n_operations': 150,\n",
       " 'flexibility': 0.06133333333333333,\n",
       " 'duration_variety': 0.07391304347826087,\n",
       " 'n_machines': 10}"
      ]
     },
     "execution_count": 23,
     "metadata": {},
     "output_type": "execute_result"
    }
   ],
   "source": [
    "benchmark_data['Hurink_edata_24']"
   ]
  },
  {
   "cell_type": "code",
   "execution_count": 24,
   "metadata": {},
   "outputs": [],
   "source": [
    "best_overall = dict()\n",
    "average_overall = dict()\n",
    "tied_overall = []\n",
    "average_tied_overall = []\n",
    "used = []\n",
    "for instance in benchmark_data:\n",
    "    if instance in results['dissimilarity'] or instance in results['no_dissimilarity']:\n",
    "        best_overall[instance] = ('None', float('inf'))\n",
    "        average_overall[instance] = ('None', float('inf'))\n",
    "    for category in results:\n",
    "        \n",
    "        if instance in results[category]:\n",
    "            if instance not in used: \n",
    "                used.append(instance)\n",
    "            # TODO: decide what to do with instances with multiple best, also do same for average\n",
    "            best = float('inf')\n",
    "            average = 0\n",
    "            for result in results[category][instance]['result']:\n",
    "                if result['Result']['Fitness']['Makespan'] < best:\n",
    "                    best = result['Result']['Fitness']['Makespan']\n",
    "                average += result['Result']['Fitness']['Makespan']\n",
    "            average /= len(results[category][instance]['result'])\n",
    "            if best < best_overall[instance][1]:\n",
    "                best_overall[instance] = (category, best)\n",
    "            elif best == best_overall[instance][1]:\n",
    "                tied_overall.append(instance)\n",
    "                best_overall[instance] = ('None', float('inf'))\n",
    "            if average < average_overall[instance][1]:\n",
    "                average_overall[instance] = (category, average)\n",
    "            elif average == average_overall[instance][1]:\n",
    "                average_tied_overall.append(instance)\n",
    "                average_overall[instance] = ('None', float('inf'))"
   ]
  },
  {
   "cell_type": "code",
   "execution_count": 25,
   "metadata": {},
   "outputs": [
    {
     "data": {
      "text/plain": [
       "29"
      ]
     },
     "execution_count": 25,
     "metadata": {},
     "output_type": "execute_result"
    }
   ],
   "source": [
    "len(used)"
   ]
  },
  {
   "cell_type": "code",
   "execution_count": 26,
   "metadata": {},
   "outputs": [],
   "source": [
    "dissimilarity_win = [best_overall[x] for x in best_overall if best_overall[x][0] == 'dissimilarity']\n",
    "no_dissimilarity_win = [best_overall[x] for x in best_overall if best_overall[x][0] == 'no_dissimilarity']\n",
    "dissimilarity_average_win = [average_overall[x] for x in average_overall if average_overall[x][0] == 'dissimilarity']\n",
    "no_dissimilarity_average_win = [average_overall[x] for x in average_overall if average_overall[x][0] == 'no_dissimilarity']"
   ]
  },
  {
   "cell_type": "code",
   "execution_count": 27,
   "metadata": {},
   "outputs": [
    {
     "name": "stdout",
     "output_type": "stream",
     "text": [
      "Dissimilarity better: 8\n",
      "No Dissimilarity better: 17\n",
      "Average Dissimilarity better: 4\n",
      "Average No Dissimilarity better: 22\n"
     ]
    }
   ],
   "source": [
    "print(f'Dissimilarity better: {len(dissimilarity_win)}')\n",
    "print(f'No Dissimilarity better: {len(no_dissimilarity_win)}')\n",
    "print(f'Average Dissimilarity better: {len(dissimilarity_average_win)}')\n",
    "print(f'Average No Dissimilarity better: {len(no_dissimilarity_average_win)}')"
   ]
  },
  {
   "cell_type": "code",
   "execution_count": 28,
   "metadata": {},
   "outputs": [],
   "source": [
    "dissimilarity_average_win_instances = [x for x in average_overall if average_overall[x][0] == 'dissimilarity']"
   ]
  },
  {
   "cell_type": "code",
   "execution_count": 29,
   "metadata": {},
   "outputs": [],
   "source": [
    "no_dissimilarity_average_win_instances = [x for x in average_overall if average_overall[x][0] == 'no_dissimilarity']"
   ]
  },
  {
   "cell_type": "code",
   "execution_count": 30,
   "metadata": {},
   "outputs": [
    {
     "name": "stdout",
     "output_type": "stream",
     "text": [
      "DISSIMILARITY - 4 - 13.79%\n",
      "Operations: Mean: 270, Median: 296.5, Stdev: 121.13078331566533, Min: 100, Max: 387\n",
      "Machines: Mean: 8.25, Median: 9.0, Stdev: 2.362907813126304, Min: 5, Max: 10\n",
      "Flexibility: Mean: 0.23885627833379738, Median: 0.2667093820644202, Stdev: 0.08968429742183073, Min: 0.10857777777777777, Max: 0.31342857142857145\n",
      "Duration Variety: Mean: 0.015074420688435132, Median: 0.016251323040333256, Stdev: 0.006618764492887987, Min: 0.006509731720147291, Max: 0.02128530495292673\n",
      "\n",
      "NO_DISSIMILARITY - 22 - 75.86%\n",
      "Operations: Mean: 140.3181818181818, Median: 100.0, Stdev: 124.66464972787952, Min: 21, Max: 500\n",
      "Machines: Mean: 15.318181818181818, Median: 10.0, Stdev: 18.39095627549782, Min: 4, Max: 60\n",
      "Flexibility: Mean: 0.15947589988992972, Median: 0.13262465986394556, Stdev: 0.12133858769105411, Min: 0.0484, Max: 0.5384523809523809\n",
      "Duration Variety: Mean: 0.16491126581794877, Median: 0.06142048838594401, Stdev: 0.223598630243733, Min: 6.217652662025811e-05, Max: 0.7348066298342542\n",
      "\n",
      "TIED - 3 - 10.34%\n",
      "Operations: Mean: 97, Median: 36, Stdev: 110.89183919477574, Min: 30, Max: 225\n",
      "Machines: Mean: 10.333333333333334, Median: 10, Stdev: 4.509249752822894, Min: 6, Max: 15\n",
      "Flexibility: Mean: 0.2273011597456042, Median: 0.11728395061728394, Stdev: 0.2647611817873428, Min: 0.03528619528619528, Max: 0.5293333333333333\n",
      "Duration Variety: Mean: 0.031209957453995452, Median: 0.03969465648854962, Stdev: 0.018421010930802315, Min: 0.010075566750629723, Max: 0.043859649122807015\n",
      "\n"
     ]
    }
   ],
   "source": [
    "import statistics\n",
    "compare = [dissimilarity_average_win_instances, no_dissimilarity_average_win_instances, average_tied_overall]\n",
    "labels = ['dissimilarity', 'no_dissimilarity', 'tied']\n",
    "for data, label in zip(compare, labels):\n",
    "    ops = []\n",
    "    f = []\n",
    "    dv = []\n",
    "    m = []\n",
    "    for instance in data:\n",
    "        ops.append(benchmark_data[instance]['n_operations'])\n",
    "        f.append(benchmark_data[instance]['flexibility'])\n",
    "        dv.append(benchmark_data[instance]['duration_variety'])\n",
    "        m.append(benchmark_data[instance]['n_machines'])\n",
    "    print(f'{label.upper()} - {len(ops)} - {(len(ops)/29)*100 :.2f}%')\n",
    "    if len(ops) <= 1:            \n",
    "        print(f'Operations: Mean: {ops[0]}, Median: {ops[0]}, Stdev: {0}')\n",
    "        print(f'Machines: Mean: {m[0]}, Median: {m[0]}, Stdev: {0}')\n",
    "        print(f'Flexibility: Mean: {f[0]}, Median: {f[0]}, Stdev: {0}')\n",
    "        print(f'Duration Variety: Mean: {dv[0]}, Median: {dv[0]}, Stdev: {0}')\n",
    "    else:\n",
    "        print(f'Operations: Mean: {statistics.mean(ops)}, Median: {statistics.median(ops)}, Stdev: {statistics.stdev(ops)}, Min: {min(ops)}, Max: {max(ops)}')\n",
    "        print(f'Machines: Mean: {statistics.mean(m)}, Median: {statistics.median(m)}, Stdev: {statistics.stdev(m)}, Min: {min(m)}, Max: {max(m)}')\n",
    "        print(f'Flexibility: Mean: {statistics.mean(f)}, Median: {statistics.median(f)}, Stdev: {statistics.stdev(f)}, Min: {min(f)}, Max: {max(f)}')\n",
    "        print(f'Duration Variety: Mean: {statistics.mean(dv)}, Median: {statistics.median(dv)}, Stdev: {statistics.stdev(dv)}, Min: {min(dv)}, Max: {max(dv)}')\n",
    "    print()"
   ]
  },
  {
   "cell_type": "code",
   "execution_count": 31,
   "metadata": {},
   "outputs": [
    {
     "name": "stdout",
     "output_type": "stream",
     "text": [
      "DISSIMILARITY - 8 - 27.59%\n",
      "Operations: Mean: 197, Median: 162.5, Stdev: 119.97380666509788, Min: 72, Max: 387\n",
      "Machines: Mean: 9.625, Median: 10.0, Stdev: 2.774243783705493, Min: 5, Max: 15\n",
      "Flexibility: Mean: 0.14427519088061708, Median: 0.08479696106362773, Stdev: 0.11713917956061892, Min: 0.03528619528619528, Max: 0.31342857142857145\n",
      "Duration Variety: Mean: 0.12954582950231056, Median: 0.030489980720738174, Stdev: 0.2469133124455931, Min: 0.006509731720147291, Max: 0.7315175097276264\n",
      "\n",
      "NO_DISSIMILARITY - 17 - 58.62%\n",
      "Operations: Mean: 154.7058823529412, Median: 100, Stdev: 137.8113587054249, Min: 21, Max: 500\n",
      "Machines: Mean: 17.176470588235293, Median: 10, Stdev: 20.664689975044528, Min: 4, Max: 60\n",
      "Flexibility: Mean: 0.1845971526832828, Median: 0.1382857142857143, Stdev: 0.1271992994404529, Min: 0.05245596761842249, Max: 0.5384523809523809\n",
      "Duration Variety: Mean: 0.15271301692533948, Median: 0.05004812319538017, Stdev: 0.2074716898426633, Min: 6.217652662025811e-05, Max: 0.7348066298342542\n",
      "\n",
      "TIED - 4 - 13.79%\n",
      "Operations: Mean: 63, Median: 36.0, Stdev: 58.0689245638319, Min: 30, Max: 150\n",
      "Machines: Mean: 8, Median: 8.0, Stdev: 2.309401076758503, Min: 6, Max: 10\n",
      "Flexibility: Mean: 0.213361316872428, Median: 0.11473086419753087, Stdev: 0.2108709020371223, Min: 0.09465020576131687, Max: 0.5293333333333333\n",
      "Duration Variety: Mean: 0.03737186984033603, Median: 0.04253204326187894, Stdev: 0.019061751467069864, Min: 0.010075566750629723, Max: 0.05434782608695652\n",
      "\n"
     ]
    }
   ],
   "source": [
    "dissimilarity_win_instances = [x for x in best_overall if best_overall[x][0] == 'dissimilarity']\n",
    "no_dissimilarity_win_instances = [x for x in best_overall if best_overall[x][0] == 'no_dissimilarity']\n",
    "compare = [dissimilarity_win_instances, no_dissimilarity_win_instances, tied_overall]\n",
    "labels = ['dissimilarity', 'no_dissimilarity', 'tied']\n",
    "for data, label in zip(compare, labels):\n",
    "    ops = []\n",
    "    f = []\n",
    "    dv = []\n",
    "    m = []\n",
    "    for instance in data:\n",
    "        ops.append(benchmark_data[instance]['n_operations'])\n",
    "        f.append(benchmark_data[instance]['flexibility'])\n",
    "        dv.append(benchmark_data[instance]['duration_variety'])\n",
    "        m.append(benchmark_data[instance]['n_machines'])\n",
    "    print(f'{label.upper()} - {len(ops)} - {(len(ops)/29)*100 :.2f}%')\n",
    "    if len(ops) <= 1:            \n",
    "        print(f'Operations: Mean: {ops[0]}, Median: {ops[0]}, Stdev: {0}')\n",
    "        print(f'Machines: Mean: {m[0]}, Median: {m[0]}, Stdev: {0}')\n",
    "        print(f'Flexibility: Mean: {f[0]}, Median: {f[0]}, Stdev: {0}')\n",
    "        print(f'Duration Variety: Mean: {dv[0]}, Median: {dv[0]}, Stdev: {0}')\n",
    "    else:\n",
    "        print(f'Operations: Mean: {statistics.mean(ops)}, Median: {statistics.median(ops)}, Stdev: {statistics.stdev(ops)}, Min: {min(ops)}, Max: {max(ops)}')\n",
    "        print(f'Machines: Mean: {statistics.mean(m)}, Median: {statistics.median(m)}, Stdev: {statistics.stdev(m)}, Min: {min(m)}, Max: {max(m)}')\n",
    "        print(f'Flexibility: Mean: {statistics.mean(f)}, Median: {statistics.median(f)}, Stdev: {statistics.stdev(f)}, Min: {min(f)}, Max: {max(f)}')\n",
    "        print(f'Duration Variety: Mean: {statistics.mean(dv)}, Median: {statistics.median(dv)}, Stdev: {statistics.stdev(dv)}, Min: {min(dv)}, Max: {max(dv)}')\n",
    "    print()"
   ]
  },
  {
   "cell_type": "code",
   "execution_count": 32,
   "metadata": {},
   "outputs": [
    {
     "name": "stdout",
     "output_type": "stream",
     "text": [
      "60\n",
      "500\n",
      "0.5384523809523809\n",
      "0.7348066298342542\n"
     ]
    }
   ],
   "source": [
    "print(max([benchmark_data[instance]['n_machines'] for instance in used]))\n",
    "print(max([benchmark_data[instance]['n_operations'] for instance in used]))\n",
    "print(max([benchmark_data[instance]['flexibility'] for instance in used]))\n",
    "print(max([benchmark_data[instance]['duration_variety'] for instance in used]))"
   ]
  },
  {
   "cell_type": "code",
   "execution_count": 33,
   "metadata": {},
   "outputs": [
    {
     "name": "stdout",
     "output_type": "stream",
     "text": [
      "4\n",
      "21\n",
      "0.03528619528619528\n",
      "6.217652662025811e-05\n"
     ]
    }
   ],
   "source": [
    "print(min([benchmark_data[instance]['n_machines'] for instance in used]))\n",
    "print(min([benchmark_data[instance]['n_operations'] for instance in used]))\n",
    "print(min([benchmark_data[instance]['flexibility'] for instance in used]))\n",
    "print(min([benchmark_data[instance]['duration_variety'] for instance in used]))"
   ]
  }
 ],
 "metadata": {
  "kernelspec": {
   "display_name": "Python 3",
   "language": "python",
   "name": "python3"
  },
  "language_info": {
   "codemirror_mode": {
    "name": "ipython",
    "version": 3
   },
   "file_extension": ".py",
   "mimetype": "text/x-python",
   "name": "python",
   "nbconvert_exporter": "python",
   "pygments_lexer": "ipython3",
   "version": "3.10.3"
  }
 },
 "nbformat": 4,
 "nbformat_minor": 2
}
