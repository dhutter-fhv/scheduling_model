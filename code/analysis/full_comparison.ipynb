{
 "cells": [
  {
   "cell_type": "code",
   "execution_count": 1,
   "metadata": {},
   "outputs": [],
   "source": [
    "import json\n",
    "import pandas as pd\n",
    "import matplotlib.pyplot as plt\n",
    "import os"
   ]
  },
  {
   "cell_type": "code",
   "execution_count": 2,
   "metadata": {},
   "outputs": [],
   "source": [
    "ga_path = r'C:\\Users\\huda\\Downloads\\ga_worker_results\\ga_worker_results_rewritten'\n",
    "file_paths = [r'C:\\Users\\huda\\Downloads\\results_ortools.txt', r'C:\\Users\\huda\\Downloads\\results_cplex_cp.txt', r'C:\\Users\\huda\\Downloads\\results_gurobi.txt', r'C:\\Users\\huda\\Downloads\\results_hexaly_rewritten.txt', r'C:\\Users\\huda\\Downloads\\results_cplex_lp_rewritten.txt']\n",
    "optimizers = ['ORTOOLS', 'CPLEX-CP', 'GUROBI', 'HEXALY', 'CPLEX-LP']"
   ]
  },
  {
   "cell_type": "code",
   "execution_count": 3,
   "metadata": {},
   "outputs": [],
   "source": [
    "def read_file(file : str) -> pd.DataFrame:\n",
    "    file_content = pd.read_csv(file, names=['name','optimization_status','fitness_value','lower_bound', 'runtime', 'result_vector1', 'result_vector2', 'result_vector3', 'peak_cpu', 'peak_ram', 'resource_history', 'best_result_history'], sep=';')#, converters={'best_result_history': pd.eval})\n",
    "    # NOTE: fill optimization status for GA versions with 0\n",
    "    #file_content = pd.read_csv(file, names=['name','optimization_status','fitness_value', 'runtime', 'resource_history', 'best_result_history'], sep=';')\n",
    "    df = pd.DataFrame(file_content)\n",
    "    del file_content\n",
    "    df = df.drop(columns=['result_vector1', 'result_vector2', 'result_vector3', 'peak_cpu', 'peak_ram'])\n",
    "    df = df[~df['name'].str.startswith('Error')]\n",
    "    df = df[df['fitness_value'] != float('inf')]\n",
    "    return df"
   ]
  },
  {
   "cell_type": "code",
   "execution_count": 4,
   "metadata": {},
   "outputs": [],
   "source": [
    "def remap(name):\n",
    "    if name.startswith('_'):\n",
    "        name = name[1:]\n",
    "    values = name.split('_')\n",
    "    if values[0].startswith('Behnke'):\n",
    "        return 'Behnke'+values[-1]\n",
    "    if values[0].startswith('Brandimarte'):\n",
    "        return 'BrandimarteMk'+values[-1]\n",
    "    if values[0].startswith('Chambers'):\n",
    "        return 'ChambersBarnes'+values[-1]\n",
    "    if values[0].startswith('Hurink') and values[1].startswith('s'):\n",
    "        return 'HurinkSdata'+values[-1]\n",
    "    if values[0].startswith('Hurink') and values[1].startswith('e'):\n",
    "        return 'HurinkEdata'+values[-1]\n",
    "    if values[0].startswith('Hurink') and values[1].startswith('r'):\n",
    "        return 'HurinkRdata'+values[-1]\n",
    "    if values[0].startswith('Hurink') and values[1].startswith('v'):\n",
    "        return 'HurinkVdata'+values[-1]\n",
    "    if values[0].startswith('DP'):\n",
    "        return 'DPpaulli'+values[-1]\n",
    "    if values[0].startswith('Kacem'):\n",
    "        return 'Kacem'+values[-1]\n",
    "    if values[0].startswith('Fattahi'):\n",
    "        return 'Fattahi'+values[-1]\n",
    "    return name"
   ]
  },
  {
   "cell_type": "code",
   "execution_count": 5,
   "metadata": {},
   "outputs": [],
   "source": [
    "def extract_solver_data(fjssp_w):\n",
    "    compare = dict()\n",
    "    for index, row in fjssp_w.iterrows():\n",
    "        name = remap(row['name'][2:-12])\n",
    "        if name not in compare:\n",
    "            compare[name] = {\n",
    "                'fitness': row['fitness_value'],\n",
    "                'lower_bound': row['lower_bound'],\n",
    "                'status': row['optimization_status'],\n",
    "                'runtime': row['runtime']\n",
    "            }\n",
    "    return compare"
   ]
  },
  {
   "cell_type": "code",
   "execution_count": 6,
   "metadata": {},
   "outputs": [],
   "source": [
    "cp_fjssp_w = read_file(file_paths[1])\n",
    "cplp_fjssp_w = read_file(file_paths[4])\n",
    "gurobi_fjssp_w = read_file(file_paths[2])\n",
    "ortools_fjssp_w = read_file(file_paths[3])\n",
    "solver = dict()\n",
    "solver['cplex_cp'] = extract_solver_data(cp_fjssp_w)\n",
    "solver['cplex_lp'] = extract_solver_data(cplp_fjssp_w)\n",
    "solver['gurobi'] = extract_solver_data(gurobi_fjssp_w)\n",
    "solver['ortools'] = extract_solver_data(ortools_fjssp_w)"
   ]
  },
  {
   "cell_type": "code",
   "execution_count": 7,
   "metadata": {},
   "outputs": [],
   "source": [
    "ga_fjssp_w_data = dict()\n",
    "files = os.listdir(ga_path)\n",
    "for file in files:\n",
    "    with open(ga_path + '/' + file, 'r') as f:\n",
    "        json_data = json.loads(f.read())\n",
    "        ga_fjssp_w_data[remap(file[2:-17])] = json_data"
   ]
  },
  {
   "cell_type": "code",
   "execution_count": 8,
   "metadata": {},
   "outputs": [],
   "source": [
    "ga_average_fjssp = dict()\n",
    "ga_average_fjssp_w = dict()\n",
    "ga_best_fjssp = dict()\n",
    "ga_best_fjssp_w = dict()\n",
    "for instance in ga_fjssp_w_data:\n",
    "    ga_best_fjssp_w[instance] = float('inf')\n",
    "    ga_average_fjssp_w[instance] = 0\n",
    "    for run in ga_fjssp_w_data[instance]['results']:\n",
    "        fitness = run['Result']['Fitness']['Makespan']\n",
    "        if fitness < ga_best_fjssp_w[instance]:\n",
    "            ga_best_fjssp_w[instance] = fitness\n",
    "        ga_average_fjssp_w[instance] += fitness\n",
    "    ga_average_fjssp_w[instance] /= len( ga_fjssp_w_data[instance]['results'])\n",
    "    "
   ]
  },
  {
   "cell_type": "code",
   "execution_count": 9,
   "metadata": {},
   "outputs": [],
   "source": [
    "compare = dict()\n",
    "for instance in ga_average_fjssp_w:\n",
    "    compare[instance] = {\n",
    "        'fitness': ga_average_fjssp_w[instance],\n",
    "        #'runtime': row['runtime'] # TODO: maybe?\n",
    "    }\n",
    "solver['ga_average'] = compare\n",
    "compare = dict()\n",
    "for instance in ga_best_fjssp_w:\n",
    "    compare[instance] = {\n",
    "        'fitness': ga_best_fjssp_w[instance],\n",
    "        #'runtime': row['runtime'] # TODO: maybe?\n",
    "    }\n",
    "solver['ga_best'] = compare"
   ]
  },
  {
   "cell_type": "code",
   "execution_count": 10,
   "metadata": {},
   "outputs": [
    {
     "data": {
      "text/plain": [
       "dict_keys(['Behnke10', 'Behnke11', 'Behnke12', 'Behnke13', 'Behnke14', 'Behnke15', 'Behnke16', 'Behnke17', 'Behnke18', 'Behnke19', 'Behnke1', 'Behnke20', 'Behnke21', 'Behnke22', 'Behnke23', 'Behnke24', 'Behnke25', 'Behnke26', 'Behnke27', 'Behnke28', 'Behnke29', 'Behnke2', 'Behnke30', 'Behnke31', 'Behnke32', 'Behnke33', 'Behnke34', 'Behnke35', 'Behnke36', 'Behnke37', 'Behnke38', 'Behnke39', 'Behnke3', 'Behnke40', 'Behnke41', 'Behnke42', 'Behnke43', 'Behnke44', 'Behnke45', 'Behnke46', 'Behnke47', 'Behnke48', 'Behnke49', 'Behnke4', 'Behnke50', 'Behnke51', 'Behnke52', 'Behnke53', 'Behnke54', 'Behnke55', 'Behnke56', 'Behnke57', 'Behnke58', 'Behnke59', 'Behnke5', 'Behnke60', 'Behnke6', 'Behnke7', 'Behnke8', 'Behnke9', 'BrandimarteMk10', 'BrandimarteMk11', 'BrandimarteMk12', 'BrandimarteMk13', 'BrandimarteMk14', 'BrandimarteMk15', 'BrandimarteMk1', 'BrandimarteMk2', 'BrandimarteMk3', 'BrandimarteMk4', 'BrandimarteMk5', 'BrandimarteMk6', 'BrandimarteMk7', 'BrandimarteMk8', 'BrandimarteMk9', 'HurinkSdata10', 'HurinkSdata11', 'HurinkSdata12', 'HurinkSdata13', 'HurinkSdata14', 'HurinkSdata15', 'HurinkSdata16', 'HurinkSdata17', 'HurinkSdata18', 'HurinkSdata19', 'HurinkSdata1', 'HurinkSdata20', 'HurinkSdata21', 'HurinkSdata22', 'HurinkSdata23', 'HurinkSdata24', 'HurinkSdata25', 'HurinkSdata26', 'HurinkSdata27', 'HurinkSdata28', 'HurinkSdata29', 'HurinkSdata2', 'HurinkSdata30', 'HurinkSdata31', 'HurinkSdata32', 'HurinkSdata33', 'HurinkSdata34', 'HurinkSdata35', 'HurinkSdata36', 'HurinkSdata37', 'HurinkSdata38', 'HurinkSdata39', 'HurinkSdata3', 'HurinkSdata40', 'HurinkSdata41', 'HurinkSdata42', 'HurinkSdata43', 'HurinkSdata44', 'HurinkSdata45', 'HurinkSdata46', 'HurinkSdata47', 'HurinkSdata48', 'HurinkSdata49', 'HurinkSdata4', 'HurinkSdata50', 'HurinkSdata51', 'HurinkSdata52', 'HurinkSdata53', 'HurinkSdata54', 'HurinkSdata55', 'HurinkSdata56', 'HurinkSdata57', 'HurinkSdata58', 'HurinkSdata59', 'HurinkSdata5', 'HurinkSdata60', 'HurinkSdata61', 'HurinkSdata62', 'HurinkSdata63', 'HurinkSdata64', 'HurinkSdata65', 'HurinkSdata66', 'HurinkSdata6', 'HurinkSdata7', 'HurinkSdata8', 'HurinkSdata9', 'HurinkEdata10', 'HurinkEdata11', 'HurinkEdata12', 'HurinkEdata13', 'HurinkEdata14', 'HurinkEdata15', 'HurinkEdata16', 'HurinkEdata17', 'HurinkEdata18', 'HurinkEdata19', 'HurinkEdata1', 'HurinkEdata20', 'HurinkEdata21', 'HurinkEdata22', 'HurinkEdata23', 'HurinkEdata24', 'HurinkEdata25', 'HurinkEdata26', 'HurinkEdata27', 'HurinkEdata28', 'HurinkEdata29', 'HurinkEdata2', 'HurinkEdata30', 'HurinkEdata31', 'HurinkEdata32', 'HurinkEdata33', 'HurinkEdata34', 'HurinkEdata35', 'HurinkEdata36', 'HurinkEdata37', 'HurinkEdata38', 'HurinkEdata39', 'HurinkEdata3', 'HurinkEdata40', 'HurinkEdata41', 'HurinkEdata42', 'HurinkEdata43', 'HurinkEdata44', 'HurinkEdata45', 'HurinkEdata46', 'HurinkEdata47', 'HurinkEdata48', 'HurinkEdata49', 'HurinkEdata4', 'HurinkEdata50', 'HurinkEdata51', 'HurinkEdata52', 'HurinkEdata53', 'HurinkEdata54', 'HurinkEdata55', 'HurinkEdata56', 'HurinkEdata57', 'HurinkEdata58', 'HurinkEdata59', 'HurinkEdata5', 'HurinkEdata60', 'HurinkEdata61', 'HurinkEdata62', 'HurinkEdata63', 'HurinkEdata64', 'HurinkEdata65', 'HurinkEdata66', 'HurinkEdata6', 'HurinkEdata7', 'HurinkEdata8', 'HurinkEdata9', 'HurinkRdata10', 'HurinkRdata11', 'HurinkRdata12', 'HurinkRdata13', 'HurinkRdata14', 'HurinkRdata15', 'HurinkRdata16', 'HurinkRdata17', 'HurinkRdata18', 'HurinkRdata19', 'HurinkRdata1', 'HurinkRdata20', 'HurinkRdata21', 'HurinkRdata22', 'HurinkRdata23', 'HurinkRdata24', 'HurinkRdata25', 'HurinkRdata26', 'HurinkRdata27', 'HurinkRdata28', 'HurinkRdata29', 'HurinkRdata2', 'HurinkRdata30', 'HurinkRdata31', 'HurinkRdata32', 'HurinkRdata33', 'HurinkRdata34', 'HurinkRdata35', 'HurinkRdata36', 'HurinkRdata37', 'HurinkRdata38', 'HurinkRdata39', 'HurinkRdata3', 'HurinkRdata40', 'HurinkRdata41', 'HurinkRdata42', 'HurinkRdata43', 'HurinkRdata44', 'HurinkRdata45', 'HurinkRdata46', 'HurinkRdata47', 'HurinkRdata48', 'HurinkRdata49', 'HurinkRdata4', 'HurinkRdata50', 'HurinkRdata51', 'HurinkRdata52', 'HurinkRdata53', 'HurinkRdata54', 'HurinkRdata55', 'HurinkRdata56', 'HurinkRdata57', 'HurinkRdata58', 'HurinkRdata59', 'HurinkRdata5', 'HurinkRdata60', 'HurinkRdata61', 'HurinkRdata62', 'HurinkRdata63', 'HurinkRdata64', 'HurinkRdata65', 'HurinkRdata66', 'HurinkRdata6', 'HurinkRdata7', 'HurinkRdata8', 'HurinkRdata9', 'HurinkVdata10', 'HurinkVdata11', 'HurinkVdata12', 'HurinkVdata13', 'HurinkVdata14', 'HurinkVdata15', 'HurinkVdata16', 'HurinkVdata17', 'HurinkVdata18', 'HurinkVdata19', 'HurinkVdata1', 'HurinkVdata20', 'HurinkVdata21', 'HurinkVdata22', 'HurinkVdata23', 'HurinkVdata24', 'HurinkVdata25', 'HurinkVdata26', 'HurinkVdata27', 'HurinkVdata28', 'HurinkVdata29', 'HurinkVdata2', 'HurinkVdata30', 'HurinkVdata31', 'HurinkVdata32', 'HurinkVdata33', 'HurinkVdata34', 'HurinkVdata35', 'HurinkVdata36', 'HurinkVdata37', 'HurinkVdata38', 'HurinkVdata39', 'HurinkVdata3', 'HurinkVdata40', 'HurinkVdata41', 'HurinkVdata42', 'HurinkVdata43', 'HurinkVdata44', 'HurinkVdata45', 'HurinkVdata46', 'HurinkVdata47', 'HurinkVdata48', 'HurinkVdata49', 'HurinkVdata4', 'HurinkVdata50', 'HurinkVdata51', 'HurinkVdata52', 'HurinkVdata53', 'HurinkVdata54', 'HurinkVdata55', 'HurinkVdata56', 'HurinkVdata57', 'HurinkVdata58', 'HurinkVdata59', 'HurinkVdata5', 'HurinkVdata60', 'HurinkVdata61', 'HurinkVdata62', 'HurinkVdata63', 'HurinkVdata64', 'HurinkVdata65', 'HurinkVdata66', 'HurinkVdata6', 'HurinkVdata7', 'HurinkVdata8', 'HurinkVdata9', 'DPpaulli10', 'DPpaulli11', 'DPpaulli12', 'DPpaulli13', 'DPpaulli14', 'DPpaulli15', 'DPpaulli16', 'DPpaulli17', 'DPpaulli18', 'DPpaulli1', 'DPpaulli2', 'DPpaulli3', 'DPpaulli4', 'DPpaulli5', 'DPpaulli6', 'DPpaulli7', 'DPpaulli8', 'DPpaulli9', 'ChambersBarnes10', 'ChambersBarnes11', 'ChambersBarnes12', 'ChambersBarnes13', 'ChambersBarnes14', 'ChambersBarnes15', 'ChambersBarnes16', 'ChambersBarnes17', 'ChambersBarnes18', 'ChambersBarnes19', 'ChambersBarnes1', 'ChambersBarnes20', 'ChambersBarnes21', 'ChambersBarnes2', 'ChambersBarnes3', 'ChambersBarnes4', 'ChambersBarnes5', 'ChambersBarnes6', 'ChambersBarnes7', 'ChambersBarnes8', 'ChambersBarnes9', 'Kacem1', 'Kacem2', 'Kacem3', 'Kacem4', 'Fattahi10', 'Fattahi11', 'Fattahi12', 'Fattahi13', 'Fattahi14', 'Fattahi15', 'Fattahi16', 'Fattahi17', 'Fattahi18', 'Fattahi19', 'Fattahi1', 'Fattahi20', 'Fattahi2', 'Fattahi3', 'Fattahi4', 'Fattahi5', 'Fattahi6', 'Fattahi7', 'Fattahi8', 'Fattahi9'])"
      ]
     },
     "execution_count": 10,
     "metadata": {},
     "output_type": "execute_result"
    }
   ],
   "source": [
    "solver['ga_best'].keys()"
   ]
  },
  {
   "cell_type": "code",
   "execution_count": 11,
   "metadata": {},
   "outputs": [
    {
     "data": {
      "text/plain": [
       "dict_keys(['Behnke10', 'Behnke11', 'Behnke12', 'Behnke13', 'Behnke14', 'Behnke15', 'Behnke16', 'Behnke17', 'Behnke18', 'Behnke19', 'Behnke1', 'Behnke20', 'Behnke21', 'Behnke22', 'Behnke23', 'Behnke24', 'Behnke25', 'Behnke26', 'Behnke27', 'Behnke28', 'Behnke29', 'Behnke2', 'Behnke30', 'Behnke31', 'Behnke32', 'Behnke33', 'Behnke34', 'Behnke35', 'Behnke36', 'Behnke37', 'Behnke38', 'Behnke39', 'Behnke3', 'Behnke40', 'Behnke41', 'Behnke42', 'Behnke43', 'Behnke44', 'Behnke45', 'Behnke46', 'Behnke47', 'Behnke48', 'Behnke49', 'Behnke4', 'Behnke50', 'Behnke51', 'Behnke52', 'Behnke53', 'Behnke54', 'Behnke55', 'Behnke56', 'Behnke57', 'Behnke58', 'Behnke59', 'Behnke5', 'Behnke60', 'Behnke6', 'Behnke7', 'Behnke8', 'Behnke9', 'BrandimarteMk11', 'BrandimarteMk12', 'BrandimarteMk13', 'BrandimarteMk14', 'BrandimarteMk15', 'BrandimarteMk1', 'BrandimarteMk2', 'BrandimarteMk3', 'BrandimarteMk4', 'BrandimarteMk5', 'BrandimarteMk6', 'BrandimarteMk7', 'BrandimarteMk9', 'HurinkSdata10', 'HurinkSdata11', 'HurinkSdata12', 'HurinkSdata13', 'HurinkSdata14', 'HurinkSdata15', 'HurinkSdata16', 'HurinkSdata17', 'HurinkSdata18', 'HurinkSdata19', 'HurinkSdata1', 'HurinkSdata20', 'HurinkSdata21', 'HurinkSdata22', 'HurinkSdata23', 'HurinkSdata24', 'HurinkSdata25', 'HurinkSdata26', 'HurinkSdata27', 'HurinkSdata28', 'HurinkSdata29', 'HurinkSdata2', 'HurinkSdata30', 'HurinkSdata31', 'HurinkSdata32', 'HurinkSdata33', 'HurinkSdata34', 'HurinkSdata35', 'HurinkSdata36', 'HurinkSdata37', 'HurinkSdata38', 'HurinkSdata39', 'HurinkSdata3', 'HurinkSdata40', 'HurinkSdata41', 'HurinkSdata42', 'HurinkSdata43', 'HurinkSdata44', 'HurinkSdata45', 'HurinkSdata46', 'HurinkSdata47', 'HurinkSdata48', 'HurinkSdata49', 'HurinkSdata4', 'HurinkSdata50', 'HurinkSdata51', 'HurinkSdata52', 'HurinkSdata53', 'HurinkSdata54', 'HurinkSdata55', 'HurinkSdata56', 'HurinkSdata57', 'HurinkSdata58', 'HurinkSdata59', 'HurinkSdata5', 'HurinkSdata60', 'HurinkSdata61', 'HurinkSdata62', 'HurinkSdata63', 'HurinkSdata64', 'HurinkSdata65', 'HurinkSdata66', 'HurinkSdata6', 'HurinkSdata7', 'HurinkSdata8', 'HurinkSdata9', 'HurinkEdata10', 'HurinkEdata11', 'HurinkEdata12', 'HurinkEdata13', 'HurinkEdata14', 'HurinkEdata15', 'HurinkEdata16', 'HurinkEdata17', 'HurinkEdata18', 'HurinkEdata19', 'HurinkEdata1', 'HurinkEdata20', 'HurinkEdata21', 'HurinkEdata22', 'HurinkEdata23', 'HurinkEdata24', 'HurinkEdata25', 'HurinkEdata26', 'HurinkEdata27', 'HurinkEdata28', 'HurinkEdata29', 'HurinkEdata2', 'HurinkEdata30', 'HurinkEdata31', 'HurinkEdata32', 'HurinkEdata33', 'HurinkEdata34', 'HurinkEdata35', 'HurinkEdata36', 'HurinkEdata37', 'HurinkEdata38', 'HurinkEdata39', 'HurinkEdata3', 'HurinkEdata40', 'HurinkEdata41', 'HurinkEdata42', 'HurinkEdata43', 'HurinkEdata44', 'HurinkEdata45', 'HurinkEdata46', 'HurinkEdata47', 'HurinkEdata48', 'HurinkEdata49', 'HurinkEdata4', 'HurinkEdata50', 'HurinkEdata51', 'HurinkEdata52', 'HurinkEdata53', 'HurinkEdata54', 'HurinkEdata55', 'HurinkEdata56', 'HurinkEdata57', 'HurinkEdata58', 'HurinkEdata59', 'HurinkEdata5', 'HurinkEdata60', 'HurinkEdata61', 'HurinkEdata62', 'HurinkEdata63', 'HurinkEdata64', 'HurinkEdata65', 'HurinkEdata66', 'HurinkEdata6', 'HurinkEdata7', 'HurinkEdata8', 'HurinkEdata9', 'HurinkRdata10', 'HurinkRdata11', 'HurinkRdata12', 'HurinkRdata13', 'HurinkRdata14', 'HurinkRdata15', 'HurinkRdata16', 'HurinkRdata17', 'HurinkRdata18', 'HurinkRdata19', 'HurinkRdata1', 'HurinkRdata20', 'HurinkRdata21', 'HurinkRdata22', 'HurinkRdata23', 'HurinkRdata24', 'HurinkRdata25', 'HurinkRdata26', 'HurinkRdata27', 'HurinkRdata28', 'HurinkRdata29', 'HurinkRdata2', 'HurinkRdata30', 'HurinkRdata31', 'HurinkRdata32', 'HurinkRdata33', 'HurinkRdata34', 'HurinkRdata35', 'HurinkRdata36', 'HurinkRdata37', 'HurinkRdata38', 'HurinkRdata39', 'HurinkRdata3', 'HurinkRdata40', 'HurinkRdata41', 'HurinkRdata42', 'HurinkRdata43', 'HurinkRdata44', 'HurinkRdata45', 'HurinkRdata46', 'HurinkRdata47', 'HurinkRdata48', 'HurinkRdata49', 'HurinkRdata4', 'HurinkRdata50', 'HurinkRdata51', 'HurinkRdata52', 'HurinkRdata53', 'HurinkRdata54', 'HurinkRdata55', 'HurinkRdata56', 'HurinkRdata57', 'HurinkRdata58', 'HurinkRdata59', 'HurinkRdata5', 'HurinkRdata60', 'HurinkRdata61', 'HurinkRdata62', 'HurinkRdata63', 'HurinkRdata64', 'HurinkRdata65', 'HurinkRdata66', 'HurinkRdata6', 'HurinkRdata7', 'HurinkRdata8', 'HurinkRdata9', 'HurinkVdata10', 'HurinkVdata11', 'HurinkVdata12', 'HurinkVdata13', 'HurinkVdata14', 'HurinkVdata15', 'HurinkVdata16', 'HurinkVdata17', 'HurinkVdata18', 'HurinkVdata19', 'HurinkVdata1', 'HurinkVdata20', 'HurinkVdata21', 'HurinkVdata22', 'HurinkVdata23', 'HurinkVdata24', 'HurinkVdata25', 'HurinkVdata26', 'HurinkVdata27', 'HurinkVdata28', 'HurinkVdata29', 'HurinkVdata2', 'HurinkVdata30', 'HurinkVdata31', 'HurinkVdata32', 'HurinkVdata33', 'HurinkVdata34', 'HurinkVdata35', 'HurinkVdata36', 'HurinkVdata37', 'HurinkVdata38', 'HurinkVdata39', 'HurinkVdata3', 'HurinkVdata40', 'HurinkVdata41', 'HurinkVdata42', 'HurinkVdata43', 'HurinkVdata44', 'HurinkVdata45', 'HurinkVdata46', 'HurinkVdata47', 'HurinkVdata48', 'HurinkVdata49', 'HurinkVdata4', 'HurinkVdata50', 'HurinkVdata51', 'HurinkVdata52', 'HurinkVdata53', 'HurinkVdata54', 'HurinkVdata55', 'HurinkVdata56', 'HurinkVdata57', 'HurinkVdata58', 'HurinkVdata59', 'HurinkVdata5', 'HurinkVdata60', 'HurinkVdata61', 'HurinkVdata62', 'HurinkVdata63', 'HurinkVdata64', 'HurinkVdata65', 'HurinkVdata66', 'HurinkVdata6', 'HurinkVdata7', 'HurinkVdata8', 'HurinkVdata9', 'DPpaulli10', 'DPpaulli11', 'DPpaulli12', 'DPpaulli13', 'DPpaulli14', 'DPpaulli15', 'DPpaulli16', 'DPpaulli17', 'DPpaulli18', 'DPpaulli1', 'DPpaulli2', 'DPpaulli3', 'DPpaulli4', 'DPpaulli5', 'DPpaulli6', 'DPpaulli7', 'DPpaulli8', 'DPpaulli9', 'ChambersBarnes10', 'ChambersBarnes11', 'ChambersBarnes12', 'ChambersBarnes13', 'ChambersBarnes14', 'ChambersBarnes15', 'ChambersBarnes16', 'ChambersBarnes17', 'ChambersBarnes18', 'ChambersBarnes19', 'ChambersBarnes1', 'ChambersBarnes20', 'ChambersBarnes21', 'ChambersBarnes2', 'ChambersBarnes3', 'ChambersBarnes4', 'ChambersBarnes5', 'ChambersBarnes6', 'ChambersBarnes7', 'ChambersBarnes8', 'ChambersBarnes9', 'Kacem1', 'Kacem2', 'Kacem3', 'Kacem4', 'Fattahi10', 'Fattahi11', 'Fattahi12', 'Fattahi13', 'Fattahi14', 'Fattahi15', 'Fattahi16', 'Fattahi17', 'Fattahi18', 'Fattahi19', 'Fattahi1', 'Fattahi20', 'Fattahi2', 'Fattahi3', 'Fattahi4', 'Fattahi5', 'Fattahi6', 'Fattahi7', 'Fattahi8', 'Fattahi9'])"
      ]
     },
     "execution_count": 11,
     "metadata": {},
     "output_type": "execute_result"
    }
   ],
   "source": [
    "solver['cplex_cp'].keys()"
   ]
  },
  {
   "cell_type": "code",
   "execution_count": 15,
   "metadata": {},
   "outputs": [],
   "source": [
    "best = dict()\n",
    "for instance in solver['ga_best']:\n",
    "    best[instance] = float('inf')\n",
    "    for s in solver:\n",
    "        if instance in solver[s]:\n",
    "            if solver[s][instance]['fitness'] < best[instance]:\n",
    "                best[instance] = solver[s][instance]['fitness']\n"
   ]
  },
  {
   "cell_type": "code",
   "execution_count": 16,
   "metadata": {},
   "outputs": [],
   "source": [
    "def calculate_gap(fitness, best):\n",
    "    return ((fitness - best) / best)"
   ]
  },
  {
   "cell_type": "code",
   "execution_count": 22,
   "metadata": {},
   "outputs": [],
   "source": [
    "def get_in_gap(max_gap):\n",
    "    solver_gap = dict()\n",
    "    for instance in solver['ga_best']:\n",
    "        for s in solver:\n",
    "            if instance in solver[s]:\n",
    "                gap = calculate_gap(solver[s][instance]['fitness'], best[instance])\n",
    "                if gap <= max_gap:\n",
    "                    if s not in solver_gap:\n",
    "                        solver_gap[s] = []\n",
    "                    solver_gap[s].append(instance)\n",
    "    return solver_gap"
   ]
  },
  {
   "cell_type": "code",
   "execution_count": 20,
   "metadata": {},
   "outputs": [],
   "source": [
    "def show_in_gap(max_gap):\n",
    "    solver_gap = get_in_gap(max_gap)\n",
    "    print(max_gap)\n",
    "    for s in solver_gap:\n",
    "        print(f'{s}: {len(solver_gap[s])}')\n"
   ]
  },
  {
   "cell_type": "code",
   "execution_count": 24,
   "metadata": {},
   "outputs": [
    {
     "name": "stdout",
     "output_type": "stream",
     "text": [
      "0\n",
      "cplex_cp: 346\n",
      "ga_best: 30\n",
      "ortools: 58\n",
      "ga_average: 9\n",
      "gurobi: 20\n",
      "cplex_lp: 9\n",
      "0.05\n",
      "cplex_cp: 398\n",
      "gurobi: 99\n",
      "ortools: 215\n",
      "ga_best: 164\n",
      "ga_average: 113\n",
      "cplex_lp: 27\n",
      "0.1\n",
      "cplex_cp: 400\n",
      "ga_best: 214\n",
      "gurobi: 158\n",
      "ortools: 268\n",
      "ga_average: 182\n",
      "cplex_lp: 36\n",
      "0.2\n",
      "cplex_cp: 400\n",
      "ga_average: 275\n",
      "ga_best: 304\n",
      "gurobi: 220\n",
      "ortools: 317\n",
      "cplex_lp: 63\n",
      "0.3\n",
      "cplex_cp: 400\n",
      "ortools: 353\n",
      "ga_average: 329\n",
      "ga_best: 335\n",
      "gurobi: 244\n",
      "cplex_lp: 104\n"
     ]
    }
   ],
   "source": [
    "show_in_gap(0)\n",
    "show_in_gap(0.05)\n",
    "show_in_gap(0.1)\n",
    "show_in_gap(0.2)\n",
    "show_in_gap(0.3)"
   ]
  },
  {
   "cell_type": "code",
   "execution_count": 30,
   "metadata": {},
   "outputs": [],
   "source": [
    "optimal_instances = []\n",
    "for instance in solver['ga_best']:\n",
    "    for s in solver:\n",
    "        if s == 'cplex_cp' or s == 'ortools':\n",
    "            if instance in solver[s]:\n",
    "                if solver[s][instance]['status'] == 1:\n",
    "                    optimal_instances.append(instance)"
   ]
  },
  {
   "cell_type": "code",
   "execution_count": 31,
   "metadata": {},
   "outputs": [
    {
     "data": {
      "text/plain": [
       "84"
      ]
     },
     "execution_count": 31,
     "metadata": {},
     "output_type": "execute_result"
    }
   ],
   "source": [
    "len(optimal_instances)"
   ]
  },
  {
   "cell_type": "code",
   "execution_count": 32,
   "metadata": {},
   "outputs": [
    {
     "data": {
      "text/plain": [
       "0.208955223880597"
      ]
     },
     "execution_count": 32,
     "metadata": {},
     "output_type": "execute_result"
    }
   ],
   "source": [
    "84/402"
   ]
  }
 ],
 "metadata": {
  "kernelspec": {
   "display_name": "Python 3",
   "language": "python",
   "name": "python3"
  },
  "language_info": {
   "codemirror_mode": {
    "name": "ipython",
    "version": 3
   },
   "file_extension": ".py",
   "mimetype": "text/x-python",
   "name": "python",
   "nbconvert_exporter": "python",
   "pygments_lexer": "ipython3",
   "version": "3.10.3"
  }
 },
 "nbformat": 4,
 "nbformat_minor": 2
}
