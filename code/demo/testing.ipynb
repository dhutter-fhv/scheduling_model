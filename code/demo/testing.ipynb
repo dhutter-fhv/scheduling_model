{
 "cells": [
  {
   "cell_type": "markdown",
   "metadata": {},
   "source": [
    "<h4>Imports</h4>"
   ]
  },
  {
   "cell_type": "code",
   "execution_count": 109,
   "metadata": {},
   "outputs": [
    {
     "name": "stdout",
     "output_type": "stream",
     "text": [
      "The autoreload extension is already loaded. To reload it, use:\n",
      "  %reload_ext autoreload\n"
     ]
    }
   ],
   "source": [
    "#NOTE: autoreload is not recursive, only direct imports are reloaded\n",
    "%load_ext autoreload\n",
    "%autoreload 2\n",
    "from data_translator import TestTranslator, EncodeForGA, GAToScheduleTranslator\n",
    "from hybrid_solution_data_loader import get_data\n",
    "from models import Order, SimulationEnvironment, Schedule\n",
    "from solver import GASolver, PSOSolver, GreedyAgentSolver\n",
    "from visualize import visualize_schedule_demo\n",
    "import objective_function"
   ]
  },
  {
   "cell_type": "markdown",
   "metadata": {},
   "source": [
    "Config"
   ]
  },
  {
   "cell_type": "code",
   "execution_count": 110,
   "metadata": {},
   "outputs": [],
   "source": [
    "available_solvers = [\"GASolver\", \"PSOSolver\", \"GreedyAgentSolver\"]\n",
    "use_solver = available_solvers[0]\n",
    "save_file = False\n",
    "file_name = 'just_testing' # NOTE: only change this name for saving files\n",
    "\n",
    "full_name = f'{file_name}_{use_solver}'"
   ]
  },
  {
   "cell_type": "markdown",
   "metadata": {},
   "source": [
    "<h4>Read from Source</h4>"
   ]
  },
  {
   "cell_type": "code",
   "execution_count": 111,
   "metadata": {},
   "outputs": [],
   "source": [
    "n_workstations, recipes, operation_times = get_data(0)\n",
    "recipies, workstations, resources, tasks, _ = TestTranslator().translate(n_workstations, recipes, operation_times)\n",
    "\n",
    "env = SimulationEnvironment(workstations, tasks, resources, recipies)"
   ]
  },
  {
   "cell_type": "markdown",
   "metadata": {},
   "source": [
    "<h4>Create Orders</h4>"
   ]
  },
  {
   "cell_type": "code",
   "execution_count": 112,
   "metadata": {},
   "outputs": [],
   "source": [
    "earliest_slot = 0\n",
    "last_slot = 100\n",
    "recipe_orders = [0, 1, 2, 3, 0, 3, 2, 1, 0, 3] # for dataset 0\n",
    "orders = []\n",
    "o_id = 0\n",
    "for order in recipe_orders:\n",
    "    orders.append(Order(o_id, 0, last_slot, last_slot, [order], 100, 50, False, 0, False, 500)) # for now: use resources to select recipe\n",
    "    o_id = o_id + 1\n"
   ]
  },
  {
   "cell_type": "markdown",
   "metadata": {},
   "source": [
    "<h4>Translate for Solver</h4>"
   ]
  },
  {
   "cell_type": "code",
   "execution_count": 113,
   "metadata": {},
   "outputs": [],
   "source": [
    "if use_solver == \"GASolver\" or use_solver == \"PSOSolver\" or use_solver == \"GreedyAgentSolver\": # NOTE: all solvers use the same encoding right now\n",
    "    # translate datamodel to encoding\n",
    "    encoder = EncodeForGA()\n",
    "    # TODO: alternatives can be completely removed (TEST first)\n",
    "    values, durations, all_jobs, alternatives = encoder.translate(env, orders) # encoding, duration lookup table, list of all jobs used (probably not needed), possible alternatives for each job\n"
   ]
  },
  {
   "cell_type": "markdown",
   "metadata": {},
   "source": [
    "<h4>Run Solver</h4>"
   ]
  },
  {
   "cell_type": "markdown",
   "metadata": {},
   "source": [
    "GA"
   ]
  },
  {
   "cell_type": "code",
   "execution_count": 114,
   "metadata": {},
   "outputs": [
    {
     "name": "stdout",
     "output_type": "stream",
     "text": [
      "Done\n"
     ]
    }
   ],
   "source": [
    "if use_solver == \"GASolver\":\n",
    "    #NOTE: Best makespan so far: 22\n",
    "    crossover = 'two_points' #NOTE: available in PyGAD: 'two_points', 'single_point', 'uniform', 'scattered'\n",
    "    selection = 'rws' #NOTE: available in PyGAD: 'sss' (steady state selection', 'rws' (roulette wheel), 'sus' (stochastic universal selection), 'rank' (rank selection), 'random' (random selection), 'tournament' (tournament selection)\n",
    "    mutation = 'workstation_only' #NOTE: available options: 'workstation_only', 'full_random', 'random_only_feasible' #NOTE 2: so far only workstation_only can find feasible results\n",
    "    objective = 'makespan' #NOTE: available options: 'makespan', 'idle_time'\n",
    "    population_size = 50\n",
    "    offspring_amount = 100\n",
    "    max_generations = 2000\n",
    "\n",
    "    solver = GASolver(values, durations, all_jobs, alternatives, env, orders)\n",
    "    solver.initialize(earliest_slot, last_slot, population_size, offspring_amount, max_generations, crossover=crossover, selection=selection, mutation=mutation, objective=objective)\n",
    "    solver.run()"
   ]
  },
  {
   "cell_type": "code",
   "execution_count": 115,
   "metadata": {},
   "outputs": [],
   "source": [
    "if use_solver == \"GASolver\":\n",
    "    # just for comparison, so the optimizers don't have to run over and over again\n",
    "    ga_result = solver.get_best()\n",
    "    ga_fitness = solver.get_best_fitness()"
   ]
  },
  {
   "attachments": {},
   "cell_type": "markdown",
   "metadata": {},
   "source": [
    "PSO "
   ]
  },
  {
   "cell_type": "code",
   "execution_count": 116,
   "metadata": {},
   "outputs": [],
   "source": [
    "if use_solver == \"PSOSolver\":\n",
    "    #NOTE: no best makespan yet\n",
    "    solver = PSOSolver(values, durations, all_jobs, env, orders)\n",
    "\n",
    "    #solver.initialize(earliest_slot, last_slot, c1=0.5, c2=0.3, w=0.5, max_iter=5000)\n",
    "    solver.initialize(earliest_slot, last_slot, c1=2, c2=2, w=0.1, max_iter=25000) # 'widely used values for integer optimization' https://www.researchgate.net/publication/3949434_Particle_swarm_optimization_for_integer_programming\n",
    "    solver.run()"
   ]
  },
  {
   "cell_type": "code",
   "execution_count": 117,
   "metadata": {},
   "outputs": [],
   "source": [
    "if use_solver == \"PSOSolver\":\n",
    "    # just for comparison, so the optimizers don't have to run over and over again\n",
    "    pso_result = solver.get_best()\n",
    "    pso_fitness = solver.get_best_fitness()"
   ]
  },
  {
   "cell_type": "markdown",
   "metadata": {},
   "source": [
    "Greedy Agent"
   ]
  },
  {
   "cell_type": "code",
   "execution_count": 118,
   "metadata": {},
   "outputs": [],
   "source": [
    "if use_solver == \"GreedyAgentSolver\":\n",
    "    #NOTE: Best makespan so far: 26\n",
    "    solver = GreedyAgentSolver(values, durations, all_jobs, env, orders)\n",
    "    solver.run()"
   ]
  },
  {
   "cell_type": "code",
   "execution_count": 119,
   "metadata": {},
   "outputs": [],
   "source": [
    "if use_solver == \"GreedyAgentSolver\":\n",
    "    # just for comparison, so the optimizers don't have to run over and over again\n",
    "    greedy_result = solver.get_best()\n",
    "    greedy_fitness = solver.get_best_fitness()"
   ]
  },
  {
   "cell_type": "markdown",
   "metadata": {},
   "source": [
    "<h4>Result Output</h4>"
   ]
  },
  {
   "cell_type": "code",
   "execution_count": 120,
   "metadata": {},
   "outputs": [
    {
     "name": "stdout",
     "output_type": "stream",
     "text": [
      "Parameters of the best solution : [ 4  0  3  2  3  9  1  0  0  5  0 10  1  5  1 13  0 14  1 16  2  0  3 13\n",
      "  4  2  4  4  4  9  1 21  1 26  2  2  3 14  3 19  3 21  0 16  0 18  0 23\n",
      "  2  8  4 14  4 19  2 12  3 22]\n",
      "Fitness value of the best solution = 27\n"
     ]
    }
   ],
   "source": [
    "result = solver.get_best()\n",
    "fitness = solver.get_best_fitness()\n",
    "#result = greedy_result\n",
    "#fitness = greedy_fitness\n",
    "#result = pso_result\n",
    "#fitness = pso_fitness\n",
    "#result = ga_result\n",
    "#fitness = ga_fitness\n",
    "\n",
    "print(\"Parameters of the best solution : {solution}\".format(solution=result))\n",
    "print(\"Fitness value of the best solution = {solution_fitness}\".format(solution_fitness=abs(fitness)))\n",
    "fitness_history = solver.assignments_best\n",
    "average_fitness_history = solver.average_assignments\n"
   ]
  },
  {
   "cell_type": "code",
   "execution_count": 121,
   "metadata": {},
   "outputs": [
    {
     "data": {
      "image/png": "[encoded data removed]",
      "text/plain": [
       "<Figure size 432x288 with 1 Axes>"
      ]
     },
     "metadata": {
      "needs_background": "light"
     },
     "output_type": "display_data"
    }
   ],
   "source": [
    "import matplotlib.pyplot as plt\n",
    "if not len(fitness_history) == 0 and not len(average_fitness_history) == 0:\n",
    "    x = list(range(0, len(fitness_history)))\n",
    "    plt.plot(x, fitness_history)\n",
    "    plt.plot(x, average_fitness_history)\n",
    "    plt.title('Fitness History')\n",
    "    plt.legend(['Best Known Fitness', 'Average Fitness'])\n",
    "    plt.xlabel = 'Generation'\n",
    "    plt.ylabel = 'Fitness'\n",
    "    plt.show()"
   ]
  },
  {
   "cell_type": "markdown",
   "metadata": {},
   "source": [
    "<h4>(Optional) Postprocessing</h4>"
   ]
  },
  {
   "cell_type": "code",
   "execution_count": null,
   "metadata": {},
   "outputs": [],
   "source": []
  },
  {
   "cell_type": "markdown",
   "metadata": {},
   "source": [
    "<h4>Translate to Schedule</h4>"
   ]
  },
  {
   "cell_type": "code",
   "execution_count": 122,
   "metadata": {},
   "outputs": [],
   "source": [
    "schedule = GAToScheduleTranslator().translate(result, all_jobs, env, orders)\n",
    "schedule.created_in = env\n",
    "schedule.created_for = orders"
   ]
  },
  {
   "cell_type": "markdown",
   "metadata": {},
   "source": [
    "<h4>Visualize Schedule</h4>"
   ]
  },
  {
   "cell_type": "code",
   "execution_count": 123,
   "metadata": {},
   "outputs": [
    {
     "data": {
      "application/vnd.plotly.v1+json": {
       "config": {
        "plotlyServerURL": "https://plot.ly"
       },
       "data": [
        {
         "fill": "toself",
         "fillcolor": "rgb(121, 250, 13)",
         "hoverinfo": "name",
         "legendgroup": "rgb(121, 250, 13)",
         "mode": "none",
         "name": "Order 6",
         "type": "scatter",
         "x": [
          14,
          19,
          19,
          14,
          14,
          19,
          21,
          21,
          19,
          19,
          21,
          22,
          22,
          21,
          21,
          2,
          8,
          8,
          2
         ],
         "y": [
          2.8,
          2.8,
          3.2,
          3.2,
          null,
          2.8,
          2.8,
          3.2,
          3.2,
          null,
          2.8,
          2.8,
          3.2,
          3.2,
          null,
          -0.2,
          -0.2,
          0.2,
          0.2
         ]
        },
        {
         "fill": "toself",
         "fillcolor": "rgb(146, 19, 38)",
         "hoverinfo": "name",
         "legendgroup": "rgb(146, 19, 38)",
         "mode": "none",
         "name": "Order 7",
         "type": "scatter",
         "x": [
          16,
          18,
          18,
          16,
          16,
          18,
          23,
          23,
          18,
          18,
          23,
          27,
          27,
          23
         ],
         "y": [
          0.8,
          0.8,
          1.2,
          1.2,
          null,
          0.8,
          0.8,
          1.2,
          1.2,
          null,
          0.8,
          0.8,
          1.2,
          1.2
         ]
        },
        {
         "fill": "toself",
         "fillcolor": "rgb(171, 44, 63)",
         "hoverinfo": "name",
         "legendgroup": "rgb(171, 44, 63)",
         "mode": "none",
         "name": "Order 8",
         "type": "scatter",
         "x": [
          14,
          19,
          19,
          14,
          14,
          19,
          24,
          24,
          19,
          19,
          8,
          12,
          12,
          8
         ],
         "y": [
          3.8,
          3.8,
          4.2,
          4.2,
          null,
          3.8,
          3.8,
          4.2,
          4.2,
          null,
          -0.2,
          -0.2,
          0.2,
          0.2
         ]
        },
        {
         "fill": "toself",
         "fillcolor": "rgb(196, 69, 88)",
         "hoverinfo": "name",
         "legendgroup": "rgb(196, 69, 88)",
         "mode": "none",
         "name": "Order 9",
         "type": "scatter",
         "x": [
          22,
          23,
          23,
          22,
          22,
          12,
          14,
          14,
          12
         ],
         "y": [
          2.8,
          2.8,
          3.2,
          3.2,
          null,
          -0.2,
          -0.2,
          0.2,
          0.2
         ]
        },
        {
         "fill": "toself",
         "fillcolor": "rgb(21, 150, 169)",
         "hoverinfo": "name",
         "legendgroup": "rgb(21, 150, 169)",
         "mode": "none",
         "name": "Order 2",
         "type": "scatter",
         "x": [
          5,
          13,
          13,
          5,
          5,
          13,
          14,
          14,
          13,
          13,
          16,
          21,
          21,
          16,
          16,
          14,
          16,
          16,
          14
         ],
         "y": [
          1.8,
          1.8,
          2.2,
          2.2,
          null,
          1.8,
          1.8,
          2.2,
          2.2,
          null,
          1.8,
          1.8,
          2.2,
          2.2,
          null,
          0.8,
          0.8,
          1.2,
          1.2
         ]
        },
        {
         "fill": "toself",
         "fillcolor": "rgb(227, 100, 119)",
         "hoverinfo": "name",
         "legendgroup": "rgb(227, 100, 119)",
         "mode": "none",
         "name": "Order 0",
         "type": "scatter",
         "x": [
          0,
          2,
          2,
          0,
          0,
          2,
          9,
          9,
          2,
          2,
          9,
          13,
          13,
          9
         ],
         "y": [
          3.8,
          3.8,
          4.2,
          4.2,
          null,
          2.8,
          2.8,
          3.2,
          3.2,
          null,
          2.8,
          2.8,
          3.2,
          3.2
         ]
        },
        {
         "fill": "toself",
         "fillcolor": "rgb(252, 125, 144)",
         "hoverinfo": "name",
         "legendgroup": "rgb(252, 125, 144)",
         "mode": "none",
         "name": "Order 1",
         "type": "scatter",
         "x": [
          0,
          5,
          5,
          0,
          0,
          5,
          10,
          10,
          5,
          5,
          10,
          14,
          14,
          10
         ],
         "y": [
          1.8,
          1.8,
          2.2,
          2.2,
          null,
          0.8,
          0.8,
          1.2,
          1.2,
          null,
          0.8,
          0.8,
          1.2,
          1.2
         ]
        },
        {
         "fill": "toself",
         "fillcolor": "rgb(46, 175, 194)",
         "hoverinfo": "name",
         "legendgroup": "rgb(46, 175, 194)",
         "mode": "none",
         "name": "Order 3",
         "type": "scatter",
         "x": [
          13,
          14,
          14,
          13,
          13,
          0,
          2,
          2,
          0
         ],
         "y": [
          2.8,
          2.8,
          3.2,
          3.2,
          null,
          -0.2,
          -0.2,
          0.2,
          0.2
         ]
        },
        {
         "fill": "toself",
         "fillcolor": "rgb(71, 200, 219)",
         "hoverinfo": "name",
         "legendgroup": "rgb(71, 200, 219)",
         "mode": "none",
         "name": "Order 4",
         "type": "scatter",
         "x": [
          2,
          4,
          4,
          2,
          2,
          4,
          9,
          9,
          4,
          4,
          9,
          14,
          14,
          9
         ],
         "y": [
          3.8,
          3.8,
          4.2,
          4.2,
          null,
          3.8,
          3.8,
          4.2,
          4.2,
          null,
          3.8,
          3.8,
          4.2,
          4.2
         ]
        },
        {
         "fill": "toself",
         "fillcolor": "rgb(96, 225, 244)",
         "hoverinfo": "name",
         "legendgroup": "rgb(96, 225, 244)",
         "mode": "none",
         "name": "Order 5",
         "type": "scatter",
         "x": [
          21,
          26,
          26,
          21,
          21,
          26,
          27,
          27,
          26
         ],
         "y": [
          1.8,
          1.8,
          2.2,
          2.2,
          null,
          1.8,
          1.8,
          2.2,
          2.2
         ]
        },
        {
         "legendgroup": "rgb(121, 250, 13)",
         "marker": {
          "color": "rgb(121, 250, 13)",
          "opacity": 0,
          "size": 1
         },
         "mode": "markers",
         "name": "",
         "showlegend": false,
         "text": [
          null,
          null,
          null,
          null,
          null,
          null,
          null,
          null
         ],
         "type": "scatter",
         "x": [
          14,
          19,
          19,
          21,
          21,
          22,
          2,
          8
         ],
         "y": [
          3,
          3,
          3,
          3,
          3,
          3,
          0,
          0
         ]
        },
        {
         "legendgroup": "rgb(146, 19, 38)",
         "marker": {
          "color": "rgb(146, 19, 38)",
          "opacity": 0,
          "size": 1
         },
         "mode": "markers",
         "name": "",
         "showlegend": false,
         "text": [
          null,
          null,
          null,
          null,
          null,
          null
         ],
         "type": "scatter",
         "x": [
          16,
          18,
          18,
          23,
          23,
          27
         ],
         "y": [
          1,
          1,
          1,
          1,
          1,
          1
         ]
        },
        {
         "legendgroup": "rgb(171, 44, 63)",
         "marker": {
          "color": "rgb(171, 44, 63)",
          "opacity": 0,
          "size": 1
         },
         "mode": "markers",
         "name": "",
         "showlegend": false,
         "text": [
          null,
          null,
          null,
          null,
          null,
          null
         ],
         "type": "scatter",
         "x": [
          14,
          19,
          19,
          24,
          8,
          12
         ],
         "y": [
          4,
          4,
          4,
          4,
          0,
          0
         ]
        },
        {
         "legendgroup": "rgb(196, 69, 88)",
         "marker": {
          "color": "rgb(196, 69, 88)",
          "opacity": 0,
          "size": 1
         },
         "mode": "markers",
         "name": "",
         "showlegend": false,
         "text": [
          null,
          null,
          null,
          null
         ],
         "type": "scatter",
         "x": [
          22,
          23,
          12,
          14
         ],
         "y": [
          3,
          3,
          0,
          0
         ]
        },
        {
         "legendgroup": "rgb(21, 150, 169)",
         "marker": {
          "color": "rgb(21, 150, 169)",
          "opacity": 0,
          "size": 1
         },
         "mode": "markers",
         "name": "",
         "showlegend": false,
         "text": [
          null,
          null,
          null,
          null,
          null,
          null,
          null,
          null
         ],
         "type": "scatter",
         "x": [
          5,
          13,
          13,
          14,
          16,
          21,
          14,
          16
         ],
         "y": [
          2,
          2,
          2,
          2,
          2,
          2,
          1,
          1
         ]
        },
        {
         "legendgroup": "rgb(227, 100, 119)",
         "marker": {
          "color": "rgb(227, 100, 119)",
          "opacity": 0,
          "size": 1
         },
         "mode": "markers",
         "name": "",
         "showlegend": false,
         "text": [
          null,
          null,
          null,
          null,
          null,
          null
         ],
         "type": "scatter",
         "x": [
          0,
          2,
          2,
          9,
          9,
          13
         ],
         "y": [
          4,
          4,
          3,
          3,
          3,
          3
         ]
        },
        {
         "legendgroup": "rgb(252, 125, 144)",
         "marker": {
          "color": "rgb(252, 125, 144)",
          "opacity": 0,
          "size": 1
         },
         "mode": "markers",
         "name": "",
         "showlegend": false,
         "text": [
          null,
          null,
          null,
          null,
          null,
          null
         ],
         "type": "scatter",
         "x": [
          0,
          5,
          5,
          10,
          10,
          14
         ],
         "y": [
          2,
          2,
          1,
          1,
          1,
          1
         ]
        },
        {
         "legendgroup": "rgb(46, 175, 194)",
         "marker": {
          "color": "rgb(46, 175, 194)",
          "opacity": 0,
          "size": 1
         },
         "mode": "markers",
         "name": "",
         "showlegend": false,
         "text": [
          null,
          null,
          null,
          null
         ],
         "type": "scatter",
         "x": [
          13,
          14,
          0,
          2
         ],
         "y": [
          3,
          3,
          0,
          0
         ]
        },
        {
         "legendgroup": "rgb(71, 200, 219)",
         "marker": {
          "color": "rgb(71, 200, 219)",
          "opacity": 0,
          "size": 1
         },
         "mode": "markers",
         "name": "",
         "showlegend": false,
         "text": [
          null,
          null,
          null,
          null,
          null,
          null
         ],
         "type": "scatter",
         "x": [
          2,
          4,
          4,
          9,
          9,
          14
         ],
         "y": [
          4,
          4,
          4,
          4,
          4,
          4
         ]
        },
        {
         "legendgroup": "rgb(96, 225, 244)",
         "marker": {
          "color": "rgb(96, 225, 244)",
          "opacity": 0,
          "size": 1
         },
         "mode": "markers",
         "name": "",
         "showlegend": false,
         "text": [
          null,
          null,
          null,
          null
         ],
         "type": "scatter",
         "x": [
          21,
          26,
          26,
          27
         ],
         "y": [
          2,
          2,
          2,
          2
         ]
        }
       ],
       "layout": {
        "height": 600,
        "hovermode": "closest",
        "showlegend": true,
        "template": {
         "data": {
          "bar": [
           {
            "error_x": {
             "color": "#2a3f5f"
            },
            "error_y": {
             "color": "#2a3f5f"
            },
            "marker": {
             "line": {
              "color": "#E5ECF6",
              "width": 0.5
             },
             "pattern": {
              "fillmode": "overlay",
              "size": 10,
              "solidity": 0.2
             }
            },
            "type": "bar"
           }
          ],
          "barpolar": [
           {
            "marker": {
             "line": {
              "color": "#E5ECF6",
              "width": 0.5
             },
             "pattern": {
              "fillmode": "overlay",
              "size": 10,
              "solidity": 0.2
             }
            },
            "type": "barpolar"
           }
          ],
          "carpet": [
           {
            "aaxis": {
             "endlinecolor": "#2a3f5f",
             "gridcolor": "white",
             "linecolor": "white",
             "minorgridcolor": "white",
             "startlinecolor": "#2a3f5f"
            },
            "baxis": {
             "endlinecolor": "#2a3f5f",
             "gridcolor": "white",
             "linecolor": "white",
             "minorgridcolor": "white",
             "startlinecolor": "#2a3f5f"
            },
            "type": "carpet"
           }
          ],
          "choropleth": [
           {
            "colorbar": {
             "outlinewidth": 0,
             "ticks": ""
            },
            "type": "choropleth"
           }
          ],
          "contour": [
           {
            "colorbar": {
             "outlinewidth": 0,
             "ticks": ""
            },
            "colorscale": [
             [
              0,
              "#0d0887"
             ],
             [
              0.1111111111111111,
              "#46039f"
             ],
             [
              0.2222222222222222,
              "#7201a8"
             ],
             [
              0.3333333333333333,
              "#9c179e"
             ],
             [
              0.4444444444444444,
              "#bd3786"
             ],
             [
              0.5555555555555556,
              "#d8576b"
             ],
             [
              0.6666666666666666,
              "#ed7953"
             ],
             [
              0.7777777777777778,
              "#fb9f3a"
             ],
             [
              0.8888888888888888,
              "#fdca26"
             ],
             [
              1,
              "#f0f921"
             ]
            ],
            "type": "contour"
           }
          ],
          "contourcarpet": [
           {
            "colorbar": {
             "outlinewidth": 0,
             "ticks": ""
            },
            "type": "contourcarpet"
           }
          ],
          "heatmap": [
           {
            "colorbar": {
             "outlinewidth": 0,
             "ticks": ""
            },
            "colorscale": [
             [
              0,
              "#0d0887"
             ],
             [
              0.1111111111111111,
              "#46039f"
             ],
             [
              0.2222222222222222,
              "#7201a8"
             ],
             [
              0.3333333333333333,
              "#9c179e"
             ],
             [
              0.4444444444444444,
              "#bd3786"
             ],
             [
              0.5555555555555556,
              "#d8576b"
             ],
             [
              0.6666666666666666,
              "#ed7953"
             ],
             [
              0.7777777777777778,
              "#fb9f3a"
             ],
             [
              0.8888888888888888,
              "#fdca26"
             ],
             [
              1,
              "#f0f921"
             ]
            ],
            "type": "heatmap"
           }
          ],
          "heatmapgl": [
           {
            "colorbar": {
             "outlinewidth": 0,
             "ticks": ""
            },
            "colorscale": [
             [
              0,
              "#0d0887"
             ],
             [
              0.1111111111111111,
              "#46039f"
             ],
             [
              0.2222222222222222,
              "#7201a8"
             ],
             [
              0.3333333333333333,
              "#9c179e"
             ],
             [
              0.4444444444444444,
              "#bd3786"
             ],
             [
              0.5555555555555556,
              "#d8576b"
             ],
             [
              0.6666666666666666,
              "#ed7953"
             ],
             [
              0.7777777777777778,
              "#fb9f3a"
             ],
             [
              0.8888888888888888,
              "#fdca26"
             ],
             [
              1,
              "#f0f921"
             ]
            ],
            "type": "heatmapgl"
           }
          ],
          "histogram": [
           {
            "marker": {
             "pattern": {
              "fillmode": "overlay",
              "size": 10,
              "solidity": 0.2
             }
            },
            "type": "histogram"
           }
          ],
          "histogram2d": [
           {
            "colorbar": {
             "outlinewidth": 0,
             "ticks": ""
            },
            "colorscale": [
             [
              0,
              "#0d0887"
             ],
             [
              0.1111111111111111,
              "#46039f"
             ],
             [
              0.2222222222222222,
              "#7201a8"
             ],
             [
              0.3333333333333333,
              "#9c179e"
             ],
             [
              0.4444444444444444,
              "#bd3786"
             ],
             [
              0.5555555555555556,
              "#d8576b"
             ],
             [
              0.6666666666666666,
              "#ed7953"
             ],
             [
              0.7777777777777778,
              "#fb9f3a"
             ],
             [
              0.8888888888888888,
              "#fdca26"
             ],
             [
              1,
              "#f0f921"
             ]
            ],
            "type": "histogram2d"
           }
          ],
          "histogram2dcontour": [
           {
            "colorbar": {
             "outlinewidth": 0,
             "ticks": ""
            },
            "colorscale": [
             [
              0,
              "#0d0887"
             ],
             [
              0.1111111111111111,
              "#46039f"
             ],
             [
              0.2222222222222222,
              "#7201a8"
             ],
             [
              0.3333333333333333,
              "#9c179e"
             ],
             [
              0.4444444444444444,
              "#bd3786"
             ],
             [
              0.5555555555555556,
              "#d8576b"
             ],
             [
              0.6666666666666666,
              "#ed7953"
             ],
             [
              0.7777777777777778,
              "#fb9f3a"
             ],
             [
              0.8888888888888888,
              "#fdca26"
             ],
             [
              1,
              "#f0f921"
             ]
            ],
            "type": "histogram2dcontour"
           }
          ],
          "mesh3d": [
           {
            "colorbar": {
             "outlinewidth": 0,
             "ticks": ""
            },
            "type": "mesh3d"
           }
          ],
          "parcoords": [
           {
            "line": {
             "colorbar": {
              "outlinewidth": 0,
              "ticks": ""
             }
            },
            "type": "parcoords"
           }
          ],
          "pie": [
           {
            "automargin": true,
            "type": "pie"
           }
          ],
          "scatter": [
           {
            "marker": {
             "colorbar": {
              "outlinewidth": 0,
              "ticks": ""
             }
            },
            "type": "scatter"
           }
          ],
          "scatter3d": [
           {
            "line": {
             "colorbar": {
              "outlinewidth": 0,
              "ticks": ""
             }
            },
            "marker": {
             "colorbar": {
              "outlinewidth": 0,
              "ticks": ""
             }
            },
            "type": "scatter3d"
           }
          ],
          "scattercarpet": [
           {
            "marker": {
             "colorbar": {
              "outlinewidth": 0,
              "ticks": ""
             }
            },
            "type": "scattercarpet"
           }
          ],
          "scattergeo": [
           {
            "marker": {
             "colorbar": {
              "outlinewidth": 0,
              "ticks": ""
             }
            },
            "type": "scattergeo"
           }
          ],
          "scattergl": [
           {
            "marker": {
             "colorbar": {
              "outlinewidth": 0,
              "ticks": ""
             }
            },
            "type": "scattergl"
           }
          ],
          "scattermapbox": [
           {
            "marker": {
             "colorbar": {
              "outlinewidth": 0,
              "ticks": ""
             }
            },
            "type": "scattermapbox"
           }
          ],
          "scatterpolar": [
           {
            "marker": {
             "colorbar": {
              "outlinewidth": 0,
              "ticks": ""
             }
            },
            "type": "scatterpolar"
           }
          ],
          "scatterpolargl": [
           {
            "marker": {
             "colorbar": {
              "outlinewidth": 0,
              "ticks": ""
             }
            },
            "type": "scatterpolargl"
           }
          ],
          "scatterternary": [
           {
            "marker": {
             "colorbar": {
              "outlinewidth": 0,
              "ticks": ""
             }
            },
            "type": "scatterternary"
           }
          ],
          "surface": [
           {
            "colorbar": {
             "outlinewidth": 0,
             "ticks": ""
            },
            "colorscale": [
             [
              0,
              "#0d0887"
             ],
             [
              0.1111111111111111,
              "#46039f"
             ],
             [
              0.2222222222222222,
              "#7201a8"
             ],
             [
              0.3333333333333333,
              "#9c179e"
             ],
             [
              0.4444444444444444,
              "#bd3786"
             ],
             [
              0.5555555555555556,
              "#d8576b"
             ],
             [
              0.6666666666666666,
              "#ed7953"
             ],
             [
              0.7777777777777778,
              "#fb9f3a"
             ],
             [
              0.8888888888888888,
              "#fdca26"
             ],
             [
              1,
              "#f0f921"
             ]
            ],
            "type": "surface"
           }
          ],
          "table": [
           {
            "cells": {
             "fill": {
              "color": "#EBF0F8"
             },
             "line": {
              "color": "white"
             }
            },
            "header": {
             "fill": {
              "color": "#C8D4E3"
             },
             "line": {
              "color": "white"
             }
            },
            "type": "table"
           }
          ]
         },
         "layout": {
          "annotationdefaults": {
           "arrowcolor": "#2a3f5f",
           "arrowhead": 0,
           "arrowwidth": 1
          },
          "autotypenumbers": "strict",
          "coloraxis": {
           "colorbar": {
            "outlinewidth": 0,
            "ticks": ""
           }
          },
          "colorscale": {
           "diverging": [
            [
             0,
             "#8e0152"
            ],
            [
             0.1,
             "#c51b7d"
            ],
            [
             0.2,
             "#de77ae"
            ],
            [
             0.3,
             "#f1b6da"
            ],
            [
             0.4,
             "#fde0ef"
            ],
            [
             0.5,
             "#f7f7f7"
            ],
            [
             0.6,
             "#e6f5d0"
            ],
            [
             0.7,
             "#b8e186"
            ],
            [
             0.8,
             "#7fbc41"
            ],
            [
             0.9,
             "#4d9221"
            ],
            [
             1,
             "#276419"
            ]
           ],
           "sequential": [
            [
             0,
             "#0d0887"
            ],
            [
             0.1111111111111111,
             "#46039f"
            ],
            [
             0.2222222222222222,
             "#7201a8"
            ],
            [
             0.3333333333333333,
             "#9c179e"
            ],
            [
             0.4444444444444444,
             "#bd3786"
            ],
            [
             0.5555555555555556,
             "#d8576b"
            ],
            [
             0.6666666666666666,
             "#ed7953"
            ],
            [
             0.7777777777777778,
             "#fb9f3a"
            ],
            [
             0.8888888888888888,
             "#fdca26"
            ],
            [
             1,
             "#f0f921"
            ]
           ],
           "sequentialminus": [
            [
             0,
             "#0d0887"
            ],
            [
             0.1111111111111111,
             "#46039f"
            ],
            [
             0.2222222222222222,
             "#7201a8"
            ],
            [
             0.3333333333333333,
             "#9c179e"
            ],
            [
             0.4444444444444444,
             "#bd3786"
            ],
            [
             0.5555555555555556,
             "#d8576b"
            ],
            [
             0.6666666666666666,
             "#ed7953"
            ],
            [
             0.7777777777777778,
             "#fb9f3a"
            ],
            [
             0.8888888888888888,
             "#fdca26"
            ],
            [
             1,
             "#f0f921"
            ]
           ]
          },
          "colorway": [
           "#636efa",
           "#EF553B",
           "#00cc96",
           "#ab63fa",
           "#FFA15A",
           "#19d3f3",
           "#FF6692",
           "#B6E880",
           "#FF97FF",
           "#FECB52"
          ],
          "font": {
           "color": "#2a3f5f"
          },
          "geo": {
           "bgcolor": "white",
           "lakecolor": "white",
           "landcolor": "#E5ECF6",
           "showlakes": true,
           "showland": true,
           "subunitcolor": "white"
          },
          "hoverlabel": {
           "align": "left"
          },
          "hovermode": "closest",
          "mapbox": {
           "style": "light"
          },
          "paper_bgcolor": "white",
          "plot_bgcolor": "#E5ECF6",
          "polar": {
           "angularaxis": {
            "gridcolor": "white",
            "linecolor": "white",
            "ticks": ""
           },
           "bgcolor": "#E5ECF6",
           "radialaxis": {
            "gridcolor": "white",
            "linecolor": "white",
            "ticks": ""
           }
          },
          "scene": {
           "xaxis": {
            "backgroundcolor": "#E5ECF6",
            "gridcolor": "white",
            "gridwidth": 2,
            "linecolor": "white",
            "showbackground": true,
            "ticks": "",
            "zerolinecolor": "white"
           },
           "yaxis": {
            "backgroundcolor": "#E5ECF6",
            "gridcolor": "white",
            "gridwidth": 2,
            "linecolor": "white",
            "showbackground": true,
            "ticks": "",
            "zerolinecolor": "white"
           },
           "zaxis": {
            "backgroundcolor": "#E5ECF6",
            "gridcolor": "white",
            "gridwidth": 2,
            "linecolor": "white",
            "showbackground": true,
            "ticks": "",
            "zerolinecolor": "white"
           }
          },
          "shapedefaults": {
           "line": {
            "color": "#2a3f5f"
           }
          },
          "ternary": {
           "aaxis": {
            "gridcolor": "white",
            "linecolor": "white",
            "ticks": ""
           },
           "baxis": {
            "gridcolor": "white",
            "linecolor": "white",
            "ticks": ""
           },
           "bgcolor": "#E5ECF6",
           "caxis": {
            "gridcolor": "white",
            "linecolor": "white",
            "ticks": ""
           }
          },
          "title": {
           "x": 0.05
          },
          "xaxis": {
           "automargin": true,
           "gridcolor": "white",
           "linecolor": "white",
           "ticks": "",
           "title": {
            "standoff": 15
           },
           "zerolinecolor": "white",
           "zerolinewidth": 2
          },
          "yaxis": {
           "automargin": true,
           "gridcolor": "white",
           "linecolor": "white",
           "ticks": "",
           "title": {
            "standoff": 15
           },
           "zerolinecolor": "white",
           "zerolinewidth": 2
          }
         }
        },
        "title": {
         "text": "Gantt Chart"
        },
        "xaxis": {
         "rangeselector": {
          "buttons": [
           {
            "count": 7,
            "label": "1w",
            "step": "day",
            "stepmode": "backward"
           },
           {
            "count": 1,
            "label": "1m",
            "step": "month",
            "stepmode": "backward"
           },
           {
            "count": 6,
            "label": "6m",
            "step": "month",
            "stepmode": "backward"
           },
           {
            "count": 1,
            "label": "YTD",
            "step": "year",
            "stepmode": "todate"
           },
           {
            "count": 1,
            "label": "1y",
            "step": "year",
            "stepmode": "backward"
           },
           {
            "step": "all"
           }
          ]
         },
         "showgrid": false,
         "type": "linear",
         "zeroline": false
        },
        "yaxis": {
         "autorange": false,
         "range": [
          -1,
          6
         ],
         "showgrid": false,
         "ticktext": [
          "w2",
          "w0",
          "w1",
          "w3",
          "w4"
         ],
         "tickvals": [
          0,
          1,
          2,
          3,
          4
         ],
         "zeroline": false
        }
       }
      }
     },
     "metadata": {},
     "output_type": "display_data"
    }
   ],
   "source": [
    "visualize_schedule_demo(schedule, env, orders)"
   ]
  },
  {
   "cell_type": "markdown",
   "metadata": {},
   "source": [
    "<h4>Evaluate Schedule</h4>"
   ]
  },
  {
   "cell_type": "code",
   "execution_count": 124,
   "metadata": {},
   "outputs": [
    {
     "name": "stdout",
     "output_type": "stream",
     "text": [
      "Fitness Values:\n",
      "Makespan: 27\n",
      "Tardiness: 0\n",
      "Deviation: 801\n",
      "Idle Time: 9\n",
      "Profit: 5000\n"
     ]
    }
   ],
   "source": [
    "#NOTE: the objective functions in this case assume the solution is feasible, no additional checks\n",
    "#NOTE: currently the only objective function used during optimization is makespan\n",
    "makespan, tardiness, deviation, idle_time, profit = objective_function.calculate_comparison_values(schedule, orders, env)\n",
    "print(f'Fitness Values:\\nMakespan: {makespan}\\nTardiness: {tardiness}\\nDeviation: {deviation}\\nIdle Time: {idle_time}\\nProfit: {profit}')"
   ]
  },
  {
   "cell_type": "markdown",
   "metadata": {},
   "source": [
    "(Optional) Save Result as JSON for later comparison"
   ]
  },
  {
   "cell_type": "code",
   "execution_count": 125,
   "metadata": {},
   "outputs": [
    {
     "data": {
      "text/plain": [
       "'import json\\nimport orjson # library is supposed to be able to handle numpy values\\nimport numpy as np\\n\\n# doesn\\'t work for some reason (can\\'t save GASolver results currently because of numpy values)\\nclass NpEncoder(json.JSONEncoder):\\n    def default(self, obj):\\n        if isinstance(obj, np.integer):\\n            return int(obj)\\n        if isinstance(obj, np.floating):\\n            return float(obj)\\n        if isinstance(obj, np.ndarray):\\n            return obj.tolist()\\n        if isinstance(obj, np.int64):\\n            return int(obj)\\n        if isinstance(obj, list) and len(obj) > 0 and (isinstance(obj[0], np.int32) or isinstance(obj[0], np.int64)):\\n            newlist = list()\\n            for value in obj:\\n                newlist.append(int(value))\\n            return newlist\\n        return json.JSONEncoder.default(self, obj)\\n\\ndef read_dict(obj):\\n    for key, value in obj.__dict__.items():\\n        if not isinstance(key, str):\\n            print(f\\'Panic: {key} is not a string\\')\\n        if hasattr(value, \\'__dict__\\'):\\n            read_dict(value)\\n        else:\\n            if isinstance(value, np.int64) or isinstance(value, np.int32) or isinstance(value, list):\\n                if isinstance(value, list) and len(value) > 0 and (isinstance(value[0], np.int32) or isinstance(value[0], np.int64)):\\n                    print(key)\\n                    print(type(value[0]))\\n                elif isinstance(value, np.int64) or isinstance(value, np.int32):\\n                    print(key)\\n                    print(type(value))\\n\\n\\nsolver.environment = None # just make the file smaller and smaller\\nsolver.orders = None\\nschedule.created_by = solver\\n\\nif use_solver == \"GASolver\":\\n    solver.ga_instance = None\\n    solver.instance = None\\n    assignment_best = solver.assignments_best\\n    for i in range(len(assignment_best)):\\n        assignment_best[i] = int(assignment_best[i])\\n    solver.assignments_best = assignment_best\\n    best = solver.best_solution\\n    solver.solution_index = int(solver.solution_index)\\n    #best_list_int = []\\n    #for i in range(len(best[0])):\\n    #    best_list_int.append(int(best[0][i]))\\n    #solver.best_solution = best_list_int\\nread_dict(solver) # trying to find weird int32 values for GA\\nschedule.evaluation_results = []\\nschedule.evaluation_results.append((\\'makespan\\', makespan))\\nschedule.evaluation_results.append((\\'tardiness\\', tardiness))\\nschedule.evaluation_results.append((\\'deviation\\', deviation))\\nschedule.evaluation_results.append((\\'idle_time\\', idle_time))\\nschedule.evaluation_results.append((\\'profit\\', profit))\\n\\n\\nif(save_file):\\n    jsonstring = json.dumps(schedule.__dict__, default=lambda o : o.__dict__, indent=4, cls=NpEncoder)\\n    #jsonstring = orjson.dumps(schedule.__dict__, option=orjson.OPT_SERIALIZE_NUMPY)\\n    with open(f\\'results/{file_name}.json\\', \"w\") as outfile:\\n        outfile.write(jsonstring)'"
      ]
     },
     "execution_count": 125,
     "metadata": {},
     "output_type": "execute_result"
    }
   ],
   "source": [
    "\"\"\"import json\n",
    "import orjson # library is supposed to be able to handle numpy values\n",
    "import numpy as np\n",
    "\n",
    "# doesn't work for some reason (can't save GASolver results currently because of numpy values)\n",
    "class NpEncoder(json.JSONEncoder):\n",
    "    def default(self, obj):\n",
    "        if isinstance(obj, np.integer):\n",
    "            return int(obj)\n",
    "        if isinstance(obj, np.floating):\n",
    "            return float(obj)\n",
    "        if isinstance(obj, np.ndarray):\n",
    "            return obj.tolist()\n",
    "        if isinstance(obj, np.int64):\n",
    "            return int(obj)\n",
    "        if isinstance(obj, list) and len(obj) > 0 and (isinstance(obj[0], np.int32) or isinstance(obj[0], np.int64)):\n",
    "            newlist = list()\n",
    "            for value in obj:\n",
    "                newlist.append(int(value))\n",
    "            return newlist\n",
    "        return json.JSONEncoder.default(self, obj)\n",
    "\n",
    "def read_dict(obj):\n",
    "    for key, value in obj.__dict__.items():\n",
    "        if not isinstance(key, str):\n",
    "            print(f'Panic: {key} is not a string')\n",
    "        if hasattr(value, '__dict__'):\n",
    "            read_dict(value)\n",
    "        else:\n",
    "            if isinstance(value, np.int64) or isinstance(value, np.int32) or isinstance(value, list):\n",
    "                if isinstance(value, list) and len(value) > 0 and (isinstance(value[0], np.int32) or isinstance(value[0], np.int64)):\n",
    "                    print(key)\n",
    "                    print(type(value[0]))\n",
    "                elif isinstance(value, np.int64) or isinstance(value, np.int32):\n",
    "                    print(key)\n",
    "                    print(type(value))\n",
    "\n",
    "\n",
    "solver.environment = None # just make the file smaller and smaller\n",
    "solver.orders = None\n",
    "schedule.created_by = solver\n",
    "\n",
    "if use_solver == \"GASolver\":\n",
    "    solver.ga_instance = None\n",
    "    solver.instance = None\n",
    "    assignment_best = solver.assignments_best\n",
    "    for i in range(len(assignment_best)):\n",
    "        assignment_best[i] = int(assignment_best[i])\n",
    "    solver.assignments_best = assignment_best\n",
    "    best = solver.best_solution\n",
    "    solver.solution_index = int(solver.solution_index)\n",
    "    #best_list_int = []\n",
    "    #for i in range(len(best[0])):\n",
    "    #    best_list_int.append(int(best[0][i]))\n",
    "    #solver.best_solution = best_list_int\n",
    "read_dict(solver) # trying to find weird int32 values for GA\n",
    "schedule.evaluation_results = []\n",
    "schedule.evaluation_results.append(('makespan', makespan))\n",
    "schedule.evaluation_results.append(('tardiness', tardiness))\n",
    "schedule.evaluation_results.append(('deviation', deviation))\n",
    "schedule.evaluation_results.append(('idle_time', idle_time))\n",
    "schedule.evaluation_results.append(('profit', profit))\n",
    "\n",
    "\n",
    "if(save_file):\n",
    "    jsonstring = json.dumps(schedule.__dict__, default=lambda o : o.__dict__, indent=4, cls=NpEncoder)\n",
    "    #jsonstring = orjson.dumps(schedule.__dict__, option=orjson.OPT_SERIALIZE_NUMPY)\n",
    "    with open(f'results/{file_name}.json', \"w\") as outfile:\n",
    "        outfile.write(jsonstring)\"\"\"\n"
   ]
  },
  {
   "cell_type": "code",
   "execution_count": 126,
   "metadata": {},
   "outputs": [],
   "source": [
    "import pickle\n",
    "\n",
    "solver.environment = None # make file smaller, since the schedule already knows the environment and the orders\n",
    "solver.orders = None\n",
    "schedule.created_by = solver\n",
    "schedule.evaluation_results = []\n",
    "schedule.evaluation_results.append(('makespan', makespan))\n",
    "schedule.evaluation_results.append(('tardiness', tardiness))\n",
    "schedule.evaluation_results.append(('deviation', deviation))\n",
    "schedule.evaluation_results.append(('idle_time', idle_time))\n",
    "schedule.evaluation_results.append(('profit', profit))\n",
    "\n",
    "if(save_file):\n",
    "    with open(f'results/{full_name}.pickle', 'wb') as outfile:\n",
    "        pickled_data = pickle.dump(schedule, outfile)\n"
   ]
  }
 ],
 "metadata": {
  "kernelspec": {
   "display_name": "Python 3.9.13 64-bit (microsoft store)",
   "language": "python",
   "name": "python3"
  },
  "language_info": {
   "codemirror_mode": {
    "name": "ipython",
    "version": 3
   },
   "file_extension": ".py",
   "mimetype": "text/x-python",
   "name": "python",
   "nbconvert_exporter": "python",
   "pygments_lexer": "ipython3",
   "version": "3.9.13"
  },
  "orig_nbformat": 4,
  "vscode": {
   "interpreter": {
    "hash": "462e7448f083626ea37b7306171372e26a088fcd344dea0651d8925b8464838f"
   }
  }
 },
 "nbformat": 4,
 "nbformat_minor": 2
}
