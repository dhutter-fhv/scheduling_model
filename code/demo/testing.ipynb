{
 "cells": [
  {
   "cell_type": "code",
   "execution_count": 4,
   "metadata": {},
   "outputs": [],
   "source": [
    "from data_translator import TestTranslator\n",
    "from hybrid_solution_data_loader import get_data\n",
    "\n",
    "n_workstations, recipes, operation_times = get_data(0)\n",
    "recipies, workstations, resources, tasks, orders = TestTranslator().translate(n_workstations, recipes, operation_times)\n"
   ]
  },
  {
   "cell_type": "code",
   "execution_count": 6,
   "metadata": {},
   "outputs": [
    {
     "name": "stdout",
     "output_type": "stream",
     "text": [
      "[<models.Recipe object at 0x000002206DF00490>, <models.Recipe object at 0x000002206E888940>, <models.Recipe object at 0x000002206E88A9B0>, <models.Recipe object at 0x000002206E88AE00>]\n"
     ]
    }
   ],
   "source": [
    "print(recipies)"
   ]
  }
 ],
 "metadata": {
  "kernelspec": {
   "display_name": "Python 3.10.3 64-bit",
   "language": "python",
   "name": "python3"
  },
  "language_info": {
   "codemirror_mode": {
    "name": "ipython",
    "version": 3
   },
   "file_extension": ".py",
   "mimetype": "text/x-python",
   "name": "python",
   "nbconvert_exporter": "python",
   "pygments_lexer": "ipython3",
   "version": "3.10.3"
  },
  "orig_nbformat": 4,
  "vscode": {
   "interpreter": {
    "hash": "1e478315ea93f9f083d422a59179b37c6ead09cc57c0e51f656bb4b8796d5f86"
   }
  }
 },
 "nbformat": 4,
 "nbformat_minor": 2
}
