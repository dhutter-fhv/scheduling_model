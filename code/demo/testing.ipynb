{
 "cells": [
  {
   "cell_type": "code",
   "execution_count": 14,
   "metadata": {},
   "outputs": [
    {
     "ename": "ImportError",
     "evalue": "cannot import name 'Order' from 'models' (c:\\Users\\huda\\Documents\\GitHub\\scheduling_model\\code\\demo\\models.py)",
     "output_type": "error",
     "traceback": [
      "\u001b[1;31m---------------------------------------------------------------------------\u001b[0m",
      "\u001b[1;31mImportError\u001b[0m                               Traceback (most recent call last)",
      "Cell \u001b[1;32mIn [14], line 3\u001b[0m\n\u001b[0;32m      1\u001b[0m \u001b[38;5;28;01mfrom\u001b[39;00m \u001b[38;5;21;01mdata_translator\u001b[39;00m \u001b[38;5;28;01mimport\u001b[39;00m TestTranslator\n\u001b[0;32m      2\u001b[0m \u001b[38;5;28;01mfrom\u001b[39;00m \u001b[38;5;21;01mhybrid_solution_data_loader\u001b[39;00m \u001b[38;5;28;01mimport\u001b[39;00m get_data\n\u001b[1;32m----> 3\u001b[0m \u001b[38;5;28;01mfrom\u001b[39;00m \u001b[38;5;21;01mmodels\u001b[39;00m \u001b[38;5;28;01mimport\u001b[39;00m Order\n\u001b[0;32m      5\u001b[0m n_workstations, recipes, operation_times \u001b[38;5;241m=\u001b[39m get_data(\u001b[38;5;241m0\u001b[39m)\n\u001b[0;32m      6\u001b[0m recipies, workstations, _, tasks, _ \u001b[38;5;241m=\u001b[39m TestTranslator()\u001b[38;5;241m.\u001b[39mtranslate(n_workstations, recipes, operation_times)\n",
      "\u001b[1;31mImportError\u001b[0m: cannot import name 'Order' from 'models' (c:\\Users\\huda\\Documents\\GitHub\\scheduling_model\\code\\demo\\models.py)"
     ]
    }
   ],
   "source": [
    "from data_translator import TestTranslator\n",
    "from hybrid_solution_data_loader import get_data\n",
    "from models import Order\n",
    "\n",
    "n_workstations, recipes, operation_times = get_data(0)\n",
    "recipies, workstations, _, tasks, _ = TestTranslator().translate(n_workstations, recipes, operation_times)\n"
   ]
  },
  {
   "cell_type": "code",
   "execution_count": 13,
   "metadata": {},
   "outputs": [
    {
     "ename": "NameError",
     "evalue": "name 'Order' is not defined",
     "output_type": "error",
     "traceback": [
      "\u001b[1;31m---------------------------------------------------------------------------\u001b[0m",
      "\u001b[1;31mNameError\u001b[0m                                 Traceback (most recent call last)",
      "Cell \u001b[1;32mIn [13], line 5\u001b[0m\n\u001b[0;32m      3\u001b[0m o_id \u001b[38;5;241m=\u001b[39m \u001b[38;5;241m0\u001b[39m\n\u001b[0;32m      4\u001b[0m \u001b[38;5;28;01mfor\u001b[39;00m order \u001b[38;5;129;01min\u001b[39;00m recipe_orders:\n\u001b[1;32m----> 5\u001b[0m     orders\u001b[38;5;241m.\u001b[39mappend(\u001b[43mOrder\u001b[49m(o_id, \u001b[38;5;241m0\u001b[39m, \u001b[38;5;241m1000\u001b[39m, \u001b[38;5;241m1200\u001b[39m, [order], \u001b[38;5;241m100\u001b[39m, \u001b[38;5;241m50\u001b[39m, \u001b[38;5;28;01mFalse\u001b[39;00m, \u001b[38;5;241m0\u001b[39m, \u001b[38;5;28;01mFalse\u001b[39;00m, \u001b[38;5;241m500\u001b[39m)) \u001b[38;5;66;03m# for now: use resources to select recipe\u001b[39;00m\n\u001b[0;32m      6\u001b[0m     o_id \u001b[38;5;241m=\u001b[39m o_id \u001b[38;5;241m+\u001b[39m \u001b[38;5;241m1\u001b[39m\n",
      "\u001b[1;31mNameError\u001b[0m: name 'Order' is not defined"
     ]
    }
   ],
   "source": [
    "recipe_orders = [0, 1, 2, 3, 0, 3, 2, 1, 0, 3] # for dataset 0\n",
    "orders = []\n",
    "o_id = 0\n",
    "for order in recipe_orders:\n",
    "    orders.append(Order(o_id, 0, 1000, 1200, [order], 100, 50, False, 0, False, 500)) # for now: use resources to select recipe\n",
    "    o_id = o_id + 1\n"
   ]
  }
 ],
 "metadata": {
  "kernelspec": {
   "display_name": "Python 3.10.3 64-bit",
   "language": "python",
   "name": "python3"
  },
  "language_info": {
   "codemirror_mode": {
    "name": "ipython",
    "version": 3
   },
   "file_extension": ".py",
   "mimetype": "text/x-python",
   "name": "python",
   "nbconvert_exporter": "python",
   "pygments_lexer": "ipython3",
   "version": "3.10.3"
  },
  "orig_nbformat": 4,
  "vscode": {
   "interpreter": {
    "hash": "1e478315ea93f9f083d422a59179b37c6ead09cc57c0e51f656bb4b8796d5f86"
   }
  }
 },
 "nbformat": 4,
 "nbformat_minor": 2
}
