{
 "cells": [
  {
   "cell_type": "code",
   "execution_count": 1,
   "metadata": {},
   "outputs": [],
   "source": [
    "%load_ext autoreload\n",
    "%autoreload 2\n",
    "from data_translator import CMAToScheduleTranslator, TestTranslator, EncodeForCMA, EncodeForGA, GAToScheduleTranslator\n",
    "from hybrid_solution_data_loader import get_data\n",
    "from models import Order, SimulationEnvironment, Schedule\n",
    "from solver import CMAWeightSolver, HybridGreedyAgentSolver\n",
    "from visualize import visualize_schedule_demo\n",
    "import objective_function"
   ]
  },
  {
   "cell_type": "code",
   "execution_count": 2,
   "metadata": {},
   "outputs": [],
   "source": [
    "n_workstations, recipes, operation_times = get_data(3)\n",
    "recipies, workstations, resources, tasks, _ = TestTranslator().translate(n_workstations, recipes, operation_times)\n",
    "\n",
    "env = SimulationEnvironment(workstations, tasks, resources, recipies)"
   ]
  },
  {
   "cell_type": "code",
   "execution_count": 3,
   "metadata": {},
   "outputs": [],
   "source": [
    "earliest_slot = 0\n",
    "last_slot = 100\n",
    "recipe_orders = [0, 1, 2, 3, 0, 3, 2, 1, 0, 3] # for dataset 0\n",
    "orders = []\n",
    "o_id = 0\n",
    "for order in recipe_orders:\n",
    "    orders.append(Order(o_id, 0, last_slot, last_slot, [order], 100, 50, False, 0, False, 500)) # for now: use resources to select recipe\n",
    "    o_id = o_id + 1"
   ]
  },
  {
   "cell_type": "code",
   "execution_count": 4,
   "metadata": {},
   "outputs": [],
   "source": [
    "encoder : EncodeForCMA = EncodeForCMA()\n",
    "values, durations, jobs, due_dates = encoder.translate(env, orders)"
   ]
  },
  {
   "cell_type": "code",
   "execution_count": 5,
   "metadata": {},
   "outputs": [
    {
     "name": "stdout",
     "output_type": "stream",
     "text": [
      "(7_w,15)-aCMA-ES (mu_w=4.5,w_1=34%) in dimension 40 (seed=155022, Wed Jan 18 09:06:20 2023)\n",
      "Iterat #Fevals   function value  axis ratio  sigma  min&max std  t[m:s]\n",
      "    1     15 2.000000000000000e+00 1.0e+00 4.69e-01  5e-01  5e-01 0:02.5\n",
      "    2     30 2.000000000000000e+00 1.0e+00 4.51e-01  4e-01  5e-01 0:04.8\n",
      "    3     45 2.000000000000000e+00 1.1e+00 4.42e-01  4e-01  4e-01 0:07.1\n",
      "    5     75 2.000000000000000e+00 1.1e+00 4.35e-01  4e-01  4e-01 0:11.6\n",
      "    7    105 2.000000000000000e+00 1.1e+00 4.39e-01  4e-01  5e-01 0:16.0\n",
      "    8    120 2.000000000000000e+00 1.1e+00 4.38e-01  4e-01  4e-01 0:18.1\n",
      "termination on tolflatfitness=1 (Wed Jan 18 09:06:38 2023)\n",
      "final/bestever f-value = 2.000000e+00 2.000000e+00\n",
      "incumbent solution: [0.11126619 0.31154961 1.06761676 0.00977598 0.23389311 0.34172128\n",
      " 0.47909694 0.49034178 ...]\n",
      "std deviations: [0.43324512 0.43247434 0.43869114 0.43586477 0.44122406 0.43831211\n",
      " 0.43683171 0.43803321 ...]\n",
      "Done\n"
     ]
    }
   ],
   "source": [
    "solver : CMAWeightSolver = CMAWeightSolver(values, durations, jobs, env, orders)\n",
    "solver.initialize() # doesn't do anything right now\n",
    "solver.run()"
   ]
  },
  {
   "cell_type": "code",
   "execution_count": 6,
   "metadata": {},
   "outputs": [
    {
     "name": "stdout",
     "output_type": "stream",
     "text": [
      "Parameters of the best solution :\n",
      " [0.75471799 0.46053623 0.00943063 0.178834   0.16219971 0.44138252\n",
      " 0.7746765  0.28258172 0.24716997 0.05364336 0.09500606 0.22188406\n",
      " 0.363538   0.5348705  0.09330197 0.07571869 0.20082664 0.43466254\n",
      " 0.16793987 0.07147676 0.28250112 0.52939905 0.00286458 0.04595927\n",
      " 0.33690277 0.33625276 0.27538725 0.26052737 0.14331457 0.800976\n",
      " 0.4687773  0.06471367 0.02727973 1.13255006 0.41294627 0.73100518\n",
      " 0.05707609 0.01958411 0.11192072 0.72669171]\n",
      "Fitness value of the solution: 2\n"
     ]
    }
   ],
   "source": [
    "result = solver.best_solution[0]\n",
    "print(\"Parameters of the best solution :\\n {solution}\".format(solution=result))\n",
    "print(f'Fitness value of the solution: {solver.best_solution[1].result.fbest}')"
   ]
  },
  {
   "cell_type": "code",
   "execution_count": 7,
   "metadata": {},
   "outputs": [],
   "source": [
    "schedule = CMAToScheduleTranslator().translate(result, jobs, due_dates, durations, env, orders)\n",
    "schedule.created_in = env\n",
    "schedule.created_for = orders\n",
    "schedule.created_by = solver"
   ]
  },
  {
   "cell_type": "code",
   "execution_count": 8,
   "metadata": {},
   "outputs": [
    {
     "data": {
      "application/vnd.plotly.v1+json": {
       "config": {
        "plotlyServerURL": "https://plot.ly"
       },
       "data": [
        {
         "fill": "toself",
         "fillcolor": "rgb(254, 254, 47)",
         "hoverinfo": "name",
         "legendgroup": "rgb(254, 254, 47)",
         "mode": "none",
         "name": "Order 8",
         "type": "scatter",
         "x": [
          1,
          2,
          2,
          1,
          1,
          1,
          2,
          2,
          1,
          1,
          1,
          2,
          2,
          1,
          1,
          1,
          2,
          2,
          1,
          1,
          1,
          2,
          2,
          1,
          1,
          1,
          2,
          2,
          1,
          1,
          1,
          2,
          2,
          1,
          1,
          1,
          2,
          2,
          1,
          1,
          1,
          2,
          2,
          1,
          1,
          1,
          2,
          2,
          1,
          1,
          1,
          2,
          2,
          1,
          1,
          1,
          2,
          2,
          1,
          1,
          1,
          2,
          2,
          1,
          1,
          1,
          2,
          2,
          1,
          1,
          1,
          2,
          2,
          1,
          1,
          1,
          2,
          2,
          1,
          1,
          1,
          2,
          2,
          1,
          1,
          1,
          2,
          2,
          1,
          1,
          1,
          2,
          2,
          1,
          1,
          1,
          2,
          2,
          1,
          1,
          1,
          2,
          2,
          1,
          1,
          1,
          2,
          2,
          1,
          1,
          1,
          2,
          2,
          1,
          1,
          1,
          2,
          2,
          1,
          1,
          1,
          2,
          2,
          1,
          1,
          1,
          2,
          2,
          1,
          1,
          1,
          2,
          2,
          1,
          1,
          1,
          2,
          2,
          1,
          1,
          1,
          2,
          2,
          1,
          1,
          1,
          2,
          2,
          1,
          1,
          1,
          2,
          2,
          1,
          1,
          1,
          2,
          2,
          1,
          1,
          1,
          2,
          2,
          1,
          1,
          1,
          2,
          2,
          1,
          1,
          1,
          2,
          2,
          1,
          1,
          1,
          2,
          2,
          1,
          1,
          1,
          2,
          2,
          1,
          1,
          1,
          2,
          2,
          1,
          1,
          1,
          2,
          2,
          1,
          1,
          1,
          2,
          2,
          1
         ],
         "y": [
          -0.2,
          -0.2,
          0.2,
          0.2,
          null,
          -0.2,
          -0.2,
          0.2,
          0.2,
          null,
          -0.2,
          -0.2,
          0.2,
          0.2,
          null,
          -0.2,
          -0.2,
          0.2,
          0.2,
          null,
          -0.2,
          -0.2,
          0.2,
          0.2,
          null,
          -0.2,
          -0.2,
          0.2,
          0.2,
          null,
          -0.2,
          -0.2,
          0.2,
          0.2,
          null,
          -0.2,
          -0.2,
          0.2,
          0.2,
          null,
          -0.2,
          -0.2,
          0.2,
          0.2,
          null,
          -0.2,
          -0.2,
          0.2,
          0.2,
          null,
          -0.2,
          -0.2,
          0.2,
          0.2,
          null,
          -0.2,
          -0.2,
          0.2,
          0.2,
          null,
          -0.2,
          -0.2,
          0.2,
          0.2,
          null,
          -0.2,
          -0.2,
          0.2,
          0.2,
          null,
          -0.2,
          -0.2,
          0.2,
          0.2,
          null,
          -0.2,
          -0.2,
          0.2,
          0.2,
          null,
          -0.2,
          -0.2,
          0.2,
          0.2,
          null,
          -0.2,
          -0.2,
          0.2,
          0.2,
          null,
          -0.2,
          -0.2,
          0.2,
          0.2,
          null,
          -0.2,
          -0.2,
          0.2,
          0.2,
          null,
          -0.2,
          -0.2,
          0.2,
          0.2,
          null,
          -0.2,
          -0.2,
          0.2,
          0.2,
          null,
          -0.2,
          -0.2,
          0.2,
          0.2,
          null,
          -0.2,
          -0.2,
          0.2,
          0.2,
          null,
          -0.2,
          -0.2,
          0.2,
          0.2,
          null,
          -0.2,
          -0.2,
          0.2,
          0.2,
          null,
          -0.2,
          -0.2,
          0.2,
          0.2,
          null,
          -0.2,
          -0.2,
          0.2,
          0.2,
          null,
          -0.2,
          -0.2,
          0.2,
          0.2,
          null,
          -0.2,
          -0.2,
          0.2,
          0.2,
          null,
          -0.2,
          -0.2,
          0.2,
          0.2,
          null,
          -0.2,
          -0.2,
          0.2,
          0.2,
          null,
          -0.2,
          -0.2,
          0.2,
          0.2,
          null,
          -0.2,
          -0.2,
          0.2,
          0.2,
          null,
          -0.2,
          -0.2,
          0.2,
          0.2,
          null,
          -0.2,
          -0.2,
          0.2,
          0.2,
          null,
          -0.2,
          -0.2,
          0.2,
          0.2,
          null,
          -0.2,
          -0.2,
          0.2,
          0.2,
          null,
          -0.2,
          -0.2,
          0.2,
          0.2,
          null,
          -0.2,
          -0.2,
          0.2,
          0.2
         ]
        },
        {
         "legendgroup": "rgb(254, 254, 47)",
         "marker": {
          "color": "rgb(254, 254, 47)",
          "opacity": 0,
          "size": 1
         },
         "mode": "markers",
         "name": "",
         "showlegend": false,
         "text": [
          null,
          null,
          null,
          null,
          null,
          null,
          null,
          null,
          null,
          null,
          null,
          null,
          null,
          null,
          null,
          null,
          null,
          null,
          null,
          null,
          null,
          null,
          null,
          null,
          null,
          null,
          null,
          null,
          null,
          null,
          null,
          null,
          null,
          null,
          null,
          null,
          null,
          null,
          null,
          null,
          null,
          null,
          null,
          null,
          null,
          null,
          null,
          null,
          null,
          null,
          null,
          null,
          null,
          null,
          null,
          null,
          null,
          null,
          null,
          null,
          null,
          null,
          null,
          null,
          null,
          null,
          null,
          null,
          null,
          null,
          null,
          null,
          null,
          null,
          null,
          null,
          null,
          null,
          null,
          null
         ],
         "type": "scatter",
         "x": [
          1,
          2,
          1,
          2,
          1,
          2,
          1,
          2,
          1,
          2,
          1,
          2,
          1,
          2,
          1,
          2,
          1,
          2,
          1,
          2,
          1,
          2,
          1,
          2,
          1,
          2,
          1,
          2,
          1,
          2,
          1,
          2,
          1,
          2,
          1,
          2,
          1,
          2,
          1,
          2,
          1,
          2,
          1,
          2,
          1,
          2,
          1,
          2,
          1,
          2,
          1,
          2,
          1,
          2,
          1,
          2,
          1,
          2,
          1,
          2,
          1,
          2,
          1,
          2,
          1,
          2,
          1,
          2,
          1,
          2,
          1,
          2,
          1,
          2,
          1,
          2,
          1,
          2,
          1,
          2
         ],
         "y": [
          0,
          0,
          0,
          0,
          0,
          0,
          0,
          0,
          0,
          0,
          0,
          0,
          0,
          0,
          0,
          0,
          0,
          0,
          0,
          0,
          0,
          0,
          0,
          0,
          0,
          0,
          0,
          0,
          0,
          0,
          0,
          0,
          0,
          0,
          0,
          0,
          0,
          0,
          0,
          0,
          0,
          0,
          0,
          0,
          0,
          0,
          0,
          0,
          0,
          0,
          0,
          0,
          0,
          0,
          0,
          0,
          0,
          0,
          0,
          0,
          0,
          0,
          0,
          0,
          0,
          0,
          0,
          0,
          0,
          0,
          0,
          0,
          0,
          0,
          0,
          0,
          0,
          0,
          0,
          0
         ]
        }
       ],
       "layout": {
        "height": 600,
        "hovermode": "closest",
        "showlegend": true,
        "template": {
         "data": {
          "bar": [
           {
            "error_x": {
             "color": "#2a3f5f"
            },
            "error_y": {
             "color": "#2a3f5f"
            },
            "marker": {
             "line": {
              "color": "#E5ECF6",
              "width": 0.5
             },
             "pattern": {
              "fillmode": "overlay",
              "size": 10,
              "solidity": 0.2
             }
            },
            "type": "bar"
           }
          ],
          "barpolar": [
           {
            "marker": {
             "line": {
              "color": "#E5ECF6",
              "width": 0.5
             },
             "pattern": {
              "fillmode": "overlay",
              "size": 10,
              "solidity": 0.2
             }
            },
            "type": "barpolar"
           }
          ],
          "carpet": [
           {
            "aaxis": {
             "endlinecolor": "#2a3f5f",
             "gridcolor": "white",
             "linecolor": "white",
             "minorgridcolor": "white",
             "startlinecolor": "#2a3f5f"
            },
            "baxis": {
             "endlinecolor": "#2a3f5f",
             "gridcolor": "white",
             "linecolor": "white",
             "minorgridcolor": "white",
             "startlinecolor": "#2a3f5f"
            },
            "type": "carpet"
           }
          ],
          "choropleth": [
           {
            "colorbar": {
             "outlinewidth": 0,
             "ticks": ""
            },
            "type": "choropleth"
           }
          ],
          "contour": [
           {
            "colorbar": {
             "outlinewidth": 0,
             "ticks": ""
            },
            "colorscale": [
             [
              0,
              "#0d0887"
             ],
             [
              0.1111111111111111,
              "#46039f"
             ],
             [
              0.2222222222222222,
              "#7201a8"
             ],
             [
              0.3333333333333333,
              "#9c179e"
             ],
             [
              0.4444444444444444,
              "#bd3786"
             ],
             [
              0.5555555555555556,
              "#d8576b"
             ],
             [
              0.6666666666666666,
              "#ed7953"
             ],
             [
              0.7777777777777778,
              "#fb9f3a"
             ],
             [
              0.8888888888888888,
              "#fdca26"
             ],
             [
              1,
              "#f0f921"
             ]
            ],
            "type": "contour"
           }
          ],
          "contourcarpet": [
           {
            "colorbar": {
             "outlinewidth": 0,
             "ticks": ""
            },
            "type": "contourcarpet"
           }
          ],
          "heatmap": [
           {
            "colorbar": {
             "outlinewidth": 0,
             "ticks": ""
            },
            "colorscale": [
             [
              0,
              "#0d0887"
             ],
             [
              0.1111111111111111,
              "#46039f"
             ],
             [
              0.2222222222222222,
              "#7201a8"
             ],
             [
              0.3333333333333333,
              "#9c179e"
             ],
             [
              0.4444444444444444,
              "#bd3786"
             ],
             [
              0.5555555555555556,
              "#d8576b"
             ],
             [
              0.6666666666666666,
              "#ed7953"
             ],
             [
              0.7777777777777778,
              "#fb9f3a"
             ],
             [
              0.8888888888888888,
              "#fdca26"
             ],
             [
              1,
              "#f0f921"
             ]
            ],
            "type": "heatmap"
           }
          ],
          "heatmapgl": [
           {
            "colorbar": {
             "outlinewidth": 0,
             "ticks": ""
            },
            "colorscale": [
             [
              0,
              "#0d0887"
             ],
             [
              0.1111111111111111,
              "#46039f"
             ],
             [
              0.2222222222222222,
              "#7201a8"
             ],
             [
              0.3333333333333333,
              "#9c179e"
             ],
             [
              0.4444444444444444,
              "#bd3786"
             ],
             [
              0.5555555555555556,
              "#d8576b"
             ],
             [
              0.6666666666666666,
              "#ed7953"
             ],
             [
              0.7777777777777778,
              "#fb9f3a"
             ],
             [
              0.8888888888888888,
              "#fdca26"
             ],
             [
              1,
              "#f0f921"
             ]
            ],
            "type": "heatmapgl"
           }
          ],
          "histogram": [
           {
            "marker": {
             "pattern": {
              "fillmode": "overlay",
              "size": 10,
              "solidity": 0.2
             }
            },
            "type": "histogram"
           }
          ],
          "histogram2d": [
           {
            "colorbar": {
             "outlinewidth": 0,
             "ticks": ""
            },
            "colorscale": [
             [
              0,
              "#0d0887"
             ],
             [
              0.1111111111111111,
              "#46039f"
             ],
             [
              0.2222222222222222,
              "#7201a8"
             ],
             [
              0.3333333333333333,
              "#9c179e"
             ],
             [
              0.4444444444444444,
              "#bd3786"
             ],
             [
              0.5555555555555556,
              "#d8576b"
             ],
             [
              0.6666666666666666,
              "#ed7953"
             ],
             [
              0.7777777777777778,
              "#fb9f3a"
             ],
             [
              0.8888888888888888,
              "#fdca26"
             ],
             [
              1,
              "#f0f921"
             ]
            ],
            "type": "histogram2d"
           }
          ],
          "histogram2dcontour": [
           {
            "colorbar": {
             "outlinewidth": 0,
             "ticks": ""
            },
            "colorscale": [
             [
              0,
              "#0d0887"
             ],
             [
              0.1111111111111111,
              "#46039f"
             ],
             [
              0.2222222222222222,
              "#7201a8"
             ],
             [
              0.3333333333333333,
              "#9c179e"
             ],
             [
              0.4444444444444444,
              "#bd3786"
             ],
             [
              0.5555555555555556,
              "#d8576b"
             ],
             [
              0.6666666666666666,
              "#ed7953"
             ],
             [
              0.7777777777777778,
              "#fb9f3a"
             ],
             [
              0.8888888888888888,
              "#fdca26"
             ],
             [
              1,
              "#f0f921"
             ]
            ],
            "type": "histogram2dcontour"
           }
          ],
          "mesh3d": [
           {
            "colorbar": {
             "outlinewidth": 0,
             "ticks": ""
            },
            "type": "mesh3d"
           }
          ],
          "parcoords": [
           {
            "line": {
             "colorbar": {
              "outlinewidth": 0,
              "ticks": ""
             }
            },
            "type": "parcoords"
           }
          ],
          "pie": [
           {
            "automargin": true,
            "type": "pie"
           }
          ],
          "scatter": [
           {
            "fillpattern": {
             "fillmode": "overlay",
             "size": 10,
             "solidity": 0.2
            },
            "type": "scatter"
           }
          ],
          "scatter3d": [
           {
            "line": {
             "colorbar": {
              "outlinewidth": 0,
              "ticks": ""
             }
            },
            "marker": {
             "colorbar": {
              "outlinewidth": 0,
              "ticks": ""
             }
            },
            "type": "scatter3d"
           }
          ],
          "scattercarpet": [
           {
            "marker": {
             "colorbar": {
              "outlinewidth": 0,
              "ticks": ""
             }
            },
            "type": "scattercarpet"
           }
          ],
          "scattergeo": [
           {
            "marker": {
             "colorbar": {
              "outlinewidth": 0,
              "ticks": ""
             }
            },
            "type": "scattergeo"
           }
          ],
          "scattergl": [
           {
            "marker": {
             "colorbar": {
              "outlinewidth": 0,
              "ticks": ""
             }
            },
            "type": "scattergl"
           }
          ],
          "scattermapbox": [
           {
            "marker": {
             "colorbar": {
              "outlinewidth": 0,
              "ticks": ""
             }
            },
            "type": "scattermapbox"
           }
          ],
          "scatterpolar": [
           {
            "marker": {
             "colorbar": {
              "outlinewidth": 0,
              "ticks": ""
             }
            },
            "type": "scatterpolar"
           }
          ],
          "scatterpolargl": [
           {
            "marker": {
             "colorbar": {
              "outlinewidth": 0,
              "ticks": ""
             }
            },
            "type": "scatterpolargl"
           }
          ],
          "scatterternary": [
           {
            "marker": {
             "colorbar": {
              "outlinewidth": 0,
              "ticks": ""
             }
            },
            "type": "scatterternary"
           }
          ],
          "surface": [
           {
            "colorbar": {
             "outlinewidth": 0,
             "ticks": ""
            },
            "colorscale": [
             [
              0,
              "#0d0887"
             ],
             [
              0.1111111111111111,
              "#46039f"
             ],
             [
              0.2222222222222222,
              "#7201a8"
             ],
             [
              0.3333333333333333,
              "#9c179e"
             ],
             [
              0.4444444444444444,
              "#bd3786"
             ],
             [
              0.5555555555555556,
              "#d8576b"
             ],
             [
              0.6666666666666666,
              "#ed7953"
             ],
             [
              0.7777777777777778,
              "#fb9f3a"
             ],
             [
              0.8888888888888888,
              "#fdca26"
             ],
             [
              1,
              "#f0f921"
             ]
            ],
            "type": "surface"
           }
          ],
          "table": [
           {
            "cells": {
             "fill": {
              "color": "#EBF0F8"
             },
             "line": {
              "color": "white"
             }
            },
            "header": {
             "fill": {
              "color": "#C8D4E3"
             },
             "line": {
              "color": "white"
             }
            },
            "type": "table"
           }
          ]
         },
         "layout": {
          "annotationdefaults": {
           "arrowcolor": "#2a3f5f",
           "arrowhead": 0,
           "arrowwidth": 1
          },
          "autotypenumbers": "strict",
          "coloraxis": {
           "colorbar": {
            "outlinewidth": 0,
            "ticks": ""
           }
          },
          "colorscale": {
           "diverging": [
            [
             0,
             "#8e0152"
            ],
            [
             0.1,
             "#c51b7d"
            ],
            [
             0.2,
             "#de77ae"
            ],
            [
             0.3,
             "#f1b6da"
            ],
            [
             0.4,
             "#fde0ef"
            ],
            [
             0.5,
             "#f7f7f7"
            ],
            [
             0.6,
             "#e6f5d0"
            ],
            [
             0.7,
             "#b8e186"
            ],
            [
             0.8,
             "#7fbc41"
            ],
            [
             0.9,
             "#4d9221"
            ],
            [
             1,
             "#276419"
            ]
           ],
           "sequential": [
            [
             0,
             "#0d0887"
            ],
            [
             0.1111111111111111,
             "#46039f"
            ],
            [
             0.2222222222222222,
             "#7201a8"
            ],
            [
             0.3333333333333333,
             "#9c179e"
            ],
            [
             0.4444444444444444,
             "#bd3786"
            ],
            [
             0.5555555555555556,
             "#d8576b"
            ],
            [
             0.6666666666666666,
             "#ed7953"
            ],
            [
             0.7777777777777778,
             "#fb9f3a"
            ],
            [
             0.8888888888888888,
             "#fdca26"
            ],
            [
             1,
             "#f0f921"
            ]
           ],
           "sequentialminus": [
            [
             0,
             "#0d0887"
            ],
            [
             0.1111111111111111,
             "#46039f"
            ],
            [
             0.2222222222222222,
             "#7201a8"
            ],
            [
             0.3333333333333333,
             "#9c179e"
            ],
            [
             0.4444444444444444,
             "#bd3786"
            ],
            [
             0.5555555555555556,
             "#d8576b"
            ],
            [
             0.6666666666666666,
             "#ed7953"
            ],
            [
             0.7777777777777778,
             "#fb9f3a"
            ],
            [
             0.8888888888888888,
             "#fdca26"
            ],
            [
             1,
             "#f0f921"
            ]
           ]
          },
          "colorway": [
           "#636efa",
           "#EF553B",
           "#00cc96",
           "#ab63fa",
           "#FFA15A",
           "#19d3f3",
           "#FF6692",
           "#B6E880",
           "#FF97FF",
           "#FECB52"
          ],
          "font": {
           "color": "#2a3f5f"
          },
          "geo": {
           "bgcolor": "white",
           "lakecolor": "white",
           "landcolor": "#E5ECF6",
           "showlakes": true,
           "showland": true,
           "subunitcolor": "white"
          },
          "hoverlabel": {
           "align": "left"
          },
          "hovermode": "closest",
          "mapbox": {
           "style": "light"
          },
          "paper_bgcolor": "white",
          "plot_bgcolor": "#E5ECF6",
          "polar": {
           "angularaxis": {
            "gridcolor": "white",
            "linecolor": "white",
            "ticks": ""
           },
           "bgcolor": "#E5ECF6",
           "radialaxis": {
            "gridcolor": "white",
            "linecolor": "white",
            "ticks": ""
           }
          },
          "scene": {
           "xaxis": {
            "backgroundcolor": "#E5ECF6",
            "gridcolor": "white",
            "gridwidth": 2,
            "linecolor": "white",
            "showbackground": true,
            "ticks": "",
            "zerolinecolor": "white"
           },
           "yaxis": {
            "backgroundcolor": "#E5ECF6",
            "gridcolor": "white",
            "gridwidth": 2,
            "linecolor": "white",
            "showbackground": true,
            "ticks": "",
            "zerolinecolor": "white"
           },
           "zaxis": {
            "backgroundcolor": "#E5ECF6",
            "gridcolor": "white",
            "gridwidth": 2,
            "linecolor": "white",
            "showbackground": true,
            "ticks": "",
            "zerolinecolor": "white"
           }
          },
          "shapedefaults": {
           "line": {
            "color": "#2a3f5f"
           }
          },
          "ternary": {
           "aaxis": {
            "gridcolor": "white",
            "linecolor": "white",
            "ticks": ""
           },
           "baxis": {
            "gridcolor": "white",
            "linecolor": "white",
            "ticks": ""
           },
           "bgcolor": "#E5ECF6",
           "caxis": {
            "gridcolor": "white",
            "linecolor": "white",
            "ticks": ""
           }
          },
          "title": {
           "x": 0.05
          },
          "xaxis": {
           "automargin": true,
           "gridcolor": "white",
           "linecolor": "white",
           "ticks": "",
           "title": {
            "standoff": 15
           },
           "zerolinecolor": "white",
           "zerolinewidth": 2
          },
          "yaxis": {
           "automargin": true,
           "gridcolor": "white",
           "linecolor": "white",
           "ticks": "",
           "title": {
            "standoff": 15
           },
           "zerolinecolor": "white",
           "zerolinewidth": 2
          }
         }
        },
        "title": {
         "text": "Gantt Chart"
        },
        "xaxis": {
         "rangeselector": {
          "buttons": [
           {
            "count": 7,
            "label": "1w",
            "step": "day",
            "stepmode": "backward"
           },
           {
            "count": 1,
            "label": "1m",
            "step": "month",
            "stepmode": "backward"
           },
           {
            "count": 6,
            "label": "6m",
            "step": "month",
            "stepmode": "backward"
           },
           {
            "count": 1,
            "label": "YTD",
            "step": "year",
            "stepmode": "todate"
           },
           {
            "count": 1,
            "label": "1y",
            "step": "year",
            "stepmode": "backward"
           },
           {
            "step": "all"
           }
          ]
         },
         "showgrid": false,
         "type": "linear",
         "zeroline": false
        },
        "yaxis": {
         "autorange": false,
         "range": [
          -1,
          2
         ],
         "showgrid": false,
         "ticktext": [
          "w0"
         ],
         "tickvals": [
          0
         ],
         "zeroline": false
        }
       }
      }
     },
     "metadata": {},
     "output_type": "display_data"
    }
   ],
   "source": [
    "#TODO: current solution could be a result of either a) bug in schedule building (more likely) or b) lack of feasibility checks, since they shouldn't be necessary\n",
    "visualize_schedule_demo(schedule, env, orders)"
   ]
  },
  {
   "cell_type": "code",
   "execution_count": 9,
   "metadata": {},
   "outputs": [
    {
     "ename": "AttributeError",
     "evalue": "'NoneType' object has no attribute 'tasks'",
     "output_type": "error",
     "traceback": [
      "\u001b[1;31m---------------------------------------------------------------------------\u001b[0m",
      "\u001b[1;31mAttributeError\u001b[0m                            Traceback (most recent call last)",
      "Cell \u001b[1;32mIn[9], line 1\u001b[0m\n\u001b[1;32m----> 1\u001b[0m fitness_values \u001b[39m=\u001b[39m objective_function\u001b[39m.\u001b[39;49mcalculate_comparison_values(schedule, orders, env)\n\u001b[0;32m      2\u001b[0m \u001b[39mprint\u001b[39m(\u001b[39mf\u001b[39m\u001b[39m'\u001b[39m\u001b[39mFitness Values:\u001b[39m\u001b[39m\\n\u001b[39;00m\u001b[39mMakespan: \u001b[39m\u001b[39m{\u001b[39;00mfitness_values[\u001b[39m0\u001b[39m]\u001b[39m}\u001b[39;00m\u001b[39m\\n\u001b[39;00m\u001b[39mTardiness: \u001b[39m\u001b[39m{\u001b[39;00mfitness_values[\u001b[39m1\u001b[39m]\u001b[39m}\u001b[39;00m\u001b[39m\\n\u001b[39;00m\u001b[39mDeviation: \u001b[39m\u001b[39m{\u001b[39;00mfitness_values[\u001b[39m2\u001b[39m]\u001b[39m}\u001b[39;00m\u001b[39m\\n\u001b[39;00m\u001b[39mIdle Time: \u001b[39m\u001b[39m{\u001b[39;00mfitness_values[\u001b[39m3\u001b[39m]\u001b[39m}\u001b[39;00m\u001b[39m\\n\u001b[39;00m\u001b[39mProfit: \u001b[39m\u001b[39m{\u001b[39;00mfitness_values[\u001b[39m4\u001b[39m]\u001b[39m}\u001b[39;00m\u001b[39m'\u001b[39m)\n",
      "File \u001b[1;32mc:\\Users\\huda\\Documents\\GitHub\\scheduling_model\\code\\demo\\objective_function.py:117\u001b[0m, in \u001b[0;36mcalculate_comparison_values\u001b[1;34m(schedule, orders, environment)\u001b[0m\n\u001b[0;32m    114\u001b[0m \u001b[39mdef\u001b[39;00m \u001b[39mcalculate_comparison_values\u001b[39m(schedule : Schedule, orders, environment : SimulationEnvironment):\n\u001b[0;32m    115\u001b[0m     \u001b[39m# NOTE: unscheduled orders are currently not accounted for in these functions\u001b[39;00m\n\u001b[0;32m    116\u001b[0m     makespan_fitness \u001b[39m=\u001b[39m makespan(schedule, environment)\n\u001b[1;32m--> 117\u001b[0m     tardiness_fitness \u001b[39m=\u001b[39m min_tardiness(schedule, orders, environment)\n\u001b[0;32m    118\u001b[0m     deviation_fitness \u001b[39m=\u001b[39m min_deviation(schedule, orders, environment)\n\u001b[0;32m    119\u001b[0m     idle_time_fitness \u001b[39m=\u001b[39m min_idle_time(schedule, environment)\n",
      "File \u001b[1;32mc:\\Users\\huda\\Documents\\GitHub\\scheduling_model\\code\\demo\\objective_function.py:46\u001b[0m, in \u001b[0;36mmin_tardiness\u001b[1;34m(schedule, orders, environment)\u001b[0m\n\u001b[0;32m     44\u001b[0m \u001b[39mfor\u001b[39;00m order \u001b[39min\u001b[39;00m orders:\n\u001b[0;32m     45\u001b[0m     last_assignment, workstation \u001b[39m=\u001b[39m get_last(schedule, order, environment)\n\u001b[1;32m---> 46\u001b[0m     duration \u001b[39m=\u001b[39m environment\u001b[39m.\u001b[39;49mget_duration(last_assignment[\u001b[39m0\u001b[39;49m], workstation)\n\u001b[0;32m     47\u001b[0m     start \u001b[39m=\u001b[39m last_assignment[\u001b[39m1\u001b[39m]\n\u001b[0;32m     48\u001b[0m     end \u001b[39m=\u001b[39m start \u001b[39m+\u001b[39m duration\n",
      "File \u001b[1;32mc:\\Users\\huda\\Documents\\GitHub\\scheduling_model\\code\\demo\\models.py:82\u001b[0m, in \u001b[0;36mSimulationEnvironment.get_duration\u001b[1;34m(self, task_id, workstation_id)\u001b[0m\n\u001b[0;32m     80\u001b[0m \u001b[39mdef\u001b[39;00m \u001b[39mget_duration\u001b[39m(\u001b[39mself\u001b[39m, task_id : \u001b[39mint\u001b[39m, workstation_id : \u001b[39mint\u001b[39m) \u001b[39m-\u001b[39m\u001b[39m>\u001b[39m \u001b[39mint\u001b[39m:\n\u001b[0;32m     81\u001b[0m     workstation : Workstation \u001b[39m=\u001b[39m \u001b[39mself\u001b[39m\u001b[39m.\u001b[39mget_workstation(workstation_id)\n\u001b[1;32m---> 82\u001b[0m     \u001b[39mfor\u001b[39;00m task \u001b[39min\u001b[39;00m workstation\u001b[39m.\u001b[39;49mtasks:\n\u001b[0;32m     83\u001b[0m         \u001b[39mif\u001b[39;00m task[\u001b[39m0\u001b[39m] \u001b[39m==\u001b[39m task_id:\n\u001b[0;32m     84\u001b[0m             \u001b[39mreturn\u001b[39;00m task[\u001b[39m1\u001b[39m]\n",
      "\u001b[1;31mAttributeError\u001b[0m: 'NoneType' object has no attribute 'tasks'"
     ]
    }
   ],
   "source": [
    "fitness_values = objective_function.calculate_comparison_values(schedule, orders, env)\n",
    "print(f'Fitness Values:\\nMakespan: {fitness_values[0]}\\nTardiness: {fitness_values[1]}\\nDeviation: {fitness_values[2]}\\nIdle Time: {fitness_values[3]}\\nProfit: {fitness_values[4]}')"
   ]
  },
  {
   "cell_type": "code",
   "execution_count": 10,
   "metadata": {},
   "outputs": [
    {
     "name": "stdout",
     "output_type": "stream",
     "text": [
      "[1, 1, 2, 2, 2, 2, 3, 3, 4, 4, 4, 5, 5, 5, 5, 6, 6, 6, 7, 9]\n",
      "[inf, inf, inf, inf, inf, inf, inf, inf, inf, inf, inf, inf, inf, inf, inf, inf, inf, inf, inf, inf]\n"
     ]
    }
   ],
   "source": [
    "values = [9,2,3,4,5,1,1,2,4,5,6,7,6,2,2,3,4,5,5,6]\n",
    "sorted = []\n",
    "for i in range(len(values)):\n",
    "    idx = values.index(min(values)) # workstation id\n",
    "    sorted.append(values[idx])\n",
    "    values[idx] = float('inf')\n",
    "print(sorted)\n",
    "print(values)"
   ]
  },
  {
   "cell_type": "code",
   "execution_count": 39,
   "metadata": {},
   "outputs": [
    {
     "name": "stdout",
     "output_type": "stream",
     "text": [
      "Done\n",
      "Done\n"
     ]
    }
   ],
   "source": [
    "encoder = EncodeForGA()\n",
    "values, durations, all_jobs = encoder.translate(env, orders)\n",
    "\n",
    "     \n",
    "crossover = 'two_points' #NOTE: available in PyGAD: 'two_points', 'single_point', 'uniform', 'scattered'\n",
    "selection = 'rws' #NOTE: available in PyGAD: 'sss' (steady state selection', 'rws' (roulette wheel), 'sus' (stochastic universal selection), 'rank' (rank selection), 'random' (random selection), 'tournament' (tournament selection)\n",
    "mutation = 'inversion' #NOTE: available options: 'swap', 'inversion', 'scramble', 'adaptive\n",
    "#objective = 'makespan' #NOTE: available options: 'makespan', 'idle_time'\n",
    "population_size = 50\n",
    "max_generations = 2000\n",
    "\n",
    "solver = HybridGreedyAgentSolver(values, durations, all_jobs, env, orders)\n",
    "solver.initialize(mutation, crossover, selection, max_generations, population_size)\n",
    "solver.run()"
   ]
  },
  {
   "cell_type": "code",
   "execution_count": 40,
   "metadata": {},
   "outputs": [
    {
     "name": "stdout",
     "output_type": "stream",
     "text": [
      "Parameters of the best solution : [2, 0, 2, 1, 2, 2, 2, 3, 9, 0, 9, 2, 2, 4, 2, 5, 0, 0, 9, 4, 2, 6, 2, 7, 1, 0, 9, 6, 2, 8, 2, 9, 0, 2, 9, 8, 2, 10, 2, 11, 3, 0, 3, 5, 9, 10, 9, 12, 0, 4, 0, 6, 0, 8, 0, 10, 7, 0, 0, 12, 0, 14, 0, 16, 6, 0, 6, 5, 9, 14, 9, 16, 4, 0, 2, 13, 2, 14, 2, 15]\n",
      "Fitness value of the best solution = 18\n"
     ]
    }
   ],
   "source": [
    "result = solver.get_best()\n",
    "fitness = solver.get_best_fitness()\n",
    "\n",
    "print(\"Parameters of the best solution : {solution}\".format(solution=result))\n",
    "print(\"Fitness value of the best solution = {solution_fitness}\".format(solution_fitness=abs(fitness)))"
   ]
  },
  {
   "cell_type": "code",
   "execution_count": 49,
   "metadata": {},
   "outputs": [
    {
     "name": "stdout",
     "output_type": "stream",
     "text": [
      "Done\n",
      "Parameters of the best solution : [2, 0, 2, 1, 2, 2, 2, 3, 9, 0, 9, 2, 2, 4, 2, 5, 8, 0, 9, 4, 2, 6, 2, 7, 0, 0, 8, 3, 9, 6, 2, 8, 3, 0, 8, 6, 2, 9, 2, 10, 3, 5, 2, 12, 2, 13, 2, 14, 0, 2, 0, 4, 0, 6, 3, 10, 9, 8, 9, 10, 9, 12, 9, 14, 1, 0, 2, 15, 2, 16, 2, 17, 5, 0, 8, 9, 9, 16, 2, 18]\n",
      "Fitness value of the best solution = 19\n"
     ]
    }
   ],
   "source": [
    "new_result = solver.re_run_agent()\n",
    "print(\"Parameters of the best solution : {solution}\".format(solution=new_result[0]))\n",
    "print(\"Fitness value of the best solution = {solution_fitness}\".format(solution_fitness=abs(new_result[1])))"
   ]
  },
  {
   "cell_type": "code",
   "execution_count": 50,
   "metadata": {},
   "outputs": [],
   "source": [
    "result = new_result[0]\n",
    "fitness = new_result[1]"
   ]
  },
  {
   "cell_type": "code",
   "execution_count": 51,
   "metadata": {},
   "outputs": [
    {
     "data": {
      "application/vnd.plotly.v1+json": {
       "config": {
        "plotlyServerURL": "https://plot.ly"
       },
       "data": [
        {
         "fill": "toself",
         "fillcolor": "rgb(0, 128, 255)",
         "hoverinfo": "name",
         "legendgroup": "rgb(0, 128, 255)",
         "mode": "none",
         "name": "Order 2",
         "type": "scatter",
         "x": [
          6,
          9,
          9,
          6,
          6,
          7,
          19,
          19,
          7,
          7,
          4,
          10,
          10,
          4,
          4,
          0,
          3,
          3,
          0
         ],
         "y": [
          5.8,
          5.8,
          6.2,
          6.2,
          null,
          5.8,
          5.8,
          6.2,
          6.2,
          null,
          4.8,
          4.8,
          5.2,
          5.2,
          null,
          3.8,
          3.8,
          4.2,
          4.2
         ]
        },
        {
         "fill": "toself",
         "fillcolor": "rgb(0, 255, 0)",
         "hoverinfo": "name",
         "legendgroup": "rgb(0, 255, 0)",
         "mode": "none",
         "name": "Order 0",
         "type": "scatter",
         "x": [
          0,
          6,
          6,
          0,
          0,
          1,
          4,
          4,
          1,
          1,
          2,
          3,
          3,
          2,
          2,
          3,
          8,
          8,
          3
         ],
         "y": [
          5.8,
          5.8,
          6.2,
          6.2,
          null,
          5.8,
          5.8,
          6.2,
          6.2,
          null,
          5.8,
          5.8,
          6.2,
          6.2,
          null,
          5.8,
          5.8,
          6.2,
          6.2
         ]
        },
        {
         "fill": "toself",
         "fillcolor": "rgb(118, 39, 145)",
         "hoverinfo": "name",
         "legendgroup": "rgb(118, 39, 145)",
         "mode": "none",
         "name": "Order 5",
         "type": "scatter",
         "x": [
          12,
          19,
          19,
          12,
          12,
          13,
          15,
          15,
          13,
          13,
          14,
          19,
          19,
          14,
          14,
          5,
          9,
          9,
          5
         ],
         "y": [
          5.8,
          5.8,
          6.2,
          6.2,
          null,
          5.8,
          5.8,
          6.2,
          6.2,
          null,
          5.8,
          5.8,
          6.2,
          6.2,
          null,
          1.8,
          1.8,
          2.2,
          2.2
         ]
        },
        {
         "fill": "toself",
         "fillcolor": "rgb(128, 191, 128)",
         "hoverinfo": "name",
         "legendgroup": "rgb(128, 191, 128)",
         "mode": "none",
         "name": "Order 4",
         "type": "scatter",
         "x": [
          9,
          10,
          10,
          9,
          9,
          10,
          15,
          15,
          10,
          10,
          6,
          10,
          10,
          6,
          6,
          0,
          9,
          9,
          0
         ],
         "y": [
          5.8,
          5.8,
          6.2,
          6.2,
          null,
          5.8,
          5.8,
          6.2,
          6.2,
          null,
          3.8,
          3.8,
          4.2,
          4.2,
          null,
          1.8,
          1.8,
          2.2,
          2.2
         ]
        },
        {
         "fill": "toself",
         "fillcolor": "rgb(238, 127, 243)",
         "hoverinfo": "name",
         "legendgroup": "rgb(238, 127, 243)",
         "mode": "none",
         "name": "Order 6",
         "type": "scatter",
         "x": [
          2,
          9,
          9,
          2,
          2,
          4,
          9,
          9,
          4,
          4,
          6,
          10,
          10,
          6,
          6,
          10,
          11,
          11,
          10
         ],
         "y": [
          2.8,
          2.8,
          3.2,
          3.2,
          null,
          2.8,
          2.8,
          3.2,
          3.2,
          null,
          2.8,
          2.8,
          3.2,
          3.2,
          null,
          1.8,
          1.8,
          2.2,
          2.2
         ]
        },
        {
         "fill": "toself",
         "fillcolor": "rgb(255, 0, 0)",
         "hoverinfo": "name",
         "legendgroup": "rgb(255, 0, 0)",
         "mode": "none",
         "name": "Order 7",
         "type": "scatter",
         "x": [
          8,
          9,
          9,
          8,
          8,
          10,
          12,
          12,
          10,
          10,
          12,
          13,
          13,
          12,
          12,
          14,
          16,
          16,
          14
         ],
         "y": [
          4.8,
          4.8,
          5.2,
          5.2,
          null,
          4.8,
          4.8,
          5.2,
          5.2,
          null,
          4.8,
          4.8,
          5.2,
          5.2,
          null,
          4.8,
          4.8,
          5.2,
          5.2
         ]
        },
        {
         "fill": "toself",
         "fillcolor": "rgb(255, 0, 255)",
         "hoverinfo": "name",
         "legendgroup": "rgb(255, 0, 255)",
         "mode": "none",
         "name": "Order 1",
         "type": "scatter",
         "x": [
          4,
          12,
          12,
          4,
          4,
          5,
          11,
          11,
          5,
          5,
          0,
          1,
          1,
          0,
          0,
          2,
          4,
          4,
          2
         ],
         "y": [
          5.8,
          5.8,
          6.2,
          6.2,
          null,
          5.8,
          5.8,
          6.2,
          6.2,
          null,
          4.8,
          4.8,
          5.2,
          5.2,
          null,
          4.8,
          4.8,
          5.2,
          5.2
         ]
        },
        {
         "fill": "toself",
         "fillcolor": "rgb(255, 128, 0)",
         "hoverinfo": "name",
         "legendgroup": "rgb(255, 128, 0)",
         "mode": "none",
         "name": "Order 3",
         "type": "scatter",
         "x": [
          8,
          13,
          13,
          8,
          8,
          6,
          8,
          8,
          6,
          6,
          3,
          11,
          11,
          3,
          3,
          0,
          6,
          6,
          0
         ],
         "y": [
          5.8,
          5.8,
          6.2,
          6.2,
          null,
          4.8,
          4.8,
          5.2,
          5.2,
          null,
          3.8,
          3.8,
          4.2,
          4.2,
          null,
          2.8,
          2.8,
          3.2,
          3.2
         ]
        },
        {
         "fill": "toself",
         "fillcolor": "rgb(48, 250, 248)",
         "hoverinfo": "name",
         "legendgroup": "rgb(48, 250, 248)",
         "mode": "none",
         "name": "Order 9",
         "type": "scatter",
         "x": [
          18,
          23,
          23,
          18,
          18,
          16,
          18,
          18,
          16,
          16,
          9,
          17,
          17,
          9,
          9,
          0,
          2,
          2,
          0
         ],
         "y": [
          5.8,
          5.8,
          6.2,
          6.2,
          null,
          4.8,
          4.8,
          5.2,
          5.2,
          null,
          3.8,
          3.8,
          4.2,
          4.2,
          null,
          -0.2,
          -0.2,
          0.2,
          0.2
         ]
        },
        {
         "fill": "toself",
         "fillcolor": "rgb(50, 128, 7)",
         "hoverinfo": "name",
         "legendgroup": "rgb(50, 128, 7)",
         "mode": "none",
         "name": "Order 8",
         "type": "scatter",
         "x": [
          15,
          18,
          18,
          15,
          15,
          16,
          17,
          17,
          16,
          16,
          17,
          22,
          22,
          17,
          17,
          0,
          4,
          4,
          0
         ],
         "y": [
          5.8,
          5.8,
          6.2,
          6.2,
          null,
          5.8,
          5.8,
          6.2,
          6.2,
          null,
          5.8,
          5.8,
          6.2,
          6.2,
          null,
          0.8,
          0.8,
          1.2,
          1.2
         ]
        },
        {
         "legendgroup": "rgb(0, 128, 255)",
         "marker": {
          "color": "rgb(0, 128, 255)",
          "opacity": 0,
          "size": 1
         },
         "mode": "markers",
         "name": "",
         "showlegend": false,
         "text": [
          null,
          null,
          null,
          null,
          null,
          null,
          null,
          null
         ],
         "type": "scatter",
         "x": [
          6,
          9,
          7,
          19,
          4,
          10,
          0,
          3
         ],
         "y": [
          6,
          6,
          6,
          6,
          5,
          5,
          4,
          4
         ]
        },
        {
         "legendgroup": "rgb(0, 255, 0)",
         "marker": {
          "color": "rgb(0, 255, 0)",
          "opacity": 0,
          "size": 1
         },
         "mode": "markers",
         "name": "",
         "showlegend": false,
         "text": [
          null,
          null,
          null,
          null,
          null,
          null,
          null,
          null
         ],
         "type": "scatter",
         "x": [
          0,
          6,
          1,
          4,
          2,
          3,
          3,
          8
         ],
         "y": [
          6,
          6,
          6,
          6,
          6,
          6,
          6,
          6
         ]
        },
        {
         "legendgroup": "rgb(118, 39, 145)",
         "marker": {
          "color": "rgb(118, 39, 145)",
          "opacity": 0,
          "size": 1
         },
         "mode": "markers",
         "name": "",
         "showlegend": false,
         "text": [
          null,
          null,
          null,
          null,
          null,
          null,
          null,
          null
         ],
         "type": "scatter",
         "x": [
          12,
          19,
          13,
          15,
          14,
          19,
          5,
          9
         ],
         "y": [
          6,
          6,
          6,
          6,
          6,
          6,
          2,
          2
         ]
        },
        {
         "legendgroup": "rgb(128, 191, 128)",
         "marker": {
          "color": "rgb(128, 191, 128)",
          "opacity": 0,
          "size": 1
         },
         "mode": "markers",
         "name": "",
         "showlegend": false,
         "text": [
          null,
          null,
          null,
          null,
          null,
          null,
          null,
          null
         ],
         "type": "scatter",
         "x": [
          9,
          10,
          10,
          15,
          6,
          10,
          0,
          9
         ],
         "y": [
          6,
          6,
          6,
          6,
          4,
          4,
          2,
          2
         ]
        },
        {
         "legendgroup": "rgb(238, 127, 243)",
         "marker": {
          "color": "rgb(238, 127, 243)",
          "opacity": 0,
          "size": 1
         },
         "mode": "markers",
         "name": "",
         "showlegend": false,
         "text": [
          null,
          null,
          null,
          null,
          null,
          null,
          null,
          null
         ],
         "type": "scatter",
         "x": [
          2,
          9,
          4,
          9,
          6,
          10,
          10,
          11
         ],
         "y": [
          3,
          3,
          3,
          3,
          3,
          3,
          2,
          2
         ]
        },
        {
         "legendgroup": "rgb(255, 0, 0)",
         "marker": {
          "color": "rgb(255, 0, 0)",
          "opacity": 0,
          "size": 1
         },
         "mode": "markers",
         "name": "",
         "showlegend": false,
         "text": [
          null,
          null,
          null,
          null,
          null,
          null,
          null,
          null
         ],
         "type": "scatter",
         "x": [
          8,
          9,
          10,
          12,
          12,
          13,
          14,
          16
         ],
         "y": [
          5,
          5,
          5,
          5,
          5,
          5,
          5,
          5
         ]
        },
        {
         "legendgroup": "rgb(255, 0, 255)",
         "marker": {
          "color": "rgb(255, 0, 255)",
          "opacity": 0,
          "size": 1
         },
         "mode": "markers",
         "name": "",
         "showlegend": false,
         "text": [
          null,
          null,
          null,
          null,
          null,
          null,
          null,
          null
         ],
         "type": "scatter",
         "x": [
          4,
          12,
          5,
          11,
          0,
          1,
          2,
          4
         ],
         "y": [
          6,
          6,
          6,
          6,
          5,
          5,
          5,
          5
         ]
        },
        {
         "legendgroup": "rgb(255, 128, 0)",
         "marker": {
          "color": "rgb(255, 128, 0)",
          "opacity": 0,
          "size": 1
         },
         "mode": "markers",
         "name": "",
         "showlegend": false,
         "text": [
          null,
          null,
          null,
          null,
          null,
          null,
          null,
          null
         ],
         "type": "scatter",
         "x": [
          8,
          13,
          6,
          8,
          3,
          11,
          0,
          6
         ],
         "y": [
          6,
          6,
          5,
          5,
          4,
          4,
          3,
          3
         ]
        },
        {
         "legendgroup": "rgb(48, 250, 248)",
         "marker": {
          "color": "rgb(48, 250, 248)",
          "opacity": 0,
          "size": 1
         },
         "mode": "markers",
         "name": "",
         "showlegend": false,
         "text": [
          null,
          null,
          null,
          null,
          null,
          null,
          null,
          null
         ],
         "type": "scatter",
         "x": [
          18,
          23,
          16,
          18,
          9,
          17,
          0,
          2
         ],
         "y": [
          6,
          6,
          5,
          5,
          4,
          4,
          0,
          0
         ]
        },
        {
         "legendgroup": "rgb(50, 128, 7)",
         "marker": {
          "color": "rgb(50, 128, 7)",
          "opacity": 0,
          "size": 1
         },
         "mode": "markers",
         "name": "",
         "showlegend": false,
         "text": [
          null,
          null,
          null,
          null,
          null,
          null,
          null,
          null
         ],
         "type": "scatter",
         "x": [
          15,
          18,
          16,
          17,
          17,
          22,
          0,
          4
         ],
         "y": [
          6,
          6,
          6,
          6,
          6,
          6,
          1,
          1
         ]
        }
       ],
       "layout": {
        "height": 600,
        "hovermode": "closest",
        "showlegend": true,
        "template": {
         "data": {
          "bar": [
           {
            "error_x": {
             "color": "#2a3f5f"
            },
            "error_y": {
             "color": "#2a3f5f"
            },
            "marker": {
             "line": {
              "color": "#E5ECF6",
              "width": 0.5
             },
             "pattern": {
              "fillmode": "overlay",
              "size": 10,
              "solidity": 0.2
             }
            },
            "type": "bar"
           }
          ],
          "barpolar": [
           {
            "marker": {
             "line": {
              "color": "#E5ECF6",
              "width": 0.5
             },
             "pattern": {
              "fillmode": "overlay",
              "size": 10,
              "solidity": 0.2
             }
            },
            "type": "barpolar"
           }
          ],
          "carpet": [
           {
            "aaxis": {
             "endlinecolor": "#2a3f5f",
             "gridcolor": "white",
             "linecolor": "white",
             "minorgridcolor": "white",
             "startlinecolor": "#2a3f5f"
            },
            "baxis": {
             "endlinecolor": "#2a3f5f",
             "gridcolor": "white",
             "linecolor": "white",
             "minorgridcolor": "white",
             "startlinecolor": "#2a3f5f"
            },
            "type": "carpet"
           }
          ],
          "choropleth": [
           {
            "colorbar": {
             "outlinewidth": 0,
             "ticks": ""
            },
            "type": "choropleth"
           }
          ],
          "contour": [
           {
            "colorbar": {
             "outlinewidth": 0,
             "ticks": ""
            },
            "colorscale": [
             [
              0,
              "#0d0887"
             ],
             [
              0.1111111111111111,
              "#46039f"
             ],
             [
              0.2222222222222222,
              "#7201a8"
             ],
             [
              0.3333333333333333,
              "#9c179e"
             ],
             [
              0.4444444444444444,
              "#bd3786"
             ],
             [
              0.5555555555555556,
              "#d8576b"
             ],
             [
              0.6666666666666666,
              "#ed7953"
             ],
             [
              0.7777777777777778,
              "#fb9f3a"
             ],
             [
              0.8888888888888888,
              "#fdca26"
             ],
             [
              1,
              "#f0f921"
             ]
            ],
            "type": "contour"
           }
          ],
          "contourcarpet": [
           {
            "colorbar": {
             "outlinewidth": 0,
             "ticks": ""
            },
            "type": "contourcarpet"
           }
          ],
          "heatmap": [
           {
            "colorbar": {
             "outlinewidth": 0,
             "ticks": ""
            },
            "colorscale": [
             [
              0,
              "#0d0887"
             ],
             [
              0.1111111111111111,
              "#46039f"
             ],
             [
              0.2222222222222222,
              "#7201a8"
             ],
             [
              0.3333333333333333,
              "#9c179e"
             ],
             [
              0.4444444444444444,
              "#bd3786"
             ],
             [
              0.5555555555555556,
              "#d8576b"
             ],
             [
              0.6666666666666666,
              "#ed7953"
             ],
             [
              0.7777777777777778,
              "#fb9f3a"
             ],
             [
              0.8888888888888888,
              "#fdca26"
             ],
             [
              1,
              "#f0f921"
             ]
            ],
            "type": "heatmap"
           }
          ],
          "heatmapgl": [
           {
            "colorbar": {
             "outlinewidth": 0,
             "ticks": ""
            },
            "colorscale": [
             [
              0,
              "#0d0887"
             ],
             [
              0.1111111111111111,
              "#46039f"
             ],
             [
              0.2222222222222222,
              "#7201a8"
             ],
             [
              0.3333333333333333,
              "#9c179e"
             ],
             [
              0.4444444444444444,
              "#bd3786"
             ],
             [
              0.5555555555555556,
              "#d8576b"
             ],
             [
              0.6666666666666666,
              "#ed7953"
             ],
             [
              0.7777777777777778,
              "#fb9f3a"
             ],
             [
              0.8888888888888888,
              "#fdca26"
             ],
             [
              1,
              "#f0f921"
             ]
            ],
            "type": "heatmapgl"
           }
          ],
          "histogram": [
           {
            "marker": {
             "pattern": {
              "fillmode": "overlay",
              "size": 10,
              "solidity": 0.2
             }
            },
            "type": "histogram"
           }
          ],
          "histogram2d": [
           {
            "colorbar": {
             "outlinewidth": 0,
             "ticks": ""
            },
            "colorscale": [
             [
              0,
              "#0d0887"
             ],
             [
              0.1111111111111111,
              "#46039f"
             ],
             [
              0.2222222222222222,
              "#7201a8"
             ],
             [
              0.3333333333333333,
              "#9c179e"
             ],
             [
              0.4444444444444444,
              "#bd3786"
             ],
             [
              0.5555555555555556,
              "#d8576b"
             ],
             [
              0.6666666666666666,
              "#ed7953"
             ],
             [
              0.7777777777777778,
              "#fb9f3a"
             ],
             [
              0.8888888888888888,
              "#fdca26"
             ],
             [
              1,
              "#f0f921"
             ]
            ],
            "type": "histogram2d"
           }
          ],
          "histogram2dcontour": [
           {
            "colorbar": {
             "outlinewidth": 0,
             "ticks": ""
            },
            "colorscale": [
             [
              0,
              "#0d0887"
             ],
             [
              0.1111111111111111,
              "#46039f"
             ],
             [
              0.2222222222222222,
              "#7201a8"
             ],
             [
              0.3333333333333333,
              "#9c179e"
             ],
             [
              0.4444444444444444,
              "#bd3786"
             ],
             [
              0.5555555555555556,
              "#d8576b"
             ],
             [
              0.6666666666666666,
              "#ed7953"
             ],
             [
              0.7777777777777778,
              "#fb9f3a"
             ],
             [
              0.8888888888888888,
              "#fdca26"
             ],
             [
              1,
              "#f0f921"
             ]
            ],
            "type": "histogram2dcontour"
           }
          ],
          "mesh3d": [
           {
            "colorbar": {
             "outlinewidth": 0,
             "ticks": ""
            },
            "type": "mesh3d"
           }
          ],
          "parcoords": [
           {
            "line": {
             "colorbar": {
              "outlinewidth": 0,
              "ticks": ""
             }
            },
            "type": "parcoords"
           }
          ],
          "pie": [
           {
            "automargin": true,
            "type": "pie"
           }
          ],
          "scatter": [
           {
            "fillpattern": {
             "fillmode": "overlay",
             "size": 10,
             "solidity": 0.2
            },
            "type": "scatter"
           }
          ],
          "scatter3d": [
           {
            "line": {
             "colorbar": {
              "outlinewidth": 0,
              "ticks": ""
             }
            },
            "marker": {
             "colorbar": {
              "outlinewidth": 0,
              "ticks": ""
             }
            },
            "type": "scatter3d"
           }
          ],
          "scattercarpet": [
           {
            "marker": {
             "colorbar": {
              "outlinewidth": 0,
              "ticks": ""
             }
            },
            "type": "scattercarpet"
           }
          ],
          "scattergeo": [
           {
            "marker": {
             "colorbar": {
              "outlinewidth": 0,
              "ticks": ""
             }
            },
            "type": "scattergeo"
           }
          ],
          "scattergl": [
           {
            "marker": {
             "colorbar": {
              "outlinewidth": 0,
              "ticks": ""
             }
            },
            "type": "scattergl"
           }
          ],
          "scattermapbox": [
           {
            "marker": {
             "colorbar": {
              "outlinewidth": 0,
              "ticks": ""
             }
            },
            "type": "scattermapbox"
           }
          ],
          "scatterpolar": [
           {
            "marker": {
             "colorbar": {
              "outlinewidth": 0,
              "ticks": ""
             }
            },
            "type": "scatterpolar"
           }
          ],
          "scatterpolargl": [
           {
            "marker": {
             "colorbar": {
              "outlinewidth": 0,
              "ticks": ""
             }
            },
            "type": "scatterpolargl"
           }
          ],
          "scatterternary": [
           {
            "marker": {
             "colorbar": {
              "outlinewidth": 0,
              "ticks": ""
             }
            },
            "type": "scatterternary"
           }
          ],
          "surface": [
           {
            "colorbar": {
             "outlinewidth": 0,
             "ticks": ""
            },
            "colorscale": [
             [
              0,
              "#0d0887"
             ],
             [
              0.1111111111111111,
              "#46039f"
             ],
             [
              0.2222222222222222,
              "#7201a8"
             ],
             [
              0.3333333333333333,
              "#9c179e"
             ],
             [
              0.4444444444444444,
              "#bd3786"
             ],
             [
              0.5555555555555556,
              "#d8576b"
             ],
             [
              0.6666666666666666,
              "#ed7953"
             ],
             [
              0.7777777777777778,
              "#fb9f3a"
             ],
             [
              0.8888888888888888,
              "#fdca26"
             ],
             [
              1,
              "#f0f921"
             ]
            ],
            "type": "surface"
           }
          ],
          "table": [
           {
            "cells": {
             "fill": {
              "color": "#EBF0F8"
             },
             "line": {
              "color": "white"
             }
            },
            "header": {
             "fill": {
              "color": "#C8D4E3"
             },
             "line": {
              "color": "white"
             }
            },
            "type": "table"
           }
          ]
         },
         "layout": {
          "annotationdefaults": {
           "arrowcolor": "#2a3f5f",
           "arrowhead": 0,
           "arrowwidth": 1
          },
          "autotypenumbers": "strict",
          "coloraxis": {
           "colorbar": {
            "outlinewidth": 0,
            "ticks": ""
           }
          },
          "colorscale": {
           "diverging": [
            [
             0,
             "#8e0152"
            ],
            [
             0.1,
             "#c51b7d"
            ],
            [
             0.2,
             "#de77ae"
            ],
            [
             0.3,
             "#f1b6da"
            ],
            [
             0.4,
             "#fde0ef"
            ],
            [
             0.5,
             "#f7f7f7"
            ],
            [
             0.6,
             "#e6f5d0"
            ],
            [
             0.7,
             "#b8e186"
            ],
            [
             0.8,
             "#7fbc41"
            ],
            [
             0.9,
             "#4d9221"
            ],
            [
             1,
             "#276419"
            ]
           ],
           "sequential": [
            [
             0,
             "#0d0887"
            ],
            [
             0.1111111111111111,
             "#46039f"
            ],
            [
             0.2222222222222222,
             "#7201a8"
            ],
            [
             0.3333333333333333,
             "#9c179e"
            ],
            [
             0.4444444444444444,
             "#bd3786"
            ],
            [
             0.5555555555555556,
             "#d8576b"
            ],
            [
             0.6666666666666666,
             "#ed7953"
            ],
            [
             0.7777777777777778,
             "#fb9f3a"
            ],
            [
             0.8888888888888888,
             "#fdca26"
            ],
            [
             1,
             "#f0f921"
            ]
           ],
           "sequentialminus": [
            [
             0,
             "#0d0887"
            ],
            [
             0.1111111111111111,
             "#46039f"
            ],
            [
             0.2222222222222222,
             "#7201a8"
            ],
            [
             0.3333333333333333,
             "#9c179e"
            ],
            [
             0.4444444444444444,
             "#bd3786"
            ],
            [
             0.5555555555555556,
             "#d8576b"
            ],
            [
             0.6666666666666666,
             "#ed7953"
            ],
            [
             0.7777777777777778,
             "#fb9f3a"
            ],
            [
             0.8888888888888888,
             "#fdca26"
            ],
            [
             1,
             "#f0f921"
            ]
           ]
          },
          "colorway": [
           "#636efa",
           "#EF553B",
           "#00cc96",
           "#ab63fa",
           "#FFA15A",
           "#19d3f3",
           "#FF6692",
           "#B6E880",
           "#FF97FF",
           "#FECB52"
          ],
          "font": {
           "color": "#2a3f5f"
          },
          "geo": {
           "bgcolor": "white",
           "lakecolor": "white",
           "landcolor": "#E5ECF6",
           "showlakes": true,
           "showland": true,
           "subunitcolor": "white"
          },
          "hoverlabel": {
           "align": "left"
          },
          "hovermode": "closest",
          "mapbox": {
           "style": "light"
          },
          "paper_bgcolor": "white",
          "plot_bgcolor": "#E5ECF6",
          "polar": {
           "angularaxis": {
            "gridcolor": "white",
            "linecolor": "white",
            "ticks": ""
           },
           "bgcolor": "#E5ECF6",
           "radialaxis": {
            "gridcolor": "white",
            "linecolor": "white",
            "ticks": ""
           }
          },
          "scene": {
           "xaxis": {
            "backgroundcolor": "#E5ECF6",
            "gridcolor": "white",
            "gridwidth": 2,
            "linecolor": "white",
            "showbackground": true,
            "ticks": "",
            "zerolinecolor": "white"
           },
           "yaxis": {
            "backgroundcolor": "#E5ECF6",
            "gridcolor": "white",
            "gridwidth": 2,
            "linecolor": "white",
            "showbackground": true,
            "ticks": "",
            "zerolinecolor": "white"
           },
           "zaxis": {
            "backgroundcolor": "#E5ECF6",
            "gridcolor": "white",
            "gridwidth": 2,
            "linecolor": "white",
            "showbackground": true,
            "ticks": "",
            "zerolinecolor": "white"
           }
          },
          "shapedefaults": {
           "line": {
            "color": "#2a3f5f"
           }
          },
          "ternary": {
           "aaxis": {
            "gridcolor": "white",
            "linecolor": "white",
            "ticks": ""
           },
           "baxis": {
            "gridcolor": "white",
            "linecolor": "white",
            "ticks": ""
           },
           "bgcolor": "#E5ECF6",
           "caxis": {
            "gridcolor": "white",
            "linecolor": "white",
            "ticks": ""
           }
          },
          "title": {
           "x": 0.05
          },
          "xaxis": {
           "automargin": true,
           "gridcolor": "white",
           "linecolor": "white",
           "ticks": "",
           "title": {
            "standoff": 15
           },
           "zerolinecolor": "white",
           "zerolinewidth": 2
          },
          "yaxis": {
           "automargin": true,
           "gridcolor": "white",
           "linecolor": "white",
           "ticks": "",
           "title": {
            "standoff": 15
           },
           "zerolinecolor": "white",
           "zerolinewidth": 2
          }
         }
        },
        "title": {
         "text": "Gantt Chart"
        },
        "xaxis": {
         "rangeselector": {
          "buttons": [
           {
            "count": 7,
            "label": "1w",
            "step": "day",
            "stepmode": "backward"
           },
           {
            "count": 1,
            "label": "1m",
            "step": "month",
            "stepmode": "backward"
           },
           {
            "count": 6,
            "label": "6m",
            "step": "month",
            "stepmode": "backward"
           },
           {
            "count": 1,
            "label": "YTD",
            "step": "year",
            "stepmode": "todate"
           },
           {
            "count": 1,
            "label": "1y",
            "step": "year",
            "stepmode": "backward"
           },
           {
            "step": "all"
           }
          ]
         },
         "showgrid": false,
         "type": "linear",
         "zeroline": false
        },
        "yaxis": {
         "autorange": false,
         "range": [
          -1,
          8
         ],
         "showgrid": false,
         "ticktext": [
          "w5",
          "w1",
          "w3",
          "w0",
          "w8",
          "w9",
          "w2"
         ],
         "tickvals": [
          0,
          1,
          2,
          3,
          4,
          5,
          6
         ],
         "zeroline": false
        }
       }
      }
     },
     "metadata": {},
     "output_type": "display_data"
    },
    {
     "name": "stdout",
     "output_type": "stream",
     "text": [
      "Fitness Values:\n",
      "Makespan: 23\n",
      "Tardiness: 0\n",
      "Deviation: 859\n",
      "Idle Time: -13\n",
      "Profit: 5000\n"
     ]
    }
   ],
   "source": [
    "schedule = GAToScheduleTranslator().translate(result, all_jobs, env, orders)\n",
    "schedule.created_in = env\n",
    "schedule.created_for = orders\n",
    "visualize_schedule_demo(schedule, env, orders)\n",
    "fitness_values = objective_function.calculate_comparison_values(schedule, orders, env)\n",
    "print(f'Fitness Values:\\nMakespan: {fitness_values[0]}\\nTardiness: {fitness_values[1]}\\nDeviation: {fitness_values[2]}\\nIdle Time: {fitness_values[3]}\\nProfit: {fitness_values[4]}')"
   ]
  },
  {
   "cell_type": "code",
   "execution_count": 55,
   "metadata": {},
   "outputs": [],
   "source": [
    "import pickle\n",
    "\n",
    "#solver.environment = None # make file smaller, since the schedule already knows the environment and the orders\n",
    "#solver.orders = None\n",
    "#schedule.created_by = solver\n",
    "schedule.created_by = 'HybridAgentSolver'\n",
    "schedule.evaluation_results = []\n",
    "schedule.evaluation_results.append(('makespan', fitness_values[0]))\n",
    "schedule.evaluation_results.append(('tardiness', fitness_values[1]))\n",
    "schedule.evaluation_results.append(('deviation', fitness_values[2]))\n",
    "schedule.evaluation_results.append(('idle_time', fitness_values[3]))\n",
    "schedule.evaluation_results.append(('profit', fitness_values[4]))\n",
    "save_file = True\n",
    "if(save_file):\n",
    "    with open(f'results/HybridSolverTesting.pickle', 'wb') as outfile:\n",
    "        pickled_data = pickle.dump(schedule, outfile)"
   ]
  }
 ],
 "metadata": {
  "kernelspec": {
   "display_name": "Python 3",
   "language": "python",
   "name": "python3"
  },
  "language_info": {
   "codemirror_mode": {
    "name": "ipython",
    "version": 3
   },
   "file_extension": ".py",
   "mimetype": "text/x-python",
   "name": "python",
   "nbconvert_exporter": "python",
   "pygments_lexer": "ipython3",
   "version": "3.11.1"
  },
  "orig_nbformat": 4,
  "vscode": {
   "interpreter": {
    "hash": "1fa67616b1b49c35c458482b0866d2a2c548d80a3d17b7076357e3633b29d939"
   }
  }
 },
 "nbformat": 4,
 "nbformat_minor": 2
}
