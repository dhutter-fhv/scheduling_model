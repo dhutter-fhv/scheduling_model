{
 "cells": [
  {
   "cell_type": "code",
   "execution_count": 1,
   "metadata": {},
   "outputs": [],
   "source": [
    "%load_ext autoreload\n",
    "%autoreload 2\n",
    "from data_translator import CMAToScheduleTranslator, TestTranslator, EncodeForCMA, EncodeForGA, GAToScheduleTranslator\n",
    "from hybrid_solution_data_loader import get_data\n",
    "from models import Order, SimulationEnvironment, Schedule\n",
    "from solver import CMAWeightSolver, HybridGreedyAgentSolver\n",
    "from visualize import visualize_schedule_demo\n",
    "import objective_function"
   ]
  },
  {
   "cell_type": "code",
   "execution_count": 2,
   "metadata": {},
   "outputs": [],
   "source": [
    "n_workstations, recipes, operation_times = get_data(3)\n",
    "recipies, workstations, resources, tasks, _ = TestTranslator().translate(n_workstations, recipes, operation_times)\n",
    "\n",
    "env = SimulationEnvironment(workstations, tasks, resources, recipies)"
   ]
  },
  {
   "cell_type": "code",
   "execution_count": 3,
   "metadata": {},
   "outputs": [],
   "source": [
    "earliest_slot = 0\n",
    "last_slot = 100\n",
    "recipe_orders = [0, 1, 2, 3, 0, 3, 2, 1, 0, 3] # for dataset 0\n",
    "orders = []\n",
    "o_id = 0\n",
    "for order in recipe_orders:\n",
    "    orders.append(Order(o_id, 0, last_slot, last_slot, [order], 100, 50, False, 0, False, 500)) # for now: use resources to select recipe\n",
    "    o_id = o_id + 1"
   ]
  },
  {
   "cell_type": "code",
   "execution_count": 4,
   "metadata": {},
   "outputs": [],
   "source": [
    "encoder : EncodeForCMA = EncodeForCMA()\n",
    "values, durations, jobs, due_dates = encoder.translate(env, orders)"
   ]
  },
  {
   "cell_type": "code",
   "execution_count": 5,
   "metadata": {},
   "outputs": [
    {
     "name": "stdout",
     "output_type": "stream",
     "text": [
      "(7_w,15)-aCMA-ES (mu_w=4.5,w_1=34%) in dimension 40 (seed=896675, Mon Jun 26 14:36:05 2023)\n",
      "Iterat #Fevals   function value  axis ratio  sigma  min&max std  t[m:s]\n",
      "    1     15 2.000000000000000e+00 1.0e+00 4.70e-01  5e-01  5e-01 0:02.5\n",
      "    2     30 2.000000000000000e+00 1.0e+00 4.49e-01  4e-01  5e-01 0:05.0\n",
      "    3     45 2.000000000000000e+00 1.1e+00 4.37e-01  4e-01  4e-01 0:07.5\n",
      "    5     75 2.000000000000000e+00 1.1e+00 4.26e-01  4e-01  4e-01 0:12.5\n",
      "    7    105 7.900000000000000e+01 1.1e+00 4.44e-01  4e-01  5e-01 0:17.6\n",
      "   10    150 2.000000000000000e+00 1.2e+00 4.67e-01  5e-01  5e-01 0:24.5\n",
      "   13    195 2.000000000000000e+00 1.3e+00 5.01e-01  5e-01  5e-01 0:31.0\n",
      "termination on tolflatfitness=1 (Mon Jun 26 14:36:36 2023)\n",
      "final/bestever f-value = 2.000000e+00 2.000000e+00\n",
      "incumbent solution: [0.21166598 0.35487093 1.0789582  0.55334557 0.36967477 0.22953888\n",
      " 0.35043476 0.43827922 ...]\n",
      "std deviations: [0.50035949 0.50282757 0.49184076 0.49674491 0.50039135 0.4973353\n",
      " 0.49727918 0.49562868 ...]\n",
      "Done\n"
     ]
    }
   ],
   "source": [
    "solver : CMAWeightSolver = CMAWeightSolver(values, durations, jobs, env, orders)\n",
    "solver.initialize() # doesn't do anything right now\n",
    "solver.run()"
   ]
  },
  {
   "cell_type": "code",
   "execution_count": 6,
   "metadata": {},
   "outputs": [
    {
     "name": "stdout",
     "output_type": "stream",
     "text": [
      "Parameters of the best solution :\n",
      " [1.66924729e-01 5.29901964e-01 2.24129515e-01 1.35470724e-01\n",
      " 5.64023879e-01 7.95019137e-01 7.84866795e-01 3.46569511e-01\n",
      " 1.17260920e-01 4.61132484e-01 5.34555976e-01 9.11113559e-02\n",
      " 2.45931831e-01 2.45348032e-01 6.62142104e-02 1.84637589e-01\n",
      " 6.87182681e-03 8.47004948e-01 5.33111109e-06 7.68228801e-01\n",
      " 2.38973347e-01 7.39507873e-01 1.95184335e-01 2.62137491e-01\n",
      " 1.46497508e-01 2.94297775e-01 3.53260310e-02 3.31760411e-01\n",
      " 2.21913033e-01 8.12129012e-02 4.24844617e-02 1.37718821e-01\n",
      " 4.18212431e-01 2.18796473e-02 9.06655461e-03 4.72776478e-02\n",
      " 5.46234946e-01 4.61109312e-01 2.35651442e-01 1.10335254e-01]\n",
      "Fitness value of the solution: 2\n"
     ]
    }
   ],
   "source": [
    "result = solver.best_solution[0]\n",
    "print(\"Parameters of the best solution :\\n {solution}\".format(solution=result))\n",
    "print(f'Fitness value of the solution: {solver.best_solution[1].result.fbest}')"
   ]
  },
  {
   "cell_type": "code",
   "execution_count": 7,
   "metadata": {},
   "outputs": [],
   "source": [
    "schedule = CMAToScheduleTranslator().translate(result, jobs, due_dates, durations, env, orders)\n",
    "schedule.created_in = env\n",
    "schedule.created_for = orders\n",
    "schedule.created_by = solver"
   ]
  },
  {
   "cell_type": "code",
   "execution_count": 8,
   "metadata": {},
   "outputs": [
    {
     "data": {
      "application/vnd.plotly.v1+json": {
       "config": {
        "plotlyServerURL": "https://plot.ly"
       },
       "data": [
        {
         "fill": "toself",
         "fillcolor": "rgb(128, 191, 128)",
         "hoverinfo": "name",
         "legendgroup": "rgb(128, 191, 128)",
         "mode": "none",
         "name": "Order 4",
         "type": "scatter",
         "x": [
          1,
          2,
          2,
          1,
          1,
          1,
          2,
          2,
          1,
          1,
          1,
          2,
          2,
          1,
          1,
          1,
          2,
          2,
          1,
          1,
          1,
          2,
          2,
          1,
          1,
          1,
          2,
          2,
          1,
          1,
          1,
          2,
          2,
          1,
          1,
          1,
          2,
          2,
          1,
          1,
          1,
          2,
          2,
          1,
          1,
          1,
          2,
          2,
          1,
          1,
          1,
          2,
          2,
          1,
          1,
          1,
          2,
          2,
          1,
          1,
          1,
          2,
          2,
          1,
          1,
          1,
          2,
          2,
          1,
          1,
          1,
          2,
          2,
          1,
          1,
          1,
          2,
          2,
          1,
          1,
          1,
          2,
          2,
          1,
          1,
          1,
          2,
          2,
          1,
          1,
          1,
          2,
          2,
          1,
          1,
          1,
          2,
          2,
          1,
          1,
          1,
          2,
          2,
          1,
          1,
          1,
          2,
          2,
          1,
          1,
          1,
          2,
          2,
          1,
          1,
          1,
          2,
          2,
          1,
          1,
          1,
          2,
          2,
          1,
          1,
          1,
          2,
          2,
          1,
          1,
          1,
          2,
          2,
          1,
          1,
          1,
          2,
          2,
          1,
          1,
          1,
          2,
          2,
          1,
          1,
          1,
          2,
          2,
          1,
          1,
          1,
          2,
          2,
          1,
          1,
          1,
          2,
          2,
          1,
          1,
          1,
          2,
          2,
          1,
          1,
          1,
          2,
          2,
          1,
          1,
          1,
          2,
          2,
          1,
          1,
          1,
          2,
          2,
          1,
          1,
          1,
          2,
          2,
          1,
          1,
          1,
          2,
          2,
          1,
          1,
          1,
          2,
          2,
          1,
          1,
          1,
          2,
          2,
          1
         ],
         "y": [
          -0.2,
          -0.2,
          0.2,
          0.2,
          null,
          -0.2,
          -0.2,
          0.2,
          0.2,
          null,
          -0.2,
          -0.2,
          0.2,
          0.2,
          null,
          -0.2,
          -0.2,
          0.2,
          0.2,
          null,
          -0.2,
          -0.2,
          0.2,
          0.2,
          null,
          -0.2,
          -0.2,
          0.2,
          0.2,
          null,
          -0.2,
          -0.2,
          0.2,
          0.2,
          null,
          -0.2,
          -0.2,
          0.2,
          0.2,
          null,
          -0.2,
          -0.2,
          0.2,
          0.2,
          null,
          -0.2,
          -0.2,
          0.2,
          0.2,
          null,
          -0.2,
          -0.2,
          0.2,
          0.2,
          null,
          -0.2,
          -0.2,
          0.2,
          0.2,
          null,
          -0.2,
          -0.2,
          0.2,
          0.2,
          null,
          -0.2,
          -0.2,
          0.2,
          0.2,
          null,
          -0.2,
          -0.2,
          0.2,
          0.2,
          null,
          -0.2,
          -0.2,
          0.2,
          0.2,
          null,
          -0.2,
          -0.2,
          0.2,
          0.2,
          null,
          -0.2,
          -0.2,
          0.2,
          0.2,
          null,
          -0.2,
          -0.2,
          0.2,
          0.2,
          null,
          -0.2,
          -0.2,
          0.2,
          0.2,
          null,
          -0.2,
          -0.2,
          0.2,
          0.2,
          null,
          -0.2,
          -0.2,
          0.2,
          0.2,
          null,
          -0.2,
          -0.2,
          0.2,
          0.2,
          null,
          -0.2,
          -0.2,
          0.2,
          0.2,
          null,
          -0.2,
          -0.2,
          0.2,
          0.2,
          null,
          -0.2,
          -0.2,
          0.2,
          0.2,
          null,
          -0.2,
          -0.2,
          0.2,
          0.2,
          null,
          -0.2,
          -0.2,
          0.2,
          0.2,
          null,
          -0.2,
          -0.2,
          0.2,
          0.2,
          null,
          -0.2,
          -0.2,
          0.2,
          0.2,
          null,
          -0.2,
          -0.2,
          0.2,
          0.2,
          null,
          -0.2,
          -0.2,
          0.2,
          0.2,
          null,
          -0.2,
          -0.2,
          0.2,
          0.2,
          null,
          -0.2,
          -0.2,
          0.2,
          0.2,
          null,
          -0.2,
          -0.2,
          0.2,
          0.2,
          null,
          -0.2,
          -0.2,
          0.2,
          0.2,
          null,
          -0.2,
          -0.2,
          0.2,
          0.2,
          null,
          -0.2,
          -0.2,
          0.2,
          0.2,
          null,
          -0.2,
          -0.2,
          0.2,
          0.2,
          null,
          -0.2,
          -0.2,
          0.2,
          0.2
         ]
        },
        {
         "legendgroup": "rgb(128, 191, 128)",
         "marker": {
          "color": "rgb(128, 191, 128)",
          "opacity": 0,
          "size": 1
         },
         "mode": "markers",
         "name": "",
         "showlegend": false,
         "text": [
          null,
          null,
          null,
          null,
          null,
          null,
          null,
          null,
          null,
          null,
          null,
          null,
          null,
          null,
          null,
          null,
          null,
          null,
          null,
          null,
          null,
          null,
          null,
          null,
          null,
          null,
          null,
          null,
          null,
          null,
          null,
          null,
          null,
          null,
          null,
          null,
          null,
          null,
          null,
          null,
          null,
          null,
          null,
          null,
          null,
          null,
          null,
          null,
          null,
          null,
          null,
          null,
          null,
          null,
          null,
          null,
          null,
          null,
          null,
          null,
          null,
          null,
          null,
          null,
          null,
          null,
          null,
          null,
          null,
          null,
          null,
          null,
          null,
          null,
          null,
          null,
          null,
          null,
          null,
          null
         ],
         "type": "scatter",
         "x": [
          1,
          2,
          1,
          2,
          1,
          2,
          1,
          2,
          1,
          2,
          1,
          2,
          1,
          2,
          1,
          2,
          1,
          2,
          1,
          2,
          1,
          2,
          1,
          2,
          1,
          2,
          1,
          2,
          1,
          2,
          1,
          2,
          1,
          2,
          1,
          2,
          1,
          2,
          1,
          2,
          1,
          2,
          1,
          2,
          1,
          2,
          1,
          2,
          1,
          2,
          1,
          2,
          1,
          2,
          1,
          2,
          1,
          2,
          1,
          2,
          1,
          2,
          1,
          2,
          1,
          2,
          1,
          2,
          1,
          2,
          1,
          2,
          1,
          2,
          1,
          2,
          1,
          2,
          1,
          2
         ],
         "y": [
          0,
          0,
          0,
          0,
          0,
          0,
          0,
          0,
          0,
          0,
          0,
          0,
          0,
          0,
          0,
          0,
          0,
          0,
          0,
          0,
          0,
          0,
          0,
          0,
          0,
          0,
          0,
          0,
          0,
          0,
          0,
          0,
          0,
          0,
          0,
          0,
          0,
          0,
          0,
          0,
          0,
          0,
          0,
          0,
          0,
          0,
          0,
          0,
          0,
          0,
          0,
          0,
          0,
          0,
          0,
          0,
          0,
          0,
          0,
          0,
          0,
          0,
          0,
          0,
          0,
          0,
          0,
          0,
          0,
          0,
          0,
          0,
          0,
          0,
          0,
          0,
          0,
          0,
          0,
          0
         ]
        }
       ],
       "layout": {
        "height": 600,
        "hovermode": "closest",
        "showlegend": true,
        "template": {
         "data": {
          "bar": [
           {
            "error_x": {
             "color": "#2a3f5f"
            },
            "error_y": {
             "color": "#2a3f5f"
            },
            "marker": {
             "line": {
              "color": "#E5ECF6",
              "width": 0.5
             },
             "pattern": {
              "fillmode": "overlay",
              "size": 10,
              "solidity": 0.2
             }
            },
            "type": "bar"
           }
          ],
          "barpolar": [
           {
            "marker": {
             "line": {
              "color": "#E5ECF6",
              "width": 0.5
             },
             "pattern": {
              "fillmode": "overlay",
              "size": 10,
              "solidity": 0.2
             }
            },
            "type": "barpolar"
           }
          ],
          "carpet": [
           {
            "aaxis": {
             "endlinecolor": "#2a3f5f",
             "gridcolor": "white",
             "linecolor": "white",
             "minorgridcolor": "white",
             "startlinecolor": "#2a3f5f"
            },
            "baxis": {
             "endlinecolor": "#2a3f5f",
             "gridcolor": "white",
             "linecolor": "white",
             "minorgridcolor": "white",
             "startlinecolor": "#2a3f5f"
            },
            "type": "carpet"
           }
          ],
          "choropleth": [
           {
            "colorbar": {
             "outlinewidth": 0,
             "ticks": ""
            },
            "type": "choropleth"
           }
          ],
          "contour": [
           {
            "colorbar": {
             "outlinewidth": 0,
             "ticks": ""
            },
            "colorscale": [
             [
              0,
              "#0d0887"
             ],
             [
              0.1111111111111111,
              "#46039f"
             ],
             [
              0.2222222222222222,
              "#7201a8"
             ],
             [
              0.3333333333333333,
              "#9c179e"
             ],
             [
              0.4444444444444444,
              "#bd3786"
             ],
             [
              0.5555555555555556,
              "#d8576b"
             ],
             [
              0.6666666666666666,
              "#ed7953"
             ],
             [
              0.7777777777777778,
              "#fb9f3a"
             ],
             [
              0.8888888888888888,
              "#fdca26"
             ],
             [
              1,
              "#f0f921"
             ]
            ],
            "type": "contour"
           }
          ],
          "contourcarpet": [
           {
            "colorbar": {
             "outlinewidth": 0,
             "ticks": ""
            },
            "type": "contourcarpet"
           }
          ],
          "heatmap": [
           {
            "colorbar": {
             "outlinewidth": 0,
             "ticks": ""
            },
            "colorscale": [
             [
              0,
              "#0d0887"
             ],
             [
              0.1111111111111111,
              "#46039f"
             ],
             [
              0.2222222222222222,
              "#7201a8"
             ],
             [
              0.3333333333333333,
              "#9c179e"
             ],
             [
              0.4444444444444444,
              "#bd3786"
             ],
             [
              0.5555555555555556,
              "#d8576b"
             ],
             [
              0.6666666666666666,
              "#ed7953"
             ],
             [
              0.7777777777777778,
              "#fb9f3a"
             ],
             [
              0.8888888888888888,
              "#fdca26"
             ],
             [
              1,
              "#f0f921"
             ]
            ],
            "type": "heatmap"
           }
          ],
          "heatmapgl": [
           {
            "colorbar": {
             "outlinewidth": 0,
             "ticks": ""
            },
            "colorscale": [
             [
              0,
              "#0d0887"
             ],
             [
              0.1111111111111111,
              "#46039f"
             ],
             [
              0.2222222222222222,
              "#7201a8"
             ],
             [
              0.3333333333333333,
              "#9c179e"
             ],
             [
              0.4444444444444444,
              "#bd3786"
             ],
             [
              0.5555555555555556,
              "#d8576b"
             ],
             [
              0.6666666666666666,
              "#ed7953"
             ],
             [
              0.7777777777777778,
              "#fb9f3a"
             ],
             [
              0.8888888888888888,
              "#fdca26"
             ],
             [
              1,
              "#f0f921"
             ]
            ],
            "type": "heatmapgl"
           }
          ],
          "histogram": [
           {
            "marker": {
             "pattern": {
              "fillmode": "overlay",
              "size": 10,
              "solidity": 0.2
             }
            },
            "type": "histogram"
           }
          ],
          "histogram2d": [
           {
            "colorbar": {
             "outlinewidth": 0,
             "ticks": ""
            },
            "colorscale": [
             [
              0,
              "#0d0887"
             ],
             [
              0.1111111111111111,
              "#46039f"
             ],
             [
              0.2222222222222222,
              "#7201a8"
             ],
             [
              0.3333333333333333,
              "#9c179e"
             ],
             [
              0.4444444444444444,
              "#bd3786"
             ],
             [
              0.5555555555555556,
              "#d8576b"
             ],
             [
              0.6666666666666666,
              "#ed7953"
             ],
             [
              0.7777777777777778,
              "#fb9f3a"
             ],
             [
              0.8888888888888888,
              "#fdca26"
             ],
             [
              1,
              "#f0f921"
             ]
            ],
            "type": "histogram2d"
           }
          ],
          "histogram2dcontour": [
           {
            "colorbar": {
             "outlinewidth": 0,
             "ticks": ""
            },
            "colorscale": [
             [
              0,
              "#0d0887"
             ],
             [
              0.1111111111111111,
              "#46039f"
             ],
             [
              0.2222222222222222,
              "#7201a8"
             ],
             [
              0.3333333333333333,
              "#9c179e"
             ],
             [
              0.4444444444444444,
              "#bd3786"
             ],
             [
              0.5555555555555556,
              "#d8576b"
             ],
             [
              0.6666666666666666,
              "#ed7953"
             ],
             [
              0.7777777777777778,
              "#fb9f3a"
             ],
             [
              0.8888888888888888,
              "#fdca26"
             ],
             [
              1,
              "#f0f921"
             ]
            ],
            "type": "histogram2dcontour"
           }
          ],
          "mesh3d": [
           {
            "colorbar": {
             "outlinewidth": 0,
             "ticks": ""
            },
            "type": "mesh3d"
           }
          ],
          "parcoords": [
           {
            "line": {
             "colorbar": {
              "outlinewidth": 0,
              "ticks": ""
             }
            },
            "type": "parcoords"
           }
          ],
          "pie": [
           {
            "automargin": true,
            "type": "pie"
           }
          ],
          "scatter": [
           {
            "fillpattern": {
             "fillmode": "overlay",
             "size": 10,
             "solidity": 0.2
            },
            "type": "scatter"
           }
          ],
          "scatter3d": [
           {
            "line": {
             "colorbar": {
              "outlinewidth": 0,
              "ticks": ""
             }
            },
            "marker": {
             "colorbar": {
              "outlinewidth": 0,
              "ticks": ""
             }
            },
            "type": "scatter3d"
           }
          ],
          "scattercarpet": [
           {
            "marker": {
             "colorbar": {
              "outlinewidth": 0,
              "ticks": ""
             }
            },
            "type": "scattercarpet"
           }
          ],
          "scattergeo": [
           {
            "marker": {
             "colorbar": {
              "outlinewidth": 0,
              "ticks": ""
             }
            },
            "type": "scattergeo"
           }
          ],
          "scattergl": [
           {
            "marker": {
             "colorbar": {
              "outlinewidth": 0,
              "ticks": ""
             }
            },
            "type": "scattergl"
           }
          ],
          "scattermapbox": [
           {
            "marker": {
             "colorbar": {
              "outlinewidth": 0,
              "ticks": ""
             }
            },
            "type": "scattermapbox"
           }
          ],
          "scatterpolar": [
           {
            "marker": {
             "colorbar": {
              "outlinewidth": 0,
              "ticks": ""
             }
            },
            "type": "scatterpolar"
           }
          ],
          "scatterpolargl": [
           {
            "marker": {
             "colorbar": {
              "outlinewidth": 0,
              "ticks": ""
             }
            },
            "type": "scatterpolargl"
           }
          ],
          "scatterternary": [
           {
            "marker": {
             "colorbar": {
              "outlinewidth": 0,
              "ticks": ""
             }
            },
            "type": "scatterternary"
           }
          ],
          "surface": [
           {
            "colorbar": {
             "outlinewidth": 0,
             "ticks": ""
            },
            "colorscale": [
             [
              0,
              "#0d0887"
             ],
             [
              0.1111111111111111,
              "#46039f"
             ],
             [
              0.2222222222222222,
              "#7201a8"
             ],
             [
              0.3333333333333333,
              "#9c179e"
             ],
             [
              0.4444444444444444,
              "#bd3786"
             ],
             [
              0.5555555555555556,
              "#d8576b"
             ],
             [
              0.6666666666666666,
              "#ed7953"
             ],
             [
              0.7777777777777778,
              "#fb9f3a"
             ],
             [
              0.8888888888888888,
              "#fdca26"
             ],
             [
              1,
              "#f0f921"
             ]
            ],
            "type": "surface"
           }
          ],
          "table": [
           {
            "cells": {
             "fill": {
              "color": "#EBF0F8"
             },
             "line": {
              "color": "white"
             }
            },
            "header": {
             "fill": {
              "color": "#C8D4E3"
             },
             "line": {
              "color": "white"
             }
            },
            "type": "table"
           }
          ]
         },
         "layout": {
          "annotationdefaults": {
           "arrowcolor": "#2a3f5f",
           "arrowhead": 0,
           "arrowwidth": 1
          },
          "autotypenumbers": "strict",
          "coloraxis": {
           "colorbar": {
            "outlinewidth": 0,
            "ticks": ""
           }
          },
          "colorscale": {
           "diverging": [
            [
             0,
             "#8e0152"
            ],
            [
             0.1,
             "#c51b7d"
            ],
            [
             0.2,
             "#de77ae"
            ],
            [
             0.3,
             "#f1b6da"
            ],
            [
             0.4,
             "#fde0ef"
            ],
            [
             0.5,
             "#f7f7f7"
            ],
            [
             0.6,
             "#e6f5d0"
            ],
            [
             0.7,
             "#b8e186"
            ],
            [
             0.8,
             "#7fbc41"
            ],
            [
             0.9,
             "#4d9221"
            ],
            [
             1,
             "#276419"
            ]
           ],
           "sequential": [
            [
             0,
             "#0d0887"
            ],
            [
             0.1111111111111111,
             "#46039f"
            ],
            [
             0.2222222222222222,
             "#7201a8"
            ],
            [
             0.3333333333333333,
             "#9c179e"
            ],
            [
             0.4444444444444444,
             "#bd3786"
            ],
            [
             0.5555555555555556,
             "#d8576b"
            ],
            [
             0.6666666666666666,
             "#ed7953"
            ],
            [
             0.7777777777777778,
             "#fb9f3a"
            ],
            [
             0.8888888888888888,
             "#fdca26"
            ],
            [
             1,
             "#f0f921"
            ]
           ],
           "sequentialminus": [
            [
             0,
             "#0d0887"
            ],
            [
             0.1111111111111111,
             "#46039f"
            ],
            [
             0.2222222222222222,
             "#7201a8"
            ],
            [
             0.3333333333333333,
             "#9c179e"
            ],
            [
             0.4444444444444444,
             "#bd3786"
            ],
            [
             0.5555555555555556,
             "#d8576b"
            ],
            [
             0.6666666666666666,
             "#ed7953"
            ],
            [
             0.7777777777777778,
             "#fb9f3a"
            ],
            [
             0.8888888888888888,
             "#fdca26"
            ],
            [
             1,
             "#f0f921"
            ]
           ]
          },
          "colorway": [
           "#636efa",
           "#EF553B",
           "#00cc96",
           "#ab63fa",
           "#FFA15A",
           "#19d3f3",
           "#FF6692",
           "#B6E880",
           "#FF97FF",
           "#FECB52"
          ],
          "font": {
           "color": "#2a3f5f"
          },
          "geo": {
           "bgcolor": "white",
           "lakecolor": "white",
           "landcolor": "#E5ECF6",
           "showlakes": true,
           "showland": true,
           "subunitcolor": "white"
          },
          "hoverlabel": {
           "align": "left"
          },
          "hovermode": "closest",
          "mapbox": {
           "style": "light"
          },
          "paper_bgcolor": "white",
          "plot_bgcolor": "#E5ECF6",
          "polar": {
           "angularaxis": {
            "gridcolor": "white",
            "linecolor": "white",
            "ticks": ""
           },
           "bgcolor": "#E5ECF6",
           "radialaxis": {
            "gridcolor": "white",
            "linecolor": "white",
            "ticks": ""
           }
          },
          "scene": {
           "xaxis": {
            "backgroundcolor": "#E5ECF6",
            "gridcolor": "white",
            "gridwidth": 2,
            "linecolor": "white",
            "showbackground": true,
            "ticks": "",
            "zerolinecolor": "white"
           },
           "yaxis": {
            "backgroundcolor": "#E5ECF6",
            "gridcolor": "white",
            "gridwidth": 2,
            "linecolor": "white",
            "showbackground": true,
            "ticks": "",
            "zerolinecolor": "white"
           },
           "zaxis": {
            "backgroundcolor": "#E5ECF6",
            "gridcolor": "white",
            "gridwidth": 2,
            "linecolor": "white",
            "showbackground": true,
            "ticks": "",
            "zerolinecolor": "white"
           }
          },
          "shapedefaults": {
           "line": {
            "color": "#2a3f5f"
           }
          },
          "ternary": {
           "aaxis": {
            "gridcolor": "white",
            "linecolor": "white",
            "ticks": ""
           },
           "baxis": {
            "gridcolor": "white",
            "linecolor": "white",
            "ticks": ""
           },
           "bgcolor": "#E5ECF6",
           "caxis": {
            "gridcolor": "white",
            "linecolor": "white",
            "ticks": ""
           }
          },
          "title": {
           "x": 0.05
          },
          "xaxis": {
           "automargin": true,
           "gridcolor": "white",
           "linecolor": "white",
           "ticks": "",
           "title": {
            "standoff": 15
           },
           "zerolinecolor": "white",
           "zerolinewidth": 2
          },
          "yaxis": {
           "automargin": true,
           "gridcolor": "white",
           "linecolor": "white",
           "ticks": "",
           "title": {
            "standoff": 15
           },
           "zerolinecolor": "white",
           "zerolinewidth": 2
          }
         }
        },
        "title": {
         "text": "Gantt Chart"
        },
        "xaxis": {
         "rangeselector": {
          "buttons": [
           {
            "count": 7,
            "label": "1w",
            "step": "day",
            "stepmode": "backward"
           },
           {
            "count": 1,
            "label": "1m",
            "step": "month",
            "stepmode": "backward"
           },
           {
            "count": 6,
            "label": "6m",
            "step": "month",
            "stepmode": "backward"
           },
           {
            "count": 1,
            "label": "YTD",
            "step": "year",
            "stepmode": "todate"
           },
           {
            "count": 1,
            "label": "1y",
            "step": "year",
            "stepmode": "backward"
           },
           {
            "step": "all"
           }
          ]
         },
         "showgrid": false,
         "type": "linear",
         "zeroline": false
        },
        "yaxis": {
         "autorange": false,
         "range": [
          -1,
          2
         ],
         "showgrid": false,
         "ticktext": [
          "w0"
         ],
         "tickvals": [
          0
         ],
         "zeroline": false
        }
       }
      }
     },
     "metadata": {},
     "output_type": "display_data"
    }
   ],
   "source": [
    "#TODO: current solution could be a result of either a) bug in schedule building (more likely) or b) lack of feasibility checks, since they shouldn't be necessary\n",
    "visualize_schedule_demo(schedule, env, orders)"
   ]
  },
  {
   "cell_type": "code",
   "execution_count": 9,
   "metadata": {},
   "outputs": [
    {
     "ename": "AttributeError",
     "evalue": "'NoneType' object has no attribute 'tasks'",
     "output_type": "error",
     "traceback": [
      "\u001b[1;31m---------------------------------------------------------------------------\u001b[0m",
      "\u001b[1;31mAttributeError\u001b[0m                            Traceback (most recent call last)",
      "Cell \u001b[1;32mIn[9], line 1\u001b[0m\n\u001b[1;32m----> 1\u001b[0m fitness_values \u001b[39m=\u001b[39m objective_function\u001b[39m.\u001b[39;49mcalculate_comparison_values(schedule, orders, env)\n\u001b[0;32m      2\u001b[0m \u001b[39mprint\u001b[39m(\u001b[39mf\u001b[39m\u001b[39m'\u001b[39m\u001b[39mFitness Values:\u001b[39m\u001b[39m\\n\u001b[39;00m\u001b[39mMakespan: \u001b[39m\u001b[39m{\u001b[39;00mfitness_values[\u001b[39m0\u001b[39m]\u001b[39m}\u001b[39;00m\u001b[39m\\n\u001b[39;00m\u001b[39mTardiness: \u001b[39m\u001b[39m{\u001b[39;00mfitness_values[\u001b[39m1\u001b[39m]\u001b[39m}\u001b[39;00m\u001b[39m\\n\u001b[39;00m\u001b[39mDeviation: \u001b[39m\u001b[39m{\u001b[39;00mfitness_values[\u001b[39m2\u001b[39m]\u001b[39m}\u001b[39;00m\u001b[39m\\n\u001b[39;00m\u001b[39mIdle Time: \u001b[39m\u001b[39m{\u001b[39;00mfitness_values[\u001b[39m3\u001b[39m]\u001b[39m}\u001b[39;00m\u001b[39m\\n\u001b[39;00m\u001b[39mProfit: \u001b[39m\u001b[39m{\u001b[39;00mfitness_values[\u001b[39m4\u001b[39m]\u001b[39m}\u001b[39;00m\u001b[39m'\u001b[39m)\n",
      "File \u001b[1;32mc:\\Users\\huda\\Documents\\GitHub\\scheduling_model\\code\\demo\\objective_function.py:117\u001b[0m, in \u001b[0;36mcalculate_comparison_values\u001b[1;34m(schedule, orders, environment)\u001b[0m\n\u001b[0;32m    114\u001b[0m \u001b[39mdef\u001b[39;00m \u001b[39mcalculate_comparison_values\u001b[39m(schedule : Schedule, orders, environment : SimulationEnvironment):\n\u001b[0;32m    115\u001b[0m     \u001b[39m# NOTE: unscheduled orders are currently not accounted for in these functions\u001b[39;00m\n\u001b[0;32m    116\u001b[0m     makespan_fitness \u001b[39m=\u001b[39m makespan(schedule, environment)\n\u001b[1;32m--> 117\u001b[0m     tardiness_fitness \u001b[39m=\u001b[39m min_tardiness(schedule, orders, environment)\n\u001b[0;32m    118\u001b[0m     deviation_fitness \u001b[39m=\u001b[39m min_deviation(schedule, orders, environment)\n\u001b[0;32m    119\u001b[0m     idle_time_fitness \u001b[39m=\u001b[39m min_idle_time(schedule, environment)\n",
      "File \u001b[1;32mc:\\Users\\huda\\Documents\\GitHub\\scheduling_model\\code\\demo\\objective_function.py:46\u001b[0m, in \u001b[0;36mmin_tardiness\u001b[1;34m(schedule, orders, environment)\u001b[0m\n\u001b[0;32m     44\u001b[0m \u001b[39mfor\u001b[39;00m order \u001b[39min\u001b[39;00m orders:\n\u001b[0;32m     45\u001b[0m     last_assignment, workstation \u001b[39m=\u001b[39m get_last(schedule, order, environment)\n\u001b[1;32m---> 46\u001b[0m     duration \u001b[39m=\u001b[39m environment\u001b[39m.\u001b[39;49mget_duration(last_assignment[\u001b[39m0\u001b[39;49m], workstation)\n\u001b[0;32m     47\u001b[0m     start \u001b[39m=\u001b[39m last_assignment[\u001b[39m1\u001b[39m]\n\u001b[0;32m     48\u001b[0m     end \u001b[39m=\u001b[39m start \u001b[39m+\u001b[39m duration\n",
      "File \u001b[1;32mc:\\Users\\huda\\Documents\\GitHub\\scheduling_model\\code\\demo\\models.py:82\u001b[0m, in \u001b[0;36mSimulationEnvironment.get_duration\u001b[1;34m(self, task_id, workstation_id)\u001b[0m\n\u001b[0;32m     80\u001b[0m \u001b[39mdef\u001b[39;00m \u001b[39mget_duration\u001b[39m(\u001b[39mself\u001b[39m, task_id : \u001b[39mint\u001b[39m, workstation_id : \u001b[39mint\u001b[39m) \u001b[39m-\u001b[39m\u001b[39m>\u001b[39m \u001b[39mint\u001b[39m:\n\u001b[0;32m     81\u001b[0m     workstation : Workstation \u001b[39m=\u001b[39m \u001b[39mself\u001b[39m\u001b[39m.\u001b[39mget_workstation(workstation_id)\n\u001b[1;32m---> 82\u001b[0m     \u001b[39mfor\u001b[39;00m task \u001b[39min\u001b[39;00m workstation\u001b[39m.\u001b[39;49mtasks:\n\u001b[0;32m     83\u001b[0m         \u001b[39mif\u001b[39;00m task[\u001b[39m0\u001b[39m] \u001b[39m==\u001b[39m task_id:\n\u001b[0;32m     84\u001b[0m             \u001b[39mreturn\u001b[39;00m task[\u001b[39m1\u001b[39m]\n",
      "\u001b[1;31mAttributeError\u001b[0m: 'NoneType' object has no attribute 'tasks'"
     ]
    }
   ],
   "source": [
    "fitness_values = objective_function.calculate_comparison_values(schedule, orders, env)\n",
    "print(f'Fitness Values:\\nMakespan: {fitness_values[0]}\\nTardiness: {fitness_values[1]}\\nDeviation: {fitness_values[2]}\\nIdle Time: {fitness_values[3]}\\nProfit: {fitness_values[4]}')"
   ]
  },
  {
   "cell_type": "code",
   "execution_count": null,
   "metadata": {},
   "outputs": [
    {
     "name": "stdout",
     "output_type": "stream",
     "text": [
      "[1, 1, 2, 2, 2, 2, 3, 3, 4, 4, 4, 5, 5, 5, 5, 6, 6, 6, 7, 9]\n",
      "[inf, inf, inf, inf, inf, inf, inf, inf, inf, inf, inf, inf, inf, inf, inf, inf, inf, inf, inf, inf]\n"
     ]
    }
   ],
   "source": [
    "values = [9,2,3,4,5,1,1,2,4,5,6,7,6,2,2,3,4,5,5,6]\n",
    "sorted = []\n",
    "for i in range(len(values)):\n",
    "    idx = values.index(min(values)) # workstation id\n",
    "    sorted.append(values[idx])\n",
    "    values[idx] = float('inf')\n",
    "print(sorted)\n",
    "print(values)"
   ]
  },
  {
   "cell_type": "code",
   "execution_count": null,
   "metadata": {},
   "outputs": [
    {
     "name": "stdout",
     "output_type": "stream",
     "text": [
      "Done\n",
      "Done\n"
     ]
    }
   ],
   "source": [
    "encoder = EncodeForGA()\n",
    "values, durations, all_jobs = encoder.translate(env, orders)\n",
    "\n",
    "     \n",
    "crossover = 'two_points' #NOTE: available in PyGAD: 'two_points', 'single_point', 'uniform', 'scattered'\n",
    "selection = 'rws' #NOTE: available in PyGAD: 'sss' (steady state selection', 'rws' (roulette wheel), 'sus' (stochastic universal selection), 'rank' (rank selection), 'random' (random selection), 'tournament' (tournament selection)\n",
    "mutation = 'swap' #NOTE: available options: 'swap', 'inversion', 'scramble', 'adaptive\n",
    "#objective = 'makespan' #NOTE: available options: 'makespan', 'idle_time'\n",
    "population_size = 100\n",
    "max_generations = 2000\n",
    "\n",
    "solver = HybridGreedyAgentSolver(values, durations, all_jobs, env, orders)\n",
    "solver.initialize(mutation, crossover, selection, max_generations, population_size)\n",
    "solver.run()"
   ]
  },
  {
   "cell_type": "code",
   "execution_count": null,
   "metadata": {},
   "outputs": [
    {
     "name": "stdout",
     "output_type": "stream",
     "text": [
      "Parameters of the best solution : [9, 0, 9, 1, 9, 5, 9, 10, 5, 0, 5, 5, 5, 15, 5, 20, 0, 0, 9, 13, 9, 18, 9, 22, 5, 21, 5, 23, 5, 25, 5, 30, 4, 0, 4, 8, 4, 11, 4, 12, 1, 0, 1, 4, 4, 17, 9, 24, 6, 0, 1, 8, 4, 18, 9, 27, 4, 21, 4, 27, 4, 28, 4, 30, 2, 0, 9, 29, 9, 34, 9, 38, 0, 2, 1, 9, 1, 13, 5, 35]\n",
      "Fitness value of the best solution = 42\n"
     ]
    }
   ],
   "source": [
    "result = solver.get_best()\n",
    "fitness = solver.get_best_fitness()\n",
    "\n",
    "print(\"Parameters of the best solution : {solution}\".format(solution=result))\n",
    "print(\"Fitness value of the best solution = {solution_fitness}\".format(solution_fitness=abs(fitness)))"
   ]
  },
  {
   "cell_type": "code",
   "execution_count": null,
   "metadata": {},
   "outputs": [
    {
     "name": "stdout",
     "output_type": "stream",
     "text": [
      "Done\n",
      "Parameters of the best solution : [9, 0, 9, 1, 9, 5, 9, 10, 6, 0, 6, 2, 6, 6, 6, 8, 8, 0, 8, 3, 6, 11, 9, 13, 3, 0, 3, 4, 6, 13, 6, 15, 1, 0, 3, 8, 3, 17, 3, 21, 6, 17, 6, 22, 3, 25, 3, 29, 0, 0, 0, 1, 8, 11, 6, 24, 2, 0, 8, 20, 8, 28, 8, 30, 5, 0, 9, 15, 6, 27, 6, 29, 5, 2, 6, 31, 3, 33, 3, 37]\n",
      "Fitness value of the best solution = 41\n"
     ]
    }
   ],
   "source": [
    "new_result = solver.re_run_agent()\n",
    "print(\"Parameters of the best solution : {solution}\".format(solution=new_result[0]))\n",
    "print(\"Fitness value of the best solution = {solution_fitness}\".format(solution_fitness=abs(new_result[1])))"
   ]
  },
  {
   "cell_type": "code",
   "execution_count": null,
   "metadata": {},
   "outputs": [],
   "source": [
    "result = new_result[0]\n",
    "fitness = new_result[1]"
   ]
  },
  {
   "cell_type": "code",
   "execution_count": null,
   "metadata": {},
   "outputs": [
    {
     "data": {
      "application/vnd.plotly.v1+json": {
       "config": {
        "plotlyServerURL": "https://plot.ly"
       },
       "data": [
        {
         "fill": "toself",
         "fillcolor": "rgb(0, 128, 255)",
         "hoverinfo": "name",
         "legendgroup": "rgb(0, 128, 255)",
         "mode": "none",
         "name": "Order 2",
         "type": "scatter",
         "x": [
          13,
          19,
          19,
          13,
          13,
          18,
          22,
          22,
          18,
          18,
          22,
          24,
          24,
          22,
          22,
          0,
          7,
          7,
          0
         ],
         "y": [
          5.8,
          5.8,
          6.2,
          6.2,
          null,
          5.8,
          5.8,
          6.2,
          6.2,
          null,
          5.8,
          5.8,
          6.2,
          6.2,
          null,
          3.8,
          3.8,
          4.2,
          4.2
         ]
        },
        {
         "fill": "toself",
         "fillcolor": "rgb(0, 255, 0)",
         "hoverinfo": "name",
         "legendgroup": "rgb(0, 255, 0)",
         "mode": "none",
         "name": "Order 0",
         "type": "scatter",
         "x": [
          0,
          4,
          4,
          0,
          0,
          1,
          4,
          4,
          1,
          1,
          5,
          7,
          7,
          5,
          5,
          10,
          14,
          14,
          10
         ],
         "y": [
          5.8,
          5.8,
          6.2,
          6.2,
          null,
          5.8,
          5.8,
          6.2,
          6.2,
          null,
          5.8,
          5.8,
          6.2,
          6.2,
          null,
          5.8,
          5.8,
          6.2,
          6.2
         ]
        },
        {
         "fill": "toself",
         "fillcolor": "rgb(100, 10, 150)",
         "hoverinfo": "name",
         "legendgroup": "rgb(100, 10, 150)",
         "mode": "none",
         "name": "Order 5",
         "type": "scatter",
         "x": [
          24,
          25,
          25,
          24,
          24,
          17,
          22,
          22,
          17,
          17,
          0,
          2,
          2,
          0,
          0,
          4,
          9,
          9,
          4
         ],
         "y": [
          5.8,
          5.8,
          6.2,
          6.2,
          null,
          2.8,
          2.8,
          3.2,
          3.2,
          null,
          1.8,
          1.8,
          2.2,
          2.2,
          null,
          1.8,
          1.8,
          2.2,
          2.2
         ]
        },
        {
         "fill": "toself",
         "fillcolor": "rgb(128, 191, 128)",
         "hoverinfo": "name",
         "legendgroup": "rgb(128, 191, 128)",
         "mode": "none",
         "name": "Order 4",
         "type": "scatter",
         "x": [
          0,
          3,
          3,
          0,
          0,
          8,
          16,
          16,
          8,
          8,
          11,
          17,
          17,
          11,
          11,
          12,
          20,
          20,
          12
         ],
         "y": [
          2.8,
          2.8,
          3.2,
          3.2,
          null,
          2.8,
          2.8,
          3.2,
          3.2,
          null,
          2.8,
          2.8,
          3.2,
          3.2,
          null,
          2.8,
          2.8,
          3.2,
          3.2
         ]
        },
        {
         "fill": "toself",
         "fillcolor": "rgb(183, 118, 253)",
         "hoverinfo": "name",
         "legendgroup": "rgb(183, 118, 253)",
         "mode": "none",
         "name": "Order 9",
         "type": "scatter",
         "x": [
          35,
          42,
          42,
          35,
          35,
          2,
          8,
          8,
          2,
          2,
          9,
          14,
          14,
          9,
          9,
          13,
          19,
          19,
          13
         ],
         "y": [
          4.8,
          4.8,
          5.2,
          5.2,
          null,
          3.8,
          3.8,
          4.2,
          4.2,
          null,
          1.8,
          1.8,
          2.2,
          2.2,
          null,
          1.8,
          1.8,
          2.2,
          2.2
         ]
        },
        {
         "fill": "toself",
         "fillcolor": "rgb(246, 255, 5)",
         "hoverinfo": "name",
         "legendgroup": "rgb(246, 255, 5)",
         "mode": "none",
         "name": "Order 6",
         "type": "scatter",
         "x": [
          27,
          29,
          29,
          27,
          27,
          18,
          25,
          25,
          18,
          18,
          8,
          18,
          18,
          8,
          8,
          0,
          1,
          1,
          0
         ],
         "y": [
          5.8,
          5.8,
          6.2,
          6.2,
          null,
          2.8,
          2.8,
          3.2,
          3.2,
          null,
          1.8,
          1.8,
          2.2,
          2.2,
          null,
          0.8,
          0.8,
          1.2,
          1.2
         ]
        },
        {
         "fill": "toself",
         "fillcolor": "rgb(253, 3, 55)",
         "hoverinfo": "name",
         "legendgroup": "rgb(253, 3, 55)",
         "mode": "none",
         "name": "Order 7",
         "type": "scatter",
         "x": [
          21,
          30,
          30,
          21,
          21,
          27,
          32,
          32,
          27,
          27,
          28,
          32,
          32,
          28,
          28,
          30,
          32,
          32,
          30
         ],
         "y": [
          2.8,
          2.8,
          3.2,
          3.2,
          null,
          2.8,
          2.8,
          3.2,
          3.2,
          null,
          2.8,
          2.8,
          3.2,
          3.2,
          null,
          2.8,
          2.8,
          3.2,
          3.2
         ]
        },
        {
         "fill": "toself",
         "fillcolor": "rgb(255, 0, 255)",
         "hoverinfo": "name",
         "legendgroup": "rgb(255, 0, 255)",
         "mode": "none",
         "name": "Order 1",
         "type": "scatter",
         "x": [
          0,
          6,
          6,
          0,
          0,
          5,
          8,
          8,
          5,
          5,
          15,
          18,
          18,
          15,
          15,
          20,
          26,
          26,
          20
         ],
         "y": [
          4.8,
          4.8,
          5.2,
          5.2,
          null,
          4.8,
          4.8,
          5.2,
          5.2,
          null,
          4.8,
          4.8,
          5.2,
          5.2,
          null,
          4.8,
          4.8,
          5.2,
          5.2
         ]
        },
        {
         "fill": "toself",
         "fillcolor": "rgb(255, 128, 0)",
         "hoverinfo": "name",
         "legendgroup": "rgb(255, 128, 0)",
         "mode": "none",
         "name": "Order 3",
         "type": "scatter",
         "x": [
          21,
          23,
          23,
          21,
          21,
          23,
          25,
          25,
          23,
          23,
          25,
          26,
          26,
          25,
          25,
          30,
          37,
          37,
          30
         ],
         "y": [
          4.8,
          4.8,
          5.2,
          5.2,
          null,
          4.8,
          4.8,
          5.2,
          5.2,
          null,
          4.8,
          4.8,
          5.2,
          5.2,
          null,
          4.8,
          4.8,
          5.2,
          5.2
         ]
        },
        {
         "fill": "toself",
         "fillcolor": "rgb(3, 113, 75)",
         "hoverinfo": "name",
         "legendgroup": "rgb(3, 113, 75)",
         "mode": "none",
         "name": "Order 8",
         "type": "scatter",
         "x": [
          29,
          32,
          32,
          29,
          29,
          34,
          36,
          36,
          34,
          34,
          38,
          42,
          42,
          38,
          38,
          0,
          6,
          6,
          0
         ],
         "y": [
          5.8,
          5.8,
          6.2,
          6.2,
          null,
          5.8,
          5.8,
          6.2,
          6.2,
          null,
          5.8,
          5.8,
          6.2,
          6.2,
          null,
          -0.2,
          -0.2,
          0.2,
          0.2
         ]
        },
        {
         "legendgroup": "rgb(0, 128, 255)",
         "marker": {
          "color": "rgb(0, 128, 255)",
          "opacity": 0,
          "size": 1
         },
         "mode": "markers",
         "name": "",
         "showlegend": false,
         "text": [
          null,
          null,
          null,
          null,
          null,
          null,
          null,
          null
         ],
         "type": "scatter",
         "x": [
          13,
          19,
          18,
          22,
          22,
          24,
          0,
          7
         ],
         "y": [
          6,
          6,
          6,
          6,
          6,
          6,
          4,
          4
         ]
        },
        {
         "legendgroup": "rgb(0, 255, 0)",
         "marker": {
          "color": "rgb(0, 255, 0)",
          "opacity": 0,
          "size": 1
         },
         "mode": "markers",
         "name": "",
         "showlegend": false,
         "text": [
          null,
          null,
          null,
          null,
          null,
          null,
          null,
          null
         ],
         "type": "scatter",
         "x": [
          0,
          4,
          1,
          4,
          5,
          7,
          10,
          14
         ],
         "y": [
          6,
          6,
          6,
          6,
          6,
          6,
          6,
          6
         ]
        },
        {
         "legendgroup": "rgb(100, 10, 150)",
         "marker": {
          "color": "rgb(100, 10, 150)",
          "opacity": 0,
          "size": 1
         },
         "mode": "markers",
         "name": "",
         "showlegend": false,
         "text": [
          null,
          null,
          null,
          null,
          null,
          null,
          null,
          null
         ],
         "type": "scatter",
         "x": [
          24,
          25,
          17,
          22,
          0,
          2,
          4,
          9
         ],
         "y": [
          6,
          6,
          3,
          3,
          2,
          2,
          2,
          2
         ]
        },
        {
         "legendgroup": "rgb(128, 191, 128)",
         "marker": {
          "color": "rgb(128, 191, 128)",
          "opacity": 0,
          "size": 1
         },
         "mode": "markers",
         "name": "",
         "showlegend": false,
         "text": [
          null,
          null,
          null,
          null,
          null,
          null,
          null,
          null
         ],
         "type": "scatter",
         "x": [
          0,
          3,
          8,
          16,
          11,
          17,
          12,
          20
         ],
         "y": [
          3,
          3,
          3,
          3,
          3,
          3,
          3,
          3
         ]
        },
        {
         "legendgroup": "rgb(183, 118, 253)",
         "marker": {
          "color": "rgb(183, 118, 253)",
          "opacity": 0,
          "size": 1
         },
         "mode": "markers",
         "name": "",
         "showlegend": false,
         "text": [
          null,
          null,
          null,
          null,
          null,
          null,
          null,
          null
         ],
         "type": "scatter",
         "x": [
          35,
          42,
          2,
          8,
          9,
          14,
          13,
          19
         ],
         "y": [
          5,
          5,
          4,
          4,
          2,
          2,
          2,
          2
         ]
        },
        {
         "legendgroup": "rgb(246, 255, 5)",
         "marker": {
          "color": "rgb(246, 255, 5)",
          "opacity": 0,
          "size": 1
         },
         "mode": "markers",
         "name": "",
         "showlegend": false,
         "text": [
          null,
          null,
          null,
          null,
          null,
          null,
          null,
          null
         ],
         "type": "scatter",
         "x": [
          27,
          29,
          18,
          25,
          8,
          18,
          0,
          1
         ],
         "y": [
          6,
          6,
          3,
          3,
          2,
          2,
          1,
          1
         ]
        },
        {
         "legendgroup": "rgb(253, 3, 55)",
         "marker": {
          "color": "rgb(253, 3, 55)",
          "opacity": 0,
          "size": 1
         },
         "mode": "markers",
         "name": "",
         "showlegend": false,
         "text": [
          null,
          null,
          null,
          null,
          null,
          null,
          null,
          null
         ],
         "type": "scatter",
         "x": [
          21,
          30,
          27,
          32,
          28,
          32,
          30,
          32
         ],
         "y": [
          3,
          3,
          3,
          3,
          3,
          3,
          3,
          3
         ]
        },
        {
         "legendgroup": "rgb(255, 0, 255)",
         "marker": {
          "color": "rgb(255, 0, 255)",
          "opacity": 0,
          "size": 1
         },
         "mode": "markers",
         "name": "",
         "showlegend": false,
         "text": [
          null,
          null,
          null,
          null,
          null,
          null,
          null,
          null
         ],
         "type": "scatter",
         "x": [
          0,
          6,
          5,
          8,
          15,
          18,
          20,
          26
         ],
         "y": [
          5,
          5,
          5,
          5,
          5,
          5,
          5,
          5
         ]
        },
        {
         "legendgroup": "rgb(255, 128, 0)",
         "marker": {
          "color": "rgb(255, 128, 0)",
          "opacity": 0,
          "size": 1
         },
         "mode": "markers",
         "name": "",
         "showlegend": false,
         "text": [
          null,
          null,
          null,
          null,
          null,
          null,
          null,
          null
         ],
         "type": "scatter",
         "x": [
          21,
          23,
          23,
          25,
          25,
          26,
          30,
          37
         ],
         "y": [
          5,
          5,
          5,
          5,
          5,
          5,
          5,
          5
         ]
        },
        {
         "legendgroup": "rgb(3, 113, 75)",
         "marker": {
          "color": "rgb(3, 113, 75)",
          "opacity": 0,
          "size": 1
         },
         "mode": "markers",
         "name": "",
         "showlegend": false,
         "text": [
          null,
          null,
          null,
          null,
          null,
          null,
          null,
          null
         ],
         "type": "scatter",
         "x": [
          29,
          32,
          34,
          36,
          38,
          42,
          0,
          6
         ],
         "y": [
          6,
          6,
          6,
          6,
          6,
          6,
          0,
          0
         ]
        }
       ],
       "layout": {
        "height": 600,
        "hovermode": "closest",
        "showlegend": true,
        "template": {
         "data": {
          "bar": [
           {
            "error_x": {
             "color": "#2a3f5f"
            },
            "error_y": {
             "color": "#2a3f5f"
            },
            "marker": {
             "line": {
              "color": "#E5ECF6",
              "width": 0.5
             },
             "pattern": {
              "fillmode": "overlay",
              "size": 10,
              "solidity": 0.2
             }
            },
            "type": "bar"
           }
          ],
          "barpolar": [
           {
            "marker": {
             "line": {
              "color": "#E5ECF6",
              "width": 0.5
             },
             "pattern": {
              "fillmode": "overlay",
              "size": 10,
              "solidity": 0.2
             }
            },
            "type": "barpolar"
           }
          ],
          "carpet": [
           {
            "aaxis": {
             "endlinecolor": "#2a3f5f",
             "gridcolor": "white",
             "linecolor": "white",
             "minorgridcolor": "white",
             "startlinecolor": "#2a3f5f"
            },
            "baxis": {
             "endlinecolor": "#2a3f5f",
             "gridcolor": "white",
             "linecolor": "white",
             "minorgridcolor": "white",
             "startlinecolor": "#2a3f5f"
            },
            "type": "carpet"
           }
          ],
          "choropleth": [
           {
            "colorbar": {
             "outlinewidth": 0,
             "ticks": ""
            },
            "type": "choropleth"
           }
          ],
          "contour": [
           {
            "colorbar": {
             "outlinewidth": 0,
             "ticks": ""
            },
            "colorscale": [
             [
              0,
              "#0d0887"
             ],
             [
              0.1111111111111111,
              "#46039f"
             ],
             [
              0.2222222222222222,
              "#7201a8"
             ],
             [
              0.3333333333333333,
              "#9c179e"
             ],
             [
              0.4444444444444444,
              "#bd3786"
             ],
             [
              0.5555555555555556,
              "#d8576b"
             ],
             [
              0.6666666666666666,
              "#ed7953"
             ],
             [
              0.7777777777777778,
              "#fb9f3a"
             ],
             [
              0.8888888888888888,
              "#fdca26"
             ],
             [
              1,
              "#f0f921"
             ]
            ],
            "type": "contour"
           }
          ],
          "contourcarpet": [
           {
            "colorbar": {
             "outlinewidth": 0,
             "ticks": ""
            },
            "type": "contourcarpet"
           }
          ],
          "heatmap": [
           {
            "colorbar": {
             "outlinewidth": 0,
             "ticks": ""
            },
            "colorscale": [
             [
              0,
              "#0d0887"
             ],
             [
              0.1111111111111111,
              "#46039f"
             ],
             [
              0.2222222222222222,
              "#7201a8"
             ],
             [
              0.3333333333333333,
              "#9c179e"
             ],
             [
              0.4444444444444444,
              "#bd3786"
             ],
             [
              0.5555555555555556,
              "#d8576b"
             ],
             [
              0.6666666666666666,
              "#ed7953"
             ],
             [
              0.7777777777777778,
              "#fb9f3a"
             ],
             [
              0.8888888888888888,
              "#fdca26"
             ],
             [
              1,
              "#f0f921"
             ]
            ],
            "type": "heatmap"
           }
          ],
          "heatmapgl": [
           {
            "colorbar": {
             "outlinewidth": 0,
             "ticks": ""
            },
            "colorscale": [
             [
              0,
              "#0d0887"
             ],
             [
              0.1111111111111111,
              "#46039f"
             ],
             [
              0.2222222222222222,
              "#7201a8"
             ],
             [
              0.3333333333333333,
              "#9c179e"
             ],
             [
              0.4444444444444444,
              "#bd3786"
             ],
             [
              0.5555555555555556,
              "#d8576b"
             ],
             [
              0.6666666666666666,
              "#ed7953"
             ],
             [
              0.7777777777777778,
              "#fb9f3a"
             ],
             [
              0.8888888888888888,
              "#fdca26"
             ],
             [
              1,
              "#f0f921"
             ]
            ],
            "type": "heatmapgl"
           }
          ],
          "histogram": [
           {
            "marker": {
             "pattern": {
              "fillmode": "overlay",
              "size": 10,
              "solidity": 0.2
             }
            },
            "type": "histogram"
           }
          ],
          "histogram2d": [
           {
            "colorbar": {
             "outlinewidth": 0,
             "ticks": ""
            },
            "colorscale": [
             [
              0,
              "#0d0887"
             ],
             [
              0.1111111111111111,
              "#46039f"
             ],
             [
              0.2222222222222222,
              "#7201a8"
             ],
             [
              0.3333333333333333,
              "#9c179e"
             ],
             [
              0.4444444444444444,
              "#bd3786"
             ],
             [
              0.5555555555555556,
              "#d8576b"
             ],
             [
              0.6666666666666666,
              "#ed7953"
             ],
             [
              0.7777777777777778,
              "#fb9f3a"
             ],
             [
              0.8888888888888888,
              "#fdca26"
             ],
             [
              1,
              "#f0f921"
             ]
            ],
            "type": "histogram2d"
           }
          ],
          "histogram2dcontour": [
           {
            "colorbar": {
             "outlinewidth": 0,
             "ticks": ""
            },
            "colorscale": [
             [
              0,
              "#0d0887"
             ],
             [
              0.1111111111111111,
              "#46039f"
             ],
             [
              0.2222222222222222,
              "#7201a8"
             ],
             [
              0.3333333333333333,
              "#9c179e"
             ],
             [
              0.4444444444444444,
              "#bd3786"
             ],
             [
              0.5555555555555556,
              "#d8576b"
             ],
             [
              0.6666666666666666,
              "#ed7953"
             ],
             [
              0.7777777777777778,
              "#fb9f3a"
             ],
             [
              0.8888888888888888,
              "#fdca26"
             ],
             [
              1,
              "#f0f921"
             ]
            ],
            "type": "histogram2dcontour"
           }
          ],
          "mesh3d": [
           {
            "colorbar": {
             "outlinewidth": 0,
             "ticks": ""
            },
            "type": "mesh3d"
           }
          ],
          "parcoords": [
           {
            "line": {
             "colorbar": {
              "outlinewidth": 0,
              "ticks": ""
             }
            },
            "type": "parcoords"
           }
          ],
          "pie": [
           {
            "automargin": true,
            "type": "pie"
           }
          ],
          "scatter": [
           {
            "marker": {
             "colorbar": {
              "outlinewidth": 0,
              "ticks": ""
             }
            },
            "type": "scatter"
           }
          ],
          "scatter3d": [
           {
            "line": {
             "colorbar": {
              "outlinewidth": 0,
              "ticks": ""
             }
            },
            "marker": {
             "colorbar": {
              "outlinewidth": 0,
              "ticks": ""
             }
            },
            "type": "scatter3d"
           }
          ],
          "scattercarpet": [
           {
            "marker": {
             "colorbar": {
              "outlinewidth": 0,
              "ticks": ""
             }
            },
            "type": "scattercarpet"
           }
          ],
          "scattergeo": [
           {
            "marker": {
             "colorbar": {
              "outlinewidth": 0,
              "ticks": ""
             }
            },
            "type": "scattergeo"
           }
          ],
          "scattergl": [
           {
            "marker": {
             "colorbar": {
              "outlinewidth": 0,
              "ticks": ""
             }
            },
            "type": "scattergl"
           }
          ],
          "scattermapbox": [
           {
            "marker": {
             "colorbar": {
              "outlinewidth": 0,
              "ticks": ""
             }
            },
            "type": "scattermapbox"
           }
          ],
          "scatterpolar": [
           {
            "marker": {
             "colorbar": {
              "outlinewidth": 0,
              "ticks": ""
             }
            },
            "type": "scatterpolar"
           }
          ],
          "scatterpolargl": [
           {
            "marker": {
             "colorbar": {
              "outlinewidth": 0,
              "ticks": ""
             }
            },
            "type": "scatterpolargl"
           }
          ],
          "scatterternary": [
           {
            "marker": {
             "colorbar": {
              "outlinewidth": 0,
              "ticks": ""
             }
            },
            "type": "scatterternary"
           }
          ],
          "surface": [
           {
            "colorbar": {
             "outlinewidth": 0,
             "ticks": ""
            },
            "colorscale": [
             [
              0,
              "#0d0887"
             ],
             [
              0.1111111111111111,
              "#46039f"
             ],
             [
              0.2222222222222222,
              "#7201a8"
             ],
             [
              0.3333333333333333,
              "#9c179e"
             ],
             [
              0.4444444444444444,
              "#bd3786"
             ],
             [
              0.5555555555555556,
              "#d8576b"
             ],
             [
              0.6666666666666666,
              "#ed7953"
             ],
             [
              0.7777777777777778,
              "#fb9f3a"
             ],
             [
              0.8888888888888888,
              "#fdca26"
             ],
             [
              1,
              "#f0f921"
             ]
            ],
            "type": "surface"
           }
          ],
          "table": [
           {
            "cells": {
             "fill": {
              "color": "#EBF0F8"
             },
             "line": {
              "color": "white"
             }
            },
            "header": {
             "fill": {
              "color": "#C8D4E3"
             },
             "line": {
              "color": "white"
             }
            },
            "type": "table"
           }
          ]
         },
         "layout": {
          "annotationdefaults": {
           "arrowcolor": "#2a3f5f",
           "arrowhead": 0,
           "arrowwidth": 1
          },
          "autotypenumbers": "strict",
          "coloraxis": {
           "colorbar": {
            "outlinewidth": 0,
            "ticks": ""
           }
          },
          "colorscale": {
           "diverging": [
            [
             0,
             "#8e0152"
            ],
            [
             0.1,
             "#c51b7d"
            ],
            [
             0.2,
             "#de77ae"
            ],
            [
             0.3,
             "#f1b6da"
            ],
            [
             0.4,
             "#fde0ef"
            ],
            [
             0.5,
             "#f7f7f7"
            ],
            [
             0.6,
             "#e6f5d0"
            ],
            [
             0.7,
             "#b8e186"
            ],
            [
             0.8,
             "#7fbc41"
            ],
            [
             0.9,
             "#4d9221"
            ],
            [
             1,
             "#276419"
            ]
           ],
           "sequential": [
            [
             0,
             "#0d0887"
            ],
            [
             0.1111111111111111,
             "#46039f"
            ],
            [
             0.2222222222222222,
             "#7201a8"
            ],
            [
             0.3333333333333333,
             "#9c179e"
            ],
            [
             0.4444444444444444,
             "#bd3786"
            ],
            [
             0.5555555555555556,
             "#d8576b"
            ],
            [
             0.6666666666666666,
             "#ed7953"
            ],
            [
             0.7777777777777778,
             "#fb9f3a"
            ],
            [
             0.8888888888888888,
             "#fdca26"
            ],
            [
             1,
             "#f0f921"
            ]
           ],
           "sequentialminus": [
            [
             0,
             "#0d0887"
            ],
            [
             0.1111111111111111,
             "#46039f"
            ],
            [
             0.2222222222222222,
             "#7201a8"
            ],
            [
             0.3333333333333333,
             "#9c179e"
            ],
            [
             0.4444444444444444,
             "#bd3786"
            ],
            [
             0.5555555555555556,
             "#d8576b"
            ],
            [
             0.6666666666666666,
             "#ed7953"
            ],
            [
             0.7777777777777778,
             "#fb9f3a"
            ],
            [
             0.8888888888888888,
             "#fdca26"
            ],
            [
             1,
             "#f0f921"
            ]
           ]
          },
          "colorway": [
           "#636efa",
           "#EF553B",
           "#00cc96",
           "#ab63fa",
           "#FFA15A",
           "#19d3f3",
           "#FF6692",
           "#B6E880",
           "#FF97FF",
           "#FECB52"
          ],
          "font": {
           "color": "#2a3f5f"
          },
          "geo": {
           "bgcolor": "white",
           "lakecolor": "white",
           "landcolor": "#E5ECF6",
           "showlakes": true,
           "showland": true,
           "subunitcolor": "white"
          },
          "hoverlabel": {
           "align": "left"
          },
          "hovermode": "closest",
          "mapbox": {
           "style": "light"
          },
          "paper_bgcolor": "white",
          "plot_bgcolor": "#E5ECF6",
          "polar": {
           "angularaxis": {
            "gridcolor": "white",
            "linecolor": "white",
            "ticks": ""
           },
           "bgcolor": "#E5ECF6",
           "radialaxis": {
            "gridcolor": "white",
            "linecolor": "white",
            "ticks": ""
           }
          },
          "scene": {
           "xaxis": {
            "backgroundcolor": "#E5ECF6",
            "gridcolor": "white",
            "gridwidth": 2,
            "linecolor": "white",
            "showbackground": true,
            "ticks": "",
            "zerolinecolor": "white"
           },
           "yaxis": {
            "backgroundcolor": "#E5ECF6",
            "gridcolor": "white",
            "gridwidth": 2,
            "linecolor": "white",
            "showbackground": true,
            "ticks": "",
            "zerolinecolor": "white"
           },
           "zaxis": {
            "backgroundcolor": "#E5ECF6",
            "gridcolor": "white",
            "gridwidth": 2,
            "linecolor": "white",
            "showbackground": true,
            "ticks": "",
            "zerolinecolor": "white"
           }
          },
          "shapedefaults": {
           "line": {
            "color": "#2a3f5f"
           }
          },
          "ternary": {
           "aaxis": {
            "gridcolor": "white",
            "linecolor": "white",
            "ticks": ""
           },
           "baxis": {
            "gridcolor": "white",
            "linecolor": "white",
            "ticks": ""
           },
           "bgcolor": "#E5ECF6",
           "caxis": {
            "gridcolor": "white",
            "linecolor": "white",
            "ticks": ""
           }
          },
          "title": {
           "x": 0.05
          },
          "xaxis": {
           "automargin": true,
           "gridcolor": "white",
           "linecolor": "white",
           "ticks": "",
           "title": {
            "standoff": 15
           },
           "zerolinecolor": "white",
           "zerolinewidth": 2
          },
          "yaxis": {
           "automargin": true,
           "gridcolor": "white",
           "linecolor": "white",
           "ticks": "",
           "title": {
            "standoff": 15
           },
           "zerolinecolor": "white",
           "zerolinewidth": 2
          }
         }
        },
        "title": {
         "text": "Gantt Chart"
        },
        "xaxis": {
         "rangeselector": {
          "buttons": [
           {
            "count": 7,
            "label": "1w",
            "step": "day",
            "stepmode": "backward"
           },
           {
            "count": 1,
            "label": "1m",
            "step": "month",
            "stepmode": "backward"
           },
           {
            "count": 6,
            "label": "6m",
            "step": "month",
            "stepmode": "backward"
           },
           {
            "count": 1,
            "label": "YTD",
            "step": "year",
            "stepmode": "todate"
           },
           {
            "count": 1,
            "label": "1y",
            "step": "year",
            "stepmode": "backward"
           },
           {
            "step": "all"
           }
          ]
         },
         "showgrid": false,
         "type": "linear",
         "zeroline": false
        },
        "yaxis": {
         "autorange": false,
         "range": [
          -1,
          8
         ],
         "showgrid": false,
         "ticktext": [
          "w2",
          "w6",
          "w1",
          "w4",
          "w0",
          "w5",
          "w9"
         ],
         "tickvals": [
          0,
          1,
          2,
          3,
          4,
          5,
          6
         ],
         "zeroline": false
        }
       }
      }
     },
     "metadata": {},
     "output_type": "display_data"
    },
    {
     "name": "stdout",
     "output_type": "stream",
     "text": [
      "Fitness Values:\n",
      "Makespan: 42\n",
      "Tardiness: 0\n",
      "Deviation: 709\n",
      "Idle Time: 97\n",
      "Profit: 5000\n"
     ]
    }
   ],
   "source": [
    "schedule = GAToScheduleTranslator().translate(result, all_jobs, env, orders)\n",
    "schedule.created_in = env\n",
    "schedule.created_for = orders\n",
    "visualize_schedule_demo(schedule, env, orders)\n",
    "fitness_values = objective_function.calculate_comparison_values(schedule, orders, env)\n",
    "print(f'Fitness Values:\\nMakespan: {fitness_values[0]}\\nTardiness: {fitness_values[1]}\\nDeviation: {fitness_values[2]}\\nIdle Time: {fitness_values[3]}\\nProfit: {fitness_values[4]}')"
   ]
  },
  {
   "cell_type": "code",
   "execution_count": null,
   "metadata": {},
   "outputs": [],
   "source": [
    "import pickle\n",
    "\n",
    "#solver.environment = None # make file smaller, since the schedule already knows the environment and the orders\n",
    "#solver.orders = None\n",
    "#schedule.created_by = solver\n",
    "schedule.created_by = 'HybridAgentSolver'\n",
    "schedule.evaluation_results = []\n",
    "schedule.evaluation_results.append(('makespan', fitness_values[0]))\n",
    "schedule.evaluation_results.append(('tardiness', fitness_values[1]))\n",
    "schedule.evaluation_results.append(('deviation', fitness_values[2]))\n",
    "schedule.evaluation_results.append(('idle_time', fitness_values[3]))\n",
    "schedule.evaluation_results.append(('profit', fitness_values[4]))\n",
    "save_file = True\n",
    "if(save_file):\n",
    "    with open(f'results/HybridSolverTesting.pickle', 'wb') as outfile:\n",
    "        pickled_data = pickle.dump(schedule, outfile)"
   ]
  }
 ],
 "metadata": {
  "kernelspec": {
   "display_name": "Python 3",
   "language": "python",
   "name": "python3"
  },
  "language_info": {
   "codemirror_mode": {
    "name": "ipython",
    "version": 3
   },
   "file_extension": ".py",
   "mimetype": "text/x-python",
   "name": "python",
   "nbconvert_exporter": "python",
   "pygments_lexer": "ipython3",
   "version": "3.11.1"
  },
  "orig_nbformat": 4,
  "vscode": {
   "interpreter": {
    "hash": "462e7448f083626ea37b7306171372e26a088fcd344dea0651d8925b8464838f"
   }
  }
 },
 "nbformat": 4,
 "nbformat_minor": 2
}
