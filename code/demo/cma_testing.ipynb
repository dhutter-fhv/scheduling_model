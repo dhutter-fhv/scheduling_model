{
 "cells": [
  {
   "cell_type": "code",
   "execution_count": 81,
   "metadata": {},
   "outputs": [
    {
     "name": "stdout",
     "output_type": "stream",
     "text": [
      "The autoreload extension is already loaded. To reload it, use:\n",
      "  %reload_ext autoreload\n"
     ]
    }
   ],
   "source": [
    "%load_ext autoreload\n",
    "%autoreload 2\n",
    "from data_translator import CMAToScheduleTranslator, TestTranslator, EncodeForCMA\n",
    "from hybrid_solution_data_loader import get_data\n",
    "from models import Order, SimulationEnvironment, Schedule\n",
    "from solver import CMAWeightSolver\n",
    "from visualize import visualize_schedule_demo\n",
    "import objective_function"
   ]
  },
  {
   "cell_type": "code",
   "execution_count": 82,
   "metadata": {},
   "outputs": [],
   "source": [
    "n_workstations, recipes, operation_times = get_data(3)\n",
    "recipies, workstations, resources, tasks, _ = TestTranslator().translate(n_workstations, recipes, operation_times)\n",
    "\n",
    "env = SimulationEnvironment(workstations, tasks, resources, recipies)"
   ]
  },
  {
   "cell_type": "code",
   "execution_count": 83,
   "metadata": {},
   "outputs": [],
   "source": [
    "earliest_slot = 0\n",
    "last_slot = 100\n",
    "recipe_orders = [0, 1, 2, 3, 0, 3, 2, 1, 0, 3] # for dataset 0\n",
    "orders = []\n",
    "o_id = 0\n",
    "for order in recipe_orders:\n",
    "    orders.append(Order(o_id, 0, last_slot, last_slot, [order], 100, 50, False, 0, False, 500)) # for now: use resources to select recipe\n",
    "    o_id = o_id + 1"
   ]
  },
  {
   "cell_type": "code",
   "execution_count": 84,
   "metadata": {},
   "outputs": [],
   "source": [
    "encoder : EncodeForCMA = EncodeForCMA()\n",
    "values, durations, jobs, due_dates = encoder.translate(env, orders)"
   ]
  },
  {
   "cell_type": "code",
   "execution_count": 85,
   "metadata": {},
   "outputs": [
    {
     "name": "stdout",
     "output_type": "stream",
     "text": [
      "(7_w,15)-aCMA-ES (mu_w=4.5,w_1=34%) in dimension 40 (seed=946713, Mon Jan 16 15:36:46 2023)\n",
      "Iterat #Fevals   function value  axis ratio  sigma  min&max std  t[m:s]\n",
      "    1     15 1.010000000000000e+02 1.0e+00 4.67e-01  5e-01  5e-01 0:13.5\n",
      "    2     30 1.010000000000000e+02 1.0e+00 4.46e-01  4e-01  4e-01 0:27.0\n",
      "    3     45 1.010000000000000e+02 1.1e+00 4.39e-01  4e-01  4e-01 0:41.5\n",
      "    4     60 1.010000000000000e+02 1.1e+00 4.32e-01  4e-01  4e-01 0:55.2\n",
      "    5     75 1.010000000000000e+02 1.1e+00 4.24e-01  4e-01  4e-01 1:07.7\n",
      "    6     90 1.010000000000000e+02 1.1e+00 4.22e-01  4e-01  4e-01 1:20.6\n",
      "    7    105 1.010000000000000e+02 1.1e+00 4.22e-01  4e-01  4e-01 1:33.1\n",
      "    8    120 1.010000000000000e+02 1.1e+00 4.13e-01  4e-01  4e-01 1:45.5\n",
      "    9    135 1.010000000000000e+02 1.2e+00 4.08e-01  4e-01  4e-01 1:57.9\n",
      "   10    150 1.010000000000000e+02 1.2e+00 4.05e-01  4e-01  4e-01 2:09.9\n",
      "termination on tolfunhist=1e-12 (Mon Jan 16 15:38:56 2023)\n",
      "final/bestever f-value = 1.010000e+02 1.010000e+02\n",
      "incumbent solution: [0.8852479  2.06239629 0.69049054 0.16152579 0.9043495  0.34585566\n",
      " 0.73280237 0.24389248 ...]\n",
      "std deviations: [0.41030357 0.41552184 0.4044385  0.40366482 0.4041428  0.40288157\n",
      " 0.40575709 0.39880003 ...]\n",
      "Done\n"
     ]
    }
   ],
   "source": [
    "solver : CMAWeightSolver = CMAWeightSolver(values, durations, jobs, env, orders)\n",
    "solver.initialize() # doesn't do anything right now\n",
    "solver.run()"
   ]
  },
  {
   "cell_type": "code",
   "execution_count": 108,
   "metadata": {},
   "outputs": [
    {
     "name": "stdout",
     "output_type": "stream",
     "text": [
      "Parameters of the best solution :\n",
      " [0.84234805 0.31139179 0.39138281 0.08508902 0.03635738 0.39237878\n",
      " 0.43353286 0.04332257 0.16807396 0.14474499 0.04267942 0.70965012\n",
      " 0.22036514 0.2553376  0.02004393 0.44771925 0.56632169 0.17077751\n",
      " 0.0151532  0.00121217 0.04150775 0.34435233 0.53274464 0.33964387\n",
      " 0.00693424 0.49525923 0.14747666 0.39032867 0.57129414 0.65962834\n",
      " 0.01332299 0.17107172 0.46047647 0.12045988 0.76805993 1.09115626\n",
      " 0.44702113 0.3110043  0.11283845 0.0014272 ]\n",
      "Fitness value of the solution: 101\n"
     ]
    }
   ],
   "source": [
    "result = solver.best_solution[0]\n",
    "print(\"Parameters of the best solution :\\n {solution}\".format(solution=result))\n",
    "print(f'Fitness value of the solution: {solver.best_solution[1].result.fbest}')"
   ]
  },
  {
   "cell_type": "code",
   "execution_count": 105,
   "metadata": {},
   "outputs": [],
   "source": [
    "schedule = CMAToScheduleTranslator().translate(result, jobs, due_dates, durations, env, orders)\n",
    "schedule.created_in = env\n",
    "schedule.created_for = orders\n",
    "schedule.created_by = solver"
   ]
  },
  {
   "cell_type": "code",
   "execution_count": 99,
   "metadata": {},
   "outputs": [
    {
     "data": {
      "application/vnd.plotly.v1+json": {
       "config": {
        "plotlyServerURL": "https://plot.ly"
       },
       "data": [
        {
         "fill": "toself",
         "fillcolor": "rgb(0, 128, 255)",
         "hoverinfo": "name",
         "legendgroup": "rgb(0, 128, 255)",
         "mode": "none",
         "name": "Order 2",
         "type": "scatter",
         "x": [
          9,
          10,
          10,
          9,
          9,
          100,
          107,
          107,
          100,
          100,
          100,
          107,
          107,
          100,
          100,
          100,
          107,
          107,
          100,
          100,
          100,
          107,
          107,
          100,
          100,
          100,
          107,
          107,
          100,
          100,
          100,
          107,
          107,
          100,
          100,
          100,
          107,
          107,
          100,
          100,
          100,
          107,
          107,
          100,
          100,
          100,
          107,
          107,
          100,
          100,
          100,
          107,
          107,
          100,
          100,
          100,
          107,
          107,
          100,
          100,
          100,
          107,
          107,
          100,
          100,
          100,
          107,
          107,
          100,
          100,
          100,
          107,
          107,
          100,
          100,
          100,
          107,
          107,
          100,
          100,
          100,
          107,
          107,
          100,
          100,
          100,
          107,
          107,
          100,
          100,
          100,
          107,
          107,
          100,
          100,
          100,
          107,
          107,
          100,
          100,
          100,
          107,
          107,
          100,
          100,
          100,
          107,
          107,
          100,
          100,
          100,
          107,
          107,
          100,
          100,
          100,
          107,
          107,
          100,
          100,
          100,
          107,
          107,
          100,
          100,
          100,
          107,
          107,
          100,
          100,
          100,
          107,
          107,
          100,
          100,
          100,
          107,
          107,
          100,
          100,
          100,
          107,
          107,
          100,
          100,
          100,
          107,
          107,
          100,
          100,
          100,
          107,
          107,
          100,
          100,
          100,
          107,
          107,
          100,
          100,
          100,
          107,
          107,
          100,
          100,
          100,
          107,
          107,
          100,
          100,
          100,
          107,
          107,
          100,
          100,
          100,
          107,
          107,
          100,
          100,
          100,
          107,
          107,
          100,
          100,
          100,
          107,
          107,
          100,
          100,
          100,
          107,
          107,
          100,
          100,
          100,
          107,
          107,
          100
         ],
         "y": [
          0.8,
          0.8,
          1.2,
          1.2,
          null,
          -0.2,
          -0.2,
          0.2,
          0.2,
          null,
          -0.2,
          -0.2,
          0.2,
          0.2,
          null,
          -0.2,
          -0.2,
          0.2,
          0.2,
          null,
          -0.2,
          -0.2,
          0.2,
          0.2,
          null,
          -0.2,
          -0.2,
          0.2,
          0.2,
          null,
          -0.2,
          -0.2,
          0.2,
          0.2,
          null,
          -0.2,
          -0.2,
          0.2,
          0.2,
          null,
          -0.2,
          -0.2,
          0.2,
          0.2,
          null,
          -0.2,
          -0.2,
          0.2,
          0.2,
          null,
          -0.2,
          -0.2,
          0.2,
          0.2,
          null,
          -0.2,
          -0.2,
          0.2,
          0.2,
          null,
          -0.2,
          -0.2,
          0.2,
          0.2,
          null,
          -0.2,
          -0.2,
          0.2,
          0.2,
          null,
          -0.2,
          -0.2,
          0.2,
          0.2,
          null,
          -0.2,
          -0.2,
          0.2,
          0.2,
          null,
          -0.2,
          -0.2,
          0.2,
          0.2,
          null,
          -0.2,
          -0.2,
          0.2,
          0.2,
          null,
          -0.2,
          -0.2,
          0.2,
          0.2,
          null,
          -0.2,
          -0.2,
          0.2,
          0.2,
          null,
          -0.2,
          -0.2,
          0.2,
          0.2,
          null,
          -0.2,
          -0.2,
          0.2,
          0.2,
          null,
          -0.2,
          -0.2,
          0.2,
          0.2,
          null,
          -0.2,
          -0.2,
          0.2,
          0.2,
          null,
          -0.2,
          -0.2,
          0.2,
          0.2,
          null,
          -0.2,
          -0.2,
          0.2,
          0.2,
          null,
          -0.2,
          -0.2,
          0.2,
          0.2,
          null,
          -0.2,
          -0.2,
          0.2,
          0.2,
          null,
          -0.2,
          -0.2,
          0.2,
          0.2,
          null,
          -0.2,
          -0.2,
          0.2,
          0.2,
          null,
          -0.2,
          -0.2,
          0.2,
          0.2,
          null,
          -0.2,
          -0.2,
          0.2,
          0.2,
          null,
          -0.2,
          -0.2,
          0.2,
          0.2,
          null,
          -0.2,
          -0.2,
          0.2,
          0.2,
          null,
          -0.2,
          -0.2,
          0.2,
          0.2,
          null,
          -0.2,
          -0.2,
          0.2,
          0.2,
          null,
          -0.2,
          -0.2,
          0.2,
          0.2,
          null,
          -0.2,
          -0.2,
          0.2,
          0.2,
          null,
          -0.2,
          -0.2,
          0.2,
          0.2,
          null,
          -0.2,
          -0.2,
          0.2,
          0.2
         ]
        },
        {
         "legendgroup": "rgb(0, 128, 255)",
         "marker": {
          "color": "rgb(0, 128, 255)",
          "opacity": 0,
          "size": 1
         },
         "mode": "markers",
         "name": "",
         "showlegend": false,
         "text": [
          null,
          null,
          null,
          null,
          null,
          null,
          null,
          null,
          null,
          null,
          null,
          null,
          null,
          null,
          null,
          null,
          null,
          null,
          null,
          null,
          null,
          null,
          null,
          null,
          null,
          null,
          null,
          null,
          null,
          null,
          null,
          null,
          null,
          null,
          null,
          null,
          null,
          null,
          null,
          null,
          null,
          null,
          null,
          null,
          null,
          null,
          null,
          null,
          null,
          null,
          null,
          null,
          null,
          null,
          null,
          null,
          null,
          null,
          null,
          null,
          null,
          null,
          null,
          null,
          null,
          null,
          null,
          null,
          null,
          null,
          null,
          null,
          null,
          null,
          null,
          null,
          null,
          null,
          null,
          null
         ],
         "type": "scatter",
         "x": [
          9,
          10,
          100,
          107,
          100,
          107,
          100,
          107,
          100,
          107,
          100,
          107,
          100,
          107,
          100,
          107,
          100,
          107,
          100,
          107,
          100,
          107,
          100,
          107,
          100,
          107,
          100,
          107,
          100,
          107,
          100,
          107,
          100,
          107,
          100,
          107,
          100,
          107,
          100,
          107,
          100,
          107,
          100,
          107,
          100,
          107,
          100,
          107,
          100,
          107,
          100,
          107,
          100,
          107,
          100,
          107,
          100,
          107,
          100,
          107,
          100,
          107,
          100,
          107,
          100,
          107,
          100,
          107,
          100,
          107,
          100,
          107,
          100,
          107,
          100,
          107,
          100,
          107,
          100,
          107
         ],
         "y": [
          1,
          1,
          0,
          0,
          0,
          0,
          0,
          0,
          0,
          0,
          0,
          0,
          0,
          0,
          0,
          0,
          0,
          0,
          0,
          0,
          0,
          0,
          0,
          0,
          0,
          0,
          0,
          0,
          0,
          0,
          0,
          0,
          0,
          0,
          0,
          0,
          0,
          0,
          0,
          0,
          0,
          0,
          0,
          0,
          0,
          0,
          0,
          0,
          0,
          0,
          0,
          0,
          0,
          0,
          0,
          0,
          0,
          0,
          0,
          0,
          0,
          0,
          0,
          0,
          0,
          0,
          0,
          0,
          0,
          0,
          0,
          0,
          0,
          0,
          0,
          0,
          0,
          0,
          0,
          0
         ]
        }
       ],
       "layout": {
        "height": 600,
        "hovermode": "closest",
        "showlegend": true,
        "template": {
         "data": {
          "bar": [
           {
            "error_x": {
             "color": "#2a3f5f"
            },
            "error_y": {
             "color": "#2a3f5f"
            },
            "marker": {
             "line": {
              "color": "#E5ECF6",
              "width": 0.5
             },
             "pattern": {
              "fillmode": "overlay",
              "size": 10,
              "solidity": 0.2
             }
            },
            "type": "bar"
           }
          ],
          "barpolar": [
           {
            "marker": {
             "line": {
              "color": "#E5ECF6",
              "width": 0.5
             },
             "pattern": {
              "fillmode": "overlay",
              "size": 10,
              "solidity": 0.2
             }
            },
            "type": "barpolar"
           }
          ],
          "carpet": [
           {
            "aaxis": {
             "endlinecolor": "#2a3f5f",
             "gridcolor": "white",
             "linecolor": "white",
             "minorgridcolor": "white",
             "startlinecolor": "#2a3f5f"
            },
            "baxis": {
             "endlinecolor": "#2a3f5f",
             "gridcolor": "white",
             "linecolor": "white",
             "minorgridcolor": "white",
             "startlinecolor": "#2a3f5f"
            },
            "type": "carpet"
           }
          ],
          "choropleth": [
           {
            "colorbar": {
             "outlinewidth": 0,
             "ticks": ""
            },
            "type": "choropleth"
           }
          ],
          "contour": [
           {
            "colorbar": {
             "outlinewidth": 0,
             "ticks": ""
            },
            "colorscale": [
             [
              0,
              "#0d0887"
             ],
             [
              0.1111111111111111,
              "#46039f"
             ],
             [
              0.2222222222222222,
              "#7201a8"
             ],
             [
              0.3333333333333333,
              "#9c179e"
             ],
             [
              0.4444444444444444,
              "#bd3786"
             ],
             [
              0.5555555555555556,
              "#d8576b"
             ],
             [
              0.6666666666666666,
              "#ed7953"
             ],
             [
              0.7777777777777778,
              "#fb9f3a"
             ],
             [
              0.8888888888888888,
              "#fdca26"
             ],
             [
              1,
              "#f0f921"
             ]
            ],
            "type": "contour"
           }
          ],
          "contourcarpet": [
           {
            "colorbar": {
             "outlinewidth": 0,
             "ticks": ""
            },
            "type": "contourcarpet"
           }
          ],
          "heatmap": [
           {
            "colorbar": {
             "outlinewidth": 0,
             "ticks": ""
            },
            "colorscale": [
             [
              0,
              "#0d0887"
             ],
             [
              0.1111111111111111,
              "#46039f"
             ],
             [
              0.2222222222222222,
              "#7201a8"
             ],
             [
              0.3333333333333333,
              "#9c179e"
             ],
             [
              0.4444444444444444,
              "#bd3786"
             ],
             [
              0.5555555555555556,
              "#d8576b"
             ],
             [
              0.6666666666666666,
              "#ed7953"
             ],
             [
              0.7777777777777778,
              "#fb9f3a"
             ],
             [
              0.8888888888888888,
              "#fdca26"
             ],
             [
              1,
              "#f0f921"
             ]
            ],
            "type": "heatmap"
           }
          ],
          "heatmapgl": [
           {
            "colorbar": {
             "outlinewidth": 0,
             "ticks": ""
            },
            "colorscale": [
             [
              0,
              "#0d0887"
             ],
             [
              0.1111111111111111,
              "#46039f"
             ],
             [
              0.2222222222222222,
              "#7201a8"
             ],
             [
              0.3333333333333333,
              "#9c179e"
             ],
             [
              0.4444444444444444,
              "#bd3786"
             ],
             [
              0.5555555555555556,
              "#d8576b"
             ],
             [
              0.6666666666666666,
              "#ed7953"
             ],
             [
              0.7777777777777778,
              "#fb9f3a"
             ],
             [
              0.8888888888888888,
              "#fdca26"
             ],
             [
              1,
              "#f0f921"
             ]
            ],
            "type": "heatmapgl"
           }
          ],
          "histogram": [
           {
            "marker": {
             "pattern": {
              "fillmode": "overlay",
              "size": 10,
              "solidity": 0.2
             }
            },
            "type": "histogram"
           }
          ],
          "histogram2d": [
           {
            "colorbar": {
             "outlinewidth": 0,
             "ticks": ""
            },
            "colorscale": [
             [
              0,
              "#0d0887"
             ],
             [
              0.1111111111111111,
              "#46039f"
             ],
             [
              0.2222222222222222,
              "#7201a8"
             ],
             [
              0.3333333333333333,
              "#9c179e"
             ],
             [
              0.4444444444444444,
              "#bd3786"
             ],
             [
              0.5555555555555556,
              "#d8576b"
             ],
             [
              0.6666666666666666,
              "#ed7953"
             ],
             [
              0.7777777777777778,
              "#fb9f3a"
             ],
             [
              0.8888888888888888,
              "#fdca26"
             ],
             [
              1,
              "#f0f921"
             ]
            ],
            "type": "histogram2d"
           }
          ],
          "histogram2dcontour": [
           {
            "colorbar": {
             "outlinewidth": 0,
             "ticks": ""
            },
            "colorscale": [
             [
              0,
              "#0d0887"
             ],
             [
              0.1111111111111111,
              "#46039f"
             ],
             [
              0.2222222222222222,
              "#7201a8"
             ],
             [
              0.3333333333333333,
              "#9c179e"
             ],
             [
              0.4444444444444444,
              "#bd3786"
             ],
             [
              0.5555555555555556,
              "#d8576b"
             ],
             [
              0.6666666666666666,
              "#ed7953"
             ],
             [
              0.7777777777777778,
              "#fb9f3a"
             ],
             [
              0.8888888888888888,
              "#fdca26"
             ],
             [
              1,
              "#f0f921"
             ]
            ],
            "type": "histogram2dcontour"
           }
          ],
          "mesh3d": [
           {
            "colorbar": {
             "outlinewidth": 0,
             "ticks": ""
            },
            "type": "mesh3d"
           }
          ],
          "parcoords": [
           {
            "line": {
             "colorbar": {
              "outlinewidth": 0,
              "ticks": ""
             }
            },
            "type": "parcoords"
           }
          ],
          "pie": [
           {
            "automargin": true,
            "type": "pie"
           }
          ],
          "scatter": [
           {
            "fillpattern": {
             "fillmode": "overlay",
             "size": 10,
             "solidity": 0.2
            },
            "type": "scatter"
           }
          ],
          "scatter3d": [
           {
            "line": {
             "colorbar": {
              "outlinewidth": 0,
              "ticks": ""
             }
            },
            "marker": {
             "colorbar": {
              "outlinewidth": 0,
              "ticks": ""
             }
            },
            "type": "scatter3d"
           }
          ],
          "scattercarpet": [
           {
            "marker": {
             "colorbar": {
              "outlinewidth": 0,
              "ticks": ""
             }
            },
            "type": "scattercarpet"
           }
          ],
          "scattergeo": [
           {
            "marker": {
             "colorbar": {
              "outlinewidth": 0,
              "ticks": ""
             }
            },
            "type": "scattergeo"
           }
          ],
          "scattergl": [
           {
            "marker": {
             "colorbar": {
              "outlinewidth": 0,
              "ticks": ""
             }
            },
            "type": "scattergl"
           }
          ],
          "scattermapbox": [
           {
            "marker": {
             "colorbar": {
              "outlinewidth": 0,
              "ticks": ""
             }
            },
            "type": "scattermapbox"
           }
          ],
          "scatterpolar": [
           {
            "marker": {
             "colorbar": {
              "outlinewidth": 0,
              "ticks": ""
             }
            },
            "type": "scatterpolar"
           }
          ],
          "scatterpolargl": [
           {
            "marker": {
             "colorbar": {
              "outlinewidth": 0,
              "ticks": ""
             }
            },
            "type": "scatterpolargl"
           }
          ],
          "scatterternary": [
           {
            "marker": {
             "colorbar": {
              "outlinewidth": 0,
              "ticks": ""
             }
            },
            "type": "scatterternary"
           }
          ],
          "surface": [
           {
            "colorbar": {
             "outlinewidth": 0,
             "ticks": ""
            },
            "colorscale": [
             [
              0,
              "#0d0887"
             ],
             [
              0.1111111111111111,
              "#46039f"
             ],
             [
              0.2222222222222222,
              "#7201a8"
             ],
             [
              0.3333333333333333,
              "#9c179e"
             ],
             [
              0.4444444444444444,
              "#bd3786"
             ],
             [
              0.5555555555555556,
              "#d8576b"
             ],
             [
              0.6666666666666666,
              "#ed7953"
             ],
             [
              0.7777777777777778,
              "#fb9f3a"
             ],
             [
              0.8888888888888888,
              "#fdca26"
             ],
             [
              1,
              "#f0f921"
             ]
            ],
            "type": "surface"
           }
          ],
          "table": [
           {
            "cells": {
             "fill": {
              "color": "#EBF0F8"
             },
             "line": {
              "color": "white"
             }
            },
            "header": {
             "fill": {
              "color": "#C8D4E3"
             },
             "line": {
              "color": "white"
             }
            },
            "type": "table"
           }
          ]
         },
         "layout": {
          "annotationdefaults": {
           "arrowcolor": "#2a3f5f",
           "arrowhead": 0,
           "arrowwidth": 1
          },
          "autotypenumbers": "strict",
          "coloraxis": {
           "colorbar": {
            "outlinewidth": 0,
            "ticks": ""
           }
          },
          "colorscale": {
           "diverging": [
            [
             0,
             "#8e0152"
            ],
            [
             0.1,
             "#c51b7d"
            ],
            [
             0.2,
             "#de77ae"
            ],
            [
             0.3,
             "#f1b6da"
            ],
            [
             0.4,
             "#fde0ef"
            ],
            [
             0.5,
             "#f7f7f7"
            ],
            [
             0.6,
             "#e6f5d0"
            ],
            [
             0.7,
             "#b8e186"
            ],
            [
             0.8,
             "#7fbc41"
            ],
            [
             0.9,
             "#4d9221"
            ],
            [
             1,
             "#276419"
            ]
           ],
           "sequential": [
            [
             0,
             "#0d0887"
            ],
            [
             0.1111111111111111,
             "#46039f"
            ],
            [
             0.2222222222222222,
             "#7201a8"
            ],
            [
             0.3333333333333333,
             "#9c179e"
            ],
            [
             0.4444444444444444,
             "#bd3786"
            ],
            [
             0.5555555555555556,
             "#d8576b"
            ],
            [
             0.6666666666666666,
             "#ed7953"
            ],
            [
             0.7777777777777778,
             "#fb9f3a"
            ],
            [
             0.8888888888888888,
             "#fdca26"
            ],
            [
             1,
             "#f0f921"
            ]
           ],
           "sequentialminus": [
            [
             0,
             "#0d0887"
            ],
            [
             0.1111111111111111,
             "#46039f"
            ],
            [
             0.2222222222222222,
             "#7201a8"
            ],
            [
             0.3333333333333333,
             "#9c179e"
            ],
            [
             0.4444444444444444,
             "#bd3786"
            ],
            [
             0.5555555555555556,
             "#d8576b"
            ],
            [
             0.6666666666666666,
             "#ed7953"
            ],
            [
             0.7777777777777778,
             "#fb9f3a"
            ],
            [
             0.8888888888888888,
             "#fdca26"
            ],
            [
             1,
             "#f0f921"
            ]
           ]
          },
          "colorway": [
           "#636efa",
           "#EF553B",
           "#00cc96",
           "#ab63fa",
           "#FFA15A",
           "#19d3f3",
           "#FF6692",
           "#B6E880",
           "#FF97FF",
           "#FECB52"
          ],
          "font": {
           "color": "#2a3f5f"
          },
          "geo": {
           "bgcolor": "white",
           "lakecolor": "white",
           "landcolor": "#E5ECF6",
           "showlakes": true,
           "showland": true,
           "subunitcolor": "white"
          },
          "hoverlabel": {
           "align": "left"
          },
          "hovermode": "closest",
          "mapbox": {
           "style": "light"
          },
          "paper_bgcolor": "white",
          "plot_bgcolor": "#E5ECF6",
          "polar": {
           "angularaxis": {
            "gridcolor": "white",
            "linecolor": "white",
            "ticks": ""
           },
           "bgcolor": "#E5ECF6",
           "radialaxis": {
            "gridcolor": "white",
            "linecolor": "white",
            "ticks": ""
           }
          },
          "scene": {
           "xaxis": {
            "backgroundcolor": "#E5ECF6",
            "gridcolor": "white",
            "gridwidth": 2,
            "linecolor": "white",
            "showbackground": true,
            "ticks": "",
            "zerolinecolor": "white"
           },
           "yaxis": {
            "backgroundcolor": "#E5ECF6",
            "gridcolor": "white",
            "gridwidth": 2,
            "linecolor": "white",
            "showbackground": true,
            "ticks": "",
            "zerolinecolor": "white"
           },
           "zaxis": {
            "backgroundcolor": "#E5ECF6",
            "gridcolor": "white",
            "gridwidth": 2,
            "linecolor": "white",
            "showbackground": true,
            "ticks": "",
            "zerolinecolor": "white"
           }
          },
          "shapedefaults": {
           "line": {
            "color": "#2a3f5f"
           }
          },
          "ternary": {
           "aaxis": {
            "gridcolor": "white",
            "linecolor": "white",
            "ticks": ""
           },
           "baxis": {
            "gridcolor": "white",
            "linecolor": "white",
            "ticks": ""
           },
           "bgcolor": "#E5ECF6",
           "caxis": {
            "gridcolor": "white",
            "linecolor": "white",
            "ticks": ""
           }
          },
          "title": {
           "x": 0.05
          },
          "xaxis": {
           "automargin": true,
           "gridcolor": "white",
           "linecolor": "white",
           "ticks": "",
           "title": {
            "standoff": 15
           },
           "zerolinecolor": "white",
           "zerolinewidth": 2
          },
          "yaxis": {
           "automargin": true,
           "gridcolor": "white",
           "linecolor": "white",
           "ticks": "",
           "title": {
            "standoff": 15
           },
           "zerolinecolor": "white",
           "zerolinewidth": 2
          }
         }
        },
        "title": {
         "text": "Gantt Chart"
        },
        "xaxis": {
         "rangeselector": {
          "buttons": [
           {
            "count": 7,
            "label": "1w",
            "step": "day",
            "stepmode": "backward"
           },
           {
            "count": 1,
            "label": "1m",
            "step": "month",
            "stepmode": "backward"
           },
           {
            "count": 6,
            "label": "6m",
            "step": "month",
            "stepmode": "backward"
           },
           {
            "count": 1,
            "label": "YTD",
            "step": "year",
            "stepmode": "todate"
           },
           {
            "count": 1,
            "label": "1y",
            "step": "year",
            "stepmode": "backward"
           },
           {
            "step": "all"
           }
          ]
         },
         "showgrid": false,
         "type": "linear",
         "zeroline": false
        },
        "yaxis": {
         "autorange": false,
         "range": [
          -1,
          3
         ],
         "showgrid": false,
         "ticktext": [
          "w0",
          "w3"
         ],
         "tickvals": [
          0,
          1
         ],
         "zeroline": false
        }
       }
      }
     },
     "metadata": {},
     "output_type": "display_data"
    }
   ],
   "source": [
    "#TODO: current solution could be a result of either a) bug in schedule building (more likely) or b) lack of feasibility checks, since they shouldn't be necessary\n",
    "visualize_schedule_demo(schedule, env, orders)"
   ]
  },
  {
   "cell_type": "code",
   "execution_count": 100,
   "metadata": {},
   "outputs": [
    {
     "ename": "AttributeError",
     "evalue": "'NoneType' object has no attribute 'tasks'",
     "output_type": "error",
     "traceback": [
      "\u001b[1;31m---------------------------------------------------------------------------\u001b[0m",
      "\u001b[1;31mAttributeError\u001b[0m                            Traceback (most recent call last)",
      "Cell \u001b[1;32mIn[100], line 1\u001b[0m\n\u001b[1;32m----> 1\u001b[0m fitness_values \u001b[39m=\u001b[39m objective_function\u001b[39m.\u001b[39;49mcalculate_comparison_values(schedule, orders, env)\n\u001b[0;32m      2\u001b[0m \u001b[39mprint\u001b[39m(\u001b[39mf\u001b[39m\u001b[39m'\u001b[39m\u001b[39mFitness Values:\u001b[39m\u001b[39m\\n\u001b[39;00m\u001b[39mMakespan: \u001b[39m\u001b[39m{\u001b[39;00mfitness_values[\u001b[39m0\u001b[39m]\u001b[39m}\u001b[39;00m\u001b[39m\\n\u001b[39;00m\u001b[39mTardiness: \u001b[39m\u001b[39m{\u001b[39;00mfitness_values[\u001b[39m1\u001b[39m]\u001b[39m}\u001b[39;00m\u001b[39m\\n\u001b[39;00m\u001b[39mDeviation: \u001b[39m\u001b[39m{\u001b[39;00mfitness_values[\u001b[39m2\u001b[39m]\u001b[39m}\u001b[39;00m\u001b[39m\\n\u001b[39;00m\u001b[39mIdle Time: \u001b[39m\u001b[39m{\u001b[39;00mfitness_values[\u001b[39m3\u001b[39m]\u001b[39m}\u001b[39;00m\u001b[39m\\n\u001b[39;00m\u001b[39mProfit: \u001b[39m\u001b[39m{\u001b[39;00mfitness_values[\u001b[39m4\u001b[39m]\u001b[39m}\u001b[39;00m\u001b[39m'\u001b[39m)\n",
      "File \u001b[1;32mc:\\Users\\huda\\Documents\\GitHub\\scheduling_model\\code\\demo\\objective_function.py:117\u001b[0m, in \u001b[0;36mcalculate_comparison_values\u001b[1;34m(schedule, orders, environment)\u001b[0m\n\u001b[0;32m    114\u001b[0m \u001b[39mdef\u001b[39;00m \u001b[39mcalculate_comparison_values\u001b[39m(schedule : Schedule, orders, environment : SimulationEnvironment):\n\u001b[0;32m    115\u001b[0m     \u001b[39m# NOTE: unscheduled orders are currently not accounted for in these functions\u001b[39;00m\n\u001b[0;32m    116\u001b[0m     makespan_fitness \u001b[39m=\u001b[39m makespan(schedule, environment)\n\u001b[1;32m--> 117\u001b[0m     tardiness_fitness \u001b[39m=\u001b[39m min_tardiness(schedule, orders, environment)\n\u001b[0;32m    118\u001b[0m     deviation_fitness \u001b[39m=\u001b[39m min_deviation(schedule, orders, environment)\n\u001b[0;32m    119\u001b[0m     idle_time_fitness \u001b[39m=\u001b[39m min_idle_time(schedule, environment)\n",
      "File \u001b[1;32mc:\\Users\\huda\\Documents\\GitHub\\scheduling_model\\code\\demo\\objective_function.py:46\u001b[0m, in \u001b[0;36mmin_tardiness\u001b[1;34m(schedule, orders, environment)\u001b[0m\n\u001b[0;32m     44\u001b[0m \u001b[39mfor\u001b[39;00m order \u001b[39min\u001b[39;00m orders:\n\u001b[0;32m     45\u001b[0m     last_assignment, workstation \u001b[39m=\u001b[39m get_last(schedule, order, environment)\n\u001b[1;32m---> 46\u001b[0m     duration \u001b[39m=\u001b[39m environment\u001b[39m.\u001b[39;49mget_duration(last_assignment[\u001b[39m0\u001b[39;49m], workstation)\n\u001b[0;32m     47\u001b[0m     start \u001b[39m=\u001b[39m last_assignment[\u001b[39m1\u001b[39m]\n\u001b[0;32m     48\u001b[0m     end \u001b[39m=\u001b[39m start \u001b[39m+\u001b[39m duration\n",
      "File \u001b[1;32mc:\\Users\\huda\\Documents\\GitHub\\scheduling_model\\code\\demo\\models.py:82\u001b[0m, in \u001b[0;36mSimulationEnvironment.get_duration\u001b[1;34m(self, task_id, workstation_id)\u001b[0m\n\u001b[0;32m     80\u001b[0m \u001b[39mdef\u001b[39;00m \u001b[39mget_duration\u001b[39m(\u001b[39mself\u001b[39m, task_id : \u001b[39mint\u001b[39m, workstation_id : \u001b[39mint\u001b[39m) \u001b[39m-\u001b[39m\u001b[39m>\u001b[39m \u001b[39mint\u001b[39m:\n\u001b[0;32m     81\u001b[0m     workstation : Workstation \u001b[39m=\u001b[39m \u001b[39mself\u001b[39m\u001b[39m.\u001b[39mget_workstation(workstation_id)\n\u001b[1;32m---> 82\u001b[0m     \u001b[39mfor\u001b[39;00m task \u001b[39min\u001b[39;00m workstation\u001b[39m.\u001b[39;49mtasks:\n\u001b[0;32m     83\u001b[0m         \u001b[39mif\u001b[39;00m task[\u001b[39m0\u001b[39m] \u001b[39m==\u001b[39m task_id:\n\u001b[0;32m     84\u001b[0m             \u001b[39mreturn\u001b[39;00m task[\u001b[39m1\u001b[39m]\n",
      "\u001b[1;31mAttributeError\u001b[0m: 'NoneType' object has no attribute 'tasks'"
     ]
    }
   ],
   "source": [
    "fitness_values = objective_function.calculate_comparison_values(schedule, orders, env)\n",
    "print(f'Fitness Values:\\nMakespan: {fitness_values[0]}\\nTardiness: {fitness_values[1]}\\nDeviation: {fitness_values[2]}\\nIdle Time: {fitness_values[3]}\\nProfit: {fitness_values[4]}')"
   ]
  }
 ],
 "metadata": {
  "kernelspec": {
   "display_name": "Python 3",
   "language": "python",
   "name": "python3"
  },
  "language_info": {
   "codemirror_mode": {
    "name": "ipython",
    "version": 3
   },
   "file_extension": ".py",
   "mimetype": "text/x-python",
   "name": "python",
   "nbconvert_exporter": "python",
   "pygments_lexer": "ipython3",
   "version": "3.11.1"
  },
  "orig_nbformat": 4,
  "vscode": {
   "interpreter": {
    "hash": "1fa67616b1b49c35c458482b0866d2a2c548d80a3d17b7076357e3633b29d939"
   }
  }
 },
 "nbformat": 4,
 "nbformat_minor": 2
}
