{
 "cells": [
  {
   "cell_type": "code",
   "execution_count": 1,
   "metadata": {},
   "outputs": [],
   "source": [
    "%load_ext autoreload\n",
    "%autoreload 2\n",
    "from models import Schedule, SimulationEnvironment\n",
    "from visualize import visualize_schedule_comparison\n",
    "import json\n"
   ]
  },
  {
   "cell_type": "code",
   "execution_count": 6,
   "metadata": {},
   "outputs": [],
   "source": [
    "file_name = \"test\"\n",
    "jsonstring = \"\"\n",
    "with open(f'results/{file_name}.json', \"r\") as infile:\n",
    "    jsonstring = infile.read()\n",
    "#NOTE: Reads some inner objects as dictionaries because python is bad\n",
    "schedule = Schedule(**json.loads(jsonstring, object_hook=lambda d: {int(k) if k.lstrip('-').isdigit() else k: v for k, v in d.items()}))"
   ]
  },
  {
   "cell_type": "code",
   "execution_count": 7,
   "metadata": {},
   "outputs": [
    {
     "ename": "AttributeError",
     "evalue": "'dict' object has no attribute 'id'",
     "output_type": "error",
     "traceback": [
      "\u001b[1;31m---------------------------------------------------------------------------\u001b[0m",
      "\u001b[1;31mAttributeError\u001b[0m                            Traceback (most recent call last)",
      "Cell \u001b[1;32mIn [7], line 1\u001b[0m\n\u001b[1;32m----> 1\u001b[0m \u001b[43mvisualize_schedule_comparison\u001b[49m\u001b[43m(\u001b[49m\u001b[43mschedule\u001b[49m\u001b[43m,\u001b[49m\u001b[43m \u001b[49m\u001b[43mschedule\u001b[49m\u001b[38;5;241;43m.\u001b[39;49m\u001b[43mcreated_in\u001b[49m\u001b[43m,\u001b[49m\u001b[43m \u001b[49m\u001b[43mschedule\u001b[49m\u001b[38;5;241;43m.\u001b[39;49m\u001b[43mcreated_for\u001b[49m\u001b[43m)\u001b[49m\n",
      "File \u001b[1;32mc:\\Users\\huda\\Documents\\GitHub\\scheduling_model\\code\\demo\\visualize.py:83\u001b[0m, in \u001b[0;36mvisualize_schedule_comparison\u001b[1;34m(schedule, environment, orders)\u001b[0m\n\u001b[0;32m     81\u001b[0m label \u001b[39m=\u001b[39m \u001b[39mf\u001b[39m\u001b[39m'\u001b[39m\u001b[39mw\u001b[39m\u001b[39m{\u001b[39;00mworkstation\u001b[39m}\u001b[39;00m\u001b[39m'\u001b[39m\n\u001b[0;32m     82\u001b[0m \u001b[39mfor\u001b[39;00m assignment \u001b[39min\u001b[39;00m schedule\u001b[39m.\u001b[39massignments_for(workstation):\n\u001b[1;32m---> 83\u001b[0m     duration \u001b[39m=\u001b[39m environment\u001b[39m.\u001b[39;49mget_duration(assignment[\u001b[39m0\u001b[39;49m], workstation)\n\u001b[0;32m     84\u001b[0m     data\u001b[39m.\u001b[39mappend(\n\u001b[0;32m     85\u001b[0m         \u001b[39mdict\u001b[39m(Task\u001b[39m=\u001b[39mlabel, Start\u001b[39m=\u001b[39massignment[\u001b[39m1\u001b[39m], Finish\u001b[39m=\u001b[39massignment[\u001b[39m1\u001b[39m] \u001b[39m+\u001b[39m duration, Resource\u001b[39m=\u001b[39m\u001b[39mf\u001b[39m\u001b[39m'\u001b[39m\u001b[39mOrder \u001b[39m\u001b[39m{\u001b[39;00massignment[\u001b[39m2\u001b[39m][\u001b[39m\"\u001b[39m\u001b[39mid\u001b[39m\u001b[39m\"\u001b[39m]\u001b[39m}\u001b[39;00m\u001b[39m'\u001b[39m) \u001b[39m# not last part should be replaced with order id\u001b[39;00m\n\u001b[0;32m     86\u001b[0m     )\n\u001b[0;32m     87\u001b[0m     \u001b[39mif\u001b[39;00m assignment[\u001b[39m0\u001b[39m] \u001b[39mnot\u001b[39;00m \u001b[39min\u001b[39;00m tasks:\n",
      "File \u001b[1;32mc:\\Users\\huda\\Documents\\GitHub\\scheduling_model\\code\\demo\\models.py:82\u001b[0m, in \u001b[0;36mSimulationEnvironment.get_duration\u001b[1;34m(self, task_id, workstation_id)\u001b[0m\n\u001b[0;32m     81\u001b[0m \u001b[39mdef\u001b[39;00m \u001b[39mget_duration\u001b[39m(\u001b[39mself\u001b[39m, task_id : \u001b[39mint\u001b[39m, workstation_id : \u001b[39mint\u001b[39m) \u001b[39m-\u001b[39m\u001b[39m>\u001b[39m \u001b[39mint\u001b[39m:\n\u001b[1;32m---> 82\u001b[0m     workstation : Workstation \u001b[39m=\u001b[39m \u001b[39mself\u001b[39;49m\u001b[39m.\u001b[39;49mget_workstation(workstation_id)\n\u001b[0;32m     83\u001b[0m     \u001b[39mfor\u001b[39;00m task \u001b[39min\u001b[39;00m workstation\u001b[39m.\u001b[39mtasks:\n\u001b[0;32m     84\u001b[0m         \u001b[39mif\u001b[39;00m task[\u001b[39m0\u001b[39m] \u001b[39m==\u001b[39m task_id:\n",
      "File \u001b[1;32mc:\\Users\\huda\\Documents\\GitHub\\scheduling_model\\code\\demo\\models.py:90\u001b[0m, in \u001b[0;36mSimulationEnvironment.get_workstation\u001b[1;34m(self, workstation_id)\u001b[0m\n\u001b[0;32m     88\u001b[0m \u001b[39mdef\u001b[39;00m \u001b[39mget_workstation\u001b[39m(\u001b[39mself\u001b[39m, workstation_id : \u001b[39mint\u001b[39m) \u001b[39m-\u001b[39m\u001b[39m>\u001b[39m Workstation:\n\u001b[0;32m     89\u001b[0m     \u001b[39mfor\u001b[39;00m workstation \u001b[39min\u001b[39;00m \u001b[39mself\u001b[39m\u001b[39m.\u001b[39mworkstations:\n\u001b[1;32m---> 90\u001b[0m         \u001b[39mif\u001b[39;00m workstation\u001b[39m.\u001b[39;49mid \u001b[39m==\u001b[39m workstation_id:\n\u001b[0;32m     91\u001b[0m             \u001b[39mreturn\u001b[39;00m workstation\n\u001b[0;32m     92\u001b[0m     \u001b[39mreturn\u001b[39;00m \u001b[39mNone\u001b[39;00m\n",
      "\u001b[1;31mAttributeError\u001b[0m: 'dict' object has no attribute 'id'"
     ]
    }
   ],
   "source": [
    "visualize_schedule_comparison(schedule, schedule.created_in, schedule.created_for) # TODO environment and orders are not properly recreated by json.loads\n",
    "#TODO: maybe write software for results from file comparison in other language"
   ]
  }
 ],
 "metadata": {
  "kernelspec": {
   "display_name": "Python 3.10.3 64-bit",
   "language": "python",
   "name": "python3"
  },
  "language_info": {
   "codemirror_mode": {
    "name": "ipython",
    "version": 3
   },
   "file_extension": ".py",
   "mimetype": "text/x-python",
   "name": "python",
   "nbconvert_exporter": "python",
   "pygments_lexer": "ipython3",
   "version": "3.10.3"
  },
  "orig_nbformat": 4,
  "vscode": {
   "interpreter": {
    "hash": "1e478315ea93f9f083d422a59179b37c6ead09cc57c0e51f656bb4b8796d5f86"
   }
  }
 },
 "nbformat": 4,
 "nbformat_minor": 2
}
