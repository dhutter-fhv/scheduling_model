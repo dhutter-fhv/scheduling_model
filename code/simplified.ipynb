{
 "cells": [
  {
   "cell_type": "markdown",
   "metadata": {},
   "source": [
    "Imports"
   ]
  },
  {
   "cell_type": "code",
   "execution_count": 76,
   "metadata": {},
   "outputs": [],
   "source": [
    "import pygad\n",
    "import math\n",
    "import random\n",
    "import plotly.figure_factory as ff\n",
    "from plotly.express import timeline"
   ]
  },
  {
   "cell_type": "markdown",
   "metadata": {},
   "source": [
    "Helper Functions"
   ]
  },
  {
   "cell_type": "code",
   "execution_count": 77,
   "metadata": {},
   "outputs": [],
   "source": [
    "def index_to_job(index):\n",
    "    i = 0\n",
    "    for order in orders:\n",
    "        if i + 2 * len(available_tasks[order[0]]) > index:\n",
    "            j = 0\n",
    "            # find exact index\n",
    "            for job in available_tasks[order[0]]:\n",
    "                if i + 2*j == index:\n",
    "                    return job\n",
    "                j+=1\n",
    "        else:\n",
    "            i += 2 * len(available_tasks[order[0]])\n",
    "\n",
    "def index_to_order(index):\n",
    "    i = 0\n",
    "    for o in range(len(orders)):\n",
    "        if i + 2 * len(available_tasks[orders[o][0]]) > index:\n",
    "            j = 0\n",
    "            # find exact index\n",
    "            for job in available_tasks[orders[o][0]]:\n",
    "                if i + 2*j == index:\n",
    "                    return o\n",
    "                j+=1\n",
    "        else:\n",
    "            i += 2 * len(available_tasks[order[0]])"
   ]
  },
  {
   "cell_type": "markdown",
   "metadata": {},
   "source": [
    "Environment Setup"
   ]
  },
  {
   "cell_type": "code",
   "execution_count": 78,
   "metadata": {},
   "outputs": [],
   "source": [
    "last_slot = 1000\n",
    "first_slot = 0\n",
    "available_workstations = [2, 2, 3, 1, 2, 1, 1] # just put workstations for now (amount of workstation per type -> index = type)\n",
    "available_resources = [2, 3, 1, 4] # just put workers for now (amount of worker per type -> index = type)\n",
    "available_tasks = [ # recipes\n",
    "    [0, 1, 2],\n",
    "    [2, 3, 4],\n",
    "    [4, 1, 0],\n",
    "    [3, 2, 1]\n",
    "]\n",
    "job_durations = [ # rows = workstation idx, columns = jobs, 0 = jobs can't be done on this workstation\n",
    "    [10, 20, 0, 0, 10],\n",
    "    [0, 15, 10, 0, 0],\n",
    "    [15, 20, 0, 10, 10],\n",
    "    [10, 0, 10, 0, 10],\n",
    "    [0, 0, 15, 5, 10],\n",
    "    [0, 10, 0, 15, 0],\n",
    "    [5, 10, 15, 10, 5]\n",
    "]\n",
    "workstation_resources = [ # rows = workstation idx, columns = amount of resources (workers) needed, 0 = worker type can't operate workstation\n",
    "    [1, 0, 0, 1],         \n",
    "    [0, 1, 1, 0],\n",
    "    [1, 0, 1, 0],\n",
    "    [0, 1, 0, 1],\n",
    "    [1, 1, 0, 0],\n",
    "    [0, 0, 1, 1],\n",
    "    [2, 2, 1, 1]\n",
    "]\n",
    "job_resources = [ # rows = job idx, columns = amount of resources (materials needed), but ignore for now\n",
    "    [0, 0, 0, 0],\n",
    "    [0, 0, 0, 0],\n",
    "    [0, 0, 0, 0],\n",
    "    [0, 0, 0, 0],\n",
    "    [0, 0, 0, 0]\n",
    "]\n",
    "orders = [  # <recipe, target delivery time slot>\n",
    "    [0, last_slot],\n",
    "    [1, last_slot],\n",
    "    [2, last_slot],\n",
    "    [3, last_slot],\n",
    "    [1, last_slot]\n",
    "]"
   ]
  },
  {
   "cell_type": "markdown",
   "metadata": {},
   "source": [
    "GA Setup + Run"
   ]
  },
  {
   "cell_type": "code",
   "execution_count": 79,
   "metadata": {},
   "outputs": [
    {
     "name": "stdout",
     "output_type": "stream",
     "text": [
      "Parameters of the best solution : [  2 137   5 759   3 789   6 467   4 539   4 563   0 319   6 376   6 804\n",
      "   5 147   1 458   5 672   1 200   5 475   6 722]\n",
      "Fitness value of the best solution = -668\n"
     ]
    }
   ],
   "source": [
    "delivery_space = {'low': first_slot, 'high': last_slot}\n",
    "workstation_space = {'low': 0, 'high': len(available_workstations)-1}\n",
    "gene_space = []\n",
    "input = []\n",
    "for order in orders:\n",
    "    for job in available_tasks[order[0]]:\n",
    "        input.append(0)\n",
    "        input.append(0)\n",
    "j = 0\n",
    "for i in range(len(input)): # set lower and upper bounds for mutation for each gene\n",
    "    if j == 0:\n",
    "        gene_space.append(workstation_space)\n",
    "    else:\n",
    "        gene_space.append(delivery_space)\n",
    "    j+=1\n",
    "    if j > 1:\n",
    "        j = 0\n",
    "\n",
    "def mutation_function(offsprings, ga_instance):\n",
    "    for offspring in offsprings:\n",
    "        p = 1 / (len(offspring)/2) # amount of jobs\n",
    "        j = 0\n",
    "        for i in range(len(offspring)):\n",
    "            if j == 0:\n",
    "                if random.random() < p:\n",
    "                    options = []\n",
    "                    job = index_to_job(i)\n",
    "                    for w in range(len(job_durations)):\n",
    "                        if job_durations[w][job] > 0:\n",
    "                            options.append(w)\n",
    "                    # mutate workstation assignment\n",
    "                    offspring[i] = random.choice(options)\n",
    "                    # mutate start time\n",
    "                    offspring[i+1] = random.randint(0, last_slot)\n",
    "            j += 1\n",
    "            if j > 1:\n",
    "                j = 0\n",
    "                \n",
    "    return offsprings\n",
    "\n",
    "def is_feasible(solution):\n",
    "    j = 0\n",
    "    order = 0\n",
    "    for i in range(len(solution)):\n",
    "        if j == 0:\n",
    "            job = index_to_job(i)\n",
    "            \n",
    "        if j == 1: # timeslot\n",
    "            # check for last time slot\n",
    "            if solution[i] + job_durations[solution[i-1]][job] > last_slot:\n",
    "                return False\n",
    "            # check for first slot\n",
    "            if solution[i] < first_slot: # should never happen\n",
    "                return False\n",
    "        else: # assigned workstation\n",
    "            # check for overlaps\n",
    "            y = 0\n",
    "            for x in range(len(solution)):\n",
    "                if y == 0 and not y == i:\n",
    "                    if solution[y] == solution[i]: # tasks run on the same workstation, check overlap\n",
    "                        y_job = index_to_job(y)\n",
    "                        i_start = solution[i+1]\n",
    "                        y_start = solution[y+1]\n",
    "                        i_duration = job_durations[solution[i]][job]\n",
    "                        y_duration = job_durations[solution[y]][y_job]\n",
    "                        i_end = i_start + i_duration\n",
    "                        y_end = y_start + y_duration\n",
    "                        if i_start >= y_start and i_start <= y_end:\n",
    "                            return False\n",
    "                        if i_end >= y_start and i_end <= y_end:\n",
    "                            return False\n",
    "                        if y_start >= i_start and y_start <= i_end:\n",
    "                            return False\n",
    "                        if y_end >= i_start and y_end <= i_end:\n",
    "                            return False\n",
    "                y+=1\n",
    "                if y > 1:\n",
    "                    y = 0\n",
    "            # check for correct sequence\n",
    "            prev_order = order\n",
    "            order = index_to_order(i)\n",
    "            if i != 0 and order == prev_order: # not the first job of the order, check previous jobs\n",
    "                l = 1\n",
    "                while index_to_order(i - 2*l) == order:\n",
    "                    prev_start = solution[i - 2*l + 1]\n",
    "                    prev_end = prev_start + job_durations[solution[i - 2*l]][index_to_job(i-2*l)]\n",
    "                    start = solution[i+1]\n",
    "                    if start <= prev_end:\n",
    "                        return False\n",
    "                    l+=1\n",
    "        j+=1\n",
    "        if j > 1:\n",
    "            j = 0\n",
    "    return True\n",
    "\n",
    "def fitness_function(solution, solution_idx): # NOTE: PyGAD always maximizes\n",
    "    fitness = 1#0\n",
    "    if not is_feasible(solution):\n",
    "        fitness += last_slot\n",
    "    max = -float('inf')\n",
    "    min = float('inf')\n",
    "    j = 0\n",
    "    for i in range(len(solution)):\n",
    "        if j == 1: # time assignment\n",
    "            start = solution[i]\n",
    "            end = start + job_durations[solution[i-1]][index_to_job(i-1)]\n",
    "            if end > max:\n",
    "                max = solution[i]\n",
    "            if start < min:\n",
    "                min = solution[i]\n",
    "        j+=1\n",
    "        if j > 1:\n",
    "            j = 0\n",
    "    fitness += abs(max - min)\n",
    "    return -fitness\n",
    "\n",
    "num_genes = len(input)\n",
    "num_generations = 1000\n",
    "num_parents_mating = 25\n",
    "sol_per_pop = 50\n",
    "init_range_low = 0\n",
    "init_range_high = last_slot\n",
    "parent_selection_type = 'rws'\n",
    "keep_parents = 1\n",
    "crossover_type = 'two_points'\n",
    "mutation_type = mutation_function\n",
    "mutation_percentage_genes = 10 # not needed for custom mutation functions\n",
    "fitness_func = fitness_function\n",
    "gene_type = int\n",
    "\n",
    "ga_instance = pygad.GA(num_generations=num_generations, num_parents_mating=num_parents_mating, fitness_func=fitness_func, sol_per_pop=sol_per_pop, num_genes=num_genes, init_range_low=init_range_low, init_range_high=init_range_high, parent_selection_type=parent_selection_type, keep_parents=keep_parents, crossover_type=crossover_type, mutation_type=mutation_type, mutation_percent_genes=mutation_percentage_genes, gene_type=gene_type, gene_space=gene_space)\n",
    "ga_instance.run()\n",
    "solution, solution_fitness, solution_idx = ga_instance.best_solution()\n",
    "print(\"Parameters of the best solution : {solution}\".format(solution=solution))\n",
    "print(\"Fitness value of the best solution = {solution_fitness}\".format(solution_fitness=solution_fitness))\n"
   ]
  },
  {
   "cell_type": "markdown",
   "metadata": {},
   "source": [
    "Visualize Result"
   ]
  },
  {
   "cell_type": "code",
   "execution_count": 80,
   "metadata": {},
   "outputs": [
    {
     "data": {
      "application/vnd.plotly.v1+json": {
       "config": {
        "plotlyServerURL": "https://plot.ly"
       },
       "data": [
        {
         "fill": "toself",
         "fillcolor": "rgb(189, 73, 236)",
         "hoverinfo": "name",
         "legendgroup": "rgb(189, 73, 236)",
         "mode": "none",
         "name": "[2, 1000]",
         "type": "scatter",
         "x": [
          319,
          329,
          329,
          319,
          319,
          376,
          386,
          386,
          376,
          376,
          804,
          809,
          809,
          804
         ],
         "y": [
          0.8,
          0.8,
          1.2,
          1.2,
          null,
          2.8,
          2.8,
          3.2,
          3.2,
          null,
          2.8,
          2.8,
          3.2,
          3.2
         ]
        },
        {
         "fill": "toself",
         "fillcolor": "rgb(240, 124, 31)",
         "hoverinfo": "name",
         "legendgroup": "rgb(240, 124, 31)",
         "mode": "none",
         "name": "[3, 1000]",
         "type": "scatter",
         "x": [
          147,
          162,
          162,
          147,
          147,
          458,
          468,
          468,
          458,
          458,
          672,
          682,
          682,
          672
         ],
         "y": [
          4.8,
          4.8,
          5.2,
          5.2,
          null,
          -0.2,
          -0.2,
          0.2,
          0.2,
          null,
          4.8,
          4.8,
          5.2,
          5.2
         ]
        },
        {
         "fill": "toself",
         "fillcolor": "rgb(35, 175, 82)",
         "hoverinfo": "name",
         "legendgroup": "rgb(35, 175, 82)",
         "mode": "none",
         "name": "[1, 1000]",
         "type": "scatter",
         "x": [
          467,
          482,
          482,
          467,
          467,
          539,
          544,
          544,
          539,
          539,
          563,
          573,
          573,
          563,
          563,
          200,
          210,
          210,
          200,
          200,
          475,
          490,
          490,
          475,
          475,
          722,
          727,
          727,
          722
         ],
         "y": [
          2.8,
          2.8,
          3.2,
          3.2,
          null,
          1.8,
          1.8,
          2.2,
          2.2,
          null,
          1.8,
          1.8,
          2.2,
          2.2,
          null,
          -0.2,
          -0.2,
          0.2,
          0.2,
          null,
          4.8,
          4.8,
          5.2,
          5.2,
          null,
          2.8,
          2.8,
          3.2,
          3.2
         ]
        },
        {
         "fill": "toself",
         "fillcolor": "rgb(87, 227, 134)",
         "hoverinfo": "name",
         "legendgroup": "rgb(87, 227, 134)",
         "mode": "none",
         "name": "[0, 1000]",
         "type": "scatter",
         "x": [
          137,
          152,
          152,
          137,
          137,
          759,
          769,
          769,
          759,
          759,
          789,
          799,
          799,
          789
         ],
         "y": [
          5.8,
          5.8,
          6.2,
          6.2,
          null,
          4.8,
          4.8,
          5.2,
          5.2,
          null,
          3.8,
          3.8,
          4.2,
          4.2
         ]
        },
        {
         "legendgroup": "rgb(189, 73, 236)",
         "marker": {
          "color": "rgb(189, 73, 236)",
          "opacity": 0,
          "size": 1
         },
         "mode": "markers",
         "name": "",
         "showlegend": false,
         "text": [
          null,
          null,
          null,
          null,
          null,
          null
         ],
         "type": "scatter",
         "x": [
          319,
          329,
          376,
          386,
          804,
          809
         ],
         "y": [
          1,
          1,
          3,
          3,
          3,
          3
         ]
        },
        {
         "legendgroup": "rgb(240, 124, 31)",
         "marker": {
          "color": "rgb(240, 124, 31)",
          "opacity": 0,
          "size": 1
         },
         "mode": "markers",
         "name": "",
         "showlegend": false,
         "text": [
          null,
          null,
          null,
          null,
          null,
          null
         ],
         "type": "scatter",
         "x": [
          147,
          162,
          458,
          468,
          672,
          682
         ],
         "y": [
          5,
          5,
          0,
          0,
          5,
          5
         ]
        },
        {
         "legendgroup": "rgb(35, 175, 82)",
         "marker": {
          "color": "rgb(35, 175, 82)",
          "opacity": 0,
          "size": 1
         },
         "mode": "markers",
         "name": "",
         "showlegend": false,
         "text": [
          null,
          null,
          null,
          null,
          null,
          null,
          null,
          null,
          null,
          null,
          null,
          null
         ],
         "type": "scatter",
         "x": [
          467,
          482,
          539,
          544,
          563,
          573,
          200,
          210,
          475,
          490,
          722,
          727
         ],
         "y": [
          3,
          3,
          2,
          2,
          2,
          2,
          0,
          0,
          5,
          5,
          3,
          3
         ]
        },
        {
         "legendgroup": "rgb(87, 227, 134)",
         "marker": {
          "color": "rgb(87, 227, 134)",
          "opacity": 0,
          "size": 1
         },
         "mode": "markers",
         "name": "",
         "showlegend": false,
         "text": [
          null,
          null,
          null,
          null,
          null,
          null
         ],
         "type": "scatter",
         "x": [
          137,
          152,
          759,
          769,
          789,
          799
         ],
         "y": [
          6,
          6,
          5,
          5,
          4,
          4
         ]
        }
       ],
       "layout": {
        "height": 600,
        "hovermode": "closest",
        "showlegend": true,
        "template": {
         "data": {
          "bar": [
           {
            "error_x": {
             "color": "#2a3f5f"
            },
            "error_y": {
             "color": "#2a3f5f"
            },
            "marker": {
             "line": {
              "color": "#E5ECF6",
              "width": 0.5
             },
             "pattern": {
              "fillmode": "overlay",
              "size": 10,
              "solidity": 0.2
             }
            },
            "type": "bar"
           }
          ],
          "barpolar": [
           {
            "marker": {
             "line": {
              "color": "#E5ECF6",
              "width": 0.5
             },
             "pattern": {
              "fillmode": "overlay",
              "size": 10,
              "solidity": 0.2
             }
            },
            "type": "barpolar"
           }
          ],
          "carpet": [
           {
            "aaxis": {
             "endlinecolor": "#2a3f5f",
             "gridcolor": "white",
             "linecolor": "white",
             "minorgridcolor": "white",
             "startlinecolor": "#2a3f5f"
            },
            "baxis": {
             "endlinecolor": "#2a3f5f",
             "gridcolor": "white",
             "linecolor": "white",
             "minorgridcolor": "white",
             "startlinecolor": "#2a3f5f"
            },
            "type": "carpet"
           }
          ],
          "choropleth": [
           {
            "colorbar": {
             "outlinewidth": 0,
             "ticks": ""
            },
            "type": "choropleth"
           }
          ],
          "contour": [
           {
            "colorbar": {
             "outlinewidth": 0,
             "ticks": ""
            },
            "colorscale": [
             [
              0,
              "#0d0887"
             ],
             [
              0.1111111111111111,
              "#46039f"
             ],
             [
              0.2222222222222222,
              "#7201a8"
             ],
             [
              0.3333333333333333,
              "#9c179e"
             ],
             [
              0.4444444444444444,
              "#bd3786"
             ],
             [
              0.5555555555555556,
              "#d8576b"
             ],
             [
              0.6666666666666666,
              "#ed7953"
             ],
             [
              0.7777777777777778,
              "#fb9f3a"
             ],
             [
              0.8888888888888888,
              "#fdca26"
             ],
             [
              1,
              "#f0f921"
             ]
            ],
            "type": "contour"
           }
          ],
          "contourcarpet": [
           {
            "colorbar": {
             "outlinewidth": 0,
             "ticks": ""
            },
            "type": "contourcarpet"
           }
          ],
          "heatmap": [
           {
            "colorbar": {
             "outlinewidth": 0,
             "ticks": ""
            },
            "colorscale": [
             [
              0,
              "#0d0887"
             ],
             [
              0.1111111111111111,
              "#46039f"
             ],
             [
              0.2222222222222222,
              "#7201a8"
             ],
             [
              0.3333333333333333,
              "#9c179e"
             ],
             [
              0.4444444444444444,
              "#bd3786"
             ],
             [
              0.5555555555555556,
              "#d8576b"
             ],
             [
              0.6666666666666666,
              "#ed7953"
             ],
             [
              0.7777777777777778,
              "#fb9f3a"
             ],
             [
              0.8888888888888888,
              "#fdca26"
             ],
             [
              1,
              "#f0f921"
             ]
            ],
            "type": "heatmap"
           }
          ],
          "heatmapgl": [
           {
            "colorbar": {
             "outlinewidth": 0,
             "ticks": ""
            },
            "colorscale": [
             [
              0,
              "#0d0887"
             ],
             [
              0.1111111111111111,
              "#46039f"
             ],
             [
              0.2222222222222222,
              "#7201a8"
             ],
             [
              0.3333333333333333,
              "#9c179e"
             ],
             [
              0.4444444444444444,
              "#bd3786"
             ],
             [
              0.5555555555555556,
              "#d8576b"
             ],
             [
              0.6666666666666666,
              "#ed7953"
             ],
             [
              0.7777777777777778,
              "#fb9f3a"
             ],
             [
              0.8888888888888888,
              "#fdca26"
             ],
             [
              1,
              "#f0f921"
             ]
            ],
            "type": "heatmapgl"
           }
          ],
          "histogram": [
           {
            "marker": {
             "pattern": {
              "fillmode": "overlay",
              "size": 10,
              "solidity": 0.2
             }
            },
            "type": "histogram"
           }
          ],
          "histogram2d": [
           {
            "colorbar": {
             "outlinewidth": 0,
             "ticks": ""
            },
            "colorscale": [
             [
              0,
              "#0d0887"
             ],
             [
              0.1111111111111111,
              "#46039f"
             ],
             [
              0.2222222222222222,
              "#7201a8"
             ],
             [
              0.3333333333333333,
              "#9c179e"
             ],
             [
              0.4444444444444444,
              "#bd3786"
             ],
             [
              0.5555555555555556,
              "#d8576b"
             ],
             [
              0.6666666666666666,
              "#ed7953"
             ],
             [
              0.7777777777777778,
              "#fb9f3a"
             ],
             [
              0.8888888888888888,
              "#fdca26"
             ],
             [
              1,
              "#f0f921"
             ]
            ],
            "type": "histogram2d"
           }
          ],
          "histogram2dcontour": [
           {
            "colorbar": {
             "outlinewidth": 0,
             "ticks": ""
            },
            "colorscale": [
             [
              0,
              "#0d0887"
             ],
             [
              0.1111111111111111,
              "#46039f"
             ],
             [
              0.2222222222222222,
              "#7201a8"
             ],
             [
              0.3333333333333333,
              "#9c179e"
             ],
             [
              0.4444444444444444,
              "#bd3786"
             ],
             [
              0.5555555555555556,
              "#d8576b"
             ],
             [
              0.6666666666666666,
              "#ed7953"
             ],
             [
              0.7777777777777778,
              "#fb9f3a"
             ],
             [
              0.8888888888888888,
              "#fdca26"
             ],
             [
              1,
              "#f0f921"
             ]
            ],
            "type": "histogram2dcontour"
           }
          ],
          "mesh3d": [
           {
            "colorbar": {
             "outlinewidth": 0,
             "ticks": ""
            },
            "type": "mesh3d"
           }
          ],
          "parcoords": [
           {
            "line": {
             "colorbar": {
              "outlinewidth": 0,
              "ticks": ""
             }
            },
            "type": "parcoords"
           }
          ],
          "pie": [
           {
            "automargin": true,
            "type": "pie"
           }
          ],
          "scatter": [
           {
            "marker": {
             "colorbar": {
              "outlinewidth": 0,
              "ticks": ""
             }
            },
            "type": "scatter"
           }
          ],
          "scatter3d": [
           {
            "line": {
             "colorbar": {
              "outlinewidth": 0,
              "ticks": ""
             }
            },
            "marker": {
             "colorbar": {
              "outlinewidth": 0,
              "ticks": ""
             }
            },
            "type": "scatter3d"
           }
          ],
          "scattercarpet": [
           {
            "marker": {
             "colorbar": {
              "outlinewidth": 0,
              "ticks": ""
             }
            },
            "type": "scattercarpet"
           }
          ],
          "scattergeo": [
           {
            "marker": {
             "colorbar": {
              "outlinewidth": 0,
              "ticks": ""
             }
            },
            "type": "scattergeo"
           }
          ],
          "scattergl": [
           {
            "marker": {
             "colorbar": {
              "outlinewidth": 0,
              "ticks": ""
             }
            },
            "type": "scattergl"
           }
          ],
          "scattermapbox": [
           {
            "marker": {
             "colorbar": {
              "outlinewidth": 0,
              "ticks": ""
             }
            },
            "type": "scattermapbox"
           }
          ],
          "scatterpolar": [
           {
            "marker": {
             "colorbar": {
              "outlinewidth": 0,
              "ticks": ""
             }
            },
            "type": "scatterpolar"
           }
          ],
          "scatterpolargl": [
           {
            "marker": {
             "colorbar": {
              "outlinewidth": 0,
              "ticks": ""
             }
            },
            "type": "scatterpolargl"
           }
          ],
          "scatterternary": [
           {
            "marker": {
             "colorbar": {
              "outlinewidth": 0,
              "ticks": ""
             }
            },
            "type": "scatterternary"
           }
          ],
          "surface": [
           {
            "colorbar": {
             "outlinewidth": 0,
             "ticks": ""
            },
            "colorscale": [
             [
              0,
              "#0d0887"
             ],
             [
              0.1111111111111111,
              "#46039f"
             ],
             [
              0.2222222222222222,
              "#7201a8"
             ],
             [
              0.3333333333333333,
              "#9c179e"
             ],
             [
              0.4444444444444444,
              "#bd3786"
             ],
             [
              0.5555555555555556,
              "#d8576b"
             ],
             [
              0.6666666666666666,
              "#ed7953"
             ],
             [
              0.7777777777777778,
              "#fb9f3a"
             ],
             [
              0.8888888888888888,
              "#fdca26"
             ],
             [
              1,
              "#f0f921"
             ]
            ],
            "type": "surface"
           }
          ],
          "table": [
           {
            "cells": {
             "fill": {
              "color": "#EBF0F8"
             },
             "line": {
              "color": "white"
             }
            },
            "header": {
             "fill": {
              "color": "#C8D4E3"
             },
             "line": {
              "color": "white"
             }
            },
            "type": "table"
           }
          ]
         },
         "layout": {
          "annotationdefaults": {
           "arrowcolor": "#2a3f5f",
           "arrowhead": 0,
           "arrowwidth": 1
          },
          "autotypenumbers": "strict",
          "coloraxis": {
           "colorbar": {
            "outlinewidth": 0,
            "ticks": ""
           }
          },
          "colorscale": {
           "diverging": [
            [
             0,
             "#8e0152"
            ],
            [
             0.1,
             "#c51b7d"
            ],
            [
             0.2,
             "#de77ae"
            ],
            [
             0.3,
             "#f1b6da"
            ],
            [
             0.4,
             "#fde0ef"
            ],
            [
             0.5,
             "#f7f7f7"
            ],
            [
             0.6,
             "#e6f5d0"
            ],
            [
             0.7,
             "#b8e186"
            ],
            [
             0.8,
             "#7fbc41"
            ],
            [
             0.9,
             "#4d9221"
            ],
            [
             1,
             "#276419"
            ]
           ],
           "sequential": [
            [
             0,
             "#0d0887"
            ],
            [
             0.1111111111111111,
             "#46039f"
            ],
            [
             0.2222222222222222,
             "#7201a8"
            ],
            [
             0.3333333333333333,
             "#9c179e"
            ],
            [
             0.4444444444444444,
             "#bd3786"
            ],
            [
             0.5555555555555556,
             "#d8576b"
            ],
            [
             0.6666666666666666,
             "#ed7953"
            ],
            [
             0.7777777777777778,
             "#fb9f3a"
            ],
            [
             0.8888888888888888,
             "#fdca26"
            ],
            [
             1,
             "#f0f921"
            ]
           ],
           "sequentialminus": [
            [
             0,
             "#0d0887"
            ],
            [
             0.1111111111111111,
             "#46039f"
            ],
            [
             0.2222222222222222,
             "#7201a8"
            ],
            [
             0.3333333333333333,
             "#9c179e"
            ],
            [
             0.4444444444444444,
             "#bd3786"
            ],
            [
             0.5555555555555556,
             "#d8576b"
            ],
            [
             0.6666666666666666,
             "#ed7953"
            ],
            [
             0.7777777777777778,
             "#fb9f3a"
            ],
            [
             0.8888888888888888,
             "#fdca26"
            ],
            [
             1,
             "#f0f921"
            ]
           ]
          },
          "colorway": [
           "#636efa",
           "#EF553B",
           "#00cc96",
           "#ab63fa",
           "#FFA15A",
           "#19d3f3",
           "#FF6692",
           "#B6E880",
           "#FF97FF",
           "#FECB52"
          ],
          "font": {
           "color": "#2a3f5f"
          },
          "geo": {
           "bgcolor": "white",
           "lakecolor": "white",
           "landcolor": "#E5ECF6",
           "showlakes": true,
           "showland": true,
           "subunitcolor": "white"
          },
          "hoverlabel": {
           "align": "left"
          },
          "hovermode": "closest",
          "mapbox": {
           "style": "light"
          },
          "paper_bgcolor": "white",
          "plot_bgcolor": "#E5ECF6",
          "polar": {
           "angularaxis": {
            "gridcolor": "white",
            "linecolor": "white",
            "ticks": ""
           },
           "bgcolor": "#E5ECF6",
           "radialaxis": {
            "gridcolor": "white",
            "linecolor": "white",
            "ticks": ""
           }
          },
          "scene": {
           "xaxis": {
            "backgroundcolor": "#E5ECF6",
            "gridcolor": "white",
            "gridwidth": 2,
            "linecolor": "white",
            "showbackground": true,
            "ticks": "",
            "zerolinecolor": "white"
           },
           "yaxis": {
            "backgroundcolor": "#E5ECF6",
            "gridcolor": "white",
            "gridwidth": 2,
            "linecolor": "white",
            "showbackground": true,
            "ticks": "",
            "zerolinecolor": "white"
           },
           "zaxis": {
            "backgroundcolor": "#E5ECF6",
            "gridcolor": "white",
            "gridwidth": 2,
            "linecolor": "white",
            "showbackground": true,
            "ticks": "",
            "zerolinecolor": "white"
           }
          },
          "shapedefaults": {
           "line": {
            "color": "#2a3f5f"
           }
          },
          "ternary": {
           "aaxis": {
            "gridcolor": "white",
            "linecolor": "white",
            "ticks": ""
           },
           "baxis": {
            "gridcolor": "white",
            "linecolor": "white",
            "ticks": ""
           },
           "bgcolor": "#E5ECF6",
           "caxis": {
            "gridcolor": "white",
            "linecolor": "white",
            "ticks": ""
           }
          },
          "title": {
           "x": 0.05
          },
          "xaxis": {
           "automargin": true,
           "gridcolor": "white",
           "linecolor": "white",
           "ticks": "",
           "title": {
            "standoff": 15
           },
           "zerolinecolor": "white",
           "zerolinewidth": 2
          },
          "yaxis": {
           "automargin": true,
           "gridcolor": "white",
           "linecolor": "white",
           "ticks": "",
           "title": {
            "standoff": 15
           },
           "zerolinecolor": "white",
           "zerolinewidth": 2
          }
         }
        },
        "title": {
         "text": "Orders made: [[0, 1000], [1, 1000], [2, 1000], [3, 1000], [1, 1000]], Fitness of best result: -668"
        },
        "xaxis": {
         "rangeselector": {
          "buttons": [
           {
            "count": 7,
            "label": "1w",
            "step": "day",
            "stepmode": "backward"
           },
           {
            "count": 1,
            "label": "1m",
            "step": "month",
            "stepmode": "backward"
           },
           {
            "count": 6,
            "label": "6m",
            "step": "month",
            "stepmode": "backward"
           },
           {
            "count": 1,
            "label": "YTD",
            "step": "year",
            "stepmode": "todate"
           },
           {
            "count": 1,
            "label": "1y",
            "step": "year",
            "stepmode": "backward"
           },
           {
            "step": "all"
           }
          ]
         },
         "showgrid": true,
         "type": "date",
         "zeroline": false
        },
        "yaxis": {
         "autorange": false,
         "range": [
          -1,
          8
         ],
         "showgrid": false,
         "ticktext": [
          "W1",
          "W0",
          "W4",
          "W6",
          "W3",
          "W5",
          "W2"
         ],
         "tickvals": [
          0,
          1,
          2,
          3,
          4,
          5,
          6
         ],
         "zeroline": false
        }
       }
      }
     },
     "metadata": {},
     "output_type": "display_data"
    }
   ],
   "source": [
    "def get_colors(n): \n",
    "    ret = [] \n",
    "    r = int(random.random() * 256) \n",
    "    g = int(random.random() * 256) \n",
    "    b = int(random.random() * 256) \n",
    "    step = 256 / n \n",
    "    for i in range(n): \n",
    "        r += step \n",
    "        g += step \n",
    "        b += step \n",
    "        r = int(r) % 256 \n",
    "        g = int(g) % 256 \n",
    "        b = int(b) % 256 \n",
    "        ret.append((r,g,b))  \n",
    "    return ret\n",
    "\n",
    "def visualize(solution, solution_fitness, orders, durations):\n",
    "    colors = {}\n",
    "    rgb_values = get_colors(len(orders))\n",
    "    for i in range(len(orders)):\n",
    "        colors[str(orders[i])] = f'rgb({rgb_values[i][0]}, {rgb_values[i][1]}, {rgb_values[i][2]})'\n",
    "    data = []\n",
    "    j = 0\n",
    "    for i in range(len(solution)):\n",
    "        if j == 0:\n",
    "            job = index_to_job(i)\n",
    "            order = index_to_order(i)\n",
    "            label = f'W{solution[i]}'\n",
    "            start = solution[i+1]\n",
    "            end = start + durations[solution[i]][job]\n",
    "            data.append(\n",
    "                        dict(Task=label, Start=start, Finish=end, Resource=f'{orders[order]}')\n",
    "                    )\n",
    "        j+=1\n",
    "        if j > 1:\n",
    "            j = 0\n",
    "\n",
    "    fig = ff.create_gantt(data, colors=colors, index_col='Resource', show_colorbar=True,\n",
    "                        group_tasks=True, title=f'Orders made: {orders}, Fitness of best result: {solution_fitness}', showgrid_x=True)\n",
    "    #fig = timeline(data, x_start=\"Start\", x_end=\"Finish\", y=\"Task\",color = \"Resource\",template = \"gridon\")\n",
    "    fig.show()\n",
    "\n",
    "visualize(solution, solution_fitness, orders, job_durations)"
   ]
  }
 ],
 "metadata": {
  "interpreter": {
   "hash": "dc384c2faf76940171f4383ec2427d83ed2fc6b5f02c14f0aa692c83f6b17b80"
  },
  "kernelspec": {
   "display_name": "Python 3.9.12 64-bit (windows store)",
   "language": "python",
   "name": "python3"
  },
  "language_info": {
   "codemirror_mode": {
    "name": "ipython",
    "version": 3
   },
   "file_extension": ".py",
   "mimetype": "text/x-python",
   "name": "python",
   "nbconvert_exporter": "python",
   "pygments_lexer": "ipython3",
   "version": "3.9.12"
  },
  "orig_nbformat": 4
 },
 "nbformat": 4,
 "nbformat_minor": 2
}
