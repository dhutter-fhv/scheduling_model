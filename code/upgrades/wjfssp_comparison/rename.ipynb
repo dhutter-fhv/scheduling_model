{
 "cells": [
  {
   "cell_type": "code",
   "execution_count": 47,
   "metadata": {},
   "outputs": [],
   "source": [
    "import os"
   ]
  },
  {
   "cell_type": "code",
   "execution_count": 48,
   "metadata": {},
   "outputs": [],
   "source": [
    "full_path = r'C:\\Users\\huda\\Documents\\GitHub\\scheduling_model\\code\\upgrades\\code\\benchmarks_with_workers'\n",
    "start = os.listdir(full_path)"
   ]
  },
  {
   "cell_type": "code",
   "execution_count": 49,
   "metadata": {},
   "outputs": [
    {
     "name": "stdout",
     "output_type": "stream",
     "text": [
      "['0_BehnkeGeiger_10_workers.fjs', '0_BehnkeGeiger_11_workers.fjs', '0_BehnkeGeiger_12_workers.fjs', '0_BehnkeGeiger_13_workers.fjs', '0_BehnkeGeiger_14_workers.fjs', '0_BehnkeGeiger_15_workers.fjs', '0_BehnkeGeiger_16_workers.fjs', '0_BehnkeGeiger_17_workers.fjs', '0_BehnkeGeiger_18_workers.fjs', '0_BehnkeGeiger_19_workers.fjs', '0_BehnkeGeiger_1_workers.fjs', '0_BehnkeGeiger_20_workers.fjs', '0_BehnkeGeiger_21_workers.fjs', '0_BehnkeGeiger_22_workers.fjs', '0_BehnkeGeiger_23_workers.fjs', '0_BehnkeGeiger_24_workers.fjs', '0_BehnkeGeiger_25_workers.fjs', '0_BehnkeGeiger_26_workers.fjs', '0_BehnkeGeiger_27_workers.fjs', '0_BehnkeGeiger_28_workers.fjs', '0_BehnkeGeiger_29_workers.fjs', '0_BehnkeGeiger_2_workers.fjs', '0_BehnkeGeiger_30_workers.fjs', '0_BehnkeGeiger_31_workers.fjs', '0_BehnkeGeiger_32_workers.fjs', '0_BehnkeGeiger_33_workers.fjs', '0_BehnkeGeiger_34_workers.fjs', '0_BehnkeGeiger_35_workers.fjs', '0_BehnkeGeiger_36_workers.fjs', '0_BehnkeGeiger_37_workers.fjs', '0_BehnkeGeiger_38_workers.fjs', '0_BehnkeGeiger_39_workers.fjs', '0_BehnkeGeiger_3_workers.fjs', '0_BehnkeGeiger_40_workers.fjs', '0_BehnkeGeiger_41_workers.fjs', '0_BehnkeGeiger_42_workers.fjs', '0_BehnkeGeiger_43_workers.fjs', '0_BehnkeGeiger_44_workers.fjs', '0_BehnkeGeiger_45_workers.fjs', '0_BehnkeGeiger_46_workers.fjs', '0_BehnkeGeiger_47_workers.fjs', '0_BehnkeGeiger_48_workers.fjs', '0_BehnkeGeiger_49_workers.fjs', '0_BehnkeGeiger_4_workers.fjs', '0_BehnkeGeiger_50_workers.fjs', '0_BehnkeGeiger_51_workers.fjs', '0_BehnkeGeiger_52_workers.fjs', '0_BehnkeGeiger_53_workers.fjs', '0_BehnkeGeiger_54_workers.fjs', '0_BehnkeGeiger_55_workers.fjs', '0_BehnkeGeiger_56_workers.fjs', '0_BehnkeGeiger_57_workers.fjs', '0_BehnkeGeiger_58_workers.fjs', '0_BehnkeGeiger_59_workers.fjs', '0_BehnkeGeiger_5_workers.fjs', '0_BehnkeGeiger_60_workers.fjs', '0_BehnkeGeiger_6_workers.fjs', '0_BehnkeGeiger_7_workers.fjs', '0_BehnkeGeiger_8_workers.fjs', '0_BehnkeGeiger_9_workers.fjs', '1_Brandimarte_10_workers.fjs', '1_Brandimarte_11_workers.fjs', '1_Brandimarte_12_workers.fjs', '1_Brandimarte_13_workers.fjs', '1_Brandimarte_14_workers.fjs', '1_Brandimarte_15_workers.fjs', '1_Brandimarte_1_workers.fjs', '1_Brandimarte_2_workers.fjs', '1_Brandimarte_3_workers.fjs', '1_Brandimarte_4_workers.fjs', '1_Brandimarte_5_workers.fjs', '1_Brandimarte_6_workers.fjs', '1_Brandimarte_7_workers.fjs', '1_Brandimarte_8_workers.fjs', '1_Brandimarte_9_workers.fjs', '2a_Hurink_sdata_10_workers.fjs', '2a_Hurink_sdata_11_workers.fjs', '2a_Hurink_sdata_12_workers.fjs', '2a_Hurink_sdata_13_workers.fjs', '2a_Hurink_sdata_14_workers.fjs', '2a_Hurink_sdata_15_workers.fjs', '2a_Hurink_sdata_16_workers.fjs', '2a_Hurink_sdata_17_workers.fjs', '2a_Hurink_sdata_18_workers.fjs', '2a_Hurink_sdata_19_workers.fjs', '2a_Hurink_sdata_1_workers.fjs', '2a_Hurink_sdata_20_workers.fjs', '2a_Hurink_sdata_21_workers.fjs', '2a_Hurink_sdata_22_workers.fjs', '2a_Hurink_sdata_23_workers.fjs', '2a_Hurink_sdata_24_workers.fjs', '2a_Hurink_sdata_25_workers.fjs', '2a_Hurink_sdata_26_workers.fjs', '2a_Hurink_sdata_27_workers.fjs', '2a_Hurink_sdata_28_workers.fjs', '2a_Hurink_sdata_29_workers.fjs', '2a_Hurink_sdata_2_workers.fjs', '2a_Hurink_sdata_30_workers.fjs', '2a_Hurink_sdata_31_workers.fjs', '2a_Hurink_sdata_32_workers.fjs', '2a_Hurink_sdata_33_workers.fjs', '2a_Hurink_sdata_34_workers.fjs', '2a_Hurink_sdata_35_workers.fjs', '2a_Hurink_sdata_36_workers.fjs', '2a_Hurink_sdata_37_workers.fjs', '2a_Hurink_sdata_38_workers.fjs', '2a_Hurink_sdata_39_workers.fjs', '2a_Hurink_sdata_3_workers.fjs', '2a_Hurink_sdata_40_workers.fjs', '2a_Hurink_sdata_41_workers.fjs', '2a_Hurink_sdata_42_workers.fjs', '2a_Hurink_sdata_43_workers.fjs', '2a_Hurink_sdata_44_workers.fjs', '2a_Hurink_sdata_45_workers.fjs', '2a_Hurink_sdata_46_workers.fjs', '2a_Hurink_sdata_47_workers.fjs', '2a_Hurink_sdata_48_workers.fjs', '2a_Hurink_sdata_49_workers.fjs', '2a_Hurink_sdata_4_workers.fjs', '2a_Hurink_sdata_50_workers.fjs', '2a_Hurink_sdata_51_workers.fjs', '2a_Hurink_sdata_52_workers.fjs', '2a_Hurink_sdata_53_workers.fjs', '2a_Hurink_sdata_54_workers.fjs', '2a_Hurink_sdata_55_workers.fjs', '2a_Hurink_sdata_56_workers.fjs', '2a_Hurink_sdata_57_workers.fjs', '2a_Hurink_sdata_58_workers.fjs', '2a_Hurink_sdata_59_workers.fjs', '2a_Hurink_sdata_5_workers.fjs', '2a_Hurink_sdata_60_workers.fjs', '2a_Hurink_sdata_61_workers.fjs', '2a_Hurink_sdata_62_workers.fjs', '2a_Hurink_sdata_63_workers.fjs', '2a_Hurink_sdata_64_workers.fjs', '2a_Hurink_sdata_65_workers.fjs', '2a_Hurink_sdata_66_workers.fjs', '2a_Hurink_sdata_6_workers.fjs', '2a_Hurink_sdata_7_workers.fjs', '2a_Hurink_sdata_8_workers.fjs', '2a_Hurink_sdata_9_workers.fjs', '2b_Hurink_edata_10_workers.fjs', '2b_Hurink_edata_11_workers.fjs', '2b_Hurink_edata_12_workers.fjs', '2b_Hurink_edata_13_workers.fjs', '2b_Hurink_edata_14_workers.fjs', '2b_Hurink_edata_15_workers.fjs', '2b_Hurink_edata_16_workers.fjs', '2b_Hurink_edata_17_workers.fjs', '2b_Hurink_edata_18_workers.fjs', '2b_Hurink_edata_19_workers.fjs', '2b_Hurink_edata_1_workers.fjs', '2b_Hurink_edata_20_workers.fjs', '2b_Hurink_edata_21_workers.fjs', '2b_Hurink_edata_22_workers.fjs', '2b_Hurink_edata_23_workers.fjs', '2b_Hurink_edata_24_workers.fjs', '2b_Hurink_edata_25_workers.fjs', '2b_Hurink_edata_26_workers.fjs', '2b_Hurink_edata_27_workers.fjs', '2b_Hurink_edata_28_workers.fjs', '2b_Hurink_edata_29_workers.fjs', '2b_Hurink_edata_2_workers.fjs', '2b_Hurink_edata_30_workers.fjs', '2b_Hurink_edata_31_workers.fjs', '2b_Hurink_edata_32_workers.fjs', '2b_Hurink_edata_33_workers.fjs', '2b_Hurink_edata_34_workers.fjs', '2b_Hurink_edata_35_workers.fjs', '2b_Hurink_edata_36_workers.fjs', '2b_Hurink_edata_37_workers.fjs', '2b_Hurink_edata_38_workers.fjs', '2b_Hurink_edata_39_workers.fjs', '2b_Hurink_edata_3_workers.fjs', '2b_Hurink_edata_40_workers.fjs', '2b_Hurink_edata_41_workers.fjs', '2b_Hurink_edata_42_workers.fjs', '2b_Hurink_edata_43_workers.fjs', '2b_Hurink_edata_44_workers.fjs', '2b_Hurink_edata_45_workers.fjs', '2b_Hurink_edata_46_workers.fjs', '2b_Hurink_edata_47_workers.fjs', '2b_Hurink_edata_48_workers.fjs', '2b_Hurink_edata_49_workers.fjs', '2b_Hurink_edata_4_workers.fjs', '2b_Hurink_edata_50_workers.fjs', '2b_Hurink_edata_51_workers.fjs', '2b_Hurink_edata_52_workers.fjs', '2b_Hurink_edata_53_workers.fjs', '2b_Hurink_edata_54_workers.fjs', '2b_Hurink_edata_55_workers.fjs', '2b_Hurink_edata_56_workers.fjs', '2b_Hurink_edata_57_workers.fjs', '2b_Hurink_edata_58_workers.fjs', '2b_Hurink_edata_59_workers.fjs', '2b_Hurink_edata_5_workers.fjs', '2b_Hurink_edata_60_workers.fjs', '2b_Hurink_edata_61_workers.fjs', '2b_Hurink_edata_62_workers.fjs', '2b_Hurink_edata_63_workers.fjs', '2b_Hurink_edata_64_workers.fjs', '2b_Hurink_edata_65_workers.fjs', '2b_Hurink_edata_66_workers.fjs', '2b_Hurink_edata_6_workers.fjs', '2b_Hurink_edata_7_workers.fjs', '2b_Hurink_edata_8_workers.fjs', '2b_Hurink_edata_9_workers.fjs', '2c_Hurink_rdata_10_workers.fjs', '2c_Hurink_rdata_11_workers.fjs', '2c_Hurink_rdata_12_workers.fjs', '2c_Hurink_rdata_13_workers.fjs', '2c_Hurink_rdata_14_workers.fjs', '2c_Hurink_rdata_15_workers.fjs', '2c_Hurink_rdata_16_workers.fjs', '2c_Hurink_rdata_17_workers.fjs', '2c_Hurink_rdata_18_workers.fjs', '2c_Hurink_rdata_19_workers.fjs', '2c_Hurink_rdata_1_workers.fjs', '2c_Hurink_rdata_20_workers.fjs', '2c_Hurink_rdata_21_workers.fjs', '2c_Hurink_rdata_22_workers.fjs', '2c_Hurink_rdata_23_workers.fjs', '2c_Hurink_rdata_24_workers.fjs', '2c_Hurink_rdata_25_workers.fjs', '2c_Hurink_rdata_26_workers.fjs', '2c_Hurink_rdata_27_workers.fjs', '2c_Hurink_rdata_28_workers.fjs', '2c_Hurink_rdata_29_workers.fjs', '2c_Hurink_rdata_2_workers.fjs', '2c_Hurink_rdata_30_workers.fjs', '2c_Hurink_rdata_31_workers.fjs', '2c_Hurink_rdata_32_workers.fjs', '2c_Hurink_rdata_33_workers.fjs', '2c_Hurink_rdata_34_workers.fjs', '2c_Hurink_rdata_35_workers.fjs', '2c_Hurink_rdata_36_workers.fjs', '2c_Hurink_rdata_37_workers.fjs', '2c_Hurink_rdata_38_workers.fjs', '2c_Hurink_rdata_39_workers.fjs', '2c_Hurink_rdata_3_workers.fjs', '2c_Hurink_rdata_40_workers.fjs', '2c_Hurink_rdata_41_workers.fjs', '2c_Hurink_rdata_42_workers.fjs', '2c_Hurink_rdata_43_workers.fjs', '2c_Hurink_rdata_44_workers.fjs', '2c_Hurink_rdata_45_workers.fjs', '2c_Hurink_rdata_46_workers.fjs', '2c_Hurink_rdata_47_workers.fjs', '2c_Hurink_rdata_48_workers.fjs', '2c_Hurink_rdata_49_workers.fjs', '2c_Hurink_rdata_4_workers.fjs', '2c_Hurink_rdata_50_workers.fjs', '2c_Hurink_rdata_51_workers.fjs', '2c_Hurink_rdata_52_workers.fjs', '2c_Hurink_rdata_53_workers.fjs', '2c_Hurink_rdata_54_workers.fjs', '2c_Hurink_rdata_55_workers.fjs', '2c_Hurink_rdata_56_workers.fjs', '2c_Hurink_rdata_57_workers.fjs', '2c_Hurink_rdata_58_workers.fjs', '2c_Hurink_rdata_59_workers.fjs', '2c_Hurink_rdata_5_workers.fjs', '2c_Hurink_rdata_60_workers.fjs', '2c_Hurink_rdata_61_workers.fjs', '2c_Hurink_rdata_62_workers.fjs', '2c_Hurink_rdata_63_workers.fjs', '2c_Hurink_rdata_64_workers.fjs', '2c_Hurink_rdata_65_workers.fjs', '2c_Hurink_rdata_66_workers.fjs', '2c_Hurink_rdata_6_workers.fjs', '2c_Hurink_rdata_7_workers.fjs', '2c_Hurink_rdata_8_workers.fjs', '2c_Hurink_rdata_9_workers.fjs', '2d_Hurink_vdata_10_workers.fjs', '2d_Hurink_vdata_11_workers.fjs', '2d_Hurink_vdata_12_workers.fjs', '2d_Hurink_vdata_13_workers.fjs', '2d_Hurink_vdata_14_workers.fjs', '2d_Hurink_vdata_15_workers.fjs', '2d_Hurink_vdata_16_workers.fjs', '2d_Hurink_vdata_17_workers.fjs', '2d_Hurink_vdata_18_workers.fjs', '2d_Hurink_vdata_19_workers.fjs', '2d_Hurink_vdata_1_workers.fjs', '2d_Hurink_vdata_20_workers.fjs', '2d_Hurink_vdata_21_workers.fjs', '2d_Hurink_vdata_22_workers.fjs', '2d_Hurink_vdata_23_workers.fjs', '2d_Hurink_vdata_24_workers.fjs', '2d_Hurink_vdata_25_workers.fjs', '2d_Hurink_vdata_26_workers.fjs', '2d_Hurink_vdata_27_workers.fjs', '2d_Hurink_vdata_28_workers.fjs', '2d_Hurink_vdata_29_workers.fjs', '2d_Hurink_vdata_2_workers.fjs', '2d_Hurink_vdata_30_workers.fjs', '2d_Hurink_vdata_31_workers.fjs', '2d_Hurink_vdata_32_workers.fjs', '2d_Hurink_vdata_33_workers.fjs', '2d_Hurink_vdata_34_workers.fjs', '2d_Hurink_vdata_35_workers.fjs', '2d_Hurink_vdata_36_workers.fjs', '2d_Hurink_vdata_37_workers.fjs', '2d_Hurink_vdata_38_workers.fjs', '2d_Hurink_vdata_39_workers.fjs', '2d_Hurink_vdata_3_workers.fjs', '2d_Hurink_vdata_40_workers.fjs', '2d_Hurink_vdata_41_workers.fjs', '2d_Hurink_vdata_42_workers.fjs', '2d_Hurink_vdata_43_workers.fjs', '2d_Hurink_vdata_44_workers.fjs', '2d_Hurink_vdata_45_workers.fjs', '2d_Hurink_vdata_46_workers.fjs', '2d_Hurink_vdata_47_workers.fjs', '2d_Hurink_vdata_48_workers.fjs', '2d_Hurink_vdata_49_workers.fjs', '2d_Hurink_vdata_4_workers.fjs', '2d_Hurink_vdata_50_workers.fjs', '2d_Hurink_vdata_51_workers.fjs', '2d_Hurink_vdata_52_workers.fjs', '2d_Hurink_vdata_53_workers.fjs', '2d_Hurink_vdata_54_workers.fjs', '2d_Hurink_vdata_55_workers.fjs', '2d_Hurink_vdata_56_workers.fjs', '2d_Hurink_vdata_57_workers.fjs', '2d_Hurink_vdata_58_workers.fjs', '2d_Hurink_vdata_59_workers.fjs', '2d_Hurink_vdata_5_workers.fjs', '2d_Hurink_vdata_60_workers.fjs', '2d_Hurink_vdata_61_workers.fjs', '2d_Hurink_vdata_62_workers.fjs', '2d_Hurink_vdata_63_workers.fjs', '2d_Hurink_vdata_64_workers.fjs', '2d_Hurink_vdata_65_workers.fjs', '2d_Hurink_vdata_66_workers.fjs', '2d_Hurink_vdata_6_workers.fjs', '2d_Hurink_vdata_7_workers.fjs', '2d_Hurink_vdata_8_workers.fjs', '2d_Hurink_vdata_9_workers.fjs', '3_DPpaulli_10_workers.fjs', '3_DPpaulli_11_workers.fjs', '3_DPpaulli_12_workers.fjs', '3_DPpaulli_13_workers.fjs', '3_DPpaulli_14_workers.fjs', '3_DPpaulli_15_workers.fjs', '3_DPpaulli_16_workers.fjs', '3_DPpaulli_17_workers.fjs', '3_DPpaulli_18_workers.fjs', '3_DPpaulli_1_workers.fjs', '3_DPpaulli_2_workers.fjs', '3_DPpaulli_3_workers.fjs', '3_DPpaulli_4_workers.fjs', '3_DPpaulli_5_workers.fjs', '3_DPpaulli_6_workers.fjs', '3_DPpaulli_7_workers.fjs', '3_DPpaulli_8_workers.fjs', '3_DPpaulli_9_workers.fjs', '4_ChambersBarnes_10_workers.fjs', '4_ChambersBarnes_11_workers.fjs', '4_ChambersBarnes_12_workers.fjs', '4_ChambersBarnes_13_workers.fjs', '4_ChambersBarnes_14_workers.fjs', '4_ChambersBarnes_15_workers.fjs', '4_ChambersBarnes_16_workers.fjs', '4_ChambersBarnes_17_workers.fjs', '4_ChambersBarnes_18_workers.fjs', '4_ChambersBarnes_19_workers.fjs', '4_ChambersBarnes_1_workers.fjs', '4_ChambersBarnes_20_workers.fjs', '4_ChambersBarnes_21_workers.fjs', '4_ChambersBarnes_2_workers.fjs', '4_ChambersBarnes_3_workers.fjs', '4_ChambersBarnes_4_workers.fjs', '4_ChambersBarnes_5_workers.fjs', '4_ChambersBarnes_6_workers.fjs', '4_ChambersBarnes_7_workers.fjs', '4_ChambersBarnes_8_workers.fjs', '4_ChambersBarnes_9_workers.fjs', '5_Kacem_1_workers.fjs', '5_Kacem_2_workers.fjs', '5_Kacem_3_workers.fjs', '5_Kacem_4_workers.fjs', '6_Fattahi_10_workers.fjs', '6_Fattahi_11_workers.fjs', '6_Fattahi_12_workers.fjs', '6_Fattahi_13_workers.fjs', '6_Fattahi_14_workers.fjs', '6_Fattahi_15_workers.fjs', '6_Fattahi_16_workers.fjs', '6_Fattahi_17_workers.fjs', '6_Fattahi_18_workers.fjs', '6_Fattahi_19_workers.fjs', '6_Fattahi_1_workers.fjs', '6_Fattahi_20_workers.fjs', '6_Fattahi_2_workers.fjs', '6_Fattahi_3_workers.fjs', '6_Fattahi_4_workers.fjs', '6_Fattahi_5_workers.fjs', '6_Fattahi_6_workers.fjs', '6_Fattahi_7_workers.fjs', '6_Fattahi_8_workers.fjs', '6_Fattahi_9_workers.fjs']\n"
     ]
    }
   ],
   "source": [
    "print(start)"
   ]
  },
  {
   "cell_type": "code",
   "execution_count": 50,
   "metadata": {},
   "outputs": [
    {
     "name": "stdout",
     "output_type": "stream",
     "text": [
      "402\n"
     ]
    }
   ],
   "source": [
    "print(len(start))"
   ]
  },
  {
   "cell_type": "code",
   "execution_count": 51,
   "metadata": {},
   "outputs": [],
   "source": [
    "def split_names(names):\n",
    "    results = []\n",
    "    for name in names:\n",
    "        values = name.split('_')\n",
    "        source = values[:-2]\n",
    "        instance = values[-2]\n",
    "        result_source = ''\n",
    "        for section in source:\n",
    "            result_source += section + '_'\n",
    "        results.append((result_source[:-2], instance))\n",
    "    return results"
   ]
  },
  {
   "cell_type": "code",
   "execution_count": 52,
   "metadata": {},
   "outputs": [],
   "source": [
    "renamed = split_names(start)"
   ]
  },
  {
   "cell_type": "code",
   "execution_count": 53,
   "metadata": {},
   "outputs": [
    {
     "name": "stdout",
     "output_type": "stream",
     "text": [
      "[('0_BehnkeGeige', '10'), ('0_BehnkeGeige', '11'), ('0_BehnkeGeige', '12'), ('0_BehnkeGeige', '13'), ('0_BehnkeGeige', '14'), ('0_BehnkeGeige', '15'), ('0_BehnkeGeige', '16'), ('0_BehnkeGeige', '17'), ('0_BehnkeGeige', '18'), ('0_BehnkeGeige', '19'), ('0_BehnkeGeige', '1'), ('0_BehnkeGeige', '20'), ('0_BehnkeGeige', '21'), ('0_BehnkeGeige', '22'), ('0_BehnkeGeige', '23'), ('0_BehnkeGeige', '24'), ('0_BehnkeGeige', '25'), ('0_BehnkeGeige', '26'), ('0_BehnkeGeige', '27'), ('0_BehnkeGeige', '28'), ('0_BehnkeGeige', '29'), ('0_BehnkeGeige', '2'), ('0_BehnkeGeige', '30'), ('0_BehnkeGeige', '31'), ('0_BehnkeGeige', '32'), ('0_BehnkeGeige', '33'), ('0_BehnkeGeige', '34'), ('0_BehnkeGeige', '35'), ('0_BehnkeGeige', '36'), ('0_BehnkeGeige', '37'), ('0_BehnkeGeige', '38'), ('0_BehnkeGeige', '39'), ('0_BehnkeGeige', '3'), ('0_BehnkeGeige', '40'), ('0_BehnkeGeige', '41'), ('0_BehnkeGeige', '42'), ('0_BehnkeGeige', '43'), ('0_BehnkeGeige', '44'), ('0_BehnkeGeige', '45'), ('0_BehnkeGeige', '46'), ('0_BehnkeGeige', '47'), ('0_BehnkeGeige', '48'), ('0_BehnkeGeige', '49'), ('0_BehnkeGeige', '4'), ('0_BehnkeGeige', '50'), ('0_BehnkeGeige', '51'), ('0_BehnkeGeige', '52'), ('0_BehnkeGeige', '53'), ('0_BehnkeGeige', '54'), ('0_BehnkeGeige', '55'), ('0_BehnkeGeige', '56'), ('0_BehnkeGeige', '57'), ('0_BehnkeGeige', '58'), ('0_BehnkeGeige', '59'), ('0_BehnkeGeige', '5'), ('0_BehnkeGeige', '60'), ('0_BehnkeGeige', '6'), ('0_BehnkeGeige', '7'), ('0_BehnkeGeige', '8'), ('0_BehnkeGeige', '9'), ('1_Brandimart', '10'), ('1_Brandimart', '11'), ('1_Brandimart', '12'), ('1_Brandimart', '13'), ('1_Brandimart', '14'), ('1_Brandimart', '15'), ('1_Brandimart', '1'), ('1_Brandimart', '2'), ('1_Brandimart', '3'), ('1_Brandimart', '4'), ('1_Brandimart', '5'), ('1_Brandimart', '6'), ('1_Brandimart', '7'), ('1_Brandimart', '8'), ('1_Brandimart', '9'), ('2a_Hurink_sdat', '10'), ('2a_Hurink_sdat', '11'), ('2a_Hurink_sdat', '12'), ('2a_Hurink_sdat', '13'), ('2a_Hurink_sdat', '14'), ('2a_Hurink_sdat', '15'), ('2a_Hurink_sdat', '16'), ('2a_Hurink_sdat', '17'), ('2a_Hurink_sdat', '18'), ('2a_Hurink_sdat', '19'), ('2a_Hurink_sdat', '1'), ('2a_Hurink_sdat', '20'), ('2a_Hurink_sdat', '21'), ('2a_Hurink_sdat', '22'), ('2a_Hurink_sdat', '23'), ('2a_Hurink_sdat', '24'), ('2a_Hurink_sdat', '25'), ('2a_Hurink_sdat', '26'), ('2a_Hurink_sdat', '27'), ('2a_Hurink_sdat', '28'), ('2a_Hurink_sdat', '29'), ('2a_Hurink_sdat', '2'), ('2a_Hurink_sdat', '30'), ('2a_Hurink_sdat', '31'), ('2a_Hurink_sdat', '32'), ('2a_Hurink_sdat', '33'), ('2a_Hurink_sdat', '34'), ('2a_Hurink_sdat', '35'), ('2a_Hurink_sdat', '36'), ('2a_Hurink_sdat', '37'), ('2a_Hurink_sdat', '38'), ('2a_Hurink_sdat', '39'), ('2a_Hurink_sdat', '3'), ('2a_Hurink_sdat', '40'), ('2a_Hurink_sdat', '41'), ('2a_Hurink_sdat', '42'), ('2a_Hurink_sdat', '43'), ('2a_Hurink_sdat', '44'), ('2a_Hurink_sdat', '45'), ('2a_Hurink_sdat', '46'), ('2a_Hurink_sdat', '47'), ('2a_Hurink_sdat', '48'), ('2a_Hurink_sdat', '49'), ('2a_Hurink_sdat', '4'), ('2a_Hurink_sdat', '50'), ('2a_Hurink_sdat', '51'), ('2a_Hurink_sdat', '52'), ('2a_Hurink_sdat', '53'), ('2a_Hurink_sdat', '54'), ('2a_Hurink_sdat', '55'), ('2a_Hurink_sdat', '56'), ('2a_Hurink_sdat', '57'), ('2a_Hurink_sdat', '58'), ('2a_Hurink_sdat', '59'), ('2a_Hurink_sdat', '5'), ('2a_Hurink_sdat', '60'), ('2a_Hurink_sdat', '61'), ('2a_Hurink_sdat', '62'), ('2a_Hurink_sdat', '63'), ('2a_Hurink_sdat', '64'), ('2a_Hurink_sdat', '65'), ('2a_Hurink_sdat', '66'), ('2a_Hurink_sdat', '6'), ('2a_Hurink_sdat', '7'), ('2a_Hurink_sdat', '8'), ('2a_Hurink_sdat', '9'), ('2b_Hurink_edat', '10'), ('2b_Hurink_edat', '11'), ('2b_Hurink_edat', '12'), ('2b_Hurink_edat', '13'), ('2b_Hurink_edat', '14'), ('2b_Hurink_edat', '15'), ('2b_Hurink_edat', '16'), ('2b_Hurink_edat', '17'), ('2b_Hurink_edat', '18'), ('2b_Hurink_edat', '19'), ('2b_Hurink_edat', '1'), ('2b_Hurink_edat', '20'), ('2b_Hurink_edat', '21'), ('2b_Hurink_edat', '22'), ('2b_Hurink_edat', '23'), ('2b_Hurink_edat', '24'), ('2b_Hurink_edat', '25'), ('2b_Hurink_edat', '26'), ('2b_Hurink_edat', '27'), ('2b_Hurink_edat', '28'), ('2b_Hurink_edat', '29'), ('2b_Hurink_edat', '2'), ('2b_Hurink_edat', '30'), ('2b_Hurink_edat', '31'), ('2b_Hurink_edat', '32'), ('2b_Hurink_edat', '33'), ('2b_Hurink_edat', '34'), ('2b_Hurink_edat', '35'), ('2b_Hurink_edat', '36'), ('2b_Hurink_edat', '37'), ('2b_Hurink_edat', '38'), ('2b_Hurink_edat', '39'), ('2b_Hurink_edat', '3'), ('2b_Hurink_edat', '40'), ('2b_Hurink_edat', '41'), ('2b_Hurink_edat', '42'), ('2b_Hurink_edat', '43'), ('2b_Hurink_edat', '44'), ('2b_Hurink_edat', '45'), ('2b_Hurink_edat', '46'), ('2b_Hurink_edat', '47'), ('2b_Hurink_edat', '48'), ('2b_Hurink_edat', '49'), ('2b_Hurink_edat', '4'), ('2b_Hurink_edat', '50'), ('2b_Hurink_edat', '51'), ('2b_Hurink_edat', '52'), ('2b_Hurink_edat', '53'), ('2b_Hurink_edat', '54'), ('2b_Hurink_edat', '55'), ('2b_Hurink_edat', '56'), ('2b_Hurink_edat', '57'), ('2b_Hurink_edat', '58'), ('2b_Hurink_edat', '59'), ('2b_Hurink_edat', '5'), ('2b_Hurink_edat', '60'), ('2b_Hurink_edat', '61'), ('2b_Hurink_edat', '62'), ('2b_Hurink_edat', '63'), ('2b_Hurink_edat', '64'), ('2b_Hurink_edat', '65'), ('2b_Hurink_edat', '66'), ('2b_Hurink_edat', '6'), ('2b_Hurink_edat', '7'), ('2b_Hurink_edat', '8'), ('2b_Hurink_edat', '9'), ('2c_Hurink_rdat', '10'), ('2c_Hurink_rdat', '11'), ('2c_Hurink_rdat', '12'), ('2c_Hurink_rdat', '13'), ('2c_Hurink_rdat', '14'), ('2c_Hurink_rdat', '15'), ('2c_Hurink_rdat', '16'), ('2c_Hurink_rdat', '17'), ('2c_Hurink_rdat', '18'), ('2c_Hurink_rdat', '19'), ('2c_Hurink_rdat', '1'), ('2c_Hurink_rdat', '20'), ('2c_Hurink_rdat', '21'), ('2c_Hurink_rdat', '22'), ('2c_Hurink_rdat', '23'), ('2c_Hurink_rdat', '24'), ('2c_Hurink_rdat', '25'), ('2c_Hurink_rdat', '26'), ('2c_Hurink_rdat', '27'), ('2c_Hurink_rdat', '28'), ('2c_Hurink_rdat', '29'), ('2c_Hurink_rdat', '2'), ('2c_Hurink_rdat', '30'), ('2c_Hurink_rdat', '31'), ('2c_Hurink_rdat', '32'), ('2c_Hurink_rdat', '33'), ('2c_Hurink_rdat', '34'), ('2c_Hurink_rdat', '35'), ('2c_Hurink_rdat', '36'), ('2c_Hurink_rdat', '37'), ('2c_Hurink_rdat', '38'), ('2c_Hurink_rdat', '39'), ('2c_Hurink_rdat', '3'), ('2c_Hurink_rdat', '40'), ('2c_Hurink_rdat', '41'), ('2c_Hurink_rdat', '42'), ('2c_Hurink_rdat', '43'), ('2c_Hurink_rdat', '44'), ('2c_Hurink_rdat', '45'), ('2c_Hurink_rdat', '46'), ('2c_Hurink_rdat', '47'), ('2c_Hurink_rdat', '48'), ('2c_Hurink_rdat', '49'), ('2c_Hurink_rdat', '4'), ('2c_Hurink_rdat', '50'), ('2c_Hurink_rdat', '51'), ('2c_Hurink_rdat', '52'), ('2c_Hurink_rdat', '53'), ('2c_Hurink_rdat', '54'), ('2c_Hurink_rdat', '55'), ('2c_Hurink_rdat', '56'), ('2c_Hurink_rdat', '57'), ('2c_Hurink_rdat', '58'), ('2c_Hurink_rdat', '59'), ('2c_Hurink_rdat', '5'), ('2c_Hurink_rdat', '60'), ('2c_Hurink_rdat', '61'), ('2c_Hurink_rdat', '62'), ('2c_Hurink_rdat', '63'), ('2c_Hurink_rdat', '64'), ('2c_Hurink_rdat', '65'), ('2c_Hurink_rdat', '66'), ('2c_Hurink_rdat', '6'), ('2c_Hurink_rdat', '7'), ('2c_Hurink_rdat', '8'), ('2c_Hurink_rdat', '9'), ('2d_Hurink_vdat', '10'), ('2d_Hurink_vdat', '11'), ('2d_Hurink_vdat', '12'), ('2d_Hurink_vdat', '13'), ('2d_Hurink_vdat', '14'), ('2d_Hurink_vdat', '15'), ('2d_Hurink_vdat', '16'), ('2d_Hurink_vdat', '17'), ('2d_Hurink_vdat', '18'), ('2d_Hurink_vdat', '19'), ('2d_Hurink_vdat', '1'), ('2d_Hurink_vdat', '20'), ('2d_Hurink_vdat', '21'), ('2d_Hurink_vdat', '22'), ('2d_Hurink_vdat', '23'), ('2d_Hurink_vdat', '24'), ('2d_Hurink_vdat', '25'), ('2d_Hurink_vdat', '26'), ('2d_Hurink_vdat', '27'), ('2d_Hurink_vdat', '28'), ('2d_Hurink_vdat', '29'), ('2d_Hurink_vdat', '2'), ('2d_Hurink_vdat', '30'), ('2d_Hurink_vdat', '31'), ('2d_Hurink_vdat', '32'), ('2d_Hurink_vdat', '33'), ('2d_Hurink_vdat', '34'), ('2d_Hurink_vdat', '35'), ('2d_Hurink_vdat', '36'), ('2d_Hurink_vdat', '37'), ('2d_Hurink_vdat', '38'), ('2d_Hurink_vdat', '39'), ('2d_Hurink_vdat', '3'), ('2d_Hurink_vdat', '40'), ('2d_Hurink_vdat', '41'), ('2d_Hurink_vdat', '42'), ('2d_Hurink_vdat', '43'), ('2d_Hurink_vdat', '44'), ('2d_Hurink_vdat', '45'), ('2d_Hurink_vdat', '46'), ('2d_Hurink_vdat', '47'), ('2d_Hurink_vdat', '48'), ('2d_Hurink_vdat', '49'), ('2d_Hurink_vdat', '4'), ('2d_Hurink_vdat', '50'), ('2d_Hurink_vdat', '51'), ('2d_Hurink_vdat', '52'), ('2d_Hurink_vdat', '53'), ('2d_Hurink_vdat', '54'), ('2d_Hurink_vdat', '55'), ('2d_Hurink_vdat', '56'), ('2d_Hurink_vdat', '57'), ('2d_Hurink_vdat', '58'), ('2d_Hurink_vdat', '59'), ('2d_Hurink_vdat', '5'), ('2d_Hurink_vdat', '60'), ('2d_Hurink_vdat', '61'), ('2d_Hurink_vdat', '62'), ('2d_Hurink_vdat', '63'), ('2d_Hurink_vdat', '64'), ('2d_Hurink_vdat', '65'), ('2d_Hurink_vdat', '66'), ('2d_Hurink_vdat', '6'), ('2d_Hurink_vdat', '7'), ('2d_Hurink_vdat', '8'), ('2d_Hurink_vdat', '9'), ('3_DPpaull', '10'), ('3_DPpaull', '11'), ('3_DPpaull', '12'), ('3_DPpaull', '13'), ('3_DPpaull', '14'), ('3_DPpaull', '15'), ('3_DPpaull', '16'), ('3_DPpaull', '17'), ('3_DPpaull', '18'), ('3_DPpaull', '1'), ('3_DPpaull', '2'), ('3_DPpaull', '3'), ('3_DPpaull', '4'), ('3_DPpaull', '5'), ('3_DPpaull', '6'), ('3_DPpaull', '7'), ('3_DPpaull', '8'), ('3_DPpaull', '9'), ('4_ChambersBarne', '10'), ('4_ChambersBarne', '11'), ('4_ChambersBarne', '12'), ('4_ChambersBarne', '13'), ('4_ChambersBarne', '14'), ('4_ChambersBarne', '15'), ('4_ChambersBarne', '16'), ('4_ChambersBarne', '17'), ('4_ChambersBarne', '18'), ('4_ChambersBarne', '19'), ('4_ChambersBarne', '1'), ('4_ChambersBarne', '20'), ('4_ChambersBarne', '21'), ('4_ChambersBarne', '2'), ('4_ChambersBarne', '3'), ('4_ChambersBarne', '4'), ('4_ChambersBarne', '5'), ('4_ChambersBarne', '6'), ('4_ChambersBarne', '7'), ('4_ChambersBarne', '8'), ('4_ChambersBarne', '9'), ('5_Kace', '1'), ('5_Kace', '2'), ('5_Kace', '3'), ('5_Kace', '4'), ('6_Fattah', '10'), ('6_Fattah', '11'), ('6_Fattah', '12'), ('6_Fattah', '13'), ('6_Fattah', '14'), ('6_Fattah', '15'), ('6_Fattah', '16'), ('6_Fattah', '17'), ('6_Fattah', '18'), ('6_Fattah', '19'), ('6_Fattah', '1'), ('6_Fattah', '20'), ('6_Fattah', '2'), ('6_Fattah', '3'), ('6_Fattah', '4'), ('6_Fattah', '5'), ('6_Fattah', '6'), ('6_Fattah', '7'), ('6_Fattah', '8'), ('6_Fattah', '9')]\n"
     ]
    }
   ],
   "source": [
    "print(renamed)"
   ]
  },
  {
   "cell_type": "code",
   "execution_count": 54,
   "metadata": {},
   "outputs": [],
   "source": [
    "with open(r'C:\\Users\\huda\\Downloads\\gurobi_workers_all.txt', 'r') as f:\n",
    "    lines = f.readlines()\n",
    "    for i in range(len(lines)):\n",
    "        name = renamed[i]\n",
    "        line = lines[i]\n",
    "        #NOTE: removes all failed instances\n",
    "        if not line.startswith('Error'):\n",
    "            data = line.split(';')\n",
    "            data[0] = name[0]\n",
    "            data[1] = name[1]\n",
    "            with open(r'C:\\Users\\huda\\Downloads\\gurobi_workers_renamed.txt', 'a') as g:\n",
    "                g.write(f'{data[0]};{data[1]};{data[2]};{data[3]};{data[4]};{data[5]};{data[6]};{data[7]};{data[8]};{data[9]};{data[10]};{data[11]};{data[12]};{data[13]}')\n"
   ]
  }
 ],
 "metadata": {
  "kernelspec": {
   "display_name": "Python 3",
   "language": "python",
   "name": "python3"
  },
  "language_info": {
   "codemirror_mode": {
    "name": "ipython",
    "version": 3
   },
   "file_extension": ".py",
   "mimetype": "text/x-python",
   "name": "python",
   "nbconvert_exporter": "python",
   "pygments_lexer": "ipython3",
   "version": "3.11.1"
  }
 },
 "nbformat": 4,
 "nbformat_minor": 2
}
