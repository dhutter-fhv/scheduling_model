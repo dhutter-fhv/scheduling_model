{
 "cells": [
  {
   "cell_type": "code",
   "execution_count": 9,
   "metadata": {},
   "outputs": [],
   "source": [
    "import torch\n",
    "import numpy as np\n",
    "from scipy.sparse import rand as sprand"
   ]
  },
  {
   "cell_type": "code",
   "execution_count": 10,
   "metadata": {},
   "outputs": [],
   "source": [
    "durations = [\n",
    "    [2, 5, 4, 1, 2], # recipe 0, task 0 processing times\n",
    "    [5, 4, 5, 7, 5], # recipe 0, task 1 processing times\n",
    "    [4, 5, 5, 4, 5], # recipe 0, task 2 processing times\n",
    "    [2, 5, 4, 7, 8], # recipe 1, task 0 processing times\n",
    "    [5, 6, 9, 8, 5], # recipe 1, task 1 processing times\n",
    "    [4, 5, 4, 54, 5], # . . .\n",
    "    [9, 8, 6, 7, 9],\n",
    "    [6, 1, 2, 5, 4],\n",
    "    [2, 5, 4, 2, 4],\n",
    "    [4, 5, 2, 1, 5],\n",
    "    [1, 5, 2, 4, 12],\n",
    "    [5, 1, 2, 1, 2]\n",
    "]\n"
   ]
  },
  {
   "cell_type": "code",
   "execution_count": 11,
   "metadata": {},
   "outputs": [],
   "source": [
    "n_factors = 5\n",
    "n_users = len(durations)\n",
    "n_items = len(durations[0])"
   ]
  },
  {
   "cell_type": "code",
   "execution_count": 12,
   "metadata": {},
   "outputs": [],
   "source": [
    "ratings = np.matrix(durations)"
   ]
  },
  {
   "cell_type": "code",
   "execution_count": 13,
   "metadata": {},
   "outputs": [],
   "source": [
    "class MatrixFactorization(torch.nn.Module):\n",
    "    def __init__(self, n_users, n_items, n_factors=20):\n",
    "        super().__init__()\n",
    "        self.user_factors = torch.nn.Embedding(n_users, n_factors, sparse=True)\n",
    "        self.item_factors = torch.nn.Embedding(n_items, n_factors, sparse=True)\n",
    "\n",
    "    def forward(self, user, item):\n",
    "        return (self.user_factors(user) * self.item_factors(item)).sum(1)\n"
   ]
  },
  {
   "cell_type": "code",
   "execution_count": 14,
   "metadata": {},
   "outputs": [],
   "source": [
    "model = MatrixFactorization(n_users, n_items, n_factors)\n",
    "loss_func = torch.nn.MSELoss()\n",
    "optimizer = torch.optim.SGD(model.parameters(), lr=1e-6)"
   ]
  },
  {
   "cell_type": "code",
   "execution_count": 18,
   "metadata": {},
   "outputs": [],
   "source": [
    "# Sort our data\n",
    "rows, cols = ratings.nonzero()\n",
    "p = np.random.permutation(len(rows))\n",
    "rows, cols = rows[p], cols[p]\n",
    "\n",
    "for row, col in zip(*(rows, cols)):\n",
    "    # Set gradients to zero\n",
    "    optimizer.zero_grad()\n",
    "    \n",
    "    # Turn data into tensors\n",
    "    rating = torch.FloatTensor([ratings[row, col]])\n",
    "    row = torch.LongTensor([row])\n",
    "    col = torch.LongTensor([col])\n",
    "\n",
    "    # Predict and calculate loss\n",
    "    prediction = model(row, col)\n",
    "    loss = loss_func(prediction, rating)\n",
    "\n",
    "    # Backpropagate\n",
    "    loss.backward()\n",
    "\n",
    "    # Update the parameters\n",
    "    optimizer.step()\n"
   ]
  },
  {
   "cell_type": "code",
   "execution_count": 31,
   "metadata": {},
   "outputs": [
    {
     "name": "stdout",
     "output_type": "stream",
     "text": [
      "tensor([-1.7518], grad_fn=<SumBackward1>)\n"
     ]
    }
   ],
   "source": [
    "row = 5\n",
    "col = 0\n",
    "rating = torch.FloatTensor([ratings[row, col]])\n",
    "row = torch.LongTensor([row])\n",
    "col = torch.LongTensor([col])\n",
    "prediction = model(row, col)\n",
    "print(prediction)"
   ]
  }
 ],
 "metadata": {
  "kernelspec": {
   "display_name": "Python 3",
   "language": "python",
   "name": "python3"
  },
  "language_info": {
   "codemirror_mode": {
    "name": "ipython",
    "version": 3
   },
   "file_extension": ".py",
   "mimetype": "text/x-python",
   "name": "python",
   "nbconvert_exporter": "python",
   "pygments_lexer": "ipython3",
   "version": "3.11.1"
  }
 },
 "nbformat": 4,
 "nbformat_minor": 2
}
