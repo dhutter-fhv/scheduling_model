{
 "cells": [
  {
   "cell_type": "markdown",
   "metadata": {},
   "source": [
    "<h1> Imports </h1>"
   ]
  },
  {
   "cell_type": "code",
   "execution_count": 3,
   "metadata": {},
   "outputs": [],
   "source": [
    "from read_data import read_dataset_1, translate_1, read_dataset_3, translate_3\n",
    "from models import SimulationEnvironment\n",
    "from optimizer import BaseGA\n",
    "from visualize import reformat_result, visualize"
   ]
  },
  {
   "cell_type": "markdown",
   "metadata": {},
   "source": [
    "<h1>Parameters</h1>\n"
   ]
  },
  {
   "cell_type": "code",
   "execution_count": 4,
   "metadata": {},
   "outputs": [],
   "source": [
    "# Parameters\n",
    "max_generations = 20\n",
    "earliest_time_slot = 200\n",
    "last_time_slot = 5000\n",
    "population_size = 10\n",
    "offspring_amount = 20\n",
    "\n",
    "order_amount = 10"
   ]
  },
  {
   "cell_type": "markdown",
   "metadata": {},
   "source": [
    "<h1>Input Data</h1>\n",
    "Choose 1 of the following"
   ]
  },
  {
   "cell_type": "markdown",
   "metadata": {},
   "source": [
    "<h3> Dataset 1 (Job Shop Scheduling) </h3>"
   ]
  },
  {
   "cell_type": "code",
   "execution_count": 5,
   "metadata": {},
   "outputs": [],
   "source": [
    "input, orders, instance = read_dataset_1(use_instance=2, order_amount=order_amount, earliest_time=earliest_time_slot, last_time=last_time_slot)\n",
    "recipes, workstations, resources, tasks, orders_model = translate_1(instance, orders)"
   ]
  },
  {
   "cell_type": "markdown",
   "metadata": {},
   "source": [
    "<h3> Dataset 3, Resource Constrained (Job Shop Scheduling) </h3>"
   ]
  },
  {
   "cell_type": "code",
   "execution_count": null,
   "metadata": {},
   "outputs": [],
   "source": [
    "input, orders, instance = read_dataset_3(order_amount=order_amount, earliest_time=earliest_time_slot, last_time=last_time_slot)\n",
    "recipes, workstations, resources, tasks, orders_model = translate_3(instance, n_workstations=10, generated_orders=orders) # for dataset 3, the amount of available machines has to be declared (not included with the data)"
   ]
  },
  {
   "cell_type": "markdown",
   "metadata": {},
   "source": [
    "<h1> Simulation Environment Setup </h1>"
   ]
  },
  {
   "cell_type": "code",
   "execution_count": 6,
   "metadata": {},
   "outputs": [],
   "source": [
    "env = SimulationEnvironment(workstations, tasks, resources, recipes)"
   ]
  },
  {
   "cell_type": "markdown",
   "metadata": {},
   "source": [
    "<h1> Optimizer Configurations </h1>"
   ]
  },
  {
   "cell_type": "markdown",
   "metadata": {},
   "source": [
    "Config 1 - Test with One Point Crossover"
   ]
  },
  {
   "cell_type": "code",
   "execution_count": 7,
   "metadata": {},
   "outputs": [
    {
     "name": "stdout",
     "output_type": "stream",
     "text": [
      "Current generation: 0, Current Best: 91, not feasible\n",
      "Current generation: 1, Current Best: 91, not feasible\n",
      "Current generation: 2, Current Best: 91, not feasible\n",
      "New best individual found!\n",
      "Current generation: 3, Current Best: 90, not feasible\n",
      "New best individual found!\n",
      "Current generation: 4, Current Best: 88, not feasible\n",
      "Current generation: 5, Current Best: 88, not feasible\n",
      "New best individual found!\n",
      "Current generation: 6, Current Best: 87, not feasible\n",
      "New best individual found!\n",
      "Current generation: 7, Current Best: 86, not feasible\n",
      "New best individual found!\n",
      "Current generation: 8, Current Best: 84, not feasible\n",
      "New best individual found!\n",
      "Current generation: 9, Current Best: 84, not feasible\n",
      "New best individual found!\n",
      "Current generation: 10, Current Best: 83, not feasible\n",
      "Current generation: 11, Current Best: 83, not feasible\n",
      "New best individual found!\n",
      "Current generation: 12, Current Best: 82, not feasible\n",
      "Current generation: 13, Current Best: 82, not feasible\n",
      "Current generation: 14, Current Best: 82, not feasible\n",
      "New best individual found!\n",
      "Current generation: 15, Current Best: 81, not feasible\n",
      "New best individual found!\n",
      "Current generation: 16, Current Best: 80, not feasible\n",
      "New best individual found!\n",
      "Current generation: 17, Current Best: 79, not feasible\n",
      "Current generation: 18, Current Best: 79, not feasible\n",
      "Current generation: 19, Current Best: 79, not feasible\n",
      "New best individual found!\n"
     ]
    },
    {
     "data": {
      "application/vnd.plotly.v1+json": {
       "config": {
        "plotlyServerURL": "https://plot.ly"
       },
       "data": [
        {
         "fill": "toself",
         "fillcolor": "rgb(120, 51, 244)",
         "hoverinfo": "name",
         "legendgroup": "rgb(120, 51, 244)",
         "mode": "none",
         "name": "7",
         "type": "scatter",
         "x": [
          333,
          391,
          391,
          333,
          333,
          346,
          389,
          389,
          346,
          346,
          736,
          851,
          851,
          736,
          736,
          595,
          653,
          653,
          595,
          595,
          3021,
          3079,
          3079,
          3021,
          3021,
          1255,
          1298,
          1298,
          1255,
          1255,
          473,
          534,
          534,
          473
         ],
         "y": [
          0.8,
          0.8,
          1.2,
          1.2,
          null,
          0.8,
          0.8,
          1.2,
          1.2,
          null,
          0.8,
          0.8,
          1.2,
          1.2,
          null,
          0.8,
          0.8,
          1.2,
          1.2,
          null,
          0.8,
          0.8,
          1.2,
          1.2,
          null,
          0.8,
          0.8,
          1.2,
          1.2,
          null,
          0.8,
          0.8,
          1.2,
          1.2
         ]
        },
        {
         "fill": "toself",
         "fillcolor": "rgb(145, 76, 13)",
         "hoverinfo": "name",
         "legendgroup": "rgb(145, 76, 13)",
         "mode": "none",
         "name": "8",
         "type": "scatter",
         "x": [
          1449,
          1589,
          1589,
          1449,
          1449,
          975,
          1090,
          1090,
          975,
          975,
          3120,
          3245,
          3245,
          3120,
          3120,
          934,
          992,
          992,
          934,
          934,
          1841,
          1884,
          1884,
          1841,
          1841,
          3699,
          3814,
          3814,
          3699,
          3699,
          1760,
          1900,
          1900,
          1760
         ],
         "y": [
          0.8,
          0.8,
          1.2,
          1.2,
          null,
          0.8,
          0.8,
          1.2,
          1.2,
          null,
          0.8,
          0.8,
          1.2,
          1.2,
          null,
          0.8,
          0.8,
          1.2,
          1.2,
          null,
          0.8,
          0.8,
          1.2,
          1.2,
          null,
          0.8,
          0.8,
          1.2,
          1.2,
          null,
          0.8,
          0.8,
          1.2,
          1.2
         ]
        },
        {
         "fill": "toself",
         "fillcolor": "rgb(170, 101, 38)",
         "hoverinfo": "name",
         "legendgroup": "rgb(170, 101, 38)",
         "mode": "none",
         "name": "9",
         "type": "scatter",
         "x": [
          600,
          644,
          644,
          600,
          600,
          936,
          999,
          999,
          936,
          936,
          687,
          731,
          731,
          687,
          687,
          872,
          916,
          916,
          872
         ],
         "y": [
          0.8,
          0.8,
          1.2,
          1.2,
          null,
          0.8,
          0.8,
          1.2,
          1.2,
          null,
          0.8,
          0.8,
          1.2,
          1.2,
          null,
          0.8,
          0.8,
          1.2,
          1.2
         ]
        },
        {
         "fill": "toself",
         "fillcolor": "rgb(20, 207, 144)",
         "hoverinfo": "name",
         "legendgroup": "rgb(20, 207, 144)",
         "mode": "none",
         "name": "3",
         "type": "scatter",
         "x": [
          394,
          477,
          477,
          394,
          394,
          525,
          608,
          608,
          525,
          525,
          2294,
          2389,
          2389,
          2294,
          2294,
          3128,
          3203,
          3203,
          3128,
          3128,
          3049,
          3124,
          3124,
          3049,
          3049,
          3061,
          3136,
          3136,
          3061
         ],
         "y": [
          0.8,
          0.8,
          1.2,
          1.2,
          null,
          0.8,
          0.8,
          1.2,
          1.2,
          null,
          0.8,
          0.8,
          1.2,
          1.2,
          null,
          -0.2,
          -0.2,
          0.2,
          0.2,
          null,
          -0.2,
          -0.2,
          0.2,
          0.2,
          null,
          -0.2,
          -0.2,
          0.2,
          0.2
         ]
        },
        {
         "fill": "toself",
         "fillcolor": "rgb(201, 132, 69)",
         "hoverinfo": "name",
         "legendgroup": "rgb(201, 132, 69)",
         "mode": "none",
         "name": "0",
         "type": "scatter",
         "x": [
          3542,
          3600,
          3600,
          3542,
          3542,
          4804,
          4919,
          4919,
          4804,
          4804,
          2752,
          2810,
          2810,
          2752,
          2752,
          305,
          420,
          420,
          305,
          305,
          4556,
          4696,
          4696,
          4556,
          4556,
          1079,
          1204,
          1204,
          1079,
          1079,
          553,
          611,
          611,
          553
         ],
         "y": [
          0.8,
          0.8,
          1.2,
          1.2,
          null,
          0.8,
          0.8,
          1.2,
          1.2,
          null,
          0.8,
          0.8,
          1.2,
          1.2,
          null,
          0.8,
          0.8,
          1.2,
          1.2,
          null,
          0.8,
          0.8,
          1.2,
          1.2,
          null,
          0.8,
          0.8,
          1.2,
          1.2,
          null,
          0.8,
          0.8,
          1.2,
          1.2
         ]
        },
        {
         "fill": "toself",
         "fillcolor": "rgb(226, 157, 94)",
         "hoverinfo": "name",
         "legendgroup": "rgb(226, 157, 94)",
         "mode": "none",
         "name": "1",
         "type": "scatter",
         "x": [
          1505,
          1600,
          1600,
          1505,
          1505,
          2214,
          2297,
          2297,
          2214,
          2214,
          1716,
          1799,
          1799,
          1716,
          1716,
          1793,
          1868,
          1868,
          1793,
          1793,
          1228,
          1303,
          1303,
          1228,
          1228,
          1506,
          1593,
          1593,
          1506
         ],
         "y": [
          0.8,
          0.8,
          1.2,
          1.2,
          null,
          0.8,
          0.8,
          1.2,
          1.2,
          null,
          0.8,
          0.8,
          1.2,
          1.2,
          null,
          -0.2,
          -0.2,
          0.2,
          0.2,
          null,
          -0.2,
          -0.2,
          0.2,
          0.2,
          null,
          -0.2,
          -0.2,
          0.2,
          0.2
         ]
        },
        {
         "fill": "toself",
         "fillcolor": "rgb(251, 182, 119)",
         "hoverinfo": "name",
         "legendgroup": "rgb(251, 182, 119)",
         "mode": "none",
         "name": "2",
         "type": "scatter",
         "x": [
          290,
          334,
          334,
          290,
          290,
          904,
          967,
          967,
          904,
          904,
          1861,
          1934,
          1934,
          1861,
          1861,
          225,
          269,
          269,
          225
         ],
         "y": [
          0.8,
          0.8,
          1.2,
          1.2,
          null,
          0.8,
          0.8,
          1.2,
          1.2,
          null,
          0.8,
          0.8,
          1.2,
          1.2,
          null,
          0.8,
          0.8,
          1.2,
          1.2
         ]
        },
        {
         "fill": "toself",
         "fillcolor": "rgb(45, 232, 169)",
         "hoverinfo": "name",
         "legendgroup": "rgb(45, 232, 169)",
         "mode": "none",
         "name": "4",
         "type": "scatter",
         "x": [
          1212,
          1307,
          1307,
          1212,
          1212,
          508,
          591,
          591,
          508,
          508,
          582,
          677,
          677,
          582,
          582,
          884,
          919,
          919,
          884,
          884,
          2857,
          2892,
          2892,
          2857,
          2857,
          4528,
          4571,
          4571,
          4528
         ],
         "y": [
          0.8,
          0.8,
          1.2,
          1.2,
          null,
          0.8,
          0.8,
          1.2,
          1.2,
          null,
          0.8,
          0.8,
          1.2,
          1.2,
          null,
          -0.2,
          -0.2,
          0.2,
          0.2,
          null,
          -0.2,
          -0.2,
          0.2,
          0.2,
          null,
          -0.2,
          -0.2,
          0.2,
          0.2
         ]
        },
        {
         "fill": "toself",
         "fillcolor": "rgb(70, 1, 194)",
         "hoverinfo": "name",
         "legendgroup": "rgb(70, 1, 194)",
         "mode": "none",
         "name": "5",
         "type": "scatter",
         "x": [
          499,
          543,
          543,
          499,
          499,
          1730,
          1803,
          1803,
          1730,
          1730,
          3414,
          3458,
          3458,
          3414,
          3414,
          2556,
          2619,
          2619,
          2556
         ],
         "y": [
          0.8,
          0.8,
          1.2,
          1.2,
          null,
          0.8,
          0.8,
          1.2,
          1.2,
          null,
          0.8,
          0.8,
          1.2,
          1.2,
          null,
          0.8,
          0.8,
          1.2,
          1.2
         ]
        },
        {
         "fill": "toself",
         "fillcolor": "rgb(95, 26, 219)",
         "hoverinfo": "name",
         "legendgroup": "rgb(95, 26, 219)",
         "mode": "none",
         "name": "6",
         "type": "scatter",
         "x": [
          2086,
          2181,
          2181,
          2086,
          2086,
          2526,
          2609,
          2609,
          2526,
          2526,
          376,
          459,
          459,
          376,
          376,
          1612,
          1707,
          1707,
          1612,
          1612,
          2757,
          2800,
          2800,
          2757,
          2757,
          1837,
          1912,
          1912,
          1837
         ],
         "y": [
          0.8,
          0.8,
          1.2,
          1.2,
          null,
          0.8,
          0.8,
          1.2,
          1.2,
          null,
          0.8,
          0.8,
          1.2,
          1.2,
          null,
          0.8,
          0.8,
          1.2,
          1.2,
          null,
          -0.2,
          -0.2,
          0.2,
          0.2,
          null,
          -0.2,
          -0.2,
          0.2,
          0.2
         ]
        },
        {
         "legendgroup": "rgb(120, 51, 244)",
         "marker": {
          "color": "rgb(120, 51, 244)",
          "opacity": 0,
          "size": 1
         },
         "mode": "markers",
         "name": "",
         "showlegend": false,
         "text": [
          null,
          null,
          null,
          null,
          null,
          null,
          null,
          null,
          null,
          null,
          null,
          null,
          null,
          null
         ],
         "type": "scatter",
         "x": [
          333,
          391,
          346,
          389,
          736,
          851,
          595,
          653,
          3021,
          3079,
          1255,
          1298,
          473,
          534
         ],
         "y": [
          1,
          1,
          1,
          1,
          1,
          1,
          1,
          1,
          1,
          1,
          1,
          1,
          1,
          1
         ]
        },
        {
         "legendgroup": "rgb(145, 76, 13)",
         "marker": {
          "color": "rgb(145, 76, 13)",
          "opacity": 0,
          "size": 1
         },
         "mode": "markers",
         "name": "",
         "showlegend": false,
         "text": [
          null,
          null,
          null,
          null,
          null,
          null,
          null,
          null,
          null,
          null,
          null,
          null,
          null,
          null
         ],
         "type": "scatter",
         "x": [
          1449,
          1589,
          975,
          1090,
          3120,
          3245,
          934,
          992,
          1841,
          1884,
          3699,
          3814,
          1760,
          1900
         ],
         "y": [
          1,
          1,
          1,
          1,
          1,
          1,
          1,
          1,
          1,
          1,
          1,
          1,
          1,
          1
         ]
        },
        {
         "legendgroup": "rgb(170, 101, 38)",
         "marker": {
          "color": "rgb(170, 101, 38)",
          "opacity": 0,
          "size": 1
         },
         "mode": "markers",
         "name": "",
         "showlegend": false,
         "text": [
          null,
          null,
          null,
          null,
          null,
          null,
          null,
          null
         ],
         "type": "scatter",
         "x": [
          600,
          644,
          936,
          999,
          687,
          731,
          872,
          916
         ],
         "y": [
          1,
          1,
          1,
          1,
          1,
          1,
          1,
          1
         ]
        },
        {
         "legendgroup": "rgb(20, 207, 144)",
         "marker": {
          "color": "rgb(20, 207, 144)",
          "opacity": 0,
          "size": 1
         },
         "mode": "markers",
         "name": "",
         "showlegend": false,
         "text": [
          null,
          null,
          null,
          null,
          null,
          null,
          null,
          null,
          null,
          null,
          null,
          null
         ],
         "type": "scatter",
         "x": [
          394,
          477,
          525,
          608,
          2294,
          2389,
          3128,
          3203,
          3049,
          3124,
          3061,
          3136
         ],
         "y": [
          1,
          1,
          1,
          1,
          1,
          1,
          0,
          0,
          0,
          0,
          0,
          0
         ]
        },
        {
         "legendgroup": "rgb(201, 132, 69)",
         "marker": {
          "color": "rgb(201, 132, 69)",
          "opacity": 0,
          "size": 1
         },
         "mode": "markers",
         "name": "",
         "showlegend": false,
         "text": [
          null,
          null,
          null,
          null,
          null,
          null,
          null,
          null,
          null,
          null,
          null,
          null,
          null,
          null
         ],
         "type": "scatter",
         "x": [
          3542,
          3600,
          4804,
          4919,
          2752,
          2810,
          305,
          420,
          4556,
          4696,
          1079,
          1204,
          553,
          611
         ],
         "y": [
          1,
          1,
          1,
          1,
          1,
          1,
          1,
          1,
          1,
          1,
          1,
          1,
          1,
          1
         ]
        },
        {
         "legendgroup": "rgb(226, 157, 94)",
         "marker": {
          "color": "rgb(226, 157, 94)",
          "opacity": 0,
          "size": 1
         },
         "mode": "markers",
         "name": "",
         "showlegend": false,
         "text": [
          null,
          null,
          null,
          null,
          null,
          null,
          null,
          null,
          null,
          null,
          null,
          null
         ],
         "type": "scatter",
         "x": [
          1505,
          1600,
          2214,
          2297,
          1716,
          1799,
          1793,
          1868,
          1228,
          1303,
          1506,
          1593
         ],
         "y": [
          1,
          1,
          1,
          1,
          1,
          1,
          0,
          0,
          0,
          0,
          0,
          0
         ]
        },
        {
         "legendgroup": "rgb(251, 182, 119)",
         "marker": {
          "color": "rgb(251, 182, 119)",
          "opacity": 0,
          "size": 1
         },
         "mode": "markers",
         "name": "",
         "showlegend": false,
         "text": [
          null,
          null,
          null,
          null,
          null,
          null,
          null,
          null
         ],
         "type": "scatter",
         "x": [
          290,
          334,
          904,
          967,
          1861,
          1934,
          225,
          269
         ],
         "y": [
          1,
          1,
          1,
          1,
          1,
          1,
          1,
          1
         ]
        },
        {
         "legendgroup": "rgb(45, 232, 169)",
         "marker": {
          "color": "rgb(45, 232, 169)",
          "opacity": 0,
          "size": 1
         },
         "mode": "markers",
         "name": "",
         "showlegend": false,
         "text": [
          null,
          null,
          null,
          null,
          null,
          null,
          null,
          null,
          null,
          null,
          null,
          null
         ],
         "type": "scatter",
         "x": [
          1212,
          1307,
          508,
          591,
          582,
          677,
          884,
          919,
          2857,
          2892,
          4528,
          4571
         ],
         "y": [
          1,
          1,
          1,
          1,
          1,
          1,
          0,
          0,
          0,
          0,
          0,
          0
         ]
        },
        {
         "legendgroup": "rgb(70, 1, 194)",
         "marker": {
          "color": "rgb(70, 1, 194)",
          "opacity": 0,
          "size": 1
         },
         "mode": "markers",
         "name": "",
         "showlegend": false,
         "text": [
          null,
          null,
          null,
          null,
          null,
          null,
          null,
          null
         ],
         "type": "scatter",
         "x": [
          499,
          543,
          1730,
          1803,
          3414,
          3458,
          2556,
          2619
         ],
         "y": [
          1,
          1,
          1,
          1,
          1,
          1,
          1,
          1
         ]
        },
        {
         "legendgroup": "rgb(95, 26, 219)",
         "marker": {
          "color": "rgb(95, 26, 219)",
          "opacity": 0,
          "size": 1
         },
         "mode": "markers",
         "name": "",
         "showlegend": false,
         "text": [
          null,
          null,
          null,
          null,
          null,
          null,
          null,
          null,
          null,
          null,
          null,
          null
         ],
         "type": "scatter",
         "x": [
          2086,
          2181,
          2526,
          2609,
          376,
          459,
          1612,
          1707,
          2757,
          2800,
          1837,
          1912
         ],
         "y": [
          1,
          1,
          1,
          1,
          1,
          1,
          1,
          1,
          0,
          0,
          0,
          0
         ]
        }
       ],
       "layout": {
        "height": 600,
        "hovermode": "closest",
        "showlegend": true,
        "template": {
         "data": {
          "bar": [
           {
            "error_x": {
             "color": "#2a3f5f"
            },
            "error_y": {
             "color": "#2a3f5f"
            },
            "marker": {
             "line": {
              "color": "#E5ECF6",
              "width": 0.5
             },
             "pattern": {
              "fillmode": "overlay",
              "size": 10,
              "solidity": 0.2
             }
            },
            "type": "bar"
           }
          ],
          "barpolar": [
           {
            "marker": {
             "line": {
              "color": "#E5ECF6",
              "width": 0.5
             },
             "pattern": {
              "fillmode": "overlay",
              "size": 10,
              "solidity": 0.2
             }
            },
            "type": "barpolar"
           }
          ],
          "carpet": [
           {
            "aaxis": {
             "endlinecolor": "#2a3f5f",
             "gridcolor": "white",
             "linecolor": "white",
             "minorgridcolor": "white",
             "startlinecolor": "#2a3f5f"
            },
            "baxis": {
             "endlinecolor": "#2a3f5f",
             "gridcolor": "white",
             "linecolor": "white",
             "minorgridcolor": "white",
             "startlinecolor": "#2a3f5f"
            },
            "type": "carpet"
           }
          ],
          "choropleth": [
           {
            "colorbar": {
             "outlinewidth": 0,
             "ticks": ""
            },
            "type": "choropleth"
           }
          ],
          "contour": [
           {
            "colorbar": {
             "outlinewidth": 0,
             "ticks": ""
            },
            "colorscale": [
             [
              0,
              "#0d0887"
             ],
             [
              0.1111111111111111,
              "#46039f"
             ],
             [
              0.2222222222222222,
              "#7201a8"
             ],
             [
              0.3333333333333333,
              "#9c179e"
             ],
             [
              0.4444444444444444,
              "#bd3786"
             ],
             [
              0.5555555555555556,
              "#d8576b"
             ],
             [
              0.6666666666666666,
              "#ed7953"
             ],
             [
              0.7777777777777778,
              "#fb9f3a"
             ],
             [
              0.8888888888888888,
              "#fdca26"
             ],
             [
              1,
              "#f0f921"
             ]
            ],
            "type": "contour"
           }
          ],
          "contourcarpet": [
           {
            "colorbar": {
             "outlinewidth": 0,
             "ticks": ""
            },
            "type": "contourcarpet"
           }
          ],
          "heatmap": [
           {
            "colorbar": {
             "outlinewidth": 0,
             "ticks": ""
            },
            "colorscale": [
             [
              0,
              "#0d0887"
             ],
             [
              0.1111111111111111,
              "#46039f"
             ],
             [
              0.2222222222222222,
              "#7201a8"
             ],
             [
              0.3333333333333333,
              "#9c179e"
             ],
             [
              0.4444444444444444,
              "#bd3786"
             ],
             [
              0.5555555555555556,
              "#d8576b"
             ],
             [
              0.6666666666666666,
              "#ed7953"
             ],
             [
              0.7777777777777778,
              "#fb9f3a"
             ],
             [
              0.8888888888888888,
              "#fdca26"
             ],
             [
              1,
              "#f0f921"
             ]
            ],
            "type": "heatmap"
           }
          ],
          "heatmapgl": [
           {
            "colorbar": {
             "outlinewidth": 0,
             "ticks": ""
            },
            "colorscale": [
             [
              0,
              "#0d0887"
             ],
             [
              0.1111111111111111,
              "#46039f"
             ],
             [
              0.2222222222222222,
              "#7201a8"
             ],
             [
              0.3333333333333333,
              "#9c179e"
             ],
             [
              0.4444444444444444,
              "#bd3786"
             ],
             [
              0.5555555555555556,
              "#d8576b"
             ],
             [
              0.6666666666666666,
              "#ed7953"
             ],
             [
              0.7777777777777778,
              "#fb9f3a"
             ],
             [
              0.8888888888888888,
              "#fdca26"
             ],
             [
              1,
              "#f0f921"
             ]
            ],
            "type": "heatmapgl"
           }
          ],
          "histogram": [
           {
            "marker": {
             "pattern": {
              "fillmode": "overlay",
              "size": 10,
              "solidity": 0.2
             }
            },
            "type": "histogram"
           }
          ],
          "histogram2d": [
           {
            "colorbar": {
             "outlinewidth": 0,
             "ticks": ""
            },
            "colorscale": [
             [
              0,
              "#0d0887"
             ],
             [
              0.1111111111111111,
              "#46039f"
             ],
             [
              0.2222222222222222,
              "#7201a8"
             ],
             [
              0.3333333333333333,
              "#9c179e"
             ],
             [
              0.4444444444444444,
              "#bd3786"
             ],
             [
              0.5555555555555556,
              "#d8576b"
             ],
             [
              0.6666666666666666,
              "#ed7953"
             ],
             [
              0.7777777777777778,
              "#fb9f3a"
             ],
             [
              0.8888888888888888,
              "#fdca26"
             ],
             [
              1,
              "#f0f921"
             ]
            ],
            "type": "histogram2d"
           }
          ],
          "histogram2dcontour": [
           {
            "colorbar": {
             "outlinewidth": 0,
             "ticks": ""
            },
            "colorscale": [
             [
              0,
              "#0d0887"
             ],
             [
              0.1111111111111111,
              "#46039f"
             ],
             [
              0.2222222222222222,
              "#7201a8"
             ],
             [
              0.3333333333333333,
              "#9c179e"
             ],
             [
              0.4444444444444444,
              "#bd3786"
             ],
             [
              0.5555555555555556,
              "#d8576b"
             ],
             [
              0.6666666666666666,
              "#ed7953"
             ],
             [
              0.7777777777777778,
              "#fb9f3a"
             ],
             [
              0.8888888888888888,
              "#fdca26"
             ],
             [
              1,
              "#f0f921"
             ]
            ],
            "type": "histogram2dcontour"
           }
          ],
          "mesh3d": [
           {
            "colorbar": {
             "outlinewidth": 0,
             "ticks": ""
            },
            "type": "mesh3d"
           }
          ],
          "parcoords": [
           {
            "line": {
             "colorbar": {
              "outlinewidth": 0,
              "ticks": ""
             }
            },
            "type": "parcoords"
           }
          ],
          "pie": [
           {
            "automargin": true,
            "type": "pie"
           }
          ],
          "scatter": [
           {
            "marker": {
             "colorbar": {
              "outlinewidth": 0,
              "ticks": ""
             }
            },
            "type": "scatter"
           }
          ],
          "scatter3d": [
           {
            "line": {
             "colorbar": {
              "outlinewidth": 0,
              "ticks": ""
             }
            },
            "marker": {
             "colorbar": {
              "outlinewidth": 0,
              "ticks": ""
             }
            },
            "type": "scatter3d"
           }
          ],
          "scattercarpet": [
           {
            "marker": {
             "colorbar": {
              "outlinewidth": 0,
              "ticks": ""
             }
            },
            "type": "scattercarpet"
           }
          ],
          "scattergeo": [
           {
            "marker": {
             "colorbar": {
              "outlinewidth": 0,
              "ticks": ""
             }
            },
            "type": "scattergeo"
           }
          ],
          "scattergl": [
           {
            "marker": {
             "colorbar": {
              "outlinewidth": 0,
              "ticks": ""
             }
            },
            "type": "scattergl"
           }
          ],
          "scattermapbox": [
           {
            "marker": {
             "colorbar": {
              "outlinewidth": 0,
              "ticks": ""
             }
            },
            "type": "scattermapbox"
           }
          ],
          "scatterpolar": [
           {
            "marker": {
             "colorbar": {
              "outlinewidth": 0,
              "ticks": ""
             }
            },
            "type": "scatterpolar"
           }
          ],
          "scatterpolargl": [
           {
            "marker": {
             "colorbar": {
              "outlinewidth": 0,
              "ticks": ""
             }
            },
            "type": "scatterpolargl"
           }
          ],
          "scatterternary": [
           {
            "marker": {
             "colorbar": {
              "outlinewidth": 0,
              "ticks": ""
             }
            },
            "type": "scatterternary"
           }
          ],
          "surface": [
           {
            "colorbar": {
             "outlinewidth": 0,
             "ticks": ""
            },
            "colorscale": [
             [
              0,
              "#0d0887"
             ],
             [
              0.1111111111111111,
              "#46039f"
             ],
             [
              0.2222222222222222,
              "#7201a8"
             ],
             [
              0.3333333333333333,
              "#9c179e"
             ],
             [
              0.4444444444444444,
              "#bd3786"
             ],
             [
              0.5555555555555556,
              "#d8576b"
             ],
             [
              0.6666666666666666,
              "#ed7953"
             ],
             [
              0.7777777777777778,
              "#fb9f3a"
             ],
             [
              0.8888888888888888,
              "#fdca26"
             ],
             [
              1,
              "#f0f921"
             ]
            ],
            "type": "surface"
           }
          ],
          "table": [
           {
            "cells": {
             "fill": {
              "color": "#EBF0F8"
             },
             "line": {
              "color": "white"
             }
            },
            "header": {
             "fill": {
              "color": "#C8D4E3"
             },
             "line": {
              "color": "white"
             }
            },
            "type": "table"
           }
          ]
         },
         "layout": {
          "annotationdefaults": {
           "arrowcolor": "#2a3f5f",
           "arrowhead": 0,
           "arrowwidth": 1
          },
          "autotypenumbers": "strict",
          "coloraxis": {
           "colorbar": {
            "outlinewidth": 0,
            "ticks": ""
           }
          },
          "colorscale": {
           "diverging": [
            [
             0,
             "#8e0152"
            ],
            [
             0.1,
             "#c51b7d"
            ],
            [
             0.2,
             "#de77ae"
            ],
            [
             0.3,
             "#f1b6da"
            ],
            [
             0.4,
             "#fde0ef"
            ],
            [
             0.5,
             "#f7f7f7"
            ],
            [
             0.6,
             "#e6f5d0"
            ],
            [
             0.7,
             "#b8e186"
            ],
            [
             0.8,
             "#7fbc41"
            ],
            [
             0.9,
             "#4d9221"
            ],
            [
             1,
             "#276419"
            ]
           ],
           "sequential": [
            [
             0,
             "#0d0887"
            ],
            [
             0.1111111111111111,
             "#46039f"
            ],
            [
             0.2222222222222222,
             "#7201a8"
            ],
            [
             0.3333333333333333,
             "#9c179e"
            ],
            [
             0.4444444444444444,
             "#bd3786"
            ],
            [
             0.5555555555555556,
             "#d8576b"
            ],
            [
             0.6666666666666666,
             "#ed7953"
            ],
            [
             0.7777777777777778,
             "#fb9f3a"
            ],
            [
             0.8888888888888888,
             "#fdca26"
            ],
            [
             1,
             "#f0f921"
            ]
           ],
           "sequentialminus": [
            [
             0,
             "#0d0887"
            ],
            [
             0.1111111111111111,
             "#46039f"
            ],
            [
             0.2222222222222222,
             "#7201a8"
            ],
            [
             0.3333333333333333,
             "#9c179e"
            ],
            [
             0.4444444444444444,
             "#bd3786"
            ],
            [
             0.5555555555555556,
             "#d8576b"
            ],
            [
             0.6666666666666666,
             "#ed7953"
            ],
            [
             0.7777777777777778,
             "#fb9f3a"
            ],
            [
             0.8888888888888888,
             "#fdca26"
            ],
            [
             1,
             "#f0f921"
            ]
           ]
          },
          "colorway": [
           "#636efa",
           "#EF553B",
           "#00cc96",
           "#ab63fa",
           "#FFA15A",
           "#19d3f3",
           "#FF6692",
           "#B6E880",
           "#FF97FF",
           "#FECB52"
          ],
          "font": {
           "color": "#2a3f5f"
          },
          "geo": {
           "bgcolor": "white",
           "lakecolor": "white",
           "landcolor": "#E5ECF6",
           "showlakes": true,
           "showland": true,
           "subunitcolor": "white"
          },
          "hoverlabel": {
           "align": "left"
          },
          "hovermode": "closest",
          "mapbox": {
           "style": "light"
          },
          "paper_bgcolor": "white",
          "plot_bgcolor": "#E5ECF6",
          "polar": {
           "angularaxis": {
            "gridcolor": "white",
            "linecolor": "white",
            "ticks": ""
           },
           "bgcolor": "#E5ECF6",
           "radialaxis": {
            "gridcolor": "white",
            "linecolor": "white",
            "ticks": ""
           }
          },
          "scene": {
           "xaxis": {
            "backgroundcolor": "#E5ECF6",
            "gridcolor": "white",
            "gridwidth": 2,
            "linecolor": "white",
            "showbackground": true,
            "ticks": "",
            "zerolinecolor": "white"
           },
           "yaxis": {
            "backgroundcolor": "#E5ECF6",
            "gridcolor": "white",
            "gridwidth": 2,
            "linecolor": "white",
            "showbackground": true,
            "ticks": "",
            "zerolinecolor": "white"
           },
           "zaxis": {
            "backgroundcolor": "#E5ECF6",
            "gridcolor": "white",
            "gridwidth": 2,
            "linecolor": "white",
            "showbackground": true,
            "ticks": "",
            "zerolinecolor": "white"
           }
          },
          "shapedefaults": {
           "line": {
            "color": "#2a3f5f"
           }
          },
          "ternary": {
           "aaxis": {
            "gridcolor": "white",
            "linecolor": "white",
            "ticks": ""
           },
           "baxis": {
            "gridcolor": "white",
            "linecolor": "white",
            "ticks": ""
           },
           "bgcolor": "#E5ECF6",
           "caxis": {
            "gridcolor": "white",
            "linecolor": "white",
            "ticks": ""
           }
          },
          "title": {
           "x": 0.05
          },
          "xaxis": {
           "automargin": true,
           "gridcolor": "white",
           "linecolor": "white",
           "ticks": "",
           "title": {
            "standoff": 15
           },
           "zerolinecolor": "white",
           "zerolinewidth": 2
          },
          "yaxis": {
           "automargin": true,
           "gridcolor": "white",
           "linecolor": "white",
           "ticks": "",
           "title": {
            "standoff": 15
           },
           "zerolinecolor": "white",
           "zerolinewidth": 2
          }
         }
        },
        "title": {
         "text": "Gantt Chart"
        },
        "xaxis": {
         "rangeselector": {
          "buttons": [
           {
            "count": 7,
            "label": "1w",
            "step": "day",
            "stepmode": "backward"
           },
           {
            "count": 1,
            "label": "1m",
            "step": "month",
            "stepmode": "backward"
           },
           {
            "count": 6,
            "label": "6m",
            "step": "month",
            "stepmode": "backward"
           },
           {
            "count": 1,
            "label": "YTD",
            "step": "year",
            "stepmode": "todate"
           },
           {
            "count": 1,
            "label": "1y",
            "step": "year",
            "stepmode": "backward"
           },
           {
            "step": "all"
           }
          ]
         },
         "showgrid": false,
         "type": "date",
         "zeroline": false
        },
        "yaxis": {
         "autorange": false,
         "range": [
          -1,
          3
         ],
         "showgrid": false,
         "ticktext": [
          "w1",
          "w2"
         ],
         "tickvals": [
          0,
          1
         ],
         "zeroline": false
        }
       }
      }
     },
     "metadata": {},
     "output_type": "display_data"
    },
    {
     "data": {
      "image/png": "[encoded data removed]",
      "text/plain": [
       "<Figure size 432x288 with 1 Axes>"
      ]
     },
     "metadata": {
      "needs_background": "light"
     },
     "output_type": "display_data"
    }
   ],
   "source": [
    "optimizer = BaseGA(env)\n",
    "optimizer.set_minimize()\n",
    "# optional (in this case, all options given are the default option, if the configuration step is skipped)\n",
    "optimizer.configure('tardiness', 'onepointcrossover', 'roulettewheel', 'randomize')\n",
    "\n",
    "# all parameters after offspring_amount are optional (in this case -> verbose=True)\n",
    "result, best_fitness_history, average_fitness_history, best_generation_history, feasible_gen = optimizer.optimize(orders, max_generations, earliest_time_slot, last_time_slot, population_size, offspring_amount, verbose=True)\n",
    "workstation_assignments = reformat_result(result, orders, workstations, recipes, tasks)\n",
    "visualize(workstation_assignments, best_fitness_history, average_fitness_history, best_generation_history, feasible_gen)"
   ]
  },
  {
   "cell_type": "markdown",
   "metadata": {},
   "source": [
    "Config 2 - Test with Two Point Crossover"
   ]
  },
  {
   "cell_type": "code",
   "execution_count": 8,
   "metadata": {},
   "outputs": [
    {
     "name": "stdout",
     "output_type": "stream",
     "text": [
      "Current generation: 0, Current Best: 88, not feasible\n",
      "Current generation: 1, Current Best: 88, not feasible\n",
      "New best individual found!\n",
      "Current generation: 2, Current Best: 86, not feasible\n",
      "Current generation: 3, Current Best: 86, not feasible\n",
      "New best individual found!\n",
      "Current generation: 4, Current Best: 86, not feasible\n",
      "Current generation: 5, Current Best: 85, not feasible\n",
      "New best individual found!\n",
      "Current generation: 6, Current Best: 84, not feasible\n",
      "New best individual found!\n",
      "Current generation: 7, Current Best: 83, not feasible\n",
      "Current generation: 8, Current Best: 83, not feasible\n",
      "New best individual found!\n",
      "Current generation: 9, Current Best: 82, not feasible\n",
      "New best individual found!\n",
      "Current generation: 10, Current Best: 82, not feasible\n",
      "Current generation: 11, Current Best: 82, not feasible\n",
      "New best individual found!\n",
      "Current generation: 12, Current Best: 81, not feasible\n",
      "New best individual found!\n",
      "Current generation: 13, Current Best: 79, not feasible\n",
      "Current generation: 14, Current Best: 79, not feasible\n",
      "New best individual found!\n",
      "Current generation: 15, Current Best: 79, not feasible\n",
      "New best individual found!\n",
      "Current generation: 16, Current Best: 78, not feasible\n",
      "New best individual found!\n",
      "Current generation: 17, Current Best: 77, not feasible\n",
      "New best individual found!\n",
      "Current generation: 18, Current Best: 77, not feasible\n",
      "New best individual found!\n",
      "Current generation: 19, Current Best: 76, not feasible\n",
      "New best individual found!\n"
     ]
    },
    {
     "data": {
      "application/vnd.plotly.v1+json": {
       "config": {
        "plotlyServerURL": "https://plot.ly"
       },
       "data": [
        {
         "fill": "toself",
         "fillcolor": "rgb(104, 106, 68)",
         "hoverinfo": "name",
         "legendgroup": "rgb(104, 106, 68)",
         "mode": "none",
         "name": "5",
         "type": "scatter",
         "x": [
          1487,
          1531,
          1531,
          1487,
          1487,
          490,
          553,
          553,
          490,
          490,
          1587,
          1640,
          1640,
          1587,
          1587,
          411,
          484,
          484,
          411
         ],
         "y": [
          0.8,
          0.8,
          1.2,
          1.2,
          null,
          0.8,
          0.8,
          1.2,
          1.2,
          null,
          0.8,
          0.8,
          1.2,
          1.2,
          null,
          0.8,
          0.8,
          1.2,
          1.2
         ]
        },
        {
         "fill": "toself",
         "fillcolor": "rgb(129, 131, 93)",
         "hoverinfo": "name",
         "legendgroup": "rgb(129, 131, 93)",
         "mode": "none",
         "name": "6",
         "type": "scatter",
         "x": [
          2654,
          2737,
          2737,
          2654,
          2654,
          328,
          423,
          423,
          328,
          328,
          1482,
          1525,
          1525,
          1482,
          1482,
          2294,
          2337,
          2337,
          2294,
          2294,
          1300,
          1335,
          1335,
          1300,
          1300,
          835,
          910,
          910,
          835
         ],
         "y": [
          0.8,
          0.8,
          1.2,
          1.2,
          null,
          0.8,
          0.8,
          1.2,
          1.2,
          null,
          -0.2,
          -0.2,
          0.2,
          0.2,
          null,
          -0.2,
          -0.2,
          0.2,
          0.2,
          null,
          -0.2,
          -0.2,
          0.2,
          0.2,
          null,
          -0.2,
          -0.2,
          0.2,
          0.2
         ]
        },
        {
         "fill": "toself",
         "fillcolor": "rgb(154, 156, 118)",
         "hoverinfo": "name",
         "legendgroup": "rgb(154, 156, 118)",
         "mode": "none",
         "name": "7",
         "type": "scatter",
         "x": [
          1239,
          1354,
          1354,
          1239,
          1239,
          345,
          470,
          470,
          345,
          345,
          416,
          556,
          556,
          416,
          416,
          471,
          532,
          532,
          471,
          471,
          2179,
          2240,
          2240,
          2179,
          2179,
          301,
          441,
          441,
          301,
          301,
          1914,
          2029,
          2029,
          1914
         ],
         "y": [
          0.8,
          0.8,
          1.2,
          1.2,
          null,
          0.8,
          0.8,
          1.2,
          1.2,
          null,
          0.8,
          0.8,
          1.2,
          1.2,
          null,
          0.8,
          0.8,
          1.2,
          1.2,
          null,
          0.8,
          0.8,
          1.2,
          1.2,
          null,
          0.8,
          0.8,
          1.2,
          1.2,
          null,
          0.8,
          0.8,
          1.2,
          1.2
         ]
        },
        {
         "fill": "toself",
         "fillcolor": "rgb(179, 181, 143)",
         "hoverinfo": "name",
         "legendgroup": "rgb(179, 181, 143)",
         "mode": "none",
         "name": "8",
         "type": "scatter",
         "x": [
          3153,
          3214,
          3214,
          3153,
          3153,
          1291,
          1426,
          1426,
          1291,
          1291,
          445,
          570,
          570,
          445,
          445,
          278,
          413,
          413,
          278,
          278,
          401,
          541,
          541,
          401,
          401,
          322,
          447,
          447,
          322,
          322,
          2592,
          2727,
          2727,
          2592
         ],
         "y": [
          0.8,
          0.8,
          1.2,
          1.2,
          null,
          0.8,
          0.8,
          1.2,
          1.2,
          null,
          0.8,
          0.8,
          1.2,
          1.2,
          null,
          0.8,
          0.8,
          1.2,
          1.2,
          null,
          0.8,
          0.8,
          1.2,
          1.2,
          null,
          0.8,
          0.8,
          1.2,
          1.2,
          null,
          0.8,
          0.8,
          1.2,
          1.2
         ]
        },
        {
         "fill": "toself",
         "fillcolor": "rgb(204, 206, 168)",
         "hoverinfo": "name",
         "legendgroup": "rgb(204, 206, 168)",
         "mode": "none",
         "name": "9",
         "type": "scatter",
         "x": [
          1072,
          1125,
          1125,
          1072,
          1072,
          695,
          748,
          748,
          695,
          695,
          1179,
          1242,
          1242,
          1179,
          1179,
          232,
          285,
          285,
          232
         ],
         "y": [
          0.8,
          0.8,
          1.2,
          1.2,
          null,
          0.8,
          0.8,
          1.2,
          1.2,
          null,
          0.8,
          0.8,
          1.2,
          1.2,
          null,
          0.8,
          0.8,
          1.2,
          1.2
         ]
        },
        {
         "fill": "toself",
         "fillcolor": "rgb(235, 237, 199)",
         "hoverinfo": "name",
         "legendgroup": "rgb(235, 237, 199)",
         "mode": "none",
         "name": "0",
         "type": "scatter",
         "x": [
          1522,
          1657,
          1657,
          1522,
          1522,
          3663,
          3798,
          3798,
          3663,
          3663,
          1880,
          2020,
          2020,
          1880,
          1880,
          4216,
          4277,
          4277,
          4216,
          4216,
          1313,
          1371,
          1371,
          1313,
          1313,
          1362,
          1502,
          1502,
          1362,
          1362,
          328,
          389,
          389,
          328
         ],
         "y": [
          0.8,
          0.8,
          1.2,
          1.2,
          null,
          0.8,
          0.8,
          1.2,
          1.2,
          null,
          0.8,
          0.8,
          1.2,
          1.2,
          null,
          0.8,
          0.8,
          1.2,
          1.2,
          null,
          0.8,
          0.8,
          1.2,
          1.2,
          null,
          0.8,
          0.8,
          1.2,
          1.2,
          null,
          0.8,
          0.8,
          1.2,
          1.2
         ]
        },
        {
         "fill": "toself",
         "fillcolor": "rgb(29, 31, 249)",
         "hoverinfo": "name",
         "legendgroup": "rgb(29, 31, 249)",
         "mode": "none",
         "name": "2",
         "type": "scatter",
         "x": [
          982,
          1026,
          1026,
          982,
          982,
          1499,
          1562,
          1562,
          1499,
          1499,
          1450,
          1494,
          1494,
          1450,
          1450,
          2662,
          2735,
          2735,
          2662
         ],
         "y": [
          0.8,
          0.8,
          1.2,
          1.2,
          null,
          0.8,
          0.8,
          1.2,
          1.2,
          null,
          0.8,
          0.8,
          1.2,
          1.2,
          null,
          0.8,
          0.8,
          1.2,
          1.2
         ]
        },
        {
         "fill": "toself",
         "fillcolor": "rgb(4, 6, 224)",
         "hoverinfo": "name",
         "legendgroup": "rgb(4, 6, 224)",
         "mode": "none",
         "name": "1",
         "type": "scatter",
         "x": [
          2866,
          2949,
          2949,
          2866,
          2866,
          647,
          730,
          730,
          647,
          647,
          684,
          767,
          767,
          684,
          684,
          2737,
          2820,
          2820,
          2737,
          2737,
          376,
          463,
          463,
          376,
          376,
          1767,
          1854,
          1854,
          1767
         ],
         "y": [
          0.8,
          0.8,
          1.2,
          1.2,
          null,
          0.8,
          0.8,
          1.2,
          1.2,
          null,
          0.8,
          0.8,
          1.2,
          1.2,
          null,
          0.8,
          0.8,
          1.2,
          1.2,
          null,
          -0.2,
          -0.2,
          0.2,
          0.2,
          null,
          -0.2,
          -0.2,
          0.2,
          0.2
         ]
        },
        {
         "fill": "toself",
         "fillcolor": "rgb(54, 56, 18)",
         "hoverinfo": "name",
         "legendgroup": "rgb(54, 56, 18)",
         "mode": "none",
         "name": "3",
         "type": "scatter",
         "x": [
          4187,
          4282,
          4282,
          4187,
          4187,
          4278,
          4373,
          4373,
          4278,
          4278,
          836,
          931,
          931,
          836,
          836,
          1186,
          1261,
          1261,
          1186,
          1186,
          2883,
          2970,
          2970,
          2883,
          2883,
          4487,
          4574,
          4574,
          4487
         ],
         "y": [
          0.8,
          0.8,
          1.2,
          1.2,
          null,
          0.8,
          0.8,
          1.2,
          1.2,
          null,
          0.8,
          0.8,
          1.2,
          1.2,
          null,
          -0.2,
          -0.2,
          0.2,
          0.2,
          null,
          -0.2,
          -0.2,
          0.2,
          0.2,
          null,
          -0.2,
          -0.2,
          0.2,
          0.2
         ]
        },
        {
         "fill": "toself",
         "fillcolor": "rgb(79, 81, 43)",
         "hoverinfo": "name",
         "legendgroup": "rgb(79, 81, 43)",
         "mode": "none",
         "name": "4",
         "type": "scatter",
         "x": [
          356,
          451,
          451,
          356,
          356,
          692,
          779,
          779,
          692,
          692,
          3376,
          3419,
          3419,
          3376,
          3376,
          210,
          285,
          285,
          210,
          210,
          4033,
          4120,
          4120,
          4033,
          4033,
          969,
          1044,
          1044,
          969
         ],
         "y": [
          0.8,
          0.8,
          1.2,
          1.2,
          null,
          -0.2,
          -0.2,
          0.2,
          0.2,
          null,
          -0.2,
          -0.2,
          0.2,
          0.2,
          null,
          -0.2,
          -0.2,
          0.2,
          0.2,
          null,
          -0.2,
          -0.2,
          0.2,
          0.2,
          null,
          -0.2,
          -0.2,
          0.2,
          0.2
         ]
        },
        {
         "legendgroup": "rgb(104, 106, 68)",
         "marker": {
          "color": "rgb(104, 106, 68)",
          "opacity": 0,
          "size": 1
         },
         "mode": "markers",
         "name": "",
         "showlegend": false,
         "text": [
          null,
          null,
          null,
          null,
          null,
          null,
          null,
          null
         ],
         "type": "scatter",
         "x": [
          1487,
          1531,
          490,
          553,
          1587,
          1640,
          411,
          484
         ],
         "y": [
          1,
          1,
          1,
          1,
          1,
          1,
          1,
          1
         ]
        },
        {
         "legendgroup": "rgb(129, 131, 93)",
         "marker": {
          "color": "rgb(129, 131, 93)",
          "opacity": 0,
          "size": 1
         },
         "mode": "markers",
         "name": "",
         "showlegend": false,
         "text": [
          null,
          null,
          null,
          null,
          null,
          null,
          null,
          null,
          null,
          null,
          null,
          null
         ],
         "type": "scatter",
         "x": [
          2654,
          2737,
          328,
          423,
          1482,
          1525,
          2294,
          2337,
          1300,
          1335,
          835,
          910
         ],
         "y": [
          1,
          1,
          1,
          1,
          0,
          0,
          0,
          0,
          0,
          0,
          0,
          0
         ]
        },
        {
         "legendgroup": "rgb(154, 156, 118)",
         "marker": {
          "color": "rgb(154, 156, 118)",
          "opacity": 0,
          "size": 1
         },
         "mode": "markers",
         "name": "",
         "showlegend": false,
         "text": [
          null,
          null,
          null,
          null,
          null,
          null,
          null,
          null,
          null,
          null,
          null,
          null,
          null,
          null
         ],
         "type": "scatter",
         "x": [
          1239,
          1354,
          345,
          470,
          416,
          556,
          471,
          532,
          2179,
          2240,
          301,
          441,
          1914,
          2029
         ],
         "y": [
          1,
          1,
          1,
          1,
          1,
          1,
          1,
          1,
          1,
          1,
          1,
          1,
          1,
          1
         ]
        },
        {
         "legendgroup": "rgb(179, 181, 143)",
         "marker": {
          "color": "rgb(179, 181, 143)",
          "opacity": 0,
          "size": 1
         },
         "mode": "markers",
         "name": "",
         "showlegend": false,
         "text": [
          null,
          null,
          null,
          null,
          null,
          null,
          null,
          null,
          null,
          null,
          null,
          null,
          null,
          null
         ],
         "type": "scatter",
         "x": [
          3153,
          3214,
          1291,
          1426,
          445,
          570,
          278,
          413,
          401,
          541,
          322,
          447,
          2592,
          2727
         ],
         "y": [
          1,
          1,
          1,
          1,
          1,
          1,
          1,
          1,
          1,
          1,
          1,
          1,
          1,
          1
         ]
        },
        {
         "legendgroup": "rgb(204, 206, 168)",
         "marker": {
          "color": "rgb(204, 206, 168)",
          "opacity": 0,
          "size": 1
         },
         "mode": "markers",
         "name": "",
         "showlegend": false,
         "text": [
          null,
          null,
          null,
          null,
          null,
          null,
          null,
          null
         ],
         "type": "scatter",
         "x": [
          1072,
          1125,
          695,
          748,
          1179,
          1242,
          232,
          285
         ],
         "y": [
          1,
          1,
          1,
          1,
          1,
          1,
          1,
          1
         ]
        },
        {
         "legendgroup": "rgb(235, 237, 199)",
         "marker": {
          "color": "rgb(235, 237, 199)",
          "opacity": 0,
          "size": 1
         },
         "mode": "markers",
         "name": "",
         "showlegend": false,
         "text": [
          null,
          null,
          null,
          null,
          null,
          null,
          null,
          null,
          null,
          null,
          null,
          null,
          null,
          null
         ],
         "type": "scatter",
         "x": [
          1522,
          1657,
          3663,
          3798,
          1880,
          2020,
          4216,
          4277,
          1313,
          1371,
          1362,
          1502,
          328,
          389
         ],
         "y": [
          1,
          1,
          1,
          1,
          1,
          1,
          1,
          1,
          1,
          1,
          1,
          1,
          1,
          1
         ]
        },
        {
         "legendgroup": "rgb(29, 31, 249)",
         "marker": {
          "color": "rgb(29, 31, 249)",
          "opacity": 0,
          "size": 1
         },
         "mode": "markers",
         "name": "",
         "showlegend": false,
         "text": [
          null,
          null,
          null,
          null,
          null,
          null,
          null,
          null
         ],
         "type": "scatter",
         "x": [
          982,
          1026,
          1499,
          1562,
          1450,
          1494,
          2662,
          2735
         ],
         "y": [
          1,
          1,
          1,
          1,
          1,
          1,
          1,
          1
         ]
        },
        {
         "legendgroup": "rgb(4, 6, 224)",
         "marker": {
          "color": "rgb(4, 6, 224)",
          "opacity": 0,
          "size": 1
         },
         "mode": "markers",
         "name": "",
         "showlegend": false,
         "text": [
          null,
          null,
          null,
          null,
          null,
          null,
          null,
          null,
          null,
          null,
          null,
          null
         ],
         "type": "scatter",
         "x": [
          2866,
          2949,
          647,
          730,
          684,
          767,
          2737,
          2820,
          376,
          463,
          1767,
          1854
         ],
         "y": [
          1,
          1,
          1,
          1,
          1,
          1,
          1,
          1,
          0,
          0,
          0,
          0
         ]
        },
        {
         "legendgroup": "rgb(54, 56, 18)",
         "marker": {
          "color": "rgb(54, 56, 18)",
          "opacity": 0,
          "size": 1
         },
         "mode": "markers",
         "name": "",
         "showlegend": false,
         "text": [
          null,
          null,
          null,
          null,
          null,
          null,
          null,
          null,
          null,
          null,
          null,
          null
         ],
         "type": "scatter",
         "x": [
          4187,
          4282,
          4278,
          4373,
          836,
          931,
          1186,
          1261,
          2883,
          2970,
          4487,
          4574
         ],
         "y": [
          1,
          1,
          1,
          1,
          1,
          1,
          0,
          0,
          0,
          0,
          0,
          0
         ]
        },
        {
         "legendgroup": "rgb(79, 81, 43)",
         "marker": {
          "color": "rgb(79, 81, 43)",
          "opacity": 0,
          "size": 1
         },
         "mode": "markers",
         "name": "",
         "showlegend": false,
         "text": [
          null,
          null,
          null,
          null,
          null,
          null,
          null,
          null,
          null,
          null,
          null,
          null
         ],
         "type": "scatter",
         "x": [
          356,
          451,
          692,
          779,
          3376,
          3419,
          210,
          285,
          4033,
          4120,
          969,
          1044
         ],
         "y": [
          1,
          1,
          0,
          0,
          0,
          0,
          0,
          0,
          0,
          0,
          0,
          0
         ]
        }
       ],
       "layout": {
        "height": 600,
        "hovermode": "closest",
        "showlegend": true,
        "template": {
         "data": {
          "bar": [
           {
            "error_x": {
             "color": "#2a3f5f"
            },
            "error_y": {
             "color": "#2a3f5f"
            },
            "marker": {
             "line": {
              "color": "#E5ECF6",
              "width": 0.5
             },
             "pattern": {
              "fillmode": "overlay",
              "size": 10,
              "solidity": 0.2
             }
            },
            "type": "bar"
           }
          ],
          "barpolar": [
           {
            "marker": {
             "line": {
              "color": "#E5ECF6",
              "width": 0.5
             },
             "pattern": {
              "fillmode": "overlay",
              "size": 10,
              "solidity": 0.2
             }
            },
            "type": "barpolar"
           }
          ],
          "carpet": [
           {
            "aaxis": {
             "endlinecolor": "#2a3f5f",
             "gridcolor": "white",
             "linecolor": "white",
             "minorgridcolor": "white",
             "startlinecolor": "#2a3f5f"
            },
            "baxis": {
             "endlinecolor": "#2a3f5f",
             "gridcolor": "white",
             "linecolor": "white",
             "minorgridcolor": "white",
             "startlinecolor": "#2a3f5f"
            },
            "type": "carpet"
           }
          ],
          "choropleth": [
           {
            "colorbar": {
             "outlinewidth": 0,
             "ticks": ""
            },
            "type": "choropleth"
           }
          ],
          "contour": [
           {
            "colorbar": {
             "outlinewidth": 0,
             "ticks": ""
            },
            "colorscale": [
             [
              0,
              "#0d0887"
             ],
             [
              0.1111111111111111,
              "#46039f"
             ],
             [
              0.2222222222222222,
              "#7201a8"
             ],
             [
              0.3333333333333333,
              "#9c179e"
             ],
             [
              0.4444444444444444,
              "#bd3786"
             ],
             [
              0.5555555555555556,
              "#d8576b"
             ],
             [
              0.6666666666666666,
              "#ed7953"
             ],
             [
              0.7777777777777778,
              "#fb9f3a"
             ],
             [
              0.8888888888888888,
              "#fdca26"
             ],
             [
              1,
              "#f0f921"
             ]
            ],
            "type": "contour"
           }
          ],
          "contourcarpet": [
           {
            "colorbar": {
             "outlinewidth": 0,
             "ticks": ""
            },
            "type": "contourcarpet"
           }
          ],
          "heatmap": [
           {
            "colorbar": {
             "outlinewidth": 0,
             "ticks": ""
            },
            "colorscale": [
             [
              0,
              "#0d0887"
             ],
             [
              0.1111111111111111,
              "#46039f"
             ],
             [
              0.2222222222222222,
              "#7201a8"
             ],
             [
              0.3333333333333333,
              "#9c179e"
             ],
             [
              0.4444444444444444,
              "#bd3786"
             ],
             [
              0.5555555555555556,
              "#d8576b"
             ],
             [
              0.6666666666666666,
              "#ed7953"
             ],
             [
              0.7777777777777778,
              "#fb9f3a"
             ],
             [
              0.8888888888888888,
              "#fdca26"
             ],
             [
              1,
              "#f0f921"
             ]
            ],
            "type": "heatmap"
           }
          ],
          "heatmapgl": [
           {
            "colorbar": {
             "outlinewidth": 0,
             "ticks": ""
            },
            "colorscale": [
             [
              0,
              "#0d0887"
             ],
             [
              0.1111111111111111,
              "#46039f"
             ],
             [
              0.2222222222222222,
              "#7201a8"
             ],
             [
              0.3333333333333333,
              "#9c179e"
             ],
             [
              0.4444444444444444,
              "#bd3786"
             ],
             [
              0.5555555555555556,
              "#d8576b"
             ],
             [
              0.6666666666666666,
              "#ed7953"
             ],
             [
              0.7777777777777778,
              "#fb9f3a"
             ],
             [
              0.8888888888888888,
              "#fdca26"
             ],
             [
              1,
              "#f0f921"
             ]
            ],
            "type": "heatmapgl"
           }
          ],
          "histogram": [
           {
            "marker": {
             "pattern": {
              "fillmode": "overlay",
              "size": 10,
              "solidity": 0.2
             }
            },
            "type": "histogram"
           }
          ],
          "histogram2d": [
           {
            "colorbar": {
             "outlinewidth": 0,
             "ticks": ""
            },
            "colorscale": [
             [
              0,
              "#0d0887"
             ],
             [
              0.1111111111111111,
              "#46039f"
             ],
             [
              0.2222222222222222,
              "#7201a8"
             ],
             [
              0.3333333333333333,
              "#9c179e"
             ],
             [
              0.4444444444444444,
              "#bd3786"
             ],
             [
              0.5555555555555556,
              "#d8576b"
             ],
             [
              0.6666666666666666,
              "#ed7953"
             ],
             [
              0.7777777777777778,
              "#fb9f3a"
             ],
             [
              0.8888888888888888,
              "#fdca26"
             ],
             [
              1,
              "#f0f921"
             ]
            ],
            "type": "histogram2d"
           }
          ],
          "histogram2dcontour": [
           {
            "colorbar": {
             "outlinewidth": 0,
             "ticks": ""
            },
            "colorscale": [
             [
              0,
              "#0d0887"
             ],
             [
              0.1111111111111111,
              "#46039f"
             ],
             [
              0.2222222222222222,
              "#7201a8"
             ],
             [
              0.3333333333333333,
              "#9c179e"
             ],
             [
              0.4444444444444444,
              "#bd3786"
             ],
             [
              0.5555555555555556,
              "#d8576b"
             ],
             [
              0.6666666666666666,
              "#ed7953"
             ],
             [
              0.7777777777777778,
              "#fb9f3a"
             ],
             [
              0.8888888888888888,
              "#fdca26"
             ],
             [
              1,
              "#f0f921"
             ]
            ],
            "type": "histogram2dcontour"
           }
          ],
          "mesh3d": [
           {
            "colorbar": {
             "outlinewidth": 0,
             "ticks": ""
            },
            "type": "mesh3d"
           }
          ],
          "parcoords": [
           {
            "line": {
             "colorbar": {
              "outlinewidth": 0,
              "ticks": ""
             }
            },
            "type": "parcoords"
           }
          ],
          "pie": [
           {
            "automargin": true,
            "type": "pie"
           }
          ],
          "scatter": [
           {
            "marker": {
             "colorbar": {
              "outlinewidth": 0,
              "ticks": ""
             }
            },
            "type": "scatter"
           }
          ],
          "scatter3d": [
           {
            "line": {
             "colorbar": {
              "outlinewidth": 0,
              "ticks": ""
             }
            },
            "marker": {
             "colorbar": {
              "outlinewidth": 0,
              "ticks": ""
             }
            },
            "type": "scatter3d"
           }
          ],
          "scattercarpet": [
           {
            "marker": {
             "colorbar": {
              "outlinewidth": 0,
              "ticks": ""
             }
            },
            "type": "scattercarpet"
           }
          ],
          "scattergeo": [
           {
            "marker": {
             "colorbar": {
              "outlinewidth": 0,
              "ticks": ""
             }
            },
            "type": "scattergeo"
           }
          ],
          "scattergl": [
           {
            "marker": {
             "colorbar": {
              "outlinewidth": 0,
              "ticks": ""
             }
            },
            "type": "scattergl"
           }
          ],
          "scattermapbox": [
           {
            "marker": {
             "colorbar": {
              "outlinewidth": 0,
              "ticks": ""
             }
            },
            "type": "scattermapbox"
           }
          ],
          "scatterpolar": [
           {
            "marker": {
             "colorbar": {
              "outlinewidth": 0,
              "ticks": ""
             }
            },
            "type": "scatterpolar"
           }
          ],
          "scatterpolargl": [
           {
            "marker": {
             "colorbar": {
              "outlinewidth": 0,
              "ticks": ""
             }
            },
            "type": "scatterpolargl"
           }
          ],
          "scatterternary": [
           {
            "marker": {
             "colorbar": {
              "outlinewidth": 0,
              "ticks": ""
             }
            },
            "type": "scatterternary"
           }
          ],
          "surface": [
           {
            "colorbar": {
             "outlinewidth": 0,
             "ticks": ""
            },
            "colorscale": [
             [
              0,
              "#0d0887"
             ],
             [
              0.1111111111111111,
              "#46039f"
             ],
             [
              0.2222222222222222,
              "#7201a8"
             ],
             [
              0.3333333333333333,
              "#9c179e"
             ],
             [
              0.4444444444444444,
              "#bd3786"
             ],
             [
              0.5555555555555556,
              "#d8576b"
             ],
             [
              0.6666666666666666,
              "#ed7953"
             ],
             [
              0.7777777777777778,
              "#fb9f3a"
             ],
             [
              0.8888888888888888,
              "#fdca26"
             ],
             [
              1,
              "#f0f921"
             ]
            ],
            "type": "surface"
           }
          ],
          "table": [
           {
            "cells": {
             "fill": {
              "color": "#EBF0F8"
             },
             "line": {
              "color": "white"
             }
            },
            "header": {
             "fill": {
              "color": "#C8D4E3"
             },
             "line": {
              "color": "white"
             }
            },
            "type": "table"
           }
          ]
         },
         "layout": {
          "annotationdefaults": {
           "arrowcolor": "#2a3f5f",
           "arrowhead": 0,
           "arrowwidth": 1
          },
          "autotypenumbers": "strict",
          "coloraxis": {
           "colorbar": {
            "outlinewidth": 0,
            "ticks": ""
           }
          },
          "colorscale": {
           "diverging": [
            [
             0,
             "#8e0152"
            ],
            [
             0.1,
             "#c51b7d"
            ],
            [
             0.2,
             "#de77ae"
            ],
            [
             0.3,
             "#f1b6da"
            ],
            [
             0.4,
             "#fde0ef"
            ],
            [
             0.5,
             "#f7f7f7"
            ],
            [
             0.6,
             "#e6f5d0"
            ],
            [
             0.7,
             "#b8e186"
            ],
            [
             0.8,
             "#7fbc41"
            ],
            [
             0.9,
             "#4d9221"
            ],
            [
             1,
             "#276419"
            ]
           ],
           "sequential": [
            [
             0,
             "#0d0887"
            ],
            [
             0.1111111111111111,
             "#46039f"
            ],
            [
             0.2222222222222222,
             "#7201a8"
            ],
            [
             0.3333333333333333,
             "#9c179e"
            ],
            [
             0.4444444444444444,
             "#bd3786"
            ],
            [
             0.5555555555555556,
             "#d8576b"
            ],
            [
             0.6666666666666666,
             "#ed7953"
            ],
            [
             0.7777777777777778,
             "#fb9f3a"
            ],
            [
             0.8888888888888888,
             "#fdca26"
            ],
            [
             1,
             "#f0f921"
            ]
           ],
           "sequentialminus": [
            [
             0,
             "#0d0887"
            ],
            [
             0.1111111111111111,
             "#46039f"
            ],
            [
             0.2222222222222222,
             "#7201a8"
            ],
            [
             0.3333333333333333,
             "#9c179e"
            ],
            [
             0.4444444444444444,
             "#bd3786"
            ],
            [
             0.5555555555555556,
             "#d8576b"
            ],
            [
             0.6666666666666666,
             "#ed7953"
            ],
            [
             0.7777777777777778,
             "#fb9f3a"
            ],
            [
             0.8888888888888888,
             "#fdca26"
            ],
            [
             1,
             "#f0f921"
            ]
           ]
          },
          "colorway": [
           "#636efa",
           "#EF553B",
           "#00cc96",
           "#ab63fa",
           "#FFA15A",
           "#19d3f3",
           "#FF6692",
           "#B6E880",
           "#FF97FF",
           "#FECB52"
          ],
          "font": {
           "color": "#2a3f5f"
          },
          "geo": {
           "bgcolor": "white",
           "lakecolor": "white",
           "landcolor": "#E5ECF6",
           "showlakes": true,
           "showland": true,
           "subunitcolor": "white"
          },
          "hoverlabel": {
           "align": "left"
          },
          "hovermode": "closest",
          "mapbox": {
           "style": "light"
          },
          "paper_bgcolor": "white",
          "plot_bgcolor": "#E5ECF6",
          "polar": {
           "angularaxis": {
            "gridcolor": "white",
            "linecolor": "white",
            "ticks": ""
           },
           "bgcolor": "#E5ECF6",
           "radialaxis": {
            "gridcolor": "white",
            "linecolor": "white",
            "ticks": ""
           }
          },
          "scene": {
           "xaxis": {
            "backgroundcolor": "#E5ECF6",
            "gridcolor": "white",
            "gridwidth": 2,
            "linecolor": "white",
            "showbackground": true,
            "ticks": "",
            "zerolinecolor": "white"
           },
           "yaxis": {
            "backgroundcolor": "#E5ECF6",
            "gridcolor": "white",
            "gridwidth": 2,
            "linecolor": "white",
            "showbackground": true,
            "ticks": "",
            "zerolinecolor": "white"
           },
           "zaxis": {
            "backgroundcolor": "#E5ECF6",
            "gridcolor": "white",
            "gridwidth": 2,
            "linecolor": "white",
            "showbackground": true,
            "ticks": "",
            "zerolinecolor": "white"
           }
          },
          "shapedefaults": {
           "line": {
            "color": "#2a3f5f"
           }
          },
          "ternary": {
           "aaxis": {
            "gridcolor": "white",
            "linecolor": "white",
            "ticks": ""
           },
           "baxis": {
            "gridcolor": "white",
            "linecolor": "white",
            "ticks": ""
           },
           "bgcolor": "#E5ECF6",
           "caxis": {
            "gridcolor": "white",
            "linecolor": "white",
            "ticks": ""
           }
          },
          "title": {
           "x": 0.05
          },
          "xaxis": {
           "automargin": true,
           "gridcolor": "white",
           "linecolor": "white",
           "ticks": "",
           "title": {
            "standoff": 15
           },
           "zerolinecolor": "white",
           "zerolinewidth": 2
          },
          "yaxis": {
           "automargin": true,
           "gridcolor": "white",
           "linecolor": "white",
           "ticks": "",
           "title": {
            "standoff": 15
           },
           "zerolinecolor": "white",
           "zerolinewidth": 2
          }
         }
        },
        "title": {
         "text": "Gantt Chart"
        },
        "xaxis": {
         "rangeselector": {
          "buttons": [
           {
            "count": 7,
            "label": "1w",
            "step": "day",
            "stepmode": "backward"
           },
           {
            "count": 1,
            "label": "1m",
            "step": "month",
            "stepmode": "backward"
           },
           {
            "count": 6,
            "label": "6m",
            "step": "month",
            "stepmode": "backward"
           },
           {
            "count": 1,
            "label": "YTD",
            "step": "year",
            "stepmode": "todate"
           },
           {
            "count": 1,
            "label": "1y",
            "step": "year",
            "stepmode": "backward"
           },
           {
            "step": "all"
           }
          ]
         },
         "showgrid": false,
         "type": "date",
         "zeroline": false
        },
        "yaxis": {
         "autorange": false,
         "range": [
          -1,
          3
         ],
         "showgrid": false,
         "ticktext": [
          "w1",
          "w2"
         ],
         "tickvals": [
          0,
          1
         ],
         "zeroline": false
        }
       }
      }
     },
     "metadata": {},
     "output_type": "display_data"
    },
    {
     "data": {
      "image/png": "[encoded data removed]",
      "text/plain": [
       "<Figure size 432x288 with 1 Axes>"
      ]
     },
     "metadata": {
      "needs_background": "light"
     },
     "output_type": "display_data"
    }
   ],
   "source": [
    "optimizer = BaseGA(env)\n",
    "optimizer.set_minimize()\n",
    "# optional (in this case, all options given are the default option, if the configuration step is skipped)\n",
    "optimizer.configure('tardiness', 'twopointcrossover', 'roulettewheel', 'randomize')\n",
    "\n",
    "# all parameters after offspring_amount are optional (in this case -> verbose=True)\n",
    "result, best_fitness_history, average_fitness_history, best_generation_history, feasible_gen = optimizer.optimize(orders, max_generations, earliest_time_slot, last_time_slot, population_size, offspring_amount, verbose=True)\n",
    "workstation_assignments = reformat_result(result, orders, workstations, recipes, tasks)\n",
    "visualize(workstation_assignments, best_fitness_history, average_fitness_history, best_generation_history, feasible_gen)"
   ]
  },
  {
   "cell_type": "markdown",
   "metadata": {},
   "source": [
    "Config 3 - Only valid mutations for time slots"
   ]
  },
  {
   "cell_type": "code",
   "execution_count": 9,
   "metadata": {},
   "outputs": [
    {
     "name": "stdout",
     "output_type": "stream",
     "text": [
      "Current generation: 0, Current Best: 57, not feasible\n",
      "Current generation: 1, Current Best: 57, not feasible\n",
      "Current generation: 2, Current Best: 57, not feasible\n",
      "Current generation: 3, Current Best: 57, not feasible\n",
      "Current generation: 4, Current Best: 57, not feasible\n",
      "Current generation: 5, Current Best: 57, not feasible\n",
      "Current generation: 6, Current Best: 57, not feasible\n",
      "Current generation: 7, Current Best: 57, not feasible\n",
      "Current generation: 8, Current Best: 57, not feasible\n",
      "Current generation: 9, Current Best: 57, not feasible\n",
      "Current generation: 10, Current Best: 57, not feasible\n",
      "Current generation: 11, Current Best: 57, not feasible\n",
      "Current generation: 12, Current Best: 57, not feasible\n",
      "Current generation: 13, Current Best: 57, not feasible\n",
      "Current generation: 14, Current Best: 57, not feasible\n",
      "Current generation: 15, Current Best: 57, not feasible\n",
      "Current generation: 16, Current Best: 57, not feasible\n",
      "Current generation: 17, Current Best: 57, not feasible\n",
      "Current generation: 18, Current Best: 57, not feasible\n",
      "Current generation: 19, Current Best: 57, not feasible\n"
     ]
    },
    {
     "data": {
      "application/vnd.plotly.v1+json": {
       "config": {
        "plotlyServerURL": "https://plot.ly"
       },
       "data": [
        {
         "fill": "toself",
         "fillcolor": "rgb(115, 30, 33)",
         "hoverinfo": "name",
         "legendgroup": "rgb(115, 30, 33)",
         "mode": "none",
         "name": "1",
         "type": "scatter",
         "x": [
          3116,
          3211,
          3211,
          3116,
          3116,
          1094,
          1189,
          1189,
          1094,
          1094,
          1249,
          1324,
          1324,
          1249,
          1249,
          2665,
          2752,
          2752,
          2665,
          2665,
          1616,
          1691,
          1691,
          1616,
          1616,
          1898,
          1933,
          1933,
          1898
         ],
         "y": [
          0.8,
          0.8,
          1.2,
          1.2,
          null,
          0.8,
          0.8,
          1.2,
          1.2,
          null,
          -0.2,
          -0.2,
          0.2,
          0.2,
          null,
          -0.2,
          -0.2,
          0.2,
          0.2,
          null,
          -0.2,
          -0.2,
          0.2,
          0.2,
          null,
          -0.2,
          -0.2,
          0.2,
          0.2
         ]
        },
        {
         "fill": "toself",
         "fillcolor": "rgb(140, 55, 58)",
         "hoverinfo": "name",
         "legendgroup": "rgb(140, 55, 58)",
         "mode": "none",
         "name": "2",
         "type": "scatter",
         "x": [
          3083,
          3156,
          3156,
          3083,
          3083,
          2216,
          2269,
          2269,
          2216,
          2216,
          2227,
          2271,
          2271,
          2227,
          2227,
          2684,
          2747,
          2747,
          2684
         ],
         "y": [
          0.8,
          0.8,
          1.2,
          1.2,
          null,
          0.8,
          0.8,
          1.2,
          1.2,
          null,
          0.8,
          0.8,
          1.2,
          1.2,
          null,
          0.8,
          0.8,
          1.2,
          1.2
         ]
        },
        {
         "fill": "toself",
         "fillcolor": "rgb(165, 80, 83)",
         "hoverinfo": "name",
         "legendgroup": "rgb(165, 80, 83)",
         "mode": "none",
         "name": "3",
         "type": "scatter",
         "x": [
          251,
          346,
          346,
          251,
          251,
          203,
          286,
          286,
          203,
          203,
          262,
          345,
          345,
          262,
          262,
          216,
          299,
          299,
          216,
          216,
          259,
          334,
          334,
          259,
          259,
          286,
          329,
          329,
          286
         ],
         "y": [
          0.8,
          0.8,
          1.2,
          1.2,
          null,
          0.8,
          0.8,
          1.2,
          1.2,
          null,
          0.8,
          0.8,
          1.2,
          1.2,
          null,
          0.8,
          0.8,
          1.2,
          1.2,
          null,
          -0.2,
          -0.2,
          0.2,
          0.2,
          null,
          -0.2,
          -0.2,
          0.2,
          0.2
         ]
        },
        {
         "fill": "toself",
         "fillcolor": "rgb(190, 105, 108)",
         "hoverinfo": "name",
         "legendgroup": "rgb(190, 105, 108)",
         "mode": "none",
         "name": "4",
         "type": "scatter",
         "x": [
          537,
          632,
          632,
          537,
          537,
          573,
          668,
          668,
          573,
          573,
          609,
          704,
          704,
          609,
          609,
          472,
          555,
          555,
          472,
          472,
          560,
          647,
          647,
          560,
          560,
          202,
          245,
          245,
          202
         ],
         "y": [
          0.8,
          0.8,
          1.2,
          1.2,
          null,
          0.8,
          0.8,
          1.2,
          1.2,
          null,
          0.8,
          0.8,
          1.2,
          1.2,
          null,
          0.8,
          0.8,
          1.2,
          1.2,
          null,
          -0.2,
          -0.2,
          0.2,
          0.2,
          null,
          -0.2,
          -0.2,
          0.2,
          0.2
         ]
        },
        {
         "fill": "toself",
         "fillcolor": "rgb(215, 130, 133)",
         "hoverinfo": "name",
         "legendgroup": "rgb(215, 130, 133)",
         "mode": "none",
         "name": "5",
         "type": "scatter",
         "x": [
          274,
          327,
          327,
          274,
          274,
          3188,
          3261,
          3261,
          3188,
          3188,
          948,
          1021,
          1021,
          948,
          948,
          2203,
          2266,
          2266,
          2203
         ],
         "y": [
          0.8,
          0.8,
          1.2,
          1.2,
          null,
          0.8,
          0.8,
          1.2,
          1.2,
          null,
          0.8,
          0.8,
          1.2,
          1.2,
          null,
          0.8,
          0.8,
          1.2,
          1.2
         ]
        },
        {
         "fill": "toself",
         "fillcolor": "rgb(240, 155, 158)",
         "hoverinfo": "name",
         "legendgroup": "rgb(240, 155, 158)",
         "mode": "none",
         "name": "6",
         "type": "scatter",
         "x": [
          620,
          703,
          703,
          620,
          620,
          1683,
          1766,
          1766,
          1683,
          1683,
          335,
          410,
          410,
          335,
          335,
          1618,
          1693,
          1693,
          1618,
          1618,
          2833,
          2920,
          2920,
          2833,
          2833,
          286,
          373,
          373,
          286
         ],
         "y": [
          0.8,
          0.8,
          1.2,
          1.2,
          null,
          0.8,
          0.8,
          1.2,
          1.2,
          null,
          -0.2,
          -0.2,
          0.2,
          0.2,
          null,
          -0.2,
          -0.2,
          0.2,
          0.2,
          null,
          -0.2,
          -0.2,
          0.2,
          0.2,
          null,
          -0.2,
          -0.2,
          0.2,
          0.2
         ]
        },
        {
         "fill": "toself",
         "fillcolor": "rgb(34, 205, 208)",
         "hoverinfo": "name",
         "legendgroup": "rgb(34, 205, 208)",
         "mode": "none",
         "name": "8",
         "type": "scatter",
         "x": [
          1514,
          1575,
          1575,
          1514,
          1514,
          1440,
          1483,
          1483,
          1440,
          1440,
          1496,
          1557,
          1557,
          1496,
          1496,
          240,
          365,
          365,
          240,
          240,
          1006,
          1141,
          1141,
          1006,
          1006,
          606,
          664,
          664,
          606,
          606,
          577,
          620,
          620,
          577
         ],
         "y": [
          0.8,
          0.8,
          1.2,
          1.2,
          null,
          0.8,
          0.8,
          1.2,
          1.2,
          null,
          0.8,
          0.8,
          1.2,
          1.2,
          null,
          0.8,
          0.8,
          1.2,
          1.2,
          null,
          0.8,
          0.8,
          1.2,
          1.2,
          null,
          0.8,
          0.8,
          1.2,
          1.2,
          null,
          0.8,
          0.8,
          1.2,
          1.2
         ]
        },
        {
         "fill": "toself",
         "fillcolor": "rgb(59, 230, 233)",
         "hoverinfo": "name",
         "legendgroup": "rgb(59, 230, 233)",
         "mode": "none",
         "name": "9",
         "type": "scatter",
         "x": [
          1050,
          1113,
          1113,
          1050,
          1050,
          1101,
          1174,
          1174,
          1101,
          1101,
          595,
          648,
          648,
          595,
          595,
          274,
          327,
          327,
          274
         ],
         "y": [
          0.8,
          0.8,
          1.2,
          1.2,
          null,
          0.8,
          0.8,
          1.2,
          1.2,
          null,
          0.8,
          0.8,
          1.2,
          1.2,
          null,
          0.8,
          0.8,
          1.2,
          1.2
         ]
        },
        {
         "fill": "toself",
         "fillcolor": "rgb(9, 180, 183)",
         "hoverinfo": "name",
         "legendgroup": "rgb(9, 180, 183)",
         "mode": "none",
         "name": "7",
         "type": "scatter",
         "x": [
          1136,
          1276,
          1276,
          1136,
          1136,
          1142,
          1257,
          1257,
          1142,
          1142,
          864,
          907,
          907,
          864,
          864,
          1110,
          1250,
          1250,
          1110,
          1110,
          773,
          908,
          908,
          773,
          773,
          1043,
          1178,
          1178,
          1043,
          1043,
          973,
          1098,
          1098,
          973
         ],
         "y": [
          0.8,
          0.8,
          1.2,
          1.2,
          null,
          0.8,
          0.8,
          1.2,
          1.2,
          null,
          0.8,
          0.8,
          1.2,
          1.2,
          null,
          0.8,
          0.8,
          1.2,
          1.2,
          null,
          0.8,
          0.8,
          1.2,
          1.2,
          null,
          0.8,
          0.8,
          1.2,
          1.2,
          null,
          0.8,
          0.8,
          1.2,
          1.2
         ]
        },
        {
         "fill": "toself",
         "fillcolor": "rgb(90, 5, 8)",
         "hoverinfo": "name",
         "legendgroup": "rgb(90, 5, 8)",
         "mode": "none",
         "name": "0",
         "type": "scatter",
         "x": [
          334,
          392,
          392,
          334,
          334,
          364,
          422,
          422,
          364,
          364,
          258,
          319,
          319,
          258,
          258,
          269,
          409,
          409,
          269,
          269,
          359,
          420,
          420,
          359,
          359,
          258,
          319,
          319,
          258,
          258,
          240,
          365,
          365,
          240
         ],
         "y": [
          0.8,
          0.8,
          1.2,
          1.2,
          null,
          0.8,
          0.8,
          1.2,
          1.2,
          null,
          0.8,
          0.8,
          1.2,
          1.2,
          null,
          0.8,
          0.8,
          1.2,
          1.2,
          null,
          0.8,
          0.8,
          1.2,
          1.2,
          null,
          0.8,
          0.8,
          1.2,
          1.2,
          null,
          0.8,
          0.8,
          1.2,
          1.2
         ]
        },
        {
         "legendgroup": "rgb(115, 30, 33)",
         "marker": {
          "color": "rgb(115, 30, 33)",
          "opacity": 0,
          "size": 1
         },
         "mode": "markers",
         "name": "",
         "showlegend": false,
         "text": [
          null,
          null,
          null,
          null,
          null,
          null,
          null,
          null,
          null,
          null,
          null,
          null
         ],
         "type": "scatter",
         "x": [
          3116,
          3211,
          1094,
          1189,
          1249,
          1324,
          2665,
          2752,
          1616,
          1691,
          1898,
          1933
         ],
         "y": [
          1,
          1,
          1,
          1,
          0,
          0,
          0,
          0,
          0,
          0,
          0,
          0
         ]
        },
        {
         "legendgroup": "rgb(140, 55, 58)",
         "marker": {
          "color": "rgb(140, 55, 58)",
          "opacity": 0,
          "size": 1
         },
         "mode": "markers",
         "name": "",
         "showlegend": false,
         "text": [
          null,
          null,
          null,
          null,
          null,
          null,
          null,
          null
         ],
         "type": "scatter",
         "x": [
          3083,
          3156,
          2216,
          2269,
          2227,
          2271,
          2684,
          2747
         ],
         "y": [
          1,
          1,
          1,
          1,
          1,
          1,
          1,
          1
         ]
        },
        {
         "legendgroup": "rgb(165, 80, 83)",
         "marker": {
          "color": "rgb(165, 80, 83)",
          "opacity": 0,
          "size": 1
         },
         "mode": "markers",
         "name": "",
         "showlegend": false,
         "text": [
          null,
          null,
          null,
          null,
          null,
          null,
          null,
          null,
          null,
          null,
          null,
          null
         ],
         "type": "scatter",
         "x": [
          251,
          346,
          203,
          286,
          262,
          345,
          216,
          299,
          259,
          334,
          286,
          329
         ],
         "y": [
          1,
          1,
          1,
          1,
          1,
          1,
          1,
          1,
          0,
          0,
          0,
          0
         ]
        },
        {
         "legendgroup": "rgb(190, 105, 108)",
         "marker": {
          "color": "rgb(190, 105, 108)",
          "opacity": 0,
          "size": 1
         },
         "mode": "markers",
         "name": "",
         "showlegend": false,
         "text": [
          null,
          null,
          null,
          null,
          null,
          null,
          null,
          null,
          null,
          null,
          null,
          null
         ],
         "type": "scatter",
         "x": [
          537,
          632,
          573,
          668,
          609,
          704,
          472,
          555,
          560,
          647,
          202,
          245
         ],
         "y": [
          1,
          1,
          1,
          1,
          1,
          1,
          1,
          1,
          0,
          0,
          0,
          0
         ]
        },
        {
         "legendgroup": "rgb(215, 130, 133)",
         "marker": {
          "color": "rgb(215, 130, 133)",
          "opacity": 0,
          "size": 1
         },
         "mode": "markers",
         "name": "",
         "showlegend": false,
         "text": [
          null,
          null,
          null,
          null,
          null,
          null,
          null,
          null
         ],
         "type": "scatter",
         "x": [
          274,
          327,
          3188,
          3261,
          948,
          1021,
          2203,
          2266
         ],
         "y": [
          1,
          1,
          1,
          1,
          1,
          1,
          1,
          1
         ]
        },
        {
         "legendgroup": "rgb(240, 155, 158)",
         "marker": {
          "color": "rgb(240, 155, 158)",
          "opacity": 0,
          "size": 1
         },
         "mode": "markers",
         "name": "",
         "showlegend": false,
         "text": [
          null,
          null,
          null,
          null,
          null,
          null,
          null,
          null,
          null,
          null,
          null,
          null
         ],
         "type": "scatter",
         "x": [
          620,
          703,
          1683,
          1766,
          335,
          410,
          1618,
          1693,
          2833,
          2920,
          286,
          373
         ],
         "y": [
          1,
          1,
          1,
          1,
          0,
          0,
          0,
          0,
          0,
          0,
          0,
          0
         ]
        },
        {
         "legendgroup": "rgb(34, 205, 208)",
         "marker": {
          "color": "rgb(34, 205, 208)",
          "opacity": 0,
          "size": 1
         },
         "mode": "markers",
         "name": "",
         "showlegend": false,
         "text": [
          null,
          null,
          null,
          null,
          null,
          null,
          null,
          null,
          null,
          null,
          null,
          null,
          null,
          null
         ],
         "type": "scatter",
         "x": [
          1514,
          1575,
          1440,
          1483,
          1496,
          1557,
          240,
          365,
          1006,
          1141,
          606,
          664,
          577,
          620
         ],
         "y": [
          1,
          1,
          1,
          1,
          1,
          1,
          1,
          1,
          1,
          1,
          1,
          1,
          1,
          1
         ]
        },
        {
         "legendgroup": "rgb(59, 230, 233)",
         "marker": {
          "color": "rgb(59, 230, 233)",
          "opacity": 0,
          "size": 1
         },
         "mode": "markers",
         "name": "",
         "showlegend": false,
         "text": [
          null,
          null,
          null,
          null,
          null,
          null,
          null,
          null
         ],
         "type": "scatter",
         "x": [
          1050,
          1113,
          1101,
          1174,
          595,
          648,
          274,
          327
         ],
         "y": [
          1,
          1,
          1,
          1,
          1,
          1,
          1,
          1
         ]
        },
        {
         "legendgroup": "rgb(9, 180, 183)",
         "marker": {
          "color": "rgb(9, 180, 183)",
          "opacity": 0,
          "size": 1
         },
         "mode": "markers",
         "name": "",
         "showlegend": false,
         "text": [
          null,
          null,
          null,
          null,
          null,
          null,
          null,
          null,
          null,
          null,
          null,
          null,
          null,
          null
         ],
         "type": "scatter",
         "x": [
          1136,
          1276,
          1142,
          1257,
          864,
          907,
          1110,
          1250,
          773,
          908,
          1043,
          1178,
          973,
          1098
         ],
         "y": [
          1,
          1,
          1,
          1,
          1,
          1,
          1,
          1,
          1,
          1,
          1,
          1,
          1,
          1
         ]
        },
        {
         "legendgroup": "rgb(90, 5, 8)",
         "marker": {
          "color": "rgb(90, 5, 8)",
          "opacity": 0,
          "size": 1
         },
         "mode": "markers",
         "name": "",
         "showlegend": false,
         "text": [
          null,
          null,
          null,
          null,
          null,
          null,
          null,
          null,
          null,
          null,
          null,
          null,
          null,
          null
         ],
         "type": "scatter",
         "x": [
          334,
          392,
          364,
          422,
          258,
          319,
          269,
          409,
          359,
          420,
          258,
          319,
          240,
          365
         ],
         "y": [
          1,
          1,
          1,
          1,
          1,
          1,
          1,
          1,
          1,
          1,
          1,
          1,
          1,
          1
         ]
        }
       ],
       "layout": {
        "height": 600,
        "hovermode": "closest",
        "showlegend": true,
        "template": {
         "data": {
          "bar": [
           {
            "error_x": {
             "color": "#2a3f5f"
            },
            "error_y": {
             "color": "#2a3f5f"
            },
            "marker": {
             "line": {
              "color": "#E5ECF6",
              "width": 0.5
             },
             "pattern": {
              "fillmode": "overlay",
              "size": 10,
              "solidity": 0.2
             }
            },
            "type": "bar"
           }
          ],
          "barpolar": [
           {
            "marker": {
             "line": {
              "color": "#E5ECF6",
              "width": 0.5
             },
             "pattern": {
              "fillmode": "overlay",
              "size": 10,
              "solidity": 0.2
             }
            },
            "type": "barpolar"
           }
          ],
          "carpet": [
           {
            "aaxis": {
             "endlinecolor": "#2a3f5f",
             "gridcolor": "white",
             "linecolor": "white",
             "minorgridcolor": "white",
             "startlinecolor": "#2a3f5f"
            },
            "baxis": {
             "endlinecolor": "#2a3f5f",
             "gridcolor": "white",
             "linecolor": "white",
             "minorgridcolor": "white",
             "startlinecolor": "#2a3f5f"
            },
            "type": "carpet"
           }
          ],
          "choropleth": [
           {
            "colorbar": {
             "outlinewidth": 0,
             "ticks": ""
            },
            "type": "choropleth"
           }
          ],
          "contour": [
           {
            "colorbar": {
             "outlinewidth": 0,
             "ticks": ""
            },
            "colorscale": [
             [
              0,
              "#0d0887"
             ],
             [
              0.1111111111111111,
              "#46039f"
             ],
             [
              0.2222222222222222,
              "#7201a8"
             ],
             [
              0.3333333333333333,
              "#9c179e"
             ],
             [
              0.4444444444444444,
              "#bd3786"
             ],
             [
              0.5555555555555556,
              "#d8576b"
             ],
             [
              0.6666666666666666,
              "#ed7953"
             ],
             [
              0.7777777777777778,
              "#fb9f3a"
             ],
             [
              0.8888888888888888,
              "#fdca26"
             ],
             [
              1,
              "#f0f921"
             ]
            ],
            "type": "contour"
           }
          ],
          "contourcarpet": [
           {
            "colorbar": {
             "outlinewidth": 0,
             "ticks": ""
            },
            "type": "contourcarpet"
           }
          ],
          "heatmap": [
           {
            "colorbar": {
             "outlinewidth": 0,
             "ticks": ""
            },
            "colorscale": [
             [
              0,
              "#0d0887"
             ],
             [
              0.1111111111111111,
              "#46039f"
             ],
             [
              0.2222222222222222,
              "#7201a8"
             ],
             [
              0.3333333333333333,
              "#9c179e"
             ],
             [
              0.4444444444444444,
              "#bd3786"
             ],
             [
              0.5555555555555556,
              "#d8576b"
             ],
             [
              0.6666666666666666,
              "#ed7953"
             ],
             [
              0.7777777777777778,
              "#fb9f3a"
             ],
             [
              0.8888888888888888,
              "#fdca26"
             ],
             [
              1,
              "#f0f921"
             ]
            ],
            "type": "heatmap"
           }
          ],
          "heatmapgl": [
           {
            "colorbar": {
             "outlinewidth": 0,
             "ticks": ""
            },
            "colorscale": [
             [
              0,
              "#0d0887"
             ],
             [
              0.1111111111111111,
              "#46039f"
             ],
             [
              0.2222222222222222,
              "#7201a8"
             ],
             [
              0.3333333333333333,
              "#9c179e"
             ],
             [
              0.4444444444444444,
              "#bd3786"
             ],
             [
              0.5555555555555556,
              "#d8576b"
             ],
             [
              0.6666666666666666,
              "#ed7953"
             ],
             [
              0.7777777777777778,
              "#fb9f3a"
             ],
             [
              0.8888888888888888,
              "#fdca26"
             ],
             [
              1,
              "#f0f921"
             ]
            ],
            "type": "heatmapgl"
           }
          ],
          "histogram": [
           {
            "marker": {
             "pattern": {
              "fillmode": "overlay",
              "size": 10,
              "solidity": 0.2
             }
            },
            "type": "histogram"
           }
          ],
          "histogram2d": [
           {
            "colorbar": {
             "outlinewidth": 0,
             "ticks": ""
            },
            "colorscale": [
             [
              0,
              "#0d0887"
             ],
             [
              0.1111111111111111,
              "#46039f"
             ],
             [
              0.2222222222222222,
              "#7201a8"
             ],
             [
              0.3333333333333333,
              "#9c179e"
             ],
             [
              0.4444444444444444,
              "#bd3786"
             ],
             [
              0.5555555555555556,
              "#d8576b"
             ],
             [
              0.6666666666666666,
              "#ed7953"
             ],
             [
              0.7777777777777778,
              "#fb9f3a"
             ],
             [
              0.8888888888888888,
              "#fdca26"
             ],
             [
              1,
              "#f0f921"
             ]
            ],
            "type": "histogram2d"
           }
          ],
          "histogram2dcontour": [
           {
            "colorbar": {
             "outlinewidth": 0,
             "ticks": ""
            },
            "colorscale": [
             [
              0,
              "#0d0887"
             ],
             [
              0.1111111111111111,
              "#46039f"
             ],
             [
              0.2222222222222222,
              "#7201a8"
             ],
             [
              0.3333333333333333,
              "#9c179e"
             ],
             [
              0.4444444444444444,
              "#bd3786"
             ],
             [
              0.5555555555555556,
              "#d8576b"
             ],
             [
              0.6666666666666666,
              "#ed7953"
             ],
             [
              0.7777777777777778,
              "#fb9f3a"
             ],
             [
              0.8888888888888888,
              "#fdca26"
             ],
             [
              1,
              "#f0f921"
             ]
            ],
            "type": "histogram2dcontour"
           }
          ],
          "mesh3d": [
           {
            "colorbar": {
             "outlinewidth": 0,
             "ticks": ""
            },
            "type": "mesh3d"
           }
          ],
          "parcoords": [
           {
            "line": {
             "colorbar": {
              "outlinewidth": 0,
              "ticks": ""
             }
            },
            "type": "parcoords"
           }
          ],
          "pie": [
           {
            "automargin": true,
            "type": "pie"
           }
          ],
          "scatter": [
           {
            "marker": {
             "colorbar": {
              "outlinewidth": 0,
              "ticks": ""
             }
            },
            "type": "scatter"
           }
          ],
          "scatter3d": [
           {
            "line": {
             "colorbar": {
              "outlinewidth": 0,
              "ticks": ""
             }
            },
            "marker": {
             "colorbar": {
              "outlinewidth": 0,
              "ticks": ""
             }
            },
            "type": "scatter3d"
           }
          ],
          "scattercarpet": [
           {
            "marker": {
             "colorbar": {
              "outlinewidth": 0,
              "ticks": ""
             }
            },
            "type": "scattercarpet"
           }
          ],
          "scattergeo": [
           {
            "marker": {
             "colorbar": {
              "outlinewidth": 0,
              "ticks": ""
             }
            },
            "type": "scattergeo"
           }
          ],
          "scattergl": [
           {
            "marker": {
             "colorbar": {
              "outlinewidth": 0,
              "ticks": ""
             }
            },
            "type": "scattergl"
           }
          ],
          "scattermapbox": [
           {
            "marker": {
             "colorbar": {
              "outlinewidth": 0,
              "ticks": ""
             }
            },
            "type": "scattermapbox"
           }
          ],
          "scatterpolar": [
           {
            "marker": {
             "colorbar": {
              "outlinewidth": 0,
              "ticks": ""
             }
            },
            "type": "scatterpolar"
           }
          ],
          "scatterpolargl": [
           {
            "marker": {
             "colorbar": {
              "outlinewidth": 0,
              "ticks": ""
             }
            },
            "type": "scatterpolargl"
           }
          ],
          "scatterternary": [
           {
            "marker": {
             "colorbar": {
              "outlinewidth": 0,
              "ticks": ""
             }
            },
            "type": "scatterternary"
           }
          ],
          "surface": [
           {
            "colorbar": {
             "outlinewidth": 0,
             "ticks": ""
            },
            "colorscale": [
             [
              0,
              "#0d0887"
             ],
             [
              0.1111111111111111,
              "#46039f"
             ],
             [
              0.2222222222222222,
              "#7201a8"
             ],
             [
              0.3333333333333333,
              "#9c179e"
             ],
             [
              0.4444444444444444,
              "#bd3786"
             ],
             [
              0.5555555555555556,
              "#d8576b"
             ],
             [
              0.6666666666666666,
              "#ed7953"
             ],
             [
              0.7777777777777778,
              "#fb9f3a"
             ],
             [
              0.8888888888888888,
              "#fdca26"
             ],
             [
              1,
              "#f0f921"
             ]
            ],
            "type": "surface"
           }
          ],
          "table": [
           {
            "cells": {
             "fill": {
              "color": "#EBF0F8"
             },
             "line": {
              "color": "white"
             }
            },
            "header": {
             "fill": {
              "color": "#C8D4E3"
             },
             "line": {
              "color": "white"
             }
            },
            "type": "table"
           }
          ]
         },
         "layout": {
          "annotationdefaults": {
           "arrowcolor": "#2a3f5f",
           "arrowhead": 0,
           "arrowwidth": 1
          },
          "autotypenumbers": "strict",
          "coloraxis": {
           "colorbar": {
            "outlinewidth": 0,
            "ticks": ""
           }
          },
          "colorscale": {
           "diverging": [
            [
             0,
             "#8e0152"
            ],
            [
             0.1,
             "#c51b7d"
            ],
            [
             0.2,
             "#de77ae"
            ],
            [
             0.3,
             "#f1b6da"
            ],
            [
             0.4,
             "#fde0ef"
            ],
            [
             0.5,
             "#f7f7f7"
            ],
            [
             0.6,
             "#e6f5d0"
            ],
            [
             0.7,
             "#b8e186"
            ],
            [
             0.8,
             "#7fbc41"
            ],
            [
             0.9,
             "#4d9221"
            ],
            [
             1,
             "#276419"
            ]
           ],
           "sequential": [
            [
             0,
             "#0d0887"
            ],
            [
             0.1111111111111111,
             "#46039f"
            ],
            [
             0.2222222222222222,
             "#7201a8"
            ],
            [
             0.3333333333333333,
             "#9c179e"
            ],
            [
             0.4444444444444444,
             "#bd3786"
            ],
            [
             0.5555555555555556,
             "#d8576b"
            ],
            [
             0.6666666666666666,
             "#ed7953"
            ],
            [
             0.7777777777777778,
             "#fb9f3a"
            ],
            [
             0.8888888888888888,
             "#fdca26"
            ],
            [
             1,
             "#f0f921"
            ]
           ],
           "sequentialminus": [
            [
             0,
             "#0d0887"
            ],
            [
             0.1111111111111111,
             "#46039f"
            ],
            [
             0.2222222222222222,
             "#7201a8"
            ],
            [
             0.3333333333333333,
             "#9c179e"
            ],
            [
             0.4444444444444444,
             "#bd3786"
            ],
            [
             0.5555555555555556,
             "#d8576b"
            ],
            [
             0.6666666666666666,
             "#ed7953"
            ],
            [
             0.7777777777777778,
             "#fb9f3a"
            ],
            [
             0.8888888888888888,
             "#fdca26"
            ],
            [
             1,
             "#f0f921"
            ]
           ]
          },
          "colorway": [
           "#636efa",
           "#EF553B",
           "#00cc96",
           "#ab63fa",
           "#FFA15A",
           "#19d3f3",
           "#FF6692",
           "#B6E880",
           "#FF97FF",
           "#FECB52"
          ],
          "font": {
           "color": "#2a3f5f"
          },
          "geo": {
           "bgcolor": "white",
           "lakecolor": "white",
           "landcolor": "#E5ECF6",
           "showlakes": true,
           "showland": true,
           "subunitcolor": "white"
          },
          "hoverlabel": {
           "align": "left"
          },
          "hovermode": "closest",
          "mapbox": {
           "style": "light"
          },
          "paper_bgcolor": "white",
          "plot_bgcolor": "#E5ECF6",
          "polar": {
           "angularaxis": {
            "gridcolor": "white",
            "linecolor": "white",
            "ticks": ""
           },
           "bgcolor": "#E5ECF6",
           "radialaxis": {
            "gridcolor": "white",
            "linecolor": "white",
            "ticks": ""
           }
          },
          "scene": {
           "xaxis": {
            "backgroundcolor": "#E5ECF6",
            "gridcolor": "white",
            "gridwidth": 2,
            "linecolor": "white",
            "showbackground": true,
            "ticks": "",
            "zerolinecolor": "white"
           },
           "yaxis": {
            "backgroundcolor": "#E5ECF6",
            "gridcolor": "white",
            "gridwidth": 2,
            "linecolor": "white",
            "showbackground": true,
            "ticks": "",
            "zerolinecolor": "white"
           },
           "zaxis": {
            "backgroundcolor": "#E5ECF6",
            "gridcolor": "white",
            "gridwidth": 2,
            "linecolor": "white",
            "showbackground": true,
            "ticks": "",
            "zerolinecolor": "white"
           }
          },
          "shapedefaults": {
           "line": {
            "color": "#2a3f5f"
           }
          },
          "ternary": {
           "aaxis": {
            "gridcolor": "white",
            "linecolor": "white",
            "ticks": ""
           },
           "baxis": {
            "gridcolor": "white",
            "linecolor": "white",
            "ticks": ""
           },
           "bgcolor": "#E5ECF6",
           "caxis": {
            "gridcolor": "white",
            "linecolor": "white",
            "ticks": ""
           }
          },
          "title": {
           "x": 0.05
          },
          "xaxis": {
           "automargin": true,
           "gridcolor": "white",
           "linecolor": "white",
           "ticks": "",
           "title": {
            "standoff": 15
           },
           "zerolinecolor": "white",
           "zerolinewidth": 2
          },
          "yaxis": {
           "automargin": true,
           "gridcolor": "white",
           "linecolor": "white",
           "ticks": "",
           "title": {
            "standoff": 15
           },
           "zerolinecolor": "white",
           "zerolinewidth": 2
          }
         }
        },
        "title": {
         "text": "Gantt Chart"
        },
        "xaxis": {
         "rangeselector": {
          "buttons": [
           {
            "count": 7,
            "label": "1w",
            "step": "day",
            "stepmode": "backward"
           },
           {
            "count": 1,
            "label": "1m",
            "step": "month",
            "stepmode": "backward"
           },
           {
            "count": 6,
            "label": "6m",
            "step": "month",
            "stepmode": "backward"
           },
           {
            "count": 1,
            "label": "YTD",
            "step": "year",
            "stepmode": "todate"
           },
           {
            "count": 1,
            "label": "1y",
            "step": "year",
            "stepmode": "backward"
           },
           {
            "step": "all"
           }
          ]
         },
         "showgrid": false,
         "type": "date",
         "zeroline": false
        },
        "yaxis": {
         "autorange": false,
         "range": [
          -1,
          3
         ],
         "showgrid": false,
         "ticktext": [
          "w1",
          "w2"
         ],
         "tickvals": [
          0,
          1
         ],
         "zeroline": false
        }
       }
      }
     },
     "metadata": {},
     "output_type": "display_data"
    },
    {
     "data": {
      "image/png": "[encoded data removed]",
      "text/plain": [
       "<Figure size 432x288 with 1 Axes>"
      ]
     },
     "metadata": {
      "needs_background": "light"
     },
     "output_type": "display_data"
    }
   ],
   "source": [
    "optimizer.configure('tardiness', 'twopointcrossover', 'roulettewheel', 'onlyfeasibletimeslot')\n",
    "last_time_slot = 0\n",
    "for order in orders:\n",
    "    if order[1] > last_time_slot:\n",
    "        last_time_slot = order[1]\n",
    "# all parameters after offspring_amount are optional (in this case -> verbose=True)\n",
    "result, best_fitness_history, average_fitness_history, best_generation_history, feasible_gen = optimizer.optimize(orders, max_generations, earliest_time_slot, last_time_slot, population_size, offspring_amount, verbose=True)\n",
    "workstation_assignments = reformat_result(result, orders, workstations, recipes, tasks)\n",
    "visualize(workstation_assignments, best_fitness_history, average_fitness_history, best_generation_history, feasible_gen)"
   ]
  }
 ],
 "metadata": {
  "interpreter": {
   "hash": "df6f155d44bb1edce679adfdb5f7e6a78d2967f573664c6ef3414f6d6412dec1"
  },
  "kernelspec": {
   "display_name": "Python 3.9.5 64-bit",
   "language": "python",
   "name": "python3"
  },
  "language_info": {
   "codemirror_mode": {
    "name": "ipython",
    "version": 3
   },
   "file_extension": ".py",
   "mimetype": "text/x-python",
   "name": "python",
   "nbconvert_exporter": "python",
   "pygments_lexer": "ipython3",
   "version": "3.9.5"
  },
  "orig_nbformat": 4
 },
 "nbformat": 4,
 "nbformat_minor": 2
}
