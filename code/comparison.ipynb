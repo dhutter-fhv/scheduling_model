{
 "cells": [
  {
   "cell_type": "markdown",
   "metadata": {},
   "source": [
    "<h1> Imports </h1>"
   ]
  },
  {
   "cell_type": "code",
   "execution_count": 1,
   "metadata": {},
   "outputs": [],
   "source": [
    "from read_data import read_dataset_1, translate_1, read_dataset_3, translate_3\n",
    "from models import SimulationEnvironment\n",
    "from optimizer import BaseGA, SimpleAgentGA\n",
    "from agent import GreedyAgent, AgentSimulator\n",
    "from visualize import reformat_result, visualize, visualize_schedule, fitness_history_plot\n",
    "import random\n",
    "import copy\n",
    "from pulp import LpProblem, LpMinimize, LpVariable, lpSum, LpStatus, LpInteger, PULP_CBC_CMD"
   ]
  },
  {
   "cell_type": "markdown",
   "metadata": {},
   "source": [
    "<h1>Parameters</h1>\n"
   ]
  },
  {
   "cell_type": "code",
   "execution_count": 2,
   "metadata": {},
   "outputs": [],
   "source": [
    "# Parameters\n",
    "max_generations = 100\n",
    "earliest_time_slot = 200\n",
    "last_time_slot = 5000\n",
    "population_size = 10\n",
    "offspring_amount = 20\n",
    "\n",
    "order_amount = 10"
   ]
  },
  {
   "cell_type": "markdown",
   "metadata": {},
   "source": [
    "<h1>Input Data</h1>\n",
    "<h4>Choose 1 of the following</h4>"
   ]
  },
  {
   "cell_type": "markdown",
   "metadata": {},
   "source": [
    "Dataset 1 (Job Shop Scheduling)"
   ]
  },
  {
   "cell_type": "code",
   "execution_count": 3,
   "metadata": {},
   "outputs": [
    {
     "name": "stdout",
     "output_type": "stream",
     "text": [
      "30\n"
     ]
    }
   ],
   "source": [
    "input, orders, instance = read_dataset_1(use_instance=13, order_amount=order_amount, earliest_time=earliest_time_slot, last_time=last_time_slot)\n",
    "recipes, workstations, resources, tasks, orders_model = translate_1(instance, orders, earliest_time_slot, last_time_slot)"
   ]
  },
  {
   "cell_type": "markdown",
   "metadata": {},
   "source": [
    "Dataset 3, Resource Constrained (Job Shop Scheduling)"
   ]
  },
  {
   "cell_type": "code",
   "execution_count": null,
   "metadata": {},
   "outputs": [],
   "source": [
    "input, orders, instance = read_dataset_3(order_amount=order_amount, earliest_time=earliest_time_slot, last_time=last_time_slot)\n",
    "recipes, workstations, resources, tasks, orders_model = translate_3(instance, n_workstations=10, generated_orders=orders, earliest=earliest_time_slot, latest=last_time_slot) # for dataset 3, the amount of available machines has to be declared (not included with the data)"
   ]
  },
  {
   "cell_type": "markdown",
   "metadata": {},
   "source": [
    "<h1> Simulation Environment Setup </h1>"
   ]
  },
  {
   "cell_type": "code",
   "execution_count": null,
   "metadata": {},
   "outputs": [],
   "source": [
    "env = SimulationEnvironment(workstations, tasks, resources, recipes)"
   ]
  },
  {
   "cell_type": "markdown",
   "metadata": {},
   "source": [
    "<h1> LP </h1>"
   ]
  },
  {
   "cell_type": "code",
   "execution_count": null,
   "metadata": {},
   "outputs": [],
   "source": [
    "def get_all_workstations_for_task(task_id, workstations, env):\n",
    "    combinations = []\n",
    "    for w in workstations:\n",
    "        for tt in env.get_workstation(w).tasks:\n",
    "            if task_id == tt[0]:\n",
    "                combinations.append(w)\n",
    "    return combinations\n",
    "\n",
    "def get_duration(task_id, workstation, combinations):\n",
    "    return combinations[(task_id, workstation)]\n",
    "# create problem\n",
    "problem = LpProblem('SchedulingProblem', LpMinimize)\n",
    "# create variables\n",
    "lp_workstations = []\n",
    "for workstation in env.workstations:\n",
    "    lp_workstations.append(workstation.id)\n",
    "lp_tasks = []\n",
    "for task in env.tasks:\n",
    "    lp_tasks.append(task.id)\n",
    "lp_orders = []\n",
    "for order in orders_model:\n",
    "    lp_orders.append(order.id)\n",
    "lp_resources = []\n",
    "for resource in env.resources:\n",
    "    lp_resources.append(resource.id)\n",
    "# gather all possible combinations of tasks and workstations\n",
    "possible_combinations = []\n",
    "for w in lp_workstations:\n",
    "    for t in lp_tasks:\n",
    "        for tt in env.get_workstation(w).tasks:\n",
    "            if t == tt[0]:\n",
    "                possible_combinations.append((w, t))\n",
    "durations = dict()\n",
    "# gather the duration of all possible task/workstation combinations\n",
    "for combination in possible_combinations:\n",
    "    durations[combination] = env.get_duration(combination[1], combination[0])\n",
    "#NOTE: ignoring the possibility of multiple recipes for each resource for now and just use first\n",
    "lp_jobs = []\n",
    "lp_assignments = []\n",
    "lp_start_times = []\n",
    "lp_durations = dict()\n",
    "i = 0\n",
    "for order in orders_model:\n",
    "    for resource in order.resources:\n",
    "        tasks = env.get_all_tasks_for_recipe(resource.recipes[0].id)\n",
    "        for task in tasks:\n",
    "            # get all possible combinations for task and pick random starting combination\n",
    "            combos = []\n",
    "            for combination in possible_combinations:\n",
    "                if combination[1] == task.id:\n",
    "                    combos.append(combination)\n",
    "            # task id, w/t combination, x_dt, x_lt\n",
    "            lp_jobs.append([task.id, order.delivery_time, order.latest_acceptable_time])\n",
    "            lp_assignments.append(LpVariable(f'a{i}', lowBound=min(lp_workstations), upBound=max(lp_workstations), cat=LpInteger))\n",
    "            lp_start_times.append(LpVariable(f's{i}', lowBound=earliest_time_slot, upBound=last_time_slot, cat=LpInteger))\n",
    "            lp_durations[task.id] = dict()\n",
    "            for workstation in lp_workstations:\n",
    "                lp_durations[task.id][workstation] = env.get_duration(task.id, workstation)\n",
    "            i+=1\n",
    "\n",
    "# assignments = LpVariable.dicts('assignments', [(a, s) for a in lp_assignments for s in lp_start_times], lowBound=earliest_time_slot, upBound=last_time_slot, cat=LpInteger)\n",
    "# NOTE: first function added to the LpProblem needs to be objective\n",
    "# add objective\n",
    "problem += (lpSum([lp_start_times[i] + lp_durations[lp_jobs[i][0]][lp_assignments[i]] - lp_jobs[i][1] for i in range(len(lp_jobs))]), 'Minimize_tardy_jobs') \n",
    "# NOTE: add constraints here\n",
    "for i in range(len(lp_jobs)):\n",
    "    problem += lp_durations[lp_jobs[i][0]][lp_assignments[i]] > 0\n",
    "\n",
    "# Solve\n",
    "#problem.writeLP('SchedulingProblem.lp') # in case problem should be exported\n",
    "#solver = PULP_CBC_CMD(msg=1, mip_start=1)\n",
    "#problem.solve(solver)\n",
    "problem.solve()\n",
    "print(f'Status: {LpStatus[problem.status]}')\n",
    "# print result\n",
    "for i in range(len(lp_assignments)):\n",
    "    print(f'Scheduled job {i} on workstation {lp_assignments[i].value()} with start time {lp_start_times[i].value()}')\n"
   ]
  },
  {
   "cell_type": "markdown",
   "metadata": {},
   "source": [
    "<h1>Optimizer</h1>"
   ]
  },
  {
   "cell_type": "markdown",
   "metadata": {},
   "source": [
    "Config 1 - Test with One Point Crossover"
   ]
  },
  {
   "cell_type": "code",
   "execution_count": null,
   "metadata": {},
   "outputs": [],
   "source": [
    "optimizer = BaseGA(env)\n",
    "optimizer.set_minimize()\n",
    "# optional (in this case, all options given are the default option, if the configuration step is skipped)\n",
    "optimizer.configure('tardiness', 'onepointcrossover', 'roulettewheel', 'randomize')\n",
    "# choose an input generator (optional) -> decides how the data gets converted into the optimizer format\n",
    "# optimizer.set_input_generator('SameLengthAlternativesGenerator')\n",
    "# all parameters after offspring_amount are optional (in this case -> verbose=True)\n",
    "result, best_fitness_history, average_fitness_history, best_generation_history, feasible_gen = optimizer.optimize(orders, max_generations, earliest_time_slot, last_time_slot, population_size, offspring_amount, verbose=True)\n",
    "workstation_assignments = reformat_result(result, orders, env)\n",
    "visualize(workstation_assignments, best_fitness_history, average_fitness_history, best_generation_history, feasible_gen)"
   ]
  },
  {
   "cell_type": "markdown",
   "metadata": {},
   "source": [
    "Config 2 - Test with Two Point Crossover"
   ]
  },
  {
   "cell_type": "code",
   "execution_count": null,
   "metadata": {},
   "outputs": [],
   "source": [
    "optimizer = BaseGA(env)\n",
    "optimizer.set_minimize()\n",
    "# optional (in this case, all options given are the default option, if the configuration step is skipped)\n",
    "optimizer.configure('tardiness', 'twopointcrossover', 'roulettewheel', 'randomize')\n",
    "# choose an input generator (optional) -> decides how the data gets converted into the optimizer format\n",
    "#optimizer.set_input_generator('SameLengthAlternativesGenerator')\n",
    "# all parameters after offspring_amount are optional (in this case -> verbose=True)\n",
    "result, best_fitness_history, average_fitness_history, best_generation_history, feasible_gen = optimizer.optimize(orders, max_generations, earliest_time_slot, last_time_slot, population_size, offspring_amount, verbose=True)\n",
    "workstation_assignments = reformat_result(result, orders, env)\n",
    "visualize(workstation_assignments, best_fitness_history, average_fitness_history, best_generation_history, feasible_gen)"
   ]
  },
  {
   "cell_type": "markdown",
   "metadata": {},
   "source": [
    "Config 3 - Only valid mutations for time slots"
   ]
  },
  {
   "cell_type": "code",
   "execution_count": null,
   "metadata": {},
   "outputs": [],
   "source": [
    "optimizer = BaseGA(env)\n",
    "optimizer.configure('tardiness', 'twopointcrossover', 'roulettewheel', 'onlyfeasibletimeslot')\n",
    "last_time_slot = 0\n",
    "for order in orders:\n",
    "    if order[1] > last_time_slot:\n",
    "        last_time_slot = order[1]\n",
    "# all parameters after offspring_amount are optional (in this case -> verbose=True)\n",
    "result, best_fitness_history, average_fitness_history, best_generation_history, feasible_gen = optimizer.optimize(orders, max_generations, earliest_time_slot, last_time_slot, population_size, offspring_amount, verbose=True)\n",
    "workstation_assignments = reformat_result(result, orders, env)\n",
    "visualize(workstation_assignments, best_fitness_history, average_fitness_history, best_generation_history, feasible_gen)"
   ]
  },
  {
   "cell_type": "markdown",
   "metadata": {},
   "source": [
    "Config 4 - Randomized Mutation with \"open\" Planning Horizon"
   ]
  },
  {
   "cell_type": "code",
   "execution_count": null,
   "metadata": {},
   "outputs": [],
   "source": [
    "optimizer = BaseGA(env)\n",
    "optimizer.configure('tardiness', 'twopointcrossover', 'roulettewheel', 'randomize')\n",
    "last_time_slot = 0\n",
    "for order in orders:\n",
    "    if order[1] > last_time_slot:\n",
    "        last_time_slot = order[1]\n",
    "# all parameters after offspring_amount are optional (in this case -> verbose=True)\n",
    "result, best_fitness_history, average_fitness_history, best_generation_history, feasible_gen = optimizer.optimize(orders, max_generations, earliest_time_slot, last_time_slot, population_size, offspring_amount, verbose=True)\n",
    "workstation_assignments = reformat_result(result, orders, env)\n",
    "visualize(workstation_assignments, best_fitness_history, average_fitness_history, best_generation_history, feasible_gen)"
   ]
  },
  {
   "cell_type": "markdown",
   "metadata": {},
   "source": [
    "Config 5 - Makespan Evaluation"
   ]
  },
  {
   "cell_type": "code",
   "execution_count": null,
   "metadata": {},
   "outputs": [],
   "source": [
    "optimizer = BaseGA(env)\n",
    "optimizer.set_minimize()\n",
    "optimizer.configure('makespan', 'twopointcrossover', 'roulettewheel', 'randomize')\n",
    "# choose an input generator (optional) -> decides how the data gets converted into the optimizer format\n",
    "#optimizer.set_input_generator('SameLengthAlternativesGenerator')\n",
    "# all parameters after offspring_amount are optional (in this case -> verbose=True)\n",
    "last_time_slot = 5000\n",
    "# set all delivery dates to last time slot\n",
    "for order in orders:\n",
    "    order[1] = last_time_slot\n",
    "result, best_fitness_history, average_fitness_history, best_generation_history, feasible_gen = optimizer.optimize(orders, max_generations, earliest_time_slot, last_time_slot, population_size, offspring_amount, verbose=True)\n",
    "workstation_assignments = reformat_result(result, orders, env)\n",
    "visualize(workstation_assignments, best_fitness_history, average_fitness_history, best_generation_history, feasible_gen)"
   ]
  },
  {
   "cell_type": "markdown",
   "metadata": {},
   "source": [
    "<h1> Agents </2>"
   ]
  },
  {
   "cell_type": "markdown",
   "metadata": {},
   "source": [
    "Greedy"
   ]
  },
  {
   "cell_type": "code",
   "execution_count": null,
   "metadata": {},
   "outputs": [],
   "source": [
    "agent = GreedyAgent(env)\n",
    "simulator = AgentSimulator()\n",
    "schedule, schedule_count = simulator.simulate(agent, orders_model)\n",
    "print(f'Scheduled {schedule_count}/{len(orders_model)} Orders')\n",
    "visualize_schedule(schedule, env)"
   ]
  },
  {
   "cell_type": "markdown",
   "metadata": {},
   "source": [
    "Greedy with changing sequence"
   ]
  },
  {
   "cell_type": "code",
   "execution_count": null,
   "metadata": {},
   "outputs": [],
   "source": [
    "def change_order(orders):\n",
    "    p1 = random.randint(0, len(orders) -2)\n",
    "    p2 = random.randint(p1, len(orders) -1)\n",
    "    selected = copy.deepcopy(orders[p1 : p2 +1])\n",
    "    selected.reverse()\n",
    "    for i in range(len(selected)):\n",
    "        orders[p1 + i] = copy.deepcopy(selected[i])\n",
    "\n",
    "agent = GreedyAgent(env)\n",
    "simulator = AgentSimulator()\n",
    "n_generations = 10\n",
    "best = None\n",
    "sequence = copy.deepcopy(orders_model)\n",
    "for gen in range(n_generations):\n",
    "    simulator = AgentSimulator()\n",
    "    schedule, schedule_count = simulator.simulate(agent, sequence)\n",
    "    if not best or best[1] < schedule_count:\n",
    "        best = [schedule, schedule_count, copy.deepcopy(sequence)]\n",
    "    change_order(sequence)\n",
    "print(f'Scheduled {best[1]}/{len(best[2])} Orders')\n",
    "visualize_schedule(best[0], env)\n",
    "\n"
   ]
  },
  {
   "cell_type": "markdown",
   "metadata": {},
   "source": [
    "Greedy with order sequence optimization"
   ]
  },
  {
   "cell_type": "code",
   "execution_count": null,
   "metadata": {},
   "outputs": [],
   "source": [
    "agent = GreedyAgent(env)\n",
    "simulator = AgentSimulator()\n",
    "sequence = copy.deepcopy(orders_model)\n",
    "optimizer = SimpleAgentGA(env, agent, simulator)\n",
    "optimizer.configure('ordercount', 'onepointcrossover', 'roulettewheel', 'orderchange', 'agent') # change individual type\n",
    "optimizer.evaluation_method.set_simulator(simulator)\n",
    "optimizer.evaluation_method.set_agent(agent)\n",
    "optimizer.set_maximize()\n",
    "optimizer.set_sequence(sequence)\n",
    "result, best_fitness_history, average_fitness_history, best_generation_history, feasible_gen = optimizer.optimize(orders, max_generations, earliest_time_slot, last_time_slot, population_size, offspring_amount, verbose=True)\n",
    "schedule, schedule_count = simulator.simulate(agent, result.genes)\n",
    "print(f'Scheduled {schedule_count}/{len(orders_model)} Orders')\n",
    "# for some reason visualization is very slow on this one\n",
    "#visualize_schedule(schedule, env)\n",
    "fitness_history_plot(best_fitness_history, average_fitness_history, feasible_gen, best_generation_history)"
   ]
  }
 ],
 "metadata": {
  "interpreter": {
   "hash": "df6f155d44bb1edce679adfdb5f7e6a78d2967f573664c6ef3414f6d6412dec1"
  },
  "kernelspec": {
   "display_name": "Python 3.9.5 64-bit",
   "language": "python",
   "name": "python3"
  },
  "language_info": {
   "codemirror_mode": {
    "name": "ipython",
    "version": 3
   },
   "file_extension": ".py",
   "mimetype": "text/x-python",
   "name": "python",
   "nbconvert_exporter": "python",
   "pygments_lexer": "ipython3",
   "version": "3.10.3"
  },
  "orig_nbformat": 4
 },
 "nbformat": 4,
 "nbformat_minor": 2
}
