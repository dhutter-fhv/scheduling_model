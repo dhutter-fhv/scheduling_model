{
 "cells": [
  {
   "cell_type": "markdown",
   "metadata": {},
   "source": [
    "<h1> Imports </h1>"
   ]
  },
  {
   "cell_type": "code",
   "execution_count": 1,
   "metadata": {},
   "outputs": [],
   "source": [
    "from read_data import read_dataset_1, translate_1, read_dataset_3, translate_3\n",
    "from models import SimulationEnvironment\n",
    "from optimizer import BaseGA\n",
    "from agent import GreedyAgent, AgentSimulator\n",
    "from visualize import reformat_result, visualize, visualize_schedule"
   ]
  },
  {
   "cell_type": "markdown",
   "metadata": {},
   "source": [
    "<h1>Parameters</h1>\n"
   ]
  },
  {
   "cell_type": "code",
   "execution_count": 2,
   "metadata": {},
   "outputs": [],
   "source": [
    "# Parameters\n",
    "max_generations = 20\n",
    "earliest_time_slot = 200\n",
    "last_time_slot = 5000\n",
    "population_size = 10\n",
    "offspring_amount = 20\n",
    "\n",
    "order_amount = 10"
   ]
  },
  {
   "cell_type": "markdown",
   "metadata": {},
   "source": [
    "<h1>Input Data</h1>\n",
    "<h4>Choose 1 of the following</h4>"
   ]
  },
  {
   "cell_type": "markdown",
   "metadata": {},
   "source": [
    "Dataset 1 (Job Shop Scheduling)"
   ]
  },
  {
   "cell_type": "code",
   "execution_count": 3,
   "metadata": {},
   "outputs": [],
   "source": [
    "input, orders, instance = read_dataset_1(use_instance=2, order_amount=order_amount, earliest_time=earliest_time_slot, last_time=last_time_slot)\n",
    "recipes, workstations, resources, tasks, orders_model = translate_1(instance, orders, earliest_time_slot, last_time_slot)"
   ]
  },
  {
   "cell_type": "markdown",
   "metadata": {},
   "source": [
    "Dataset 3, Resource Constrained (Job Shop Scheduling)"
   ]
  },
  {
   "cell_type": "code",
   "execution_count": 15,
   "metadata": {},
   "outputs": [],
   "source": [
    "input, orders, instance = read_dataset_3(order_amount=order_amount, earliest_time=earliest_time_slot, last_time=last_time_slot)\n",
    "recipes, workstations, resources, tasks, orders_model = translate_3(instance, n_workstations=10, generated_orders=orders, earliest=earliest_time_slot, latest=last_time_slot) # for dataset 3, the amount of available machines has to be declared (not included with the data)"
   ]
  },
  {
   "cell_type": "markdown",
   "metadata": {},
   "source": [
    "<h1> Simulation Environment Setup </h1>"
   ]
  },
  {
   "cell_type": "code",
   "execution_count": 4,
   "metadata": {},
   "outputs": [],
   "source": [
    "env = SimulationEnvironment(workstations, tasks, resources, recipes)"
   ]
  },
  {
   "cell_type": "markdown",
   "metadata": {},
   "source": [
    "<h1>Optimizer</h1>"
   ]
  },
  {
   "cell_type": "markdown",
   "metadata": {},
   "source": [
    "Config 1 - Test with One Point Crossover"
   ]
  },
  {
   "cell_type": "code",
   "execution_count": 5,
   "metadata": {},
   "outputs": [
    {
     "name": "stdout",
     "output_type": "stream",
     "text": [
      "Current generation: 0, Current Best: 76, not feasible\n",
      "Current generation: 1, Current Best: 76, not feasible\n",
      "New best individual found!\n",
      "Current generation: 2, Current Best: 75, not feasible\n",
      "New best individual found!\n",
      "Current generation: 3, Current Best: 73, not feasible\n",
      "New best individual found!\n",
      "Current generation: 4, Current Best: 71, not feasible\n",
      "New best individual found!\n",
      "Current generation: 5, Current Best: 70, not feasible\n",
      "New best individual found!\n",
      "Current generation: 6, Current Best: 69, not feasible\n",
      "New best individual found!\n",
      "Current generation: 7, Current Best: 67, not feasible\n",
      "New best individual found!\n",
      "Current generation: 8, Current Best: 67, not feasible\n",
      "New best individual found!\n",
      "Current generation: 9, Current Best: 65, not feasible\n",
      "New best individual found!\n",
      "Current generation: 10, Current Best: 65, not feasible\n",
      "New best individual found!\n",
      "Current generation: 11, Current Best: 64, not feasible\n",
      "New best individual found!\n",
      "Current generation: 12, Current Best: 63, not feasible\n",
      "Current generation: 13, Current Best: 63, not feasible\n",
      "Current generation: 14, Current Best: 63, not feasible\n",
      "Current generation: 15, Current Best: 63, not feasible\n",
      "Current generation: 16, Current Best: 63, not feasible\n",
      "New best individual found!\n",
      "Current generation: 17, Current Best: 63, not feasible\n",
      "New best individual found!\n",
      "Current generation: 18, Current Best: 63, not feasible\n",
      "Current generation: 19, Current Best: 63, not feasible\n",
      "New best individual found!\n"
     ]
    },
    {
     "data": {
      "application/vnd.plotly.v1+json": {
       "config": {
        "plotlyServerURL": "https://plot.ly"
       },
       "data": [
        {
         "fill": "toself",
         "fillcolor": "rgb(125, 89, 128)",
         "hoverinfo": "name",
         "legendgroup": "rgb(125, 89, 128)",
         "mode": "none",
         "name": "0",
         "type": "scatter",
         "x": [
          741,
          794,
          794,
          741,
          741,
          1135,
          1179,
          1179,
          1135,
          1135,
          531,
          575,
          575,
          531,
          531,
          899,
          952,
          952,
          899
         ],
         "y": [
          0.8,
          0.8,
          1.2,
          1.2,
          null,
          0.8,
          0.8,
          1.2,
          1.2,
          null,
          0.8,
          0.8,
          1.2,
          1.2,
          null,
          0.8,
          0.8,
          1.2,
          1.2
         ]
        },
        {
         "fill": "toself",
         "fillcolor": "rgb(150, 114, 153)",
         "hoverinfo": "name",
         "legendgroup": "rgb(150, 114, 153)",
         "mode": "none",
         "name": "1",
         "type": "scatter",
         "x": [
          3718,
          3833,
          3833,
          3718,
          3718,
          4599,
          4642,
          4642,
          4599,
          4599,
          2522,
          2647,
          2647,
          2522,
          2522,
          997,
          1055,
          1055,
          997,
          997,
          1136,
          1271,
          1271,
          1136,
          1136,
          1915,
          2040,
          2040,
          1915,
          1915,
          3034,
          3169,
          3169,
          3034
         ],
         "y": [
          0.8,
          0.8,
          1.2,
          1.2,
          null,
          0.8,
          0.8,
          1.2,
          1.2,
          null,
          0.8,
          0.8,
          1.2,
          1.2,
          null,
          0.8,
          0.8,
          1.2,
          1.2,
          null,
          0.8,
          0.8,
          1.2,
          1.2,
          null,
          0.8,
          0.8,
          1.2,
          1.2,
          null,
          0.8,
          0.8,
          1.2,
          1.2
         ]
        },
        {
         "fill": "toself",
         "fillcolor": "rgb(175, 139, 178)",
         "hoverinfo": "name",
         "legendgroup": "rgb(175, 139, 178)",
         "mode": "none",
         "name": "2",
         "type": "scatter",
         "x": [
          1414,
          1458,
          1458,
          1414,
          1414,
          1082,
          1135,
          1135,
          1082,
          1082,
          1241,
          1314,
          1314,
          1241,
          1241,
          1254,
          1327,
          1327,
          1254
         ],
         "y": [
          0.8,
          0.8,
          1.2,
          1.2,
          null,
          0.8,
          0.8,
          1.2,
          1.2,
          null,
          0.8,
          0.8,
          1.2,
          1.2,
          null,
          0.8,
          0.8,
          1.2,
          1.2
         ]
        },
        {
         "fill": "toself",
         "fillcolor": "rgb(19, 239, 22)",
         "hoverinfo": "name",
         "legendgroup": "rgb(19, 239, 22)",
         "mode": "none",
         "name": "6",
         "type": "scatter",
         "x": [
          2053,
          2148,
          2148,
          2053,
          2053,
          1634,
          1709,
          1709,
          1634,
          1634,
          3019,
          3062,
          3062,
          3019,
          3019,
          3458,
          3533,
          3533,
          3458,
          3458,
          3698,
          3773,
          3773,
          3698,
          3698,
          2671,
          2746,
          2746,
          2671
         ],
         "y": [
          0.8,
          0.8,
          1.2,
          1.2,
          null,
          -0.2,
          -0.2,
          0.2,
          0.2,
          null,
          -0.2,
          -0.2,
          0.2,
          0.2,
          null,
          -0.2,
          -0.2,
          0.2,
          0.2,
          null,
          -0.2,
          -0.2,
          0.2,
          0.2,
          null,
          -0.2,
          -0.2,
          0.2,
          0.2
         ]
        },
        {
         "fill": "toself",
         "fillcolor": "rgb(200, 164, 203)",
         "hoverinfo": "name",
         "legendgroup": "rgb(200, 164, 203)",
         "mode": "none",
         "name": "3",
         "type": "scatter",
         "x": [
          326,
          409,
          409,
          326,
          326,
          4176,
          4263,
          4263,
          4176,
          4176,
          210,
          253,
          253,
          210,
          210,
          4673,
          4760,
          4760,
          4673,
          4673,
          3194,
          3269,
          3269,
          3194,
          3194,
          3715,
          3802,
          3802,
          3715
         ],
         "y": [
          0.8,
          0.8,
          1.2,
          1.2,
          null,
          -0.2,
          -0.2,
          0.2,
          0.2,
          null,
          -0.2,
          -0.2,
          0.2,
          0.2,
          null,
          -0.2,
          -0.2,
          0.2,
          0.2,
          null,
          -0.2,
          -0.2,
          0.2,
          0.2,
          null,
          -0.2,
          -0.2,
          0.2,
          0.2
         ]
        },
        {
         "fill": "toself",
         "fillcolor": "rgb(225, 189, 228)",
         "hoverinfo": "name",
         "legendgroup": "rgb(225, 189, 228)",
         "mode": "none",
         "name": "4",
         "type": "scatter",
         "x": [
          975,
          1019,
          1019,
          975,
          975,
          258,
          331,
          331,
          258,
          258,
          2083,
          2156,
          2156,
          2083,
          2083,
          396,
          449,
          449,
          396
         ],
         "y": [
          0.8,
          0.8,
          1.2,
          1.2,
          null,
          0.8,
          0.8,
          1.2,
          1.2,
          null,
          0.8,
          0.8,
          1.2,
          1.2,
          null,
          0.8,
          0.8,
          1.2,
          1.2
         ]
        },
        {
         "fill": "toself",
         "fillcolor": "rgb(250, 214, 253)",
         "hoverinfo": "name",
         "legendgroup": "rgb(250, 214, 253)",
         "mode": "none",
         "name": "5",
         "type": "scatter",
         "x": [
          2139,
          2264,
          2264,
          2139,
          2139,
          602,
          717,
          717,
          602,
          602,
          2279,
          2340,
          2340,
          2279,
          2279,
          3951,
          3994,
          3994,
          3951,
          3951,
          3990,
          4051,
          4051,
          3990,
          3990,
          3506,
          3564,
          3564,
          3506,
          3506,
          3535,
          3670,
          3670,
          3535
         ],
         "y": [
          0.8,
          0.8,
          1.2,
          1.2,
          null,
          0.8,
          0.8,
          1.2,
          1.2,
          null,
          0.8,
          0.8,
          1.2,
          1.2,
          null,
          0.8,
          0.8,
          1.2,
          1.2,
          null,
          0.8,
          0.8,
          1.2,
          1.2,
          null,
          0.8,
          0.8,
          1.2,
          1.2,
          null,
          0.8,
          0.8,
          1.2,
          1.2
         ]
        },
        {
         "fill": "toself",
         "fillcolor": "rgb(44, 8, 47)",
         "hoverinfo": "name",
         "legendgroup": "rgb(44, 8, 47)",
         "mode": "none",
         "name": "7",
         "type": "scatter",
         "x": [
          1572,
          1667,
          1667,
          1572,
          1572,
          2017,
          2112,
          2112,
          2017,
          2017,
          1121,
          1216,
          1216,
          1121,
          1121,
          2565,
          2648,
          2648,
          2565,
          2565,
          2812,
          2887,
          2887,
          2812,
          2812,
          607,
          694,
          694,
          607
         ],
         "y": [
          0.8,
          0.8,
          1.2,
          1.2,
          null,
          0.8,
          0.8,
          1.2,
          1.2,
          null,
          0.8,
          0.8,
          1.2,
          1.2,
          null,
          0.8,
          0.8,
          1.2,
          1.2,
          null,
          -0.2,
          -0.2,
          0.2,
          0.2,
          null,
          -0.2,
          -0.2,
          0.2,
          0.2
         ]
        },
        {
         "fill": "toself",
         "fillcolor": "rgb(69, 33, 72)",
         "hoverinfo": "name",
         "legendgroup": "rgb(69, 33, 72)",
         "mode": "none",
         "name": "8",
         "type": "scatter",
         "x": [
          636,
          771,
          771,
          636,
          636,
          237,
          298,
          298,
          237,
          237,
          3113,
          3248,
          3248,
          3113,
          3113,
          2342,
          2400,
          2400,
          2342,
          2342,
          2628,
          2763,
          2763,
          2628,
          2628,
          2395,
          2510,
          2510,
          2395,
          2395,
          1318,
          1376,
          1376,
          1318
         ],
         "y": [
          0.8,
          0.8,
          1.2,
          1.2,
          null,
          0.8,
          0.8,
          1.2,
          1.2,
          null,
          0.8,
          0.8,
          1.2,
          1.2,
          null,
          0.8,
          0.8,
          1.2,
          1.2,
          null,
          0.8,
          0.8,
          1.2,
          1.2,
          null,
          0.8,
          0.8,
          1.2,
          1.2,
          null,
          0.8,
          0.8,
          1.2,
          1.2
         ]
        },
        {
         "fill": "toself",
         "fillcolor": "rgb(94, 58, 97)",
         "hoverinfo": "name",
         "legendgroup": "rgb(94, 58, 97)",
         "mode": "none",
         "name": "9",
         "type": "scatter",
         "x": [
          1023,
          1066,
          1066,
          1023,
          1023,
          1521,
          1656,
          1656,
          1521,
          1521,
          756,
          896,
          896,
          756,
          756,
          1564,
          1699,
          1699,
          1564,
          1564,
          241,
          366,
          366,
          241,
          241,
          2264,
          2325,
          2325,
          2264,
          2264,
          1051,
          1186,
          1186,
          1051
         ],
         "y": [
          0.8,
          0.8,
          1.2,
          1.2,
          null,
          0.8,
          0.8,
          1.2,
          1.2,
          null,
          0.8,
          0.8,
          1.2,
          1.2,
          null,
          0.8,
          0.8,
          1.2,
          1.2,
          null,
          0.8,
          0.8,
          1.2,
          1.2,
          null,
          0.8,
          0.8,
          1.2,
          1.2,
          null,
          0.8,
          0.8,
          1.2,
          1.2
         ]
        },
        {
         "legendgroup": "rgb(125, 89, 128)",
         "marker": {
          "color": "rgb(125, 89, 128)",
          "opacity": 0,
          "size": 1
         },
         "mode": "markers",
         "name": "",
         "showlegend": false,
         "text": [
          null,
          null,
          null,
          null,
          null,
          null,
          null,
          null
         ],
         "type": "scatter",
         "x": [
          741,
          794,
          1135,
          1179,
          531,
          575,
          899,
          952
         ],
         "y": [
          1,
          1,
          1,
          1,
          1,
          1,
          1,
          1
         ]
        },
        {
         "legendgroup": "rgb(150, 114, 153)",
         "marker": {
          "color": "rgb(150, 114, 153)",
          "opacity": 0,
          "size": 1
         },
         "mode": "markers",
         "name": "",
         "showlegend": false,
         "text": [
          null,
          null,
          null,
          null,
          null,
          null,
          null,
          null,
          null,
          null,
          null,
          null,
          null,
          null
         ],
         "type": "scatter",
         "x": [
          3718,
          3833,
          4599,
          4642,
          2522,
          2647,
          997,
          1055,
          1136,
          1271,
          1915,
          2040,
          3034,
          3169
         ],
         "y": [
          1,
          1,
          1,
          1,
          1,
          1,
          1,
          1,
          1,
          1,
          1,
          1,
          1,
          1
         ]
        },
        {
         "legendgroup": "rgb(175, 139, 178)",
         "marker": {
          "color": "rgb(175, 139, 178)",
          "opacity": 0,
          "size": 1
         },
         "mode": "markers",
         "name": "",
         "showlegend": false,
         "text": [
          null,
          null,
          null,
          null,
          null,
          null,
          null,
          null
         ],
         "type": "scatter",
         "x": [
          1414,
          1458,
          1082,
          1135,
          1241,
          1314,
          1254,
          1327
         ],
         "y": [
          1,
          1,
          1,
          1,
          1,
          1,
          1,
          1
         ]
        },
        {
         "legendgroup": "rgb(19, 239, 22)",
         "marker": {
          "color": "rgb(19, 239, 22)",
          "opacity": 0,
          "size": 1
         },
         "mode": "markers",
         "name": "",
         "showlegend": false,
         "text": [
          null,
          null,
          null,
          null,
          null,
          null,
          null,
          null,
          null,
          null,
          null,
          null
         ],
         "type": "scatter",
         "x": [
          2053,
          2148,
          1634,
          1709,
          3019,
          3062,
          3458,
          3533,
          3698,
          3773,
          2671,
          2746
         ],
         "y": [
          1,
          1,
          0,
          0,
          0,
          0,
          0,
          0,
          0,
          0,
          0,
          0
         ]
        },
        {
         "legendgroup": "rgb(200, 164, 203)",
         "marker": {
          "color": "rgb(200, 164, 203)",
          "opacity": 0,
          "size": 1
         },
         "mode": "markers",
         "name": "",
         "showlegend": false,
         "text": [
          null,
          null,
          null,
          null,
          null,
          null,
          null,
          null,
          null,
          null,
          null,
          null
         ],
         "type": "scatter",
         "x": [
          326,
          409,
          4176,
          4263,
          210,
          253,
          4673,
          4760,
          3194,
          3269,
          3715,
          3802
         ],
         "y": [
          1,
          1,
          0,
          0,
          0,
          0,
          0,
          0,
          0,
          0,
          0,
          0
         ]
        },
        {
         "legendgroup": "rgb(225, 189, 228)",
         "marker": {
          "color": "rgb(225, 189, 228)",
          "opacity": 0,
          "size": 1
         },
         "mode": "markers",
         "name": "",
         "showlegend": false,
         "text": [
          null,
          null,
          null,
          null,
          null,
          null,
          null,
          null
         ],
         "type": "scatter",
         "x": [
          975,
          1019,
          258,
          331,
          2083,
          2156,
          396,
          449
         ],
         "y": [
          1,
          1,
          1,
          1,
          1,
          1,
          1,
          1
         ]
        },
        {
         "legendgroup": "rgb(250, 214, 253)",
         "marker": {
          "color": "rgb(250, 214, 253)",
          "opacity": 0,
          "size": 1
         },
         "mode": "markers",
         "name": "",
         "showlegend": false,
         "text": [
          null,
          null,
          null,
          null,
          null,
          null,
          null,
          null,
          null,
          null,
          null,
          null,
          null,
          null
         ],
         "type": "scatter",
         "x": [
          2139,
          2264,
          602,
          717,
          2279,
          2340,
          3951,
          3994,
          3990,
          4051,
          3506,
          3564,
          3535,
          3670
         ],
         "y": [
          1,
          1,
          1,
          1,
          1,
          1,
          1,
          1,
          1,
          1,
          1,
          1,
          1,
          1
         ]
        },
        {
         "legendgroup": "rgb(44, 8, 47)",
         "marker": {
          "color": "rgb(44, 8, 47)",
          "opacity": 0,
          "size": 1
         },
         "mode": "markers",
         "name": "",
         "showlegend": false,
         "text": [
          null,
          null,
          null,
          null,
          null,
          null,
          null,
          null,
          null,
          null,
          null,
          null
         ],
         "type": "scatter",
         "x": [
          1572,
          1667,
          2017,
          2112,
          1121,
          1216,
          2565,
          2648,
          2812,
          2887,
          607,
          694
         ],
         "y": [
          1,
          1,
          1,
          1,
          1,
          1,
          1,
          1,
          0,
          0,
          0,
          0
         ]
        },
        {
         "legendgroup": "rgb(69, 33, 72)",
         "marker": {
          "color": "rgb(69, 33, 72)",
          "opacity": 0,
          "size": 1
         },
         "mode": "markers",
         "name": "",
         "showlegend": false,
         "text": [
          null,
          null,
          null,
          null,
          null,
          null,
          null,
          null,
          null,
          null,
          null,
          null,
          null,
          null
         ],
         "type": "scatter",
         "x": [
          636,
          771,
          237,
          298,
          3113,
          3248,
          2342,
          2400,
          2628,
          2763,
          2395,
          2510,
          1318,
          1376
         ],
         "y": [
          1,
          1,
          1,
          1,
          1,
          1,
          1,
          1,
          1,
          1,
          1,
          1,
          1,
          1
         ]
        },
        {
         "legendgroup": "rgb(94, 58, 97)",
         "marker": {
          "color": "rgb(94, 58, 97)",
          "opacity": 0,
          "size": 1
         },
         "mode": "markers",
         "name": "",
         "showlegend": false,
         "text": [
          null,
          null,
          null,
          null,
          null,
          null,
          null,
          null,
          null,
          null,
          null,
          null,
          null,
          null
         ],
         "type": "scatter",
         "x": [
          1023,
          1066,
          1521,
          1656,
          756,
          896,
          1564,
          1699,
          241,
          366,
          2264,
          2325,
          1051,
          1186
         ],
         "y": [
          1,
          1,
          1,
          1,
          1,
          1,
          1,
          1,
          1,
          1,
          1,
          1,
          1,
          1
         ]
        }
       ],
       "layout": {
        "height": 600,
        "hovermode": "closest",
        "showlegend": true,
        "template": {
         "data": {
          "bar": [
           {
            "error_x": {
             "color": "#2a3f5f"
            },
            "error_y": {
             "color": "#2a3f5f"
            },
            "marker": {
             "line": {
              "color": "#E5ECF6",
              "width": 0.5
             },
             "pattern": {
              "fillmode": "overlay",
              "size": 10,
              "solidity": 0.2
             }
            },
            "type": "bar"
           }
          ],
          "barpolar": [
           {
            "marker": {
             "line": {
              "color": "#E5ECF6",
              "width": 0.5
             },
             "pattern": {
              "fillmode": "overlay",
              "size": 10,
              "solidity": 0.2
             }
            },
            "type": "barpolar"
           }
          ],
          "carpet": [
           {
            "aaxis": {
             "endlinecolor": "#2a3f5f",
             "gridcolor": "white",
             "linecolor": "white",
             "minorgridcolor": "white",
             "startlinecolor": "#2a3f5f"
            },
            "baxis": {
             "endlinecolor": "#2a3f5f",
             "gridcolor": "white",
             "linecolor": "white",
             "minorgridcolor": "white",
             "startlinecolor": "#2a3f5f"
            },
            "type": "carpet"
           }
          ],
          "choropleth": [
           {
            "colorbar": {
             "outlinewidth": 0,
             "ticks": ""
            },
            "type": "choropleth"
           }
          ],
          "contour": [
           {
            "colorbar": {
             "outlinewidth": 0,
             "ticks": ""
            },
            "colorscale": [
             [
              0,
              "#0d0887"
             ],
             [
              0.1111111111111111,
              "#46039f"
             ],
             [
              0.2222222222222222,
              "#7201a8"
             ],
             [
              0.3333333333333333,
              "#9c179e"
             ],
             [
              0.4444444444444444,
              "#bd3786"
             ],
             [
              0.5555555555555556,
              "#d8576b"
             ],
             [
              0.6666666666666666,
              "#ed7953"
             ],
             [
              0.7777777777777778,
              "#fb9f3a"
             ],
             [
              0.8888888888888888,
              "#fdca26"
             ],
             [
              1,
              "#f0f921"
             ]
            ],
            "type": "contour"
           }
          ],
          "contourcarpet": [
           {
            "colorbar": {
             "outlinewidth": 0,
             "ticks": ""
            },
            "type": "contourcarpet"
           }
          ],
          "heatmap": [
           {
            "colorbar": {
             "outlinewidth": 0,
             "ticks": ""
            },
            "colorscale": [
             [
              0,
              "#0d0887"
             ],
             [
              0.1111111111111111,
              "#46039f"
             ],
             [
              0.2222222222222222,
              "#7201a8"
             ],
             [
              0.3333333333333333,
              "#9c179e"
             ],
             [
              0.4444444444444444,
              "#bd3786"
             ],
             [
              0.5555555555555556,
              "#d8576b"
             ],
             [
              0.6666666666666666,
              "#ed7953"
             ],
             [
              0.7777777777777778,
              "#fb9f3a"
             ],
             [
              0.8888888888888888,
              "#fdca26"
             ],
             [
              1,
              "#f0f921"
             ]
            ],
            "type": "heatmap"
           }
          ],
          "heatmapgl": [
           {
            "colorbar": {
             "outlinewidth": 0,
             "ticks": ""
            },
            "colorscale": [
             [
              0,
              "#0d0887"
             ],
             [
              0.1111111111111111,
              "#46039f"
             ],
             [
              0.2222222222222222,
              "#7201a8"
             ],
             [
              0.3333333333333333,
              "#9c179e"
             ],
             [
              0.4444444444444444,
              "#bd3786"
             ],
             [
              0.5555555555555556,
              "#d8576b"
             ],
             [
              0.6666666666666666,
              "#ed7953"
             ],
             [
              0.7777777777777778,
              "#fb9f3a"
             ],
             [
              0.8888888888888888,
              "#fdca26"
             ],
             [
              1,
              "#f0f921"
             ]
            ],
            "type": "heatmapgl"
           }
          ],
          "histogram": [
           {
            "marker": {
             "pattern": {
              "fillmode": "overlay",
              "size": 10,
              "solidity": 0.2
             }
            },
            "type": "histogram"
           }
          ],
          "histogram2d": [
           {
            "colorbar": {
             "outlinewidth": 0,
             "ticks": ""
            },
            "colorscale": [
             [
              0,
              "#0d0887"
             ],
             [
              0.1111111111111111,
              "#46039f"
             ],
             [
              0.2222222222222222,
              "#7201a8"
             ],
             [
              0.3333333333333333,
              "#9c179e"
             ],
             [
              0.4444444444444444,
              "#bd3786"
             ],
             [
              0.5555555555555556,
              "#d8576b"
             ],
             [
              0.6666666666666666,
              "#ed7953"
             ],
             [
              0.7777777777777778,
              "#fb9f3a"
             ],
             [
              0.8888888888888888,
              "#fdca26"
             ],
             [
              1,
              "#f0f921"
             ]
            ],
            "type": "histogram2d"
           }
          ],
          "histogram2dcontour": [
           {
            "colorbar": {
             "outlinewidth": 0,
             "ticks": ""
            },
            "colorscale": [
             [
              0,
              "#0d0887"
             ],
             [
              0.1111111111111111,
              "#46039f"
             ],
             [
              0.2222222222222222,
              "#7201a8"
             ],
             [
              0.3333333333333333,
              "#9c179e"
             ],
             [
              0.4444444444444444,
              "#bd3786"
             ],
             [
              0.5555555555555556,
              "#d8576b"
             ],
             [
              0.6666666666666666,
              "#ed7953"
             ],
             [
              0.7777777777777778,
              "#fb9f3a"
             ],
             [
              0.8888888888888888,
              "#fdca26"
             ],
             [
              1,
              "#f0f921"
             ]
            ],
            "type": "histogram2dcontour"
           }
          ],
          "mesh3d": [
           {
            "colorbar": {
             "outlinewidth": 0,
             "ticks": ""
            },
            "type": "mesh3d"
           }
          ],
          "parcoords": [
           {
            "line": {
             "colorbar": {
              "outlinewidth": 0,
              "ticks": ""
             }
            },
            "type": "parcoords"
           }
          ],
          "pie": [
           {
            "automargin": true,
            "type": "pie"
           }
          ],
          "scatter": [
           {
            "marker": {
             "colorbar": {
              "outlinewidth": 0,
              "ticks": ""
             }
            },
            "type": "scatter"
           }
          ],
          "scatter3d": [
           {
            "line": {
             "colorbar": {
              "outlinewidth": 0,
              "ticks": ""
             }
            },
            "marker": {
             "colorbar": {
              "outlinewidth": 0,
              "ticks": ""
             }
            },
            "type": "scatter3d"
           }
          ],
          "scattercarpet": [
           {
            "marker": {
             "colorbar": {
              "outlinewidth": 0,
              "ticks": ""
             }
            },
            "type": "scattercarpet"
           }
          ],
          "scattergeo": [
           {
            "marker": {
             "colorbar": {
              "outlinewidth": 0,
              "ticks": ""
             }
            },
            "type": "scattergeo"
           }
          ],
          "scattergl": [
           {
            "marker": {
             "colorbar": {
              "outlinewidth": 0,
              "ticks": ""
             }
            },
            "type": "scattergl"
           }
          ],
          "scattermapbox": [
           {
            "marker": {
             "colorbar": {
              "outlinewidth": 0,
              "ticks": ""
             }
            },
            "type": "scattermapbox"
           }
          ],
          "scatterpolar": [
           {
            "marker": {
             "colorbar": {
              "outlinewidth": 0,
              "ticks": ""
             }
            },
            "type": "scatterpolar"
           }
          ],
          "scatterpolargl": [
           {
            "marker": {
             "colorbar": {
              "outlinewidth": 0,
              "ticks": ""
             }
            },
            "type": "scatterpolargl"
           }
          ],
          "scatterternary": [
           {
            "marker": {
             "colorbar": {
              "outlinewidth": 0,
              "ticks": ""
             }
            },
            "type": "scatterternary"
           }
          ],
          "surface": [
           {
            "colorbar": {
             "outlinewidth": 0,
             "ticks": ""
            },
            "colorscale": [
             [
              0,
              "#0d0887"
             ],
             [
              0.1111111111111111,
              "#46039f"
             ],
             [
              0.2222222222222222,
              "#7201a8"
             ],
             [
              0.3333333333333333,
              "#9c179e"
             ],
             [
              0.4444444444444444,
              "#bd3786"
             ],
             [
              0.5555555555555556,
              "#d8576b"
             ],
             [
              0.6666666666666666,
              "#ed7953"
             ],
             [
              0.7777777777777778,
              "#fb9f3a"
             ],
             [
              0.8888888888888888,
              "#fdca26"
             ],
             [
              1,
              "#f0f921"
             ]
            ],
            "type": "surface"
           }
          ],
          "table": [
           {
            "cells": {
             "fill": {
              "color": "#EBF0F8"
             },
             "line": {
              "color": "white"
             }
            },
            "header": {
             "fill": {
              "color": "#C8D4E3"
             },
             "line": {
              "color": "white"
             }
            },
            "type": "table"
           }
          ]
         },
         "layout": {
          "annotationdefaults": {
           "arrowcolor": "#2a3f5f",
           "arrowhead": 0,
           "arrowwidth": 1
          },
          "autotypenumbers": "strict",
          "coloraxis": {
           "colorbar": {
            "outlinewidth": 0,
            "ticks": ""
           }
          },
          "colorscale": {
           "diverging": [
            [
             0,
             "#8e0152"
            ],
            [
             0.1,
             "#c51b7d"
            ],
            [
             0.2,
             "#de77ae"
            ],
            [
             0.3,
             "#f1b6da"
            ],
            [
             0.4,
             "#fde0ef"
            ],
            [
             0.5,
             "#f7f7f7"
            ],
            [
             0.6,
             "#e6f5d0"
            ],
            [
             0.7,
             "#b8e186"
            ],
            [
             0.8,
             "#7fbc41"
            ],
            [
             0.9,
             "#4d9221"
            ],
            [
             1,
             "#276419"
            ]
           ],
           "sequential": [
            [
             0,
             "#0d0887"
            ],
            [
             0.1111111111111111,
             "#46039f"
            ],
            [
             0.2222222222222222,
             "#7201a8"
            ],
            [
             0.3333333333333333,
             "#9c179e"
            ],
            [
             0.4444444444444444,
             "#bd3786"
            ],
            [
             0.5555555555555556,
             "#d8576b"
            ],
            [
             0.6666666666666666,
             "#ed7953"
            ],
            [
             0.7777777777777778,
             "#fb9f3a"
            ],
            [
             0.8888888888888888,
             "#fdca26"
            ],
            [
             1,
             "#f0f921"
            ]
           ],
           "sequentialminus": [
            [
             0,
             "#0d0887"
            ],
            [
             0.1111111111111111,
             "#46039f"
            ],
            [
             0.2222222222222222,
             "#7201a8"
            ],
            [
             0.3333333333333333,
             "#9c179e"
            ],
            [
             0.4444444444444444,
             "#bd3786"
            ],
            [
             0.5555555555555556,
             "#d8576b"
            ],
            [
             0.6666666666666666,
             "#ed7953"
            ],
            [
             0.7777777777777778,
             "#fb9f3a"
            ],
            [
             0.8888888888888888,
             "#fdca26"
            ],
            [
             1,
             "#f0f921"
            ]
           ]
          },
          "colorway": [
           "#636efa",
           "#EF553B",
           "#00cc96",
           "#ab63fa",
           "#FFA15A",
           "#19d3f3",
           "#FF6692",
           "#B6E880",
           "#FF97FF",
           "#FECB52"
          ],
          "font": {
           "color": "#2a3f5f"
          },
          "geo": {
           "bgcolor": "white",
           "lakecolor": "white",
           "landcolor": "#E5ECF6",
           "showlakes": true,
           "showland": true,
           "subunitcolor": "white"
          },
          "hoverlabel": {
           "align": "left"
          },
          "hovermode": "closest",
          "mapbox": {
           "style": "light"
          },
          "paper_bgcolor": "white",
          "plot_bgcolor": "#E5ECF6",
          "polar": {
           "angularaxis": {
            "gridcolor": "white",
            "linecolor": "white",
            "ticks": ""
           },
           "bgcolor": "#E5ECF6",
           "radialaxis": {
            "gridcolor": "white",
            "linecolor": "white",
            "ticks": ""
           }
          },
          "scene": {
           "xaxis": {
            "backgroundcolor": "#E5ECF6",
            "gridcolor": "white",
            "gridwidth": 2,
            "linecolor": "white",
            "showbackground": true,
            "ticks": "",
            "zerolinecolor": "white"
           },
           "yaxis": {
            "backgroundcolor": "#E5ECF6",
            "gridcolor": "white",
            "gridwidth": 2,
            "linecolor": "white",
            "showbackground": true,
            "ticks": "",
            "zerolinecolor": "white"
           },
           "zaxis": {
            "backgroundcolor": "#E5ECF6",
            "gridcolor": "white",
            "gridwidth": 2,
            "linecolor": "white",
            "showbackground": true,
            "ticks": "",
            "zerolinecolor": "white"
           }
          },
          "shapedefaults": {
           "line": {
            "color": "#2a3f5f"
           }
          },
          "ternary": {
           "aaxis": {
            "gridcolor": "white",
            "linecolor": "white",
            "ticks": ""
           },
           "baxis": {
            "gridcolor": "white",
            "linecolor": "white",
            "ticks": ""
           },
           "bgcolor": "#E5ECF6",
           "caxis": {
            "gridcolor": "white",
            "linecolor": "white",
            "ticks": ""
           }
          },
          "title": {
           "x": 0.05
          },
          "xaxis": {
           "automargin": true,
           "gridcolor": "white",
           "linecolor": "white",
           "ticks": "",
           "title": {
            "standoff": 15
           },
           "zerolinecolor": "white",
           "zerolinewidth": 2
          },
          "yaxis": {
           "automargin": true,
           "gridcolor": "white",
           "linecolor": "white",
           "ticks": "",
           "title": {
            "standoff": 15
           },
           "zerolinecolor": "white",
           "zerolinewidth": 2
          }
         }
        },
        "title": {
         "text": "Gantt Chart"
        },
        "xaxis": {
         "rangeselector": {
          "buttons": [
           {
            "count": 7,
            "label": "1w",
            "step": "day",
            "stepmode": "backward"
           },
           {
            "count": 1,
            "label": "1m",
            "step": "month",
            "stepmode": "backward"
           },
           {
            "count": 6,
            "label": "6m",
            "step": "month",
            "stepmode": "backward"
           },
           {
            "count": 1,
            "label": "YTD",
            "step": "year",
            "stepmode": "todate"
           },
           {
            "count": 1,
            "label": "1y",
            "step": "year",
            "stepmode": "backward"
           },
           {
            "step": "all"
           }
          ]
         },
         "showgrid": false,
         "type": "date",
         "zeroline": false
        },
        "yaxis": {
         "autorange": false,
         "range": [
          -1,
          3
         ],
         "showgrid": false,
         "ticktext": [
          "w1",
          "w2"
         ],
         "tickvals": [
          0,
          1
         ],
         "zeroline": false
        }
       }
      }
     },
     "metadata": {},
     "output_type": "display_data"
    },
    {
     "data": {
      "image/png": "[encoded data removed]",
      "text/plain": [
       "<Figure size 432x288 with 1 Axes>"
      ]
     },
     "metadata": {
      "needs_background": "light"
     },
     "output_type": "display_data"
    }
   ],
   "source": [
    "optimizer = BaseGA(env)\n",
    "optimizer.set_minimize()\n",
    "# optional (in this case, all options given are the default option, if the configuration step is skipped)\n",
    "optimizer.configure('tardiness', 'onepointcrossover', 'roulettewheel', 'randomize')\n",
    "# choose an input generator (optional) -> decides how the data gets converted into the optimizer format\n",
    "# optimizer.set_input_generator('SameLengthAlternativesGenerator')\n",
    "# all parameters after offspring_amount are optional (in this case -> verbose=True)\n",
    "result, best_fitness_history, average_fitness_history, best_generation_history, feasible_gen = optimizer.optimize(orders, max_generations, earliest_time_slot, last_time_slot, population_size, offspring_amount, verbose=True)\n",
    "workstation_assignments = reformat_result(result, orders, env)\n",
    "visualize(workstation_assignments, best_fitness_history, average_fitness_history, best_generation_history, feasible_gen)"
   ]
  },
  {
   "cell_type": "markdown",
   "metadata": {},
   "source": [
    "Config 2 - Test with Two Point Crossover"
   ]
  },
  {
   "cell_type": "code",
   "execution_count": 6,
   "metadata": {},
   "outputs": [
    {
     "name": "stdout",
     "output_type": "stream",
     "text": [
      "Current generation: 0, Current Best: 78, not feasible\n",
      "Current generation: 1, Current Best: 78, not feasible\n",
      "New best individual found!\n",
      "Current generation: 2, Current Best: 76, not feasible\n",
      "Current generation: 3, Current Best: 77, not feasible\n",
      "New best individual found!\n",
      "Current generation: 4, Current Best: 75, not feasible\n",
      "New best individual found!\n",
      "Current generation: 5, Current Best: 74, not feasible\n",
      "New best individual found!\n",
      "Current generation: 6, Current Best: 73, not feasible\n",
      "New best individual found!\n",
      "Current generation: 7, Current Best: 72, not feasible\n",
      "New best individual found!\n",
      "Current generation: 8, Current Best: 72, not feasible\n",
      "New best individual found!\n",
      "Current generation: 9, Current Best: 70, not feasible\n",
      "Current generation: 10, Current Best: 70, not feasible\n",
      "New best individual found!\n",
      "Current generation: 11, Current Best: 69, not feasible\n",
      "Current generation: 12, Current Best: 69, not feasible\n",
      "New best individual found!\n",
      "Current generation: 13, Current Best: 68, not feasible\n",
      "Current generation: 14, Current Best: 68, not feasible\n",
      "New best individual found!\n",
      "Current generation: 15, Current Best: 67, not feasible\n",
      "Current generation: 16, Current Best: 67, not feasible\n",
      "New best individual found!\n",
      "Current generation: 17, Current Best: 67, not feasible\n",
      "Current generation: 18, Current Best: 67, not feasible\n",
      "New best individual found!\n",
      "Current generation: 19, Current Best: 66, not feasible\n"
     ]
    },
    {
     "data": {
      "application/vnd.plotly.v1+json": {
       "config": {
        "plotlyServerURL": "https://plot.ly"
       },
       "data": [
        {
         "fill": "toself",
         "fillcolor": "rgb(120, 67, 232)",
         "hoverinfo": "name",
         "legendgroup": "rgb(120, 67, 232)",
         "mode": "none",
         "name": "6",
         "type": "scatter",
         "x": [
          2126,
          2209,
          2209,
          2126,
          2126,
          2323,
          2410,
          2410,
          2323,
          2323,
          2240,
          2315,
          2315,
          2240,
          2240,
          2527,
          2602,
          2602,
          2527,
          2527,
          2746,
          2789,
          2789,
          2746,
          2746,
          3654,
          3729,
          3729,
          3654
         ],
         "y": [
          0.8,
          0.8,
          1.2,
          1.2,
          null,
          -0.2,
          -0.2,
          0.2,
          0.2,
          null,
          -0.2,
          -0.2,
          0.2,
          0.2,
          null,
          -0.2,
          -0.2,
          0.2,
          0.2,
          null,
          -0.2,
          -0.2,
          0.2,
          0.2,
          null,
          -0.2,
          -0.2,
          0.2,
          0.2
         ]
        },
        {
         "fill": "toself",
         "fillcolor": "rgb(145, 92, 1)",
         "hoverinfo": "name",
         "legendgroup": "rgb(145, 92, 1)",
         "mode": "none",
         "name": "7",
         "type": "scatter",
         "x": [
          1739,
          1822,
          1822,
          1739,
          1739,
          2933,
          3016,
          3016,
          2933,
          2933,
          823,
          910,
          910,
          823,
          823,
          740,
          827,
          827,
          740,
          740,
          791,
          834,
          834,
          791,
          791,
          3906,
          3941,
          3941,
          3906
         ],
         "y": [
          0.8,
          0.8,
          1.2,
          1.2,
          null,
          0.8,
          0.8,
          1.2,
          1.2,
          null,
          -0.2,
          -0.2,
          0.2,
          0.2,
          null,
          -0.2,
          -0.2,
          0.2,
          0.2,
          null,
          -0.2,
          -0.2,
          0.2,
          0.2,
          null,
          -0.2,
          -0.2,
          0.2,
          0.2
         ]
        },
        {
         "fill": "toself",
         "fillcolor": "rgb(170, 117, 26)",
         "hoverinfo": "name",
         "legendgroup": "rgb(170, 117, 26)",
         "mode": "none",
         "name": "8",
         "type": "scatter",
         "x": [
          1746,
          1881,
          1881,
          1746,
          1746,
          2703,
          2838,
          2838,
          2703,
          2703,
          1066,
          1191,
          1191,
          1066,
          1066,
          988,
          1113,
          1113,
          988,
          988,
          882,
          943,
          943,
          882,
          882,
          1138,
          1199,
          1199,
          1138,
          1138,
          3231,
          3356,
          3356,
          3231
         ],
         "y": [
          0.8,
          0.8,
          1.2,
          1.2,
          null,
          0.8,
          0.8,
          1.2,
          1.2,
          null,
          0.8,
          0.8,
          1.2,
          1.2,
          null,
          0.8,
          0.8,
          1.2,
          1.2,
          null,
          0.8,
          0.8,
          1.2,
          1.2,
          null,
          0.8,
          0.8,
          1.2,
          1.2,
          null,
          0.8,
          0.8,
          1.2,
          1.2
         ]
        },
        {
         "fill": "toself",
         "fillcolor": "rgb(195, 142, 51)",
         "hoverinfo": "name",
         "legendgroup": "rgb(195, 142, 51)",
         "mode": "none",
         "name": "9",
         "type": "scatter",
         "x": [
          1218,
          1333,
          1333,
          1218,
          1218,
          1726,
          1861,
          1861,
          1726,
          1726,
          225,
          350,
          350,
          225,
          225,
          1100,
          1161,
          1161,
          1100,
          1100,
          1912,
          1955,
          1955,
          1912,
          1912,
          1980,
          2095,
          2095,
          1980,
          1980,
          595,
          653,
          653,
          595
         ],
         "y": [
          0.8,
          0.8,
          1.2,
          1.2,
          null,
          0.8,
          0.8,
          1.2,
          1.2,
          null,
          0.8,
          0.8,
          1.2,
          1.2,
          null,
          0.8,
          0.8,
          1.2,
          1.2,
          null,
          0.8,
          0.8,
          1.2,
          1.2,
          null,
          0.8,
          0.8,
          1.2,
          1.2,
          null,
          0.8,
          0.8,
          1.2,
          1.2
         ]
        },
        {
         "fill": "toself",
         "fillcolor": "rgb(20, 223, 132)",
         "hoverinfo": "name",
         "legendgroup": "rgb(20, 223, 132)",
         "mode": "none",
         "name": "2",
         "type": "scatter",
         "x": [
          1681,
          1725,
          1725,
          1681,
          1681,
          2501,
          2574,
          2574,
          2501,
          2501,
          2179,
          2223,
          2223,
          2179,
          2179,
          372,
          416,
          416,
          372
         ],
         "y": [
          0.8,
          0.8,
          1.2,
          1.2,
          null,
          0.8,
          0.8,
          1.2,
          1.2,
          null,
          0.8,
          0.8,
          1.2,
          1.2,
          null,
          0.8,
          0.8,
          1.2,
          1.2
         ]
        },
        {
         "fill": "toself",
         "fillcolor": "rgb(226, 173, 82)",
         "hoverinfo": "name",
         "legendgroup": "rgb(226, 173, 82)",
         "mode": "none",
         "name": "0",
         "type": "scatter",
         "x": [
          3083,
          3146,
          3146,
          3083,
          3083,
          651,
          714,
          714,
          651,
          651,
          4599,
          4652,
          4652,
          4599,
          4599,
          3271,
          3315,
          3315,
          3271
         ],
         "y": [
          0.8,
          0.8,
          1.2,
          1.2,
          null,
          0.8,
          0.8,
          1.2,
          1.2,
          null,
          0.8,
          0.8,
          1.2,
          1.2,
          null,
          0.8,
          0.8,
          1.2,
          1.2
         ]
        },
        {
         "fill": "toself",
         "fillcolor": "rgb(251, 198, 107)",
         "hoverinfo": "name",
         "legendgroup": "rgb(251, 198, 107)",
         "mode": "none",
         "name": "1",
         "type": "scatter",
         "x": [
          2288,
          2423,
          2423,
          2288,
          2288,
          225,
          286,
          286,
          225,
          225,
          4136,
          4179,
          4179,
          4136,
          4136,
          4083,
          4218,
          4218,
          4083,
          4083,
          1835,
          1950,
          1950,
          1835,
          1835,
          3252,
          3295,
          3295,
          3252,
          3252,
          3010,
          3068,
          3068,
          3010
         ],
         "y": [
          0.8,
          0.8,
          1.2,
          1.2,
          null,
          0.8,
          0.8,
          1.2,
          1.2,
          null,
          0.8,
          0.8,
          1.2,
          1.2,
          null,
          0.8,
          0.8,
          1.2,
          1.2,
          null,
          0.8,
          0.8,
          1.2,
          1.2,
          null,
          0.8,
          0.8,
          1.2,
          1.2,
          null,
          0.8,
          0.8,
          1.2,
          1.2
         ]
        },
        {
         "fill": "toself",
         "fillcolor": "rgb(45, 248, 157)",
         "hoverinfo": "name",
         "legendgroup": "rgb(45, 248, 157)",
         "mode": "none",
         "name": "3",
         "type": "scatter",
         "x": [
          2537,
          2632,
          2632,
          2537,
          2537,
          4527,
          4610,
          4610,
          4527,
          4527,
          3287,
          3362,
          3362,
          3287,
          3287,
          1340,
          1375,
          1375,
          1340,
          1340,
          2382,
          2457,
          2457,
          2382,
          2382,
          211,
          286,
          286,
          211
         ],
         "y": [
          0.8,
          0.8,
          1.2,
          1.2,
          null,
          0.8,
          0.8,
          1.2,
          1.2,
          null,
          -0.2,
          -0.2,
          0.2,
          0.2,
          null,
          -0.2,
          -0.2,
          0.2,
          0.2,
          null,
          -0.2,
          -0.2,
          0.2,
          0.2,
          null,
          -0.2,
          -0.2,
          0.2,
          0.2
         ]
        },
        {
         "fill": "toself",
         "fillcolor": "rgb(70, 17, 182)",
         "hoverinfo": "name",
         "legendgroup": "rgb(70, 17, 182)",
         "mode": "none",
         "name": "4",
         "type": "scatter",
         "x": [
          2469,
          2513,
          2513,
          2469,
          2469,
          1860,
          1904,
          1904,
          1860,
          1860,
          2471,
          2544,
          2544,
          2471,
          2471,
          1643,
          1696,
          1696,
          1643
         ],
         "y": [
          0.8,
          0.8,
          1.2,
          1.2,
          null,
          0.8,
          0.8,
          1.2,
          1.2,
          null,
          0.8,
          0.8,
          1.2,
          1.2,
          null,
          0.8,
          0.8,
          1.2,
          1.2
         ]
        },
        {
         "fill": "toself",
         "fillcolor": "rgb(95, 42, 207)",
         "hoverinfo": "name",
         "legendgroup": "rgb(95, 42, 207)",
         "mode": "none",
         "name": "5",
         "type": "scatter",
         "x": [
          242,
          357,
          357,
          242,
          242,
          1114,
          1175,
          1175,
          1114,
          1114,
          450,
          585,
          585,
          450,
          450,
          2815,
          2955,
          2955,
          2815,
          2815,
          2879,
          2937,
          2937,
          2879,
          2879,
          3709,
          3824,
          3824,
          3709,
          3709,
          3975,
          4018,
          4018,
          3975
         ],
         "y": [
          0.8,
          0.8,
          1.2,
          1.2,
          null,
          0.8,
          0.8,
          1.2,
          1.2,
          null,
          0.8,
          0.8,
          1.2,
          1.2,
          null,
          0.8,
          0.8,
          1.2,
          1.2,
          null,
          0.8,
          0.8,
          1.2,
          1.2,
          null,
          0.8,
          0.8,
          1.2,
          1.2,
          null,
          0.8,
          0.8,
          1.2,
          1.2
         ]
        },
        {
         "legendgroup": "rgb(120, 67, 232)",
         "marker": {
          "color": "rgb(120, 67, 232)",
          "opacity": 0,
          "size": 1
         },
         "mode": "markers",
         "name": "",
         "showlegend": false,
         "text": [
          null,
          null,
          null,
          null,
          null,
          null,
          null,
          null,
          null,
          null,
          null,
          null
         ],
         "type": "scatter",
         "x": [
          2126,
          2209,
          2323,
          2410,
          2240,
          2315,
          2527,
          2602,
          2746,
          2789,
          3654,
          3729
         ],
         "y": [
          1,
          1,
          0,
          0,
          0,
          0,
          0,
          0,
          0,
          0,
          0,
          0
         ]
        },
        {
         "legendgroup": "rgb(145, 92, 1)",
         "marker": {
          "color": "rgb(145, 92, 1)",
          "opacity": 0,
          "size": 1
         },
         "mode": "markers",
         "name": "",
         "showlegend": false,
         "text": [
          null,
          null,
          null,
          null,
          null,
          null,
          null,
          null,
          null,
          null,
          null,
          null
         ],
         "type": "scatter",
         "x": [
          1739,
          1822,
          2933,
          3016,
          823,
          910,
          740,
          827,
          791,
          834,
          3906,
          3941
         ],
         "y": [
          1,
          1,
          1,
          1,
          0,
          0,
          0,
          0,
          0,
          0,
          0,
          0
         ]
        },
        {
         "legendgroup": "rgb(170, 117, 26)",
         "marker": {
          "color": "rgb(170, 117, 26)",
          "opacity": 0,
          "size": 1
         },
         "mode": "markers",
         "name": "",
         "showlegend": false,
         "text": [
          null,
          null,
          null,
          null,
          null,
          null,
          null,
          null,
          null,
          null,
          null,
          null,
          null,
          null
         ],
         "type": "scatter",
         "x": [
          1746,
          1881,
          2703,
          2838,
          1066,
          1191,
          988,
          1113,
          882,
          943,
          1138,
          1199,
          3231,
          3356
         ],
         "y": [
          1,
          1,
          1,
          1,
          1,
          1,
          1,
          1,
          1,
          1,
          1,
          1,
          1,
          1
         ]
        },
        {
         "legendgroup": "rgb(195, 142, 51)",
         "marker": {
          "color": "rgb(195, 142, 51)",
          "opacity": 0,
          "size": 1
         },
         "mode": "markers",
         "name": "",
         "showlegend": false,
         "text": [
          null,
          null,
          null,
          null,
          null,
          null,
          null,
          null,
          null,
          null,
          null,
          null,
          null,
          null
         ],
         "type": "scatter",
         "x": [
          1218,
          1333,
          1726,
          1861,
          225,
          350,
          1100,
          1161,
          1912,
          1955,
          1980,
          2095,
          595,
          653
         ],
         "y": [
          1,
          1,
          1,
          1,
          1,
          1,
          1,
          1,
          1,
          1,
          1,
          1,
          1,
          1
         ]
        },
        {
         "legendgroup": "rgb(20, 223, 132)",
         "marker": {
          "color": "rgb(20, 223, 132)",
          "opacity": 0,
          "size": 1
         },
         "mode": "markers",
         "name": "",
         "showlegend": false,
         "text": [
          null,
          null,
          null,
          null,
          null,
          null,
          null,
          null
         ],
         "type": "scatter",
         "x": [
          1681,
          1725,
          2501,
          2574,
          2179,
          2223,
          372,
          416
         ],
         "y": [
          1,
          1,
          1,
          1,
          1,
          1,
          1,
          1
         ]
        },
        {
         "legendgroup": "rgb(226, 173, 82)",
         "marker": {
          "color": "rgb(226, 173, 82)",
          "opacity": 0,
          "size": 1
         },
         "mode": "markers",
         "name": "",
         "showlegend": false,
         "text": [
          null,
          null,
          null,
          null,
          null,
          null,
          null,
          null
         ],
         "type": "scatter",
         "x": [
          3083,
          3146,
          651,
          714,
          4599,
          4652,
          3271,
          3315
         ],
         "y": [
          1,
          1,
          1,
          1,
          1,
          1,
          1,
          1
         ]
        },
        {
         "legendgroup": "rgb(251, 198, 107)",
         "marker": {
          "color": "rgb(251, 198, 107)",
          "opacity": 0,
          "size": 1
         },
         "mode": "markers",
         "name": "",
         "showlegend": false,
         "text": [
          null,
          null,
          null,
          null,
          null,
          null,
          null,
          null,
          null,
          null,
          null,
          null,
          null,
          null
         ],
         "type": "scatter",
         "x": [
          2288,
          2423,
          225,
          286,
          4136,
          4179,
          4083,
          4218,
          1835,
          1950,
          3252,
          3295,
          3010,
          3068
         ],
         "y": [
          1,
          1,
          1,
          1,
          1,
          1,
          1,
          1,
          1,
          1,
          1,
          1,
          1,
          1
         ]
        },
        {
         "legendgroup": "rgb(45, 248, 157)",
         "marker": {
          "color": "rgb(45, 248, 157)",
          "opacity": 0,
          "size": 1
         },
         "mode": "markers",
         "name": "",
         "showlegend": false,
         "text": [
          null,
          null,
          null,
          null,
          null,
          null,
          null,
          null,
          null,
          null,
          null,
          null
         ],
         "type": "scatter",
         "x": [
          2537,
          2632,
          4527,
          4610,
          3287,
          3362,
          1340,
          1375,
          2382,
          2457,
          211,
          286
         ],
         "y": [
          1,
          1,
          1,
          1,
          0,
          0,
          0,
          0,
          0,
          0,
          0,
          0
         ]
        },
        {
         "legendgroup": "rgb(70, 17, 182)",
         "marker": {
          "color": "rgb(70, 17, 182)",
          "opacity": 0,
          "size": 1
         },
         "mode": "markers",
         "name": "",
         "showlegend": false,
         "text": [
          null,
          null,
          null,
          null,
          null,
          null,
          null,
          null
         ],
         "type": "scatter",
         "x": [
          2469,
          2513,
          1860,
          1904,
          2471,
          2544,
          1643,
          1696
         ],
         "y": [
          1,
          1,
          1,
          1,
          1,
          1,
          1,
          1
         ]
        },
        {
         "legendgroup": "rgb(95, 42, 207)",
         "marker": {
          "color": "rgb(95, 42, 207)",
          "opacity": 0,
          "size": 1
         },
         "mode": "markers",
         "name": "",
         "showlegend": false,
         "text": [
          null,
          null,
          null,
          null,
          null,
          null,
          null,
          null,
          null,
          null,
          null,
          null,
          null,
          null
         ],
         "type": "scatter",
         "x": [
          242,
          357,
          1114,
          1175,
          450,
          585,
          2815,
          2955,
          2879,
          2937,
          3709,
          3824,
          3975,
          4018
         ],
         "y": [
          1,
          1,
          1,
          1,
          1,
          1,
          1,
          1,
          1,
          1,
          1,
          1,
          1,
          1
         ]
        }
       ],
       "layout": {
        "height": 600,
        "hovermode": "closest",
        "showlegend": true,
        "template": {
         "data": {
          "bar": [
           {
            "error_x": {
             "color": "#2a3f5f"
            },
            "error_y": {
             "color": "#2a3f5f"
            },
            "marker": {
             "line": {
              "color": "#E5ECF6",
              "width": 0.5
             },
             "pattern": {
              "fillmode": "overlay",
              "size": 10,
              "solidity": 0.2
             }
            },
            "type": "bar"
           }
          ],
          "barpolar": [
           {
            "marker": {
             "line": {
              "color": "#E5ECF6",
              "width": 0.5
             },
             "pattern": {
              "fillmode": "overlay",
              "size": 10,
              "solidity": 0.2
             }
            },
            "type": "barpolar"
           }
          ],
          "carpet": [
           {
            "aaxis": {
             "endlinecolor": "#2a3f5f",
             "gridcolor": "white",
             "linecolor": "white",
             "minorgridcolor": "white",
             "startlinecolor": "#2a3f5f"
            },
            "baxis": {
             "endlinecolor": "#2a3f5f",
             "gridcolor": "white",
             "linecolor": "white",
             "minorgridcolor": "white",
             "startlinecolor": "#2a3f5f"
            },
            "type": "carpet"
           }
          ],
          "choropleth": [
           {
            "colorbar": {
             "outlinewidth": 0,
             "ticks": ""
            },
            "type": "choropleth"
           }
          ],
          "contour": [
           {
            "colorbar": {
             "outlinewidth": 0,
             "ticks": ""
            },
            "colorscale": [
             [
              0,
              "#0d0887"
             ],
             [
              0.1111111111111111,
              "#46039f"
             ],
             [
              0.2222222222222222,
              "#7201a8"
             ],
             [
              0.3333333333333333,
              "#9c179e"
             ],
             [
              0.4444444444444444,
              "#bd3786"
             ],
             [
              0.5555555555555556,
              "#d8576b"
             ],
             [
              0.6666666666666666,
              "#ed7953"
             ],
             [
              0.7777777777777778,
              "#fb9f3a"
             ],
             [
              0.8888888888888888,
              "#fdca26"
             ],
             [
              1,
              "#f0f921"
             ]
            ],
            "type": "contour"
           }
          ],
          "contourcarpet": [
           {
            "colorbar": {
             "outlinewidth": 0,
             "ticks": ""
            },
            "type": "contourcarpet"
           }
          ],
          "heatmap": [
           {
            "colorbar": {
             "outlinewidth": 0,
             "ticks": ""
            },
            "colorscale": [
             [
              0,
              "#0d0887"
             ],
             [
              0.1111111111111111,
              "#46039f"
             ],
             [
              0.2222222222222222,
              "#7201a8"
             ],
             [
              0.3333333333333333,
              "#9c179e"
             ],
             [
              0.4444444444444444,
              "#bd3786"
             ],
             [
              0.5555555555555556,
              "#d8576b"
             ],
             [
              0.6666666666666666,
              "#ed7953"
             ],
             [
              0.7777777777777778,
              "#fb9f3a"
             ],
             [
              0.8888888888888888,
              "#fdca26"
             ],
             [
              1,
              "#f0f921"
             ]
            ],
            "type": "heatmap"
           }
          ],
          "heatmapgl": [
           {
            "colorbar": {
             "outlinewidth": 0,
             "ticks": ""
            },
            "colorscale": [
             [
              0,
              "#0d0887"
             ],
             [
              0.1111111111111111,
              "#46039f"
             ],
             [
              0.2222222222222222,
              "#7201a8"
             ],
             [
              0.3333333333333333,
              "#9c179e"
             ],
             [
              0.4444444444444444,
              "#bd3786"
             ],
             [
              0.5555555555555556,
              "#d8576b"
             ],
             [
              0.6666666666666666,
              "#ed7953"
             ],
             [
              0.7777777777777778,
              "#fb9f3a"
             ],
             [
              0.8888888888888888,
              "#fdca26"
             ],
             [
              1,
              "#f0f921"
             ]
            ],
            "type": "heatmapgl"
           }
          ],
          "histogram": [
           {
            "marker": {
             "pattern": {
              "fillmode": "overlay",
              "size": 10,
              "solidity": 0.2
             }
            },
            "type": "histogram"
           }
          ],
          "histogram2d": [
           {
            "colorbar": {
             "outlinewidth": 0,
             "ticks": ""
            },
            "colorscale": [
             [
              0,
              "#0d0887"
             ],
             [
              0.1111111111111111,
              "#46039f"
             ],
             [
              0.2222222222222222,
              "#7201a8"
             ],
             [
              0.3333333333333333,
              "#9c179e"
             ],
             [
              0.4444444444444444,
              "#bd3786"
             ],
             [
              0.5555555555555556,
              "#d8576b"
             ],
             [
              0.6666666666666666,
              "#ed7953"
             ],
             [
              0.7777777777777778,
              "#fb9f3a"
             ],
             [
              0.8888888888888888,
              "#fdca26"
             ],
             [
              1,
              "#f0f921"
             ]
            ],
            "type": "histogram2d"
           }
          ],
          "histogram2dcontour": [
           {
            "colorbar": {
             "outlinewidth": 0,
             "ticks": ""
            },
            "colorscale": [
             [
              0,
              "#0d0887"
             ],
             [
              0.1111111111111111,
              "#46039f"
             ],
             [
              0.2222222222222222,
              "#7201a8"
             ],
             [
              0.3333333333333333,
              "#9c179e"
             ],
             [
              0.4444444444444444,
              "#bd3786"
             ],
             [
              0.5555555555555556,
              "#d8576b"
             ],
             [
              0.6666666666666666,
              "#ed7953"
             ],
             [
              0.7777777777777778,
              "#fb9f3a"
             ],
             [
              0.8888888888888888,
              "#fdca26"
             ],
             [
              1,
              "#f0f921"
             ]
            ],
            "type": "histogram2dcontour"
           }
          ],
          "mesh3d": [
           {
            "colorbar": {
             "outlinewidth": 0,
             "ticks": ""
            },
            "type": "mesh3d"
           }
          ],
          "parcoords": [
           {
            "line": {
             "colorbar": {
              "outlinewidth": 0,
              "ticks": ""
             }
            },
            "type": "parcoords"
           }
          ],
          "pie": [
           {
            "automargin": true,
            "type": "pie"
           }
          ],
          "scatter": [
           {
            "marker": {
             "colorbar": {
              "outlinewidth": 0,
              "ticks": ""
             }
            },
            "type": "scatter"
           }
          ],
          "scatter3d": [
           {
            "line": {
             "colorbar": {
              "outlinewidth": 0,
              "ticks": ""
             }
            },
            "marker": {
             "colorbar": {
              "outlinewidth": 0,
              "ticks": ""
             }
            },
            "type": "scatter3d"
           }
          ],
          "scattercarpet": [
           {
            "marker": {
             "colorbar": {
              "outlinewidth": 0,
              "ticks": ""
             }
            },
            "type": "scattercarpet"
           }
          ],
          "scattergeo": [
           {
            "marker": {
             "colorbar": {
              "outlinewidth": 0,
              "ticks": ""
             }
            },
            "type": "scattergeo"
           }
          ],
          "scattergl": [
           {
            "marker": {
             "colorbar": {
              "outlinewidth": 0,
              "ticks": ""
             }
            },
            "type": "scattergl"
           }
          ],
          "scattermapbox": [
           {
            "marker": {
             "colorbar": {
              "outlinewidth": 0,
              "ticks": ""
             }
            },
            "type": "scattermapbox"
           }
          ],
          "scatterpolar": [
           {
            "marker": {
             "colorbar": {
              "outlinewidth": 0,
              "ticks": ""
             }
            },
            "type": "scatterpolar"
           }
          ],
          "scatterpolargl": [
           {
            "marker": {
             "colorbar": {
              "outlinewidth": 0,
              "ticks": ""
             }
            },
            "type": "scatterpolargl"
           }
          ],
          "scatterternary": [
           {
            "marker": {
             "colorbar": {
              "outlinewidth": 0,
              "ticks": ""
             }
            },
            "type": "scatterternary"
           }
          ],
          "surface": [
           {
            "colorbar": {
             "outlinewidth": 0,
             "ticks": ""
            },
            "colorscale": [
             [
              0,
              "#0d0887"
             ],
             [
              0.1111111111111111,
              "#46039f"
             ],
             [
              0.2222222222222222,
              "#7201a8"
             ],
             [
              0.3333333333333333,
              "#9c179e"
             ],
             [
              0.4444444444444444,
              "#bd3786"
             ],
             [
              0.5555555555555556,
              "#d8576b"
             ],
             [
              0.6666666666666666,
              "#ed7953"
             ],
             [
              0.7777777777777778,
              "#fb9f3a"
             ],
             [
              0.8888888888888888,
              "#fdca26"
             ],
             [
              1,
              "#f0f921"
             ]
            ],
            "type": "surface"
           }
          ],
          "table": [
           {
            "cells": {
             "fill": {
              "color": "#EBF0F8"
             },
             "line": {
              "color": "white"
             }
            },
            "header": {
             "fill": {
              "color": "#C8D4E3"
             },
             "line": {
              "color": "white"
             }
            },
            "type": "table"
           }
          ]
         },
         "layout": {
          "annotationdefaults": {
           "arrowcolor": "#2a3f5f",
           "arrowhead": 0,
           "arrowwidth": 1
          },
          "autotypenumbers": "strict",
          "coloraxis": {
           "colorbar": {
            "outlinewidth": 0,
            "ticks": ""
           }
          },
          "colorscale": {
           "diverging": [
            [
             0,
             "#8e0152"
            ],
            [
             0.1,
             "#c51b7d"
            ],
            [
             0.2,
             "#de77ae"
            ],
            [
             0.3,
             "#f1b6da"
            ],
            [
             0.4,
             "#fde0ef"
            ],
            [
             0.5,
             "#f7f7f7"
            ],
            [
             0.6,
             "#e6f5d0"
            ],
            [
             0.7,
             "#b8e186"
            ],
            [
             0.8,
             "#7fbc41"
            ],
            [
             0.9,
             "#4d9221"
            ],
            [
             1,
             "#276419"
            ]
           ],
           "sequential": [
            [
             0,
             "#0d0887"
            ],
            [
             0.1111111111111111,
             "#46039f"
            ],
            [
             0.2222222222222222,
             "#7201a8"
            ],
            [
             0.3333333333333333,
             "#9c179e"
            ],
            [
             0.4444444444444444,
             "#bd3786"
            ],
            [
             0.5555555555555556,
             "#d8576b"
            ],
            [
             0.6666666666666666,
             "#ed7953"
            ],
            [
             0.7777777777777778,
             "#fb9f3a"
            ],
            [
             0.8888888888888888,
             "#fdca26"
            ],
            [
             1,
             "#f0f921"
            ]
           ],
           "sequentialminus": [
            [
             0,
             "#0d0887"
            ],
            [
             0.1111111111111111,
             "#46039f"
            ],
            [
             0.2222222222222222,
             "#7201a8"
            ],
            [
             0.3333333333333333,
             "#9c179e"
            ],
            [
             0.4444444444444444,
             "#bd3786"
            ],
            [
             0.5555555555555556,
             "#d8576b"
            ],
            [
             0.6666666666666666,
             "#ed7953"
            ],
            [
             0.7777777777777778,
             "#fb9f3a"
            ],
            [
             0.8888888888888888,
             "#fdca26"
            ],
            [
             1,
             "#f0f921"
            ]
           ]
          },
          "colorway": [
           "#636efa",
           "#EF553B",
           "#00cc96",
           "#ab63fa",
           "#FFA15A",
           "#19d3f3",
           "#FF6692",
           "#B6E880",
           "#FF97FF",
           "#FECB52"
          ],
          "font": {
           "color": "#2a3f5f"
          },
          "geo": {
           "bgcolor": "white",
           "lakecolor": "white",
           "landcolor": "#E5ECF6",
           "showlakes": true,
           "showland": true,
           "subunitcolor": "white"
          },
          "hoverlabel": {
           "align": "left"
          },
          "hovermode": "closest",
          "mapbox": {
           "style": "light"
          },
          "paper_bgcolor": "white",
          "plot_bgcolor": "#E5ECF6",
          "polar": {
           "angularaxis": {
            "gridcolor": "white",
            "linecolor": "white",
            "ticks": ""
           },
           "bgcolor": "#E5ECF6",
           "radialaxis": {
            "gridcolor": "white",
            "linecolor": "white",
            "ticks": ""
           }
          },
          "scene": {
           "xaxis": {
            "backgroundcolor": "#E5ECF6",
            "gridcolor": "white",
            "gridwidth": 2,
            "linecolor": "white",
            "showbackground": true,
            "ticks": "",
            "zerolinecolor": "white"
           },
           "yaxis": {
            "backgroundcolor": "#E5ECF6",
            "gridcolor": "white",
            "gridwidth": 2,
            "linecolor": "white",
            "showbackground": true,
            "ticks": "",
            "zerolinecolor": "white"
           },
           "zaxis": {
            "backgroundcolor": "#E5ECF6",
            "gridcolor": "white",
            "gridwidth": 2,
            "linecolor": "white",
            "showbackground": true,
            "ticks": "",
            "zerolinecolor": "white"
           }
          },
          "shapedefaults": {
           "line": {
            "color": "#2a3f5f"
           }
          },
          "ternary": {
           "aaxis": {
            "gridcolor": "white",
            "linecolor": "white",
            "ticks": ""
           },
           "baxis": {
            "gridcolor": "white",
            "linecolor": "white",
            "ticks": ""
           },
           "bgcolor": "#E5ECF6",
           "caxis": {
            "gridcolor": "white",
            "linecolor": "white",
            "ticks": ""
           }
          },
          "title": {
           "x": 0.05
          },
          "xaxis": {
           "automargin": true,
           "gridcolor": "white",
           "linecolor": "white",
           "ticks": "",
           "title": {
            "standoff": 15
           },
           "zerolinecolor": "white",
           "zerolinewidth": 2
          },
          "yaxis": {
           "automargin": true,
           "gridcolor": "white",
           "linecolor": "white",
           "ticks": "",
           "title": {
            "standoff": 15
           },
           "zerolinecolor": "white",
           "zerolinewidth": 2
          }
         }
        },
        "title": {
         "text": "Gantt Chart"
        },
        "xaxis": {
         "rangeselector": {
          "buttons": [
           {
            "count": 7,
            "label": "1w",
            "step": "day",
            "stepmode": "backward"
           },
           {
            "count": 1,
            "label": "1m",
            "step": "month",
            "stepmode": "backward"
           },
           {
            "count": 6,
            "label": "6m",
            "step": "month",
            "stepmode": "backward"
           },
           {
            "count": 1,
            "label": "YTD",
            "step": "year",
            "stepmode": "todate"
           },
           {
            "count": 1,
            "label": "1y",
            "step": "year",
            "stepmode": "backward"
           },
           {
            "step": "all"
           }
          ]
         },
         "showgrid": false,
         "type": "date",
         "zeroline": false
        },
        "yaxis": {
         "autorange": false,
         "range": [
          -1,
          3
         ],
         "showgrid": false,
         "ticktext": [
          "w1",
          "w2"
         ],
         "tickvals": [
          0,
          1
         ],
         "zeroline": false
        }
       }
      }
     },
     "metadata": {},
     "output_type": "display_data"
    },
    {
     "data": {
      "image/png": "[encoded data removed]",
      "text/plain": [
       "<Figure size 432x288 with 1 Axes>"
      ]
     },
     "metadata": {
      "needs_background": "light"
     },
     "output_type": "display_data"
    }
   ],
   "source": [
    "optimizer = BaseGA(env)\n",
    "optimizer.set_minimize()\n",
    "# optional (in this case, all options given are the default option, if the configuration step is skipped)\n",
    "optimizer.configure('tardiness', 'twopointcrossover', 'roulettewheel', 'randomize')\n",
    "# choose an input generator (optional) -> decides how the data gets converted into the optimizer format\n",
    "#optimizer.set_input_generator('SameLengthAlternativesGenerator')\n",
    "# all parameters after offspring_amount are optional (in this case -> verbose=True)\n",
    "result, best_fitness_history, average_fitness_history, best_generation_history, feasible_gen = optimizer.optimize(orders, max_generations, earliest_time_slot, last_time_slot, population_size, offspring_amount, verbose=True)\n",
    "workstation_assignments = reformat_result(result, orders, env)\n",
    "visualize(workstation_assignments, best_fitness_history, average_fitness_history, best_generation_history, feasible_gen)"
   ]
  },
  {
   "cell_type": "markdown",
   "metadata": {},
   "source": [
    "Config 3 - Only valid mutations for time slots"
   ]
  },
  {
   "cell_type": "code",
   "execution_count": 8,
   "metadata": {},
   "outputs": [
    {
     "name": "stdout",
     "output_type": "stream",
     "text": [
      "Current generation: 0, Current Best: 53, not feasible\n",
      "Current generation: 1, Current Best: 53, not feasible\n",
      "Current generation: 2, Current Best: 53, not feasible\n",
      "Current generation: 3, Current Best: 53, not feasible\n",
      "Current generation: 4, Current Best: 53, not feasible\n",
      "Current generation: 5, Current Best: 53, not feasible\n",
      "Current generation: 6, Current Best: 53, not feasible\n",
      "Current generation: 7, Current Best: 53, not feasible\n",
      "Current generation: 8, Current Best: 53, not feasible\n",
      "Current generation: 9, Current Best: 53, not feasible\n",
      "Current generation: 10, Current Best: 53, not feasible\n",
      "Current generation: 11, Current Best: 53, not feasible\n",
      "Current generation: 12, Current Best: 53, not feasible\n",
      "Current generation: 13, Current Best: 53, not feasible\n",
      "Current generation: 14, Current Best: 53, not feasible\n",
      "Current generation: 15, Current Best: 53, not feasible\n",
      "Current generation: 16, Current Best: 53, not feasible\n",
      "Current generation: 17, Current Best: 53, not feasible\n",
      "Current generation: 18, Current Best: 53, not feasible\n",
      "Current generation: 19, Current Best: 53, not feasible\n"
     ]
    },
    {
     "data": {
      "application/vnd.plotly.v1+json": {
       "config": {
        "plotlyServerURL": "https://plot.ly"
       },
       "data": [
        {
         "fill": "toself",
         "fillcolor": "rgb(114, 89, 219)",
         "hoverinfo": "name",
         "legendgroup": "rgb(114, 89, 219)",
         "mode": "none",
         "name": "4",
         "type": "scatter",
         "x": [
          229,
          282,
          282,
          229,
          229,
          746,
          809,
          809,
          746,
          746,
          557,
          620,
          620,
          557,
          557,
          720,
          793,
          793,
          720
         ],
         "y": [
          0.8,
          0.8,
          1.2,
          1.2,
          null,
          0.8,
          0.8,
          1.2,
          1.2,
          null,
          0.8,
          0.8,
          1.2,
          1.2,
          null,
          0.8,
          0.8,
          1.2,
          1.2
         ]
        },
        {
         "fill": "toself",
         "fillcolor": "rgb(139, 114, 244)",
         "hoverinfo": "name",
         "legendgroup": "rgb(139, 114, 244)",
         "mode": "none",
         "name": "5",
         "type": "scatter",
         "x": [
          883,
          946,
          946,
          883,
          883,
          1780,
          1853,
          1853,
          1780,
          1780,
          1313,
          1376,
          1376,
          1313,
          1313,
          602,
          646,
          646,
          602
         ],
         "y": [
          0.8,
          0.8,
          1.2,
          1.2,
          null,
          0.8,
          0.8,
          1.2,
          1.2,
          null,
          0.8,
          0.8,
          1.2,
          1.2,
          null,
          0.8,
          0.8,
          1.2,
          1.2
         ]
        },
        {
         "fill": "toself",
         "fillcolor": "rgb(14, 245, 119)",
         "hoverinfo": "name",
         "legendgroup": "rgb(14, 245, 119)",
         "mode": "none",
         "name": "0",
         "type": "scatter",
         "x": [
          331,
          404,
          404,
          331,
          331,
          247,
          320,
          320,
          247,
          247,
          246,
          319,
          319,
          246,
          246,
          294,
          367,
          367,
          294
         ],
         "y": [
          0.8,
          0.8,
          1.2,
          1.2,
          null,
          0.8,
          0.8,
          1.2,
          1.2,
          null,
          0.8,
          0.8,
          1.2,
          1.2,
          null,
          0.8,
          0.8,
          1.2,
          1.2
         ]
        },
        {
         "fill": "toself",
         "fillcolor": "rgb(164, 139, 13)",
         "hoverinfo": "name",
         "legendgroup": "rgb(164, 139, 13)",
         "mode": "none",
         "name": "6",
         "type": "scatter",
         "x": [
          214,
          287,
          287,
          214,
          214,
          245,
          298,
          298,
          245,
          245,
          243,
          296,
          296,
          243,
          243,
          219,
          292,
          292,
          219
         ],
         "y": [
          0.8,
          0.8,
          1.2,
          1.2,
          null,
          0.8,
          0.8,
          1.2,
          1.2,
          null,
          0.8,
          0.8,
          1.2,
          1.2,
          null,
          0.8,
          0.8,
          1.2,
          1.2
         ]
        },
        {
         "fill": "toself",
         "fillcolor": "rgb(189, 164, 38)",
         "hoverinfo": "name",
         "legendgroup": "rgb(189, 164, 38)",
         "mode": "none",
         "name": "7",
         "type": "scatter",
         "x": [
          216,
          299,
          299,
          216,
          216,
          246,
          341,
          341,
          246,
          246,
          233,
          328,
          328,
          233,
          233,
          310,
          353,
          353,
          310,
          310,
          286,
          321,
          321,
          286,
          286,
          280,
          355,
          355,
          280
         ],
         "y": [
          0.8,
          0.8,
          1.2,
          1.2,
          null,
          0.8,
          0.8,
          1.2,
          1.2,
          null,
          0.8,
          0.8,
          1.2,
          1.2,
          null,
          -0.2,
          -0.2,
          0.2,
          0.2,
          null,
          -0.2,
          -0.2,
          0.2,
          0.2,
          null,
          -0.2,
          -0.2,
          0.2,
          0.2
         ]
        },
        {
         "fill": "toself",
         "fillcolor": "rgb(214, 189, 63)",
         "hoverinfo": "name",
         "legendgroup": "rgb(214, 189, 63)",
         "mode": "none",
         "name": "8",
         "type": "scatter",
         "x": [
          585,
          643,
          643,
          585,
          585,
          843,
          968,
          968,
          843,
          843,
          674,
          732,
          732,
          674,
          674,
          304,
          439,
          439,
          304,
          304,
          1140,
          1255,
          1255,
          1140,
          1140,
          822,
          947,
          947,
          822,
          822,
          1221,
          1279,
          1279,
          1221
         ],
         "y": [
          0.8,
          0.8,
          1.2,
          1.2,
          null,
          0.8,
          0.8,
          1.2,
          1.2,
          null,
          0.8,
          0.8,
          1.2,
          1.2,
          null,
          0.8,
          0.8,
          1.2,
          1.2,
          null,
          0.8,
          0.8,
          1.2,
          1.2,
          null,
          0.8,
          0.8,
          1.2,
          1.2,
          null,
          0.8,
          0.8,
          1.2,
          1.2
         ]
        },
        {
         "fill": "toself",
         "fillcolor": "rgb(239, 214, 88)",
         "hoverinfo": "name",
         "legendgroup": "rgb(239, 214, 88)",
         "mode": "none",
         "name": "9",
         "type": "scatter",
         "x": [
          695,
          778,
          778,
          695,
          695,
          2716,
          2811,
          2811,
          2716,
          2716,
          1378,
          1465,
          1465,
          1378,
          1378,
          1082,
          1157,
          1157,
          1082,
          1082,
          500,
          543,
          543,
          500,
          500,
          2243,
          2278,
          2278,
          2243
         ],
         "y": [
          0.8,
          0.8,
          1.2,
          1.2,
          null,
          0.8,
          0.8,
          1.2,
          1.2,
          null,
          -0.2,
          -0.2,
          0.2,
          0.2,
          null,
          -0.2,
          -0.2,
          0.2,
          0.2,
          null,
          -0.2,
          -0.2,
          0.2,
          0.2,
          null,
          -0.2,
          -0.2,
          0.2,
          0.2
         ]
        },
        {
         "fill": "toself",
         "fillcolor": "rgb(39, 14, 144)",
         "hoverinfo": "name",
         "legendgroup": "rgb(39, 14, 144)",
         "mode": "none",
         "name": "1",
         "type": "scatter",
         "x": [
          217,
          300,
          300,
          217,
          217,
          540,
          623,
          623,
          540,
          540,
          700,
          795,
          795,
          700,
          700,
          500,
          595,
          595,
          500,
          500,
          397,
          480,
          480,
          397,
          397,
          806,
          893,
          893,
          806
         ],
         "y": [
          0.8,
          0.8,
          1.2,
          1.2,
          null,
          0.8,
          0.8,
          1.2,
          1.2,
          null,
          0.8,
          0.8,
          1.2,
          1.2,
          null,
          0.8,
          0.8,
          1.2,
          1.2,
          null,
          0.8,
          0.8,
          1.2,
          1.2,
          null,
          -0.2,
          -0.2,
          0.2,
          0.2
         ]
        },
        {
         "fill": "toself",
         "fillcolor": "rgb(64, 39, 169)",
         "hoverinfo": "name",
         "legendgroup": "rgb(64, 39, 169)",
         "mode": "none",
         "name": "2",
         "type": "scatter",
         "x": [
          643,
          738,
          738,
          643,
          643,
          1306,
          1341,
          1341,
          1306,
          1306,
          1025,
          1068,
          1068,
          1025,
          1025,
          250,
          293,
          293,
          250,
          250,
          559,
          634,
          634,
          559,
          559,
          681,
          768,
          768,
          681
         ],
         "y": [
          0.8,
          0.8,
          1.2,
          1.2,
          null,
          -0.2,
          -0.2,
          0.2,
          0.2,
          null,
          -0.2,
          -0.2,
          0.2,
          0.2,
          null,
          -0.2,
          -0.2,
          0.2,
          0.2,
          null,
          -0.2,
          -0.2,
          0.2,
          0.2,
          null,
          -0.2,
          -0.2,
          0.2,
          0.2
         ]
        },
        {
         "fill": "toself",
         "fillcolor": "rgb(89, 64, 194)",
         "hoverinfo": "name",
         "legendgroup": "rgb(89, 64, 194)",
         "mode": "none",
         "name": "3",
         "type": "scatter",
         "x": [
          328,
          411,
          411,
          328,
          328,
          345,
          428,
          428,
          345,
          345,
          585,
          680,
          680,
          585,
          585,
          241,
          324,
          324,
          241,
          241,
          635,
          678,
          678,
          635,
          635,
          508,
          543,
          543,
          508
         ],
         "y": [
          0.8,
          0.8,
          1.2,
          1.2,
          null,
          0.8,
          0.8,
          1.2,
          1.2,
          null,
          0.8,
          0.8,
          1.2,
          1.2,
          null,
          0.8,
          0.8,
          1.2,
          1.2,
          null,
          -0.2,
          -0.2,
          0.2,
          0.2,
          null,
          -0.2,
          -0.2,
          0.2,
          0.2
         ]
        },
        {
         "legendgroup": "rgb(114, 89, 219)",
         "marker": {
          "color": "rgb(114, 89, 219)",
          "opacity": 0,
          "size": 1
         },
         "mode": "markers",
         "name": "",
         "showlegend": false,
         "text": [
          null,
          null,
          null,
          null,
          null,
          null,
          null,
          null
         ],
         "type": "scatter",
         "x": [
          229,
          282,
          746,
          809,
          557,
          620,
          720,
          793
         ],
         "y": [
          1,
          1,
          1,
          1,
          1,
          1,
          1,
          1
         ]
        },
        {
         "legendgroup": "rgb(139, 114, 244)",
         "marker": {
          "color": "rgb(139, 114, 244)",
          "opacity": 0,
          "size": 1
         },
         "mode": "markers",
         "name": "",
         "showlegend": false,
         "text": [
          null,
          null,
          null,
          null,
          null,
          null,
          null,
          null
         ],
         "type": "scatter",
         "x": [
          883,
          946,
          1780,
          1853,
          1313,
          1376,
          602,
          646
         ],
         "y": [
          1,
          1,
          1,
          1,
          1,
          1,
          1,
          1
         ]
        },
        {
         "legendgroup": "rgb(14, 245, 119)",
         "marker": {
          "color": "rgb(14, 245, 119)",
          "opacity": 0,
          "size": 1
         },
         "mode": "markers",
         "name": "",
         "showlegend": false,
         "text": [
          null,
          null,
          null,
          null,
          null,
          null,
          null,
          null
         ],
         "type": "scatter",
         "x": [
          331,
          404,
          247,
          320,
          246,
          319,
          294,
          367
         ],
         "y": [
          1,
          1,
          1,
          1,
          1,
          1,
          1,
          1
         ]
        },
        {
         "legendgroup": "rgb(164, 139, 13)",
         "marker": {
          "color": "rgb(164, 139, 13)",
          "opacity": 0,
          "size": 1
         },
         "mode": "markers",
         "name": "",
         "showlegend": false,
         "text": [
          null,
          null,
          null,
          null,
          null,
          null,
          null,
          null
         ],
         "type": "scatter",
         "x": [
          214,
          287,
          245,
          298,
          243,
          296,
          219,
          292
         ],
         "y": [
          1,
          1,
          1,
          1,
          1,
          1,
          1,
          1
         ]
        },
        {
         "legendgroup": "rgb(189, 164, 38)",
         "marker": {
          "color": "rgb(189, 164, 38)",
          "opacity": 0,
          "size": 1
         },
         "mode": "markers",
         "name": "",
         "showlegend": false,
         "text": [
          null,
          null,
          null,
          null,
          null,
          null,
          null,
          null,
          null,
          null,
          null,
          null
         ],
         "type": "scatter",
         "x": [
          216,
          299,
          246,
          341,
          233,
          328,
          310,
          353,
          286,
          321,
          280,
          355
         ],
         "y": [
          1,
          1,
          1,
          1,
          1,
          1,
          0,
          0,
          0,
          0,
          0,
          0
         ]
        },
        {
         "legendgroup": "rgb(214, 189, 63)",
         "marker": {
          "color": "rgb(214, 189, 63)",
          "opacity": 0,
          "size": 1
         },
         "mode": "markers",
         "name": "",
         "showlegend": false,
         "text": [
          null,
          null,
          null,
          null,
          null,
          null,
          null,
          null,
          null,
          null,
          null,
          null,
          null,
          null
         ],
         "type": "scatter",
         "x": [
          585,
          643,
          843,
          968,
          674,
          732,
          304,
          439,
          1140,
          1255,
          822,
          947,
          1221,
          1279
         ],
         "y": [
          1,
          1,
          1,
          1,
          1,
          1,
          1,
          1,
          1,
          1,
          1,
          1,
          1,
          1
         ]
        },
        {
         "legendgroup": "rgb(239, 214, 88)",
         "marker": {
          "color": "rgb(239, 214, 88)",
          "opacity": 0,
          "size": 1
         },
         "mode": "markers",
         "name": "",
         "showlegend": false,
         "text": [
          null,
          null,
          null,
          null,
          null,
          null,
          null,
          null,
          null,
          null,
          null,
          null
         ],
         "type": "scatter",
         "x": [
          695,
          778,
          2716,
          2811,
          1378,
          1465,
          1082,
          1157,
          500,
          543,
          2243,
          2278
         ],
         "y": [
          1,
          1,
          1,
          1,
          0,
          0,
          0,
          0,
          0,
          0,
          0,
          0
         ]
        },
        {
         "legendgroup": "rgb(39, 14, 144)",
         "marker": {
          "color": "rgb(39, 14, 144)",
          "opacity": 0,
          "size": 1
         },
         "mode": "markers",
         "name": "",
         "showlegend": false,
         "text": [
          null,
          null,
          null,
          null,
          null,
          null,
          null,
          null,
          null,
          null,
          null,
          null
         ],
         "type": "scatter",
         "x": [
          217,
          300,
          540,
          623,
          700,
          795,
          500,
          595,
          397,
          480,
          806,
          893
         ],
         "y": [
          1,
          1,
          1,
          1,
          1,
          1,
          1,
          1,
          1,
          1,
          0,
          0
         ]
        },
        {
         "legendgroup": "rgb(64, 39, 169)",
         "marker": {
          "color": "rgb(64, 39, 169)",
          "opacity": 0,
          "size": 1
         },
         "mode": "markers",
         "name": "",
         "showlegend": false,
         "text": [
          null,
          null,
          null,
          null,
          null,
          null,
          null,
          null,
          null,
          null,
          null,
          null
         ],
         "type": "scatter",
         "x": [
          643,
          738,
          1306,
          1341,
          1025,
          1068,
          250,
          293,
          559,
          634,
          681,
          768
         ],
         "y": [
          1,
          1,
          0,
          0,
          0,
          0,
          0,
          0,
          0,
          0,
          0,
          0
         ]
        },
        {
         "legendgroup": "rgb(89, 64, 194)",
         "marker": {
          "color": "rgb(89, 64, 194)",
          "opacity": 0,
          "size": 1
         },
         "mode": "markers",
         "name": "",
         "showlegend": false,
         "text": [
          null,
          null,
          null,
          null,
          null,
          null,
          null,
          null,
          null,
          null,
          null,
          null
         ],
         "type": "scatter",
         "x": [
          328,
          411,
          345,
          428,
          585,
          680,
          241,
          324,
          635,
          678,
          508,
          543
         ],
         "y": [
          1,
          1,
          1,
          1,
          1,
          1,
          1,
          1,
          0,
          0,
          0,
          0
         ]
        }
       ],
       "layout": {
        "height": 600,
        "hovermode": "closest",
        "showlegend": true,
        "template": {
         "data": {
          "bar": [
           {
            "error_x": {
             "color": "#2a3f5f"
            },
            "error_y": {
             "color": "#2a3f5f"
            },
            "marker": {
             "line": {
              "color": "#E5ECF6",
              "width": 0.5
             },
             "pattern": {
              "fillmode": "overlay",
              "size": 10,
              "solidity": 0.2
             }
            },
            "type": "bar"
           }
          ],
          "barpolar": [
           {
            "marker": {
             "line": {
              "color": "#E5ECF6",
              "width": 0.5
             },
             "pattern": {
              "fillmode": "overlay",
              "size": 10,
              "solidity": 0.2
             }
            },
            "type": "barpolar"
           }
          ],
          "carpet": [
           {
            "aaxis": {
             "endlinecolor": "#2a3f5f",
             "gridcolor": "white",
             "linecolor": "white",
             "minorgridcolor": "white",
             "startlinecolor": "#2a3f5f"
            },
            "baxis": {
             "endlinecolor": "#2a3f5f",
             "gridcolor": "white",
             "linecolor": "white",
             "minorgridcolor": "white",
             "startlinecolor": "#2a3f5f"
            },
            "type": "carpet"
           }
          ],
          "choropleth": [
           {
            "colorbar": {
             "outlinewidth": 0,
             "ticks": ""
            },
            "type": "choropleth"
           }
          ],
          "contour": [
           {
            "colorbar": {
             "outlinewidth": 0,
             "ticks": ""
            },
            "colorscale": [
             [
              0,
              "#0d0887"
             ],
             [
              0.1111111111111111,
              "#46039f"
             ],
             [
              0.2222222222222222,
              "#7201a8"
             ],
             [
              0.3333333333333333,
              "#9c179e"
             ],
             [
              0.4444444444444444,
              "#bd3786"
             ],
             [
              0.5555555555555556,
              "#d8576b"
             ],
             [
              0.6666666666666666,
              "#ed7953"
             ],
             [
              0.7777777777777778,
              "#fb9f3a"
             ],
             [
              0.8888888888888888,
              "#fdca26"
             ],
             [
              1,
              "#f0f921"
             ]
            ],
            "type": "contour"
           }
          ],
          "contourcarpet": [
           {
            "colorbar": {
             "outlinewidth": 0,
             "ticks": ""
            },
            "type": "contourcarpet"
           }
          ],
          "heatmap": [
           {
            "colorbar": {
             "outlinewidth": 0,
             "ticks": ""
            },
            "colorscale": [
             [
              0,
              "#0d0887"
             ],
             [
              0.1111111111111111,
              "#46039f"
             ],
             [
              0.2222222222222222,
              "#7201a8"
             ],
             [
              0.3333333333333333,
              "#9c179e"
             ],
             [
              0.4444444444444444,
              "#bd3786"
             ],
             [
              0.5555555555555556,
              "#d8576b"
             ],
             [
              0.6666666666666666,
              "#ed7953"
             ],
             [
              0.7777777777777778,
              "#fb9f3a"
             ],
             [
              0.8888888888888888,
              "#fdca26"
             ],
             [
              1,
              "#f0f921"
             ]
            ],
            "type": "heatmap"
           }
          ],
          "heatmapgl": [
           {
            "colorbar": {
             "outlinewidth": 0,
             "ticks": ""
            },
            "colorscale": [
             [
              0,
              "#0d0887"
             ],
             [
              0.1111111111111111,
              "#46039f"
             ],
             [
              0.2222222222222222,
              "#7201a8"
             ],
             [
              0.3333333333333333,
              "#9c179e"
             ],
             [
              0.4444444444444444,
              "#bd3786"
             ],
             [
              0.5555555555555556,
              "#d8576b"
             ],
             [
              0.6666666666666666,
              "#ed7953"
             ],
             [
              0.7777777777777778,
              "#fb9f3a"
             ],
             [
              0.8888888888888888,
              "#fdca26"
             ],
             [
              1,
              "#f0f921"
             ]
            ],
            "type": "heatmapgl"
           }
          ],
          "histogram": [
           {
            "marker": {
             "pattern": {
              "fillmode": "overlay",
              "size": 10,
              "solidity": 0.2
             }
            },
            "type": "histogram"
           }
          ],
          "histogram2d": [
           {
            "colorbar": {
             "outlinewidth": 0,
             "ticks": ""
            },
            "colorscale": [
             [
              0,
              "#0d0887"
             ],
             [
              0.1111111111111111,
              "#46039f"
             ],
             [
              0.2222222222222222,
              "#7201a8"
             ],
             [
              0.3333333333333333,
              "#9c179e"
             ],
             [
              0.4444444444444444,
              "#bd3786"
             ],
             [
              0.5555555555555556,
              "#d8576b"
             ],
             [
              0.6666666666666666,
              "#ed7953"
             ],
             [
              0.7777777777777778,
              "#fb9f3a"
             ],
             [
              0.8888888888888888,
              "#fdca26"
             ],
             [
              1,
              "#f0f921"
             ]
            ],
            "type": "histogram2d"
           }
          ],
          "histogram2dcontour": [
           {
            "colorbar": {
             "outlinewidth": 0,
             "ticks": ""
            },
            "colorscale": [
             [
              0,
              "#0d0887"
             ],
             [
              0.1111111111111111,
              "#46039f"
             ],
             [
              0.2222222222222222,
              "#7201a8"
             ],
             [
              0.3333333333333333,
              "#9c179e"
             ],
             [
              0.4444444444444444,
              "#bd3786"
             ],
             [
              0.5555555555555556,
              "#d8576b"
             ],
             [
              0.6666666666666666,
              "#ed7953"
             ],
             [
              0.7777777777777778,
              "#fb9f3a"
             ],
             [
              0.8888888888888888,
              "#fdca26"
             ],
             [
              1,
              "#f0f921"
             ]
            ],
            "type": "histogram2dcontour"
           }
          ],
          "mesh3d": [
           {
            "colorbar": {
             "outlinewidth": 0,
             "ticks": ""
            },
            "type": "mesh3d"
           }
          ],
          "parcoords": [
           {
            "line": {
             "colorbar": {
              "outlinewidth": 0,
              "ticks": ""
             }
            },
            "type": "parcoords"
           }
          ],
          "pie": [
           {
            "automargin": true,
            "type": "pie"
           }
          ],
          "scatter": [
           {
            "marker": {
             "colorbar": {
              "outlinewidth": 0,
              "ticks": ""
             }
            },
            "type": "scatter"
           }
          ],
          "scatter3d": [
           {
            "line": {
             "colorbar": {
              "outlinewidth": 0,
              "ticks": ""
             }
            },
            "marker": {
             "colorbar": {
              "outlinewidth": 0,
              "ticks": ""
             }
            },
            "type": "scatter3d"
           }
          ],
          "scattercarpet": [
           {
            "marker": {
             "colorbar": {
              "outlinewidth": 0,
              "ticks": ""
             }
            },
            "type": "scattercarpet"
           }
          ],
          "scattergeo": [
           {
            "marker": {
             "colorbar": {
              "outlinewidth": 0,
              "ticks": ""
             }
            },
            "type": "scattergeo"
           }
          ],
          "scattergl": [
           {
            "marker": {
             "colorbar": {
              "outlinewidth": 0,
              "ticks": ""
             }
            },
            "type": "scattergl"
           }
          ],
          "scattermapbox": [
           {
            "marker": {
             "colorbar": {
              "outlinewidth": 0,
              "ticks": ""
             }
            },
            "type": "scattermapbox"
           }
          ],
          "scatterpolar": [
           {
            "marker": {
             "colorbar": {
              "outlinewidth": 0,
              "ticks": ""
             }
            },
            "type": "scatterpolar"
           }
          ],
          "scatterpolargl": [
           {
            "marker": {
             "colorbar": {
              "outlinewidth": 0,
              "ticks": ""
             }
            },
            "type": "scatterpolargl"
           }
          ],
          "scatterternary": [
           {
            "marker": {
             "colorbar": {
              "outlinewidth": 0,
              "ticks": ""
             }
            },
            "type": "scatterternary"
           }
          ],
          "surface": [
           {
            "colorbar": {
             "outlinewidth": 0,
             "ticks": ""
            },
            "colorscale": [
             [
              0,
              "#0d0887"
             ],
             [
              0.1111111111111111,
              "#46039f"
             ],
             [
              0.2222222222222222,
              "#7201a8"
             ],
             [
              0.3333333333333333,
              "#9c179e"
             ],
             [
              0.4444444444444444,
              "#bd3786"
             ],
             [
              0.5555555555555556,
              "#d8576b"
             ],
             [
              0.6666666666666666,
              "#ed7953"
             ],
             [
              0.7777777777777778,
              "#fb9f3a"
             ],
             [
              0.8888888888888888,
              "#fdca26"
             ],
             [
              1,
              "#f0f921"
             ]
            ],
            "type": "surface"
           }
          ],
          "table": [
           {
            "cells": {
             "fill": {
              "color": "#EBF0F8"
             },
             "line": {
              "color": "white"
             }
            },
            "header": {
             "fill": {
              "color": "#C8D4E3"
             },
             "line": {
              "color": "white"
             }
            },
            "type": "table"
           }
          ]
         },
         "layout": {
          "annotationdefaults": {
           "arrowcolor": "#2a3f5f",
           "arrowhead": 0,
           "arrowwidth": 1
          },
          "autotypenumbers": "strict",
          "coloraxis": {
           "colorbar": {
            "outlinewidth": 0,
            "ticks": ""
           }
          },
          "colorscale": {
           "diverging": [
            [
             0,
             "#8e0152"
            ],
            [
             0.1,
             "#c51b7d"
            ],
            [
             0.2,
             "#de77ae"
            ],
            [
             0.3,
             "#f1b6da"
            ],
            [
             0.4,
             "#fde0ef"
            ],
            [
             0.5,
             "#f7f7f7"
            ],
            [
             0.6,
             "#e6f5d0"
            ],
            [
             0.7,
             "#b8e186"
            ],
            [
             0.8,
             "#7fbc41"
            ],
            [
             0.9,
             "#4d9221"
            ],
            [
             1,
             "#276419"
            ]
           ],
           "sequential": [
            [
             0,
             "#0d0887"
            ],
            [
             0.1111111111111111,
             "#46039f"
            ],
            [
             0.2222222222222222,
             "#7201a8"
            ],
            [
             0.3333333333333333,
             "#9c179e"
            ],
            [
             0.4444444444444444,
             "#bd3786"
            ],
            [
             0.5555555555555556,
             "#d8576b"
            ],
            [
             0.6666666666666666,
             "#ed7953"
            ],
            [
             0.7777777777777778,
             "#fb9f3a"
            ],
            [
             0.8888888888888888,
             "#fdca26"
            ],
            [
             1,
             "#f0f921"
            ]
           ],
           "sequentialminus": [
            [
             0,
             "#0d0887"
            ],
            [
             0.1111111111111111,
             "#46039f"
            ],
            [
             0.2222222222222222,
             "#7201a8"
            ],
            [
             0.3333333333333333,
             "#9c179e"
            ],
            [
             0.4444444444444444,
             "#bd3786"
            ],
            [
             0.5555555555555556,
             "#d8576b"
            ],
            [
             0.6666666666666666,
             "#ed7953"
            ],
            [
             0.7777777777777778,
             "#fb9f3a"
            ],
            [
             0.8888888888888888,
             "#fdca26"
            ],
            [
             1,
             "#f0f921"
            ]
           ]
          },
          "colorway": [
           "#636efa",
           "#EF553B",
           "#00cc96",
           "#ab63fa",
           "#FFA15A",
           "#19d3f3",
           "#FF6692",
           "#B6E880",
           "#FF97FF",
           "#FECB52"
          ],
          "font": {
           "color": "#2a3f5f"
          },
          "geo": {
           "bgcolor": "white",
           "lakecolor": "white",
           "landcolor": "#E5ECF6",
           "showlakes": true,
           "showland": true,
           "subunitcolor": "white"
          },
          "hoverlabel": {
           "align": "left"
          },
          "hovermode": "closest",
          "mapbox": {
           "style": "light"
          },
          "paper_bgcolor": "white",
          "plot_bgcolor": "#E5ECF6",
          "polar": {
           "angularaxis": {
            "gridcolor": "white",
            "linecolor": "white",
            "ticks": ""
           },
           "bgcolor": "#E5ECF6",
           "radialaxis": {
            "gridcolor": "white",
            "linecolor": "white",
            "ticks": ""
           }
          },
          "scene": {
           "xaxis": {
            "backgroundcolor": "#E5ECF6",
            "gridcolor": "white",
            "gridwidth": 2,
            "linecolor": "white",
            "showbackground": true,
            "ticks": "",
            "zerolinecolor": "white"
           },
           "yaxis": {
            "backgroundcolor": "#E5ECF6",
            "gridcolor": "white",
            "gridwidth": 2,
            "linecolor": "white",
            "showbackground": true,
            "ticks": "",
            "zerolinecolor": "white"
           },
           "zaxis": {
            "backgroundcolor": "#E5ECF6",
            "gridcolor": "white",
            "gridwidth": 2,
            "linecolor": "white",
            "showbackground": true,
            "ticks": "",
            "zerolinecolor": "white"
           }
          },
          "shapedefaults": {
           "line": {
            "color": "#2a3f5f"
           }
          },
          "ternary": {
           "aaxis": {
            "gridcolor": "white",
            "linecolor": "white",
            "ticks": ""
           },
           "baxis": {
            "gridcolor": "white",
            "linecolor": "white",
            "ticks": ""
           },
           "bgcolor": "#E5ECF6",
           "caxis": {
            "gridcolor": "white",
            "linecolor": "white",
            "ticks": ""
           }
          },
          "title": {
           "x": 0.05
          },
          "xaxis": {
           "automargin": true,
           "gridcolor": "white",
           "linecolor": "white",
           "ticks": "",
           "title": {
            "standoff": 15
           },
           "zerolinecolor": "white",
           "zerolinewidth": 2
          },
          "yaxis": {
           "automargin": true,
           "gridcolor": "white",
           "linecolor": "white",
           "ticks": "",
           "title": {
            "standoff": 15
           },
           "zerolinecolor": "white",
           "zerolinewidth": 2
          }
         }
        },
        "title": {
         "text": "Gantt Chart"
        },
        "xaxis": {
         "rangeselector": {
          "buttons": [
           {
            "count": 7,
            "label": "1w",
            "step": "day",
            "stepmode": "backward"
           },
           {
            "count": 1,
            "label": "1m",
            "step": "month",
            "stepmode": "backward"
           },
           {
            "count": 6,
            "label": "6m",
            "step": "month",
            "stepmode": "backward"
           },
           {
            "count": 1,
            "label": "YTD",
            "step": "year",
            "stepmode": "todate"
           },
           {
            "count": 1,
            "label": "1y",
            "step": "year",
            "stepmode": "backward"
           },
           {
            "step": "all"
           }
          ]
         },
         "showgrid": false,
         "type": "date",
         "zeroline": false
        },
        "yaxis": {
         "autorange": false,
         "range": [
          -1,
          3
         ],
         "showgrid": false,
         "ticktext": [
          "w1",
          "w2"
         ],
         "tickvals": [
          0,
          1
         ],
         "zeroline": false
        }
       }
      }
     },
     "metadata": {},
     "output_type": "display_data"
    },
    {
     "data": {
      "image/png": "[encoded data removed]",
      "text/plain": [
       "<Figure size 432x288 with 1 Axes>"
      ]
     },
     "metadata": {
      "needs_background": "light"
     },
     "output_type": "display_data"
    }
   ],
   "source": [
    "optimizer = BaseGA(env)\n",
    "optimizer.configure('tardiness', 'twopointcrossover', 'roulettewheel', 'onlyfeasibletimeslot')\n",
    "last_time_slot = 0\n",
    "for order in orders:\n",
    "    if order[1] > last_time_slot:\n",
    "        last_time_slot = order[1]\n",
    "# all parameters after offspring_amount are optional (in this case -> verbose=True)\n",
    "result, best_fitness_history, average_fitness_history, best_generation_history, feasible_gen = optimizer.optimize(orders, max_generations, earliest_time_slot, last_time_slot, population_size, offspring_amount, verbose=True)\n",
    "workstation_assignments = reformat_result(result, orders, env)\n",
    "visualize(workstation_assignments, best_fitness_history, average_fitness_history, best_generation_history, feasible_gen)"
   ]
  },
  {
   "cell_type": "markdown",
   "metadata": {},
   "source": [
    "Config 4 - Randomized Mutation with \"open\" Planning Horizon"
   ]
  },
  {
   "cell_type": "code",
   "execution_count": 7,
   "metadata": {},
   "outputs": [
    {
     "name": "stdout",
     "output_type": "stream",
     "text": [
      "Current generation: 0, Current Best: 74, not feasible\n",
      "Current generation: 1, Current Best: 74, not feasible\n",
      "Current generation: 2, Current Best: 74, not feasible\n",
      "New best individual found!\n",
      "Current generation: 3, Current Best: 73, not feasible\n",
      "New best individual found!\n",
      "Current generation: 4, Current Best: 72, not feasible\n",
      "New best individual found!\n",
      "Current generation: 5, Current Best: 71, not feasible\n",
      "New best individual found!\n",
      "Current generation: 6, Current Best: 69, not feasible\n",
      "New best individual found!\n",
      "Current generation: 7, Current Best: 68, not feasible\n",
      "Current generation: 8, Current Best: 68, not feasible\n",
      "Current generation: 9, Current Best: 67, not feasible\n",
      "New best individual found!\n",
      "Current generation: 10, Current Best: 66, not feasible\n",
      "New best individual found!\n",
      "Current generation: 11, Current Best: 65, not feasible\n",
      "New best individual found!\n",
      "Current generation: 12, Current Best: 65, not feasible\n",
      "New best individual found!\n",
      "Current generation: 13, Current Best: 65, not feasible\n",
      "New best individual found!\n",
      "Current generation: 14, Current Best: 64, not feasible\n",
      "New best individual found!\n",
      "Current generation: 15, Current Best: 64, not feasible\n",
      "Current generation: 16, Current Best: 64, not feasible\n",
      "Current generation: 17, Current Best: 64, not feasible\n",
      "Current generation: 18, Current Best: 64, not feasible\n",
      "New best individual found!\n",
      "Current generation: 19, Current Best: 63, not feasible\n"
     ]
    },
    {
     "data": {
      "application/vnd.plotly.v1+json": {
       "config": {
        "plotlyServerURL": "https://plot.ly"
       },
       "data": [
        {
         "fill": "toself",
         "fillcolor": "rgb(111, 214, 40)",
         "hoverinfo": "name",
         "legendgroup": "rgb(111, 214, 40)",
         "mode": "none",
         "name": "1",
         "type": "scatter",
         "x": [
          3790,
          3851,
          3851,
          3790,
          3790,
          3599,
          3714,
          3714,
          3599,
          3599,
          1434,
          1477,
          1477,
          1434,
          1434,
          1112,
          1170,
          1170,
          1112,
          1112,
          4419,
          4462,
          4462,
          4419,
          4419,
          2456,
          2591,
          2591,
          2456,
          2456,
          3590,
          3715,
          3715,
          3590
         ],
         "y": [
          0.8,
          0.8,
          1.2,
          1.2,
          null,
          0.8,
          0.8,
          1.2,
          1.2,
          null,
          0.8,
          0.8,
          1.2,
          1.2,
          null,
          0.8,
          0.8,
          1.2,
          1.2,
          null,
          0.8,
          0.8,
          1.2,
          1.2,
          null,
          0.8,
          0.8,
          1.2,
          1.2,
          null,
          0.8,
          0.8,
          1.2,
          1.2
         ]
        },
        {
         "fill": "toself",
         "fillcolor": "rgb(136, 239, 65)",
         "hoverinfo": "name",
         "legendgroup": "rgb(136, 239, 65)",
         "mode": "none",
         "name": "2",
         "type": "scatter",
         "x": [
          2206,
          2279,
          2279,
          2206,
          2206,
          1643,
          1687,
          1687,
          1643,
          1643,
          297,
          341,
          341,
          297,
          297,
          291,
          364,
          364,
          291
         ],
         "y": [
          0.8,
          0.8,
          1.2,
          1.2,
          null,
          0.8,
          0.8,
          1.2,
          1.2,
          null,
          0.8,
          0.8,
          1.2,
          1.2,
          null,
          0.8,
          0.8,
          1.2,
          1.2
         ]
        },
        {
         "fill": "toself",
         "fillcolor": "rgb(161, 8, 90)",
         "hoverinfo": "name",
         "legendgroup": "rgb(161, 8, 90)",
         "mode": "none",
         "name": "3",
         "type": "scatter",
         "x": [
          292,
          387,
          387,
          292,
          292,
          4244,
          4327,
          4327,
          4244,
          4244,
          1130,
          1213,
          1213,
          1130,
          1130,
          292,
          375,
          375,
          292,
          292,
          558,
          601,
          601,
          558,
          558,
          3041,
          3116,
          3116,
          3041
         ],
         "y": [
          0.8,
          0.8,
          1.2,
          1.2,
          null,
          0.8,
          0.8,
          1.2,
          1.2,
          null,
          0.8,
          0.8,
          1.2,
          1.2,
          null,
          0.8,
          0.8,
          1.2,
          1.2,
          null,
          -0.2,
          -0.2,
          0.2,
          0.2,
          null,
          -0.2,
          -0.2,
          0.2,
          0.2
         ]
        },
        {
         "fill": "toself",
         "fillcolor": "rgb(186, 33, 115)",
         "hoverinfo": "name",
         "legendgroup": "rgb(186, 33, 115)",
         "mode": "none",
         "name": "4",
         "type": "scatter",
         "x": [
          1981,
          2044,
          2044,
          1981,
          1981,
          434,
          487,
          487,
          434,
          434,
          2416,
          2460,
          2460,
          2416,
          2416,
          281,
          354,
          354,
          281
         ],
         "y": [
          0.8,
          0.8,
          1.2,
          1.2,
          null,
          0.8,
          0.8,
          1.2,
          1.2,
          null,
          0.8,
          0.8,
          1.2,
          1.2,
          null,
          0.8,
          0.8,
          1.2,
          1.2
         ]
        },
        {
         "fill": "toself",
         "fillcolor": "rgb(211, 58, 140)",
         "hoverinfo": "name",
         "legendgroup": "rgb(211, 58, 140)",
         "mode": "none",
         "name": "5",
         "type": "scatter",
         "x": [
          373,
          498,
          498,
          373,
          373,
          3491,
          3626,
          3626,
          3491,
          3491,
          770,
          895,
          895,
          770,
          770,
          2305,
          2348,
          2348,
          2305,
          2305,
          2387,
          2445,
          2445,
          2387,
          2387,
          3346,
          3471,
          3471,
          3346,
          3346,
          3500,
          3615,
          3615,
          3500
         ],
         "y": [
          0.8,
          0.8,
          1.2,
          1.2,
          null,
          0.8,
          0.8,
          1.2,
          1.2,
          null,
          0.8,
          0.8,
          1.2,
          1.2,
          null,
          0.8,
          0.8,
          1.2,
          1.2,
          null,
          0.8,
          0.8,
          1.2,
          1.2,
          null,
          0.8,
          0.8,
          1.2,
          1.2,
          null,
          0.8,
          0.8,
          1.2,
          1.2
         ]
        },
        {
         "fill": "toself",
         "fillcolor": "rgb(236, 83, 165)",
         "hoverinfo": "name",
         "legendgroup": "rgb(236, 83, 165)",
         "mode": "none",
         "name": "7",
         "type": "scatter",
         "x": [
          1332,
          1415,
          1415,
          1332,
          1332,
          2404,
          2447,
          2447,
          2404,
          2404,
          2793,
          2868,
          2868,
          2793,
          2793,
          1795,
          1870,
          1870,
          1795,
          1795,
          3923,
          4010,
          4010,
          3923,
          3923,
          3214,
          3289,
          3289,
          3214
         ],
         "y": [
          0.8,
          0.8,
          1.2,
          1.2,
          null,
          -0.2,
          -0.2,
          0.2,
          0.2,
          null,
          -0.2,
          -0.2,
          0.2,
          0.2,
          null,
          -0.2,
          -0.2,
          0.2,
          0.2,
          null,
          -0.2,
          -0.2,
          0.2,
          0.2,
          null,
          -0.2,
          -0.2,
          0.2,
          0.2
         ]
        },
        {
         "fill": "toself",
         "fillcolor": "rgb(30, 133, 215)",
         "hoverinfo": "name",
         "legendgroup": "rgb(30, 133, 215)",
         "mode": "none",
         "name": "9",
         "type": "scatter",
         "x": [
          1789,
          1929,
          1929,
          1789,
          1789,
          1544,
          1587,
          1587,
          1544,
          1544,
          837,
          952,
          952,
          837,
          837,
          613,
          671,
          671,
          613,
          613,
          1167,
          1228,
          1228,
          1167,
          1167,
          294,
          419,
          419,
          294,
          294,
          1821,
          1946,
          1946,
          1821
         ],
         "y": [
          0.8,
          0.8,
          1.2,
          1.2,
          null,
          0.8,
          0.8,
          1.2,
          1.2,
          null,
          0.8,
          0.8,
          1.2,
          1.2,
          null,
          0.8,
          0.8,
          1.2,
          1.2,
          null,
          0.8,
          0.8,
          1.2,
          1.2,
          null,
          0.8,
          0.8,
          1.2,
          1.2,
          null,
          0.8,
          0.8,
          1.2,
          1.2
         ]
        },
        {
         "fill": "toself",
         "fillcolor": "rgb(5, 108, 190)",
         "hoverinfo": "name",
         "legendgroup": "rgb(5, 108, 190)",
         "mode": "none",
         "name": "8",
         "type": "scatter",
         "x": [
          1455,
          1580,
          1580,
          1455,
          1455,
          2494,
          2555,
          2555,
          2494,
          2494,
          2782,
          2825,
          2825,
          2782,
          2782,
          1940,
          1983,
          1983,
          1940,
          1940,
          1154,
          1294,
          1294,
          1154,
          1154,
          900,
          961,
          961,
          900,
          900,
          1412,
          1547,
          1547,
          1412
         ],
         "y": [
          0.8,
          0.8,
          1.2,
          1.2,
          null,
          0.8,
          0.8,
          1.2,
          1.2,
          null,
          0.8,
          0.8,
          1.2,
          1.2,
          null,
          0.8,
          0.8,
          1.2,
          1.2,
          null,
          0.8,
          0.8,
          1.2,
          1.2,
          null,
          0.8,
          0.8,
          1.2,
          1.2,
          null,
          0.8,
          0.8,
          1.2,
          1.2
         ]
        },
        {
         "fill": "toself",
         "fillcolor": "rgb(55, 158, 240)",
         "hoverinfo": "name",
         "legendgroup": "rgb(55, 158, 240)",
         "mode": "none",
         "name": "6",
         "type": "scatter",
         "x": [
          1842,
          1917,
          1917,
          1842,
          1842,
          282,
          317,
          317,
          282,
          282,
          2713,
          2748,
          2748,
          2713,
          2713,
          2085,
          2120,
          2120,
          2085,
          2085,
          1724,
          1767,
          1767,
          1724,
          1724,
          3737,
          3772,
          3772,
          3737
         ],
         "y": [
          -0.2,
          -0.2,
          0.2,
          0.2,
          null,
          -0.2,
          -0.2,
          0.2,
          0.2,
          null,
          -0.2,
          -0.2,
          0.2,
          0.2,
          null,
          -0.2,
          -0.2,
          0.2,
          0.2,
          null,
          -0.2,
          -0.2,
          0.2,
          0.2,
          null,
          -0.2,
          -0.2,
          0.2,
          0.2
         ]
        },
        {
         "fill": "toself",
         "fillcolor": "rgb(86, 189, 15)",
         "hoverinfo": "name",
         "legendgroup": "rgb(86, 189, 15)",
         "mode": "none",
         "name": "0",
         "type": "scatter",
         "x": [
          632,
          705,
          705,
          632,
          632,
          1294,
          1367,
          1367,
          1294,
          1294,
          3162,
          3206,
          3206,
          3162,
          3162,
          1173,
          1217,
          1217,
          1173
         ],
         "y": [
          0.8,
          0.8,
          1.2,
          1.2,
          null,
          0.8,
          0.8,
          1.2,
          1.2,
          null,
          0.8,
          0.8,
          1.2,
          1.2,
          null,
          0.8,
          0.8,
          1.2,
          1.2
         ]
        },
        {
         "legendgroup": "rgb(111, 214, 40)",
         "marker": {
          "color": "rgb(111, 214, 40)",
          "opacity": 0,
          "size": 1
         },
         "mode": "markers",
         "name": "",
         "showlegend": false,
         "text": [
          null,
          null,
          null,
          null,
          null,
          null,
          null,
          null,
          null,
          null,
          null,
          null,
          null,
          null
         ],
         "type": "scatter",
         "x": [
          3790,
          3851,
          3599,
          3714,
          1434,
          1477,
          1112,
          1170,
          4419,
          4462,
          2456,
          2591,
          3590,
          3715
         ],
         "y": [
          1,
          1,
          1,
          1,
          1,
          1,
          1,
          1,
          1,
          1,
          1,
          1,
          1,
          1
         ]
        },
        {
         "legendgroup": "rgb(136, 239, 65)",
         "marker": {
          "color": "rgb(136, 239, 65)",
          "opacity": 0,
          "size": 1
         },
         "mode": "markers",
         "name": "",
         "showlegend": false,
         "text": [
          null,
          null,
          null,
          null,
          null,
          null,
          null,
          null
         ],
         "type": "scatter",
         "x": [
          2206,
          2279,
          1643,
          1687,
          297,
          341,
          291,
          364
         ],
         "y": [
          1,
          1,
          1,
          1,
          1,
          1,
          1,
          1
         ]
        },
        {
         "legendgroup": "rgb(161, 8, 90)",
         "marker": {
          "color": "rgb(161, 8, 90)",
          "opacity": 0,
          "size": 1
         },
         "mode": "markers",
         "name": "",
         "showlegend": false,
         "text": [
          null,
          null,
          null,
          null,
          null,
          null,
          null,
          null,
          null,
          null,
          null,
          null
         ],
         "type": "scatter",
         "x": [
          292,
          387,
          4244,
          4327,
          1130,
          1213,
          292,
          375,
          558,
          601,
          3041,
          3116
         ],
         "y": [
          1,
          1,
          1,
          1,
          1,
          1,
          1,
          1,
          0,
          0,
          0,
          0
         ]
        },
        {
         "legendgroup": "rgb(186, 33, 115)",
         "marker": {
          "color": "rgb(186, 33, 115)",
          "opacity": 0,
          "size": 1
         },
         "mode": "markers",
         "name": "",
         "showlegend": false,
         "text": [
          null,
          null,
          null,
          null,
          null,
          null,
          null,
          null
         ],
         "type": "scatter",
         "x": [
          1981,
          2044,
          434,
          487,
          2416,
          2460,
          281,
          354
         ],
         "y": [
          1,
          1,
          1,
          1,
          1,
          1,
          1,
          1
         ]
        },
        {
         "legendgroup": "rgb(211, 58, 140)",
         "marker": {
          "color": "rgb(211, 58, 140)",
          "opacity": 0,
          "size": 1
         },
         "mode": "markers",
         "name": "",
         "showlegend": false,
         "text": [
          null,
          null,
          null,
          null,
          null,
          null,
          null,
          null,
          null,
          null,
          null,
          null,
          null,
          null
         ],
         "type": "scatter",
         "x": [
          373,
          498,
          3491,
          3626,
          770,
          895,
          2305,
          2348,
          2387,
          2445,
          3346,
          3471,
          3500,
          3615
         ],
         "y": [
          1,
          1,
          1,
          1,
          1,
          1,
          1,
          1,
          1,
          1,
          1,
          1,
          1,
          1
         ]
        },
        {
         "legendgroup": "rgb(236, 83, 165)",
         "marker": {
          "color": "rgb(236, 83, 165)",
          "opacity": 0,
          "size": 1
         },
         "mode": "markers",
         "name": "",
         "showlegend": false,
         "text": [
          null,
          null,
          null,
          null,
          null,
          null,
          null,
          null,
          null,
          null,
          null,
          null
         ],
         "type": "scatter",
         "x": [
          1332,
          1415,
          2404,
          2447,
          2793,
          2868,
          1795,
          1870,
          3923,
          4010,
          3214,
          3289
         ],
         "y": [
          1,
          1,
          0,
          0,
          0,
          0,
          0,
          0,
          0,
          0,
          0,
          0
         ]
        },
        {
         "legendgroup": "rgb(30, 133, 215)",
         "marker": {
          "color": "rgb(30, 133, 215)",
          "opacity": 0,
          "size": 1
         },
         "mode": "markers",
         "name": "",
         "showlegend": false,
         "text": [
          null,
          null,
          null,
          null,
          null,
          null,
          null,
          null,
          null,
          null,
          null,
          null,
          null,
          null
         ],
         "type": "scatter",
         "x": [
          1789,
          1929,
          1544,
          1587,
          837,
          952,
          613,
          671,
          1167,
          1228,
          294,
          419,
          1821,
          1946
         ],
         "y": [
          1,
          1,
          1,
          1,
          1,
          1,
          1,
          1,
          1,
          1,
          1,
          1,
          1,
          1
         ]
        },
        {
         "legendgroup": "rgb(5, 108, 190)",
         "marker": {
          "color": "rgb(5, 108, 190)",
          "opacity": 0,
          "size": 1
         },
         "mode": "markers",
         "name": "",
         "showlegend": false,
         "text": [
          null,
          null,
          null,
          null,
          null,
          null,
          null,
          null,
          null,
          null,
          null,
          null,
          null,
          null
         ],
         "type": "scatter",
         "x": [
          1455,
          1580,
          2494,
          2555,
          2782,
          2825,
          1940,
          1983,
          1154,
          1294,
          900,
          961,
          1412,
          1547
         ],
         "y": [
          1,
          1,
          1,
          1,
          1,
          1,
          1,
          1,
          1,
          1,
          1,
          1,
          1,
          1
         ]
        },
        {
         "legendgroup": "rgb(55, 158, 240)",
         "marker": {
          "color": "rgb(55, 158, 240)",
          "opacity": 0,
          "size": 1
         },
         "mode": "markers",
         "name": "",
         "showlegend": false,
         "text": [
          null,
          null,
          null,
          null,
          null,
          null,
          null,
          null,
          null,
          null,
          null,
          null
         ],
         "type": "scatter",
         "x": [
          1842,
          1917,
          282,
          317,
          2713,
          2748,
          2085,
          2120,
          1724,
          1767,
          3737,
          3772
         ],
         "y": [
          0,
          0,
          0,
          0,
          0,
          0,
          0,
          0,
          0,
          0,
          0,
          0
         ]
        },
        {
         "legendgroup": "rgb(86, 189, 15)",
         "marker": {
          "color": "rgb(86, 189, 15)",
          "opacity": 0,
          "size": 1
         },
         "mode": "markers",
         "name": "",
         "showlegend": false,
         "text": [
          null,
          null,
          null,
          null,
          null,
          null,
          null,
          null
         ],
         "type": "scatter",
         "x": [
          632,
          705,
          1294,
          1367,
          3162,
          3206,
          1173,
          1217
         ],
         "y": [
          1,
          1,
          1,
          1,
          1,
          1,
          1,
          1
         ]
        }
       ],
       "layout": {
        "height": 600,
        "hovermode": "closest",
        "showlegend": true,
        "template": {
         "data": {
          "bar": [
           {
            "error_x": {
             "color": "#2a3f5f"
            },
            "error_y": {
             "color": "#2a3f5f"
            },
            "marker": {
             "line": {
              "color": "#E5ECF6",
              "width": 0.5
             },
             "pattern": {
              "fillmode": "overlay",
              "size": 10,
              "solidity": 0.2
             }
            },
            "type": "bar"
           }
          ],
          "barpolar": [
           {
            "marker": {
             "line": {
              "color": "#E5ECF6",
              "width": 0.5
             },
             "pattern": {
              "fillmode": "overlay",
              "size": 10,
              "solidity": 0.2
             }
            },
            "type": "barpolar"
           }
          ],
          "carpet": [
           {
            "aaxis": {
             "endlinecolor": "#2a3f5f",
             "gridcolor": "white",
             "linecolor": "white",
             "minorgridcolor": "white",
             "startlinecolor": "#2a3f5f"
            },
            "baxis": {
             "endlinecolor": "#2a3f5f",
             "gridcolor": "white",
             "linecolor": "white",
             "minorgridcolor": "white",
             "startlinecolor": "#2a3f5f"
            },
            "type": "carpet"
           }
          ],
          "choropleth": [
           {
            "colorbar": {
             "outlinewidth": 0,
             "ticks": ""
            },
            "type": "choropleth"
           }
          ],
          "contour": [
           {
            "colorbar": {
             "outlinewidth": 0,
             "ticks": ""
            },
            "colorscale": [
             [
              0,
              "#0d0887"
             ],
             [
              0.1111111111111111,
              "#46039f"
             ],
             [
              0.2222222222222222,
              "#7201a8"
             ],
             [
              0.3333333333333333,
              "#9c179e"
             ],
             [
              0.4444444444444444,
              "#bd3786"
             ],
             [
              0.5555555555555556,
              "#d8576b"
             ],
             [
              0.6666666666666666,
              "#ed7953"
             ],
             [
              0.7777777777777778,
              "#fb9f3a"
             ],
             [
              0.8888888888888888,
              "#fdca26"
             ],
             [
              1,
              "#f0f921"
             ]
            ],
            "type": "contour"
           }
          ],
          "contourcarpet": [
           {
            "colorbar": {
             "outlinewidth": 0,
             "ticks": ""
            },
            "type": "contourcarpet"
           }
          ],
          "heatmap": [
           {
            "colorbar": {
             "outlinewidth": 0,
             "ticks": ""
            },
            "colorscale": [
             [
              0,
              "#0d0887"
             ],
             [
              0.1111111111111111,
              "#46039f"
             ],
             [
              0.2222222222222222,
              "#7201a8"
             ],
             [
              0.3333333333333333,
              "#9c179e"
             ],
             [
              0.4444444444444444,
              "#bd3786"
             ],
             [
              0.5555555555555556,
              "#d8576b"
             ],
             [
              0.6666666666666666,
              "#ed7953"
             ],
             [
              0.7777777777777778,
              "#fb9f3a"
             ],
             [
              0.8888888888888888,
              "#fdca26"
             ],
             [
              1,
              "#f0f921"
             ]
            ],
            "type": "heatmap"
           }
          ],
          "heatmapgl": [
           {
            "colorbar": {
             "outlinewidth": 0,
             "ticks": ""
            },
            "colorscale": [
             [
              0,
              "#0d0887"
             ],
             [
              0.1111111111111111,
              "#46039f"
             ],
             [
              0.2222222222222222,
              "#7201a8"
             ],
             [
              0.3333333333333333,
              "#9c179e"
             ],
             [
              0.4444444444444444,
              "#bd3786"
             ],
             [
              0.5555555555555556,
              "#d8576b"
             ],
             [
              0.6666666666666666,
              "#ed7953"
             ],
             [
              0.7777777777777778,
              "#fb9f3a"
             ],
             [
              0.8888888888888888,
              "#fdca26"
             ],
             [
              1,
              "#f0f921"
             ]
            ],
            "type": "heatmapgl"
           }
          ],
          "histogram": [
           {
            "marker": {
             "pattern": {
              "fillmode": "overlay",
              "size": 10,
              "solidity": 0.2
             }
            },
            "type": "histogram"
           }
          ],
          "histogram2d": [
           {
            "colorbar": {
             "outlinewidth": 0,
             "ticks": ""
            },
            "colorscale": [
             [
              0,
              "#0d0887"
             ],
             [
              0.1111111111111111,
              "#46039f"
             ],
             [
              0.2222222222222222,
              "#7201a8"
             ],
             [
              0.3333333333333333,
              "#9c179e"
             ],
             [
              0.4444444444444444,
              "#bd3786"
             ],
             [
              0.5555555555555556,
              "#d8576b"
             ],
             [
              0.6666666666666666,
              "#ed7953"
             ],
             [
              0.7777777777777778,
              "#fb9f3a"
             ],
             [
              0.8888888888888888,
              "#fdca26"
             ],
             [
              1,
              "#f0f921"
             ]
            ],
            "type": "histogram2d"
           }
          ],
          "histogram2dcontour": [
           {
            "colorbar": {
             "outlinewidth": 0,
             "ticks": ""
            },
            "colorscale": [
             [
              0,
              "#0d0887"
             ],
             [
              0.1111111111111111,
              "#46039f"
             ],
             [
              0.2222222222222222,
              "#7201a8"
             ],
             [
              0.3333333333333333,
              "#9c179e"
             ],
             [
              0.4444444444444444,
              "#bd3786"
             ],
             [
              0.5555555555555556,
              "#d8576b"
             ],
             [
              0.6666666666666666,
              "#ed7953"
             ],
             [
              0.7777777777777778,
              "#fb9f3a"
             ],
             [
              0.8888888888888888,
              "#fdca26"
             ],
             [
              1,
              "#f0f921"
             ]
            ],
            "type": "histogram2dcontour"
           }
          ],
          "mesh3d": [
           {
            "colorbar": {
             "outlinewidth": 0,
             "ticks": ""
            },
            "type": "mesh3d"
           }
          ],
          "parcoords": [
           {
            "line": {
             "colorbar": {
              "outlinewidth": 0,
              "ticks": ""
             }
            },
            "type": "parcoords"
           }
          ],
          "pie": [
           {
            "automargin": true,
            "type": "pie"
           }
          ],
          "scatter": [
           {
            "marker": {
             "colorbar": {
              "outlinewidth": 0,
              "ticks": ""
             }
            },
            "type": "scatter"
           }
          ],
          "scatter3d": [
           {
            "line": {
             "colorbar": {
              "outlinewidth": 0,
              "ticks": ""
             }
            },
            "marker": {
             "colorbar": {
              "outlinewidth": 0,
              "ticks": ""
             }
            },
            "type": "scatter3d"
           }
          ],
          "scattercarpet": [
           {
            "marker": {
             "colorbar": {
              "outlinewidth": 0,
              "ticks": ""
             }
            },
            "type": "scattercarpet"
           }
          ],
          "scattergeo": [
           {
            "marker": {
             "colorbar": {
              "outlinewidth": 0,
              "ticks": ""
             }
            },
            "type": "scattergeo"
           }
          ],
          "scattergl": [
           {
            "marker": {
             "colorbar": {
              "outlinewidth": 0,
              "ticks": ""
             }
            },
            "type": "scattergl"
           }
          ],
          "scattermapbox": [
           {
            "marker": {
             "colorbar": {
              "outlinewidth": 0,
              "ticks": ""
             }
            },
            "type": "scattermapbox"
           }
          ],
          "scatterpolar": [
           {
            "marker": {
             "colorbar": {
              "outlinewidth": 0,
              "ticks": ""
             }
            },
            "type": "scatterpolar"
           }
          ],
          "scatterpolargl": [
           {
            "marker": {
             "colorbar": {
              "outlinewidth": 0,
              "ticks": ""
             }
            },
            "type": "scatterpolargl"
           }
          ],
          "scatterternary": [
           {
            "marker": {
             "colorbar": {
              "outlinewidth": 0,
              "ticks": ""
             }
            },
            "type": "scatterternary"
           }
          ],
          "surface": [
           {
            "colorbar": {
             "outlinewidth": 0,
             "ticks": ""
            },
            "colorscale": [
             [
              0,
              "#0d0887"
             ],
             [
              0.1111111111111111,
              "#46039f"
             ],
             [
              0.2222222222222222,
              "#7201a8"
             ],
             [
              0.3333333333333333,
              "#9c179e"
             ],
             [
              0.4444444444444444,
              "#bd3786"
             ],
             [
              0.5555555555555556,
              "#d8576b"
             ],
             [
              0.6666666666666666,
              "#ed7953"
             ],
             [
              0.7777777777777778,
              "#fb9f3a"
             ],
             [
              0.8888888888888888,
              "#fdca26"
             ],
             [
              1,
              "#f0f921"
             ]
            ],
            "type": "surface"
           }
          ],
          "table": [
           {
            "cells": {
             "fill": {
              "color": "#EBF0F8"
             },
             "line": {
              "color": "white"
             }
            },
            "header": {
             "fill": {
              "color": "#C8D4E3"
             },
             "line": {
              "color": "white"
             }
            },
            "type": "table"
           }
          ]
         },
         "layout": {
          "annotationdefaults": {
           "arrowcolor": "#2a3f5f",
           "arrowhead": 0,
           "arrowwidth": 1
          },
          "autotypenumbers": "strict",
          "coloraxis": {
           "colorbar": {
            "outlinewidth": 0,
            "ticks": ""
           }
          },
          "colorscale": {
           "diverging": [
            [
             0,
             "#8e0152"
            ],
            [
             0.1,
             "#c51b7d"
            ],
            [
             0.2,
             "#de77ae"
            ],
            [
             0.3,
             "#f1b6da"
            ],
            [
             0.4,
             "#fde0ef"
            ],
            [
             0.5,
             "#f7f7f7"
            ],
            [
             0.6,
             "#e6f5d0"
            ],
            [
             0.7,
             "#b8e186"
            ],
            [
             0.8,
             "#7fbc41"
            ],
            [
             0.9,
             "#4d9221"
            ],
            [
             1,
             "#276419"
            ]
           ],
           "sequential": [
            [
             0,
             "#0d0887"
            ],
            [
             0.1111111111111111,
             "#46039f"
            ],
            [
             0.2222222222222222,
             "#7201a8"
            ],
            [
             0.3333333333333333,
             "#9c179e"
            ],
            [
             0.4444444444444444,
             "#bd3786"
            ],
            [
             0.5555555555555556,
             "#d8576b"
            ],
            [
             0.6666666666666666,
             "#ed7953"
            ],
            [
             0.7777777777777778,
             "#fb9f3a"
            ],
            [
             0.8888888888888888,
             "#fdca26"
            ],
            [
             1,
             "#f0f921"
            ]
           ],
           "sequentialminus": [
            [
             0,
             "#0d0887"
            ],
            [
             0.1111111111111111,
             "#46039f"
            ],
            [
             0.2222222222222222,
             "#7201a8"
            ],
            [
             0.3333333333333333,
             "#9c179e"
            ],
            [
             0.4444444444444444,
             "#bd3786"
            ],
            [
             0.5555555555555556,
             "#d8576b"
            ],
            [
             0.6666666666666666,
             "#ed7953"
            ],
            [
             0.7777777777777778,
             "#fb9f3a"
            ],
            [
             0.8888888888888888,
             "#fdca26"
            ],
            [
             1,
             "#f0f921"
            ]
           ]
          },
          "colorway": [
           "#636efa",
           "#EF553B",
           "#00cc96",
           "#ab63fa",
           "#FFA15A",
           "#19d3f3",
           "#FF6692",
           "#B6E880",
           "#FF97FF",
           "#FECB52"
          ],
          "font": {
           "color": "#2a3f5f"
          },
          "geo": {
           "bgcolor": "white",
           "lakecolor": "white",
           "landcolor": "#E5ECF6",
           "showlakes": true,
           "showland": true,
           "subunitcolor": "white"
          },
          "hoverlabel": {
           "align": "left"
          },
          "hovermode": "closest",
          "mapbox": {
           "style": "light"
          },
          "paper_bgcolor": "white",
          "plot_bgcolor": "#E5ECF6",
          "polar": {
           "angularaxis": {
            "gridcolor": "white",
            "linecolor": "white",
            "ticks": ""
           },
           "bgcolor": "#E5ECF6",
           "radialaxis": {
            "gridcolor": "white",
            "linecolor": "white",
            "ticks": ""
           }
          },
          "scene": {
           "xaxis": {
            "backgroundcolor": "#E5ECF6",
            "gridcolor": "white",
            "gridwidth": 2,
            "linecolor": "white",
            "showbackground": true,
            "ticks": "",
            "zerolinecolor": "white"
           },
           "yaxis": {
            "backgroundcolor": "#E5ECF6",
            "gridcolor": "white",
            "gridwidth": 2,
            "linecolor": "white",
            "showbackground": true,
            "ticks": "",
            "zerolinecolor": "white"
           },
           "zaxis": {
            "backgroundcolor": "#E5ECF6",
            "gridcolor": "white",
            "gridwidth": 2,
            "linecolor": "white",
            "showbackground": true,
            "ticks": "",
            "zerolinecolor": "white"
           }
          },
          "shapedefaults": {
           "line": {
            "color": "#2a3f5f"
           }
          },
          "ternary": {
           "aaxis": {
            "gridcolor": "white",
            "linecolor": "white",
            "ticks": ""
           },
           "baxis": {
            "gridcolor": "white",
            "linecolor": "white",
            "ticks": ""
           },
           "bgcolor": "#E5ECF6",
           "caxis": {
            "gridcolor": "white",
            "linecolor": "white",
            "ticks": ""
           }
          },
          "title": {
           "x": 0.05
          },
          "xaxis": {
           "automargin": true,
           "gridcolor": "white",
           "linecolor": "white",
           "ticks": "",
           "title": {
            "standoff": 15
           },
           "zerolinecolor": "white",
           "zerolinewidth": 2
          },
          "yaxis": {
           "automargin": true,
           "gridcolor": "white",
           "linecolor": "white",
           "ticks": "",
           "title": {
            "standoff": 15
           },
           "zerolinecolor": "white",
           "zerolinewidth": 2
          }
         }
        },
        "title": {
         "text": "Gantt Chart"
        },
        "xaxis": {
         "rangeselector": {
          "buttons": [
           {
            "count": 7,
            "label": "1w",
            "step": "day",
            "stepmode": "backward"
           },
           {
            "count": 1,
            "label": "1m",
            "step": "month",
            "stepmode": "backward"
           },
           {
            "count": 6,
            "label": "6m",
            "step": "month",
            "stepmode": "backward"
           },
           {
            "count": 1,
            "label": "YTD",
            "step": "year",
            "stepmode": "todate"
           },
           {
            "count": 1,
            "label": "1y",
            "step": "year",
            "stepmode": "backward"
           },
           {
            "step": "all"
           }
          ]
         },
         "showgrid": false,
         "type": "date",
         "zeroline": false
        },
        "yaxis": {
         "autorange": false,
         "range": [
          -1,
          3
         ],
         "showgrid": false,
         "ticktext": [
          "w1",
          "w2"
         ],
         "tickvals": [
          0,
          1
         ],
         "zeroline": false
        }
       }
      }
     },
     "metadata": {},
     "output_type": "display_data"
    },
    {
     "data": {
      "image/png": "[encoded data removed]",
      "text/plain": [
       "<Figure size 432x288 with 1 Axes>"
      ]
     },
     "metadata": {
      "needs_background": "light"
     },
     "output_type": "display_data"
    }
   ],
   "source": [
    "optimizer = BaseGA(env)\n",
    "optimizer.configure('tardiness', 'twopointcrossover', 'roulettewheel', 'randomize')\n",
    "last_time_slot = 0\n",
    "for order in orders:\n",
    "    if order[1] > last_time_slot:\n",
    "        last_time_slot = order[1]\n",
    "# all parameters after offspring_amount are optional (in this case -> verbose=True)\n",
    "result, best_fitness_history, average_fitness_history, best_generation_history, feasible_gen = optimizer.optimize(orders, max_generations, earliest_time_slot, last_time_slot, population_size, offspring_amount, verbose=True)\n",
    "workstation_assignments = reformat_result(result, orders, env)\n",
    "visualize(workstation_assignments, best_fitness_history, average_fitness_history, best_generation_history, feasible_gen)"
   ]
  },
  {
   "cell_type": "markdown",
   "metadata": {},
   "source": [
    "<h1> Agents </2>"
   ]
  },
  {
   "cell_type": "markdown",
   "metadata": {},
   "source": [
    "Greedy"
   ]
  },
  {
   "cell_type": "code",
   "execution_count": 8,
   "metadata": {},
   "outputs": [
    {
     "name": "stdout",
     "output_type": "stream",
     "text": [
      "Scheduled 10/10 Orders\n"
     ]
    },
    {
     "data": {
      "application/vnd.plotly.v1+json": {
       "config": {
        "plotlyServerURL": "https://plot.ly"
       },
       "data": [
        {
         "fill": "toself",
         "fillcolor": "rgb(116, 239, 182)",
         "hoverinfo": "name",
         "legendgroup": "rgb(116, 239, 182)",
         "mode": "none",
         "name": "1",
         "type": "scatter",
         "x": [
          4538,
          4573,
          4573,
          4538
         ],
         "y": [
          -0.2,
          -0.2,
          0.2,
          0.2
         ]
        },
        {
         "fill": "toself",
         "fillcolor": "rgb(156, 23, 222)",
         "hoverinfo": "name",
         "legendgroup": "rgb(156, 23, 222)",
         "mode": "none",
         "name": "5",
         "type": "scatter",
         "x": [
          2814,
          2909,
          2909,
          2814,
          2814,
          2862,
          2957,
          2957,
          2862,
          2862,
          2301,
          2396,
          2396,
          2301,
          2301,
          1319,
          1414,
          1414,
          1319,
          1319,
          3851,
          3946,
          3946,
          3851,
          3851,
          4818,
          4913,
          4913,
          4818,
          4818,
          1152,
          1247,
          1247,
          1152
         ],
         "y": [
          0.8,
          0.8,
          1.2,
          1.2,
          null,
          0.8,
          0.8,
          1.2,
          1.2,
          null,
          0.8,
          0.8,
          1.2,
          1.2,
          null,
          0.8,
          0.8,
          1.2,
          1.2,
          null,
          0.8,
          0.8,
          1.2,
          1.2,
          null,
          0.8,
          0.8,
          1.2,
          1.2,
          null,
          0.8,
          0.8,
          1.2,
          1.2
         ]
        },
        {
         "fill": "toself",
         "fillcolor": "rgb(192, 59, 2)",
         "hoverinfo": "name",
         "legendgroup": "rgb(192, 59, 2)",
         "mode": "none",
         "name": "4",
         "type": "scatter",
         "x": [
          2731,
          2814,
          2814,
          2731,
          2731,
          2779,
          2862,
          2862,
          2779,
          2779,
          2218,
          2301,
          2301,
          2218,
          2218,
          4735,
          4818,
          4818,
          4735
         ],
         "y": [
          0.8,
          0.8,
          1.2,
          1.2,
          null,
          0.8,
          0.8,
          1.2,
          1.2,
          null,
          0.8,
          0.8,
          1.2,
          1.2,
          null,
          0.8,
          0.8,
          1.2,
          1.2
         ]
        },
        {
         "fill": "toself",
         "fillcolor": "rgb(228, 95, 38)",
         "hoverinfo": "name",
         "legendgroup": "rgb(228, 95, 38)",
         "mode": "none",
         "name": "7",
         "type": "scatter",
         "x": [
          4654,
          4707,
          4707,
          4654,
          4654,
          3692,
          3745,
          3745,
          3692
         ],
         "y": [
          0.8,
          0.8,
          1.2,
          1.2,
          null,
          0.8,
          0.8,
          1.2,
          1.2
         ]
        },
        {
         "fill": "toself",
         "fillcolor": "rgb(44, 167, 110)",
         "hoverinfo": "name",
         "legendgroup": "rgb(44, 167, 110)",
         "mode": "none",
         "name": "3",
         "type": "scatter",
         "x": [
          2656,
          2731,
          2731,
          2656,
          2656,
          4660,
          4735,
          4735,
          4660
         ],
         "y": [
          -0.2,
          -0.2,
          0.2,
          0.2,
          null,
          -0.2,
          -0.2,
          0.2,
          0.2
         ]
        },
        {
         "fill": "toself",
         "fillcolor": "rgb(8, 131, 74)",
         "hoverinfo": "name",
         "legendgroup": "rgb(8, 131, 74)",
         "mode": "none",
         "name": "9",
         "type": "scatter",
         "x": [
          3709,
          3782,
          3782,
          3709
         ],
         "y": [
          0.8,
          0.8,
          1.2,
          1.2
         ]
        },
        {
         "fill": "toself",
         "fillcolor": "rgb(80, 203, 146)",
         "hoverinfo": "name",
         "legendgroup": "rgb(80, 203, 146)",
         "mode": "none",
         "name": "2",
         "type": "scatter",
         "x": [
          4573,
          4660,
          4660,
          4573
         ],
         "y": [
          -0.2,
          -0.2,
          0.2,
          0.2
         ]
        },
        {
         "legendgroup": "rgb(116, 239, 182)",
         "marker": {
          "color": "rgb(116, 239, 182)",
          "opacity": 0,
          "size": 1
         },
         "mode": "markers",
         "name": "",
         "showlegend": false,
         "text": [
          null,
          null
         ],
         "type": "scatter",
         "x": [
          4538,
          4573
         ],
         "y": [
          0,
          0
         ]
        },
        {
         "legendgroup": "rgb(156, 23, 222)",
         "marker": {
          "color": "rgb(156, 23, 222)",
          "opacity": 0,
          "size": 1
         },
         "mode": "markers",
         "name": "",
         "showlegend": false,
         "text": [
          null,
          null,
          null,
          null,
          null,
          null,
          null,
          null,
          null,
          null,
          null,
          null,
          null,
          null
         ],
         "type": "scatter",
         "x": [
          2814,
          2909,
          2862,
          2957,
          2301,
          2396,
          1319,
          1414,
          3851,
          3946,
          4818,
          4913,
          1152,
          1247
         ],
         "y": [
          1,
          1,
          1,
          1,
          1,
          1,
          1,
          1,
          1,
          1,
          1,
          1,
          1,
          1
         ]
        },
        {
         "legendgroup": "rgb(192, 59, 2)",
         "marker": {
          "color": "rgb(192, 59, 2)",
          "opacity": 0,
          "size": 1
         },
         "mode": "markers",
         "name": "",
         "showlegend": false,
         "text": [
          null,
          null,
          null,
          null,
          null,
          null,
          null,
          null
         ],
         "type": "scatter",
         "x": [
          2731,
          2814,
          2779,
          2862,
          2218,
          2301,
          4735,
          4818
         ],
         "y": [
          1,
          1,
          1,
          1,
          1,
          1,
          1,
          1
         ]
        },
        {
         "legendgroup": "rgb(228, 95, 38)",
         "marker": {
          "color": "rgb(228, 95, 38)",
          "opacity": 0,
          "size": 1
         },
         "mode": "markers",
         "name": "",
         "showlegend": false,
         "text": [
          null,
          null,
          null,
          null
         ],
         "type": "scatter",
         "x": [
          4654,
          4707,
          3692,
          3745
         ],
         "y": [
          1,
          1,
          1,
          1
         ]
        },
        {
         "legendgroup": "rgb(44, 167, 110)",
         "marker": {
          "color": "rgb(44, 167, 110)",
          "opacity": 0,
          "size": 1
         },
         "mode": "markers",
         "name": "",
         "showlegend": false,
         "text": [
          null,
          null,
          null,
          null
         ],
         "type": "scatter",
         "x": [
          2656,
          2731,
          4660,
          4735
         ],
         "y": [
          0,
          0,
          0,
          0
         ]
        },
        {
         "legendgroup": "rgb(8, 131, 74)",
         "marker": {
          "color": "rgb(8, 131, 74)",
          "opacity": 0,
          "size": 1
         },
         "mode": "markers",
         "name": "",
         "showlegend": false,
         "text": [
          null,
          null
         ],
         "type": "scatter",
         "x": [
          3709,
          3782
         ],
         "y": [
          1,
          1
         ]
        },
        {
         "legendgroup": "rgb(80, 203, 146)",
         "marker": {
          "color": "rgb(80, 203, 146)",
          "opacity": 0,
          "size": 1
         },
         "mode": "markers",
         "name": "",
         "showlegend": false,
         "text": [
          null,
          null
         ],
         "type": "scatter",
         "x": [
          4573,
          4660
         ],
         "y": [
          0,
          0
         ]
        }
       ],
       "layout": {
        "height": 600,
        "hovermode": "closest",
        "showlegend": true,
        "template": {
         "data": {
          "bar": [
           {
            "error_x": {
             "color": "#2a3f5f"
            },
            "error_y": {
             "color": "#2a3f5f"
            },
            "marker": {
             "line": {
              "color": "#E5ECF6",
              "width": 0.5
             },
             "pattern": {
              "fillmode": "overlay",
              "size": 10,
              "solidity": 0.2
             }
            },
            "type": "bar"
           }
          ],
          "barpolar": [
           {
            "marker": {
             "line": {
              "color": "#E5ECF6",
              "width": 0.5
             },
             "pattern": {
              "fillmode": "overlay",
              "size": 10,
              "solidity": 0.2
             }
            },
            "type": "barpolar"
           }
          ],
          "carpet": [
           {
            "aaxis": {
             "endlinecolor": "#2a3f5f",
             "gridcolor": "white",
             "linecolor": "white",
             "minorgridcolor": "white",
             "startlinecolor": "#2a3f5f"
            },
            "baxis": {
             "endlinecolor": "#2a3f5f",
             "gridcolor": "white",
             "linecolor": "white",
             "minorgridcolor": "white",
             "startlinecolor": "#2a3f5f"
            },
            "type": "carpet"
           }
          ],
          "choropleth": [
           {
            "colorbar": {
             "outlinewidth": 0,
             "ticks": ""
            },
            "type": "choropleth"
           }
          ],
          "contour": [
           {
            "colorbar": {
             "outlinewidth": 0,
             "ticks": ""
            },
            "colorscale": [
             [
              0,
              "#0d0887"
             ],
             [
              0.1111111111111111,
              "#46039f"
             ],
             [
              0.2222222222222222,
              "#7201a8"
             ],
             [
              0.3333333333333333,
              "#9c179e"
             ],
             [
              0.4444444444444444,
              "#bd3786"
             ],
             [
              0.5555555555555556,
              "#d8576b"
             ],
             [
              0.6666666666666666,
              "#ed7953"
             ],
             [
              0.7777777777777778,
              "#fb9f3a"
             ],
             [
              0.8888888888888888,
              "#fdca26"
             ],
             [
              1,
              "#f0f921"
             ]
            ],
            "type": "contour"
           }
          ],
          "contourcarpet": [
           {
            "colorbar": {
             "outlinewidth": 0,
             "ticks": ""
            },
            "type": "contourcarpet"
           }
          ],
          "heatmap": [
           {
            "colorbar": {
             "outlinewidth": 0,
             "ticks": ""
            },
            "colorscale": [
             [
              0,
              "#0d0887"
             ],
             [
              0.1111111111111111,
              "#46039f"
             ],
             [
              0.2222222222222222,
              "#7201a8"
             ],
             [
              0.3333333333333333,
              "#9c179e"
             ],
             [
              0.4444444444444444,
              "#bd3786"
             ],
             [
              0.5555555555555556,
              "#d8576b"
             ],
             [
              0.6666666666666666,
              "#ed7953"
             ],
             [
              0.7777777777777778,
              "#fb9f3a"
             ],
             [
              0.8888888888888888,
              "#fdca26"
             ],
             [
              1,
              "#f0f921"
             ]
            ],
            "type": "heatmap"
           }
          ],
          "heatmapgl": [
           {
            "colorbar": {
             "outlinewidth": 0,
             "ticks": ""
            },
            "colorscale": [
             [
              0,
              "#0d0887"
             ],
             [
              0.1111111111111111,
              "#46039f"
             ],
             [
              0.2222222222222222,
              "#7201a8"
             ],
             [
              0.3333333333333333,
              "#9c179e"
             ],
             [
              0.4444444444444444,
              "#bd3786"
             ],
             [
              0.5555555555555556,
              "#d8576b"
             ],
             [
              0.6666666666666666,
              "#ed7953"
             ],
             [
              0.7777777777777778,
              "#fb9f3a"
             ],
             [
              0.8888888888888888,
              "#fdca26"
             ],
             [
              1,
              "#f0f921"
             ]
            ],
            "type": "heatmapgl"
           }
          ],
          "histogram": [
           {
            "marker": {
             "pattern": {
              "fillmode": "overlay",
              "size": 10,
              "solidity": 0.2
             }
            },
            "type": "histogram"
           }
          ],
          "histogram2d": [
           {
            "colorbar": {
             "outlinewidth": 0,
             "ticks": ""
            },
            "colorscale": [
             [
              0,
              "#0d0887"
             ],
             [
              0.1111111111111111,
              "#46039f"
             ],
             [
              0.2222222222222222,
              "#7201a8"
             ],
             [
              0.3333333333333333,
              "#9c179e"
             ],
             [
              0.4444444444444444,
              "#bd3786"
             ],
             [
              0.5555555555555556,
              "#d8576b"
             ],
             [
              0.6666666666666666,
              "#ed7953"
             ],
             [
              0.7777777777777778,
              "#fb9f3a"
             ],
             [
              0.8888888888888888,
              "#fdca26"
             ],
             [
              1,
              "#f0f921"
             ]
            ],
            "type": "histogram2d"
           }
          ],
          "histogram2dcontour": [
           {
            "colorbar": {
             "outlinewidth": 0,
             "ticks": ""
            },
            "colorscale": [
             [
              0,
              "#0d0887"
             ],
             [
              0.1111111111111111,
              "#46039f"
             ],
             [
              0.2222222222222222,
              "#7201a8"
             ],
             [
              0.3333333333333333,
              "#9c179e"
             ],
             [
              0.4444444444444444,
              "#bd3786"
             ],
             [
              0.5555555555555556,
              "#d8576b"
             ],
             [
              0.6666666666666666,
              "#ed7953"
             ],
             [
              0.7777777777777778,
              "#fb9f3a"
             ],
             [
              0.8888888888888888,
              "#fdca26"
             ],
             [
              1,
              "#f0f921"
             ]
            ],
            "type": "histogram2dcontour"
           }
          ],
          "mesh3d": [
           {
            "colorbar": {
             "outlinewidth": 0,
             "ticks": ""
            },
            "type": "mesh3d"
           }
          ],
          "parcoords": [
           {
            "line": {
             "colorbar": {
              "outlinewidth": 0,
              "ticks": ""
             }
            },
            "type": "parcoords"
           }
          ],
          "pie": [
           {
            "automargin": true,
            "type": "pie"
           }
          ],
          "scatter": [
           {
            "marker": {
             "colorbar": {
              "outlinewidth": 0,
              "ticks": ""
             }
            },
            "type": "scatter"
           }
          ],
          "scatter3d": [
           {
            "line": {
             "colorbar": {
              "outlinewidth": 0,
              "ticks": ""
             }
            },
            "marker": {
             "colorbar": {
              "outlinewidth": 0,
              "ticks": ""
             }
            },
            "type": "scatter3d"
           }
          ],
          "scattercarpet": [
           {
            "marker": {
             "colorbar": {
              "outlinewidth": 0,
              "ticks": ""
             }
            },
            "type": "scattercarpet"
           }
          ],
          "scattergeo": [
           {
            "marker": {
             "colorbar": {
              "outlinewidth": 0,
              "ticks": ""
             }
            },
            "type": "scattergeo"
           }
          ],
          "scattergl": [
           {
            "marker": {
             "colorbar": {
              "outlinewidth": 0,
              "ticks": ""
             }
            },
            "type": "scattergl"
           }
          ],
          "scattermapbox": [
           {
            "marker": {
             "colorbar": {
              "outlinewidth": 0,
              "ticks": ""
             }
            },
            "type": "scattermapbox"
           }
          ],
          "scatterpolar": [
           {
            "marker": {
             "colorbar": {
              "outlinewidth": 0,
              "ticks": ""
             }
            },
            "type": "scatterpolar"
           }
          ],
          "scatterpolargl": [
           {
            "marker": {
             "colorbar": {
              "outlinewidth": 0,
              "ticks": ""
             }
            },
            "type": "scatterpolargl"
           }
          ],
          "scatterternary": [
           {
            "marker": {
             "colorbar": {
              "outlinewidth": 0,
              "ticks": ""
             }
            },
            "type": "scatterternary"
           }
          ],
          "surface": [
           {
            "colorbar": {
             "outlinewidth": 0,
             "ticks": ""
            },
            "colorscale": [
             [
              0,
              "#0d0887"
             ],
             [
              0.1111111111111111,
              "#46039f"
             ],
             [
              0.2222222222222222,
              "#7201a8"
             ],
             [
              0.3333333333333333,
              "#9c179e"
             ],
             [
              0.4444444444444444,
              "#bd3786"
             ],
             [
              0.5555555555555556,
              "#d8576b"
             ],
             [
              0.6666666666666666,
              "#ed7953"
             ],
             [
              0.7777777777777778,
              "#fb9f3a"
             ],
             [
              0.8888888888888888,
              "#fdca26"
             ],
             [
              1,
              "#f0f921"
             ]
            ],
            "type": "surface"
           }
          ],
          "table": [
           {
            "cells": {
             "fill": {
              "color": "#EBF0F8"
             },
             "line": {
              "color": "white"
             }
            },
            "header": {
             "fill": {
              "color": "#C8D4E3"
             },
             "line": {
              "color": "white"
             }
            },
            "type": "table"
           }
          ]
         },
         "layout": {
          "annotationdefaults": {
           "arrowcolor": "#2a3f5f",
           "arrowhead": 0,
           "arrowwidth": 1
          },
          "autotypenumbers": "strict",
          "coloraxis": {
           "colorbar": {
            "outlinewidth": 0,
            "ticks": ""
           }
          },
          "colorscale": {
           "diverging": [
            [
             0,
             "#8e0152"
            ],
            [
             0.1,
             "#c51b7d"
            ],
            [
             0.2,
             "#de77ae"
            ],
            [
             0.3,
             "#f1b6da"
            ],
            [
             0.4,
             "#fde0ef"
            ],
            [
             0.5,
             "#f7f7f7"
            ],
            [
             0.6,
             "#e6f5d0"
            ],
            [
             0.7,
             "#b8e186"
            ],
            [
             0.8,
             "#7fbc41"
            ],
            [
             0.9,
             "#4d9221"
            ],
            [
             1,
             "#276419"
            ]
           ],
           "sequential": [
            [
             0,
             "#0d0887"
            ],
            [
             0.1111111111111111,
             "#46039f"
            ],
            [
             0.2222222222222222,
             "#7201a8"
            ],
            [
             0.3333333333333333,
             "#9c179e"
            ],
            [
             0.4444444444444444,
             "#bd3786"
            ],
            [
             0.5555555555555556,
             "#d8576b"
            ],
            [
             0.6666666666666666,
             "#ed7953"
            ],
            [
             0.7777777777777778,
             "#fb9f3a"
            ],
            [
             0.8888888888888888,
             "#fdca26"
            ],
            [
             1,
             "#f0f921"
            ]
           ],
           "sequentialminus": [
            [
             0,
             "#0d0887"
            ],
            [
             0.1111111111111111,
             "#46039f"
            ],
            [
             0.2222222222222222,
             "#7201a8"
            ],
            [
             0.3333333333333333,
             "#9c179e"
            ],
            [
             0.4444444444444444,
             "#bd3786"
            ],
            [
             0.5555555555555556,
             "#d8576b"
            ],
            [
             0.6666666666666666,
             "#ed7953"
            ],
            [
             0.7777777777777778,
             "#fb9f3a"
            ],
            [
             0.8888888888888888,
             "#fdca26"
            ],
            [
             1,
             "#f0f921"
            ]
           ]
          },
          "colorway": [
           "#636efa",
           "#EF553B",
           "#00cc96",
           "#ab63fa",
           "#FFA15A",
           "#19d3f3",
           "#FF6692",
           "#B6E880",
           "#FF97FF",
           "#FECB52"
          ],
          "font": {
           "color": "#2a3f5f"
          },
          "geo": {
           "bgcolor": "white",
           "lakecolor": "white",
           "landcolor": "#E5ECF6",
           "showlakes": true,
           "showland": true,
           "subunitcolor": "white"
          },
          "hoverlabel": {
           "align": "left"
          },
          "hovermode": "closest",
          "mapbox": {
           "style": "light"
          },
          "paper_bgcolor": "white",
          "plot_bgcolor": "#E5ECF6",
          "polar": {
           "angularaxis": {
            "gridcolor": "white",
            "linecolor": "white",
            "ticks": ""
           },
           "bgcolor": "#E5ECF6",
           "radialaxis": {
            "gridcolor": "white",
            "linecolor": "white",
            "ticks": ""
           }
          },
          "scene": {
           "xaxis": {
            "backgroundcolor": "#E5ECF6",
            "gridcolor": "white",
            "gridwidth": 2,
            "linecolor": "white",
            "showbackground": true,
            "ticks": "",
            "zerolinecolor": "white"
           },
           "yaxis": {
            "backgroundcolor": "#E5ECF6",
            "gridcolor": "white",
            "gridwidth": 2,
            "linecolor": "white",
            "showbackground": true,
            "ticks": "",
            "zerolinecolor": "white"
           },
           "zaxis": {
            "backgroundcolor": "#E5ECF6",
            "gridcolor": "white",
            "gridwidth": 2,
            "linecolor": "white",
            "showbackground": true,
            "ticks": "",
            "zerolinecolor": "white"
           }
          },
          "shapedefaults": {
           "line": {
            "color": "#2a3f5f"
           }
          },
          "ternary": {
           "aaxis": {
            "gridcolor": "white",
            "linecolor": "white",
            "ticks": ""
           },
           "baxis": {
            "gridcolor": "white",
            "linecolor": "white",
            "ticks": ""
           },
           "bgcolor": "#E5ECF6",
           "caxis": {
            "gridcolor": "white",
            "linecolor": "white",
            "ticks": ""
           }
          },
          "title": {
           "x": 0.05
          },
          "xaxis": {
           "automargin": true,
           "gridcolor": "white",
           "linecolor": "white",
           "ticks": "",
           "title": {
            "standoff": 15
           },
           "zerolinecolor": "white",
           "zerolinewidth": 2
          },
          "yaxis": {
           "automargin": true,
           "gridcolor": "white",
           "linecolor": "white",
           "ticks": "",
           "title": {
            "standoff": 15
           },
           "zerolinecolor": "white",
           "zerolinewidth": 2
          }
         }
        },
        "title": {
         "text": "Gantt Chart"
        },
        "xaxis": {
         "rangeselector": {
          "buttons": [
           {
            "count": 7,
            "label": "1w",
            "step": "day",
            "stepmode": "backward"
           },
           {
            "count": 1,
            "label": "1m",
            "step": "month",
            "stepmode": "backward"
           },
           {
            "count": 6,
            "label": "6m",
            "step": "month",
            "stepmode": "backward"
           },
           {
            "count": 1,
            "label": "YTD",
            "step": "year",
            "stepmode": "todate"
           },
           {
            "count": 1,
            "label": "1y",
            "step": "year",
            "stepmode": "backward"
           },
           {
            "step": "all"
           }
          ]
         },
         "showgrid": false,
         "type": "date",
         "zeroline": false
        },
        "yaxis": {
         "autorange": false,
         "range": [
          -1,
          3
         ],
         "showgrid": false,
         "ticktext": [
          "machine#1",
          "machine#2"
         ],
         "tickvals": [
          0,
          1
         ],
         "zeroline": false
        }
       }
      }
     },
     "metadata": {},
     "output_type": "display_data"
    }
   ],
   "source": [
    "agent = GreedyAgent(env)\n",
    "simulator = AgentSimulator()\n",
    "schedule, schedule_count = simulator.simulate(agent, orders_model)\n",
    "print(f'Scheduled {schedule_count}/{len(orders_model)} Orders')\n",
    "# TODO: replace static functions with functions from simulation environment\n",
    "visualize_schedule(schedule, env)"
   ]
  }
 ],
 "metadata": {
  "interpreter": {
   "hash": "df6f155d44bb1edce679adfdb5f7e6a78d2967f573664c6ef3414f6d6412dec1"
  },
  "kernelspec": {
   "display_name": "Python 3.9.5 64-bit",
   "language": "python",
   "name": "python3"
  },
  "language_info": {
   "codemirror_mode": {
    "name": "ipython",
    "version": 3
   },
   "file_extension": ".py",
   "mimetype": "text/x-python",
   "name": "python",
   "nbconvert_exporter": "python",
   "pygments_lexer": "ipython3",
   "version": "3.9.5"
  },
  "orig_nbformat": 4
 },
 "nbformat": 4,
 "nbformat_minor": 2
}
