{
 "cells": [
  {
   "cell_type": "markdown",
   "metadata": {},
   "source": [
    "<h1> Imports </h1>"
   ]
  },
  {
   "cell_type": "code",
   "execution_count": 1,
   "metadata": {},
   "outputs": [],
   "source": [
    "from read_data import read_dataset_1, translate_1, read_dataset_3, translate_3\n",
    "from models import SimulationEnvironment\n",
    "from optimizer import BaseGA, SimpleAgentGA\n",
    "from agent import GreedyAgent, AgentSimulator\n",
    "from visualize import reformat_result, visualize, visualize_schedule, fitness_history_plot\n",
    "import random\n",
    "import copy"
   ]
  },
  {
   "cell_type": "markdown",
   "metadata": {},
   "source": [
    "<h1>Parameters</h1>\n"
   ]
  },
  {
   "cell_type": "code",
   "execution_count": 2,
   "metadata": {},
   "outputs": [],
   "source": [
    "# Parameters\n",
    "max_generations = 20\n",
    "earliest_time_slot = 200\n",
    "last_time_slot = 5000\n",
    "population_size = 10\n",
    "offspring_amount = 20\n",
    "\n",
    "order_amount = 10"
   ]
  },
  {
   "cell_type": "markdown",
   "metadata": {},
   "source": [
    "<h1>Input Data</h1>\n",
    "<h4>Choose 1 of the following</h4>"
   ]
  },
  {
   "cell_type": "markdown",
   "metadata": {},
   "source": [
    "Dataset 1 (Job Shop Scheduling)"
   ]
  },
  {
   "cell_type": "code",
   "execution_count": 3,
   "metadata": {},
   "outputs": [],
   "source": [
    "input, orders, instance = read_dataset_1(use_instance=2, order_amount=order_amount, earliest_time=earliest_time_slot, last_time=last_time_slot)\n",
    "recipes, workstations, resources, tasks, orders_model = translate_1(instance, orders, earliest_time_slot, last_time_slot)"
   ]
  },
  {
   "cell_type": "markdown",
   "metadata": {},
   "source": [
    "Dataset 3, Resource Constrained (Job Shop Scheduling)"
   ]
  },
  {
   "cell_type": "code",
   "execution_count": 34,
   "metadata": {},
   "outputs": [],
   "source": [
    "input, orders, instance = read_dataset_3(order_amount=order_amount, earliest_time=earliest_time_slot, last_time=last_time_slot)\n",
    "recipes, workstations, resources, tasks, orders_model = translate_3(instance, n_workstations=10, generated_orders=orders, earliest=earliest_time_slot, latest=last_time_slot) # for dataset 3, the amount of available machines has to be declared (not included with the data)"
   ]
  },
  {
   "cell_type": "markdown",
   "metadata": {},
   "source": [
    "<h1> Simulation Environment Setup </h1>"
   ]
  },
  {
   "cell_type": "code",
   "execution_count": 4,
   "metadata": {},
   "outputs": [],
   "source": [
    "env = SimulationEnvironment(workstations, tasks, resources, recipes)"
   ]
  },
  {
   "cell_type": "markdown",
   "metadata": {},
   "source": [
    "<h1>Optimizer</h1>"
   ]
  },
  {
   "cell_type": "markdown",
   "metadata": {},
   "source": [
    "Config 1 - Test with One Point Crossover"
   ]
  },
  {
   "cell_type": "code",
   "execution_count": 5,
   "metadata": {},
   "outputs": [
    {
     "name": "stdout",
     "output_type": "stream",
     "text": [
      "Current generation: 0, Current Best: 86, not feasible\n",
      "New best individual found!\n",
      "Current generation: 1, Current Best: 84, not feasible\n",
      "Current generation: 2, Current Best: 84, not feasible\n",
      "New best individual found!\n",
      "Current generation: 3, Current Best: 83, not feasible\n",
      "New best individual found!\n",
      "Current generation: 4, Current Best: 81, not feasible\n",
      "Current generation: 5, Current Best: 81, not feasible\n",
      "New best individual found!\n",
      "Current generation: 6, Current Best: 80, not feasible\n",
      "New best individual found!\n",
      "Current generation: 7, Current Best: 79, not feasible\n",
      "Current generation: 8, Current Best: 79, not feasible\n",
      "New best individual found!\n",
      "Current generation: 9, Current Best: 78, not feasible\n",
      "New best individual found!\n",
      "Current generation: 10, Current Best: 77, not feasible\n",
      "New best individual found!\n",
      "Current generation: 11, Current Best: 76, not feasible\n",
      "New best individual found!\n",
      "Current generation: 12, Current Best: 75, not feasible\n",
      "Current generation: 13, Current Best: 75, not feasible\n",
      "New best individual found!\n",
      "Current generation: 14, Current Best: 74, not feasible\n",
      "Current generation: 15, Current Best: 74, not feasible\n",
      "Current generation: 16, Current Best: 74, not feasible\n",
      "Current generation: 17, Current Best: 74, not feasible\n",
      "New best individual found!\n",
      "Current generation: 18, Current Best: 73, not feasible\n",
      "Current generation: 19, Current Best: 73, not feasible\n",
      "New best individual found!\n"
     ]
    },
    {
     "data": {
      "application/vnd.plotly.v1+json": {
       "config": {
        "plotlyServerURL": "https://plot.ly"
       },
       "data": [
        {
         "fill": "toself",
         "fillcolor": "rgb(112, 241, 197)",
         "hoverinfo": "name",
         "legendgroup": "rgb(112, 241, 197)",
         "mode": "none",
         "name": "1",
         "type": "scatter",
         "x": [
          569,
          612,
          612,
          569,
          569,
          1498,
          1573,
          1573,
          1498,
          1498,
          3029,
          3072,
          3072,
          3029,
          3029,
          1024,
          1111,
          1111,
          1024,
          1024,
          2849,
          2936,
          2936,
          2849,
          2849,
          1888,
          1931,
          1931,
          1888
         ],
         "y": [
          0.8,
          0.8,
          1.2,
          1.2,
          null,
          0.8,
          0.8,
          1.2,
          1.2,
          null,
          0.8,
          0.8,
          1.2,
          1.2,
          null,
          0.8,
          0.8,
          1.2,
          1.2,
          null,
          0.8,
          0.8,
          1.2,
          1.2,
          null,
          0.8,
          0.8,
          1.2,
          1.2
         ]
        },
        {
         "fill": "toself",
         "fillcolor": "rgb(137, 10, 222)",
         "hoverinfo": "name",
         "legendgroup": "rgb(137, 10, 222)",
         "mode": "none",
         "name": "3",
         "type": "scatter",
         "x": [
          2029,
          2104,
          2104,
          2029,
          2029,
          2214,
          2249,
          2249,
          2214,
          2214,
          1920,
          1963,
          1963,
          1920,
          1920,
          880,
          923,
          923,
          880,
          880,
          1425,
          1468,
          1468,
          1425,
          1425,
          1829,
          1912,
          1912,
          1829
         ],
         "y": [
          0.8,
          0.8,
          1.2,
          1.2,
          null,
          0.8,
          0.8,
          1.2,
          1.2,
          null,
          0.8,
          0.8,
          1.2,
          1.2,
          null,
          0.8,
          0.8,
          1.2,
          1.2,
          null,
          0.8,
          0.8,
          1.2,
          1.2,
          null,
          -0.2,
          -0.2,
          0.2,
          0.2
         ]
        },
        {
         "fill": "toself",
         "fillcolor": "rgb(162, 35, 247)",
         "hoverinfo": "name",
         "legendgroup": "rgb(162, 35, 247)",
         "mode": "none",
         "name": "2",
         "type": "scatter",
         "x": [
          275,
          338,
          338,
          275,
          275,
          266,
          319,
          319,
          266,
          266,
          3382,
          3445,
          3445,
          3382,
          3382,
          4704,
          4757,
          4757,
          4704
         ],
         "y": [
          -0.2,
          -0.2,
          0.2,
          0.2,
          null,
          -0.2,
          -0.2,
          0.2,
          0.2,
          null,
          -0.2,
          -0.2,
          0.2,
          0.2,
          null,
          -0.2,
          -0.2,
          0.2,
          0.2
         ]
        },
        {
         "fill": "toself",
         "fillcolor": "rgb(187, 60, 16)",
         "hoverinfo": "name",
         "legendgroup": "rgb(187, 60, 16)",
         "mode": "none",
         "name": "4",
         "type": "scatter",
         "x": [
          1693,
          1766,
          1766,
          1693,
          1693,
          863,
          916,
          916,
          863,
          863,
          1847,
          1900,
          1900,
          1847,
          1847,
          2476,
          2529,
          2529,
          2476
         ],
         "y": [
          -0.2,
          -0.2,
          0.2,
          0.2,
          null,
          -0.2,
          -0.2,
          0.2,
          0.2,
          null,
          -0.2,
          -0.2,
          0.2,
          0.2,
          null,
          -0.2,
          -0.2,
          0.2,
          0.2
         ]
        },
        {
         "fill": "toself",
         "fillcolor": "rgb(212, 85, 41)",
         "hoverinfo": "name",
         "legendgroup": "rgb(212, 85, 41)",
         "mode": "none",
         "name": "5",
         "type": "scatter",
         "x": [
          879,
          994,
          994,
          879,
          879,
          2417,
          2478,
          2478,
          2417,
          2417,
          390,
          433,
          433,
          390,
          390,
          1414,
          1554,
          1554,
          1414,
          1414,
          2191,
          2326,
          2326,
          2191,
          2191,
          1450,
          1575,
          1575,
          1450,
          1450,
          2152,
          2195,
          2195,
          2152
         ],
         "y": [
          -0.2,
          -0.2,
          0.2,
          0.2,
          null,
          -0.2,
          -0.2,
          0.2,
          0.2,
          null,
          -0.2,
          -0.2,
          0.2,
          0.2,
          null,
          -0.2,
          -0.2,
          0.2,
          0.2,
          null,
          -0.2,
          -0.2,
          0.2,
          0.2,
          null,
          -0.2,
          -0.2,
          0.2,
          0.2,
          null,
          -0.2,
          -0.2,
          0.2,
          0.2
         ]
        },
        {
         "fill": "toself",
         "fillcolor": "rgb(237, 110, 66)",
         "hoverinfo": "name",
         "legendgroup": "rgb(237, 110, 66)",
         "mode": "none",
         "name": "6",
         "type": "scatter",
         "x": [
          1069,
          1209,
          1209,
          1069,
          1069,
          289,
          350,
          350,
          289,
          289,
          3038,
          3163,
          3163,
          3038,
          3038,
          4111,
          4246,
          4246,
          4111,
          4111,
          2101,
          2226,
          2226,
          2101,
          2101,
          3424,
          3564,
          3564,
          3424,
          3424,
          1875,
          2010,
          2010,
          1875
         ],
         "y": [
          -0.2,
          -0.2,
          0.2,
          0.2,
          null,
          -0.2,
          -0.2,
          0.2,
          0.2,
          null,
          -0.2,
          -0.2,
          0.2,
          0.2,
          null,
          -0.2,
          -0.2,
          0.2,
          0.2,
          null,
          -0.2,
          -0.2,
          0.2,
          0.2,
          null,
          -0.2,
          -0.2,
          0.2,
          0.2,
          null,
          -0.2,
          -0.2,
          0.2,
          0.2
         ]
        },
        {
         "fill": "toself",
         "fillcolor": "rgb(31, 160, 116)",
         "hoverinfo": "name",
         "legendgroup": "rgb(31, 160, 116)",
         "mode": "none",
         "name": "8",
         "type": "scatter",
         "x": [
          1388,
          1503,
          1503,
          1388,
          1388,
          1455,
          1595,
          1595,
          1455,
          1455,
          4079,
          4122,
          4122,
          4079,
          4079,
          1096,
          1139,
          1139,
          1096,
          1096,
          474,
          614,
          614,
          474,
          474,
          1757,
          1892,
          1892,
          1757,
          1757,
          1414,
          1475,
          1475,
          1414
         ],
         "y": [
          -0.2,
          -0.2,
          0.2,
          0.2,
          null,
          -0.2,
          -0.2,
          0.2,
          0.2,
          null,
          -0.2,
          -0.2,
          0.2,
          0.2,
          null,
          -0.2,
          -0.2,
          0.2,
          0.2,
          null,
          -0.2,
          -0.2,
          0.2,
          0.2,
          null,
          -0.2,
          -0.2,
          0.2,
          0.2,
          null,
          -0.2,
          -0.2,
          0.2,
          0.2
         ]
        },
        {
         "fill": "toself",
         "fillcolor": "rgb(56, 185, 141)",
         "hoverinfo": "name",
         "legendgroup": "rgb(56, 185, 141)",
         "mode": "none",
         "name": "9",
         "type": "scatter",
         "x": [
          2227,
          2270,
          2270,
          2227,
          2227,
          3496,
          3631,
          3631,
          3496,
          3496,
          428,
          486,
          486,
          428,
          428,
          417,
          460,
          460,
          417,
          417,
          3199,
          3324,
          3324,
          3199,
          3199,
          2692,
          2832,
          2832,
          2692,
          2692,
          1714,
          1839,
          1839,
          1714
         ],
         "y": [
          -0.2,
          -0.2,
          0.2,
          0.2,
          null,
          -0.2,
          -0.2,
          0.2,
          0.2,
          null,
          -0.2,
          -0.2,
          0.2,
          0.2,
          null,
          -0.2,
          -0.2,
          0.2,
          0.2,
          null,
          -0.2,
          -0.2,
          0.2,
          0.2,
          null,
          -0.2,
          -0.2,
          0.2,
          0.2,
          null,
          -0.2,
          -0.2,
          0.2,
          0.2
         ]
        },
        {
         "fill": "toself",
         "fillcolor": "rgb(6, 135, 91)",
         "hoverinfo": "name",
         "legendgroup": "rgb(6, 135, 91)",
         "mode": "none",
         "name": "7",
         "type": "scatter",
         "x": [
          2208,
          2271,
          2271,
          2208,
          2208,
          3578,
          3651,
          3651,
          3578,
          3578,
          2369,
          2422,
          2422,
          2369,
          2369,
          2609,
          2653,
          2653,
          2609
         ],
         "y": [
          -0.2,
          -0.2,
          0.2,
          0.2,
          null,
          -0.2,
          -0.2,
          0.2,
          0.2,
          null,
          -0.2,
          -0.2,
          0.2,
          0.2,
          null,
          -0.2,
          -0.2,
          0.2,
          0.2
         ]
        },
        {
         "fill": "toself",
         "fillcolor": "rgb(87, 216, 172)",
         "hoverinfo": "name",
         "legendgroup": "rgb(87, 216, 172)",
         "mode": "none",
         "name": "0",
         "type": "scatter",
         "x": [
          3626,
          3713,
          3713,
          3626,
          3626,
          459,
          502,
          502,
          459,
          459,
          2996,
          3039,
          3039,
          2996,
          2996,
          1439,
          1482,
          1482,
          1439,
          1439,
          2586,
          2673,
          2673,
          2586,
          2586,
          322,
          397,
          397,
          322
         ],
         "y": [
          0.8,
          0.8,
          1.2,
          1.2,
          null,
          0.8,
          0.8,
          1.2,
          1.2,
          null,
          0.8,
          0.8,
          1.2,
          1.2,
          null,
          0.8,
          0.8,
          1.2,
          1.2,
          null,
          0.8,
          0.8,
          1.2,
          1.2,
          null,
          0.8,
          0.8,
          1.2,
          1.2
         ]
        },
        {
         "legendgroup": "rgb(112, 241, 197)",
         "marker": {
          "color": "rgb(112, 241, 197)",
          "opacity": 0,
          "size": 1
         },
         "mode": "markers",
         "name": "",
         "showlegend": false,
         "text": [
          null,
          null,
          null,
          null,
          null,
          null,
          null,
          null,
          null,
          null,
          null,
          null
         ],
         "type": "scatter",
         "x": [
          569,
          612,
          1498,
          1573,
          3029,
          3072,
          1024,
          1111,
          2849,
          2936,
          1888,
          1931
         ],
         "y": [
          1,
          1,
          1,
          1,
          1,
          1,
          1,
          1,
          1,
          1,
          1,
          1
         ]
        },
        {
         "legendgroup": "rgb(137, 10, 222)",
         "marker": {
          "color": "rgb(137, 10, 222)",
          "opacity": 0,
          "size": 1
         },
         "mode": "markers",
         "name": "",
         "showlegend": false,
         "text": [
          null,
          null,
          null,
          null,
          null,
          null,
          null,
          null,
          null,
          null,
          null,
          null
         ],
         "type": "scatter",
         "x": [
          2029,
          2104,
          2214,
          2249,
          1920,
          1963,
          880,
          923,
          1425,
          1468,
          1829,
          1912
         ],
         "y": [
          1,
          1,
          1,
          1,
          1,
          1,
          1,
          1,
          1,
          1,
          0,
          0
         ]
        },
        {
         "legendgroup": "rgb(162, 35, 247)",
         "marker": {
          "color": "rgb(162, 35, 247)",
          "opacity": 0,
          "size": 1
         },
         "mode": "markers",
         "name": "",
         "showlegend": false,
         "text": [
          null,
          null,
          null,
          null,
          null,
          null,
          null,
          null
         ],
         "type": "scatter",
         "x": [
          275,
          338,
          266,
          319,
          3382,
          3445,
          4704,
          4757
         ],
         "y": [
          0,
          0,
          0,
          0,
          0,
          0,
          0,
          0
         ]
        },
        {
         "legendgroup": "rgb(187, 60, 16)",
         "marker": {
          "color": "rgb(187, 60, 16)",
          "opacity": 0,
          "size": 1
         },
         "mode": "markers",
         "name": "",
         "showlegend": false,
         "text": [
          null,
          null,
          null,
          null,
          null,
          null,
          null,
          null
         ],
         "type": "scatter",
         "x": [
          1693,
          1766,
          863,
          916,
          1847,
          1900,
          2476,
          2529
         ],
         "y": [
          0,
          0,
          0,
          0,
          0,
          0,
          0,
          0
         ]
        },
        {
         "legendgroup": "rgb(212, 85, 41)",
         "marker": {
          "color": "rgb(212, 85, 41)",
          "opacity": 0,
          "size": 1
         },
         "mode": "markers",
         "name": "",
         "showlegend": false,
         "text": [
          null,
          null,
          null,
          null,
          null,
          null,
          null,
          null,
          null,
          null,
          null,
          null,
          null,
          null
         ],
         "type": "scatter",
         "x": [
          879,
          994,
          2417,
          2478,
          390,
          433,
          1414,
          1554,
          2191,
          2326,
          1450,
          1575,
          2152,
          2195
         ],
         "y": [
          0,
          0,
          0,
          0,
          0,
          0,
          0,
          0,
          0,
          0,
          0,
          0,
          0,
          0
         ]
        },
        {
         "legendgroup": "rgb(237, 110, 66)",
         "marker": {
          "color": "rgb(237, 110, 66)",
          "opacity": 0,
          "size": 1
         },
         "mode": "markers",
         "name": "",
         "showlegend": false,
         "text": [
          null,
          null,
          null,
          null,
          null,
          null,
          null,
          null,
          null,
          null,
          null,
          null,
          null,
          null
         ],
         "type": "scatter",
         "x": [
          1069,
          1209,
          289,
          350,
          3038,
          3163,
          4111,
          4246,
          2101,
          2226,
          3424,
          3564,
          1875,
          2010
         ],
         "y": [
          0,
          0,
          0,
          0,
          0,
          0,
          0,
          0,
          0,
          0,
          0,
          0,
          0,
          0
         ]
        },
        {
         "legendgroup": "rgb(31, 160, 116)",
         "marker": {
          "color": "rgb(31, 160, 116)",
          "opacity": 0,
          "size": 1
         },
         "mode": "markers",
         "name": "",
         "showlegend": false,
         "text": [
          null,
          null,
          null,
          null,
          null,
          null,
          null,
          null,
          null,
          null,
          null,
          null,
          null,
          null
         ],
         "type": "scatter",
         "x": [
          1388,
          1503,
          1455,
          1595,
          4079,
          4122,
          1096,
          1139,
          474,
          614,
          1757,
          1892,
          1414,
          1475
         ],
         "y": [
          0,
          0,
          0,
          0,
          0,
          0,
          0,
          0,
          0,
          0,
          0,
          0,
          0,
          0
         ]
        },
        {
         "legendgroup": "rgb(56, 185, 141)",
         "marker": {
          "color": "rgb(56, 185, 141)",
          "opacity": 0,
          "size": 1
         },
         "mode": "markers",
         "name": "",
         "showlegend": false,
         "text": [
          null,
          null,
          null,
          null,
          null,
          null,
          null,
          null,
          null,
          null,
          null,
          null,
          null,
          null
         ],
         "type": "scatter",
         "x": [
          2227,
          2270,
          3496,
          3631,
          428,
          486,
          417,
          460,
          3199,
          3324,
          2692,
          2832,
          1714,
          1839
         ],
         "y": [
          0,
          0,
          0,
          0,
          0,
          0,
          0,
          0,
          0,
          0,
          0,
          0,
          0,
          0
         ]
        },
        {
         "legendgroup": "rgb(6, 135, 91)",
         "marker": {
          "color": "rgb(6, 135, 91)",
          "opacity": 0,
          "size": 1
         },
         "mode": "markers",
         "name": "",
         "showlegend": false,
         "text": [
          null,
          null,
          null,
          null,
          null,
          null,
          null,
          null
         ],
         "type": "scatter",
         "x": [
          2208,
          2271,
          3578,
          3651,
          2369,
          2422,
          2609,
          2653
         ],
         "y": [
          0,
          0,
          0,
          0,
          0,
          0,
          0,
          0
         ]
        },
        {
         "legendgroup": "rgb(87, 216, 172)",
         "marker": {
          "color": "rgb(87, 216, 172)",
          "opacity": 0,
          "size": 1
         },
         "mode": "markers",
         "name": "",
         "showlegend": false,
         "text": [
          null,
          null,
          null,
          null,
          null,
          null,
          null,
          null,
          null,
          null,
          null,
          null
         ],
         "type": "scatter",
         "x": [
          3626,
          3713,
          459,
          502,
          2996,
          3039,
          1439,
          1482,
          2586,
          2673,
          322,
          397
         ],
         "y": [
          1,
          1,
          1,
          1,
          1,
          1,
          1,
          1,
          1,
          1,
          1,
          1
         ]
        }
       ],
       "layout": {
        "height": 600,
        "hovermode": "closest",
        "showlegend": true,
        "template": {
         "data": {
          "bar": [
           {
            "error_x": {
             "color": "#2a3f5f"
            },
            "error_y": {
             "color": "#2a3f5f"
            },
            "marker": {
             "line": {
              "color": "#E5ECF6",
              "width": 0.5
             },
             "pattern": {
              "fillmode": "overlay",
              "size": 10,
              "solidity": 0.2
             }
            },
            "type": "bar"
           }
          ],
          "barpolar": [
           {
            "marker": {
             "line": {
              "color": "#E5ECF6",
              "width": 0.5
             },
             "pattern": {
              "fillmode": "overlay",
              "size": 10,
              "solidity": 0.2
             }
            },
            "type": "barpolar"
           }
          ],
          "carpet": [
           {
            "aaxis": {
             "endlinecolor": "#2a3f5f",
             "gridcolor": "white",
             "linecolor": "white",
             "minorgridcolor": "white",
             "startlinecolor": "#2a3f5f"
            },
            "baxis": {
             "endlinecolor": "#2a3f5f",
             "gridcolor": "white",
             "linecolor": "white",
             "minorgridcolor": "white",
             "startlinecolor": "#2a3f5f"
            },
            "type": "carpet"
           }
          ],
          "choropleth": [
           {
            "colorbar": {
             "outlinewidth": 0,
             "ticks": ""
            },
            "type": "choropleth"
           }
          ],
          "contour": [
           {
            "colorbar": {
             "outlinewidth": 0,
             "ticks": ""
            },
            "colorscale": [
             [
              0,
              "#0d0887"
             ],
             [
              0.1111111111111111,
              "#46039f"
             ],
             [
              0.2222222222222222,
              "#7201a8"
             ],
             [
              0.3333333333333333,
              "#9c179e"
             ],
             [
              0.4444444444444444,
              "#bd3786"
             ],
             [
              0.5555555555555556,
              "#d8576b"
             ],
             [
              0.6666666666666666,
              "#ed7953"
             ],
             [
              0.7777777777777778,
              "#fb9f3a"
             ],
             [
              0.8888888888888888,
              "#fdca26"
             ],
             [
              1,
              "#f0f921"
             ]
            ],
            "type": "contour"
           }
          ],
          "contourcarpet": [
           {
            "colorbar": {
             "outlinewidth": 0,
             "ticks": ""
            },
            "type": "contourcarpet"
           }
          ],
          "heatmap": [
           {
            "colorbar": {
             "outlinewidth": 0,
             "ticks": ""
            },
            "colorscale": [
             [
              0,
              "#0d0887"
             ],
             [
              0.1111111111111111,
              "#46039f"
             ],
             [
              0.2222222222222222,
              "#7201a8"
             ],
             [
              0.3333333333333333,
              "#9c179e"
             ],
             [
              0.4444444444444444,
              "#bd3786"
             ],
             [
              0.5555555555555556,
              "#d8576b"
             ],
             [
              0.6666666666666666,
              "#ed7953"
             ],
             [
              0.7777777777777778,
              "#fb9f3a"
             ],
             [
              0.8888888888888888,
              "#fdca26"
             ],
             [
              1,
              "#f0f921"
             ]
            ],
            "type": "heatmap"
           }
          ],
          "heatmapgl": [
           {
            "colorbar": {
             "outlinewidth": 0,
             "ticks": ""
            },
            "colorscale": [
             [
              0,
              "#0d0887"
             ],
             [
              0.1111111111111111,
              "#46039f"
             ],
             [
              0.2222222222222222,
              "#7201a8"
             ],
             [
              0.3333333333333333,
              "#9c179e"
             ],
             [
              0.4444444444444444,
              "#bd3786"
             ],
             [
              0.5555555555555556,
              "#d8576b"
             ],
             [
              0.6666666666666666,
              "#ed7953"
             ],
             [
              0.7777777777777778,
              "#fb9f3a"
             ],
             [
              0.8888888888888888,
              "#fdca26"
             ],
             [
              1,
              "#f0f921"
             ]
            ],
            "type": "heatmapgl"
           }
          ],
          "histogram": [
           {
            "marker": {
             "pattern": {
              "fillmode": "overlay",
              "size": 10,
              "solidity": 0.2
             }
            },
            "type": "histogram"
           }
          ],
          "histogram2d": [
           {
            "colorbar": {
             "outlinewidth": 0,
             "ticks": ""
            },
            "colorscale": [
             [
              0,
              "#0d0887"
             ],
             [
              0.1111111111111111,
              "#46039f"
             ],
             [
              0.2222222222222222,
              "#7201a8"
             ],
             [
              0.3333333333333333,
              "#9c179e"
             ],
             [
              0.4444444444444444,
              "#bd3786"
             ],
             [
              0.5555555555555556,
              "#d8576b"
             ],
             [
              0.6666666666666666,
              "#ed7953"
             ],
             [
              0.7777777777777778,
              "#fb9f3a"
             ],
             [
              0.8888888888888888,
              "#fdca26"
             ],
             [
              1,
              "#f0f921"
             ]
            ],
            "type": "histogram2d"
           }
          ],
          "histogram2dcontour": [
           {
            "colorbar": {
             "outlinewidth": 0,
             "ticks": ""
            },
            "colorscale": [
             [
              0,
              "#0d0887"
             ],
             [
              0.1111111111111111,
              "#46039f"
             ],
             [
              0.2222222222222222,
              "#7201a8"
             ],
             [
              0.3333333333333333,
              "#9c179e"
             ],
             [
              0.4444444444444444,
              "#bd3786"
             ],
             [
              0.5555555555555556,
              "#d8576b"
             ],
             [
              0.6666666666666666,
              "#ed7953"
             ],
             [
              0.7777777777777778,
              "#fb9f3a"
             ],
             [
              0.8888888888888888,
              "#fdca26"
             ],
             [
              1,
              "#f0f921"
             ]
            ],
            "type": "histogram2dcontour"
           }
          ],
          "mesh3d": [
           {
            "colorbar": {
             "outlinewidth": 0,
             "ticks": ""
            },
            "type": "mesh3d"
           }
          ],
          "parcoords": [
           {
            "line": {
             "colorbar": {
              "outlinewidth": 0,
              "ticks": ""
             }
            },
            "type": "parcoords"
           }
          ],
          "pie": [
           {
            "automargin": true,
            "type": "pie"
           }
          ],
          "scatter": [
           {
            "marker": {
             "colorbar": {
              "outlinewidth": 0,
              "ticks": ""
             }
            },
            "type": "scatter"
           }
          ],
          "scatter3d": [
           {
            "line": {
             "colorbar": {
              "outlinewidth": 0,
              "ticks": ""
             }
            },
            "marker": {
             "colorbar": {
              "outlinewidth": 0,
              "ticks": ""
             }
            },
            "type": "scatter3d"
           }
          ],
          "scattercarpet": [
           {
            "marker": {
             "colorbar": {
              "outlinewidth": 0,
              "ticks": ""
             }
            },
            "type": "scattercarpet"
           }
          ],
          "scattergeo": [
           {
            "marker": {
             "colorbar": {
              "outlinewidth": 0,
              "ticks": ""
             }
            },
            "type": "scattergeo"
           }
          ],
          "scattergl": [
           {
            "marker": {
             "colorbar": {
              "outlinewidth": 0,
              "ticks": ""
             }
            },
            "type": "scattergl"
           }
          ],
          "scattermapbox": [
           {
            "marker": {
             "colorbar": {
              "outlinewidth": 0,
              "ticks": ""
             }
            },
            "type": "scattermapbox"
           }
          ],
          "scatterpolar": [
           {
            "marker": {
             "colorbar": {
              "outlinewidth": 0,
              "ticks": ""
             }
            },
            "type": "scatterpolar"
           }
          ],
          "scatterpolargl": [
           {
            "marker": {
             "colorbar": {
              "outlinewidth": 0,
              "ticks": ""
             }
            },
            "type": "scatterpolargl"
           }
          ],
          "scatterternary": [
           {
            "marker": {
             "colorbar": {
              "outlinewidth": 0,
              "ticks": ""
             }
            },
            "type": "scatterternary"
           }
          ],
          "surface": [
           {
            "colorbar": {
             "outlinewidth": 0,
             "ticks": ""
            },
            "colorscale": [
             [
              0,
              "#0d0887"
             ],
             [
              0.1111111111111111,
              "#46039f"
             ],
             [
              0.2222222222222222,
              "#7201a8"
             ],
             [
              0.3333333333333333,
              "#9c179e"
             ],
             [
              0.4444444444444444,
              "#bd3786"
             ],
             [
              0.5555555555555556,
              "#d8576b"
             ],
             [
              0.6666666666666666,
              "#ed7953"
             ],
             [
              0.7777777777777778,
              "#fb9f3a"
             ],
             [
              0.8888888888888888,
              "#fdca26"
             ],
             [
              1,
              "#f0f921"
             ]
            ],
            "type": "surface"
           }
          ],
          "table": [
           {
            "cells": {
             "fill": {
              "color": "#EBF0F8"
             },
             "line": {
              "color": "white"
             }
            },
            "header": {
             "fill": {
              "color": "#C8D4E3"
             },
             "line": {
              "color": "white"
             }
            },
            "type": "table"
           }
          ]
         },
         "layout": {
          "annotationdefaults": {
           "arrowcolor": "#2a3f5f",
           "arrowhead": 0,
           "arrowwidth": 1
          },
          "autotypenumbers": "strict",
          "coloraxis": {
           "colorbar": {
            "outlinewidth": 0,
            "ticks": ""
           }
          },
          "colorscale": {
           "diverging": [
            [
             0,
             "#8e0152"
            ],
            [
             0.1,
             "#c51b7d"
            ],
            [
             0.2,
             "#de77ae"
            ],
            [
             0.3,
             "#f1b6da"
            ],
            [
             0.4,
             "#fde0ef"
            ],
            [
             0.5,
             "#f7f7f7"
            ],
            [
             0.6,
             "#e6f5d0"
            ],
            [
             0.7,
             "#b8e186"
            ],
            [
             0.8,
             "#7fbc41"
            ],
            [
             0.9,
             "#4d9221"
            ],
            [
             1,
             "#276419"
            ]
           ],
           "sequential": [
            [
             0,
             "#0d0887"
            ],
            [
             0.1111111111111111,
             "#46039f"
            ],
            [
             0.2222222222222222,
             "#7201a8"
            ],
            [
             0.3333333333333333,
             "#9c179e"
            ],
            [
             0.4444444444444444,
             "#bd3786"
            ],
            [
             0.5555555555555556,
             "#d8576b"
            ],
            [
             0.6666666666666666,
             "#ed7953"
            ],
            [
             0.7777777777777778,
             "#fb9f3a"
            ],
            [
             0.8888888888888888,
             "#fdca26"
            ],
            [
             1,
             "#f0f921"
            ]
           ],
           "sequentialminus": [
            [
             0,
             "#0d0887"
            ],
            [
             0.1111111111111111,
             "#46039f"
            ],
            [
             0.2222222222222222,
             "#7201a8"
            ],
            [
             0.3333333333333333,
             "#9c179e"
            ],
            [
             0.4444444444444444,
             "#bd3786"
            ],
            [
             0.5555555555555556,
             "#d8576b"
            ],
            [
             0.6666666666666666,
             "#ed7953"
            ],
            [
             0.7777777777777778,
             "#fb9f3a"
            ],
            [
             0.8888888888888888,
             "#fdca26"
            ],
            [
             1,
             "#f0f921"
            ]
           ]
          },
          "colorway": [
           "#636efa",
           "#EF553B",
           "#00cc96",
           "#ab63fa",
           "#FFA15A",
           "#19d3f3",
           "#FF6692",
           "#B6E880",
           "#FF97FF",
           "#FECB52"
          ],
          "font": {
           "color": "#2a3f5f"
          },
          "geo": {
           "bgcolor": "white",
           "lakecolor": "white",
           "landcolor": "#E5ECF6",
           "showlakes": true,
           "showland": true,
           "subunitcolor": "white"
          },
          "hoverlabel": {
           "align": "left"
          },
          "hovermode": "closest",
          "mapbox": {
           "style": "light"
          },
          "paper_bgcolor": "white",
          "plot_bgcolor": "#E5ECF6",
          "polar": {
           "angularaxis": {
            "gridcolor": "white",
            "linecolor": "white",
            "ticks": ""
           },
           "bgcolor": "#E5ECF6",
           "radialaxis": {
            "gridcolor": "white",
            "linecolor": "white",
            "ticks": ""
           }
          },
          "scene": {
           "xaxis": {
            "backgroundcolor": "#E5ECF6",
            "gridcolor": "white",
            "gridwidth": 2,
            "linecolor": "white",
            "showbackground": true,
            "ticks": "",
            "zerolinecolor": "white"
           },
           "yaxis": {
            "backgroundcolor": "#E5ECF6",
            "gridcolor": "white",
            "gridwidth": 2,
            "linecolor": "white",
            "showbackground": true,
            "ticks": "",
            "zerolinecolor": "white"
           },
           "zaxis": {
            "backgroundcolor": "#E5ECF6",
            "gridcolor": "white",
            "gridwidth": 2,
            "linecolor": "white",
            "showbackground": true,
            "ticks": "",
            "zerolinecolor": "white"
           }
          },
          "shapedefaults": {
           "line": {
            "color": "#2a3f5f"
           }
          },
          "ternary": {
           "aaxis": {
            "gridcolor": "white",
            "linecolor": "white",
            "ticks": ""
           },
           "baxis": {
            "gridcolor": "white",
            "linecolor": "white",
            "ticks": ""
           },
           "bgcolor": "#E5ECF6",
           "caxis": {
            "gridcolor": "white",
            "linecolor": "white",
            "ticks": ""
           }
          },
          "title": {
           "x": 0.05
          },
          "xaxis": {
           "automargin": true,
           "gridcolor": "white",
           "linecolor": "white",
           "ticks": "",
           "title": {
            "standoff": 15
           },
           "zerolinecolor": "white",
           "zerolinewidth": 2
          },
          "yaxis": {
           "automargin": true,
           "gridcolor": "white",
           "linecolor": "white",
           "ticks": "",
           "title": {
            "standoff": 15
           },
           "zerolinecolor": "white",
           "zerolinewidth": 2
          }
         }
        },
        "title": {
         "text": "Gantt Chart"
        },
        "xaxis": {
         "rangeselector": {
          "buttons": [
           {
            "count": 7,
            "label": "1w",
            "step": "day",
            "stepmode": "backward"
           },
           {
            "count": 1,
            "label": "1m",
            "step": "month",
            "stepmode": "backward"
           },
           {
            "count": 6,
            "label": "6m",
            "step": "month",
            "stepmode": "backward"
           },
           {
            "count": 1,
            "label": "YTD",
            "step": "year",
            "stepmode": "todate"
           },
           {
            "count": 1,
            "label": "1y",
            "step": "year",
            "stepmode": "backward"
           },
           {
            "step": "all"
           }
          ]
         },
         "showgrid": false,
         "type": "date",
         "zeroline": false
        },
        "yaxis": {
         "autorange": false,
         "range": [
          -1,
          3
         ],
         "showgrid": false,
         "ticktext": [
          "w2",
          "w1"
         ],
         "tickvals": [
          0,
          1
         ],
         "zeroline": false
        }
       }
      }
     },
     "metadata": {},
     "output_type": "display_data"
    },
    {
     "data": {
      "image/png": "[encoded data removed]",
      "text/plain": [
       "<Figure size 432x288 with 1 Axes>"
      ]
     },
     "metadata": {
      "needs_background": "light"
     },
     "output_type": "display_data"
    }
   ],
   "source": [
    "optimizer = BaseGA(env)\n",
    "optimizer.set_minimize()\n",
    "# optional (in this case, all options given are the default option, if the configuration step is skipped)\n",
    "optimizer.configure('tardiness', 'onepointcrossover', 'roulettewheel', 'randomize')\n",
    "# choose an input generator (optional) -> decides how the data gets converted into the optimizer format\n",
    "# optimizer.set_input_generator('SameLengthAlternativesGenerator')\n",
    "# all parameters after offspring_amount are optional (in this case -> verbose=True)\n",
    "result, best_fitness_history, average_fitness_history, best_generation_history, feasible_gen = optimizer.optimize(orders, max_generations, earliest_time_slot, last_time_slot, population_size, offspring_amount, verbose=True)\n",
    "workstation_assignments = reformat_result(result, orders, env)\n",
    "visualize(workstation_assignments, best_fitness_history, average_fitness_history, best_generation_history, feasible_gen)"
   ]
  },
  {
   "cell_type": "markdown",
   "metadata": {},
   "source": [
    "Config 2 - Test with Two Point Crossover"
   ]
  },
  {
   "cell_type": "code",
   "execution_count": 6,
   "metadata": {},
   "outputs": [
    {
     "name": "stdout",
     "output_type": "stream",
     "text": [
      "Current generation: 0, Current Best: 86, not feasible\n",
      "Current generation: 1, Current Best: 86, not feasible\n",
      "New best individual found!\n",
      "Current generation: 2, Current Best: 81, not feasible\n",
      "Current generation: 3, Current Best: 81, not feasible\n",
      "New best individual found!\n",
      "Current generation: 4, Current Best: 80, not feasible\n",
      "New best individual found!\n",
      "Current generation: 5, Current Best: 79, not feasible\n",
      "Current generation: 6, Current Best: 79, not feasible\n",
      "Current generation: 7, Current Best: 79, not feasible\n",
      "New best individual found!\n",
      "Current generation: 8, Current Best: 78, not feasible\n",
      "Current generation: 9, Current Best: 78, not feasible\n",
      "New best individual found!\n",
      "Current generation: 10, Current Best: 77, not feasible\n",
      "Current generation: 11, Current Best: 77, not feasible\n",
      "New best individual found!\n",
      "Current generation: 12, Current Best: 76, not feasible\n",
      "Current generation: 13, Current Best: 76, not feasible\n",
      "New best individual found!\n",
      "Current generation: 14, Current Best: 75, not feasible\n",
      "Current generation: 15, Current Best: 75, not feasible\n",
      "New best individual found!\n",
      "Current generation: 16, Current Best: 74, not feasible\n",
      "Current generation: 17, Current Best: 74, not feasible\n",
      "New best individual found!\n",
      "Current generation: 18, Current Best: 73, not feasible\n",
      "New best individual found!\n",
      "Current generation: 19, Current Best: 72, not feasible\n"
     ]
    },
    {
     "data": {
      "application/vnd.plotly.v1+json": {
       "config": {
        "plotlyServerURL": "https://plot.ly"
       },
       "data": [
        {
         "fill": "toself",
         "fillcolor": "rgb(105, 47, 137)",
         "hoverinfo": "name",
         "legendgroup": "rgb(105, 47, 137)",
         "mode": "none",
         "name": "0",
         "type": "scatter",
         "x": [
          495,
          578,
          578,
          495,
          495,
          2131,
          2206,
          2206,
          2131,
          2131,
          1941,
          1976,
          1976,
          1941,
          1941,
          299,
          386,
          386,
          299,
          299,
          242,
          317,
          317,
          242,
          242,
          245,
          288,
          288,
          245
         ],
         "y": [
          0.8,
          0.8,
          1.2,
          1.2,
          null,
          -0.2,
          -0.2,
          0.2,
          0.2,
          null,
          -0.2,
          -0.2,
          0.2,
          0.2,
          null,
          -0.2,
          -0.2,
          0.2,
          0.2,
          null,
          -0.2,
          -0.2,
          0.2,
          0.2,
          null,
          -0.2,
          -0.2,
          0.2,
          0.2
         ]
        },
        {
         "fill": "toself",
         "fillcolor": "rgb(130, 72, 162)",
         "hoverinfo": "name",
         "legendgroup": "rgb(130, 72, 162)",
         "mode": "none",
         "name": "1",
         "type": "scatter",
         "x": [
          2396,
          2491,
          2491,
          2396,
          2396,
          1566,
          1661,
          1661,
          1566,
          1566,
          663,
          758,
          758,
          663,
          663,
          2476,
          2563,
          2563,
          2476,
          2476,
          900,
          943,
          943,
          900,
          900,
          1051,
          1126,
          1126,
          1051
         ],
         "y": [
          0.8,
          0.8,
          1.2,
          1.2,
          null,
          0.8,
          0.8,
          1.2,
          1.2,
          null,
          0.8,
          0.8,
          1.2,
          1.2,
          null,
          -0.2,
          -0.2,
          0.2,
          0.2,
          null,
          -0.2,
          -0.2,
          0.2,
          0.2,
          null,
          -0.2,
          -0.2,
          0.2,
          0.2
         ]
        },
        {
         "fill": "toself",
         "fillcolor": "rgb(155, 97, 187)",
         "hoverinfo": "name",
         "legendgroup": "rgb(155, 97, 187)",
         "mode": "none",
         "name": "2",
         "type": "scatter",
         "x": [
          227,
          271,
          271,
          227,
          227,
          547,
          610,
          610,
          547,
          547,
          2236,
          2280,
          2280,
          2236,
          2236,
          494,
          557,
          557,
          494
         ],
         "y": [
          0.8,
          0.8,
          1.2,
          1.2,
          null,
          0.8,
          0.8,
          1.2,
          1.2,
          null,
          0.8,
          0.8,
          1.2,
          1.2,
          null,
          0.8,
          0.8,
          1.2,
          1.2
         ]
        },
        {
         "fill": "toself",
         "fillcolor": "rgb(180, 122, 212)",
         "hoverinfo": "name",
         "legendgroup": "rgb(180, 122, 212)",
         "mode": "none",
         "name": "4",
         "type": "scatter",
         "x": [
          2903,
          2956,
          2956,
          2903,
          2903,
          2966,
          3039,
          3039,
          2966,
          2966,
          2672,
          2745,
          2745,
          2672,
          2672,
          916,
          969,
          969,
          916
         ],
         "y": [
          0.8,
          0.8,
          1.2,
          1.2,
          null,
          0.8,
          0.8,
          1.2,
          1.2,
          null,
          0.8,
          0.8,
          1.2,
          1.2,
          null,
          0.8,
          0.8,
          1.2,
          1.2
         ]
        },
        {
         "fill": "toself",
         "fillcolor": "rgb(205, 147, 237)",
         "hoverinfo": "name",
         "legendgroup": "rgb(205, 147, 237)",
         "mode": "none",
         "name": "5",
         "type": "scatter",
         "x": [
          771,
          814,
          814,
          771,
          771,
          1396,
          1536,
          1536,
          1396,
          1396,
          859,
          902,
          902,
          859,
          859,
          4271,
          4411,
          4411,
          4271,
          4271,
          2261,
          2322,
          2322,
          2261,
          2261,
          1567,
          1702,
          1702,
          1567,
          1567,
          2381,
          2439,
          2439,
          2381
         ],
         "y": [
          0.8,
          0.8,
          1.2,
          1.2,
          null,
          0.8,
          0.8,
          1.2,
          1.2,
          null,
          0.8,
          0.8,
          1.2,
          1.2,
          null,
          0.8,
          0.8,
          1.2,
          1.2,
          null,
          0.8,
          0.8,
          1.2,
          1.2,
          null,
          0.8,
          0.8,
          1.2,
          1.2,
          null,
          0.8,
          0.8,
          1.2,
          1.2
         ]
        },
        {
         "fill": "toself",
         "fillcolor": "rgb(230, 172, 6)",
         "hoverinfo": "name",
         "legendgroup": "rgb(230, 172, 6)",
         "mode": "none",
         "name": "6",
         "type": "scatter",
         "x": [
          1116,
          1241,
          1241,
          1116,
          1116,
          372,
          415,
          415,
          372,
          372,
          2391,
          2526,
          2526,
          2391,
          2391,
          2951,
          3009,
          3009,
          2951,
          2951,
          1970,
          2110,
          2110,
          1970,
          1970,
          2311,
          2426,
          2426,
          2311,
          2311,
          2071,
          2196,
          2196,
          2071
         ],
         "y": [
          0.8,
          0.8,
          1.2,
          1.2,
          null,
          0.8,
          0.8,
          1.2,
          1.2,
          null,
          0.8,
          0.8,
          1.2,
          1.2,
          null,
          0.8,
          0.8,
          1.2,
          1.2,
          null,
          0.8,
          0.8,
          1.2,
          1.2,
          null,
          0.8,
          0.8,
          1.2,
          1.2,
          null,
          0.8,
          0.8,
          1.2,
          1.2
         ]
        },
        {
         "fill": "toself",
         "fillcolor": "rgb(24, 222, 56)",
         "hoverinfo": "name",
         "legendgroup": "rgb(24, 222, 56)",
         "mode": "none",
         "name": "8",
         "type": "scatter",
         "x": [
          448,
          509,
          509,
          448,
          448,
          743,
          858,
          858,
          743,
          743,
          481,
          524,
          524,
          481,
          481,
          2699,
          2814,
          2814,
          2699,
          2699,
          2556,
          2671,
          2671,
          2556,
          2556,
          3439,
          3579,
          3579,
          3439,
          3439,
          3391,
          3516,
          3516,
          3391
         ],
         "y": [
          0.8,
          0.8,
          1.2,
          1.2,
          null,
          0.8,
          0.8,
          1.2,
          1.2,
          null,
          0.8,
          0.8,
          1.2,
          1.2,
          null,
          0.8,
          0.8,
          1.2,
          1.2,
          null,
          0.8,
          0.8,
          1.2,
          1.2,
          null,
          0.8,
          0.8,
          1.2,
          1.2,
          null,
          0.8,
          0.8,
          1.2,
          1.2
         ]
        },
        {
         "fill": "toself",
         "fillcolor": "rgb(255, 197, 31)",
         "hoverinfo": "name",
         "legendgroup": "rgb(255, 197, 31)",
         "mode": "none",
         "name": "7",
         "type": "scatter",
         "x": [
          2043,
          2116,
          2116,
          2043,
          2043,
          3665,
          3718,
          3718,
          3665,
          3665,
          2598,
          2651,
          2651,
          2598,
          2598,
          2556,
          2629,
          2629,
          2556
         ],
         "y": [
          0.8,
          0.8,
          1.2,
          1.2,
          null,
          0.8,
          0.8,
          1.2,
          1.2,
          null,
          0.8,
          0.8,
          1.2,
          1.2,
          null,
          0.8,
          0.8,
          1.2,
          1.2
         ]
        },
        {
         "fill": "toself",
         "fillcolor": "rgb(49, 247, 81)",
         "hoverinfo": "name",
         "legendgroup": "rgb(49, 247, 81)",
         "mode": "none",
         "name": "9",
         "type": "scatter",
         "x": [
          599,
          724,
          724,
          599,
          599,
          987,
          1045,
          1045,
          987,
          987,
          2256,
          2396,
          2396,
          2256,
          2256,
          4301,
          4344,
          4344,
          4301,
          4301,
          407,
          465,
          465,
          407,
          407,
          4781,
          4839,
          4839,
          4781,
          4781,
          551,
          612,
          612,
          551
         ],
         "y": [
          0.8,
          0.8,
          1.2,
          1.2,
          null,
          0.8,
          0.8,
          1.2,
          1.2,
          null,
          0.8,
          0.8,
          1.2,
          1.2,
          null,
          0.8,
          0.8,
          1.2,
          1.2,
          null,
          0.8,
          0.8,
          1.2,
          1.2,
          null,
          0.8,
          0.8,
          1.2,
          1.2,
          null,
          0.8,
          0.8,
          1.2,
          1.2
         ]
        },
        {
         "fill": "toself",
         "fillcolor": "rgb(74, 16, 106)",
         "hoverinfo": "name",
         "legendgroup": "rgb(74, 16, 106)",
         "mode": "none",
         "name": "3",
         "type": "scatter",
         "x": [
          4625,
          4700,
          4700,
          4625,
          4625,
          1173,
          1216,
          1216,
          1173,
          1173,
          518,
          593,
          593,
          518,
          518,
          486,
          521,
          521,
          486,
          486,
          1590,
          1633,
          1633,
          1590,
          1590,
          1865,
          1952,
          1952,
          1865
         ],
         "y": [
          -0.2,
          -0.2,
          0.2,
          0.2,
          null,
          -0.2,
          -0.2,
          0.2,
          0.2,
          null,
          -0.2,
          -0.2,
          0.2,
          0.2,
          null,
          -0.2,
          -0.2,
          0.2,
          0.2,
          null,
          -0.2,
          -0.2,
          0.2,
          0.2,
          null,
          -0.2,
          -0.2,
          0.2,
          0.2
         ]
        },
        {
         "legendgroup": "rgb(105, 47, 137)",
         "marker": {
          "color": "rgb(105, 47, 137)",
          "opacity": 0,
          "size": 1
         },
         "mode": "markers",
         "name": "",
         "showlegend": false,
         "text": [
          null,
          null,
          null,
          null,
          null,
          null,
          null,
          null,
          null,
          null,
          null,
          null
         ],
         "type": "scatter",
         "x": [
          495,
          578,
          2131,
          2206,
          1941,
          1976,
          299,
          386,
          242,
          317,
          245,
          288
         ],
         "y": [
          1,
          1,
          0,
          0,
          0,
          0,
          0,
          0,
          0,
          0,
          0,
          0
         ]
        },
        {
         "legendgroup": "rgb(130, 72, 162)",
         "marker": {
          "color": "rgb(130, 72, 162)",
          "opacity": 0,
          "size": 1
         },
         "mode": "markers",
         "name": "",
         "showlegend": false,
         "text": [
          null,
          null,
          null,
          null,
          null,
          null,
          null,
          null,
          null,
          null,
          null,
          null
         ],
         "type": "scatter",
         "x": [
          2396,
          2491,
          1566,
          1661,
          663,
          758,
          2476,
          2563,
          900,
          943,
          1051,
          1126
         ],
         "y": [
          1,
          1,
          1,
          1,
          1,
          1,
          0,
          0,
          0,
          0,
          0,
          0
         ]
        },
        {
         "legendgroup": "rgb(155, 97, 187)",
         "marker": {
          "color": "rgb(155, 97, 187)",
          "opacity": 0,
          "size": 1
         },
         "mode": "markers",
         "name": "",
         "showlegend": false,
         "text": [
          null,
          null,
          null,
          null,
          null,
          null,
          null,
          null
         ],
         "type": "scatter",
         "x": [
          227,
          271,
          547,
          610,
          2236,
          2280,
          494,
          557
         ],
         "y": [
          1,
          1,
          1,
          1,
          1,
          1,
          1,
          1
         ]
        },
        {
         "legendgroup": "rgb(180, 122, 212)",
         "marker": {
          "color": "rgb(180, 122, 212)",
          "opacity": 0,
          "size": 1
         },
         "mode": "markers",
         "name": "",
         "showlegend": false,
         "text": [
          null,
          null,
          null,
          null,
          null,
          null,
          null,
          null
         ],
         "type": "scatter",
         "x": [
          2903,
          2956,
          2966,
          3039,
          2672,
          2745,
          916,
          969
         ],
         "y": [
          1,
          1,
          1,
          1,
          1,
          1,
          1,
          1
         ]
        },
        {
         "legendgroup": "rgb(205, 147, 237)",
         "marker": {
          "color": "rgb(205, 147, 237)",
          "opacity": 0,
          "size": 1
         },
         "mode": "markers",
         "name": "",
         "showlegend": false,
         "text": [
          null,
          null,
          null,
          null,
          null,
          null,
          null,
          null,
          null,
          null,
          null,
          null,
          null,
          null
         ],
         "type": "scatter",
         "x": [
          771,
          814,
          1396,
          1536,
          859,
          902,
          4271,
          4411,
          2261,
          2322,
          1567,
          1702,
          2381,
          2439
         ],
         "y": [
          1,
          1,
          1,
          1,
          1,
          1,
          1,
          1,
          1,
          1,
          1,
          1,
          1,
          1
         ]
        },
        {
         "legendgroup": "rgb(230, 172, 6)",
         "marker": {
          "color": "rgb(230, 172, 6)",
          "opacity": 0,
          "size": 1
         },
         "mode": "markers",
         "name": "",
         "showlegend": false,
         "text": [
          null,
          null,
          null,
          null,
          null,
          null,
          null,
          null,
          null,
          null,
          null,
          null,
          null,
          null
         ],
         "type": "scatter",
         "x": [
          1116,
          1241,
          372,
          415,
          2391,
          2526,
          2951,
          3009,
          1970,
          2110,
          2311,
          2426,
          2071,
          2196
         ],
         "y": [
          1,
          1,
          1,
          1,
          1,
          1,
          1,
          1,
          1,
          1,
          1,
          1,
          1,
          1
         ]
        },
        {
         "legendgroup": "rgb(24, 222, 56)",
         "marker": {
          "color": "rgb(24, 222, 56)",
          "opacity": 0,
          "size": 1
         },
         "mode": "markers",
         "name": "",
         "showlegend": false,
         "text": [
          null,
          null,
          null,
          null,
          null,
          null,
          null,
          null,
          null,
          null,
          null,
          null,
          null,
          null
         ],
         "type": "scatter",
         "x": [
          448,
          509,
          743,
          858,
          481,
          524,
          2699,
          2814,
          2556,
          2671,
          3439,
          3579,
          3391,
          3516
         ],
         "y": [
          1,
          1,
          1,
          1,
          1,
          1,
          1,
          1,
          1,
          1,
          1,
          1,
          1,
          1
         ]
        },
        {
         "legendgroup": "rgb(255, 197, 31)",
         "marker": {
          "color": "rgb(255, 197, 31)",
          "opacity": 0,
          "size": 1
         },
         "mode": "markers",
         "name": "",
         "showlegend": false,
         "text": [
          null,
          null,
          null,
          null,
          null,
          null,
          null,
          null
         ],
         "type": "scatter",
         "x": [
          2043,
          2116,
          3665,
          3718,
          2598,
          2651,
          2556,
          2629
         ],
         "y": [
          1,
          1,
          1,
          1,
          1,
          1,
          1,
          1
         ]
        },
        {
         "legendgroup": "rgb(49, 247, 81)",
         "marker": {
          "color": "rgb(49, 247, 81)",
          "opacity": 0,
          "size": 1
         },
         "mode": "markers",
         "name": "",
         "showlegend": false,
         "text": [
          null,
          null,
          null,
          null,
          null,
          null,
          null,
          null,
          null,
          null,
          null,
          null,
          null,
          null
         ],
         "type": "scatter",
         "x": [
          599,
          724,
          987,
          1045,
          2256,
          2396,
          4301,
          4344,
          407,
          465,
          4781,
          4839,
          551,
          612
         ],
         "y": [
          1,
          1,
          1,
          1,
          1,
          1,
          1,
          1,
          1,
          1,
          1,
          1,
          1,
          1
         ]
        },
        {
         "legendgroup": "rgb(74, 16, 106)",
         "marker": {
          "color": "rgb(74, 16, 106)",
          "opacity": 0,
          "size": 1
         },
         "mode": "markers",
         "name": "",
         "showlegend": false,
         "text": [
          null,
          null,
          null,
          null,
          null,
          null,
          null,
          null,
          null,
          null,
          null,
          null
         ],
         "type": "scatter",
         "x": [
          4625,
          4700,
          1173,
          1216,
          518,
          593,
          486,
          521,
          1590,
          1633,
          1865,
          1952
         ],
         "y": [
          0,
          0,
          0,
          0,
          0,
          0,
          0,
          0,
          0,
          0,
          0,
          0
         ]
        }
       ],
       "layout": {
        "height": 600,
        "hovermode": "closest",
        "showlegend": true,
        "template": {
         "data": {
          "bar": [
           {
            "error_x": {
             "color": "#2a3f5f"
            },
            "error_y": {
             "color": "#2a3f5f"
            },
            "marker": {
             "line": {
              "color": "#E5ECF6",
              "width": 0.5
             },
             "pattern": {
              "fillmode": "overlay",
              "size": 10,
              "solidity": 0.2
             }
            },
            "type": "bar"
           }
          ],
          "barpolar": [
           {
            "marker": {
             "line": {
              "color": "#E5ECF6",
              "width": 0.5
             },
             "pattern": {
              "fillmode": "overlay",
              "size": 10,
              "solidity": 0.2
             }
            },
            "type": "barpolar"
           }
          ],
          "carpet": [
           {
            "aaxis": {
             "endlinecolor": "#2a3f5f",
             "gridcolor": "white",
             "linecolor": "white",
             "minorgridcolor": "white",
             "startlinecolor": "#2a3f5f"
            },
            "baxis": {
             "endlinecolor": "#2a3f5f",
             "gridcolor": "white",
             "linecolor": "white",
             "minorgridcolor": "white",
             "startlinecolor": "#2a3f5f"
            },
            "type": "carpet"
           }
          ],
          "choropleth": [
           {
            "colorbar": {
             "outlinewidth": 0,
             "ticks": ""
            },
            "type": "choropleth"
           }
          ],
          "contour": [
           {
            "colorbar": {
             "outlinewidth": 0,
             "ticks": ""
            },
            "colorscale": [
             [
              0,
              "#0d0887"
             ],
             [
              0.1111111111111111,
              "#46039f"
             ],
             [
              0.2222222222222222,
              "#7201a8"
             ],
             [
              0.3333333333333333,
              "#9c179e"
             ],
             [
              0.4444444444444444,
              "#bd3786"
             ],
             [
              0.5555555555555556,
              "#d8576b"
             ],
             [
              0.6666666666666666,
              "#ed7953"
             ],
             [
              0.7777777777777778,
              "#fb9f3a"
             ],
             [
              0.8888888888888888,
              "#fdca26"
             ],
             [
              1,
              "#f0f921"
             ]
            ],
            "type": "contour"
           }
          ],
          "contourcarpet": [
           {
            "colorbar": {
             "outlinewidth": 0,
             "ticks": ""
            },
            "type": "contourcarpet"
           }
          ],
          "heatmap": [
           {
            "colorbar": {
             "outlinewidth": 0,
             "ticks": ""
            },
            "colorscale": [
             [
              0,
              "#0d0887"
             ],
             [
              0.1111111111111111,
              "#46039f"
             ],
             [
              0.2222222222222222,
              "#7201a8"
             ],
             [
              0.3333333333333333,
              "#9c179e"
             ],
             [
              0.4444444444444444,
              "#bd3786"
             ],
             [
              0.5555555555555556,
              "#d8576b"
             ],
             [
              0.6666666666666666,
              "#ed7953"
             ],
             [
              0.7777777777777778,
              "#fb9f3a"
             ],
             [
              0.8888888888888888,
              "#fdca26"
             ],
             [
              1,
              "#f0f921"
             ]
            ],
            "type": "heatmap"
           }
          ],
          "heatmapgl": [
           {
            "colorbar": {
             "outlinewidth": 0,
             "ticks": ""
            },
            "colorscale": [
             [
              0,
              "#0d0887"
             ],
             [
              0.1111111111111111,
              "#46039f"
             ],
             [
              0.2222222222222222,
              "#7201a8"
             ],
             [
              0.3333333333333333,
              "#9c179e"
             ],
             [
              0.4444444444444444,
              "#bd3786"
             ],
             [
              0.5555555555555556,
              "#d8576b"
             ],
             [
              0.6666666666666666,
              "#ed7953"
             ],
             [
              0.7777777777777778,
              "#fb9f3a"
             ],
             [
              0.8888888888888888,
              "#fdca26"
             ],
             [
              1,
              "#f0f921"
             ]
            ],
            "type": "heatmapgl"
           }
          ],
          "histogram": [
           {
            "marker": {
             "pattern": {
              "fillmode": "overlay",
              "size": 10,
              "solidity": 0.2
             }
            },
            "type": "histogram"
           }
          ],
          "histogram2d": [
           {
            "colorbar": {
             "outlinewidth": 0,
             "ticks": ""
            },
            "colorscale": [
             [
              0,
              "#0d0887"
             ],
             [
              0.1111111111111111,
              "#46039f"
             ],
             [
              0.2222222222222222,
              "#7201a8"
             ],
             [
              0.3333333333333333,
              "#9c179e"
             ],
             [
              0.4444444444444444,
              "#bd3786"
             ],
             [
              0.5555555555555556,
              "#d8576b"
             ],
             [
              0.6666666666666666,
              "#ed7953"
             ],
             [
              0.7777777777777778,
              "#fb9f3a"
             ],
             [
              0.8888888888888888,
              "#fdca26"
             ],
             [
              1,
              "#f0f921"
             ]
            ],
            "type": "histogram2d"
           }
          ],
          "histogram2dcontour": [
           {
            "colorbar": {
             "outlinewidth": 0,
             "ticks": ""
            },
            "colorscale": [
             [
              0,
              "#0d0887"
             ],
             [
              0.1111111111111111,
              "#46039f"
             ],
             [
              0.2222222222222222,
              "#7201a8"
             ],
             [
              0.3333333333333333,
              "#9c179e"
             ],
             [
              0.4444444444444444,
              "#bd3786"
             ],
             [
              0.5555555555555556,
              "#d8576b"
             ],
             [
              0.6666666666666666,
              "#ed7953"
             ],
             [
              0.7777777777777778,
              "#fb9f3a"
             ],
             [
              0.8888888888888888,
              "#fdca26"
             ],
             [
              1,
              "#f0f921"
             ]
            ],
            "type": "histogram2dcontour"
           }
          ],
          "mesh3d": [
           {
            "colorbar": {
             "outlinewidth": 0,
             "ticks": ""
            },
            "type": "mesh3d"
           }
          ],
          "parcoords": [
           {
            "line": {
             "colorbar": {
              "outlinewidth": 0,
              "ticks": ""
             }
            },
            "type": "parcoords"
           }
          ],
          "pie": [
           {
            "automargin": true,
            "type": "pie"
           }
          ],
          "scatter": [
           {
            "marker": {
             "colorbar": {
              "outlinewidth": 0,
              "ticks": ""
             }
            },
            "type": "scatter"
           }
          ],
          "scatter3d": [
           {
            "line": {
             "colorbar": {
              "outlinewidth": 0,
              "ticks": ""
             }
            },
            "marker": {
             "colorbar": {
              "outlinewidth": 0,
              "ticks": ""
             }
            },
            "type": "scatter3d"
           }
          ],
          "scattercarpet": [
           {
            "marker": {
             "colorbar": {
              "outlinewidth": 0,
              "ticks": ""
             }
            },
            "type": "scattercarpet"
           }
          ],
          "scattergeo": [
           {
            "marker": {
             "colorbar": {
              "outlinewidth": 0,
              "ticks": ""
             }
            },
            "type": "scattergeo"
           }
          ],
          "scattergl": [
           {
            "marker": {
             "colorbar": {
              "outlinewidth": 0,
              "ticks": ""
             }
            },
            "type": "scattergl"
           }
          ],
          "scattermapbox": [
           {
            "marker": {
             "colorbar": {
              "outlinewidth": 0,
              "ticks": ""
             }
            },
            "type": "scattermapbox"
           }
          ],
          "scatterpolar": [
           {
            "marker": {
             "colorbar": {
              "outlinewidth": 0,
              "ticks": ""
             }
            },
            "type": "scatterpolar"
           }
          ],
          "scatterpolargl": [
           {
            "marker": {
             "colorbar": {
              "outlinewidth": 0,
              "ticks": ""
             }
            },
            "type": "scatterpolargl"
           }
          ],
          "scatterternary": [
           {
            "marker": {
             "colorbar": {
              "outlinewidth": 0,
              "ticks": ""
             }
            },
            "type": "scatterternary"
           }
          ],
          "surface": [
           {
            "colorbar": {
             "outlinewidth": 0,
             "ticks": ""
            },
            "colorscale": [
             [
              0,
              "#0d0887"
             ],
             [
              0.1111111111111111,
              "#46039f"
             ],
             [
              0.2222222222222222,
              "#7201a8"
             ],
             [
              0.3333333333333333,
              "#9c179e"
             ],
             [
              0.4444444444444444,
              "#bd3786"
             ],
             [
              0.5555555555555556,
              "#d8576b"
             ],
             [
              0.6666666666666666,
              "#ed7953"
             ],
             [
              0.7777777777777778,
              "#fb9f3a"
             ],
             [
              0.8888888888888888,
              "#fdca26"
             ],
             [
              1,
              "#f0f921"
             ]
            ],
            "type": "surface"
           }
          ],
          "table": [
           {
            "cells": {
             "fill": {
              "color": "#EBF0F8"
             },
             "line": {
              "color": "white"
             }
            },
            "header": {
             "fill": {
              "color": "#C8D4E3"
             },
             "line": {
              "color": "white"
             }
            },
            "type": "table"
           }
          ]
         },
         "layout": {
          "annotationdefaults": {
           "arrowcolor": "#2a3f5f",
           "arrowhead": 0,
           "arrowwidth": 1
          },
          "autotypenumbers": "strict",
          "coloraxis": {
           "colorbar": {
            "outlinewidth": 0,
            "ticks": ""
           }
          },
          "colorscale": {
           "diverging": [
            [
             0,
             "#8e0152"
            ],
            [
             0.1,
             "#c51b7d"
            ],
            [
             0.2,
             "#de77ae"
            ],
            [
             0.3,
             "#f1b6da"
            ],
            [
             0.4,
             "#fde0ef"
            ],
            [
             0.5,
             "#f7f7f7"
            ],
            [
             0.6,
             "#e6f5d0"
            ],
            [
             0.7,
             "#b8e186"
            ],
            [
             0.8,
             "#7fbc41"
            ],
            [
             0.9,
             "#4d9221"
            ],
            [
             1,
             "#276419"
            ]
           ],
           "sequential": [
            [
             0,
             "#0d0887"
            ],
            [
             0.1111111111111111,
             "#46039f"
            ],
            [
             0.2222222222222222,
             "#7201a8"
            ],
            [
             0.3333333333333333,
             "#9c179e"
            ],
            [
             0.4444444444444444,
             "#bd3786"
            ],
            [
             0.5555555555555556,
             "#d8576b"
            ],
            [
             0.6666666666666666,
             "#ed7953"
            ],
            [
             0.7777777777777778,
             "#fb9f3a"
            ],
            [
             0.8888888888888888,
             "#fdca26"
            ],
            [
             1,
             "#f0f921"
            ]
           ],
           "sequentialminus": [
            [
             0,
             "#0d0887"
            ],
            [
             0.1111111111111111,
             "#46039f"
            ],
            [
             0.2222222222222222,
             "#7201a8"
            ],
            [
             0.3333333333333333,
             "#9c179e"
            ],
            [
             0.4444444444444444,
             "#bd3786"
            ],
            [
             0.5555555555555556,
             "#d8576b"
            ],
            [
             0.6666666666666666,
             "#ed7953"
            ],
            [
             0.7777777777777778,
             "#fb9f3a"
            ],
            [
             0.8888888888888888,
             "#fdca26"
            ],
            [
             1,
             "#f0f921"
            ]
           ]
          },
          "colorway": [
           "#636efa",
           "#EF553B",
           "#00cc96",
           "#ab63fa",
           "#FFA15A",
           "#19d3f3",
           "#FF6692",
           "#B6E880",
           "#FF97FF",
           "#FECB52"
          ],
          "font": {
           "color": "#2a3f5f"
          },
          "geo": {
           "bgcolor": "white",
           "lakecolor": "white",
           "landcolor": "#E5ECF6",
           "showlakes": true,
           "showland": true,
           "subunitcolor": "white"
          },
          "hoverlabel": {
           "align": "left"
          },
          "hovermode": "closest",
          "mapbox": {
           "style": "light"
          },
          "paper_bgcolor": "white",
          "plot_bgcolor": "#E5ECF6",
          "polar": {
           "angularaxis": {
            "gridcolor": "white",
            "linecolor": "white",
            "ticks": ""
           },
           "bgcolor": "#E5ECF6",
           "radialaxis": {
            "gridcolor": "white",
            "linecolor": "white",
            "ticks": ""
           }
          },
          "scene": {
           "xaxis": {
            "backgroundcolor": "#E5ECF6",
            "gridcolor": "white",
            "gridwidth": 2,
            "linecolor": "white",
            "showbackground": true,
            "ticks": "",
            "zerolinecolor": "white"
           },
           "yaxis": {
            "backgroundcolor": "#E5ECF6",
            "gridcolor": "white",
            "gridwidth": 2,
            "linecolor": "white",
            "showbackground": true,
            "ticks": "",
            "zerolinecolor": "white"
           },
           "zaxis": {
            "backgroundcolor": "#E5ECF6",
            "gridcolor": "white",
            "gridwidth": 2,
            "linecolor": "white",
            "showbackground": true,
            "ticks": "",
            "zerolinecolor": "white"
           }
          },
          "shapedefaults": {
           "line": {
            "color": "#2a3f5f"
           }
          },
          "ternary": {
           "aaxis": {
            "gridcolor": "white",
            "linecolor": "white",
            "ticks": ""
           },
           "baxis": {
            "gridcolor": "white",
            "linecolor": "white",
            "ticks": ""
           },
           "bgcolor": "#E5ECF6",
           "caxis": {
            "gridcolor": "white",
            "linecolor": "white",
            "ticks": ""
           }
          },
          "title": {
           "x": 0.05
          },
          "xaxis": {
           "automargin": true,
           "gridcolor": "white",
           "linecolor": "white",
           "ticks": "",
           "title": {
            "standoff": 15
           },
           "zerolinecolor": "white",
           "zerolinewidth": 2
          },
          "yaxis": {
           "automargin": true,
           "gridcolor": "white",
           "linecolor": "white",
           "ticks": "",
           "title": {
            "standoff": 15
           },
           "zerolinecolor": "white",
           "zerolinewidth": 2
          }
         }
        },
        "title": {
         "text": "Gantt Chart"
        },
        "xaxis": {
         "rangeselector": {
          "buttons": [
           {
            "count": 7,
            "label": "1w",
            "step": "day",
            "stepmode": "backward"
           },
           {
            "count": 1,
            "label": "1m",
            "step": "month",
            "stepmode": "backward"
           },
           {
            "count": 6,
            "label": "6m",
            "step": "month",
            "stepmode": "backward"
           },
           {
            "count": 1,
            "label": "YTD",
            "step": "year",
            "stepmode": "todate"
           },
           {
            "count": 1,
            "label": "1y",
            "step": "year",
            "stepmode": "backward"
           },
           {
            "step": "all"
           }
          ]
         },
         "showgrid": false,
         "type": "date",
         "zeroline": false
        },
        "yaxis": {
         "autorange": false,
         "range": [
          -1,
          3
         ],
         "showgrid": false,
         "ticktext": [
          "w1",
          "w2"
         ],
         "tickvals": [
          0,
          1
         ],
         "zeroline": false
        }
       }
      }
     },
     "metadata": {},
     "output_type": "display_data"
    },
    {
     "data": {
      "image/png": "[encoded data removed]",
      "text/plain": [
       "<Figure size 432x288 with 1 Axes>"
      ]
     },
     "metadata": {
      "needs_background": "light"
     },
     "output_type": "display_data"
    }
   ],
   "source": [
    "optimizer = BaseGA(env)\n",
    "optimizer.set_minimize()\n",
    "# optional (in this case, all options given are the default option, if the configuration step is skipped)\n",
    "optimizer.configure('tardiness', 'twopointcrossover', 'roulettewheel', 'randomize')\n",
    "# choose an input generator (optional) -> decides how the data gets converted into the optimizer format\n",
    "#optimizer.set_input_generator('SameLengthAlternativesGenerator')\n",
    "# all parameters after offspring_amount are optional (in this case -> verbose=True)\n",
    "result, best_fitness_history, average_fitness_history, best_generation_history, feasible_gen = optimizer.optimize(orders, max_generations, earliest_time_slot, last_time_slot, population_size, offspring_amount, verbose=True)\n",
    "workstation_assignments = reformat_result(result, orders, env)\n",
    "visualize(workstation_assignments, best_fitness_history, average_fitness_history, best_generation_history, feasible_gen)"
   ]
  },
  {
   "cell_type": "markdown",
   "metadata": {},
   "source": [
    "Config 3 - Only valid mutations for time slots"
   ]
  },
  {
   "cell_type": "code",
   "execution_count": 7,
   "metadata": {},
   "outputs": [
    {
     "name": "stdout",
     "output_type": "stream",
     "text": [
      "Current generation: 0, Current Best: 58, not feasible\n",
      "Current generation: 1, Current Best: 58, not feasible\n",
      "Current generation: 2, Current Best: 58, not feasible\n",
      "Current generation: 3, Current Best: 58, not feasible\n",
      "Current generation: 4, Current Best: 58, not feasible\n",
      "Current generation: 5, Current Best: 58, not feasible\n",
      "Current generation: 6, Current Best: 58, not feasible\n",
      "Current generation: 7, Current Best: 58, not feasible\n",
      "Current generation: 8, Current Best: 58, not feasible\n",
      "Current generation: 9, Current Best: 58, not feasible\n",
      "Current generation: 10, Current Best: 58, not feasible\n",
      "Current generation: 11, Current Best: 58, not feasible\n",
      "Current generation: 12, Current Best: 58, not feasible\n",
      "Current generation: 13, Current Best: 58, not feasible\n",
      "Current generation: 14, Current Best: 58, not feasible\n",
      "Current generation: 15, Current Best: 58, not feasible\n",
      "Current generation: 16, Current Best: 58, not feasible\n",
      "Current generation: 17, Current Best: 58, not feasible\n",
      "Current generation: 18, Current Best: 58, not feasible\n",
      "Current generation: 19, Current Best: 58, not feasible\n"
     ]
    },
    {
     "data": {
      "application/vnd.plotly.v1+json": {
       "config": {
        "plotlyServerURL": "https://plot.ly"
       },
       "data": [
        {
         "fill": "toself",
         "fillcolor": "rgb(11, 117, 189)",
         "hoverinfo": "name",
         "legendgroup": "rgb(11, 117, 189)",
         "mode": "none",
         "name": "9",
         "type": "scatter",
         "x": [
          322,
          462,
          462,
          322,
          322,
          227,
          342,
          342,
          227,
          227,
          236,
          361,
          361,
          236,
          236,
          245,
          306,
          306,
          245,
          245,
          302,
          442,
          442,
          302,
          302,
          375,
          433,
          433,
          375,
          375,
          252,
          387,
          387,
          252
         ],
         "y": [
          -0.2,
          -0.2,
          0.2,
          0.2,
          null,
          -0.2,
          -0.2,
          0.2,
          0.2,
          null,
          -0.2,
          -0.2,
          0.2,
          0.2,
          null,
          -0.2,
          -0.2,
          0.2,
          0.2,
          null,
          -0.2,
          -0.2,
          0.2,
          0.2,
          null,
          -0.2,
          -0.2,
          0.2,
          0.2,
          null,
          -0.2,
          -0.2,
          0.2,
          0.2
         ]
        },
        {
         "fill": "toself",
         "fillcolor": "rgb(117, 223, 39)",
         "hoverinfo": "name",
         "legendgroup": "rgb(117, 223, 39)",
         "mode": "none",
         "name": "2",
         "type": "scatter",
         "x": [
          261,
          334,
          334,
          261,
          261,
          321,
          365,
          365,
          321,
          321,
          237,
          310,
          310,
          237,
          237,
          286,
          339,
          339,
          286
         ],
         "y": [
          -0.2,
          -0.2,
          0.2,
          0.2,
          null,
          -0.2,
          -0.2,
          0.2,
          0.2,
          null,
          -0.2,
          -0.2,
          0.2,
          0.2,
          null,
          -0.2,
          -0.2,
          0.2,
          0.2
         ]
        },
        {
         "fill": "toself",
         "fillcolor": "rgb(142, 248, 64)",
         "hoverinfo": "name",
         "legendgroup": "rgb(142, 248, 64)",
         "mode": "none",
         "name": "4",
         "type": "scatter",
         "x": [
          2976,
          3020,
          3020,
          2976,
          2976,
          2865,
          2928,
          2928,
          2865,
          2865,
          1557,
          1630,
          1630,
          1557,
          1557,
          2889,
          2962,
          2962,
          2889
         ],
         "y": [
          -0.2,
          -0.2,
          0.2,
          0.2,
          null,
          -0.2,
          -0.2,
          0.2,
          0.2,
          null,
          -0.2,
          -0.2,
          0.2,
          0.2,
          null,
          -0.2,
          -0.2,
          0.2,
          0.2
         ]
        },
        {
         "fill": "toself",
         "fillcolor": "rgb(167, 17, 89)",
         "hoverinfo": "name",
         "legendgroup": "rgb(167, 17, 89)",
         "mode": "none",
         "name": "5",
         "type": "scatter",
         "x": [
          1524,
          1582,
          1582,
          1524,
          1524,
          749,
          810,
          810,
          749,
          749,
          1704,
          1747,
          1747,
          1704,
          1704,
          2357,
          2415,
          2415,
          2357,
          2357,
          1816,
          1877,
          1877,
          1816,
          1816,
          229,
          354,
          354,
          229,
          229,
          1002,
          1045,
          1045,
          1002
         ],
         "y": [
          -0.2,
          -0.2,
          0.2,
          0.2,
          null,
          -0.2,
          -0.2,
          0.2,
          0.2,
          null,
          -0.2,
          -0.2,
          0.2,
          0.2,
          null,
          -0.2,
          -0.2,
          0.2,
          0.2,
          null,
          -0.2,
          -0.2,
          0.2,
          0.2,
          null,
          -0.2,
          -0.2,
          0.2,
          0.2,
          null,
          -0.2,
          -0.2,
          0.2,
          0.2
         ]
        },
        {
         "fill": "toself",
         "fillcolor": "rgb(192, 42, 114)",
         "hoverinfo": "name",
         "legendgroup": "rgb(192, 42, 114)",
         "mode": "none",
         "name": "6",
         "type": "scatter",
         "x": [
          1780,
          1895,
          1895,
          1780,
          1780,
          612,
          655,
          655,
          612,
          612,
          646,
          786,
          786,
          646,
          646,
          2574,
          2699,
          2699,
          2574,
          2574,
          2895,
          2956,
          2956,
          2895,
          2895,
          846,
          981,
          981,
          846,
          846,
          2572,
          2697,
          2697,
          2572
         ],
         "y": [
          -0.2,
          -0.2,
          0.2,
          0.2,
          null,
          -0.2,
          -0.2,
          0.2,
          0.2,
          null,
          -0.2,
          -0.2,
          0.2,
          0.2,
          null,
          -0.2,
          -0.2,
          0.2,
          0.2,
          null,
          -0.2,
          -0.2,
          0.2,
          0.2,
          null,
          -0.2,
          -0.2,
          0.2,
          0.2,
          null,
          -0.2,
          -0.2,
          0.2,
          0.2
         ]
        },
        {
         "fill": "toself",
         "fillcolor": "rgb(217, 67, 139)",
         "hoverinfo": "name",
         "legendgroup": "rgb(217, 67, 139)",
         "mode": "none",
         "name": "7",
         "type": "scatter",
         "x": [
          3287,
          3331,
          3331,
          3287,
          3287,
          905,
          968,
          968,
          905,
          905,
          4002,
          4065,
          4065,
          4002,
          4002,
          1521,
          1584,
          1584,
          1521
         ],
         "y": [
          -0.2,
          -0.2,
          0.2,
          0.2,
          null,
          -0.2,
          -0.2,
          0.2,
          0.2,
          null,
          -0.2,
          -0.2,
          0.2,
          0.2,
          null,
          -0.2,
          -0.2,
          0.2,
          0.2
         ]
        },
        {
         "fill": "toself",
         "fillcolor": "rgb(242, 92, 164)",
         "hoverinfo": "name",
         "legendgroup": "rgb(242, 92, 164)",
         "mode": "none",
         "name": "8",
         "type": "scatter",
         "x": [
          3140,
          3183,
          3183,
          3140,
          3140,
          332,
          472,
          472,
          332,
          332,
          3870,
          3995,
          3995,
          3870,
          3870,
          2545,
          2680,
          2680,
          2545,
          2545,
          1869,
          2009,
          2009,
          1869,
          1869,
          1384,
          1442,
          1442,
          1384,
          1384,
          2004,
          2065,
          2065,
          2004
         ],
         "y": [
          -0.2,
          -0.2,
          0.2,
          0.2,
          null,
          -0.2,
          -0.2,
          0.2,
          0.2,
          null,
          -0.2,
          -0.2,
          0.2,
          0.2,
          null,
          -0.2,
          -0.2,
          0.2,
          0.2,
          null,
          -0.2,
          -0.2,
          0.2,
          0.2,
          null,
          -0.2,
          -0.2,
          0.2,
          0.2,
          null,
          -0.2,
          -0.2,
          0.2,
          0.2
         ]
        },
        {
         "fill": "toself",
         "fillcolor": "rgb(42, 148, 220)",
         "hoverinfo": "name",
         "legendgroup": "rgb(42, 148, 220)",
         "mode": "none",
         "name": "0",
         "type": "scatter",
         "x": [
          289,
          376,
          376,
          289,
          289,
          263,
          350,
          350,
          263,
          263,
          289,
          376,
          376,
          289,
          289,
          331,
          414,
          414,
          331,
          331,
          449,
          532,
          532,
          449,
          449,
          302,
          385,
          385,
          302
         ],
         "y": [
          0.8,
          0.8,
          1.2,
          1.2,
          null,
          0.8,
          0.8,
          1.2,
          1.2,
          null,
          0.8,
          0.8,
          1.2,
          1.2,
          null,
          -0.2,
          -0.2,
          0.2,
          0.2,
          null,
          -0.2,
          -0.2,
          0.2,
          0.2,
          null,
          -0.2,
          -0.2,
          0.2,
          0.2
         ]
        },
        {
         "fill": "toself",
         "fillcolor": "rgb(67, 173, 245)",
         "hoverinfo": "name",
         "legendgroup": "rgb(67, 173, 245)",
         "mode": "none",
         "name": "1",
         "type": "scatter",
         "x": [
          1275,
          1310,
          1310,
          1275,
          1275,
          2901,
          2944,
          2944,
          2901,
          2901,
          1405,
          1480,
          1480,
          1405,
          1405,
          1561,
          1656,
          1656,
          1561,
          1561,
          2054,
          2149,
          2149,
          2054,
          2054,
          455,
          538,
          538,
          455
         ],
         "y": [
          0.8,
          0.8,
          1.2,
          1.2,
          null,
          0.8,
          0.8,
          1.2,
          1.2,
          null,
          0.8,
          0.8,
          1.2,
          1.2,
          null,
          -0.2,
          -0.2,
          0.2,
          0.2,
          null,
          -0.2,
          -0.2,
          0.2,
          0.2,
          null,
          -0.2,
          -0.2,
          0.2,
          0.2
         ]
        },
        {
         "fill": "toself",
         "fillcolor": "rgb(92, 198, 14)",
         "hoverinfo": "name",
         "legendgroup": "rgb(92, 198, 14)",
         "mode": "none",
         "name": "3",
         "type": "scatter",
         "x": [
          1126,
          1213,
          1213,
          1126,
          1126,
          598,
          673,
          673,
          598,
          598,
          1753,
          1796,
          1796,
          1753,
          1753,
          1588,
          1671,
          1671,
          1588,
          1588,
          294,
          377,
          377,
          294,
          294,
          1619,
          1714,
          1714,
          1619
         ],
         "y": [
          0.8,
          0.8,
          1.2,
          1.2,
          null,
          0.8,
          0.8,
          1.2,
          1.2,
          null,
          0.8,
          0.8,
          1.2,
          1.2,
          null,
          -0.2,
          -0.2,
          0.2,
          0.2,
          null,
          -0.2,
          -0.2,
          0.2,
          0.2,
          null,
          -0.2,
          -0.2,
          0.2,
          0.2
         ]
        },
        {
         "legendgroup": "rgb(11, 117, 189)",
         "marker": {
          "color": "rgb(11, 117, 189)",
          "opacity": 0,
          "size": 1
         },
         "mode": "markers",
         "name": "",
         "showlegend": false,
         "text": [
          null,
          null,
          null,
          null,
          null,
          null,
          null,
          null,
          null,
          null,
          null,
          null,
          null,
          null
         ],
         "type": "scatter",
         "x": [
          322,
          462,
          227,
          342,
          236,
          361,
          245,
          306,
          302,
          442,
          375,
          433,
          252,
          387
         ],
         "y": [
          0,
          0,
          0,
          0,
          0,
          0,
          0,
          0,
          0,
          0,
          0,
          0,
          0,
          0
         ]
        },
        {
         "legendgroup": "rgb(117, 223, 39)",
         "marker": {
          "color": "rgb(117, 223, 39)",
          "opacity": 0,
          "size": 1
         },
         "mode": "markers",
         "name": "",
         "showlegend": false,
         "text": [
          null,
          null,
          null,
          null,
          null,
          null,
          null,
          null
         ],
         "type": "scatter",
         "x": [
          261,
          334,
          321,
          365,
          237,
          310,
          286,
          339
         ],
         "y": [
          0,
          0,
          0,
          0,
          0,
          0,
          0,
          0
         ]
        },
        {
         "legendgroup": "rgb(142, 248, 64)",
         "marker": {
          "color": "rgb(142, 248, 64)",
          "opacity": 0,
          "size": 1
         },
         "mode": "markers",
         "name": "",
         "showlegend": false,
         "text": [
          null,
          null,
          null,
          null,
          null,
          null,
          null,
          null
         ],
         "type": "scatter",
         "x": [
          2976,
          3020,
          2865,
          2928,
          1557,
          1630,
          2889,
          2962
         ],
         "y": [
          0,
          0,
          0,
          0,
          0,
          0,
          0,
          0
         ]
        },
        {
         "legendgroup": "rgb(167, 17, 89)",
         "marker": {
          "color": "rgb(167, 17, 89)",
          "opacity": 0,
          "size": 1
         },
         "mode": "markers",
         "name": "",
         "showlegend": false,
         "text": [
          null,
          null,
          null,
          null,
          null,
          null,
          null,
          null,
          null,
          null,
          null,
          null,
          null,
          null
         ],
         "type": "scatter",
         "x": [
          1524,
          1582,
          749,
          810,
          1704,
          1747,
          2357,
          2415,
          1816,
          1877,
          229,
          354,
          1002,
          1045
         ],
         "y": [
          0,
          0,
          0,
          0,
          0,
          0,
          0,
          0,
          0,
          0,
          0,
          0,
          0,
          0
         ]
        },
        {
         "legendgroup": "rgb(192, 42, 114)",
         "marker": {
          "color": "rgb(192, 42, 114)",
          "opacity": 0,
          "size": 1
         },
         "mode": "markers",
         "name": "",
         "showlegend": false,
         "text": [
          null,
          null,
          null,
          null,
          null,
          null,
          null,
          null,
          null,
          null,
          null,
          null,
          null,
          null
         ],
         "type": "scatter",
         "x": [
          1780,
          1895,
          612,
          655,
          646,
          786,
          2574,
          2699,
          2895,
          2956,
          846,
          981,
          2572,
          2697
         ],
         "y": [
          0,
          0,
          0,
          0,
          0,
          0,
          0,
          0,
          0,
          0,
          0,
          0,
          0,
          0
         ]
        },
        {
         "legendgroup": "rgb(217, 67, 139)",
         "marker": {
          "color": "rgb(217, 67, 139)",
          "opacity": 0,
          "size": 1
         },
         "mode": "markers",
         "name": "",
         "showlegend": false,
         "text": [
          null,
          null,
          null,
          null,
          null,
          null,
          null,
          null
         ],
         "type": "scatter",
         "x": [
          3287,
          3331,
          905,
          968,
          4002,
          4065,
          1521,
          1584
         ],
         "y": [
          0,
          0,
          0,
          0,
          0,
          0,
          0,
          0
         ]
        },
        {
         "legendgroup": "rgb(242, 92, 164)",
         "marker": {
          "color": "rgb(242, 92, 164)",
          "opacity": 0,
          "size": 1
         },
         "mode": "markers",
         "name": "",
         "showlegend": false,
         "text": [
          null,
          null,
          null,
          null,
          null,
          null,
          null,
          null,
          null,
          null,
          null,
          null,
          null,
          null
         ],
         "type": "scatter",
         "x": [
          3140,
          3183,
          332,
          472,
          3870,
          3995,
          2545,
          2680,
          1869,
          2009,
          1384,
          1442,
          2004,
          2065
         ],
         "y": [
          0,
          0,
          0,
          0,
          0,
          0,
          0,
          0,
          0,
          0,
          0,
          0,
          0,
          0
         ]
        },
        {
         "legendgroup": "rgb(42, 148, 220)",
         "marker": {
          "color": "rgb(42, 148, 220)",
          "opacity": 0,
          "size": 1
         },
         "mode": "markers",
         "name": "",
         "showlegend": false,
         "text": [
          null,
          null,
          null,
          null,
          null,
          null,
          null,
          null,
          null,
          null,
          null,
          null
         ],
         "type": "scatter",
         "x": [
          289,
          376,
          263,
          350,
          289,
          376,
          331,
          414,
          449,
          532,
          302,
          385
         ],
         "y": [
          1,
          1,
          1,
          1,
          1,
          1,
          0,
          0,
          0,
          0,
          0,
          0
         ]
        },
        {
         "legendgroup": "rgb(67, 173, 245)",
         "marker": {
          "color": "rgb(67, 173, 245)",
          "opacity": 0,
          "size": 1
         },
         "mode": "markers",
         "name": "",
         "showlegend": false,
         "text": [
          null,
          null,
          null,
          null,
          null,
          null,
          null,
          null,
          null,
          null,
          null,
          null
         ],
         "type": "scatter",
         "x": [
          1275,
          1310,
          2901,
          2944,
          1405,
          1480,
          1561,
          1656,
          2054,
          2149,
          455,
          538
         ],
         "y": [
          1,
          1,
          1,
          1,
          1,
          1,
          0,
          0,
          0,
          0,
          0,
          0
         ]
        },
        {
         "legendgroup": "rgb(92, 198, 14)",
         "marker": {
          "color": "rgb(92, 198, 14)",
          "opacity": 0,
          "size": 1
         },
         "mode": "markers",
         "name": "",
         "showlegend": false,
         "text": [
          null,
          null,
          null,
          null,
          null,
          null,
          null,
          null,
          null,
          null,
          null,
          null
         ],
         "type": "scatter",
         "x": [
          1126,
          1213,
          598,
          673,
          1753,
          1796,
          1588,
          1671,
          294,
          377,
          1619,
          1714
         ],
         "y": [
          1,
          1,
          1,
          1,
          1,
          1,
          0,
          0,
          0,
          0,
          0,
          0
         ]
        }
       ],
       "layout": {
        "height": 600,
        "hovermode": "closest",
        "showlegend": true,
        "template": {
         "data": {
          "bar": [
           {
            "error_x": {
             "color": "#2a3f5f"
            },
            "error_y": {
             "color": "#2a3f5f"
            },
            "marker": {
             "line": {
              "color": "#E5ECF6",
              "width": 0.5
             },
             "pattern": {
              "fillmode": "overlay",
              "size": 10,
              "solidity": 0.2
             }
            },
            "type": "bar"
           }
          ],
          "barpolar": [
           {
            "marker": {
             "line": {
              "color": "#E5ECF6",
              "width": 0.5
             },
             "pattern": {
              "fillmode": "overlay",
              "size": 10,
              "solidity": 0.2
             }
            },
            "type": "barpolar"
           }
          ],
          "carpet": [
           {
            "aaxis": {
             "endlinecolor": "#2a3f5f",
             "gridcolor": "white",
             "linecolor": "white",
             "minorgridcolor": "white",
             "startlinecolor": "#2a3f5f"
            },
            "baxis": {
             "endlinecolor": "#2a3f5f",
             "gridcolor": "white",
             "linecolor": "white",
             "minorgridcolor": "white",
             "startlinecolor": "#2a3f5f"
            },
            "type": "carpet"
           }
          ],
          "choropleth": [
           {
            "colorbar": {
             "outlinewidth": 0,
             "ticks": ""
            },
            "type": "choropleth"
           }
          ],
          "contour": [
           {
            "colorbar": {
             "outlinewidth": 0,
             "ticks": ""
            },
            "colorscale": [
             [
              0,
              "#0d0887"
             ],
             [
              0.1111111111111111,
              "#46039f"
             ],
             [
              0.2222222222222222,
              "#7201a8"
             ],
             [
              0.3333333333333333,
              "#9c179e"
             ],
             [
              0.4444444444444444,
              "#bd3786"
             ],
             [
              0.5555555555555556,
              "#d8576b"
             ],
             [
              0.6666666666666666,
              "#ed7953"
             ],
             [
              0.7777777777777778,
              "#fb9f3a"
             ],
             [
              0.8888888888888888,
              "#fdca26"
             ],
             [
              1,
              "#f0f921"
             ]
            ],
            "type": "contour"
           }
          ],
          "contourcarpet": [
           {
            "colorbar": {
             "outlinewidth": 0,
             "ticks": ""
            },
            "type": "contourcarpet"
           }
          ],
          "heatmap": [
           {
            "colorbar": {
             "outlinewidth": 0,
             "ticks": ""
            },
            "colorscale": [
             [
              0,
              "#0d0887"
             ],
             [
              0.1111111111111111,
              "#46039f"
             ],
             [
              0.2222222222222222,
              "#7201a8"
             ],
             [
              0.3333333333333333,
              "#9c179e"
             ],
             [
              0.4444444444444444,
              "#bd3786"
             ],
             [
              0.5555555555555556,
              "#d8576b"
             ],
             [
              0.6666666666666666,
              "#ed7953"
             ],
             [
              0.7777777777777778,
              "#fb9f3a"
             ],
             [
              0.8888888888888888,
              "#fdca26"
             ],
             [
              1,
              "#f0f921"
             ]
            ],
            "type": "heatmap"
           }
          ],
          "heatmapgl": [
           {
            "colorbar": {
             "outlinewidth": 0,
             "ticks": ""
            },
            "colorscale": [
             [
              0,
              "#0d0887"
             ],
             [
              0.1111111111111111,
              "#46039f"
             ],
             [
              0.2222222222222222,
              "#7201a8"
             ],
             [
              0.3333333333333333,
              "#9c179e"
             ],
             [
              0.4444444444444444,
              "#bd3786"
             ],
             [
              0.5555555555555556,
              "#d8576b"
             ],
             [
              0.6666666666666666,
              "#ed7953"
             ],
             [
              0.7777777777777778,
              "#fb9f3a"
             ],
             [
              0.8888888888888888,
              "#fdca26"
             ],
             [
              1,
              "#f0f921"
             ]
            ],
            "type": "heatmapgl"
           }
          ],
          "histogram": [
           {
            "marker": {
             "pattern": {
              "fillmode": "overlay",
              "size": 10,
              "solidity": 0.2
             }
            },
            "type": "histogram"
           }
          ],
          "histogram2d": [
           {
            "colorbar": {
             "outlinewidth": 0,
             "ticks": ""
            },
            "colorscale": [
             [
              0,
              "#0d0887"
             ],
             [
              0.1111111111111111,
              "#46039f"
             ],
             [
              0.2222222222222222,
              "#7201a8"
             ],
             [
              0.3333333333333333,
              "#9c179e"
             ],
             [
              0.4444444444444444,
              "#bd3786"
             ],
             [
              0.5555555555555556,
              "#d8576b"
             ],
             [
              0.6666666666666666,
              "#ed7953"
             ],
             [
              0.7777777777777778,
              "#fb9f3a"
             ],
             [
              0.8888888888888888,
              "#fdca26"
             ],
             [
              1,
              "#f0f921"
             ]
            ],
            "type": "histogram2d"
           }
          ],
          "histogram2dcontour": [
           {
            "colorbar": {
             "outlinewidth": 0,
             "ticks": ""
            },
            "colorscale": [
             [
              0,
              "#0d0887"
             ],
             [
              0.1111111111111111,
              "#46039f"
             ],
             [
              0.2222222222222222,
              "#7201a8"
             ],
             [
              0.3333333333333333,
              "#9c179e"
             ],
             [
              0.4444444444444444,
              "#bd3786"
             ],
             [
              0.5555555555555556,
              "#d8576b"
             ],
             [
              0.6666666666666666,
              "#ed7953"
             ],
             [
              0.7777777777777778,
              "#fb9f3a"
             ],
             [
              0.8888888888888888,
              "#fdca26"
             ],
             [
              1,
              "#f0f921"
             ]
            ],
            "type": "histogram2dcontour"
           }
          ],
          "mesh3d": [
           {
            "colorbar": {
             "outlinewidth": 0,
             "ticks": ""
            },
            "type": "mesh3d"
           }
          ],
          "parcoords": [
           {
            "line": {
             "colorbar": {
              "outlinewidth": 0,
              "ticks": ""
             }
            },
            "type": "parcoords"
           }
          ],
          "pie": [
           {
            "automargin": true,
            "type": "pie"
           }
          ],
          "scatter": [
           {
            "marker": {
             "colorbar": {
              "outlinewidth": 0,
              "ticks": ""
             }
            },
            "type": "scatter"
           }
          ],
          "scatter3d": [
           {
            "line": {
             "colorbar": {
              "outlinewidth": 0,
              "ticks": ""
             }
            },
            "marker": {
             "colorbar": {
              "outlinewidth": 0,
              "ticks": ""
             }
            },
            "type": "scatter3d"
           }
          ],
          "scattercarpet": [
           {
            "marker": {
             "colorbar": {
              "outlinewidth": 0,
              "ticks": ""
             }
            },
            "type": "scattercarpet"
           }
          ],
          "scattergeo": [
           {
            "marker": {
             "colorbar": {
              "outlinewidth": 0,
              "ticks": ""
             }
            },
            "type": "scattergeo"
           }
          ],
          "scattergl": [
           {
            "marker": {
             "colorbar": {
              "outlinewidth": 0,
              "ticks": ""
             }
            },
            "type": "scattergl"
           }
          ],
          "scattermapbox": [
           {
            "marker": {
             "colorbar": {
              "outlinewidth": 0,
              "ticks": ""
             }
            },
            "type": "scattermapbox"
           }
          ],
          "scatterpolar": [
           {
            "marker": {
             "colorbar": {
              "outlinewidth": 0,
              "ticks": ""
             }
            },
            "type": "scatterpolar"
           }
          ],
          "scatterpolargl": [
           {
            "marker": {
             "colorbar": {
              "outlinewidth": 0,
              "ticks": ""
             }
            },
            "type": "scatterpolargl"
           }
          ],
          "scatterternary": [
           {
            "marker": {
             "colorbar": {
              "outlinewidth": 0,
              "ticks": ""
             }
            },
            "type": "scatterternary"
           }
          ],
          "surface": [
           {
            "colorbar": {
             "outlinewidth": 0,
             "ticks": ""
            },
            "colorscale": [
             [
              0,
              "#0d0887"
             ],
             [
              0.1111111111111111,
              "#46039f"
             ],
             [
              0.2222222222222222,
              "#7201a8"
             ],
             [
              0.3333333333333333,
              "#9c179e"
             ],
             [
              0.4444444444444444,
              "#bd3786"
             ],
             [
              0.5555555555555556,
              "#d8576b"
             ],
             [
              0.6666666666666666,
              "#ed7953"
             ],
             [
              0.7777777777777778,
              "#fb9f3a"
             ],
             [
              0.8888888888888888,
              "#fdca26"
             ],
             [
              1,
              "#f0f921"
             ]
            ],
            "type": "surface"
           }
          ],
          "table": [
           {
            "cells": {
             "fill": {
              "color": "#EBF0F8"
             },
             "line": {
              "color": "white"
             }
            },
            "header": {
             "fill": {
              "color": "#C8D4E3"
             },
             "line": {
              "color": "white"
             }
            },
            "type": "table"
           }
          ]
         },
         "layout": {
          "annotationdefaults": {
           "arrowcolor": "#2a3f5f",
           "arrowhead": 0,
           "arrowwidth": 1
          },
          "autotypenumbers": "strict",
          "coloraxis": {
           "colorbar": {
            "outlinewidth": 0,
            "ticks": ""
           }
          },
          "colorscale": {
           "diverging": [
            [
             0,
             "#8e0152"
            ],
            [
             0.1,
             "#c51b7d"
            ],
            [
             0.2,
             "#de77ae"
            ],
            [
             0.3,
             "#f1b6da"
            ],
            [
             0.4,
             "#fde0ef"
            ],
            [
             0.5,
             "#f7f7f7"
            ],
            [
             0.6,
             "#e6f5d0"
            ],
            [
             0.7,
             "#b8e186"
            ],
            [
             0.8,
             "#7fbc41"
            ],
            [
             0.9,
             "#4d9221"
            ],
            [
             1,
             "#276419"
            ]
           ],
           "sequential": [
            [
             0,
             "#0d0887"
            ],
            [
             0.1111111111111111,
             "#46039f"
            ],
            [
             0.2222222222222222,
             "#7201a8"
            ],
            [
             0.3333333333333333,
             "#9c179e"
            ],
            [
             0.4444444444444444,
             "#bd3786"
            ],
            [
             0.5555555555555556,
             "#d8576b"
            ],
            [
             0.6666666666666666,
             "#ed7953"
            ],
            [
             0.7777777777777778,
             "#fb9f3a"
            ],
            [
             0.8888888888888888,
             "#fdca26"
            ],
            [
             1,
             "#f0f921"
            ]
           ],
           "sequentialminus": [
            [
             0,
             "#0d0887"
            ],
            [
             0.1111111111111111,
             "#46039f"
            ],
            [
             0.2222222222222222,
             "#7201a8"
            ],
            [
             0.3333333333333333,
             "#9c179e"
            ],
            [
             0.4444444444444444,
             "#bd3786"
            ],
            [
             0.5555555555555556,
             "#d8576b"
            ],
            [
             0.6666666666666666,
             "#ed7953"
            ],
            [
             0.7777777777777778,
             "#fb9f3a"
            ],
            [
             0.8888888888888888,
             "#fdca26"
            ],
            [
             1,
             "#f0f921"
            ]
           ]
          },
          "colorway": [
           "#636efa",
           "#EF553B",
           "#00cc96",
           "#ab63fa",
           "#FFA15A",
           "#19d3f3",
           "#FF6692",
           "#B6E880",
           "#FF97FF",
           "#FECB52"
          ],
          "font": {
           "color": "#2a3f5f"
          },
          "geo": {
           "bgcolor": "white",
           "lakecolor": "white",
           "landcolor": "#E5ECF6",
           "showlakes": true,
           "showland": true,
           "subunitcolor": "white"
          },
          "hoverlabel": {
           "align": "left"
          },
          "hovermode": "closest",
          "mapbox": {
           "style": "light"
          },
          "paper_bgcolor": "white",
          "plot_bgcolor": "#E5ECF6",
          "polar": {
           "angularaxis": {
            "gridcolor": "white",
            "linecolor": "white",
            "ticks": ""
           },
           "bgcolor": "#E5ECF6",
           "radialaxis": {
            "gridcolor": "white",
            "linecolor": "white",
            "ticks": ""
           }
          },
          "scene": {
           "xaxis": {
            "backgroundcolor": "#E5ECF6",
            "gridcolor": "white",
            "gridwidth": 2,
            "linecolor": "white",
            "showbackground": true,
            "ticks": "",
            "zerolinecolor": "white"
           },
           "yaxis": {
            "backgroundcolor": "#E5ECF6",
            "gridcolor": "white",
            "gridwidth": 2,
            "linecolor": "white",
            "showbackground": true,
            "ticks": "",
            "zerolinecolor": "white"
           },
           "zaxis": {
            "backgroundcolor": "#E5ECF6",
            "gridcolor": "white",
            "gridwidth": 2,
            "linecolor": "white",
            "showbackground": true,
            "ticks": "",
            "zerolinecolor": "white"
           }
          },
          "shapedefaults": {
           "line": {
            "color": "#2a3f5f"
           }
          },
          "ternary": {
           "aaxis": {
            "gridcolor": "white",
            "linecolor": "white",
            "ticks": ""
           },
           "baxis": {
            "gridcolor": "white",
            "linecolor": "white",
            "ticks": ""
           },
           "bgcolor": "#E5ECF6",
           "caxis": {
            "gridcolor": "white",
            "linecolor": "white",
            "ticks": ""
           }
          },
          "title": {
           "x": 0.05
          },
          "xaxis": {
           "automargin": true,
           "gridcolor": "white",
           "linecolor": "white",
           "ticks": "",
           "title": {
            "standoff": 15
           },
           "zerolinecolor": "white",
           "zerolinewidth": 2
          },
          "yaxis": {
           "automargin": true,
           "gridcolor": "white",
           "linecolor": "white",
           "ticks": "",
           "title": {
            "standoff": 15
           },
           "zerolinecolor": "white",
           "zerolinewidth": 2
          }
         }
        },
        "title": {
         "text": "Gantt Chart"
        },
        "xaxis": {
         "rangeselector": {
          "buttons": [
           {
            "count": 7,
            "label": "1w",
            "step": "day",
            "stepmode": "backward"
           },
           {
            "count": 1,
            "label": "1m",
            "step": "month",
            "stepmode": "backward"
           },
           {
            "count": 6,
            "label": "6m",
            "step": "month",
            "stepmode": "backward"
           },
           {
            "count": 1,
            "label": "YTD",
            "step": "year",
            "stepmode": "todate"
           },
           {
            "count": 1,
            "label": "1y",
            "step": "year",
            "stepmode": "backward"
           },
           {
            "step": "all"
           }
          ]
         },
         "showgrid": false,
         "type": "date",
         "zeroline": false
        },
        "yaxis": {
         "autorange": false,
         "range": [
          -1,
          3
         ],
         "showgrid": false,
         "ticktext": [
          "w2",
          "w1"
         ],
         "tickvals": [
          0,
          1
         ],
         "zeroline": false
        }
       }
      }
     },
     "metadata": {},
     "output_type": "display_data"
    },
    {
     "data": {
      "image/png": "[encoded data removed]",
      "text/plain": [
       "<Figure size 432x288 with 1 Axes>"
      ]
     },
     "metadata": {
      "needs_background": "light"
     },
     "output_type": "display_data"
    }
   ],
   "source": [
    "optimizer = BaseGA(env)\n",
    "optimizer.configure('tardiness', 'twopointcrossover', 'roulettewheel', 'onlyfeasibletimeslot')\n",
    "last_time_slot = 0\n",
    "for order in orders:\n",
    "    if order[1] > last_time_slot:\n",
    "        last_time_slot = order[1]\n",
    "# all parameters after offspring_amount are optional (in this case -> verbose=True)\n",
    "result, best_fitness_history, average_fitness_history, best_generation_history, feasible_gen = optimizer.optimize(orders, max_generations, earliest_time_slot, last_time_slot, population_size, offspring_amount, verbose=True)\n",
    "workstation_assignments = reformat_result(result, orders, env)\n",
    "visualize(workstation_assignments, best_fitness_history, average_fitness_history, best_generation_history, feasible_gen)"
   ]
  },
  {
   "cell_type": "markdown",
   "metadata": {},
   "source": [
    "Config 4 - Randomized Mutation with \"open\" Planning Horizon"
   ]
  },
  {
   "cell_type": "code",
   "execution_count": 8,
   "metadata": {},
   "outputs": [
    {
     "name": "stdout",
     "output_type": "stream",
     "text": [
      "Current generation: 0, Current Best: 82, not feasible\n",
      "Current generation: 1, Current Best: 82, not feasible\n",
      "New best individual found!\n",
      "Current generation: 2, Current Best: 79, not feasible\n",
      "New best individual found!\n",
      "Current generation: 3, Current Best: 78, not feasible\n",
      "New best individual found!\n",
      "Current generation: 4, Current Best: 77, not feasible\n",
      "Current generation: 5, Current Best: 77, not feasible\n",
      "New best individual found!\n",
      "Current generation: 6, Current Best: 76, not feasible\n",
      "Current generation: 7, Current Best: 76, not feasible\n",
      "New best individual found!\n",
      "Current generation: 8, Current Best: 75, not feasible\n",
      "New best individual found!\n",
      "Current generation: 9, Current Best: 74, not feasible\n",
      "New best individual found!\n",
      "Current generation: 10, Current Best: 73, not feasible\n",
      "New best individual found!\n",
      "Current generation: 11, Current Best: 72, not feasible\n",
      "Current generation: 12, Current Best: 72, not feasible\n",
      "Current generation: 13, Current Best: 72, not feasible\n",
      "New best individual found!\n",
      "Current generation: 14, Current Best: 71, not feasible\n",
      "Current generation: 15, Current Best: 71, not feasible\n",
      "Current generation: 16, Current Best: 71, not feasible\n",
      "New best individual found!\n",
      "Current generation: 17, Current Best: 70, not feasible\n",
      "Current generation: 18, Current Best: 70, not feasible\n",
      "Current generation: 19, Current Best: 70, not feasible\n"
     ]
    },
    {
     "data": {
      "application/vnd.plotly.v1+json": {
       "config": {
        "plotlyServerURL": "https://plot.ly"
       },
       "data": [
        {
         "fill": "toself",
         "fillcolor": "rgb(109, 251, 101)",
         "hoverinfo": "name",
         "legendgroup": "rgb(109, 251, 101)",
         "mode": "none",
         "name": "0",
         "type": "scatter",
         "x": [
          393,
          480,
          480,
          393,
          393,
          1971,
          2006,
          2006,
          1971,
          1971,
          477,
          520,
          520,
          477,
          477,
          221,
          316,
          316,
          221,
          221,
          765,
          848,
          848,
          765,
          765,
          2415,
          2498,
          2498,
          2415
         ],
         "y": [
          0.8,
          0.8,
          1.2,
          1.2,
          null,
          0.8,
          0.8,
          1.2,
          1.2,
          null,
          0.8,
          0.8,
          1.2,
          1.2,
          null,
          -0.2,
          -0.2,
          0.2,
          0.2,
          null,
          -0.2,
          -0.2,
          0.2,
          0.2,
          null,
          -0.2,
          -0.2,
          0.2,
          0.2
         ]
        },
        {
         "fill": "toself",
         "fillcolor": "rgb(134, 20, 126)",
         "hoverinfo": "name",
         "legendgroup": "rgb(134, 20, 126)",
         "mode": "none",
         "name": "1",
         "type": "scatter",
         "x": [
          1929,
          1964,
          1964,
          1929,
          1929,
          579,
          622,
          622,
          579,
          579,
          2401,
          2436,
          2436,
          2401,
          2401,
          2380,
          2455,
          2455,
          2380,
          2380,
          1590,
          1685,
          1685,
          1590,
          1590,
          1385,
          1480,
          1480,
          1385
         ],
         "y": [
          0.8,
          0.8,
          1.2,
          1.2,
          null,
          0.8,
          0.8,
          1.2,
          1.2,
          null,
          0.8,
          0.8,
          1.2,
          1.2,
          null,
          0.8,
          0.8,
          1.2,
          1.2,
          null,
          -0.2,
          -0.2,
          0.2,
          0.2,
          null,
          -0.2,
          -0.2,
          0.2,
          0.2
         ]
        },
        {
         "fill": "toself",
         "fillcolor": "rgb(159, 45, 151)",
         "hoverinfo": "name",
         "legendgroup": "rgb(159, 45, 151)",
         "mode": "none",
         "name": "3",
         "type": "scatter",
         "x": [
          304,
          379,
          379,
          304,
          304,
          2099,
          2174,
          2174,
          2099,
          2099,
          2203,
          2290,
          2290,
          2203,
          2203,
          925,
          960,
          960,
          925,
          925,
          1012,
          1107,
          1107,
          1012,
          1012,
          1852,
          1935,
          1935,
          1852
         ],
         "y": [
          0.8,
          0.8,
          1.2,
          1.2,
          null,
          0.8,
          0.8,
          1.2,
          1.2,
          null,
          0.8,
          0.8,
          1.2,
          1.2,
          null,
          0.8,
          0.8,
          1.2,
          1.2,
          null,
          -0.2,
          -0.2,
          0.2,
          0.2,
          null,
          -0.2,
          -0.2,
          0.2,
          0.2
         ]
        },
        {
         "fill": "toself",
         "fillcolor": "rgb(184, 70, 176)",
         "hoverinfo": "name",
         "legendgroup": "rgb(184, 70, 176)",
         "mode": "none",
         "name": "2",
         "type": "scatter",
         "x": [
          1532,
          1595,
          1595,
          1532,
          1532,
          1987,
          2050,
          2050,
          1987,
          1987,
          2401,
          2445,
          2445,
          2401,
          2401,
          3880,
          3943,
          3943,
          3880
         ],
         "y": [
          -0.2,
          -0.2,
          0.2,
          0.2,
          null,
          -0.2,
          -0.2,
          0.2,
          0.2,
          null,
          -0.2,
          -0.2,
          0.2,
          0.2,
          null,
          -0.2,
          -0.2,
          0.2,
          0.2
         ]
        },
        {
         "fill": "toself",
         "fillcolor": "rgb(209, 95, 201)",
         "hoverinfo": "name",
         "legendgroup": "rgb(209, 95, 201)",
         "mode": "none",
         "name": "4",
         "type": "scatter",
         "x": [
          1997,
          2041,
          2041,
          1997,
          1997,
          2165,
          2238,
          2238,
          2165,
          2165,
          741,
          785,
          785,
          741,
          741,
          707,
          780,
          780,
          707
         ],
         "y": [
          -0.2,
          -0.2,
          0.2,
          0.2,
          null,
          -0.2,
          -0.2,
          0.2,
          0.2,
          null,
          -0.2,
          -0.2,
          0.2,
          0.2,
          null,
          -0.2,
          -0.2,
          0.2,
          0.2
         ]
        },
        {
         "fill": "toself",
         "fillcolor": "rgb(234, 120, 226)",
         "hoverinfo": "name",
         "legendgroup": "rgb(234, 120, 226)",
         "mode": "none",
         "name": "5",
         "type": "scatter",
         "x": [
          922,
          1047,
          1047,
          922,
          922,
          547,
          662,
          662,
          547,
          547,
          1917,
          2032,
          2032,
          1917,
          1917,
          1391,
          1449,
          1449,
          1391,
          1391,
          2312,
          2452,
          2452,
          2312,
          2312,
          918,
          961,
          961,
          918,
          918,
          1778,
          1893,
          1893,
          1778
         ],
         "y": [
          -0.2,
          -0.2,
          0.2,
          0.2,
          null,
          -0.2,
          -0.2,
          0.2,
          0.2,
          null,
          -0.2,
          -0.2,
          0.2,
          0.2,
          null,
          -0.2,
          -0.2,
          0.2,
          0.2,
          null,
          -0.2,
          -0.2,
          0.2,
          0.2,
          null,
          -0.2,
          -0.2,
          0.2,
          0.2,
          null,
          -0.2,
          -0.2,
          0.2,
          0.2
         ]
        },
        {
         "fill": "toself",
         "fillcolor": "rgb(28, 170, 20)",
         "hoverinfo": "name",
         "legendgroup": "rgb(28, 170, 20)",
         "mode": "none",
         "name": "7",
         "type": "scatter",
         "x": [
          2868,
          2921,
          2921,
          2868,
          2868,
          1267,
          1340,
          1340,
          1267,
          1267,
          911,
          984,
          984,
          911,
          911,
          2643,
          2716,
          2716,
          2643
         ],
         "y": [
          -0.2,
          -0.2,
          0.2,
          0.2,
          null,
          -0.2,
          -0.2,
          0.2,
          0.2,
          null,
          -0.2,
          -0.2,
          0.2,
          0.2,
          null,
          -0.2,
          -0.2,
          0.2,
          0.2
         ]
        },
        {
         "fill": "toself",
         "fillcolor": "rgb(3, 145, 251)",
         "hoverinfo": "name",
         "legendgroup": "rgb(3, 145, 251)",
         "mode": "none",
         "name": "6",
         "type": "scatter",
         "x": [
          1581,
          1642,
          1642,
          1581,
          1581,
          1808,
          1943,
          1943,
          1808,
          1808,
          1351,
          1491,
          1491,
          1351,
          1351,
          1797,
          1937,
          1937,
          1797,
          1797,
          1256,
          1317,
          1317,
          1256,
          1256,
          2940,
          3075,
          3075,
          2940,
          2940,
          1759,
          1894,
          1894,
          1759
         ],
         "y": [
          -0.2,
          -0.2,
          0.2,
          0.2,
          null,
          -0.2,
          -0.2,
          0.2,
          0.2,
          null,
          -0.2,
          -0.2,
          0.2,
          0.2,
          null,
          -0.2,
          -0.2,
          0.2,
          0.2,
          null,
          -0.2,
          -0.2,
          0.2,
          0.2,
          null,
          -0.2,
          -0.2,
          0.2,
          0.2,
          null,
          -0.2,
          -0.2,
          0.2,
          0.2
         ]
        },
        {
         "fill": "toself",
         "fillcolor": "rgb(53, 195, 45)",
         "hoverinfo": "name",
         "legendgroup": "rgb(53, 195, 45)",
         "mode": "none",
         "name": "8",
         "type": "scatter",
         "x": [
          2473,
          2516,
          2516,
          2473,
          2473,
          1395,
          1520,
          1520,
          1395,
          1395,
          1364,
          1407,
          1407,
          1364,
          1364,
          1583,
          1641,
          1641,
          1583,
          1583,
          3060,
          3195,
          3195,
          3060,
          3060,
          3862,
          4002,
          4002,
          3862,
          3862,
          3633,
          3773,
          3773,
          3633
         ],
         "y": [
          -0.2,
          -0.2,
          0.2,
          0.2,
          null,
          -0.2,
          -0.2,
          0.2,
          0.2,
          null,
          -0.2,
          -0.2,
          0.2,
          0.2,
          null,
          -0.2,
          -0.2,
          0.2,
          0.2,
          null,
          -0.2,
          -0.2,
          0.2,
          0.2,
          null,
          -0.2,
          -0.2,
          0.2,
          0.2,
          null,
          -0.2,
          -0.2,
          0.2,
          0.2
         ]
        },
        {
         "fill": "toself",
         "fillcolor": "rgb(78, 220, 70)",
         "hoverinfo": "name",
         "legendgroup": "rgb(78, 220, 70)",
         "mode": "none",
         "name": "9",
         "type": "scatter",
         "x": [
          3397,
          3458,
          3458,
          3397,
          3397,
          504,
          547,
          547,
          504,
          504,
          227,
          270,
          270,
          227,
          227,
          711,
          769,
          769,
          711,
          711,
          274,
          332,
          332,
          274,
          274,
          784,
          919,
          919,
          784,
          784,
          2551,
          2691,
          2691,
          2551
         ],
         "y": [
          -0.2,
          -0.2,
          0.2,
          0.2,
          null,
          -0.2,
          -0.2,
          0.2,
          0.2,
          null,
          -0.2,
          -0.2,
          0.2,
          0.2,
          null,
          -0.2,
          -0.2,
          0.2,
          0.2,
          null,
          -0.2,
          -0.2,
          0.2,
          0.2,
          null,
          -0.2,
          -0.2,
          0.2,
          0.2,
          null,
          -0.2,
          -0.2,
          0.2,
          0.2
         ]
        },
        {
         "legendgroup": "rgb(109, 251, 101)",
         "marker": {
          "color": "rgb(109, 251, 101)",
          "opacity": 0,
          "size": 1
         },
         "mode": "markers",
         "name": "",
         "showlegend": false,
         "text": [
          null,
          null,
          null,
          null,
          null,
          null,
          null,
          null,
          null,
          null,
          null,
          null
         ],
         "type": "scatter",
         "x": [
          393,
          480,
          1971,
          2006,
          477,
          520,
          221,
          316,
          765,
          848,
          2415,
          2498
         ],
         "y": [
          1,
          1,
          1,
          1,
          1,
          1,
          0,
          0,
          0,
          0,
          0,
          0
         ]
        },
        {
         "legendgroup": "rgb(134, 20, 126)",
         "marker": {
          "color": "rgb(134, 20, 126)",
          "opacity": 0,
          "size": 1
         },
         "mode": "markers",
         "name": "",
         "showlegend": false,
         "text": [
          null,
          null,
          null,
          null,
          null,
          null,
          null,
          null,
          null,
          null,
          null,
          null
         ],
         "type": "scatter",
         "x": [
          1929,
          1964,
          579,
          622,
          2401,
          2436,
          2380,
          2455,
          1590,
          1685,
          1385,
          1480
         ],
         "y": [
          1,
          1,
          1,
          1,
          1,
          1,
          1,
          1,
          0,
          0,
          0,
          0
         ]
        },
        {
         "legendgroup": "rgb(159, 45, 151)",
         "marker": {
          "color": "rgb(159, 45, 151)",
          "opacity": 0,
          "size": 1
         },
         "mode": "markers",
         "name": "",
         "showlegend": false,
         "text": [
          null,
          null,
          null,
          null,
          null,
          null,
          null,
          null,
          null,
          null,
          null,
          null
         ],
         "type": "scatter",
         "x": [
          304,
          379,
          2099,
          2174,
          2203,
          2290,
          925,
          960,
          1012,
          1107,
          1852,
          1935
         ],
         "y": [
          1,
          1,
          1,
          1,
          1,
          1,
          1,
          1,
          0,
          0,
          0,
          0
         ]
        },
        {
         "legendgroup": "rgb(184, 70, 176)",
         "marker": {
          "color": "rgb(184, 70, 176)",
          "opacity": 0,
          "size": 1
         },
         "mode": "markers",
         "name": "",
         "showlegend": false,
         "text": [
          null,
          null,
          null,
          null,
          null,
          null,
          null,
          null
         ],
         "type": "scatter",
         "x": [
          1532,
          1595,
          1987,
          2050,
          2401,
          2445,
          3880,
          3943
         ],
         "y": [
          0,
          0,
          0,
          0,
          0,
          0,
          0,
          0
         ]
        },
        {
         "legendgroup": "rgb(209, 95, 201)",
         "marker": {
          "color": "rgb(209, 95, 201)",
          "opacity": 0,
          "size": 1
         },
         "mode": "markers",
         "name": "",
         "showlegend": false,
         "text": [
          null,
          null,
          null,
          null,
          null,
          null,
          null,
          null
         ],
         "type": "scatter",
         "x": [
          1997,
          2041,
          2165,
          2238,
          741,
          785,
          707,
          780
         ],
         "y": [
          0,
          0,
          0,
          0,
          0,
          0,
          0,
          0
         ]
        },
        {
         "legendgroup": "rgb(234, 120, 226)",
         "marker": {
          "color": "rgb(234, 120, 226)",
          "opacity": 0,
          "size": 1
         },
         "mode": "markers",
         "name": "",
         "showlegend": false,
         "text": [
          null,
          null,
          null,
          null,
          null,
          null,
          null,
          null,
          null,
          null,
          null,
          null,
          null,
          null
         ],
         "type": "scatter",
         "x": [
          922,
          1047,
          547,
          662,
          1917,
          2032,
          1391,
          1449,
          2312,
          2452,
          918,
          961,
          1778,
          1893
         ],
         "y": [
          0,
          0,
          0,
          0,
          0,
          0,
          0,
          0,
          0,
          0,
          0,
          0,
          0,
          0
         ]
        },
        {
         "legendgroup": "rgb(28, 170, 20)",
         "marker": {
          "color": "rgb(28, 170, 20)",
          "opacity": 0,
          "size": 1
         },
         "mode": "markers",
         "name": "",
         "showlegend": false,
         "text": [
          null,
          null,
          null,
          null,
          null,
          null,
          null,
          null
         ],
         "type": "scatter",
         "x": [
          2868,
          2921,
          1267,
          1340,
          911,
          984,
          2643,
          2716
         ],
         "y": [
          0,
          0,
          0,
          0,
          0,
          0,
          0,
          0
         ]
        },
        {
         "legendgroup": "rgb(3, 145, 251)",
         "marker": {
          "color": "rgb(3, 145, 251)",
          "opacity": 0,
          "size": 1
         },
         "mode": "markers",
         "name": "",
         "showlegend": false,
         "text": [
          null,
          null,
          null,
          null,
          null,
          null,
          null,
          null,
          null,
          null,
          null,
          null,
          null,
          null
         ],
         "type": "scatter",
         "x": [
          1581,
          1642,
          1808,
          1943,
          1351,
          1491,
          1797,
          1937,
          1256,
          1317,
          2940,
          3075,
          1759,
          1894
         ],
         "y": [
          0,
          0,
          0,
          0,
          0,
          0,
          0,
          0,
          0,
          0,
          0,
          0,
          0,
          0
         ]
        },
        {
         "legendgroup": "rgb(53, 195, 45)",
         "marker": {
          "color": "rgb(53, 195, 45)",
          "opacity": 0,
          "size": 1
         },
         "mode": "markers",
         "name": "",
         "showlegend": false,
         "text": [
          null,
          null,
          null,
          null,
          null,
          null,
          null,
          null,
          null,
          null,
          null,
          null,
          null,
          null
         ],
         "type": "scatter",
         "x": [
          2473,
          2516,
          1395,
          1520,
          1364,
          1407,
          1583,
          1641,
          3060,
          3195,
          3862,
          4002,
          3633,
          3773
         ],
         "y": [
          0,
          0,
          0,
          0,
          0,
          0,
          0,
          0,
          0,
          0,
          0,
          0,
          0,
          0
         ]
        },
        {
         "legendgroup": "rgb(78, 220, 70)",
         "marker": {
          "color": "rgb(78, 220, 70)",
          "opacity": 0,
          "size": 1
         },
         "mode": "markers",
         "name": "",
         "showlegend": false,
         "text": [
          null,
          null,
          null,
          null,
          null,
          null,
          null,
          null,
          null,
          null,
          null,
          null,
          null,
          null
         ],
         "type": "scatter",
         "x": [
          3397,
          3458,
          504,
          547,
          227,
          270,
          711,
          769,
          274,
          332,
          784,
          919,
          2551,
          2691
         ],
         "y": [
          0,
          0,
          0,
          0,
          0,
          0,
          0,
          0,
          0,
          0,
          0,
          0,
          0,
          0
         ]
        }
       ],
       "layout": {
        "height": 600,
        "hovermode": "closest",
        "showlegend": true,
        "template": {
         "data": {
          "bar": [
           {
            "error_x": {
             "color": "#2a3f5f"
            },
            "error_y": {
             "color": "#2a3f5f"
            },
            "marker": {
             "line": {
              "color": "#E5ECF6",
              "width": 0.5
             },
             "pattern": {
              "fillmode": "overlay",
              "size": 10,
              "solidity": 0.2
             }
            },
            "type": "bar"
           }
          ],
          "barpolar": [
           {
            "marker": {
             "line": {
              "color": "#E5ECF6",
              "width": 0.5
             },
             "pattern": {
              "fillmode": "overlay",
              "size": 10,
              "solidity": 0.2
             }
            },
            "type": "barpolar"
           }
          ],
          "carpet": [
           {
            "aaxis": {
             "endlinecolor": "#2a3f5f",
             "gridcolor": "white",
             "linecolor": "white",
             "minorgridcolor": "white",
             "startlinecolor": "#2a3f5f"
            },
            "baxis": {
             "endlinecolor": "#2a3f5f",
             "gridcolor": "white",
             "linecolor": "white",
             "minorgridcolor": "white",
             "startlinecolor": "#2a3f5f"
            },
            "type": "carpet"
           }
          ],
          "choropleth": [
           {
            "colorbar": {
             "outlinewidth": 0,
             "ticks": ""
            },
            "type": "choropleth"
           }
          ],
          "contour": [
           {
            "colorbar": {
             "outlinewidth": 0,
             "ticks": ""
            },
            "colorscale": [
             [
              0,
              "#0d0887"
             ],
             [
              0.1111111111111111,
              "#46039f"
             ],
             [
              0.2222222222222222,
              "#7201a8"
             ],
             [
              0.3333333333333333,
              "#9c179e"
             ],
             [
              0.4444444444444444,
              "#bd3786"
             ],
             [
              0.5555555555555556,
              "#d8576b"
             ],
             [
              0.6666666666666666,
              "#ed7953"
             ],
             [
              0.7777777777777778,
              "#fb9f3a"
             ],
             [
              0.8888888888888888,
              "#fdca26"
             ],
             [
              1,
              "#f0f921"
             ]
            ],
            "type": "contour"
           }
          ],
          "contourcarpet": [
           {
            "colorbar": {
             "outlinewidth": 0,
             "ticks": ""
            },
            "type": "contourcarpet"
           }
          ],
          "heatmap": [
           {
            "colorbar": {
             "outlinewidth": 0,
             "ticks": ""
            },
            "colorscale": [
             [
              0,
              "#0d0887"
             ],
             [
              0.1111111111111111,
              "#46039f"
             ],
             [
              0.2222222222222222,
              "#7201a8"
             ],
             [
              0.3333333333333333,
              "#9c179e"
             ],
             [
              0.4444444444444444,
              "#bd3786"
             ],
             [
              0.5555555555555556,
              "#d8576b"
             ],
             [
              0.6666666666666666,
              "#ed7953"
             ],
             [
              0.7777777777777778,
              "#fb9f3a"
             ],
             [
              0.8888888888888888,
              "#fdca26"
             ],
             [
              1,
              "#f0f921"
             ]
            ],
            "type": "heatmap"
           }
          ],
          "heatmapgl": [
           {
            "colorbar": {
             "outlinewidth": 0,
             "ticks": ""
            },
            "colorscale": [
             [
              0,
              "#0d0887"
             ],
             [
              0.1111111111111111,
              "#46039f"
             ],
             [
              0.2222222222222222,
              "#7201a8"
             ],
             [
              0.3333333333333333,
              "#9c179e"
             ],
             [
              0.4444444444444444,
              "#bd3786"
             ],
             [
              0.5555555555555556,
              "#d8576b"
             ],
             [
              0.6666666666666666,
              "#ed7953"
             ],
             [
              0.7777777777777778,
              "#fb9f3a"
             ],
             [
              0.8888888888888888,
              "#fdca26"
             ],
             [
              1,
              "#f0f921"
             ]
            ],
            "type": "heatmapgl"
           }
          ],
          "histogram": [
           {
            "marker": {
             "pattern": {
              "fillmode": "overlay",
              "size": 10,
              "solidity": 0.2
             }
            },
            "type": "histogram"
           }
          ],
          "histogram2d": [
           {
            "colorbar": {
             "outlinewidth": 0,
             "ticks": ""
            },
            "colorscale": [
             [
              0,
              "#0d0887"
             ],
             [
              0.1111111111111111,
              "#46039f"
             ],
             [
              0.2222222222222222,
              "#7201a8"
             ],
             [
              0.3333333333333333,
              "#9c179e"
             ],
             [
              0.4444444444444444,
              "#bd3786"
             ],
             [
              0.5555555555555556,
              "#d8576b"
             ],
             [
              0.6666666666666666,
              "#ed7953"
             ],
             [
              0.7777777777777778,
              "#fb9f3a"
             ],
             [
              0.8888888888888888,
              "#fdca26"
             ],
             [
              1,
              "#f0f921"
             ]
            ],
            "type": "histogram2d"
           }
          ],
          "histogram2dcontour": [
           {
            "colorbar": {
             "outlinewidth": 0,
             "ticks": ""
            },
            "colorscale": [
             [
              0,
              "#0d0887"
             ],
             [
              0.1111111111111111,
              "#46039f"
             ],
             [
              0.2222222222222222,
              "#7201a8"
             ],
             [
              0.3333333333333333,
              "#9c179e"
             ],
             [
              0.4444444444444444,
              "#bd3786"
             ],
             [
              0.5555555555555556,
              "#d8576b"
             ],
             [
              0.6666666666666666,
              "#ed7953"
             ],
             [
              0.7777777777777778,
              "#fb9f3a"
             ],
             [
              0.8888888888888888,
              "#fdca26"
             ],
             [
              1,
              "#f0f921"
             ]
            ],
            "type": "histogram2dcontour"
           }
          ],
          "mesh3d": [
           {
            "colorbar": {
             "outlinewidth": 0,
             "ticks": ""
            },
            "type": "mesh3d"
           }
          ],
          "parcoords": [
           {
            "line": {
             "colorbar": {
              "outlinewidth": 0,
              "ticks": ""
             }
            },
            "type": "parcoords"
           }
          ],
          "pie": [
           {
            "automargin": true,
            "type": "pie"
           }
          ],
          "scatter": [
           {
            "marker": {
             "colorbar": {
              "outlinewidth": 0,
              "ticks": ""
             }
            },
            "type": "scatter"
           }
          ],
          "scatter3d": [
           {
            "line": {
             "colorbar": {
              "outlinewidth": 0,
              "ticks": ""
             }
            },
            "marker": {
             "colorbar": {
              "outlinewidth": 0,
              "ticks": ""
             }
            },
            "type": "scatter3d"
           }
          ],
          "scattercarpet": [
           {
            "marker": {
             "colorbar": {
              "outlinewidth": 0,
              "ticks": ""
             }
            },
            "type": "scattercarpet"
           }
          ],
          "scattergeo": [
           {
            "marker": {
             "colorbar": {
              "outlinewidth": 0,
              "ticks": ""
             }
            },
            "type": "scattergeo"
           }
          ],
          "scattergl": [
           {
            "marker": {
             "colorbar": {
              "outlinewidth": 0,
              "ticks": ""
             }
            },
            "type": "scattergl"
           }
          ],
          "scattermapbox": [
           {
            "marker": {
             "colorbar": {
              "outlinewidth": 0,
              "ticks": ""
             }
            },
            "type": "scattermapbox"
           }
          ],
          "scatterpolar": [
           {
            "marker": {
             "colorbar": {
              "outlinewidth": 0,
              "ticks": ""
             }
            },
            "type": "scatterpolar"
           }
          ],
          "scatterpolargl": [
           {
            "marker": {
             "colorbar": {
              "outlinewidth": 0,
              "ticks": ""
             }
            },
            "type": "scatterpolargl"
           }
          ],
          "scatterternary": [
           {
            "marker": {
             "colorbar": {
              "outlinewidth": 0,
              "ticks": ""
             }
            },
            "type": "scatterternary"
           }
          ],
          "surface": [
           {
            "colorbar": {
             "outlinewidth": 0,
             "ticks": ""
            },
            "colorscale": [
             [
              0,
              "#0d0887"
             ],
             [
              0.1111111111111111,
              "#46039f"
             ],
             [
              0.2222222222222222,
              "#7201a8"
             ],
             [
              0.3333333333333333,
              "#9c179e"
             ],
             [
              0.4444444444444444,
              "#bd3786"
             ],
             [
              0.5555555555555556,
              "#d8576b"
             ],
             [
              0.6666666666666666,
              "#ed7953"
             ],
             [
              0.7777777777777778,
              "#fb9f3a"
             ],
             [
              0.8888888888888888,
              "#fdca26"
             ],
             [
              1,
              "#f0f921"
             ]
            ],
            "type": "surface"
           }
          ],
          "table": [
           {
            "cells": {
             "fill": {
              "color": "#EBF0F8"
             },
             "line": {
              "color": "white"
             }
            },
            "header": {
             "fill": {
              "color": "#C8D4E3"
             },
             "line": {
              "color": "white"
             }
            },
            "type": "table"
           }
          ]
         },
         "layout": {
          "annotationdefaults": {
           "arrowcolor": "#2a3f5f",
           "arrowhead": 0,
           "arrowwidth": 1
          },
          "autotypenumbers": "strict",
          "coloraxis": {
           "colorbar": {
            "outlinewidth": 0,
            "ticks": ""
           }
          },
          "colorscale": {
           "diverging": [
            [
             0,
             "#8e0152"
            ],
            [
             0.1,
             "#c51b7d"
            ],
            [
             0.2,
             "#de77ae"
            ],
            [
             0.3,
             "#f1b6da"
            ],
            [
             0.4,
             "#fde0ef"
            ],
            [
             0.5,
             "#f7f7f7"
            ],
            [
             0.6,
             "#e6f5d0"
            ],
            [
             0.7,
             "#b8e186"
            ],
            [
             0.8,
             "#7fbc41"
            ],
            [
             0.9,
             "#4d9221"
            ],
            [
             1,
             "#276419"
            ]
           ],
           "sequential": [
            [
             0,
             "#0d0887"
            ],
            [
             0.1111111111111111,
             "#46039f"
            ],
            [
             0.2222222222222222,
             "#7201a8"
            ],
            [
             0.3333333333333333,
             "#9c179e"
            ],
            [
             0.4444444444444444,
             "#bd3786"
            ],
            [
             0.5555555555555556,
             "#d8576b"
            ],
            [
             0.6666666666666666,
             "#ed7953"
            ],
            [
             0.7777777777777778,
             "#fb9f3a"
            ],
            [
             0.8888888888888888,
             "#fdca26"
            ],
            [
             1,
             "#f0f921"
            ]
           ],
           "sequentialminus": [
            [
             0,
             "#0d0887"
            ],
            [
             0.1111111111111111,
             "#46039f"
            ],
            [
             0.2222222222222222,
             "#7201a8"
            ],
            [
             0.3333333333333333,
             "#9c179e"
            ],
            [
             0.4444444444444444,
             "#bd3786"
            ],
            [
             0.5555555555555556,
             "#d8576b"
            ],
            [
             0.6666666666666666,
             "#ed7953"
            ],
            [
             0.7777777777777778,
             "#fb9f3a"
            ],
            [
             0.8888888888888888,
             "#fdca26"
            ],
            [
             1,
             "#f0f921"
            ]
           ]
          },
          "colorway": [
           "#636efa",
           "#EF553B",
           "#00cc96",
           "#ab63fa",
           "#FFA15A",
           "#19d3f3",
           "#FF6692",
           "#B6E880",
           "#FF97FF",
           "#FECB52"
          ],
          "font": {
           "color": "#2a3f5f"
          },
          "geo": {
           "bgcolor": "white",
           "lakecolor": "white",
           "landcolor": "#E5ECF6",
           "showlakes": true,
           "showland": true,
           "subunitcolor": "white"
          },
          "hoverlabel": {
           "align": "left"
          },
          "hovermode": "closest",
          "mapbox": {
           "style": "light"
          },
          "paper_bgcolor": "white",
          "plot_bgcolor": "#E5ECF6",
          "polar": {
           "angularaxis": {
            "gridcolor": "white",
            "linecolor": "white",
            "ticks": ""
           },
           "bgcolor": "#E5ECF6",
           "radialaxis": {
            "gridcolor": "white",
            "linecolor": "white",
            "ticks": ""
           }
          },
          "scene": {
           "xaxis": {
            "backgroundcolor": "#E5ECF6",
            "gridcolor": "white",
            "gridwidth": 2,
            "linecolor": "white",
            "showbackground": true,
            "ticks": "",
            "zerolinecolor": "white"
           },
           "yaxis": {
            "backgroundcolor": "#E5ECF6",
            "gridcolor": "white",
            "gridwidth": 2,
            "linecolor": "white",
            "showbackground": true,
            "ticks": "",
            "zerolinecolor": "white"
           },
           "zaxis": {
            "backgroundcolor": "#E5ECF6",
            "gridcolor": "white",
            "gridwidth": 2,
            "linecolor": "white",
            "showbackground": true,
            "ticks": "",
            "zerolinecolor": "white"
           }
          },
          "shapedefaults": {
           "line": {
            "color": "#2a3f5f"
           }
          },
          "ternary": {
           "aaxis": {
            "gridcolor": "white",
            "linecolor": "white",
            "ticks": ""
           },
           "baxis": {
            "gridcolor": "white",
            "linecolor": "white",
            "ticks": ""
           },
           "bgcolor": "#E5ECF6",
           "caxis": {
            "gridcolor": "white",
            "linecolor": "white",
            "ticks": ""
           }
          },
          "title": {
           "x": 0.05
          },
          "xaxis": {
           "automargin": true,
           "gridcolor": "white",
           "linecolor": "white",
           "ticks": "",
           "title": {
            "standoff": 15
           },
           "zerolinecolor": "white",
           "zerolinewidth": 2
          },
          "yaxis": {
           "automargin": true,
           "gridcolor": "white",
           "linecolor": "white",
           "ticks": "",
           "title": {
            "standoff": 15
           },
           "zerolinecolor": "white",
           "zerolinewidth": 2
          }
         }
        },
        "title": {
         "text": "Gantt Chart"
        },
        "xaxis": {
         "rangeselector": {
          "buttons": [
           {
            "count": 7,
            "label": "1w",
            "step": "day",
            "stepmode": "backward"
           },
           {
            "count": 1,
            "label": "1m",
            "step": "month",
            "stepmode": "backward"
           },
           {
            "count": 6,
            "label": "6m",
            "step": "month",
            "stepmode": "backward"
           },
           {
            "count": 1,
            "label": "YTD",
            "step": "year",
            "stepmode": "todate"
           },
           {
            "count": 1,
            "label": "1y",
            "step": "year",
            "stepmode": "backward"
           },
           {
            "step": "all"
           }
          ]
         },
         "showgrid": false,
         "type": "date",
         "zeroline": false
        },
        "yaxis": {
         "autorange": false,
         "range": [
          -1,
          3
         ],
         "showgrid": false,
         "ticktext": [
          "w2",
          "w1"
         ],
         "tickvals": [
          0,
          1
         ],
         "zeroline": false
        }
       }
      }
     },
     "metadata": {},
     "output_type": "display_data"
    },
    {
     "data": {
      "image/png": "[encoded data removed]",
      "text/plain": [
       "<Figure size 432x288 with 1 Axes>"
      ]
     },
     "metadata": {
      "needs_background": "light"
     },
     "output_type": "display_data"
    }
   ],
   "source": [
    "optimizer = BaseGA(env)\n",
    "optimizer.configure('tardiness', 'twopointcrossover', 'roulettewheel', 'randomize')\n",
    "last_time_slot = 0\n",
    "for order in orders:\n",
    "    if order[1] > last_time_slot:\n",
    "        last_time_slot = order[1]\n",
    "# all parameters after offspring_amount are optional (in this case -> verbose=True)\n",
    "result, best_fitness_history, average_fitness_history, best_generation_history, feasible_gen = optimizer.optimize(orders, max_generations, earliest_time_slot, last_time_slot, population_size, offspring_amount, verbose=True)\n",
    "workstation_assignments = reformat_result(result, orders, env)\n",
    "visualize(workstation_assignments, best_fitness_history, average_fitness_history, best_generation_history, feasible_gen)"
   ]
  },
  {
   "cell_type": "markdown",
   "metadata": {},
   "source": [
    "<h1> Agents </2>"
   ]
  },
  {
   "cell_type": "markdown",
   "metadata": {},
   "source": [
    "Greedy"
   ]
  },
  {
   "cell_type": "code",
   "execution_count": 9,
   "metadata": {},
   "outputs": [
    {
     "name": "stdout",
     "output_type": "stream",
     "text": [
      "Scheduled 10/10 Orders\n"
     ]
    },
    {
     "data": {
      "application/vnd.plotly.v1+json": {
       "config": {
        "plotlyServerURL": "https://plot.ly"
       },
       "data": [
        {
         "fill": "toself",
         "fillcolor": "rgb(103, 85, 233)",
         "hoverinfo": "name",
         "legendgroup": "rgb(103, 85, 233)",
         "mode": "none",
         "name": "3",
         "type": "scatter",
         "x": [
          144,
          219,
          219,
          144,
          144,
          1682,
          1757,
          1757,
          1682
         ],
         "y": [
          -0.2,
          -0.2,
          0.2,
          0.2,
          null,
          -0.2,
          -0.2,
          0.2,
          0.2
         ]
        },
        {
         "fill": "toself",
         "fillcolor": "rgb(128, 110, 2)",
         "hoverinfo": "name",
         "legendgroup": "rgb(128, 110, 2)",
         "mode": "none",
         "name": "2",
         "type": "scatter",
         "x": [
          57,
          144,
          144,
          57,
          57,
          1757,
          1844,
          1844,
          1757
         ],
         "y": [
          -0.2,
          -0.2,
          0.2,
          0.2,
          null,
          -0.2,
          -0.2,
          0.2,
          0.2
         ]
        },
        {
         "fill": "toself",
         "fillcolor": "rgb(153, 135, 27)",
         "hoverinfo": "name",
         "legendgroup": "rgb(153, 135, 27)",
         "mode": "none",
         "name": "1",
         "type": "scatter",
         "x": [
          22,
          57,
          57,
          22,
          22,
          1844,
          1879,
          1879,
          1844
         ],
         "y": [
          -0.2,
          -0.2,
          0.2,
          0.2,
          null,
          -0.2,
          -0.2,
          0.2,
          0.2
         ]
        },
        {
         "fill": "toself",
         "fillcolor": "rgb(178, 160, 52)",
         "hoverinfo": "name",
         "legendgroup": "rgb(178, 160, 52)",
         "mode": "none",
         "name": "0",
         "type": "scatter",
         "x": [
          -21,
          22,
          22,
          -21,
          -21,
          1879,
          1922,
          1922,
          1879
         ],
         "y": [
          -0.2,
          -0.2,
          0.2,
          0.2,
          null,
          -0.2,
          -0.2,
          0.2,
          0.2
         ]
        },
        {
         "fill": "toself",
         "fillcolor": "rgb(209, 191, 83)",
         "hoverinfo": "name",
         "legendgroup": "rgb(209, 191, 83)",
         "mode": "none",
         "name": "5",
         "type": "scatter",
         "x": [
          302,
          397,
          397,
          302,
          302,
          1504,
          1599,
          1599,
          1504
         ],
         "y": [
          0.8,
          0.8,
          1.2,
          1.2,
          null,
          0.8,
          0.8,
          1.2,
          1.2
         ]
        },
        {
         "fill": "toself",
         "fillcolor": "rgb(234, 216, 108)",
         "hoverinfo": "name",
         "legendgroup": "rgb(234, 216, 108)",
         "mode": "none",
         "name": "4",
         "type": "scatter",
         "x": [
          219,
          302,
          302,
          219,
          219,
          1599,
          1682,
          1682,
          1599
         ],
         "y": [
          0.8,
          0.8,
          1.2,
          1.2,
          null,
          0.8,
          0.8,
          1.2,
          1.2
         ]
        },
        {
         "fill": "toself",
         "fillcolor": "rgb(28, 10, 158)",
         "hoverinfo": "name",
         "legendgroup": "rgb(28, 10, 158)",
         "mode": "none",
         "name": "8",
         "type": "scatter",
         "x": [
          1673,
          1717,
          1717,
          1673,
          1673,
          4819,
          4863,
          4863,
          4819,
          4819,
          2157,
          2201,
          2201,
          2157,
          2157,
          2456,
          2500,
          2500,
          2456,
          2456,
          4648,
          4692,
          4692,
          4648,
          4648,
          607,
          651,
          651,
          607,
          607,
          3818,
          3862,
          3862,
          3818,
          3818,
          528,
          572,
          572,
          528
         ],
         "y": [
          0.8,
          0.8,
          1.2,
          1.2,
          null,
          0.8,
          0.8,
          1.2,
          1.2,
          null,
          0.8,
          0.8,
          1.2,
          1.2,
          null,
          0.8,
          0.8,
          1.2,
          1.2,
          null,
          0.8,
          0.8,
          1.2,
          1.2,
          null,
          0.8,
          0.8,
          1.2,
          1.2,
          null,
          0.8,
          0.8,
          1.2,
          1.2,
          null,
          0.8,
          0.8,
          1.2,
          1.2
         ]
        },
        {
         "fill": "toself",
         "fillcolor": "rgb(3, 241, 133)",
         "hoverinfo": "name",
         "legendgroup": "rgb(3, 241, 133)",
         "mode": "none",
         "name": "9",
         "type": "scatter",
         "x": [
          1717,
          1790,
          1790,
          1717,
          1717,
          4746,
          4819,
          4819,
          4746,
          4746,
          2201,
          2274,
          2274,
          2201,
          2201,
          2383,
          2456,
          2456,
          2383,
          2383,
          4692,
          4765,
          4765,
          4692,
          4692,
          534,
          607,
          607,
          534,
          534,
          3862,
          3935,
          3935,
          3862,
          3862,
          455,
          528,
          528,
          455
         ],
         "y": [
          0.8,
          0.8,
          1.2,
          1.2,
          null,
          0.8,
          0.8,
          1.2,
          1.2,
          null,
          0.8,
          0.8,
          1.2,
          1.2,
          null,
          0.8,
          0.8,
          1.2,
          1.2,
          null,
          0.8,
          0.8,
          1.2,
          1.2,
          null,
          0.8,
          0.8,
          1.2,
          1.2,
          null,
          0.8,
          0.8,
          1.2,
          1.2,
          null,
          0.8,
          0.8,
          1.2,
          1.2
         ]
        },
        {
         "fill": "toself",
         "fillcolor": "rgb(53, 35, 183)",
         "hoverinfo": "name",
         "legendgroup": "rgb(53, 35, 183)",
         "mode": "none",
         "name": "7",
         "type": "scatter",
         "x": [
          1620,
          1673,
          1673,
          1620,
          1620,
          4863,
          4916,
          4916,
          4863,
          4863,
          2104,
          2157,
          2157,
          2104,
          2104,
          2500,
          2553,
          2553,
          2500,
          2500,
          4595,
          4648,
          4648,
          4595,
          4595,
          651,
          704,
          704,
          651,
          651,
          3765,
          3818,
          3818,
          3765,
          3765,
          572,
          625,
          625,
          572
         ],
         "y": [
          0.8,
          0.8,
          1.2,
          1.2,
          null,
          0.8,
          0.8,
          1.2,
          1.2,
          null,
          0.8,
          0.8,
          1.2,
          1.2,
          null,
          0.8,
          0.8,
          1.2,
          1.2,
          null,
          0.8,
          0.8,
          1.2,
          1.2,
          null,
          0.8,
          0.8,
          1.2,
          1.2,
          null,
          0.8,
          0.8,
          1.2,
          1.2,
          null,
          0.8,
          0.8,
          1.2,
          1.2
         ]
        },
        {
         "fill": "toself",
         "fillcolor": "rgb(78, 60, 208)",
         "hoverinfo": "name",
         "legendgroup": "rgb(78, 60, 208)",
         "mode": "none",
         "name": "6",
         "type": "scatter",
         "x": [
          1557,
          1620,
          1620,
          1557,
          1557,
          4916,
          4979,
          4979,
          4916,
          4916,
          2041,
          2104,
          2104,
          2041,
          2041,
          2553,
          2616,
          2616,
          2553,
          2553,
          4532,
          4595,
          4595,
          4532,
          4532,
          704,
          767,
          767,
          704,
          704,
          3702,
          3765,
          3765,
          3702,
          3702,
          625,
          688,
          688,
          625
         ],
         "y": [
          0.8,
          0.8,
          1.2,
          1.2,
          null,
          0.8,
          0.8,
          1.2,
          1.2,
          null,
          0.8,
          0.8,
          1.2,
          1.2,
          null,
          0.8,
          0.8,
          1.2,
          1.2,
          null,
          0.8,
          0.8,
          1.2,
          1.2,
          null,
          0.8,
          0.8,
          1.2,
          1.2,
          null,
          0.8,
          0.8,
          1.2,
          1.2,
          null,
          0.8,
          0.8,
          1.2,
          1.2
         ]
        },
        {
         "legendgroup": "rgb(103, 85, 233)",
         "marker": {
          "color": "rgb(103, 85, 233)",
          "opacity": 0,
          "size": 1
         },
         "mode": "markers",
         "name": "",
         "showlegend": false,
         "text": [
          null,
          null,
          null,
          null
         ],
         "type": "scatter",
         "x": [
          144,
          219,
          1682,
          1757
         ],
         "y": [
          0,
          0,
          0,
          0
         ]
        },
        {
         "legendgroup": "rgb(128, 110, 2)",
         "marker": {
          "color": "rgb(128, 110, 2)",
          "opacity": 0,
          "size": 1
         },
         "mode": "markers",
         "name": "",
         "showlegend": false,
         "text": [
          null,
          null,
          null,
          null
         ],
         "type": "scatter",
         "x": [
          57,
          144,
          1757,
          1844
         ],
         "y": [
          0,
          0,
          0,
          0
         ]
        },
        {
         "legendgroup": "rgb(153, 135, 27)",
         "marker": {
          "color": "rgb(153, 135, 27)",
          "opacity": 0,
          "size": 1
         },
         "mode": "markers",
         "name": "",
         "showlegend": false,
         "text": [
          null,
          null,
          null,
          null
         ],
         "type": "scatter",
         "x": [
          22,
          57,
          1844,
          1879
         ],
         "y": [
          0,
          0,
          0,
          0
         ]
        },
        {
         "legendgroup": "rgb(178, 160, 52)",
         "marker": {
          "color": "rgb(178, 160, 52)",
          "opacity": 0,
          "size": 1
         },
         "mode": "markers",
         "name": "",
         "showlegend": false,
         "text": [
          null,
          null,
          null,
          null
         ],
         "type": "scatter",
         "x": [
          -21,
          22,
          1879,
          1922
         ],
         "y": [
          0,
          0,
          0,
          0
         ]
        },
        {
         "legendgroup": "rgb(209, 191, 83)",
         "marker": {
          "color": "rgb(209, 191, 83)",
          "opacity": 0,
          "size": 1
         },
         "mode": "markers",
         "name": "",
         "showlegend": false,
         "text": [
          null,
          null,
          null,
          null
         ],
         "type": "scatter",
         "x": [
          302,
          397,
          1504,
          1599
         ],
         "y": [
          1,
          1,
          1,
          1
         ]
        },
        {
         "legendgroup": "rgb(234, 216, 108)",
         "marker": {
          "color": "rgb(234, 216, 108)",
          "opacity": 0,
          "size": 1
         },
         "mode": "markers",
         "name": "",
         "showlegend": false,
         "text": [
          null,
          null,
          null,
          null
         ],
         "type": "scatter",
         "x": [
          219,
          302,
          1599,
          1682
         ],
         "y": [
          1,
          1,
          1,
          1
         ]
        },
        {
         "legendgroup": "rgb(28, 10, 158)",
         "marker": {
          "color": "rgb(28, 10, 158)",
          "opacity": 0,
          "size": 1
         },
         "mode": "markers",
         "name": "",
         "showlegend": false,
         "text": [
          null,
          null,
          null,
          null,
          null,
          null,
          null,
          null,
          null,
          null,
          null,
          null,
          null,
          null,
          null,
          null
         ],
         "type": "scatter",
         "x": [
          1673,
          1717,
          4819,
          4863,
          2157,
          2201,
          2456,
          2500,
          4648,
          4692,
          607,
          651,
          3818,
          3862,
          528,
          572
         ],
         "y": [
          1,
          1,
          1,
          1,
          1,
          1,
          1,
          1,
          1,
          1,
          1,
          1,
          1,
          1,
          1,
          1
         ]
        },
        {
         "legendgroup": "rgb(3, 241, 133)",
         "marker": {
          "color": "rgb(3, 241, 133)",
          "opacity": 0,
          "size": 1
         },
         "mode": "markers",
         "name": "",
         "showlegend": false,
         "text": [
          null,
          null,
          null,
          null,
          null,
          null,
          null,
          null,
          null,
          null,
          null,
          null,
          null,
          null,
          null,
          null
         ],
         "type": "scatter",
         "x": [
          1717,
          1790,
          4746,
          4819,
          2201,
          2274,
          2383,
          2456,
          4692,
          4765,
          534,
          607,
          3862,
          3935,
          455,
          528
         ],
         "y": [
          1,
          1,
          1,
          1,
          1,
          1,
          1,
          1,
          1,
          1,
          1,
          1,
          1,
          1,
          1,
          1
         ]
        },
        {
         "legendgroup": "rgb(53, 35, 183)",
         "marker": {
          "color": "rgb(53, 35, 183)",
          "opacity": 0,
          "size": 1
         },
         "mode": "markers",
         "name": "",
         "showlegend": false,
         "text": [
          null,
          null,
          null,
          null,
          null,
          null,
          null,
          null,
          null,
          null,
          null,
          null,
          null,
          null,
          null,
          null
         ],
         "type": "scatter",
         "x": [
          1620,
          1673,
          4863,
          4916,
          2104,
          2157,
          2500,
          2553,
          4595,
          4648,
          651,
          704,
          3765,
          3818,
          572,
          625
         ],
         "y": [
          1,
          1,
          1,
          1,
          1,
          1,
          1,
          1,
          1,
          1,
          1,
          1,
          1,
          1,
          1,
          1
         ]
        },
        {
         "legendgroup": "rgb(78, 60, 208)",
         "marker": {
          "color": "rgb(78, 60, 208)",
          "opacity": 0,
          "size": 1
         },
         "mode": "markers",
         "name": "",
         "showlegend": false,
         "text": [
          null,
          null,
          null,
          null,
          null,
          null,
          null,
          null,
          null,
          null,
          null,
          null,
          null,
          null,
          null,
          null
         ],
         "type": "scatter",
         "x": [
          1557,
          1620,
          4916,
          4979,
          2041,
          2104,
          2553,
          2616,
          4532,
          4595,
          704,
          767,
          3702,
          3765,
          625,
          688
         ],
         "y": [
          1,
          1,
          1,
          1,
          1,
          1,
          1,
          1,
          1,
          1,
          1,
          1,
          1,
          1,
          1,
          1
         ]
        }
       ],
       "layout": {
        "height": 600,
        "hovermode": "closest",
        "showlegend": true,
        "template": {
         "data": {
          "bar": [
           {
            "error_x": {
             "color": "#2a3f5f"
            },
            "error_y": {
             "color": "#2a3f5f"
            },
            "marker": {
             "line": {
              "color": "#E5ECF6",
              "width": 0.5
             },
             "pattern": {
              "fillmode": "overlay",
              "size": 10,
              "solidity": 0.2
             }
            },
            "type": "bar"
           }
          ],
          "barpolar": [
           {
            "marker": {
             "line": {
              "color": "#E5ECF6",
              "width": 0.5
             },
             "pattern": {
              "fillmode": "overlay",
              "size": 10,
              "solidity": 0.2
             }
            },
            "type": "barpolar"
           }
          ],
          "carpet": [
           {
            "aaxis": {
             "endlinecolor": "#2a3f5f",
             "gridcolor": "white",
             "linecolor": "white",
             "minorgridcolor": "white",
             "startlinecolor": "#2a3f5f"
            },
            "baxis": {
             "endlinecolor": "#2a3f5f",
             "gridcolor": "white",
             "linecolor": "white",
             "minorgridcolor": "white",
             "startlinecolor": "#2a3f5f"
            },
            "type": "carpet"
           }
          ],
          "choropleth": [
           {
            "colorbar": {
             "outlinewidth": 0,
             "ticks": ""
            },
            "type": "choropleth"
           }
          ],
          "contour": [
           {
            "colorbar": {
             "outlinewidth": 0,
             "ticks": ""
            },
            "colorscale": [
             [
              0,
              "#0d0887"
             ],
             [
              0.1111111111111111,
              "#46039f"
             ],
             [
              0.2222222222222222,
              "#7201a8"
             ],
             [
              0.3333333333333333,
              "#9c179e"
             ],
             [
              0.4444444444444444,
              "#bd3786"
             ],
             [
              0.5555555555555556,
              "#d8576b"
             ],
             [
              0.6666666666666666,
              "#ed7953"
             ],
             [
              0.7777777777777778,
              "#fb9f3a"
             ],
             [
              0.8888888888888888,
              "#fdca26"
             ],
             [
              1,
              "#f0f921"
             ]
            ],
            "type": "contour"
           }
          ],
          "contourcarpet": [
           {
            "colorbar": {
             "outlinewidth": 0,
             "ticks": ""
            },
            "type": "contourcarpet"
           }
          ],
          "heatmap": [
           {
            "colorbar": {
             "outlinewidth": 0,
             "ticks": ""
            },
            "colorscale": [
             [
              0,
              "#0d0887"
             ],
             [
              0.1111111111111111,
              "#46039f"
             ],
             [
              0.2222222222222222,
              "#7201a8"
             ],
             [
              0.3333333333333333,
              "#9c179e"
             ],
             [
              0.4444444444444444,
              "#bd3786"
             ],
             [
              0.5555555555555556,
              "#d8576b"
             ],
             [
              0.6666666666666666,
              "#ed7953"
             ],
             [
              0.7777777777777778,
              "#fb9f3a"
             ],
             [
              0.8888888888888888,
              "#fdca26"
             ],
             [
              1,
              "#f0f921"
             ]
            ],
            "type": "heatmap"
           }
          ],
          "heatmapgl": [
           {
            "colorbar": {
             "outlinewidth": 0,
             "ticks": ""
            },
            "colorscale": [
             [
              0,
              "#0d0887"
             ],
             [
              0.1111111111111111,
              "#46039f"
             ],
             [
              0.2222222222222222,
              "#7201a8"
             ],
             [
              0.3333333333333333,
              "#9c179e"
             ],
             [
              0.4444444444444444,
              "#bd3786"
             ],
             [
              0.5555555555555556,
              "#d8576b"
             ],
             [
              0.6666666666666666,
              "#ed7953"
             ],
             [
              0.7777777777777778,
              "#fb9f3a"
             ],
             [
              0.8888888888888888,
              "#fdca26"
             ],
             [
              1,
              "#f0f921"
             ]
            ],
            "type": "heatmapgl"
           }
          ],
          "histogram": [
           {
            "marker": {
             "pattern": {
              "fillmode": "overlay",
              "size": 10,
              "solidity": 0.2
             }
            },
            "type": "histogram"
           }
          ],
          "histogram2d": [
           {
            "colorbar": {
             "outlinewidth": 0,
             "ticks": ""
            },
            "colorscale": [
             [
              0,
              "#0d0887"
             ],
             [
              0.1111111111111111,
              "#46039f"
             ],
             [
              0.2222222222222222,
              "#7201a8"
             ],
             [
              0.3333333333333333,
              "#9c179e"
             ],
             [
              0.4444444444444444,
              "#bd3786"
             ],
             [
              0.5555555555555556,
              "#d8576b"
             ],
             [
              0.6666666666666666,
              "#ed7953"
             ],
             [
              0.7777777777777778,
              "#fb9f3a"
             ],
             [
              0.8888888888888888,
              "#fdca26"
             ],
             [
              1,
              "#f0f921"
             ]
            ],
            "type": "histogram2d"
           }
          ],
          "histogram2dcontour": [
           {
            "colorbar": {
             "outlinewidth": 0,
             "ticks": ""
            },
            "colorscale": [
             [
              0,
              "#0d0887"
             ],
             [
              0.1111111111111111,
              "#46039f"
             ],
             [
              0.2222222222222222,
              "#7201a8"
             ],
             [
              0.3333333333333333,
              "#9c179e"
             ],
             [
              0.4444444444444444,
              "#bd3786"
             ],
             [
              0.5555555555555556,
              "#d8576b"
             ],
             [
              0.6666666666666666,
              "#ed7953"
             ],
             [
              0.7777777777777778,
              "#fb9f3a"
             ],
             [
              0.8888888888888888,
              "#fdca26"
             ],
             [
              1,
              "#f0f921"
             ]
            ],
            "type": "histogram2dcontour"
           }
          ],
          "mesh3d": [
           {
            "colorbar": {
             "outlinewidth": 0,
             "ticks": ""
            },
            "type": "mesh3d"
           }
          ],
          "parcoords": [
           {
            "line": {
             "colorbar": {
              "outlinewidth": 0,
              "ticks": ""
             }
            },
            "type": "parcoords"
           }
          ],
          "pie": [
           {
            "automargin": true,
            "type": "pie"
           }
          ],
          "scatter": [
           {
            "marker": {
             "colorbar": {
              "outlinewidth": 0,
              "ticks": ""
             }
            },
            "type": "scatter"
           }
          ],
          "scatter3d": [
           {
            "line": {
             "colorbar": {
              "outlinewidth": 0,
              "ticks": ""
             }
            },
            "marker": {
             "colorbar": {
              "outlinewidth": 0,
              "ticks": ""
             }
            },
            "type": "scatter3d"
           }
          ],
          "scattercarpet": [
           {
            "marker": {
             "colorbar": {
              "outlinewidth": 0,
              "ticks": ""
             }
            },
            "type": "scattercarpet"
           }
          ],
          "scattergeo": [
           {
            "marker": {
             "colorbar": {
              "outlinewidth": 0,
              "ticks": ""
             }
            },
            "type": "scattergeo"
           }
          ],
          "scattergl": [
           {
            "marker": {
             "colorbar": {
              "outlinewidth": 0,
              "ticks": ""
             }
            },
            "type": "scattergl"
           }
          ],
          "scattermapbox": [
           {
            "marker": {
             "colorbar": {
              "outlinewidth": 0,
              "ticks": ""
             }
            },
            "type": "scattermapbox"
           }
          ],
          "scatterpolar": [
           {
            "marker": {
             "colorbar": {
              "outlinewidth": 0,
              "ticks": ""
             }
            },
            "type": "scatterpolar"
           }
          ],
          "scatterpolargl": [
           {
            "marker": {
             "colorbar": {
              "outlinewidth": 0,
              "ticks": ""
             }
            },
            "type": "scatterpolargl"
           }
          ],
          "scatterternary": [
           {
            "marker": {
             "colorbar": {
              "outlinewidth": 0,
              "ticks": ""
             }
            },
            "type": "scatterternary"
           }
          ],
          "surface": [
           {
            "colorbar": {
             "outlinewidth": 0,
             "ticks": ""
            },
            "colorscale": [
             [
              0,
              "#0d0887"
             ],
             [
              0.1111111111111111,
              "#46039f"
             ],
             [
              0.2222222222222222,
              "#7201a8"
             ],
             [
              0.3333333333333333,
              "#9c179e"
             ],
             [
              0.4444444444444444,
              "#bd3786"
             ],
             [
              0.5555555555555556,
              "#d8576b"
             ],
             [
              0.6666666666666666,
              "#ed7953"
             ],
             [
              0.7777777777777778,
              "#fb9f3a"
             ],
             [
              0.8888888888888888,
              "#fdca26"
             ],
             [
              1,
              "#f0f921"
             ]
            ],
            "type": "surface"
           }
          ],
          "table": [
           {
            "cells": {
             "fill": {
              "color": "#EBF0F8"
             },
             "line": {
              "color": "white"
             }
            },
            "header": {
             "fill": {
              "color": "#C8D4E3"
             },
             "line": {
              "color": "white"
             }
            },
            "type": "table"
           }
          ]
         },
         "layout": {
          "annotationdefaults": {
           "arrowcolor": "#2a3f5f",
           "arrowhead": 0,
           "arrowwidth": 1
          },
          "autotypenumbers": "strict",
          "coloraxis": {
           "colorbar": {
            "outlinewidth": 0,
            "ticks": ""
           }
          },
          "colorscale": {
           "diverging": [
            [
             0,
             "#8e0152"
            ],
            [
             0.1,
             "#c51b7d"
            ],
            [
             0.2,
             "#de77ae"
            ],
            [
             0.3,
             "#f1b6da"
            ],
            [
             0.4,
             "#fde0ef"
            ],
            [
             0.5,
             "#f7f7f7"
            ],
            [
             0.6,
             "#e6f5d0"
            ],
            [
             0.7,
             "#b8e186"
            ],
            [
             0.8,
             "#7fbc41"
            ],
            [
             0.9,
             "#4d9221"
            ],
            [
             1,
             "#276419"
            ]
           ],
           "sequential": [
            [
             0,
             "#0d0887"
            ],
            [
             0.1111111111111111,
             "#46039f"
            ],
            [
             0.2222222222222222,
             "#7201a8"
            ],
            [
             0.3333333333333333,
             "#9c179e"
            ],
            [
             0.4444444444444444,
             "#bd3786"
            ],
            [
             0.5555555555555556,
             "#d8576b"
            ],
            [
             0.6666666666666666,
             "#ed7953"
            ],
            [
             0.7777777777777778,
             "#fb9f3a"
            ],
            [
             0.8888888888888888,
             "#fdca26"
            ],
            [
             1,
             "#f0f921"
            ]
           ],
           "sequentialminus": [
            [
             0,
             "#0d0887"
            ],
            [
             0.1111111111111111,
             "#46039f"
            ],
            [
             0.2222222222222222,
             "#7201a8"
            ],
            [
             0.3333333333333333,
             "#9c179e"
            ],
            [
             0.4444444444444444,
             "#bd3786"
            ],
            [
             0.5555555555555556,
             "#d8576b"
            ],
            [
             0.6666666666666666,
             "#ed7953"
            ],
            [
             0.7777777777777778,
             "#fb9f3a"
            ],
            [
             0.8888888888888888,
             "#fdca26"
            ],
            [
             1,
             "#f0f921"
            ]
           ]
          },
          "colorway": [
           "#636efa",
           "#EF553B",
           "#00cc96",
           "#ab63fa",
           "#FFA15A",
           "#19d3f3",
           "#FF6692",
           "#B6E880",
           "#FF97FF",
           "#FECB52"
          ],
          "font": {
           "color": "#2a3f5f"
          },
          "geo": {
           "bgcolor": "white",
           "lakecolor": "white",
           "landcolor": "#E5ECF6",
           "showlakes": true,
           "showland": true,
           "subunitcolor": "white"
          },
          "hoverlabel": {
           "align": "left"
          },
          "hovermode": "closest",
          "mapbox": {
           "style": "light"
          },
          "paper_bgcolor": "white",
          "plot_bgcolor": "#E5ECF6",
          "polar": {
           "angularaxis": {
            "gridcolor": "white",
            "linecolor": "white",
            "ticks": ""
           },
           "bgcolor": "#E5ECF6",
           "radialaxis": {
            "gridcolor": "white",
            "linecolor": "white",
            "ticks": ""
           }
          },
          "scene": {
           "xaxis": {
            "backgroundcolor": "#E5ECF6",
            "gridcolor": "white",
            "gridwidth": 2,
            "linecolor": "white",
            "showbackground": true,
            "ticks": "",
            "zerolinecolor": "white"
           },
           "yaxis": {
            "backgroundcolor": "#E5ECF6",
            "gridcolor": "white",
            "gridwidth": 2,
            "linecolor": "white",
            "showbackground": true,
            "ticks": "",
            "zerolinecolor": "white"
           },
           "zaxis": {
            "backgroundcolor": "#E5ECF6",
            "gridcolor": "white",
            "gridwidth": 2,
            "linecolor": "white",
            "showbackground": true,
            "ticks": "",
            "zerolinecolor": "white"
           }
          },
          "shapedefaults": {
           "line": {
            "color": "#2a3f5f"
           }
          },
          "ternary": {
           "aaxis": {
            "gridcolor": "white",
            "linecolor": "white",
            "ticks": ""
           },
           "baxis": {
            "gridcolor": "white",
            "linecolor": "white",
            "ticks": ""
           },
           "bgcolor": "#E5ECF6",
           "caxis": {
            "gridcolor": "white",
            "linecolor": "white",
            "ticks": ""
           }
          },
          "title": {
           "x": 0.05
          },
          "xaxis": {
           "automargin": true,
           "gridcolor": "white",
           "linecolor": "white",
           "ticks": "",
           "title": {
            "standoff": 15
           },
           "zerolinecolor": "white",
           "zerolinewidth": 2
          },
          "yaxis": {
           "automargin": true,
           "gridcolor": "white",
           "linecolor": "white",
           "ticks": "",
           "title": {
            "standoff": 15
           },
           "zerolinecolor": "white",
           "zerolinewidth": 2
          }
         }
        },
        "title": {
         "text": "Gantt Chart"
        },
        "xaxis": {
         "rangeselector": {
          "buttons": [
           {
            "count": 7,
            "label": "1w",
            "step": "day",
            "stepmode": "backward"
           },
           {
            "count": 1,
            "label": "1m",
            "step": "month",
            "stepmode": "backward"
           },
           {
            "count": 6,
            "label": "6m",
            "step": "month",
            "stepmode": "backward"
           },
           {
            "count": 1,
            "label": "YTD",
            "step": "year",
            "stepmode": "todate"
           },
           {
            "count": 1,
            "label": "1y",
            "step": "year",
            "stepmode": "backward"
           },
           {
            "step": "all"
           }
          ]
         },
         "showgrid": false,
         "type": "date",
         "zeroline": false
        },
        "yaxis": {
         "autorange": false,
         "range": [
          -1,
          3
         ],
         "showgrid": false,
         "ticktext": [
          "machine#1",
          "machine#2"
         ],
         "tickvals": [
          0,
          1
         ],
         "zeroline": false
        }
       }
      }
     },
     "metadata": {},
     "output_type": "display_data"
    }
   ],
   "source": [
    "agent = GreedyAgent(env)\n",
    "simulator = AgentSimulator()\n",
    "schedule, schedule_count = simulator.simulate(agent, orders_model)\n",
    "print(f'Scheduled {schedule_count}/{len(orders_model)} Orders')\n",
    "visualize_schedule(schedule, env)"
   ]
  },
  {
   "cell_type": "markdown",
   "metadata": {},
   "source": [
    "Greedy with changing sequence"
   ]
  },
  {
   "cell_type": "code",
   "execution_count": 10,
   "metadata": {},
   "outputs": [
    {
     "name": "stdout",
     "output_type": "stream",
     "text": [
      "Scheduled 10/10 Orders\n"
     ]
    },
    {
     "data": {
      "application/vnd.plotly.v1+json": {
       "config": {
        "plotlyServerURL": "https://plot.ly"
       },
       "data": [
        {
         "fill": "toself",
         "fillcolor": "rgb(1, 211, 33)",
         "hoverinfo": "name",
         "legendgroup": "rgb(1, 211, 33)",
         "mode": "none",
         "name": "2",
         "type": "scatter",
         "x": [
          57,
          144,
          144,
          57,
          57,
          1757,
          1844,
          1844,
          1757,
          1757,
          57,
          144,
          144,
          57,
          57,
          1757,
          1844,
          1844,
          1757,
          1757,
          57,
          144,
          144,
          57,
          57,
          1757,
          1844,
          1844,
          1757,
          1757,
          57,
          144,
          144,
          57,
          57,
          1757,
          1844,
          1844,
          1757,
          1757,
          57,
          144,
          144,
          57,
          57,
          1757,
          1844,
          1844,
          1757,
          1757,
          57,
          144,
          144,
          57,
          57,
          1757,
          1844,
          1844,
          1757,
          1757,
          57,
          144,
          144,
          57,
          57,
          1757,
          1844,
          1844,
          1757,
          1757,
          57,
          144,
          144,
          57,
          57,
          1757,
          1844,
          1844,
          1757,
          1757,
          57,
          144,
          144,
          57,
          57,
          1757,
          1844,
          1844,
          1757,
          1757,
          57,
          144,
          144,
          57,
          57,
          1757,
          1844,
          1844,
          1757
         ],
         "y": [
          -0.2,
          -0.2,
          0.2,
          0.2,
          null,
          -0.2,
          -0.2,
          0.2,
          0.2,
          null,
          -0.2,
          -0.2,
          0.2,
          0.2,
          null,
          -0.2,
          -0.2,
          0.2,
          0.2,
          null,
          -0.2,
          -0.2,
          0.2,
          0.2,
          null,
          -0.2,
          -0.2,
          0.2,
          0.2,
          null,
          -0.2,
          -0.2,
          0.2,
          0.2,
          null,
          -0.2,
          -0.2,
          0.2,
          0.2,
          null,
          -0.2,
          -0.2,
          0.2,
          0.2,
          null,
          -0.2,
          -0.2,
          0.2,
          0.2,
          null,
          -0.2,
          -0.2,
          0.2,
          0.2,
          null,
          -0.2,
          -0.2,
          0.2,
          0.2,
          null,
          -0.2,
          -0.2,
          0.2,
          0.2,
          null,
          -0.2,
          -0.2,
          0.2,
          0.2,
          null,
          -0.2,
          -0.2,
          0.2,
          0.2,
          null,
          -0.2,
          -0.2,
          0.2,
          0.2,
          null,
          -0.2,
          -0.2,
          0.2,
          0.2,
          null,
          -0.2,
          -0.2,
          0.2,
          0.2,
          null,
          -0.2,
          -0.2,
          0.2,
          0.2,
          null,
          -0.2,
          -0.2,
          0.2,
          0.2
         ]
        },
        {
         "fill": "toself",
         "fillcolor": "rgb(107, 61, 139)",
         "hoverinfo": "name",
         "legendgroup": "rgb(107, 61, 139)",
         "mode": "none",
         "name": "4",
         "type": "scatter",
         "x": [
          219,
          302,
          302,
          219,
          219,
          1599,
          1682,
          1682,
          1599,
          1599,
          219,
          302,
          302,
          219,
          219,
          1599,
          1682,
          1682,
          1599,
          1599,
          219,
          302,
          302,
          219,
          219,
          1599,
          1682,
          1682,
          1599,
          1599,
          219,
          302,
          302,
          219,
          219,
          1599,
          1682,
          1682,
          1599,
          1599,
          219,
          302,
          302,
          219,
          219,
          1599,
          1682,
          1682,
          1599,
          1599,
          219,
          302,
          302,
          219,
          219,
          1599,
          1682,
          1682,
          1599,
          1599,
          219,
          302,
          302,
          219,
          219,
          1599,
          1682,
          1682,
          1599,
          1599,
          219,
          302,
          302,
          219,
          219,
          1599,
          1682,
          1682,
          1599,
          1599,
          219,
          302,
          302,
          219,
          219,
          1599,
          1682,
          1682,
          1599,
          1599,
          219,
          302,
          302,
          219,
          219,
          1599,
          1682,
          1682,
          1599
         ],
         "y": [
          0.8,
          0.8,
          1.2,
          1.2,
          null,
          0.8,
          0.8,
          1.2,
          1.2,
          null,
          0.8,
          0.8,
          1.2,
          1.2,
          null,
          0.8,
          0.8,
          1.2,
          1.2,
          null,
          0.8,
          0.8,
          1.2,
          1.2,
          null,
          0.8,
          0.8,
          1.2,
          1.2,
          null,
          0.8,
          0.8,
          1.2,
          1.2,
          null,
          0.8,
          0.8,
          1.2,
          1.2,
          null,
          0.8,
          0.8,
          1.2,
          1.2,
          null,
          0.8,
          0.8,
          1.2,
          1.2,
          null,
          0.8,
          0.8,
          1.2,
          1.2,
          null,
          0.8,
          0.8,
          1.2,
          1.2,
          null,
          0.8,
          0.8,
          1.2,
          1.2,
          null,
          0.8,
          0.8,
          1.2,
          1.2,
          null,
          0.8,
          0.8,
          1.2,
          1.2,
          null,
          0.8,
          0.8,
          1.2,
          1.2,
          null,
          0.8,
          0.8,
          1.2,
          1.2,
          null,
          0.8,
          0.8,
          1.2,
          1.2,
          null,
          0.8,
          0.8,
          1.2,
          1.2,
          null,
          0.8,
          0.8,
          1.2,
          1.2
         ]
        },
        {
         "fill": "toself",
         "fillcolor": "rgb(132, 86, 164)",
         "hoverinfo": "name",
         "legendgroup": "rgb(132, 86, 164)",
         "mode": "none",
         "name": "9",
         "type": "scatter",
         "x": [
          1717,
          1790,
          1790,
          1717,
          1717,
          4746,
          4819,
          4819,
          4746,
          4746,
          2201,
          2274,
          2274,
          2201,
          2201,
          2383,
          2456,
          2456,
          2383,
          2383,
          4692,
          4765,
          4765,
          4692,
          4692,
          534,
          607,
          607,
          534,
          534,
          3862,
          3935,
          3935,
          3862,
          3862,
          455,
          528,
          528,
          455,
          455,
          1717,
          1790,
          1790,
          1717,
          1717,
          4746,
          4819,
          4819,
          4746,
          4746,
          2201,
          2274,
          2274,
          2201,
          2201,
          2383,
          2456,
          2456,
          2383,
          2383,
          4692,
          4765,
          4765,
          4692,
          4692,
          534,
          607,
          607,
          534,
          534,
          615,
          688,
          688,
          615,
          615,
          3862,
          3935,
          3935,
          3862,
          3862,
          1717,
          1790,
          1790,
          1717,
          1717,
          4746,
          4819,
          4819,
          4746,
          4746,
          455,
          528,
          528,
          455,
          455,
          694,
          767,
          767,
          694,
          694,
          4692,
          4765,
          4765,
          4692,
          4692,
          2543,
          2616,
          2616,
          2543,
          2543,
          2201,
          2274,
          2274,
          2201,
          2201,
          3702,
          3775,
          3775,
          3702,
          3702,
          1717,
          1790,
          1790,
          1717,
          1717,
          4746,
          4819,
          4819,
          4746,
          4746,
          534,
          607,
          607,
          534,
          534,
          615,
          688,
          688,
          615,
          615,
          4532,
          4605,
          4605,
          4532,
          4532,
          2383,
          2456,
          2456,
          2383,
          2383,
          2041,
          2114,
          2114,
          2041,
          2041,
          3862,
          3935,
          3935,
          3862,
          3862,
          1717,
          1790,
          1790,
          1717,
          1717,
          4746,
          4819,
          4819,
          4746,
          4746,
          694,
          767,
          767,
          694,
          694,
          455,
          528,
          528,
          455,
          455,
          4692,
          4765,
          4765,
          4692,
          4692,
          3702,
          3775,
          3775,
          3702,
          3702,
          2201,
          2274,
          2274,
          2201,
          2201,
          2543,
          2616,
          2616,
          2543,
          2543,
          1717,
          1790,
          1790,
          1717,
          1717,
          4746,
          4819,
          4819,
          4746,
          4746,
          534,
          607,
          607,
          534,
          534,
          615,
          688,
          688,
          615,
          615,
          4532,
          4605,
          4605,
          4532,
          4532,
          3862,
          3935,
          3935,
          3862,
          3862,
          2383,
          2456,
          2456,
          2383,
          2383,
          2041,
          2114,
          2114,
          2041,
          2041,
          1717,
          1790,
          1790,
          1717,
          1717,
          4746,
          4819,
          4819,
          4746,
          4746,
          694,
          767,
          767,
          694,
          694,
          455,
          528,
          528,
          455,
          455,
          4692,
          4765,
          4765,
          4692,
          4692,
          3702,
          3775,
          3775,
          3702,
          3702,
          2201,
          2274,
          2274,
          2201,
          2201,
          2543,
          2616,
          2616,
          2543,
          2543,
          1717,
          1790,
          1790,
          1717,
          1717,
          4746,
          4819,
          4819,
          4746,
          4746,
          534,
          607,
          607,
          534,
          534,
          2383,
          2456,
          2456,
          2383,
          2383,
          2041,
          2114,
          2114,
          2041,
          2041,
          3862,
          3935,
          3935,
          3862,
          3862,
          4532,
          4605,
          4605,
          4532,
          4532,
          615,
          688,
          688,
          615,
          615,
          2543,
          2616,
          2616,
          2543,
          2543,
          694,
          767,
          767,
          694,
          694,
          4906,
          4979,
          4979,
          4906,
          4906,
          1717,
          1790,
          1790,
          1717,
          1717,
          2201,
          2274,
          2274,
          2201,
          2201,
          3702,
          3775,
          3775,
          3702,
          3702,
          4692,
          4765,
          4765,
          4692,
          4692,
          455,
          528,
          528,
          455,
          455,
          2383,
          2456,
          2456,
          2383,
          2383,
          534,
          607,
          607,
          534,
          534,
          4746,
          4819,
          4819,
          4746,
          4746,
          1557,
          1630,
          1630,
          1557,
          1557,
          2041,
          2114,
          2114,
          2041,
          2041,
          4532,
          4605,
          4605,
          4532,
          4532,
          3862,
          3935,
          3935,
          3862,
          3862,
          615,
          688,
          688,
          615
         ],
         "y": [
          0.8,
          0.8,
          1.2,
          1.2,
          null,
          0.8,
          0.8,
          1.2,
          1.2,
          null,
          0.8,
          0.8,
          1.2,
          1.2,
          null,
          0.8,
          0.8,
          1.2,
          1.2,
          null,
          0.8,
          0.8,
          1.2,
          1.2,
          null,
          0.8,
          0.8,
          1.2,
          1.2,
          null,
          0.8,
          0.8,
          1.2,
          1.2,
          null,
          0.8,
          0.8,
          1.2,
          1.2,
          null,
          0.8,
          0.8,
          1.2,
          1.2,
          null,
          0.8,
          0.8,
          1.2,
          1.2,
          null,
          0.8,
          0.8,
          1.2,
          1.2,
          null,
          0.8,
          0.8,
          1.2,
          1.2,
          null,
          0.8,
          0.8,
          1.2,
          1.2,
          null,
          0.8,
          0.8,
          1.2,
          1.2,
          null,
          0.8,
          0.8,
          1.2,
          1.2,
          null,
          0.8,
          0.8,
          1.2,
          1.2,
          null,
          0.8,
          0.8,
          1.2,
          1.2,
          null,
          0.8,
          0.8,
          1.2,
          1.2,
          null,
          0.8,
          0.8,
          1.2,
          1.2,
          null,
          0.8,
          0.8,
          1.2,
          1.2,
          null,
          0.8,
          0.8,
          1.2,
          1.2,
          null,
          0.8,
          0.8,
          1.2,
          1.2,
          null,
          0.8,
          0.8,
          1.2,
          1.2,
          null,
          0.8,
          0.8,
          1.2,
          1.2,
          null,
          0.8,
          0.8,
          1.2,
          1.2,
          null,
          0.8,
          0.8,
          1.2,
          1.2,
          null,
          0.8,
          0.8,
          1.2,
          1.2,
          null,
          0.8,
          0.8,
          1.2,
          1.2,
          null,
          0.8,
          0.8,
          1.2,
          1.2,
          null,
          0.8,
          0.8,
          1.2,
          1.2,
          null,
          0.8,
          0.8,
          1.2,
          1.2,
          null,
          0.8,
          0.8,
          1.2,
          1.2,
          null,
          0.8,
          0.8,
          1.2,
          1.2,
          null,
          0.8,
          0.8,
          1.2,
          1.2,
          null,
          0.8,
          0.8,
          1.2,
          1.2,
          null,
          0.8,
          0.8,
          1.2,
          1.2,
          null,
          0.8,
          0.8,
          1.2,
          1.2,
          null,
          0.8,
          0.8,
          1.2,
          1.2,
          null,
          0.8,
          0.8,
          1.2,
          1.2,
          null,
          0.8,
          0.8,
          1.2,
          1.2,
          null,
          0.8,
          0.8,
          1.2,
          1.2,
          null,
          0.8,
          0.8,
          1.2,
          1.2,
          null,
          0.8,
          0.8,
          1.2,
          1.2,
          null,
          0.8,
          0.8,
          1.2,
          1.2,
          null,
          0.8,
          0.8,
          1.2,
          1.2,
          null,
          0.8,
          0.8,
          1.2,
          1.2,
          null,
          0.8,
          0.8,
          1.2,
          1.2,
          null,
          0.8,
          0.8,
          1.2,
          1.2,
          null,
          0.8,
          0.8,
          1.2,
          1.2,
          null,
          0.8,
          0.8,
          1.2,
          1.2,
          null,
          0.8,
          0.8,
          1.2,
          1.2,
          null,
          0.8,
          0.8,
          1.2,
          1.2,
          null,
          0.8,
          0.8,
          1.2,
          1.2,
          null,
          0.8,
          0.8,
          1.2,
          1.2,
          null,
          0.8,
          0.8,
          1.2,
          1.2,
          null,
          0.8,
          0.8,
          1.2,
          1.2,
          null,
          0.8,
          0.8,
          1.2,
          1.2,
          null,
          0.8,
          0.8,
          1.2,
          1.2,
          null,
          0.8,
          0.8,
          1.2,
          1.2,
          null,
          0.8,
          0.8,
          1.2,
          1.2,
          null,
          0.8,
          0.8,
          1.2,
          1.2,
          null,
          0.8,
          0.8,
          1.2,
          1.2,
          null,
          0.8,
          0.8,
          1.2,
          1.2,
          null,
          0.8,
          0.8,
          1.2,
          1.2,
          null,
          0.8,
          0.8,
          1.2,
          1.2,
          null,
          0.8,
          0.8,
          1.2,
          1.2,
          null,
          0.8,
          0.8,
          1.2,
          1.2,
          null,
          0.8,
          0.8,
          1.2,
          1.2,
          null,
          0.8,
          0.8,
          1.2,
          1.2,
          null,
          0.8,
          0.8,
          1.2,
          1.2,
          null,
          0.8,
          0.8,
          1.2,
          1.2,
          null,
          0.8,
          0.8,
          1.2,
          1.2,
          null,
          0.8,
          0.8,
          1.2,
          1.2,
          null,
          0.8,
          0.8,
          1.2,
          1.2,
          null,
          0.8,
          0.8,
          1.2,
          1.2,
          null,
          0.8,
          0.8,
          1.2,
          1.2,
          null,
          0.8,
          0.8,
          1.2,
          1.2,
          null,
          0.8,
          0.8,
          1.2,
          1.2,
          null,
          0.8,
          0.8,
          1.2,
          1.2,
          null,
          0.8,
          0.8,
          1.2,
          1.2
         ]
        },
        {
         "fill": "toself",
         "fillcolor": "rgb(157, 111, 189)",
         "hoverinfo": "name",
         "legendgroup": "rgb(157, 111, 189)",
         "mode": "none",
         "name": "8",
         "type": "scatter",
         "x": [
          1673,
          1717,
          1717,
          1673,
          1673,
          4819,
          4863,
          4863,
          4819,
          4819,
          2157,
          2201,
          2201,
          2157,
          2157,
          2456,
          2500,
          2500,
          2456,
          2456,
          4648,
          4692,
          4692,
          4648,
          4648,
          607,
          651,
          651,
          607,
          607,
          3818,
          3862,
          3862,
          3818,
          3818,
          528,
          572,
          572,
          528,
          528,
          1673,
          1717,
          1717,
          1673,
          1673,
          4819,
          4863,
          4863,
          4819,
          4819,
          2157,
          2201,
          2201,
          2157,
          2157,
          2456,
          2500,
          2500,
          2456,
          2456,
          4648,
          4692,
          4692,
          4648,
          4648,
          607,
          651,
          651,
          607,
          607,
          571,
          615,
          615,
          571,
          571,
          3818,
          3862,
          3862,
          3818,
          3818,
          1673,
          1717,
          1717,
          1673,
          1673,
          4819,
          4863,
          4863,
          4819,
          4819,
          528,
          572,
          572,
          528,
          528,
          650,
          694,
          694,
          650,
          650,
          4648,
          4692,
          4692,
          4648,
          4648,
          2499,
          2543,
          2543,
          2499,
          2499,
          2157,
          2201,
          2201,
          2157,
          2157,
          3775,
          3819,
          3819,
          3775,
          3775,
          1673,
          1717,
          1717,
          1673,
          1673,
          4819,
          4863,
          4863,
          4819,
          4819,
          607,
          651,
          651,
          607,
          607,
          571,
          615,
          615,
          571,
          571,
          4605,
          4649,
          4649,
          4605,
          4605,
          2456,
          2500,
          2500,
          2456,
          2456,
          2114,
          2158,
          2158,
          2114,
          2114,
          3818,
          3862,
          3862,
          3818,
          3818,
          1673,
          1717,
          1717,
          1673,
          1673,
          4819,
          4863,
          4863,
          4819,
          4819,
          650,
          694,
          694,
          650,
          650,
          528,
          572,
          572,
          528,
          528,
          4648,
          4692,
          4692,
          4648,
          4648,
          3775,
          3819,
          3819,
          3775,
          3775,
          2157,
          2201,
          2201,
          2157,
          2157,
          2499,
          2543,
          2543,
          2499,
          2499,
          1673,
          1717,
          1717,
          1673,
          1673,
          4819,
          4863,
          4863,
          4819,
          4819,
          607,
          651,
          651,
          607,
          607,
          571,
          615,
          615,
          571,
          571,
          4605,
          4649,
          4649,
          4605,
          4605,
          3818,
          3862,
          3862,
          3818,
          3818,
          2456,
          2500,
          2500,
          2456,
          2456,
          2114,
          2158,
          2158,
          2114,
          2114,
          1673,
          1717,
          1717,
          1673,
          1673,
          4819,
          4863,
          4863,
          4819,
          4819,
          650,
          694,
          694,
          650,
          650,
          528,
          572,
          572,
          528,
          528,
          4648,
          4692,
          4692,
          4648,
          4648,
          3775,
          3819,
          3819,
          3775,
          3775,
          2157,
          2201,
          2201,
          2157,
          2157,
          2499,
          2543,
          2543,
          2499,
          2499,
          1673,
          1717,
          1717,
          1673,
          1673,
          4819,
          4863,
          4863,
          4819,
          4819,
          607,
          651,
          651,
          607,
          607,
          2456,
          2500,
          2500,
          2456,
          2456,
          2114,
          2158,
          2158,
          2114,
          2114,
          3818,
          3862,
          3862,
          3818,
          3818,
          4605,
          4649,
          4649,
          4605,
          4605,
          571,
          615,
          615,
          571,
          571,
          2499,
          2543,
          2543,
          2499,
          2499,
          650,
          694,
          694,
          650,
          650,
          4862,
          4906,
          4906,
          4862,
          4862,
          1673,
          1717,
          1717,
          1673,
          1673,
          2157,
          2201,
          2201,
          2157,
          2157,
          3775,
          3819,
          3819,
          3775,
          3775,
          4648,
          4692,
          4692,
          4648,
          4648,
          528,
          572,
          572,
          528,
          528,
          2456,
          2500,
          2500,
          2456,
          2456,
          607,
          651,
          651,
          607,
          607,
          4819,
          4863,
          4863,
          4819,
          4819,
          1630,
          1674,
          1674,
          1630,
          1630,
          2114,
          2158,
          2158,
          2114,
          2114,
          4605,
          4649,
          4649,
          4605,
          4605,
          3818,
          3862,
          3862,
          3818,
          3818,
          571,
          615,
          615,
          571
         ],
         "y": [
          0.8,
          0.8,
          1.2,
          1.2,
          null,
          0.8,
          0.8,
          1.2,
          1.2,
          null,
          0.8,
          0.8,
          1.2,
          1.2,
          null,
          0.8,
          0.8,
          1.2,
          1.2,
          null,
          0.8,
          0.8,
          1.2,
          1.2,
          null,
          0.8,
          0.8,
          1.2,
          1.2,
          null,
          0.8,
          0.8,
          1.2,
          1.2,
          null,
          0.8,
          0.8,
          1.2,
          1.2,
          null,
          0.8,
          0.8,
          1.2,
          1.2,
          null,
          0.8,
          0.8,
          1.2,
          1.2,
          null,
          0.8,
          0.8,
          1.2,
          1.2,
          null,
          0.8,
          0.8,
          1.2,
          1.2,
          null,
          0.8,
          0.8,
          1.2,
          1.2,
          null,
          0.8,
          0.8,
          1.2,
          1.2,
          null,
          0.8,
          0.8,
          1.2,
          1.2,
          null,
          0.8,
          0.8,
          1.2,
          1.2,
          null,
          0.8,
          0.8,
          1.2,
          1.2,
          null,
          0.8,
          0.8,
          1.2,
          1.2,
          null,
          0.8,
          0.8,
          1.2,
          1.2,
          null,
          0.8,
          0.8,
          1.2,
          1.2,
          null,
          0.8,
          0.8,
          1.2,
          1.2,
          null,
          0.8,
          0.8,
          1.2,
          1.2,
          null,
          0.8,
          0.8,
          1.2,
          1.2,
          null,
          0.8,
          0.8,
          1.2,
          1.2,
          null,
          0.8,
          0.8,
          1.2,
          1.2,
          null,
          0.8,
          0.8,
          1.2,
          1.2,
          null,
          0.8,
          0.8,
          1.2,
          1.2,
          null,
          0.8,
          0.8,
          1.2,
          1.2,
          null,
          0.8,
          0.8,
          1.2,
          1.2,
          null,
          0.8,
          0.8,
          1.2,
          1.2,
          null,
          0.8,
          0.8,
          1.2,
          1.2,
          null,
          0.8,
          0.8,
          1.2,
          1.2,
          null,
          0.8,
          0.8,
          1.2,
          1.2,
          null,
          0.8,
          0.8,
          1.2,
          1.2,
          null,
          0.8,
          0.8,
          1.2,
          1.2,
          null,
          0.8,
          0.8,
          1.2,
          1.2,
          null,
          0.8,
          0.8,
          1.2,
          1.2,
          null,
          0.8,
          0.8,
          1.2,
          1.2,
          null,
          0.8,
          0.8,
          1.2,
          1.2,
          null,
          0.8,
          0.8,
          1.2,
          1.2,
          null,
          0.8,
          0.8,
          1.2,
          1.2,
          null,
          0.8,
          0.8,
          1.2,
          1.2,
          null,
          0.8,
          0.8,
          1.2,
          1.2,
          null,
          0.8,
          0.8,
          1.2,
          1.2,
          null,
          0.8,
          0.8,
          1.2,
          1.2,
          null,
          0.8,
          0.8,
          1.2,
          1.2,
          null,
          0.8,
          0.8,
          1.2,
          1.2,
          null,
          0.8,
          0.8,
          1.2,
          1.2,
          null,
          0.8,
          0.8,
          1.2,
          1.2,
          null,
          0.8,
          0.8,
          1.2,
          1.2,
          null,
          0.8,
          0.8,
          1.2,
          1.2,
          null,
          0.8,
          0.8,
          1.2,
          1.2,
          null,
          0.8,
          0.8,
          1.2,
          1.2,
          null,
          0.8,
          0.8,
          1.2,
          1.2,
          null,
          0.8,
          0.8,
          1.2,
          1.2,
          null,
          0.8,
          0.8,
          1.2,
          1.2,
          null,
          0.8,
          0.8,
          1.2,
          1.2,
          null,
          0.8,
          0.8,
          1.2,
          1.2,
          null,
          0.8,
          0.8,
          1.2,
          1.2,
          null,
          0.8,
          0.8,
          1.2,
          1.2,
          null,
          0.8,
          0.8,
          1.2,
          1.2,
          null,
          0.8,
          0.8,
          1.2,
          1.2,
          null,
          0.8,
          0.8,
          1.2,
          1.2,
          null,
          0.8,
          0.8,
          1.2,
          1.2,
          null,
          0.8,
          0.8,
          1.2,
          1.2,
          null,
          0.8,
          0.8,
          1.2,
          1.2,
          null,
          0.8,
          0.8,
          1.2,
          1.2,
          null,
          0.8,
          0.8,
          1.2,
          1.2,
          null,
          0.8,
          0.8,
          1.2,
          1.2,
          null,
          0.8,
          0.8,
          1.2,
          1.2,
          null,
          0.8,
          0.8,
          1.2,
          1.2,
          null,
          0.8,
          0.8,
          1.2,
          1.2,
          null,
          0.8,
          0.8,
          1.2,
          1.2,
          null,
          0.8,
          0.8,
          1.2,
          1.2,
          null,
          0.8,
          0.8,
          1.2,
          1.2,
          null,
          0.8,
          0.8,
          1.2,
          1.2,
          null,
          0.8,
          0.8,
          1.2,
          1.2,
          null,
          0.8,
          0.8,
          1.2,
          1.2,
          null,
          0.8,
          0.8,
          1.2,
          1.2,
          null,
          0.8,
          0.8,
          1.2,
          1.2
         ]
        },
        {
         "fill": "toself",
         "fillcolor": "rgb(182, 136, 214)",
         "hoverinfo": "name",
         "legendgroup": "rgb(182, 136, 214)",
         "mode": "none",
         "name": "7",
         "type": "scatter",
         "x": [
          1620,
          1673,
          1673,
          1620,
          1620,
          4863,
          4916,
          4916,
          4863,
          4863,
          2104,
          2157,
          2157,
          2104,
          2104,
          2500,
          2553,
          2553,
          2500,
          2500,
          4595,
          4648,
          4648,
          4595,
          4595,
          651,
          704,
          704,
          651,
          651,
          3765,
          3818,
          3818,
          3765,
          3765,
          572,
          625,
          625,
          572,
          572,
          1620,
          1673,
          1673,
          1620,
          1620,
          4863,
          4916,
          4916,
          4863,
          4863,
          2104,
          2157,
          2157,
          2104,
          2104,
          2500,
          2553,
          2553,
          2500,
          2500,
          4595,
          4648,
          4648,
          4595,
          4595,
          651,
          704,
          704,
          651,
          651,
          518,
          571,
          571,
          518,
          518,
          3765,
          3818,
          3818,
          3765,
          3765,
          1620,
          1673,
          1673,
          1620,
          1620,
          4863,
          4916,
          4916,
          4863,
          4863,
          572,
          625,
          625,
          572,
          572,
          597,
          650,
          650,
          597,
          597,
          4595,
          4648,
          4648,
          4595,
          4595,
          2446,
          2499,
          2499,
          2446,
          2446,
          2104,
          2157,
          2157,
          2104,
          2104,
          3819,
          3872,
          3872,
          3819,
          3819,
          1620,
          1673,
          1673,
          1620,
          1620,
          4863,
          4916,
          4916,
          4863,
          4863,
          651,
          704,
          704,
          651,
          651,
          518,
          571,
          571,
          518,
          518,
          4649,
          4702,
          4702,
          4649,
          4649,
          2500,
          2553,
          2553,
          2500,
          2500,
          2158,
          2211,
          2211,
          2158,
          2158,
          3765,
          3818,
          3818,
          3765,
          3765,
          1620,
          1673,
          1673,
          1620,
          1620,
          4863,
          4916,
          4916,
          4863,
          4863,
          597,
          650,
          650,
          597,
          597,
          572,
          625,
          625,
          572,
          572,
          4595,
          4648,
          4648,
          4595,
          4595,
          3819,
          3872,
          3872,
          3819,
          3819,
          2104,
          2157,
          2157,
          2104,
          2104,
          2446,
          2499,
          2499,
          2446,
          2446,
          1620,
          1673,
          1673,
          1620,
          1620,
          4863,
          4916,
          4916,
          4863,
          4863,
          651,
          704,
          704,
          651,
          651,
          518,
          571,
          571,
          518,
          518,
          4649,
          4702,
          4702,
          4649,
          4649,
          3765,
          3818,
          3818,
          3765,
          3765,
          2500,
          2553,
          2553,
          2500,
          2500,
          2158,
          2211,
          2211,
          2158,
          2158,
          1620,
          1673,
          1673,
          1620,
          1620,
          4863,
          4916,
          4916,
          4863,
          4863,
          597,
          650,
          650,
          597,
          597,
          572,
          625,
          625,
          572,
          572,
          4595,
          4648,
          4648,
          4595,
          4595,
          3819,
          3872,
          3872,
          3819,
          3819,
          2104,
          2157,
          2157,
          2104,
          2104,
          2446,
          2499,
          2499,
          2446,
          2446,
          1620,
          1673,
          1673,
          1620,
          1620,
          4863,
          4916,
          4916,
          4863,
          4863,
          651,
          704,
          704,
          651,
          651,
          2500,
          2553,
          2553,
          2500,
          2500,
          2158,
          2211,
          2211,
          2158,
          2158,
          3765,
          3818,
          3818,
          3765,
          3765,
          4649,
          4702,
          4702,
          4649,
          4649,
          518,
          571,
          571,
          518,
          518,
          2446,
          2499,
          2499,
          2446,
          2446,
          597,
          650,
          650,
          597,
          597,
          4809,
          4862,
          4862,
          4809,
          4809,
          1620,
          1673,
          1673,
          1620,
          1620,
          2104,
          2157,
          2157,
          2104,
          2104,
          3819,
          3872,
          3872,
          3819,
          3819,
          4595,
          4648,
          4648,
          4595,
          4595,
          572,
          625,
          625,
          572,
          572,
          2500,
          2553,
          2553,
          2500,
          2500,
          651,
          704,
          704,
          651,
          651,
          4863,
          4916,
          4916,
          4863,
          4863,
          1674,
          1727,
          1727,
          1674,
          1674,
          2158,
          2211,
          2211,
          2158,
          2158,
          4649,
          4702,
          4702,
          4649,
          4649,
          3765,
          3818,
          3818,
          3765,
          3765,
          518,
          571,
          571,
          518
         ],
         "y": [
          0.8,
          0.8,
          1.2,
          1.2,
          null,
          0.8,
          0.8,
          1.2,
          1.2,
          null,
          0.8,
          0.8,
          1.2,
          1.2,
          null,
          0.8,
          0.8,
          1.2,
          1.2,
          null,
          0.8,
          0.8,
          1.2,
          1.2,
          null,
          0.8,
          0.8,
          1.2,
          1.2,
          null,
          0.8,
          0.8,
          1.2,
          1.2,
          null,
          0.8,
          0.8,
          1.2,
          1.2,
          null,
          0.8,
          0.8,
          1.2,
          1.2,
          null,
          0.8,
          0.8,
          1.2,
          1.2,
          null,
          0.8,
          0.8,
          1.2,
          1.2,
          null,
          0.8,
          0.8,
          1.2,
          1.2,
          null,
          0.8,
          0.8,
          1.2,
          1.2,
          null,
          0.8,
          0.8,
          1.2,
          1.2,
          null,
          0.8,
          0.8,
          1.2,
          1.2,
          null,
          0.8,
          0.8,
          1.2,
          1.2,
          null,
          0.8,
          0.8,
          1.2,
          1.2,
          null,
          0.8,
          0.8,
          1.2,
          1.2,
          null,
          0.8,
          0.8,
          1.2,
          1.2,
          null,
          0.8,
          0.8,
          1.2,
          1.2,
          null,
          0.8,
          0.8,
          1.2,
          1.2,
          null,
          0.8,
          0.8,
          1.2,
          1.2,
          null,
          0.8,
          0.8,
          1.2,
          1.2,
          null,
          0.8,
          0.8,
          1.2,
          1.2,
          null,
          0.8,
          0.8,
          1.2,
          1.2,
          null,
          0.8,
          0.8,
          1.2,
          1.2,
          null,
          0.8,
          0.8,
          1.2,
          1.2,
          null,
          0.8,
          0.8,
          1.2,
          1.2,
          null,
          0.8,
          0.8,
          1.2,
          1.2,
          null,
          0.8,
          0.8,
          1.2,
          1.2,
          null,
          0.8,
          0.8,
          1.2,
          1.2,
          null,
          0.8,
          0.8,
          1.2,
          1.2,
          null,
          0.8,
          0.8,
          1.2,
          1.2,
          null,
          0.8,
          0.8,
          1.2,
          1.2,
          null,
          0.8,
          0.8,
          1.2,
          1.2,
          null,
          0.8,
          0.8,
          1.2,
          1.2,
          null,
          0.8,
          0.8,
          1.2,
          1.2,
          null,
          0.8,
          0.8,
          1.2,
          1.2,
          null,
          0.8,
          0.8,
          1.2,
          1.2,
          null,
          0.8,
          0.8,
          1.2,
          1.2,
          null,
          0.8,
          0.8,
          1.2,
          1.2,
          null,
          0.8,
          0.8,
          1.2,
          1.2,
          null,
          0.8,
          0.8,
          1.2,
          1.2,
          null,
          0.8,
          0.8,
          1.2,
          1.2,
          null,
          0.8,
          0.8,
          1.2,
          1.2,
          null,
          0.8,
          0.8,
          1.2,
          1.2,
          null,
          0.8,
          0.8,
          1.2,
          1.2,
          null,
          0.8,
          0.8,
          1.2,
          1.2,
          null,
          0.8,
          0.8,
          1.2,
          1.2,
          null,
          0.8,
          0.8,
          1.2,
          1.2,
          null,
          0.8,
          0.8,
          1.2,
          1.2,
          null,
          0.8,
          0.8,
          1.2,
          1.2,
          null,
          0.8,
          0.8,
          1.2,
          1.2,
          null,
          0.8,
          0.8,
          1.2,
          1.2,
          null,
          0.8,
          0.8,
          1.2,
          1.2,
          null,
          0.8,
          0.8,
          1.2,
          1.2,
          null,
          0.8,
          0.8,
          1.2,
          1.2,
          null,
          0.8,
          0.8,
          1.2,
          1.2,
          null,
          0.8,
          0.8,
          1.2,
          1.2,
          null,
          0.8,
          0.8,
          1.2,
          1.2,
          null,
          0.8,
          0.8,
          1.2,
          1.2,
          null,
          0.8,
          0.8,
          1.2,
          1.2,
          null,
          0.8,
          0.8,
          1.2,
          1.2,
          null,
          0.8,
          0.8,
          1.2,
          1.2,
          null,
          0.8,
          0.8,
          1.2,
          1.2,
          null,
          0.8,
          0.8,
          1.2,
          1.2,
          null,
          0.8,
          0.8,
          1.2,
          1.2,
          null,
          0.8,
          0.8,
          1.2,
          1.2,
          null,
          0.8,
          0.8,
          1.2,
          1.2,
          null,
          0.8,
          0.8,
          1.2,
          1.2,
          null,
          0.8,
          0.8,
          1.2,
          1.2,
          null,
          0.8,
          0.8,
          1.2,
          1.2,
          null,
          0.8,
          0.8,
          1.2,
          1.2,
          null,
          0.8,
          0.8,
          1.2,
          1.2,
          null,
          0.8,
          0.8,
          1.2,
          1.2,
          null,
          0.8,
          0.8,
          1.2,
          1.2,
          null,
          0.8,
          0.8,
          1.2,
          1.2,
          null,
          0.8,
          0.8,
          1.2,
          1.2,
          null,
          0.8,
          0.8,
          1.2,
          1.2,
          null,
          0.8,
          0.8,
          1.2,
          1.2
         ]
        },
        {
         "fill": "toself",
         "fillcolor": "rgb(207, 161, 239)",
         "hoverinfo": "name",
         "legendgroup": "rgb(207, 161, 239)",
         "mode": "none",
         "name": "6",
         "type": "scatter",
         "x": [
          1557,
          1620,
          1620,
          1557,
          1557,
          4916,
          4979,
          4979,
          4916,
          4916,
          2041,
          2104,
          2104,
          2041,
          2041,
          2553,
          2616,
          2616,
          2553,
          2553,
          4532,
          4595,
          4595,
          4532,
          4532,
          704,
          767,
          767,
          704,
          704,
          3702,
          3765,
          3765,
          3702,
          3702,
          625,
          688,
          688,
          625,
          625,
          1557,
          1620,
          1620,
          1557,
          1557,
          4916,
          4979,
          4979,
          4916,
          4916,
          2041,
          2104,
          2104,
          2041,
          2041,
          2553,
          2616,
          2616,
          2553,
          2553,
          4532,
          4595,
          4595,
          4532,
          4532,
          704,
          767,
          767,
          704,
          704,
          455,
          518,
          518,
          455,
          455,
          3702,
          3765,
          3765,
          3702,
          3702,
          1557,
          1620,
          1620,
          1557,
          1557,
          4916,
          4979,
          4979,
          4916,
          4916,
          625,
          688,
          688,
          625,
          625,
          534,
          597,
          597,
          534,
          534,
          4532,
          4595,
          4595,
          4532,
          4532,
          2383,
          2446,
          2446,
          2383,
          2383,
          2041,
          2104,
          2104,
          2041,
          2041,
          3872,
          3935,
          3935,
          3872,
          3872,
          1557,
          1620,
          1620,
          1557,
          1557,
          4916,
          4979,
          4979,
          4916,
          4916,
          704,
          767,
          767,
          704,
          704,
          455,
          518,
          518,
          455,
          455,
          4702,
          4765,
          4765,
          4702,
          4702,
          2553,
          2616,
          2616,
          2553,
          2553,
          2211,
          2274,
          2274,
          2211,
          2211,
          3702,
          3765,
          3765,
          3702,
          3702,
          1557,
          1620,
          1620,
          1557,
          1557,
          4916,
          4979,
          4979,
          4916,
          4916,
          534,
          597,
          597,
          534,
          534,
          625,
          688,
          688,
          625,
          625,
          4532,
          4595,
          4595,
          4532,
          4532,
          3872,
          3935,
          3935,
          3872,
          3872,
          2041,
          2104,
          2104,
          2041,
          2041,
          2383,
          2446,
          2446,
          2383,
          2383,
          1557,
          1620,
          1620,
          1557,
          1557,
          4916,
          4979,
          4979,
          4916,
          4916,
          704,
          767,
          767,
          704,
          704,
          455,
          518,
          518,
          455,
          455,
          4702,
          4765,
          4765,
          4702,
          4702,
          3702,
          3765,
          3765,
          3702,
          3702,
          2553,
          2616,
          2616,
          2553,
          2553,
          2211,
          2274,
          2274,
          2211,
          2211,
          1557,
          1620,
          1620,
          1557,
          1557,
          4916,
          4979,
          4979,
          4916,
          4916,
          534,
          597,
          597,
          534,
          534,
          625,
          688,
          688,
          625,
          625,
          4532,
          4595,
          4595,
          4532,
          4532,
          3872,
          3935,
          3935,
          3872,
          3872,
          2041,
          2104,
          2104,
          2041,
          2041,
          2383,
          2446,
          2446,
          2383,
          2383,
          1557,
          1620,
          1620,
          1557,
          1557,
          4916,
          4979,
          4979,
          4916,
          4916,
          704,
          767,
          767,
          704,
          704,
          2553,
          2616,
          2616,
          2553,
          2553,
          2211,
          2274,
          2274,
          2211,
          2211,
          3702,
          3765,
          3765,
          3702,
          3702,
          4702,
          4765,
          4765,
          4702,
          4702,
          455,
          518,
          518,
          455,
          455,
          2383,
          2446,
          2446,
          2383,
          2383,
          534,
          597,
          597,
          534,
          534,
          4746,
          4809,
          4809,
          4746,
          4746,
          1557,
          1620,
          1620,
          1557,
          1557,
          2041,
          2104,
          2104,
          2041,
          2041,
          3872,
          3935,
          3935,
          3872,
          3872,
          4532,
          4595,
          4595,
          4532,
          4532,
          625,
          688,
          688,
          625,
          625,
          2553,
          2616,
          2616,
          2553,
          2553,
          704,
          767,
          767,
          704,
          704,
          4916,
          4979,
          4979,
          4916,
          4916,
          1727,
          1790,
          1790,
          1727,
          1727,
          2211,
          2274,
          2274,
          2211,
          2211,
          4702,
          4765,
          4765,
          4702,
          4702,
          3702,
          3765,
          3765,
          3702,
          3702,
          455,
          518,
          518,
          455
         ],
         "y": [
          0.8,
          0.8,
          1.2,
          1.2,
          null,
          0.8,
          0.8,
          1.2,
          1.2,
          null,
          0.8,
          0.8,
          1.2,
          1.2,
          null,
          0.8,
          0.8,
          1.2,
          1.2,
          null,
          0.8,
          0.8,
          1.2,
          1.2,
          null,
          0.8,
          0.8,
          1.2,
          1.2,
          null,
          0.8,
          0.8,
          1.2,
          1.2,
          null,
          0.8,
          0.8,
          1.2,
          1.2,
          null,
          0.8,
          0.8,
          1.2,
          1.2,
          null,
          0.8,
          0.8,
          1.2,
          1.2,
          null,
          0.8,
          0.8,
          1.2,
          1.2,
          null,
          0.8,
          0.8,
          1.2,
          1.2,
          null,
          0.8,
          0.8,
          1.2,
          1.2,
          null,
          0.8,
          0.8,
          1.2,
          1.2,
          null,
          0.8,
          0.8,
          1.2,
          1.2,
          null,
          0.8,
          0.8,
          1.2,
          1.2,
          null,
          0.8,
          0.8,
          1.2,
          1.2,
          null,
          0.8,
          0.8,
          1.2,
          1.2,
          null,
          0.8,
          0.8,
          1.2,
          1.2,
          null,
          0.8,
          0.8,
          1.2,
          1.2,
          null,
          0.8,
          0.8,
          1.2,
          1.2,
          null,
          0.8,
          0.8,
          1.2,
          1.2,
          null,
          0.8,
          0.8,
          1.2,
          1.2,
          null,
          0.8,
          0.8,
          1.2,
          1.2,
          null,
          0.8,
          0.8,
          1.2,
          1.2,
          null,
          0.8,
          0.8,
          1.2,
          1.2,
          null,
          0.8,
          0.8,
          1.2,
          1.2,
          null,
          0.8,
          0.8,
          1.2,
          1.2,
          null,
          0.8,
          0.8,
          1.2,
          1.2,
          null,
          0.8,
          0.8,
          1.2,
          1.2,
          null,
          0.8,
          0.8,
          1.2,
          1.2,
          null,
          0.8,
          0.8,
          1.2,
          1.2,
          null,
          0.8,
          0.8,
          1.2,
          1.2,
          null,
          0.8,
          0.8,
          1.2,
          1.2,
          null,
          0.8,
          0.8,
          1.2,
          1.2,
          null,
          0.8,
          0.8,
          1.2,
          1.2,
          null,
          0.8,
          0.8,
          1.2,
          1.2,
          null,
          0.8,
          0.8,
          1.2,
          1.2,
          null,
          0.8,
          0.8,
          1.2,
          1.2,
          null,
          0.8,
          0.8,
          1.2,
          1.2,
          null,
          0.8,
          0.8,
          1.2,
          1.2,
          null,
          0.8,
          0.8,
          1.2,
          1.2,
          null,
          0.8,
          0.8,
          1.2,
          1.2,
          null,
          0.8,
          0.8,
          1.2,
          1.2,
          null,
          0.8,
          0.8,
          1.2,
          1.2,
          null,
          0.8,
          0.8,
          1.2,
          1.2,
          null,
          0.8,
          0.8,
          1.2,
          1.2,
          null,
          0.8,
          0.8,
          1.2,
          1.2,
          null,
          0.8,
          0.8,
          1.2,
          1.2,
          null,
          0.8,
          0.8,
          1.2,
          1.2,
          null,
          0.8,
          0.8,
          1.2,
          1.2,
          null,
          0.8,
          0.8,
          1.2,
          1.2,
          null,
          0.8,
          0.8,
          1.2,
          1.2,
          null,
          0.8,
          0.8,
          1.2,
          1.2,
          null,
          0.8,
          0.8,
          1.2,
          1.2,
          null,
          0.8,
          0.8,
          1.2,
          1.2,
          null,
          0.8,
          0.8,
          1.2,
          1.2,
          null,
          0.8,
          0.8,
          1.2,
          1.2,
          null,
          0.8,
          0.8,
          1.2,
          1.2,
          null,
          0.8,
          0.8,
          1.2,
          1.2,
          null,
          0.8,
          0.8,
          1.2,
          1.2,
          null,
          0.8,
          0.8,
          1.2,
          1.2,
          null,
          0.8,
          0.8,
          1.2,
          1.2,
          null,
          0.8,
          0.8,
          1.2,
          1.2,
          null,
          0.8,
          0.8,
          1.2,
          1.2,
          null,
          0.8,
          0.8,
          1.2,
          1.2,
          null,
          0.8,
          0.8,
          1.2,
          1.2,
          null,
          0.8,
          0.8,
          1.2,
          1.2,
          null,
          0.8,
          0.8,
          1.2,
          1.2,
          null,
          0.8,
          0.8,
          1.2,
          1.2,
          null,
          0.8,
          0.8,
          1.2,
          1.2,
          null,
          0.8,
          0.8,
          1.2,
          1.2,
          null,
          0.8,
          0.8,
          1.2,
          1.2,
          null,
          0.8,
          0.8,
          1.2,
          1.2,
          null,
          0.8,
          0.8,
          1.2,
          1.2,
          null,
          0.8,
          0.8,
          1.2,
          1.2,
          null,
          0.8,
          0.8,
          1.2,
          1.2,
          null,
          0.8,
          0.8,
          1.2,
          1.2,
          null,
          0.8,
          0.8,
          1.2,
          1.2,
          null,
          0.8,
          0.8,
          1.2,
          1.2
         ]
        },
        {
         "fill": "toself",
         "fillcolor": "rgb(232, 186, 8)",
         "hoverinfo": "name",
         "legendgroup": "rgb(232, 186, 8)",
         "mode": "none",
         "name": "3",
         "type": "scatter",
         "x": [
          144,
          219,
          219,
          144,
          144,
          1682,
          1757,
          1757,
          1682,
          1682,
          144,
          219,
          219,
          144,
          144,
          1682,
          1757,
          1757,
          1682,
          1682,
          144,
          219,
          219,
          144,
          144,
          1682,
          1757,
          1757,
          1682,
          1682,
          144,
          219,
          219,
          144,
          144,
          1682,
          1757,
          1757,
          1682,
          1682,
          144,
          219,
          219,
          144,
          144,
          1682,
          1757,
          1757,
          1682,
          1682,
          144,
          219,
          219,
          144,
          144,
          1682,
          1757,
          1757,
          1682,
          1682,
          144,
          219,
          219,
          144,
          144,
          1682,
          1757,
          1757,
          1682,
          1682,
          144,
          219,
          219,
          144,
          144,
          1682,
          1757,
          1757,
          1682,
          1682,
          144,
          219,
          219,
          144,
          144,
          1682,
          1757,
          1757,
          1682,
          1682,
          144,
          219,
          219,
          144,
          144,
          1682,
          1757,
          1757,
          1682
         ],
         "y": [
          -0.2,
          -0.2,
          0.2,
          0.2,
          null,
          -0.2,
          -0.2,
          0.2,
          0.2,
          null,
          -0.2,
          -0.2,
          0.2,
          0.2,
          null,
          -0.2,
          -0.2,
          0.2,
          0.2,
          null,
          -0.2,
          -0.2,
          0.2,
          0.2,
          null,
          -0.2,
          -0.2,
          0.2,
          0.2,
          null,
          -0.2,
          -0.2,
          0.2,
          0.2,
          null,
          -0.2,
          -0.2,
          0.2,
          0.2,
          null,
          -0.2,
          -0.2,
          0.2,
          0.2,
          null,
          -0.2,
          -0.2,
          0.2,
          0.2,
          null,
          -0.2,
          -0.2,
          0.2,
          0.2,
          null,
          -0.2,
          -0.2,
          0.2,
          0.2,
          null,
          -0.2,
          -0.2,
          0.2,
          0.2,
          null,
          -0.2,
          -0.2,
          0.2,
          0.2,
          null,
          -0.2,
          -0.2,
          0.2,
          0.2,
          null,
          -0.2,
          -0.2,
          0.2,
          0.2,
          null,
          -0.2,
          -0.2,
          0.2,
          0.2,
          null,
          -0.2,
          -0.2,
          0.2,
          0.2,
          null,
          -0.2,
          -0.2,
          0.2,
          0.2,
          null,
          -0.2,
          -0.2,
          0.2,
          0.2
         ]
        },
        {
         "fill": "toself",
         "fillcolor": "rgb(26, 236, 58)",
         "hoverinfo": "name",
         "legendgroup": "rgb(26, 236, 58)",
         "mode": "none",
         "name": "1",
         "type": "scatter",
         "x": [
          22,
          57,
          57,
          22,
          22,
          1844,
          1879,
          1879,
          1844,
          1844,
          22,
          57,
          57,
          22,
          22,
          1844,
          1879,
          1879,
          1844,
          1844,
          22,
          57,
          57,
          22,
          22,
          1844,
          1879,
          1879,
          1844,
          1844,
          22,
          57,
          57,
          22,
          22,
          1844,
          1879,
          1879,
          1844,
          1844,
          22,
          57,
          57,
          22,
          22,
          1844,
          1879,
          1879,
          1844,
          1844,
          22,
          57,
          57,
          22,
          22,
          1844,
          1879,
          1879,
          1844,
          1844,
          22,
          57,
          57,
          22,
          22,
          1844,
          1879,
          1879,
          1844,
          1844,
          22,
          57,
          57,
          22,
          22,
          1844,
          1879,
          1879,
          1844,
          1844,
          22,
          57,
          57,
          22,
          22,
          1844,
          1879,
          1879,
          1844,
          1844,
          22,
          57,
          57,
          22,
          22,
          1844,
          1879,
          1879,
          1844
         ],
         "y": [
          -0.2,
          -0.2,
          0.2,
          0.2,
          null,
          -0.2,
          -0.2,
          0.2,
          0.2,
          null,
          -0.2,
          -0.2,
          0.2,
          0.2,
          null,
          -0.2,
          -0.2,
          0.2,
          0.2,
          null,
          -0.2,
          -0.2,
          0.2,
          0.2,
          null,
          -0.2,
          -0.2,
          0.2,
          0.2,
          null,
          -0.2,
          -0.2,
          0.2,
          0.2,
          null,
          -0.2,
          -0.2,
          0.2,
          0.2,
          null,
          -0.2,
          -0.2,
          0.2,
          0.2,
          null,
          -0.2,
          -0.2,
          0.2,
          0.2,
          null,
          -0.2,
          -0.2,
          0.2,
          0.2,
          null,
          -0.2,
          -0.2,
          0.2,
          0.2,
          null,
          -0.2,
          -0.2,
          0.2,
          0.2,
          null,
          -0.2,
          -0.2,
          0.2,
          0.2,
          null,
          -0.2,
          -0.2,
          0.2,
          0.2,
          null,
          -0.2,
          -0.2,
          0.2,
          0.2,
          null,
          -0.2,
          -0.2,
          0.2,
          0.2,
          null,
          -0.2,
          -0.2,
          0.2,
          0.2,
          null,
          -0.2,
          -0.2,
          0.2,
          0.2,
          null,
          -0.2,
          -0.2,
          0.2,
          0.2
         ]
        },
        {
         "fill": "toself",
         "fillcolor": "rgb(51, 5, 83)",
         "hoverinfo": "name",
         "legendgroup": "rgb(51, 5, 83)",
         "mode": "none",
         "name": "0",
         "type": "scatter",
         "x": [
          -21,
          22,
          22,
          -21,
          -21,
          1879,
          1922,
          1922,
          1879,
          1879,
          -21,
          22,
          22,
          -21,
          -21,
          1879,
          1922,
          1922,
          1879,
          1879,
          -21,
          22,
          22,
          -21,
          -21,
          1879,
          1922,
          1922,
          1879,
          1879,
          -21,
          22,
          22,
          -21,
          -21,
          1879,
          1922,
          1922,
          1879,
          1879,
          -21,
          22,
          22,
          -21,
          -21,
          1879,
          1922,
          1922,
          1879,
          1879,
          -21,
          22,
          22,
          -21,
          -21,
          1879,
          1922,
          1922,
          1879,
          1879,
          -21,
          22,
          22,
          -21,
          -21,
          1879,
          1922,
          1922,
          1879,
          1879,
          -21,
          22,
          22,
          -21,
          -21,
          1879,
          1922,
          1922,
          1879,
          1879,
          -21,
          22,
          22,
          -21,
          -21,
          1879,
          1922,
          1922,
          1879,
          1879,
          -21,
          22,
          22,
          -21,
          -21,
          1879,
          1922,
          1922,
          1879
         ],
         "y": [
          -0.2,
          -0.2,
          0.2,
          0.2,
          null,
          -0.2,
          -0.2,
          0.2,
          0.2,
          null,
          -0.2,
          -0.2,
          0.2,
          0.2,
          null,
          -0.2,
          -0.2,
          0.2,
          0.2,
          null,
          -0.2,
          -0.2,
          0.2,
          0.2,
          null,
          -0.2,
          -0.2,
          0.2,
          0.2,
          null,
          -0.2,
          -0.2,
          0.2,
          0.2,
          null,
          -0.2,
          -0.2,
          0.2,
          0.2,
          null,
          -0.2,
          -0.2,
          0.2,
          0.2,
          null,
          -0.2,
          -0.2,
          0.2,
          0.2,
          null,
          -0.2,
          -0.2,
          0.2,
          0.2,
          null,
          -0.2,
          -0.2,
          0.2,
          0.2,
          null,
          -0.2,
          -0.2,
          0.2,
          0.2,
          null,
          -0.2,
          -0.2,
          0.2,
          0.2,
          null,
          -0.2,
          -0.2,
          0.2,
          0.2,
          null,
          -0.2,
          -0.2,
          0.2,
          0.2,
          null,
          -0.2,
          -0.2,
          0.2,
          0.2,
          null,
          -0.2,
          -0.2,
          0.2,
          0.2,
          null,
          -0.2,
          -0.2,
          0.2,
          0.2,
          null,
          -0.2,
          -0.2,
          0.2,
          0.2
         ]
        },
        {
         "fill": "toself",
         "fillcolor": "rgb(82, 36, 114)",
         "hoverinfo": "name",
         "legendgroup": "rgb(82, 36, 114)",
         "mode": "none",
         "name": "5",
         "type": "scatter",
         "x": [
          302,
          397,
          397,
          302,
          302,
          1504,
          1599,
          1599,
          1504,
          1504,
          302,
          397,
          397,
          302,
          302,
          1504,
          1599,
          1599,
          1504,
          1504,
          302,
          397,
          397,
          302,
          302,
          1504,
          1599,
          1599,
          1504,
          1504,
          302,
          397,
          397,
          302,
          302,
          1504,
          1599,
          1599,
          1504,
          1504,
          302,
          397,
          397,
          302,
          302,
          1504,
          1599,
          1599,
          1504,
          1504,
          302,
          397,
          397,
          302,
          302,
          1504,
          1599,
          1599,
          1504,
          1504,
          302,
          397,
          397,
          302,
          302,
          1504,
          1599,
          1599,
          1504,
          1504,
          302,
          397,
          397,
          302,
          302,
          1504,
          1599,
          1599,
          1504,
          1504,
          302,
          397,
          397,
          302,
          302,
          1504,
          1599,
          1599,
          1504,
          1504,
          302,
          397,
          397,
          302,
          302,
          1504,
          1599,
          1599,
          1504
         ],
         "y": [
          0.8,
          0.8,
          1.2,
          1.2,
          null,
          0.8,
          0.8,
          1.2,
          1.2,
          null,
          0.8,
          0.8,
          1.2,
          1.2,
          null,
          0.8,
          0.8,
          1.2,
          1.2,
          null,
          0.8,
          0.8,
          1.2,
          1.2,
          null,
          0.8,
          0.8,
          1.2,
          1.2,
          null,
          0.8,
          0.8,
          1.2,
          1.2,
          null,
          0.8,
          0.8,
          1.2,
          1.2,
          null,
          0.8,
          0.8,
          1.2,
          1.2,
          null,
          0.8,
          0.8,
          1.2,
          1.2,
          null,
          0.8,
          0.8,
          1.2,
          1.2,
          null,
          0.8,
          0.8,
          1.2,
          1.2,
          null,
          0.8,
          0.8,
          1.2,
          1.2,
          null,
          0.8,
          0.8,
          1.2,
          1.2,
          null,
          0.8,
          0.8,
          1.2,
          1.2,
          null,
          0.8,
          0.8,
          1.2,
          1.2,
          null,
          0.8,
          0.8,
          1.2,
          1.2,
          null,
          0.8,
          0.8,
          1.2,
          1.2,
          null,
          0.8,
          0.8,
          1.2,
          1.2,
          null,
          0.8,
          0.8,
          1.2,
          1.2
         ]
        },
        {
         "legendgroup": "rgb(1, 211, 33)",
         "marker": {
          "color": "rgb(1, 211, 33)",
          "opacity": 0,
          "size": 1
         },
         "mode": "markers",
         "name": "",
         "showlegend": false,
         "text": [
          null,
          null,
          null,
          null,
          null,
          null,
          null,
          null,
          null,
          null,
          null,
          null,
          null,
          null,
          null,
          null,
          null,
          null,
          null,
          null,
          null,
          null,
          null,
          null,
          null,
          null,
          null,
          null,
          null,
          null,
          null,
          null,
          null,
          null,
          null,
          null,
          null,
          null,
          null,
          null
         ],
         "type": "scatter",
         "x": [
          57,
          144,
          1757,
          1844,
          57,
          144,
          1757,
          1844,
          57,
          144,
          1757,
          1844,
          57,
          144,
          1757,
          1844,
          57,
          144,
          1757,
          1844,
          57,
          144,
          1757,
          1844,
          57,
          144,
          1757,
          1844,
          57,
          144,
          1757,
          1844,
          57,
          144,
          1757,
          1844,
          57,
          144,
          1757,
          1844
         ],
         "y": [
          0,
          0,
          0,
          0,
          0,
          0,
          0,
          0,
          0,
          0,
          0,
          0,
          0,
          0,
          0,
          0,
          0,
          0,
          0,
          0,
          0,
          0,
          0,
          0,
          0,
          0,
          0,
          0,
          0,
          0,
          0,
          0,
          0,
          0,
          0,
          0,
          0,
          0,
          0,
          0
         ]
        },
        {
         "legendgroup": "rgb(107, 61, 139)",
         "marker": {
          "color": "rgb(107, 61, 139)",
          "opacity": 0,
          "size": 1
         },
         "mode": "markers",
         "name": "",
         "showlegend": false,
         "text": [
          null,
          null,
          null,
          null,
          null,
          null,
          null,
          null,
          null,
          null,
          null,
          null,
          null,
          null,
          null,
          null,
          null,
          null,
          null,
          null,
          null,
          null,
          null,
          null,
          null,
          null,
          null,
          null,
          null,
          null,
          null,
          null,
          null,
          null,
          null,
          null,
          null,
          null,
          null,
          null
         ],
         "type": "scatter",
         "x": [
          219,
          302,
          1599,
          1682,
          219,
          302,
          1599,
          1682,
          219,
          302,
          1599,
          1682,
          219,
          302,
          1599,
          1682,
          219,
          302,
          1599,
          1682,
          219,
          302,
          1599,
          1682,
          219,
          302,
          1599,
          1682,
          219,
          302,
          1599,
          1682,
          219,
          302,
          1599,
          1682,
          219,
          302,
          1599,
          1682
         ],
         "y": [
          1,
          1,
          1,
          1,
          1,
          1,
          1,
          1,
          1,
          1,
          1,
          1,
          1,
          1,
          1,
          1,
          1,
          1,
          1,
          1,
          1,
          1,
          1,
          1,
          1,
          1,
          1,
          1,
          1,
          1,
          1,
          1,
          1,
          1,
          1,
          1,
          1,
          1,
          1,
          1
         ]
        },
        {
         "legendgroup": "rgb(132, 86, 164)",
         "marker": {
          "color": "rgb(132, 86, 164)",
          "opacity": 0,
          "size": 1
         },
         "mode": "markers",
         "name": "",
         "showlegend": false,
         "text": [
          null,
          null,
          null,
          null,
          null,
          null,
          null,
          null,
          null,
          null,
          null,
          null,
          null,
          null,
          null,
          null,
          null,
          null,
          null,
          null,
          null,
          null,
          null,
          null,
          null,
          null,
          null,
          null,
          null,
          null,
          null,
          null,
          null,
          null,
          null,
          null,
          null,
          null,
          null,
          null,
          null,
          null,
          null,
          null,
          null,
          null,
          null,
          null,
          null,
          null,
          null,
          null,
          null,
          null,
          null,
          null,
          null,
          null,
          null,
          null,
          null,
          null,
          null,
          null,
          null,
          null,
          null,
          null,
          null,
          null,
          null,
          null,
          null,
          null,
          null,
          null,
          null,
          null,
          null,
          null,
          null,
          null,
          null,
          null,
          null,
          null,
          null,
          null,
          null,
          null,
          null,
          null,
          null,
          null,
          null,
          null,
          null,
          null,
          null,
          null,
          null,
          null,
          null,
          null,
          null,
          null,
          null,
          null,
          null,
          null,
          null,
          null,
          null,
          null,
          null,
          null,
          null,
          null,
          null,
          null,
          null,
          null,
          null,
          null,
          null,
          null,
          null,
          null,
          null,
          null,
          null,
          null,
          null,
          null,
          null,
          null,
          null,
          null,
          null,
          null,
          null,
          null,
          null,
          null,
          null,
          null,
          null,
          null,
          null,
          null,
          null,
          null,
          null,
          null,
          null,
          null,
          null,
          null,
          null,
          null
         ],
         "type": "scatter",
         "x": [
          1717,
          1790,
          4746,
          4819,
          2201,
          2274,
          2383,
          2456,
          4692,
          4765,
          534,
          607,
          3862,
          3935,
          455,
          528,
          1717,
          1790,
          4746,
          4819,
          2201,
          2274,
          2383,
          2456,
          4692,
          4765,
          534,
          607,
          615,
          688,
          3862,
          3935,
          1717,
          1790,
          4746,
          4819,
          455,
          528,
          694,
          767,
          4692,
          4765,
          2543,
          2616,
          2201,
          2274,
          3702,
          3775,
          1717,
          1790,
          4746,
          4819,
          534,
          607,
          615,
          688,
          4532,
          4605,
          2383,
          2456,
          2041,
          2114,
          3862,
          3935,
          1717,
          1790,
          4746,
          4819,
          694,
          767,
          455,
          528,
          4692,
          4765,
          3702,
          3775,
          2201,
          2274,
          2543,
          2616,
          1717,
          1790,
          4746,
          4819,
          534,
          607,
          615,
          688,
          4532,
          4605,
          3862,
          3935,
          2383,
          2456,
          2041,
          2114,
          1717,
          1790,
          4746,
          4819,
          694,
          767,
          455,
          528,
          4692,
          4765,
          3702,
          3775,
          2201,
          2274,
          2543,
          2616,
          1717,
          1790,
          4746,
          4819,
          534,
          607,
          2383,
          2456,
          2041,
          2114,
          3862,
          3935,
          4532,
          4605,
          615,
          688,
          2543,
          2616,
          694,
          767,
          4906,
          4979,
          1717,
          1790,
          2201,
          2274,
          3702,
          3775,
          4692,
          4765,
          455,
          528,
          2383,
          2456,
          534,
          607,
          4746,
          4819,
          1557,
          1630,
          2041,
          2114,
          4532,
          4605,
          3862,
          3935,
          615,
          688
         ],
         "y": [
          1,
          1,
          1,
          1,
          1,
          1,
          1,
          1,
          1,
          1,
          1,
          1,
          1,
          1,
          1,
          1,
          1,
          1,
          1,
          1,
          1,
          1,
          1,
          1,
          1,
          1,
          1,
          1,
          1,
          1,
          1,
          1,
          1,
          1,
          1,
          1,
          1,
          1,
          1,
          1,
          1,
          1,
          1,
          1,
          1,
          1,
          1,
          1,
          1,
          1,
          1,
          1,
          1,
          1,
          1,
          1,
          1,
          1,
          1,
          1,
          1,
          1,
          1,
          1,
          1,
          1,
          1,
          1,
          1,
          1,
          1,
          1,
          1,
          1,
          1,
          1,
          1,
          1,
          1,
          1,
          1,
          1,
          1,
          1,
          1,
          1,
          1,
          1,
          1,
          1,
          1,
          1,
          1,
          1,
          1,
          1,
          1,
          1,
          1,
          1,
          1,
          1,
          1,
          1,
          1,
          1,
          1,
          1,
          1,
          1,
          1,
          1,
          1,
          1,
          1,
          1,
          1,
          1,
          1,
          1,
          1,
          1,
          1,
          1,
          1,
          1,
          1,
          1,
          1,
          1,
          1,
          1,
          1,
          1,
          1,
          1,
          1,
          1,
          1,
          1,
          1,
          1,
          1,
          1,
          1,
          1,
          1,
          1,
          1,
          1,
          1,
          1,
          1,
          1,
          1,
          1,
          1,
          1,
          1,
          1
         ]
        },
        {
         "legendgroup": "rgb(157, 111, 189)",
         "marker": {
          "color": "rgb(157, 111, 189)",
          "opacity": 0,
          "size": 1
         },
         "mode": "markers",
         "name": "",
         "showlegend": false,
         "text": [
          null,
          null,
          null,
          null,
          null,
          null,
          null,
          null,
          null,
          null,
          null,
          null,
          null,
          null,
          null,
          null,
          null,
          null,
          null,
          null,
          null,
          null,
          null,
          null,
          null,
          null,
          null,
          null,
          null,
          null,
          null,
          null,
          null,
          null,
          null,
          null,
          null,
          null,
          null,
          null,
          null,
          null,
          null,
          null,
          null,
          null,
          null,
          null,
          null,
          null,
          null,
          null,
          null,
          null,
          null,
          null,
          null,
          null,
          null,
          null,
          null,
          null,
          null,
          null,
          null,
          null,
          null,
          null,
          null,
          null,
          null,
          null,
          null,
          null,
          null,
          null,
          null,
          null,
          null,
          null,
          null,
          null,
          null,
          null,
          null,
          null,
          null,
          null,
          null,
          null,
          null,
          null,
          null,
          null,
          null,
          null,
          null,
          null,
          null,
          null,
          null,
          null,
          null,
          null,
          null,
          null,
          null,
          null,
          null,
          null,
          null,
          null,
          null,
          null,
          null,
          null,
          null,
          null,
          null,
          null,
          null,
          null,
          null,
          null,
          null,
          null,
          null,
          null,
          null,
          null,
          null,
          null,
          null,
          null,
          null,
          null,
          null,
          null,
          null,
          null,
          null,
          null,
          null,
          null,
          null,
          null,
          null,
          null,
          null,
          null,
          null,
          null,
          null,
          null,
          null,
          null,
          null,
          null,
          null,
          null
         ],
         "type": "scatter",
         "x": [
          1673,
          1717,
          4819,
          4863,
          2157,
          2201,
          2456,
          2500,
          4648,
          4692,
          607,
          651,
          3818,
          3862,
          528,
          572,
          1673,
          1717,
          4819,
          4863,
          2157,
          2201,
          2456,
          2500,
          4648,
          4692,
          607,
          651,
          571,
          615,
          3818,
          3862,
          1673,
          1717,
          4819,
          4863,
          528,
          572,
          650,
          694,
          4648,
          4692,
          2499,
          2543,
          2157,
          2201,
          3775,
          3819,
          1673,
          1717,
          4819,
          4863,
          607,
          651,
          571,
          615,
          4605,
          4649,
          2456,
          2500,
          2114,
          2158,
          3818,
          3862,
          1673,
          1717,
          4819,
          4863,
          650,
          694,
          528,
          572,
          4648,
          4692,
          3775,
          3819,
          2157,
          2201,
          2499,
          2543,
          1673,
          1717,
          4819,
          4863,
          607,
          651,
          571,
          615,
          4605,
          4649,
          3818,
          3862,
          2456,
          2500,
          2114,
          2158,
          1673,
          1717,
          4819,
          4863,
          650,
          694,
          528,
          572,
          4648,
          4692,
          3775,
          3819,
          2157,
          2201,
          2499,
          2543,
          1673,
          1717,
          4819,
          4863,
          607,
          651,
          2456,
          2500,
          2114,
          2158,
          3818,
          3862,
          4605,
          4649,
          571,
          615,
          2499,
          2543,
          650,
          694,
          4862,
          4906,
          1673,
          1717,
          2157,
          2201,
          3775,
          3819,
          4648,
          4692,
          528,
          572,
          2456,
          2500,
          607,
          651,
          4819,
          4863,
          1630,
          1674,
          2114,
          2158,
          4605,
          4649,
          3818,
          3862,
          571,
          615
         ],
         "y": [
          1,
          1,
          1,
          1,
          1,
          1,
          1,
          1,
          1,
          1,
          1,
          1,
          1,
          1,
          1,
          1,
          1,
          1,
          1,
          1,
          1,
          1,
          1,
          1,
          1,
          1,
          1,
          1,
          1,
          1,
          1,
          1,
          1,
          1,
          1,
          1,
          1,
          1,
          1,
          1,
          1,
          1,
          1,
          1,
          1,
          1,
          1,
          1,
          1,
          1,
          1,
          1,
          1,
          1,
          1,
          1,
          1,
          1,
          1,
          1,
          1,
          1,
          1,
          1,
          1,
          1,
          1,
          1,
          1,
          1,
          1,
          1,
          1,
          1,
          1,
          1,
          1,
          1,
          1,
          1,
          1,
          1,
          1,
          1,
          1,
          1,
          1,
          1,
          1,
          1,
          1,
          1,
          1,
          1,
          1,
          1,
          1,
          1,
          1,
          1,
          1,
          1,
          1,
          1,
          1,
          1,
          1,
          1,
          1,
          1,
          1,
          1,
          1,
          1,
          1,
          1,
          1,
          1,
          1,
          1,
          1,
          1,
          1,
          1,
          1,
          1,
          1,
          1,
          1,
          1,
          1,
          1,
          1,
          1,
          1,
          1,
          1,
          1,
          1,
          1,
          1,
          1,
          1,
          1,
          1,
          1,
          1,
          1,
          1,
          1,
          1,
          1,
          1,
          1,
          1,
          1,
          1,
          1,
          1,
          1
         ]
        },
        {
         "legendgroup": "rgb(182, 136, 214)",
         "marker": {
          "color": "rgb(182, 136, 214)",
          "opacity": 0,
          "size": 1
         },
         "mode": "markers",
         "name": "",
         "showlegend": false,
         "text": [
          null,
          null,
          null,
          null,
          null,
          null,
          null,
          null,
          null,
          null,
          null,
          null,
          null,
          null,
          null,
          null,
          null,
          null,
          null,
          null,
          null,
          null,
          null,
          null,
          null,
          null,
          null,
          null,
          null,
          null,
          null,
          null,
          null,
          null,
          null,
          null,
          null,
          null,
          null,
          null,
          null,
          null,
          null,
          null,
          null,
          null,
          null,
          null,
          null,
          null,
          null,
          null,
          null,
          null,
          null,
          null,
          null,
          null,
          null,
          null,
          null,
          null,
          null,
          null,
          null,
          null,
          null,
          null,
          null,
          null,
          null,
          null,
          null,
          null,
          null,
          null,
          null,
          null,
          null,
          null,
          null,
          null,
          null,
          null,
          null,
          null,
          null,
          null,
          null,
          null,
          null,
          null,
          null,
          null,
          null,
          null,
          null,
          null,
          null,
          null,
          null,
          null,
          null,
          null,
          null,
          null,
          null,
          null,
          null,
          null,
          null,
          null,
          null,
          null,
          null,
          null,
          null,
          null,
          null,
          null,
          null,
          null,
          null,
          null,
          null,
          null,
          null,
          null,
          null,
          null,
          null,
          null,
          null,
          null,
          null,
          null,
          null,
          null,
          null,
          null,
          null,
          null,
          null,
          null,
          null,
          null,
          null,
          null,
          null,
          null,
          null,
          null,
          null,
          null,
          null,
          null,
          null,
          null,
          null,
          null
         ],
         "type": "scatter",
         "x": [
          1620,
          1673,
          4863,
          4916,
          2104,
          2157,
          2500,
          2553,
          4595,
          4648,
          651,
          704,
          3765,
          3818,
          572,
          625,
          1620,
          1673,
          4863,
          4916,
          2104,
          2157,
          2500,
          2553,
          4595,
          4648,
          651,
          704,
          518,
          571,
          3765,
          3818,
          1620,
          1673,
          4863,
          4916,
          572,
          625,
          597,
          650,
          4595,
          4648,
          2446,
          2499,
          2104,
          2157,
          3819,
          3872,
          1620,
          1673,
          4863,
          4916,
          651,
          704,
          518,
          571,
          4649,
          4702,
          2500,
          2553,
          2158,
          2211,
          3765,
          3818,
          1620,
          1673,
          4863,
          4916,
          597,
          650,
          572,
          625,
          4595,
          4648,
          3819,
          3872,
          2104,
          2157,
          2446,
          2499,
          1620,
          1673,
          4863,
          4916,
          651,
          704,
          518,
          571,
          4649,
          4702,
          3765,
          3818,
          2500,
          2553,
          2158,
          2211,
          1620,
          1673,
          4863,
          4916,
          597,
          650,
          572,
          625,
          4595,
          4648,
          3819,
          3872,
          2104,
          2157,
          2446,
          2499,
          1620,
          1673,
          4863,
          4916,
          651,
          704,
          2500,
          2553,
          2158,
          2211,
          3765,
          3818,
          4649,
          4702,
          518,
          571,
          2446,
          2499,
          597,
          650,
          4809,
          4862,
          1620,
          1673,
          2104,
          2157,
          3819,
          3872,
          4595,
          4648,
          572,
          625,
          2500,
          2553,
          651,
          704,
          4863,
          4916,
          1674,
          1727,
          2158,
          2211,
          4649,
          4702,
          3765,
          3818,
          518,
          571
         ],
         "y": [
          1,
          1,
          1,
          1,
          1,
          1,
          1,
          1,
          1,
          1,
          1,
          1,
          1,
          1,
          1,
          1,
          1,
          1,
          1,
          1,
          1,
          1,
          1,
          1,
          1,
          1,
          1,
          1,
          1,
          1,
          1,
          1,
          1,
          1,
          1,
          1,
          1,
          1,
          1,
          1,
          1,
          1,
          1,
          1,
          1,
          1,
          1,
          1,
          1,
          1,
          1,
          1,
          1,
          1,
          1,
          1,
          1,
          1,
          1,
          1,
          1,
          1,
          1,
          1,
          1,
          1,
          1,
          1,
          1,
          1,
          1,
          1,
          1,
          1,
          1,
          1,
          1,
          1,
          1,
          1,
          1,
          1,
          1,
          1,
          1,
          1,
          1,
          1,
          1,
          1,
          1,
          1,
          1,
          1,
          1,
          1,
          1,
          1,
          1,
          1,
          1,
          1,
          1,
          1,
          1,
          1,
          1,
          1,
          1,
          1,
          1,
          1,
          1,
          1,
          1,
          1,
          1,
          1,
          1,
          1,
          1,
          1,
          1,
          1,
          1,
          1,
          1,
          1,
          1,
          1,
          1,
          1,
          1,
          1,
          1,
          1,
          1,
          1,
          1,
          1,
          1,
          1,
          1,
          1,
          1,
          1,
          1,
          1,
          1,
          1,
          1,
          1,
          1,
          1,
          1,
          1,
          1,
          1,
          1,
          1
         ]
        },
        {
         "legendgroup": "rgb(207, 161, 239)",
         "marker": {
          "color": "rgb(207, 161, 239)",
          "opacity": 0,
          "size": 1
         },
         "mode": "markers",
         "name": "",
         "showlegend": false,
         "text": [
          null,
          null,
          null,
          null,
          null,
          null,
          null,
          null,
          null,
          null,
          null,
          null,
          null,
          null,
          null,
          null,
          null,
          null,
          null,
          null,
          null,
          null,
          null,
          null,
          null,
          null,
          null,
          null,
          null,
          null,
          null,
          null,
          null,
          null,
          null,
          null,
          null,
          null,
          null,
          null,
          null,
          null,
          null,
          null,
          null,
          null,
          null,
          null,
          null,
          null,
          null,
          null,
          null,
          null,
          null,
          null,
          null,
          null,
          null,
          null,
          null,
          null,
          null,
          null,
          null,
          null,
          null,
          null,
          null,
          null,
          null,
          null,
          null,
          null,
          null,
          null,
          null,
          null,
          null,
          null,
          null,
          null,
          null,
          null,
          null,
          null,
          null,
          null,
          null,
          null,
          null,
          null,
          null,
          null,
          null,
          null,
          null,
          null,
          null,
          null,
          null,
          null,
          null,
          null,
          null,
          null,
          null,
          null,
          null,
          null,
          null,
          null,
          null,
          null,
          null,
          null,
          null,
          null,
          null,
          null,
          null,
          null,
          null,
          null,
          null,
          null,
          null,
          null,
          null,
          null,
          null,
          null,
          null,
          null,
          null,
          null,
          null,
          null,
          null,
          null,
          null,
          null,
          null,
          null,
          null,
          null,
          null,
          null,
          null,
          null,
          null,
          null,
          null,
          null,
          null,
          null,
          null,
          null,
          null,
          null
         ],
         "type": "scatter",
         "x": [
          1557,
          1620,
          4916,
          4979,
          2041,
          2104,
          2553,
          2616,
          4532,
          4595,
          704,
          767,
          3702,
          3765,
          625,
          688,
          1557,
          1620,
          4916,
          4979,
          2041,
          2104,
          2553,
          2616,
          4532,
          4595,
          704,
          767,
          455,
          518,
          3702,
          3765,
          1557,
          1620,
          4916,
          4979,
          625,
          688,
          534,
          597,
          4532,
          4595,
          2383,
          2446,
          2041,
          2104,
          3872,
          3935,
          1557,
          1620,
          4916,
          4979,
          704,
          767,
          455,
          518,
          4702,
          4765,
          2553,
          2616,
          2211,
          2274,
          3702,
          3765,
          1557,
          1620,
          4916,
          4979,
          534,
          597,
          625,
          688,
          4532,
          4595,
          3872,
          3935,
          2041,
          2104,
          2383,
          2446,
          1557,
          1620,
          4916,
          4979,
          704,
          767,
          455,
          518,
          4702,
          4765,
          3702,
          3765,
          2553,
          2616,
          2211,
          2274,
          1557,
          1620,
          4916,
          4979,
          534,
          597,
          625,
          688,
          4532,
          4595,
          3872,
          3935,
          2041,
          2104,
          2383,
          2446,
          1557,
          1620,
          4916,
          4979,
          704,
          767,
          2553,
          2616,
          2211,
          2274,
          3702,
          3765,
          4702,
          4765,
          455,
          518,
          2383,
          2446,
          534,
          597,
          4746,
          4809,
          1557,
          1620,
          2041,
          2104,
          3872,
          3935,
          4532,
          4595,
          625,
          688,
          2553,
          2616,
          704,
          767,
          4916,
          4979,
          1727,
          1790,
          2211,
          2274,
          4702,
          4765,
          3702,
          3765,
          455,
          518
         ],
         "y": [
          1,
          1,
          1,
          1,
          1,
          1,
          1,
          1,
          1,
          1,
          1,
          1,
          1,
          1,
          1,
          1,
          1,
          1,
          1,
          1,
          1,
          1,
          1,
          1,
          1,
          1,
          1,
          1,
          1,
          1,
          1,
          1,
          1,
          1,
          1,
          1,
          1,
          1,
          1,
          1,
          1,
          1,
          1,
          1,
          1,
          1,
          1,
          1,
          1,
          1,
          1,
          1,
          1,
          1,
          1,
          1,
          1,
          1,
          1,
          1,
          1,
          1,
          1,
          1,
          1,
          1,
          1,
          1,
          1,
          1,
          1,
          1,
          1,
          1,
          1,
          1,
          1,
          1,
          1,
          1,
          1,
          1,
          1,
          1,
          1,
          1,
          1,
          1,
          1,
          1,
          1,
          1,
          1,
          1,
          1,
          1,
          1,
          1,
          1,
          1,
          1,
          1,
          1,
          1,
          1,
          1,
          1,
          1,
          1,
          1,
          1,
          1,
          1,
          1,
          1,
          1,
          1,
          1,
          1,
          1,
          1,
          1,
          1,
          1,
          1,
          1,
          1,
          1,
          1,
          1,
          1,
          1,
          1,
          1,
          1,
          1,
          1,
          1,
          1,
          1,
          1,
          1,
          1,
          1,
          1,
          1,
          1,
          1,
          1,
          1,
          1,
          1,
          1,
          1,
          1,
          1,
          1,
          1,
          1,
          1
         ]
        },
        {
         "legendgroup": "rgb(232, 186, 8)",
         "marker": {
          "color": "rgb(232, 186, 8)",
          "opacity": 0,
          "size": 1
         },
         "mode": "markers",
         "name": "",
         "showlegend": false,
         "text": [
          null,
          null,
          null,
          null,
          null,
          null,
          null,
          null,
          null,
          null,
          null,
          null,
          null,
          null,
          null,
          null,
          null,
          null,
          null,
          null,
          null,
          null,
          null,
          null,
          null,
          null,
          null,
          null,
          null,
          null,
          null,
          null,
          null,
          null,
          null,
          null,
          null,
          null,
          null,
          null
         ],
         "type": "scatter",
         "x": [
          144,
          219,
          1682,
          1757,
          144,
          219,
          1682,
          1757,
          144,
          219,
          1682,
          1757,
          144,
          219,
          1682,
          1757,
          144,
          219,
          1682,
          1757,
          144,
          219,
          1682,
          1757,
          144,
          219,
          1682,
          1757,
          144,
          219,
          1682,
          1757,
          144,
          219,
          1682,
          1757,
          144,
          219,
          1682,
          1757
         ],
         "y": [
          0,
          0,
          0,
          0,
          0,
          0,
          0,
          0,
          0,
          0,
          0,
          0,
          0,
          0,
          0,
          0,
          0,
          0,
          0,
          0,
          0,
          0,
          0,
          0,
          0,
          0,
          0,
          0,
          0,
          0,
          0,
          0,
          0,
          0,
          0,
          0,
          0,
          0,
          0,
          0
         ]
        },
        {
         "legendgroup": "rgb(26, 236, 58)",
         "marker": {
          "color": "rgb(26, 236, 58)",
          "opacity": 0,
          "size": 1
         },
         "mode": "markers",
         "name": "",
         "showlegend": false,
         "text": [
          null,
          null,
          null,
          null,
          null,
          null,
          null,
          null,
          null,
          null,
          null,
          null,
          null,
          null,
          null,
          null,
          null,
          null,
          null,
          null,
          null,
          null,
          null,
          null,
          null,
          null,
          null,
          null,
          null,
          null,
          null,
          null,
          null,
          null,
          null,
          null,
          null,
          null,
          null,
          null
         ],
         "type": "scatter",
         "x": [
          22,
          57,
          1844,
          1879,
          22,
          57,
          1844,
          1879,
          22,
          57,
          1844,
          1879,
          22,
          57,
          1844,
          1879,
          22,
          57,
          1844,
          1879,
          22,
          57,
          1844,
          1879,
          22,
          57,
          1844,
          1879,
          22,
          57,
          1844,
          1879,
          22,
          57,
          1844,
          1879,
          22,
          57,
          1844,
          1879
         ],
         "y": [
          0,
          0,
          0,
          0,
          0,
          0,
          0,
          0,
          0,
          0,
          0,
          0,
          0,
          0,
          0,
          0,
          0,
          0,
          0,
          0,
          0,
          0,
          0,
          0,
          0,
          0,
          0,
          0,
          0,
          0,
          0,
          0,
          0,
          0,
          0,
          0,
          0,
          0,
          0,
          0
         ]
        },
        {
         "legendgroup": "rgb(51, 5, 83)",
         "marker": {
          "color": "rgb(51, 5, 83)",
          "opacity": 0,
          "size": 1
         },
         "mode": "markers",
         "name": "",
         "showlegend": false,
         "text": [
          null,
          null,
          null,
          null,
          null,
          null,
          null,
          null,
          null,
          null,
          null,
          null,
          null,
          null,
          null,
          null,
          null,
          null,
          null,
          null,
          null,
          null,
          null,
          null,
          null,
          null,
          null,
          null,
          null,
          null,
          null,
          null,
          null,
          null,
          null,
          null,
          null,
          null,
          null,
          null
         ],
         "type": "scatter",
         "x": [
          -21,
          22,
          1879,
          1922,
          -21,
          22,
          1879,
          1922,
          -21,
          22,
          1879,
          1922,
          -21,
          22,
          1879,
          1922,
          -21,
          22,
          1879,
          1922,
          -21,
          22,
          1879,
          1922,
          -21,
          22,
          1879,
          1922,
          -21,
          22,
          1879,
          1922,
          -21,
          22,
          1879,
          1922,
          -21,
          22,
          1879,
          1922
         ],
         "y": [
          0,
          0,
          0,
          0,
          0,
          0,
          0,
          0,
          0,
          0,
          0,
          0,
          0,
          0,
          0,
          0,
          0,
          0,
          0,
          0,
          0,
          0,
          0,
          0,
          0,
          0,
          0,
          0,
          0,
          0,
          0,
          0,
          0,
          0,
          0,
          0,
          0,
          0,
          0,
          0
         ]
        },
        {
         "legendgroup": "rgb(82, 36, 114)",
         "marker": {
          "color": "rgb(82, 36, 114)",
          "opacity": 0,
          "size": 1
         },
         "mode": "markers",
         "name": "",
         "showlegend": false,
         "text": [
          null,
          null,
          null,
          null,
          null,
          null,
          null,
          null,
          null,
          null,
          null,
          null,
          null,
          null,
          null,
          null,
          null,
          null,
          null,
          null,
          null,
          null,
          null,
          null,
          null,
          null,
          null,
          null,
          null,
          null,
          null,
          null,
          null,
          null,
          null,
          null,
          null,
          null,
          null,
          null
         ],
         "type": "scatter",
         "x": [
          302,
          397,
          1504,
          1599,
          302,
          397,
          1504,
          1599,
          302,
          397,
          1504,
          1599,
          302,
          397,
          1504,
          1599,
          302,
          397,
          1504,
          1599,
          302,
          397,
          1504,
          1599,
          302,
          397,
          1504,
          1599,
          302,
          397,
          1504,
          1599,
          302,
          397,
          1504,
          1599,
          302,
          397,
          1504,
          1599
         ],
         "y": [
          1,
          1,
          1,
          1,
          1,
          1,
          1,
          1,
          1,
          1,
          1,
          1,
          1,
          1,
          1,
          1,
          1,
          1,
          1,
          1,
          1,
          1,
          1,
          1,
          1,
          1,
          1,
          1,
          1,
          1,
          1,
          1,
          1,
          1,
          1,
          1,
          1,
          1,
          1,
          1
         ]
        }
       ],
       "layout": {
        "height": 600,
        "hovermode": "closest",
        "showlegend": true,
        "template": {
         "data": {
          "bar": [
           {
            "error_x": {
             "color": "#2a3f5f"
            },
            "error_y": {
             "color": "#2a3f5f"
            },
            "marker": {
             "line": {
              "color": "#E5ECF6",
              "width": 0.5
             },
             "pattern": {
              "fillmode": "overlay",
              "size": 10,
              "solidity": 0.2
             }
            },
            "type": "bar"
           }
          ],
          "barpolar": [
           {
            "marker": {
             "line": {
              "color": "#E5ECF6",
              "width": 0.5
             },
             "pattern": {
              "fillmode": "overlay",
              "size": 10,
              "solidity": 0.2
             }
            },
            "type": "barpolar"
           }
          ],
          "carpet": [
           {
            "aaxis": {
             "endlinecolor": "#2a3f5f",
             "gridcolor": "white",
             "linecolor": "white",
             "minorgridcolor": "white",
             "startlinecolor": "#2a3f5f"
            },
            "baxis": {
             "endlinecolor": "#2a3f5f",
             "gridcolor": "white",
             "linecolor": "white",
             "minorgridcolor": "white",
             "startlinecolor": "#2a3f5f"
            },
            "type": "carpet"
           }
          ],
          "choropleth": [
           {
            "colorbar": {
             "outlinewidth": 0,
             "ticks": ""
            },
            "type": "choropleth"
           }
          ],
          "contour": [
           {
            "colorbar": {
             "outlinewidth": 0,
             "ticks": ""
            },
            "colorscale": [
             [
              0,
              "#0d0887"
             ],
             [
              0.1111111111111111,
              "#46039f"
             ],
             [
              0.2222222222222222,
              "#7201a8"
             ],
             [
              0.3333333333333333,
              "#9c179e"
             ],
             [
              0.4444444444444444,
              "#bd3786"
             ],
             [
              0.5555555555555556,
              "#d8576b"
             ],
             [
              0.6666666666666666,
              "#ed7953"
             ],
             [
              0.7777777777777778,
              "#fb9f3a"
             ],
             [
              0.8888888888888888,
              "#fdca26"
             ],
             [
              1,
              "#f0f921"
             ]
            ],
            "type": "contour"
           }
          ],
          "contourcarpet": [
           {
            "colorbar": {
             "outlinewidth": 0,
             "ticks": ""
            },
            "type": "contourcarpet"
           }
          ],
          "heatmap": [
           {
            "colorbar": {
             "outlinewidth": 0,
             "ticks": ""
            },
            "colorscale": [
             [
              0,
              "#0d0887"
             ],
             [
              0.1111111111111111,
              "#46039f"
             ],
             [
              0.2222222222222222,
              "#7201a8"
             ],
             [
              0.3333333333333333,
              "#9c179e"
             ],
             [
              0.4444444444444444,
              "#bd3786"
             ],
             [
              0.5555555555555556,
              "#d8576b"
             ],
             [
              0.6666666666666666,
              "#ed7953"
             ],
             [
              0.7777777777777778,
              "#fb9f3a"
             ],
             [
              0.8888888888888888,
              "#fdca26"
             ],
             [
              1,
              "#f0f921"
             ]
            ],
            "type": "heatmap"
           }
          ],
          "heatmapgl": [
           {
            "colorbar": {
             "outlinewidth": 0,
             "ticks": ""
            },
            "colorscale": [
             [
              0,
              "#0d0887"
             ],
             [
              0.1111111111111111,
              "#46039f"
             ],
             [
              0.2222222222222222,
              "#7201a8"
             ],
             [
              0.3333333333333333,
              "#9c179e"
             ],
             [
              0.4444444444444444,
              "#bd3786"
             ],
             [
              0.5555555555555556,
              "#d8576b"
             ],
             [
              0.6666666666666666,
              "#ed7953"
             ],
             [
              0.7777777777777778,
              "#fb9f3a"
             ],
             [
              0.8888888888888888,
              "#fdca26"
             ],
             [
              1,
              "#f0f921"
             ]
            ],
            "type": "heatmapgl"
           }
          ],
          "histogram": [
           {
            "marker": {
             "pattern": {
              "fillmode": "overlay",
              "size": 10,
              "solidity": 0.2
             }
            },
            "type": "histogram"
           }
          ],
          "histogram2d": [
           {
            "colorbar": {
             "outlinewidth": 0,
             "ticks": ""
            },
            "colorscale": [
             [
              0,
              "#0d0887"
             ],
             [
              0.1111111111111111,
              "#46039f"
             ],
             [
              0.2222222222222222,
              "#7201a8"
             ],
             [
              0.3333333333333333,
              "#9c179e"
             ],
             [
              0.4444444444444444,
              "#bd3786"
             ],
             [
              0.5555555555555556,
              "#d8576b"
             ],
             [
              0.6666666666666666,
              "#ed7953"
             ],
             [
              0.7777777777777778,
              "#fb9f3a"
             ],
             [
              0.8888888888888888,
              "#fdca26"
             ],
             [
              1,
              "#f0f921"
             ]
            ],
            "type": "histogram2d"
           }
          ],
          "histogram2dcontour": [
           {
            "colorbar": {
             "outlinewidth": 0,
             "ticks": ""
            },
            "colorscale": [
             [
              0,
              "#0d0887"
             ],
             [
              0.1111111111111111,
              "#46039f"
             ],
             [
              0.2222222222222222,
              "#7201a8"
             ],
             [
              0.3333333333333333,
              "#9c179e"
             ],
             [
              0.4444444444444444,
              "#bd3786"
             ],
             [
              0.5555555555555556,
              "#d8576b"
             ],
             [
              0.6666666666666666,
              "#ed7953"
             ],
             [
              0.7777777777777778,
              "#fb9f3a"
             ],
             [
              0.8888888888888888,
              "#fdca26"
             ],
             [
              1,
              "#f0f921"
             ]
            ],
            "type": "histogram2dcontour"
           }
          ],
          "mesh3d": [
           {
            "colorbar": {
             "outlinewidth": 0,
             "ticks": ""
            },
            "type": "mesh3d"
           }
          ],
          "parcoords": [
           {
            "line": {
             "colorbar": {
              "outlinewidth": 0,
              "ticks": ""
             }
            },
            "type": "parcoords"
           }
          ],
          "pie": [
           {
            "automargin": true,
            "type": "pie"
           }
          ],
          "scatter": [
           {
            "marker": {
             "colorbar": {
              "outlinewidth": 0,
              "ticks": ""
             }
            },
            "type": "scatter"
           }
          ],
          "scatter3d": [
           {
            "line": {
             "colorbar": {
              "outlinewidth": 0,
              "ticks": ""
             }
            },
            "marker": {
             "colorbar": {
              "outlinewidth": 0,
              "ticks": ""
             }
            },
            "type": "scatter3d"
           }
          ],
          "scattercarpet": [
           {
            "marker": {
             "colorbar": {
              "outlinewidth": 0,
              "ticks": ""
             }
            },
            "type": "scattercarpet"
           }
          ],
          "scattergeo": [
           {
            "marker": {
             "colorbar": {
              "outlinewidth": 0,
              "ticks": ""
             }
            },
            "type": "scattergeo"
           }
          ],
          "scattergl": [
           {
            "marker": {
             "colorbar": {
              "outlinewidth": 0,
              "ticks": ""
             }
            },
            "type": "scattergl"
           }
          ],
          "scattermapbox": [
           {
            "marker": {
             "colorbar": {
              "outlinewidth": 0,
              "ticks": ""
             }
            },
            "type": "scattermapbox"
           }
          ],
          "scatterpolar": [
           {
            "marker": {
             "colorbar": {
              "outlinewidth": 0,
              "ticks": ""
             }
            },
            "type": "scatterpolar"
           }
          ],
          "scatterpolargl": [
           {
            "marker": {
             "colorbar": {
              "outlinewidth": 0,
              "ticks": ""
             }
            },
            "type": "scatterpolargl"
           }
          ],
          "scatterternary": [
           {
            "marker": {
             "colorbar": {
              "outlinewidth": 0,
              "ticks": ""
             }
            },
            "type": "scatterternary"
           }
          ],
          "surface": [
           {
            "colorbar": {
             "outlinewidth": 0,
             "ticks": ""
            },
            "colorscale": [
             [
              0,
              "#0d0887"
             ],
             [
              0.1111111111111111,
              "#46039f"
             ],
             [
              0.2222222222222222,
              "#7201a8"
             ],
             [
              0.3333333333333333,
              "#9c179e"
             ],
             [
              0.4444444444444444,
              "#bd3786"
             ],
             [
              0.5555555555555556,
              "#d8576b"
             ],
             [
              0.6666666666666666,
              "#ed7953"
             ],
             [
              0.7777777777777778,
              "#fb9f3a"
             ],
             [
              0.8888888888888888,
              "#fdca26"
             ],
             [
              1,
              "#f0f921"
             ]
            ],
            "type": "surface"
           }
          ],
          "table": [
           {
            "cells": {
             "fill": {
              "color": "#EBF0F8"
             },
             "line": {
              "color": "white"
             }
            },
            "header": {
             "fill": {
              "color": "#C8D4E3"
             },
             "line": {
              "color": "white"
             }
            },
            "type": "table"
           }
          ]
         },
         "layout": {
          "annotationdefaults": {
           "arrowcolor": "#2a3f5f",
           "arrowhead": 0,
           "arrowwidth": 1
          },
          "autotypenumbers": "strict",
          "coloraxis": {
           "colorbar": {
            "outlinewidth": 0,
            "ticks": ""
           }
          },
          "colorscale": {
           "diverging": [
            [
             0,
             "#8e0152"
            ],
            [
             0.1,
             "#c51b7d"
            ],
            [
             0.2,
             "#de77ae"
            ],
            [
             0.3,
             "#f1b6da"
            ],
            [
             0.4,
             "#fde0ef"
            ],
            [
             0.5,
             "#f7f7f7"
            ],
            [
             0.6,
             "#e6f5d0"
            ],
            [
             0.7,
             "#b8e186"
            ],
            [
             0.8,
             "#7fbc41"
            ],
            [
             0.9,
             "#4d9221"
            ],
            [
             1,
             "#276419"
            ]
           ],
           "sequential": [
            [
             0,
             "#0d0887"
            ],
            [
             0.1111111111111111,
             "#46039f"
            ],
            [
             0.2222222222222222,
             "#7201a8"
            ],
            [
             0.3333333333333333,
             "#9c179e"
            ],
            [
             0.4444444444444444,
             "#bd3786"
            ],
            [
             0.5555555555555556,
             "#d8576b"
            ],
            [
             0.6666666666666666,
             "#ed7953"
            ],
            [
             0.7777777777777778,
             "#fb9f3a"
            ],
            [
             0.8888888888888888,
             "#fdca26"
            ],
            [
             1,
             "#f0f921"
            ]
           ],
           "sequentialminus": [
            [
             0,
             "#0d0887"
            ],
            [
             0.1111111111111111,
             "#46039f"
            ],
            [
             0.2222222222222222,
             "#7201a8"
            ],
            [
             0.3333333333333333,
             "#9c179e"
            ],
            [
             0.4444444444444444,
             "#bd3786"
            ],
            [
             0.5555555555555556,
             "#d8576b"
            ],
            [
             0.6666666666666666,
             "#ed7953"
            ],
            [
             0.7777777777777778,
             "#fb9f3a"
            ],
            [
             0.8888888888888888,
             "#fdca26"
            ],
            [
             1,
             "#f0f921"
            ]
           ]
          },
          "colorway": [
           "#636efa",
           "#EF553B",
           "#00cc96",
           "#ab63fa",
           "#FFA15A",
           "#19d3f3",
           "#FF6692",
           "#B6E880",
           "#FF97FF",
           "#FECB52"
          ],
          "font": {
           "color": "#2a3f5f"
          },
          "geo": {
           "bgcolor": "white",
           "lakecolor": "white",
           "landcolor": "#E5ECF6",
           "showlakes": true,
           "showland": true,
           "subunitcolor": "white"
          },
          "hoverlabel": {
           "align": "left"
          },
          "hovermode": "closest",
          "mapbox": {
           "style": "light"
          },
          "paper_bgcolor": "white",
          "plot_bgcolor": "#E5ECF6",
          "polar": {
           "angularaxis": {
            "gridcolor": "white",
            "linecolor": "white",
            "ticks": ""
           },
           "bgcolor": "#E5ECF6",
           "radialaxis": {
            "gridcolor": "white",
            "linecolor": "white",
            "ticks": ""
           }
          },
          "scene": {
           "xaxis": {
            "backgroundcolor": "#E5ECF6",
            "gridcolor": "white",
            "gridwidth": 2,
            "linecolor": "white",
            "showbackground": true,
            "ticks": "",
            "zerolinecolor": "white"
           },
           "yaxis": {
            "backgroundcolor": "#E5ECF6",
            "gridcolor": "white",
            "gridwidth": 2,
            "linecolor": "white",
            "showbackground": true,
            "ticks": "",
            "zerolinecolor": "white"
           },
           "zaxis": {
            "backgroundcolor": "#E5ECF6",
            "gridcolor": "white",
            "gridwidth": 2,
            "linecolor": "white",
            "showbackground": true,
            "ticks": "",
            "zerolinecolor": "white"
           }
          },
          "shapedefaults": {
           "line": {
            "color": "#2a3f5f"
           }
          },
          "ternary": {
           "aaxis": {
            "gridcolor": "white",
            "linecolor": "white",
            "ticks": ""
           },
           "baxis": {
            "gridcolor": "white",
            "linecolor": "white",
            "ticks": ""
           },
           "bgcolor": "#E5ECF6",
           "caxis": {
            "gridcolor": "white",
            "linecolor": "white",
            "ticks": ""
           }
          },
          "title": {
           "x": 0.05
          },
          "xaxis": {
           "automargin": true,
           "gridcolor": "white",
           "linecolor": "white",
           "ticks": "",
           "title": {
            "standoff": 15
           },
           "zerolinecolor": "white",
           "zerolinewidth": 2
          },
          "yaxis": {
           "automargin": true,
           "gridcolor": "white",
           "linecolor": "white",
           "ticks": "",
           "title": {
            "standoff": 15
           },
           "zerolinecolor": "white",
           "zerolinewidth": 2
          }
         }
        },
        "title": {
         "text": "Gantt Chart"
        },
        "xaxis": {
         "rangeselector": {
          "buttons": [
           {
            "count": 7,
            "label": "1w",
            "step": "day",
            "stepmode": "backward"
           },
           {
            "count": 1,
            "label": "1m",
            "step": "month",
            "stepmode": "backward"
           },
           {
            "count": 6,
            "label": "6m",
            "step": "month",
            "stepmode": "backward"
           },
           {
            "count": 1,
            "label": "YTD",
            "step": "year",
            "stepmode": "todate"
           },
           {
            "count": 1,
            "label": "1y",
            "step": "year",
            "stepmode": "backward"
           },
           {
            "step": "all"
           }
          ]
         },
         "showgrid": false,
         "type": "date",
         "zeroline": false
        },
        "yaxis": {
         "autorange": false,
         "range": [
          -1,
          3
         ],
         "showgrid": false,
         "ticktext": [
          "machine#1",
          "machine#2"
         ],
         "tickvals": [
          0,
          1
         ],
         "zeroline": false
        }
       }
      }
     },
     "metadata": {},
     "output_type": "display_data"
    }
   ],
   "source": [
    "def change_order(orders):\n",
    "    p1 = random.randint(0, len(orders) -2)\n",
    "    p2 = random.randint(p1, len(orders) -1)\n",
    "    selected = copy.deepcopy(orders[p1 : p2 +1])\n",
    "    selected.reverse()\n",
    "    for i in range(len(selected)):\n",
    "        orders[p1 + i] = copy.deepcopy(selected[i])\n",
    "\n",
    "agent = GreedyAgent(env)\n",
    "simulator = AgentSimulator()\n",
    "n_generations = 10\n",
    "best = None\n",
    "sequence = copy.deepcopy(orders_model)\n",
    "for gen in range(n_generations):\n",
    "    simulator = AgentSimulator()\n",
    "    schedule, schedule_count = simulator.simulate(agent, sequence)\n",
    "    if not best or best[1] < schedule_count:\n",
    "        best = [schedule, schedule_count, copy.deepcopy(sequence)]\n",
    "    change_order(sequence)\n",
    "print(f'Scheduled {best[1]}/{len(best[2])} Orders')\n",
    "visualize_schedule(best[0], env)\n",
    "\n"
   ]
  },
  {
   "cell_type": "markdown",
   "metadata": {},
   "source": [
    "Greedy with order sequence optimization"
   ]
  },
  {
   "cell_type": "code",
   "execution_count": 11,
   "metadata": {},
   "outputs": [
    {
     "name": "stdout",
     "output_type": "stream",
     "text": [
      "Current generation: 0, Current Best: 10, not feasible\n",
      "Found first feasible solution!\n",
      "Current generation: 1, Current Best: 10\n",
      "Current generation: 2, Current Best: 10\n",
      "Current generation: 3, Current Best: 10\n",
      "Current generation: 4, Current Best: 10\n",
      "Current generation: 5, Current Best: 10\n",
      "Current generation: 6, Current Best: 10\n",
      "Current generation: 7, Current Best: 10\n",
      "Current generation: 8, Current Best: 10\n",
      "Current generation: 9, Current Best: 10\n",
      "Current generation: 10, Current Best: 10\n",
      "Current generation: 11, Current Best: 10\n",
      "Current generation: 12, Current Best: 10\n",
      "Current generation: 13, Current Best: 10\n",
      "Current generation: 14, Current Best: 10\n",
      "Current generation: 15, Current Best: 10\n",
      "Current generation: 16, Current Best: 10\n",
      "Current generation: 17, Current Best: 10\n",
      "Current generation: 18, Current Best: 10\n",
      "Current generation: 19, Current Best: 10\n",
      "Scheduled 10/10 Orders\n"
     ]
    }
   ],
   "source": [
    "agent = GreedyAgent(env)\n",
    "simulator = AgentSimulator()\n",
    "sequence = copy.deepcopy(orders_model)\n",
    "optimizer = SimpleAgentGA(env, agent, simulator)\n",
    "optimizer.configure('ordercount', 'nocrossover', 'roulettewheel', 'orderchange', 'agent') # change individual type\n",
    "optimizer.evaluation_method.set_simulator(simulator)\n",
    "optimizer.evaluation_method.set_agent(agent)\n",
    "optimizer.set_maximize()\n",
    "optimizer.set_sequence(sequence)\n",
    "result, best_fitness_history, average_fitness_history, best_generation_history, feasible_gen = optimizer.optimize(orders, max_generations, earliest_time_slot, last_time_slot, population_size, offspring_amount, verbose=True)\n",
    "schedule, schedule_count = simulator.simulate(agent, result.genes)\n",
    "print(f'Scheduled {schedule_count}/{len(orders_model)} Orders')\n",
    "# for some reason visualization is very slow on this one\n",
    "#visualize_schedule(schedule, env)\n",
    "#fitness_history_plot(best_fitness_history, average_fitness_history, feasible_gen, best_generation_history)"
   ]
  }
 ],
 "metadata": {
  "interpreter": {
   "hash": "df6f155d44bb1edce679adfdb5f7e6a78d2967f573664c6ef3414f6d6412dec1"
  },
  "kernelspec": {
   "display_name": "Python 3.9.5 64-bit",
   "language": "python",
   "name": "python3"
  },
  "language_info": {
   "codemirror_mode": {
    "name": "ipython",
    "version": 3
   },
   "file_extension": ".py",
   "mimetype": "text/x-python",
   "name": "python",
   "nbconvert_exporter": "python",
   "pygments_lexer": "ipython3",
   "version": "3.9.5"
  },
  "orig_nbformat": 4
 },
 "nbformat": 4,
 "nbformat_minor": 2
}
