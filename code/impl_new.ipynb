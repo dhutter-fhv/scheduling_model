{
 "cells": [
  {
   "cell_type": "code",
   "execution_count": 2,
   "metadata": {},
   "outputs": [],
   "source": [
    "import numpy as np\n",
    "import pygad\n",
    "import random\n",
    "from hybrid_solution_data_loader import get_data"
   ]
  },
  {
   "cell_type": "code",
   "execution_count": 3,
   "metadata": {},
   "outputs": [],
   "source": [
    "def translate(n_workstatoins, recipes, operation_times):\n",
    "    pass\n",
    "\n",
    "def to_input():\n",
    "    pass"
   ]
  },
  {
   "cell_type": "code",
   "execution_count": 4,
   "metadata": {},
   "outputs": [],
   "source": [
    "n_workstations, recipes, operation_times = get_data(0) # note: every task can be processed on all workstations in this dataset\n",
    "translate(n_workstations, recipes, operation_times)\n",
    "to_input()"
   ]
  },
  {
   "cell_type": "code",
   "execution_count": 5,
   "metadata": {},
   "outputs": [],
   "source": [
    "def stage_1(): # GA for feasible solutions\n",
    "    pass"
   ]
  },
  {
   "cell_type": "code",
   "execution_count": 6,
   "metadata": {},
   "outputs": [],
   "source": [
    "def stage_2(): # clustering of GA result population\n",
    "    pass"
   ]
  },
  {
   "cell_type": "code",
   "execution_count": 7,
   "metadata": {},
   "outputs": [],
   "source": [
    "def stage_3(): # tabu search for best solution\n",
    "    pass"
   ]
  },
  {
   "cell_type": "code",
   "execution_count": 8,
   "metadata": {},
   "outputs": [],
   "source": [
    "stage_1()\n",
    "stage_2()\n",
    "stage_3()"
   ]
  }
 ],
 "metadata": {
  "interpreter": {
   "hash": "7f6a1dc8c4280d136ecdbc82017e55b6ce3aee96b85e53655c8afc2236474583"
  },
  "kernelspec": {
   "display_name": "Python 3.10.3 64-bit",
   "language": "python",
   "name": "python3"
  },
  "language_info": {
   "codemirror_mode": {
    "name": "ipython",
    "version": 3
   },
   "file_extension": ".py",
   "mimetype": "text/x-python",
   "name": "python",
   "nbconvert_exporter": "python",
   "pygments_lexer": "ipython3",
   "version": "3.10.3"
  },
  "orig_nbformat": 4
 },
 "nbformat": 4,
 "nbformat_minor": 2
}
