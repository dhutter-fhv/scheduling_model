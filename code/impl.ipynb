{
 "cells": [
  {
   "cell_type": "markdown",
   "metadata": {},
   "source": [
    "Imports"
   ]
  },
  {
   "cell_type": "code",
   "execution_count": 1,
   "metadata": {},
   "outputs": [],
   "source": [
    "# implementation according to https://link.springer.com/content/pdf/10.1007/s40092-017-0204-z.pdf\n",
    "import copy\n",
    "import pygad\n",
    "from hybrid_solution_data_loader import get_data\n",
    "import random\n",
    "import numpy as np"
   ]
  },
  {
   "cell_type": "markdown",
   "metadata": {},
   "source": [
    "Environment Definition"
   ]
  },
  {
   "cell_type": "code",
   "execution_count": 2,
   "metadata": {},
   "outputs": [
    {
     "name": "stdout",
     "output_type": "stream",
     "text": [
      "Worst possible schedule duration: 130\n"
     ]
    }
   ],
   "source": [
    "# NOTE 1: in this dataset, all jobs can be processed on any workstation\n",
    "# NOTE 2: Assuming every recipe is ordered exactly once\n",
    "n_workstations, recipes, operation_times = get_data(0) # 0-3\n",
    "worst_case = 0\n",
    "for operation in operation_times:\n",
    "    max = -float('inf')\n",
    "    for duration in operation:\n",
    "        if duration > max:\n",
    "            max = duration\n",
    "    worst_case += max\n",
    "print(f'Worst possible schedule duration: {worst_case}')\n",
    "last_slot = worst_case"
   ]
  },
  {
   "cell_type": "code",
   "execution_count": 3,
   "metadata": {},
   "outputs": [],
   "source": [
    "def read_data(n_workstations, recipes, operation_times):\n",
    "    # assuming every recipe gets ordered exactly once with this dataset\n",
    "    input_format = [0 for _ in range(len(operation_times) * 2)]\n",
    "    orders = [i for i in range(len(recipes))]\n",
    "    return input_format, orders, None\n",
    "    \n",
    "def translate():\n",
    "    pass"
   ]
  },
  {
   "cell_type": "code",
   "execution_count": 4,
   "metadata": {},
   "outputs": [],
   "source": [
    "input_format, orders, instance = read_data(n_workstations, recipes, operation_times)\n",
    "# skip translation into own format for now\n",
    "#recipes, workstations, resources, tasks, orders_model = translate(instance, orders)\n",
    "#env = SimulationEnvironment(workstations, tasks, resources, recipes)"
   ]
  },
  {
   "cell_type": "markdown",
   "metadata": {},
   "source": [
    "Helper Functions"
   ]
  },
  {
   "cell_type": "code",
   "execution_count": 5,
   "metadata": {},
   "outputs": [],
   "source": [
    "def get_task_for_job(index): # needed?\n",
    "    return 0 # TODO\n",
    "\n",
    "def operation_index_to_recipe(index):\n",
    "    operation_sum = 0\n",
    "    for i in range(len(recipes)):\n",
    "        if operation_sum + recipes[i] > index:\n",
    "            return i\n",
    "        else:\n",
    "            operation_sum += recipes[i]\n",
    "    return -1\n",
    "\n",
    "def similarity(a, b):\n",
    "    # used encoding: <assignments, sequence> \n",
    "    distance = 0\n",
    "    pivot = int(len(a)/2)\n",
    "    for i in range(0, pivot):\n",
    "        if a[i] != b[i]: # workstation assignment\n",
    "            distance += len(n_workstations) # get amount of alternative workstations for the respective job\n",
    "        if a[pivot+i] != b[pivot+i]: # job sequence\n",
    "            distance += 1 \n",
    "    return distance\n",
    "\n",
    "def validate_sequence(individual, order_job_amounts):\n",
    "    counted = copy.deepcopy(order_job_amounts)\n",
    "    for i in range(len(individual)/2, len(individual)):\n",
    "        counted[individual[i]] -= 1\n",
    "    return all(x == 0 for x in counted)\n",
    "\n",
    "def validate_assignments(individual):\n",
    "    return all(individual[i] < n_workstations and individual[i] >= 0 for i in range(len(individual)/2))\n",
    "\n",
    "def construct_schedule(individual):\n",
    "    # for each job:\n",
    "    # check if job is first for it's order\n",
    "    # start_o = 0\n",
    "    # else\n",
    "    # start_o = end of previous job for order\n",
    "    # check if job is first on workstation\n",
    "    # start_w = 0\n",
    "    # else\n",
    "    \"\"\"# check for gaps between previous jobs on workstations (between end of previous job and start_o)\n",
    "    # if any gap is big enough\n",
    "    # start_w = end of job prior to gap\n",
    "    # else\"\"\" # shouldn't be necessary\n",
    "    # start_w = end of previous job on workstation\n",
    "    # set start point as max(start_o, start_w)\n",
    "    pass"
   ]
  },
  {
   "cell_type": "markdown",
   "metadata": {},
   "source": [
    "Step 1 - GA: global exploration to find promising areas in the search space"
   ]
  },
  {
   "cell_type": "code",
   "execution_count": 6,
   "metadata": {},
   "outputs": [],
   "source": [
    "def mutation_function(offsprings, ga_instance):\n",
    "    # randomly choose new alternative workstation for assignments\n",
    "    # randomly switch order for sequence\n",
    "    pass\n",
    "\n",
    "def crossover_function(parents, offspring_size, ga_instance):\n",
    "    # uniform crossover for assignments\n",
    "    parent1 = parents[0].copy()\n",
    "    parent2 = parents[1].copy()\n",
    "    offspring_assignemnts = []\n",
    "    for i in range(len(operation_times)): # assumption that every recipe is ordered exactly once\n",
    "        if random.random() < 0.5:\n",
    "            offspring_assignemnts.append(parent1[i])\n",
    "        else:\n",
    "            offspring_assignemnts.append(parent2[i])\n",
    "    offspring_sequence = []\n",
    "    # iPOX crossover for sequence\n",
    "    for i in range(len(operation_times), 2 * len(operation_times)): # assumption that every recipe is ordered exactly once\n",
    "        pass\n",
    "    # -> select parent\n",
    "    # -> randomly generate 2 job subsets\n",
    "    # -> copy genes belonging to the jobs in the subsets\n",
    "    # -> fill in the gaps in order with the rest\n",
    "    offspring = np.concatenate([offspring_assignemnts, offspring_sequence]) # concats 2 python arrays, returns np array\n",
    "    return offspring\n",
    "\n",
    "def selection_function(fitness, num_parents, ga_instance):\n",
    "    fitness_sorted = sorted(range(len(fitness)), key=lambda k: fitness[k])\n",
    "    fitness_sorted.reverse()\n",
    "\n",
    "    parents = np.empty((num_parents, ga_instance.population.shape[1]))\n",
    "    # for each individual\n",
    "    # FN = sum ( 1 / (c_max(individual) * neighbourhood) )\n",
    "    #\n",
    "    # selection_probability_k = ( 1 / (c_max(individual) * neighbourhood) ) / FN # selection probability for each individual\n",
    "    return parents, fitness_sorted[:num_parents] # replace with actual fitness of chosen parents\n",
    "\n",
    "def c_max(individual):\n",
    "    for i in range(len(individual)/2, len(individual)): # find first and last assignment for each workstation\n",
    "        pass\n",
    "    pass\n",
    "\n",
    "def fitness_function(solution, solution_idx):\n",
    "    if validate_sequence(solution, None) and validate_assignments(solution):\n",
    "        # feasible solution\n",
    "        # 1 / c_max(individual) #\n",
    "        pass\n",
    "    else:\n",
    "        # infeasible solution\n",
    "        pass\n",
    "    pass"
   ]
  },
  {
   "cell_type": "code",
   "execution_count": 9,
   "metadata": {},
   "outputs": [
    {
     "ename": "TypeError",
     "evalue": "object of type 'NoneType' has no len()",
     "output_type": "error",
     "traceback": [
      "\u001b[1;31m---------------------------------------------------------------------------\u001b[0m",
      "\u001b[1;31mTypeError\u001b[0m                                 Traceback (most recent call last)",
      "\u001b[1;32mc:\\Users\\huda\\Documents\\GitHub\\scheduling_model\\code\\impl.ipynb Cell 11'\u001b[0m in \u001b[0;36m<cell line: 30>\u001b[1;34m()\u001b[0m\n\u001b[0;32m     <a href='vscode-notebook-cell:/c%3A/Users/huda/Documents/GitHub/scheduling_model/code/impl.ipynb#ch0000010?line=26'>27</a>\u001b[0m     gene_space\u001b[39m.\u001b[39mappend(\u001b[39mlen\u001b[39m(orders))\n\u001b[0;32m     <a href='vscode-notebook-cell:/c%3A/Users/huda/Documents/GitHub/scheduling_model/code/impl.ipynb#ch0000010?line=28'>29</a>\u001b[0m ga_instance \u001b[39m=\u001b[39m pygad\u001b[39m.\u001b[39mGA(num_generations\u001b[39m=\u001b[39mnum_generations, num_parents_mating\u001b[39m=\u001b[39mnum_parents_mating, fitness_func\u001b[39m=\u001b[39mfitness_func, sol_per_pop\u001b[39m=\u001b[39msol_per_pop, num_genes\u001b[39m=\u001b[39mnum_genes, init_range_low\u001b[39m=\u001b[39minit_range_low, init_range_high\u001b[39m=\u001b[39minit_range_high, parent_selection_type\u001b[39m=\u001b[39mparent_selection_type, keep_parents\u001b[39m=\u001b[39mkeep_parents, crossover_type\u001b[39m=\u001b[39mcrossover_type, mutation_type\u001b[39m=\u001b[39mmutation_type, mutation_percent_genes\u001b[39m=\u001b[39mmutation_percent_genes, gene_type\u001b[39m=\u001b[39mgene_type, gene_space\u001b[39m=\u001b[39mgene_space)\n\u001b[1;32m---> <a href='vscode-notebook-cell:/c%3A/Users/huda/Documents/GitHub/scheduling_model/code/impl.ipynb#ch0000010?line=29'>30</a>\u001b[0m ga_instance\u001b[39m.\u001b[39;49mrun()\n\u001b[0;32m     <a href='vscode-notebook-cell:/c%3A/Users/huda/Documents/GitHub/scheduling_model/code/impl.ipynb#ch0000010?line=30'>31</a>\u001b[0m solution, solution_fitness, solution_idx \u001b[39m=\u001b[39m ga_instance\u001b[39m.\u001b[39mbest_solution()\n\u001b[0;32m     <a href='vscode-notebook-cell:/c%3A/Users/huda/Documents/GitHub/scheduling_model/code/impl.ipynb#ch0000010?line=31'>32</a>\u001b[0m \u001b[39mprint\u001b[39m(\u001b[39m\"\u001b[39m\u001b[39mParameters of the best solution : \u001b[39m\u001b[39m{solution}\u001b[39;00m\u001b[39m\"\u001b[39m\u001b[39m.\u001b[39mformat(solution\u001b[39m=\u001b[39msolution))\n",
      "File \u001b[1;32m~\\AppData\\Local\\Programs\\Python\\Python310\\lib\\site-packages\\pygad\\pygad.py:1192\u001b[0m, in \u001b[0;36mGA.run\u001b[1;34m(self)\u001b[0m\n\u001b[0;32m   <a href='file:///c%3A/Users/huda/AppData/Local/Programs/Python/Python310/lib/site-packages/pygad/pygad.py?line=1188'>1189</a>\u001b[0m stop_run \u001b[39m=\u001b[39m \u001b[39mFalse\u001b[39;00m\n\u001b[0;32m   <a href='file:///c%3A/Users/huda/AppData/Local/Programs/Python/Python310/lib/site-packages/pygad/pygad.py?line=1190'>1191</a>\u001b[0m \u001b[39m# Measuring the fitness of each chromosome in the population. Save the fitness in the last_generation_fitness attribute.\u001b[39;00m\n\u001b[1;32m-> <a href='file:///c%3A/Users/huda/AppData/Local/Programs/Python/Python310/lib/site-packages/pygad/pygad.py?line=1191'>1192</a>\u001b[0m \u001b[39mself\u001b[39m\u001b[39m.\u001b[39mlast_generation_fitness \u001b[39m=\u001b[39m \u001b[39mself\u001b[39;49m\u001b[39m.\u001b[39;49mcal_pop_fitness()\n\u001b[0;32m   <a href='file:///c%3A/Users/huda/AppData/Local/Programs/Python/Python310/lib/site-packages/pygad/pygad.py?line=1193'>1194</a>\u001b[0m best_solution, best_solution_fitness, best_match_idx \u001b[39m=\u001b[39m \u001b[39mself\u001b[39m\u001b[39m.\u001b[39mbest_solution(pop_fitness\u001b[39m=\u001b[39m\u001b[39mself\u001b[39m\u001b[39m.\u001b[39mlast_generation_fitness)\n\u001b[0;32m   <a href='file:///c%3A/Users/huda/AppData/Local/Programs/Python/Python310/lib/site-packages/pygad/pygad.py?line=1195'>1196</a>\u001b[0m \u001b[39m# Appending the best solution in the initial population to the best_solutions list.\u001b[39;00m\n",
      "File \u001b[1;32m~\\AppData\\Local\\Programs\\Python\\Python310\\lib\\site-packages\\pygad\\pygad.py:1159\u001b[0m, in \u001b[0;36mGA.cal_pop_fitness\u001b[1;34m(self)\u001b[0m\n\u001b[0;32m   <a href='file:///c%3A/Users/huda/AppData/Local/Programs/Python/Python310/lib/site-packages/pygad/pygad.py?line=1156'>1157</a>\u001b[0m     fitness \u001b[39m=\u001b[39m \u001b[39mself\u001b[39m\u001b[39m.\u001b[39mprevious_generation_fitness[parent_idx]\n\u001b[0;32m   <a href='file:///c%3A/Users/huda/AppData/Local/Programs/Python/Python310/lib/site-packages/pygad/pygad.py?line=1157'>1158</a>\u001b[0m \u001b[39melse\u001b[39;00m:\n\u001b[1;32m-> <a href='file:///c%3A/Users/huda/AppData/Local/Programs/Python/Python310/lib/site-packages/pygad/pygad.py?line=1158'>1159</a>\u001b[0m     fitness \u001b[39m=\u001b[39m \u001b[39mself\u001b[39;49m\u001b[39m.\u001b[39;49mfitness_func(sol, sol_idx)\n\u001b[0;32m   <a href='file:///c%3A/Users/huda/AppData/Local/Programs/Python/Python310/lib/site-packages/pygad/pygad.py?line=1159'>1160</a>\u001b[0m     \u001b[39mif\u001b[39;00m \u001b[39mtype\u001b[39m(fitness) \u001b[39min\u001b[39;00m GA\u001b[39m.\u001b[39msupported_int_float_types:\n\u001b[0;32m   <a href='file:///c%3A/Users/huda/AppData/Local/Programs/Python/Python310/lib/site-packages/pygad/pygad.py?line=1160'>1161</a>\u001b[0m         \u001b[39mpass\u001b[39;00m\n",
      "\u001b[1;32mc:\\Users\\huda\\Documents\\GitHub\\scheduling_model\\code\\impl.ipynb Cell 10'\u001b[0m in \u001b[0;36mfitness_function\u001b[1;34m(solution, solution_idx)\u001b[0m\n\u001b[0;32m     <a href='vscode-notebook-cell:/c%3A/Users/huda/Documents/GitHub/scheduling_model/code/impl.ipynb#ch0000009?line=42'>43</a>\u001b[0m \u001b[39mdef\u001b[39;00m \u001b[39mfitness_function\u001b[39m(solution, solution_idx):\n\u001b[1;32m---> <a href='vscode-notebook-cell:/c%3A/Users/huda/Documents/GitHub/scheduling_model/code/impl.ipynb#ch0000009?line=43'>44</a>\u001b[0m     \u001b[39mif\u001b[39;00m validate_sequence(\u001b[39mNone\u001b[39;49;00m, \u001b[39mNone\u001b[39;49;00m) \u001b[39mand\u001b[39;00m validate_assignments(\u001b[39mNone\u001b[39;00m, \u001b[39mNone\u001b[39;00m):\n\u001b[0;32m     <a href='vscode-notebook-cell:/c%3A/Users/huda/Documents/GitHub/scheduling_model/code/impl.ipynb#ch0000009?line=44'>45</a>\u001b[0m         \u001b[39m# feasible solution\u001b[39;00m\n\u001b[0;32m     <a href='vscode-notebook-cell:/c%3A/Users/huda/Documents/GitHub/scheduling_model/code/impl.ipynb#ch0000009?line=45'>46</a>\u001b[0m         \u001b[39m# 1 / c_max(individual) #\u001b[39;00m\n\u001b[0;32m     <a href='vscode-notebook-cell:/c%3A/Users/huda/Documents/GitHub/scheduling_model/code/impl.ipynb#ch0000009?line=46'>47</a>\u001b[0m         \u001b[39mpass\u001b[39;00m\n\u001b[0;32m     <a href='vscode-notebook-cell:/c%3A/Users/huda/Documents/GitHub/scheduling_model/code/impl.ipynb#ch0000009?line=47'>48</a>\u001b[0m     \u001b[39melse\u001b[39;00m:\n\u001b[0;32m     <a href='vscode-notebook-cell:/c%3A/Users/huda/Documents/GitHub/scheduling_model/code/impl.ipynb#ch0000009?line=48'>49</a>\u001b[0m         \u001b[39m# infeasible solution\u001b[39;00m\n",
      "\u001b[1;32mc:\\Users\\huda\\Documents\\GitHub\\scheduling_model\\code\\impl.ipynb Cell 8'\u001b[0m in \u001b[0;36mvalidate_sequence\u001b[1;34m(individual, order_job_amounts)\u001b[0m\n\u001b[0;32m     <a href='vscode-notebook-cell:/c%3A/Users/huda/Documents/GitHub/scheduling_model/code/impl.ipynb#ch0000007?line=23'>24</a>\u001b[0m \u001b[39mdef\u001b[39;00m \u001b[39mvalidate_sequence\u001b[39m(individual, order_job_amounts):\n\u001b[0;32m     <a href='vscode-notebook-cell:/c%3A/Users/huda/Documents/GitHub/scheduling_model/code/impl.ipynb#ch0000007?line=24'>25</a>\u001b[0m     counted \u001b[39m=\u001b[39m copy\u001b[39m.\u001b[39mdeepcopy(order_job_amounts)\n\u001b[1;32m---> <a href='vscode-notebook-cell:/c%3A/Users/huda/Documents/GitHub/scheduling_model/code/impl.ipynb#ch0000007?line=25'>26</a>\u001b[0m     \u001b[39mfor\u001b[39;00m i \u001b[39min\u001b[39;00m \u001b[39mrange\u001b[39m(\u001b[39mlen\u001b[39;49m(individual)\u001b[39m/\u001b[39m\u001b[39m2\u001b[39m, \u001b[39mlen\u001b[39m(individual)):\n\u001b[0;32m     <a href='vscode-notebook-cell:/c%3A/Users/huda/Documents/GitHub/scheduling_model/code/impl.ipynb#ch0000007?line=26'>27</a>\u001b[0m         counted[individual[i]] \u001b[39m-\u001b[39m\u001b[39m=\u001b[39m \u001b[39m1\u001b[39m\n\u001b[0;32m     <a href='vscode-notebook-cell:/c%3A/Users/huda/Documents/GitHub/scheduling_model/code/impl.ipynb#ch0000007?line=27'>28</a>\u001b[0m     \u001b[39mreturn\u001b[39;00m \u001b[39mall\u001b[39m(x \u001b[39m==\u001b[39m \u001b[39m0\u001b[39m \u001b[39mfor\u001b[39;00m x \u001b[39min\u001b[39;00m counted)\n",
      "\u001b[1;31mTypeError\u001b[0m: object of type 'NoneType' has no len()"
     ]
    }
   ],
   "source": [
    "# tasks_jobs = [] # list of tasks in order for lookups with the job id\n",
    "# assignments = []\n",
    "# sequence = []\n",
    "\n",
    "num_generations = 1000\n",
    "num_parents_mating = 50\n",
    "sol_per_pop = 100\n",
    "init_range_low = 0\n",
    "init_range_high = len(orders) # doesn't really matter\n",
    "keep_parents = 10\n",
    "mutation_percent_genes = 10 # doesn't really matter\n",
    "\n",
    "crossover_type = crossover_function\n",
    "mutation_type = mutation_function\n",
    "fitness_func = fitness_function\n",
    "parent_selection_type = selection_function\n",
    "\n",
    "num_genes = len(input_format) * 2\n",
    "gene_type = int\n",
    "gene_space = []\n",
    "\n",
    "for i in range(int(num_genes / 2)):\n",
    "    # set space for the first half (assignments)\n",
    "    gene_space.append(n_workstations)\n",
    "for i in range(int(num_genes / 2), num_genes):\n",
    "    # set space for the second half (sequence)\n",
    "    gene_space.append(len(orders))\n",
    "\n",
    "ga_instance = pygad.GA(num_generations=num_generations, num_parents_mating=num_parents_mating, fitness_func=fitness_func, sol_per_pop=sol_per_pop, num_genes=num_genes, init_range_low=init_range_low, init_range_high=init_range_high, parent_selection_type=parent_selection_type, keep_parents=keep_parents, crossover_type=crossover_type, mutation_type=mutation_type, mutation_percent_genes=mutation_percent_genes, gene_type=gene_type, gene_space=gene_space)\n",
    "ga_instance.run()\n",
    "solution, solution_fitness, solution_idx = ga_instance.best_solution()\n",
    "print(\"Parameters of the best solution : {solution}\".format(solution=solution))\n",
    "print(\"Fitness value of the best solution = {solution_fitness}\".format(solution_fitness=abs(solution_fitness) - 1))"
   ]
  },
  {
   "cell_type": "markdown",
   "metadata": {},
   "source": [
    "Intermediate Step: Clustering of the final GA population"
   ]
  },
  {
   "cell_type": "code",
   "execution_count": null,
   "metadata": {},
   "outputs": [],
   "source": [
    "def cluster_solutions(solutions, n_clusters):\n",
    "    # divide last generation into N clusters\n",
    "    # based on similarity function\n",
    "    clusters = []\n",
    "    for i in range(n_clusters):\n",
    "        clusters.append([]) # create clusters using indices\n",
    "    for i in range(len(solutions)):\n",
    "        pass\n",
    "    pass"
   ]
  },
  {
   "cell_type": "markdown",
   "metadata": {},
   "source": [
    "Step 2 - Tabu Search: find best individual solutions through local searches"
   ]
  },
  {
   "cell_type": "code",
   "execution_count": null,
   "metadata": {},
   "outputs": [],
   "source": [
    "def get_neighbours(individual):\n",
    "    # change position of an operation to alternative machine\n",
    "    # create new schedule sequence accordingly, create n solutions\n",
    "    pass\n",
    "\n",
    "def calculate_fitness(individual):\n",
    "    # rebuild schedule\n",
    "    # makespan only\n",
    "    pass\n",
    "\n",
    "def move_and_insert(individual):\n",
    "    pass\n",
    "\n",
    "def search(individuals):\n",
    "    best = individuals[0]\n",
    "    max_tabu_size = int(len(individuals) / 4) # for testing\n",
    "    best_candidate = individuals[0]\n",
    "    best_fitness = best_candidate_fitness = calculate_fitness(best_candidate)\n",
    "    tabu_list = []\n",
    "    tabu_list.append(individuals[0])\n",
    "    stop = False\n",
    "    max_iter = 1000\n",
    "    i = 0\n",
    "    while not stop:\n",
    "        neighbours = get_neighbours(best_candidate)\n",
    "        best_candidate = neighbours[0]\n",
    "        for candidate in neighbours:\n",
    "            if candidate not in tabu_list:\n",
    "                candidate_fitness = calculate_fitness(candidate)\n",
    "                if candidate_fitness < best_candidate_fitness:\n",
    "                    best_candidate = candidate\n",
    "                    best_candidate_fitness = candidate_fitness\n",
    "        if best_candidate_fitness < best_fitness:\n",
    "            best = best_candidate\n",
    "            best_fitness = best_candidate_fitness\n",
    "        tabu_list.append(best_candidate)\n",
    "        if len(tabu_list) > max_tabu_size:\n",
    "            tabu_list.pop()\n",
    "        stop = i >= max_iter\n",
    "        i+=1\n",
    "    return best"
   ]
  }
 ],
 "metadata": {
  "interpreter": {
   "hash": "7f6a1dc8c4280d136ecdbc82017e55b6ce3aee96b85e53655c8afc2236474583"
  },
  "kernelspec": {
   "display_name": "Python 3.10.3 64-bit",
   "language": "python",
   "name": "python3"
  },
  "language_info": {
   "codemirror_mode": {
    "name": "ipython",
    "version": 3
   },
   "file_extension": ".py",
   "mimetype": "text/x-python",
   "name": "python",
   "nbconvert_exporter": "python",
   "pygments_lexer": "ipython3",
   "version": "3.10.3"
  },
  "orig_nbformat": 4
 },
 "nbformat": 4,
 "nbformat_minor": 2
}
